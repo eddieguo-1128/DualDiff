{
  "cells": [
    {
      "cell_type": "code",
      "execution_count": null,
      "metadata": {
        "colab": {
          "base_uri": "https://localhost:8080/"
        },
        "id": "hexzaltLpFMY",
        "outputId": "5c4b6472-0994-4bc8-f50f-13d9144e30ad"
      },
      "outputs": [],
      "source": [
        "!pip install einops ema_pytorch mat73 numpy scikit_learn torch tqdm --quiet"
      ]
    },
    {
      "cell_type": "code",
      "execution_count": 4,
      "metadata": {
        "id": "BN5quKiGpK54"
      },
      "outputs": [
        {
          "name": "stdout",
          "output_type": "stream",
          "text": [
            "Cloning into 'Diff-E'...\n",
            "remote: Enumerating objects: 160, done.\u001b[K\n",
            "remote: Counting objects: 100% (55/55), done.\u001b[K\n",
            "remote: Compressing objects: 100% (29/29), done.\u001b[K\n",
            "remote: Total 160 (delta 43), reused 27 (delta 26), pack-reused 105 (from 1)\u001b[K\n",
            "Receiving objects: 100% (160/160), 53.41 KiB | 3.56 MiB/s, done.\n",
            "Resolving deltas: 100% (60/60), done.\n"
          ]
        }
      ],
      "source": [
        "!git clone https://github.com/diffe2023/Diff-E.git"
      ]
    },
    {
      "cell_type": "code",
      "execution_count": 5,
      "metadata": {
        "id": "he-9zBJppOGe"
      },
      "outputs": [
        {
          "name": "stdout",
          "output_type": "stream",
          "text": [
            "Cloning into 'FEIS'...\n",
            "remote: Enumerating objects: 1452, done.\u001b[K\n",
            "remote: Counting objects: 100% (20/20), done.\u001b[K\n",
            "remote: Compressing objects: 100% (8/8), done.\u001b[K\n",
            "remote: Total 1452 (delta 12), reused 16 (delta 12), pack-reused 1432 (from 1)\u001b[K\n",
            "Receiving objects: 100% (1452/1452), 1.52 GiB | 93.55 MiB/s, done.\n",
            "Resolving deltas: 100% (135/135), done.\n",
            "Updating files: 100% (1574/1574), done.\n"
          ]
        }
      ],
      "source": [
        "!git clone https://github.com/scottwellington/FEIS.git"
      ]
    },
    {
      "cell_type": "code",
      "execution_count": 6,
      "metadata": {},
      "outputs": [
        {
          "name": "stdout",
          "output_type": "stream",
          "text": [
            "Cloning into 'idl_team2'...\n",
            "remote: Enumerating objects: 177, done.\u001b[K\n",
            "remote: Counting objects: 100% (31/31), done.\u001b[K\n",
            "remote: Compressing objects: 100% (22/22), done.\u001b[K\n",
            "remote: Total 177 (delta 24), reused 10 (delta 9), pack-reused 146 (from 1)\u001b[K\n",
            "Receiving objects: 100% (177/177), 843.56 KiB | 19.62 MiB/s, done.\n",
            "Resolving deltas: 100% (75/75), done.\n"
          ]
        }
      ],
      "source": [
        "!git clone -b attentionpool --single-branch https://github.com/eddieguo-1128/idl_team2.git"
      ]
    },
    {
      "cell_type": "code",
      "execution_count": null,
      "metadata": {
        "colab": {
          "base_uri": "https://localhost:8080/",
          "height": 365
        },
        "id": "rlJC0NKRwakI",
        "outputId": "00f8d5f0-66ce-4080-eedb-7546f5b3ed71"
      },
      "outputs": [],
      "source": [
        "from google.colab import drive\n",
        "drive.mount('/content/drive')\n",
        "\n",
        "%cd /content/drive/MyDrive/"
      ]
    },
    {
      "cell_type": "markdown",
      "metadata": {},
      "source": []
    },
    {
      "cell_type": "code",
      "execution_count": 7,
      "metadata": {},
      "outputs": [
        {
          "name": "stdout",
          "output_type": "stream",
          "text": [
            "Diff-E\tDiffE.ipynb  FEIS  idl_team2  ondemand\n"
          ]
        }
      ],
      "source": [
        "!ls\n"
      ]
    },
    {
      "cell_type": "code",
      "execution_count": null,
      "metadata": {
        "id": "cfz7g5ikwc0B"
      },
      "outputs": [],
      "source": [
        "import sys\n",
        "sys.path.append('/content/drive/MyDrive/diffusion-DiffE')"
      ]
    },
    {
      "cell_type": "code",
      "execution_count": null,
      "metadata": {},
      "outputs": [],
      "source": [
        "\n",
        "sys.path.append('Diff-E')"
      ]
    },
    {
      "cell_type": "code",
      "execution_count": 8,
      "metadata": {},
      "outputs": [],
      "source": [
        "import sys\n",
        "sys.path.append('idl_team2/diffusion-DiffE')"
      ]
    },
    {
      "cell_type": "code",
      "execution_count": 7,
      "metadata": {},
      "outputs": [
        {
          "name": "stdout",
          "output_type": "stream",
          "text": [
            "['main.py', '.DS_Store', 'models.py', 'utils.py', 'evaluation.py']\n"
          ]
        }
      ],
      "source": [
        "import os\n",
        "files = os.listdir('idl_team2/diffusion-DiffE')\n",
        "print(files)"
      ]
    },
    {
      "cell_type": "code",
      "execution_count": null,
      "metadata": {
        "colab": {
          "base_uri": "https://localhost:8080/"
        },
        "id": "svd61PnL1Gjb",
        "outputId": "5c9effcd-a71a-4dd6-d8b9-3936076b323b"
      },
      "outputs": [],
      "source": [
        "files = os.listdir('/content/drive/MyDrive/diffusion-DiffE')\n",
        "print(files)"
      ]
    },
    {
      "cell_type": "code",
      "execution_count": 9,
      "metadata": {
        "id": "E8249yibpUyH"
      },
      "outputs": [],
      "source": [
        "import zipfile\n",
        "import os\n",
        "def unzip_data(root_dir: str):\n",
        "    \"\"\"\n",
        "    Traverse each subject folder in root_dir and extract any ZIP files.\n",
        "    Each ZIP is extracted into a folder with the same name (without the .zip extension).\n",
        "    \"\"\"\n",
        "    for subject in sorted(os.listdir(root_dir)):\n",
        "        subject_path = os.path.join(root_dir, subject)\n",
        "        if os.path.isdir(subject_path):\n",
        "            for item in os.listdir(subject_path):\n",
        "                if item.lower().endswith('.zip'):\n",
        "                    zip_path = os.path.join(subject_path, item)\n",
        "                    extract_folder = os.path.join(subject_path, item[:-4])\n",
        "                    if not os.path.exists(extract_folder):\n",
        "                        print(f\"Extracting {zip_path} to {extract_folder}...\")\n",
        "                        with zipfile.ZipFile(zip_path, 'r') as zf:\n",
        "                            zf.extractall(extract_folder)\n",
        "                    else:\n",
        "                        print(f\"Folder {extract_folder} already exists. Skipping extraction.\")"
      ]
    },
    {
      "cell_type": "code",
      "execution_count": 10,
      "metadata": {
        "colab": {
          "base_uri": "https://localhost:8080/"
        },
        "id": "IUFRYBWVpXHx",
        "outputId": "70ecc11b-c360-4fa8-8efe-bb7f9f8e57c2"
      },
      "outputs": [
        {
          "name": "stdout",
          "output_type": "stream",
          "text": [
            "Extracting FEIS/data_eeg/01/thinking.zip to FEIS/data_eeg/01/thinking...\n",
            "Extracting FEIS/data_eeg/01/articulators.zip to FEIS/data_eeg/01/articulators...\n",
            "Extracting FEIS/data_eeg/01/stimuli.zip to FEIS/data_eeg/01/stimuli...\n",
            "Extracting FEIS/data_eeg/01/speaking.zip to FEIS/data_eeg/01/speaking...\n",
            "Extracting FEIS/data_eeg/01/full_eeg.zip to FEIS/data_eeg/01/full_eeg...\n",
            "Extracting FEIS/data_eeg/01/resting.zip to FEIS/data_eeg/01/resting...\n",
            "Extracting FEIS/data_eeg/02/thinking.zip to FEIS/data_eeg/02/thinking...\n",
            "Extracting FEIS/data_eeg/02/articulators.zip to FEIS/data_eeg/02/articulators...\n",
            "Extracting FEIS/data_eeg/02/stimuli.zip to FEIS/data_eeg/02/stimuli...\n",
            "Extracting FEIS/data_eeg/02/speaking.zip to FEIS/data_eeg/02/speaking...\n",
            "Extracting FEIS/data_eeg/02/full_eeg.zip to FEIS/data_eeg/02/full_eeg...\n",
            "Extracting FEIS/data_eeg/02/resting.zip to FEIS/data_eeg/02/resting...\n",
            "Extracting FEIS/data_eeg/03/thinking.zip to FEIS/data_eeg/03/thinking...\n",
            "Extracting FEIS/data_eeg/03/articulators.zip to FEIS/data_eeg/03/articulators...\n",
            "Extracting FEIS/data_eeg/03/stimuli.zip to FEIS/data_eeg/03/stimuli...\n",
            "Extracting FEIS/data_eeg/03/speaking.zip to FEIS/data_eeg/03/speaking...\n",
            "Extracting FEIS/data_eeg/03/full_eeg.zip to FEIS/data_eeg/03/full_eeg...\n",
            "Extracting FEIS/data_eeg/03/resting.zip to FEIS/data_eeg/03/resting...\n",
            "Extracting FEIS/data_eeg/04/thinking.zip to FEIS/data_eeg/04/thinking...\n",
            "Extracting FEIS/data_eeg/04/articulators.zip to FEIS/data_eeg/04/articulators...\n",
            "Extracting FEIS/data_eeg/04/stimuli.zip to FEIS/data_eeg/04/stimuli...\n",
            "Extracting FEIS/data_eeg/04/speaking.zip to FEIS/data_eeg/04/speaking...\n",
            "Extracting FEIS/data_eeg/04/full_eeg.zip to FEIS/data_eeg/04/full_eeg...\n",
            "Extracting FEIS/data_eeg/04/resting.zip to FEIS/data_eeg/04/resting...\n",
            "Extracting FEIS/data_eeg/05/thinking.zip to FEIS/data_eeg/05/thinking...\n",
            "Extracting FEIS/data_eeg/05/articulators.zip to FEIS/data_eeg/05/articulators...\n",
            "Extracting FEIS/data_eeg/05/stimuli.zip to FEIS/data_eeg/05/stimuli...\n",
            "Extracting FEIS/data_eeg/05/speaking.zip to FEIS/data_eeg/05/speaking...\n",
            "Extracting FEIS/data_eeg/05/full_eeg.zip to FEIS/data_eeg/05/full_eeg...\n",
            "Extracting FEIS/data_eeg/05/resting.zip to FEIS/data_eeg/05/resting...\n",
            "Extracting FEIS/data_eeg/06/thinking.zip to FEIS/data_eeg/06/thinking...\n",
            "Extracting FEIS/data_eeg/06/articulators.zip to FEIS/data_eeg/06/articulators...\n",
            "Extracting FEIS/data_eeg/06/stimuli.zip to FEIS/data_eeg/06/stimuli...\n",
            "Extracting FEIS/data_eeg/06/speaking.zip to FEIS/data_eeg/06/speaking...\n",
            "Extracting FEIS/data_eeg/06/full_eeg.zip to FEIS/data_eeg/06/full_eeg...\n",
            "Extracting FEIS/data_eeg/06/resting.zip to FEIS/data_eeg/06/resting...\n",
            "Extracting FEIS/data_eeg/07/thinking.zip to FEIS/data_eeg/07/thinking...\n",
            "Extracting FEIS/data_eeg/07/articulators.zip to FEIS/data_eeg/07/articulators...\n",
            "Extracting FEIS/data_eeg/07/stimuli.zip to FEIS/data_eeg/07/stimuli...\n",
            "Extracting FEIS/data_eeg/07/speaking.zip to FEIS/data_eeg/07/speaking...\n",
            "Extracting FEIS/data_eeg/07/full_eeg.zip to FEIS/data_eeg/07/full_eeg...\n",
            "Extracting FEIS/data_eeg/07/resting.zip to FEIS/data_eeg/07/resting...\n",
            "Extracting FEIS/data_eeg/08/thinking.zip to FEIS/data_eeg/08/thinking...\n",
            "Extracting FEIS/data_eeg/08/articulators.zip to FEIS/data_eeg/08/articulators...\n",
            "Extracting FEIS/data_eeg/08/stimuli.zip to FEIS/data_eeg/08/stimuli...\n",
            "Extracting FEIS/data_eeg/08/speaking.zip to FEIS/data_eeg/08/speaking...\n",
            "Extracting FEIS/data_eeg/08/full_eeg.zip to FEIS/data_eeg/08/full_eeg...\n",
            "Extracting FEIS/data_eeg/08/resting.zip to FEIS/data_eeg/08/resting...\n",
            "Extracting FEIS/data_eeg/09/thinking.zip to FEIS/data_eeg/09/thinking...\n",
            "Extracting FEIS/data_eeg/09/articulators.zip to FEIS/data_eeg/09/articulators...\n",
            "Extracting FEIS/data_eeg/09/stimuli.zip to FEIS/data_eeg/09/stimuli...\n",
            "Extracting FEIS/data_eeg/09/speaking.zip to FEIS/data_eeg/09/speaking...\n",
            "Extracting FEIS/data_eeg/09/full_eeg.zip to FEIS/data_eeg/09/full_eeg...\n",
            "Extracting FEIS/data_eeg/09/resting.zip to FEIS/data_eeg/09/resting...\n",
            "Extracting FEIS/data_eeg/10/thinking.zip to FEIS/data_eeg/10/thinking...\n",
            "Extracting FEIS/data_eeg/10/articulators.zip to FEIS/data_eeg/10/articulators...\n",
            "Extracting FEIS/data_eeg/10/stimuli.zip to FEIS/data_eeg/10/stimuli...\n",
            "Extracting FEIS/data_eeg/10/speaking.zip to FEIS/data_eeg/10/speaking...\n",
            "Extracting FEIS/data_eeg/10/full_eeg.zip to FEIS/data_eeg/10/full_eeg...\n",
            "Extracting FEIS/data_eeg/10/resting.zip to FEIS/data_eeg/10/resting...\n",
            "Extracting FEIS/data_eeg/11/thinking.zip to FEIS/data_eeg/11/thinking...\n",
            "Extracting FEIS/data_eeg/11/articulators.zip to FEIS/data_eeg/11/articulators...\n",
            "Extracting FEIS/data_eeg/11/stimuli.zip to FEIS/data_eeg/11/stimuli...\n",
            "Extracting FEIS/data_eeg/11/speaking.zip to FEIS/data_eeg/11/speaking...\n",
            "Extracting FEIS/data_eeg/11/full_eeg.zip to FEIS/data_eeg/11/full_eeg...\n",
            "Extracting FEIS/data_eeg/11/resting.zip to FEIS/data_eeg/11/resting...\n",
            "Extracting FEIS/data_eeg/12/thinking.zip to FEIS/data_eeg/12/thinking...\n",
            "Extracting FEIS/data_eeg/12/articulators.zip to FEIS/data_eeg/12/articulators...\n",
            "Extracting FEIS/data_eeg/12/stimuli.zip to FEIS/data_eeg/12/stimuli...\n",
            "Extracting FEIS/data_eeg/12/speaking.zip to FEIS/data_eeg/12/speaking...\n",
            "Extracting FEIS/data_eeg/12/full_eeg.zip to FEIS/data_eeg/12/full_eeg...\n",
            "Extracting FEIS/data_eeg/12/resting.zip to FEIS/data_eeg/12/resting...\n",
            "Extracting FEIS/data_eeg/13/thinking.zip to FEIS/data_eeg/13/thinking...\n",
            "Extracting FEIS/data_eeg/13/articulators.zip to FEIS/data_eeg/13/articulators...\n",
            "Extracting FEIS/data_eeg/13/stimuli.zip to FEIS/data_eeg/13/stimuli...\n",
            "Extracting FEIS/data_eeg/13/speaking.zip to FEIS/data_eeg/13/speaking...\n",
            "Extracting FEIS/data_eeg/13/full_eeg.zip to FEIS/data_eeg/13/full_eeg...\n",
            "Extracting FEIS/data_eeg/13/resting.zip to FEIS/data_eeg/13/resting...\n",
            "Extracting FEIS/data_eeg/14/thinking.zip to FEIS/data_eeg/14/thinking...\n",
            "Extracting FEIS/data_eeg/14/articulators.zip to FEIS/data_eeg/14/articulators...\n",
            "Extracting FEIS/data_eeg/14/stimuli.zip to FEIS/data_eeg/14/stimuli...\n",
            "Extracting FEIS/data_eeg/14/speaking.zip to FEIS/data_eeg/14/speaking...\n",
            "Extracting FEIS/data_eeg/14/full_eeg.zip to FEIS/data_eeg/14/full_eeg...\n",
            "Extracting FEIS/data_eeg/14/resting.zip to FEIS/data_eeg/14/resting...\n",
            "Extracting FEIS/data_eeg/15/thinking.zip to FEIS/data_eeg/15/thinking...\n",
            "Extracting FEIS/data_eeg/15/articulators.zip to FEIS/data_eeg/15/articulators...\n",
            "Extracting FEIS/data_eeg/15/stimuli.zip to FEIS/data_eeg/15/stimuli...\n",
            "Extracting FEIS/data_eeg/15/speaking.zip to FEIS/data_eeg/15/speaking...\n",
            "Extracting FEIS/data_eeg/15/full_eeg.zip to FEIS/data_eeg/15/full_eeg...\n",
            "Extracting FEIS/data_eeg/15/resting.zip to FEIS/data_eeg/15/resting...\n",
            "Extracting FEIS/data_eeg/16/thinking.zip to FEIS/data_eeg/16/thinking...\n",
            "Extracting FEIS/data_eeg/16/articulators.zip to FEIS/data_eeg/16/articulators...\n",
            "Extracting FEIS/data_eeg/16/stimuli.zip to FEIS/data_eeg/16/stimuli...\n",
            "Extracting FEIS/data_eeg/16/speaking.zip to FEIS/data_eeg/16/speaking...\n",
            "Extracting FEIS/data_eeg/16/full_eeg.zip to FEIS/data_eeg/16/full_eeg...\n",
            "Extracting FEIS/data_eeg/16/resting.zip to FEIS/data_eeg/16/resting...\n",
            "Extracting FEIS/data_eeg/17/thinking.zip to FEIS/data_eeg/17/thinking...\n",
            "Extracting FEIS/data_eeg/17/articulators.zip to FEIS/data_eeg/17/articulators...\n",
            "Extracting FEIS/data_eeg/17/stimuli.zip to FEIS/data_eeg/17/stimuli...\n",
            "Extracting FEIS/data_eeg/17/speaking.zip to FEIS/data_eeg/17/speaking...\n",
            "Extracting FEIS/data_eeg/17/full_eeg.zip to FEIS/data_eeg/17/full_eeg...\n",
            "Extracting FEIS/data_eeg/17/resting.zip to FEIS/data_eeg/17/resting...\n",
            "Extracting FEIS/data_eeg/18/thinking.zip to FEIS/data_eeg/18/thinking...\n",
            "Extracting FEIS/data_eeg/18/articulators.zip to FEIS/data_eeg/18/articulators...\n",
            "Extracting FEIS/data_eeg/18/stimuli.zip to FEIS/data_eeg/18/stimuli...\n",
            "Extracting FEIS/data_eeg/18/speaking.zip to FEIS/data_eeg/18/speaking...\n",
            "Extracting FEIS/data_eeg/18/full_eeg.zip to FEIS/data_eeg/18/full_eeg...\n",
            "Extracting FEIS/data_eeg/18/resting.zip to FEIS/data_eeg/18/resting...\n",
            "Extracting FEIS/data_eeg/19/thinking.zip to FEIS/data_eeg/19/thinking...\n",
            "Extracting FEIS/data_eeg/19/articulators.zip to FEIS/data_eeg/19/articulators...\n",
            "Extracting FEIS/data_eeg/19/stimuli.zip to FEIS/data_eeg/19/stimuli...\n",
            "Extracting FEIS/data_eeg/19/speaking.zip to FEIS/data_eeg/19/speaking...\n",
            "Extracting FEIS/data_eeg/19/full_eeg.zip to FEIS/data_eeg/19/full_eeg...\n",
            "Extracting FEIS/data_eeg/19/resting.zip to FEIS/data_eeg/19/resting...\n",
            "Extracting FEIS/data_eeg/20/thinking.zip to FEIS/data_eeg/20/thinking...\n",
            "Extracting FEIS/data_eeg/20/articulators.zip to FEIS/data_eeg/20/articulators...\n",
            "Extracting FEIS/data_eeg/20/stimuli.zip to FEIS/data_eeg/20/stimuli...\n",
            "Extracting FEIS/data_eeg/20/speaking.zip to FEIS/data_eeg/20/speaking...\n",
            "Extracting FEIS/data_eeg/20/full_eeg.zip to FEIS/data_eeg/20/full_eeg...\n",
            "Extracting FEIS/data_eeg/20/resting.zip to FEIS/data_eeg/20/resting...\n",
            "Extracting FEIS/data_eeg/21/thinking.zip to FEIS/data_eeg/21/thinking...\n",
            "Extracting FEIS/data_eeg/21/articulators.zip to FEIS/data_eeg/21/articulators...\n",
            "Extracting FEIS/data_eeg/21/stimuli.zip to FEIS/data_eeg/21/stimuli...\n",
            "Extracting FEIS/data_eeg/21/speaking.zip to FEIS/data_eeg/21/speaking...\n",
            "Extracting FEIS/data_eeg/21/full_eeg.zip to FEIS/data_eeg/21/full_eeg...\n",
            "Extracting FEIS/data_eeg/21/resting.zip to FEIS/data_eeg/21/resting...\n",
            "Extracting FEIS/data_eeg/chinese-1/thinking.zip to FEIS/data_eeg/chinese-1/thinking...\n",
            "Extracting FEIS/data_eeg/chinese-1/articulators.zip to FEIS/data_eeg/chinese-1/articulators...\n",
            "Extracting FEIS/data_eeg/chinese-1/stimuli.zip to FEIS/data_eeg/chinese-1/stimuli...\n",
            "Extracting FEIS/data_eeg/chinese-1/speaking.zip to FEIS/data_eeg/chinese-1/speaking...\n",
            "Extracting FEIS/data_eeg/chinese-1/resting.zip to FEIS/data_eeg/chinese-1/resting...\n",
            "Extracting FEIS/data_eeg/chinese-2/thinking.zip to FEIS/data_eeg/chinese-2/thinking...\n",
            "Extracting FEIS/data_eeg/chinese-2/articulators.zip to FEIS/data_eeg/chinese-2/articulators...\n",
            "Extracting FEIS/data_eeg/chinese-2/stimuli.zip to FEIS/data_eeg/chinese-2/stimuli...\n",
            "Extracting FEIS/data_eeg/chinese-2/speaking.zip to FEIS/data_eeg/chinese-2/speaking...\n",
            "Extracting FEIS/data_eeg/chinese-2/resting.zip to FEIS/data_eeg/chinese-2/resting...\n"
          ]
        }
      ],
      "source": [
        "# unzip_data(\"/content/drive/MyDrive/FEIS/data_eeg\")\n",
        "unzip_data(\"FEIS/data_eeg\")"
      ]
    },
    {
      "cell_type": "code",
      "execution_count": null,
      "metadata": {
        "id": "wv8qyH9jpajP"
      },
      "outputs": [],
      "source": [
        "!pip install wandb\n",
        "\n",
        "# import wandb\n"
      ]
    },
    {
      "cell_type": "code",
      "execution_count": 11,
      "metadata": {},
      "outputs": [],
      "source": [
        "import wandb"
      ]
    },
    {
      "cell_type": "markdown",
      "metadata": {
        "id": "UO2Y1DEyJuSK"
      },
      "source": []
    },
    {
      "cell_type": "code",
      "execution_count": 12,
      "metadata": {},
      "outputs": [],
      "source": [
        "import os\n",
        "import sys\n",
        "import random\n",
        "import numpy as np\n",
        "import pandas as pd\n",
        "import torch\n",
        "import torch.nn as nn\n",
        "import torch.optim as optim\n",
        "import torch.nn.functional as F\n",
        "from torch.utils.data import DataLoader\n",
        "from sklearn.model_selection import train_test_split\n",
        "from sklearn.metrics import f1_score, roc_auc_score, precision_score, recall_score, top_k_accuracy_score\n",
        "from tqdm import tqdm\n",
        "from ema_pytorch import EMA\n",
        "import wandb\n",
        "import matplotlib.pyplot as plt"
      ]
    },
    {
      "cell_type": "code",
      "execution_count": 82,
      "metadata": {},
      "outputs": [
        {
          "data": {
            "text/html": [
              "Tracking run with wandb version 0.19.9"
            ],
            "text/plain": [
              "<IPython.core.display.HTML object>"
            ]
          },
          "metadata": {},
          "output_type": "display_data"
        },
        {
          "data": {
            "text/html": [
              "Run data is saved locally in <code>/jet/home/ppradhan/wandb/run-20250410_133913-kfnkpwtt</code>"
            ],
            "text/plain": [
              "<IPython.core.display.HTML object>"
            ]
          },
          "metadata": {},
          "output_type": "display_data"
        },
        {
          "data": {
            "text/html": [
              "Syncing run <strong><a href='https://wandb.ai/parusha-pradhan-university-of-pittsburgh/diffE-EEG-Imagined-Speech/runs/kfnkpwtt' target=\"_blank\">stellar-galaxy-11</a></strong> to <a href='https://wandb.ai/parusha-pradhan-university-of-pittsburgh/diffE-EEG-Imagined-Speech' target=\"_blank\">Weights & Biases</a> (<a href='https://wandb.me/developer-guide' target=\"_blank\">docs</a>)<br>"
            ],
            "text/plain": [
              "<IPython.core.display.HTML object>"
            ]
          },
          "metadata": {},
          "output_type": "display_data"
        },
        {
          "data": {
            "text/html": [
              " View project at <a href='https://wandb.ai/parusha-pradhan-university-of-pittsburgh/diffE-EEG-Imagined-Speech' target=\"_blank\">https://wandb.ai/parusha-pradhan-university-of-pittsburgh/diffE-EEG-Imagined-Speech</a>"
            ],
            "text/plain": [
              "<IPython.core.display.HTML object>"
            ]
          },
          "metadata": {},
          "output_type": "display_data"
        },
        {
          "data": {
            "text/html": [
              " View run at <a href='https://wandb.ai/parusha-pradhan-university-of-pittsburgh/diffE-EEG-Imagined-Speech/runs/kfnkpwtt' target=\"_blank\">https://wandb.ai/parusha-pradhan-university-of-pittsburgh/diffE-EEG-Imagined-Speech/runs/kfnkpwtt</a>"
            ],
            "text/plain": [
              "<IPython.core.display.HTML object>"
            ]
          },
          "metadata": {},
          "output_type": "display_data"
        }
      ],
      "source": [
        "wandb.init(\n",
        "    project=\"diffE-EEG-Imagined-Speech\",\n",
        "    config={\n",
        "        \"epochs\": 500,\n",
        "        \"alpha\": 0.1,\n",
        "        \"batch_size_train\": 32,\n",
        "        \"batch_size_test\": 260,\n",
        "        \"base_lr\": 9e-5,\n",
        "        \"max_lr\": 1.5e-3,\n",
        "        \"scheduler_step\": 150,\n",
        "        \"scheduler_gamma\": 0.9998,\n",
        "        \"seed\": 42,\n",
        "        \"num_classes\": 16,\n",
        "        \"ddpm_dim\": 128,\n",
        "        \"encoder_dim\": 256,\n",
        "        \"fc_dim\": 512,\n",
        "        \"n_T\": 1000,\n",
        "        \"test_size\": 0.2,\n",
        "        \"data_root\": \"FEIS/data_eeg\",\n",
        "        \"subject_ids\": [str(i).zfill(2) for i in range(1, 22)],\n",
        "        \"task_type\": \"thinking\",\n",
        "        \"window_len\": 256,\n",
        "        \"window_step\": 128,\n",
        "        \"target_channels\": 16,\n",
        "    }\n",
        ")\n",
        "config = wandb.config"
      ]
    },
    {
      "cell_type": "code",
      "execution_count": 43,
      "metadata": {},
      "outputs": [
        {
          "name": "stdout",
          "output_type": "stream",
          "text": [
            "resting.csv\n"
          ]
        }
      ],
      "source": [
        "\n",
        "!ls FEIS/data_eeg/01/resting\n"
      ]
    },
    {
      "cell_type": "code",
      "execution_count": 83,
      "metadata": {},
      "outputs": [],
      "source": [
        "CONFIG = {\n",
        "    \"DATA_ROOT\": config.data_root,\n",
        "    \"SUBJECT_IDS\": config.subject_ids,\n",
        "    \"TASK_TYPE\": config.task_type,\n",
        "    \"WINDOW_LEN\": config.window_len,\n",
        "    \"WINDOW_STEP\": config.window_step,\n",
        "    \"TARGET_CHANNELS\": config.target_channels,\n",
        "    \"TEST_SIZE\": config.test_size,\n",
        "    \"BATCH_SIZE_TRAIN\": config.batch_size_train,\n",
        "    \"BATCH_SIZE_TEST\": config.batch_size_test,\n",
        "    \"SEED\": config.seed,\n",
        "    \"NUM_EPOCHS\": config.epochs,\n",
        "    \"NUM_CLASSES\": config.num_classes,\n",
        "    \"DDPM_DIM\": config.ddpm_dim,\n",
        "    \"ENCODER_DIM\": config.encoder_dim,\n",
        "    \"FC_DIM\": config.fc_dim,\n",
        "    \"N_T\": config.n_T,\n",
        "    \"BASE_LR\": config.base_lr,\n",
        "    \"MAX_LR\": config.max_lr,\n",
        "    \"ALPHA\": config.alpha,\n",
        "    \"EMA_BETA\": 0.95,\n",
        "    \"SCHEDULER_STEP\": config.scheduler_step,\n",
        "    \"SCHEDULER_GAMMA\": config.scheduler_gamma,\n",
        "    \"split_config\": {\n",
        "        \"train\": [\n",
        "            {\"subject\": \"01\", \"task\": \"thinking\", \"filename\": \"thinking.csv\"},\n",
        "            {\"subject\": \"02\", \"task\": \"speaking\",  \"filename\": \"speaking.csv\"},\n",
        "            {\"subject\": \"03\", \"task\": \"thinking\", \"filename\": \"thinking.csv\"},\n",
        "            {\"subject\": \"04\", \"task\": \"speaking\",  \"filename\": \"speaking.csv\"},\n",
        "            {\"subject\": \"05\", \"task\": \"thinking\", \"filename\": \"thinking.csv\"},\n",
        "            {\"subject\": \"06\", \"task\": \"speaking\",  \"filename\": \"speaking.csv\"},\n",
        "            {\"subject\": \"07\", \"task\": \"thinking\", \"filename\": \"thinking.csv\"},\n",
        "            {\"subject\": \"08\", \"task\": \"speaking\",  \"filename\": \"speaking.csv\"},\n",
        "            {\"subject\": \"09\", \"task\": \"thinking\", \"filename\": \"thinking.csv\"},\n",
        "            {\"subject\": \"10\", \"task\": \"speaking\",  \"filename\": \"speaking.csv\"},\n",
        "            {\"subject\": \"11\", \"task\": \"thinking\", \"filename\": \"thinking.csv\"}\n",
        "        ],\n",
        "        \"val\": [\n",
        "            {\"subject\": \"01\", \"task\": \"speaking\",  \"filename\": \"speaking.csv\"},\n",
        "            {\"subject\": \"02\", \"task\": \"thinking\", \"filename\": \"thinking.csv\"},\n",
        "            {\"subject\": \"03\", \"task\": \"speaking\",  \"filename\": \"speaking.csv\"},\n",
        "            {\"subject\": \"04\", \"task\": \"thinking\", \"filename\": \"thinking.csv\"}\n",
        "        ],\n",
        "        \"test_seen\": [\n",
        "            {\"subject\": \"05\", \"task\": \"speaking\",  \"filename\": \"speaking.csv\"},\n",
        "            {\"subject\": \"06\", \"task\": \"thinking\", \"filename\": \"thinking.csv\"},\n",
        "            {\"subject\": \"07\", \"task\": \"speaking\",  \"filename\": \"speaking.csv\"},\n",
        "            {\"subject\": \"08\", \"task\": \"thinking\", \"filename\": \"thinking.csv\"}\n",
        "        ],\n",
        "        \"test_unseen\": [\n",
        "            {\"subject\": \"09\", \"task\": \"speaking\",  \"filename\": \"speaking.csv\"},\n",
        "            {\"subject\": \"10\", \"task\": \"thinking\", \"filename\": \"thinking.csv\"},\n",
        "            {\"subject\": \"11\", \"task\": \"speaking\",  \"filename\": \"speaking.csv\"},\n",
        "            {\"subject\": \"12\", \"task\": \"thinking\", \"filename\": \"thinking.csv\"},\n",
        "            {\"subject\": \"13\", \"task\": \"speaking\",  \"filename\": \"speaking.csv\"},\n",
        "            {\"subject\": \"14\", \"task\": \"thinking\", \"filename\": \"thinking.csv\"},\n",
        "            {\"subject\": \"15\", \"task\": \"speaking\",  \"filename\": \"speaking.csv\"},\n",
        "            {\"subject\": \"16\", \"task\": \"thinking\", \"filename\": \"thinking.csv\"},\n",
        "            {\"subject\": \"17\", \"task\": \"speaking\",  \"filename\": \"speaking.csv\"},\n",
        "            {\"subject\": \"18\", \"task\": \"thinking\", \"filename\": \"thinking.csv\"},\n",
        "            {\"subject\": \"19\", \"task\": \"speaking\",  \"filename\": \"speaking.csv\"},\n",
        "            {\"subject\": \"20\", \"task\": \"thinking\", \"filename\": \"thinking.csv\"},\n",
        "            {\"subject\": \"21\", \"task\": \"speaking\",  \"filename\": \"speaking.csv\"}\n",
        "        ]\n",
        "\n",
        "}\n",
        "}\n"
      ]
    },
    {
      "cell_type": "markdown",
      "metadata": {},
      "source": [
        "DATA SPLIT"
      ]
    },
    {
      "cell_type": "code",
      "execution_count": 68,
      "metadata": {},
      "outputs": [],
      "source": [
        "def load_single_subject(data_root, record, selected_channels=None):\n",
        "    \"\"\"\n",
        "    Load EEG data for one record.\n",
        "    record: dict with keys \"subject\", \"task\", and \"filename\".\n",
        "    \"\"\"\n",
        "    subject = record[\"subject\"]\n",
        "    task = record[\"task\"]\n",
        "    filename = record[\"filename\"]\n",
        "    csv_path = os.path.join(data_root, subject, task, filename)\n",
        "    print(\"csv_path\",csv_path)\n",
        "    if not os.path.exists(csv_path):\n",
        "        raise FileNotFoundError(f\"File not found: {csv_path}\")\n",
        "    \n",
        "    eeg_df = pd.read_csv(csv_path)\n",
        "    non_eeg_cols = ['Time:256Hz', 'Epoch', 'Label', 'Stage', 'Flag']\n",
        "    channels = selected_channels or [col for col in eeg_df.columns if col not in non_eeg_cols]\n",
        "    data = eeg_df[channels].values\n",
        "    \n",
        "    # Extract labels\n",
        "    labels = eeg_df['Label'].values if 'Label' in eeg_df.columns else np.zeros(len(eeg_df))\n",
        "    unique_labels = np.unique(labels)\n",
        "    label_map = {l: i for i, l in enumerate(unique_labels)}\n",
        "    encoded_labels = np.array([label_map[l] for l in labels])\n",
        "    return data, encoded_labels"
      ]
    },
    {
      "cell_type": "code",
      "execution_count": 69,
      "metadata": {},
      "outputs": [],
      "source": [
        "def load_split(split_list, data_root, selected_channels=None):\n",
        "    all_features = []\n",
        "    all_targets = []\n",
        "    for record in split_list:\n",
        "        try:\n",
        "            data, labels = load_single_subject(data_root, record, selected_channels)\n",
        "            features, targets = create_windows(data, labels, CONFIG[\"WINDOW_LEN\"], CONFIG[\"WINDOW_STEP\"])\n",
        "            all_features.append(features)\n",
        "            all_targets.append(targets)\n",
        "            print(f\"Loaded {record}\")\n",
        "        except Exception as e:\n",
        "            print(f\"Failed to load {record}: {str(e)}\")\n",
        "    if not all_features:\n",
        "        raise RuntimeError(\"No data loaded for this split!\")\n",
        "    return torch.cat(all_features), torch.cat(all_targets)"
      ]
    },
    {
      "cell_type": "code",
      "execution_count": 70,
      "metadata": {},
      "outputs": [
        {
          "name": "stdout",
          "output_type": "stream",
          "text": [
            "csv_path FEIS/data_eeg/01/thinking/thinking.csv\n",
            "Loaded {'subject': '01', 'task': 'thinking', 'filename': 'thinking.csv'}\n",
            "csv_path FEIS/data_eeg/02/speaking/speaking.csv\n",
            "Loaded {'subject': '02', 'task': 'speaking', 'filename': 'speaking.csv'}\n",
            "csv_path FEIS/data_eeg/03/thinking/thinking.csv\n",
            "Loaded {'subject': '03', 'task': 'thinking', 'filename': 'thinking.csv'}\n",
            "csv_path FEIS/data_eeg/04/speaking/speaking.csv\n",
            "Loaded {'subject': '04', 'task': 'speaking', 'filename': 'speaking.csv'}\n",
            "csv_path FEIS/data_eeg/05/thinking/thinking.csv\n",
            "Loaded {'subject': '05', 'task': 'thinking', 'filename': 'thinking.csv'}\n",
            "csv_path FEIS/data_eeg/06/speaking/speaking.csv\n",
            "Loaded {'subject': '06', 'task': 'speaking', 'filename': 'speaking.csv'}\n",
            "csv_path FEIS/data_eeg/07/thinking/thinking.csv\n",
            "Loaded {'subject': '07', 'task': 'thinking', 'filename': 'thinking.csv'}\n",
            "csv_path FEIS/data_eeg/08/speaking/speaking.csv\n",
            "Loaded {'subject': '08', 'task': 'speaking', 'filename': 'speaking.csv'}\n",
            "csv_path FEIS/data_eeg/09/thinking/thinking.csv\n",
            "Loaded {'subject': '09', 'task': 'thinking', 'filename': 'thinking.csv'}\n",
            "csv_path FEIS/data_eeg/10/speaking/speaking.csv\n",
            "Loaded {'subject': '10', 'task': 'speaking', 'filename': 'speaking.csv'}\n",
            "csv_path FEIS/data_eeg/11/thinking/thinking.csv\n",
            "Loaded {'subject': '11', 'task': 'thinking', 'filename': 'thinking.csv'}\n",
            "csv_path FEIS/data_eeg/01/speaking/speaking.csv\n",
            "Loaded {'subject': '01', 'task': 'speaking', 'filename': 'speaking.csv'}\n",
            "csv_path FEIS/data_eeg/02/thinking/thinking.csv\n",
            "Loaded {'subject': '02', 'task': 'thinking', 'filename': 'thinking.csv'}\n",
            "csv_path FEIS/data_eeg/03/speaking/speaking.csv\n",
            "Loaded {'subject': '03', 'task': 'speaking', 'filename': 'speaking.csv'}\n",
            "csv_path FEIS/data_eeg/04/thinking/thinking.csv\n",
            "Loaded {'subject': '04', 'task': 'thinking', 'filename': 'thinking.csv'}\n",
            "csv_path FEIS/data_eeg/05/speaking/speaking.csv\n",
            "Loaded {'subject': '05', 'task': 'speaking', 'filename': 'speaking.csv'}\n",
            "csv_path FEIS/data_eeg/06/thinking/thinking.csv\n",
            "Loaded {'subject': '06', 'task': 'thinking', 'filename': 'thinking.csv'}\n",
            "csv_path FEIS/data_eeg/07/speaking/speaking.csv\n",
            "Loaded {'subject': '07', 'task': 'speaking', 'filename': 'speaking.csv'}\n",
            "csv_path FEIS/data_eeg/08/thinking/thinking.csv\n",
            "Loaded {'subject': '08', 'task': 'thinking', 'filename': 'thinking.csv'}\n",
            "csv_path FEIS/data_eeg/09/speaking/speaking.csv\n",
            "Loaded {'subject': '09', 'task': 'speaking', 'filename': 'speaking.csv'}\n",
            "csv_path FEIS/data_eeg/10/thinking/thinking.csv\n",
            "Loaded {'subject': '10', 'task': 'thinking', 'filename': 'thinking.csv'}\n",
            "csv_path FEIS/data_eeg/11/speaking/speaking.csv\n",
            "Loaded {'subject': '11', 'task': 'speaking', 'filename': 'speaking.csv'}\n",
            "csv_path FEIS/data_eeg/12/thinking/thinking.csv\n",
            "Loaded {'subject': '12', 'task': 'thinking', 'filename': 'thinking.csv'}\n",
            "csv_path FEIS/data_eeg/13/speaking/speaking.csv\n",
            "Loaded {'subject': '13', 'task': 'speaking', 'filename': 'speaking.csv'}\n",
            "csv_path FEIS/data_eeg/14/thinking/thinking.csv\n",
            "Loaded {'subject': '14', 'task': 'thinking', 'filename': 'thinking.csv'}\n",
            "csv_path FEIS/data_eeg/15/speaking/speaking.csv\n",
            "Loaded {'subject': '15', 'task': 'speaking', 'filename': 'speaking.csv'}\n",
            "csv_path FEIS/data_eeg/16/thinking/thinking.csv\n",
            "Loaded {'subject': '16', 'task': 'thinking', 'filename': 'thinking.csv'}\n",
            "csv_path FEIS/data_eeg/17/speaking/speaking.csv\n",
            "Loaded {'subject': '17', 'task': 'speaking', 'filename': 'speaking.csv'}\n",
            "csv_path FEIS/data_eeg/18/thinking/thinking.csv\n",
            "Loaded {'subject': '18', 'task': 'thinking', 'filename': 'thinking.csv'}\n",
            "csv_path FEIS/data_eeg/19/speaking/speaking.csv\n",
            "Loaded {'subject': '19', 'task': 'speaking', 'filename': 'speaking.csv'}\n",
            "csv_path FEIS/data_eeg/20/thinking/thinking.csv\n",
            "Loaded {'subject': '20', 'task': 'thinking', 'filename': 'thinking.csv'}\n",
            "csv_path FEIS/data_eeg/21/speaking/speaking.csv\n",
            "Loaded {'subject': '21', 'task': 'speaking', 'filename': 'speaking.csv'}\n"
          ]
        }
      ],
      "source": [
        "def create_loaders_from_config(split_config, data_root, selected_channels=None):\n",
        "    from utils import EEGDataset\n",
        "    train_features, train_targets = load_split(split_config[\"train\"], data_root, selected_channels)\n",
        "    val_features, val_targets = load_split(split_config[\"val\"], data_root, selected_channels)\n",
        "    test_seen_features, test_seen_targets = load_split(split_config[\"test_seen\"], data_root, selected_channels)\n",
        "    test_unseen_features, test_unseen_targets = load_split(split_config[\"test_unseen\"], data_root, selected_channels)\n",
        "    \n",
        "    # Pad features as needed.\n",
        "    train_features = pad_channels(train_features, CONFIG[\"TARGET_CHANNELS\"])\n",
        "    val_features   = pad_channels(val_features, CONFIG[\"TARGET_CHANNELS\"])\n",
        "    test_seen_features = pad_channels(test_seen_features, CONFIG[\"TARGET_CHANNELS\"])\n",
        "    test_unseen_features = pad_channels(test_unseen_features, CONFIG[\"TARGET_CHANNELS\"])\n",
        "    \n",
        "    train_loader = DataLoader(EEGDataset(train_features, train_targets), batch_size=CONFIG[\"BATCH_SIZE_TRAIN\"], shuffle=True)\n",
        "    val_loader = DataLoader(EEGDataset(val_features, val_targets), batch_size=CONFIG[\"BATCH_SIZE_TEST\"], shuffle=False)\n",
        "    test_loader = DataLoader(EEGDataset(test_seen_features, test_seen_targets), batch_size=CONFIG[\"BATCH_SIZE_TEST\"], shuffle=False)\n",
        "    test_unseen_loader = DataLoader(EEGDataset(test_unseen_features, test_unseen_targets), batch_size=CONFIG[\"BATCH_SIZE_TEST\"], shuffle=False)\n",
        "    \n",
        "    return train_loader, val_loader, test_seen_loader, test_unseen_loader\n",
        "\n",
        "# Create data loaders using the split configuration:\n",
        "train_loader, val_loader, test_loader, test_unseen_loader = create_loaders_from_config(CONFIG[\"split_config\"], CONFIG[\"DATA_ROOT\"])"
      ]
    },
    {
      "cell_type": "markdown",
      "metadata": {},
      "source": [
        "STRATIFIED DATA SPLIT"
      ]
    },
    {
      "cell_type": "code",
      "execution_count": null,
      "metadata": {},
      "outputs": [],
      "source": [
        "# stratified data split load\n",
        "def load_single_subject(data_root, subject_id, task_type, selected_channels=None):\n",
        "    \"\"\"Load EEG data for a single subject.\"\"\"\n",
        "    csv_path = os.path.join(data_root, subject_id, task_type, f\"{task_type}.csv\")\n",
        "    if not os.path.exists(csv_path):\n",
        "        raise FileNotFoundError(f\"Data file not found: {csv_path}\")\n",
        "    eeg_df = pd.read_csv(csv_path)\n",
        "    # Columns that are not EEG data.\n",
        "    non_eeg_cols = ['Time:256Hz', 'Epoch', 'Label', 'Stage', 'Flag']\n",
        "    channels = selected_channels or [col for col in eeg_df.columns if col not in non_eeg_cols]\n",
        "    data = eeg_df[channels].values\n",
        "    labels = eeg_df['Label'].values if 'Label' in eeg_df.columns else np.zeros(len(eeg_df))\n",
        "    # Map labels to integers.\n",
        "    unique_labels = np.unique(labels)\n",
        "    label_map = {l: i for i, l in enumerate(unique_labels)}\n",
        "    encoded_labels = np.array([label_map[l] for l in labels])\n",
        "    return data, encoded_labels"
      ]
    },
    {
      "cell_type": "code",
      "execution_count": 19,
      "metadata": {},
      "outputs": [],
      "source": [
        "def load_all_subjects(config):\n",
        "    all_features, all_targets = [], []\n",
        "    data_root = CONFIG[\"DATA_ROOT\"]\n",
        "    for subject_id in CONFIG[\"SUBJECT_IDS\"]:\n",
        "        try:\n",
        "            data, labels = load_single_subject(data_root, subject_id, CONFIG[\"TASK_TYPE\"])\n",
        "            features, targets = create_windows(data, labels, CONFIG[\"WINDOW_LEN\"], CONFIG[\"WINDOW_STEP\"])\n",
        "            all_features.append(features)\n",
        "            all_targets.append(targets)\n",
        "            print(f\"Loaded subject {subject_id}\")\n",
        "        except Exception as e:\n",
        "            print(f\"Skipping subject {subject_id}: {str(e)}\")\n",
        "    if not all_features:\n",
        "        raise RuntimeError(\"No data loaded!\")\n",
        "    return torch.cat(all_features), torch.cat(all_targets)"
      ]
    },
    {
      "cell_type": "code",
      "execution_count": 21,
      "metadata": {},
      "outputs": [],
      "source": [
        "def create_loaders(config):\n",
        "    # Load and combine all subjects.\n",
        "    features, targets = load_all_subjects(config)\n",
        "    features = pad_channels(features, CONFIG[\"TARGET_CHANNELS\"])\n",
        "    X_train, X_test, y_train, y_test = train_test_split(features, targets, \n",
        "                                                         test_size=CONFIG[\"TEST_SIZE\"], \n",
        "                                                         shuffle=True, stratify=targets, \n",
        "                                                         random_state=CONFIG[\"SEED\"])\n",
        "    from utils import EEGDataset  # Ensure EEGDataset is imported from your utils module.\n",
        "    train_loader = DataLoader(EEGDataset(X_train, y_train), batch_size=CONFIG[\"BATCH_SIZE_TRAIN\"], shuffle=True)\n",
        "    test_loader = DataLoader(EEGDataset(X_test, y_test), batch_size=CONFIG[\"BATCH_SIZE_TEST\"], shuffle=False)\n",
        "    return train_loader, test_loader"
      ]
    },
    {
      "cell_type": "code",
      "execution_count": null,
      "metadata": {},
      "outputs": [],
      "source": [
        "# Create data loaders.\n",
        "# train_loader, test_loader = create_loaders(CONFIG)"
      ]
    },
    {
      "cell_type": "markdown",
      "metadata": {},
      "source": [
        "UTILS"
      ]
    },
    {
      "cell_type": "code",
      "execution_count": 84,
      "metadata": {},
      "outputs": [],
      "source": [
        "def pad_channels(features, target_channels):\n",
        "    if features.shape[1] >= target_channels:\n",
        "        return features\n",
        "    padding = torch.zeros((features.size(0), target_channels - features.size(1), features.size(2)), dtype=features.dtype)\n",
        "    return torch.cat([features, padding], dim=1)"
      ]
    },
    {
      "cell_type": "code",
      "execution_count": 85,
      "metadata": {},
      "outputs": [],
      "source": [
        "def create_windows(eeg_data, labels, window_len, window_step):\n",
        "    \"\"\"Create time windows (features and targets) from EEG data.\"\"\"\n",
        "    features, targets = [], []\n",
        "    for i in range(0, len(eeg_data) - window_len + 1, window_step):\n",
        "        features.append(eeg_data[i:i+window_len, :].T)\n",
        "        targets.append(labels[i + window_len // 2])\n",
        "    features = torch.tensor(np.array(features), dtype=torch.float32)\n",
        "    targets = torch.tensor(np.array(targets), dtype=torch.long)\n",
        "    # Normalize features (using provided zscore_norm utility).\n",
        "    from utils import zscore_norm  # Ensure utils is in PYTHONPATH\n",
        "    features = zscore_norm(features)\n",
        "    return features, targets"
      ]
    },
    {
      "cell_type": "code",
      "execution_count": 86,
      "metadata": {},
      "outputs": [],
      "source": [
        "# %% [code]\n",
        "def visualize_signals_grid(original, masked, reconstructed, sample_idxs, channel=0):\n",
        "    \"\"\"\n",
        "    Creates a grid figure showing for each sample:\n",
        "      Column 1: Signal Before (original)\n",
        "      Column 2: Signal mAsked (noisy/masked)\n",
        "      Column 3: Signal After (reconstructed)\n",
        "    \"\"\"\n",
        "    num_samples = len(sample_idxs)\n",
        "    fig, axes = plt.subplots(num_samples, 3, figsize=(15, 4 * num_samples), squeeze=False)\n",
        "    for i, sample_idx in enumerate(sample_idxs):\n",
        "        orig_np = original[sample_idx, channel].detach().cpu().numpy()\n",
        "        masked_np = masked[sample_idx, channel].detach().cpu().numpy()\n",
        "        recon_np = reconstructed[sample_idx, channel].detach().cpu().numpy()\n",
        "        axes[i, 0].plot(orig_np, color='blue')\n",
        "        axes[i, 0].set_title(f\"Sample {sample_idx} - Signal Before\")\n",
        "        axes[i, 1].plot(masked_np, color='orange')\n",
        "        axes[i, 1].set_title(f\"Sample {sample_idx} - Signal mAsked\")\n",
        "        axes[i, 2].plot(recon_np, color='green')\n",
        "        axes[i, 2].set_title(f\"Sample {sample_idx} - Signal After\")\n",
        "        for j in range(3):\n",
        "            axes[i, j].set_xlabel(\"Time\")\n",
        "            axes[i, j].set_ylabel(\"Amplitude\")\n",
        "    fig.tight_layout()\n",
        "    return fig\n",
        "\n",
        "# (You can test this function later using dummy tensors.)\n"
      ]
    },
    {
      "cell_type": "code",
      "execution_count": 87,
      "metadata": {},
      "outputs": [],
      "source": [
        "from models import ConditionalUNet, DDPM, Encoder, Decoder, LinearClassifier, DiffE\n",
        "from utils import EEGDataset, zscore_norm, minmax_norm"
      ]
    },
    {
      "cell_type": "code",
      "execution_count": 88,
      "metadata": {},
      "outputs": [],
      "source": [
        "device = torch.device('cuda' if torch.cuda.is_available() else 'cpu')"
      ]
    },
    {
      "cell_type": "code",
      "execution_count": 89,
      "metadata": {},
      "outputs": [],
      "source": [
        "in_channels= next(iter(train_loader))[0].shape[1]\n",
        "\n",
        "ddpm_model = ConditionalUNet(in_channels, n_feat=CONFIG[\"DDPM_DIM\"]).to(device)\n",
        "ddpm = DDPM(\n",
        "    nn_model=ddpm_model,\n",
        "    betas=(1e-6, 1e-2),\n",
        "    n_T=CONFIG[\"N_T\"],\n",
        "    device=device\n",
        ").to(device)\n",
        "# Initialize DiffE submodules.\n",
        "encoder = Encoder(in_channels, dim=CONFIG[\"ENCODER_DIM\"]).to(device)\n",
        "decoder = Decoder(in_channels, n_feat=CONFIG[\"DDPM_DIM\"], encoder_dim=CONFIG[\"ENCODER_DIM\"]).to(device)\n",
        "fc = LinearClassifier(CONFIG[\"ENCODER_DIM\"], CONFIG[\"FC_DIM\"], emb_dim=CONFIG[\"NUM_CLASSES\"]).to(device)\n",
        "diffe = DiffE(encoder, decoder, fc).to(device)\n",
        "fc_ema = EMA(fc, beta=CONFIG[\"EMA_BETA\"], update_after_step=100, update_every=10)"
      ]
    },
    {
      "cell_type": "code",
      "execution_count": 90,
      "metadata": {},
      "outputs": [],
      "source": [
        "opt_ddpm = optim.RMSprop(ddpm.parameters(), lr=CONFIG[\"BASE_LR\"])\n",
        "opt_diffe = optim.RMSprop(diffe.parameters(), lr=CONFIG[\"BASE_LR\"])"
      ]
    },
    {
      "cell_type": "code",
      "execution_count": 91,
      "metadata": {},
      "outputs": [],
      "source": [
        "sched_ddpm = optim.lr_scheduler.CyclicLR(\n",
        "        opt_ddpm, base_lr=CONFIG[\"BASE_LR\"], max_lr=CONFIG[\"MAX_LR\"],\n",
        "        step_size_up=CONFIG[\"SCHEDULER_STEP\"], mode=\"exp_range\",\n",
        "        cycle_momentum=False, gamma=CONFIG[\"SCHEDULER_GAMMA\"]\n",
        "    )\n",
        "sched_diffe = optim.lr_scheduler.CyclicLR(\n",
        "        opt_diffe, base_lr=CONFIG[\"BASE_LR\"], max_lr=CONFIG[\"MAX_LR\"],\n",
        "        step_size_up=CONFIG[\"SCHEDULER_STEP\"], mode=\"exp_range\",\n",
        "        cycle_momentum=False, gamma=CONFIG[\"SCHEDULER_GAMMA\"]\n",
        "    )"
      ]
    },
    {
      "cell_type": "code",
      "execution_count": 92,
      "metadata": {},
      "outputs": [],
      "source": [
        "def train_epoch(train_loader, ddpm, diffe, fc_ema, opt_ddpm, opt_diffe, sched_ddpm, sched_diffe, device):\n",
        "    ddpm.train()\n",
        "    diffe.train()\n",
        "    total_loss = 0.0\n",
        "    count = 0\n",
        "    for x, y in train_loader:\n",
        "        x, y = x.to(device), y.to(device)\n",
        "        y_cat = F.one_hot(y, num_classes=CONFIG[\"NUM_CLASSES\"]).float().to(device)\n",
        "        \n",
        "        # DDPM forward pass.\n",
        "        opt_ddpm.zero_grad()\n",
        "        x_hat, down, up, noise, t = ddpm(x)\n",
        "        loss_ddpm = F.l1_loss(x_hat, x, reduction=\"none\").mean()\n",
        "        loss_ddpm.backward()\n",
        "        opt_ddpm.step()\n",
        "        \n",
        "        # DiffE forward pass.\n",
        "        opt_diffe.zero_grad()\n",
        "        decoder_out, fc_out = diffe(x, (x_hat, down, up, t))\n",
        "        loss_gap = loss_gap = F.l1_loss(decoder_out, loss_ddpm.detach().expand_as(decoder_out))\n",
        "        loss_class = F.mse_loss(fc_out, y_cat)\n",
        "        loss_total = loss_gap + CONFIG[\"ALPHA\"] * loss_class\n",
        "        loss_total.backward()\n",
        "        opt_diffe.step()\n",
        "        fc_ema.update()\n",
        "        \n",
        "        sched_ddpm.step()\n",
        "        sched_diffe.step()\n",
        "        \n",
        "        total_loss += loss_total.item()\n",
        "        count += 1\n",
        "    avg_loss = total_loss / count\n",
        "    return avg_loss"
      ]
    },
    {
      "cell_type": "code",
      "execution_count": 93,
      "metadata": {},
      "outputs": [],
      "source": [
        "\n",
        "def validate_model(val_loader, ddpm, diffe, device):\n",
        "    ddpm.train()\n",
        "    diffe.eval()\n",
        "    total_loss = 0.0\n",
        "    total_correct = 0\n",
        "    total_samples = 0\n",
        "    count = 0\n",
        "    with torch.no_grad():\n",
        "        for x, y in val_loader:\n",
        "            x, y = x.to(device), y.to(device)\n",
        "            y_cat = F.one_hot(y, num_classes=CONFIG[\"NUM_CLASSES\"]).float().to(device)\n",
        "            # Use the same call as in training.\n",
        "            x_hat, down, up, noise, t = ddpm(x)\n",
        "            loss_ddpm = F.l1_loss(x_hat, x, reduction=\"none\").mean()\n",
        "            decoder_out, fc_out = diffe(x, (x_hat, down, up, t))\n",
        "            loss_gap = F.l1_loss(decoder_out, loss_ddpm.detach().expand_as(decoder_out))\n",
        "            loss_class = F.mse_loss(fc_out, y_cat)\n",
        "            loss = loss_gap + CONFIG[\"ALPHA\"] * loss_class\n",
        "            total_loss += loss.item()\n",
        "            preds = fc_out.argmax(dim=1)\n",
        "            total_correct += (preds == y).sum().item()\n",
        "            total_samples += y.size(0)\n",
        "            count += 1\n",
        "    avg_loss = total_loss / count\n",
        "    accuracy = total_correct / total_samples\n",
        "    return avg_loss, accuracy\n"
      ]
    },
    {
      "cell_type": "code",
      "execution_count": 94,
      "metadata": {},
      "outputs": [
        {
          "data": {
            "text/plain": [
              "<torch._C.Generator at 0x146f22f72090>"
            ]
          },
          "execution_count": 94,
          "metadata": {},
          "output_type": "execute_result"
        }
      ],
      "source": [
        "random.seed(CONFIG[\"SEED\"])\n",
        "torch.manual_seed(CONFIG[\"SEED\"])\n"
      ]
    },
    {
      "cell_type": "code",
      "execution_count": 95,
      "metadata": {},
      "outputs": [],
      "source": [
        "import os\n",
        "\n",
        "# Create a checkpoint directory if it doesn't exist.\n",
        "checkpoint_dir = \"checkpoints\"\n",
        "if not os.path.exists(checkpoint_dir):\n",
        "    os.makedirs(checkpoint_dir)\n",
        "\n",
        "last_epoch = 0\n",
        "best_acc = 0.0"
      ]
    },
    {
      "cell_type": "code",
      "execution_count": 96,
      "metadata": {},
      "outputs": [
        {
          "name": "stderr",
          "output_type": "stream",
          "text": [
            " ... (more hidden) ..."
          ]
        },
        {
          "name": "stdout",
          "output_type": "stream",
          "text": [
            "Epoch 1/500 -- Train Loss: 0.1039, Val Loss: 0.0470, Val Acc: 6.39%\n",
            "Saved epoch checkpoint: checkpoints/epoch_checkpoint_1.pth\n",
            "Saved best checkpoint with Val Acc: 6.39%\n"
          ]
        },
        {
          "name": "stderr",
          "output_type": "stream",
          "text": [
            " ... (more hidden) ..."
          ]
        },
        {
          "name": "stdout",
          "output_type": "stream",
          "text": [
            "Epoch 2/500 -- Train Loss: 0.0589, Val Loss: 0.0670, Val Acc: 6.25%\n",
            "Saved epoch checkpoint: checkpoints/epoch_checkpoint_2.pth\n"
          ]
        },
        {
          "name": "stderr",
          "output_type": "stream",
          "text": [
            " ... (more hidden) ..."
          ]
        },
        {
          "name": "stdout",
          "output_type": "stream",
          "text": [
            "Epoch 3/500 -- Train Loss: 0.0474, Val Loss: 0.0711, Val Acc: 6.25%\n",
            "Saved epoch checkpoint: checkpoints/epoch_checkpoint_3.pth\n"
          ]
        },
        {
          "name": "stderr",
          "output_type": "stream",
          "text": [
            " ... (more hidden) ..."
          ]
        },
        {
          "name": "stdout",
          "output_type": "stream",
          "text": [
            "Epoch 4/500 -- Train Loss: 0.0434, Val Loss: 0.0532, Val Acc: 6.43%\n",
            "Saved epoch checkpoint: checkpoints/epoch_checkpoint_4.pth\n",
            "Saved best checkpoint with Val Acc: 6.43%\n"
          ]
        },
        {
          "name": "stderr",
          "output_type": "stream",
          "text": [
            " ... (more hidden) ..."
          ]
        },
        {
          "name": "stdout",
          "output_type": "stream",
          "text": [
            "Epoch 5/500 -- Train Loss: 0.0430, Val Loss: 0.0416, Val Acc: 6.19%\n",
            "Saved epoch checkpoint: checkpoints/epoch_checkpoint_5.pth\n"
          ]
        },
        {
          "name": "stderr",
          "output_type": "stream",
          "text": [
            " ... (more hidden) ..."
          ]
        },
        {
          "name": "stdout",
          "output_type": "stream",
          "text": [
            "Epoch 6/500 -- Train Loss: 0.0395, Val Loss: 0.0378, Val Acc: 6.94%\n",
            "Saved epoch checkpoint: checkpoints/epoch_checkpoint_6.pth\n",
            "Saved best checkpoint with Val Acc: 6.94%\n"
          ]
        },
        {
          "name": "stderr",
          "output_type": "stream",
          "text": [
            " ... (more hidden) ..."
          ]
        },
        {
          "name": "stdout",
          "output_type": "stream",
          "text": [
            "Epoch 7/500 -- Train Loss: 0.0367, Val Loss: 0.0438, Val Acc: 6.52%\n",
            "Saved epoch checkpoint: checkpoints/epoch_checkpoint_7.pth\n"
          ]
        },
        {
          "name": "stderr",
          "output_type": "stream",
          "text": [
            " ... (more hidden) ..."
          ]
        },
        {
          "name": "stdout",
          "output_type": "stream",
          "text": [
            "Epoch 8/500 -- Train Loss: 0.0353, Val Loss: 0.0514, Val Acc: 6.39%\n",
            "Saved epoch checkpoint: checkpoints/epoch_checkpoint_8.pth\n"
          ]
        },
        {
          "name": "stderr",
          "output_type": "stream",
          "text": [
            " ... (more hidden) ..."
          ]
        },
        {
          "name": "stdout",
          "output_type": "stream",
          "text": [
            "Epoch 9/500 -- Train Loss: 0.0346, Val Loss: 0.0415, Val Acc: 5.41%\n",
            "Saved epoch checkpoint: checkpoints/epoch_checkpoint_9.pth\n"
          ]
        },
        {
          "name": "stderr",
          "output_type": "stream",
          "text": [
            " ... (more hidden) ..."
          ]
        },
        {
          "name": "stdout",
          "output_type": "stream",
          "text": [
            "Epoch 10/500 -- Train Loss: 0.0344, Val Loss: 0.0461, Val Acc: 5.88%\n",
            "Saved epoch checkpoint: checkpoints/epoch_checkpoint_10.pth\n"
          ]
        },
        {
          "name": "stderr",
          "output_type": "stream",
          "text": [
            " ... (more hidden) ..."
          ]
        },
        {
          "name": "stdout",
          "output_type": "stream",
          "text": [
            "Epoch 11/500 -- Train Loss: 0.0334, Val Loss: 0.0299, Val Acc: 6.83%\n",
            "Saved epoch checkpoint: checkpoints/epoch_checkpoint_11.pth\n"
          ]
        },
        {
          "name": "stderr",
          "output_type": "stream",
          "text": [
            " ... (more hidden) ..."
          ]
        },
        {
          "name": "stdout",
          "output_type": "stream",
          "text": [
            "Epoch 12/500 -- Train Loss: 0.0321, Val Loss: 0.0296, Val Acc: 6.25%\n",
            "Saved epoch checkpoint: checkpoints/epoch_checkpoint_12.pth\n"
          ]
        },
        {
          "name": "stderr",
          "output_type": "stream",
          "text": [
            " ... (more hidden) ..."
          ]
        },
        {
          "name": "stdout",
          "output_type": "stream",
          "text": [
            "Epoch 13/500 -- Train Loss: 0.0329, Val Loss: 0.0355, Val Acc: 6.14%\n",
            "Saved epoch checkpoint: checkpoints/epoch_checkpoint_13.pth\n"
          ]
        },
        {
          "name": "stderr",
          "output_type": "stream",
          "text": [
            " ... (more hidden) ..."
          ]
        },
        {
          "name": "stdout",
          "output_type": "stream",
          "text": [
            "Epoch 14/500 -- Train Loss: 0.0297, Val Loss: 0.0306, Val Acc: 6.14%\n",
            "Saved epoch checkpoint: checkpoints/epoch_checkpoint_14.pth\n"
          ]
        },
        {
          "name": "stderr",
          "output_type": "stream",
          "text": [
            " ... (more hidden) ..."
          ]
        },
        {
          "name": "stdout",
          "output_type": "stream",
          "text": [
            "Epoch 15/500 -- Train Loss: 0.0307, Val Loss: 0.0344, Val Acc: 5.88%\n",
            "Saved epoch checkpoint: checkpoints/epoch_checkpoint_15.pth\n"
          ]
        },
        {
          "name": "stderr",
          "output_type": "stream",
          "text": [
            " ... (more hidden) ..."
          ]
        },
        {
          "name": "stdout",
          "output_type": "stream",
          "text": [
            "Epoch 16/500 -- Train Loss: 0.0311, Val Loss: 0.0286, Val Acc: 6.32%\n",
            "Saved epoch checkpoint: checkpoints/epoch_checkpoint_16.pth\n"
          ]
        },
        {
          "name": "stderr",
          "output_type": "stream",
          "text": [
            " ... (more hidden) ..."
          ]
        },
        {
          "name": "stdout",
          "output_type": "stream",
          "text": [
            "Epoch 17/500 -- Train Loss: 0.0321, Val Loss: 0.0292, Val Acc: 6.24%\n",
            "Saved epoch checkpoint: checkpoints/epoch_checkpoint_17.pth\n"
          ]
        },
        {
          "name": "stderr",
          "output_type": "stream",
          "text": [
            " ... (more hidden) ..."
          ]
        },
        {
          "name": "stdout",
          "output_type": "stream",
          "text": [
            "Epoch 18/500 -- Train Loss: 0.0299, Val Loss: 0.0307, Val Acc: 5.93%\n",
            "Saved epoch checkpoint: checkpoints/epoch_checkpoint_18.pth\n"
          ]
        },
        {
          "name": "stderr",
          "output_type": "stream",
          "text": [
            " ... (more hidden) ..."
          ]
        },
        {
          "name": "stdout",
          "output_type": "stream",
          "text": [
            "Epoch 19/500 -- Train Loss: 0.0295, Val Loss: 0.0295, Val Acc: 6.41%\n",
            "Saved epoch checkpoint: checkpoints/epoch_checkpoint_19.pth\n"
          ]
        },
        {
          "name": "stderr",
          "output_type": "stream",
          "text": [
            " ... (more hidden) ..."
          ]
        },
        {
          "name": "stdout",
          "output_type": "stream",
          "text": [
            "Epoch 20/500 -- Train Loss: 0.0294, Val Loss: 0.0418, Val Acc: 5.83%\n",
            "Saved epoch checkpoint: checkpoints/epoch_checkpoint_20.pth\n"
          ]
        },
        {
          "name": "stderr",
          "output_type": "stream",
          "text": [
            " ... (more hidden) ..."
          ]
        },
        {
          "name": "stdout",
          "output_type": "stream",
          "text": [
            "Epoch 21/500 -- Train Loss: 0.0304, Val Loss: 0.0627, Val Acc: 6.24%\n",
            "Saved epoch checkpoint: checkpoints/epoch_checkpoint_21.pth\n"
          ]
        },
        {
          "name": "stderr",
          "output_type": "stream",
          "text": [
            " ... (more hidden) ..."
          ]
        },
        {
          "name": "stdout",
          "output_type": "stream",
          "text": [
            "Epoch 22/500 -- Train Loss: 0.0292, Val Loss: 0.0274, Val Acc: 6.89%\n",
            "Saved epoch checkpoint: checkpoints/epoch_checkpoint_22.pth\n"
          ]
        },
        {
          "name": "stderr",
          "output_type": "stream",
          "text": [
            " ... (more hidden) ..."
          ]
        },
        {
          "name": "stdout",
          "output_type": "stream",
          "text": [
            "Epoch 23/500 -- Train Loss: 0.0289, Val Loss: 0.0332, Val Acc: 6.33%\n",
            "Saved epoch checkpoint: checkpoints/epoch_checkpoint_23.pth\n"
          ]
        },
        {
          "name": "stderr",
          "output_type": "stream",
          "text": [
            " ... (more hidden) ..."
          ]
        },
        {
          "name": "stdout",
          "output_type": "stream",
          "text": [
            "Epoch 24/500 -- Train Loss: 0.0287, Val Loss: 0.0250, Val Acc: 6.47%\n",
            "Saved epoch checkpoint: checkpoints/epoch_checkpoint_24.pth\n"
          ]
        },
        {
          "name": "stderr",
          "output_type": "stream",
          "text": [
            " ... (more hidden) ..."
          ]
        },
        {
          "name": "stdout",
          "output_type": "stream",
          "text": [
            "Epoch 25/500 -- Train Loss: 0.0297, Val Loss: 0.0239, Val Acc: 6.13%\n",
            "Saved epoch checkpoint: checkpoints/epoch_checkpoint_25.pth\n"
          ]
        },
        {
          "name": "stderr",
          "output_type": "stream",
          "text": [
            " ... (more hidden) ..."
          ]
        },
        {
          "name": "stdout",
          "output_type": "stream",
          "text": [
            "Epoch 26/500 -- Train Loss: 0.0281, Val Loss: 0.0284, Val Acc: 6.32%\n",
            "Saved epoch checkpoint: checkpoints/epoch_checkpoint_26.pth\n"
          ]
        },
        {
          "name": "stderr",
          "output_type": "stream",
          "text": [
            " ... (more hidden) ..."
          ]
        },
        {
          "name": "stdout",
          "output_type": "stream",
          "text": [
            "Epoch 27/500 -- Train Loss: 0.0270, Val Loss: 0.0399, Val Acc: 6.89%\n",
            "Saved epoch checkpoint: checkpoints/epoch_checkpoint_27.pth\n"
          ]
        },
        {
          "name": "stderr",
          "output_type": "stream",
          "text": [
            " ... (more hidden) ..."
          ]
        },
        {
          "name": "stdout",
          "output_type": "stream",
          "text": [
            "Epoch 28/500 -- Train Loss: 0.0289, Val Loss: 0.0253, Val Acc: 6.68%\n",
            "Saved epoch checkpoint: checkpoints/epoch_checkpoint_28.pth\n"
          ]
        },
        {
          "name": "stderr",
          "output_type": "stream",
          "text": [
            " ... (more hidden) ..."
          ]
        },
        {
          "name": "stdout",
          "output_type": "stream",
          "text": [
            "Epoch 29/500 -- Train Loss: 0.0281, Val Loss: 0.0237, Val Acc: 6.77%\n",
            "Saved epoch checkpoint: checkpoints/epoch_checkpoint_29.pth\n"
          ]
        },
        {
          "name": "stderr",
          "output_type": "stream",
          "text": [
            " ... (more hidden) ..."
          ]
        },
        {
          "name": "stdout",
          "output_type": "stream",
          "text": [
            "Epoch 30/500 -- Train Loss: 0.0278, Val Loss: 0.0328, Val Acc: 7.05%\n",
            "Saved epoch checkpoint: checkpoints/epoch_checkpoint_30.pth\n",
            "Saved best checkpoint with Val Acc: 7.05%\n"
          ]
        },
        {
          "name": "stderr",
          "output_type": "stream",
          "text": [
            " ... (more hidden) ..."
          ]
        },
        {
          "name": "stdout",
          "output_type": "stream",
          "text": [
            "Epoch 31/500 -- Train Loss: 0.0287, Val Loss: 0.0259, Val Acc: 6.74%\n",
            "Saved epoch checkpoint: checkpoints/epoch_checkpoint_31.pth\n"
          ]
        },
        {
          "name": "stderr",
          "output_type": "stream",
          "text": [
            " ... (more hidden) ..."
          ]
        },
        {
          "name": "stdout",
          "output_type": "stream",
          "text": [
            "Epoch 32/500 -- Train Loss: 0.0292, Val Loss: 0.0330, Val Acc: 6.25%\n",
            "Saved epoch checkpoint: checkpoints/epoch_checkpoint_32.pth\n"
          ]
        },
        {
          "name": "stderr",
          "output_type": "stream",
          "text": [
            " ... (more hidden) ..."
          ]
        },
        {
          "name": "stdout",
          "output_type": "stream",
          "text": [
            "Epoch 33/500 -- Train Loss: 0.0287, Val Loss: 0.0389, Val Acc: 6.89%\n",
            "Saved epoch checkpoint: checkpoints/epoch_checkpoint_33.pth\n"
          ]
        },
        {
          "name": "stderr",
          "output_type": "stream",
          "text": [
            " ... (more hidden) ..."
          ]
        },
        {
          "name": "stdout",
          "output_type": "stream",
          "text": [
            "Epoch 34/500 -- Train Loss: 0.0270, Val Loss: 0.0386, Val Acc: 7.21%\n",
            "Saved epoch checkpoint: checkpoints/epoch_checkpoint_34.pth\n",
            "Saved best checkpoint with Val Acc: 7.21%\n"
          ]
        },
        {
          "name": "stderr",
          "output_type": "stream",
          "text": [
            " ... (more hidden) ..."
          ]
        },
        {
          "name": "stdout",
          "output_type": "stream",
          "text": [
            "Epoch 35/500 -- Train Loss: 0.0274, Val Loss: 0.0320, Val Acc: 7.19%\n",
            "Saved epoch checkpoint: checkpoints/epoch_checkpoint_35.pth\n"
          ]
        },
        {
          "name": "stderr",
          "output_type": "stream",
          "text": [
            " ... (more hidden) ..."
          ]
        },
        {
          "name": "stdout",
          "output_type": "stream",
          "text": [
            "Epoch 36/500 -- Train Loss: 0.0265, Val Loss: 0.0270, Val Acc: 6.85%\n",
            "Saved epoch checkpoint: checkpoints/epoch_checkpoint_36.pth\n"
          ]
        },
        {
          "name": "stderr",
          "output_type": "stream",
          "text": [
            " ... (more hidden) ..."
          ]
        },
        {
          "name": "stdout",
          "output_type": "stream",
          "text": [
            "Epoch 37/500 -- Train Loss: 0.0274, Val Loss: 0.0346, Val Acc: 6.88%\n",
            "Saved epoch checkpoint: checkpoints/epoch_checkpoint_37.pth\n"
          ]
        },
        {
          "name": "stderr",
          "output_type": "stream",
          "text": [
            " ... (more hidden) ..."
          ]
        },
        {
          "name": "stdout",
          "output_type": "stream",
          "text": [
            "Epoch 38/500 -- Train Loss: 0.0278, Val Loss: 0.0297, Val Acc: 6.86%\n",
            "Saved epoch checkpoint: checkpoints/epoch_checkpoint_38.pth\n"
          ]
        },
        {
          "name": "stderr",
          "output_type": "stream",
          "text": [
            " ... (more hidden) ..."
          ]
        },
        {
          "name": "stdout",
          "output_type": "stream",
          "text": [
            "Epoch 39/500 -- Train Loss: 0.0275, Val Loss: 0.0292, Val Acc: 6.94%\n",
            "Saved epoch checkpoint: checkpoints/epoch_checkpoint_39.pth\n"
          ]
        },
        {
          "name": "stderr",
          "output_type": "stream",
          "text": [
            " ... (more hidden) ..."
          ]
        },
        {
          "name": "stdout",
          "output_type": "stream",
          "text": [
            "Epoch 40/500 -- Train Loss: 0.0275, Val Loss: 0.0261, Val Acc: 6.66%\n",
            "Saved epoch checkpoint: checkpoints/epoch_checkpoint_40.pth\n"
          ]
        },
        {
          "name": "stderr",
          "output_type": "stream",
          "text": [
            " ... (more hidden) ..."
          ]
        },
        {
          "name": "stdout",
          "output_type": "stream",
          "text": [
            "Epoch 41/500 -- Train Loss: 0.0273, Val Loss: 0.0296, Val Acc: 6.94%\n",
            "Saved epoch checkpoint: checkpoints/epoch_checkpoint_41.pth\n"
          ]
        },
        {
          "name": "stderr",
          "output_type": "stream",
          "text": [
            " ... (more hidden) ..."
          ]
        },
        {
          "name": "stdout",
          "output_type": "stream",
          "text": [
            "Epoch 42/500 -- Train Loss: 0.0268, Val Loss: 0.0315, Val Acc: 6.64%\n",
            "Saved epoch checkpoint: checkpoints/epoch_checkpoint_42.pth\n"
          ]
        },
        {
          "name": "stderr",
          "output_type": "stream",
          "text": [
            " ... (more hidden) ..."
          ]
        },
        {
          "name": "stdout",
          "output_type": "stream",
          "text": [
            "Epoch 43/500 -- Train Loss: 0.0278, Val Loss: 0.0276, Val Acc: 6.89%\n",
            "Saved epoch checkpoint: checkpoints/epoch_checkpoint_43.pth\n"
          ]
        },
        {
          "name": "stderr",
          "output_type": "stream",
          "text": [
            " ... (more hidden) ..."
          ]
        },
        {
          "name": "stdout",
          "output_type": "stream",
          "text": [
            "Epoch 44/500 -- Train Loss: 0.0269, Val Loss: 0.0354, Val Acc: 6.55%\n",
            "Saved epoch checkpoint: checkpoints/epoch_checkpoint_44.pth\n"
          ]
        },
        {
          "name": "stderr",
          "output_type": "stream",
          "text": [
            " ... (more hidden) ..."
          ]
        },
        {
          "name": "stdout",
          "output_type": "stream",
          "text": [
            "Epoch 45/500 -- Train Loss: 0.0261, Val Loss: 0.0252, Val Acc: 7.27%\n",
            "Saved epoch checkpoint: checkpoints/epoch_checkpoint_45.pth\n",
            "Saved best checkpoint with Val Acc: 7.27%\n"
          ]
        },
        {
          "name": "stderr",
          "output_type": "stream",
          "text": [
            " ... (more hidden) ..."
          ]
        },
        {
          "name": "stdout",
          "output_type": "stream",
          "text": [
            "Epoch 46/500 -- Train Loss: 0.0272, Val Loss: 0.0288, Val Acc: 6.68%\n",
            "Saved epoch checkpoint: checkpoints/epoch_checkpoint_46.pth\n"
          ]
        },
        {
          "name": "stderr",
          "output_type": "stream",
          "text": [
            " ... (more hidden) ..."
          ]
        },
        {
          "name": "stdout",
          "output_type": "stream",
          "text": [
            "Epoch 47/500 -- Train Loss: 0.0268, Val Loss: 0.0398, Val Acc: 7.30%\n",
            "Saved epoch checkpoint: checkpoints/epoch_checkpoint_47.pth\n",
            "Saved best checkpoint with Val Acc: 7.30%\n"
          ]
        },
        {
          "name": "stderr",
          "output_type": "stream",
          "text": [
            " ... (more hidden) ..."
          ]
        },
        {
          "name": "stdout",
          "output_type": "stream",
          "text": [
            "Epoch 48/500 -- Train Loss: 0.0279, Val Loss: 0.0282, Val Acc: 6.63%\n",
            "Saved epoch checkpoint: checkpoints/epoch_checkpoint_48.pth\n"
          ]
        },
        {
          "name": "stderr",
          "output_type": "stream",
          "text": [
            " ... (more hidden) ..."
          ]
        },
        {
          "name": "stdout",
          "output_type": "stream",
          "text": [
            "Epoch 49/500 -- Train Loss: 0.0255, Val Loss: 0.0331, Val Acc: 6.82%\n",
            "Saved epoch checkpoint: checkpoints/epoch_checkpoint_49.pth\n"
          ]
        },
        {
          "name": "stderr",
          "output_type": "stream",
          "text": [
            " ... (more hidden) ..."
          ]
        },
        {
          "name": "stdout",
          "output_type": "stream",
          "text": [
            "Epoch 50/500 -- Train Loss: 0.0272, Val Loss: 0.0313, Val Acc: 6.54%\n",
            "Saved epoch checkpoint: checkpoints/epoch_checkpoint_50.pth\n"
          ]
        },
        {
          "name": "stderr",
          "output_type": "stream",
          "text": [
            " ... (more hidden) ..."
          ]
        },
        {
          "name": "stdout",
          "output_type": "stream",
          "text": [
            "Epoch 51/500 -- Train Loss: 0.0266, Val Loss: 0.0318, Val Acc: 6.68%\n",
            "Saved epoch checkpoint: checkpoints/epoch_checkpoint_51.pth\n"
          ]
        },
        {
          "name": "stderr",
          "output_type": "stream",
          "text": [
            " ... (more hidden) ..."
          ]
        },
        {
          "name": "stdout",
          "output_type": "stream",
          "text": [
            "Epoch 52/500 -- Train Loss: 0.0260, Val Loss: 0.0298, Val Acc: 6.69%\n",
            "Saved epoch checkpoint: checkpoints/epoch_checkpoint_52.pth\n"
          ]
        },
        {
          "name": "stderr",
          "output_type": "stream",
          "text": [
            " ... (more hidden) ..."
          ]
        },
        {
          "name": "stdout",
          "output_type": "stream",
          "text": [
            "Epoch 53/500 -- Train Loss: 0.0263, Val Loss: 0.0338, Val Acc: 6.32%\n",
            "Saved epoch checkpoint: checkpoints/epoch_checkpoint_53.pth\n"
          ]
        },
        {
          "name": "stderr",
          "output_type": "stream",
          "text": [
            " ... (more hidden) ..."
          ]
        },
        {
          "name": "stdout",
          "output_type": "stream",
          "text": [
            "Epoch 54/500 -- Train Loss: 0.0258, Val Loss: 0.0347, Val Acc: 6.72%\n",
            "Saved epoch checkpoint: checkpoints/epoch_checkpoint_54.pth\n"
          ]
        },
        {
          "name": "stderr",
          "output_type": "stream",
          "text": [
            " ... (more hidden) ..."
          ]
        },
        {
          "name": "stdout",
          "output_type": "stream",
          "text": [
            "Epoch 55/500 -- Train Loss: 0.0261, Val Loss: 0.0296, Val Acc: 6.88%\n",
            "Saved epoch checkpoint: checkpoints/epoch_checkpoint_55.pth\n"
          ]
        },
        {
          "name": "stderr",
          "output_type": "stream",
          "text": [
            " ... (more hidden) ..."
          ]
        },
        {
          "name": "stdout",
          "output_type": "stream",
          "text": [
            "Epoch 56/500 -- Train Loss: 0.0266, Val Loss: 0.0256, Val Acc: 6.86%\n",
            "Saved epoch checkpoint: checkpoints/epoch_checkpoint_56.pth\n"
          ]
        },
        {
          "name": "stderr",
          "output_type": "stream",
          "text": [
            " ... (more hidden) ..."
          ]
        },
        {
          "name": "stdout",
          "output_type": "stream",
          "text": [
            "Epoch 57/500 -- Train Loss: 0.0256, Val Loss: 0.0306, Val Acc: 6.60%\n",
            "Saved epoch checkpoint: checkpoints/epoch_checkpoint_57.pth\n"
          ]
        },
        {
          "name": "stderr",
          "output_type": "stream",
          "text": [
            " ... (more hidden) ..."
          ]
        },
        {
          "name": "stdout",
          "output_type": "stream",
          "text": [
            "Epoch 58/500 -- Train Loss: 0.0272, Val Loss: 0.0313, Val Acc: 6.68%\n",
            "Saved epoch checkpoint: checkpoints/epoch_checkpoint_58.pth\n"
          ]
        },
        {
          "name": "stderr",
          "output_type": "stream",
          "text": [
            " ... (more hidden) ..."
          ]
        },
        {
          "name": "stdout",
          "output_type": "stream",
          "text": [
            "Epoch 59/500 -- Train Loss: 0.0261, Val Loss: 0.0341, Val Acc: 6.54%\n",
            "Saved epoch checkpoint: checkpoints/epoch_checkpoint_59.pth\n"
          ]
        },
        {
          "name": "stderr",
          "output_type": "stream",
          "text": [
            " ... (more hidden) ..."
          ]
        },
        {
          "name": "stdout",
          "output_type": "stream",
          "text": [
            "Epoch 60/500 -- Train Loss: 0.0264, Val Loss: 0.0318, Val Acc: 6.79%\n",
            "Saved epoch checkpoint: checkpoints/epoch_checkpoint_60.pth\n"
          ]
        },
        {
          "name": "stderr",
          "output_type": "stream",
          "text": [
            " ... (more hidden) ..."
          ]
        },
        {
          "name": "stdout",
          "output_type": "stream",
          "text": [
            "Epoch 61/500 -- Train Loss: 0.0270, Val Loss: 0.0401, Val Acc: 6.71%\n",
            "Saved epoch checkpoint: checkpoints/epoch_checkpoint_61.pth\n"
          ]
        },
        {
          "name": "stderr",
          "output_type": "stream",
          "text": [
            " ... (more hidden) ..."
          ]
        },
        {
          "name": "stdout",
          "output_type": "stream",
          "text": [
            "Epoch 62/500 -- Train Loss: 0.0265, Val Loss: 0.0285, Val Acc: 6.97%\n",
            "Saved epoch checkpoint: checkpoints/epoch_checkpoint_62.pth\n"
          ]
        },
        {
          "name": "stderr",
          "output_type": "stream",
          "text": [
            " ... (more hidden) ..."
          ]
        },
        {
          "name": "stdout",
          "output_type": "stream",
          "text": [
            "Epoch 63/500 -- Train Loss: 0.0260, Val Loss: 0.0329, Val Acc: 6.85%\n",
            "Saved epoch checkpoint: checkpoints/epoch_checkpoint_63.pth\n"
          ]
        },
        {
          "name": "stderr",
          "output_type": "stream",
          "text": [
            " ... (more hidden) ..."
          ]
        },
        {
          "name": "stdout",
          "output_type": "stream",
          "text": [
            "Epoch 64/500 -- Train Loss: 0.0244, Val Loss: 0.0344, Val Acc: 6.71%\n",
            "Saved epoch checkpoint: checkpoints/epoch_checkpoint_64.pth\n"
          ]
        },
        {
          "name": "stderr",
          "output_type": "stream",
          "text": [
            " ... (more hidden) ..."
          ]
        },
        {
          "name": "stdout",
          "output_type": "stream",
          "text": [
            "Epoch 65/500 -- Train Loss: 0.0269, Val Loss: 0.0289, Val Acc: 6.60%\n",
            "Saved epoch checkpoint: checkpoints/epoch_checkpoint_65.pth\n"
          ]
        },
        {
          "name": "stderr",
          "output_type": "stream",
          "text": [
            " ... (more hidden) ..."
          ]
        },
        {
          "name": "stdout",
          "output_type": "stream",
          "text": [
            "Epoch 66/500 -- Train Loss: 0.0251, Val Loss: 0.0323, Val Acc: 6.57%\n",
            "Saved epoch checkpoint: checkpoints/epoch_checkpoint_66.pth\n"
          ]
        },
        {
          "name": "stderr",
          "output_type": "stream",
          "text": [
            " ... (more hidden) ..."
          ]
        },
        {
          "name": "stdout",
          "output_type": "stream",
          "text": [
            "Epoch 67/500 -- Train Loss: 0.0257, Val Loss: 0.0394, Val Acc: 6.80%\n",
            "Saved epoch checkpoint: checkpoints/epoch_checkpoint_67.pth\n"
          ]
        },
        {
          "name": "stderr",
          "output_type": "stream",
          "text": [
            " ... (more hidden) ..."
          ]
        },
        {
          "name": "stdout",
          "output_type": "stream",
          "text": [
            "Epoch 68/500 -- Train Loss: 0.0258, Val Loss: 0.0321, Val Acc: 6.66%\n",
            "Saved epoch checkpoint: checkpoints/epoch_checkpoint_68.pth\n"
          ]
        },
        {
          "name": "stderr",
          "output_type": "stream",
          "text": [
            " ... (more hidden) ..."
          ]
        },
        {
          "name": "stdout",
          "output_type": "stream",
          "text": [
            "Epoch 69/500 -- Train Loss: 0.0258, Val Loss: 0.0283, Val Acc: 6.43%\n",
            "Saved epoch checkpoint: checkpoints/epoch_checkpoint_69.pth\n"
          ]
        },
        {
          "name": "stderr",
          "output_type": "stream",
          "text": [
            " ... (more hidden) ..."
          ]
        },
        {
          "name": "stdout",
          "output_type": "stream",
          "text": [
            "Epoch 70/500 -- Train Loss: 0.0259, Val Loss: 0.0363, Val Acc: 7.02%\n",
            "Saved epoch checkpoint: checkpoints/epoch_checkpoint_70.pth\n"
          ]
        },
        {
          "name": "stderr",
          "output_type": "stream",
          "text": [
            " ... (more hidden) ..."
          ]
        },
        {
          "name": "stdout",
          "output_type": "stream",
          "text": [
            "Epoch 71/500 -- Train Loss: 0.0254, Val Loss: 0.0273, Val Acc: 6.64%\n",
            "Saved epoch checkpoint: checkpoints/epoch_checkpoint_71.pth\n"
          ]
        },
        {
          "name": "stderr",
          "output_type": "stream",
          "text": [
            " ... (more hidden) ..."
          ]
        },
        {
          "name": "stdout",
          "output_type": "stream",
          "text": [
            "Epoch 72/500 -- Train Loss: 0.0253, Val Loss: 0.0415, Val Acc: 7.11%\n",
            "Saved epoch checkpoint: checkpoints/epoch_checkpoint_72.pth\n"
          ]
        },
        {
          "name": "stderr",
          "output_type": "stream",
          "text": [
            " ... (more hidden) ..."
          ]
        },
        {
          "name": "stdout",
          "output_type": "stream",
          "text": [
            "Epoch 73/500 -- Train Loss: 0.0250, Val Loss: 0.0277, Val Acc: 6.71%\n",
            "Saved epoch checkpoint: checkpoints/epoch_checkpoint_73.pth\n"
          ]
        },
        {
          "name": "stderr",
          "output_type": "stream",
          "text": [
            " ... (more hidden) ..."
          ]
        },
        {
          "name": "stdout",
          "output_type": "stream",
          "text": [
            "Epoch 74/500 -- Train Loss: 0.0263, Val Loss: 0.0286, Val Acc: 6.72%\n",
            "Saved epoch checkpoint: checkpoints/epoch_checkpoint_74.pth\n"
          ]
        },
        {
          "name": "stderr",
          "output_type": "stream",
          "text": [
            " ... (more hidden) ..."
          ]
        },
        {
          "name": "stdout",
          "output_type": "stream",
          "text": [
            "Epoch 75/500 -- Train Loss: 0.0253, Val Loss: 0.0360, Val Acc: 6.75%\n",
            "Saved epoch checkpoint: checkpoints/epoch_checkpoint_75.pth\n"
          ]
        },
        {
          "name": "stderr",
          "output_type": "stream",
          "text": [
            " ... (more hidden) ..."
          ]
        },
        {
          "name": "stdout",
          "output_type": "stream",
          "text": [
            "Epoch 76/500 -- Train Loss: 0.0251, Val Loss: 0.0281, Val Acc: 7.25%\n",
            "Saved epoch checkpoint: checkpoints/epoch_checkpoint_76.pth\n"
          ]
        },
        {
          "name": "stderr",
          "output_type": "stream",
          "text": [
            " ... (more hidden) ..."
          ]
        },
        {
          "name": "stdout",
          "output_type": "stream",
          "text": [
            "Epoch 77/500 -- Train Loss: 0.0254, Val Loss: 0.0278, Val Acc: 7.02%\n",
            "Saved epoch checkpoint: checkpoints/epoch_checkpoint_77.pth\n"
          ]
        },
        {
          "name": "stderr",
          "output_type": "stream",
          "text": [
            " ... (more hidden) ..."
          ]
        },
        {
          "name": "stdout",
          "output_type": "stream",
          "text": [
            "Epoch 78/500 -- Train Loss: 0.0271, Val Loss: 0.0348, Val Acc: 6.72%\n",
            "Saved epoch checkpoint: checkpoints/epoch_checkpoint_78.pth\n"
          ]
        },
        {
          "name": "stderr",
          "output_type": "stream",
          "text": [
            " ... (more hidden) ..."
          ]
        },
        {
          "name": "stdout",
          "output_type": "stream",
          "text": [
            "Epoch 79/500 -- Train Loss: 0.0254, Val Loss: 0.0349, Val Acc: 6.75%\n",
            "Saved epoch checkpoint: checkpoints/epoch_checkpoint_79.pth\n"
          ]
        },
        {
          "name": "stderr",
          "output_type": "stream",
          "text": [
            " ... (more hidden) ..."
          ]
        },
        {
          "name": "stdout",
          "output_type": "stream",
          "text": [
            "Epoch 80/500 -- Train Loss: 0.0251, Val Loss: 0.0294, Val Acc: 6.93%\n",
            "Saved epoch checkpoint: checkpoints/epoch_checkpoint_80.pth\n"
          ]
        },
        {
          "name": "stderr",
          "output_type": "stream",
          "text": [
            " ... (more hidden) ..."
          ]
        },
        {
          "name": "stdout",
          "output_type": "stream",
          "text": [
            "Epoch 81/500 -- Train Loss: 0.0259, Val Loss: 0.0303, Val Acc: 7.33%\n",
            "Saved epoch checkpoint: checkpoints/epoch_checkpoint_81.pth\n",
            "Saved best checkpoint with Val Acc: 7.33%\n"
          ]
        },
        {
          "name": "stderr",
          "output_type": "stream",
          "text": [
            " ... (more hidden) ..."
          ]
        },
        {
          "name": "stdout",
          "output_type": "stream",
          "text": [
            "Epoch 82/500 -- Train Loss: 0.0254, Val Loss: 0.0304, Val Acc: 7.10%\n",
            "Saved epoch checkpoint: checkpoints/epoch_checkpoint_82.pth\n"
          ]
        },
        {
          "name": "stderr",
          "output_type": "stream",
          "text": [
            " ... (more hidden) ..."
          ]
        },
        {
          "name": "stdout",
          "output_type": "stream",
          "text": [
            "Epoch 83/500 -- Train Loss: 0.0263, Val Loss: 0.0333, Val Acc: 7.07%\n",
            "Saved epoch checkpoint: checkpoints/epoch_checkpoint_83.pth\n"
          ]
        },
        {
          "name": "stderr",
          "output_type": "stream",
          "text": [
            " ... (more hidden) ..."
          ]
        },
        {
          "name": "stdout",
          "output_type": "stream",
          "text": [
            "Epoch 84/500 -- Train Loss: 0.0263, Val Loss: 0.0287, Val Acc: 6.74%\n",
            "Saved epoch checkpoint: checkpoints/epoch_checkpoint_84.pth\n"
          ]
        },
        {
          "name": "stderr",
          "output_type": "stream",
          "text": [
            " ... (more hidden) ..."
          ]
        },
        {
          "name": "stdout",
          "output_type": "stream",
          "text": [
            "Epoch 85/500 -- Train Loss: 0.0250, Val Loss: 0.0294, Val Acc: 6.79%\n",
            "Saved epoch checkpoint: checkpoints/epoch_checkpoint_85.pth\n"
          ]
        },
        {
          "name": "stderr",
          "output_type": "stream",
          "text": [
            " ... (more hidden) ..."
          ]
        },
        {
          "name": "stdout",
          "output_type": "stream",
          "text": [
            "Epoch 86/500 -- Train Loss: 0.0246, Val Loss: 0.0365, Val Acc: 6.99%\n",
            "Saved epoch checkpoint: checkpoints/epoch_checkpoint_86.pth\n"
          ]
        },
        {
          "name": "stderr",
          "output_type": "stream",
          "text": [
            " ... (more hidden) ..."
          ]
        },
        {
          "name": "stdout",
          "output_type": "stream",
          "text": [
            "Epoch 87/500 -- Train Loss: 0.0248, Val Loss: 0.0421, Val Acc: 6.89%\n",
            "Saved epoch checkpoint: checkpoints/epoch_checkpoint_87.pth\n"
          ]
        },
        {
          "name": "stderr",
          "output_type": "stream",
          "text": [
            " ... (more hidden) ..."
          ]
        },
        {
          "name": "stdout",
          "output_type": "stream",
          "text": [
            "Epoch 88/500 -- Train Loss: 0.0261, Val Loss: 0.0333, Val Acc: 6.96%\n",
            "Saved epoch checkpoint: checkpoints/epoch_checkpoint_88.pth\n"
          ]
        },
        {
          "name": "stderr",
          "output_type": "stream",
          "text": [
            " ... (more hidden) ..."
          ]
        },
        {
          "name": "stdout",
          "output_type": "stream",
          "text": [
            "Epoch 89/500 -- Train Loss: 0.0257, Val Loss: 0.0361, Val Acc: 7.00%\n",
            "Saved epoch checkpoint: checkpoints/epoch_checkpoint_89.pth\n"
          ]
        },
        {
          "name": "stderr",
          "output_type": "stream",
          "text": [
            " ... (more hidden) ..."
          ]
        },
        {
          "name": "stdout",
          "output_type": "stream",
          "text": [
            "Epoch 90/500 -- Train Loss: 0.0251, Val Loss: 0.0312, Val Acc: 6.79%\n",
            "Saved epoch checkpoint: checkpoints/epoch_checkpoint_90.pth\n"
          ]
        },
        {
          "name": "stderr",
          "output_type": "stream",
          "text": [
            " ... (more hidden) ..."
          ]
        },
        {
          "name": "stdout",
          "output_type": "stream",
          "text": [
            "Epoch 91/500 -- Train Loss: 0.0253, Val Loss: 0.0311, Val Acc: 7.10%\n",
            "Saved epoch checkpoint: checkpoints/epoch_checkpoint_91.pth\n"
          ]
        },
        {
          "name": "stderr",
          "output_type": "stream",
          "text": [
            " ... (more hidden) ..."
          ]
        },
        {
          "name": "stdout",
          "output_type": "stream",
          "text": [
            "Epoch 92/500 -- Train Loss: 0.0250, Val Loss: 0.0316, Val Acc: 7.22%\n",
            "Saved epoch checkpoint: checkpoints/epoch_checkpoint_92.pth\n"
          ]
        },
        {
          "name": "stderr",
          "output_type": "stream",
          "text": [
            " ... (more hidden) ..."
          ]
        },
        {
          "name": "stdout",
          "output_type": "stream",
          "text": [
            "Epoch 93/500 -- Train Loss: 0.0251, Val Loss: 0.0276, Val Acc: 7.21%\n",
            "Saved epoch checkpoint: checkpoints/epoch_checkpoint_93.pth\n"
          ]
        },
        {
          "name": "stderr",
          "output_type": "stream",
          "text": [
            " ... (more hidden) ..."
          ]
        },
        {
          "name": "stdout",
          "output_type": "stream",
          "text": [
            "Epoch 94/500 -- Train Loss: 0.0251, Val Loss: 0.0315, Val Acc: 6.50%\n",
            "Saved epoch checkpoint: checkpoints/epoch_checkpoint_94.pth\n"
          ]
        },
        {
          "name": "stderr",
          "output_type": "stream",
          "text": [
            " ... (more hidden) ..."
          ]
        },
        {
          "name": "stdout",
          "output_type": "stream",
          "text": [
            "Epoch 95/500 -- Train Loss: 0.0254, Val Loss: 0.0291, Val Acc: 6.57%\n",
            "Saved epoch checkpoint: checkpoints/epoch_checkpoint_95.pth\n"
          ]
        },
        {
          "name": "stderr",
          "output_type": "stream",
          "text": [
            " ... (more hidden) ..."
          ]
        },
        {
          "name": "stdout",
          "output_type": "stream",
          "text": [
            "Epoch 96/500 -- Train Loss: 0.0246, Val Loss: 0.0300, Val Acc: 6.79%\n",
            "Saved epoch checkpoint: checkpoints/epoch_checkpoint_96.pth\n"
          ]
        },
        {
          "name": "stderr",
          "output_type": "stream",
          "text": [
            " ... (more hidden) ..."
          ]
        },
        {
          "name": "stdout",
          "output_type": "stream",
          "text": [
            "Epoch 97/500 -- Train Loss: 0.0270, Val Loss: 0.0369, Val Acc: 6.52%\n",
            "Saved epoch checkpoint: checkpoints/epoch_checkpoint_97.pth\n"
          ]
        },
        {
          "name": "stderr",
          "output_type": "stream",
          "text": [
            " ... (more hidden) ..."
          ]
        },
        {
          "name": "stdout",
          "output_type": "stream",
          "text": [
            "Epoch 98/500 -- Train Loss: 0.0238, Val Loss: 0.0371, Val Acc: 7.19%\n",
            "Saved epoch checkpoint: checkpoints/epoch_checkpoint_98.pth\n"
          ]
        },
        {
          "name": "stderr",
          "output_type": "stream",
          "text": [
            " ... (more hidden) ..."
          ]
        },
        {
          "name": "stdout",
          "output_type": "stream",
          "text": [
            "Epoch 99/500 -- Train Loss: 0.0247, Val Loss: 0.0320, Val Acc: 6.88%\n",
            "Saved epoch checkpoint: checkpoints/epoch_checkpoint_99.pth\n"
          ]
        },
        {
          "name": "stderr",
          "output_type": "stream",
          "text": [
            " ... (more hidden) ..."
          ]
        },
        {
          "name": "stdout",
          "output_type": "stream",
          "text": [
            "Epoch 100/500 -- Train Loss: 0.0242, Val Loss: 0.0367, Val Acc: 6.96%\n",
            "Saved epoch checkpoint: checkpoints/epoch_checkpoint_100.pth\n"
          ]
        },
        {
          "name": "stderr",
          "output_type": "stream",
          "text": [
            " ... (more hidden) ..."
          ]
        },
        {
          "name": "stdout",
          "output_type": "stream",
          "text": [
            "Epoch 101/500 -- Train Loss: 0.0252, Val Loss: 0.0294, Val Acc: 7.02%\n",
            "Saved epoch checkpoint: checkpoints/epoch_checkpoint_101.pth\n"
          ]
        },
        {
          "name": "stderr",
          "output_type": "stream",
          "text": [
            " ... (more hidden) ..."
          ]
        },
        {
          "name": "stdout",
          "output_type": "stream",
          "text": [
            "Epoch 102/500 -- Train Loss: 0.0253, Val Loss: 0.0370, Val Acc: 6.64%\n",
            "Saved epoch checkpoint: checkpoints/epoch_checkpoint_102.pth\n"
          ]
        },
        {
          "name": "stderr",
          "output_type": "stream",
          "text": [
            " ... (more hidden) ..."
          ]
        },
        {
          "name": "stdout",
          "output_type": "stream",
          "text": [
            "Epoch 103/500 -- Train Loss: 0.0249, Val Loss: 0.0300, Val Acc: 6.99%\n",
            "Saved epoch checkpoint: checkpoints/epoch_checkpoint_103.pth\n"
          ]
        },
        {
          "name": "stderr",
          "output_type": "stream",
          "text": [
            " ... (more hidden) ..."
          ]
        },
        {
          "name": "stdout",
          "output_type": "stream",
          "text": [
            "Epoch 104/500 -- Train Loss: 0.0247, Val Loss: 0.0307, Val Acc: 6.46%\n",
            "Saved epoch checkpoint: checkpoints/epoch_checkpoint_104.pth\n"
          ]
        },
        {
          "name": "stderr",
          "output_type": "stream",
          "text": [
            " ... (more hidden) ..."
          ]
        },
        {
          "name": "stdout",
          "output_type": "stream",
          "text": [
            "Epoch 105/500 -- Train Loss: 0.0248, Val Loss: 0.0298, Val Acc: 6.85%\n",
            "Saved epoch checkpoint: checkpoints/epoch_checkpoint_105.pth\n"
          ]
        },
        {
          "name": "stderr",
          "output_type": "stream",
          "text": [
            " ... (more hidden) ..."
          ]
        },
        {
          "name": "stdout",
          "output_type": "stream",
          "text": [
            "Epoch 106/500 -- Train Loss: 0.0249, Val Loss: 0.0335, Val Acc: 6.86%\n",
            "Saved epoch checkpoint: checkpoints/epoch_checkpoint_106.pth\n"
          ]
        },
        {
          "name": "stderr",
          "output_type": "stream",
          "text": [
            " ... (more hidden) ..."
          ]
        },
        {
          "name": "stdout",
          "output_type": "stream",
          "text": [
            "Epoch 107/500 -- Train Loss: 0.0236, Val Loss: 0.0350, Val Acc: 6.82%\n",
            "Saved epoch checkpoint: checkpoints/epoch_checkpoint_107.pth\n"
          ]
        },
        {
          "name": "stderr",
          "output_type": "stream",
          "text": [
            " ... (more hidden) ..."
          ]
        },
        {
          "name": "stdout",
          "output_type": "stream",
          "text": [
            "Epoch 108/500 -- Train Loss: 0.0243, Val Loss: 0.0369, Val Acc: 6.96%\n",
            "Saved epoch checkpoint: checkpoints/epoch_checkpoint_108.pth\n"
          ]
        },
        {
          "name": "stderr",
          "output_type": "stream",
          "text": [
            " ... (more hidden) ..."
          ]
        },
        {
          "name": "stdout",
          "output_type": "stream",
          "text": [
            "Epoch 109/500 -- Train Loss: 0.0232, Val Loss: 0.0304, Val Acc: 6.74%\n",
            "Saved epoch checkpoint: checkpoints/epoch_checkpoint_109.pth\n"
          ]
        },
        {
          "name": "stderr",
          "output_type": "stream",
          "text": [
            " ... (more hidden) ..."
          ]
        },
        {
          "name": "stdout",
          "output_type": "stream",
          "text": [
            "Epoch 110/500 -- Train Loss: 0.0233, Val Loss: 0.0432, Val Acc: 6.82%\n",
            "Saved epoch checkpoint: checkpoints/epoch_checkpoint_110.pth\n"
          ]
        },
        {
          "name": "stderr",
          "output_type": "stream",
          "text": [
            " ... (more hidden) ..."
          ]
        },
        {
          "name": "stdout",
          "output_type": "stream",
          "text": [
            "Epoch 111/500 -- Train Loss: 0.0245, Val Loss: 0.0356, Val Acc: 7.24%\n",
            "Saved epoch checkpoint: checkpoints/epoch_checkpoint_111.pth\n"
          ]
        },
        {
          "name": "stderr",
          "output_type": "stream",
          "text": [
            " ... (more hidden) ..."
          ]
        },
        {
          "name": "stdout",
          "output_type": "stream",
          "text": [
            "Epoch 112/500 -- Train Loss: 0.0234, Val Loss: 0.0296, Val Acc: 7.13%\n",
            "Saved epoch checkpoint: checkpoints/epoch_checkpoint_112.pth\n"
          ]
        },
        {
          "name": "stderr",
          "output_type": "stream",
          "text": [
            " ... (more hidden) ..."
          ]
        },
        {
          "name": "stdout",
          "output_type": "stream",
          "text": [
            "Epoch 113/500 -- Train Loss: 0.0254, Val Loss: 0.0557, Val Acc: 6.80%\n",
            "Saved epoch checkpoint: checkpoints/epoch_checkpoint_113.pth\n"
          ]
        },
        {
          "name": "stderr",
          "output_type": "stream",
          "text": [
            " ... (more hidden) ..."
          ]
        },
        {
          "name": "stdout",
          "output_type": "stream",
          "text": [
            "Epoch 114/500 -- Train Loss: 0.0252, Val Loss: 0.0262, Val Acc: 6.74%\n",
            "Saved epoch checkpoint: checkpoints/epoch_checkpoint_114.pth\n"
          ]
        },
        {
          "name": "stderr",
          "output_type": "stream",
          "text": [
            " ... (more hidden) ..."
          ]
        },
        {
          "name": "stdout",
          "output_type": "stream",
          "text": [
            "Epoch 115/500 -- Train Loss: 0.0248, Val Loss: 0.0303, Val Acc: 7.00%\n",
            "Saved epoch checkpoint: checkpoints/epoch_checkpoint_115.pth\n"
          ]
        },
        {
          "name": "stderr",
          "output_type": "stream",
          "text": [
            " ... (more hidden) ..."
          ]
        },
        {
          "name": "stdout",
          "output_type": "stream",
          "text": [
            "Epoch 116/500 -- Train Loss: 0.0249, Val Loss: 0.0297, Val Acc: 6.47%\n",
            "Saved epoch checkpoint: checkpoints/epoch_checkpoint_116.pth\n"
          ]
        },
        {
          "name": "stderr",
          "output_type": "stream",
          "text": [
            " ... (more hidden) ..."
          ]
        },
        {
          "name": "stdout",
          "output_type": "stream",
          "text": [
            "Epoch 117/500 -- Train Loss: 0.0245, Val Loss: 0.0434, Val Acc: 7.22%\n",
            "Saved epoch checkpoint: checkpoints/epoch_checkpoint_117.pth\n"
          ]
        },
        {
          "name": "stderr",
          "output_type": "stream",
          "text": [
            " ... (more hidden) ..."
          ]
        },
        {
          "name": "stdout",
          "output_type": "stream",
          "text": [
            "Epoch 118/500 -- Train Loss: 0.0242, Val Loss: 0.0402, Val Acc: 6.46%\n",
            "Saved epoch checkpoint: checkpoints/epoch_checkpoint_118.pth\n"
          ]
        },
        {
          "name": "stderr",
          "output_type": "stream",
          "text": [
            " ... (more hidden) ..."
          ]
        },
        {
          "name": "stdout",
          "output_type": "stream",
          "text": [
            "Epoch 119/500 -- Train Loss: 0.0239, Val Loss: 0.0361, Val Acc: 6.93%\n",
            "Saved epoch checkpoint: checkpoints/epoch_checkpoint_119.pth\n"
          ]
        },
        {
          "name": "stderr",
          "output_type": "stream",
          "text": [
            " ... (more hidden) ..."
          ]
        },
        {
          "name": "stdout",
          "output_type": "stream",
          "text": [
            "Epoch 120/500 -- Train Loss: 0.0237, Val Loss: 0.0378, Val Acc: 6.61%\n",
            "Saved epoch checkpoint: checkpoints/epoch_checkpoint_120.pth\n"
          ]
        },
        {
          "name": "stderr",
          "output_type": "stream",
          "text": [
            " ... (more hidden) ..."
          ]
        },
        {
          "name": "stdout",
          "output_type": "stream",
          "text": [
            "Epoch 121/500 -- Train Loss: 0.0242, Val Loss: 0.0298, Val Acc: 6.83%\n",
            "Saved epoch checkpoint: checkpoints/epoch_checkpoint_121.pth\n"
          ]
        },
        {
          "name": "stderr",
          "output_type": "stream",
          "text": [
            " ... (more hidden) ..."
          ]
        },
        {
          "name": "stdout",
          "output_type": "stream",
          "text": [
            "Epoch 122/500 -- Train Loss: 0.0236, Val Loss: 0.0291, Val Acc: 6.25%\n",
            "Saved epoch checkpoint: checkpoints/epoch_checkpoint_122.pth\n"
          ]
        },
        {
          "name": "stderr",
          "output_type": "stream",
          "text": [
            " ... (more hidden) ..."
          ]
        },
        {
          "name": "stdout",
          "output_type": "stream",
          "text": [
            "Epoch 123/500 -- Train Loss: 0.0246, Val Loss: 0.0466, Val Acc: 6.85%\n",
            "Saved epoch checkpoint: checkpoints/epoch_checkpoint_123.pth\n"
          ]
        },
        {
          "name": "stderr",
          "output_type": "stream",
          "text": [
            " ... (more hidden) ..."
          ]
        },
        {
          "name": "stdout",
          "output_type": "stream",
          "text": [
            "Epoch 124/500 -- Train Loss: 0.0236, Val Loss: 0.0360, Val Acc: 6.79%\n",
            "Saved epoch checkpoint: checkpoints/epoch_checkpoint_124.pth\n"
          ]
        },
        {
          "name": "stderr",
          "output_type": "stream",
          "text": [
            " ... (more hidden) ..."
          ]
        },
        {
          "name": "stdout",
          "output_type": "stream",
          "text": [
            "Epoch 125/500 -- Train Loss: 0.0252, Val Loss: 0.0335, Val Acc: 6.71%\n",
            "Saved epoch checkpoint: checkpoints/epoch_checkpoint_125.pth\n"
          ]
        },
        {
          "name": "stderr",
          "output_type": "stream",
          "text": [
            " ... (more hidden) ..."
          ]
        },
        {
          "name": "stdout",
          "output_type": "stream",
          "text": [
            "Epoch 126/500 -- Train Loss: 0.0237, Val Loss: 0.0349, Val Acc: 6.79%\n",
            "Saved epoch checkpoint: checkpoints/epoch_checkpoint_126.pth\n"
          ]
        },
        {
          "name": "stderr",
          "output_type": "stream",
          "text": [
            " ... (more hidden) ..."
          ]
        },
        {
          "name": "stdout",
          "output_type": "stream",
          "text": [
            "Epoch 127/500 -- Train Loss: 0.0220, Val Loss: 0.0364, Val Acc: 6.88%\n",
            "Saved epoch checkpoint: checkpoints/epoch_checkpoint_127.pth\n"
          ]
        },
        {
          "name": "stderr",
          "output_type": "stream",
          "text": [
            " ... (more hidden) ..."
          ]
        },
        {
          "name": "stdout",
          "output_type": "stream",
          "text": [
            "Epoch 128/500 -- Train Loss: 0.0229, Val Loss: 0.0316, Val Acc: 6.72%\n",
            "Saved epoch checkpoint: checkpoints/epoch_checkpoint_128.pth\n"
          ]
        },
        {
          "name": "stderr",
          "output_type": "stream",
          "text": [
            " ... (more hidden) ..."
          ]
        },
        {
          "name": "stdout",
          "output_type": "stream",
          "text": [
            "Epoch 129/500 -- Train Loss: 0.0241, Val Loss: 0.0362, Val Acc: 6.93%\n",
            "Saved epoch checkpoint: checkpoints/epoch_checkpoint_129.pth\n"
          ]
        },
        {
          "name": "stderr",
          "output_type": "stream",
          "text": [
            " ... (more hidden) ..."
          ]
        },
        {
          "name": "stdout",
          "output_type": "stream",
          "text": [
            "Epoch 130/500 -- Train Loss: 0.0249, Val Loss: 0.0330, Val Acc: 6.66%\n",
            "Saved epoch checkpoint: checkpoints/epoch_checkpoint_130.pth\n"
          ]
        },
        {
          "name": "stderr",
          "output_type": "stream",
          "text": [
            " ... (more hidden) ..."
          ]
        },
        {
          "name": "stdout",
          "output_type": "stream",
          "text": [
            "Epoch 131/500 -- Train Loss: 0.0261, Val Loss: 0.0330, Val Acc: 6.74%\n",
            "Saved epoch checkpoint: checkpoints/epoch_checkpoint_131.pth\n"
          ]
        },
        {
          "name": "stderr",
          "output_type": "stream",
          "text": [
            " ... (more hidden) ..."
          ]
        },
        {
          "name": "stdout",
          "output_type": "stream",
          "text": [
            "Epoch 132/500 -- Train Loss: 0.0242, Val Loss: 0.0398, Val Acc: 6.68%\n",
            "Saved epoch checkpoint: checkpoints/epoch_checkpoint_132.pth\n"
          ]
        },
        {
          "name": "stderr",
          "output_type": "stream",
          "text": [
            " ... (more hidden) ..."
          ]
        },
        {
          "name": "stdout",
          "output_type": "stream",
          "text": [
            "Epoch 133/500 -- Train Loss: 0.0237, Val Loss: 0.0352, Val Acc: 6.79%\n",
            "Saved epoch checkpoint: checkpoints/epoch_checkpoint_133.pth\n"
          ]
        },
        {
          "name": "stderr",
          "output_type": "stream",
          "text": [
            " ... (more hidden) ..."
          ]
        },
        {
          "name": "stdout",
          "output_type": "stream",
          "text": [
            "Epoch 134/500 -- Train Loss: 0.0240, Val Loss: 0.0296, Val Acc: 6.74%\n",
            "Saved epoch checkpoint: checkpoints/epoch_checkpoint_134.pth\n"
          ]
        },
        {
          "name": "stderr",
          "output_type": "stream",
          "text": [
            " ... (more hidden) ..."
          ]
        },
        {
          "name": "stdout",
          "output_type": "stream",
          "text": [
            "Epoch 135/500 -- Train Loss: 0.0258, Val Loss: 0.0327, Val Acc: 7.24%\n",
            "Saved epoch checkpoint: checkpoints/epoch_checkpoint_135.pth\n"
          ]
        },
        {
          "name": "stderr",
          "output_type": "stream",
          "text": [
            " ... (more hidden) ..."
          ]
        },
        {
          "name": "stdout",
          "output_type": "stream",
          "text": [
            "Epoch 136/500 -- Train Loss: 0.0234, Val Loss: 0.0317, Val Acc: 6.60%\n",
            "Saved epoch checkpoint: checkpoints/epoch_checkpoint_136.pth\n"
          ]
        },
        {
          "name": "stderr",
          "output_type": "stream",
          "text": [
            " ... (more hidden) ..."
          ]
        },
        {
          "name": "stdout",
          "output_type": "stream",
          "text": [
            "Epoch 137/500 -- Train Loss: 0.0248, Val Loss: 0.0401, Val Acc: 6.93%\n",
            "Saved epoch checkpoint: checkpoints/epoch_checkpoint_137.pth\n"
          ]
        },
        {
          "name": "stderr",
          "output_type": "stream",
          "text": [
            " ... (more hidden) ..."
          ]
        },
        {
          "name": "stdout",
          "output_type": "stream",
          "text": [
            "Epoch 138/500 -- Train Loss: 0.0233, Val Loss: 0.0315, Val Acc: 6.74%\n",
            "Saved epoch checkpoint: checkpoints/epoch_checkpoint_138.pth\n"
          ]
        },
        {
          "name": "stderr",
          "output_type": "stream",
          "text": [
            " ... (more hidden) ..."
          ]
        },
        {
          "name": "stdout",
          "output_type": "stream",
          "text": [
            "Epoch 139/500 -- Train Loss: 0.0241, Val Loss: 0.0359, Val Acc: 7.16%\n",
            "Saved epoch checkpoint: checkpoints/epoch_checkpoint_139.pth\n"
          ]
        },
        {
          "name": "stderr",
          "output_type": "stream",
          "text": [
            " ... (more hidden) ..."
          ]
        },
        {
          "name": "stdout",
          "output_type": "stream",
          "text": [
            "Epoch 140/500 -- Train Loss: 0.0246, Val Loss: 0.0310, Val Acc: 6.97%\n",
            "Saved epoch checkpoint: checkpoints/epoch_checkpoint_140.pth\n"
          ]
        },
        {
          "name": "stderr",
          "output_type": "stream",
          "text": [
            " ... (more hidden) ..."
          ]
        },
        {
          "name": "stdout",
          "output_type": "stream",
          "text": [
            "Epoch 141/500 -- Train Loss: 0.0232, Val Loss: 0.0293, Val Acc: 6.75%\n",
            "Saved epoch checkpoint: checkpoints/epoch_checkpoint_141.pth\n"
          ]
        },
        {
          "name": "stderr",
          "output_type": "stream",
          "text": [
            " ... (more hidden) ..."
          ]
        },
        {
          "name": "stdout",
          "output_type": "stream",
          "text": [
            "Epoch 142/500 -- Train Loss: 0.0233, Val Loss: 0.0443, Val Acc: 6.74%\n",
            "Saved epoch checkpoint: checkpoints/epoch_checkpoint_142.pth\n"
          ]
        },
        {
          "name": "stderr",
          "output_type": "stream",
          "text": [
            " ... (more hidden) ..."
          ]
        },
        {
          "name": "stdout",
          "output_type": "stream",
          "text": [
            "Epoch 143/500 -- Train Loss: 0.0236, Val Loss: 0.0314, Val Acc: 6.63%\n",
            "Saved epoch checkpoint: checkpoints/epoch_checkpoint_143.pth\n"
          ]
        },
        {
          "name": "stderr",
          "output_type": "stream",
          "text": [
            " ... (more hidden) ..."
          ]
        },
        {
          "name": "stdout",
          "output_type": "stream",
          "text": [
            "Epoch 144/500 -- Train Loss: 0.0248, Val Loss: 0.0317, Val Acc: 6.93%\n",
            "Saved epoch checkpoint: checkpoints/epoch_checkpoint_144.pth\n"
          ]
        },
        {
          "name": "stderr",
          "output_type": "stream",
          "text": [
            " ... (more hidden) ..."
          ]
        },
        {
          "name": "stdout",
          "output_type": "stream",
          "text": [
            "Epoch 145/500 -- Train Loss: 0.0235, Val Loss: 0.0318, Val Acc: 6.82%\n",
            "Saved epoch checkpoint: checkpoints/epoch_checkpoint_145.pth\n"
          ]
        },
        {
          "name": "stderr",
          "output_type": "stream",
          "text": [
            " ... (more hidden) ..."
          ]
        },
        {
          "name": "stdout",
          "output_type": "stream",
          "text": [
            "Epoch 146/500 -- Train Loss: 0.0243, Val Loss: 0.0381, Val Acc: 6.82%\n",
            "Saved epoch checkpoint: checkpoints/epoch_checkpoint_146.pth\n"
          ]
        },
        {
          "name": "stderr",
          "output_type": "stream",
          "text": [
            " ... (more hidden) ..."
          ]
        },
        {
          "name": "stdout",
          "output_type": "stream",
          "text": [
            "Epoch 147/500 -- Train Loss: 0.0248, Val Loss: 0.0326, Val Acc: 7.19%\n",
            "Saved epoch checkpoint: checkpoints/epoch_checkpoint_147.pth\n"
          ]
        },
        {
          "name": "stderr",
          "output_type": "stream",
          "text": [
            " ... (more hidden) ..."
          ]
        },
        {
          "name": "stdout",
          "output_type": "stream",
          "text": [
            "Epoch 148/500 -- Train Loss: 0.0246, Val Loss: 0.0306, Val Acc: 6.89%\n",
            "Saved epoch checkpoint: checkpoints/epoch_checkpoint_148.pth\n"
          ]
        },
        {
          "name": "stderr",
          "output_type": "stream",
          "text": [
            " ... (more hidden) ..."
          ]
        },
        {
          "name": "stdout",
          "output_type": "stream",
          "text": [
            "Epoch 149/500 -- Train Loss: 0.0241, Val Loss: 0.0334, Val Acc: 6.77%\n",
            "Saved epoch checkpoint: checkpoints/epoch_checkpoint_149.pth\n"
          ]
        },
        {
          "name": "stderr",
          "output_type": "stream",
          "text": [
            " ... (more hidden) ..."
          ]
        },
        {
          "name": "stdout",
          "output_type": "stream",
          "text": [
            "Epoch 150/500 -- Train Loss: 0.0237, Val Loss: 0.0381, Val Acc: 6.93%\n",
            "Saved epoch checkpoint: checkpoints/epoch_checkpoint_150.pth\n"
          ]
        },
        {
          "name": "stderr",
          "output_type": "stream",
          "text": [
            " ... (more hidden) ..."
          ]
        },
        {
          "name": "stdout",
          "output_type": "stream",
          "text": [
            "Epoch 151/500 -- Train Loss: 0.0230, Val Loss: 0.0383, Val Acc: 7.02%\n",
            "Saved epoch checkpoint: checkpoints/epoch_checkpoint_151.pth\n"
          ]
        },
        {
          "name": "stderr",
          "output_type": "stream",
          "text": [
            " ... (more hidden) ..."
          ]
        },
        {
          "name": "stdout",
          "output_type": "stream",
          "text": [
            "Epoch 152/500 -- Train Loss: 0.0245, Val Loss: 0.0371, Val Acc: 6.82%\n",
            "Saved epoch checkpoint: checkpoints/epoch_checkpoint_152.pth\n"
          ]
        },
        {
          "name": "stderr",
          "output_type": "stream",
          "text": [
            " ... (more hidden) ..."
          ]
        },
        {
          "name": "stdout",
          "output_type": "stream",
          "text": [
            "Epoch 153/500 -- Train Loss: 0.0238, Val Loss: 0.0347, Val Acc: 6.72%\n",
            "Saved epoch checkpoint: checkpoints/epoch_checkpoint_153.pth\n"
          ]
        },
        {
          "name": "stderr",
          "output_type": "stream",
          "text": [
            " ... (more hidden) ..."
          ]
        },
        {
          "name": "stdout",
          "output_type": "stream",
          "text": [
            "Epoch 154/500 -- Train Loss: 0.0249, Val Loss: 0.0342, Val Acc: 6.97%\n",
            "Saved epoch checkpoint: checkpoints/epoch_checkpoint_154.pth\n"
          ]
        },
        {
          "name": "stderr",
          "output_type": "stream",
          "text": [
            " ... (more hidden) ..."
          ]
        },
        {
          "name": "stdout",
          "output_type": "stream",
          "text": [
            "Epoch 155/500 -- Train Loss: 0.0245, Val Loss: 0.0364, Val Acc: 7.11%\n",
            "Saved epoch checkpoint: checkpoints/epoch_checkpoint_155.pth\n"
          ]
        },
        {
          "name": "stderr",
          "output_type": "stream",
          "text": [
            " ... (more hidden) ..."
          ]
        },
        {
          "name": "stdout",
          "output_type": "stream",
          "text": [
            "Epoch 156/500 -- Train Loss: 0.0237, Val Loss: 0.0317, Val Acc: 6.88%\n",
            "Saved epoch checkpoint: checkpoints/epoch_checkpoint_156.pth\n"
          ]
        },
        {
          "name": "stderr",
          "output_type": "stream",
          "text": [
            " ... (more hidden) ..."
          ]
        },
        {
          "name": "stdout",
          "output_type": "stream",
          "text": [
            "Epoch 157/500 -- Train Loss: 0.0240, Val Loss: 0.0394, Val Acc: 7.00%\n",
            "Saved epoch checkpoint: checkpoints/epoch_checkpoint_157.pth\n"
          ]
        },
        {
          "name": "stderr",
          "output_type": "stream",
          "text": [
            " ... (more hidden) ..."
          ]
        },
        {
          "name": "stdout",
          "output_type": "stream",
          "text": [
            "Epoch 158/500 -- Train Loss: 0.0246, Val Loss: 0.0368, Val Acc: 6.58%\n",
            "Saved epoch checkpoint: checkpoints/epoch_checkpoint_158.pth\n"
          ]
        },
        {
          "name": "stderr",
          "output_type": "stream",
          "text": [
            " ... (more hidden) ..."
          ]
        },
        {
          "name": "stdout",
          "output_type": "stream",
          "text": [
            "Epoch 159/500 -- Train Loss: 0.0229, Val Loss: 0.0349, Val Acc: 6.83%\n",
            "Saved epoch checkpoint: checkpoints/epoch_checkpoint_159.pth\n"
          ]
        },
        {
          "name": "stderr",
          "output_type": "stream",
          "text": [
            " ... (more hidden) ..."
          ]
        },
        {
          "name": "stdout",
          "output_type": "stream",
          "text": [
            "Epoch 160/500 -- Train Loss: 0.0251, Val Loss: 0.0303, Val Acc: 6.83%\n",
            "Saved epoch checkpoint: checkpoints/epoch_checkpoint_160.pth\n"
          ]
        },
        {
          "name": "stderr",
          "output_type": "stream",
          "text": [
            " ... (more hidden) ..."
          ]
        },
        {
          "name": "stdout",
          "output_type": "stream",
          "text": [
            "Epoch 161/500 -- Train Loss: 0.0243, Val Loss: 0.0304, Val Acc: 6.82%\n",
            "Saved epoch checkpoint: checkpoints/epoch_checkpoint_161.pth\n"
          ]
        },
        {
          "name": "stderr",
          "output_type": "stream",
          "text": [
            " ... (more hidden) ..."
          ]
        },
        {
          "name": "stdout",
          "output_type": "stream",
          "text": [
            "Epoch 162/500 -- Train Loss: 0.0241, Val Loss: 0.0341, Val Acc: 6.75%\n",
            "Saved epoch checkpoint: checkpoints/epoch_checkpoint_162.pth\n"
          ]
        },
        {
          "name": "stderr",
          "output_type": "stream",
          "text": [
            " ... (more hidden) ..."
          ]
        },
        {
          "name": "stdout",
          "output_type": "stream",
          "text": [
            "Epoch 163/500 -- Train Loss: 0.0239, Val Loss: 0.0417, Val Acc: 6.89%\n",
            "Saved epoch checkpoint: checkpoints/epoch_checkpoint_163.pth\n"
          ]
        },
        {
          "name": "stderr",
          "output_type": "stream",
          "text": [
            " ... (more hidden) ..."
          ]
        },
        {
          "name": "stdout",
          "output_type": "stream",
          "text": [
            "Epoch 164/500 -- Train Loss: 0.0228, Val Loss: 0.0354, Val Acc: 6.63%\n",
            "Saved epoch checkpoint: checkpoints/epoch_checkpoint_164.pth\n"
          ]
        },
        {
          "name": "stderr",
          "output_type": "stream",
          "text": [
            " ... (more hidden) ..."
          ]
        },
        {
          "name": "stdout",
          "output_type": "stream",
          "text": [
            "Epoch 165/500 -- Train Loss: 0.0239, Val Loss: 0.0407, Val Acc: 7.05%\n",
            "Saved epoch checkpoint: checkpoints/epoch_checkpoint_165.pth\n"
          ]
        },
        {
          "name": "stderr",
          "output_type": "stream",
          "text": [
            " ... (more hidden) ..."
          ]
        },
        {
          "name": "stdout",
          "output_type": "stream",
          "text": [
            "Epoch 166/500 -- Train Loss: 0.0235, Val Loss: 0.0316, Val Acc: 6.50%\n",
            "Saved epoch checkpoint: checkpoints/epoch_checkpoint_166.pth\n"
          ]
        },
        {
          "name": "stderr",
          "output_type": "stream",
          "text": [
            " ... (more hidden) ..."
          ]
        },
        {
          "name": "stdout",
          "output_type": "stream",
          "text": [
            "Epoch 167/500 -- Train Loss: 0.0252, Val Loss: 0.0324, Val Acc: 6.96%\n",
            "Saved epoch checkpoint: checkpoints/epoch_checkpoint_167.pth\n"
          ]
        },
        {
          "name": "stderr",
          "output_type": "stream",
          "text": [
            " ... (more hidden) ..."
          ]
        },
        {
          "name": "stdout",
          "output_type": "stream",
          "text": [
            "Epoch 168/500 -- Train Loss: 0.0242, Val Loss: 0.0382, Val Acc: 6.93%\n",
            "Saved epoch checkpoint: checkpoints/epoch_checkpoint_168.pth\n"
          ]
        },
        {
          "name": "stderr",
          "output_type": "stream",
          "text": [
            " ... (more hidden) ..."
          ]
        },
        {
          "name": "stdout",
          "output_type": "stream",
          "text": [
            "Epoch 169/500 -- Train Loss: 0.0233, Val Loss: 0.0350, Val Acc: 6.50%\n",
            "Saved epoch checkpoint: checkpoints/epoch_checkpoint_169.pth\n"
          ]
        },
        {
          "name": "stderr",
          "output_type": "stream",
          "text": [
            " ... (more hidden) ..."
          ]
        },
        {
          "name": "stdout",
          "output_type": "stream",
          "text": [
            "Epoch 170/500 -- Train Loss: 0.0252, Val Loss: 0.0366, Val Acc: 6.66%\n",
            "Saved epoch checkpoint: checkpoints/epoch_checkpoint_170.pth\n"
          ]
        },
        {
          "name": "stderr",
          "output_type": "stream",
          "text": [
            " ... (more hidden) ..."
          ]
        },
        {
          "name": "stdout",
          "output_type": "stream",
          "text": [
            "Epoch 171/500 -- Train Loss: 0.0244, Val Loss: 0.0335, Val Acc: 6.91%\n",
            "Saved epoch checkpoint: checkpoints/epoch_checkpoint_171.pth\n"
          ]
        },
        {
          "name": "stderr",
          "output_type": "stream",
          "text": [
            " ... (more hidden) ..."
          ]
        },
        {
          "name": "stdout",
          "output_type": "stream",
          "text": [
            "Epoch 172/500 -- Train Loss: 0.0242, Val Loss: 0.0433, Val Acc: 6.91%\n",
            "Saved epoch checkpoint: checkpoints/epoch_checkpoint_172.pth\n"
          ]
        },
        {
          "name": "stderr",
          "output_type": "stream",
          "text": [
            " ... (more hidden) ..."
          ]
        },
        {
          "name": "stdout",
          "output_type": "stream",
          "text": [
            "Epoch 173/500 -- Train Loss: 0.0229, Val Loss: 0.0317, Val Acc: 6.69%\n",
            "Saved epoch checkpoint: checkpoints/epoch_checkpoint_173.pth\n"
          ]
        },
        {
          "name": "stderr",
          "output_type": "stream",
          "text": [
            " ... (more hidden) ..."
          ]
        },
        {
          "name": "stdout",
          "output_type": "stream",
          "text": [
            "Epoch 174/500 -- Train Loss: 0.0229, Val Loss: 0.0365, Val Acc: 6.82%\n",
            "Saved epoch checkpoint: checkpoints/epoch_checkpoint_174.pth\n"
          ]
        },
        {
          "name": "stderr",
          "output_type": "stream",
          "text": [
            " ... (more hidden) ..."
          ]
        },
        {
          "name": "stdout",
          "output_type": "stream",
          "text": [
            "Epoch 175/500 -- Train Loss: 0.0241, Val Loss: 0.0424, Val Acc: 6.75%\n",
            "Saved epoch checkpoint: checkpoints/epoch_checkpoint_175.pth\n"
          ]
        },
        {
          "name": "stderr",
          "output_type": "stream",
          "text": [
            " ... (more hidden) ..."
          ]
        },
        {
          "name": "stdout",
          "output_type": "stream",
          "text": [
            "Epoch 176/500 -- Train Loss: 0.0230, Val Loss: 0.0297, Val Acc: 6.68%\n",
            "Saved epoch checkpoint: checkpoints/epoch_checkpoint_176.pth\n"
          ]
        },
        {
          "name": "stderr",
          "output_type": "stream",
          "text": [
            " ... (more hidden) ..."
          ]
        },
        {
          "name": "stdout",
          "output_type": "stream",
          "text": [
            "Epoch 177/500 -- Train Loss: 0.0242, Val Loss: 0.0475, Val Acc: 6.85%\n",
            "Saved epoch checkpoint: checkpoints/epoch_checkpoint_177.pth\n"
          ]
        },
        {
          "name": "stderr",
          "output_type": "stream",
          "text": [
            " ... (more hidden) ..."
          ]
        },
        {
          "name": "stdout",
          "output_type": "stream",
          "text": [
            "Epoch 178/500 -- Train Loss: 0.0241, Val Loss: 0.0367, Val Acc: 6.99%\n",
            "Saved epoch checkpoint: checkpoints/epoch_checkpoint_178.pth\n"
          ]
        },
        {
          "name": "stderr",
          "output_type": "stream",
          "text": [
            " ... (more hidden) ..."
          ]
        },
        {
          "name": "stdout",
          "output_type": "stream",
          "text": [
            "Epoch 179/500 -- Train Loss: 0.0225, Val Loss: 0.0332, Val Acc: 6.82%\n",
            "Saved epoch checkpoint: checkpoints/epoch_checkpoint_179.pth\n"
          ]
        },
        {
          "name": "stderr",
          "output_type": "stream",
          "text": [
            " ... (more hidden) ..."
          ]
        },
        {
          "name": "stdout",
          "output_type": "stream",
          "text": [
            "Epoch 180/500 -- Train Loss: 0.0242, Val Loss: 0.0328, Val Acc: 6.69%\n",
            "Saved epoch checkpoint: checkpoints/epoch_checkpoint_180.pth\n"
          ]
        },
        {
          "name": "stderr",
          "output_type": "stream",
          "text": [
            " ... (more hidden) ..."
          ]
        },
        {
          "name": "stdout",
          "output_type": "stream",
          "text": [
            "Epoch 181/500 -- Train Loss: 0.0232, Val Loss: 0.0271, Val Acc: 6.82%\n",
            "Saved epoch checkpoint: checkpoints/epoch_checkpoint_181.pth\n"
          ]
        },
        {
          "name": "stderr",
          "output_type": "stream",
          "text": [
            " ... (more hidden) ..."
          ]
        },
        {
          "name": "stdout",
          "output_type": "stream",
          "text": [
            "Epoch 182/500 -- Train Loss: 0.0236, Val Loss: 0.0324, Val Acc: 6.57%\n",
            "Saved epoch checkpoint: checkpoints/epoch_checkpoint_182.pth\n"
          ]
        },
        {
          "name": "stderr",
          "output_type": "stream",
          "text": [
            " ... (more hidden) ..."
          ]
        },
        {
          "name": "stdout",
          "output_type": "stream",
          "text": [
            "Epoch 183/500 -- Train Loss: 0.0232, Val Loss: 0.0342, Val Acc: 6.86%\n",
            "Saved epoch checkpoint: checkpoints/epoch_checkpoint_183.pth\n"
          ]
        },
        {
          "name": "stderr",
          "output_type": "stream",
          "text": [
            " ... (more hidden) ..."
          ]
        },
        {
          "name": "stdout",
          "output_type": "stream",
          "text": [
            "Epoch 184/500 -- Train Loss: 0.0237, Val Loss: 0.0323, Val Acc: 6.89%\n",
            "Saved epoch checkpoint: checkpoints/epoch_checkpoint_184.pth\n"
          ]
        },
        {
          "name": "stderr",
          "output_type": "stream",
          "text": [
            " ... (more hidden) ..."
          ]
        },
        {
          "name": "stdout",
          "output_type": "stream",
          "text": [
            "Epoch 185/500 -- Train Loss: 0.0236, Val Loss: 0.0330, Val Acc: 7.05%\n",
            "Saved epoch checkpoint: checkpoints/epoch_checkpoint_185.pth\n"
          ]
        },
        {
          "name": "stderr",
          "output_type": "stream",
          "text": [
            " ... (more hidden) ..."
          ]
        },
        {
          "name": "stdout",
          "output_type": "stream",
          "text": [
            "Epoch 186/500 -- Train Loss: 0.0237, Val Loss: 0.0350, Val Acc: 7.07%\n",
            "Saved epoch checkpoint: checkpoints/epoch_checkpoint_186.pth\n"
          ]
        },
        {
          "name": "stderr",
          "output_type": "stream",
          "text": [
            " ... (more hidden) ..."
          ]
        },
        {
          "name": "stdout",
          "output_type": "stream",
          "text": [
            "Epoch 187/500 -- Train Loss: 0.0239, Val Loss: 0.0336, Val Acc: 6.88%\n",
            "Saved epoch checkpoint: checkpoints/epoch_checkpoint_187.pth\n"
          ]
        },
        {
          "name": "stderr",
          "output_type": "stream",
          "text": [
            " ... (more hidden) ..."
          ]
        },
        {
          "name": "stdout",
          "output_type": "stream",
          "text": [
            "Epoch 188/500 -- Train Loss: 0.0235, Val Loss: 0.0281, Val Acc: 6.89%\n",
            "Saved epoch checkpoint: checkpoints/epoch_checkpoint_188.pth\n"
          ]
        },
        {
          "name": "stderr",
          "output_type": "stream",
          "text": [
            " ... (more hidden) ..."
          ]
        },
        {
          "name": "stdout",
          "output_type": "stream",
          "text": [
            "Epoch 189/500 -- Train Loss: 0.0234, Val Loss: 0.0361, Val Acc: 6.61%\n",
            "Saved epoch checkpoint: checkpoints/epoch_checkpoint_189.pth\n"
          ]
        },
        {
          "name": "stderr",
          "output_type": "stream",
          "text": [
            " ... (more hidden) ..."
          ]
        },
        {
          "name": "stdout",
          "output_type": "stream",
          "text": [
            "Epoch 190/500 -- Train Loss: 0.0233, Val Loss: 0.0331, Val Acc: 6.96%\n",
            "Saved epoch checkpoint: checkpoints/epoch_checkpoint_190.pth\n"
          ]
        },
        {
          "name": "stderr",
          "output_type": "stream",
          "text": [
            " ... (more hidden) ..."
          ]
        },
        {
          "name": "stdout",
          "output_type": "stream",
          "text": [
            "Epoch 191/500 -- Train Loss: 0.0231, Val Loss: 0.0287, Val Acc: 6.94%\n",
            "Saved epoch checkpoint: checkpoints/epoch_checkpoint_191.pth\n"
          ]
        },
        {
          "name": "stderr",
          "output_type": "stream",
          "text": [
            " ... (more hidden) ..."
          ]
        },
        {
          "name": "stdout",
          "output_type": "stream",
          "text": [
            "Epoch 192/500 -- Train Loss: 0.0251, Val Loss: 0.0305, Val Acc: 6.82%\n",
            "Saved epoch checkpoint: checkpoints/epoch_checkpoint_192.pth\n"
          ]
        },
        {
          "name": "stderr",
          "output_type": "stream",
          "text": [
            " ... (more hidden) ..."
          ]
        },
        {
          "name": "stdout",
          "output_type": "stream",
          "text": [
            "Epoch 193/500 -- Train Loss: 0.0246, Val Loss: 0.0348, Val Acc: 6.66%\n",
            "Saved epoch checkpoint: checkpoints/epoch_checkpoint_193.pth\n"
          ]
        },
        {
          "name": "stderr",
          "output_type": "stream",
          "text": [
            " ... (more hidden) ..."
          ]
        },
        {
          "name": "stdout",
          "output_type": "stream",
          "text": [
            "Epoch 194/500 -- Train Loss: 0.0246, Val Loss: 0.0431, Val Acc: 6.83%\n",
            "Saved epoch checkpoint: checkpoints/epoch_checkpoint_194.pth\n"
          ]
        },
        {
          "name": "stderr",
          "output_type": "stream",
          "text": [
            " ... (more hidden) ..."
          ]
        },
        {
          "name": "stdout",
          "output_type": "stream",
          "text": [
            "Epoch 195/500 -- Train Loss: 0.0247, Val Loss: 0.0329, Val Acc: 6.74%\n",
            "Saved epoch checkpoint: checkpoints/epoch_checkpoint_195.pth\n"
          ]
        },
        {
          "name": "stderr",
          "output_type": "stream",
          "text": [
            " ... (more hidden) ..."
          ]
        },
        {
          "name": "stdout",
          "output_type": "stream",
          "text": [
            "Epoch 196/500 -- Train Loss: 0.0232, Val Loss: 0.0338, Val Acc: 6.82%\n",
            "Saved epoch checkpoint: checkpoints/epoch_checkpoint_196.pth\n"
          ]
        },
        {
          "name": "stderr",
          "output_type": "stream",
          "text": [
            " ... (more hidden) ..."
          ]
        },
        {
          "name": "stdout",
          "output_type": "stream",
          "text": [
            "Epoch 197/500 -- Train Loss: 0.0232, Val Loss: 0.0328, Val Acc: 6.88%\n",
            "Saved epoch checkpoint: checkpoints/epoch_checkpoint_197.pth\n"
          ]
        },
        {
          "name": "stderr",
          "output_type": "stream",
          "text": [
            " ... (more hidden) ..."
          ]
        },
        {
          "name": "stdout",
          "output_type": "stream",
          "text": [
            "Epoch 198/500 -- Train Loss: 0.0239, Val Loss: 0.0311, Val Acc: 6.74%\n",
            "Saved epoch checkpoint: checkpoints/epoch_checkpoint_198.pth\n"
          ]
        },
        {
          "name": "stderr",
          "output_type": "stream",
          "text": [
            " ... (more hidden) ..."
          ]
        },
        {
          "name": "stdout",
          "output_type": "stream",
          "text": [
            "Epoch 199/500 -- Train Loss: 0.0244, Val Loss: 0.0303, Val Acc: 6.64%\n",
            "Saved epoch checkpoint: checkpoints/epoch_checkpoint_199.pth\n"
          ]
        },
        {
          "name": "stderr",
          "output_type": "stream",
          "text": [
            " ... (more hidden) ..."
          ]
        },
        {
          "name": "stdout",
          "output_type": "stream",
          "text": [
            "Epoch 200/500 -- Train Loss: 0.0231, Val Loss: 0.0315, Val Acc: 6.60%\n",
            "Saved epoch checkpoint: checkpoints/epoch_checkpoint_200.pth\n"
          ]
        },
        {
          "name": "stderr",
          "output_type": "stream",
          "text": [
            " ... (more hidden) ..."
          ]
        },
        {
          "name": "stdout",
          "output_type": "stream",
          "text": [
            "Epoch 201/500 -- Train Loss: 0.0222, Val Loss: 0.0451, Val Acc: 6.75%\n",
            "Saved epoch checkpoint: checkpoints/epoch_checkpoint_201.pth\n"
          ]
        },
        {
          "name": "stderr",
          "output_type": "stream",
          "text": [
            " ... (more hidden) ..."
          ]
        },
        {
          "name": "stdout",
          "output_type": "stream",
          "text": [
            "Epoch 202/500 -- Train Loss: 0.0233, Val Loss: 0.0357, Val Acc: 6.69%\n",
            "Saved epoch checkpoint: checkpoints/epoch_checkpoint_202.pth\n"
          ]
        },
        {
          "name": "stderr",
          "output_type": "stream",
          "text": [
            " ... (more hidden) ..."
          ]
        },
        {
          "name": "stdout",
          "output_type": "stream",
          "text": [
            "Epoch 203/500 -- Train Loss: 0.0229, Val Loss: 0.0342, Val Acc: 6.44%\n",
            "Saved epoch checkpoint: checkpoints/epoch_checkpoint_203.pth\n"
          ]
        },
        {
          "name": "stderr",
          "output_type": "stream",
          "text": [
            " ... (more hidden) ..."
          ]
        },
        {
          "name": "stdout",
          "output_type": "stream",
          "text": [
            "Epoch 204/500 -- Train Loss: 0.0234, Val Loss: 0.0291, Val Acc: 6.55%\n",
            "Saved epoch checkpoint: checkpoints/epoch_checkpoint_204.pth\n"
          ]
        },
        {
          "name": "stderr",
          "output_type": "stream",
          "text": [
            " ... (more hidden) ..."
          ]
        },
        {
          "name": "stdout",
          "output_type": "stream",
          "text": [
            "Epoch 205/500 -- Train Loss: 0.0228, Val Loss: 0.0314, Val Acc: 6.41%\n",
            "Saved epoch checkpoint: checkpoints/epoch_checkpoint_205.pth\n"
          ]
        },
        {
          "name": "stderr",
          "output_type": "stream",
          "text": [
            " ... (more hidden) ..."
          ]
        },
        {
          "name": "stdout",
          "output_type": "stream",
          "text": [
            "Epoch 206/500 -- Train Loss: 0.0236, Val Loss: 0.0336, Val Acc: 6.86%\n",
            "Saved epoch checkpoint: checkpoints/epoch_checkpoint_206.pth\n"
          ]
        },
        {
          "name": "stderr",
          "output_type": "stream",
          "text": [
            " ... (more hidden) ..."
          ]
        },
        {
          "name": "stdout",
          "output_type": "stream",
          "text": [
            "Epoch 207/500 -- Train Loss: 0.0225, Val Loss: 0.0373, Val Acc: 6.82%\n",
            "Saved epoch checkpoint: checkpoints/epoch_checkpoint_207.pth\n"
          ]
        },
        {
          "name": "stderr",
          "output_type": "stream",
          "text": [
            " ... (more hidden) ..."
          ]
        },
        {
          "name": "stdout",
          "output_type": "stream",
          "text": [
            "Epoch 208/500 -- Train Loss: 0.0232, Val Loss: 0.0311, Val Acc: 6.93%\n",
            "Saved epoch checkpoint: checkpoints/epoch_checkpoint_208.pth\n"
          ]
        },
        {
          "name": "stderr",
          "output_type": "stream",
          "text": [
            " ... (more hidden) ..."
          ]
        },
        {
          "name": "stdout",
          "output_type": "stream",
          "text": [
            "Epoch 209/500 -- Train Loss: 0.0226, Val Loss: 0.0355, Val Acc: 6.91%\n",
            "Saved epoch checkpoint: checkpoints/epoch_checkpoint_209.pth\n"
          ]
        },
        {
          "name": "stderr",
          "output_type": "stream",
          "text": [
            " ... (more hidden) ..."
          ]
        },
        {
          "name": "stdout",
          "output_type": "stream",
          "text": [
            "Epoch 210/500 -- Train Loss: 0.0229, Val Loss: 0.0300, Val Acc: 6.79%\n",
            "Saved epoch checkpoint: checkpoints/epoch_checkpoint_210.pth\n"
          ]
        },
        {
          "name": "stderr",
          "output_type": "stream",
          "text": [
            " ... (more hidden) ..."
          ]
        },
        {
          "name": "stdout",
          "output_type": "stream",
          "text": [
            "Epoch 211/500 -- Train Loss: 0.0225, Val Loss: 0.0301, Val Acc: 6.71%\n",
            "Saved epoch checkpoint: checkpoints/epoch_checkpoint_211.pth\n"
          ]
        },
        {
          "name": "stderr",
          "output_type": "stream",
          "text": [
            " ... (more hidden) ..."
          ]
        },
        {
          "name": "stdout",
          "output_type": "stream",
          "text": [
            "Epoch 212/500 -- Train Loss: 0.0239, Val Loss: 0.0297, Val Acc: 6.79%\n",
            "Saved epoch checkpoint: checkpoints/epoch_checkpoint_212.pth\n"
          ]
        },
        {
          "name": "stderr",
          "output_type": "stream",
          "text": [
            " ... (more hidden) ..."
          ]
        },
        {
          "name": "stdout",
          "output_type": "stream",
          "text": [
            "Epoch 213/500 -- Train Loss: 0.0229, Val Loss: 0.0429, Val Acc: 6.91%\n",
            "Saved epoch checkpoint: checkpoints/epoch_checkpoint_213.pth\n"
          ]
        },
        {
          "name": "stderr",
          "output_type": "stream",
          "text": [
            " ... (more hidden) ..."
          ]
        },
        {
          "name": "stdout",
          "output_type": "stream",
          "text": [
            "Epoch 214/500 -- Train Loss: 0.0230, Val Loss: 0.0349, Val Acc: 6.96%\n",
            "Saved epoch checkpoint: checkpoints/epoch_checkpoint_214.pth\n"
          ]
        },
        {
          "name": "stderr",
          "output_type": "stream",
          "text": [
            " ... (more hidden) ..."
          ]
        },
        {
          "name": "stdout",
          "output_type": "stream",
          "text": [
            "Epoch 215/500 -- Train Loss: 0.0227, Val Loss: 0.0431, Val Acc: 6.75%\n",
            "Saved epoch checkpoint: checkpoints/epoch_checkpoint_215.pth\n"
          ]
        },
        {
          "name": "stderr",
          "output_type": "stream",
          "text": [
            " ... (more hidden) ..."
          ]
        },
        {
          "name": "stdout",
          "output_type": "stream",
          "text": [
            "Epoch 216/500 -- Train Loss: 0.0230, Val Loss: 0.0319, Val Acc: 6.33%\n",
            "Saved epoch checkpoint: checkpoints/epoch_checkpoint_216.pth\n"
          ]
        },
        {
          "name": "stderr",
          "output_type": "stream",
          "text": [
            " ... (more hidden) ..."
          ]
        },
        {
          "name": "stdout",
          "output_type": "stream",
          "text": [
            "Epoch 217/500 -- Train Loss: 0.0236, Val Loss: 0.0333, Val Acc: 6.75%\n",
            "Saved epoch checkpoint: checkpoints/epoch_checkpoint_217.pth\n"
          ]
        },
        {
          "name": "stderr",
          "output_type": "stream",
          "text": [
            " ... (more hidden) ..."
          ]
        },
        {
          "name": "stdout",
          "output_type": "stream",
          "text": [
            "Epoch 218/500 -- Train Loss: 0.0228, Val Loss: 0.0331, Val Acc: 6.66%\n",
            "Saved epoch checkpoint: checkpoints/epoch_checkpoint_218.pth\n"
          ]
        },
        {
          "name": "stderr",
          "output_type": "stream",
          "text": [
            " ... (more hidden) ..."
          ]
        },
        {
          "name": "stdout",
          "output_type": "stream",
          "text": [
            "Epoch 219/500 -- Train Loss: 0.0237, Val Loss: 0.0321, Val Acc: 6.89%\n",
            "Saved epoch checkpoint: checkpoints/epoch_checkpoint_219.pth\n"
          ]
        },
        {
          "name": "stderr",
          "output_type": "stream",
          "text": [
            " ... (more hidden) ..."
          ]
        },
        {
          "name": "stdout",
          "output_type": "stream",
          "text": [
            "Epoch 220/500 -- Train Loss: 0.0231, Val Loss: 0.0318, Val Acc: 6.63%\n",
            "Saved epoch checkpoint: checkpoints/epoch_checkpoint_220.pth\n"
          ]
        },
        {
          "name": "stderr",
          "output_type": "stream",
          "text": [
            " ... (more hidden) ..."
          ]
        },
        {
          "name": "stdout",
          "output_type": "stream",
          "text": [
            "Epoch 221/500 -- Train Loss: 0.0224, Val Loss: 0.0370, Val Acc: 6.54%\n",
            "Saved epoch checkpoint: checkpoints/epoch_checkpoint_221.pth\n"
          ]
        },
        {
          "name": "stderr",
          "output_type": "stream",
          "text": [
            " ... (more hidden) ..."
          ]
        },
        {
          "name": "stdout",
          "output_type": "stream",
          "text": [
            "Epoch 222/500 -- Train Loss: 0.0234, Val Loss: 0.0496, Val Acc: 6.75%\n",
            "Saved epoch checkpoint: checkpoints/epoch_checkpoint_222.pth\n"
          ]
        },
        {
          "name": "stderr",
          "output_type": "stream",
          "text": [
            " ... (more hidden) ..."
          ]
        },
        {
          "name": "stdout",
          "output_type": "stream",
          "text": [
            "Epoch 223/500 -- Train Loss: 0.0234, Val Loss: 0.0300, Val Acc: 6.75%\n",
            "Saved epoch checkpoint: checkpoints/epoch_checkpoint_223.pth\n"
          ]
        },
        {
          "name": "stderr",
          "output_type": "stream",
          "text": [
            " ... (more hidden) ..."
          ]
        },
        {
          "name": "stdout",
          "output_type": "stream",
          "text": [
            "Epoch 224/500 -- Train Loss: 0.0242, Val Loss: 0.0304, Val Acc: 6.64%\n",
            "Saved epoch checkpoint: checkpoints/epoch_checkpoint_224.pth\n"
          ]
        },
        {
          "name": "stderr",
          "output_type": "stream",
          "text": [
            " ... (more hidden) ..."
          ]
        },
        {
          "name": "stdout",
          "output_type": "stream",
          "text": [
            "Epoch 225/500 -- Train Loss: 0.0229, Val Loss: 0.0371, Val Acc: 6.46%\n",
            "Saved epoch checkpoint: checkpoints/epoch_checkpoint_225.pth\n"
          ]
        },
        {
          "name": "stderr",
          "output_type": "stream",
          "text": [
            " ... (more hidden) ..."
          ]
        },
        {
          "name": "stdout",
          "output_type": "stream",
          "text": [
            "Epoch 226/500 -- Train Loss: 0.0230, Val Loss: 0.0321, Val Acc: 6.71%\n",
            "Saved epoch checkpoint: checkpoints/epoch_checkpoint_226.pth\n"
          ]
        },
        {
          "name": "stderr",
          "output_type": "stream",
          "text": [
            " ... (more hidden) ..."
          ]
        },
        {
          "name": "stdout",
          "output_type": "stream",
          "text": [
            "Epoch 227/500 -- Train Loss: 0.0226, Val Loss: 0.0486, Val Acc: 6.32%\n",
            "Saved epoch checkpoint: checkpoints/epoch_checkpoint_227.pth\n"
          ]
        },
        {
          "name": "stderr",
          "output_type": "stream",
          "text": [
            " ... (more hidden) ..."
          ]
        },
        {
          "name": "stdout",
          "output_type": "stream",
          "text": [
            "Epoch 228/500 -- Train Loss: 0.0234, Val Loss: 0.0353, Val Acc: 6.43%\n",
            "Saved epoch checkpoint: checkpoints/epoch_checkpoint_228.pth\n"
          ]
        },
        {
          "name": "stderr",
          "output_type": "stream",
          "text": [
            " ... (more hidden) ..."
          ]
        },
        {
          "name": "stdout",
          "output_type": "stream",
          "text": [
            "Epoch 229/500 -- Train Loss: 0.0232, Val Loss: 0.0362, Val Acc: 6.80%\n",
            "Saved epoch checkpoint: checkpoints/epoch_checkpoint_229.pth\n"
          ]
        },
        {
          "name": "stderr",
          "output_type": "stream",
          "text": [
            " ... (more hidden) ..."
          ]
        },
        {
          "name": "stdout",
          "output_type": "stream",
          "text": [
            "Epoch 230/500 -- Train Loss: 0.0230, Val Loss: 0.0363, Val Acc: 6.72%\n",
            "Saved epoch checkpoint: checkpoints/epoch_checkpoint_230.pth\n"
          ]
        },
        {
          "name": "stderr",
          "output_type": "stream",
          "text": [
            " ... (more hidden) ..."
          ]
        },
        {
          "name": "stdout",
          "output_type": "stream",
          "text": [
            "Epoch 231/500 -- Train Loss: 0.0238, Val Loss: 0.0330, Val Acc: 6.96%\n",
            "Saved epoch checkpoint: checkpoints/epoch_checkpoint_231.pth\n"
          ]
        },
        {
          "name": "stderr",
          "output_type": "stream",
          "text": [
            " ... (more hidden) ...\n"
          ]
        },
        {
          "ename": "KeyboardInterrupt",
          "evalue": "",
          "output_type": "error",
          "traceback": [
            "\u001b[0;31m---------------------------------------------------------------------------\u001b[0m",
            "\u001b[0;31mKeyboardInterrupt\u001b[0m                         Traceback (most recent call last)",
            "Cell \u001b[0;32mIn[96], line 3\u001b[0m\n\u001b[1;32m      1\u001b[0m \u001b[38;5;66;03m# Training loop with tqdm for progress.\u001b[39;00m\n\u001b[1;32m      2\u001b[0m \u001b[38;5;28;01mfor\u001b[39;00m epoch \u001b[38;5;129;01min\u001b[39;00m tqdm(\u001b[38;5;28mrange\u001b[39m(last_epoch, CONFIG[\u001b[38;5;124m\"\u001b[39m\u001b[38;5;124mNUM_EPOCHS\u001b[39m\u001b[38;5;124m\"\u001b[39m]), desc\u001b[38;5;241m=\u001b[39m\u001b[38;5;124m\"\u001b[39m\u001b[38;5;124mTraining Epochs\u001b[39m\u001b[38;5;124m\"\u001b[39m, unit\u001b[38;5;241m=\u001b[39m\u001b[38;5;124m\"\u001b[39m\u001b[38;5;124mepoch\u001b[39m\u001b[38;5;124m\"\u001b[39m):\n\u001b[0;32m----> 3\u001b[0m     train_loss \u001b[38;5;241m=\u001b[39m train_epoch(train_loader, ddpm, diffe, fc_ema, opt_ddpm, opt_diffe, sched_ddpm, sched_diffe, device)\n\u001b[1;32m      4\u001b[0m     val_loss, val_acc \u001b[38;5;241m=\u001b[39m validate_model(test_loader, ddpm, diffe, device)\n\u001b[1;32m      6\u001b[0m     \u001b[38;5;66;03m# Log metrics to wandb.\u001b[39;00m\n",
            "Cell \u001b[0;32mIn[92], line 14\u001b[0m, in \u001b[0;36mtrain_epoch\u001b[0;34m(train_loader, ddpm, diffe, fc_ema, opt_ddpm, opt_diffe, sched_ddpm, sched_diffe, device)\u001b[0m\n\u001b[1;32m     12\u001b[0m x_hat, down, up, noise, t \u001b[38;5;241m=\u001b[39m ddpm(x)\n\u001b[1;32m     13\u001b[0m loss_ddpm \u001b[38;5;241m=\u001b[39m F\u001b[38;5;241m.\u001b[39ml1_loss(x_hat, x, reduction\u001b[38;5;241m=\u001b[39m\u001b[38;5;124m\"\u001b[39m\u001b[38;5;124mnone\u001b[39m\u001b[38;5;124m\"\u001b[39m)\u001b[38;5;241m.\u001b[39mmean()\n\u001b[0;32m---> 14\u001b[0m loss_ddpm\u001b[38;5;241m.\u001b[39mbackward()\n\u001b[1;32m     15\u001b[0m opt_ddpm\u001b[38;5;241m.\u001b[39mstep()\n\u001b[1;32m     17\u001b[0m \u001b[38;5;66;03m# DiffE forward pass.\u001b[39;00m\n",
            "File \u001b[0;32m~/.local/lib/python3.12/site-packages/torch/_tensor.py:626\u001b[0m, in \u001b[0;36mTensor.backward\u001b[0;34m(self, gradient, retain_graph, create_graph, inputs)\u001b[0m\n\u001b[1;32m    616\u001b[0m \u001b[38;5;28;01mif\u001b[39;00m has_torch_function_unary(\u001b[38;5;28mself\u001b[39m):\n\u001b[1;32m    617\u001b[0m     \u001b[38;5;28;01mreturn\u001b[39;00m handle_torch_function(\n\u001b[1;32m    618\u001b[0m         Tensor\u001b[38;5;241m.\u001b[39mbackward,\n\u001b[1;32m    619\u001b[0m         (\u001b[38;5;28mself\u001b[39m,),\n\u001b[0;32m   (...)\u001b[0m\n\u001b[1;32m    624\u001b[0m         inputs\u001b[38;5;241m=\u001b[39minputs,\n\u001b[1;32m    625\u001b[0m     )\n\u001b[0;32m--> 626\u001b[0m torch\u001b[38;5;241m.\u001b[39mautograd\u001b[38;5;241m.\u001b[39mbackward(\n\u001b[1;32m    627\u001b[0m     \u001b[38;5;28mself\u001b[39m, gradient, retain_graph, create_graph, inputs\u001b[38;5;241m=\u001b[39minputs\n\u001b[1;32m    628\u001b[0m )\n",
            "File \u001b[0;32m~/.local/lib/python3.12/site-packages/torch/autograd/__init__.py:347\u001b[0m, in \u001b[0;36mbackward\u001b[0;34m(tensors, grad_tensors, retain_graph, create_graph, grad_variables, inputs)\u001b[0m\n\u001b[1;32m    342\u001b[0m     retain_graph \u001b[38;5;241m=\u001b[39m create_graph\n\u001b[1;32m    344\u001b[0m \u001b[38;5;66;03m# The reason we repeat the same comment below is that\u001b[39;00m\n\u001b[1;32m    345\u001b[0m \u001b[38;5;66;03m# some Python versions print out the first line of a multi-line function\u001b[39;00m\n\u001b[1;32m    346\u001b[0m \u001b[38;5;66;03m# calls in the traceback and some print out the last line\u001b[39;00m\n\u001b[0;32m--> 347\u001b[0m _engine_run_backward(\n\u001b[1;32m    348\u001b[0m     tensors,\n\u001b[1;32m    349\u001b[0m     grad_tensors_,\n\u001b[1;32m    350\u001b[0m     retain_graph,\n\u001b[1;32m    351\u001b[0m     create_graph,\n\u001b[1;32m    352\u001b[0m     inputs,\n\u001b[1;32m    353\u001b[0m     allow_unreachable\u001b[38;5;241m=\u001b[39m\u001b[38;5;28;01mTrue\u001b[39;00m,\n\u001b[1;32m    354\u001b[0m     accumulate_grad\u001b[38;5;241m=\u001b[39m\u001b[38;5;28;01mTrue\u001b[39;00m,\n\u001b[1;32m    355\u001b[0m )\n",
            "File \u001b[0;32m~/.local/lib/python3.12/site-packages/torch/autograd/graph.py:823\u001b[0m, in \u001b[0;36m_engine_run_backward\u001b[0;34m(t_outputs, *args, **kwargs)\u001b[0m\n\u001b[1;32m    821\u001b[0m     unregister_hooks \u001b[38;5;241m=\u001b[39m _register_logging_hooks_on_whole_graph(t_outputs)\n\u001b[1;32m    822\u001b[0m \u001b[38;5;28;01mtry\u001b[39;00m:\n\u001b[0;32m--> 823\u001b[0m     \u001b[38;5;28;01mreturn\u001b[39;00m Variable\u001b[38;5;241m.\u001b[39m_execution_engine\u001b[38;5;241m.\u001b[39mrun_backward(  \u001b[38;5;66;03m# Calls into the C++ engine to run the backward pass\u001b[39;00m\n\u001b[1;32m    824\u001b[0m         t_outputs, \u001b[38;5;241m*\u001b[39margs, \u001b[38;5;241m*\u001b[39m\u001b[38;5;241m*\u001b[39mkwargs\n\u001b[1;32m    825\u001b[0m     )  \u001b[38;5;66;03m# Calls into the C++ engine to run the backward pass\u001b[39;00m\n\u001b[1;32m    826\u001b[0m \u001b[38;5;28;01mfinally\u001b[39;00m:\n\u001b[1;32m    827\u001b[0m     \u001b[38;5;28;01mif\u001b[39;00m attach_logging_hooks:\n",
            "\u001b[0;31mKeyboardInterrupt\u001b[0m: "
          ]
        }
      ],
      "source": [
        "# Training loop with tqdm for progress.\n",
        "for epoch in tqdm(range(last_epoch, CONFIG[\"NUM_EPOCHS\"]), desc=\"Training Epochs\", unit=\"epoch\"):\n",
        "    train_loss = train_epoch(train_loader, ddpm, diffe, fc_ema, opt_ddpm, opt_diffe, sched_ddpm, sched_diffe, device)\n",
        "    val_loss, val_acc = validate_model(test_loader, ddpm, diffe, device)\n",
        "    \n",
        "    # Log metrics to wandb.\n",
        "    wandb.log({\n",
        "        \"epoch\": epoch + 1,\n",
        "        \"train_loss\": train_loss,\n",
        "        \"val_loss\": val_loss,\n",
        "        \"val_accuracy\": val_acc,\n",
        "        \"lr_ddpm\": opt_ddpm.param_groups[0]['lr'],\n",
        "        \"lr_diffe\": opt_diffe.param_groups[0]['lr']\n",
        "    })\n",
        "    \n",
        "    print(f\"Epoch {epoch+1}/{CONFIG['NUM_EPOCHS']} -- Train Loss: {train_loss:.4f}, Val Loss: {val_loss:.4f}, Val Acc: {val_acc*100:.2f}%\")\n",
        "    \n",
        "    # Save a checkpoint for this epoch in the checkpoint directory.\n",
        "    checkpoint = {\n",
        "        'epoch': epoch + 1,\n",
        "        'ddpm_state_dict': ddpm.state_dict(),\n",
        "        'diffe_state_dict': diffe.state_dict(),\n",
        "        'optimizer_ddpm': opt_ddpm.state_dict(),\n",
        "        'optimizer_diffe': opt_diffe.state_dict(),\n",
        "        'val_loss': val_loss,\n",
        "        'val_accuracy': val_acc\n",
        "    }\n",
        "    epoch_ckpt_path = os.path.join(checkpoint_dir, f\"epoch_checkpoint_{epoch+1}.pth\")\n",
        "    torch.save(checkpoint, epoch_ckpt_path)\n",
        "    wandb.save(epoch_ckpt_path)\n",
        "    print(f\"Saved epoch checkpoint: {epoch_ckpt_path}\")\n",
        "    \n",
        "    # Save best checkpoint if validation accuracy improved.\n",
        "    if val_acc > best_acc:\n",
        "        best_acc = val_acc\n",
        "        best_ckpt_path = os.path.join(checkpoint_dir, \"best_model.pth\")\n",
        "        torch.save(checkpoint, best_ckpt_path)\n",
        "        wandb.save(best_ckpt_path)\n",
        "        print(f\"Saved best checkpoint with Val Acc: {val_acc*100:.2f}%\")"
      ]
    },
    {
      "cell_type": "code",
      "execution_count": 64,
      "metadata": {},
      "outputs": [
        {
          "name": "stdout",
          "output_type": "stream",
          "text": [
            "Test Seen Accuracy: 5.82%\n",
            "Test Unseen Accuracy: 6.01%\n"
          ]
        }
      ],
      "source": [
        "# Evaluate on test_seen data\n",
        "test_seen_loss, test_seen_acc = validate_model(test_loader, ddpm, diffe, device)\n",
        "print(\"Test Seen Accuracy: {:.2f}%\".format(test_seen_acc * 100))\n",
        "\n",
        "# Evaluate on test_unseen data\n",
        "test_unseen_loss, test_unseen_acc = validate_model(test_unseen_loader, ddpm, diffe, device)\n",
        "print(\"Test Unseen Accuracy: {:.2f}%\".format(test_unseen_acc * 100))\n",
        "\n",
        "# Optionally, log these metrics to wandb:\n",
        "wandb.log({\n",
        "    \"test_seen_loss\": test_seen_loss,\n",
        "    \"test_seen_accuracy\": test_seen_acc,\n",
        "    \"test_unseen_loss\": test_unseen_loss,\n",
        "    \"test_unseen_accuracy\": test_unseen_acc\n",
        "})\n"
      ]
    },
    {
      "cell_type": "code",
      "execution_count": 65,
      "metadata": {},
      "outputs": [],
      "source": [
        "# Final visualization on one test batch.\n",
        "with torch.no_grad():\n",
        "    for x, _ in test_loader:\n",
        "        x = x.to(device)\n",
        "        x_hat_final, _, _, noise_final, _ = ddpm(x)\n",
        "        break "
      ]
    },
    {
      "cell_type": "code",
      "execution_count": 66,
      "metadata": {},
      "outputs": [
        {
          "data": {
            "image/png": "[encoded data removed]",
            "text/plain": [
              "<Figure size 1500x1200 with 9 Axes>"
            ]
          },
          "metadata": {},
          "output_type": "display_data"
        },
        {
          "name": "stdout",
          "output_type": "stream",
          "text": [
            "Training completed.\n",
            "Best Validation Accuracy: 7.16%\n"
          ]
        }
      ],
      "source": [
        "sample_idxs = [0, 1, 2]\n",
        "final_fig = visualize_signals_grid(x, noise_final, x_hat_final, sample_idxs, channel=0)\n",
        "wandb.log({\"Final_EEG_Signals\": wandb.Image(final_fig)})\n",
        "plt.show()\n",
        "\n",
        "print(\"Training completed.\")\n",
        "print(f\"Best Validation Accuracy: {best_acc*100:.2f}%\")"
      ]
    },
    {
      "cell_type": "code",
      "execution_count": null,
      "metadata": {},
      "outputs": [],
      "source": []
    }
  ],
  "metadata": {
    "colab": {
      "provenance": []
    },
    "kernelspec": {
      "display_name": "Python 3 (ipykernel)",
      "language": "python",
      "name": "python3"
    }
  },
  "nbformat": 4,
  "nbformat_minor": 0
}
