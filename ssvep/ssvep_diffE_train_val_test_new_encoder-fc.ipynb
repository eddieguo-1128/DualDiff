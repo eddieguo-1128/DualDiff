{
  "cells": [
    {
      "cell_type": "markdown",
      "id": "0017f312",
      "metadata": {
        "id": "0017f312"
      },
      "source": [
        "# SSVEP Character Classification with DiffE"
      ]
    },
    {
      "cell_type": "code",
      "source": [
        "!pip install ema-pytorch"
      ],
      "metadata": {
        "id": "WnZeypG6gsYU",
        "colab": {
          "base_uri": "https://localhost:8080/"
        },
        "outputId": "5d599343-6c40-4abb-970d-1abce51eeca3"
      },
      "id": "WnZeypG6gsYU",
      "execution_count": null,
      "outputs": [
        {
          "output_type": "stream",
          "name": "stdout",
          "text": [
            "Requirement already satisfied: ema-pytorch in /usr/local/lib/python3.11/dist-packages (0.7.7)\n",
            "Requirement already satisfied: torch>=2.0 in /usr/local/lib/python3.11/dist-packages (from ema-pytorch) (2.6.0+cu124)\n",
            "Requirement already satisfied: filelock in /usr/local/lib/python3.11/dist-packages (from torch>=2.0->ema-pytorch) (3.18.0)\n",
            "Requirement already satisfied: typing-extensions>=4.10.0 in /usr/local/lib/python3.11/dist-packages (from torch>=2.0->ema-pytorch) (4.13.0)\n",
            "Requirement already satisfied: networkx in /usr/local/lib/python3.11/dist-packages (from torch>=2.0->ema-pytorch) (3.4.2)\n",
            "Requirement already satisfied: jinja2 in /usr/local/lib/python3.11/dist-packages (from torch>=2.0->ema-pytorch) (3.1.6)\n",
            "Requirement already satisfied: fsspec in /usr/local/lib/python3.11/dist-packages (from torch>=2.0->ema-pytorch) (2025.3.2)\n",
            "Requirement already satisfied: nvidia-cuda-nvrtc-cu12==12.4.127 in /usr/local/lib/python3.11/dist-packages (from torch>=2.0->ema-pytorch) (12.4.127)\n",
            "Requirement already satisfied: nvidia-cuda-runtime-cu12==12.4.127 in /usr/local/lib/python3.11/dist-packages (from torch>=2.0->ema-pytorch) (12.4.127)\n",
            "Requirement already satisfied: nvidia-cuda-cupti-cu12==12.4.127 in /usr/local/lib/python3.11/dist-packages (from torch>=2.0->ema-pytorch) (12.4.127)\n",
            "Requirement already satisfied: nvidia-cudnn-cu12==9.1.0.70 in /usr/local/lib/python3.11/dist-packages (from torch>=2.0->ema-pytorch) (9.1.0.70)\n",
            "Requirement already satisfied: nvidia-cublas-cu12==12.4.5.8 in /usr/local/lib/python3.11/dist-packages (from torch>=2.0->ema-pytorch) (12.4.5.8)\n",
            "Requirement already satisfied: nvidia-cufft-cu12==11.2.1.3 in /usr/local/lib/python3.11/dist-packages (from torch>=2.0->ema-pytorch) (11.2.1.3)\n",
            "Requirement already satisfied: nvidia-curand-cu12==10.3.5.147 in /usr/local/lib/python3.11/dist-packages (from torch>=2.0->ema-pytorch) (10.3.5.147)\n",
            "Requirement already satisfied: nvidia-cusolver-cu12==11.6.1.9 in /usr/local/lib/python3.11/dist-packages (from torch>=2.0->ema-pytorch) (11.6.1.9)\n",
            "Requirement already satisfied: nvidia-cusparse-cu12==12.3.1.170 in /usr/local/lib/python3.11/dist-packages (from torch>=2.0->ema-pytorch) (12.3.1.170)\n",
            "Requirement already satisfied: nvidia-cusparselt-cu12==0.6.2 in /usr/local/lib/python3.11/dist-packages (from torch>=2.0->ema-pytorch) (0.6.2)\n",
            "Requirement already satisfied: nvidia-nccl-cu12==2.21.5 in /usr/local/lib/python3.11/dist-packages (from torch>=2.0->ema-pytorch) (2.21.5)\n",
            "Requirement already satisfied: nvidia-nvtx-cu12==12.4.127 in /usr/local/lib/python3.11/dist-packages (from torch>=2.0->ema-pytorch) (12.4.127)\n",
            "Requirement already satisfied: nvidia-nvjitlink-cu12==12.4.127 in /usr/local/lib/python3.11/dist-packages (from torch>=2.0->ema-pytorch) (12.4.127)\n",
            "Requirement already satisfied: triton==3.2.0 in /usr/local/lib/python3.11/dist-packages (from torch>=2.0->ema-pytorch) (3.2.0)\n",
            "Requirement already satisfied: sympy==1.13.1 in /usr/local/lib/python3.11/dist-packages (from torch>=2.0->ema-pytorch) (1.13.1)\n",
            "Requirement already satisfied: mpmath<1.4,>=1.1.0 in /usr/local/lib/python3.11/dist-packages (from sympy==1.13.1->torch>=2.0->ema-pytorch) (1.3.0)\n",
            "Requirement already satisfied: MarkupSafe>=2.0 in /usr/local/lib/python3.11/dist-packages (from jinja2->torch>=2.0->ema-pytorch) (3.0.2)\n"
          ]
        }
      ]
    },
    {
      "cell_type": "code",
      "source": [
        "import os\n",
        "import sys\n",
        "\n",
        "!git clone https://github.com/diffe2023/Diff-E.git\n",
        "sys.path.append('/content/Diff-E')\n"
      ],
      "metadata": {
        "id": "s8yKwaRCQxyM",
        "colab": {
          "base_uri": "https://localhost:8080/"
        },
        "outputId": "55cff0a0-9f40-463d-8d7e-a1451e77f66c"
      },
      "id": "s8yKwaRCQxyM",
      "execution_count": null,
      "outputs": [
        {
          "output_type": "stream",
          "name": "stdout",
          "text": [
            "fatal: destination path 'Diff-E' already exists and is not an empty directory.\n"
          ]
        }
      ]
    },
    {
      "cell_type": "code",
      "source": [
        "import math\n",
        "from einops import reduce\n",
        "from functools import partial\n",
        "import random\n",
        "import argparse\n",
        "import numpy as np\n",
        "import torch\n",
        "import torch.nn as nn\n",
        "import torch.optim as optim\n",
        "import torch.nn.functional as F\n",
        "from torch.utils.data import Dataset, DataLoader\n",
        "from ema_pytorch import EMA\n",
        "from tqdm.notebook import tqdm\n",
        "from sklearn.model_selection import train_test_split\n",
        "from sklearn.metrics import (\n",
        "    f1_score,\n",
        "    roc_auc_score,\n",
        "    precision_score,\n",
        "    recall_score,\n",
        "    top_k_accuracy_score,\n",
        ")"
      ],
      "metadata": {
        "id": "4MhV2qw9hu-m"
      },
      "id": "4MhV2qw9hu-m",
      "execution_count": null,
      "outputs": []
    },
    {
      "cell_type": "code",
      "source": [
        "# Uncomment this if you want to use Google Drive\n",
        "from google.colab import drive\n",
        "drive.mount('/content/drive')"
      ],
      "metadata": {
        "id": "WjdWMaswQjkV",
        "colab": {
          "base_uri": "https://localhost:8080/"
        },
        "outputId": "1ed090b0-4204-4e56-d728-93a0ed8c7057"
      },
      "id": "WjdWMaswQjkV",
      "execution_count": null,
      "outputs": [
        {
          "output_type": "stream",
          "name": "stdout",
          "text": [
            "Drive already mounted at /content/drive; to attempt to forcibly remount, call drive.mount(\"/content/drive\", force_remount=True).\n"
          ]
        }
      ]
    },
    {
      "cell_type": "markdown",
      "source": [
        "#load and preprocess data\n"
      ],
      "metadata": {
        "id": "Do2JYBiZZp1z"
      },
      "id": "Do2JYBiZZp1z"
    },
    {
      "cell_type": "markdown",
      "source": [
        "We retain the original SSVEP data preprocessing procedures, including:\n",
        "\n",
        "    Chebyshev bandpass filtering (6–90 Hz),\n",
        "    Noise removal and segmentation using a sliding window of 250 samples, followed by manual channel-wise standardization (subtracting the mean and dividing by the standard deviation),\n",
        "    Downsampling from 1000 Hz to 250 Hz.\n",
        "\n",
        "In this work, we directly load the preprocessed character-level files \"S#_chars.npy\" for subsequent training.\n",
        "\n",
        "Unlike the original setup where models are trained separately for each subject, we train a single model jointly across all subjects by concatenating all subjects' data."
      ],
      "metadata": {
        "id": "dPlrZ7Lez1XQ"
      },
      "id": "dPlrZ7Lez1XQ"
    },
    {
      "cell_type": "code",
      "source": [
        "# Define a function to perform z-score normalization on the data\n",
        "def zscore_norm(data):\n",
        "    # Calculate the mean and standard deviation for each channel in each batch\n",
        "    mean = torch.mean(data, dim=(1, 2))\n",
        "    std = torch.std(data, dim=(1, 2))\n",
        "\n",
        "    # Subtract the mean from each channel in each batch and divide by the standard deviation\n",
        "    norm_data = (data - mean[:, None, None]) / std[:, None, None]\n",
        "\n",
        "    return norm_data\n",
        "\n",
        "\n",
        "# Define a function to perform min-max normalization on the data\n",
        "def minmax_norm(data):\n",
        "    # Calculate the minimum and maximum values for each channel and sequence in the batch\n",
        "    min_vals = torch.min(data, dim=-1)[0]\n",
        "    max_vals = torch.max(data, dim=-1)[0]\n",
        "\n",
        "    # Scale the data to the range [0, 1]\n",
        "    norm_data = (data - min_vals.unsqueeze(-1)) / (\n",
        "        max_vals.unsqueeze(-1) - min_vals.unsqueeze(-1)\n",
        "    )\n",
        "\n",
        "    return norm_data"
      ],
      "metadata": {
        "id": "FD4sHQTI0fua"
      },
      "id": "FD4sHQTI0fua",
      "execution_count": null,
      "outputs": []
    },
    {
      "cell_type": "code",
      "source": [
        "class EEGDataset(Dataset):\n",
        "    \"Characterizes a dataset for PyTorch\"\n",
        "\n",
        "    def __init__(self, X, Y, transform=None):\n",
        "        \"Initialization\"\n",
        "        self.X = X\n",
        "        self.Y = Y\n",
        "        self.transform = transform\n",
        "\n",
        "    def __len__(self):\n",
        "        \"Denotes the total number of samples\"\n",
        "        return len(self.X)\n",
        "\n",
        "    def __getitem__(self, index):\n",
        "        \"Generates one sample of data\"\n",
        "        # Load data and get label\n",
        "        x = self.X[index]\n",
        "        y = self.Y[index]\n",
        "        if self.transform:\n",
        "            x = self.transform(x)\n",
        "        return x.squeeze(), y"
      ],
      "metadata": {
        "id": "kpv9Xa910cDi"
      },
      "id": "kpv9Xa910cDi",
      "execution_count": null,
      "outputs": []
    },
    {
      "cell_type": "code",
      "source": [
        "def load_data_by_session(root_dir, subject_id, session_idx_list):\n",
        "    data = np.load(os.path.join(root_dir, f\"S{subject_id}_chars.npy\"))  # [26, 6, 64, 250]\n",
        "    data = data[:, session_idx_list]  # [26, len(session), 64, 250]\n",
        "    X = data.reshape(-1, 64, 250)\n",
        "    Y = np.repeat(np.arange(26), len(session_idx_list))\n",
        "    return torch.tensor(X, dtype=torch.float32), torch.tensor(Y, dtype=torch.long)\n",
        "\n",
        "def load_split_dataset(root_dir, num_seen=25, seed=43):\n",
        "    random.seed(seed)\n",
        "\n",
        "    all_subjects = list(range(1, 36))\n",
        "    seen_subjects = random.sample(all_subjects, num_seen)#25 seen\n",
        "    unseen_subjects = [sid for sid in all_subjects if sid not in seen_subjects]#10 unseen\n",
        "\n",
        "    split_cfg = {\n",
        "        \"train\":  [(sid, [0, 1, 2, 3]) for sid in seen_subjects],\n",
        "        \"val\":    [(sid, [4]) for sid in seen_subjects],\n",
        "        \"test1\":  [(sid, [5]) for sid in seen_subjects],\n",
        "        \"test2\":  [(sid, [0, 1, 2, 3, 4, 5]) for sid in unseen_subjects]\n",
        "    }\n",
        "\n",
        "    print(f\"[Split] Seen subjects (train/val/test1): {seen_subjects}\")\n",
        "    print(f\"[Split] Unseen subjects (test2): {unseen_subjects}\")\n",
        "\n",
        "    loaders = {}\n",
        "    for split, sid_sess in split_cfg.items():\n",
        "        X_all, Y_all = [], []\n",
        "        for sid, sess in sid_sess:\n",
        "            X, Y = load_data_by_session(root_dir, sid, sess)\n",
        "            X_all.append(X)\n",
        "            Y_all.append(Y)\n",
        "        X_all = torch.cat(X_all, dim=0)\n",
        "        Y_all = torch.cat(Y_all, dim=0)\n",
        "        dataset = EEGDataset(X_all, Y_all)\n",
        "        loaders[split] = DataLoader(dataset, batch_size=32, shuffle=(split == \"train\"))\n",
        "    return loaders\n"
      ],
      "metadata": {
        "id": "bpIIK-nqQEXL"
      },
      "id": "bpIIK-nqQEXL",
      "execution_count": null,
      "outputs": []
    },
    {
      "cell_type": "code",
      "source": [
        "seed = 44\n",
        "random.seed(seed)\n",
        "torch.manual_seed(seed)\n",
        "print(\"Random Seed: \", seed)"
      ],
      "metadata": {
        "colab": {
          "base_uri": "https://localhost:8080/"
        },
        "id": "R1jZy_mPsxNI",
        "outputId": "a9122b7a-348b-46e4-a0b6-1eebbe1f0fca"
      },
      "id": "R1jZy_mPsxNI",
      "execution_count": null,
      "outputs": [
        {
          "output_type": "stream",
          "name": "stdout",
          "text": [
            "Random Seed:  44\n"
          ]
        }
      ]
    },
    {
      "cell_type": "code",
      "source": [
        "subject_chars_dir = '/content/drive/MyDrive/project/dataset/ssvep/chars' # Where to store all character data\n",
        "subject_ids = list(range(1, 36)) #35 samples + 1\n",
        "\n",
        "device = torch.device(\"cuda\" if torch.cuda.is_available() else \"cpu\")\n",
        "batch_size = 32\n",
        "batch_size2 = 260\n",
        "seed = 44\n",
        "shuffle = True\n",
        "\n",
        "# load all subjects' data\n",
        "loaders = load_split_dataset(subject_chars_dir, num_seen=20, seed=seed)\n",
        "train_loader = loaders[\"train\"]\n",
        "val_loader = loaders[\"val\"]\n",
        "test1_loader = loaders[\"test1\"]\n",
        "test2_loader = loaders[\"test2\"]\n"
      ],
      "metadata": {
        "id": "seWeK5dArjjM",
        "colab": {
          "base_uri": "https://localhost:8080/"
        },
        "outputId": "3d64759c-fbda-4a58-d1e0-2535faed0fde"
      },
      "id": "seWeK5dArjjM",
      "execution_count": null,
      "outputs": [
        {
          "output_type": "stream",
          "name": "stdout",
          "text": [
            "[Split] Seen subjects (train/val/test1): [27, 34, 8, 12, 13, 33, 10, 1, 30, 4, 19, 28, 26, 6, 17, 29, 31, 25, 11, 32]\n",
            "[Split] Unseen subjects (test2): [2, 3, 5, 7, 9, 14, 15, 16, 18, 20, 21, 22, 23, 24, 35]\n"
          ]
        }
      ]
    },
    {
      "cell_type": "code",
      "source": [
        "print(len(train_loader.dataset), len(val_loader.dataset), len(test1_loader.dataset), len(test2_loader.dataset))\n",
        "\n",
        "for x, y in train_loader:\n",
        "    print(\"X shape:\", x.shape)\n",
        "    print(\"Y shape:\", y.shape)\n",
        "    break  # the first batch"
      ],
      "metadata": {
        "colab": {
          "base_uri": "https://localhost:8080/"
        },
        "id": "f0JmYf8_7foW",
        "outputId": "c7148a5d-a2ae-49e2-9cdf-d30dc33cbf58"
      },
      "id": "f0JmYf8_7foW",
      "execution_count": null,
      "outputs": [
        {
          "output_type": "stream",
          "name": "stdout",
          "text": [
            "2080 520 520 2340\n",
            "X shape: torch.Size([32, 64, 250])\n",
            "Y shape: torch.Size([32])\n"
          ]
        }
      ]
    },
    {
      "cell_type": "markdown",
      "source": [
        "train: 20 seen subjects × 4 session × 26 = 2080\n",
        "\n",
        "val: 20 × 1 × 26 = 520\n",
        "\n",
        "test1: 20 × 1 × 26 = 520\n",
        "\n",
        "test2: 15 unseen × 6 session × 26 = 2340"
      ],
      "metadata": {
        "id": "zuXPlL3nol6U"
      },
      "id": "zuXPlL3nol6U"
    },
    {
      "cell_type": "markdown",
      "source": [
        "random choose 25 subjects as seen, the rest 10 as unseen\n",
        "\n",
        "| Group Name | Subject Range   | Sessions Used         | Purpose                                  |\n",
        "|------------|------------------|------------------------|-------------------------------------------|\n",
        "| train      | seen subjects    | sessions [0, 1, 2, 3]  | Training (4 sessions)                     |\n",
        "| val        | seen subjects    | session [4]            | Validation                                |\n",
        "| test1      | seen subjects    | session [5]            | Test on unseen session of seen subjects  |\n",
        "| test2      | unseen subjects  | sessions [0–5] (all)   | Test on unseen subjects                   |\n"
      ],
      "metadata": {
        "id": "tEjThr9xpong"
      },
      "id": "tEjThr9xpong"
    },
    {
      "cell_type": "markdown",
      "source": [
        "#model"
      ],
      "metadata": {
        "id": "D-8XtejnbSv2"
      },
      "id": "D-8XtejnbSv2"
    },
    {
      "cell_type": "markdown",
      "source": [
        "The overall model follows the original GitHub implementation, with a few necessary adjustments to align tensor time dimensions. Specifically, we aligned the temporal dimensions between up2 + temb and down1, up3 and x, and x_hat and x. These changes are clearly marked with comments in the code."
      ],
      "metadata": {
        "id": "mV-wGFCs2hpy"
      },
      "id": "mV-wGFCs2hpy"
    },
    {
      "cell_type": "code",
      "execution_count": null,
      "id": "ceb479ce",
      "metadata": {
        "id": "ceb479ce"
      },
      "outputs": [],
      "source": [
        "#define diffE model\n",
        "def get_padding(kernel_size, dilation=1):\n",
        "    return int((kernel_size * dilation - dilation) / 2)\n",
        "\n",
        "\n",
        "# Swish activation function\n",
        "class Swish(nn.Module):\n",
        "    def __init__(self):\n",
        "        super().__init__()\n",
        "        self.sigmoid = nn.Sigmoid()\n",
        "\n",
        "    def forward(self, x):\n",
        "        return x * self.sigmoid(x)\n",
        "\n",
        "\n",
        "class SinusoidalPosEmb(nn.Module):\n",
        "    def __init__(self, dim):\n",
        "        super().__init__()\n",
        "        self.dim = dim\n",
        "\n",
        "    def forward(self, x):\n",
        "        device = x.device\n",
        "        half_dim = self.dim // 2\n",
        "        emb = math.log(10000) / (half_dim - 1)\n",
        "        emb = torch.exp(torch.arange(half_dim, device=device) * -emb)\n",
        "        emb = x[:, None] * emb[None, :]\n",
        "        emb = torch.cat((emb.sin(), emb.cos()), dim=-1)\n",
        "        return emb\n",
        "\n",
        "\n",
        "class WeightStandardizedConv1d(nn.Conv1d):\n",
        "    \"\"\"\n",
        "    https://arxiv.org/abs/1903.10520\n",
        "    weight standardization purportedly works synergistically with group normalization\n",
        "    \"\"\"\n",
        "\n",
        "    def forward(self, x):\n",
        "        eps = 1e-5 if x.dtype == torch.float32 else 1e-3\n",
        "\n",
        "        weight = self.weight\n",
        "        mean = reduce(weight, \"o ... -> o 1 1\", \"mean\")\n",
        "        var = reduce(weight, \"o ... -> o 1 1\", partial(torch.var, unbiased=False))\n",
        "        normalized_weight = (weight - mean) * (var + eps).rsqrt()\n",
        "\n",
        "        return F.conv1d(\n",
        "            x,\n",
        "            normalized_weight,\n",
        "            self.bias,\n",
        "            self.stride,\n",
        "            self.padding,\n",
        "            self.dilation,\n",
        "            self.groups,\n",
        "        )\n",
        "\n",
        "\n",
        "class ResidualConvBlock(nn.Module):\n",
        "    def __init__(self, inc: int, outc: int, kernel_size: int, stride=1, gn=8):\n",
        "        super().__init__()\n",
        "        \"\"\"\n",
        "        standard ResNet style convolutional block\n",
        "        \"\"\"\n",
        "        self.same_channels = inc == outc\n",
        "        self.ks = kernel_size\n",
        "        self.conv = nn.Sequential(\n",
        "            WeightStandardizedConv1d(inc, outc, self.ks, stride, get_padding(self.ks)),\n",
        "            nn.GroupNorm(gn, outc),\n",
        "            nn.PReLU(),\n",
        "        )\n",
        "\n",
        "    def forward(self, x: torch.Tensor) -> torch.Tensor:\n",
        "        x1 = self.conv(x)\n",
        "        if self.same_channels:\n",
        "            out = (x + x1) / 2\n",
        "        else:\n",
        "            out = x1\n",
        "        return out\n",
        "\n",
        "\n",
        "class UnetDown(nn.Module):\n",
        "    def __init__(self, in_channels, out_channels, kernel_size, gn=8, factor=2):\n",
        "        super(UnetDown, self).__init__()\n",
        "        self.pool = nn.MaxPool1d(factor)\n",
        "        self.layer = ResidualConvBlock(in_channels, out_channels, kernel_size, gn=gn)\n",
        "\n",
        "    def forward(self, x):\n",
        "        x = self.layer(x)\n",
        "        x = self.pool(x)\n",
        "        return x\n",
        "\n",
        "\n",
        "class UnetUp(nn.Module):\n",
        "    def __init__(self, in_channels, out_channels, kernel_size, gn=8, factor=2):\n",
        "        super(UnetUp, self).__init__()\n",
        "        self.pool = nn.Upsample(scale_factor=factor, mode=\"nearest\")\n",
        "        self.layer = ResidualConvBlock(in_channels, out_channels, kernel_size, gn=gn)\n",
        "\n",
        "    def forward(self, x):\n",
        "        x = self.pool(x)\n",
        "        x = self.layer(x)\n",
        "        return x\n",
        "\n",
        "\n",
        "class EmbedFC(nn.Module):\n",
        "    def __init__(self, input_dim, emb_dim):\n",
        "        super(EmbedFC, self).__init__()\n",
        "        \"\"\"\n",
        "        generic one layer FC NN for embedding things\n",
        "        \"\"\"\n",
        "        self.input_dim = input_dim\n",
        "        layers = [\n",
        "            nn.Linear(input_dim, emb_dim),\n",
        "            nn.PReLU(),\n",
        "            nn.Linear(emb_dim, emb_dim),\n",
        "        ]\n",
        "        self.model = nn.Sequential(*layers)\n",
        "\n",
        "    def forward(self, x):\n",
        "        x = x.view(-1, self.input_dim)\n",
        "        return self.model(x)\n",
        "\n",
        "\n",
        "class ConditionalUNet(nn.Module):\n",
        "    def __init__(self, in_channels, n_feat=256):\n",
        "        super(ConditionalUNet, self).__init__()\n",
        "\n",
        "        self.in_channels = in_channels\n",
        "        self.n_feat = n_feat\n",
        "\n",
        "        self.d1_out = n_feat * 1\n",
        "        self.d2_out = n_feat * 2\n",
        "        self.d3_out = n_feat * 3\n",
        "        self.d4_out = n_feat * 4\n",
        "\n",
        "        self.u1_out = n_feat\n",
        "        self.u2_out = n_feat\n",
        "        self.u3_out = n_feat\n",
        "        self.u4_out = in_channels\n",
        "\n",
        "        self.sin_emb = SinusoidalPosEmb(n_feat)\n",
        "        # self.timeembed1 = EmbedFC(n_feat, self.u1_out)\n",
        "        # self.timeembed2 = EmbedFC(n_feat, self.u2_out)\n",
        "        # self.timeembed3 = EmbedFC(n_feat, self.u3_out)\n",
        "\n",
        "        self.down1 = UnetDown(in_channels, self.d1_out, 1, gn=8, factor=2)\n",
        "        self.down2 = UnetDown(self.d1_out, self.d2_out, 1, gn=8, factor=2)\n",
        "        self.down3 = UnetDown(self.d2_out, self.d3_out, 1, gn=8, factor=2)\n",
        "\n",
        "        self.up2 = UnetUp(self.d3_out, self.u2_out, 1, gn=8, factor=2)\n",
        "        self.up3 = UnetUp(self.u2_out + self.d2_out, self.u3_out, 1, gn=8, factor=2)\n",
        "        self.up4 = UnetUp(self.u3_out + self.d1_out, self.u4_out, 1, gn=8, factor=2)\n",
        "        self.out = nn.Conv1d(self.u4_out + in_channels, in_channels, 1)\n",
        "\n",
        "    def forward(self, x, t):\n",
        "        down1 = self.down1(x)  # 2000 -> 1000\n",
        "        down2 = self.down2(down1)  # 1000 -> 500\n",
        "        down3 = self.down3(down2)  # 500 -> 250\n",
        "\n",
        "        temb = self.sin_emb(t).view(-1, self.n_feat, 1)  # [b, n_feat, 1]\n",
        "\n",
        "        up1 = self.up2(down3)  # 250 -> 500\n",
        "        up2 = self.up3(torch.cat([up1 + temb, down2], 1))  # 500 -> 1000\n",
        "\n",
        "        # Align the temporal dimension of up2 + temb and down1\n",
        "        if (up2 + temb).shape[-1] != down1.shape[-1]:\n",
        "            target_len = min((up2 + temb).shape[-1], down1.shape[-1])\n",
        "            up2 = F.interpolate(up2, size=target_len)\n",
        "            down1 = F.interpolate(down1, size=target_len)\n",
        "\n",
        "        up3 = self.up4(torch.cat([up2 + temb, down1], 1))  # 1000 -> 2000\n",
        "\n",
        "        # Align the temporal dimension of up3 and x\n",
        "        if up3.shape[-1] != x.shape[-1]:\n",
        "            target_len = min(up3.shape[-1], x.shape[-1])\n",
        "            up3 = F.interpolate(up3, size=target_len)\n",
        "            x = F.interpolate(x, size=target_len)\n",
        "\n",
        "        out = self.out(torch.cat([up3, x], 1))  # 2000 -> 2000\n",
        "\n",
        "        down = (down1, down2, down3)\n",
        "        up = (up1, up2, up3)\n",
        "        return out, down, up\n",
        "\n",
        "\n",
        "class Encoder(nn.Module):\n",
        "    def __init__(self, in_channels, dim=512):\n",
        "        super(Encoder, self).__init__()\n",
        "\n",
        "        self.in_channels = in_channels\n",
        "        self.e1_out = dim\n",
        "        self.e2_out = dim\n",
        "        self.e3_out = dim\n",
        "\n",
        "        self.down1 = UnetDown(in_channels, self.e1_out, 1, gn=8, factor=2)\n",
        "        self.down2 = UnetDown(self.e1_out, self.e2_out, 1, gn=8, factor=2)\n",
        "        self.down3 = UnetDown(self.e2_out, self.e3_out, 1, gn=8, factor=2)\n",
        "\n",
        "        self.avg_pooling = nn.AdaptiveAvgPool1d(output_size=1)\n",
        "        self.max_pooling = nn.AdaptiveMaxPool1d(output_size=1)\n",
        "        self.act = nn.Tanh()\n",
        "\n",
        "    def forward(self, x0):\n",
        "        # Down sampling\n",
        "        dn1 = self.down1(x0)  # 2048 -> 1024\n",
        "        dn2 = self.down2(dn1)  # 1024 -> 512\n",
        "        dn3 = self.down3(dn2)  # 512 -> 256\n",
        "        z = self.avg_pooling(dn3).view(-1, self.e3_out)  # [b, features]\n",
        "        down = (dn1, dn2, dn3)\n",
        "        out = (down, z)\n",
        "        return out\n",
        "\n",
        "\n",
        "class Decoder(nn.Module):\n",
        "    def __init__(self, in_channels, n_feat=256, encoder_dim=512, n_classes=13):\n",
        "        super(Decoder, self).__init__()\n",
        "\n",
        "        self.in_channels = in_channels\n",
        "        self.n_feat = n_feat\n",
        "        self.n_classes = n_classes\n",
        "        self.e1_out = encoder_dim\n",
        "        self.e2_out = encoder_dim\n",
        "        self.e3_out = encoder_dim\n",
        "        self.d1_out = n_feat\n",
        "        self.d2_out = n_feat * 2\n",
        "        self.d3_out = n_feat * 3\n",
        "        self.u1_out = n_feat\n",
        "        self.u2_out = n_feat\n",
        "        self.u3_out = n_feat\n",
        "        self.u4_out = in_channels\n",
        "\n",
        "        # self.sin_emb = SinusoidalPosEmb(n_feat)\n",
        "        # self.timeembed1 = EmbedFC(n_feat, self.e3_out)\n",
        "        # self.timeembed2 = EmbedFC(n_feat, self.u2_out)\n",
        "        # self.timeembed3 = EmbedFC(n_feat, self.u3_out)\n",
        "        # self.contextembed1 = EmbedFC(self.e3_out, self.e3_out)\n",
        "        # self.contextembed2 = EmbedFC(self.e3_out, self.u2_out)\n",
        "        # self.contextembed3 = EmbedFC(self.e3_out, self.u3_out)\n",
        "\n",
        "        # Unet up sampling\n",
        "        self.up1 = UnetUp(self.d3_out + self.e3_out, self.u2_out, 1, gn=8, factor=2)\n",
        "        self.up2 = UnetUp(self.d2_out + self.u2_out, self.u3_out, 1, gn=8, factor=2)\n",
        "        self.up3 = nn.Sequential(\n",
        "            nn.Upsample(scale_factor=2, mode=\"nearest\"),\n",
        "            nn.Conv1d(\n",
        "                self.d1_out + self.u3_out + in_channels * 2, in_channels, 1, 1, 0\n",
        "            ),\n",
        "        )\n",
        "\n",
        "        # self.out = nn.Conv1d(self.u4_out+in_channels, in_channels, 1)\n",
        "        self.pool = nn.AvgPool1d(2)\n",
        "\n",
        "    def forward(self, x0, encoder_out, diffusion_out):\n",
        "        # Encoder output\n",
        "        down, z = encoder_out\n",
        "        dn1, dn2, dn3 = down\n",
        "\n",
        "        # DDPM output\n",
        "        x_hat, down_ddpm, up, t = diffusion_out\n",
        "        dn11, dn22, dn33 = down_ddpm\n",
        "\n",
        "        # embed context, time step\n",
        "        # temb = self.sin_emb(t).view(-1, self.n_feat, 1) # [b, n_feat, 1]\n",
        "        # temb1 = self.timeembed1(temb).view(-1, self.e3_out, 1) # [b, features]\n",
        "        # temb2 = self.timeembed2(temb).view(-1, self.u2_out, 1) # [b, features]\n",
        "        # temb3 = self.timeembed3(temb).view(-1, self.u3_out, 1) # [b, features]\n",
        "        # ct2 = self.contextembed2(z).view(-1, self.u2_out, 1) # [b, n_feat, 1]\n",
        "        # ct3 = self.contextembed3(z).view(-1, self.u3_out, 1) # [b, n_feat, 1]\n",
        "\n",
        "        # Up sampling\n",
        "        up1 = self.up1(torch.cat([dn3, dn33.detach()], 1))\n",
        "        up2 = self.up2(torch.cat([up1, dn22.detach()], 1))\n",
        "        out = self.up3(\n",
        "            torch.cat([self.pool(x0), self.pool(x_hat.detach()), up2, dn11.detach()], 1)\n",
        "        )\n",
        "        return out\n",
        "\n",
        "\n",
        "class DiffE(nn.Module):\n",
        "    def __init__(self, encoder, decoder, fc):\n",
        "        super(DiffE, self).__init__()\n",
        "\n",
        "        self.encoder = encoder\n",
        "        self.decoder = decoder\n",
        "        self.fc = fc\n",
        "\n",
        "    def forward(self, x0, ddpm_out):\n",
        "        encoder_out = self.encoder(x0)\n",
        "        decoder_out = self.decoder(x0, encoder_out, ddpm_out)\n",
        "        fc_out = self.fc(encoder_out[1])\n",
        "        return decoder_out, fc_out\n",
        "\n",
        "\n",
        "class DecoderNoDiff(nn.Module):\n",
        "    def __init__(self, in_channels, n_feat=256, encoder_dim=512, n_classes=13):\n",
        "        super(DecoderNoDiff, self).__init__()\n",
        "\n",
        "        self.in_channels = in_channels\n",
        "        self.n_feat = n_feat\n",
        "        self.n_classes = n_classes\n",
        "        self.e1_out = encoder_dim\n",
        "        self.e2_out = encoder_dim\n",
        "        self.e3_out = encoder_dim\n",
        "        self.u1_out = n_feat\n",
        "        self.u2_out = n_feat\n",
        "        self.u3_out = n_feat\n",
        "        self.u4_out = n_feat\n",
        "\n",
        "        self.sin_emb = SinusoidalPosEmb(n_feat)\n",
        "        self.timeembed1 = EmbedFC(n_feat, self.e3_out)\n",
        "        self.timeembed2 = EmbedFC(n_feat, self.u2_out)\n",
        "        self.timeembed3 = EmbedFC(n_feat, self.u3_out)\n",
        "        self.contextembed1 = EmbedFC(self.e3_out, self.e3_out)\n",
        "        self.contextembed2 = EmbedFC(self.e3_out, self.u2_out)\n",
        "        self.contextembed3 = EmbedFC(self.e3_out, self.u3_out)\n",
        "\n",
        "        # Unet up sampling\n",
        "        self.up2 = UnetUp(self.e3_out, self.u2_out, 1, gn=8, factor=2)\n",
        "        self.up3 = UnetUp(self.e2_out + self.u2_out, self.u3_out, 1, gn=8, factor=2)\n",
        "        # self.up4 = UnetUp(self.e1_out+self.u3_out, self.u4_out, 1, 1, gn=in_channels, factor=2, is_res=True)\n",
        "        self.up4 = nn.Sequential(\n",
        "            nn.Upsample(scale_factor=2, mode=\"nearest\"),\n",
        "            nn.Conv1d(self.u3_out + self.e1_out + in_channels, in_channels, 1, 1, 0),\n",
        "        )\n",
        "\n",
        "        self.out = nn.Conv1d(self.u4_out, in_channels, 1)\n",
        "        self.pool = nn.AvgPool1d(2)\n",
        "\n",
        "    def forward(self, x0, x_hat, encoder_out, t):\n",
        "        down, z = encoder_out\n",
        "        dn1, dn2, dn3 = down\n",
        "        tembd = self.sin_emb(t).view(-1, self.n_feat, 1)  # [b, n_feat, 1]\n",
        "        tembd1 = self.timeembed1(self.sin_emb(t)).view(\n",
        "            -1, self.e3_out, 1\n",
        "        )  # [b, n_feat, 1]\n",
        "        tembd2 = self.timeembed2(self.sin_emb(t)).view(\n",
        "            -1, self.u2_out, 1\n",
        "        )  # [b, n_feat, 1]\n",
        "        tembd3 = self.timeembed3(self.sin_emb(t)).view(\n",
        "            -1, self.u3_out, 1\n",
        "        )  # [b, n_feat, 1]\n",
        "\n",
        "        # Up sampling\n",
        "        ddpm_loss = F.l1_loss(x0, x_hat, reduction=\"none\")\n",
        "\n",
        "        up2 = self.up2(dn3)  # 256 -> 512\n",
        "        up3 = self.up3(torch.cat([up2, dn2], 1))  # 512 -> 1024\n",
        "        out = self.up4(\n",
        "            torch.cat([self.pool(x0), self.pool(x_hat), up3, dn1], 1)\n",
        "        )  # 1024 -> 2048\n",
        "        # out = self.out(torch.cat([out, x_hat], 1)) # 2048 -> 2048\n",
        "        # out = self.out(out)\n",
        "        return out\n",
        "\n",
        "\n",
        "class LinearClassifier(nn.Module):\n",
        "    def __init__(self, in_dim, latent_dim, emb_dim):\n",
        "        super().__init__()\n",
        "        self.linear_out = nn.Sequential(\n",
        "            nn.Linear(in_features=in_dim, out_features=latent_dim),\n",
        "            nn.GroupNorm(4, latent_dim),\n",
        "            nn.PReLU(),\n",
        "            nn.Linear(in_features=latent_dim, out_features=latent_dim),\n",
        "            nn.GroupNorm(4, latent_dim),\n",
        "            nn.PReLU(),\n",
        "            nn.Linear(in_features=latent_dim, out_features=emb_dim),\n",
        "        )\n",
        "\n",
        "    def forward(self, x):\n",
        "        x = self.linear_out(x)\n",
        "        return x\n",
        "\n",
        "\n",
        "def cosine_beta_schedule(timesteps, s=0.008):\n",
        "    \"\"\"\n",
        "    cosine schedule\n",
        "    as proposed in https://openreview.net/forum?id=-NEXDKk8gZ\n",
        "    \"\"\"\n",
        "    steps = timesteps + 1\n",
        "    t = torch.linspace(0, timesteps, steps, dtype=torch.float64) / timesteps\n",
        "    alphas_cumprod = torch.cos((t + s) / (1 + s) * math.pi * 0.5) ** 2\n",
        "    alphas_cumprod = alphas_cumprod / alphas_cumprod[0]\n",
        "    betas = 1 - (alphas_cumprod[1:] / alphas_cumprod[:-1])\n",
        "    return torch.clip(betas, 0, 0.999)\n",
        "\n",
        "\n",
        "def sigmoid_beta_schedule(timesteps, start=-3, end=3, tau=1, clamp_min=1e-5):\n",
        "    \"\"\"\n",
        "    sigmoid schedule\n",
        "    proposed in https://arxiv.org/abs/2212.11972 - Figure 8\n",
        "    \"\"\"\n",
        "    steps = timesteps + 1\n",
        "    t = torch.linspace(0, timesteps, steps, dtype=torch.float64) / timesteps\n",
        "    v_start = torch.tensor(start / tau).sigmoid()\n",
        "    v_end = torch.tensor(end / tau).sigmoid()\n",
        "    alphas_cumprod = (-((t * (end - start) + start) / tau).sigmoid() + v_end) / (\n",
        "        v_end - v_start\n",
        "    )\n",
        "    alphas_cumprod = alphas_cumprod / alphas_cumprod[0]\n",
        "    betas = 1 - (alphas_cumprod[1:] / alphas_cumprod[:-1])\n",
        "    return torch.clip(betas, 0, 0.999)\n",
        "\n",
        "\n",
        "def ddpm_schedules(beta1, beta2, T):\n",
        "    # assert beta1 < beta2 < 1.0, \"beta1 and beta2 must be in (0, 1)\"\n",
        "    # beta_t = (beta2 - beta1) * torch.arange(0, T + 1, dtype=torch.float32) / T + beta1\n",
        "    beta_t = cosine_beta_schedule(T, s=0.008).float()\n",
        "    # beta_t = sigmoid_beta_schedule(T).float()\n",
        "\n",
        "    alpha_t = 1 - beta_t\n",
        "\n",
        "    log_alpha_t = torch.log(alpha_t)\n",
        "    alphabar_t = torch.cumsum(log_alpha_t, dim=0).exp()\n",
        "\n",
        "    sqrtab = torch.sqrt(alphabar_t)\n",
        "\n",
        "    sqrtmab = torch.sqrt(1 - alphabar_t)\n",
        "\n",
        "    return {\n",
        "        \"sqrtab\": sqrtab,  # \\sqrt{\\bar{\\alpha_t}}\n",
        "        \"sqrtmab\": sqrtmab,  # \\sqrt{1-\\bar{\\alpha_t}}\n",
        "    }\n",
        "\n",
        "\n",
        "class DDPM(nn.Module):\n",
        "    def __init__(self, nn_model, betas, n_T, device):\n",
        "        super(DDPM, self).__init__()\n",
        "        self.nn_model = nn_model.to(device)\n",
        "\n",
        "        for k, v in ddpm_schedules(betas[0], betas[1], n_T).items():\n",
        "            self.register_buffer(k, v)\n",
        "\n",
        "        self.n_T = n_T\n",
        "        self.device = device\n",
        "\n",
        "    def forward(self, x):\n",
        "        _ts = torch.randint(1, self.n_T, (x.shape[0],)).to(\n",
        "            self.device\n",
        "        )  # t ~ Uniform(0, n_T)\n",
        "        noise = torch.randn_like(x)  # eps ~ N(0, 1)\n",
        "        x_t = self.sqrtab[_ts, None, None] * x + self.sqrtmab[_ts, None, None] * noise\n",
        "        times = _ts / self.n_T\n",
        "        output, down, up = self.nn_model(x_t, times)\n",
        "        return output, down, up, noise, times"
      ]
    },
    {
      "cell_type": "code",
      "source": [
        "for x, y in train_loader:\n",
        "    channels = x.shape[1]\n",
        "    timepoints = x.shape[2]\n",
        "    print(f\"Sample input shape: {x.shape}  → Channels: {channels}, Timepoints: {timepoints}\")\n",
        "    break\n",
        "\n",
        "num_classes = 26\n",
        "ddpm_dim = 128\n",
        "encoder_dim = 256\n",
        "fc_dim = 512\n",
        "n_T = 1000\n",
        "\n",
        "# ddpm_model = ConditionalUNet(in_channels=channels, n_feat=ddpm_dim).to(device)\n",
        "# ddpm = DDPM(nn_model=ddpm_model, betas=(1e-6, 1e-2), n_T=n_T, device=device).to(device)\n",
        "\n",
        "encoder = Encoder(in_channels=channels, dim=encoder_dim).to(device)\n",
        "# decoder = Decoder(in_channels=channels, n_feat=ddpm_dim, encoder_dim=encoder_dim).to(device)\n",
        "fc = LinearClassifier(encoder_dim, fc_dim, emb_dim=num_classes).to(device)\n",
        "\n",
        "# diffe = DiffE(encoder, decoder, fc).to(device)\n",
        "\n",
        "print(\" Model initialized with:\")\n",
        "print(\" - Input channels       :\", channels)\n",
        "print(\" - Timepoints           :\", timepoints)\n",
        "# print(\" - ddpm total params    :\", sum(p.numel() for p in ddpm.parameters()))\n",
        "print(\" - encoder total params :\", sum(p.numel() for p in encoder.parameters()))\n",
        "# print(\" - decoder total params :\", sum(p.numel() for p in decoder.parameters()))\n",
        "print(\" - classifier params    :\", sum(p.numel() for p in fc.parameters()))\n",
        "# print(\" - total DiffE params   :\", sum(p.numel() for p in diffe.parameters()))\n"
      ],
      "metadata": {
        "colab": {
          "base_uri": "https://localhost:8080/"
        },
        "id": "T4i5FvbBauXV",
        "outputId": "77453877-b6b3-42c0-f66f-b63b85a51386"
      },
      "id": "T4i5FvbBauXV",
      "execution_count": null,
      "outputs": [
        {
          "output_type": "stream",
          "name": "stdout",
          "text": [
            "Sample input shape: torch.Size([32, 64, 250])  → Channels: 64, Timepoints: 250\n",
            " Model initialized with:\n",
            " - Input channels       : 64\n",
            " - Timepoints           : 250\n",
            " - encoder total params : 149763\n",
            " - classifier params    : 409628\n"
          ]
        }
      ]
    },
    {
      "cell_type": "markdown",
      "source": [
        "#train"
      ],
      "metadata": {
        "id": "gNFmH1U1cUfr"
      },
      "id": "gNFmH1U1cUfr"
    },
    {
      "cell_type": "code",
      "source": [
        "# Criterion\n",
        "# criterion = nn.L1Loss()\n",
        "criterion_class = nn.MSELoss()\n",
        "#criterion_class = nn.CrossEntropyLoss()\n",
        "\n",
        "# Define optimizer\n",
        "base_lr, lr = 9e-5, 1.5e-3\n",
        "# optim1 = optim.RMSprop(ddpm.parameters(), lr=base_lr)\n",
        "# optim2 = optim.RMSprop(diffe.parameters(), lr=base_lr)\n",
        "\n",
        "optim_all = optim.RMSprop(list(encoder.parameters()) + list(fc.parameters()), lr=base_lr)\n",
        "\n",
        "# EMAs\n",
        "# fc_ema = EMA(diffe.fc, beta=0.95, update_after_step=100, update_every=10,)\n",
        "\n",
        "step_size = 150\n",
        "# scheduler1 = optim.lr_scheduler.CyclicLR(\n",
        "#     optimizer=optim1,\n",
        "#     base_lr=base_lr,\n",
        "#     max_lr=lr,\n",
        "#     step_size_up=step_size,\n",
        "#     mode=\"exp_range\",\n",
        "#     cycle_momentum=False,\n",
        "#     gamma=0.9998,\n",
        "# )\n",
        "# scheduler2 = optim.lr_scheduler.CyclicLR(\n",
        "#     optimizer=optim2,\n",
        "#     base_lr=base_lr,\n",
        "#     max_lr=lr,\n",
        "#     step_size_up=step_size,\n",
        "#     mode=\"exp_range\",\n",
        "#     cycle_momentum=False,\n",
        "#     gamma=0.9998,\n",
        "# )\n",
        "\n",
        "scheduler = optim.lr_scheduler.CyclicLR(\n",
        "    optimizer=optim_all,\n",
        "    base_lr=base_lr,\n",
        "    max_lr=lr,\n",
        "    step_size_up=step_size,\n",
        "    mode=\"exp_range\",\n",
        "    cycle_momentum=False,\n",
        "    gamma=0.9998,\n",
        ")"
      ],
      "metadata": {
        "id": "e6b9kOFsmNm2"
      },
      "id": "e6b9kOFsmNm2",
      "execution_count": null,
      "outputs": []
    },
    {
      "cell_type": "code",
      "source": [
        "# Evaluate function\n",
        "def evaluate(encoder, fc, generator, device):\n",
        "    labels = np.arange(0, 26)\n",
        "    Y = []\n",
        "    Y_hat = []\n",
        "    for x, y in generator:\n",
        "        # x, y = x.to(device), y.type(torch.LongTensor).to(device)\n",
        "        # encoder_out = encoder(x)\n",
        "        # y_hat = fc(encoder_out[1])\n",
        "        # y_hat = F.softmax(y_hat, dim=1)\n",
        "        x, y = x.to(device), y.to(device)\n",
        "        z = encoder(x)[1]\n",
        "        out = fc(z)\n",
        "        y_prob = F.softmax(out, dim=1)\n",
        "\n",
        "        Y.append(y.detach().cpu())\n",
        "        # Y_hat.append(y_hat.detach().cpu())\n",
        "        Y_hat.append(y_prob.detach().cpu())\n",
        "\n",
        "    # List of tensors to tensor to numpy\n",
        "    Y = torch.cat(Y, dim=0).numpy()  # (N, )\n",
        "    Y_hat = torch.cat(Y_hat, dim=0).numpy()  # (N, 13): has to sum to 1 for each row\n",
        "\n",
        "    # Accuracy and Confusion Matrix\n",
        "    accuracy = top_k_accuracy_score(Y, Y_hat, k=1, labels=labels)\n",
        "    f1 = f1_score(Y, Y_hat.argmax(axis=1), average=\"macro\", labels=labels)\n",
        "    recall = recall_score(Y, Y_hat.argmax(axis=1), average=\"macro\", labels=labels)\n",
        "    precision = precision_score(Y, Y_hat.argmax(axis=1), average=\"macro\", labels=labels)\n",
        "    auc = roc_auc_score(Y, Y_hat, average=\"macro\", multi_class=\"ovo\", labels=labels)\n",
        "\n",
        "    metrics = {\n",
        "        \"accuracy\": accuracy,\n",
        "        \"f1\": f1,\n",
        "        \"recall\": recall,\n",
        "        \"precision\": precision,\n",
        "        \"auc\": auc,\n",
        "    }\n",
        "    # df_cm = pd.DataFrame(confusion_matrix(Y, Y_hat.argmax(axis=1)))\n",
        "    return metrics\n"
      ],
      "metadata": {
        "id": "DEi7SkZfvNbe"
      },
      "id": "DEi7SkZfvNbe",
      "execution_count": null,
      "outputs": []
    },
    {
      "cell_type": "code",
      "source": [
        "# Debug\n",
        "# label distribution（unbalenced label）\n",
        "from collections import Counter\n",
        "label_counter = Counter()\n",
        "for _, y in train_loader:\n",
        "    label_counter.update(y.cpu().tolist())\n",
        "print(\"Train label distribution:\", label_counter)\n",
        "\n",
        "# Encoder output 输出是否恒定（没有表达力）\n",
        "x_debug, _ = next(iter(train_loader))\n",
        "x_debug = x_debug.to(device)\n",
        "with torch.no_grad():\n",
        "    z_debug = encoder(x_debug)[1]\n",
        "print(\"Encoder output mean:\", z_debug.mean().item(), \"| std:\", z_debug.std().item())\n",
        "\n",
        "# predicted label vs true label\n",
        "x_check, y_check = next(iter(val_loader))\n",
        "x_check, y_check = x_check.to(device), y_check.to(device)\n",
        "with torch.no_grad():\n",
        "    z_check = encoder(x_check)[1]\n",
        "    fc_out_check = fc(z_check)\n",
        "    y_pred_check = fc_out_check.argmax(dim=1)\n",
        "print(\"Sample prediction:\", y_pred_check[:10].cpu().tolist())\n",
        "print(\"Ground truth     :\", y_check[:10].cpu().tolist())"
      ],
      "metadata": {
        "colab": {
          "base_uri": "https://localhost:8080/"
        },
        "id": "o1Ctn961m0Wn",
        "outputId": "8c57aad3-4f3b-4aa9-859b-7a767e8200eb"
      },
      "id": "o1Ctn961m0Wn",
      "execution_count": null,
      "outputs": [
        {
          "output_type": "stream",
          "name": "stdout",
          "text": [
            "Train label distribution: Counter({9: 80, 11: 80, 5: 80, 16: 80, 6: 80, 15: 80, 25: 80, 3: 80, 0: 80, 17: 80, 1: 80, 20: 80, 8: 80, 23: 80, 4: 80, 14: 80, 13: 80, 18: 80, 22: 80, 7: 80, 12: 80, 24: 80, 2: 80, 10: 80, 19: 80, 21: 80})\n",
            "Encoder output mean: 0.6464183330535889 | std: 0.16144336760044098\n",
            "Sample prediction: [5, 5, 5, 5, 5, 5, 5, 5, 5, 5]\n",
            "Ground truth     : [0, 1, 2, 3, 4, 5, 6, 7, 8, 9]\n"
          ]
        }
      ]
    },
    {
      "cell_type": "code",
      "source": [
        "# Train & Evaluate\n",
        "args = argparse.Namespace()\n",
        "args.device = device\n",
        "args.subject = \"ALL\"\n",
        "args.root_dir = subject_chars_dir\n",
        "subject = args.subject\n",
        "\n",
        "num_epochs = 500\n",
        "test_period = 1\n",
        "start_test = test_period\n",
        "alpha = 0.1\n",
        "\n",
        "best_acc = 0\n",
        "best_f1 = 0\n",
        "best_recall = 0\n",
        "best_precision = 0\n",
        "best_auc = 0\n",
        "\n",
        "history = {\n",
        "    \"train_loss\": [],\n",
        "    \"train_acc\": [],\n",
        "    \"val_loss\": [],\n",
        "    \"val_acc\": []\n",
        "}\n",
        "\n",
        "with tqdm(total=num_epochs, desc=f\"Method ALL - Joint Training on All Subjects\") as pbar:\n",
        "    for epoch in range(num_epochs):\n",
        "        encoder.train()\n",
        "        fc.train()\n",
        "\n",
        "        epoch_loss = 0\n",
        "        num_batches = 0\n",
        "        epoch_acc = 0\n",
        "        total_samples = 0\n",
        "\n",
        "        ############################## Train ###########################################\n",
        "        for x, y in train_loader:\n",
        "            x, y = x.to(device), y.to(device)  # 不再用 one-hot\n",
        "            optim_all.zero_grad()\n",
        "\n",
        "            z = encoder(x)[1]           # Encoder 输出 feature 向量\n",
        "            fc_out = fc(z)              # 分类 logits\n",
        "\n",
        "            #loss = criterion_class(fc_out, y)  # CrossEntropyLoss\n",
        "            y_cat = F.one_hot(y, num_classes=26).float()\n",
        "            loss = criterion_class(fc_out, y_cat)\n",
        "            loss.backward()\n",
        "            optim_all.step()\n",
        "            scheduler.step()\n",
        "\n",
        "            epoch_loss += loss.item()\n",
        "            num_batches += 1\n",
        "\n",
        "            pred_labels = torch.argmax(fc_out, dim=1)\n",
        "            correct = (pred_labels == y).sum().item()\n",
        "            epoch_acc += correct\n",
        "            total_samples += y.size(0)\n",
        "\n",
        "        history[\"train_loss\"].append(epoch_loss / num_batches)\n",
        "        history[\"train_acc\"].append(epoch_acc / total_samples)\n",
        "\n",
        "        ############################## validation ###########################################\n",
        "        with torch.no_grad():\n",
        "            if epoch > start_test:\n",
        "                test_period = 1\n",
        "            if epoch % test_period == 0:\n",
        "                encoder.eval()\n",
        "                fc.eval()\n",
        "\n",
        "                metrics_val = evaluate(encoder, fc, val_loader, device)  # <<< 直接传 encoder & fc\n",
        "\n",
        "                val_acc = metrics_val[\"accuracy\"]\n",
        "                history[\"val_acc\"].append(val_acc)\n",
        "                f1 = metrics_val[\"f1\"]\n",
        "                recall = metrics_val[\"recall\"]\n",
        "                precision = metrics_val[\"precision\"]\n",
        "                auc = metrics_val[\"auc\"]\n",
        "\n",
        "                val_loss = 0\n",
        "                with torch.no_grad():\n",
        "                    for x, y in val_loader:\n",
        "                        x, y = x.to(device), y.to(device)\n",
        "                        z = encoder(x)[1]\n",
        "                        fc_out = fc(z)\n",
        "\n",
        "                        #loss_c = criterion_class(fc_out, y)\n",
        "                        y_cat = F.one_hot(y, num_classes=26).float()\n",
        "                        loss_c = criterion_class(fc_out, y_cat)\n",
        "\n",
        "                        val_loss += loss_c.item()\n",
        "                history[\"val_loss\"].append(val_loss / len(val_loader))\n",
        "\n",
        "                best_acc_bool = val_acc > best_acc\n",
        "                best_f1_bool = f1 > best_f1\n",
        "                best_recall_bool = recall > best_recall\n",
        "                best_precision_bool = precision > best_precision\n",
        "                best_auc_bool = auc > best_auc\n",
        "\n",
        "                if best_acc_bool:\n",
        "                    best_acc = val_acc\n",
        "                    torch.save(fc.state_dict(), '/content/drive/MyDrive/project/model/ssvep/fc_only.pth')\n",
        "                if best_f1_bool:\n",
        "                    best_f1 = f1\n",
        "                if best_recall_bool:\n",
        "                    best_recall = recall\n",
        "                if best_precision_bool:\n",
        "                    best_precision = precision\n",
        "                if best_auc_bool:\n",
        "                    best_auc = auc\n",
        "\n",
        "                description = f\"Val Accuracy: {val_acc*100:.2f}% | Best: {best_acc*100:.2f}%\"\n",
        "                pbar.set_description(f\"Method ALL – Processing subject {subject} – {description}\")\n",
        "        print(f\"[Epoch {epoch+1}/{num_epochs}] Train Loss: {history['train_loss'][-1]:.4f} | Val Acc: {val_acc*100:.2f}%\")\n",
        "        pbar.update(1)"
      ],
      "metadata": {
        "id": "NIjWCm5vUKx-",
        "colab": {
          "base_uri": "https://localhost:8080/",
          "height": 1000,
          "referenced_widgets": [
            "caf58f60dc3c454888f64320c7d10308",
            "3c98e30f8f774d92997e7e004ba44643",
            "1287a17f5dc94440879dd56a9078d727",
            "6db54f5aec434d7791dc393f35e71fde",
            "0a2a4f5764854da19ee6eff441394518",
            "0a83f318da6f4ad098ff71d800833e8c",
            "afd45f0a43fb4395a412cccf08b72d4a",
            "6f095713601c49d49b820bec5dfe379d",
            "bb4c8db93ee44f2eb79d5fc40684aeac",
            "22b8e2a135834f7cab88e3795a5999c8",
            "8272b0cf76ea462b9b087e41633d6151"
          ]
        },
        "outputId": "e896704d-23fe-4e15-db68-5452fb922715"
      },
      "id": "NIjWCm5vUKx-",
      "execution_count": null,
      "outputs": [
        {
          "output_type": "display_data",
          "data": {
            "text/plain": [
              "Method ALL - Joint Training on All Subjects:   0%|          | 0/500 [00:00<?, ?it/s]"
            ],
            "application/vnd.jupyter.widget-view+json": {
              "version_major": 2,
              "version_minor": 0,
              "model_id": "caf58f60dc3c454888f64320c7d10308"
            }
          },
          "metadata": {}
        },
        {
          "output_type": "stream",
          "name": "stderr",
          "text": [
            "/usr/local/lib/python3.11/dist-packages/sklearn/metrics/_classification.py:1565: UndefinedMetricWarning: Precision is ill-defined and being set to 0.0 in labels with no predicted samples. Use `zero_division` parameter to control this behavior.\n",
            "  _warn_prf(average, modifier, f\"{metric.capitalize()} is\", len(result))\n"
          ]
        },
        {
          "output_type": "stream",
          "name": "stdout",
          "text": [
            "[Epoch 1/500] Train Loss: 0.0833 | Val Acc: 3.85%\n"
          ]
        },
        {
          "output_type": "stream",
          "name": "stderr",
          "text": [
            "/usr/local/lib/python3.11/dist-packages/sklearn/metrics/_classification.py:1565: UndefinedMetricWarning: Precision is ill-defined and being set to 0.0 in labels with no predicted samples. Use `zero_division` parameter to control this behavior.\n",
            "  _warn_prf(average, modifier, f\"{metric.capitalize()} is\", len(result))\n"
          ]
        },
        {
          "output_type": "stream",
          "name": "stdout",
          "text": [
            "[Epoch 2/500] Train Loss: 0.0575 | Val Acc: 4.04%\n"
          ]
        },
        {
          "output_type": "stream",
          "name": "stderr",
          "text": [
            "/usr/local/lib/python3.11/dist-packages/sklearn/metrics/_classification.py:1565: UndefinedMetricWarning: Precision is ill-defined and being set to 0.0 in labels with no predicted samples. Use `zero_division` parameter to control this behavior.\n",
            "  _warn_prf(average, modifier, f\"{metric.capitalize()} is\", len(result))\n"
          ]
        },
        {
          "output_type": "stream",
          "name": "stdout",
          "text": [
            "[Epoch 3/500] Train Loss: 0.0466 | Val Acc: 3.85%\n"
          ]
        },
        {
          "output_type": "stream",
          "name": "stderr",
          "text": [
            "/usr/local/lib/python3.11/dist-packages/sklearn/metrics/_classification.py:1565: UndefinedMetricWarning: Precision is ill-defined and being set to 0.0 in labels with no predicted samples. Use `zero_division` parameter to control this behavior.\n",
            "  _warn_prf(average, modifier, f\"{metric.capitalize()} is\", len(result))\n"
          ]
        },
        {
          "output_type": "stream",
          "name": "stdout",
          "text": [
            "[Epoch 4/500] Train Loss: 0.0384 | Val Acc: 4.23%\n"
          ]
        },
        {
          "output_type": "stream",
          "name": "stderr",
          "text": [
            "/usr/local/lib/python3.11/dist-packages/sklearn/metrics/_classification.py:1565: UndefinedMetricWarning: Precision is ill-defined and being set to 0.0 in labels with no predicted samples. Use `zero_division` parameter to control this behavior.\n",
            "  _warn_prf(average, modifier, f\"{metric.capitalize()} is\", len(result))\n"
          ]
        },
        {
          "output_type": "stream",
          "name": "stdout",
          "text": [
            "[Epoch 5/500] Train Loss: 0.0373 | Val Acc: 4.81%\n"
          ]
        },
        {
          "output_type": "stream",
          "name": "stderr",
          "text": [
            "/usr/local/lib/python3.11/dist-packages/sklearn/metrics/_classification.py:1565: UndefinedMetricWarning: Precision is ill-defined and being set to 0.0 in labels with no predicted samples. Use `zero_division` parameter to control this behavior.\n",
            "  _warn_prf(average, modifier, f\"{metric.capitalize()} is\", len(result))\n"
          ]
        },
        {
          "output_type": "stream",
          "name": "stdout",
          "text": [
            "[Epoch 6/500] Train Loss: 0.0415 | Val Acc: 3.85%\n"
          ]
        },
        {
          "output_type": "stream",
          "name": "stderr",
          "text": [
            "/usr/local/lib/python3.11/dist-packages/sklearn/metrics/_classification.py:1565: UndefinedMetricWarning: Precision is ill-defined and being set to 0.0 in labels with no predicted samples. Use `zero_division` parameter to control this behavior.\n",
            "  _warn_prf(average, modifier, f\"{metric.capitalize()} is\", len(result))\n"
          ]
        },
        {
          "output_type": "stream",
          "name": "stdout",
          "text": [
            "[Epoch 7/500] Train Loss: 0.0456 | Val Acc: 3.85%\n"
          ]
        },
        {
          "output_type": "stream",
          "name": "stderr",
          "text": [
            "/usr/local/lib/python3.11/dist-packages/sklearn/metrics/_classification.py:1565: UndefinedMetricWarning: Precision is ill-defined and being set to 0.0 in labels with no predicted samples. Use `zero_division` parameter to control this behavior.\n",
            "  _warn_prf(average, modifier, f\"{metric.capitalize()} is\", len(result))\n"
          ]
        },
        {
          "output_type": "stream",
          "name": "stdout",
          "text": [
            "[Epoch 8/500] Train Loss: 0.0391 | Val Acc: 3.85%\n"
          ]
        },
        {
          "output_type": "stream",
          "name": "stderr",
          "text": [
            "/usr/local/lib/python3.11/dist-packages/sklearn/metrics/_classification.py:1565: UndefinedMetricWarning: Precision is ill-defined and being set to 0.0 in labels with no predicted samples. Use `zero_division` parameter to control this behavior.\n",
            "  _warn_prf(average, modifier, f\"{metric.capitalize()} is\", len(result))\n"
          ]
        },
        {
          "output_type": "stream",
          "name": "stdout",
          "text": [
            "[Epoch 9/500] Train Loss: 0.0375 | Val Acc: 3.65%\n"
          ]
        },
        {
          "output_type": "stream",
          "name": "stderr",
          "text": [
            "/usr/local/lib/python3.11/dist-packages/sklearn/metrics/_classification.py:1565: UndefinedMetricWarning: Precision is ill-defined and being set to 0.0 in labels with no predicted samples. Use `zero_division` parameter to control this behavior.\n",
            "  _warn_prf(average, modifier, f\"{metric.capitalize()} is\", len(result))\n"
          ]
        },
        {
          "output_type": "stream",
          "name": "stdout",
          "text": [
            "[Epoch 10/500] Train Loss: 0.0372 | Val Acc: 4.62%\n"
          ]
        },
        {
          "output_type": "stream",
          "name": "stderr",
          "text": [
            "/usr/local/lib/python3.11/dist-packages/sklearn/metrics/_classification.py:1565: UndefinedMetricWarning: Precision is ill-defined and being set to 0.0 in labels with no predicted samples. Use `zero_division` parameter to control this behavior.\n",
            "  _warn_prf(average, modifier, f\"{metric.capitalize()} is\", len(result))\n"
          ]
        },
        {
          "output_type": "stream",
          "name": "stdout",
          "text": [
            "[Epoch 11/500] Train Loss: 0.0403 | Val Acc: 3.85%\n"
          ]
        },
        {
          "output_type": "stream",
          "name": "stderr",
          "text": [
            "/usr/local/lib/python3.11/dist-packages/sklearn/metrics/_classification.py:1565: UndefinedMetricWarning: Precision is ill-defined and being set to 0.0 in labels with no predicted samples. Use `zero_division` parameter to control this behavior.\n",
            "  _warn_prf(average, modifier, f\"{metric.capitalize()} is\", len(result))\n"
          ]
        },
        {
          "output_type": "stream",
          "name": "stdout",
          "text": [
            "[Epoch 12/500] Train Loss: 0.0398 | Val Acc: 4.62%\n"
          ]
        },
        {
          "output_type": "stream",
          "name": "stderr",
          "text": [
            "/usr/local/lib/python3.11/dist-packages/sklearn/metrics/_classification.py:1565: UndefinedMetricWarning: Precision is ill-defined and being set to 0.0 in labels with no predicted samples. Use `zero_division` parameter to control this behavior.\n",
            "  _warn_prf(average, modifier, f\"{metric.capitalize()} is\", len(result))\n"
          ]
        },
        {
          "output_type": "stream",
          "name": "stdout",
          "text": [
            "[Epoch 13/500] Train Loss: 0.0375 | Val Acc: 6.54%\n"
          ]
        },
        {
          "output_type": "stream",
          "name": "stderr",
          "text": [
            "/usr/local/lib/python3.11/dist-packages/sklearn/metrics/_classification.py:1565: UndefinedMetricWarning: Precision is ill-defined and being set to 0.0 in labels with no predicted samples. Use `zero_division` parameter to control this behavior.\n",
            "  _warn_prf(average, modifier, f\"{metric.capitalize()} is\", len(result))\n"
          ]
        },
        {
          "output_type": "stream",
          "name": "stdout",
          "text": [
            "[Epoch 14/500] Train Loss: 0.0365 | Val Acc: 7.88%\n"
          ]
        },
        {
          "output_type": "stream",
          "name": "stderr",
          "text": [
            "/usr/local/lib/python3.11/dist-packages/sklearn/metrics/_classification.py:1565: UndefinedMetricWarning: Precision is ill-defined and being set to 0.0 in labels with no predicted samples. Use `zero_division` parameter to control this behavior.\n",
            "  _warn_prf(average, modifier, f\"{metric.capitalize()} is\", len(result))\n"
          ]
        },
        {
          "output_type": "stream",
          "name": "stdout",
          "text": [
            "[Epoch 15/500] Train Loss: 0.0370 | Val Acc: 7.69%\n"
          ]
        },
        {
          "output_type": "stream",
          "name": "stderr",
          "text": [
            "/usr/local/lib/python3.11/dist-packages/sklearn/metrics/_classification.py:1565: UndefinedMetricWarning: Precision is ill-defined and being set to 0.0 in labels with no predicted samples. Use `zero_division` parameter to control this behavior.\n",
            "  _warn_prf(average, modifier, f\"{metric.capitalize()} is\", len(result))\n"
          ]
        },
        {
          "output_type": "stream",
          "name": "stdout",
          "text": [
            "[Epoch 16/500] Train Loss: 0.0382 | Val Acc: 5.19%\n"
          ]
        },
        {
          "output_type": "stream",
          "name": "stderr",
          "text": [
            "/usr/local/lib/python3.11/dist-packages/sklearn/metrics/_classification.py:1565: UndefinedMetricWarning: Precision is ill-defined and being set to 0.0 in labels with no predicted samples. Use `zero_division` parameter to control this behavior.\n",
            "  _warn_prf(average, modifier, f\"{metric.capitalize()} is\", len(result))\n"
          ]
        },
        {
          "output_type": "stream",
          "name": "stdout",
          "text": [
            "[Epoch 17/500] Train Loss: 0.0374 | Val Acc: 7.88%\n"
          ]
        },
        {
          "output_type": "stream",
          "name": "stderr",
          "text": [
            "/usr/local/lib/python3.11/dist-packages/sklearn/metrics/_classification.py:1565: UndefinedMetricWarning: Precision is ill-defined and being set to 0.0 in labels with no predicted samples. Use `zero_division` parameter to control this behavior.\n",
            "  _warn_prf(average, modifier, f\"{metric.capitalize()} is\", len(result))\n"
          ]
        },
        {
          "output_type": "stream",
          "name": "stdout",
          "text": [
            "[Epoch 18/500] Train Loss: 0.0362 | Val Acc: 9.81%\n"
          ]
        },
        {
          "output_type": "stream",
          "name": "stderr",
          "text": [
            "/usr/local/lib/python3.11/dist-packages/sklearn/metrics/_classification.py:1565: UndefinedMetricWarning: Precision is ill-defined and being set to 0.0 in labels with no predicted samples. Use `zero_division` parameter to control this behavior.\n",
            "  _warn_prf(average, modifier, f\"{metric.capitalize()} is\", len(result))\n"
          ]
        },
        {
          "output_type": "stream",
          "name": "stdout",
          "text": [
            "[Epoch 19/500] Train Loss: 0.0355 | Val Acc: 9.04%\n"
          ]
        },
        {
          "output_type": "stream",
          "name": "stderr",
          "text": [
            "/usr/local/lib/python3.11/dist-packages/sklearn/metrics/_classification.py:1565: UndefinedMetricWarning: Precision is ill-defined and being set to 0.0 in labels with no predicted samples. Use `zero_division` parameter to control this behavior.\n",
            "  _warn_prf(average, modifier, f\"{metric.capitalize()} is\", len(result))\n"
          ]
        },
        {
          "output_type": "stream",
          "name": "stdout",
          "text": [
            "[Epoch 20/500] Train Loss: 0.0362 | Val Acc: 9.23%\n"
          ]
        },
        {
          "output_type": "stream",
          "name": "stderr",
          "text": [
            "/usr/local/lib/python3.11/dist-packages/sklearn/metrics/_classification.py:1565: UndefinedMetricWarning: Precision is ill-defined and being set to 0.0 in labels with no predicted samples. Use `zero_division` parameter to control this behavior.\n",
            "  _warn_prf(average, modifier, f\"{metric.capitalize()} is\", len(result))\n"
          ]
        },
        {
          "output_type": "stream",
          "name": "stdout",
          "text": [
            "[Epoch 21/500] Train Loss: 0.0367 | Val Acc: 8.46%\n"
          ]
        },
        {
          "output_type": "stream",
          "name": "stderr",
          "text": [
            "/usr/local/lib/python3.11/dist-packages/sklearn/metrics/_classification.py:1565: UndefinedMetricWarning: Precision is ill-defined and being set to 0.0 in labels with no predicted samples. Use `zero_division` parameter to control this behavior.\n",
            "  _warn_prf(average, modifier, f\"{metric.capitalize()} is\", len(result))\n"
          ]
        },
        {
          "output_type": "stream",
          "name": "stdout",
          "text": [
            "[Epoch 22/500] Train Loss: 0.0360 | Val Acc: 10.19%\n"
          ]
        },
        {
          "output_type": "stream",
          "name": "stderr",
          "text": [
            "/usr/local/lib/python3.11/dist-packages/sklearn/metrics/_classification.py:1565: UndefinedMetricWarning: Precision is ill-defined and being set to 0.0 in labels with no predicted samples. Use `zero_division` parameter to control this behavior.\n",
            "  _warn_prf(average, modifier, f\"{metric.capitalize()} is\", len(result))\n"
          ]
        },
        {
          "output_type": "stream",
          "name": "stdout",
          "text": [
            "[Epoch 23/500] Train Loss: 0.0350 | Val Acc: 13.65%\n"
          ]
        },
        {
          "output_type": "stream",
          "name": "stderr",
          "text": [
            "/usr/local/lib/python3.11/dist-packages/sklearn/metrics/_classification.py:1565: UndefinedMetricWarning: Precision is ill-defined and being set to 0.0 in labels with no predicted samples. Use `zero_division` parameter to control this behavior.\n",
            "  _warn_prf(average, modifier, f\"{metric.capitalize()} is\", len(result))\n"
          ]
        },
        {
          "output_type": "stream",
          "name": "stdout",
          "text": [
            "[Epoch 24/500] Train Loss: 0.0348 | Val Acc: 9.81%\n"
          ]
        },
        {
          "output_type": "stream",
          "name": "stderr",
          "text": [
            "/usr/local/lib/python3.11/dist-packages/sklearn/metrics/_classification.py:1565: UndefinedMetricWarning: Precision is ill-defined and being set to 0.0 in labels with no predicted samples. Use `zero_division` parameter to control this behavior.\n",
            "  _warn_prf(average, modifier, f\"{metric.capitalize()} is\", len(result))\n"
          ]
        },
        {
          "output_type": "stream",
          "name": "stdout",
          "text": [
            "[Epoch 25/500] Train Loss: 0.0357 | Val Acc: 10.77%\n"
          ]
        },
        {
          "output_type": "stream",
          "name": "stderr",
          "text": [
            "/usr/local/lib/python3.11/dist-packages/sklearn/metrics/_classification.py:1565: UndefinedMetricWarning: Precision is ill-defined and being set to 0.0 in labels with no predicted samples. Use `zero_division` parameter to control this behavior.\n",
            "  _warn_prf(average, modifier, f\"{metric.capitalize()} is\", len(result))\n"
          ]
        },
        {
          "output_type": "stream",
          "name": "stdout",
          "text": [
            "[Epoch 26/500] Train Loss: 0.0357 | Val Acc: 10.58%\n"
          ]
        },
        {
          "output_type": "stream",
          "name": "stderr",
          "text": [
            "/usr/local/lib/python3.11/dist-packages/sklearn/metrics/_classification.py:1565: UndefinedMetricWarning: Precision is ill-defined and being set to 0.0 in labels with no predicted samples. Use `zero_division` parameter to control this behavior.\n",
            "  _warn_prf(average, modifier, f\"{metric.capitalize()} is\", len(result))\n"
          ]
        },
        {
          "output_type": "stream",
          "name": "stdout",
          "text": [
            "[Epoch 27/500] Train Loss: 0.0350 | Val Acc: 13.46%\n"
          ]
        },
        {
          "output_type": "stream",
          "name": "stderr",
          "text": [
            "/usr/local/lib/python3.11/dist-packages/sklearn/metrics/_classification.py:1565: UndefinedMetricWarning: Precision is ill-defined and being set to 0.0 in labels with no predicted samples. Use `zero_division` parameter to control this behavior.\n",
            "  _warn_prf(average, modifier, f\"{metric.capitalize()} is\", len(result))\n"
          ]
        },
        {
          "output_type": "stream",
          "name": "stdout",
          "text": [
            "[Epoch 28/500] Train Loss: 0.0339 | Val Acc: 14.81%\n"
          ]
        },
        {
          "output_type": "stream",
          "name": "stderr",
          "text": [
            "/usr/local/lib/python3.11/dist-packages/sklearn/metrics/_classification.py:1565: UndefinedMetricWarning: Precision is ill-defined and being set to 0.0 in labels with no predicted samples. Use `zero_division` parameter to control this behavior.\n",
            "  _warn_prf(average, modifier, f\"{metric.capitalize()} is\", len(result))\n"
          ]
        },
        {
          "output_type": "stream",
          "name": "stdout",
          "text": [
            "[Epoch 29/500] Train Loss: 0.0342 | Val Acc: 13.27%\n"
          ]
        },
        {
          "output_type": "stream",
          "name": "stderr",
          "text": [
            "/usr/local/lib/python3.11/dist-packages/sklearn/metrics/_classification.py:1565: UndefinedMetricWarning: Precision is ill-defined and being set to 0.0 in labels with no predicted samples. Use `zero_division` parameter to control this behavior.\n",
            "  _warn_prf(average, modifier, f\"{metric.capitalize()} is\", len(result))\n"
          ]
        },
        {
          "output_type": "stream",
          "name": "stdout",
          "text": [
            "[Epoch 30/500] Train Loss: 0.0350 | Val Acc: 12.12%\n"
          ]
        },
        {
          "output_type": "stream",
          "name": "stderr",
          "text": [
            "/usr/local/lib/python3.11/dist-packages/sklearn/metrics/_classification.py:1565: UndefinedMetricWarning: Precision is ill-defined and being set to 0.0 in labels with no predicted samples. Use `zero_division` parameter to control this behavior.\n",
            "  _warn_prf(average, modifier, f\"{metric.capitalize()} is\", len(result))\n"
          ]
        },
        {
          "output_type": "stream",
          "name": "stdout",
          "text": [
            "[Epoch 31/500] Train Loss: 0.0347 | Val Acc: 16.35%\n"
          ]
        },
        {
          "output_type": "stream",
          "name": "stderr",
          "text": [
            "/usr/local/lib/python3.11/dist-packages/sklearn/metrics/_classification.py:1565: UndefinedMetricWarning: Precision is ill-defined and being set to 0.0 in labels with no predicted samples. Use `zero_division` parameter to control this behavior.\n",
            "  _warn_prf(average, modifier, f\"{metric.capitalize()} is\", len(result))\n"
          ]
        },
        {
          "output_type": "stream",
          "name": "stdout",
          "text": [
            "[Epoch 32/500] Train Loss: 0.0335 | Val Acc: 16.54%\n"
          ]
        },
        {
          "output_type": "stream",
          "name": "stderr",
          "text": [
            "/usr/local/lib/python3.11/dist-packages/sklearn/metrics/_classification.py:1565: UndefinedMetricWarning: Precision is ill-defined and being set to 0.0 in labels with no predicted samples. Use `zero_division` parameter to control this behavior.\n",
            "  _warn_prf(average, modifier, f\"{metric.capitalize()} is\", len(result))\n"
          ]
        },
        {
          "output_type": "stream",
          "name": "stdout",
          "text": [
            "[Epoch 33/500] Train Loss: 0.0323 | Val Acc: 17.12%\n"
          ]
        },
        {
          "output_type": "stream",
          "name": "stderr",
          "text": [
            "/usr/local/lib/python3.11/dist-packages/sklearn/metrics/_classification.py:1565: UndefinedMetricWarning: Precision is ill-defined and being set to 0.0 in labels with no predicted samples. Use `zero_division` parameter to control this behavior.\n",
            "  _warn_prf(average, modifier, f\"{metric.capitalize()} is\", len(result))\n"
          ]
        },
        {
          "output_type": "stream",
          "name": "stdout",
          "text": [
            "[Epoch 34/500] Train Loss: 0.0335 | Val Acc: 13.46%\n"
          ]
        },
        {
          "output_type": "stream",
          "name": "stderr",
          "text": [
            "/usr/local/lib/python3.11/dist-packages/sklearn/metrics/_classification.py:1565: UndefinedMetricWarning: Precision is ill-defined and being set to 0.0 in labels with no predicted samples. Use `zero_division` parameter to control this behavior.\n",
            "  _warn_prf(average, modifier, f\"{metric.capitalize()} is\", len(result))\n"
          ]
        },
        {
          "output_type": "stream",
          "name": "stdout",
          "text": [
            "[Epoch 35/500] Train Loss: 0.0343 | Val Acc: 12.88%\n"
          ]
        },
        {
          "output_type": "stream",
          "name": "stderr",
          "text": [
            "/usr/local/lib/python3.11/dist-packages/sklearn/metrics/_classification.py:1565: UndefinedMetricWarning: Precision is ill-defined and being set to 0.0 in labels with no predicted samples. Use `zero_division` parameter to control this behavior.\n",
            "  _warn_prf(average, modifier, f\"{metric.capitalize()} is\", len(result))\n"
          ]
        },
        {
          "output_type": "stream",
          "name": "stdout",
          "text": [
            "[Epoch 36/500] Train Loss: 0.0333 | Val Acc: 13.46%\n",
            "[Epoch 37/500] Train Loss: 0.0310 | Val Acc: 16.35%\n"
          ]
        },
        {
          "output_type": "stream",
          "name": "stderr",
          "text": [
            "/usr/local/lib/python3.11/dist-packages/sklearn/metrics/_classification.py:1565: UndefinedMetricWarning: Precision is ill-defined and being set to 0.0 in labels with no predicted samples. Use `zero_division` parameter to control this behavior.\n",
            "  _warn_prf(average, modifier, f\"{metric.capitalize()} is\", len(result))\n"
          ]
        },
        {
          "output_type": "stream",
          "name": "stdout",
          "text": [
            "[Epoch 38/500] Train Loss: 0.0311 | Val Acc: 15.19%\n"
          ]
        },
        {
          "output_type": "stream",
          "name": "stderr",
          "text": [
            "/usr/local/lib/python3.11/dist-packages/sklearn/metrics/_classification.py:1565: UndefinedMetricWarning: Precision is ill-defined and being set to 0.0 in labels with no predicted samples. Use `zero_division` parameter to control this behavior.\n",
            "  _warn_prf(average, modifier, f\"{metric.capitalize()} is\", len(result))\n"
          ]
        },
        {
          "output_type": "stream",
          "name": "stdout",
          "text": [
            "[Epoch 39/500] Train Loss: 0.0324 | Val Acc: 14.23%\n"
          ]
        },
        {
          "output_type": "stream",
          "name": "stderr",
          "text": [
            "/usr/local/lib/python3.11/dist-packages/sklearn/metrics/_classification.py:1565: UndefinedMetricWarning: Precision is ill-defined and being set to 0.0 in labels with no predicted samples. Use `zero_division` parameter to control this behavior.\n",
            "  _warn_prf(average, modifier, f\"{metric.capitalize()} is\", len(result))\n"
          ]
        },
        {
          "output_type": "stream",
          "name": "stdout",
          "text": [
            "[Epoch 40/500] Train Loss: 0.0330 | Val Acc: 15.96%\n",
            "[Epoch 41/500] Train Loss: 0.0307 | Val Acc: 15.00%\n"
          ]
        },
        {
          "output_type": "stream",
          "name": "stderr",
          "text": [
            "/usr/local/lib/python3.11/dist-packages/sklearn/metrics/_classification.py:1565: UndefinedMetricWarning: Precision is ill-defined and being set to 0.0 in labels with no predicted samples. Use `zero_division` parameter to control this behavior.\n",
            "  _warn_prf(average, modifier, f\"{metric.capitalize()} is\", len(result))\n"
          ]
        },
        {
          "output_type": "stream",
          "name": "stdout",
          "text": [
            "[Epoch 42/500] Train Loss: 0.0278 | Val Acc: 16.54%\n"
          ]
        },
        {
          "output_type": "stream",
          "name": "stderr",
          "text": [
            "/usr/local/lib/python3.11/dist-packages/sklearn/metrics/_classification.py:1565: UndefinedMetricWarning: Precision is ill-defined and being set to 0.0 in labels with no predicted samples. Use `zero_division` parameter to control this behavior.\n",
            "  _warn_prf(average, modifier, f\"{metric.capitalize()} is\", len(result))\n"
          ]
        },
        {
          "output_type": "stream",
          "name": "stdout",
          "text": [
            "[Epoch 43/500] Train Loss: 0.0297 | Val Acc: 10.96%\n"
          ]
        },
        {
          "output_type": "stream",
          "name": "stderr",
          "text": [
            "/usr/local/lib/python3.11/dist-packages/sklearn/metrics/_classification.py:1565: UndefinedMetricWarning: Precision is ill-defined and being set to 0.0 in labels with no predicted samples. Use `zero_division` parameter to control this behavior.\n",
            "  _warn_prf(average, modifier, f\"{metric.capitalize()} is\", len(result))\n"
          ]
        },
        {
          "output_type": "stream",
          "name": "stdout",
          "text": [
            "[Epoch 44/500] Train Loss: 0.0314 | Val Acc: 14.62%\n"
          ]
        },
        {
          "output_type": "stream",
          "name": "stderr",
          "text": [
            "/usr/local/lib/python3.11/dist-packages/sklearn/metrics/_classification.py:1565: UndefinedMetricWarning: Precision is ill-defined and being set to 0.0 in labels with no predicted samples. Use `zero_division` parameter to control this behavior.\n",
            "  _warn_prf(average, modifier, f\"{metric.capitalize()} is\", len(result))\n"
          ]
        },
        {
          "output_type": "stream",
          "name": "stdout",
          "text": [
            "[Epoch 45/500] Train Loss: 0.0304 | Val Acc: 12.69%\n",
            "[Epoch 46/500] Train Loss: 0.0271 | Val Acc: 14.04%\n",
            "[Epoch 47/500] Train Loss: 0.0254 | Val Acc: 12.31%\n"
          ]
        },
        {
          "output_type": "stream",
          "name": "stderr",
          "text": [
            "/usr/local/lib/python3.11/dist-packages/sklearn/metrics/_classification.py:1565: UndefinedMetricWarning: Precision is ill-defined and being set to 0.0 in labels with no predicted samples. Use `zero_division` parameter to control this behavior.\n",
            "  _warn_prf(average, modifier, f\"{metric.capitalize()} is\", len(result))\n"
          ]
        },
        {
          "output_type": "stream",
          "name": "stdout",
          "text": [
            "[Epoch 48/500] Train Loss: 0.0289 | Val Acc: 15.00%\n"
          ]
        },
        {
          "output_type": "stream",
          "name": "stderr",
          "text": [
            "/usr/local/lib/python3.11/dist-packages/sklearn/metrics/_classification.py:1565: UndefinedMetricWarning: Precision is ill-defined and being set to 0.0 in labels with no predicted samples. Use `zero_division` parameter to control this behavior.\n",
            "  _warn_prf(average, modifier, f\"{metric.capitalize()} is\", len(result))\n"
          ]
        },
        {
          "output_type": "stream",
          "name": "stdout",
          "text": [
            "[Epoch 49/500] Train Loss: 0.0301 | Val Acc: 15.19%\n",
            "[Epoch 50/500] Train Loss: 0.0273 | Val Acc: 14.81%\n",
            "[Epoch 51/500] Train Loss: 0.0226 | Val Acc: 15.19%\n"
          ]
        },
        {
          "output_type": "stream",
          "name": "stderr",
          "text": [
            "/usr/local/lib/python3.11/dist-packages/sklearn/metrics/_classification.py:1565: UndefinedMetricWarning: Precision is ill-defined and being set to 0.0 in labels with no predicted samples. Use `zero_division` parameter to control this behavior.\n",
            "  _warn_prf(average, modifier, f\"{metric.capitalize()} is\", len(result))\n"
          ]
        },
        {
          "output_type": "stream",
          "name": "stdout",
          "text": [
            "[Epoch 52/500] Train Loss: 0.0239 | Val Acc: 11.35%\n"
          ]
        },
        {
          "output_type": "stream",
          "name": "stderr",
          "text": [
            "/usr/local/lib/python3.11/dist-packages/sklearn/metrics/_classification.py:1565: UndefinedMetricWarning: Precision is ill-defined and being set to 0.0 in labels with no predicted samples. Use `zero_division` parameter to control this behavior.\n",
            "  _warn_prf(average, modifier, f\"{metric.capitalize()} is\", len(result))\n"
          ]
        },
        {
          "output_type": "stream",
          "name": "stdout",
          "text": [
            "[Epoch 53/500] Train Loss: 0.0279 | Val Acc: 13.65%\n",
            "[Epoch 54/500] Train Loss: 0.0276 | Val Acc: 15.38%\n",
            "[Epoch 55/500] Train Loss: 0.0230 | Val Acc: 15.77%\n",
            "[Epoch 56/500] Train Loss: 0.0193 | Val Acc: 12.69%\n",
            "[Epoch 57/500] Train Loss: 0.0234 | Val Acc: 16.15%\n"
          ]
        },
        {
          "output_type": "stream",
          "name": "stderr",
          "text": [
            "/usr/local/lib/python3.11/dist-packages/sklearn/metrics/_classification.py:1565: UndefinedMetricWarning: Precision is ill-defined and being set to 0.0 in labels with no predicted samples. Use `zero_division` parameter to control this behavior.\n",
            "  _warn_prf(average, modifier, f\"{metric.capitalize()} is\", len(result))\n"
          ]
        },
        {
          "output_type": "stream",
          "name": "stdout",
          "text": [
            "[Epoch 58/500] Train Loss: 0.0266 | Val Acc: 16.35%\n",
            "[Epoch 59/500] Train Loss: 0.0239 | Val Acc: 15.77%\n",
            "[Epoch 60/500] Train Loss: 0.0178 | Val Acc: 14.62%\n"
          ]
        },
        {
          "output_type": "stream",
          "name": "stderr",
          "text": [
            "/usr/local/lib/python3.11/dist-packages/sklearn/metrics/_classification.py:1565: UndefinedMetricWarning: Precision is ill-defined and being set to 0.0 in labels with no predicted samples. Use `zero_division` parameter to control this behavior.\n",
            "  _warn_prf(average, modifier, f\"{metric.capitalize()} is\", len(result))\n"
          ]
        },
        {
          "output_type": "stream",
          "name": "stdout",
          "text": [
            "[Epoch 61/500] Train Loss: 0.0177 | Val Acc: 13.85%\n",
            "[Epoch 62/500] Train Loss: 0.0235 | Val Acc: 14.04%\n",
            "[Epoch 63/500] Train Loss: 0.0250 | Val Acc: 11.15%\n",
            "[Epoch 64/500] Train Loss: 0.0190 | Val Acc: 15.96%\n",
            "[Epoch 65/500] Train Loss: 0.0134 | Val Acc: 14.04%\n",
            "[Epoch 66/500] Train Loss: 0.0173 | Val Acc: 13.85%\n"
          ]
        },
        {
          "output_type": "stream",
          "name": "stderr",
          "text": [
            "/usr/local/lib/python3.11/dist-packages/sklearn/metrics/_classification.py:1565: UndefinedMetricWarning: Precision is ill-defined and being set to 0.0 in labels with no predicted samples. Use `zero_division` parameter to control this behavior.\n",
            "  _warn_prf(average, modifier, f\"{metric.capitalize()} is\", len(result))\n"
          ]
        },
        {
          "output_type": "stream",
          "name": "stdout",
          "text": [
            "[Epoch 67/500] Train Loss: 0.0232 | Val Acc: 15.38%\n",
            "[Epoch 68/500] Train Loss: 0.0205 | Val Acc: 13.27%\n",
            "[Epoch 69/500] Train Loss: 0.0140 | Val Acc: 15.19%\n",
            "[Epoch 70/500] Train Loss: 0.0108 | Val Acc: 14.42%\n"
          ]
        },
        {
          "output_type": "stream",
          "name": "stderr",
          "text": [
            "/usr/local/lib/python3.11/dist-packages/sklearn/metrics/_classification.py:1565: UndefinedMetricWarning: Precision is ill-defined and being set to 0.0 in labels with no predicted samples. Use `zero_division` parameter to control this behavior.\n",
            "  _warn_prf(average, modifier, f\"{metric.capitalize()} is\", len(result))\n"
          ]
        },
        {
          "output_type": "stream",
          "name": "stdout",
          "text": [
            "[Epoch 71/500] Train Loss: 0.0180 | Val Acc: 12.88%\n",
            "[Epoch 72/500] Train Loss: 0.0219 | Val Acc: 15.00%\n",
            "[Epoch 73/500] Train Loss: 0.0159 | Val Acc: 13.46%\n",
            "[Epoch 74/500] Train Loss: 0.0092 | Val Acc: 14.42%\n",
            "[Epoch 75/500] Train Loss: 0.0111 | Val Acc: 16.54%\n"
          ]
        },
        {
          "output_type": "stream",
          "name": "stderr",
          "text": [
            "/usr/local/lib/python3.11/dist-packages/sklearn/metrics/_classification.py:1565: UndefinedMetricWarning: Precision is ill-defined and being set to 0.0 in labels with no predicted samples. Use `zero_division` parameter to control this behavior.\n",
            "  _warn_prf(average, modifier, f\"{metric.capitalize()} is\", len(result))\n"
          ]
        },
        {
          "output_type": "stream",
          "name": "stdout",
          "text": [
            "[Epoch 76/500] Train Loss: 0.0185 | Val Acc: 15.58%\n",
            "[Epoch 77/500] Train Loss: 0.0180 | Val Acc: 15.58%\n",
            "[Epoch 78/500] Train Loss: 0.0110 | Val Acc: 14.81%\n",
            "[Epoch 79/500] Train Loss: 0.0062 | Val Acc: 14.04%\n"
          ]
        },
        {
          "output_type": "stream",
          "name": "stderr",
          "text": [
            "/usr/local/lib/python3.11/dist-packages/sklearn/metrics/_classification.py:1565: UndefinedMetricWarning: Precision is ill-defined and being set to 0.0 in labels with no predicted samples. Use `zero_division` parameter to control this behavior.\n",
            "  _warn_prf(average, modifier, f\"{metric.capitalize()} is\", len(result))\n"
          ]
        },
        {
          "output_type": "stream",
          "name": "stdout",
          "text": [
            "[Epoch 80/500] Train Loss: 0.0128 | Val Acc: 9.42%\n",
            "[Epoch 81/500] Train Loss: 0.0175 | Val Acc: 14.04%\n",
            "[Epoch 82/500] Train Loss: 0.0141 | Val Acc: 13.85%\n",
            "[Epoch 83/500] Train Loss: 0.0065 | Val Acc: 14.23%\n",
            "[Epoch 84/500] Train Loss: 0.0057 | Val Acc: 15.58%\n",
            "[Epoch 85/500] Train Loss: 0.0136 | Val Acc: 15.38%\n",
            "[Epoch 86/500] Train Loss: 0.0160 | Val Acc: 18.27%\n",
            "[Epoch 87/500] Train Loss: 0.0078 | Val Acc: 13.08%\n",
            "[Epoch 88/500] Train Loss: 0.0039 | Val Acc: 14.23%\n",
            "[Epoch 89/500] Train Loss: 0.0075 | Val Acc: 14.04%\n",
            "[Epoch 90/500] Train Loss: 0.0153 | Val Acc: 12.12%\n",
            "[Epoch 91/500] Train Loss: 0.0122 | Val Acc: 14.42%\n",
            "[Epoch 92/500] Train Loss: 0.0047 | Val Acc: 15.19%\n",
            "[Epoch 93/500] Train Loss: 0.0029 | Val Acc: 14.23%\n",
            "[Epoch 94/500] Train Loss: 0.0101 | Val Acc: 15.38%\n"
          ]
        },
        {
          "output_type": "stream",
          "name": "stderr",
          "text": [
            "/usr/local/lib/python3.11/dist-packages/sklearn/metrics/_classification.py:1565: UndefinedMetricWarning: Precision is ill-defined and being set to 0.0 in labels with no predicted samples. Use `zero_division` parameter to control this behavior.\n",
            "  _warn_prf(average, modifier, f\"{metric.capitalize()} is\", len(result))\n"
          ]
        },
        {
          "output_type": "stream",
          "name": "stdout",
          "text": [
            "[Epoch 95/500] Train Loss: 0.0142 | Val Acc: 12.50%\n",
            "[Epoch 96/500] Train Loss: 0.0065 | Val Acc: 15.00%\n",
            "[Epoch 97/500] Train Loss: 0.0030 | Val Acc: 15.38%\n",
            "[Epoch 98/500] Train Loss: 0.0026 | Val Acc: 14.62%\n",
            "[Epoch 99/500] Train Loss: 0.0127 | Val Acc: 17.12%\n",
            "[Epoch 100/500] Train Loss: 0.0114 | Val Acc: 15.19%\n",
            "[Epoch 101/500] Train Loss: 0.0040 | Val Acc: 15.00%\n",
            "[Epoch 102/500] Train Loss: 0.0021 | Val Acc: 15.38%\n",
            "[Epoch 103/500] Train Loss: 0.0061 | Val Acc: 15.38%\n",
            "[Epoch 104/500] Train Loss: 0.0117 | Val Acc: 14.23%\n",
            "[Epoch 105/500] Train Loss: 0.0073 | Val Acc: 13.46%\n",
            "[Epoch 106/500] Train Loss: 0.0027 | Val Acc: 15.38%\n",
            "[Epoch 107/500] Train Loss: 0.0019 | Val Acc: 15.38%\n",
            "[Epoch 108/500] Train Loss: 0.0084 | Val Acc: 12.50%\n",
            "[Epoch 109/500] Train Loss: 0.0106 | Val Acc: 13.85%\n",
            "[Epoch 110/500] Train Loss: 0.0034 | Val Acc: 15.19%\n",
            "[Epoch 111/500] Train Loss: 0.0018 | Val Acc: 15.38%\n",
            "[Epoch 112/500] Train Loss: 0.0019 | Val Acc: 16.15%\n",
            "[Epoch 113/500] Train Loss: 0.0118 | Val Acc: 13.27%\n",
            "[Epoch 114/500] Train Loss: 0.0065 | Val Acc: 14.42%\n",
            "[Epoch 115/500] Train Loss: 0.0024 | Val Acc: 12.88%\n",
            "[Epoch 116/500] Train Loss: 0.0015 | Val Acc: 15.19%\n",
            "[Epoch 117/500] Train Loss: 0.0060 | Val Acc: 15.58%\n",
            "[Epoch 118/500] Train Loss: 0.0082 | Val Acc: 10.19%\n",
            "[Epoch 119/500] Train Loss: 0.0030 | Val Acc: 12.69%\n",
            "[Epoch 120/500] Train Loss: 0.0016 | Val Acc: 15.00%\n",
            "[Epoch 121/500] Train Loss: 0.0014 | Val Acc: 14.81%\n",
            "[Epoch 122/500] Train Loss: 0.0065 | Val Acc: 15.38%\n",
            "[Epoch 123/500] Train Loss: 0.0076 | Val Acc: 15.00%\n",
            "[Epoch 124/500] Train Loss: 0.0021 | Val Acc: 14.81%\n",
            "[Epoch 125/500] Train Loss: 0.0013 | Val Acc: 14.62%\n",
            "[Epoch 126/500] Train Loss: 0.0015 | Val Acc: 16.73%\n",
            "[Epoch 127/500] Train Loss: 0.0096 | Val Acc: 15.38%\n",
            "[Epoch 128/500] Train Loss: 0.0037 | Val Acc: 14.81%\n",
            "[Epoch 129/500] Train Loss: 0.0014 | Val Acc: 15.19%\n",
            "[Epoch 130/500] Train Loss: 0.0011 | Val Acc: 14.81%\n",
            "[Epoch 131/500] Train Loss: 0.0039 | Val Acc: 14.23%\n",
            "[Epoch 132/500] Train Loss: 0.0075 | Val Acc: 13.46%\n",
            "[Epoch 133/500] Train Loss: 0.0024 | Val Acc: 13.85%\n",
            "[Epoch 134/500] Train Loss: 0.0011 | Val Acc: 14.62%\n",
            "[Epoch 135/500] Train Loss: 0.0011 | Val Acc: 14.62%\n"
          ]
        },
        {
          "output_type": "stream",
          "name": "stderr",
          "text": [
            "/usr/local/lib/python3.11/dist-packages/sklearn/metrics/_classification.py:1565: UndefinedMetricWarning: Precision is ill-defined and being set to 0.0 in labels with no predicted samples. Use `zero_division` parameter to control this behavior.\n",
            "  _warn_prf(average, modifier, f\"{metric.capitalize()} is\", len(result))\n"
          ]
        },
        {
          "output_type": "stream",
          "name": "stdout",
          "text": [
            "[Epoch 136/500] Train Loss: 0.0074 | Val Acc: 10.38%\n",
            "[Epoch 137/500] Train Loss: 0.0044 | Val Acc: 15.19%\n",
            "[Epoch 138/500] Train Loss: 0.0013 | Val Acc: 15.00%\n",
            "[Epoch 139/500] Train Loss: 0.0009 | Val Acc: 16.15%\n",
            "[Epoch 140/500] Train Loss: 0.0011 | Val Acc: 14.23%\n",
            "[Epoch 141/500] Train Loss: 0.0075 | Val Acc: 15.96%\n",
            "[Epoch 142/500] Train Loss: 0.0020 | Val Acc: 15.58%\n",
            "[Epoch 143/500] Train Loss: 0.0010 | Val Acc: 15.19%\n",
            "[Epoch 144/500] Train Loss: 0.0008 | Val Acc: 15.38%\n",
            "[Epoch 145/500] Train Loss: 0.0034 | Val Acc: 15.19%\n",
            "[Epoch 146/500] Train Loss: 0.0058 | Val Acc: 15.19%\n",
            "[Epoch 147/500] Train Loss: 0.0013 | Val Acc: 15.00%\n",
            "[Epoch 148/500] Train Loss: 0.0007 | Val Acc: 15.38%\n",
            "[Epoch 149/500] Train Loss: 0.0008 | Val Acc: 16.15%\n",
            "[Epoch 150/500] Train Loss: 0.0067 | Val Acc: 13.08%\n",
            "[Epoch 151/500] Train Loss: 0.0017 | Val Acc: 15.96%\n",
            "[Epoch 152/500] Train Loss: 0.0008 | Val Acc: 14.62%\n",
            "[Epoch 153/500] Train Loss: 0.0006 | Val Acc: 15.19%\n"
          ]
        },
        {
          "output_type": "stream",
          "name": "stderr",
          "text": [
            "/usr/local/lib/python3.11/dist-packages/sklearn/metrics/_classification.py:1565: UndefinedMetricWarning: Precision is ill-defined and being set to 0.0 in labels with no predicted samples. Use `zero_division` parameter to control this behavior.\n",
            "  _warn_prf(average, modifier, f\"{metric.capitalize()} is\", len(result))\n"
          ]
        },
        {
          "output_type": "stream",
          "name": "stdout",
          "text": [
            "[Epoch 154/500] Train Loss: 0.0029 | Val Acc: 15.19%\n",
            "[Epoch 155/500] Train Loss: 0.0037 | Val Acc: 15.38%\n",
            "[Epoch 156/500] Train Loss: 0.0012 | Val Acc: 15.58%\n",
            "[Epoch 157/500] Train Loss: 0.0006 | Val Acc: 14.81%\n",
            "[Epoch 158/500] Train Loss: 0.0006 | Val Acc: 15.19%\n"
          ]
        },
        {
          "output_type": "stream",
          "name": "stderr",
          "text": [
            "/usr/local/lib/python3.11/dist-packages/sklearn/metrics/_classification.py:1565: UndefinedMetricWarning: Precision is ill-defined and being set to 0.0 in labels with no predicted samples. Use `zero_division` parameter to control this behavior.\n",
            "  _warn_prf(average, modifier, f\"{metric.capitalize()} is\", len(result))\n"
          ]
        },
        {
          "output_type": "stream",
          "name": "stdout",
          "text": [
            "[Epoch 159/500] Train Loss: 0.0027 | Val Acc: 15.58%\n",
            "[Epoch 160/500] Train Loss: 0.0049 | Val Acc: 13.65%\n",
            "[Epoch 161/500] Train Loss: 0.0010 | Val Acc: 14.42%\n",
            "[Epoch 162/500] Train Loss: 0.0005 | Val Acc: 14.23%\n",
            "[Epoch 163/500] Train Loss: 0.0006 | Val Acc: 14.04%\n",
            "[Epoch 164/500] Train Loss: 0.0057 | Val Acc: 13.27%\n",
            "[Epoch 165/500] Train Loss: 0.0014 | Val Acc: 13.85%\n",
            "[Epoch 166/500] Train Loss: 0.0005 | Val Acc: 15.00%\n",
            "[Epoch 167/500] Train Loss: 0.0005 | Val Acc: 13.85%\n",
            "[Epoch 168/500] Train Loss: 0.0007 | Val Acc: 14.23%\n",
            "[Epoch 169/500] Train Loss: 0.0032 | Val Acc: 15.00%\n",
            "[Epoch 170/500] Train Loss: 0.0010 | Val Acc: 15.38%\n",
            "[Epoch 171/500] Train Loss: 0.0005 | Val Acc: 14.81%\n",
            "[Epoch 172/500] Train Loss: 0.0004 | Val Acc: 14.62%\n",
            "[Epoch 173/500] Train Loss: 0.0037 | Val Acc: 13.85%\n",
            "[Epoch 174/500] Train Loss: 0.0011 | Val Acc: 14.62%\n",
            "[Epoch 175/500] Train Loss: 0.0006 | Val Acc: 14.62%\n",
            "[Epoch 176/500] Train Loss: 0.0004 | Val Acc: 14.04%\n",
            "[Epoch 177/500] Train Loss: 0.0005 | Val Acc: 13.65%\n",
            "[Epoch 178/500] Train Loss: 0.0036 | Val Acc: 14.62%\n",
            "[Epoch 179/500] Train Loss: 0.0008 | Val Acc: 15.96%\n",
            "[Epoch 180/500] Train Loss: 0.0004 | Val Acc: 15.00%\n",
            "[Epoch 181/500] Train Loss: 0.0003 | Val Acc: 15.77%\n",
            "[Epoch 182/500] Train Loss: 0.0021 | Val Acc: 13.65%\n",
            "[Epoch 183/500] Train Loss: 0.0017 | Val Acc: 13.85%\n",
            "[Epoch 184/500] Train Loss: 0.0006 | Val Acc: 14.23%\n",
            "[Epoch 185/500] Train Loss: 0.0003 | Val Acc: 13.85%\n",
            "[Epoch 186/500] Train Loss: 0.0003 | Val Acc: 14.04%\n",
            "[Epoch 187/500] Train Loss: 0.0026 | Val Acc: 15.77%\n",
            "[Epoch 188/500] Train Loss: 0.0010 | Val Acc: 14.23%\n",
            "[Epoch 189/500] Train Loss: 0.0004 | Val Acc: 14.42%\n",
            "[Epoch 190/500] Train Loss: 0.0003 | Val Acc: 15.19%\n",
            "[Epoch 191/500] Train Loss: 0.0003 | Val Acc: 14.23%\n",
            "[Epoch 192/500] Train Loss: 0.0029 | Val Acc: 12.88%\n",
            "[Epoch 193/500] Train Loss: 0.0007 | Val Acc: 13.27%\n",
            "[Epoch 194/500] Train Loss: 0.0003 | Val Acc: 14.04%\n",
            "[Epoch 195/500] Train Loss: 0.0003 | Val Acc: 14.62%\n",
            "[Epoch 196/500] Train Loss: 0.0004 | Val Acc: 13.85%\n",
            "[Epoch 197/500] Train Loss: 0.0032 | Val Acc: 14.81%\n",
            "[Epoch 198/500] Train Loss: 0.0007 | Val Acc: 13.65%\n",
            "[Epoch 199/500] Train Loss: 0.0003 | Val Acc: 15.19%\n",
            "[Epoch 200/500] Train Loss: 0.0003 | Val Acc: 14.42%\n",
            "[Epoch 201/500] Train Loss: 0.0021 | Val Acc: 16.54%\n",
            "[Epoch 202/500] Train Loss: 0.0008 | Val Acc: 14.81%\n",
            "[Epoch 203/500] Train Loss: 0.0003 | Val Acc: 13.27%\n",
            "[Epoch 204/500] Train Loss: 0.0002 | Val Acc: 15.77%\n",
            "[Epoch 205/500] Train Loss: 0.0003 | Val Acc: 14.62%\n",
            "[Epoch 206/500] Train Loss: 0.0028 | Val Acc: 13.46%\n",
            "[Epoch 207/500] Train Loss: 0.0005 | Val Acc: 13.08%\n",
            "[Epoch 208/500] Train Loss: 0.0003 | Val Acc: 14.04%\n",
            "[Epoch 209/500] Train Loss: 0.0002 | Val Acc: 13.85%\n",
            "[Epoch 210/500] Train Loss: 0.0003 | Val Acc: 14.42%\n",
            "[Epoch 211/500] Train Loss: 0.0016 | Val Acc: 14.23%\n",
            "[Epoch 212/500] Train Loss: 0.0005 | Val Acc: 15.96%\n",
            "[Epoch 213/500] Train Loss: 0.0002 | Val Acc: 15.19%\n",
            "[Epoch 214/500] Train Loss: 0.0002 | Val Acc: 14.81%\n",
            "[Epoch 215/500] Train Loss: 0.0003 | Val Acc: 14.04%\n",
            "[Epoch 216/500] Train Loss: 0.0002 | Val Acc: 14.04%\n",
            "[Epoch 217/500] Train Loss: 0.0002 | Val Acc: 14.23%\n",
            "[Epoch 218/500] Train Loss: 0.0009 | Val Acc: 14.81%\n",
            "[Epoch 219/500] Train Loss: 0.0004 | Val Acc: 16.15%\n",
            "[Epoch 220/500] Train Loss: 0.0003 | Val Acc: 16.15%\n",
            "[Epoch 221/500] Train Loss: 0.0003 | Val Acc: 13.85%\n",
            "[Epoch 222/500] Train Loss: 0.0003 | Val Acc: 15.00%\n",
            "[Epoch 223/500] Train Loss: 0.0002 | Val Acc: 14.81%\n"
          ]
        },
        {
          "output_type": "stream",
          "name": "stderr",
          "text": [
            "/usr/local/lib/python3.11/dist-packages/sklearn/metrics/_classification.py:1565: UndefinedMetricWarning: Precision is ill-defined and being set to 0.0 in labels with no predicted samples. Use `zero_division` parameter to control this behavior.\n",
            "  _warn_prf(average, modifier, f\"{metric.capitalize()} is\", len(result))\n"
          ]
        },
        {
          "output_type": "stream",
          "name": "stdout",
          "text": [
            "[Epoch 224/500] Train Loss: 0.0003 | Val Acc: 8.65%\n",
            "[Epoch 225/500] Train Loss: 0.0017 | Val Acc: 13.85%\n",
            "[Epoch 226/500] Train Loss: 0.0003 | Val Acc: 15.58%\n",
            "[Epoch 227/500] Train Loss: 0.0001 | Val Acc: 15.00%\n",
            "[Epoch 228/500] Train Loss: 0.0002 | Val Acc: 15.19%\n",
            "[Epoch 229/500] Train Loss: 0.0002 | Val Acc: 13.65%\n",
            "[Epoch 230/500] Train Loss: 0.0003 | Val Acc: 15.19%\n",
            "[Epoch 231/500] Train Loss: 0.0003 | Val Acc: 15.58%\n",
            "[Epoch 232/500] Train Loss: 0.0002 | Val Acc: 14.81%\n",
            "[Epoch 233/500] Train Loss: 0.0013 | Val Acc: 15.38%\n",
            "[Epoch 234/500] Train Loss: 0.0004 | Val Acc: 14.62%\n",
            "[Epoch 235/500] Train Loss: 0.0001 | Val Acc: 15.38%\n",
            "[Epoch 236/500] Train Loss: 0.0001 | Val Acc: 15.19%\n",
            "[Epoch 237/500] Train Loss: 0.0002 | Val Acc: 15.00%\n",
            "[Epoch 238/500] Train Loss: 0.0002 | Val Acc: 15.77%\n",
            "[Epoch 239/500] Train Loss: 0.0010 | Val Acc: 15.19%\n",
            "[Epoch 240/500] Train Loss: 0.0003 | Val Acc: 14.04%\n",
            "[Epoch 241/500] Train Loss: 0.0001 | Val Acc: 15.38%\n",
            "[Epoch 242/500] Train Loss: 0.0002 | Val Acc: 14.62%\n",
            "[Epoch 243/500] Train Loss: 0.0002 | Val Acc: 16.15%\n",
            "[Epoch 244/500] Train Loss: 0.0001 | Val Acc: 15.19%\n",
            "[Epoch 245/500] Train Loss: 0.0002 | Val Acc: 15.58%\n",
            "[Epoch 246/500] Train Loss: 0.0002 | Val Acc: 13.08%\n",
            "[Epoch 247/500] Train Loss: 0.0014 | Val Acc: 15.19%\n",
            "[Epoch 248/500] Train Loss: 0.0004 | Val Acc: 14.81%\n",
            "[Epoch 249/500] Train Loss: 0.0001 | Val Acc: 14.81%\n",
            "[Epoch 250/500] Train Loss: 0.0001 | Val Acc: 14.81%\n",
            "[Epoch 251/500] Train Loss: 0.0001 | Val Acc: 14.62%\n",
            "[Epoch 252/500] Train Loss: 0.0011 | Val Acc: 14.04%\n",
            "[Epoch 253/500] Train Loss: 0.0003 | Val Acc: 14.23%\n",
            "[Epoch 254/500] Train Loss: 0.0001 | Val Acc: 14.04%\n",
            "[Epoch 255/500] Train Loss: 0.0001 | Val Acc: 14.42%\n",
            "[Epoch 256/500] Train Loss: 0.0001 | Val Acc: 13.65%\n",
            "[Epoch 257/500] Train Loss: 0.0001 | Val Acc: 15.00%\n",
            "[Epoch 258/500] Train Loss: 0.0007 | Val Acc: 15.96%\n",
            "[Epoch 259/500] Train Loss: 0.0002 | Val Acc: 14.04%\n",
            "[Epoch 260/500] Train Loss: 0.0001 | Val Acc: 14.42%\n",
            "[Epoch 261/500] Train Loss: 0.0001 | Val Acc: 13.85%\n",
            "[Epoch 262/500] Train Loss: 0.0001 | Val Acc: 15.19%\n",
            "[Epoch 263/500] Train Loss: 0.0001 | Val Acc: 14.62%\n",
            "[Epoch 264/500] Train Loss: 0.0001 | Val Acc: 14.81%\n",
            "[Epoch 265/500] Train Loss: 0.0005 | Val Acc: 14.62%\n",
            "[Epoch 266/500] Train Loss: 0.0004 | Val Acc: 14.42%\n",
            "[Epoch 267/500] Train Loss: 0.0002 | Val Acc: 15.38%\n",
            "[Epoch 268/500] Train Loss: 0.0001 | Val Acc: 15.19%\n",
            "[Epoch 269/500] Train Loss: 0.0002 | Val Acc: 15.19%\n",
            "[Epoch 270/500] Train Loss: 0.0005 | Val Acc: 14.23%\n",
            "[Epoch 271/500] Train Loss: 0.0002 | Val Acc: 13.46%\n",
            "[Epoch 272/500] Train Loss: 0.0001 | Val Acc: 14.62%\n",
            "[Epoch 273/500] Train Loss: 0.0001 | Val Acc: 15.77%\n",
            "[Epoch 274/500] Train Loss: 0.0001 | Val Acc: 15.00%\n",
            "[Epoch 275/500] Train Loss: 0.0011 | Val Acc: 14.81%\n",
            "[Epoch 276/500] Train Loss: 0.0003 | Val Acc: 13.27%\n",
            "[Epoch 277/500] Train Loss: 0.0001 | Val Acc: 15.38%\n",
            "[Epoch 278/500] Train Loss: 0.0001 | Val Acc: 15.19%\n",
            "[Epoch 279/500] Train Loss: 0.0001 | Val Acc: 14.81%\n",
            "[Epoch 280/500] Train Loss: 0.0001 | Val Acc: 14.81%\n",
            "[Epoch 281/500] Train Loss: 0.0001 | Val Acc: 15.00%\n",
            "[Epoch 282/500] Train Loss: 0.0002 | Val Acc: 14.42%\n",
            "[Epoch 283/500] Train Loss: 0.0002 | Val Acc: 15.00%\n",
            "[Epoch 284/500] Train Loss: 0.0002 | Val Acc: 13.46%\n",
            "[Epoch 285/500] Train Loss: 0.0008 | Val Acc: 13.08%\n",
            "[Epoch 286/500] Train Loss: 0.0002 | Val Acc: 14.04%\n",
            "[Epoch 287/500] Train Loss: 0.0001 | Val Acc: 14.23%\n",
            "[Epoch 288/500] Train Loss: 0.0001 | Val Acc: 14.04%\n",
            "[Epoch 289/500] Train Loss: 0.0001 | Val Acc: 13.65%\n",
            "[Epoch 290/500] Train Loss: 0.0001 | Val Acc: 14.42%\n",
            "[Epoch 291/500] Train Loss: 0.0001 | Val Acc: 14.42%\n",
            "[Epoch 292/500] Train Loss: 0.0001 | Val Acc: 14.23%\n",
            "[Epoch 293/500] Train Loss: 0.0006 | Val Acc: 14.23%\n",
            "[Epoch 294/500] Train Loss: 0.0003 | Val Acc: 13.46%\n",
            "[Epoch 295/500] Train Loss: 0.0001 | Val Acc: 13.46%\n",
            "[Epoch 296/500] Train Loss: 0.0001 | Val Acc: 12.50%\n",
            "[Epoch 297/500] Train Loss: 0.0001 | Val Acc: 14.23%\n",
            "[Epoch 298/500] Train Loss: 0.0001 | Val Acc: 14.62%\n",
            "[Epoch 299/500] Train Loss: 0.0001 | Val Acc: 14.42%\n",
            "[Epoch 300/500] Train Loss: 0.0001 | Val Acc: 13.46%\n",
            "[Epoch 301/500] Train Loss: 0.0004 | Val Acc: 13.27%\n",
            "[Epoch 302/500] Train Loss: 0.0002 | Val Acc: 14.42%\n",
            "[Epoch 303/500] Train Loss: 0.0001 | Val Acc: 13.65%\n",
            "[Epoch 304/500] Train Loss: 0.0001 | Val Acc: 14.04%\n",
            "[Epoch 305/500] Train Loss: 0.0000 | Val Acc: 14.23%\n",
            "[Epoch 306/500] Train Loss: 0.0001 | Val Acc: 14.23%\n",
            "[Epoch 307/500] Train Loss: 0.0001 | Val Acc: 14.23%\n",
            "[Epoch 308/500] Train Loss: 0.0009 | Val Acc: 15.38%\n",
            "[Epoch 309/500] Train Loss: 0.0002 | Val Acc: 13.85%\n",
            "[Epoch 310/500] Train Loss: 0.0001 | Val Acc: 14.23%\n",
            "[Epoch 311/500] Train Loss: 0.0001 | Val Acc: 15.38%\n",
            "[Epoch 312/500] Train Loss: 0.0001 | Val Acc: 14.62%\n",
            "[Epoch 313/500] Train Loss: 0.0001 | Val Acc: 14.81%\n",
            "[Epoch 314/500] Train Loss: 0.0001 | Val Acc: 15.00%\n",
            "[Epoch 315/500] Train Loss: 0.0005 | Val Acc: 14.42%\n",
            "[Epoch 316/500] Train Loss: 0.0002 | Val Acc: 15.00%\n",
            "[Epoch 317/500] Train Loss: 0.0001 | Val Acc: 15.00%\n",
            "[Epoch 318/500] Train Loss: 0.0000 | Val Acc: 14.81%\n",
            "[Epoch 319/500] Train Loss: 0.0000 | Val Acc: 15.38%\n",
            "[Epoch 320/500] Train Loss: 0.0001 | Val Acc: 14.81%\n",
            "[Epoch 321/500] Train Loss: 0.0001 | Val Acc: 15.19%\n",
            "[Epoch 322/500] Train Loss: 0.0006 | Val Acc: 14.42%\n",
            "[Epoch 323/500] Train Loss: 0.0002 | Val Acc: 14.23%\n",
            "[Epoch 324/500] Train Loss: 0.0001 | Val Acc: 15.58%\n",
            "[Epoch 325/500] Train Loss: 0.0001 | Val Acc: 15.58%\n",
            "[Epoch 326/500] Train Loss: 0.0001 | Val Acc: 15.58%\n",
            "[Epoch 327/500] Train Loss: 0.0000 | Val Acc: 15.77%\n",
            "[Epoch 328/500] Train Loss: 0.0001 | Val Acc: 15.00%\n",
            "[Epoch 329/500] Train Loss: 0.0001 | Val Acc: 13.27%\n",
            "[Epoch 330/500] Train Loss: 0.0005 | Val Acc: 14.42%\n",
            "[Epoch 331/500] Train Loss: 0.0002 | Val Acc: 14.42%\n",
            "[Epoch 332/500] Train Loss: 0.0000 | Val Acc: 15.38%\n",
            "[Epoch 333/500] Train Loss: 0.0000 | Val Acc: 14.81%\n",
            "[Epoch 334/500] Train Loss: 0.0001 | Val Acc: 14.81%\n",
            "[Epoch 335/500] Train Loss: 0.0001 | Val Acc: 14.62%\n",
            "[Epoch 336/500] Train Loss: 0.0001 | Val Acc: 14.62%\n",
            "[Epoch 337/500] Train Loss: 0.0003 | Val Acc: 14.81%\n",
            "[Epoch 338/500] Train Loss: 0.0002 | Val Acc: 14.04%\n",
            "[Epoch 339/500] Train Loss: 0.0001 | Val Acc: 15.19%\n",
            "[Epoch 340/500] Train Loss: 0.0000 | Val Acc: 14.81%\n",
            "[Epoch 341/500] Train Loss: 0.0000 | Val Acc: 15.00%\n",
            "[Epoch 342/500] Train Loss: 0.0000 | Val Acc: 14.81%\n",
            "[Epoch 343/500] Train Loss: 0.0001 | Val Acc: 14.62%\n",
            "[Epoch 344/500] Train Loss: 0.0001 | Val Acc: 15.00%\n",
            "[Epoch 345/500] Train Loss: 0.0008 | Val Acc: 13.85%\n",
            "[Epoch 346/500] Train Loss: 0.0001 | Val Acc: 15.38%\n",
            "[Epoch 347/500] Train Loss: 0.0000 | Val Acc: 14.62%\n",
            "[Epoch 348/500] Train Loss: 0.0000 | Val Acc: 14.81%\n",
            "[Epoch 349/500] Train Loss: 0.0000 | Val Acc: 15.00%\n",
            "[Epoch 350/500] Train Loss: 0.0000 | Val Acc: 14.81%\n",
            "[Epoch 351/500] Train Loss: 0.0000 | Val Acc: 13.85%\n",
            "[Epoch 352/500] Train Loss: 0.0004 | Val Acc: 15.19%\n",
            "[Epoch 353/500] Train Loss: 0.0002 | Val Acc: 14.62%\n",
            "[Epoch 354/500] Train Loss: 0.0001 | Val Acc: 15.96%\n",
            "[Epoch 355/500] Train Loss: 0.0001 | Val Acc: 15.00%\n",
            "[Epoch 356/500] Train Loss: 0.0001 | Val Acc: 15.19%\n",
            "[Epoch 357/500] Train Loss: 0.0001 | Val Acc: 15.19%\n",
            "[Epoch 358/500] Train Loss: 0.0001 | Val Acc: 15.19%\n",
            "[Epoch 359/500] Train Loss: 0.0003 | Val Acc: 14.04%\n",
            "[Epoch 360/500] Train Loss: 0.0001 | Val Acc: 14.42%\n",
            "[Epoch 361/500] Train Loss: 0.0000 | Val Acc: 14.62%\n",
            "[Epoch 362/500] Train Loss: 0.0001 | Val Acc: 14.23%\n",
            "[Epoch 363/500] Train Loss: 0.0005 | Val Acc: 15.77%\n",
            "[Epoch 364/500] Train Loss: 0.0001 | Val Acc: 12.88%\n",
            "[Epoch 365/500] Train Loss: 0.0000 | Val Acc: 15.38%\n",
            "[Epoch 366/500] Train Loss: 0.0000 | Val Acc: 15.19%\n",
            "[Epoch 367/500] Train Loss: 0.0000 | Val Acc: 15.19%\n",
            "[Epoch 368/500] Train Loss: 0.0000 | Val Acc: 15.00%\n",
            "[Epoch 369/500] Train Loss: 0.0000 | Val Acc: 14.81%\n",
            "[Epoch 370/500] Train Loss: 0.0001 | Val Acc: 15.00%\n",
            "[Epoch 371/500] Train Loss: 0.0005 | Val Acc: 14.42%\n",
            "[Epoch 372/500] Train Loss: 0.0001 | Val Acc: 15.00%\n",
            "[Epoch 373/500] Train Loss: 0.0000 | Val Acc: 15.00%\n",
            "[Epoch 374/500] Train Loss: 0.0000 | Val Acc: 15.00%\n",
            "[Epoch 375/500] Train Loss: 0.0000 | Val Acc: 15.38%\n",
            "[Epoch 376/500] Train Loss: 0.0001 | Val Acc: 15.00%\n",
            "[Epoch 377/500] Train Loss: 0.0001 | Val Acc: 14.62%\n",
            "[Epoch 378/500] Train Loss: 0.0004 | Val Acc: 15.19%\n",
            "[Epoch 379/500] Train Loss: 0.0001 | Val Acc: 13.65%\n",
            "[Epoch 380/500] Train Loss: 0.0000 | Val Acc: 14.23%\n",
            "[Epoch 381/500] Train Loss: 0.0000 | Val Acc: 14.81%\n",
            "[Epoch 382/500] Train Loss: 0.0000 | Val Acc: 15.00%\n",
            "[Epoch 383/500] Train Loss: 0.0000 | Val Acc: 15.00%\n",
            "[Epoch 384/500] Train Loss: 0.0000 | Val Acc: 15.96%\n",
            "[Epoch 385/500] Train Loss: 0.0004 | Val Acc: 14.42%\n",
            "[Epoch 386/500] Train Loss: 0.0002 | Val Acc: 15.19%\n",
            "[Epoch 387/500] Train Loss: 0.0000 | Val Acc: 14.42%\n",
            "[Epoch 388/500] Train Loss: 0.0000 | Val Acc: 15.58%\n",
            "[Epoch 389/500] Train Loss: 0.0000 | Val Acc: 15.00%\n",
            "[Epoch 390/500] Train Loss: 0.0000 | Val Acc: 15.58%\n",
            "[Epoch 391/500] Train Loss: 0.0000 | Val Acc: 15.00%\n",
            "[Epoch 392/500] Train Loss: 0.0000 | Val Acc: 14.81%\n",
            "[Epoch 393/500] Train Loss: 0.0004 | Val Acc: 15.19%\n",
            "[Epoch 394/500] Train Loss: 0.0002 | Val Acc: 15.38%\n",
            "[Epoch 395/500] Train Loss: 0.0000 | Val Acc: 15.00%\n",
            "[Epoch 396/500] Train Loss: 0.0000 | Val Acc: 15.38%\n",
            "[Epoch 397/500] Train Loss: 0.0000 | Val Acc: 15.19%\n",
            "[Epoch 398/500] Train Loss: 0.0000 | Val Acc: 14.81%\n",
            "[Epoch 399/500] Train Loss: 0.0000 | Val Acc: 15.77%\n",
            "[Epoch 400/500] Train Loss: 0.0004 | Val Acc: 14.62%\n",
            "[Epoch 401/500] Train Loss: 0.0002 | Val Acc: 15.00%\n",
            "[Epoch 402/500] Train Loss: 0.0000 | Val Acc: 14.81%\n",
            "[Epoch 403/500] Train Loss: 0.0000 | Val Acc: 15.00%\n",
            "[Epoch 404/500] Train Loss: 0.0000 | Val Acc: 15.19%\n",
            "[Epoch 405/500] Train Loss: 0.0000 | Val Acc: 15.00%\n",
            "[Epoch 406/500] Train Loss: 0.0000 | Val Acc: 13.85%\n",
            "[Epoch 407/500] Train Loss: 0.0000 | Val Acc: 14.81%\n",
            "[Epoch 408/500] Train Loss: 0.0004 | Val Acc: 14.81%\n",
            "[Epoch 409/500] Train Loss: 0.0002 | Val Acc: 15.00%\n",
            "[Epoch 410/500] Train Loss: 0.0001 | Val Acc: 14.81%\n",
            "[Epoch 411/500] Train Loss: 0.0000 | Val Acc: 15.77%\n",
            "[Epoch 412/500] Train Loss: 0.0000 | Val Acc: 15.77%\n",
            "[Epoch 413/500] Train Loss: 0.0000 | Val Acc: 15.38%\n",
            "[Epoch 414/500] Train Loss: 0.0000 | Val Acc: 15.19%\n",
            "[Epoch 415/500] Train Loss: 0.0000 | Val Acc: 15.00%\n",
            "[Epoch 416/500] Train Loss: 0.0003 | Val Acc: 16.15%\n",
            "[Epoch 417/500] Train Loss: 0.0002 | Val Acc: 14.62%\n",
            "[Epoch 418/500] Train Loss: 0.0001 | Val Acc: 15.38%\n",
            "[Epoch 419/500] Train Loss: 0.0001 | Val Acc: 14.62%\n",
            "[Epoch 420/500] Train Loss: 0.0001 | Val Acc: 15.00%\n",
            "[Epoch 421/500] Train Loss: 0.0001 | Val Acc: 15.77%\n",
            "[Epoch 422/500] Train Loss: 0.0003 | Val Acc: 15.58%\n",
            "[Epoch 423/500] Train Loss: 0.0002 | Val Acc: 15.38%\n",
            "[Epoch 424/500] Train Loss: 0.0001 | Val Acc: 15.19%\n",
            "[Epoch 425/500] Train Loss: 0.0000 | Val Acc: 15.38%\n",
            "[Epoch 426/500] Train Loss: 0.0001 | Val Acc: 15.77%\n",
            "[Epoch 427/500] Train Loss: 0.0001 | Val Acc: 15.77%\n",
            "[Epoch 428/500] Train Loss: 0.0001 | Val Acc: 15.58%\n",
            "[Epoch 429/500] Train Loss: 0.0003 | Val Acc: 16.15%\n",
            "[Epoch 430/500] Train Loss: 0.0002 | Val Acc: 15.77%\n",
            "[Epoch 431/500] Train Loss: 0.0001 | Val Acc: 15.96%\n",
            "[Epoch 432/500] Train Loss: 0.0001 | Val Acc: 16.15%\n",
            "[Epoch 433/500] Train Loss: 0.0000 | Val Acc: 16.15%\n",
            "[Epoch 434/500] Train Loss: 0.0000 | Val Acc: 16.54%\n",
            "[Epoch 435/500] Train Loss: 0.0000 | Val Acc: 15.77%\n",
            "[Epoch 436/500] Train Loss: 0.0000 | Val Acc: 15.00%\n",
            "[Epoch 437/500] Train Loss: 0.0003 | Val Acc: 15.19%\n",
            "[Epoch 438/500] Train Loss: 0.0001 | Val Acc: 14.42%\n",
            "[Epoch 439/500] Train Loss: 0.0000 | Val Acc: 14.81%\n",
            "[Epoch 440/500] Train Loss: 0.0000 | Val Acc: 15.19%\n",
            "[Epoch 441/500] Train Loss: 0.0000 | Val Acc: 15.19%\n",
            "[Epoch 442/500] Train Loss: 0.0000 | Val Acc: 15.00%\n",
            "[Epoch 443/500] Train Loss: 0.0000 | Val Acc: 15.58%\n",
            "[Epoch 444/500] Train Loss: 0.0004 | Val Acc: 15.96%\n",
            "[Epoch 445/500] Train Loss: 0.0002 | Val Acc: 15.96%\n",
            "[Epoch 446/500] Train Loss: 0.0000 | Val Acc: 15.19%\n",
            "[Epoch 447/500] Train Loss: 0.0000 | Val Acc: 15.00%\n",
            "[Epoch 448/500] Train Loss: 0.0000 | Val Acc: 15.96%\n",
            "[Epoch 449/500] Train Loss: 0.0000 | Val Acc: 15.38%\n",
            "[Epoch 450/500] Train Loss: 0.0000 | Val Acc: 15.00%\n",
            "[Epoch 451/500] Train Loss: 0.0000 | Val Acc: 15.96%\n",
            "[Epoch 452/500] Train Loss: 0.0001 | Val Acc: 14.81%\n",
            "[Epoch 453/500] Train Loss: 0.0003 | Val Acc: 15.77%\n",
            "[Epoch 454/500] Train Loss: 0.0001 | Val Acc: 15.00%\n",
            "[Epoch 455/500] Train Loss: 0.0001 | Val Acc: 15.00%\n",
            "[Epoch 456/500] Train Loss: 0.0000 | Val Acc: 15.38%\n",
            "[Epoch 457/500] Train Loss: 0.0000 | Val Acc: 14.23%\n",
            "[Epoch 458/500] Train Loss: 0.0000 | Val Acc: 15.00%\n",
            "[Epoch 459/500] Train Loss: 0.0000 | Val Acc: 15.00%\n",
            "[Epoch 460/500] Train Loss: 0.0000 | Val Acc: 14.23%\n",
            "[Epoch 461/500] Train Loss: 0.0003 | Val Acc: 15.58%\n",
            "[Epoch 462/500] Train Loss: 0.0002 | Val Acc: 15.00%\n",
            "[Epoch 463/500] Train Loss: 0.0000 | Val Acc: 14.23%\n",
            "[Epoch 464/500] Train Loss: 0.0000 | Val Acc: 14.81%\n",
            "[Epoch 465/500] Train Loss: 0.0000 | Val Acc: 14.62%\n",
            "[Epoch 466/500] Train Loss: 0.0000 | Val Acc: 14.81%\n",
            "[Epoch 467/500] Train Loss: 0.0000 | Val Acc: 14.81%\n",
            "[Epoch 468/500] Train Loss: 0.0000 | Val Acc: 14.81%\n",
            "[Epoch 469/500] Train Loss: 0.0003 | Val Acc: 14.62%\n",
            "[Epoch 470/500] Train Loss: 0.0002 | Val Acc: 14.04%\n",
            "[Epoch 471/500] Train Loss: 0.0000 | Val Acc: 14.62%\n",
            "[Epoch 472/500] Train Loss: 0.0000 | Val Acc: 14.62%\n",
            "[Epoch 473/500] Train Loss: 0.0000 | Val Acc: 14.23%\n",
            "[Epoch 474/500] Train Loss: 0.0000 | Val Acc: 14.23%\n",
            "[Epoch 475/500] Train Loss: 0.0000 | Val Acc: 14.42%\n",
            "[Epoch 476/500] Train Loss: 0.0002 | Val Acc: 14.81%\n",
            "[Epoch 477/500] Train Loss: 0.0002 | Val Acc: 15.38%\n",
            "[Epoch 478/500] Train Loss: 0.0000 | Val Acc: 14.62%\n",
            "[Epoch 479/500] Train Loss: 0.0000 | Val Acc: 14.42%\n",
            "[Epoch 480/500] Train Loss: 0.0000 | Val Acc: 15.38%\n",
            "[Epoch 481/500] Train Loss: 0.0000 | Val Acc: 15.19%\n",
            "[Epoch 482/500] Train Loss: 0.0000 | Val Acc: 14.42%\n",
            "[Epoch 483/500] Train Loss: 0.0000 | Val Acc: 15.38%\n",
            "[Epoch 484/500] Train Loss: 0.0003 | Val Acc: 15.00%\n",
            "[Epoch 485/500] Train Loss: 0.0001 | Val Acc: 15.77%\n",
            "[Epoch 486/500] Train Loss: 0.0001 | Val Acc: 15.00%\n",
            "[Epoch 487/500] Train Loss: 0.0000 | Val Acc: 14.62%\n",
            "[Epoch 488/500] Train Loss: 0.0000 | Val Acc: 14.42%\n",
            "[Epoch 489/500] Train Loss: 0.0000 | Val Acc: 14.42%\n",
            "[Epoch 490/500] Train Loss: 0.0000 | Val Acc: 14.04%\n",
            "[Epoch 491/500] Train Loss: 0.0000 | Val Acc: 15.00%\n",
            "[Epoch 492/500] Train Loss: 0.0001 | Val Acc: 14.62%\n",
            "[Epoch 493/500] Train Loss: 0.0003 | Val Acc: 14.04%\n",
            "[Epoch 494/500] Train Loss: 0.0001 | Val Acc: 14.23%\n",
            "[Epoch 495/500] Train Loss: 0.0000 | Val Acc: 14.23%\n",
            "[Epoch 496/500] Train Loss: 0.0000 | Val Acc: 14.62%\n",
            "[Epoch 497/500] Train Loss: 0.0000 | Val Acc: 14.42%\n",
            "[Epoch 498/500] Train Loss: 0.0000 | Val Acc: 14.04%\n",
            "[Epoch 499/500] Train Loss: 0.0000 | Val Acc: 14.42%\n",
            "[Epoch 500/500] Train Loss: 0.0000 | Val Acc: 14.42%\n"
          ]
        }
      ]
    },
    {
      "cell_type": "code",
      "source": [
        "import matplotlib.pyplot as plt\n",
        "\n",
        "plt.figure(figsize=(12, 4))\n",
        "plt.style.use('tableau-colorblind10')\n",
        "\n",
        "# Plot training & validation loss\n",
        "plt.subplot(1, 2, 1)\n",
        "plt.plot(history[\"train_loss\"], label=\"Training Loss\")\n",
        "plt.plot(history[\"val_loss\"], label=\"Validation Loss\")\n",
        "plt.xlabel(\"Epoch\")\n",
        "plt.ylabel(\"Loss\")\n",
        "plt.legend()\n",
        "\n",
        "# Plot training & validation accuracy\n",
        "plt.subplot(1, 2, 2)\n",
        "plt.plot([v * 100 for v in history[\"train_acc\"]], label=\"Training Accuracy\")\n",
        "plt.plot([v * 100 for v in history[\"val_acc\"]], label=\"Validation Accuracy\")\n",
        "plt.xlabel(\"Epoch\")\n",
        "plt.ylabel(\"Accuracy (%)\")\n",
        "plt.legend()\n",
        "\n",
        "plt.suptitle(\"Training Progress (Loss & Accuracy)\")\n",
        "plt.tight_layout()\n",
        "plt.show()"
      ],
      "metadata": {
        "id": "BzCmk5Zy_96e",
        "colab": {
          "base_uri": "https://localhost:8080/",
          "height": 284
        },
        "outputId": "d9b59c29-4af7-41b8-f5b1-d4352607cf2f"
      },
      "id": "BzCmk5Zy_96e",
      "execution_count": null,
      "outputs": [
        {
          "output_type": "display_data",
          "data": {
            "text/plain": [
              "<Figure size 1200x400 with 2 Axes>"
            ],
            "image/png": "[encoded data removed]"
          },
          "metadata": {}
        }
      ]
    },
    {
      "cell_type": "markdown",
      "source": [
        "#Evaluate on test data"
      ],
      "metadata": {
        "id": "xs-0xKrFvCnJ"
      },
      "id": "xs-0xKrFvCnJ"
    },
    {
      "cell_type": "code",
      "source": [
        "def evaluate_on_loader(test_loader, name=\"test\"):\n",
        "    encoder.eval()\n",
        "    fc.eval()\n",
        "    labels = np.arange(0, 26)\n",
        "    Y, Y_hat = [], []\n",
        "\n",
        "    with torch.no_grad():\n",
        "        for x, y in test_loader:\n",
        "            x, y = x.to(device), y.to(device)\n",
        "            encoder_out = encoder(x)\n",
        "            y_hat = fc(encoder_out[1])\n",
        "            y_hat = F.softmax(y_hat, dim=1)\n",
        "\n",
        "            Y.append(y.detach().cpu())\n",
        "            Y_hat.append(y_hat.detach().cpu())\n",
        "\n",
        "    Y = torch.cat(Y, dim=0).numpy()\n",
        "    Y_hat = torch.cat(Y_hat, dim=0).numpy()\n",
        "\n",
        "    accuracy = top_k_accuracy_score(Y, Y_hat, k=1, labels=labels)\n",
        "    print(f\"{name} Accuracy: {accuracy:.2%}\")\n",
        "    return accuracy\n"
      ],
      "metadata": {
        "id": "LGmMW-mZVOrM"
      },
      "id": "LGmMW-mZVOrM",
      "execution_count": null,
      "outputs": []
    },
    {
      "cell_type": "code",
      "source": [
        "acc1 = evaluate_on_loader(test1_loader, name=\"Test1 (Seen Subject)\")\n",
        "acc2 = evaluate_on_loader(test2_loader, name=\"Test2 (Unseen Subject)\")"
      ],
      "metadata": {
        "id": "KVr8fRRkVRf1",
        "colab": {
          "base_uri": "https://localhost:8080/"
        },
        "outputId": "b854141a-94a7-46af-ff34-585a82b09e35"
      },
      "id": "KVr8fRRkVRf1",
      "execution_count": null,
      "outputs": [
        {
          "output_type": "stream",
          "name": "stdout",
          "text": [
            "Test1 (Seen Subject) Accuracy: 14.42%\n",
            "Test2 (Unseen Subject) Accuracy: 11.03%\n"
          ]
        }
      ]
    }
  ],
  "metadata": {
    "colab": {
      "provenance": [],
      "gpuType": "T4"
    },
    "accelerator": "GPU",
    "language_info": {
      "name": "python"
    },
    "kernelspec": {
      "name": "python3",
      "display_name": "Python 3"
    },
    "widgets": {
      "application/vnd.jupyter.widget-state+json": {
        "caf58f60dc3c454888f64320c7d10308": {
          "model_module": "@jupyter-widgets/controls",
          "model_name": "HBoxModel",
          "model_module_version": "1.5.0",
          "state": {
            "_dom_classes": [],
            "_model_module": "@jupyter-widgets/controls",
            "_model_module_version": "1.5.0",
            "_model_name": "HBoxModel",
            "_view_count": null,
            "_view_module": "@jupyter-widgets/controls",
            "_view_module_version": "1.5.0",
            "_view_name": "HBoxView",
            "box_style": "",
            "children": [
              "IPY_MODEL_3c98e30f8f774d92997e7e004ba44643",
              "IPY_MODEL_1287a17f5dc94440879dd56a9078d727",
              "IPY_MODEL_6db54f5aec434d7791dc393f35e71fde"
            ],
            "layout": "IPY_MODEL_0a2a4f5764854da19ee6eff441394518"
          }
        },
        "3c98e30f8f774d92997e7e004ba44643": {
          "model_module": "@jupyter-widgets/controls",
          "model_name": "HTMLModel",
          "model_module_version": "1.5.0",
          "state": {
            "_dom_classes": [],
            "_model_module": "@jupyter-widgets/controls",
            "_model_module_version": "1.5.0",
            "_model_name": "HTMLModel",
            "_view_count": null,
            "_view_module": "@jupyter-widgets/controls",
            "_view_module_version": "1.5.0",
            "_view_name": "HTMLView",
            "description": "",
            "description_tooltip": null,
            "layout": "IPY_MODEL_0a83f318da6f4ad098ff71d800833e8c",
            "placeholder": "​",
            "style": "IPY_MODEL_afd45f0a43fb4395a412cccf08b72d4a",
            "value": "Method ALL – Processing subject ALL – Val Accuracy: 14.42% | Best: 18.27%: 100%"
          }
        },
        "1287a17f5dc94440879dd56a9078d727": {
          "model_module": "@jupyter-widgets/controls",
          "model_name": "FloatProgressModel",
          "model_module_version": "1.5.0",
          "state": {
            "_dom_classes": [],
            "_model_module": "@jupyter-widgets/controls",
            "_model_module_version": "1.5.0",
            "_model_name": "FloatProgressModel",
            "_view_count": null,
            "_view_module": "@jupyter-widgets/controls",
            "_view_module_version": "1.5.0",
            "_view_name": "ProgressView",
            "bar_style": "success",
            "description": "",
            "description_tooltip": null,
            "layout": "IPY_MODEL_6f095713601c49d49b820bec5dfe379d",
            "max": 500,
            "min": 0,
            "orientation": "horizontal",
            "style": "IPY_MODEL_bb4c8db93ee44f2eb79d5fc40684aeac",
            "value": 500
          }
        },
        "6db54f5aec434d7791dc393f35e71fde": {
          "model_module": "@jupyter-widgets/controls",
          "model_name": "HTMLModel",
          "model_module_version": "1.5.0",
          "state": {
            "_dom_classes": [],
            "_model_module": "@jupyter-widgets/controls",
            "_model_module_version": "1.5.0",
            "_model_name": "HTMLModel",
            "_view_count": null,
            "_view_module": "@jupyter-widgets/controls",
            "_view_module_version": "1.5.0",
            "_view_name": "HTMLView",
            "description": "",
            "description_tooltip": null,
            "layout": "IPY_MODEL_22b8e2a135834f7cab88e3795a5999c8",
            "placeholder": "​",
            "style": "IPY_MODEL_8272b0cf76ea462b9b087e41633d6151",
            "value": " 500/500 [08:39&lt;00:00,  1.06it/s]"
          }
        },
        "0a2a4f5764854da19ee6eff441394518": {
          "model_module": "@jupyter-widgets/base",
          "model_name": "LayoutModel",
          "model_module_version": "1.2.0",
          "state": {
            "_model_module": "@jupyter-widgets/base",
            "_model_module_version": "1.2.0",
            "_model_name": "LayoutModel",
            "_view_count": null,
            "_view_module": "@jupyter-widgets/base",
            "_view_module_version": "1.2.0",
            "_view_name": "LayoutView",
            "align_content": null,
            "align_items": null,
            "align_self": null,
            "border": null,
            "bottom": null,
            "display": null,
            "flex": null,
            "flex_flow": null,
            "grid_area": null,
            "grid_auto_columns": null,
            "grid_auto_flow": null,
            "grid_auto_rows": null,
            "grid_column": null,
            "grid_gap": null,
            "grid_row": null,
            "grid_template_areas": null,
            "grid_template_columns": null,
            "grid_template_rows": null,
            "height": null,
            "justify_content": null,
            "justify_items": null,
            "left": null,
            "margin": null,
            "max_height": null,
            "max_width": null,
            "min_height": null,
            "min_width": null,
            "object_fit": null,
            "object_position": null,
            "order": null,
            "overflow": null,
            "overflow_x": null,
            "overflow_y": null,
            "padding": null,
            "right": null,
            "top": null,
            "visibility": null,
            "width": null
          }
        },
        "0a83f318da6f4ad098ff71d800833e8c": {
          "model_module": "@jupyter-widgets/base",
          "model_name": "LayoutModel",
          "model_module_version": "1.2.0",
          "state": {
            "_model_module": "@jupyter-widgets/base",
            "_model_module_version": "1.2.0",
            "_model_name": "LayoutModel",
            "_view_count": null,
            "_view_module": "@jupyter-widgets/base",
            "_view_module_version": "1.2.0",
            "_view_name": "LayoutView",
            "align_content": null,
            "align_items": null,
            "align_self": null,
            "border": null,
            "bottom": null,
            "display": null,
            "flex": null,
            "flex_flow": null,
            "grid_area": null,
            "grid_auto_columns": null,
            "grid_auto_flow": null,
            "grid_auto_rows": null,
            "grid_column": null,
            "grid_gap": null,
            "grid_row": null,
            "grid_template_areas": null,
            "grid_template_columns": null,
            "grid_template_rows": null,
            "height": null,
            "justify_content": null,
            "justify_items": null,
            "left": null,
            "margin": null,
            "max_height": null,
            "max_width": null,
            "min_height": null,
            "min_width": null,
            "object_fit": null,
            "object_position": null,
            "order": null,
            "overflow": null,
            "overflow_x": null,
            "overflow_y": null,
            "padding": null,
            "right": null,
            "top": null,
            "visibility": null,
            "width": null
          }
        },
        "afd45f0a43fb4395a412cccf08b72d4a": {
          "model_module": "@jupyter-widgets/controls",
          "model_name": "DescriptionStyleModel",
          "model_module_version": "1.5.0",
          "state": {
            "_model_module": "@jupyter-widgets/controls",
            "_model_module_version": "1.5.0",
            "_model_name": "DescriptionStyleModel",
            "_view_count": null,
            "_view_module": "@jupyter-widgets/base",
            "_view_module_version": "1.2.0",
            "_view_name": "StyleView",
            "description_width": ""
          }
        },
        "6f095713601c49d49b820bec5dfe379d": {
          "model_module": "@jupyter-widgets/base",
          "model_name": "LayoutModel",
          "model_module_version": "1.2.0",
          "state": {
            "_model_module": "@jupyter-widgets/base",
            "_model_module_version": "1.2.0",
            "_model_name": "LayoutModel",
            "_view_count": null,
            "_view_module": "@jupyter-widgets/base",
            "_view_module_version": "1.2.0",
            "_view_name": "LayoutView",
            "align_content": null,
            "align_items": null,
            "align_self": null,
            "border": null,
            "bottom": null,
            "display": null,
            "flex": null,
            "flex_flow": null,
            "grid_area": null,
            "grid_auto_columns": null,
            "grid_auto_flow": null,
            "grid_auto_rows": null,
            "grid_column": null,
            "grid_gap": null,
            "grid_row": null,
            "grid_template_areas": null,
            "grid_template_columns": null,
            "grid_template_rows": null,
            "height": null,
            "justify_content": null,
            "justify_items": null,
            "left": null,
            "margin": null,
            "max_height": null,
            "max_width": null,
            "min_height": null,
            "min_width": null,
            "object_fit": null,
            "object_position": null,
            "order": null,
            "overflow": null,
            "overflow_x": null,
            "overflow_y": null,
            "padding": null,
            "right": null,
            "top": null,
            "visibility": null,
            "width": null
          }
        },
        "bb4c8db93ee44f2eb79d5fc40684aeac": {
          "model_module": "@jupyter-widgets/controls",
          "model_name": "ProgressStyleModel",
          "model_module_version": "1.5.0",
          "state": {
            "_model_module": "@jupyter-widgets/controls",
            "_model_module_version": "1.5.0",
            "_model_name": "ProgressStyleModel",
            "_view_count": null,
            "_view_module": "@jupyter-widgets/base",
            "_view_module_version": "1.2.0",
            "_view_name": "StyleView",
            "bar_color": null,
            "description_width": ""
          }
        },
        "22b8e2a135834f7cab88e3795a5999c8": {
          "model_module": "@jupyter-widgets/base",
          "model_name": "LayoutModel",
          "model_module_version": "1.2.0",
          "state": {
            "_model_module": "@jupyter-widgets/base",
            "_model_module_version": "1.2.0",
            "_model_name": "LayoutModel",
            "_view_count": null,
            "_view_module": "@jupyter-widgets/base",
            "_view_module_version": "1.2.0",
            "_view_name": "LayoutView",
            "align_content": null,
            "align_items": null,
            "align_self": null,
            "border": null,
            "bottom": null,
            "display": null,
            "flex": null,
            "flex_flow": null,
            "grid_area": null,
            "grid_auto_columns": null,
            "grid_auto_flow": null,
            "grid_auto_rows": null,
            "grid_column": null,
            "grid_gap": null,
            "grid_row": null,
            "grid_template_areas": null,
            "grid_template_columns": null,
            "grid_template_rows": null,
            "height": null,
            "justify_content": null,
            "justify_items": null,
            "left": null,
            "margin": null,
            "max_height": null,
            "max_width": null,
            "min_height": null,
            "min_width": null,
            "object_fit": null,
            "object_position": null,
            "order": null,
            "overflow": null,
            "overflow_x": null,
            "overflow_y": null,
            "padding": null,
            "right": null,
            "top": null,
            "visibility": null,
            "width": null
          }
        },
        "8272b0cf76ea462b9b087e41633d6151": {
          "model_module": "@jupyter-widgets/controls",
          "model_name": "DescriptionStyleModel",
          "model_module_version": "1.5.0",
          "state": {
            "_model_module": "@jupyter-widgets/controls",
            "_model_module_version": "1.5.0",
            "_model_name": "DescriptionStyleModel",
            "_view_count": null,
            "_view_module": "@jupyter-widgets/base",
            "_view_module_version": "1.2.0",
            "_view_name": "StyleView",
            "description_width": ""
          }
        }
      }
    }
  },
  "nbformat": 4,
  "nbformat_minor": 5
}