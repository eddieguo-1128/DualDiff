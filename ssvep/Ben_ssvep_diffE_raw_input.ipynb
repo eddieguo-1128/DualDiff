{
 "cells": [
  {
   "cell_type": "markdown",
   "id": "0017f312",
   "metadata": {
    "id": "0017f312"
   },
   "source": [
    "# SSVEP Character Classification with DiffE"
   ]
  },
  {
   "cell_type": "code",
   "execution_count": 1,
   "id": "WnZeypG6gsYU",
   "metadata": {
    "colab": {
     "base_uri": "https://localhost:8080/"
    },
    "id": "WnZeypG6gsYU",
    "outputId": "8844b3e8-979b-4267-ce0c-de8b7f84e623"
   },
   "outputs": [],
   "source": [
    "#!pip install ema-pytorch"
   ]
  },
  {
   "cell_type": "code",
   "execution_count": 1,
   "id": "s8yKwaRCQxyM",
   "metadata": {
    "colab": {
     "base_uri": "https://localhost:8080/"
    },
    "id": "s8yKwaRCQxyM",
    "outputId": "8ce1ee92-c615-46c0-f956-89dc984811cc"
   },
   "outputs": [],
   "source": [
    "import os\n",
    "import sys\n",
    "# 26 13\n",
    "#!git clone https://github.com/diffe2023/Diff-E.git\n",
    "sys.path.append(r'C:\\Users\\shaoy\\Diff-E')\n"
   ]
  },
  {
   "cell_type": "code",
   "execution_count": 2,
   "id": "4MhV2qw9hu-m",
   "metadata": {
    "id": "4MhV2qw9hu-m"
   },
   "outputs": [],
   "source": [
    "import math\n",
    "from einops import reduce\n",
    "from functools import partial\n",
    "import random\n",
    "import argparse\n",
    "import numpy as np\n",
    "import torch\n",
    "import torch.nn as nn\n",
    "import torch.optim as optim\n",
    "import torch.nn.functional as F\n",
    "from torch.utils.data import Dataset, DataLoader\n",
    "from ema_pytorch import EMA\n",
    "#from tqdm.notebook import tqdm\n",
    "from tqdm import tqdm\n",
    "from sklearn.model_selection import train_test_split\n",
    "from sklearn.metrics import (\n",
    "    f1_score,\n",
    "    roc_auc_score,\n",
    "    precision_score,\n",
    "    recall_score,\n",
    "    top_k_accuracy_score,\n",
    ")"
   ]
  },
  {
   "cell_type": "code",
   "execution_count": 3,
   "id": "c5cf839a-4a38-4233-9bcd-421c3c905096",
   "metadata": {},
   "outputs": [
    {
     "name": "stdout",
     "output_type": "stream",
     "text": [
      "Using CUDA on GPU!\n"
     ]
    }
   ],
   "source": [
    "# Check if CUDA is available\n",
    "if torch.cuda.is_available():\n",
    "    device = torch.device(\"cuda\")\n",
    "    print(\"Using CUDA on GPU!\")\n",
    "else:\n",
    "    device = torch.device(\"cpu\")\n",
    "    print(\"CUDA is not available. Using CPU instead.\")"
   ]
  },
  {
   "cell_type": "code",
   "execution_count": 3,
   "id": "WjdWMaswQjkV",
   "metadata": {
    "colab": {
     "base_uri": "https://localhost:8080/"
    },
    "id": "WjdWMaswQjkV",
    "outputId": "7e193c56-5262-41b7-9436-6d1e2bf1a5fc"
   },
   "outputs": [],
   "source": [
    "# Uncomment this if you want to use Google Drive\n",
    "#from google.colab import drive\n",
    "#drive.mount('/content/drive')"
   ]
  },
  {
   "cell_type": "markdown",
   "id": "Do2JYBiZZp1z",
   "metadata": {
    "id": "Do2JYBiZZp1z"
   },
   "source": [
    "#load and preprocess data\n"
   ]
  },
  {
   "cell_type": "markdown",
   "id": "dPlrZ7Lez1XQ",
   "metadata": {
    "id": "dPlrZ7Lez1XQ"
   },
   "source": [
    "We retain the original SSVEP data preprocessing procedures, including:\n",
    "\n",
    "    Chebyshev bandpass filtering (6–90 Hz),\n",
    "    Noise removal and segmentation using a sliding window of 250 samples, followed by manual channel-wise standardization (subtracting the mean and dividing by the standard deviation),\n",
    "    Downsampling from 1000 Hz to 250 Hz.\n",
    "\n",
    "In this work, we directly load the preprocessed character-level files \"S#_chars.npy\" for subsequent training.\n",
    "\n",
    "Unlike the original setup where models are trained separately for each subject, we train a single model jointly across all subjects by concatenating all subjects' data."
   ]
  },
  {
   "cell_type": "code",
   "execution_count": 4,
   "id": "FD4sHQTI0fua",
   "metadata": {
    "id": "FD4sHQTI0fua"
   },
   "outputs": [],
   "source": [
    "# Define a function to perform z-score normalization on the data\n",
    "def zscore_norm(data):\n",
    "    # Calculate the mean and standard deviation for each channel in each batch\n",
    "    mean = torch.mean(data, dim=(1, 2))\n",
    "    std = torch.std(data, dim=(1, 2))\n",
    "\n",
    "    # Subtract the mean from each channel in each batch and divide by the standard deviation\n",
    "    norm_data = (data - mean[:, None, None]) / std[:, None, None]\n",
    "\n",
    "    return norm_data\n",
    "\n",
    "\n",
    "# Define a function to perform min-max normalization on the data\n",
    "def minmax_norm(data):\n",
    "    # Calculate the minimum and maximum values for each channel and sequence in the batch\n",
    "    min_vals = torch.min(data, dim=-1)[0]\n",
    "    max_vals = torch.max(data, dim=-1)[0]\n",
    "\n",
    "    # Scale the data to the range [0, 1]\n",
    "    norm_data = (data - min_vals.unsqueeze(-1)) / (\n",
    "        max_vals.unsqueeze(-1) - min_vals.unsqueeze(-1)\n",
    "    )\n",
    "\n",
    "    return norm_data"
   ]
  },
  {
   "cell_type": "code",
   "execution_count": 5,
   "id": "kpv9Xa910cDi",
   "metadata": {
    "id": "kpv9Xa910cDi"
   },
   "outputs": [],
   "source": [
    "'''\n",
    "class EEGDataset(Dataset):\n",
    "    \"Characterizes a dataset for PyTorch\"\n",
    "\n",
    "    def __init__(self, X, Y, transform=None):\n",
    "        \"Initialization\"\n",
    "        self.X = X\n",
    "        self.Y = Y\n",
    "        self.transform = transform\n",
    "\n",
    "    def __len__(self):\n",
    "        \"Denotes the total number of samples\"\n",
    "        return len(self.X)\n",
    "\n",
    "    def __getitem__(self, index):\n",
    "        \"Generates one sample of data\"\n",
    "        # Load data and get label\n",
    "        x = self.X[index]\n",
    "        y = self.Y[index]\n",
    "        if self.transform:\n",
    "            x = self.transform(x)\n",
    "        return x.squeeze(), y"
   ]
  },
  {
   "cell_type": "code",
   "execution_count": 6,
   "id": "ZA5ajGmtryq3",
   "metadata": {
    "id": "ZA5ajGmtryq3"
   },
   "outputs": [],
   "source": [
    "'''\n",
    "def load_data(root_dir, subject, session=None):\n",
    "    filename = f\"S{subject}_chars.npy\"\n",
    "    file_path = os.path.join(root_dir, filename)\n",
    "    data = np.load(file_path)  # shape: [26, 6, 64, 250]\n",
    "\n",
    "    X = data.reshape(-1, 64, 250)  # [26*6, 64, 250]\n",
    "    Y = np.repeat(np.arange(26), 6)  # label：0~25，each character repeats 6 times\n",
    "\n",
    "    X = torch.from_numpy(X).float()\n",
    "    Y = torch.tensor(Y, dtype=torch.long)\n",
    "    return X, Y\n",
    "\n",
    "#70% train-15% val-15% test\n",
    "def get_dataloader(X, Y, batch_size, batch_size_val, batch_size_test, seed, shuffle=True):\n",
    "    # train and test+val\n",
    "    X_train, X_temp, Y_train, Y_temp = train_test_split(\n",
    "        X, Y, test_size=0.3, stratify=Y, random_state=seed, shuffle=shuffle\n",
    "    )\n",
    "\n",
    "    # val and test\n",
    "    X_val, X_test, Y_val, Y_test = train_test_split(\n",
    "        X_temp, Y_temp, test_size=0.5, stratify=Y_temp, random_state=seed, shuffle=shuffle\n",
    "    )\n",
    "\n",
    "    train_set = EEGDataset(X_train, Y_train)\n",
    "    val_set = EEGDataset(X_val, Y_val)\n",
    "    test_set = EEGDataset(X_test, Y_test)\n",
    "\n",
    "    train_loader = DataLoader(train_set, batch_size=batch_size, shuffle=shuffle)\n",
    "    val_loader = DataLoader(val_set, batch_size=batch_size2, shuffle=False)\n",
    "    test_loader = DataLoader(test_set, batch_size=batch_size2, shuffle=False)\n",
    "\n",
    "    return train_loader, val_loader, test_loader\n"
   ]
  },
  {
   "cell_type": "code",
   "execution_count": 7,
   "id": "E7OtlGcDr8ZZ",
   "metadata": {
    "id": "E7OtlGcDr8ZZ"
   },
   "outputs": [],
   "source": [
    "'''\n",
    "def load_all_subjects(root_dir, subject_ids, session=None):\n",
    "    all_X, all_Y = [], []\n",
    "    for sid in subject_ids:\n",
    "        X, Y = load_data(root_dir=root_dir, subject=sid, session=session)\n",
    "        # print(f\"[Subject {sid}] X: {X.shape}, Y: {Y.shape}\")\n",
    "        # if X.shape[0] != Y.shape[0]:\n",
    "        #     print(f\"Mismatch at subject {sid}!\")\n",
    "        all_X.append(X)\n",
    "        all_Y.append(Y)\n",
    "    X = torch.cat(all_X, dim=0)\n",
    "    Y = torch.cat(all_Y, dim=0)\n",
    "    return X, Y"
   ]
  },
  {
   "cell_type": "code",
   "execution_count": 5,
   "id": "R1jZy_mPsxNI",
   "metadata": {
    "colab": {
     "base_uri": "https://localhost:8080/"
    },
    "id": "R1jZy_mPsxNI",
    "outputId": "36ea6ca8-c15d-4e6f-b739-91cfb21abd92"
   },
   "outputs": [
    {
     "name": "stdout",
     "output_type": "stream",
     "text": [
      "Random Seed:  43\n"
     ]
    }
   ],
   "source": [
    "seed = 43\n",
    "random.seed(seed)\n",
    "torch.manual_seed(seed)\n",
    "print(\"Random Seed: \", seed)"
   ]
  },
  {
   "cell_type": "code",
   "execution_count": 9,
   "id": "seWeK5dArjjM",
   "metadata": {
    "id": "seWeK5dArjjM"
   },
   "outputs": [],
   "source": [
    "'''\n",
    "subject_chars_dir = r'C:\\LTI 11785 Introduction to deep learning\\project\\SSVEP\\chars' # Where to store all character data\n",
    "subject_ids = list(range(1, 36)) #35 samples + 1\n",
    "\n",
    "device = torch.device(\"cuda\" if torch.cuda.is_available() else \"cpu\")\n",
    "batch_size = 32\n",
    "batch_size2 = 260\n",
    "seed = 43\n",
    "shuffle = True\n",
    "\n",
    "# load all subjects' data\n",
    "X, Y = load_all_subjects(subject_chars_dir, subject_ids)\n",
    "train_loader, val_loader, test_loader = get_dataloader(X, Y, batch_size, batch_size2, batch_size2, seed, shuffle=shuffle)\n"
   ]
  },
  {
   "cell_type": "code",
   "execution_count": 1,
   "id": "5df02b6b-b787-4701-a0a5-6cd5790de12c",
   "metadata": {},
   "outputs": [
    {
     "ename": "NameError",
     "evalue": "name 'Dataset' is not defined",
     "output_type": "error",
     "traceback": [
      "\u001b[1;31m---------------------------------------------------------------------------\u001b[0m",
      "\u001b[1;31mNameError\u001b[0m                                 Traceback (most recent call last)",
      "Cell \u001b[1;32mIn[1], line 1\u001b[0m\n\u001b[1;32m----> 1\u001b[0m \u001b[38;5;28;01mclass\u001b[39;00m \u001b[38;5;21;01mEEGDataset\u001b[39;00m(Dataset):\n\u001b[0;32m      2\u001b[0m     \u001b[38;5;28;01mdef\u001b[39;00m \u001b[38;5;21m__init__\u001b[39m(\u001b[38;5;28mself\u001b[39m, features, labels, augment\u001b[38;5;241m=\u001b[39m\u001b[38;5;28;01mFalse\u001b[39;00m):\n\u001b[0;32m      3\u001b[0m         \u001b[38;5;28mself\u001b[39m\u001b[38;5;241m.\u001b[39mfeatures \u001b[38;5;241m=\u001b[39m features\n",
      "\u001b[1;31mNameError\u001b[0m: name 'Dataset' is not defined"
     ]
    }
   ],
   "source": [
    "class EEGDataset(Dataset):\n",
    "    def __init__(self, features, labels, augment=False):\n",
    "        self.features = features\n",
    "        self.labels = labels\n",
    "        self.augment = augment\n",
    "\n",
    "    def __len__(self):\n",
    "        return len(self.features)\n",
    "\n",
    "    def __getitem__(self, idx):\n",
    "        x = self.features[idx]\n",
    "        y = self.labels[idx]\n",
    "\n",
    "        if self.augment:\n",
    "            # apply your augmentation logic here\n",
    "            x = self.apply_augmentation(x)\n",
    "\n",
    "        return x, y\n",
    "\n",
    "    def apply_augmentation(self, x):\n",
    "        # define any augmentation wanted\n",
    "        return x\n",
    "\n",
    "\n",
    "def get_dataloader(file_path_X, file_path_y, batch_size=64, shuffle=False, augment=False):\n",
    "    X = np.load(file_path_X)\n",
    "    y = np.load(file_path_y)\n",
    "    X_T = torch.tensor(X, dtype=torch.float32)\n",
    "    y_T = torch.tensor(y, dtype=torch.float32)  # y is already 1-hot, long in case use cross-entropy\n",
    "    \n",
    "    dataset = EEGDataset(X_T, y_T, augment=augment)  # passed the tensors\n",
    "    \n",
    "    return DataLoader(dataset, batch_size=batch_size, shuffle=shuffle)\n",
    "\n",
    "\n",
    "train_loader = get_dataloader('processed_data/X_train.npy', \n",
    "                              'processed_data/y_train.npy', \n",
    "                              batch_size=128, shuffle=True)\n",
    "val_loader   = get_dataloader('processed_data/X_val.npy', \n",
    "                              'processed_data/y_val.npy', \n",
    "                              batch_size=128, shuffle=True)\n",
    "test_loader  = get_dataloader('processed_data/X_test1.npy', \n",
    "                              'processed_data/y_test1.npy', \n",
    "                              batch_size=128, shuffle=True)\n"
   ]
  },
  {
   "cell_type": "code",
   "execution_count": 7,
   "id": "f0JmYf8_7foW",
   "metadata": {
    "colab": {
     "base_uri": "https://localhost:8080/"
    },
    "id": "f0JmYf8_7foW",
    "outputId": "53b1c95e-e607-49fc-e4a1-4b3195a986f1",
    "scrolled": true
   },
   "outputs": [
    {
     "name": "stdout",
     "output_type": "stream",
     "text": [
      "Batch 1\n",
      " - X shape: torch.Size([128, 64, 250])\n",
      " - y shape: torch.Size([128, 40])\n",
      "Batch 2\n",
      " - X shape: torch.Size([128, 64, 250])\n",
      " - y shape: torch.Size([128, 40])\n"
     ]
    }
   ],
   "source": [
    "for batch_idx, (X_batch, y_batch) in enumerate(train_loader):\n",
    "    print(f\"Batch {batch_idx + 1}\")\n",
    "    print(f\" - X shape: {X_batch.shape}\")\n",
    "    print(f\" - y shape: {y_batch.shape}\")\n",
    "    if batch_idx == 1:  # Print only the first two batches\n",
    "        break"
   ]
  },
  {
   "cell_type": "code",
   "execution_count": 18,
   "id": "c2baed3a-4df0-447e-a4ff-2955e5dddb24",
   "metadata": {},
   "outputs": [],
   "source": [
    "#torch.set_printoptions(threshold=6000)\n",
    "#print(Y)"
   ]
  },
  {
   "cell_type": "code",
   "execution_count": 17,
   "id": "2ac25d77-cab4-452b-88fd-53f2cd0548fc",
   "metadata": {},
   "outputs": [],
   "source": [
    "#print(X)"
   ]
  },
  {
   "cell_type": "markdown",
   "id": "D-8XtejnbSv2",
   "metadata": {
    "id": "D-8XtejnbSv2"
   },
   "source": [
    "#model"
   ]
  },
  {
   "cell_type": "markdown",
   "id": "mV-wGFCs2hpy",
   "metadata": {
    "id": "mV-wGFCs2hpy"
   },
   "source": [
    "The overall model follows the original GitHub implementation, with a few necessary adjustments to align tensor time dimensions. Specifically, we aligned the temporal dimensions between up2 + temb and down1, up3 and x, and x_hat and x. These changes are clearly marked with comments in the code."
   ]
  },
  {
   "cell_type": "code",
   "execution_count": 8,
   "id": "ceb479ce",
   "metadata": {
    "id": "ceb479ce"
   },
   "outputs": [],
   "source": [
    "#define diffE model\n",
    "def get_padding(kernel_size, dilation=1):\n",
    "    return int((kernel_size * dilation - dilation) / 2)\n",
    "\n",
    "\n",
    "# Swish activation function\n",
    "class Swish(nn.Module):\n",
    "    def __init__(self):\n",
    "        super().__init__()\n",
    "        self.sigmoid = nn.Sigmoid()\n",
    "\n",
    "    def forward(self, x):\n",
    "        return x * self.sigmoid(x)\n",
    "\n",
    "\n",
    "'''Create a sinusoidal positional embedding of the positions.'''\n",
    "class SinusoidalPosEmb(nn.Module):\n",
    "    def __init__(self, dim):\n",
    "        super().__init__()\n",
    "        self.dim = dim\n",
    "\n",
    "    def forward(self, x):\n",
    "        device = x.device   # cast all operations on the same device\n",
    "        half_dim = self.dim // 2\n",
    "        # positional encoding uses sine and cosine for different dimensions\n",
    "        # each position is split into half, for sine and cosine\n",
    "        emb = math.log(10000) / (half_dim - 1)\n",
    "        # calculate logarithmic spacing factor\n",
    "        # wavelengths form a geometric progression from 2pi to 2e4pi\n",
    "        # provide a variety of frequencies to encode different positions\n",
    "        emb = torch.exp(torch.arange(half_dim, device=device) * -emb)\n",
    "        # create a tensor of size (half_dim)\n",
    "        # each entry is a step in the geometric progression\n",
    "        # represents the scaling factor for each dimension of the positional encoding\n",
    "        emb = x[:, None] * emb[None, :]\n",
    "        # scales the positions in x by the scaling factors computed previously\n",
    "        # broadcast to apply the scaling across all dimensions\n",
    "        emb = torch.cat((emb.sin(), emb.cos()), dim=-1)\n",
    "        # the sine and cosine functions are applied to the scaled positions\n",
    "        # concatenate along the last dimension to form the final positional embedding\n",
    "        return emb\n",
    "\n",
    "\n",
    "\"\"\"\n",
    "https://arxiv.org/abs/1903.10520\n",
    "weight standardization purportedly works synergistically with group normalization\n",
    "Standardize the weights of the convolution layers similarly to how batch norm\n",
    "standarizes activations.\n",
    "\"\"\"\n",
    "class WeightStandardizedConv1d(nn.Conv1d):\n",
    "\n",
    "    def forward(self, x):\n",
    "        eps = 1e-5 if x.dtype == torch.float32 else 1e-3  # avoid divide by zero\n",
    "\n",
    "        weight = self.weight  # convolutional weights of the layer\n",
    "        mean = reduce(weight, \"o ... -> o 1 1\", \"mean\")\n",
    "        # preserve the first dimension (o, output channel)\n",
    "        # reduce all other dimensions to size 1 (mean across all filter dimensions)\n",
    "        var = reduce(weight, \"o ... -> o 1 1\", partial(torch.var, unbiased=False))\n",
    "        # computes the variance along all dimensions except the first\n",
    "        # use biased estimator for variance calculation (i.e., divide by n and not n-1)\n",
    "        normalized_weight = (weight - mean) * (var + eps).rsqrt()\n",
    "        # normalize the weight with calculated mean and var\n",
    "\n",
    "        return F.conv1d(  # class variables defined with nn.Convid\n",
    "            x,\n",
    "            normalized_weight,\n",
    "            self.bias,\n",
    "            self.stride,\n",
    "            self.padding,\n",
    "            self.dilation,\n",
    "            self.groups,\n",
    "        )\n",
    "\n",
    "\n",
    "\n",
    "class ResidualConvBlock(nn.Module):  # inherits from nn.Module, a base class for a nn in PyTorch\n",
    "    def __init__(self, inc: int, outc: int, kernel_size: int, stride=1, gn=8):\n",
    "        super().__init__()\n",
    "        \"\"\"\n",
    "        standard ResNet style convolutional block\n",
    "        inc:         Number of input channels.\n",
    "        outc:        Number of output channels.\n",
    "        kernel_size: Size of the convolution kernel.\n",
    "        stride:      Stride of the convolution, with a default of 1.\n",
    "        gn:          Number of groups for Group Normalization, with a default of 8.\n",
    "        \"\"\"\n",
    "        self.same_channels = inc == outc  # boolean flag if in and out channels equals\n",
    "        self.ks = kernel_size\n",
    "        self.conv = nn.Sequential(\n",
    "            WeightStandardizedConv1d(inc, outc, self.ks, stride, get_padding(self.ks)),\n",
    "            # weights are normalized to improve training\n",
    "            nn.GroupNorm(gn, outc),\n",
    "            # group normalization using gn groups\n",
    "            # normalizes the outputs across specified group channels\n",
    "            # help stabilize learning, forr small batch / diverse data distributions\n",
    "            nn.PReLU(),\n",
    "            # parametric ReLU\n",
    "        )\n",
    "\n",
    "    def forward(self, x: torch.Tensor) -> torch.Tensor:\n",
    "        x1 = self.conv(x)  # use the defined conv sequence to output x1\n",
    "        if self.same_channels:  # residual connection if in and out channels equals\n",
    "            out = (x + x1) / 2\n",
    "        else:  # otherwise just output the x1\n",
    "            out = x1\n",
    "        return out\n",
    "\n",
    "\n",
    "'''Downsample the input feature maps.'''\n",
    "class UnetDown(nn.Module):\n",
    "    def __init__(self, in_channels, out_channels, kernel_size, gn=8, factor=2):\n",
    "        '''\n",
    "        in_channels:       Number of input channels.\n",
    "        out_channels:      Number of output channels.\n",
    "        kernel_size:       Size of the kernel in the convolutional layer.\n",
    "        gn (optional):     Number of groups for group normalization in the convolutional block, with a default value of 8.\n",
    "        factor (optional): The factor by which the spatial size will be reduced, with a default value of 2.\n",
    "        '''\n",
    "        super(UnetDown, self).__init__()\n",
    "        # initializes the base class nn.Module\n",
    "        self.pool = nn.MaxPool1d(factor)\n",
    "        # 1d max pooling, reduce spatial dimensions by a factor of 'factor'\n",
    "        self.layer = ResidualConvBlock(in_channels, out_channels, kernel_size, gn=gn)\n",
    "        # call the previously defined residual conv block\n",
    "\n",
    "    def forward(self, x):\n",
    "        x = self.layer(x)  # do the 1d (residual) conv\n",
    "        x = self.pool(x)   # then do the max pooling\n",
    "        return x\n",
    "\n",
    "\n",
    "'''Upsample the input feature maps.'''\n",
    "class UnetUp(nn.Module):\n",
    "    def __init__(self, in_channels, out_channels, kernel_size, gn=8, factor=2):\n",
    "        # same stuff, just upsample instead of downsample\n",
    "        super(UnetUp, self).__init__()\n",
    "        self.pool = nn.Upsample(scale_factor=factor, mode=\"nearest\")\n",
    "        # the upsample by a factor of 'factor' and using the nearest neighbor interpolation\n",
    "        self.layer = ResidualConvBlock(in_channels, out_channels, kernel_size, gn=gn)\n",
    "        # same thing\n",
    "\n",
    "    def forward(self, x):\n",
    "        x = self.pool(x)\n",
    "        # do the upsampling first\n",
    "        x = self.layer(x)\n",
    "        # then call the conv\n",
    "        return x\n",
    "\n",
    "\n",
    "'''Embed an input into a higher-dimensional space using a fully connected network.'''\n",
    "class EmbedFC(nn.Module):\n",
    "    def __init__(self, input_dim, emb_dim):\n",
    "        super(EmbedFC, self).__init__()\n",
    "        \"\"\"\n",
    "        generic one layer FC NN for embedding things\n",
    "        input_dim: The size of each input sample.\n",
    "        emb_dim:   The size of the embedding dimension to which the input data is transformed.\n",
    "        \"\"\"\n",
    "        self.input_dim = input_dim\n",
    "        layers = [\n",
    "            nn.Linear(input_dim, emb_dim),\n",
    "            nn.PReLU(),\n",
    "            nn.Linear(emb_dim, emb_dim),\n",
    "        ]\n",
    "        # layers to transform the input data\n",
    "        # simply linear-activate-linear transform to get to embedding dimension\n",
    "        self.model = nn.Sequential(*layers)\n",
    "        # sequential model calling the previously defined layers\n",
    "\n",
    "    def forward(self, x):\n",
    "        x = x.view(-1, self.input_dim)\n",
    "        # reshape x for correct number of features per data point\n",
    "        # expected by the model input\n",
    "        return self.model(x)  # return the output of the model\n",
    "\n",
    "\n",
    "'''U-Net conditional on time t using sinusoidal positional embedding.'''\n",
    "class ConditionalUNet(nn.Module):\n",
    "    def __init__(self, in_channels, n_feat=256):\n",
    "        super(ConditionalUNet, self).__init__()\n",
    "\n",
    "        # number of input channels and features per layer\n",
    "        self.in_channels = in_channels\n",
    "        self.n_feat = n_feat\n",
    "\n",
    "        # downsampling dimensions / num of features\n",
    "        self.d1_out = n_feat * 1\n",
    "        self.d2_out = n_feat * 2\n",
    "        self.d3_out = n_feat * 3\n",
    "        self.d4_out = n_feat * 4\n",
    "        \n",
    "        # upsampling dimensions / num of features\n",
    "        self.u1_out = n_feat\n",
    "        self.u2_out = n_feat\n",
    "        self.u3_out = n_feat\n",
    "        self.u4_out = in_channels\n",
    "\n",
    "        # sinusoidal positional embedding\n",
    "        self.sin_emb = SinusoidalPosEmb(n_feat)\n",
    "        # self.timeembed1 = EmbedFC(n_feat, self.u1_out)\n",
    "        # self.timeembed2 = EmbedFC(n_feat, self.u2_out)\n",
    "        # self.timeembed3 = EmbedFC(n_feat, self.u3_out)\n",
    "\n",
    "        # downsample and increase depth\n",
    "        self.down1 = UnetDown(in_channels, self.d1_out, 1, gn=8, factor=2)\n",
    "        self.down2 = UnetDown(self.d1_out, self.d2_out, 1, gn=8, factor=2)\n",
    "        self.down3 = UnetDown(self.d2_out, self.d3_out, 1, gn=8, factor=2)\n",
    "\n",
    "        # upsample and use skip connections\n",
    "        self.up2 = UnetUp(self.d3_out, self.u2_out, 1, gn=8, factor=2)\n",
    "        self.up3 = UnetUp(self.u2_out + self.d2_out, self.u3_out, 1, gn=8, factor=2)\n",
    "        self.up4 = UnetUp(self.u3_out + self.d1_out, self.u4_out, 1, gn=8, factor=2)\n",
    "\n",
    "        # combines the output of last upsampling step with original input\n",
    "        self.out = nn.Conv1d(self.u4_out + in_channels, in_channels, 1)\n",
    "\n",
    "    def forward(self, x, t):\n",
    "        # call and sequentially downsample the input, reduce size + increase depth\n",
    "        down1 = self.down1(x)      # 2000 -> 1000\n",
    "        down2 = self.down2(down1)  # 1000 -> 500\n",
    "        down3 = self.down3(down2)  # 500  -> 250\n",
    "\n",
    "        # embeds the time parameter using sinusoidal positional embeddings\n",
    "        # reshape it for concatenation with feature maps\n",
    "        temb = self.sin_emb(t).view(-1, self.n_feat, 1)  # [b, n_feat, 1]\n",
    "        \n",
    "        # up sampling with skip connections to add embedded time info\n",
    "        up1 = self.up2(down3)  # 250 -> 500\n",
    "        up2 = self.up3(torch.cat([up1 + temb, down2], 1))  # 500 -> 1000\n",
    "\n",
    "        # Align the temporal dimension of up2 + temb and down1\n",
    "        # ensure the dimensions match for concatenation by interpolating\n",
    "        # to the minimum size between up2 and down1\n",
    "        if (up2 + temb).shape[-1] != down1.shape[-1]:\n",
    "            target_len = min((up2 + temb).shape[-1], down1.shape[-1])\n",
    "            up2 = F.interpolate(up2, size=target_len)\n",
    "            down1 = F.interpolate(down1, size=target_len)\n",
    "\n",
    "        # do the final upsampling after combining the up2 and down1\n",
    "        up3 = self.up4(torch.cat([up2 + temb, down1], 1))  # 1000 -> 2000\n",
    "\n",
    "        # Align the temporal dimension of up3 and x\n",
    "        # unsures the output dimensions matches the original input dimension\n",
    "        # for final output\n",
    "        if up3.shape[-1] != x.shape[-1]:\n",
    "            target_len = min(up3.shape[-1], x.shape[-1])\n",
    "            up3 = F.interpolate(up3, size=target_len)\n",
    "            x = F.interpolate(x, size=target_len)\n",
    "\n",
    "        # combines the final upsampling output with the original input\n",
    "        # and pass through a 1d concolution\n",
    "        out = self.out(torch.cat([up3, x], 1))  # 2000 -> 2000\n",
    "\n",
    "        # down and up are the intermediate outputs, can be useful\n",
    "        down = (down1, down2, down3)\n",
    "        up = (up1, up2, up3)\n",
    "        return out, down, up\n",
    "\n",
    "\n",
    "'''Create the condensed representation.'''\n",
    "class Encoder(nn.Module):\n",
    "    # dim sets a fixed output channels dimension for each layer\n",
    "    def __init__(self, in_channels, dim=512):\n",
    "        super(Encoder, self).__init__()\n",
    "\n",
    "        self.in_channels = in_channels\n",
    "        self.e1_out = dim\n",
    "        self.e2_out = dim\n",
    "        self.e3_out = dim\n",
    "\n",
    "        # 3 downsampling layers, each by a factor of 2\n",
    "        self.down1 = UnetDown(in_channels, self.e1_out, 1, gn=8, factor=2)\n",
    "        self.down2 = UnetDown(self.e1_out, self.e2_out, 1, gn=8, factor=2)\n",
    "        self.down3 = UnetDown(self.e2_out, self.e3_out, 1, gn=8, factor=2)\n",
    "\n",
    "        # average and max pooling\n",
    "        self.avg_pooling = nn.AdaptiveAvgPool1d(output_size=1)\n",
    "        self.max_pooling = nn.AdaptiveMaxPool1d(output_size=1)\n",
    "\n",
    "        # activation\n",
    "        self.act = nn.Tanh()\n",
    "\n",
    "    def forward(self, x0):\n",
    "        # Down sampling\n",
    "        dn1 = self.down1(x0)   # 2048 -> 1024\n",
    "        dn2 = self.down2(dn1)  # 1024 -> 512\n",
    "        dn3 = self.down3(dn2)  # 512 -> 256\n",
    "\n",
    "        # average pooling used to condense each feature map of the output\n",
    "        # to a single average value, summarizing the features extracted\n",
    "        # reshape z so the batch dimension is preserved while collapsing spatial dimension\n",
    "        z = self.avg_pooling(dn3).view(-1, self.e3_out)  # [b, features]\n",
    "\n",
    "        # return both the network output z and the intermediate outputs down\n",
    "        down = (dn1, dn2, dn3)\n",
    "        out = (down, z)\n",
    "        return out\n",
    "\n",
    "\n",
    "'''Gernerative part of the diffusion model.'''\n",
    "class Decoder(nn.Module):\n",
    "    def __init__(self, in_channels, n_feat=256, encoder_dim=512, n_classes=40):\n",
    "        super(Decoder, self).__init__()\n",
    "        # size of inputs and outputs\n",
    "        self.in_channels = in_channels\n",
    "        self.n_feat = n_feat\n",
    "        self.n_classes = n_classes\n",
    "        self.e1_out = encoder_dim\n",
    "        self.e2_out = encoder_dim\n",
    "        self.e3_out = encoder_dim\n",
    "        self.d1_out = n_feat\n",
    "        self.d2_out = n_feat * 2\n",
    "        self.d3_out = n_feat * 3\n",
    "        self.u1_out = n_feat\n",
    "        self.u2_out = n_feat\n",
    "        self.u3_out = n_feat\n",
    "        self.u4_out = in_channels\n",
    "\n",
    "        # self.sin_emb = SinusoidalPosEmb(n_feat)\n",
    "        # self.timeembed1 = EmbedFC(n_feat, self.e3_out)\n",
    "        # self.timeembed2 = EmbedFC(n_feat, self.u2_out)\n",
    "        # self.timeembed3 = EmbedFC(n_feat, self.u3_out)\n",
    "        # self.contextembed1 = EmbedFC(self.e3_out, self.e3_out)\n",
    "        # self.contextembed2 = EmbedFC(self.e3_out, self.u2_out)\n",
    "        # self.contextembed3 = EmbedFC(self.e3_out, self.u3_out)\n",
    "\n",
    "        # Unet up sampling\n",
    "        # scale back up after scaled down by encoder\n",
    "        self.up1 = UnetUp(self.d3_out + self.e3_out, self.u2_out, 1, gn=8, factor=2)\n",
    "        self.up2 = UnetUp(self.d2_out + self.u2_out, self.u3_out, 1, gn=8, factor=2)\n",
    "        self.up3 = nn.Sequential(\n",
    "            nn.Upsample(scale_factor=2, mode=\"nearest\"),\n",
    "            nn.Conv1d(\n",
    "                self.d1_out + self.u3_out + in_channels * 2, in_channels, 1, 1, 0\n",
    "            ),\n",
    "        )\n",
    "\n",
    "        # self.out = nn.Conv1d(self.u4_out+in_channels, in_channels, 1)\n",
    "        self.pool = nn.AvgPool1d(2)\n",
    "\n",
    "    def forward(self, x0, encoder_out, diffusion_out):\n",
    "        # Encoder output\n",
    "        down, z = encoder_out  # unpack the output from encoder\n",
    "        dn1, dn2, dn3 = down  # unpack the downsampling layers (from encoder)\n",
    "\n",
    "        # DDPM output\n",
    "        x_hat, down_ddpm, up, t = diffusion_out  # unpack diffusion (U net) output\n",
    "        dn11, dn22, dn33 = down_ddpm\n",
    "\n",
    "        # embed context, time step\n",
    "        # temb = self.sin_emb(t).view(-1, self.n_feat, 1) # [b, n_feat, 1]\n",
    "        # temb1 = self.timeembed1(temb).view(-1, self.e3_out, 1) # [b, features]\n",
    "        # temb2 = self.timeembed2(temb).view(-1, self.u2_out, 1) # [b, features]\n",
    "        # temb3 = self.timeembed3(temb).view(-1, self.u3_out, 1) # [b, features]\n",
    "        # ct2 = self.contextembed2(z).view(-1, self.u2_out, 1) # [b, n_feat, 1]\n",
    "        # ct3 = self.contextembed3(z).view(-1, self.u3_out, 1) # [b, n_feat, 1]\n",
    "\n",
    "        # Up sampling, use the class function defined earlier\n",
    "        up1 = self.up1(torch.cat([dn3, dn33.detach()], 1))\n",
    "        up2 = self.up2(torch.cat([up1, dn22.detach()], 1))\n",
    "        out = self.up3(\n",
    "            torch.cat([self.pool(x0), self.pool(x_hat.detach()), up2, dn11.detach()], 1)\n",
    "        )\n",
    "        # initial input, diffusion model output, output from second unsampling layer, features from d11\n",
    "        return out\n",
    "\n",
    "\n",
    "class DiffE(nn.Module):\n",
    "    def __init__(self, encoder, decoder, fc):\n",
    "        super(DiffE, self).__init__()\n",
    "\n",
    "        self.encoder = encoder\n",
    "        self.decoder = decoder\n",
    "        self.fc = fc\n",
    "\n",
    "    def forward(self, x0, ddpm_out):\n",
    "        encoder_out = self.encoder(x0)\n",
    "        decoder_out = self.decoder(x0, encoder_out, ddpm_out)\n",
    "        fc_out = self.fc(encoder_out[1])\n",
    "        return decoder_out, fc_out\n",
    "\n",
    "\n",
    "class DecoderNoDiff(nn.Module):\n",
    "    def __init__(self, in_channels, n_feat=256, encoder_dim=512, n_classes=40):\n",
    "        super(DecoderNoDiff, self).__init__()\n",
    "\n",
    "        self.in_channels = in_channels\n",
    "        self.n_feat = n_feat\n",
    "        self.n_classes = n_classes\n",
    "        self.e1_out = encoder_dim\n",
    "        self.e2_out = encoder_dim\n",
    "        self.e3_out = encoder_dim\n",
    "        self.u1_out = n_feat\n",
    "        self.u2_out = n_feat\n",
    "        self.u3_out = n_feat\n",
    "        self.u4_out = n_feat\n",
    "\n",
    "        self.sin_emb = SinusoidalPosEmb(n_feat)\n",
    "        self.timeembed1 = EmbedFC(n_feat, self.e3_out)\n",
    "        self.timeembed2 = EmbedFC(n_feat, self.u2_out)\n",
    "        self.timeembed3 = EmbedFC(n_feat, self.u3_out)\n",
    "        self.contextembed1 = EmbedFC(self.e3_out, self.e3_out)\n",
    "        self.contextembed2 = EmbedFC(self.e3_out, self.u2_out)\n",
    "        self.contextembed3 = EmbedFC(self.e3_out, self.u3_out)\n",
    "\n",
    "        # Unet up sampling\n",
    "        self.up2 = UnetUp(self.e3_out, self.u2_out, 1, gn=8, factor=2)\n",
    "        self.up3 = UnetUp(self.e2_out + self.u2_out, self.u3_out, 1, gn=8, factor=2)\n",
    "        # self.up4 = UnetUp(self.e1_out+self.u3_out, self.u4_out, 1, 1, gn=in_channels, factor=2, is_res=True)\n",
    "        self.up4 = nn.Sequential(\n",
    "            nn.Upsample(scale_factor=2, mode=\"nearest\"),\n",
    "            nn.Conv1d(self.u3_out + self.e1_out + in_channels, in_channels, 1, 1, 0),\n",
    "        )\n",
    "\n",
    "        self.out = nn.Conv1d(self.u4_out, in_channels, 1)\n",
    "        self.pool = nn.AvgPool1d(2)\n",
    "\n",
    "    def forward(self, x0, x_hat, encoder_out, t):\n",
    "        down, z = encoder_out\n",
    "        dn1, dn2, dn3 = down\n",
    "        tembd = self.sin_emb(t).view(-1, self.n_feat, 1)  # [b, n_feat, 1]\n",
    "        tembd1 = self.timeembed1(self.sin_emb(t)).view(\n",
    "            -1, self.e3_out, 1\n",
    "        )  # [b, n_feat, 1]\n",
    "        tembd2 = self.timeembed2(self.sin_emb(t)).view(\n",
    "            -1, self.u2_out, 1\n",
    "        )  # [b, n_feat, 1]\n",
    "        tembd3 = self.timeembed3(self.sin_emb(t)).view(\n",
    "            -1, self.u3_out, 1\n",
    "        )  # [b, n_feat, 1]\n",
    "\n",
    "        # Up sampling\n",
    "        ddpm_loss = F.l1_loss(x0, x_hat, reduction=\"none\")\n",
    "\n",
    "        up2 = self.up2(dn3)  # 256 -> 512\n",
    "        up3 = self.up3(torch.cat([up2, dn2], 1))  # 512 -> 1024\n",
    "        out = self.up4(\n",
    "            torch.cat([self.pool(x0), self.pool(x_hat), up3, dn1], 1)\n",
    "        )  # 1024 -> 2048\n",
    "        # out = self.out(torch.cat([out, x_hat], 1)) # 2048 -> 2048\n",
    "        # out = self.out(out)\n",
    "        return out\n",
    "\n",
    "\n",
    "class LinearClassifier(nn.Module):\n",
    "    def __init__(self, in_dim, latent_dim, emb_dim):\n",
    "        super().__init__()\n",
    "        self.linear_out = nn.Sequential(\n",
    "            nn.Linear(in_features=in_dim, out_features=latent_dim),\n",
    "            nn.GroupNorm(4, latent_dim),\n",
    "            nn.PReLU(),\n",
    "            nn.Linear(in_features=latent_dim, out_features=latent_dim),\n",
    "            nn.GroupNorm(4, latent_dim),\n",
    "            nn.PReLU(),\n",
    "            nn.Linear(in_features=latent_dim, out_features=emb_dim),  # the out features should match the y dimension no?\n",
    "        )\n",
    "\n",
    "    def forward(self, x):\n",
    "        x = self.linear_out(x)\n",
    "        return x\n",
    "\n",
    "\n",
    "def cosine_beta_schedule(timesteps, s=0.008):\n",
    "    \"\"\"\n",
    "    cosine schedule\n",
    "    as proposed in https://openreview.net/forum?id=-NEXDKk8gZ\n",
    "    \"\"\"\n",
    "    steps = timesteps + 1\n",
    "    t = torch.linspace(0, timesteps, steps, dtype=torch.float64) / timesteps\n",
    "    alphas_cumprod = torch.cos((t + s) / (1 + s) * math.pi * 0.5) ** 2\n",
    "    alphas_cumprod = alphas_cumprod / alphas_cumprod[0]\n",
    "    betas = 1 - (alphas_cumprod[1:] / alphas_cumprod[:-1])\n",
    "    return torch.clip(betas, 0, 0.999)\n",
    "\n",
    "\n",
    "def sigmoid_beta_schedule(timesteps, start=-3, end=3, tau=1, clamp_min=1e-5):\n",
    "    \"\"\"\n",
    "    sigmoid schedule\n",
    "    proposed in https://arxiv.org/abs/2212.11972 - Figure 8\n",
    "    \"\"\"\n",
    "    steps = timesteps + 1\n",
    "    t = torch.linspace(0, timesteps, steps, dtype=torch.float64) / timesteps\n",
    "    v_start = torch.tensor(start / tau).sigmoid()\n",
    "    v_end = torch.tensor(end / tau).sigmoid()\n",
    "    alphas_cumprod = (-((t * (end - start) + start) / tau).sigmoid() + v_end) / (\n",
    "        v_end - v_start\n",
    "    )\n",
    "    alphas_cumprod = alphas_cumprod / alphas_cumprod[0]\n",
    "    betas = 1 - (alphas_cumprod[1:] / alphas_cumprod[:-1])\n",
    "    return torch.clip(betas, 0, 0.999)\n",
    "\n",
    "\n",
    "def ddpm_schedules(beta1, beta2, T):\n",
    "    # assert beta1 < beta2 < 1.0, \"beta1 and beta2 must be in (0, 1)\"\n",
    "    # beta_t = (beta2 - beta1) * torch.arange(0, T + 1, dtype=torch.float32) / T + beta1\n",
    "    beta_t = cosine_beta_schedule(T, s=0.008).float()\n",
    "    # beta_t = sigmoid_beta_schedule(T).float()\n",
    "\n",
    "    alpha_t = 1 - beta_t\n",
    "\n",
    "    log_alpha_t = torch.log(alpha_t)\n",
    "    alphabar_t = torch.cumsum(log_alpha_t, dim=0).exp()\n",
    "\n",
    "    sqrtab = torch.sqrt(alphabar_t)\n",
    "\n",
    "    sqrtmab = torch.sqrt(1 - alphabar_t)\n",
    "\n",
    "    return {\n",
    "        \"sqrtab\": sqrtab,  # \\sqrt{\\bar{\\alpha_t}}\n",
    "        \"sqrtmab\": sqrtmab,  # \\sqrt{1-\\bar{\\alpha_t}}\n",
    "    }\n",
    "\n",
    "\n",
    "class DDPM(nn.Module):\n",
    "    def __init__(self, nn_model, betas, n_T, device):\n",
    "        super(DDPM, self).__init__()\n",
    "        self.nn_model = nn_model.to(device)\n",
    "\n",
    "        for k, v in ddpm_schedules(betas[0], betas[1], n_T).items():\n",
    "            self.register_buffer(k, v)\n",
    "\n",
    "        self.n_T = n_T\n",
    "        self.device = device\n",
    "\n",
    "    def forward(self, x):\n",
    "        _ts = torch.randint(1, self.n_T, (x.shape[0],)).to(self.device)  # t ~ Uniform(0, n_T)\n",
    "        noise = torch.randn_like(x)  # eps ~ N(0, 1)\n",
    "        x_t = self.sqrtab[_ts, None, None] * x + self.sqrtmab[_ts, None, None] * noise\n",
    "        times = _ts / self.n_T\n",
    "        output, down, up = self.nn_model(x_t, times)\n",
    "        return output, down, up, noise, times"
   ]
  },
  {
   "cell_type": "code",
   "execution_count": 9,
   "id": "6Rigb_x3lTcZ",
   "metadata": {
    "colab": {
     "base_uri": "https://localhost:8080/"
    },
    "id": "6Rigb_x3lTcZ",
    "outputId": "7367f1e2-6491-48af-98aa-383ddfe29cfd"
   },
   "outputs": [
    {
     "name": "stdout",
     "output_type": "stream",
     "text": [
      "ddpm size:  265478\n",
      "encoder size:  149763\n",
      "decoder size:  156482\n",
      "fc size:  416810\n"
     ]
    }
   ],
   "source": [
    "# Define model\n",
    "num_classes = 40\n",
    "channels = 64\n",
    "\n",
    "n_T = 1000  # time step variable in the schedulers\n",
    "ddpm_dim = 128\n",
    "encoder_dim = 256\n",
    "fc_dim = 512\n",
    "\n",
    "ddpm_model = ConditionalUNet(in_channels=channels, n_feat=ddpm_dim).to(device)\n",
    "ddpm = DDPM(nn_model=ddpm_model, betas=(1e-6, 1e-2), n_T=n_T, device=device).to(device)\n",
    "encoder = Encoder(in_channels=channels, dim=encoder_dim).to(device)\n",
    "decoder = Decoder(in_channels=channels, n_feat=ddpm_dim, encoder_dim=encoder_dim).to(device)\n",
    "fc = LinearClassifier(encoder_dim, fc_dim, emb_dim=40).to(device)\n",
    "diffe = DiffE(encoder, decoder, fc).to(device)\n",
    "\n",
    "print(\"ddpm size: \", sum(p.numel() for p in ddpm.parameters()))\n",
    "print(\"encoder size: \", sum(p.numel() for p in encoder.parameters()))\n",
    "print(\"decoder size: \", sum(p.numel() for p in decoder.parameters()))\n",
    "print(\"fc size: \", sum(p.numel() for p in fc.parameters()))"
   ]
  },
  {
   "cell_type": "markdown",
   "id": "gNFmH1U1cUfr",
   "metadata": {
    "id": "gNFmH1U1cUfr"
   },
   "source": [
    "#train"
   ]
  },
  {
   "cell_type": "code",
   "execution_count": 10,
   "id": "e6b9kOFsmNm2",
   "metadata": {
    "id": "e6b9kOFsmNm2"
   },
   "outputs": [],
   "source": [
    "# Criterion\n",
    "criterion = nn.L1Loss()\n",
    "criterion_class = nn.MSELoss()\n",
    "\n",
    "# Define optimizer\n",
    "base_lr, lr = 9e-5, 1.5e-3\n",
    "optim1 = optim.RMSprop(ddpm.parameters(), lr=base_lr)\n",
    "optim2 = optim.RMSprop(diffe.parameters(), lr=base_lr)\n",
    "\n",
    "# EMAs\n",
    "fc_ema = EMA(diffe.fc, beta=0.95, update_after_step=100, update_every=10,)\n",
    "\n",
    "step_size = 150\n",
    "scheduler1 = optim.lr_scheduler.CyclicLR(\n",
    "    optimizer=optim1,\n",
    "    base_lr=base_lr,\n",
    "    max_lr=lr,\n",
    "    step_size_up=step_size,\n",
    "    mode=\"exp_range\",\n",
    "    cycle_momentum=False,\n",
    "    gamma=0.9998,\n",
    ")\n",
    "scheduler2 = optim.lr_scheduler.CyclicLR(\n",
    "    optimizer=optim2,\n",
    "    base_lr=base_lr,\n",
    "    max_lr=lr,\n",
    "    step_size_up=step_size,\n",
    "    mode=\"exp_range\",\n",
    "    cycle_momentum=False,\n",
    "    gamma=0.9998,\n",
    ")"
   ]
  },
  {
   "cell_type": "code",
   "execution_count": 11,
   "id": "DEi7SkZfvNbe",
   "metadata": {
    "id": "DEi7SkZfvNbe"
   },
   "outputs": [],
   "source": [
    "# Evaluate function\n",
    "def evaluate(encoder, fc, generator, device):\n",
    "    labels = np.arange(0, 40)\n",
    "    Y = []\n",
    "    Y_hat = []\n",
    "    for x, y in generator:\n",
    "        x, y = x.to(device), y.type(torch.LongTensor).to(device)\n",
    "        encoder_out = encoder(x)\n",
    "        y_hat = fc(encoder_out[1])\n",
    "        y_hat = F.softmax(y_hat, dim=1)\n",
    "\n",
    "        Y.append(y.detach().cpu())\n",
    "        Y_hat.append(y_hat.detach().cpu())\n",
    "\n",
    "    # List of tensors to tensor to numpy\n",
    "    Y = torch.cat(Y, dim=0).numpy()  # (N, )\n",
    "    Y_indices = Y.argmax(axis=1)\n",
    "    Y_hat = torch.cat(Y_hat, dim=0).numpy()  # (N, 13): has to sum to 1 for each row\n",
    "\n",
    "    # Accuracy and Confusion Matrix\n",
    "    # changed all Y to Y_indices\n",
    "    accuracy = top_k_accuracy_score(Y_indices, Y_hat, k=1, labels=labels)\n",
    "    f1 = f1_score(Y_indices, Y_hat.argmax(axis=1), average=\"macro\", labels=labels)\n",
    "    recall = recall_score(Y_indices, Y_hat.argmax(axis=1), average=\"macro\", labels=labels)\n",
    "    precision = precision_score(Y_indices, Y_hat.argmax(axis=1), average=\"macro\", labels=labels, zero_division=0)\n",
    "    # the zero_division = 0 fixes cases where the prediction does not assign any sample to one or more classes\n",
    "    # which results in a dividing by zero error\n",
    "    # the zero_division = 0 sets those cases accuracy to zero\n",
    "    auc = roc_auc_score(Y_indices, Y_hat, average=\"macro\", multi_class=\"ovo\", labels=labels)\n",
    "\n",
    "    metrics = {\n",
    "        \"accuracy\": accuracy,\n",
    "        \"f1\": f1,\n",
    "        \"recall\": recall,\n",
    "        \"precision\": precision,\n",
    "        \"auc\": auc,\n",
    "    }\n",
    "    # df_cm = pd.DataFrame(confusion_matrix(Y, Y_hat.argmax(axis=1)))\n",
    "    return metrics\n"
   ]
  },
  {
   "cell_type": "code",
   "execution_count": 12,
   "id": "NIjWCm5vUKx-",
   "metadata": {
    "colab": {
     "base_uri": "https://localhost:8080/",
     "height": 1000,
     "referenced_widgets": [
      "5a0e2e65e57740e4bbb251311a766d82",
      "4ebab1e156e44c8bb7846910a1f72db7",
      "ee10237165ad47c18ca341aa7657a605",
      "9722c6e893d244889f62b61a1167d198",
      "9c8641ccc5014dfb9e809a716d373e24",
      "25c3251fb3604cf78173778c9ef40700",
      "f58eac912839488ead076366ff951081",
      "bfa6f43f525449b2b9eaefaf4964eba7",
      "659c9b4b1c734b3b9d9411a645837530",
      "4664eb6c3ffd4c919900698cb32b1c37",
      "a0ec61f3051c4d8b811ee1d05e0ba82b"
     ]
    },
    "id": "NIjWCm5vUKx-",
    "outputId": "dd19d0c8-3b0b-4503-9176-c86233825fa4"
   },
   "outputs": [
    {
     "name": "stderr",
     "output_type": "stream",
     "text": [
      "Method ALL – Processing subject ALL – Val Accuracy: 2.50% | Best: 2.50%:   0%|       | 1/500 [00:08<1:11:17,  8.57s/it]"
     ]
    },
    {
     "name": "stdout",
     "output_type": "stream",
     "text": [
      "[Epoch 1/500]\n",
      "Train Loss: 0.4552 | Train Acc: 2.40%\n",
      "Valid Loss: 0.3562 | Valid Acc: 2.50%\n"
     ]
    },
    {
     "name": "stderr",
     "output_type": "stream",
     "text": [
      "Method ALL – Processing subject ALL – Val Accuracy: 2.50% | Best: 2.50%:   0%|       | 2/500 [00:14<1:00:04,  7.24s/it]"
     ]
    },
    {
     "name": "stdout",
     "output_type": "stream",
     "text": [
      "[Epoch 2/500]\n",
      "Train Loss: 0.3329 | Train Acc: 2.62%\n",
      "Valid Loss: 0.3024 | Valid Acc: 2.50%\n"
     ]
    },
    {
     "name": "stderr",
     "output_type": "stream",
     "text": [
      "Method ALL – Processing subject ALL – Val Accuracy: 2.50% | Best: 2.50%:   1%|       | 3/500 [00:22<1:01:02,  7.37s/it]"
     ]
    },
    {
     "name": "stdout",
     "output_type": "stream",
     "text": [
      "[Epoch 3/500]\n",
      "Train Loss: 0.3038 | Train Acc: 2.30%\n",
      "Valid Loss: 0.2964 | Valid Acc: 2.50%\n"
     ]
    },
    {
     "name": "stderr",
     "output_type": "stream",
     "text": [
      "Method ALL – Processing subject ALL – Val Accuracy: 2.58% | Best: 2.58%:   1%|       | 4/500 [00:29<1:01:22,  7.42s/it]"
     ]
    },
    {
     "name": "stdout",
     "output_type": "stream",
     "text": [
      "[Epoch 4/500]\n",
      "Train Loss: 0.2762 | Train Acc: 2.38%\n",
      "Valid Loss: 0.2540 | Valid Acc: 2.58%\n"
     ]
    },
    {
     "name": "stderr",
     "output_type": "stream",
     "text": [
      "Method ALL – Processing subject ALL – Val Accuracy: 2.50% | Best: 2.58%:   1%|       | 5/500 [00:37<1:01:20,  7.44s/it]"
     ]
    },
    {
     "name": "stdout",
     "output_type": "stream",
     "text": [
      "[Epoch 5/500]\n",
      "Train Loss: 0.2505 | Train Acc: 2.48%\n",
      "Valid Loss: 0.2482 | Valid Acc: 2.50%\n"
     ]
    },
    {
     "name": "stderr",
     "output_type": "stream",
     "text": [
      "Method ALL – Processing subject ALL – Val Accuracy: 2.50% | Best: 2.58%:   1%|       | 6/500 [00:44<1:01:11,  7.43s/it]"
     ]
    },
    {
     "name": "stdout",
     "output_type": "stream",
     "text": [
      "[Epoch 6/500]\n",
      "Train Loss: 0.2492 | Train Acc: 3.02%\n",
      "Valid Loss: 0.2416 | Valid Acc: 2.50%\n"
     ]
    },
    {
     "name": "stderr",
     "output_type": "stream",
     "text": [
      "Method ALL – Processing subject ALL – Val Accuracy: 2.42% | Best: 2.58%:   1%|       | 7/500 [00:52<1:00:52,  7.41s/it]"
     ]
    },
    {
     "name": "stdout",
     "output_type": "stream",
     "text": [
      "[Epoch 7/500]\n",
      "Train Loss: 0.2435 | Train Acc: 2.58%\n",
      "Valid Loss: 0.2387 | Valid Acc: 2.42%\n"
     ]
    },
    {
     "name": "stderr",
     "output_type": "stream",
     "text": [
      "Method ALL – Processing subject ALL – Val Accuracy: 2.58% | Best: 2.58%:   2%|       | 8/500 [00:59<1:00:36,  7.39s/it]"
     ]
    },
    {
     "name": "stdout",
     "output_type": "stream",
     "text": [
      "[Epoch 8/500]\n",
      "Train Loss: 0.2511 | Train Acc: 2.33%\n",
      "Valid Loss: 0.2517 | Valid Acc: 2.58%\n"
     ]
    },
    {
     "name": "stderr",
     "output_type": "stream",
     "text": [
      "Method ALL – Processing subject ALL – Val Accuracy: 2.58% | Best: 2.58%:   2%|▏      | 9/500 [01:06<1:00:11,  7.35s/it]"
     ]
    },
    {
     "name": "stdout",
     "output_type": "stream",
     "text": [
      "[Epoch 9/500]\n",
      "Train Loss: 0.2609 | Train Acc: 2.70%\n",
      "Valid Loss: 0.2599 | Valid Acc: 2.58%\n"
     ]
    },
    {
     "name": "stderr",
     "output_type": "stream",
     "text": [
      "Method ALL – Processing subject ALL – Val Accuracy: 2.58% | Best: 2.58%:   2%|▏       | 10/500 [01:13<59:41,  7.31s/it]"
     ]
    },
    {
     "name": "stdout",
     "output_type": "stream",
     "text": [
      "[Epoch 10/500]\n",
      "Train Loss: 0.2611 | Train Acc: 2.35%\n",
      "Valid Loss: 0.2438 | Valid Acc: 2.58%\n"
     ]
    },
    {
     "name": "stderr",
     "output_type": "stream",
     "text": [
      "Method ALL – Processing subject ALL – Val Accuracy: 3.17% | Best: 3.17%:   2%|▏     | 11/500 [01:21<1:00:31,  7.43s/it]"
     ]
    },
    {
     "name": "stdout",
     "output_type": "stream",
     "text": [
      "[Epoch 11/500]\n",
      "Train Loss: 0.2407 | Train Acc: 2.37%\n",
      "Valid Loss: 0.2433 | Valid Acc: 3.17%\n"
     ]
    },
    {
     "name": "stderr",
     "output_type": "stream",
     "text": [
      "Method ALL – Processing subject ALL – Val Accuracy: 2.67% | Best: 3.17%:   2%|▏     | 12/500 [01:29<1:00:42,  7.46s/it]"
     ]
    },
    {
     "name": "stdout",
     "output_type": "stream",
     "text": [
      "[Epoch 12/500]\n",
      "Train Loss: 0.2379 | Train Acc: 2.27%\n",
      "Valid Loss: 0.2369 | Valid Acc: 2.67%\n"
     ]
    },
    {
     "name": "stderr",
     "output_type": "stream",
     "text": [
      "Method ALL – Processing subject ALL – Val Accuracy: 2.83% | Best: 3.17%:   3%|▏       | 13/500 [01:36<59:25,  7.32s/it]"
     ]
    },
    {
     "name": "stdout",
     "output_type": "stream",
     "text": [
      "[Epoch 13/500]\n",
      "Train Loss: 0.2375 | Train Acc: 2.40%\n",
      "Valid Loss: 0.2287 | Valid Acc: 2.83%\n"
     ]
    },
    {
     "name": "stderr",
     "output_type": "stream",
     "text": [
      "Method ALL – Processing subject ALL – Val Accuracy: 2.75% | Best: 3.17%:   3%|▏       | 14/500 [01:43<59:43,  7.37s/it]"
     ]
    },
    {
     "name": "stdout",
     "output_type": "stream",
     "text": [
      "[Epoch 14/500]\n",
      "Train Loss: 0.2386 | Train Acc: 2.55%\n",
      "Valid Loss: 0.2435 | Valid Acc: 2.75%\n"
     ]
    },
    {
     "name": "stderr",
     "output_type": "stream",
     "text": [
      "Method ALL – Processing subject ALL – Val Accuracy: 2.58% | Best: 3.17%:   3%|▏       | 15/500 [01:51<59:51,  7.41s/it]"
     ]
    },
    {
     "name": "stdout",
     "output_type": "stream",
     "text": [
      "[Epoch 15/500]\n",
      "Train Loss: 0.2491 | Train Acc: 2.58%\n",
      "Valid Loss: 0.2458 | Valid Acc: 2.58%\n"
     ]
    },
    {
     "name": "stderr",
     "output_type": "stream",
     "text": [
      "Method ALL – Processing subject ALL – Val Accuracy: 2.67% | Best: 3.17%:   3%|▎       | 16/500 [01:58<59:35,  7.39s/it]"
     ]
    },
    {
     "name": "stdout",
     "output_type": "stream",
     "text": [
      "[Epoch 16/500]\n",
      "Train Loss: 0.2548 | Train Acc: 2.32%\n",
      "Valid Loss: 0.2429 | Valid Acc: 2.67%\n"
     ]
    },
    {
     "name": "stderr",
     "output_type": "stream",
     "text": [
      "Method ALL – Processing subject ALL – Val Accuracy: 2.67% | Best: 3.17%:   3%|▎       | 17/500 [02:05<59:14,  7.36s/it]"
     ]
    },
    {
     "name": "stdout",
     "output_type": "stream",
     "text": [
      "[Epoch 17/500]\n",
      "Train Loss: 0.2421 | Train Acc: 2.55%\n",
      "Valid Loss: 0.2361 | Valid Acc: 2.67%\n"
     ]
    },
    {
     "name": "stderr",
     "output_type": "stream",
     "text": [
      "Method ALL – Processing subject ALL – Val Accuracy: 3.00% | Best: 3.17%:   4%|▏     | 18/500 [02:13<1:00:55,  7.58s/it]"
     ]
    },
    {
     "name": "stdout",
     "output_type": "stream",
     "text": [
      "[Epoch 18/500]\n",
      "Train Loss: 0.2364 | Train Acc: 2.77%\n",
      "Valid Loss: 0.2426 | Valid Acc: 3.00%\n"
     ]
    },
    {
     "name": "stderr",
     "output_type": "stream",
     "text": [
      "Method ALL – Processing subject ALL – Val Accuracy: 2.50% | Best: 3.17%:   4%|▏     | 19/500 [02:21<1:00:31,  7.55s/it]"
     ]
    },
    {
     "name": "stdout",
     "output_type": "stream",
     "text": [
      "[Epoch 19/500]\n",
      "Train Loss: 0.2341 | Train Acc: 1.97%\n",
      "Valid Loss: 0.2345 | Valid Acc: 2.50%\n"
     ]
    },
    {
     "name": "stderr",
     "output_type": "stream",
     "text": [
      "Method ALL – Processing subject ALL – Val Accuracy: 2.75% | Best: 3.17%:   4%|▏     | 20/500 [02:29<1:00:38,  7.58s/it]"
     ]
    },
    {
     "name": "stdout",
     "output_type": "stream",
     "text": [
      "[Epoch 20/500]\n",
      "Train Loss: 0.2349 | Train Acc: 2.47%\n",
      "Valid Loss: 0.2415 | Valid Acc: 2.75%\n"
     ]
    },
    {
     "name": "stderr",
     "output_type": "stream",
     "text": [
      "Method ALL – Processing subject ALL – Val Accuracy: 2.58% | Best: 3.17%:   4%|▎     | 21/500 [02:37<1:01:39,  7.72s/it]"
     ]
    },
    {
     "name": "stdout",
     "output_type": "stream",
     "text": [
      "[Epoch 21/500]\n",
      "Train Loss: 0.2407 | Train Acc: 2.70%\n",
      "Valid Loss: 0.2401 | Valid Acc: 2.58%\n"
     ]
    },
    {
     "name": "stderr",
     "output_type": "stream",
     "text": [
      "Method ALL – Processing subject ALL – Val Accuracy: 2.58% | Best: 3.17%:   4%|▎     | 22/500 [02:45<1:02:24,  7.83s/it]"
     ]
    },
    {
     "name": "stdout",
     "output_type": "stream",
     "text": [
      "[Epoch 22/500]\n",
      "Train Loss: 0.2504 | Train Acc: 2.37%\n",
      "Valid Loss: 0.2443 | Valid Acc: 2.58%\n"
     ]
    },
    {
     "name": "stderr",
     "output_type": "stream",
     "text": [
      "Method ALL – Processing subject ALL – Val Accuracy: 2.42% | Best: 3.17%:   5%|▎     | 23/500 [02:52<1:01:28,  7.73s/it]"
     ]
    },
    {
     "name": "stdout",
     "output_type": "stream",
     "text": [
      "[Epoch 23/500]\n",
      "Train Loss: 0.2459 | Train Acc: 2.72%\n",
      "Valid Loss: 0.2368 | Valid Acc: 2.42%\n"
     ]
    },
    {
     "name": "stderr",
     "output_type": "stream",
     "text": [
      "Method ALL – Processing subject ALL – Val Accuracy: 2.42% | Best: 3.17%:   5%|▎     | 24/500 [03:00<1:00:43,  7.66s/it]"
     ]
    },
    {
     "name": "stdout",
     "output_type": "stream",
     "text": [
      "[Epoch 24/500]\n",
      "Train Loss: 0.2351 | Train Acc: 2.67%\n",
      "Valid Loss: 0.2346 | Valid Acc: 2.42%\n"
     ]
    },
    {
     "name": "stderr",
     "output_type": "stream",
     "text": [
      "Method ALL – Processing subject ALL – Val Accuracy: 2.50% | Best: 3.17%:   5%|▎     | 25/500 [03:07<1:00:29,  7.64s/it]"
     ]
    },
    {
     "name": "stdout",
     "output_type": "stream",
     "text": [
      "[Epoch 25/500]\n",
      "Train Loss: 0.2323 | Train Acc: 2.77%\n",
      "Valid Loss: 0.2348 | Valid Acc: 2.50%\n"
     ]
    },
    {
     "name": "stderr",
     "output_type": "stream",
     "text": [
      "Method ALL – Processing subject ALL – Val Accuracy: 2.50% | Best: 3.17%:   5%|▎     | 26/500 [03:15<1:01:12,  7.75s/it]"
     ]
    },
    {
     "name": "stdout",
     "output_type": "stream",
     "text": [
      "[Epoch 26/500]\n",
      "Train Loss: 0.2373 | Train Acc: 2.85%\n",
      "Valid Loss: 0.2286 | Valid Acc: 2.50%\n"
     ]
    },
    {
     "name": "stderr",
     "output_type": "stream",
     "text": [
      "Method ALL – Processing subject ALL – Val Accuracy: 2.50% | Best: 3.17%:   5%|▎     | 27/500 [03:23<1:00:11,  7.64s/it]"
     ]
    },
    {
     "name": "stdout",
     "output_type": "stream",
     "text": [
      "[Epoch 27/500]\n",
      "Train Loss: 0.2339 | Train Acc: 3.03%\n",
      "Valid Loss: 0.2397 | Valid Acc: 2.50%\n"
     ]
    },
    {
     "name": "stderr",
     "output_type": "stream",
     "text": [
      "Method ALL – Processing subject ALL – Val Accuracy: 3.75% | Best: 3.75%:   6%|▍       | 28/500 [03:30<59:25,  7.55s/it]"
     ]
    },
    {
     "name": "stdout",
     "output_type": "stream",
     "text": [
      "[Epoch 28/500]\n",
      "Train Loss: 0.2439 | Train Acc: 2.37%\n",
      "Valid Loss: 0.2359 | Valid Acc: 3.75%\n"
     ]
    },
    {
     "name": "stderr",
     "output_type": "stream",
     "text": [
      "Method ALL – Processing subject ALL – Val Accuracy: 2.67% | Best: 3.75%:   6%|▍       | 29/500 [03:37<58:49,  7.49s/it]"
     ]
    },
    {
     "name": "stdout",
     "output_type": "stream",
     "text": [
      "[Epoch 29/500]\n",
      "Train Loss: 0.2458 | Train Acc: 2.55%\n",
      "Valid Loss: 0.2391 | Valid Acc: 2.67%\n"
     ]
    },
    {
     "name": "stderr",
     "output_type": "stream",
     "text": [
      "Method ALL – Processing subject ALL – Val Accuracy: 3.08% | Best: 3.75%:   6%|▍       | 30/500 [03:45<58:38,  7.49s/it]"
     ]
    },
    {
     "name": "stdout",
     "output_type": "stream",
     "text": [
      "[Epoch 30/500]\n",
      "Train Loss: 0.2327 | Train Acc: 2.43%\n",
      "Valid Loss: 0.2310 | Valid Acc: 3.08%\n"
     ]
    },
    {
     "name": "stderr",
     "output_type": "stream",
     "text": [
      "Method ALL – Processing subject ALL – Val Accuracy: 3.33% | Best: 3.75%:   6%|▍       | 31/500 [03:52<58:18,  7.46s/it]"
     ]
    },
    {
     "name": "stdout",
     "output_type": "stream",
     "text": [
      "[Epoch 31/500]\n",
      "Train Loss: 0.2348 | Train Acc: 2.50%\n",
      "Valid Loss: 0.2261 | Valid Acc: 3.33%\n"
     ]
    },
    {
     "name": "stderr",
     "output_type": "stream",
     "text": [
      "Method ALL – Processing subject ALL – Val Accuracy: 3.25% | Best: 3.75%:   6%|▌       | 32/500 [04:00<58:06,  7.45s/it]"
     ]
    },
    {
     "name": "stdout",
     "output_type": "stream",
     "text": [
      "[Epoch 32/500]\n",
      "Train Loss: 0.2328 | Train Acc: 2.33%\n",
      "Valid Loss: 0.2328 | Valid Acc: 3.25%\n"
     ]
    },
    {
     "name": "stderr",
     "output_type": "stream",
     "text": [
      "Method ALL – Processing subject ALL – Val Accuracy: 2.75% | Best: 3.75%:   7%|▌       | 33/500 [04:07<57:41,  7.41s/it]"
     ]
    },
    {
     "name": "stdout",
     "output_type": "stream",
     "text": [
      "[Epoch 33/500]\n",
      "Train Loss: 0.2297 | Train Acc: 2.57%\n",
      "Valid Loss: 0.2369 | Valid Acc: 2.75%\n"
     ]
    },
    {
     "name": "stderr",
     "output_type": "stream",
     "text": [
      "Method ALL – Processing subject ALL – Val Accuracy: 2.58% | Best: 3.75%:   7%|▌       | 34/500 [04:15<58:02,  7.47s/it]"
     ]
    },
    {
     "name": "stdout",
     "output_type": "stream",
     "text": [
      "[Epoch 34/500]\n",
      "Train Loss: 0.2394 | Train Acc: 2.33%\n",
      "Valid Loss: 0.2453 | Valid Acc: 2.58%\n"
     ]
    },
    {
     "name": "stderr",
     "output_type": "stream",
     "text": [
      "Method ALL – Processing subject ALL – Val Accuracy: 2.58% | Best: 3.75%:   7%|▌       | 35/500 [04:22<57:59,  7.48s/it]"
     ]
    },
    {
     "name": "stdout",
     "output_type": "stream",
     "text": [
      "[Epoch 35/500]\n",
      "Train Loss: 0.2457 | Train Acc: 2.12%\n",
      "Valid Loss: 0.2407 | Valid Acc: 2.58%\n"
     ]
    },
    {
     "name": "stderr",
     "output_type": "stream",
     "text": [
      "Method ALL – Processing subject ALL – Val Accuracy: 2.42% | Best: 3.75%:   7%|▌       | 36/500 [04:30<57:48,  7.48s/it]"
     ]
    },
    {
     "name": "stdout",
     "output_type": "stream",
     "text": [
      "[Epoch 36/500]\n",
      "Train Loss: 0.2379 | Train Acc: 2.63%\n",
      "Valid Loss: 0.2318 | Valid Acc: 2.42%\n"
     ]
    },
    {
     "name": "stderr",
     "output_type": "stream",
     "text": [
      "Method ALL – Processing subject ALL – Val Accuracy: 2.25% | Best: 3.75%:   7%|▌       | 37/500 [04:37<57:42,  7.48s/it]"
     ]
    },
    {
     "name": "stdout",
     "output_type": "stream",
     "text": [
      "[Epoch 37/500]\n",
      "Train Loss: 0.2329 | Train Acc: 2.55%\n",
      "Valid Loss: 0.2375 | Valid Acc: 2.25%\n"
     ]
    },
    {
     "name": "stderr",
     "output_type": "stream",
     "text": [
      "Method ALL – Processing subject ALL – Val Accuracy: 2.58% | Best: 3.75%:   8%|▌       | 38/500 [04:45<57:31,  7.47s/it]"
     ]
    },
    {
     "name": "stdout",
     "output_type": "stream",
     "text": [
      "[Epoch 38/500]\n",
      "Train Loss: 0.2324 | Train Acc: 2.85%\n",
      "Valid Loss: 0.2305 | Valid Acc: 2.58%\n"
     ]
    },
    {
     "name": "stderr",
     "output_type": "stream",
     "text": [
      "Method ALL – Processing subject ALL – Val Accuracy: 2.92% | Best: 3.75%:   8%|▌       | 39/500 [04:52<57:11,  7.44s/it]"
     ]
    },
    {
     "name": "stdout",
     "output_type": "stream",
     "text": [
      "[Epoch 39/500]\n",
      "Train Loss: 0.2305 | Train Acc: 3.28%\n",
      "Valid Loss: 0.2333 | Valid Acc: 2.92%\n"
     ]
    },
    {
     "name": "stderr",
     "output_type": "stream",
     "text": [
      "Method ALL – Processing subject ALL – Val Accuracy: 2.83% | Best: 3.75%:   8%|▋       | 40/500 [04:59<56:58,  7.43s/it]"
     ]
    },
    {
     "name": "stdout",
     "output_type": "stream",
     "text": [
      "[Epoch 40/500]\n",
      "Train Loss: 0.2365 | Train Acc: 3.08%\n",
      "Valid Loss: 0.2364 | Valid Acc: 2.83%\n"
     ]
    },
    {
     "name": "stderr",
     "output_type": "stream",
     "text": [
      "Method ALL – Processing subject ALL – Val Accuracy: 2.83% | Best: 3.75%:   8%|▋       | 41/500 [05:07<56:53,  7.44s/it]"
     ]
    },
    {
     "name": "stdout",
     "output_type": "stream",
     "text": [
      "[Epoch 41/500]\n",
      "Train Loss: 0.2404 | Train Acc: 2.63%\n",
      "Valid Loss: 0.2397 | Valid Acc: 2.83%\n"
     ]
    },
    {
     "name": "stderr",
     "output_type": "stream",
     "text": [
      "Method ALL – Processing subject ALL – Val Accuracy: 2.58% | Best: 3.75%:   8%|▋       | 42/500 [05:14<57:18,  7.51s/it]"
     ]
    },
    {
     "name": "stdout",
     "output_type": "stream",
     "text": [
      "[Epoch 42/500]\n",
      "Train Loss: 0.2417 | Train Acc: 2.55%\n",
      "Valid Loss: 0.2372 | Valid Acc: 2.58%\n"
     ]
    },
    {
     "name": "stderr",
     "output_type": "stream",
     "text": [
      "Method ALL – Processing subject ALL – Val Accuracy: 2.42% | Best: 3.75%:   9%|▋       | 43/500 [05:22<57:05,  7.50s/it]"
     ]
    },
    {
     "name": "stdout",
     "output_type": "stream",
     "text": [
      "[Epoch 43/500]\n",
      "Train Loss: 0.2363 | Train Acc: 2.97%\n",
      "Valid Loss: 0.2307 | Valid Acc: 2.42%\n"
     ]
    },
    {
     "name": "stderr",
     "output_type": "stream",
     "text": [
      "Method ALL – Processing subject ALL – Val Accuracy: 2.50% | Best: 3.75%:   9%|▋       | 44/500 [05:29<57:04,  7.51s/it]"
     ]
    },
    {
     "name": "stdout",
     "output_type": "stream",
     "text": [
      "[Epoch 44/500]\n",
      "Train Loss: 0.2300 | Train Acc: 3.17%\n",
      "Valid Loss: 0.2360 | Valid Acc: 2.50%\n"
     ]
    },
    {
     "name": "stderr",
     "output_type": "stream",
     "text": [
      "Method ALL – Processing subject ALL – Val Accuracy: 2.67% | Best: 3.75%:   9%|▋       | 45/500 [05:37<56:22,  7.43s/it]"
     ]
    },
    {
     "name": "stdout",
     "output_type": "stream",
     "text": [
      "[Epoch 45/500]\n",
      "Train Loss: 0.2285 | Train Acc: 3.35%\n",
      "Valid Loss: 0.2277 | Valid Acc: 2.67%\n"
     ]
    },
    {
     "name": "stderr",
     "output_type": "stream",
     "text": [
      "Method ALL – Processing subject ALL – Val Accuracy: 3.25% | Best: 3.75%:   9%|▋       | 46/500 [05:44<56:21,  7.45s/it]"
     ]
    },
    {
     "name": "stdout",
     "output_type": "stream",
     "text": [
      "[Epoch 46/500]\n",
      "Train Loss: 0.2307 | Train Acc: 3.87%\n",
      "Valid Loss: 0.2395 | Valid Acc: 3.25%\n"
     ]
    },
    {
     "name": "stderr",
     "output_type": "stream",
     "text": [
      "Method ALL – Processing subject ALL – Val Accuracy: 3.33% | Best: 3.75%:   9%|▊       | 47/500 [05:52<55:59,  7.42s/it]"
     ]
    },
    {
     "name": "stdout",
     "output_type": "stream",
     "text": [
      "[Epoch 47/500]\n",
      "Train Loss: 0.2353 | Train Acc: 3.42%\n",
      "Valid Loss: 0.2448 | Valid Acc: 3.33%\n"
     ]
    },
    {
     "name": "stderr",
     "output_type": "stream",
     "text": [
      "Method ALL – Processing subject ALL – Val Accuracy: 3.08% | Best: 3.75%:  10%|▊       | 48/500 [05:59<55:44,  7.40s/it]"
     ]
    },
    {
     "name": "stdout",
     "output_type": "stream",
     "text": [
      "[Epoch 48/500]\n",
      "Train Loss: 0.2424 | Train Acc: 2.82%\n",
      "Valid Loss: 0.2401 | Valid Acc: 3.08%\n"
     ]
    },
    {
     "name": "stderr",
     "output_type": "stream",
     "text": [
      "Method ALL – Processing subject ALL – Val Accuracy: 4.08% | Best: 4.08%:  10%|▊       | 49/500 [06:06<55:39,  7.41s/it]"
     ]
    },
    {
     "name": "stdout",
     "output_type": "stream",
     "text": [
      "[Epoch 49/500]\n",
      "Train Loss: 0.2332 | Train Acc: 3.30%\n",
      "Valid Loss: 0.2380 | Valid Acc: 4.08%\n"
     ]
    },
    {
     "name": "stderr",
     "output_type": "stream",
     "text": [
      "Method ALL – Processing subject ALL – Val Accuracy: 4.00% | Best: 4.08%:  10%|▊       | 50/500 [06:14<55:51,  7.45s/it]"
     ]
    },
    {
     "name": "stdout",
     "output_type": "stream",
     "text": [
      "[Epoch 50/500]\n",
      "Train Loss: 0.2322 | Train Acc: 3.53%\n",
      "Valid Loss: 0.2330 | Valid Acc: 4.00%\n"
     ]
    },
    {
     "name": "stderr",
     "output_type": "stream",
     "text": [
      "Method ALL – Processing subject ALL – Val Accuracy: 4.17% | Best: 4.17%:  10%|▊       | 51/500 [06:21<55:50,  7.46s/it]"
     ]
    },
    {
     "name": "stdout",
     "output_type": "stream",
     "text": [
      "[Epoch 51/500]\n",
      "Train Loss: 0.2304 | Train Acc: 4.37%\n",
      "Valid Loss: 0.2314 | Valid Acc: 4.17%\n"
     ]
    },
    {
     "name": "stderr",
     "output_type": "stream",
     "text": [
      "Method ALL – Processing subject ALL – Val Accuracy: 4.58% | Best: 4.58%:  10%|▊       | 52/500 [06:29<55:21,  7.41s/it]"
     ]
    },
    {
     "name": "stdout",
     "output_type": "stream",
     "text": [
      "[Epoch 52/500]\n",
      "Train Loss: 0.2309 | Train Acc: 4.78%\n",
      "Valid Loss: 0.2345 | Valid Acc: 4.58%\n"
     ]
    },
    {
     "name": "stderr",
     "output_type": "stream",
     "text": [
      "Method ALL – Processing subject ALL – Val Accuracy: 4.75% | Best: 4.75%:  11%|▊       | 53/500 [06:36<55:30,  7.45s/it]"
     ]
    },
    {
     "name": "stdout",
     "output_type": "stream",
     "text": [
      "[Epoch 53/500]\n",
      "Train Loss: 0.2357 | Train Acc: 4.15%\n",
      "Valid Loss: 0.2364 | Valid Acc: 4.75%\n"
     ]
    },
    {
     "name": "stderr",
     "output_type": "stream",
     "text": [
      "Method ALL – Processing subject ALL – Val Accuracy: 4.08% | Best: 4.75%:  11%|▊       | 54/500 [06:43<55:04,  7.41s/it]"
     ]
    },
    {
     "name": "stdout",
     "output_type": "stream",
     "text": [
      "[Epoch 54/500]\n",
      "Train Loss: 0.2379 | Train Acc: 3.53%\n",
      "Valid Loss: 0.2419 | Valid Acc: 4.08%\n"
     ]
    },
    {
     "name": "stderr",
     "output_type": "stream",
     "text": [
      "Method ALL – Processing subject ALL – Val Accuracy: 4.92% | Best: 4.92%:  11%|▉       | 55/500 [06:51<55:14,  7.45s/it]"
     ]
    },
    {
     "name": "stdout",
     "output_type": "stream",
     "text": [
      "[Epoch 55/500]\n",
      "Train Loss: 0.2364 | Train Acc: 3.57%\n",
      "Valid Loss: 0.2332 | Valid Acc: 4.92%\n"
     ]
    },
    {
     "name": "stderr",
     "output_type": "stream",
     "text": [
      "Method ALL – Processing subject ALL – Val Accuracy: 4.75% | Best: 4.92%:  11%|▉       | 56/500 [06:58<53:59,  7.30s/it]"
     ]
    },
    {
     "name": "stdout",
     "output_type": "stream",
     "text": [
      "[Epoch 56/500]\n",
      "Train Loss: 0.2298 | Train Acc: 3.78%\n",
      "Valid Loss: 0.2344 | Valid Acc: 4.75%\n"
     ]
    },
    {
     "name": "stderr",
     "output_type": "stream",
     "text": [
      "Method ALL – Processing subject ALL – Val Accuracy: 5.00% | Best: 5.00%:  11%|▉       | 57/500 [07:05<53:56,  7.31s/it]"
     ]
    },
    {
     "name": "stdout",
     "output_type": "stream",
     "text": [
      "[Epoch 57/500]\n",
      "Train Loss: 0.2323 | Train Acc: 5.00%\n",
      "Valid Loss: 0.2302 | Valid Acc: 5.00%\n"
     ]
    },
    {
     "name": "stderr",
     "output_type": "stream",
     "text": [
      "Method ALL – Processing subject ALL – Val Accuracy: 4.75% | Best: 5.00%:  12%|▉       | 58/500 [07:13<54:51,  7.45s/it]"
     ]
    },
    {
     "name": "stdout",
     "output_type": "stream",
     "text": [
      "[Epoch 58/500]\n",
      "Train Loss: 0.2307 | Train Acc: 5.60%\n",
      "Valid Loss: 0.2323 | Valid Acc: 4.75%\n"
     ]
    },
    {
     "name": "stderr",
     "output_type": "stream",
     "text": [
      "Method ALL – Processing subject ALL – Val Accuracy: 5.00% | Best: 5.00%:  12%|▉       | 59/500 [07:21<55:56,  7.61s/it]"
     ]
    },
    {
     "name": "stdout",
     "output_type": "stream",
     "text": [
      "[Epoch 59/500]\n",
      "Train Loss: 0.2323 | Train Acc: 4.70%\n",
      "Valid Loss: 0.2262 | Valid Acc: 5.00%\n"
     ]
    },
    {
     "name": "stderr",
     "output_type": "stream",
     "text": [
      "Method ALL – Processing subject ALL – Val Accuracy: 4.75% | Best: 5.00%:  12%|▉       | 60/500 [07:29<56:25,  7.69s/it]"
     ]
    },
    {
     "name": "stdout",
     "output_type": "stream",
     "text": [
      "[Epoch 60/500]\n",
      "Train Loss: 0.2345 | Train Acc: 4.57%\n",
      "Valid Loss: 0.2324 | Valid Acc: 4.75%\n"
     ]
    },
    {
     "name": "stderr",
     "output_type": "stream",
     "text": [
      "Method ALL – Processing subject ALL – Val Accuracy: 5.00% | Best: 5.00%:  12%|▉       | 61/500 [07:36<55:32,  7.59s/it]"
     ]
    },
    {
     "name": "stdout",
     "output_type": "stream",
     "text": [
      "[Epoch 61/500]\n",
      "Train Loss: 0.2370 | Train Acc: 4.10%\n",
      "Valid Loss: 0.2344 | Valid Acc: 5.00%\n"
     ]
    },
    {
     "name": "stderr",
     "output_type": "stream",
     "text": [
      "Method ALL – Processing subject ALL – Val Accuracy: 5.58% | Best: 5.58%:  12%|▉       | 62/500 [07:44<55:16,  7.57s/it]"
     ]
    },
    {
     "name": "stdout",
     "output_type": "stream",
     "text": [
      "[Epoch 62/500]\n",
      "Train Loss: 0.2294 | Train Acc: 4.35%\n",
      "Valid Loss: 0.2279 | Valid Acc: 5.58%\n"
     ]
    },
    {
     "name": "stderr",
     "output_type": "stream",
     "text": [
      "Method ALL – Processing subject ALL – Val Accuracy: 6.08% | Best: 6.08%:  13%|█       | 63/500 [07:51<54:35,  7.50s/it]"
     ]
    },
    {
     "name": "stdout",
     "output_type": "stream",
     "text": [
      "[Epoch 63/500]\n",
      "Train Loss: 0.2280 | Train Acc: 4.88%\n",
      "Valid Loss: 0.2341 | Valid Acc: 6.08%\n"
     ]
    },
    {
     "name": "stderr",
     "output_type": "stream",
     "text": [
      "Method ALL – Processing subject ALL – Val Accuracy: 5.67% | Best: 6.08%:  13%|█       | 64/500 [07:59<54:16,  7.47s/it]"
     ]
    },
    {
     "name": "stdout",
     "output_type": "stream",
     "text": [
      "[Epoch 64/500]\n",
      "Train Loss: 0.2303 | Train Acc: 5.93%\n",
      "Valid Loss: 0.2305 | Valid Acc: 5.67%\n"
     ]
    },
    {
     "name": "stderr",
     "output_type": "stream",
     "text": [
      "Method ALL – Processing subject ALL – Val Accuracy: 5.92% | Best: 6.08%:  13%|█       | 65/500 [08:06<54:31,  7.52s/it]"
     ]
    },
    {
     "name": "stdout",
     "output_type": "stream",
     "text": [
      "[Epoch 65/500]\n",
      "Train Loss: 0.2300 | Train Acc: 6.23%\n",
      "Valid Loss: 0.2308 | Valid Acc: 5.92%\n"
     ]
    },
    {
     "name": "stderr",
     "output_type": "stream",
     "text": [
      "Method ALL – Processing subject ALL – Val Accuracy: 5.58% | Best: 6.08%:  13%|█       | 66/500 [08:14<54:44,  7.57s/it]"
     ]
    },
    {
     "name": "stdout",
     "output_type": "stream",
     "text": [
      "[Epoch 66/500]\n",
      "Train Loss: 0.2324 | Train Acc: 5.75%\n",
      "Valid Loss: 0.2378 | Valid Acc: 5.58%\n"
     ]
    },
    {
     "name": "stderr",
     "output_type": "stream",
     "text": [
      "Method ALL – Processing subject ALL – Val Accuracy: 5.08% | Best: 6.08%:  13%|█       | 67/500 [08:21<54:30,  7.55s/it]"
     ]
    },
    {
     "name": "stdout",
     "output_type": "stream",
     "text": [
      "[Epoch 67/500]\n",
      "Train Loss: 0.2388 | Train Acc: 4.85%\n",
      "Valid Loss: 0.2449 | Valid Acc: 5.08%\n"
     ]
    },
    {
     "name": "stderr",
     "output_type": "stream",
     "text": [
      "Method ALL – Processing subject ALL – Val Accuracy: 5.92% | Best: 6.08%:  14%|█       | 68/500 [08:29<53:33,  7.44s/it]"
     ]
    },
    {
     "name": "stdout",
     "output_type": "stream",
     "text": [
      "[Epoch 68/500]\n",
      "Train Loss: 0.2336 | Train Acc: 5.28%\n",
      "Valid Loss: 0.2302 | Valid Acc: 5.92%\n"
     ]
    },
    {
     "name": "stderr",
     "output_type": "stream",
     "text": [
      "Method ALL – Processing subject ALL – Val Accuracy: 5.92% | Best: 6.08%:  14%|█       | 69/500 [08:36<53:09,  7.40s/it]"
     ]
    },
    {
     "name": "stdout",
     "output_type": "stream",
     "text": [
      "[Epoch 69/500]\n",
      "Train Loss: 0.2323 | Train Acc: 5.43%\n",
      "Valid Loss: 0.2342 | Valid Acc: 5.92%\n"
     ]
    },
    {
     "name": "stderr",
     "output_type": "stream",
     "text": [
      "Method ALL – Processing subject ALL – Val Accuracy: 5.58% | Best: 6.08%:  14%|█       | 70/500 [08:43<52:59,  7.39s/it]"
     ]
    },
    {
     "name": "stdout",
     "output_type": "stream",
     "text": [
      "[Epoch 70/500]\n",
      "Train Loss: 0.2297 | Train Acc: 6.43%\n",
      "Valid Loss: 0.2277 | Valid Acc: 5.58%\n"
     ]
    },
    {
     "name": "stderr",
     "output_type": "stream",
     "text": [
      "Method ALL – Processing subject ALL – Val Accuracy: 5.33% | Best: 6.08%:  14%|█▏      | 71/500 [08:51<52:56,  7.41s/it]"
     ]
    },
    {
     "name": "stdout",
     "output_type": "stream",
     "text": [
      "[Epoch 71/500]\n",
      "Train Loss: 0.2268 | Train Acc: 6.55%\n",
      "Valid Loss: 0.2308 | Valid Acc: 5.33%\n"
     ]
    },
    {
     "name": "stderr",
     "output_type": "stream",
     "text": [
      "Method ALL – Processing subject ALL – Val Accuracy: 6.08% | Best: 6.08%:  14%|█▏      | 72/500 [08:58<52:58,  7.43s/it]"
     ]
    },
    {
     "name": "stdout",
     "output_type": "stream",
     "text": [
      "[Epoch 72/500]\n",
      "Train Loss: 0.2355 | Train Acc: 6.03%\n",
      "Valid Loss: 0.2430 | Valid Acc: 6.08%\n"
     ]
    },
    {
     "name": "stderr",
     "output_type": "stream",
     "text": [
      "Method ALL – Processing subject ALL – Val Accuracy: 5.92% | Best: 6.08%:  15%|█▏      | 73/500 [09:06<52:44,  7.41s/it]"
     ]
    },
    {
     "name": "stdout",
     "output_type": "stream",
     "text": [
      "[Epoch 73/500]\n",
      "Train Loss: 0.2334 | Train Acc: 5.12%\n",
      "Valid Loss: 0.2401 | Valid Acc: 5.92%\n"
     ]
    },
    {
     "name": "stderr",
     "output_type": "stream",
     "text": [
      "Method ALL – Processing subject ALL – Val Accuracy: 5.58% | Best: 6.08%:  15%|█▏      | 74/500 [09:13<52:50,  7.44s/it]"
     ]
    },
    {
     "name": "stdout",
     "output_type": "stream",
     "text": [
      "[Epoch 74/500]\n",
      "Train Loss: 0.2321 | Train Acc: 5.32%\n",
      "Valid Loss: 0.2317 | Valid Acc: 5.58%\n"
     ]
    },
    {
     "name": "stderr",
     "output_type": "stream",
     "text": [
      "Method ALL – Processing subject ALL – Val Accuracy: 5.83% | Best: 6.08%:  15%|█▏      | 75/500 [09:21<52:53,  7.47s/it]"
     ]
    },
    {
     "name": "stdout",
     "output_type": "stream",
     "text": [
      "[Epoch 75/500]\n",
      "Train Loss: 0.2291 | Train Acc: 5.87%\n",
      "Valid Loss: 0.2300 | Valid Acc: 5.83%\n"
     ]
    },
    {
     "name": "stderr",
     "output_type": "stream",
     "text": [
      "Method ALL – Processing subject ALL – Val Accuracy: 5.75% | Best: 6.08%:  15%|█▏      | 76/500 [09:28<52:36,  7.44s/it]"
     ]
    },
    {
     "name": "stdout",
     "output_type": "stream",
     "text": [
      "[Epoch 76/500]\n",
      "Train Loss: 0.2316 | Train Acc: 6.50%\n",
      "Valid Loss: 0.2289 | Valid Acc: 5.75%\n"
     ]
    },
    {
     "name": "stderr",
     "output_type": "stream",
     "text": [
      "Method ALL – Processing subject ALL – Val Accuracy: 5.67% | Best: 6.08%:  15%|█▏      | 77/500 [09:35<52:34,  7.46s/it]"
     ]
    },
    {
     "name": "stdout",
     "output_type": "stream",
     "text": [
      "[Epoch 77/500]\n",
      "Train Loss: 0.2286 | Train Acc: 7.43%\n",
      "Valid Loss: 0.2354 | Valid Acc: 5.67%\n"
     ]
    },
    {
     "name": "stderr",
     "output_type": "stream",
     "text": [
      "Method ALL – Processing subject ALL – Val Accuracy: 6.67% | Best: 6.67%:  16%|█▏      | 78/500 [09:43<52:24,  7.45s/it]"
     ]
    },
    {
     "name": "stdout",
     "output_type": "stream",
     "text": [
      "[Epoch 78/500]\n",
      "Train Loss: 0.2295 | Train Acc: 7.35%\n",
      "Valid Loss: 0.2343 | Valid Acc: 6.67%\n"
     ]
    },
    {
     "name": "stderr",
     "output_type": "stream",
     "text": [
      "Method ALL – Processing subject ALL – Val Accuracy: 6.00% | Best: 6.67%:  16%|█▎      | 79/500 [09:50<52:21,  7.46s/it]"
     ]
    },
    {
     "name": "stdout",
     "output_type": "stream",
     "text": [
      "[Epoch 79/500]\n",
      "Train Loss: 0.2324 | Train Acc: 5.80%\n",
      "Valid Loss: 0.2340 | Valid Acc: 6.00%\n"
     ]
    },
    {
     "name": "stderr",
     "output_type": "stream",
     "text": [
      "Method ALL – Processing subject ALL – Val Accuracy: 4.92% | Best: 6.67%:  16%|█▎      | 80/500 [09:58<51:56,  7.42s/it]"
     ]
    },
    {
     "name": "stdout",
     "output_type": "stream",
     "text": [
      "[Epoch 80/500]\n",
      "Train Loss: 0.2347 | Train Acc: 6.52%\n",
      "Valid Loss: 0.2322 | Valid Acc: 4.92%\n"
     ]
    },
    {
     "name": "stderr",
     "output_type": "stream",
     "text": [
      "Method ALL – Processing subject ALL – Val Accuracy: 5.83% | Best: 6.67%:  16%|█▎      | 81/500 [10:05<51:48,  7.42s/it]"
     ]
    },
    {
     "name": "stdout",
     "output_type": "stream",
     "text": [
      "[Epoch 81/500]\n",
      "Train Loss: 0.2302 | Train Acc: 6.45%\n",
      "Valid Loss: 0.2286 | Valid Acc: 5.83%\n"
     ]
    },
    {
     "name": "stderr",
     "output_type": "stream",
     "text": [
      "Method ALL – Processing subject ALL – Val Accuracy: 5.83% | Best: 6.67%:  16%|█▎      | 82/500 [10:13<51:51,  7.44s/it]"
     ]
    },
    {
     "name": "stdout",
     "output_type": "stream",
     "text": [
      "[Epoch 82/500]\n",
      "Train Loss: 0.2310 | Train Acc: 7.05%\n",
      "Valid Loss: 0.2318 | Valid Acc: 5.83%\n"
     ]
    },
    {
     "name": "stderr",
     "output_type": "stream",
     "text": [
      "Method ALL – Processing subject ALL – Val Accuracy: 6.25% | Best: 6.67%:  17%|█▎      | 83/500 [10:20<51:53,  7.47s/it]"
     ]
    },
    {
     "name": "stdout",
     "output_type": "stream",
     "text": [
      "[Epoch 83/500]\n",
      "Train Loss: 0.2300 | Train Acc: 8.33%\n",
      "Valid Loss: 0.2363 | Valid Acc: 6.25%\n"
     ]
    },
    {
     "name": "stderr",
     "output_type": "stream",
     "text": [
      "Method ALL – Processing subject ALL – Val Accuracy: 5.92% | Best: 6.67%:  17%|█▎      | 84/500 [10:27<51:14,  7.39s/it]"
     ]
    },
    {
     "name": "stdout",
     "output_type": "stream",
     "text": [
      "[Epoch 84/500]\n",
      "Train Loss: 0.2307 | Train Acc: 8.73%\n",
      "Valid Loss: 0.2273 | Valid Acc: 5.92%\n"
     ]
    },
    {
     "name": "stderr",
     "output_type": "stream",
     "text": [
      "Method ALL – Processing subject ALL – Val Accuracy: 7.00% | Best: 7.00%:  17%|█▎      | 85/500 [10:35<51:30,  7.45s/it]"
     ]
    },
    {
     "name": "stdout",
     "output_type": "stream",
     "text": [
      "[Epoch 85/500]\n",
      "Train Loss: 0.2331 | Train Acc: 8.12%\n",
      "Valid Loss: 0.2329 | Valid Acc: 7.00%\n"
     ]
    },
    {
     "name": "stderr",
     "output_type": "stream",
     "text": [
      "Method ALL – Processing subject ALL – Val Accuracy: 5.33% | Best: 7.00%:  17%|█▍      | 86/500 [10:42<51:21,  7.44s/it]"
     ]
    },
    {
     "name": "stdout",
     "output_type": "stream",
     "text": [
      "[Epoch 86/500]\n",
      "Train Loss: 0.2330 | Train Acc: 6.90%\n",
      "Valid Loss: 0.2413 | Valid Acc: 5.33%\n"
     ]
    },
    {
     "name": "stderr",
     "output_type": "stream",
     "text": [
      "Method ALL – Processing subject ALL – Val Accuracy: 6.92% | Best: 7.00%:  17%|█▍      | 87/500 [10:50<51:25,  7.47s/it]"
     ]
    },
    {
     "name": "stdout",
     "output_type": "stream",
     "text": [
      "[Epoch 87/500]\n",
      "Train Loss: 0.2313 | Train Acc: 6.82%\n",
      "Valid Loss: 0.2287 | Valid Acc: 6.92%\n"
     ]
    },
    {
     "name": "stderr",
     "output_type": "stream",
     "text": [
      "Method ALL – Processing subject ALL – Val Accuracy: 7.25% | Best: 7.25%:  18%|█▍      | 88/500 [10:57<51:20,  7.48s/it]"
     ]
    },
    {
     "name": "stdout",
     "output_type": "stream",
     "text": [
      "[Epoch 88/500]\n",
      "Train Loss: 0.2280 | Train Acc: 7.82%\n",
      "Valid Loss: 0.2276 | Valid Acc: 7.25%\n"
     ]
    },
    {
     "name": "stderr",
     "output_type": "stream",
     "text": [
      "Method ALL – Processing subject ALL – Val Accuracy: 6.50% | Best: 7.25%:  18%|█▍      | 89/500 [11:05<51:20,  7.50s/it]"
     ]
    },
    {
     "name": "stdout",
     "output_type": "stream",
     "text": [
      "[Epoch 89/500]\n",
      "Train Loss: 0.2286 | Train Acc: 9.43%\n",
      "Valid Loss: 0.2312 | Valid Acc: 6.50%\n"
     ]
    },
    {
     "name": "stderr",
     "output_type": "stream",
     "text": [
      "Method ALL – Processing subject ALL – Val Accuracy: 7.17% | Best: 7.25%:  18%|█▍      | 90/500 [11:12<51:09,  7.49s/it]"
     ]
    },
    {
     "name": "stdout",
     "output_type": "stream",
     "text": [
      "[Epoch 90/500]\n",
      "Train Loss: 0.2270 | Train Acc: 10.23%\n",
      "Valid Loss: 0.2321 | Valid Acc: 7.17%\n"
     ]
    },
    {
     "name": "stderr",
     "output_type": "stream",
     "text": [
      "Method ALL – Processing subject ALL – Val Accuracy: 5.83% | Best: 7.25%:  18%|█▍      | 91/500 [11:20<51:33,  7.56s/it]"
     ]
    },
    {
     "name": "stdout",
     "output_type": "stream",
     "text": [
      "[Epoch 91/500]\n",
      "Train Loss: 0.2332 | Train Acc: 9.60%\n",
      "Valid Loss: 0.2334 | Valid Acc: 5.83%\n"
     ]
    },
    {
     "name": "stderr",
     "output_type": "stream",
     "text": [
      "Method ALL – Processing subject ALL – Val Accuracy: 7.42% | Best: 7.42%:  18%|█▍      | 92/500 [11:27<50:54,  7.49s/it]"
     ]
    },
    {
     "name": "stdout",
     "output_type": "stream",
     "text": [
      "[Epoch 92/500]\n",
      "Train Loss: 0.2341 | Train Acc: 8.50%\n",
      "Valid Loss: 0.2275 | Valid Acc: 7.42%\n"
     ]
    },
    {
     "name": "stderr",
     "output_type": "stream",
     "text": [
      "Method ALL – Processing subject ALL – Val Accuracy: 7.25% | Best: 7.42%:  19%|█▍      | 93/500 [11:35<50:46,  7.49s/it]"
     ]
    },
    {
     "name": "stdout",
     "output_type": "stream",
     "text": [
      "[Epoch 93/500]\n",
      "Train Loss: 0.2303 | Train Acc: 7.20%\n",
      "Valid Loss: 0.2322 | Valid Acc: 7.25%\n"
     ]
    },
    {
     "name": "stderr",
     "output_type": "stream",
     "text": [
      "Method ALL – Processing subject ALL – Val Accuracy: 7.58% | Best: 7.58%:  19%|█▌      | 94/500 [11:42<50:23,  7.45s/it]"
     ]
    },
    {
     "name": "stdout",
     "output_type": "stream",
     "text": [
      "[Epoch 94/500]\n",
      "Train Loss: 0.2302 | Train Acc: 8.00%\n",
      "Valid Loss: 0.2316 | Valid Acc: 7.58%\n"
     ]
    },
    {
     "name": "stderr",
     "output_type": "stream",
     "text": [
      "Method ALL – Processing subject ALL – Val Accuracy: 7.75% | Best: 7.75%:  19%|█▌      | 95/500 [11:50<50:25,  7.47s/it]"
     ]
    },
    {
     "name": "stdout",
     "output_type": "stream",
     "text": [
      "[Epoch 95/500]\n",
      "Train Loss: 0.2267 | Train Acc: 10.05%\n",
      "Valid Loss: 0.2325 | Valid Acc: 7.75%\n"
     ]
    },
    {
     "name": "stderr",
     "output_type": "stream",
     "text": [
      "Method ALL – Processing subject ALL – Val Accuracy: 8.42% | Best: 8.42%:  19%|█▌      | 96/500 [11:57<50:02,  7.43s/it]"
     ]
    },
    {
     "name": "stdout",
     "output_type": "stream",
     "text": [
      "[Epoch 96/500]\n",
      "Train Loss: 0.2294 | Train Acc: 11.93%\n",
      "Valid Loss: 0.2263 | Valid Acc: 8.42%\n"
     ]
    },
    {
     "name": "stderr",
     "output_type": "stream",
     "text": [
      "Method ALL – Processing subject ALL – Val Accuracy: 7.67% | Best: 8.42%:  19%|█▌      | 97/500 [12:05<49:50,  7.42s/it]"
     ]
    },
    {
     "name": "stdout",
     "output_type": "stream",
     "text": [
      "[Epoch 97/500]\n",
      "Train Loss: 0.2254 | Train Acc: 12.22%\n",
      "Valid Loss: 0.2351 | Valid Acc: 7.67%\n"
     ]
    },
    {
     "name": "stderr",
     "output_type": "stream",
     "text": [
      "Method ALL – Processing subject ALL – Val Accuracy: 7.75% | Best: 8.42%:  20%|█▌      | 98/500 [12:12<49:55,  7.45s/it]"
     ]
    },
    {
     "name": "stdout",
     "output_type": "stream",
     "text": [
      "[Epoch 98/500]\n",
      "Train Loss: 0.2308 | Train Acc: 10.68%\n",
      "Valid Loss: 0.2378 | Valid Acc: 7.75%\n"
     ]
    },
    {
     "name": "stderr",
     "output_type": "stream",
     "text": [
      "Method ALL – Processing subject ALL – Val Accuracy: 7.50% | Best: 8.42%:  20%|█▌      | 99/500 [12:20<49:59,  7.48s/it]"
     ]
    },
    {
     "name": "stdout",
     "output_type": "stream",
     "text": [
      "[Epoch 99/500]\n",
      "Train Loss: 0.2360 | Train Acc: 8.73%\n",
      "Valid Loss: 0.2324 | Valid Acc: 7.50%\n"
     ]
    },
    {
     "name": "stderr",
     "output_type": "stream",
     "text": [
      "Method ALL – Processing subject ALL – Val Accuracy: 6.75% | Best: 8.42%:  20%|█▍     | 100/500 [12:27<49:35,  7.44s/it]"
     ]
    },
    {
     "name": "stdout",
     "output_type": "stream",
     "text": [
      "[Epoch 100/500]\n",
      "Train Loss: 0.2326 | Train Acc: 9.58%\n",
      "Valid Loss: 0.2251 | Valid Acc: 6.75%\n"
     ]
    },
    {
     "name": "stderr",
     "output_type": "stream",
     "text": [
      "Method ALL – Processing subject ALL – Val Accuracy: 7.17% | Best: 8.42%:  20%|█▍     | 101/500 [12:34<49:38,  7.46s/it]"
     ]
    },
    {
     "name": "stdout",
     "output_type": "stream",
     "text": [
      "[Epoch 101/500]\n",
      "Train Loss: 0.2311 | Train Acc: 11.98%\n",
      "Valid Loss: 0.2276 | Valid Acc: 7.17%\n"
     ]
    },
    {
     "name": "stderr",
     "output_type": "stream",
     "text": [
      "Method ALL – Processing subject ALL – Val Accuracy: 7.42% | Best: 8.42%:  20%|█▍     | 102/500 [12:42<49:12,  7.42s/it]"
     ]
    },
    {
     "name": "stdout",
     "output_type": "stream",
     "text": [
      "[Epoch 102/500]\n",
      "Train Loss: 0.2273 | Train Acc: 13.62%\n",
      "Valid Loss: 0.2327 | Valid Acc: 7.42%\n"
     ]
    },
    {
     "name": "stderr",
     "output_type": "stream",
     "text": [
      "Method ALL – Processing subject ALL – Val Accuracy: 7.58% | Best: 8.42%:  21%|█▍     | 103/500 [12:49<49:09,  7.43s/it]"
     ]
    },
    {
     "name": "stdout",
     "output_type": "stream",
     "text": [
      "[Epoch 103/500]\n",
      "Train Loss: 0.2284 | Train Acc: 15.42%\n",
      "Valid Loss: 0.2300 | Valid Acc: 7.58%\n"
     ]
    },
    {
     "name": "stderr",
     "output_type": "stream",
     "text": [
      "Method ALL – Processing subject ALL – Val Accuracy: 6.25% | Best: 8.42%:  21%|█▍     | 104/500 [12:57<48:57,  7.42s/it]"
     ]
    },
    {
     "name": "stdout",
     "output_type": "stream",
     "text": [
      "[Epoch 104/500]\n",
      "Train Loss: 0.2309 | Train Acc: 13.62%\n",
      "Valid Loss: 0.2282 | Valid Acc: 6.25%\n"
     ]
    },
    {
     "name": "stderr",
     "output_type": "stream",
     "text": [
      "Method ALL – Processing subject ALL – Val Accuracy: 6.42% | Best: 8.42%:  21%|█▍     | 105/500 [13:04<48:42,  7.40s/it]"
     ]
    },
    {
     "name": "stdout",
     "output_type": "stream",
     "text": [
      "[Epoch 105/500]\n",
      "Train Loss: 0.2346 | Train Acc: 10.95%\n",
      "Valid Loss: 0.2357 | Valid Acc: 6.42%\n"
     ]
    },
    {
     "name": "stderr",
     "output_type": "stream",
     "text": [
      "Method ALL – Processing subject ALL – Val Accuracy: 7.25% | Best: 8.42%:  21%|█▍     | 106/500 [13:11<48:40,  7.41s/it]"
     ]
    },
    {
     "name": "stdout",
     "output_type": "stream",
     "text": [
      "[Epoch 106/500]\n",
      "Train Loss: 0.2328 | Train Acc: 10.63%\n",
      "Valid Loss: 0.2269 | Valid Acc: 7.25%\n"
     ]
    },
    {
     "name": "stderr",
     "output_type": "stream",
     "text": [
      "Method ALL – Processing subject ALL – Val Accuracy: 7.08% | Best: 8.42%:  21%|█▍     | 107/500 [13:19<49:30,  7.56s/it]"
     ]
    },
    {
     "name": "stdout",
     "output_type": "stream",
     "text": [
      "[Epoch 107/500]\n",
      "Train Loss: 0.2282 | Train Acc: 12.28%\n",
      "Valid Loss: 0.2409 | Valid Acc: 7.08%\n"
     ]
    },
    {
     "name": "stderr",
     "output_type": "stream",
     "text": [
      "Method ALL – Processing subject ALL – Val Accuracy: 7.42% | Best: 8.42%:  22%|█▌     | 108/500 [13:27<49:13,  7.53s/it]"
     ]
    },
    {
     "name": "stdout",
     "output_type": "stream",
     "text": [
      "[Epoch 108/500]\n",
      "Train Loss: 0.2288 | Train Acc: 15.27%\n",
      "Valid Loss: 0.2281 | Valid Acc: 7.42%\n"
     ]
    },
    {
     "name": "stderr",
     "output_type": "stream",
     "text": [
      "Method ALL – Processing subject ALL – Val Accuracy: 7.00% | Best: 8.42%:  22%|█▌     | 109/500 [13:34<48:56,  7.51s/it]"
     ]
    },
    {
     "name": "stdout",
     "output_type": "stream",
     "text": [
      "[Epoch 109/500]\n",
      "Train Loss: 0.2291 | Train Acc: 18.65%\n",
      "Valid Loss: 0.2317 | Valid Acc: 7.00%\n"
     ]
    },
    {
     "name": "stderr",
     "output_type": "stream",
     "text": [
      "Method ALL – Processing subject ALL – Val Accuracy: 7.33% | Best: 8.42%:  22%|█▌     | 110/500 [13:42<48:39,  7.49s/it]"
     ]
    },
    {
     "name": "stdout",
     "output_type": "stream",
     "text": [
      "[Epoch 110/500]\n",
      "Train Loss: 0.2271 | Train Acc: 16.45%\n",
      "Valid Loss: 0.2324 | Valid Acc: 7.33%\n"
     ]
    },
    {
     "name": "stderr",
     "output_type": "stream",
     "text": [
      "Method ALL – Processing subject ALL – Val Accuracy: 6.92% | Best: 8.42%:  22%|█▌     | 111/500 [13:49<48:30,  7.48s/it]"
     ]
    },
    {
     "name": "stdout",
     "output_type": "stream",
     "text": [
      "[Epoch 111/500]\n",
      "Train Loss: 0.2336 | Train Acc: 13.75%\n",
      "Valid Loss: 0.2347 | Valid Acc: 6.92%\n"
     ]
    },
    {
     "name": "stderr",
     "output_type": "stream",
     "text": [
      "Method ALL – Processing subject ALL – Val Accuracy: 7.75% | Best: 8.42%:  22%|█▌     | 112/500 [13:57<48:10,  7.45s/it]"
     ]
    },
    {
     "name": "stdout",
     "output_type": "stream",
     "text": [
      "[Epoch 112/500]\n",
      "Train Loss: 0.2316 | Train Acc: 12.53%\n",
      "Valid Loss: 0.2312 | Valid Acc: 7.75%\n"
     ]
    },
    {
     "name": "stderr",
     "output_type": "stream",
     "text": [
      "Method ALL – Processing subject ALL – Val Accuracy: 7.75% | Best: 8.42%:  23%|█▌     | 113/500 [14:04<47:55,  7.43s/it]"
     ]
    },
    {
     "name": "stdout",
     "output_type": "stream",
     "text": [
      "[Epoch 113/500]\n",
      "Train Loss: 0.2295 | Train Acc: 13.73%\n",
      "Valid Loss: 0.2297 | Valid Acc: 7.75%\n"
     ]
    },
    {
     "name": "stderr",
     "output_type": "stream",
     "text": [
      "Method ALL – Processing subject ALL – Val Accuracy: 7.67% | Best: 8.42%:  23%|█▌     | 114/500 [14:11<47:47,  7.43s/it]"
     ]
    },
    {
     "name": "stdout",
     "output_type": "stream",
     "text": [
      "[Epoch 114/500]\n",
      "Train Loss: 0.2301 | Train Acc: 16.03%\n",
      "Valid Loss: 0.2360 | Valid Acc: 7.67%\n"
     ]
    },
    {
     "name": "stderr",
     "output_type": "stream",
     "text": [
      "Method ALL – Processing subject ALL – Val Accuracy: 7.58% | Best: 8.42%:  23%|█▌     | 115/500 [14:19<47:45,  7.44s/it]"
     ]
    },
    {
     "name": "stdout",
     "output_type": "stream",
     "text": [
      "[Epoch 115/500]\n",
      "Train Loss: 0.2284 | Train Acc: 20.75%\n",
      "Valid Loss: 0.2279 | Valid Acc: 7.58%\n"
     ]
    },
    {
     "name": "stderr",
     "output_type": "stream",
     "text": [
      "Method ALL – Processing subject ALL – Val Accuracy: 7.58% | Best: 8.42%:  23%|█▌     | 116/500 [14:26<47:40,  7.45s/it]"
     ]
    },
    {
     "name": "stdout",
     "output_type": "stream",
     "text": [
      "[Epoch 116/500]\n",
      "Train Loss: 0.2274 | Train Acc: 20.45%\n",
      "Valid Loss: 0.2321 | Valid Acc: 7.58%\n"
     ]
    },
    {
     "name": "stderr",
     "output_type": "stream",
     "text": [
      "Method ALL – Processing subject ALL – Val Accuracy: 7.50% | Best: 8.42%:  23%|█▋     | 117/500 [14:34<47:26,  7.43s/it]"
     ]
    },
    {
     "name": "stdout",
     "output_type": "stream",
     "text": [
      "[Epoch 117/500]\n",
      "Train Loss: 0.2308 | Train Acc: 16.67%\n",
      "Valid Loss: 0.2300 | Valid Acc: 7.50%\n"
     ]
    },
    {
     "name": "stderr",
     "output_type": "stream",
     "text": [
      "Method ALL – Processing subject ALL – Val Accuracy: 7.00% | Best: 8.42%:  24%|█▋     | 118/500 [14:41<47:30,  7.46s/it]"
     ]
    },
    {
     "name": "stdout",
     "output_type": "stream",
     "text": [
      "[Epoch 118/500]\n",
      "Train Loss: 0.2303 | Train Acc: 14.22%\n",
      "Valid Loss: 0.2279 | Valid Acc: 7.00%\n"
     ]
    },
    {
     "name": "stderr",
     "output_type": "stream",
     "text": [
      "Method ALL – Processing subject ALL – Val Accuracy: 7.25% | Best: 8.42%:  24%|█▋     | 119/500 [14:49<47:16,  7.44s/it]"
     ]
    },
    {
     "name": "stdout",
     "output_type": "stream",
     "text": [
      "[Epoch 119/500]\n",
      "Train Loss: 0.2288 | Train Acc: 14.60%\n",
      "Valid Loss: 0.2307 | Valid Acc: 7.25%\n"
     ]
    },
    {
     "name": "stderr",
     "output_type": "stream",
     "text": [
      "Method ALL – Processing subject ALL – Val Accuracy: 7.92% | Best: 8.42%:  24%|█▋     | 120/500 [14:56<47:10,  7.45s/it]"
     ]
    },
    {
     "name": "stdout",
     "output_type": "stream",
     "text": [
      "[Epoch 120/500]\n",
      "Train Loss: 0.2295 | Train Acc: 17.40%\n",
      "Valid Loss: 0.2269 | Valid Acc: 7.92%\n"
     ]
    },
    {
     "name": "stderr",
     "output_type": "stream",
     "text": [
      "Method ALL – Processing subject ALL – Val Accuracy: 7.42% | Best: 8.42%:  24%|█▋     | 121/500 [15:04<46:59,  7.44s/it]"
     ]
    },
    {
     "name": "stdout",
     "output_type": "stream",
     "text": [
      "[Epoch 121/500]\n",
      "Train Loss: 0.2261 | Train Acc: 22.45%\n",
      "Valid Loss: 0.2315 | Valid Acc: 7.42%\n"
     ]
    },
    {
     "name": "stderr",
     "output_type": "stream",
     "text": [
      "Method ALL – Processing subject ALL – Val Accuracy: 8.33% | Best: 8.42%:  24%|█▋     | 122/500 [15:11<46:49,  7.43s/it]"
     ]
    },
    {
     "name": "stdout",
     "output_type": "stream",
     "text": [
      "[Epoch 122/500]\n",
      "Train Loss: 0.2270 | Train Acc: 25.38%\n",
      "Valid Loss: 0.2260 | Valid Acc: 8.33%\n"
     ]
    },
    {
     "name": "stderr",
     "output_type": "stream",
     "text": [
      "Method ALL – Processing subject ALL – Val Accuracy: 8.33% | Best: 8.42%:  25%|█▋     | 123/500 [15:18<46:51,  7.46s/it]"
     ]
    },
    {
     "name": "stdout",
     "output_type": "stream",
     "text": [
      "[Epoch 123/500]\n",
      "Train Loss: 0.2285 | Train Acc: 21.80%\n",
      "Valid Loss: 0.2271 | Valid Acc: 8.33%\n"
     ]
    },
    {
     "name": "stderr",
     "output_type": "stream",
     "text": [
      "Method ALL – Processing subject ALL – Val Accuracy: 7.92% | Best: 8.42%:  25%|█▋     | 124/500 [15:26<46:21,  7.40s/it]"
     ]
    },
    {
     "name": "stdout",
     "output_type": "stream",
     "text": [
      "[Epoch 124/500]\n",
      "Train Loss: 0.2288 | Train Acc: 18.08%\n",
      "Valid Loss: 0.2360 | Valid Acc: 7.92%\n"
     ]
    },
    {
     "name": "stderr",
     "output_type": "stream",
     "text": [
      "Method ALL – Processing subject ALL – Val Accuracy: 7.33% | Best: 8.42%:  25%|█▊     | 125/500 [15:33<46:24,  7.42s/it]"
     ]
    },
    {
     "name": "stdout",
     "output_type": "stream",
     "text": [
      "[Epoch 125/500]\n",
      "Train Loss: 0.2304 | Train Acc: 17.32%\n",
      "Valid Loss: 0.2300 | Valid Acc: 7.33%\n"
     ]
    },
    {
     "name": "stderr",
     "output_type": "stream",
     "text": [
      "Method ALL – Processing subject ALL – Val Accuracy: 7.83% | Best: 8.42%:  25%|█▊     | 126/500 [15:40<46:00,  7.38s/it]"
     ]
    },
    {
     "name": "stdout",
     "output_type": "stream",
     "text": [
      "[Epoch 126/500]\n",
      "Train Loss: 0.2292 | Train Acc: 18.93%\n",
      "Valid Loss: 0.2337 | Valid Acc: 7.83%\n"
     ]
    },
    {
     "name": "stderr",
     "output_type": "stream",
     "text": [
      "Method ALL – Processing subject ALL – Val Accuracy: 7.92% | Best: 8.42%:  25%|█▊     | 127/500 [15:48<46:08,  7.42s/it]"
     ]
    },
    {
     "name": "stdout",
     "output_type": "stream",
     "text": [
      "[Epoch 127/500]\n",
      "Train Loss: 0.2297 | Train Acc: 23.97%\n",
      "Valid Loss: 0.2309 | Valid Acc: 7.92%\n"
     ]
    },
    {
     "name": "stderr",
     "output_type": "stream",
     "text": [
      "Method ALL – Processing subject ALL – Val Accuracy: 8.17% | Best: 8.42%:  26%|█▊     | 128/500 [15:55<46:11,  7.45s/it]"
     ]
    },
    {
     "name": "stdout",
     "output_type": "stream",
     "text": [
      "[Epoch 128/500]\n",
      "Train Loss: 0.2295 | Train Acc: 28.45%\n",
      "Valid Loss: 0.2343 | Valid Acc: 8.17%\n"
     ]
    },
    {
     "name": "stderr",
     "output_type": "stream",
     "text": [
      "Method ALL – Processing subject ALL – Val Accuracy: 7.75% | Best: 8.42%:  26%|█▊     | 129/500 [16:03<45:56,  7.43s/it]"
     ]
    },
    {
     "name": "stdout",
     "output_type": "stream",
     "text": [
      "[Epoch 129/500]\n",
      "Train Loss: 0.2248 | Train Acc: 27.12%\n",
      "Valid Loss: 0.2294 | Valid Acc: 7.75%\n"
     ]
    },
    {
     "name": "stderr",
     "output_type": "stream",
     "text": [
      "Method ALL – Processing subject ALL – Val Accuracy: 8.00% | Best: 8.42%:  26%|█▊     | 130/500 [16:10<45:35,  7.39s/it]"
     ]
    },
    {
     "name": "stdout",
     "output_type": "stream",
     "text": [
      "[Epoch 130/500]\n",
      "Train Loss: 0.2295 | Train Acc: 22.12%\n",
      "Valid Loss: 0.2292 | Valid Acc: 8.00%\n"
     ]
    },
    {
     "name": "stderr",
     "output_type": "stream",
     "text": [
      "Method ALL – Processing subject ALL – Val Accuracy: 7.50% | Best: 8.42%:  26%|█▊     | 131/500 [16:18<45:44,  7.44s/it]"
     ]
    },
    {
     "name": "stdout",
     "output_type": "stream",
     "text": [
      "[Epoch 131/500]\n",
      "Train Loss: 0.2303 | Train Acc: 19.77%\n",
      "Valid Loss: 0.2261 | Valid Acc: 7.50%\n"
     ]
    },
    {
     "name": "stderr",
     "output_type": "stream",
     "text": [
      "Method ALL – Processing subject ALL – Val Accuracy: 8.17% | Best: 8.42%:  26%|█▊     | 132/500 [16:25<45:47,  7.47s/it]"
     ]
    },
    {
     "name": "stdout",
     "output_type": "stream",
     "text": [
      "[Epoch 132/500]\n",
      "Train Loss: 0.2277 | Train Acc: 20.32%\n",
      "Valid Loss: 0.2261 | Valid Acc: 8.17%\n"
     ]
    },
    {
     "name": "stderr",
     "output_type": "stream",
     "text": [
      "Method ALL – Processing subject ALL – Val Accuracy: 8.00% | Best: 8.42%:  27%|█▊     | 133/500 [16:33<45:47,  7.49s/it]"
     ]
    },
    {
     "name": "stdout",
     "output_type": "stream",
     "text": [
      "[Epoch 133/500]\n",
      "Train Loss: 0.2282 | Train Acc: 25.45%\n",
      "Valid Loss: 0.2310 | Valid Acc: 8.00%\n"
     ]
    },
    {
     "name": "stderr",
     "output_type": "stream",
     "text": [
      "Method ALL – Processing subject ALL – Val Accuracy: 7.58% | Best: 8.42%:  27%|█▉     | 134/500 [16:40<45:24,  7.44s/it]"
     ]
    },
    {
     "name": "stdout",
     "output_type": "stream",
     "text": [
      "[Epoch 134/500]\n",
      "Train Loss: 0.2290 | Train Acc: 30.87%\n",
      "Valid Loss: 0.2258 | Valid Acc: 7.58%\n"
     ]
    },
    {
     "name": "stderr",
     "output_type": "stream",
     "text": [
      "Method ALL – Processing subject ALL – Val Accuracy: 8.17% | Best: 8.42%:  27%|█▉     | 135/500 [16:48<45:22,  7.46s/it]"
     ]
    },
    {
     "name": "stdout",
     "output_type": "stream",
     "text": [
      "[Epoch 135/500]\n",
      "Train Loss: 0.2239 | Train Acc: 33.13%\n",
      "Valid Loss: 0.2344 | Valid Acc: 8.17%\n"
     ]
    },
    {
     "name": "stderr",
     "output_type": "stream",
     "text": [
      "Method ALL – Processing subject ALL – Val Accuracy: 8.50% | Best: 8.50%:  27%|█▉     | 136/500 [16:55<45:14,  7.46s/it]"
     ]
    },
    {
     "name": "stdout",
     "output_type": "stream",
     "text": [
      "[Epoch 136/500]\n",
      "Train Loss: 0.2270 | Train Acc: 27.08%\n",
      "Valid Loss: 0.2263 | Valid Acc: 8.50%\n"
     ]
    },
    {
     "name": "stderr",
     "output_type": "stream",
     "text": [
      "Method ALL – Processing subject ALL – Val Accuracy: 8.33% | Best: 8.50%:  27%|█▉     | 137/500 [17:03<45:07,  7.46s/it]"
     ]
    },
    {
     "name": "stdout",
     "output_type": "stream",
     "text": [
      "[Epoch 137/500]\n",
      "Train Loss: 0.2285 | Train Acc: 22.48%\n",
      "Valid Loss: 0.2286 | Valid Acc: 8.33%\n"
     ]
    },
    {
     "name": "stderr",
     "output_type": "stream",
     "text": [
      "Method ALL – Processing subject ALL – Val Accuracy: 7.67% | Best: 8.50%:  28%|█▉     | 138/500 [17:10<45:02,  7.46s/it]"
     ]
    },
    {
     "name": "stdout",
     "output_type": "stream",
     "text": [
      "[Epoch 138/500]\n",
      "Train Loss: 0.2311 | Train Acc: 22.47%\n",
      "Valid Loss: 0.2285 | Valid Acc: 7.67%\n"
     ]
    },
    {
     "name": "stderr",
     "output_type": "stream",
     "text": [
      "Method ALL – Processing subject ALL – Val Accuracy: 8.33% | Best: 8.50%:  28%|█▉     | 139/500 [17:17<44:49,  7.45s/it]"
     ]
    },
    {
     "name": "stdout",
     "output_type": "stream",
     "text": [
      "[Epoch 139/500]\n",
      "Train Loss: 0.2263 | Train Acc: 27.20%\n",
      "Valid Loss: 0.2335 | Valid Acc: 8.33%\n"
     ]
    },
    {
     "name": "stderr",
     "output_type": "stream",
     "text": [
      "Method ALL – Processing subject ALL – Val Accuracy: 8.33% | Best: 8.50%:  28%|█▉     | 140/500 [17:25<44:43,  7.45s/it]"
     ]
    },
    {
     "name": "stdout",
     "output_type": "stream",
     "text": [
      "[Epoch 140/500]\n",
      "Train Loss: 0.2280 | Train Acc: 33.15%\n",
      "Valid Loss: 0.2338 | Valid Acc: 8.33%\n"
     ]
    },
    {
     "name": "stderr",
     "output_type": "stream",
     "text": [
      "Method ALL – Processing subject ALL – Val Accuracy: 8.58% | Best: 8.58%:  28%|█▉     | 141/500 [17:32<44:34,  7.45s/it]"
     ]
    },
    {
     "name": "stdout",
     "output_type": "stream",
     "text": [
      "[Epoch 141/500]\n",
      "Train Loss: 0.2282 | Train Acc: 38.52%\n",
      "Valid Loss: 0.2279 | Valid Acc: 8.58%\n"
     ]
    },
    {
     "name": "stderr",
     "output_type": "stream",
     "text": [
      "Method ALL – Processing subject ALL – Val Accuracy: 8.42% | Best: 8.58%:  28%|█▉     | 142/500 [17:40<44:24,  7.44s/it]"
     ]
    },
    {
     "name": "stdout",
     "output_type": "stream",
     "text": [
      "[Epoch 142/500]\n",
      "Train Loss: 0.2286 | Train Acc: 33.82%\n",
      "Valid Loss: 0.2368 | Valid Acc: 8.42%\n"
     ]
    },
    {
     "name": "stderr",
     "output_type": "stream",
     "text": [
      "Method ALL – Processing subject ALL – Val Accuracy: 7.42% | Best: 8.58%:  29%|██     | 143/500 [17:47<43:57,  7.39s/it]"
     ]
    },
    {
     "name": "stdout",
     "output_type": "stream",
     "text": [
      "[Epoch 143/500]\n",
      "Train Loss: 0.2305 | Train Acc: 28.22%\n",
      "Valid Loss: 0.2409 | Valid Acc: 7.42%\n"
     ]
    },
    {
     "name": "stderr",
     "output_type": "stream",
     "text": [
      "Method ALL – Processing subject ALL – Val Accuracy: 8.58% | Best: 8.58%:  29%|██     | 144/500 [17:54<43:57,  7.41s/it]"
     ]
    },
    {
     "name": "stdout",
     "output_type": "stream",
     "text": [
      "[Epoch 144/500]\n",
      "Train Loss: 0.2318 | Train Acc: 24.82%\n",
      "Valid Loss: 0.2267 | Valid Acc: 8.58%\n"
     ]
    },
    {
     "name": "stderr",
     "output_type": "stream",
     "text": [
      "Method ALL – Processing subject ALL – Val Accuracy: 8.58% | Best: 8.58%:  29%|██     | 145/500 [18:02<43:53,  7.42s/it]"
     ]
    },
    {
     "name": "stdout",
     "output_type": "stream",
     "text": [
      "[Epoch 145/500]\n",
      "Train Loss: 0.2279 | Train Acc: 28.13%\n",
      "Valid Loss: 0.2274 | Valid Acc: 8.58%\n"
     ]
    },
    {
     "name": "stderr",
     "output_type": "stream",
     "text": [
      "Method ALL – Processing subject ALL – Val Accuracy: 9.08% | Best: 9.08%:  29%|██     | 146/500 [18:09<43:53,  7.44s/it]"
     ]
    },
    {
     "name": "stdout",
     "output_type": "stream",
     "text": [
      "[Epoch 146/500]\n",
      "Train Loss: 0.2273 | Train Acc: 35.42%\n",
      "Valid Loss: 0.2287 | Valid Acc: 9.08%\n"
     ]
    },
    {
     "name": "stderr",
     "output_type": "stream",
     "text": [
      "Method ALL – Processing subject ALL – Val Accuracy: 8.17% | Best: 9.08%:  29%|██     | 147/500 [18:17<43:53,  7.46s/it]"
     ]
    },
    {
     "name": "stdout",
     "output_type": "stream",
     "text": [
      "[Epoch 147/500]\n",
      "Train Loss: 0.2269 | Train Acc: 42.17%\n",
      "Valid Loss: 0.2293 | Valid Acc: 8.17%\n"
     ]
    },
    {
     "name": "stderr",
     "output_type": "stream",
     "text": [
      "Method ALL – Processing subject ALL – Val Accuracy: 8.83% | Best: 9.08%:  30%|██     | 148/500 [18:24<43:53,  7.48s/it]"
     ]
    },
    {
     "name": "stdout",
     "output_type": "stream",
     "text": [
      "[Epoch 148/500]\n",
      "Train Loss: 0.2284 | Train Acc: 41.18%\n",
      "Valid Loss: 0.2282 | Valid Acc: 8.83%\n"
     ]
    },
    {
     "name": "stderr",
     "output_type": "stream",
     "text": [
      "Method ALL – Processing subject ALL – Val Accuracy: 8.25% | Best: 9.08%:  30%|██     | 149/500 [18:32<43:50,  7.50s/it]"
     ]
    },
    {
     "name": "stdout",
     "output_type": "stream",
     "text": [
      "[Epoch 149/500]\n",
      "Train Loss: 0.2267 | Train Acc: 32.88%\n",
      "Valid Loss: 0.2309 | Valid Acc: 8.25%\n"
     ]
    },
    {
     "name": "stderr",
     "output_type": "stream",
     "text": [
      "Method ALL – Processing subject ALL – Val Accuracy: 8.83% | Best: 9.08%:  30%|██     | 150/500 [18:39<43:28,  7.45s/it]"
     ]
    },
    {
     "name": "stdout",
     "output_type": "stream",
     "text": [
      "[Epoch 150/500]\n",
      "Train Loss: 0.2292 | Train Acc: 29.60%\n",
      "Valid Loss: 0.2335 | Valid Acc: 8.83%\n"
     ]
    },
    {
     "name": "stderr",
     "output_type": "stream",
     "text": [
      "Method ALL – Processing subject ALL – Val Accuracy: 9.25% | Best: 9.25%:  30%|██     | 151/500 [18:47<43:25,  7.46s/it]"
     ]
    },
    {
     "name": "stdout",
     "output_type": "stream",
     "text": [
      "[Epoch 151/500]\n",
      "Train Loss: 0.2275 | Train Acc: 28.80%\n",
      "Valid Loss: 0.2330 | Valid Acc: 9.25%\n"
     ]
    },
    {
     "name": "stderr",
     "output_type": "stream",
     "text": [
      "Method ALL – Processing subject ALL – Val Accuracy: 8.50% | Best: 9.25%:  30%|██▏    | 152/500 [18:54<43:13,  7.45s/it]"
     ]
    },
    {
     "name": "stdout",
     "output_type": "stream",
     "text": [
      "[Epoch 152/500]\n",
      "Train Loss: 0.2297 | Train Acc: 36.03%\n",
      "Valid Loss: 0.2271 | Valid Acc: 8.50%\n"
     ]
    },
    {
     "name": "stderr",
     "output_type": "stream",
     "text": [
      "Method ALL – Processing subject ALL – Val Accuracy: 8.83% | Best: 9.25%:  31%|██▏    | 153/500 [19:02<43:03,  7.44s/it]"
     ]
    },
    {
     "name": "stdout",
     "output_type": "stream",
     "text": [
      "[Epoch 153/500]\n",
      "Train Loss: 0.2275 | Train Acc: 45.35%\n",
      "Valid Loss: 0.2333 | Valid Acc: 8.83%\n"
     ]
    },
    {
     "name": "stderr",
     "output_type": "stream",
     "text": [
      "Method ALL – Processing subject ALL – Val Accuracy: 8.42% | Best: 9.25%:  31%|██▏    | 154/500 [19:09<43:01,  7.46s/it]"
     ]
    },
    {
     "name": "stdout",
     "output_type": "stream",
     "text": [
      "[Epoch 154/500]\n",
      "Train Loss: 0.2280 | Train Acc: 48.50%\n",
      "Valid Loss: 0.2305 | Valid Acc: 8.42%\n"
     ]
    },
    {
     "name": "stderr",
     "output_type": "stream",
     "text": [
      "Method ALL – Processing subject ALL – Val Accuracy: 8.75% | Best: 9.25%:  31%|██▏    | 155/500 [19:17<42:41,  7.42s/it]"
     ]
    },
    {
     "name": "stdout",
     "output_type": "stream",
     "text": [
      "[Epoch 155/500]\n",
      "Train Loss: 0.2276 | Train Acc: 41.35%\n",
      "Valid Loss: 0.2323 | Valid Acc: 8.75%\n"
     ]
    },
    {
     "name": "stderr",
     "output_type": "stream",
     "text": [
      "Method ALL – Processing subject ALL – Val Accuracy: 8.67% | Best: 9.25%:  31%|██▏    | 156/500 [19:24<42:47,  7.46s/it]"
     ]
    },
    {
     "name": "stdout",
     "output_type": "stream",
     "text": [
      "[Epoch 156/500]\n",
      "Train Loss: 0.2275 | Train Acc: 35.72%\n",
      "Valid Loss: 0.2277 | Valid Acc: 8.67%\n"
     ]
    },
    {
     "name": "stderr",
     "output_type": "stream",
     "text": [
      "Method ALL – Processing subject ALL – Val Accuracy: 8.33% | Best: 9.25%:  31%|██▏    | 157/500 [19:32<42:45,  7.48s/it]"
     ]
    },
    {
     "name": "stdout",
     "output_type": "stream",
     "text": [
      "[Epoch 157/500]\n",
      "Train Loss: 0.2270 | Train Acc: 31.52%\n",
      "Valid Loss: 0.2265 | Valid Acc: 8.33%\n"
     ]
    },
    {
     "name": "stderr",
     "output_type": "stream",
     "text": [
      "Method ALL – Processing subject ALL – Val Accuracy: 7.83% | Best: 9.25%:  32%|██▏    | 158/500 [19:39<42:19,  7.43s/it]"
     ]
    },
    {
     "name": "stdout",
     "output_type": "stream",
     "text": [
      "[Epoch 158/500]\n",
      "Train Loss: 0.2261 | Train Acc: 37.87%\n",
      "Valid Loss: 0.2313 | Valid Acc: 7.83%\n"
     ]
    },
    {
     "name": "stderr",
     "output_type": "stream",
     "text": [
      "Method ALL – Processing subject ALL – Val Accuracy: 8.42% | Best: 9.25%:  32%|██▏    | 159/500 [19:46<42:18,  7.44s/it]"
     ]
    },
    {
     "name": "stdout",
     "output_type": "stream",
     "text": [
      "[Epoch 159/500]\n",
      "Train Loss: 0.2269 | Train Acc: 47.42%\n",
      "Valid Loss: 0.2312 | Valid Acc: 8.42%\n"
     ]
    },
    {
     "name": "stderr",
     "output_type": "stream",
     "text": [
      "Method ALL – Processing subject ALL – Val Accuracy: 8.42% | Best: 9.25%:  32%|██▏    | 160/500 [19:54<42:02,  7.42s/it]"
     ]
    },
    {
     "name": "stdout",
     "output_type": "stream",
     "text": [
      "[Epoch 160/500]\n",
      "Train Loss: 0.2255 | Train Acc: 53.95%\n",
      "Valid Loss: 0.2317 | Valid Acc: 8.42%\n"
     ]
    },
    {
     "name": "stderr",
     "output_type": "stream",
     "text": [
      "Method ALL – Processing subject ALL – Val Accuracy: 8.42% | Best: 9.25%:  32%|██▎    | 161/500 [20:01<41:50,  7.41s/it]"
     ]
    },
    {
     "name": "stdout",
     "output_type": "stream",
     "text": [
      "[Epoch 161/500]\n",
      "Train Loss: 0.2295 | Train Acc: 49.60%\n",
      "Valid Loss: 0.2297 | Valid Acc: 8.42%\n"
     ]
    },
    {
     "name": "stderr",
     "output_type": "stream",
     "text": [
      "Method ALL – Processing subject ALL – Val Accuracy: 7.75% | Best: 9.25%:  32%|██▎    | 162/500 [20:08<41:24,  7.35s/it]"
     ]
    },
    {
     "name": "stdout",
     "output_type": "stream",
     "text": [
      "[Epoch 162/500]\n",
      "Train Loss: 0.2278 | Train Acc: 42.25%\n",
      "Valid Loss: 0.2359 | Valid Acc: 7.75%\n"
     ]
    },
    {
     "name": "stderr",
     "output_type": "stream",
     "text": [
      "Method ALL – Processing subject ALL – Val Accuracy: 7.17% | Best: 9.25%:  33%|██▎    | 163/500 [20:16<41:32,  7.40s/it]"
     ]
    },
    {
     "name": "stdout",
     "output_type": "stream",
     "text": [
      "[Epoch 163/500]\n",
      "Train Loss: 0.2303 | Train Acc: 35.62%\n",
      "Valid Loss: 0.2250 | Valid Acc: 7.17%\n"
     ]
    },
    {
     "name": "stderr",
     "output_type": "stream",
     "text": [
      "Method ALL – Processing subject ALL – Val Accuracy: 8.00% | Best: 9.25%:  33%|██▎    | 164/500 [20:23<41:30,  7.41s/it]"
     ]
    },
    {
     "name": "stdout",
     "output_type": "stream",
     "text": [
      "[Epoch 164/500]\n",
      "Train Loss: 0.2276 | Train Acc: 41.08%\n",
      "Valid Loss: 0.2244 | Valid Acc: 8.00%\n"
     ]
    },
    {
     "name": "stderr",
     "output_type": "stream",
     "text": [
      "Method ALL – Processing subject ALL – Val Accuracy: 8.50% | Best: 9.25%:  33%|██▎    | 165/500 [20:31<41:23,  7.41s/it]"
     ]
    },
    {
     "name": "stdout",
     "output_type": "stream",
     "text": [
      "[Epoch 165/500]\n",
      "Train Loss: 0.2283 | Train Acc: 47.92%\n",
      "Valid Loss: 0.2276 | Valid Acc: 8.50%\n"
     ]
    },
    {
     "name": "stderr",
     "output_type": "stream",
     "text": [
      "Method ALL – Processing subject ALL – Val Accuracy: 8.67% | Best: 9.25%:  33%|██▎    | 166/500 [20:38<40:55,  7.35s/it]"
     ]
    },
    {
     "name": "stdout",
     "output_type": "stream",
     "text": [
      "[Epoch 166/500]\n",
      "Train Loss: 0.2274 | Train Acc: 57.22%\n",
      "Valid Loss: 0.2250 | Valid Acc: 8.67%\n"
     ]
    },
    {
     "name": "stderr",
     "output_type": "stream",
     "text": [
      "Method ALL – Processing subject ALL – Val Accuracy: 8.42% | Best: 9.25%:  33%|██▎    | 167/500 [20:45<41:01,  7.39s/it]"
     ]
    },
    {
     "name": "stdout",
     "output_type": "stream",
     "text": [
      "[Epoch 167/500]\n",
      "Train Loss: 0.2267 | Train Acc: 58.10%\n",
      "Valid Loss: 0.2321 | Valid Acc: 8.42%\n"
     ]
    },
    {
     "name": "stderr",
     "output_type": "stream",
     "text": [
      "Method ALL – Processing subject ALL – Val Accuracy: 9.33% | Best: 9.33%:  34%|██▎    | 168/500 [20:53<41:02,  7.42s/it]"
     ]
    },
    {
     "name": "stdout",
     "output_type": "stream",
     "text": [
      "[Epoch 168/500]\n",
      "Train Loss: 0.2262 | Train Acc: 48.40%\n",
      "Valid Loss: 0.2273 | Valid Acc: 9.33%\n"
     ]
    },
    {
     "name": "stderr",
     "output_type": "stream",
     "text": [
      "Method ALL – Processing subject ALL – Val Accuracy: 8.08% | Best: 9.33%:  34%|██▎    | 169/500 [21:00<40:54,  7.42s/it]"
     ]
    },
    {
     "name": "stdout",
     "output_type": "stream",
     "text": [
      "[Epoch 169/500]\n",
      "Train Loss: 0.2267 | Train Acc: 43.22%\n",
      "Valid Loss: 0.2310 | Valid Acc: 8.08%\n"
     ]
    },
    {
     "name": "stderr",
     "output_type": "stream",
     "text": [
      "Method ALL – Processing subject ALL – Val Accuracy: 8.25% | Best: 9.33%:  34%|██▍    | 170/500 [21:08<40:27,  7.36s/it]"
     ]
    },
    {
     "name": "stdout",
     "output_type": "stream",
     "text": [
      "[Epoch 170/500]\n",
      "Train Loss: 0.2263 | Train Acc: 42.97%\n",
      "Valid Loss: 0.2253 | Valid Acc: 8.25%\n"
     ]
    },
    {
     "name": "stderr",
     "output_type": "stream",
     "text": [
      "Method ALL – Processing subject ALL – Val Accuracy: 8.08% | Best: 9.33%:  34%|██▍    | 171/500 [21:15<40:38,  7.41s/it]"
     ]
    },
    {
     "name": "stdout",
     "output_type": "stream",
     "text": [
      "[Epoch 171/500]\n",
      "Train Loss: 0.2275 | Train Acc: 51.13%\n",
      "Valid Loss: 0.2255 | Valid Acc: 8.08%\n"
     ]
    },
    {
     "name": "stderr",
     "output_type": "stream",
     "text": [
      "Method ALL – Processing subject ALL – Val Accuracy: 8.25% | Best: 9.33%:  34%|██▍    | 172/500 [21:23<40:40,  7.44s/it]"
     ]
    },
    {
     "name": "stdout",
     "output_type": "stream",
     "text": [
      "[Epoch 172/500]\n",
      "Train Loss: 0.2273 | Train Acc: 59.07%\n",
      "Valid Loss: 0.2307 | Valid Acc: 8.25%\n"
     ]
    },
    {
     "name": "stderr",
     "output_type": "stream",
     "text": [
      "Method ALL – Processing subject ALL – Val Accuracy: 8.75% | Best: 9.33%:  35%|██▍    | 173/500 [21:30<40:22,  7.41s/it]"
     ]
    },
    {
     "name": "stdout",
     "output_type": "stream",
     "text": [
      "[Epoch 173/500]\n",
      "Train Loss: 0.2278 | Train Acc: 65.85%\n",
      "Valid Loss: 0.2296 | Valid Acc: 8.75%\n"
     ]
    },
    {
     "name": "stderr",
     "output_type": "stream",
     "text": [
      "Method ALL – Processing subject ALL – Val Accuracy: 8.08% | Best: 9.33%:  35%|██▍    | 174/500 [21:37<39:58,  7.36s/it]"
     ]
    },
    {
     "name": "stdout",
     "output_type": "stream",
     "text": [
      "[Epoch 174/500]\n",
      "Train Loss: 0.2262 | Train Acc: 57.40%\n",
      "Valid Loss: 0.2238 | Valid Acc: 8.08%\n"
     ]
    },
    {
     "name": "stderr",
     "output_type": "stream",
     "text": [
      "Method ALL – Processing subject ALL – Val Accuracy: 8.42% | Best: 9.33%:  35%|██▍    | 175/500 [21:44<39:39,  7.32s/it]"
     ]
    },
    {
     "name": "stdout",
     "output_type": "stream",
     "text": [
      "[Epoch 175/500]\n",
      "Train Loss: 0.2262 | Train Acc: 49.60%\n",
      "Valid Loss: 0.2284 | Valid Acc: 8.42%\n"
     ]
    },
    {
     "name": "stderr",
     "output_type": "stream",
     "text": [
      "Method ALL – Processing subject ALL – Val Accuracy: 9.08% | Best: 9.33%:  35%|██▍    | 176/500 [21:52<39:28,  7.31s/it]"
     ]
    },
    {
     "name": "stdout",
     "output_type": "stream",
     "text": [
      "[Epoch 176/500]\n",
      "Train Loss: 0.2300 | Train Acc: 46.65%\n",
      "Valid Loss: 0.2301 | Valid Acc: 9.08%\n"
     ]
    },
    {
     "name": "stderr",
     "output_type": "stream",
     "text": [
      "Method ALL – Processing subject ALL – Val Accuracy: 8.67% | Best: 9.33%:  35%|██▍    | 177/500 [21:59<39:21,  7.31s/it]"
     ]
    },
    {
     "name": "stdout",
     "output_type": "stream",
     "text": [
      "[Epoch 177/500]\n",
      "Train Loss: 0.2284 | Train Acc: 52.68%\n",
      "Valid Loss: 0.2312 | Valid Acc: 8.67%\n"
     ]
    },
    {
     "name": "stderr",
     "output_type": "stream",
     "text": [
      "Method ALL – Processing subject ALL – Val Accuracy: 8.75% | Best: 9.33%:  36%|██▍    | 178/500 [22:06<39:27,  7.35s/it]"
     ]
    },
    {
     "name": "stdout",
     "output_type": "stream",
     "text": [
      "[Epoch 178/500]\n",
      "Train Loss: 0.2282 | Train Acc: 61.23%\n",
      "Valid Loss: 0.2281 | Valid Acc: 8.75%\n"
     ]
    },
    {
     "name": "stderr",
     "output_type": "stream",
     "text": [
      "Method ALL – Processing subject ALL – Val Accuracy: 8.58% | Best: 9.33%:  36%|██▌    | 179/500 [22:14<39:29,  7.38s/it]"
     ]
    },
    {
     "name": "stdout",
     "output_type": "stream",
     "text": [
      "[Epoch 179/500]\n",
      "Train Loss: 0.2262 | Train Acc: 70.10%\n",
      "Valid Loss: 0.2248 | Valid Acc: 8.58%\n"
     ]
    },
    {
     "name": "stderr",
     "output_type": "stream",
     "text": [
      "Method ALL – Processing subject ALL – Val Accuracy: 8.50% | Best: 9.33%:  36%|██▌    | 180/500 [22:22<40:08,  7.53s/it]"
     ]
    },
    {
     "name": "stdout",
     "output_type": "stream",
     "text": [
      "[Epoch 180/500]\n",
      "Train Loss: 0.2253 | Train Acc: 66.33%\n",
      "Valid Loss: 0.2260 | Valid Acc: 8.50%\n"
     ]
    },
    {
     "name": "stderr",
     "output_type": "stream",
     "text": [
      "Method ALL – Processing subject ALL – Val Accuracy: 8.58% | Best: 9.33%:  36%|██▌    | 181/500 [22:29<39:21,  7.40s/it]"
     ]
    },
    {
     "name": "stdout",
     "output_type": "stream",
     "text": [
      "[Epoch 181/500]\n",
      "Train Loss: 0.2308 | Train Acc: 57.12%\n",
      "Valid Loss: 0.2285 | Valid Acc: 8.58%\n"
     ]
    },
    {
     "name": "stderr",
     "output_type": "stream",
     "text": [
      "Method ALL – Processing subject ALL – Val Accuracy: 9.08% | Best: 9.33%:  36%|██▌    | 182/500 [22:36<39:27,  7.44s/it]"
     ]
    },
    {
     "name": "stdout",
     "output_type": "stream",
     "text": [
      "[Epoch 182/500]\n",
      "Train Loss: 0.2265 | Train Acc: 47.43%\n",
      "Valid Loss: 0.2241 | Valid Acc: 9.08%\n"
     ]
    },
    {
     "name": "stderr",
     "output_type": "stream",
     "text": [
      "Method ALL – Processing subject ALL – Val Accuracy: 8.67% | Best: 9.33%:  37%|██▌    | 183/500 [22:44<39:24,  7.46s/it]"
     ]
    },
    {
     "name": "stdout",
     "output_type": "stream",
     "text": [
      "[Epoch 183/500]\n",
      "Train Loss: 0.2272 | Train Acc: 52.97%\n",
      "Valid Loss: 0.2308 | Valid Acc: 8.67%\n"
     ]
    },
    {
     "name": "stderr",
     "output_type": "stream",
     "text": [
      "Method ALL – Processing subject ALL – Val Accuracy: 9.17% | Best: 9.33%:  37%|██▌    | 184/500 [22:51<39:19,  7.47s/it]"
     ]
    },
    {
     "name": "stdout",
     "output_type": "stream",
     "text": [
      "[Epoch 184/500]\n",
      "Train Loss: 0.2255 | Train Acc: 64.38%\n",
      "Valid Loss: 0.2302 | Valid Acc: 9.17%\n"
     ]
    },
    {
     "name": "stderr",
     "output_type": "stream",
     "text": [
      "Method ALL – Processing subject ALL – Val Accuracy: 8.83% | Best: 9.33%:  37%|██▌    | 185/500 [22:59<38:55,  7.41s/it]"
     ]
    },
    {
     "name": "stdout",
     "output_type": "stream",
     "text": [
      "[Epoch 185/500]\n",
      "Train Loss: 0.2253 | Train Acc: 71.85%\n",
      "Valid Loss: 0.2256 | Valid Acc: 8.83%\n"
     ]
    },
    {
     "name": "stderr",
     "output_type": "stream",
     "text": [
      "Method ALL – Processing subject ALL – Val Accuracy: 8.58% | Best: 9.33%:  37%|██▌    | 186/500 [23:06<38:49,  7.42s/it]"
     ]
    },
    {
     "name": "stdout",
     "output_type": "stream",
     "text": [
      "[Epoch 186/500]\n",
      "Train Loss: 0.2278 | Train Acc: 73.47%\n",
      "Valid Loss: 0.2322 | Valid Acc: 8.58%\n"
     ]
    },
    {
     "name": "stderr",
     "output_type": "stream",
     "text": [
      "Method ALL – Processing subject ALL – Val Accuracy: 8.08% | Best: 9.33%:  37%|██▌    | 187/500 [23:14<38:46,  7.43s/it]"
     ]
    },
    {
     "name": "stdout",
     "output_type": "stream",
     "text": [
      "[Epoch 187/500]\n",
      "Train Loss: 0.2253 | Train Acc: 64.65%\n",
      "Valid Loss: 0.2315 | Valid Acc: 8.08%\n"
     ]
    },
    {
     "name": "stderr",
     "output_type": "stream",
     "text": [
      "Method ALL – Processing subject ALL – Val Accuracy: 8.75% | Best: 9.33%:  38%|██▋    | 188/500 [23:21<38:21,  7.38s/it]"
     ]
    },
    {
     "name": "stdout",
     "output_type": "stream",
     "text": [
      "[Epoch 188/500]\n",
      "Train Loss: 0.2278 | Train Acc: 57.43%\n",
      "Valid Loss: 0.2276 | Valid Acc: 8.75%\n"
     ]
    },
    {
     "name": "stderr",
     "output_type": "stream",
     "text": [
      "Method ALL – Processing subject ALL – Val Accuracy: 8.67% | Best: 9.33%:  38%|██▋    | 189/500 [23:28<38:20,  7.40s/it]"
     ]
    },
    {
     "name": "stdout",
     "output_type": "stream",
     "text": [
      "[Epoch 189/500]\n",
      "Train Loss: 0.2270 | Train Acc: 54.82%\n",
      "Valid Loss: 0.2278 | Valid Acc: 8.67%\n"
     ]
    },
    {
     "name": "stderr",
     "output_type": "stream",
     "text": [
      "Method ALL – Processing subject ALL – Val Accuracy: 9.17% | Best: 9.33%:  38%|██▋    | 190/500 [23:36<38:10,  7.39s/it]"
     ]
    },
    {
     "name": "stdout",
     "output_type": "stream",
     "text": [
      "[Epoch 190/500]\n",
      "Train Loss: 0.2285 | Train Acc: 63.45%\n",
      "Valid Loss: 0.2278 | Valid Acc: 9.17%\n"
     ]
    },
    {
     "name": "stderr",
     "output_type": "stream",
     "text": [
      "Method ALL – Processing subject ALL – Val Accuracy: 8.75% | Best: 9.33%:  38%|██▋    | 191/500 [23:43<37:54,  7.36s/it]"
     ]
    },
    {
     "name": "stdout",
     "output_type": "stream",
     "text": [
      "[Epoch 191/500]\n",
      "Train Loss: 0.2254 | Train Acc: 74.02%\n",
      "Valid Loss: 0.2253 | Valid Acc: 8.75%\n"
     ]
    },
    {
     "name": "stderr",
     "output_type": "stream",
     "text": [
      "Method ALL – Processing subject ALL – Val Accuracy: 8.50% | Best: 9.33%:  38%|██▋    | 192/500 [23:51<38:14,  7.45s/it]"
     ]
    },
    {
     "name": "stdout",
     "output_type": "stream",
     "text": [
      "[Epoch 192/500]\n",
      "Train Loss: 0.2245 | Train Acc: 78.97%\n",
      "Valid Loss: 0.2376 | Valid Acc: 8.50%\n"
     ]
    },
    {
     "name": "stderr",
     "output_type": "stream",
     "text": [
      "Method ALL – Processing subject ALL – Val Accuracy: 8.42% | Best: 9.33%:  39%|██▋    | 193/500 [23:58<38:02,  7.44s/it]"
     ]
    },
    {
     "name": "stdout",
     "output_type": "stream",
     "text": [
      "[Epoch 193/500]\n",
      "Train Loss: 0.2280 | Train Acc: 73.38%\n",
      "Valid Loss: 0.2279 | Valid Acc: 8.42%\n"
     ]
    },
    {
     "name": "stderr",
     "output_type": "stream",
     "text": [
      "Method ALL – Processing subject ALL – Val Accuracy: 8.58% | Best: 9.33%:  39%|██▋    | 194/500 [24:05<37:57,  7.44s/it]"
     ]
    },
    {
     "name": "stdout",
     "output_type": "stream",
     "text": [
      "[Epoch 194/500]\n",
      "Train Loss: 0.2275 | Train Acc: 64.95%\n",
      "Valid Loss: 0.2275 | Valid Acc: 8.58%\n"
     ]
    },
    {
     "name": "stderr",
     "output_type": "stream",
     "text": [
      "Method ALL – Processing subject ALL – Val Accuracy: 8.75% | Best: 9.33%:  39%|██▋    | 195/500 [24:13<37:53,  7.46s/it]"
     ]
    },
    {
     "name": "stdout",
     "output_type": "stream",
     "text": [
      "[Epoch 195/500]\n",
      "Train Loss: 0.2267 | Train Acc: 59.37%\n",
      "Valid Loss: 0.2287 | Valid Acc: 8.75%\n"
     ]
    },
    {
     "name": "stderr",
     "output_type": "stream",
     "text": [
      "Method ALL – Processing subject ALL – Val Accuracy: 8.33% | Best: 9.33%:  39%|██▋    | 196/500 [24:21<38:24,  7.58s/it]"
     ]
    },
    {
     "name": "stdout",
     "output_type": "stream",
     "text": [
      "[Epoch 196/500]\n",
      "Train Loss: 0.2292 | Train Acc: 65.63%\n",
      "Valid Loss: 0.2332 | Valid Acc: 8.33%\n"
     ]
    },
    {
     "name": "stderr",
     "output_type": "stream",
     "text": [
      "Method ALL – Processing subject ALL – Val Accuracy: 8.67% | Best: 9.33%:  39%|██▊    | 197/500 [24:28<38:22,  7.60s/it]"
     ]
    },
    {
     "name": "stdout",
     "output_type": "stream",
     "text": [
      "[Epoch 197/500]\n",
      "Train Loss: 0.2258 | Train Acc: 74.85%\n",
      "Valid Loss: 0.2253 | Valid Acc: 8.67%\n"
     ]
    },
    {
     "name": "stderr",
     "output_type": "stream",
     "text": [
      "Method ALL – Processing subject ALL – Val Accuracy: 8.67% | Best: 9.33%:  40%|██▊    | 198/500 [24:36<38:01,  7.55s/it]"
     ]
    },
    {
     "name": "stdout",
     "output_type": "stream",
     "text": [
      "[Epoch 198/500]\n",
      "Train Loss: 0.2265 | Train Acc: 81.13%\n",
      "Valid Loss: 0.2260 | Valid Acc: 8.67%\n"
     ]
    },
    {
     "name": "stderr",
     "output_type": "stream",
     "text": [
      "Method ALL – Processing subject ALL – Val Accuracy: 8.25% | Best: 9.33%:  40%|██▊    | 199/500 [24:43<37:41,  7.51s/it]"
     ]
    },
    {
     "name": "stdout",
     "output_type": "stream",
     "text": [
      "[Epoch 199/500]\n",
      "Train Loss: 0.2251 | Train Acc: 80.78%\n",
      "Valid Loss: 0.2262 | Valid Acc: 8.25%\n"
     ]
    },
    {
     "name": "stderr",
     "output_type": "stream",
     "text": [
      "Method ALL – Processing subject ALL – Val Accuracy: 8.33% | Best: 9.33%:  40%|██▊    | 200/500 [24:51<37:24,  7.48s/it]"
     ]
    },
    {
     "name": "stdout",
     "output_type": "stream",
     "text": [
      "[Epoch 200/500]\n",
      "Train Loss: 0.2264 | Train Acc: 72.93%\n",
      "Valid Loss: 0.2283 | Valid Acc: 8.33%\n"
     ]
    },
    {
     "name": "stderr",
     "output_type": "stream",
     "text": [
      "Method ALL – Processing subject ALL – Val Accuracy: 8.67% | Best: 9.33%:  40%|██▊    | 201/500 [24:58<37:08,  7.45s/it]"
     ]
    },
    {
     "name": "stdout",
     "output_type": "stream",
     "text": [
      "[Epoch 201/500]\n",
      "Train Loss: 0.2286 | Train Acc: 65.42%\n",
      "Valid Loss: 0.2253 | Valid Acc: 8.67%\n"
     ]
    },
    {
     "name": "stderr",
     "output_type": "stream",
     "text": [
      "Method ALL – Processing subject ALL – Val Accuracy: 9.50% | Best: 9.50%:  40%|██▊    | 202/500 [25:05<36:54,  7.43s/it]"
     ]
    },
    {
     "name": "stdout",
     "output_type": "stream",
     "text": [
      "[Epoch 202/500]\n",
      "Train Loss: 0.2253 | Train Acc: 64.70%\n",
      "Valid Loss: 0.2312 | Valid Acc: 9.50%\n"
     ]
    },
    {
     "name": "stderr",
     "output_type": "stream",
     "text": [
      "Method ALL – Processing subject ALL – Val Accuracy: 8.42% | Best: 9.50%:  41%|██▊    | 203/500 [25:13<36:52,  7.45s/it]"
     ]
    },
    {
     "name": "stdout",
     "output_type": "stream",
     "text": [
      "[Epoch 203/500]\n",
      "Train Loss: 0.2274 | Train Acc: 75.72%\n",
      "Valid Loss: 0.2283 | Valid Acc: 8.42%\n"
     ]
    },
    {
     "name": "stderr",
     "output_type": "stream",
     "text": [
      "Method ALL – Processing subject ALL – Val Accuracy: 8.83% | Best: 9.50%:  41%|██▊    | 204/500 [25:20<36:48,  7.46s/it]"
     ]
    },
    {
     "name": "stdout",
     "output_type": "stream",
     "text": [
      "[Epoch 204/500]\n",
      "Train Loss: 0.2257 | Train Acc: 82.47%\n",
      "Valid Loss: 0.2259 | Valid Acc: 8.83%\n"
     ]
    },
    {
     "name": "stderr",
     "output_type": "stream",
     "text": [
      "Method ALL – Processing subject ALL – Val Accuracy: 8.83% | Best: 9.50%:  41%|██▊    | 205/500 [25:28<36:32,  7.43s/it]"
     ]
    },
    {
     "name": "stdout",
     "output_type": "stream",
     "text": [
      "[Epoch 205/500]\n",
      "Train Loss: 0.2275 | Train Acc: 85.15%\n",
      "Valid Loss: 0.2298 | Valid Acc: 8.83%\n"
     ]
    },
    {
     "name": "stderr",
     "output_type": "stream",
     "text": [
      "Method ALL – Processing subject ALL – Val Accuracy: 7.75% | Best: 9.50%:  41%|██▉    | 206/500 [25:35<36:18,  7.41s/it]"
     ]
    },
    {
     "name": "stdout",
     "output_type": "stream",
     "text": [
      "[Epoch 206/500]\n",
      "Train Loss: 0.2264 | Train Acc: 79.23%\n",
      "Valid Loss: 0.2289 | Valid Acc: 7.75%\n"
     ]
    },
    {
     "name": "stderr",
     "output_type": "stream",
     "text": [
      "Method ALL – Processing subject ALL – Val Accuracy: 7.08% | Best: 9.50%:  41%|██▉    | 207/500 [25:43<36:06,  7.39s/it]"
     ]
    },
    {
     "name": "stdout",
     "output_type": "stream",
     "text": [
      "[Epoch 207/500]\n",
      "Train Loss: 0.2274 | Train Acc: 73.17%\n",
      "Valid Loss: 0.2343 | Valid Acc: 7.08%\n"
     ]
    },
    {
     "name": "stderr",
     "output_type": "stream",
     "text": [
      "Method ALL – Processing subject ALL – Val Accuracy: 8.50% | Best: 9.50%:  42%|██▉    | 208/500 [25:50<35:47,  7.35s/it]"
     ]
    },
    {
     "name": "stdout",
     "output_type": "stream",
     "text": [
      "[Epoch 208/500]\n",
      "Train Loss: 0.2280 | Train Acc: 66.55%\n",
      "Valid Loss: 0.2239 | Valid Acc: 8.50%\n"
     ]
    },
    {
     "name": "stderr",
     "output_type": "stream",
     "text": [
      "Method ALL – Processing subject ALL – Val Accuracy: 9.42% | Best: 9.50%:  42%|██▉    | 209/500 [25:57<35:37,  7.35s/it]"
     ]
    },
    {
     "name": "stdout",
     "output_type": "stream",
     "text": [
      "[Epoch 209/500]\n",
      "Train Loss: 0.2260 | Train Acc: 77.23%\n",
      "Valid Loss: 0.2237 | Valid Acc: 9.42%\n"
     ]
    },
    {
     "name": "stderr",
     "output_type": "stream",
     "text": [
      "Method ALL – Processing subject ALL – Val Accuracy: 9.17% | Best: 9.50%:  42%|██▉    | 210/500 [26:04<35:32,  7.35s/it]"
     ]
    },
    {
     "name": "stdout",
     "output_type": "stream",
     "text": [
      "[Epoch 210/500]\n",
      "Train Loss: 0.2271 | Train Acc: 83.63%\n",
      "Valid Loss: 0.2276 | Valid Acc: 9.17%\n"
     ]
    },
    {
     "name": "stderr",
     "output_type": "stream",
     "text": [
      "Method ALL – Processing subject ALL – Val Accuracy: 8.67% | Best: 9.50%:  42%|██▉    | 211/500 [26:12<35:12,  7.31s/it]"
     ]
    },
    {
     "name": "stdout",
     "output_type": "stream",
     "text": [
      "[Epoch 211/500]\n",
      "Train Loss: 0.2274 | Train Acc: 87.53%\n",
      "Valid Loss: 0.2267 | Valid Acc: 8.67%\n"
     ]
    },
    {
     "name": "stderr",
     "output_type": "stream",
     "text": [
      "Method ALL – Processing subject ALL – Val Accuracy: 8.08% | Best: 9.50%:  42%|██▉    | 212/500 [26:19<35:12,  7.33s/it]"
     ]
    },
    {
     "name": "stdout",
     "output_type": "stream",
     "text": [
      "[Epoch 212/500]\n",
      "Train Loss: 0.2266 | Train Acc: 85.60%\n",
      "Valid Loss: 0.2254 | Valid Acc: 8.08%\n"
     ]
    },
    {
     "name": "stderr",
     "output_type": "stream",
     "text": [
      "Method ALL – Processing subject ALL – Val Accuracy: 8.08% | Best: 9.50%:  43%|██▉    | 213/500 [26:26<35:04,  7.33s/it]"
     ]
    },
    {
     "name": "stdout",
     "output_type": "stream",
     "text": [
      "[Epoch 213/500]\n",
      "Train Loss: 0.2276 | Train Acc: 76.58%\n",
      "Valid Loss: 0.2262 | Valid Acc: 8.08%\n"
     ]
    },
    {
     "name": "stderr",
     "output_type": "stream",
     "text": [
      "Method ALL – Processing subject ALL – Val Accuracy: 8.67% | Best: 9.50%:  43%|██▉    | 214/500 [26:34<34:53,  7.32s/it]"
     ]
    },
    {
     "name": "stdout",
     "output_type": "stream",
     "text": [
      "[Epoch 214/500]\n",
      "Train Loss: 0.2275 | Train Acc: 71.43%\n",
      "Valid Loss: 0.2250 | Valid Acc: 8.67%\n"
     ]
    },
    {
     "name": "stderr",
     "output_type": "stream",
     "text": [
      "Method ALL – Processing subject ALL – Val Accuracy: 9.42% | Best: 9.50%:  43%|███    | 215/500 [26:41<34:44,  7.31s/it]"
     ]
    },
    {
     "name": "stdout",
     "output_type": "stream",
     "text": [
      "[Epoch 215/500]\n",
      "Train Loss: 0.2254 | Train Acc: 76.93%\n",
      "Valid Loss: 0.2274 | Valid Acc: 9.42%\n"
     ]
    },
    {
     "name": "stderr",
     "output_type": "stream",
     "text": [
      "Method ALL – Processing subject ALL – Val Accuracy: 8.42% | Best: 9.50%:  43%|███    | 216/500 [26:48<34:45,  7.34s/it]"
     ]
    },
    {
     "name": "stdout",
     "output_type": "stream",
     "text": [
      "[Epoch 216/500]\n",
      "Train Loss: 0.2272 | Train Acc: 84.13%\n",
      "Valid Loss: 0.2288 | Valid Acc: 8.42%\n"
     ]
    },
    {
     "name": "stderr",
     "output_type": "stream",
     "text": [
      "Method ALL – Processing subject ALL – Val Accuracy: 8.67% | Best: 9.50%:  43%|███    | 217/500 [26:56<34:28,  7.31s/it]"
     ]
    },
    {
     "name": "stdout",
     "output_type": "stream",
     "text": [
      "[Epoch 217/500]\n",
      "Train Loss: 0.2265 | Train Acc: 88.82%\n",
      "Valid Loss: 0.2308 | Valid Acc: 8.67%\n"
     ]
    },
    {
     "name": "stderr",
     "output_type": "stream",
     "text": [
      "Method ALL – Processing subject ALL – Val Accuracy: 8.58% | Best: 9.50%:  44%|███    | 218/500 [27:03<34:23,  7.32s/it]"
     ]
    },
    {
     "name": "stdout",
     "output_type": "stream",
     "text": [
      "[Epoch 218/500]\n",
      "Train Loss: 0.2262 | Train Acc: 88.92%\n",
      "Valid Loss: 0.2264 | Valid Acc: 8.58%\n"
     ]
    },
    {
     "name": "stderr",
     "output_type": "stream",
     "text": [
      "Method ALL – Processing subject ALL – Val Accuracy: 7.83% | Best: 9.50%:  44%|███    | 219/500 [27:10<34:13,  7.31s/it]"
     ]
    },
    {
     "name": "stdout",
     "output_type": "stream",
     "text": [
      "[Epoch 219/500]\n",
      "Train Loss: 0.2268 | Train Acc: 83.93%\n",
      "Valid Loss: 0.2261 | Valid Acc: 7.83%\n"
     ]
    },
    {
     "name": "stderr",
     "output_type": "stream",
     "text": [
      "Method ALL – Processing subject ALL – Val Accuracy: 8.58% | Best: 9.50%:  44%|███    | 220/500 [27:18<34:26,  7.38s/it]"
     ]
    },
    {
     "name": "stdout",
     "output_type": "stream",
     "text": [
      "[Epoch 220/500]\n",
      "Train Loss: 0.2279 | Train Acc: 77.12%\n",
      "Valid Loss: 0.2274 | Valid Acc: 8.58%\n"
     ]
    },
    {
     "name": "stderr",
     "output_type": "stream",
     "text": [
      "Method ALL – Processing subject ALL – Val Accuracy: 8.33% | Best: 9.50%:  44%|███    | 221/500 [27:25<34:31,  7.43s/it]"
     ]
    },
    {
     "name": "stdout",
     "output_type": "stream",
     "text": [
      "[Epoch 221/500]\n",
      "Train Loss: 0.2286 | Train Acc: 76.22%\n",
      "Valid Loss: 0.2288 | Valid Acc: 8.33%\n"
     ]
    },
    {
     "name": "stderr",
     "output_type": "stream",
     "text": [
      "Method ALL – Processing subject ALL – Val Accuracy: 8.83% | Best: 9.50%:  44%|███    | 222/500 [27:33<34:25,  7.43s/it]"
     ]
    },
    {
     "name": "stdout",
     "output_type": "stream",
     "text": [
      "[Epoch 222/500]\n",
      "Train Loss: 0.2246 | Train Acc: 85.50%\n",
      "Valid Loss: 0.2287 | Valid Acc: 8.83%\n"
     ]
    },
    {
     "name": "stderr",
     "output_type": "stream",
     "text": [
      "Method ALL – Processing subject ALL – Val Accuracy: 8.92% | Best: 9.50%:  45%|███    | 223/500 [27:40<34:16,  7.42s/it]"
     ]
    },
    {
     "name": "stdout",
     "output_type": "stream",
     "text": [
      "[Epoch 223/500]\n",
      "Train Loss: 0.2245 | Train Acc: 90.33%\n",
      "Valid Loss: 0.2250 | Valid Acc: 8.92%\n"
     ]
    },
    {
     "name": "stderr",
     "output_type": "stream",
     "text": [
      "Method ALL – Processing subject ALL – Val Accuracy: 8.58% | Best: 9.50%:  45%|███▏   | 224/500 [27:48<34:16,  7.45s/it]"
     ]
    },
    {
     "name": "stdout",
     "output_type": "stream",
     "text": [
      "[Epoch 224/500]\n",
      "Train Loss: 0.2270 | Train Acc: 91.70%\n",
      "Valid Loss: 0.2304 | Valid Acc: 8.58%\n"
     ]
    },
    {
     "name": "stderr",
     "output_type": "stream",
     "text": [
      "Method ALL – Processing subject ALL – Val Accuracy: 8.33% | Best: 9.50%:  45%|███▏   | 225/500 [27:55<34:23,  7.50s/it]"
     ]
    },
    {
     "name": "stdout",
     "output_type": "stream",
     "text": [
      "[Epoch 225/500]\n",
      "Train Loss: 0.2252 | Train Acc: 88.70%\n",
      "Valid Loss: 0.2285 | Valid Acc: 8.33%\n"
     ]
    },
    {
     "name": "stderr",
     "output_type": "stream",
     "text": [
      "Method ALL – Processing subject ALL – Val Accuracy: 8.50% | Best: 9.50%:  45%|███▏   | 226/500 [28:03<34:15,  7.50s/it]"
     ]
    },
    {
     "name": "stdout",
     "output_type": "stream",
     "text": [
      "[Epoch 226/500]\n",
      "Train Loss: 0.2239 | Train Acc: 83.77%\n",
      "Valid Loss: 0.2306 | Valid Acc: 8.50%\n"
     ]
    },
    {
     "name": "stderr",
     "output_type": "stream",
     "text": [
      "Method ALL – Processing subject ALL – Val Accuracy: 8.83% | Best: 9.50%:  45%|███▏   | 227/500 [28:10<34:09,  7.51s/it]"
     ]
    },
    {
     "name": "stdout",
     "output_type": "stream",
     "text": [
      "[Epoch 227/500]\n",
      "Train Loss: 0.2264 | Train Acc: 80.75%\n",
      "Valid Loss: 0.2184 | Valid Acc: 8.83%\n"
     ]
    },
    {
     "name": "stderr",
     "output_type": "stream",
     "text": [
      "Method ALL – Processing subject ALL – Val Accuracy: 8.75% | Best: 9.50%:  46%|███▏   | 228/500 [28:18<34:30,  7.61s/it]"
     ]
    },
    {
     "name": "stdout",
     "output_type": "stream",
     "text": [
      "[Epoch 228/500]\n",
      "Train Loss: 0.2259 | Train Acc: 84.80%\n",
      "Valid Loss: 0.2305 | Valid Acc: 8.75%\n"
     ]
    },
    {
     "name": "stderr",
     "output_type": "stream",
     "text": [
      "Method ALL – Processing subject ALL – Val Accuracy: 8.58% | Best: 9.50%:  46%|███▏   | 229/500 [28:26<34:23,  7.61s/it]"
     ]
    },
    {
     "name": "stdout",
     "output_type": "stream",
     "text": [
      "[Epoch 229/500]\n",
      "Train Loss: 0.2260 | Train Acc: 90.37%\n",
      "Valid Loss: 0.2324 | Valid Acc: 8.58%\n"
     ]
    },
    {
     "name": "stderr",
     "output_type": "stream",
     "text": [
      "Method ALL – Processing subject ALL – Val Accuracy: 8.33% | Best: 9.50%:  46%|███▏   | 230/500 [28:33<34:14,  7.61s/it]"
     ]
    },
    {
     "name": "stdout",
     "output_type": "stream",
     "text": [
      "[Epoch 230/500]\n",
      "Train Loss: 0.2260 | Train Acc: 93.35%\n",
      "Valid Loss: 0.2317 | Valid Acc: 8.33%\n"
     ]
    },
    {
     "name": "stderr",
     "output_type": "stream",
     "text": [
      "Method ALL – Processing subject ALL – Val Accuracy: 7.83% | Best: 9.50%:  46%|███▏   | 231/500 [28:41<34:01,  7.59s/it]"
     ]
    },
    {
     "name": "stdout",
     "output_type": "stream",
     "text": [
      "[Epoch 231/500]\n",
      "Train Loss: 0.2262 | Train Acc: 92.35%\n",
      "Valid Loss: 0.2263 | Valid Acc: 7.83%\n"
     ]
    },
    {
     "name": "stderr",
     "output_type": "stream",
     "text": [
      "Method ALL – Processing subject ALL – Val Accuracy: 8.00% | Best: 9.50%:  46%|███▏   | 232/500 [28:49<33:53,  7.59s/it]"
     ]
    },
    {
     "name": "stdout",
     "output_type": "stream",
     "text": [
      "[Epoch 232/500]\n",
      "Train Loss: 0.2270 | Train Acc: 87.82%\n",
      "Valid Loss: 0.2350 | Valid Acc: 8.00%\n"
     ]
    },
    {
     "name": "stderr",
     "output_type": "stream",
     "text": [
      "Method ALL – Processing subject ALL – Val Accuracy: 8.75% | Best: 9.50%:  47%|███▎   | 233/500 [28:56<33:42,  7.58s/it]"
     ]
    },
    {
     "name": "stdout",
     "output_type": "stream",
     "text": [
      "[Epoch 233/500]\n",
      "Train Loss: 0.2270 | Train Acc: 84.12%\n",
      "Valid Loss: 0.2336 | Valid Acc: 8.75%\n"
     ]
    },
    {
     "name": "stderr",
     "output_type": "stream",
     "text": [
      "Method ALL – Processing subject ALL – Val Accuracy: 8.00% | Best: 9.50%:  47%|███▎   | 234/500 [29:04<33:36,  7.58s/it]"
     ]
    },
    {
     "name": "stdout",
     "output_type": "stream",
     "text": [
      "[Epoch 234/500]\n",
      "Train Loss: 0.2273 | Train Acc: 84.90%\n",
      "Valid Loss: 0.2304 | Valid Acc: 8.00%\n"
     ]
    },
    {
     "name": "stderr",
     "output_type": "stream",
     "text": [
      "Method ALL – Processing subject ALL – Val Accuracy: 8.17% | Best: 9.50%:  47%|███▎   | 235/500 [29:11<33:18,  7.54s/it]"
     ]
    },
    {
     "name": "stdout",
     "output_type": "stream",
     "text": [
      "[Epoch 235/500]\n",
      "Train Loss: 0.2275 | Train Acc: 90.60%\n",
      "Valid Loss: 0.2338 | Valid Acc: 8.17%\n"
     ]
    },
    {
     "name": "stderr",
     "output_type": "stream",
     "text": [
      "Method ALL – Processing subject ALL – Val Accuracy: 8.33% | Best: 9.50%:  47%|███▎   | 236/500 [29:19<33:01,  7.51s/it]"
     ]
    },
    {
     "name": "stdout",
     "output_type": "stream",
     "text": [
      "[Epoch 236/500]\n",
      "Train Loss: 0.2257 | Train Acc: 93.87%\n",
      "Valid Loss: 0.2303 | Valid Acc: 8.33%\n"
     ]
    },
    {
     "name": "stderr",
     "output_type": "stream",
     "text": [
      "Method ALL – Processing subject ALL – Val Accuracy: 7.58% | Best: 9.50%:  47%|███▎   | 237/500 [29:26<32:50,  7.49s/it]"
     ]
    },
    {
     "name": "stdout",
     "output_type": "stream",
     "text": [
      "[Epoch 237/500]\n",
      "Train Loss: 0.2249 | Train Acc: 94.52%\n",
      "Valid Loss: 0.2293 | Valid Acc: 7.58%\n"
     ]
    },
    {
     "name": "stderr",
     "output_type": "stream",
     "text": [
      "Method ALL – Processing subject ALL – Val Accuracy: 8.33% | Best: 9.50%:  48%|███▎   | 238/500 [29:34<32:43,  7.50s/it]"
     ]
    },
    {
     "name": "stdout",
     "output_type": "stream",
     "text": [
      "[Epoch 238/500]\n",
      "Train Loss: 0.2248 | Train Acc: 90.98%\n",
      "Valid Loss: 0.2277 | Valid Acc: 8.33%\n"
     ]
    },
    {
     "name": "stderr",
     "output_type": "stream",
     "text": [
      "Method ALL – Processing subject ALL – Val Accuracy: 8.75% | Best: 9.50%:  48%|███▎   | 239/500 [29:41<32:23,  7.45s/it]"
     ]
    },
    {
     "name": "stdout",
     "output_type": "stream",
     "text": [
      "[Epoch 239/500]\n",
      "Train Loss: 0.2290 | Train Acc: 88.35%\n",
      "Valid Loss: 0.2313 | Valid Acc: 8.75%\n"
     ]
    },
    {
     "name": "stderr",
     "output_type": "stream",
     "text": [
      "Method ALL – Processing subject ALL – Val Accuracy: 8.42% | Best: 9.50%:  48%|███▎   | 240/500 [29:48<32:14,  7.44s/it]"
     ]
    },
    {
     "name": "stdout",
     "output_type": "stream",
     "text": [
      "[Epoch 240/500]\n",
      "Train Loss: 0.2250 | Train Acc: 85.38%\n",
      "Valid Loss: 0.2311 | Valid Acc: 8.42%\n"
     ]
    },
    {
     "name": "stderr",
     "output_type": "stream",
     "text": [
      "Method ALL – Processing subject ALL – Val Accuracy: 8.67% | Best: 9.50%:  48%|███▎   | 241/500 [29:56<32:07,  7.44s/it]"
     ]
    },
    {
     "name": "stdout",
     "output_type": "stream",
     "text": [
      "[Epoch 241/500]\n",
      "Train Loss: 0.2250 | Train Acc: 91.42%\n",
      "Valid Loss: 0.2303 | Valid Acc: 8.67%\n"
     ]
    },
    {
     "name": "stderr",
     "output_type": "stream",
     "text": [
      "Method ALL – Processing subject ALL – Val Accuracy: 8.50% | Best: 9.50%:  48%|███▍   | 242/500 [30:03<31:56,  7.43s/it]"
     ]
    },
    {
     "name": "stdout",
     "output_type": "stream",
     "text": [
      "[Epoch 242/500]\n",
      "Train Loss: 0.2229 | Train Acc: 94.48%\n",
      "Valid Loss: 0.2287 | Valid Acc: 8.50%\n"
     ]
    },
    {
     "name": "stderr",
     "output_type": "stream",
     "text": [
      "Method ALL – Processing subject ALL – Val Accuracy: 7.75% | Best: 9.50%:  49%|███▍   | 243/500 [30:11<31:55,  7.45s/it]"
     ]
    },
    {
     "name": "stdout",
     "output_type": "stream",
     "text": [
      "[Epoch 243/500]\n",
      "Train Loss: 0.2265 | Train Acc: 95.83%\n",
      "Valid Loss: 0.2284 | Valid Acc: 7.75%\n"
     ]
    },
    {
     "name": "stderr",
     "output_type": "stream",
     "text": [
      "Method ALL – Processing subject ALL – Val Accuracy: 8.00% | Best: 9.50%:  49%|███▍   | 244/500 [30:18<31:45,  7.44s/it]"
     ]
    },
    {
     "name": "stdout",
     "output_type": "stream",
     "text": [
      "[Epoch 244/500]\n",
      "Train Loss: 0.2286 | Train Acc: 94.17%\n",
      "Valid Loss: 0.2279 | Valid Acc: 8.00%\n"
     ]
    },
    {
     "name": "stderr",
     "output_type": "stream",
     "text": [
      "Method ALL – Processing subject ALL – Val Accuracy: 9.08% | Best: 9.50%:  49%|███▍   | 245/500 [30:26<31:42,  7.46s/it]"
     ]
    },
    {
     "name": "stdout",
     "output_type": "stream",
     "text": [
      "[Epoch 245/500]\n",
      "Train Loss: 0.2229 | Train Acc: 90.82%\n",
      "Valid Loss: 0.2243 | Valid Acc: 9.08%\n"
     ]
    },
    {
     "name": "stderr",
     "output_type": "stream",
     "text": [
      "Method ALL – Processing subject ALL – Val Accuracy: 8.58% | Best: 9.50%:  49%|███▍   | 246/500 [30:33<31:28,  7.44s/it]"
     ]
    },
    {
     "name": "stdout",
     "output_type": "stream",
     "text": [
      "[Epoch 246/500]\n",
      "Train Loss: 0.2262 | Train Acc: 88.35%\n",
      "Valid Loss: 0.2238 | Valid Acc: 8.58%\n"
     ]
    },
    {
     "name": "stderr",
     "output_type": "stream",
     "text": [
      "Method ALL – Processing subject ALL – Val Accuracy: 8.42% | Best: 9.50%:  49%|███▍   | 247/500 [30:40<31:17,  7.42s/it]"
     ]
    },
    {
     "name": "stdout",
     "output_type": "stream",
     "text": [
      "[Epoch 247/500]\n",
      "Train Loss: 0.2263 | Train Acc: 91.72%\n",
      "Valid Loss: 0.2266 | Valid Acc: 8.42%\n"
     ]
    },
    {
     "name": "stderr",
     "output_type": "stream",
     "text": [
      "Method ALL – Processing subject ALL – Val Accuracy: 8.00% | Best: 9.50%:  50%|███▍   | 248/500 [30:48<31:04,  7.40s/it]"
     ]
    },
    {
     "name": "stdout",
     "output_type": "stream",
     "text": [
      "[Epoch 248/500]\n",
      "Train Loss: 0.2262 | Train Acc: 94.80%\n",
      "Valid Loss: 0.2272 | Valid Acc: 8.00%\n"
     ]
    },
    {
     "name": "stderr",
     "output_type": "stream",
     "text": [
      "Method ALL – Processing subject ALL – Val Accuracy: 8.25% | Best: 9.50%:  50%|███▍   | 249/500 [30:55<30:48,  7.37s/it]"
     ]
    },
    {
     "name": "stdout",
     "output_type": "stream",
     "text": [
      "[Epoch 249/500]\n",
      "Train Loss: 0.2269 | Train Acc: 96.68%\n",
      "Valid Loss: 0.2234 | Valid Acc: 8.25%\n"
     ]
    },
    {
     "name": "stderr",
     "output_type": "stream",
     "text": [
      "Method ALL – Processing subject ALL – Val Accuracy: 8.25% | Best: 9.50%:  50%|███▌   | 250/500 [31:02<30:42,  7.37s/it]"
     ]
    },
    {
     "name": "stdout",
     "output_type": "stream",
     "text": [
      "[Epoch 250/500]\n",
      "Train Loss: 0.2236 | Train Acc: 96.33%\n",
      "Valid Loss: 0.2269 | Valid Acc: 8.25%\n"
     ]
    },
    {
     "name": "stderr",
     "output_type": "stream",
     "text": [
      "Method ALL – Processing subject ALL – Val Accuracy: 8.25% | Best: 9.50%:  50%|███▌   | 251/500 [31:10<30:39,  7.39s/it]"
     ]
    },
    {
     "name": "stdout",
     "output_type": "stream",
     "text": [
      "[Epoch 251/500]\n",
      "Train Loss: 0.2260 | Train Acc: 93.75%\n",
      "Valid Loss: 0.2290 | Valid Acc: 8.25%\n"
     ]
    },
    {
     "name": "stderr",
     "output_type": "stream",
     "text": [
      "Method ALL – Processing subject ALL – Val Accuracy: 8.58% | Best: 9.50%:  50%|███▌   | 252/500 [31:17<30:50,  7.46s/it]"
     ]
    },
    {
     "name": "stdout",
     "output_type": "stream",
     "text": [
      "[Epoch 252/500]\n",
      "Train Loss: 0.2244 | Train Acc: 91.22%\n",
      "Valid Loss: 0.2334 | Valid Acc: 8.58%\n"
     ]
    },
    {
     "name": "stderr",
     "output_type": "stream",
     "text": [
      "Method ALL – Processing subject ALL – Val Accuracy: 8.50% | Best: 9.50%:  51%|███▌   | 253/500 [31:25<30:54,  7.51s/it]"
     ]
    },
    {
     "name": "stdout",
     "output_type": "stream",
     "text": [
      "[Epoch 253/500]\n",
      "Train Loss: 0.2282 | Train Acc: 91.20%\n",
      "Valid Loss: 0.2340 | Valid Acc: 8.50%\n"
     ]
    },
    {
     "name": "stderr",
     "output_type": "stream",
     "text": [
      "Method ALL – Processing subject ALL – Val Accuracy: 8.50% | Best: 9.50%:  51%|███▌   | 254/500 [31:33<30:45,  7.50s/it]"
     ]
    },
    {
     "name": "stdout",
     "output_type": "stream",
     "text": [
      "[Epoch 254/500]\n",
      "Train Loss: 0.2228 | Train Acc: 95.17%\n",
      "Valid Loss: 0.2294 | Valid Acc: 8.50%\n"
     ]
    },
    {
     "name": "stderr",
     "output_type": "stream",
     "text": [
      "Method ALL – Processing subject ALL – Val Accuracy: 8.25% | Best: 9.50%:  51%|███▌   | 255/500 [31:40<30:23,  7.44s/it]"
     ]
    },
    {
     "name": "stdout",
     "output_type": "stream",
     "text": [
      "[Epoch 255/500]\n",
      "Train Loss: 0.2229 | Train Acc: 96.75%\n",
      "Valid Loss: 0.2273 | Valid Acc: 8.25%\n"
     ]
    },
    {
     "name": "stderr",
     "output_type": "stream",
     "text": [
      "Method ALL – Processing subject ALL – Val Accuracy: 7.67% | Best: 9.50%:  51%|███▌   | 256/500 [31:47<30:01,  7.38s/it]"
     ]
    },
    {
     "name": "stdout",
     "output_type": "stream",
     "text": [
      "[Epoch 256/500]\n",
      "Train Loss: 0.2270 | Train Acc: 97.38%\n",
      "Valid Loss: 0.2242 | Valid Acc: 7.67%\n"
     ]
    },
    {
     "name": "stderr",
     "output_type": "stream",
     "text": [
      "Method ALL – Processing subject ALL – Val Accuracy: 7.58% | Best: 9.50%:  51%|███▌   | 257/500 [31:54<29:54,  7.39s/it]"
     ]
    },
    {
     "name": "stdout",
     "output_type": "stream",
     "text": [
      "[Epoch 257/500]\n",
      "Train Loss: 0.2236 | Train Acc: 95.63%\n",
      "Valid Loss: 0.2316 | Valid Acc: 7.58%\n"
     ]
    },
    {
     "name": "stderr",
     "output_type": "stream",
     "text": [
      "Method ALL – Processing subject ALL – Val Accuracy: 8.17% | Best: 9.50%:  52%|███▌   | 258/500 [32:02<29:46,  7.38s/it]"
     ]
    },
    {
     "name": "stdout",
     "output_type": "stream",
     "text": [
      "[Epoch 258/500]\n",
      "Train Loss: 0.2261 | Train Acc: 93.37%\n",
      "Valid Loss: 0.2282 | Valid Acc: 8.17%\n"
     ]
    },
    {
     "name": "stderr",
     "output_type": "stream",
     "text": [
      "Method ALL – Processing subject ALL – Val Accuracy: 8.67% | Best: 9.50%:  52%|███▋   | 259/500 [32:09<29:39,  7.38s/it]"
     ]
    },
    {
     "name": "stdout",
     "output_type": "stream",
     "text": [
      "[Epoch 259/500]\n",
      "Train Loss: 0.2263 | Train Acc: 92.55%\n",
      "Valid Loss: 0.2262 | Valid Acc: 8.67%\n"
     ]
    },
    {
     "name": "stderr",
     "output_type": "stream",
     "text": [
      "Method ALL – Processing subject ALL – Val Accuracy: 9.08% | Best: 9.50%:  52%|███▋   | 260/500 [32:17<29:34,  7.40s/it]"
     ]
    },
    {
     "name": "stdout",
     "output_type": "stream",
     "text": [
      "[Epoch 260/500]\n",
      "Train Loss: 0.2257 | Train Acc: 94.82%\n",
      "Valid Loss: 0.2275 | Valid Acc: 9.08%\n"
     ]
    },
    {
     "name": "stderr",
     "output_type": "stream",
     "text": [
      "Method ALL – Processing subject ALL – Val Accuracy: 8.58% | Best: 9.50%:  52%|███▋   | 261/500 [32:24<29:59,  7.53s/it]"
     ]
    },
    {
     "name": "stdout",
     "output_type": "stream",
     "text": [
      "[Epoch 261/500]\n",
      "Train Loss: 0.2269 | Train Acc: 96.98%\n",
      "Valid Loss: 0.2265 | Valid Acc: 8.58%\n"
     ]
    },
    {
     "name": "stderr",
     "output_type": "stream",
     "text": [
      "Method ALL – Processing subject ALL – Val Accuracy: 8.17% | Best: 9.50%:  52%|███▋   | 262/500 [32:32<29:33,  7.45s/it]"
     ]
    },
    {
     "name": "stdout",
     "output_type": "stream",
     "text": [
      "[Epoch 262/500]\n",
      "Train Loss: 0.2244 | Train Acc: 97.95%\n",
      "Valid Loss: 0.2322 | Valid Acc: 8.17%\n"
     ]
    },
    {
     "name": "stderr",
     "output_type": "stream",
     "text": [
      "Method ALL – Processing subject ALL – Val Accuracy: 8.08% | Best: 9.50%:  53%|███▋   | 263/500 [32:39<29:17,  7.42s/it]"
     ]
    },
    {
     "name": "stdout",
     "output_type": "stream",
     "text": [
      "[Epoch 263/500]\n",
      "Train Loss: 0.2264 | Train Acc: 97.43%\n",
      "Valid Loss: 0.2327 | Valid Acc: 8.08%\n"
     ]
    },
    {
     "name": "stderr",
     "output_type": "stream",
     "text": [
      "Method ALL – Processing subject ALL – Val Accuracy: 7.83% | Best: 9.50%:  53%|███▋   | 264/500 [32:46<29:04,  7.39s/it]"
     ]
    },
    {
     "name": "stdout",
     "output_type": "stream",
     "text": [
      "[Epoch 264/500]\n",
      "Train Loss: 0.2259 | Train Acc: 95.35%\n",
      "Valid Loss: 0.2281 | Valid Acc: 7.83%\n"
     ]
    },
    {
     "name": "stderr",
     "output_type": "stream",
     "text": [
      "Method ALL – Processing subject ALL – Val Accuracy: 8.17% | Best: 9.50%:  53%|███▋   | 265/500 [32:54<28:58,  7.40s/it]"
     ]
    },
    {
     "name": "stdout",
     "output_type": "stream",
     "text": [
      "[Epoch 265/500]\n",
      "Train Loss: 0.2270 | Train Acc: 92.80%\n",
      "Valid Loss: 0.2308 | Valid Acc: 8.17%\n"
     ]
    },
    {
     "name": "stderr",
     "output_type": "stream",
     "text": [
      "Method ALL – Processing subject ALL – Val Accuracy: 8.33% | Best: 9.50%:  53%|███▋   | 266/500 [33:01<28:50,  7.40s/it]"
     ]
    },
    {
     "name": "stdout",
     "output_type": "stream",
     "text": [
      "[Epoch 266/500]\n",
      "Train Loss: 0.2273 | Train Acc: 95.50%\n",
      "Valid Loss: 0.2269 | Valid Acc: 8.33%\n"
     ]
    },
    {
     "name": "stderr",
     "output_type": "stream",
     "text": [
      "Method ALL – Processing subject ALL – Val Accuracy: 8.33% | Best: 9.50%:  53%|███▋   | 267/500 [33:08<28:32,  7.35s/it]"
     ]
    },
    {
     "name": "stdout",
     "output_type": "stream",
     "text": [
      "[Epoch 267/500]\n",
      "Train Loss: 0.2238 | Train Acc: 97.23%\n",
      "Valid Loss: 0.2297 | Valid Acc: 8.33%\n"
     ]
    },
    {
     "name": "stderr",
     "output_type": "stream",
     "text": [
      "Method ALL – Processing subject ALL – Val Accuracy: 8.42% | Best: 9.50%:  54%|███▊   | 268/500 [33:16<28:36,  7.40s/it]"
     ]
    },
    {
     "name": "stdout",
     "output_type": "stream",
     "text": [
      "[Epoch 268/500]\n",
      "Train Loss: 0.2225 | Train Acc: 98.27%\n",
      "Valid Loss: 0.2297 | Valid Acc: 8.42%\n"
     ]
    },
    {
     "name": "stderr",
     "output_type": "stream",
     "text": [
      "Method ALL – Processing subject ALL – Val Accuracy: 7.67% | Best: 9.50%:  54%|███▊   | 269/500 [33:23<28:23,  7.37s/it]"
     ]
    },
    {
     "name": "stdout",
     "output_type": "stream",
     "text": [
      "[Epoch 269/500]\n",
      "Train Loss: 0.2264 | Train Acc: 98.18%\n",
      "Valid Loss: 0.2281 | Valid Acc: 7.67%\n"
     ]
    },
    {
     "name": "stderr",
     "output_type": "stream",
     "text": [
      "Method ALL – Processing subject ALL – Val Accuracy: 7.83% | Best: 9.50%:  54%|███▊   | 270/500 [33:31<28:14,  7.37s/it]"
     ]
    },
    {
     "name": "stdout",
     "output_type": "stream",
     "text": [
      "[Epoch 270/500]\n",
      "Train Loss: 0.2247 | Train Acc: 96.93%\n",
      "Valid Loss: 0.2280 | Valid Acc: 7.83%\n"
     ]
    },
    {
     "name": "stderr",
     "output_type": "stream",
     "text": [
      "Method ALL – Processing subject ALL – Val Accuracy: 8.17% | Best: 9.50%:  54%|███▊   | 271/500 [33:38<27:47,  7.28s/it]"
     ]
    },
    {
     "name": "stdout",
     "output_type": "stream",
     "text": [
      "[Epoch 271/500]\n",
      "Train Loss: 0.2244 | Train Acc: 95.55%\n",
      "Valid Loss: 0.2277 | Valid Acc: 8.17%\n"
     ]
    },
    {
     "name": "stderr",
     "output_type": "stream",
     "text": [
      "Method ALL – Processing subject ALL – Val Accuracy: 8.42% | Best: 9.50%:  54%|███▊   | 272/500 [33:45<27:51,  7.33s/it]"
     ]
    },
    {
     "name": "stdout",
     "output_type": "stream",
     "text": [
      "[Epoch 272/500]\n",
      "Train Loss: 0.2262 | Train Acc: 95.73%\n",
      "Valid Loss: 0.2224 | Valid Acc: 8.42%\n"
     ]
    },
    {
     "name": "stderr",
     "output_type": "stream",
     "text": [
      "Method ALL – Processing subject ALL – Val Accuracy: 8.75% | Best: 9.50%:  55%|███▊   | 273/500 [33:53<27:58,  7.39s/it]"
     ]
    },
    {
     "name": "stdout",
     "output_type": "stream",
     "text": [
      "[Epoch 273/500]\n",
      "Train Loss: 0.2234 | Train Acc: 97.10%\n",
      "Valid Loss: 0.2310 | Valid Acc: 8.75%\n"
     ]
    },
    {
     "name": "stderr",
     "output_type": "stream",
     "text": [
      "Method ALL – Processing subject ALL – Val Accuracy: 8.75% | Best: 9.50%:  55%|███▊   | 274/500 [34:00<27:17,  7.25s/it]"
     ]
    },
    {
     "name": "stdout",
     "output_type": "stream",
     "text": [
      "[Epoch 274/500]\n",
      "Train Loss: 0.2221 | Train Acc: 98.33%\n",
      "Valid Loss: 0.2253 | Valid Acc: 8.75%\n"
     ]
    },
    {
     "name": "stderr",
     "output_type": "stream",
     "text": [
      "Method ALL – Processing subject ALL – Val Accuracy: 8.50% | Best: 9.50%:  55%|███▊   | 275/500 [34:07<27:02,  7.21s/it]"
     ]
    },
    {
     "name": "stdout",
     "output_type": "stream",
     "text": [
      "[Epoch 275/500]\n",
      "Train Loss: 0.2246 | Train Acc: 98.80%\n",
      "Valid Loss: 0.2301 | Valid Acc: 8.50%\n"
     ]
    },
    {
     "name": "stderr",
     "output_type": "stream",
     "text": [
      "Method ALL – Processing subject ALL – Val Accuracy: 8.33% | Best: 9.50%:  55%|███▊   | 276/500 [34:14<27:11,  7.28s/it]"
     ]
    },
    {
     "name": "stdout",
     "output_type": "stream",
     "text": [
      "[Epoch 276/500]\n",
      "Train Loss: 0.2259 | Train Acc: 98.30%\n",
      "Valid Loss: 0.2234 | Valid Acc: 8.33%\n"
     ]
    },
    {
     "name": "stderr",
     "output_type": "stream",
     "text": [
      "Method ALL – Processing subject ALL – Val Accuracy: 8.33% | Best: 9.50%:  55%|███▉   | 277/500 [34:22<27:12,  7.32s/it]"
     ]
    },
    {
     "name": "stdout",
     "output_type": "stream",
     "text": [
      "[Epoch 277/500]\n",
      "Train Loss: 0.2267 | Train Acc: 96.67%\n",
      "Valid Loss: 0.2297 | Valid Acc: 8.33%\n"
     ]
    },
    {
     "name": "stderr",
     "output_type": "stream",
     "text": [
      "Method ALL – Processing subject ALL – Val Accuracy: 8.50% | Best: 9.50%:  56%|███▉   | 278/500 [34:29<27:11,  7.35s/it]"
     ]
    },
    {
     "name": "stdout",
     "output_type": "stream",
     "text": [
      "[Epoch 278/500]\n",
      "Train Loss: 0.2244 | Train Acc: 95.42%\n",
      "Valid Loss: 0.2332 | Valid Acc: 8.50%\n"
     ]
    },
    {
     "name": "stderr",
     "output_type": "stream",
     "text": [
      "Method ALL – Processing subject ALL – Val Accuracy: 8.83% | Best: 9.50%:  56%|███▉   | 279/500 [34:37<27:17,  7.41s/it]"
     ]
    },
    {
     "name": "stdout",
     "output_type": "stream",
     "text": [
      "[Epoch 279/500]\n",
      "Train Loss: 0.2254 | Train Acc: 97.30%\n",
      "Valid Loss: 0.2279 | Valid Acc: 8.83%\n"
     ]
    },
    {
     "name": "stderr",
     "output_type": "stream",
     "text": [
      "Method ALL – Processing subject ALL – Val Accuracy: 8.42% | Best: 9.50%:  56%|███▉   | 280/500 [34:44<27:09,  7.41s/it]"
     ]
    },
    {
     "name": "stdout",
     "output_type": "stream",
     "text": [
      "[Epoch 280/500]\n",
      "Train Loss: 0.2252 | Train Acc: 98.50%\n",
      "Valid Loss: 0.2305 | Valid Acc: 8.42%\n"
     ]
    },
    {
     "name": "stderr",
     "output_type": "stream",
     "text": [
      "Method ALL – Processing subject ALL – Val Accuracy: 8.25% | Best: 9.50%:  56%|███▉   | 281/500 [34:51<27:06,  7.43s/it]"
     ]
    },
    {
     "name": "stdout",
     "output_type": "stream",
     "text": [
      "[Epoch 281/500]\n",
      "Train Loss: 0.2247 | Train Acc: 98.90%\n",
      "Valid Loss: 0.2259 | Valid Acc: 8.25%\n"
     ]
    },
    {
     "name": "stderr",
     "output_type": "stream",
     "text": [
      "Method ALL – Processing subject ALL – Val Accuracy: 8.75% | Best: 9.50%:  56%|███▉   | 282/500 [34:59<27:00,  7.43s/it]"
     ]
    },
    {
     "name": "stdout",
     "output_type": "stream",
     "text": [
      "[Epoch 282/500]\n",
      "Train Loss: 0.2263 | Train Acc: 98.53%\n",
      "Valid Loss: 0.2326 | Valid Acc: 8.75%\n"
     ]
    },
    {
     "name": "stderr",
     "output_type": "stream",
     "text": [
      "Method ALL – Processing subject ALL – Val Accuracy: 7.33% | Best: 9.50%:  57%|███▉   | 283/500 [35:06<26:56,  7.45s/it]"
     ]
    },
    {
     "name": "stdout",
     "output_type": "stream",
     "text": [
      "[Epoch 283/500]\n",
      "Train Loss: 0.2234 | Train Acc: 98.07%\n",
      "Valid Loss: 0.2324 | Valid Acc: 7.33%\n"
     ]
    },
    {
     "name": "stderr",
     "output_type": "stream",
     "text": [
      "Method ALL – Processing subject ALL – Val Accuracy: 8.17% | Best: 9.50%:  57%|███▉   | 284/500 [35:14<26:51,  7.46s/it]"
     ]
    },
    {
     "name": "stdout",
     "output_type": "stream",
     "text": [
      "[Epoch 284/500]\n",
      "Train Loss: 0.2261 | Train Acc: 96.92%\n",
      "Valid Loss: 0.2308 | Valid Acc: 8.17%\n"
     ]
    },
    {
     "name": "stderr",
     "output_type": "stream",
     "text": [
      "Method ALL – Processing subject ALL – Val Accuracy: 8.58% | Best: 9.50%:  57%|███▉   | 285/500 [35:21<26:29,  7.39s/it]"
     ]
    },
    {
     "name": "stdout",
     "output_type": "stream",
     "text": [
      "[Epoch 285/500]\n",
      "Train Loss: 0.2268 | Train Acc: 97.22%\n",
      "Valid Loss: 0.2282 | Valid Acc: 8.58%\n"
     ]
    },
    {
     "name": "stderr",
     "output_type": "stream",
     "text": [
      "Method ALL – Processing subject ALL – Val Accuracy: 7.83% | Best: 9.50%:  57%|████   | 286/500 [35:29<26:28,  7.42s/it]"
     ]
    },
    {
     "name": "stdout",
     "output_type": "stream",
     "text": [
      "[Epoch 286/500]\n",
      "Train Loss: 0.2257 | Train Acc: 98.58%\n",
      "Valid Loss: 0.2251 | Valid Acc: 7.83%\n"
     ]
    },
    {
     "name": "stderr",
     "output_type": "stream",
     "text": [
      "Method ALL – Processing subject ALL – Val Accuracy: 8.17% | Best: 9.50%:  57%|████   | 287/500 [35:36<26:21,  7.42s/it]"
     ]
    },
    {
     "name": "stdout",
     "output_type": "stream",
     "text": [
      "[Epoch 287/500]\n",
      "Train Loss: 0.2241 | Train Acc: 98.93%\n",
      "Valid Loss: 0.2264 | Valid Acc: 8.17%\n"
     ]
    },
    {
     "name": "stderr",
     "output_type": "stream",
     "text": [
      "Method ALL – Processing subject ALL – Val Accuracy: 8.08% | Best: 9.50%:  58%|████   | 288/500 [35:43<26:15,  7.43s/it]"
     ]
    },
    {
     "name": "stdout",
     "output_type": "stream",
     "text": [
      "[Epoch 288/500]\n",
      "Train Loss: 0.2248 | Train Acc: 99.07%\n",
      "Valid Loss: 0.2269 | Valid Acc: 8.08%\n"
     ]
    },
    {
     "name": "stderr",
     "output_type": "stream",
     "text": [
      "Method ALL – Processing subject ALL – Val Accuracy: 7.50% | Best: 9.50%:  58%|████   | 289/500 [35:51<26:06,  7.42s/it]"
     ]
    },
    {
     "name": "stdout",
     "output_type": "stream",
     "text": [
      "[Epoch 289/500]\n",
      "Train Loss: 0.2255 | Train Acc: 98.43%\n",
      "Valid Loss: 0.2270 | Valid Acc: 7.50%\n"
     ]
    },
    {
     "name": "stderr",
     "output_type": "stream",
     "text": [
      "Method ALL – Processing subject ALL – Val Accuracy: 8.00% | Best: 9.50%:  58%|████   | 290/500 [35:58<25:56,  7.41s/it]"
     ]
    },
    {
     "name": "stdout",
     "output_type": "stream",
     "text": [
      "[Epoch 290/500]\n",
      "Train Loss: 0.2242 | Train Acc: 97.88%\n",
      "Valid Loss: 0.2313 | Valid Acc: 8.00%\n"
     ]
    },
    {
     "name": "stderr",
     "output_type": "stream",
     "text": [
      "Method ALL – Processing subject ALL – Val Accuracy: 7.50% | Best: 9.50%:  58%|████   | 291/500 [36:06<25:45,  7.39s/it]"
     ]
    },
    {
     "name": "stdout",
     "output_type": "stream",
     "text": [
      "[Epoch 291/500]\n",
      "Train Loss: 0.2259 | Train Acc: 97.53%\n",
      "Valid Loss: 0.2241 | Valid Acc: 7.50%\n"
     ]
    },
    {
     "name": "stderr",
     "output_type": "stream",
     "text": [
      "Method ALL – Processing subject ALL – Val Accuracy: 8.25% | Best: 9.50%:  58%|████   | 292/500 [36:13<25:46,  7.43s/it]"
     ]
    },
    {
     "name": "stdout",
     "output_type": "stream",
     "text": [
      "[Epoch 292/500]\n",
      "Train Loss: 0.2243 | Train Acc: 98.67%\n",
      "Valid Loss: 0.2316 | Valid Acc: 8.25%\n"
     ]
    },
    {
     "name": "stderr",
     "output_type": "stream",
     "text": [
      "Method ALL – Processing subject ALL – Val Accuracy: 8.17% | Best: 9.50%:  59%|████   | 293/500 [36:21<26:09,  7.58s/it]"
     ]
    },
    {
     "name": "stdout",
     "output_type": "stream",
     "text": [
      "[Epoch 293/500]\n",
      "Train Loss: 0.2231 | Train Acc: 99.17%\n",
      "Valid Loss: 0.2274 | Valid Acc: 8.17%\n"
     ]
    },
    {
     "name": "stderr",
     "output_type": "stream",
     "text": [
      "Method ALL – Processing subject ALL – Val Accuracy: 8.58% | Best: 9.50%:  59%|████   | 294/500 [36:29<25:53,  7.54s/it]"
     ]
    },
    {
     "name": "stdout",
     "output_type": "stream",
     "text": [
      "[Epoch 294/500]\n",
      "Train Loss: 0.2237 | Train Acc: 99.38%\n",
      "Valid Loss: 0.2261 | Valid Acc: 8.58%\n"
     ]
    },
    {
     "name": "stderr",
     "output_type": "stream",
     "text": [
      "Method ALL – Processing subject ALL – Val Accuracy: 7.83% | Best: 9.50%:  59%|████▏  | 295/500 [36:36<25:31,  7.47s/it]"
     ]
    },
    {
     "name": "stdout",
     "output_type": "stream",
     "text": [
      "[Epoch 295/500]\n",
      "Train Loss: 0.2245 | Train Acc: 99.13%\n",
      "Valid Loss: 0.2253 | Valid Acc: 7.83%\n"
     ]
    },
    {
     "name": "stderr",
     "output_type": "stream",
     "text": [
      "Method ALL – Processing subject ALL – Val Accuracy: 7.58% | Best: 9.50%:  59%|████▏  | 296/500 [36:43<25:14,  7.42s/it]"
     ]
    },
    {
     "name": "stdout",
     "output_type": "stream",
     "text": [
      "[Epoch 296/500]\n",
      "Train Loss: 0.2268 | Train Acc: 98.67%\n",
      "Valid Loss: 0.2267 | Valid Acc: 7.58%\n"
     ]
    },
    {
     "name": "stderr",
     "output_type": "stream",
     "text": [
      "Method ALL – Processing subject ALL – Val Accuracy: 8.00% | Best: 9.50%:  59%|████▏  | 297/500 [36:50<25:02,  7.40s/it]"
     ]
    },
    {
     "name": "stdout",
     "output_type": "stream",
     "text": [
      "[Epoch 297/500]\n",
      "Train Loss: 0.2258 | Train Acc: 98.13%\n",
      "Valid Loss: 0.2263 | Valid Acc: 8.00%\n"
     ]
    },
    {
     "name": "stderr",
     "output_type": "stream",
     "text": [
      "Method ALL – Processing subject ALL – Val Accuracy: 8.42% | Best: 9.50%:  60%|████▏  | 298/500 [36:58<24:53,  7.39s/it]"
     ]
    },
    {
     "name": "stdout",
     "output_type": "stream",
     "text": [
      "[Epoch 298/500]\n",
      "Train Loss: 0.2279 | Train Acc: 98.63%\n",
      "Valid Loss: 0.2269 | Valid Acc: 8.42%\n"
     ]
    },
    {
     "name": "stderr",
     "output_type": "stream",
     "text": [
      "Method ALL – Processing subject ALL – Val Accuracy: 8.00% | Best: 9.50%:  60%|████▏  | 299/500 [37:05<24:44,  7.38s/it]"
     ]
    },
    {
     "name": "stdout",
     "output_type": "stream",
     "text": [
      "[Epoch 299/500]\n",
      "Train Loss: 0.2273 | Train Acc: 99.12%\n",
      "Valid Loss: 0.2252 | Valid Acc: 8.00%\n"
     ]
    },
    {
     "name": "stderr",
     "output_type": "stream",
     "text": [
      "Method ALL – Processing subject ALL – Val Accuracy: 8.25% | Best: 9.50%:  60%|████▏  | 300/500 [37:13<24:39,  7.40s/it]"
     ]
    },
    {
     "name": "stdout",
     "output_type": "stream",
     "text": [
      "[Epoch 300/500]\n",
      "Train Loss: 0.2237 | Train Acc: 99.33%\n",
      "Valid Loss: 0.2320 | Valid Acc: 8.25%\n"
     ]
    },
    {
     "name": "stderr",
     "output_type": "stream",
     "text": [
      "Method ALL – Processing subject ALL – Val Accuracy: 8.17% | Best: 9.50%:  60%|████▏  | 301/500 [37:21<25:04,  7.56s/it]"
     ]
    },
    {
     "name": "stdout",
     "output_type": "stream",
     "text": [
      "[Epoch 301/500]\n",
      "Train Loss: 0.2258 | Train Acc: 99.48%\n",
      "Valid Loss: 0.2269 | Valid Acc: 8.17%\n"
     ]
    },
    {
     "name": "stderr",
     "output_type": "stream",
     "text": [
      "Method ALL – Processing subject ALL – Val Accuracy: 8.25% | Best: 9.50%:  60%|████▏  | 302/500 [37:29<25:26,  7.71s/it]"
     ]
    },
    {
     "name": "stdout",
     "output_type": "stream",
     "text": [
      "[Epoch 302/500]\n",
      "Train Loss: 0.2272 | Train Acc: 99.03%\n",
      "Valid Loss: 0.2280 | Valid Acc: 8.25%\n"
     ]
    },
    {
     "name": "stderr",
     "output_type": "stream",
     "text": [
      "Method ALL – Processing subject ALL – Val Accuracy: 8.00% | Best: 9.50%:  61%|████▏  | 303/500 [37:36<24:55,  7.59s/it]"
     ]
    },
    {
     "name": "stdout",
     "output_type": "stream",
     "text": [
      "[Epoch 303/500]\n",
      "Train Loss: 0.2241 | Train Acc: 98.55%\n",
      "Valid Loss: 0.2250 | Valid Acc: 8.00%\n"
     ]
    },
    {
     "name": "stderr",
     "output_type": "stream",
     "text": [
      "Method ALL – Processing subject ALL – Val Accuracy: 8.17% | Best: 9.50%:  61%|████▎  | 304/500 [37:43<24:31,  7.51s/it]"
     ]
    },
    {
     "name": "stdout",
     "output_type": "stream",
     "text": [
      "[Epoch 304/500]\n",
      "Train Loss: 0.2257 | Train Acc: 98.92%\n",
      "Valid Loss: 0.2273 | Valid Acc: 8.17%\n"
     ]
    },
    {
     "name": "stderr",
     "output_type": "stream",
     "text": [
      "Method ALL – Processing subject ALL – Val Accuracy: 8.33% | Best: 9.50%:  61%|████▎  | 305/500 [37:51<24:21,  7.49s/it]"
     ]
    },
    {
     "name": "stdout",
     "output_type": "stream",
     "text": [
      "[Epoch 305/500]\n",
      "Train Loss: 0.2248 | Train Acc: 99.08%\n",
      "Valid Loss: 0.2287 | Valid Acc: 8.33%\n"
     ]
    },
    {
     "name": "stderr",
     "output_type": "stream",
     "text": [
      "Method ALL – Processing subject ALL – Val Accuracy: 8.25% | Best: 9.50%:  61%|████▎  | 306/500 [37:58<24:03,  7.44s/it]"
     ]
    },
    {
     "name": "stdout",
     "output_type": "stream",
     "text": [
      "[Epoch 306/500]\n",
      "Train Loss: 0.2232 | Train Acc: 99.35%\n",
      "Valid Loss: 0.2302 | Valid Acc: 8.25%\n"
     ]
    },
    {
     "name": "stderr",
     "output_type": "stream",
     "text": [
      "Method ALL – Processing subject ALL – Val Accuracy: 8.08% | Best: 9.50%:  61%|████▎  | 307/500 [38:05<23:53,  7.43s/it]"
     ]
    },
    {
     "name": "stdout",
     "output_type": "stream",
     "text": [
      "[Epoch 307/500]\n",
      "Train Loss: 0.2246 | Train Acc: 99.65%\n",
      "Valid Loss: 0.2232 | Valid Acc: 8.08%\n"
     ]
    },
    {
     "name": "stderr",
     "output_type": "stream",
     "text": [
      "Method ALL – Processing subject ALL – Val Accuracy: 8.33% | Best: 9.50%:  62%|████▎  | 308/500 [38:13<23:42,  7.41s/it]"
     ]
    },
    {
     "name": "stdout",
     "output_type": "stream",
     "text": [
      "[Epoch 308/500]\n",
      "Train Loss: 0.2260 | Train Acc: 99.27%\n",
      "Valid Loss: 0.2336 | Valid Acc: 8.33%\n"
     ]
    },
    {
     "name": "stderr",
     "output_type": "stream",
     "text": [
      "Method ALL – Processing subject ALL – Val Accuracy: 7.67% | Best: 9.50%:  62%|████▎  | 309/500 [38:20<23:44,  7.46s/it]"
     ]
    },
    {
     "name": "stdout",
     "output_type": "stream",
     "text": [
      "[Epoch 309/500]\n",
      "Train Loss: 0.2258 | Train Acc: 98.95%\n",
      "Valid Loss: 0.2316 | Valid Acc: 7.67%\n"
     ]
    },
    {
     "name": "stderr",
     "output_type": "stream",
     "text": [
      "Method ALL – Processing subject ALL – Val Accuracy: 8.25% | Best: 9.50%:  62%|████▎  | 310/500 [38:28<23:41,  7.48s/it]"
     ]
    },
    {
     "name": "stdout",
     "output_type": "stream",
     "text": [
      "[Epoch 310/500]\n",
      "Train Loss: 0.2262 | Train Acc: 98.72%\n",
      "Valid Loss: 0.2296 | Valid Acc: 8.25%\n"
     ]
    },
    {
     "name": "stderr",
     "output_type": "stream",
     "text": [
      "Method ALL – Processing subject ALL – Val Accuracy: 8.08% | Best: 9.50%:  62%|████▎  | 311/500 [38:35<23:29,  7.46s/it]"
     ]
    },
    {
     "name": "stdout",
     "output_type": "stream",
     "text": [
      "[Epoch 311/500]\n",
      "Train Loss: 0.2259 | Train Acc: 99.15%\n",
      "Valid Loss: 0.2338 | Valid Acc: 8.08%\n"
     ]
    },
    {
     "name": "stderr",
     "output_type": "stream",
     "text": [
      "Method ALL – Processing subject ALL – Val Accuracy: 8.25% | Best: 9.50%:  62%|████▎  | 312/500 [38:43<23:18,  7.44s/it]"
     ]
    },
    {
     "name": "stdout",
     "output_type": "stream",
     "text": [
      "[Epoch 312/500]\n",
      "Train Loss: 0.2269 | Train Acc: 99.35%\n",
      "Valid Loss: 0.2272 | Valid Acc: 8.25%\n"
     ]
    },
    {
     "name": "stderr",
     "output_type": "stream",
     "text": [
      "Method ALL – Processing subject ALL – Val Accuracy: 8.08% | Best: 9.50%:  63%|████▍  | 313/500 [38:50<23:16,  7.47s/it]"
     ]
    },
    {
     "name": "stdout",
     "output_type": "stream",
     "text": [
      "[Epoch 313/500]\n",
      "Train Loss: 0.2249 | Train Acc: 99.55%\n",
      "Valid Loss: 0.2324 | Valid Acc: 8.08%\n"
     ]
    },
    {
     "name": "stderr",
     "output_type": "stream",
     "text": [
      "Method ALL – Processing subject ALL – Val Accuracy: 8.17% | Best: 9.50%:  63%|████▍  | 314/500 [38:58<23:06,  7.45s/it]"
     ]
    },
    {
     "name": "stdout",
     "output_type": "stream",
     "text": [
      "[Epoch 314/500]\n",
      "Train Loss: 0.2236 | Train Acc: 99.45%\n",
      "Valid Loss: 0.2314 | Valid Acc: 8.17%\n"
     ]
    },
    {
     "name": "stderr",
     "output_type": "stream",
     "text": [
      "Method ALL – Processing subject ALL – Val Accuracy: 7.83% | Best: 9.50%:  63%|████▍  | 315/500 [39:05<22:59,  7.46s/it]"
     ]
    },
    {
     "name": "stdout",
     "output_type": "stream",
     "text": [
      "[Epoch 315/500]\n",
      "Train Loss: 0.2221 | Train Acc: 99.32%\n",
      "Valid Loss: 0.2293 | Valid Acc: 7.83%\n"
     ]
    },
    {
     "name": "stderr",
     "output_type": "stream",
     "text": [
      "Method ALL – Processing subject ALL – Val Accuracy: 8.17% | Best: 9.50%:  63%|████▍  | 316/500 [39:13<22:52,  7.46s/it]"
     ]
    },
    {
     "name": "stdout",
     "output_type": "stream",
     "text": [
      "[Epoch 316/500]\n",
      "Train Loss: 0.2262 | Train Acc: 99.05%\n",
      "Valid Loss: 0.2350 | Valid Acc: 8.17%\n"
     ]
    },
    {
     "name": "stderr",
     "output_type": "stream",
     "text": [
      "Method ALL – Processing subject ALL – Val Accuracy: 8.00% | Best: 9.50%:  63%|████▍  | 317/500 [39:20<22:44,  7.46s/it]"
     ]
    },
    {
     "name": "stdout",
     "output_type": "stream",
     "text": [
      "[Epoch 317/500]\n",
      "Train Loss: 0.2247 | Train Acc: 99.25%\n",
      "Valid Loss: 0.2333 | Valid Acc: 8.00%\n"
     ]
    },
    {
     "name": "stderr",
     "output_type": "stream",
     "text": [
      "Method ALL – Processing subject ALL – Val Accuracy: 8.42% | Best: 9.50%:  64%|████▍  | 318/500 [39:28<22:37,  7.46s/it]"
     ]
    },
    {
     "name": "stdout",
     "output_type": "stream",
     "text": [
      "[Epoch 318/500]\n",
      "Train Loss: 0.2228 | Train Acc: 99.40%\n",
      "Valid Loss: 0.2289 | Valid Acc: 8.42%\n"
     ]
    },
    {
     "name": "stderr",
     "output_type": "stream",
     "text": [
      "Method ALL – Processing subject ALL – Val Accuracy: 7.83% | Best: 9.50%:  64%|████▍  | 319/500 [39:35<22:27,  7.44s/it]"
     ]
    },
    {
     "name": "stdout",
     "output_type": "stream",
     "text": [
      "[Epoch 319/500]\n",
      "Train Loss: 0.2262 | Train Acc: 99.65%\n",
      "Valid Loss: 0.2311 | Valid Acc: 7.83%\n"
     ]
    },
    {
     "name": "stderr",
     "output_type": "stream",
     "text": [
      "Method ALL – Processing subject ALL – Val Accuracy: 8.08% | Best: 9.50%:  64%|████▍  | 320/500 [39:42<22:21,  7.45s/it]"
     ]
    },
    {
     "name": "stdout",
     "output_type": "stream",
     "text": [
      "[Epoch 320/500]\n",
      "Train Loss: 0.2215 | Train Acc: 99.70%\n",
      "Valid Loss: 0.2287 | Valid Acc: 8.08%\n"
     ]
    },
    {
     "name": "stderr",
     "output_type": "stream",
     "text": [
      "Method ALL – Processing subject ALL – Val Accuracy: 7.75% | Best: 9.50%:  64%|████▍  | 321/500 [39:50<22:10,  7.43s/it]"
     ]
    },
    {
     "name": "stdout",
     "output_type": "stream",
     "text": [
      "[Epoch 321/500]\n",
      "Train Loss: 0.2238 | Train Acc: 99.47%\n",
      "Valid Loss: 0.2237 | Valid Acc: 7.75%\n"
     ]
    },
    {
     "name": "stderr",
     "output_type": "stream",
     "text": [
      "Method ALL – Processing subject ALL – Val Accuracy: 7.67% | Best: 9.50%:  64%|████▌  | 322/500 [39:57<22:01,  7.42s/it]"
     ]
    },
    {
     "name": "stdout",
     "output_type": "stream",
     "text": [
      "[Epoch 322/500]\n",
      "Train Loss: 0.2236 | Train Acc: 99.23%\n",
      "Valid Loss: 0.2243 | Valid Acc: 7.67%\n"
     ]
    },
    {
     "name": "stderr",
     "output_type": "stream",
     "text": [
      "Method ALL – Processing subject ALL – Val Accuracy: 8.08% | Best: 9.50%:  65%|████▌  | 323/500 [40:05<21:54,  7.43s/it]"
     ]
    },
    {
     "name": "stdout",
     "output_type": "stream",
     "text": [
      "[Epoch 323/500]\n",
      "Train Loss: 0.2248 | Train Acc: 99.25%\n",
      "Valid Loss: 0.2261 | Valid Acc: 8.08%\n"
     ]
    },
    {
     "name": "stderr",
     "output_type": "stream",
     "text": [
      "Method ALL – Processing subject ALL – Val Accuracy: 7.83% | Best: 9.50%:  65%|████▌  | 324/500 [40:12<21:48,  7.43s/it]"
     ]
    },
    {
     "name": "stdout",
     "output_type": "stream",
     "text": [
      "[Epoch 324/500]\n",
      "Train Loss: 0.2284 | Train Acc: 99.52%\n",
      "Valid Loss: 0.2285 | Valid Acc: 7.83%\n"
     ]
    },
    {
     "name": "stderr",
     "output_type": "stream",
     "text": [
      "Method ALL – Processing subject ALL – Val Accuracy: 7.83% | Best: 9.50%:  65%|████▌  | 325/500 [40:20<21:50,  7.49s/it]"
     ]
    },
    {
     "name": "stdout",
     "output_type": "stream",
     "text": [
      "[Epoch 325/500]\n",
      "Train Loss: 0.2236 | Train Acc: 99.70%\n",
      "Valid Loss: 0.2281 | Valid Acc: 7.83%\n"
     ]
    },
    {
     "name": "stderr",
     "output_type": "stream",
     "text": [
      "Method ALL – Processing subject ALL – Val Accuracy: 8.17% | Best: 9.50%:  65%|████▌  | 326/500 [40:27<21:42,  7.48s/it]"
     ]
    },
    {
     "name": "stdout",
     "output_type": "stream",
     "text": [
      "[Epoch 326/500]\n",
      "Train Loss: 0.2261 | Train Acc: 99.73%\n",
      "Valid Loss: 0.2293 | Valid Acc: 8.17%\n"
     ]
    },
    {
     "name": "stderr",
     "output_type": "stream",
     "text": [
      "Method ALL – Processing subject ALL – Val Accuracy: 8.00% | Best: 9.50%:  65%|████▌  | 327/500 [40:35<21:38,  7.51s/it]"
     ]
    },
    {
     "name": "stdout",
     "output_type": "stream",
     "text": [
      "[Epoch 327/500]\n",
      "Train Loss: 0.2251 | Train Acc: 99.67%\n",
      "Valid Loss: 0.2314 | Valid Acc: 8.00%\n"
     ]
    },
    {
     "name": "stderr",
     "output_type": "stream",
     "text": [
      "Method ALL – Processing subject ALL – Val Accuracy: 7.83% | Best: 9.50%:  66%|████▌  | 328/500 [40:42<21:25,  7.48s/it]"
     ]
    },
    {
     "name": "stdout",
     "output_type": "stream",
     "text": [
      "[Epoch 328/500]\n",
      "Train Loss: 0.2251 | Train Acc: 99.48%\n",
      "Valid Loss: 0.2250 | Valid Acc: 7.83%\n"
     ]
    },
    {
     "name": "stderr",
     "output_type": "stream",
     "text": [
      "Method ALL – Processing subject ALL – Val Accuracy: 7.75% | Best: 9.50%:  66%|████▌  | 329/500 [40:49<21:01,  7.38s/it]"
     ]
    },
    {
     "name": "stdout",
     "output_type": "stream",
     "text": [
      "[Epoch 329/500]\n",
      "Train Loss: 0.2290 | Train Acc: 99.28%\n",
      "Valid Loss: 0.2237 | Valid Acc: 7.75%\n"
     ]
    },
    {
     "name": "stderr",
     "output_type": "stream",
     "text": [
      "Method ALL – Processing subject ALL – Val Accuracy: 8.17% | Best: 9.50%:  66%|████▌  | 330/500 [40:57<21:00,  7.41s/it]"
     ]
    },
    {
     "name": "stdout",
     "output_type": "stream",
     "text": [
      "[Epoch 330/500]\n",
      "Train Loss: 0.2274 | Train Acc: 99.55%\n",
      "Valid Loss: 0.2277 | Valid Acc: 8.17%\n"
     ]
    },
    {
     "name": "stderr",
     "output_type": "stream",
     "text": [
      "Method ALL – Processing subject ALL – Val Accuracy: 8.33% | Best: 9.50%:  66%|████▋  | 331/500 [41:04<21:00,  7.46s/it]"
     ]
    },
    {
     "name": "stdout",
     "output_type": "stream",
     "text": [
      "[Epoch 331/500]\n",
      "Train Loss: 0.2278 | Train Acc: 99.65%\n",
      "Valid Loss: 0.2226 | Valid Acc: 8.33%\n"
     ]
    },
    {
     "name": "stderr",
     "output_type": "stream",
     "text": [
      "Method ALL – Processing subject ALL – Val Accuracy: 7.75% | Best: 9.50%:  66%|████▋  | 332/500 [41:12<20:55,  7.47s/it]"
     ]
    },
    {
     "name": "stdout",
     "output_type": "stream",
     "text": [
      "[Epoch 332/500]\n",
      "Train Loss: 0.2233 | Train Acc: 99.68%\n",
      "Valid Loss: 0.2265 | Valid Acc: 7.75%\n"
     ]
    },
    {
     "name": "stderr",
     "output_type": "stream",
     "text": [
      "Method ALL – Processing subject ALL – Val Accuracy: 7.75% | Best: 9.50%:  67%|████▋  | 333/500 [41:19<20:53,  7.50s/it]"
     ]
    },
    {
     "name": "stdout",
     "output_type": "stream",
     "text": [
      "[Epoch 333/500]\n",
      "Train Loss: 0.2241 | Train Acc: 99.75%\n",
      "Valid Loss: 0.2283 | Valid Acc: 7.75%\n"
     ]
    },
    {
     "name": "stderr",
     "output_type": "stream",
     "text": [
      "Method ALL – Processing subject ALL – Val Accuracy: 7.67% | Best: 9.50%:  67%|████▋  | 334/500 [41:27<20:46,  7.51s/it]"
     ]
    },
    {
     "name": "stdout",
     "output_type": "stream",
     "text": [
      "[Epoch 334/500]\n",
      "Train Loss: 0.2248 | Train Acc: 99.70%\n",
      "Valid Loss: 0.2261 | Valid Acc: 7.67%\n"
     ]
    },
    {
     "name": "stderr",
     "output_type": "stream",
     "text": [
      "Method ALL – Processing subject ALL – Val Accuracy: 8.08% | Best: 9.50%:  67%|████▋  | 335/500 [41:34<20:39,  7.52s/it]"
     ]
    },
    {
     "name": "stdout",
     "output_type": "stream",
     "text": [
      "[Epoch 335/500]\n",
      "Train Loss: 0.2252 | Train Acc: 99.43%\n",
      "Valid Loss: 0.2242 | Valid Acc: 8.08%\n"
     ]
    },
    {
     "name": "stderr",
     "output_type": "stream",
     "text": [
      "Method ALL – Processing subject ALL – Val Accuracy: 7.75% | Best: 9.50%:  67%|████▋  | 336/500 [41:42<20:27,  7.48s/it]"
     ]
    },
    {
     "name": "stdout",
     "output_type": "stream",
     "text": [
      "[Epoch 336/500]\n",
      "Train Loss: 0.2260 | Train Acc: 99.40%\n",
      "Valid Loss: 0.2295 | Valid Acc: 7.75%\n"
     ]
    },
    {
     "name": "stderr",
     "output_type": "stream",
     "text": [
      "Method ALL – Processing subject ALL – Val Accuracy: 7.83% | Best: 9.50%:  67%|████▋  | 337/500 [41:49<20:13,  7.44s/it]"
     ]
    },
    {
     "name": "stdout",
     "output_type": "stream",
     "text": [
      "[Epoch 337/500]\n",
      "Train Loss: 0.2248 | Train Acc: 99.62%\n",
      "Valid Loss: 0.2293 | Valid Acc: 7.83%\n"
     ]
    },
    {
     "name": "stderr",
     "output_type": "stream",
     "text": [
      "Method ALL – Processing subject ALL – Val Accuracy: 7.92% | Best: 9.50%:  68%|████▋  | 338/500 [41:57<20:04,  7.44s/it]"
     ]
    },
    {
     "name": "stdout",
     "output_type": "stream",
     "text": [
      "[Epoch 338/500]\n",
      "Train Loss: 0.2265 | Train Acc: 99.78%\n",
      "Valid Loss: 0.2337 | Valid Acc: 7.92%\n"
     ]
    },
    {
     "name": "stderr",
     "output_type": "stream",
     "text": [
      "Method ALL – Processing subject ALL – Val Accuracy: 8.00% | Best: 9.50%:  68%|████▋  | 339/500 [42:04<20:00,  7.46s/it]"
     ]
    },
    {
     "name": "stdout",
     "output_type": "stream",
     "text": [
      "[Epoch 339/500]\n",
      "Train Loss: 0.2249 | Train Acc: 99.80%\n",
      "Valid Loss: 0.2319 | Valid Acc: 8.00%\n"
     ]
    },
    {
     "name": "stderr",
     "output_type": "stream",
     "text": [
      "Method ALL – Processing subject ALL – Val Accuracy: 7.75% | Best: 9.50%:  68%|████▊  | 340/500 [42:12<19:50,  7.44s/it]"
     ]
    },
    {
     "name": "stdout",
     "output_type": "stream",
     "text": [
      "[Epoch 340/500]\n",
      "Train Loss: 0.2249 | Train Acc: 99.67%\n",
      "Valid Loss: 0.2249 | Valid Acc: 7.75%\n"
     ]
    },
    {
     "name": "stderr",
     "output_type": "stream",
     "text": [
      "Method ALL – Processing subject ALL – Val Accuracy: 8.08% | Best: 9.50%:  68%|████▊  | 341/500 [42:19<19:49,  7.48s/it]"
     ]
    },
    {
     "name": "stdout",
     "output_type": "stream",
     "text": [
      "[Epoch 341/500]\n",
      "Train Loss: 0.2239 | Train Acc: 99.57%\n",
      "Valid Loss: 0.2270 | Valid Acc: 8.08%\n"
     ]
    },
    {
     "name": "stderr",
     "output_type": "stream",
     "text": [
      "Method ALL – Processing subject ALL – Val Accuracy: 7.67% | Best: 9.50%:  68%|████▊  | 342/500 [42:27<19:56,  7.58s/it]"
     ]
    },
    {
     "name": "stdout",
     "output_type": "stream",
     "text": [
      "[Epoch 342/500]\n",
      "Train Loss: 0.2251 | Train Acc: 99.42%\n",
      "Valid Loss: 0.2333 | Valid Acc: 7.67%\n"
     ]
    },
    {
     "name": "stderr",
     "output_type": "stream",
     "text": [
      "Method ALL – Processing subject ALL – Val Accuracy: 7.75% | Best: 9.50%:  69%|████▊  | 343/500 [42:34<19:45,  7.55s/it]"
     ]
    },
    {
     "name": "stdout",
     "output_type": "stream",
     "text": [
      "[Epoch 343/500]\n",
      "Train Loss: 0.2281 | Train Acc: 99.73%\n",
      "Valid Loss: 0.2262 | Valid Acc: 7.75%\n"
     ]
    },
    {
     "name": "stderr",
     "output_type": "stream",
     "text": [
      "Method ALL – Processing subject ALL – Val Accuracy: 8.00% | Best: 9.50%:  69%|████▊  | 344/500 [42:42<19:32,  7.52s/it]"
     ]
    },
    {
     "name": "stdout",
     "output_type": "stream",
     "text": [
      "[Epoch 344/500]\n",
      "Train Loss: 0.2254 | Train Acc: 99.87%\n",
      "Valid Loss: 0.2339 | Valid Acc: 8.00%\n"
     ]
    },
    {
     "name": "stderr",
     "output_type": "stream",
     "text": [
      "Method ALL – Processing subject ALL – Val Accuracy: 8.00% | Best: 9.50%:  69%|████▊  | 345/500 [42:49<19:16,  7.46s/it]"
     ]
    },
    {
     "name": "stdout",
     "output_type": "stream",
     "text": [
      "[Epoch 345/500]\n",
      "Train Loss: 0.2251 | Train Acc: 99.85%\n",
      "Valid Loss: 0.2315 | Valid Acc: 8.00%\n"
     ]
    },
    {
     "name": "stderr",
     "output_type": "stream",
     "text": [
      "Method ALL – Processing subject ALL – Val Accuracy: 7.58% | Best: 9.50%:  69%|████▊  | 346/500 [42:57<19:01,  7.41s/it]"
     ]
    },
    {
     "name": "stdout",
     "output_type": "stream",
     "text": [
      "[Epoch 346/500]\n",
      "Train Loss: 0.2244 | Train Acc: 99.82%\n",
      "Valid Loss: 0.2303 | Valid Acc: 7.58%\n"
     ]
    },
    {
     "name": "stderr",
     "output_type": "stream",
     "text": [
      "Method ALL – Processing subject ALL – Val Accuracy: 8.00% | Best: 9.50%:  69%|████▊  | 347/500 [43:04<18:50,  7.39s/it]"
     ]
    },
    {
     "name": "stdout",
     "output_type": "stream",
     "text": [
      "[Epoch 347/500]\n",
      "Train Loss: 0.2259 | Train Acc: 99.75%\n",
      "Valid Loss: 0.2272 | Valid Acc: 8.00%\n"
     ]
    },
    {
     "name": "stderr",
     "output_type": "stream",
     "text": [
      "Method ALL – Processing subject ALL – Val Accuracy: 7.75% | Best: 9.50%:  70%|████▊  | 348/500 [43:11<18:44,  7.40s/it]"
     ]
    },
    {
     "name": "stdout",
     "output_type": "stream",
     "text": [
      "[Epoch 348/500]\n",
      "Train Loss: 0.2248 | Train Acc: 99.55%\n",
      "Valid Loss: 0.2300 | Valid Acc: 7.75%\n"
     ]
    },
    {
     "name": "stderr",
     "output_type": "stream",
     "text": [
      "Method ALL – Processing subject ALL – Val Accuracy: 7.42% | Best: 9.50%:  70%|████▉  | 349/500 [43:19<18:39,  7.41s/it]"
     ]
    },
    {
     "name": "stdout",
     "output_type": "stream",
     "text": [
      "[Epoch 349/500]\n",
      "Train Loss: 0.2262 | Train Acc: 99.77%\n",
      "Valid Loss: 0.2279 | Valid Acc: 7.42%\n"
     ]
    },
    {
     "name": "stderr",
     "output_type": "stream",
     "text": [
      "Method ALL – Processing subject ALL – Val Accuracy: 7.58% | Best: 9.50%:  70%|████▉  | 350/500 [43:26<18:45,  7.50s/it]"
     ]
    },
    {
     "name": "stdout",
     "output_type": "stream",
     "text": [
      "[Epoch 350/500]\n",
      "Train Loss: 0.2250 | Train Acc: 99.82%\n",
      "Valid Loss: 0.2339 | Valid Acc: 7.58%\n"
     ]
    },
    {
     "name": "stderr",
     "output_type": "stream",
     "text": [
      "Method ALL – Processing subject ALL – Val Accuracy: 7.83% | Best: 9.50%:  70%|████▉  | 351/500 [43:34<18:38,  7.51s/it]"
     ]
    },
    {
     "name": "stdout",
     "output_type": "stream",
     "text": [
      "[Epoch 351/500]\n",
      "Train Loss: 0.2230 | Train Acc: 99.87%\n",
      "Valid Loss: 0.2348 | Valid Acc: 7.83%\n"
     ]
    },
    {
     "name": "stderr",
     "output_type": "stream",
     "text": [
      "Method ALL – Processing subject ALL – Val Accuracy: 8.00% | Best: 9.50%:  70%|████▉  | 352/500 [43:41<18:28,  7.49s/it]"
     ]
    },
    {
     "name": "stdout",
     "output_type": "stream",
     "text": [
      "[Epoch 352/500]\n",
      "Train Loss: 0.2237 | Train Acc: 99.90%\n",
      "Valid Loss: 0.2272 | Valid Acc: 8.00%\n"
     ]
    },
    {
     "name": "stderr",
     "output_type": "stream",
     "text": [
      "Method ALL – Processing subject ALL – Val Accuracy: 7.25% | Best: 9.50%:  71%|████▉  | 353/500 [43:49<18:23,  7.51s/it]"
     ]
    },
    {
     "name": "stdout",
     "output_type": "stream",
     "text": [
      "[Epoch 353/500]\n",
      "Train Loss: 0.2249 | Train Acc: 99.77%\n",
      "Valid Loss: 0.2310 | Valid Acc: 7.25%\n"
     ]
    },
    {
     "name": "stderr",
     "output_type": "stream",
     "text": [
      "Method ALL – Processing subject ALL – Val Accuracy: 7.58% | Best: 9.50%:  71%|████▉  | 354/500 [43:56<18:13,  7.49s/it]"
     ]
    },
    {
     "name": "stdout",
     "output_type": "stream",
     "text": [
      "[Epoch 354/500]\n",
      "Train Loss: 0.2257 | Train Acc: 99.75%\n",
      "Valid Loss: 0.2287 | Valid Acc: 7.58%\n"
     ]
    },
    {
     "name": "stderr",
     "output_type": "stream",
     "text": [
      "Method ALL – Processing subject ALL – Val Accuracy: 8.00% | Best: 9.50%:  71%|████▉  | 355/500 [44:04<18:02,  7.47s/it]"
     ]
    },
    {
     "name": "stdout",
     "output_type": "stream",
     "text": [
      "[Epoch 355/500]\n",
      "Train Loss: 0.2250 | Train Acc: 99.75%\n",
      "Valid Loss: 0.2236 | Valid Acc: 8.00%\n"
     ]
    },
    {
     "name": "stderr",
     "output_type": "stream",
     "text": [
      "Method ALL – Processing subject ALL – Val Accuracy: 7.92% | Best: 9.50%:  71%|████▉  | 356/500 [44:11<17:55,  7.47s/it]"
     ]
    },
    {
     "name": "stdout",
     "output_type": "stream",
     "text": [
      "[Epoch 356/500]\n",
      "Train Loss: 0.2266 | Train Acc: 99.77%\n",
      "Valid Loss: 0.2306 | Valid Acc: 7.92%\n"
     ]
    },
    {
     "name": "stderr",
     "output_type": "stream",
     "text": [
      "Method ALL – Processing subject ALL – Val Accuracy: 8.25% | Best: 9.50%:  71%|████▉  | 357/500 [44:18<17:37,  7.39s/it]"
     ]
    },
    {
     "name": "stdout",
     "output_type": "stream",
     "text": [
      "[Epoch 357/500]\n",
      "Train Loss: 0.2251 | Train Acc: 99.88%\n",
      "Valid Loss: 0.2308 | Valid Acc: 8.25%\n"
     ]
    },
    {
     "name": "stderr",
     "output_type": "stream",
     "text": [
      "Method ALL – Processing subject ALL – Val Accuracy: 8.17% | Best: 9.50%:  72%|█████  | 358/500 [44:26<17:36,  7.44s/it]"
     ]
    },
    {
     "name": "stdout",
     "output_type": "stream",
     "text": [
      "[Epoch 358/500]\n",
      "Train Loss: 0.2260 | Train Acc: 99.85%\n",
      "Valid Loss: 0.2301 | Valid Acc: 8.17%\n"
     ]
    },
    {
     "name": "stderr",
     "output_type": "stream",
     "text": [
      "Method ALL – Processing subject ALL – Val Accuracy: 7.50% | Best: 9.50%:  72%|█████  | 359/500 [44:33<17:29,  7.44s/it]"
     ]
    },
    {
     "name": "stdout",
     "output_type": "stream",
     "text": [
      "[Epoch 359/500]\n",
      "Train Loss: 0.2253 | Train Acc: 99.82%\n",
      "Valid Loss: 0.2283 | Valid Acc: 7.50%\n"
     ]
    },
    {
     "name": "stderr",
     "output_type": "stream",
     "text": [
      "Method ALL – Processing subject ALL – Val Accuracy: 8.17% | Best: 9.50%:  72%|█████  | 360/500 [44:41<17:19,  7.43s/it]"
     ]
    },
    {
     "name": "stdout",
     "output_type": "stream",
     "text": [
      "[Epoch 360/500]\n",
      "Train Loss: 0.2241 | Train Acc: 99.77%\n",
      "Valid Loss: 0.2289 | Valid Acc: 8.17%\n"
     ]
    },
    {
     "name": "stderr",
     "output_type": "stream",
     "text": [
      "Method ALL – Processing subject ALL – Val Accuracy: 8.33% | Best: 9.50%:  72%|█████  | 361/500 [44:48<17:12,  7.43s/it]"
     ]
    },
    {
     "name": "stdout",
     "output_type": "stream",
     "text": [
      "[Epoch 361/500]\n",
      "Train Loss: 0.2225 | Train Acc: 99.78%\n",
      "Valid Loss: 0.2271 | Valid Acc: 8.33%\n"
     ]
    },
    {
     "name": "stderr",
     "output_type": "stream",
     "text": [
      "Method ALL – Processing subject ALL – Val Accuracy: 7.83% | Best: 9.50%:  72%|█████  | 362/500 [44:56<17:08,  7.45s/it]"
     ]
    },
    {
     "name": "stdout",
     "output_type": "stream",
     "text": [
      "[Epoch 362/500]\n",
      "Train Loss: 0.2258 | Train Acc: 99.87%\n",
      "Valid Loss: 0.2320 | Valid Acc: 7.83%\n"
     ]
    },
    {
     "name": "stderr",
     "output_type": "stream",
     "text": [
      "Method ALL – Processing subject ALL – Val Accuracy: 7.42% | Best: 9.50%:  73%|█████  | 363/500 [45:03<16:57,  7.42s/it]"
     ]
    },
    {
     "name": "stdout",
     "output_type": "stream",
     "text": [
      "[Epoch 363/500]\n",
      "Train Loss: 0.2251 | Train Acc: 99.88%\n",
      "Valid Loss: 0.2307 | Valid Acc: 7.42%\n"
     ]
    },
    {
     "name": "stderr",
     "output_type": "stream",
     "text": [
      "Method ALL – Processing subject ALL – Val Accuracy: 8.08% | Best: 9.50%:  73%|█████  | 364/500 [45:10<16:45,  7.39s/it]"
     ]
    },
    {
     "name": "stdout",
     "output_type": "stream",
     "text": [
      "[Epoch 364/500]\n",
      "Train Loss: 0.2237 | Train Acc: 99.90%\n",
      "Valid Loss: 0.2214 | Valid Acc: 8.08%\n"
     ]
    },
    {
     "name": "stderr",
     "output_type": "stream",
     "text": [
      "Method ALL – Processing subject ALL – Val Accuracy: 7.50% | Best: 9.50%:  73%|█████  | 365/500 [45:18<16:43,  7.43s/it]"
     ]
    },
    {
     "name": "stdout",
     "output_type": "stream",
     "text": [
      "[Epoch 365/500]\n",
      "Train Loss: 0.2235 | Train Acc: 99.83%\n",
      "Valid Loss: 0.2329 | Valid Acc: 7.50%\n"
     ]
    },
    {
     "name": "stderr",
     "output_type": "stream",
     "text": [
      "Method ALL – Processing subject ALL – Val Accuracy: 7.50% | Best: 9.50%:  73%|█████  | 366/500 [45:25<16:36,  7.44s/it]"
     ]
    },
    {
     "name": "stdout",
     "output_type": "stream",
     "text": [
      "[Epoch 366/500]\n",
      "Train Loss: 0.2225 | Train Acc: 99.83%\n",
      "Valid Loss: 0.2268 | Valid Acc: 7.50%\n"
     ]
    },
    {
     "name": "stderr",
     "output_type": "stream",
     "text": [
      "Method ALL – Processing subject ALL – Val Accuracy: 8.25% | Best: 9.50%:  73%|█████▏ | 367/500 [45:33<16:27,  7.43s/it]"
     ]
    },
    {
     "name": "stdout",
     "output_type": "stream",
     "text": [
      "[Epoch 367/500]\n",
      "Train Loss: 0.2243 | Train Acc: 99.80%\n",
      "Valid Loss: 0.2302 | Valid Acc: 8.25%\n"
     ]
    },
    {
     "name": "stderr",
     "output_type": "stream",
     "text": [
      "Method ALL – Processing subject ALL – Val Accuracy: 8.00% | Best: 9.50%:  74%|█████▏ | 368/500 [45:40<16:22,  7.44s/it]"
     ]
    },
    {
     "name": "stdout",
     "output_type": "stream",
     "text": [
      "[Epoch 368/500]\n",
      "Train Loss: 0.2256 | Train Acc: 99.85%\n",
      "Valid Loss: 0.2315 | Valid Acc: 8.00%\n"
     ]
    },
    {
     "name": "stderr",
     "output_type": "stream",
     "text": [
      "Method ALL – Processing subject ALL – Val Accuracy: 7.58% | Best: 9.50%:  74%|█████▏ | 369/500 [45:48<16:16,  7.46s/it]"
     ]
    },
    {
     "name": "stdout",
     "output_type": "stream",
     "text": [
      "[Epoch 369/500]\n",
      "Train Loss: 0.2242 | Train Acc: 99.85%\n",
      "Valid Loss: 0.2278 | Valid Acc: 7.58%\n"
     ]
    },
    {
     "name": "stderr",
     "output_type": "stream",
     "text": [
      "Method ALL – Processing subject ALL – Val Accuracy: 7.58% | Best: 9.50%:  74%|█████▏ | 370/500 [45:55<16:06,  7.44s/it]"
     ]
    },
    {
     "name": "stdout",
     "output_type": "stream",
     "text": [
      "[Epoch 370/500]\n",
      "Train Loss: 0.2247 | Train Acc: 99.88%\n",
      "Valid Loss: 0.2352 | Valid Acc: 7.58%\n"
     ]
    },
    {
     "name": "stderr",
     "output_type": "stream",
     "text": [
      "Method ALL – Processing subject ALL – Val Accuracy: 7.42% | Best: 9.50%:  74%|█████▏ | 371/500 [46:03<15:56,  7.42s/it]"
     ]
    },
    {
     "name": "stdout",
     "output_type": "stream",
     "text": [
      "[Epoch 371/500]\n",
      "Train Loss: 0.2242 | Train Acc: 99.93%\n",
      "Valid Loss: 0.2260 | Valid Acc: 7.42%\n"
     ]
    },
    {
     "name": "stderr",
     "output_type": "stream",
     "text": [
      "Method ALL – Processing subject ALL – Val Accuracy: 7.25% | Best: 9.50%:  74%|█████▏ | 372/500 [46:10<15:51,  7.43s/it]"
     ]
    },
    {
     "name": "stdout",
     "output_type": "stream",
     "text": [
      "[Epoch 372/500]\n",
      "Train Loss: 0.2247 | Train Acc: 99.93%\n",
      "Valid Loss: 0.2285 | Valid Acc: 7.25%\n"
     ]
    },
    {
     "name": "stderr",
     "output_type": "stream",
     "text": [
      "Method ALL – Processing subject ALL – Val Accuracy: 8.00% | Best: 9.50%:  75%|█████▏ | 373/500 [46:18<15:47,  7.46s/it]"
     ]
    },
    {
     "name": "stdout",
     "output_type": "stream",
     "text": [
      "[Epoch 373/500]\n",
      "Train Loss: 0.2246 | Train Acc: 99.85%\n",
      "Valid Loss: 0.2263 | Valid Acc: 8.00%\n"
     ]
    },
    {
     "name": "stderr",
     "output_type": "stream",
     "text": [
      "Method ALL – Processing subject ALL – Val Accuracy: 7.83% | Best: 9.50%:  75%|█████▏ | 374/500 [46:25<15:43,  7.49s/it]"
     ]
    },
    {
     "name": "stdout",
     "output_type": "stream",
     "text": [
      "[Epoch 374/500]\n",
      "Train Loss: 0.2216 | Train Acc: 99.77%\n",
      "Valid Loss: 0.2238 | Valid Acc: 7.83%\n"
     ]
    },
    {
     "name": "stderr",
     "output_type": "stream",
     "text": [
      "Method ALL – Processing subject ALL – Val Accuracy: 7.67% | Best: 9.50%:  75%|█████▎ | 375/500 [46:33<15:33,  7.47s/it]"
     ]
    },
    {
     "name": "stdout",
     "output_type": "stream",
     "text": [
      "[Epoch 375/500]\n",
      "Train Loss: 0.2242 | Train Acc: 99.85%\n",
      "Valid Loss: 0.2297 | Valid Acc: 7.67%\n"
     ]
    },
    {
     "name": "stderr",
     "output_type": "stream",
     "text": [
      "Method ALL – Processing subject ALL – Val Accuracy: 7.67% | Best: 9.50%:  75%|█████▎ | 376/500 [46:40<15:25,  7.46s/it]"
     ]
    },
    {
     "name": "stdout",
     "output_type": "stream",
     "text": [
      "[Epoch 376/500]\n",
      "Train Loss: 0.2265 | Train Acc: 99.93%\n",
      "Valid Loss: 0.2267 | Valid Acc: 7.67%\n"
     ]
    },
    {
     "name": "stderr",
     "output_type": "stream",
     "text": [
      "Method ALL – Processing subject ALL – Val Accuracy: 7.75% | Best: 9.50%:  75%|█████▎ | 377/500 [46:48<15:20,  7.48s/it]"
     ]
    },
    {
     "name": "stdout",
     "output_type": "stream",
     "text": [
      "[Epoch 377/500]\n",
      "Train Loss: 0.2230 | Train Acc: 99.93%\n",
      "Valid Loss: 0.2343 | Valid Acc: 7.75%\n"
     ]
    },
    {
     "name": "stderr",
     "output_type": "stream",
     "text": [
      "Method ALL – Processing subject ALL – Val Accuracy: 7.00% | Best: 9.50%:  76%|█████▎ | 378/500 [46:55<15:14,  7.50s/it]"
     ]
    },
    {
     "name": "stdout",
     "output_type": "stream",
     "text": [
      "[Epoch 378/500]\n",
      "Train Loss: 0.2252 | Train Acc: 99.87%\n",
      "Valid Loss: 0.2265 | Valid Acc: 7.00%\n"
     ]
    },
    {
     "name": "stderr",
     "output_type": "stream",
     "text": [
      "Method ALL – Processing subject ALL – Val Accuracy: 7.17% | Best: 9.50%:  76%|█████▎ | 379/500 [47:03<15:10,  7.52s/it]"
     ]
    },
    {
     "name": "stdout",
     "output_type": "stream",
     "text": [
      "[Epoch 379/500]\n",
      "Train Loss: 0.2252 | Train Acc: 99.88%\n",
      "Valid Loss: 0.2340 | Valid Acc: 7.17%\n"
     ]
    },
    {
     "name": "stderr",
     "output_type": "stream",
     "text": [
      "Method ALL – Processing subject ALL – Val Accuracy: 7.42% | Best: 9.50%:  76%|█████▎ | 380/500 [47:10<14:54,  7.46s/it]"
     ]
    },
    {
     "name": "stdout",
     "output_type": "stream",
     "text": [
      "[Epoch 380/500]\n",
      "Train Loss: 0.2245 | Train Acc: 99.88%\n",
      "Valid Loss: 0.2342 | Valid Acc: 7.42%\n"
     ]
    },
    {
     "name": "stderr",
     "output_type": "stream",
     "text": [
      "Method ALL – Processing subject ALL – Val Accuracy: 7.50% | Best: 9.50%:  76%|█████▎ | 381/500 [47:17<14:47,  7.46s/it]"
     ]
    },
    {
     "name": "stdout",
     "output_type": "stream",
     "text": [
      "[Epoch 381/500]\n",
      "Train Loss: 0.2256 | Train Acc: 99.90%\n",
      "Valid Loss: 0.2297 | Valid Acc: 7.50%\n"
     ]
    },
    {
     "name": "stderr",
     "output_type": "stream",
     "text": [
      "Method ALL – Processing subject ALL – Val Accuracy: 7.25% | Best: 9.50%:  76%|█████▎ | 382/500 [47:25<14:43,  7.49s/it]"
     ]
    },
    {
     "name": "stdout",
     "output_type": "stream",
     "text": [
      "[Epoch 382/500]\n",
      "Train Loss: 0.2223 | Train Acc: 99.85%\n",
      "Valid Loss: 0.2294 | Valid Acc: 7.25%\n"
     ]
    },
    {
     "name": "stderr",
     "output_type": "stream",
     "text": [
      "Method ALL – Processing subject ALL – Val Accuracy: 7.42% | Best: 9.50%:  77%|█████▎ | 383/500 [47:33<14:39,  7.52s/it]"
     ]
    },
    {
     "name": "stdout",
     "output_type": "stream",
     "text": [
      "[Epoch 383/500]\n",
      "Train Loss: 0.2236 | Train Acc: 99.95%\n",
      "Valid Loss: 0.2277 | Valid Acc: 7.42%\n"
     ]
    },
    {
     "name": "stderr",
     "output_type": "stream",
     "text": [
      "Method ALL – Processing subject ALL – Val Accuracy: 7.17% | Best: 9.50%:  77%|█████▍ | 384/500 [47:40<14:25,  7.46s/it]"
     ]
    },
    {
     "name": "stdout",
     "output_type": "stream",
     "text": [
      "[Epoch 384/500]\n",
      "Train Loss: 0.2242 | Train Acc: 99.97%\n",
      "Valid Loss: 0.2332 | Valid Acc: 7.17%\n"
     ]
    },
    {
     "name": "stderr",
     "output_type": "stream",
     "text": [
      "Method ALL – Processing subject ALL – Val Accuracy: 7.50% | Best: 9.50%:  77%|█████▍ | 385/500 [47:47<14:14,  7.43s/it]"
     ]
    },
    {
     "name": "stdout",
     "output_type": "stream",
     "text": [
      "[Epoch 385/500]\n",
      "Train Loss: 0.2266 | Train Acc: 99.93%\n",
      "Valid Loss: 0.2275 | Valid Acc: 7.50%\n"
     ]
    },
    {
     "name": "stderr",
     "output_type": "stream",
     "text": [
      "Method ALL – Processing subject ALL – Val Accuracy: 8.08% | Best: 9.50%:  77%|█████▍ | 386/500 [47:55<14:05,  7.42s/it]"
     ]
    },
    {
     "name": "stdout",
     "output_type": "stream",
     "text": [
      "[Epoch 386/500]\n",
      "Train Loss: 0.2247 | Train Acc: 99.87%\n",
      "Valid Loss: 0.2319 | Valid Acc: 8.08%\n"
     ]
    },
    {
     "name": "stderr",
     "output_type": "stream",
     "text": [
      "Method ALL – Processing subject ALL – Val Accuracy: 7.42% | Best: 9.50%:  77%|█████▍ | 387/500 [48:02<13:54,  7.39s/it]"
     ]
    },
    {
     "name": "stdout",
     "output_type": "stream",
     "text": [
      "[Epoch 387/500]\n",
      "Train Loss: 0.2253 | Train Acc: 99.87%\n",
      "Valid Loss: 0.2261 | Valid Acc: 7.42%\n"
     ]
    },
    {
     "name": "stderr",
     "output_type": "stream",
     "text": [
      "Method ALL – Processing subject ALL – Val Accuracy: 7.75% | Best: 9.50%:  78%|█████▍ | 388/500 [48:09<13:43,  7.36s/it]"
     ]
    },
    {
     "name": "stdout",
     "output_type": "stream",
     "text": [
      "[Epoch 388/500]\n",
      "Train Loss: 0.2243 | Train Acc: 99.88%\n",
      "Valid Loss: 0.2385 | Valid Acc: 7.75%\n"
     ]
    },
    {
     "name": "stderr",
     "output_type": "stream",
     "text": [
      "Method ALL – Processing subject ALL – Val Accuracy: 7.58% | Best: 9.50%:  78%|█████▍ | 389/500 [48:16<13:27,  7.28s/it]"
     ]
    },
    {
     "name": "stdout",
     "output_type": "stream",
     "text": [
      "[Epoch 389/500]\n",
      "Train Loss: 0.2232 | Train Acc: 99.93%\n",
      "Valid Loss: 0.2352 | Valid Acc: 7.58%\n"
     ]
    },
    {
     "name": "stderr",
     "output_type": "stream",
     "text": [
      "Method ALL – Processing subject ALL – Val Accuracy: 8.08% | Best: 9.50%:  78%|█████▍ | 390/500 [48:24<13:43,  7.49s/it]"
     ]
    },
    {
     "name": "stdout",
     "output_type": "stream",
     "text": [
      "[Epoch 390/500]\n",
      "Train Loss: 0.2277 | Train Acc: 99.93%\n",
      "Valid Loss: 0.2206 | Valid Acc: 8.08%\n"
     ]
    },
    {
     "name": "stderr",
     "output_type": "stream",
     "text": [
      "Method ALL – Processing subject ALL – Val Accuracy: 7.75% | Best: 9.50%:  78%|█████▍ | 391/500 [48:32<13:35,  7.48s/it]"
     ]
    },
    {
     "name": "stdout",
     "output_type": "stream",
     "text": [
      "[Epoch 391/500]\n",
      "Train Loss: 0.2248 | Train Acc: 99.92%\n",
      "Valid Loss: 0.2288 | Valid Acc: 7.75%\n"
     ]
    },
    {
     "name": "stderr",
     "output_type": "stream",
     "text": [
      "Method ALL – Processing subject ALL – Val Accuracy: 7.75% | Best: 9.50%:  78%|█████▍ | 392/500 [48:39<13:22,  7.43s/it]"
     ]
    },
    {
     "name": "stdout",
     "output_type": "stream",
     "text": [
      "[Epoch 392/500]\n",
      "Train Loss: 0.2236 | Train Acc: 99.95%\n",
      "Valid Loss: 0.2322 | Valid Acc: 7.75%\n"
     ]
    },
    {
     "name": "stderr",
     "output_type": "stream",
     "text": [
      "Method ALL – Processing subject ALL – Val Accuracy: 7.42% | Best: 9.50%:  79%|█████▌ | 393/500 [48:46<13:14,  7.42s/it]"
     ]
    },
    {
     "name": "stdout",
     "output_type": "stream",
     "text": [
      "[Epoch 393/500]\n",
      "Train Loss: 0.2235 | Train Acc: 99.92%\n",
      "Valid Loss: 0.2288 | Valid Acc: 7.42%\n"
     ]
    },
    {
     "name": "stderr",
     "output_type": "stream",
     "text": [
      "Method ALL – Processing subject ALL – Val Accuracy: 7.50% | Best: 9.50%:  79%|█████▌ | 394/500 [48:54<12:58,  7.35s/it]"
     ]
    },
    {
     "name": "stdout",
     "output_type": "stream",
     "text": [
      "[Epoch 394/500]\n",
      "Train Loss: 0.2273 | Train Acc: 99.95%\n",
      "Valid Loss: 0.2275 | Valid Acc: 7.50%\n"
     ]
    },
    {
     "name": "stderr",
     "output_type": "stream",
     "text": [
      "Method ALL – Processing subject ALL – Val Accuracy: 7.58% | Best: 9.50%:  79%|█████▌ | 395/500 [49:01<12:46,  7.30s/it]"
     ]
    },
    {
     "name": "stdout",
     "output_type": "stream",
     "text": [
      "[Epoch 395/500]\n",
      "Train Loss: 0.2231 | Train Acc: 99.95%\n",
      "Valid Loss: 0.2314 | Valid Acc: 7.58%\n"
     ]
    },
    {
     "name": "stderr",
     "output_type": "stream",
     "text": [
      "Method ALL – Processing subject ALL – Val Accuracy: 7.42% | Best: 9.50%:  79%|█████▌ | 396/500 [49:08<12:39,  7.30s/it]"
     ]
    },
    {
     "name": "stdout",
     "output_type": "stream",
     "text": [
      "[Epoch 396/500]\n",
      "Train Loss: 0.2264 | Train Acc: 99.97%\n",
      "Valid Loss: 0.2296 | Valid Acc: 7.42%\n"
     ]
    },
    {
     "name": "stderr",
     "output_type": "stream",
     "text": [
      "Method ALL – Processing subject ALL – Val Accuracy: 7.50% | Best: 9.50%:  79%|█████▌ | 397/500 [49:16<12:35,  7.33s/it]"
     ]
    },
    {
     "name": "stdout",
     "output_type": "stream",
     "text": [
      "[Epoch 397/500]\n",
      "Train Loss: 0.2253 | Train Acc: 99.92%\n",
      "Valid Loss: 0.2293 | Valid Acc: 7.50%\n"
     ]
    },
    {
     "name": "stderr",
     "output_type": "stream",
     "text": [
      "Method ALL – Processing subject ALL – Val Accuracy: 7.67% | Best: 9.50%:  80%|█████▌ | 398/500 [49:23<12:39,  7.45s/it]"
     ]
    },
    {
     "name": "stdout",
     "output_type": "stream",
     "text": [
      "[Epoch 398/500]\n",
      "Train Loss: 0.2266 | Train Acc: 99.98%\n",
      "Valid Loss: 0.2297 | Valid Acc: 7.67%\n"
     ]
    },
    {
     "name": "stderr",
     "output_type": "stream",
     "text": [
      "Method ALL – Processing subject ALL – Val Accuracy: 7.67% | Best: 9.50%:  80%|█████▌ | 399/500 [49:31<12:32,  7.45s/it]"
     ]
    },
    {
     "name": "stdout",
     "output_type": "stream",
     "text": [
      "[Epoch 399/500]\n",
      "Train Loss: 0.2247 | Train Acc: 99.95%\n",
      "Valid Loss: 0.2328 | Valid Acc: 7.67%\n"
     ]
    },
    {
     "name": "stderr",
     "output_type": "stream",
     "text": [
      "Method ALL – Processing subject ALL – Val Accuracy: 7.83% | Best: 9.50%:  80%|█████▌ | 400/500 [49:38<12:18,  7.38s/it]"
     ]
    },
    {
     "name": "stdout",
     "output_type": "stream",
     "text": [
      "[Epoch 400/500]\n",
      "Train Loss: 0.2250 | Train Acc: 99.90%\n",
      "Valid Loss: 0.2291 | Valid Acc: 7.83%\n"
     ]
    },
    {
     "name": "stderr",
     "output_type": "stream",
     "text": [
      "Method ALL – Processing subject ALL – Val Accuracy: 7.75% | Best: 9.50%:  80%|█████▌ | 401/500 [49:45<12:08,  7.36s/it]"
     ]
    },
    {
     "name": "stdout",
     "output_type": "stream",
     "text": [
      "[Epoch 401/500]\n",
      "Train Loss: 0.2242 | Train Acc: 99.97%\n",
      "Valid Loss: 0.2276 | Valid Acc: 7.75%\n"
     ]
    },
    {
     "name": "stderr",
     "output_type": "stream",
     "text": [
      "Method ALL – Processing subject ALL – Val Accuracy: 7.83% | Best: 9.50%:  80%|█████▋ | 402/500 [49:53<11:59,  7.34s/it]"
     ]
    },
    {
     "name": "stdout",
     "output_type": "stream",
     "text": [
      "[Epoch 402/500]\n",
      "Train Loss: 0.2258 | Train Acc: 99.95%\n",
      "Valid Loss: 0.2300 | Valid Acc: 7.83%\n"
     ]
    },
    {
     "name": "stderr",
     "output_type": "stream",
     "text": [
      "Method ALL – Processing subject ALL – Val Accuracy: 7.42% | Best: 9.50%:  81%|█████▋ | 403/500 [50:00<11:56,  7.39s/it]"
     ]
    },
    {
     "name": "stdout",
     "output_type": "stream",
     "text": [
      "[Epoch 403/500]\n",
      "Train Loss: 0.2251 | Train Acc: 99.98%\n",
      "Valid Loss: 0.2277 | Valid Acc: 7.42%\n"
     ]
    },
    {
     "name": "stderr",
     "output_type": "stream",
     "text": [
      "Method ALL – Processing subject ALL – Val Accuracy: 7.17% | Best: 9.50%:  81%|█████▋ | 404/500 [50:07<11:42,  7.32s/it]"
     ]
    },
    {
     "name": "stdout",
     "output_type": "stream",
     "text": [
      "[Epoch 404/500]\n",
      "Train Loss: 0.2231 | Train Acc: 99.95%\n",
      "Valid Loss: 0.2306 | Valid Acc: 7.17%\n"
     ]
    },
    {
     "name": "stderr",
     "output_type": "stream",
     "text": [
      "Method ALL – Processing subject ALL – Val Accuracy: 7.08% | Best: 9.50%:  81%|█████▋ | 405/500 [50:14<11:34,  7.31s/it]"
     ]
    },
    {
     "name": "stdout",
     "output_type": "stream",
     "text": [
      "[Epoch 405/500]\n",
      "Train Loss: 0.2262 | Train Acc: 99.97%\n",
      "Valid Loss: 0.2289 | Valid Acc: 7.08%\n"
     ]
    },
    {
     "name": "stderr",
     "output_type": "stream",
     "text": [
      "Method ALL – Processing subject ALL – Val Accuracy: 7.50% | Best: 9.50%:  81%|█████▋ | 406/500 [50:22<11:32,  7.36s/it]"
     ]
    },
    {
     "name": "stdout",
     "output_type": "stream",
     "text": [
      "[Epoch 406/500]\n",
      "Train Loss: 0.2236 | Train Acc: 99.95%\n",
      "Valid Loss: 0.2293 | Valid Acc: 7.50%\n"
     ]
    },
    {
     "name": "stderr",
     "output_type": "stream",
     "text": [
      "Method ALL – Processing subject ALL – Val Accuracy: 7.42% | Best: 9.50%:  81%|█████▋ | 407/500 [50:29<11:23,  7.35s/it]"
     ]
    },
    {
     "name": "stdout",
     "output_type": "stream",
     "text": [
      "[Epoch 407/500]\n",
      "Train Loss: 0.2261 | Train Acc: 99.93%\n",
      "Valid Loss: 0.2339 | Valid Acc: 7.42%\n"
     ]
    },
    {
     "name": "stderr",
     "output_type": "stream",
     "text": [
      "Method ALL – Processing subject ALL – Val Accuracy: 7.00% | Best: 9.50%:  82%|█████▋ | 408/500 [50:37<11:15,  7.34s/it]"
     ]
    },
    {
     "name": "stdout",
     "output_type": "stream",
     "text": [
      "[Epoch 408/500]\n",
      "Train Loss: 0.2240 | Train Acc: 99.98%\n",
      "Valid Loss: 0.2344 | Valid Acc: 7.00%\n"
     ]
    },
    {
     "name": "stderr",
     "output_type": "stream",
     "text": [
      "Method ALL – Processing subject ALL – Val Accuracy: 7.33% | Best: 9.50%:  82%|█████▋ | 409/500 [50:44<11:08,  7.35s/it]"
     ]
    },
    {
     "name": "stdout",
     "output_type": "stream",
     "text": [
      "[Epoch 409/500]\n",
      "Train Loss: 0.2231 | Train Acc: 99.98%\n",
      "Valid Loss: 0.2272 | Valid Acc: 7.33%\n"
     ]
    },
    {
     "name": "stderr",
     "output_type": "stream",
     "text": [
      "Method ALL – Processing subject ALL – Val Accuracy: 7.25% | Best: 9.50%:  82%|█████▋ | 410/500 [50:50<10:33,  7.04s/it]"
     ]
    },
    {
     "name": "stdout",
     "output_type": "stream",
     "text": [
      "[Epoch 410/500]\n",
      "Train Loss: 0.2216 | Train Acc: 100.00%\n",
      "Valid Loss: 0.2266 | Valid Acc: 7.25%\n"
     ]
    },
    {
     "name": "stderr",
     "output_type": "stream",
     "text": [
      "Method ALL – Processing subject ALL – Val Accuracy: 7.67% | Best: 9.50%:  82%|█████▊ | 411/500 [50:58<10:31,  7.09s/it]"
     ]
    },
    {
     "name": "stdout",
     "output_type": "stream",
     "text": [
      "[Epoch 411/500]\n",
      "Train Loss: 0.2233 | Train Acc: 99.95%\n",
      "Valid Loss: 0.2316 | Valid Acc: 7.67%\n"
     ]
    },
    {
     "name": "stderr",
     "output_type": "stream",
     "text": [
      "Method ALL – Processing subject ALL – Val Accuracy: 7.58% | Best: 9.50%:  82%|█████▊ | 412/500 [51:05<10:30,  7.17s/it]"
     ]
    },
    {
     "name": "stdout",
     "output_type": "stream",
     "text": [
      "[Epoch 412/500]\n",
      "Train Loss: 0.2248 | Train Acc: 99.93%\n",
      "Valid Loss: 0.2266 | Valid Acc: 7.58%\n"
     ]
    },
    {
     "name": "stderr",
     "output_type": "stream",
     "text": [
      "Method ALL – Processing subject ALL – Val Accuracy: 7.83% | Best: 9.50%:  83%|█████▊ | 413/500 [51:12<10:26,  7.21s/it]"
     ]
    },
    {
     "name": "stdout",
     "output_type": "stream",
     "text": [
      "[Epoch 413/500]\n",
      "Train Loss: 0.2241 | Train Acc: 100.00%\n",
      "Valid Loss: 0.2218 | Valid Acc: 7.83%\n"
     ]
    },
    {
     "name": "stderr",
     "output_type": "stream",
     "text": [
      "Method ALL – Processing subject ALL – Val Accuracy: 7.50% | Best: 9.50%:  83%|█████▊ | 414/500 [51:20<10:24,  7.26s/it]"
     ]
    },
    {
     "name": "stdout",
     "output_type": "stream",
     "text": [
      "[Epoch 414/500]\n",
      "Train Loss: 0.2257 | Train Acc: 99.93%\n",
      "Valid Loss: 0.2329 | Valid Acc: 7.50%\n"
     ]
    },
    {
     "name": "stderr",
     "output_type": "stream",
     "text": [
      "Method ALL – Processing subject ALL – Val Accuracy: 7.58% | Best: 9.50%:  83%|█████▊ | 415/500 [51:27<10:21,  7.32s/it]"
     ]
    },
    {
     "name": "stdout",
     "output_type": "stream",
     "text": [
      "[Epoch 415/500]\n",
      "Train Loss: 0.2259 | Train Acc: 100.00%\n",
      "Valid Loss: 0.2293 | Valid Acc: 7.58%\n"
     ]
    },
    {
     "name": "stderr",
     "output_type": "stream",
     "text": [
      "Method ALL – Processing subject ALL – Val Accuracy: 7.92% | Best: 9.50%:  83%|█████▊ | 416/500 [51:34<10:14,  7.32s/it]"
     ]
    },
    {
     "name": "stdout",
     "output_type": "stream",
     "text": [
      "[Epoch 416/500]\n",
      "Train Loss: 0.2244 | Train Acc: 99.98%\n",
      "Valid Loss: 0.2266 | Valid Acc: 7.92%\n"
     ]
    },
    {
     "name": "stderr",
     "output_type": "stream",
     "text": [
      "Method ALL – Processing subject ALL – Val Accuracy: 7.25% | Best: 9.50%:  83%|█████▊ | 417/500 [51:42<10:06,  7.31s/it]"
     ]
    },
    {
     "name": "stdout",
     "output_type": "stream",
     "text": [
      "[Epoch 417/500]\n",
      "Train Loss: 0.2242 | Train Acc: 99.97%\n",
      "Valid Loss: 0.2302 | Valid Acc: 7.25%\n"
     ]
    },
    {
     "name": "stderr",
     "output_type": "stream",
     "text": [
      "Method ALL – Processing subject ALL – Val Accuracy: 7.33% | Best: 9.50%:  84%|█████▊ | 418/500 [51:49<09:58,  7.30s/it]"
     ]
    },
    {
     "name": "stdout",
     "output_type": "stream",
     "text": [
      "[Epoch 418/500]\n",
      "Train Loss: 0.2236 | Train Acc: 99.98%\n",
      "Valid Loss: 0.2269 | Valid Acc: 7.33%\n"
     ]
    },
    {
     "name": "stderr",
     "output_type": "stream",
     "text": [
      "Method ALL – Processing subject ALL – Val Accuracy: 7.08% | Best: 9.50%:  84%|█████▊ | 419/500 [51:56<09:51,  7.31s/it]"
     ]
    },
    {
     "name": "stdout",
     "output_type": "stream",
     "text": [
      "[Epoch 419/500]\n",
      "Train Loss: 0.2243 | Train Acc: 99.97%\n",
      "Valid Loss: 0.2307 | Valid Acc: 7.08%\n"
     ]
    },
    {
     "name": "stderr",
     "output_type": "stream",
     "text": [
      "Method ALL – Processing subject ALL – Val Accuracy: 7.25% | Best: 9.50%:  84%|█████▉ | 420/500 [52:04<09:45,  7.31s/it]"
     ]
    },
    {
     "name": "stdout",
     "output_type": "stream",
     "text": [
      "[Epoch 420/500]\n",
      "Train Loss: 0.2247 | Train Acc: 100.00%\n",
      "Valid Loss: 0.2314 | Valid Acc: 7.25%\n"
     ]
    },
    {
     "name": "stderr",
     "output_type": "stream",
     "text": [
      "Method ALL – Processing subject ALL – Val Accuracy: 8.08% | Best: 9.50%:  84%|█████▉ | 421/500 [52:11<09:35,  7.29s/it]"
     ]
    },
    {
     "name": "stdout",
     "output_type": "stream",
     "text": [
      "[Epoch 421/500]\n",
      "Train Loss: 0.2240 | Train Acc: 99.98%\n",
      "Valid Loss: 0.2280 | Valid Acc: 8.08%\n"
     ]
    },
    {
     "name": "stderr",
     "output_type": "stream",
     "text": [
      "Method ALL – Processing subject ALL – Val Accuracy: 7.42% | Best: 9.50%:  84%|█████▉ | 422/500 [52:18<09:28,  7.29s/it]"
     ]
    },
    {
     "name": "stdout",
     "output_type": "stream",
     "text": [
      "[Epoch 422/500]\n",
      "Train Loss: 0.2241 | Train Acc: 99.98%\n",
      "Valid Loss: 0.2305 | Valid Acc: 7.42%\n"
     ]
    },
    {
     "name": "stderr",
     "output_type": "stream",
     "text": [
      "Method ALL – Processing subject ALL – Val Accuracy: 7.42% | Best: 9.50%:  85%|█████▉ | 423/500 [52:26<09:32,  7.43s/it]"
     ]
    },
    {
     "name": "stdout",
     "output_type": "stream",
     "text": [
      "[Epoch 423/500]\n",
      "Train Loss: 0.2220 | Train Acc: 99.98%\n",
      "Valid Loss: 0.2295 | Valid Acc: 7.42%\n"
     ]
    },
    {
     "name": "stderr",
     "output_type": "stream",
     "text": [
      "Method ALL – Processing subject ALL – Val Accuracy: 7.58% | Best: 9.50%:  85%|█████▉ | 424/500 [52:33<09:11,  7.25s/it]"
     ]
    },
    {
     "name": "stdout",
     "output_type": "stream",
     "text": [
      "[Epoch 424/500]\n",
      "Train Loss: 0.2239 | Train Acc: 99.95%\n",
      "Valid Loss: 0.2263 | Valid Acc: 7.58%\n"
     ]
    },
    {
     "name": "stderr",
     "output_type": "stream",
     "text": [
      "Method ALL – Processing subject ALL – Val Accuracy: 7.33% | Best: 9.50%:  85%|█████▉ | 425/500 [52:40<09:00,  7.20s/it]"
     ]
    },
    {
     "name": "stdout",
     "output_type": "stream",
     "text": [
      "[Epoch 425/500]\n",
      "Train Loss: 0.2274 | Train Acc: 99.98%\n",
      "Valid Loss: 0.2251 | Valid Acc: 7.33%\n"
     ]
    },
    {
     "name": "stderr",
     "output_type": "stream",
     "text": [
      "Method ALL – Processing subject ALL – Val Accuracy: 7.25% | Best: 9.50%:  85%|█████▉ | 426/500 [52:47<09:01,  7.31s/it]"
     ]
    },
    {
     "name": "stdout",
     "output_type": "stream",
     "text": [
      "[Epoch 426/500]\n",
      "Train Loss: 0.2225 | Train Acc: 99.97%\n",
      "Valid Loss: 0.2289 | Valid Acc: 7.25%\n"
     ]
    },
    {
     "name": "stderr",
     "output_type": "stream",
     "text": [
      "Method ALL – Processing subject ALL – Val Accuracy: 7.42% | Best: 9.50%:  85%|█████▉ | 427/500 [52:55<08:57,  7.36s/it]"
     ]
    },
    {
     "name": "stdout",
     "output_type": "stream",
     "text": [
      "[Epoch 427/500]\n",
      "Train Loss: 0.2265 | Train Acc: 100.00%\n",
      "Valid Loss: 0.2234 | Valid Acc: 7.42%\n"
     ]
    },
    {
     "name": "stderr",
     "output_type": "stream",
     "text": [
      "Method ALL – Processing subject ALL – Val Accuracy: 7.25% | Best: 9.50%:  86%|█████▉ | 428/500 [53:02<08:48,  7.34s/it]"
     ]
    },
    {
     "name": "stdout",
     "output_type": "stream",
     "text": [
      "[Epoch 428/500]\n",
      "Train Loss: 0.2252 | Train Acc: 99.98%\n",
      "Valid Loss: 0.2323 | Valid Acc: 7.25%\n"
     ]
    },
    {
     "name": "stderr",
     "output_type": "stream",
     "text": [
      "Method ALL – Processing subject ALL – Val Accuracy: 7.00% | Best: 9.50%:  86%|██████ | 429/500 [53:09<08:40,  7.33s/it]"
     ]
    },
    {
     "name": "stdout",
     "output_type": "stream",
     "text": [
      "[Epoch 429/500]\n",
      "Train Loss: 0.2268 | Train Acc: 99.97%\n",
      "Valid Loss: 0.2243 | Valid Acc: 7.00%\n"
     ]
    },
    {
     "name": "stderr",
     "output_type": "stream",
     "text": [
      "Method ALL – Processing subject ALL – Val Accuracy: 7.33% | Best: 9.50%:  86%|██████ | 430/500 [53:17<08:36,  7.37s/it]"
     ]
    },
    {
     "name": "stdout",
     "output_type": "stream",
     "text": [
      "[Epoch 430/500]\n",
      "Train Loss: 0.2250 | Train Acc: 100.00%\n",
      "Valid Loss: 0.2266 | Valid Acc: 7.33%\n"
     ]
    },
    {
     "name": "stderr",
     "output_type": "stream",
     "text": [
      "Method ALL – Processing subject ALL – Val Accuracy: 6.92% | Best: 9.50%:  86%|██████ | 431/500 [53:25<08:39,  7.53s/it]"
     ]
    },
    {
     "name": "stdout",
     "output_type": "stream",
     "text": [
      "[Epoch 431/500]\n",
      "Train Loss: 0.2238 | Train Acc: 100.00%\n",
      "Valid Loss: 0.2286 | Valid Acc: 6.92%\n"
     ]
    },
    {
     "name": "stderr",
     "output_type": "stream",
     "text": [
      "Method ALL – Processing subject ALL – Val Accuracy: 7.25% | Best: 9.50%:  86%|██████ | 432/500 [53:32<08:28,  7.48s/it]"
     ]
    },
    {
     "name": "stdout",
     "output_type": "stream",
     "text": [
      "[Epoch 432/500]\n",
      "Train Loss: 0.2267 | Train Acc: 100.00%\n",
      "Valid Loss: 0.2244 | Valid Acc: 7.25%\n"
     ]
    },
    {
     "name": "stderr",
     "output_type": "stream",
     "text": [
      "Method ALL – Processing subject ALL – Val Accuracy: 7.17% | Best: 9.50%:  87%|██████ | 433/500 [53:39<08:17,  7.43s/it]"
     ]
    },
    {
     "name": "stdout",
     "output_type": "stream",
     "text": [
      "[Epoch 433/500]\n",
      "Train Loss: 0.2236 | Train Acc: 99.98%\n",
      "Valid Loss: 0.2300 | Valid Acc: 7.17%\n"
     ]
    },
    {
     "name": "stderr",
     "output_type": "stream",
     "text": [
      "Method ALL – Processing subject ALL – Val Accuracy: 7.25% | Best: 9.50%:  87%|██████ | 434/500 [53:47<08:11,  7.44s/it]"
     ]
    },
    {
     "name": "stdout",
     "output_type": "stream",
     "text": [
      "[Epoch 434/500]\n",
      "Train Loss: 0.2244 | Train Acc: 100.00%\n",
      "Valid Loss: 0.2208 | Valid Acc: 7.25%\n"
     ]
    },
    {
     "name": "stderr",
     "output_type": "stream",
     "text": [
      "Method ALL – Processing subject ALL – Val Accuracy: 7.17% | Best: 9.50%:  87%|██████ | 435/500 [53:55<08:08,  7.52s/it]"
     ]
    },
    {
     "name": "stdout",
     "output_type": "stream",
     "text": [
      "[Epoch 435/500]\n",
      "Train Loss: 0.2246 | Train Acc: 100.00%\n",
      "Valid Loss: 0.2287 | Valid Acc: 7.17%\n"
     ]
    },
    {
     "name": "stderr",
     "output_type": "stream",
     "text": [
      "Method ALL – Processing subject ALL – Val Accuracy: 6.75% | Best: 9.50%:  87%|██████ | 436/500 [54:02<08:01,  7.52s/it]"
     ]
    },
    {
     "name": "stdout",
     "output_type": "stream",
     "text": [
      "[Epoch 436/500]\n",
      "Train Loss: 0.2247 | Train Acc: 99.98%\n",
      "Valid Loss: 0.2303 | Valid Acc: 6.75%\n"
     ]
    },
    {
     "name": "stderr",
     "output_type": "stream",
     "text": [
      "Method ALL – Processing subject ALL – Val Accuracy: 7.25% | Best: 9.50%:  87%|██████ | 437/500 [54:09<07:49,  7.46s/it]"
     ]
    },
    {
     "name": "stdout",
     "output_type": "stream",
     "text": [
      "[Epoch 437/500]\n",
      "Train Loss: 0.2215 | Train Acc: 99.98%\n",
      "Valid Loss: 0.2304 | Valid Acc: 7.25%\n"
     ]
    },
    {
     "name": "stderr",
     "output_type": "stream",
     "text": [
      "Method ALL – Processing subject ALL – Val Accuracy: 7.17% | Best: 9.50%:  88%|██████▏| 438/500 [54:17<07:41,  7.44s/it]"
     ]
    },
    {
     "name": "stdout",
     "output_type": "stream",
     "text": [
      "[Epoch 438/500]\n",
      "Train Loss: 0.2239 | Train Acc: 100.00%\n",
      "Valid Loss: 0.2342 | Valid Acc: 7.17%\n"
     ]
    },
    {
     "name": "stderr",
     "output_type": "stream",
     "text": [
      "Method ALL – Processing subject ALL – Val Accuracy: 6.92% | Best: 9.50%:  88%|██████▏| 439/500 [54:24<07:35,  7.46s/it]"
     ]
    },
    {
     "name": "stdout",
     "output_type": "stream",
     "text": [
      "[Epoch 439/500]\n",
      "Train Loss: 0.2258 | Train Acc: 100.00%\n",
      "Valid Loss: 0.2310 | Valid Acc: 6.92%\n"
     ]
    },
    {
     "name": "stderr",
     "output_type": "stream",
     "text": [
      "Method ALL – Processing subject ALL – Val Accuracy: 6.75% | Best: 9.50%:  88%|██████▏| 440/500 [54:32<07:27,  7.46s/it]"
     ]
    },
    {
     "name": "stdout",
     "output_type": "stream",
     "text": [
      "[Epoch 440/500]\n",
      "Train Loss: 0.2255 | Train Acc: 100.00%\n",
      "Valid Loss: 0.2296 | Valid Acc: 6.75%\n"
     ]
    },
    {
     "name": "stderr",
     "output_type": "stream",
     "text": [
      "Method ALL – Processing subject ALL – Val Accuracy: 7.33% | Best: 9.50%:  88%|██████▏| 441/500 [54:39<07:16,  7.40s/it]"
     ]
    },
    {
     "name": "stdout",
     "output_type": "stream",
     "text": [
      "[Epoch 441/500]\n",
      "Train Loss: 0.2252 | Train Acc: 100.00%\n",
      "Valid Loss: 0.2283 | Valid Acc: 7.33%\n"
     ]
    },
    {
     "name": "stderr",
     "output_type": "stream",
     "text": [
      "Method ALL – Processing subject ALL – Val Accuracy: 7.25% | Best: 9.50%:  88%|██████▏| 442/500 [54:47<07:10,  7.43s/it]"
     ]
    },
    {
     "name": "stdout",
     "output_type": "stream",
     "text": [
      "[Epoch 442/500]\n",
      "Train Loss: 0.2232 | Train Acc: 99.98%\n",
      "Valid Loss: 0.2320 | Valid Acc: 7.25%\n"
     ]
    },
    {
     "name": "stderr",
     "output_type": "stream",
     "text": [
      "Method ALL – Processing subject ALL – Val Accuracy: 7.00% | Best: 9.50%:  89%|██████▏| 443/500 [54:54<07:07,  7.49s/it]"
     ]
    },
    {
     "name": "stdout",
     "output_type": "stream",
     "text": [
      "[Epoch 443/500]\n",
      "Train Loss: 0.2236 | Train Acc: 99.98%\n",
      "Valid Loss: 0.2250 | Valid Acc: 7.00%\n"
     ]
    },
    {
     "name": "stderr",
     "output_type": "stream",
     "text": [
      "Method ALL – Processing subject ALL – Val Accuracy: 7.08% | Best: 9.50%:  89%|██████▏| 444/500 [55:02<07:02,  7.55s/it]"
     ]
    },
    {
     "name": "stdout",
     "output_type": "stream",
     "text": [
      "[Epoch 444/500]\n",
      "Train Loss: 0.2249 | Train Acc: 99.98%\n",
      "Valid Loss: 0.2336 | Valid Acc: 7.08%\n"
     ]
    },
    {
     "name": "stderr",
     "output_type": "stream",
     "text": [
      "Method ALL – Processing subject ALL – Val Accuracy: 7.25% | Best: 9.50%:  89%|██████▏| 445/500 [55:09<06:54,  7.53s/it]"
     ]
    },
    {
     "name": "stdout",
     "output_type": "stream",
     "text": [
      "[Epoch 445/500]\n",
      "Train Loss: 0.2243 | Train Acc: 100.00%\n",
      "Valid Loss: 0.2318 | Valid Acc: 7.25%\n"
     ]
    },
    {
     "name": "stderr",
     "output_type": "stream",
     "text": [
      "Method ALL – Processing subject ALL – Val Accuracy: 6.92% | Best: 9.50%:  89%|██████▏| 446/500 [55:17<06:46,  7.53s/it]"
     ]
    },
    {
     "name": "stdout",
     "output_type": "stream",
     "text": [
      "[Epoch 446/500]\n",
      "Train Loss: 0.2262 | Train Acc: 100.00%\n",
      "Valid Loss: 0.2260 | Valid Acc: 6.92%\n"
     ]
    },
    {
     "name": "stderr",
     "output_type": "stream",
     "text": [
      "Method ALL – Processing subject ALL – Val Accuracy: 6.75% | Best: 9.50%:  89%|██████▎| 447/500 [55:24<06:38,  7.52s/it]"
     ]
    },
    {
     "name": "stdout",
     "output_type": "stream",
     "text": [
      "[Epoch 447/500]\n",
      "Train Loss: 0.2237 | Train Acc: 100.00%\n",
      "Valid Loss: 0.2301 | Valid Acc: 6.75%\n"
     ]
    },
    {
     "name": "stderr",
     "output_type": "stream",
     "text": [
      "Method ALL – Processing subject ALL – Val Accuracy: 7.17% | Best: 9.50%:  90%|██████▎| 448/500 [55:32<06:29,  7.49s/it]"
     ]
    },
    {
     "name": "stdout",
     "output_type": "stream",
     "text": [
      "[Epoch 448/500]\n",
      "Train Loss: 0.2253 | Train Acc: 100.00%\n",
      "Valid Loss: 0.2283 | Valid Acc: 7.17%\n"
     ]
    },
    {
     "name": "stderr",
     "output_type": "stream",
     "text": [
      "Method ALL – Processing subject ALL – Val Accuracy: 6.92% | Best: 9.50%:  90%|██████▎| 449/500 [55:40<06:26,  7.59s/it]"
     ]
    },
    {
     "name": "stdout",
     "output_type": "stream",
     "text": [
      "[Epoch 449/500]\n",
      "Train Loss: 0.2250 | Train Acc: 100.00%\n",
      "Valid Loss: 0.2308 | Valid Acc: 6.92%\n"
     ]
    },
    {
     "name": "stderr",
     "output_type": "stream",
     "text": [
      "Method ALL – Processing subject ALL – Val Accuracy: 6.75% | Best: 9.50%:  90%|██████▎| 450/500 [55:48<06:24,  7.69s/it]"
     ]
    },
    {
     "name": "stdout",
     "output_type": "stream",
     "text": [
      "[Epoch 450/500]\n",
      "Train Loss: 0.2217 | Train Acc: 99.98%\n",
      "Valid Loss: 0.2215 | Valid Acc: 6.75%\n"
     ]
    },
    {
     "name": "stderr",
     "output_type": "stream",
     "text": [
      "Method ALL – Processing subject ALL – Val Accuracy: 6.75% | Best: 9.50%:  90%|██████▎| 451/500 [55:55<06:15,  7.66s/it]"
     ]
    },
    {
     "name": "stdout",
     "output_type": "stream",
     "text": [
      "[Epoch 451/500]\n",
      "Train Loss: 0.2247 | Train Acc: 100.00%\n",
      "Valid Loss: 0.2269 | Valid Acc: 6.75%\n"
     ]
    },
    {
     "name": "stderr",
     "output_type": "stream",
     "text": [
      "Method ALL – Processing subject ALL – Val Accuracy: 6.92% | Best: 9.50%:  90%|██████▎| 452/500 [56:03<06:12,  7.76s/it]"
     ]
    },
    {
     "name": "stdout",
     "output_type": "stream",
     "text": [
      "[Epoch 452/500]\n",
      "Train Loss: 0.2247 | Train Acc: 100.00%\n",
      "Valid Loss: 0.2292 | Valid Acc: 6.92%\n"
     ]
    },
    {
     "name": "stderr",
     "output_type": "stream",
     "text": [
      "Method ALL – Processing subject ALL – Val Accuracy: 7.25% | Best: 9.50%:  91%|██████▎| 453/500 [56:10<05:58,  7.63s/it]"
     ]
    },
    {
     "name": "stdout",
     "output_type": "stream",
     "text": [
      "[Epoch 453/500]\n",
      "Train Loss: 0.2254 | Train Acc: 100.00%\n",
      "Valid Loss: 0.2263 | Valid Acc: 7.25%\n"
     ]
    },
    {
     "name": "stderr",
     "output_type": "stream",
     "text": [
      "Method ALL – Processing subject ALL – Val Accuracy: 7.58% | Best: 9.50%:  91%|██████▎| 454/500 [56:18<05:44,  7.49s/it]"
     ]
    },
    {
     "name": "stdout",
     "output_type": "stream",
     "text": [
      "[Epoch 454/500]\n",
      "Train Loss: 0.2257 | Train Acc: 100.00%\n",
      "Valid Loss: 0.2301 | Valid Acc: 7.58%\n"
     ]
    },
    {
     "name": "stderr",
     "output_type": "stream",
     "text": [
      "Method ALL – Processing subject ALL – Val Accuracy: 7.58% | Best: 9.50%:  91%|██████▎| 454/500 [56:23<05:42,  7.45s/it]\n"
     ]
    },
    {
     "ename": "KeyboardInterrupt",
     "evalue": "",
     "output_type": "error",
     "traceback": [
      "\u001b[1;31m---------------------------------------------------------------------------\u001b[0m",
      "\u001b[1;31mKeyboardInterrupt\u001b[0m                         Traceback (most recent call last)",
      "Cell \u001b[1;32mIn[12], line 92\u001b[0m\n\u001b[0;32m     89\u001b[0m ddpm\u001b[38;5;241m.\u001b[39meval()\n\u001b[0;32m     90\u001b[0m diffe\u001b[38;5;241m.\u001b[39meval()\n\u001b[1;32m---> 92\u001b[0m metrics_val \u001b[38;5;241m=\u001b[39m evaluate(diffe\u001b[38;5;241m.\u001b[39mencoder, fc_ema, val_loader, device)\n\u001b[0;32m     94\u001b[0m val_acc \u001b[38;5;241m=\u001b[39m metrics_val[\u001b[38;5;124m\"\u001b[39m\u001b[38;5;124maccuracy\u001b[39m\u001b[38;5;124m\"\u001b[39m]\n\u001b[0;32m     95\u001b[0m history[\u001b[38;5;124m\"\u001b[39m\u001b[38;5;124mval_acc\u001b[39m\u001b[38;5;124m\"\u001b[39m]\u001b[38;5;241m.\u001b[39mappend(val_acc)\n",
      "Cell \u001b[1;32mIn[11], line 29\u001b[0m, in \u001b[0;36mevaluate\u001b[1;34m(encoder, fc, generator, device)\u001b[0m\n\u001b[0;32m     25\u001b[0m precision \u001b[38;5;241m=\u001b[39m precision_score(Y_indices, Y_hat\u001b[38;5;241m.\u001b[39margmax(axis\u001b[38;5;241m=\u001b[39m\u001b[38;5;241m1\u001b[39m), average\u001b[38;5;241m=\u001b[39m\u001b[38;5;124m\"\u001b[39m\u001b[38;5;124mmacro\u001b[39m\u001b[38;5;124m\"\u001b[39m, labels\u001b[38;5;241m=\u001b[39mlabels, zero_division\u001b[38;5;241m=\u001b[39m\u001b[38;5;241m0\u001b[39m)\n\u001b[0;32m     26\u001b[0m \u001b[38;5;66;03m# the zero_division = 0 fixes cases where the prediction does not assign any sample to one or more classes\u001b[39;00m\n\u001b[0;32m     27\u001b[0m \u001b[38;5;66;03m# which results in a dividing by zero error\u001b[39;00m\n\u001b[0;32m     28\u001b[0m \u001b[38;5;66;03m# the zero_division = 0 sets those cases accuracy to zero\u001b[39;00m\n\u001b[1;32m---> 29\u001b[0m auc \u001b[38;5;241m=\u001b[39m roc_auc_score(Y_indices, Y_hat, average\u001b[38;5;241m=\u001b[39m\u001b[38;5;124m\"\u001b[39m\u001b[38;5;124mmacro\u001b[39m\u001b[38;5;124m\"\u001b[39m, multi_class\u001b[38;5;241m=\u001b[39m\u001b[38;5;124m\"\u001b[39m\u001b[38;5;124movo\u001b[39m\u001b[38;5;124m\"\u001b[39m, labels\u001b[38;5;241m=\u001b[39mlabels)\n\u001b[0;32m     31\u001b[0m metrics \u001b[38;5;241m=\u001b[39m {\n\u001b[0;32m     32\u001b[0m     \u001b[38;5;124m\"\u001b[39m\u001b[38;5;124maccuracy\u001b[39m\u001b[38;5;124m\"\u001b[39m: accuracy,\n\u001b[0;32m     33\u001b[0m     \u001b[38;5;124m\"\u001b[39m\u001b[38;5;124mf1\u001b[39m\u001b[38;5;124m\"\u001b[39m: f1,\n\u001b[1;32m   (...)\u001b[0m\n\u001b[0;32m     36\u001b[0m     \u001b[38;5;124m\"\u001b[39m\u001b[38;5;124mauc\u001b[39m\u001b[38;5;124m\"\u001b[39m: auc,\n\u001b[0;32m     37\u001b[0m }\n\u001b[0;32m     38\u001b[0m \u001b[38;5;66;03m# df_cm = pd.DataFrame(confusion_matrix(Y, Y_hat.argmax(axis=1)))\u001b[39;00m\n",
      "File \u001b[1;32m~\\anaconda3\\envs\\pytorch_env_p11\\Lib\\site-packages\\sklearn\\utils\\_param_validation.py:213\u001b[0m, in \u001b[0;36mvalidate_params.<locals>.decorator.<locals>.wrapper\u001b[1;34m(*args, **kwargs)\u001b[0m\n\u001b[0;32m    207\u001b[0m \u001b[38;5;28;01mtry\u001b[39;00m:\n\u001b[0;32m    208\u001b[0m     \u001b[38;5;28;01mwith\u001b[39;00m config_context(\n\u001b[0;32m    209\u001b[0m         skip_parameter_validation\u001b[38;5;241m=\u001b[39m(\n\u001b[0;32m    210\u001b[0m             prefer_skip_nested_validation \u001b[38;5;129;01mor\u001b[39;00m global_skip_validation\n\u001b[0;32m    211\u001b[0m         )\n\u001b[0;32m    212\u001b[0m     ):\n\u001b[1;32m--> 213\u001b[0m         \u001b[38;5;28;01mreturn\u001b[39;00m func(\u001b[38;5;241m*\u001b[39margs, \u001b[38;5;241m*\u001b[39m\u001b[38;5;241m*\u001b[39mkwargs)\n\u001b[0;32m    214\u001b[0m \u001b[38;5;28;01mexcept\u001b[39;00m InvalidParameterError \u001b[38;5;28;01mas\u001b[39;00m e:\n\u001b[0;32m    215\u001b[0m     \u001b[38;5;66;03m# When the function is just a wrapper around an estimator, we allow\u001b[39;00m\n\u001b[0;32m    216\u001b[0m     \u001b[38;5;66;03m# the function to delegate validation to the estimator, but we replace\u001b[39;00m\n\u001b[0;32m    217\u001b[0m     \u001b[38;5;66;03m# the name of the estimator by the name of the function in the error\u001b[39;00m\n\u001b[0;32m    218\u001b[0m     \u001b[38;5;66;03m# message to avoid confusion.\u001b[39;00m\n\u001b[0;32m    219\u001b[0m     msg \u001b[38;5;241m=\u001b[39m re\u001b[38;5;241m.\u001b[39msub(\n\u001b[0;32m    220\u001b[0m         \u001b[38;5;124mr\u001b[39m\u001b[38;5;124m\"\u001b[39m\u001b[38;5;124mparameter of \u001b[39m\u001b[38;5;124m\\\u001b[39m\u001b[38;5;124mw+ must be\u001b[39m\u001b[38;5;124m\"\u001b[39m,\n\u001b[0;32m    221\u001b[0m         \u001b[38;5;124mf\u001b[39m\u001b[38;5;124m\"\u001b[39m\u001b[38;5;124mparameter of \u001b[39m\u001b[38;5;132;01m{\u001b[39;00mfunc\u001b[38;5;241m.\u001b[39m\u001b[38;5;18m__qualname__\u001b[39m\u001b[38;5;132;01m}\u001b[39;00m\u001b[38;5;124m must be\u001b[39m\u001b[38;5;124m\"\u001b[39m,\n\u001b[0;32m    222\u001b[0m         \u001b[38;5;28mstr\u001b[39m(e),\n\u001b[0;32m    223\u001b[0m     )\n",
      "File \u001b[1;32m~\\anaconda3\\envs\\pytorch_env_p11\\Lib\\site-packages\\sklearn\\metrics\\_ranking.py:634\u001b[0m, in \u001b[0;36mroc_auc_score\u001b[1;34m(y_true, y_score, average, sample_weight, max_fpr, multi_class, labels)\u001b[0m\n\u001b[0;32m    632\u001b[0m     \u001b[38;5;28;01mif\u001b[39;00m multi_class \u001b[38;5;241m==\u001b[39m \u001b[38;5;124m\"\u001b[39m\u001b[38;5;124mraise\u001b[39m\u001b[38;5;124m\"\u001b[39m:\n\u001b[0;32m    633\u001b[0m         \u001b[38;5;28;01mraise\u001b[39;00m \u001b[38;5;167;01mValueError\u001b[39;00m(\u001b[38;5;124m\"\u001b[39m\u001b[38;5;124mmulti_class must be in (\u001b[39m\u001b[38;5;124m'\u001b[39m\u001b[38;5;124movo\u001b[39m\u001b[38;5;124m'\u001b[39m\u001b[38;5;124m, \u001b[39m\u001b[38;5;124m'\u001b[39m\u001b[38;5;124movr\u001b[39m\u001b[38;5;124m'\u001b[39m\u001b[38;5;124m)\u001b[39m\u001b[38;5;124m\"\u001b[39m)\n\u001b[1;32m--> 634\u001b[0m     \u001b[38;5;28;01mreturn\u001b[39;00m _multiclass_roc_auc_score(\n\u001b[0;32m    635\u001b[0m         y_true, y_score, labels, multi_class, average, sample_weight\n\u001b[0;32m    636\u001b[0m     )\n\u001b[0;32m    637\u001b[0m \u001b[38;5;28;01melif\u001b[39;00m y_type \u001b[38;5;241m==\u001b[39m \u001b[38;5;124m\"\u001b[39m\u001b[38;5;124mbinary\u001b[39m\u001b[38;5;124m\"\u001b[39m:\n\u001b[0;32m    638\u001b[0m     labels \u001b[38;5;241m=\u001b[39m np\u001b[38;5;241m.\u001b[39munique(y_true)\n",
      "File \u001b[1;32m~\\anaconda3\\envs\\pytorch_env_p11\\Lib\\site-packages\\sklearn\\metrics\\_ranking.py:765\u001b[0m, in \u001b[0;36m_multiclass_roc_auc_score\u001b[1;34m(y_true, y_score, labels, multi_class, average, sample_weight)\u001b[0m\n\u001b[0;32m    763\u001b[0m     y_true_encoded \u001b[38;5;241m=\u001b[39m _encode(y_true, uniques\u001b[38;5;241m=\u001b[39mclasses)\n\u001b[0;32m    764\u001b[0m     \u001b[38;5;66;03m# Hand & Till (2001) implementation (ovo)\u001b[39;00m\n\u001b[1;32m--> 765\u001b[0m     \u001b[38;5;28;01mreturn\u001b[39;00m _average_multiclass_ovo_score(\n\u001b[0;32m    766\u001b[0m         _binary_roc_auc_score, y_true_encoded, y_score, average\u001b[38;5;241m=\u001b[39maverage\n\u001b[0;32m    767\u001b[0m     )\n\u001b[0;32m    768\u001b[0m \u001b[38;5;28;01melse\u001b[39;00m:\n\u001b[0;32m    769\u001b[0m     \u001b[38;5;66;03m# ovr is same as multi-label\u001b[39;00m\n\u001b[0;32m    770\u001b[0m     y_true_multilabel \u001b[38;5;241m=\u001b[39m label_binarize(y_true, classes\u001b[38;5;241m=\u001b[39mclasses)\n",
      "File \u001b[1;32m~\\anaconda3\\envs\\pytorch_env_p11\\Lib\\site-packages\\sklearn\\metrics\\_base.py:196\u001b[0m, in \u001b[0;36m_average_multiclass_ovo_score\u001b[1;34m(binary_metric, y_true, y_score, average)\u001b[0m\n\u001b[0;32m    193\u001b[0m a_true \u001b[38;5;241m=\u001b[39m a_mask[ab_mask]\n\u001b[0;32m    194\u001b[0m b_true \u001b[38;5;241m=\u001b[39m b_mask[ab_mask]\n\u001b[1;32m--> 196\u001b[0m a_true_score \u001b[38;5;241m=\u001b[39m binary_metric(a_true, y_score[ab_mask, a])\n\u001b[0;32m    197\u001b[0m b_true_score \u001b[38;5;241m=\u001b[39m binary_metric(b_true, y_score[ab_mask, b])\n\u001b[0;32m    198\u001b[0m pair_scores[ix] \u001b[38;5;241m=\u001b[39m (a_true_score \u001b[38;5;241m+\u001b[39m b_true_score) \u001b[38;5;241m/\u001b[39m \u001b[38;5;241m2\u001b[39m\n",
      "File \u001b[1;32m~\\anaconda3\\envs\\pytorch_env_p11\\Lib\\site-packages\\sklearn\\metrics\\_ranking.py:389\u001b[0m, in \u001b[0;36m_binary_roc_auc_score\u001b[1;34m(y_true, y_score, sample_weight, max_fpr)\u001b[0m\n\u001b[0;32m    387\u001b[0m fpr, tpr, _ \u001b[38;5;241m=\u001b[39m roc_curve(y_true, y_score, sample_weight\u001b[38;5;241m=\u001b[39msample_weight)\n\u001b[0;32m    388\u001b[0m \u001b[38;5;28;01mif\u001b[39;00m max_fpr \u001b[38;5;129;01mis\u001b[39;00m \u001b[38;5;28;01mNone\u001b[39;00m \u001b[38;5;129;01mor\u001b[39;00m max_fpr \u001b[38;5;241m==\u001b[39m \u001b[38;5;241m1\u001b[39m:\n\u001b[1;32m--> 389\u001b[0m     \u001b[38;5;28;01mreturn\u001b[39;00m auc(fpr, tpr)\n\u001b[0;32m    390\u001b[0m \u001b[38;5;28;01mif\u001b[39;00m max_fpr \u001b[38;5;241m<\u001b[39m\u001b[38;5;241m=\u001b[39m \u001b[38;5;241m0\u001b[39m \u001b[38;5;129;01mor\u001b[39;00m max_fpr \u001b[38;5;241m>\u001b[39m \u001b[38;5;241m1\u001b[39m:\n\u001b[0;32m    391\u001b[0m     \u001b[38;5;28;01mraise\u001b[39;00m \u001b[38;5;167;01mValueError\u001b[39;00m(\u001b[38;5;124m\"\u001b[39m\u001b[38;5;124mExpected max_fpr in range (0, 1], got: \u001b[39m\u001b[38;5;132;01m%r\u001b[39;00m\u001b[38;5;124m\"\u001b[39m \u001b[38;5;241m%\u001b[39m max_fpr)\n",
      "File \u001b[1;32m~\\anaconda3\\envs\\pytorch_env_p11\\Lib\\site-packages\\sklearn\\utils\\_param_validation.py:186\u001b[0m, in \u001b[0;36mvalidate_params.<locals>.decorator.<locals>.wrapper\u001b[1;34m(*args, **kwargs)\u001b[0m\n\u001b[0;32m    184\u001b[0m global_skip_validation \u001b[38;5;241m=\u001b[39m get_config()[\u001b[38;5;124m\"\u001b[39m\u001b[38;5;124mskip_parameter_validation\u001b[39m\u001b[38;5;124m\"\u001b[39m]\n\u001b[0;32m    185\u001b[0m \u001b[38;5;28;01mif\u001b[39;00m global_skip_validation:\n\u001b[1;32m--> 186\u001b[0m     \u001b[38;5;28;01mreturn\u001b[39;00m func(\u001b[38;5;241m*\u001b[39margs, \u001b[38;5;241m*\u001b[39m\u001b[38;5;241m*\u001b[39mkwargs)\n\u001b[0;32m    188\u001b[0m func_sig \u001b[38;5;241m=\u001b[39m signature(func)\n\u001b[0;32m    190\u001b[0m \u001b[38;5;66;03m# Map *args/**kwargs to the function signature\u001b[39;00m\n",
      "File \u001b[1;32m~\\anaconda3\\envs\\pytorch_env_p11\\Lib\\site-packages\\sklearn\\metrics\\_ranking.py:90\u001b[0m, in \u001b[0;36mauc\u001b[1;34m(x, y)\u001b[0m\n\u001b[0;32m     48\u001b[0m \u001b[38;5;129m@validate_params\u001b[39m(\n\u001b[0;32m     49\u001b[0m     {\u001b[38;5;124m\"\u001b[39m\u001b[38;5;124mx\u001b[39m\u001b[38;5;124m\"\u001b[39m: [\u001b[38;5;124m\"\u001b[39m\u001b[38;5;124marray-like\u001b[39m\u001b[38;5;124m\"\u001b[39m], \u001b[38;5;124m\"\u001b[39m\u001b[38;5;124my\u001b[39m\u001b[38;5;124m\"\u001b[39m: [\u001b[38;5;124m\"\u001b[39m\u001b[38;5;124marray-like\u001b[39m\u001b[38;5;124m\"\u001b[39m]},\n\u001b[0;32m     50\u001b[0m     prefer_skip_nested_validation\u001b[38;5;241m=\u001b[39m\u001b[38;5;28;01mTrue\u001b[39;00m,\n\u001b[0;32m     51\u001b[0m )\n\u001b[0;32m     52\u001b[0m \u001b[38;5;28;01mdef\u001b[39;00m \u001b[38;5;21mauc\u001b[39m(x, y):\n\u001b[0;32m     53\u001b[0m \u001b[38;5;250m    \u001b[39m\u001b[38;5;124;03m\"\"\"Compute Area Under the Curve (AUC) using the trapezoidal rule.\u001b[39;00m\n\u001b[0;32m     54\u001b[0m \n\u001b[0;32m     55\u001b[0m \u001b[38;5;124;03m    This is a general function, given points on a curve.  For computing the\u001b[39;00m\n\u001b[1;32m   (...)\u001b[0m\n\u001b[0;32m     88\u001b[0m \u001b[38;5;124;03m    np.float64(0.75)\u001b[39;00m\n\u001b[0;32m     89\u001b[0m \u001b[38;5;124;03m    \"\"\"\u001b[39;00m\n\u001b[1;32m---> 90\u001b[0m     check_consistent_length(x, y)\n\u001b[0;32m     91\u001b[0m     x \u001b[38;5;241m=\u001b[39m column_or_1d(x)\n\u001b[0;32m     92\u001b[0m     y \u001b[38;5;241m=\u001b[39m column_or_1d(y)\n",
      "File \u001b[1;32m~\\anaconda3\\envs\\pytorch_env_p11\\Lib\\site-packages\\sklearn\\utils\\validation.py:455\u001b[0m, in \u001b[0;36mcheck_consistent_length\u001b[1;34m(*arrays)\u001b[0m\n\u001b[0;32m    437\u001b[0m \u001b[38;5;250m\u001b[39m\u001b[38;5;124;03m\"\"\"Check that all arrays have consistent first dimensions.\u001b[39;00m\n\u001b[0;32m    438\u001b[0m \n\u001b[0;32m    439\u001b[0m \u001b[38;5;124;03mChecks whether all objects in arrays have the same shape or length.\u001b[39;00m\n\u001b[1;32m   (...)\u001b[0m\n\u001b[0;32m    451\u001b[0m \u001b[38;5;124;03m>>> check_consistent_length(a, b)\u001b[39;00m\n\u001b[0;32m    452\u001b[0m \u001b[38;5;124;03m\"\"\"\u001b[39;00m\n\u001b[0;32m    454\u001b[0m lengths \u001b[38;5;241m=\u001b[39m [_num_samples(X) \u001b[38;5;28;01mfor\u001b[39;00m X \u001b[38;5;129;01min\u001b[39;00m arrays \u001b[38;5;28;01mif\u001b[39;00m X \u001b[38;5;129;01mis\u001b[39;00m \u001b[38;5;129;01mnot\u001b[39;00m \u001b[38;5;28;01mNone\u001b[39;00m]\n\u001b[1;32m--> 455\u001b[0m uniques \u001b[38;5;241m=\u001b[39m np\u001b[38;5;241m.\u001b[39munique(lengths)\n\u001b[0;32m    456\u001b[0m \u001b[38;5;28;01mif\u001b[39;00m \u001b[38;5;28mlen\u001b[39m(uniques) \u001b[38;5;241m>\u001b[39m \u001b[38;5;241m1\u001b[39m:\n\u001b[0;32m    457\u001b[0m     \u001b[38;5;28;01mraise\u001b[39;00m \u001b[38;5;167;01mValueError\u001b[39;00m(\n\u001b[0;32m    458\u001b[0m         \u001b[38;5;124m\"\u001b[39m\u001b[38;5;124mFound input variables with inconsistent numbers of samples: \u001b[39m\u001b[38;5;132;01m%r\u001b[39;00m\u001b[38;5;124m\"\u001b[39m\n\u001b[0;32m    459\u001b[0m         \u001b[38;5;241m%\u001b[39m [\u001b[38;5;28mint\u001b[39m(l) \u001b[38;5;28;01mfor\u001b[39;00m l \u001b[38;5;129;01min\u001b[39;00m lengths]\n\u001b[0;32m    460\u001b[0m     )\n",
      "File \u001b[1;32m~\\anaconda3\\envs\\pytorch_env_p11\\Lib\\site-packages\\numpy\\lib\\arraysetops.py:276\u001b[0m, in \u001b[0;36munique\u001b[1;34m(ar, return_index, return_inverse, return_counts, axis, equal_nan)\u001b[0m\n\u001b[0;32m    273\u001b[0m \u001b[38;5;28;01mif\u001b[39;00m axis \u001b[38;5;129;01mis\u001b[39;00m \u001b[38;5;28;01mNone\u001b[39;00m:\n\u001b[0;32m    274\u001b[0m     ret \u001b[38;5;241m=\u001b[39m _unique1d(ar, return_index, return_inverse, return_counts, \n\u001b[0;32m    275\u001b[0m                     equal_nan\u001b[38;5;241m=\u001b[39mequal_nan)\n\u001b[1;32m--> 276\u001b[0m     \u001b[38;5;28;01mreturn\u001b[39;00m _unpack_tuple(ret)\n\u001b[0;32m    278\u001b[0m \u001b[38;5;66;03m# axis was specified and not None\u001b[39;00m\n\u001b[0;32m    279\u001b[0m \u001b[38;5;28;01mtry\u001b[39;00m:\n",
      "File \u001b[1;32m~\\anaconda3\\envs\\pytorch_env_p11\\Lib\\site-packages\\numpy\\lib\\arraysetops.py:125\u001b[0m, in \u001b[0;36m_unpack_tuple\u001b[1;34m(x)\u001b[0m\n\u001b[0;32m    121\u001b[0m     np\u001b[38;5;241m.\u001b[39msubtract(ary[\u001b[38;5;241m1\u001b[39m:], ary[:\u001b[38;5;241m-\u001b[39m\u001b[38;5;241m1\u001b[39m], result[l_begin:l_begin \u001b[38;5;241m+\u001b[39m l_diff])\n\u001b[0;32m    122\u001b[0m     \u001b[38;5;28;01mreturn\u001b[39;00m result\n\u001b[1;32m--> 125\u001b[0m \u001b[38;5;28;01mdef\u001b[39;00m \u001b[38;5;21m_unpack_tuple\u001b[39m(x):\n\u001b[0;32m    126\u001b[0m \u001b[38;5;250m    \u001b[39m\u001b[38;5;124;03m\"\"\" Unpacks one-element tuples for use as return values \"\"\"\u001b[39;00m\n\u001b[0;32m    127\u001b[0m     \u001b[38;5;28;01mif\u001b[39;00m \u001b[38;5;28mlen\u001b[39m(x) \u001b[38;5;241m==\u001b[39m \u001b[38;5;241m1\u001b[39m:\n",
      "\u001b[1;31mKeyboardInterrupt\u001b[0m: "
     ]
    }
   ],
   "source": [
    "# Train & Evaluate\n",
    "args = argparse.Namespace()\n",
    "args.device = device\n",
    "args.subject = \"ALL\"\n",
    "#args.root_dir = subject_chars_dir\n",
    "subject = args.subject\n",
    "\n",
    "num_epochs = 500\n",
    "test_period = 1\n",
    "start_test = test_period\n",
    "alpha = 0.1\n",
    "\n",
    "best_acc = 0\n",
    "best_f1 = 0\n",
    "best_recall = 0\n",
    "best_precision = 0\n",
    "best_auc = 0\n",
    "\n",
    "history = {\n",
    "    \"train_loss\": [],\n",
    "    \"train_acc\": [],\n",
    "    \"val_loss\": [],\n",
    "    \"val_acc\": []\n",
    "}\n",
    "\n",
    "with tqdm(total=num_epochs, desc=f\"Method ALL - Joint Training on All Subjects\") as pbar:\n",
    "    for epoch in range(num_epochs):\n",
    "        ddpm.train()\n",
    "        diffe.train()\n",
    "\n",
    "        epoch_loss = 0\n",
    "        num_batches = 0\n",
    "        epoch_acc = 0\n",
    "        total_samples = 0\n",
    "\n",
    "        ############################## Train ###########################################\n",
    "        for x, y in train_loader:\n",
    "            x, y = x.to(device), y.to(device)\n",
    "            #y_cat = F.one_hot(y, num_classes=40).type(torch.FloatTensor).to(device)\n",
    "            # Train DDPM\n",
    "            optim1.zero_grad()\n",
    "            x_hat, down, up, noise, t = ddpm(x)\n",
    "\n",
    "            # Align the temporal dimension of x_hat and x\n",
    "            if x_hat.shape[-1] != x.shape[-1]:\n",
    "                target_len = min(x_hat.shape[-1], x.shape[-1])\n",
    "                x_hat = F.interpolate(x_hat, size=target_len)\n",
    "                x = F.interpolate(x, size=target_len)\n",
    "\n",
    "            loss_ddpm = F.l1_loss(x_hat, x, reduction=\"none\")\n",
    "            loss_ddpm.mean().backward()\n",
    "            optim1.step()\n",
    "            ddpm_out = x_hat, down, up, t\n",
    "\n",
    "            # Train Diff-E\n",
    "            optim2.zero_grad()\n",
    "            decoder_out, fc_out = diffe(x, ddpm_out)\n",
    "\n",
    "            loss_gap = criterion(decoder_out, loss_ddpm.detach())\n",
    "            loss_c = criterion_class(fc_out, y)\n",
    "            loss = loss_gap + alpha * loss_c\n",
    "            loss.backward()\n",
    "            optim2.step()\n",
    "\n",
    "            # Optimizer scheduler step\n",
    "            scheduler1.step()\n",
    "            scheduler2.step()\n",
    "\n",
    "            # EMA update\n",
    "            fc_ema.update()\n",
    "\n",
    "            epoch_loss += loss.item()\n",
    "            num_batches += 1\n",
    "\n",
    "            pred_labels = torch.argmax(fc_out, dim=1)\n",
    "            y_indices = torch.argmax(y, dim=1)  # need a bit of change here\n",
    "            correct = (pred_labels == y_indices).sum().item()\n",
    "            epoch_acc += correct\n",
    "            total_samples += y_indices.size(0)\n",
    "\n",
    "        history[\"train_loss\"].append(epoch_loss / num_batches)\n",
    "        history[\"train_acc\"].append(epoch_acc / total_samples)\n",
    "\n",
    "        ############################## validation ###########################################\n",
    "        with torch.no_grad():\n",
    "            if epoch > start_test:\n",
    "                test_period = 1\n",
    "            if epoch % test_period == 0:\n",
    "                ddpm.eval()\n",
    "                diffe.eval()\n",
    "\n",
    "                metrics_val = evaluate(diffe.encoder, fc_ema, val_loader, device)\n",
    "\n",
    "                val_acc = metrics_val[\"accuracy\"]\n",
    "                history[\"val_acc\"].append(val_acc)\n",
    "                f1 = metrics_val[\"f1\"]\n",
    "                recall = metrics_val[\"recall\"]\n",
    "                precision = metrics_val[\"precision\"]\n",
    "                auc = metrics_val[\"auc\"]\n",
    "\n",
    "                val_loss = 0\n",
    "                with torch.no_grad():\n",
    "                    for x, y in val_loader:\n",
    "                        x, y = x.to(device), y.to(device)\n",
    "                        #y_cat = F.one_hot(y, num_classes=40).float().to(device)\n",
    "\n",
    "                        x_hat, down, up, noise, t = ddpm(x)\n",
    "                        ddpm_out = x_hat, down, up, t\n",
    "\n",
    "                        if x_hat.shape[-1] != x.shape[-1]:\n",
    "                            target_len = min(x_hat.shape[-1], x.shape[-1])\n",
    "                            x_hat = F.interpolate(x_hat, size=target_len)\n",
    "                            x = F.interpolate(x, size=target_len)\n",
    "\n",
    "                        loss_ddpm = F.l1_loss(x_hat, x, reduction=\"none\")\n",
    "                        decoder_out, fc_out = diffe(x, ddpm_out)\n",
    "\n",
    "                        loss_gap = criterion(decoder_out, loss_ddpm)\n",
    "                        loss_c = criterion_class(fc_out, y)\n",
    "\n",
    "                        val_loss += (loss_gap + alpha * loss_c).item()\n",
    "                history[\"val_loss\"].append(val_loss / len(val_loader))\n",
    "\n",
    "                best_acc_bool = val_acc > best_acc\n",
    "                best_f1_bool = f1 > best_f1\n",
    "                best_recall_bool = recall > best_recall\n",
    "                best_precision_bool = precision > best_precision\n",
    "                best_auc_bool = auc > best_auc\n",
    "\n",
    "                if best_acc_bool:\n",
    "                    best_acc = val_acc\n",
    "                    #torch.save(diffe.state_dict(), f'/content/drive/MyDrive/project/model/ssvep/diffe_{subject}.pth')\n",
    "                    torch.save(diffe.state_dict(), r'C:\\LTI 11785 Introduction to deep learning\\project\\SSVEP\\checkpoints\\diffe_all_subjects.pth')\n",
    "                if best_f1_bool:\n",
    "                    best_f1 = f1\n",
    "                if best_recall_bool:\n",
    "                    best_recall = recall\n",
    "                if best_precision_bool:\n",
    "                    best_precision = precision\n",
    "                if best_auc_bool:\n",
    "                    best_auc = auc\n",
    "\n",
    "                # print(\"Subject: {0}\".format(subject))\n",
    "                # # print(\"ddpm test loss: {0:.4f}\".format(t_test_loss_ddpm/len(test_generator)))\n",
    "                # # print(\"encoder test loss: {0:.4f}\".format(t_test_loss_ed/len(test_generator)))\n",
    "                # print(\"accuracy:  {0:.2f}%\".format(acc*100), \"best: {0:.2f}%\".format(best_acc*100))\n",
    "                # print(\"f1-score:  {0:.2f}%\".format(f1*100), \"best: {0:.2f}%\".format(best_f1*100))\n",
    "                # print(\"recall:    {0:.2f}%\".format(recall*100), \"best: {0:.2f}%\".format(best_recall*100))\n",
    "                # print(\"precision: {0:.2f}%\".format(precision*100), \"best: {0:.2f}%\".format(best_precision*100))\n",
    "                # print(\"auc:       {0:.2f}%\".format(auc*100), \"best: {0:.2f}%\".format(best_auc*100))\n",
    "                # writer.add_scalar(f\"EEGNet/Accuracy/subject_{subject}\", acc*100, epoch)\n",
    "                # writer.add_scalar(f\"EEGNet/F1-score/subject_{subject}\", f1*100, epoch)\n",
    "                # writer.add_scalar(f\"EEGNet/Recall/subject_{subject}\", recall*100, epoch)\n",
    "                # writer.add_scalar(f\"EEGNet/Precision/subject_{subject}\", precision*100, epoch)\n",
    "                # writer.add_scalar(f\"EEGNet/AUC/subject_{subject}\", auc*100, epoch)\n",
    "\n",
    "                # if best_acc_bool or best_f1_bool or best_recall_bool or best_precision_bool or best_auc_bool:\n",
    "                #     performance = {'subject': subject,\n",
    "                #                 'epoch': epoch,\n",
    "                #                 'accuracy': best_acc*100,\n",
    "                #                 'f1_score': best_f1*100,\n",
    "                #                 'recall': best_recall*100,\n",
    "                #                 'precision': best_precision*100,\n",
    "                #                 'auc': best_auc*100\n",
    "                #                 }\n",
    "                #     with open(output_file, 'a') as f:\n",
    "                #         f.write(f\"{performance['subject']}, {performance['epoch']}, {performance['accuracy']}, {performance['f1_score']}, {performance['recall']}, {performance['precision']}, {performance['auc']}\\n\")\n",
    "                description = f\"Val Accuracy: {val_acc*100:.2f}% | Best: {best_acc*100:.2f}%\"\n",
    "                pbar.set_description(f\"Method ALL – Processing subject {subject} – {description}\"\n",
    "                )\n",
    "        print(f\"[Epoch {epoch+1}/{num_epochs}]\")\n",
    "        print(f\"Train Loss: {history['train_loss'][-1]:.4f} | Train Acc: {history['train_acc'][-1]*100:.2f}%\")\n",
    "        print(f\"Valid Loss: {history['val_loss'][-1]:.4f} | Valid Acc: {val_acc*100:.2f}%\")\n",
    "        \n",
    "        pbar.update(1)"
   ]
  },
  {
   "cell_type": "code",
   "execution_count": 13,
   "id": "BzCmk5Zy_96e",
   "metadata": {
    "colab": {
     "base_uri": "https://localhost:8080/",
     "height": 300
    },
    "id": "BzCmk5Zy_96e",
    "outputId": "949b043f-06a2-44b3-a23e-f9068f0c4930"
   },
   "outputs": [
    {
     "data": {
      "image/png": "[encoded data removed]",
      "text/plain": [
       "<Figure size 1200x400 with 2 Axes>"
      ]
     },
     "metadata": {},
     "output_type": "display_data"
    }
   ],
   "source": [
    "import matplotlib.pyplot as plt\n",
    "\n",
    "plt.figure(figsize=(12, 4))\n",
    "plt.style.use('tableau-colorblind10')\n",
    "\n",
    "# Plot training & validation loss\n",
    "plt.subplot(1, 2, 1)\n",
    "plt.plot(history[\"train_loss\"], label=\"Training Loss\")\n",
    "plt.plot(history[\"val_loss\"], label=\"Validation Loss\")\n",
    "plt.xlabel(\"Epoch\")\n",
    "plt.ylabel(\"Loss\")\n",
    "plt.legend()\n",
    "\n",
    "# Plot training & validation accuracy\n",
    "plt.subplot(1, 2, 2)\n",
    "plt.plot([v * 100 for v in history[\"train_acc\"]], label=\"Training Accuracy\")\n",
    "plt.plot([v * 100 for v in history[\"val_acc\"]], label=\"Validation Accuracy\")\n",
    "plt.xlabel(\"Epoch\")\n",
    "plt.ylabel(\"Accuracy (%)\")\n",
    "plt.legend()\n",
    "\n",
    "plt.suptitle(\"Training Progress (Loss & Accuracy)\")\n",
    "plt.tight_layout()\n",
    "plt.show()"
   ]
  },
  {
   "cell_type": "markdown",
   "id": "xs-0xKrFvCnJ",
   "metadata": {
    "id": "xs-0xKrFvCnJ"
   },
   "source": [
    "#Evaluate on test data"
   ]
  },
  {
   "cell_type": "code",
   "execution_count": 15,
   "id": "9Kaz_i-8VJfi",
   "metadata": {
    "colab": {
     "base_uri": "https://localhost:8080/"
    },
    "id": "9Kaz_i-8VJfi",
    "outputId": "4116063b-a261-43e2-9d89-bcb2cd2cb1a7"
   },
   "outputs": [
    {
     "name": "stdout",
     "output_type": "stream",
     "text": [
      "Test accuracy: 99.33%\n"
     ]
    }
   ],
   "source": [
    "diffe.eval()\n",
    "\n",
    "# evaluate\n",
    "labels = np.arange(0, 40)  # necessary change: 40 classes\n",
    "Y = []\n",
    "Y_hat = []\n",
    "with torch.no_grad():\n",
    "    for x, y in test_loader:\n",
    "        x, y = x.to(device), y.type(torch.LongTensor).to(device)\n",
    "        encoder_out = diffe.encoder(x)\n",
    "        y_hat = diffe.fc(encoder_out[1])\n",
    "        y_hat = F.softmax(y_hat, dim=1)\n",
    "\n",
    "        Y.append(y.detach().cpu())\n",
    "        Y_hat.append(y_hat.detach().cpu())\n",
    "\n",
    "Y = torch.cat(Y, dim=0).numpy()  # (N, )\n",
    "Y_indices = Y.argmax(axis=1)\n",
    "Y_hat = torch.cat(Y_hat, dim=0).numpy()  # (N, 26)\n",
    "\n",
    "accuracy = top_k_accuracy_score(Y_indices, Y_hat, k=1, labels=labels)\n",
    "print(f'Test accuracy: {accuracy:.2%}')"
   ]
  },
  {
   "cell_type": "code",
   "execution_count": null,
   "id": "bed41f7d-cf04-4bda-97d7-2b54426c00ce",
   "metadata": {},
   "outputs": [],
   "source": []
  }
 ],
 "metadata": {
  "accelerator": "GPU",
  "colab": {
   "gpuType": "T4",
   "provenance": []
  },
  "kernelspec": {
   "display_name": "Python (pytorch_env_p11)",
   "language": "python",
   "name": "pytorch_env_p11"
  },
  "language_info": {
   "codemirror_mode": {
    "name": "ipython",
    "version": 3
   },
   "file_extension": ".py",
   "mimetype": "text/x-python",
   "name": "python",
   "nbconvert_exporter": "python",
   "pygments_lexer": "ipython3",
   "version": "3.11.11"
  },
  "widgets": {
   "application/vnd.jupyter.widget-state+json": {
    "25c3251fb3604cf78173778c9ef40700": {
     "model_module": "@jupyter-widgets/base",
     "model_module_version": "1.2.0",
     "model_name": "LayoutModel",
     "state": {
      "_model_module": "@jupyter-widgets/base",
      "_model_module_version": "1.2.0",
      "_model_name": "LayoutModel",
      "_view_count": null,
      "_view_module": "@jupyter-widgets/base",
      "_view_module_version": "1.2.0",
      "_view_name": "LayoutView",
      "align_content": null,
      "align_items": null,
      "align_self": null,
      "border": null,
      "bottom": null,
      "display": null,
      "flex": null,
      "flex_flow": null,
      "grid_area": null,
      "grid_auto_columns": null,
      "grid_auto_flow": null,
      "grid_auto_rows": null,
      "grid_column": null,
      "grid_gap": null,
      "grid_row": null,
      "grid_template_areas": null,
      "grid_template_columns": null,
      "grid_template_rows": null,
      "height": null,
      "justify_content": null,
      "justify_items": null,
      "left": null,
      "margin": null,
      "max_height": null,
      "max_width": null,
      "min_height": null,
      "min_width": null,
      "object_fit": null,
      "object_position": null,
      "order": null,
      "overflow": null,
      "overflow_x": null,
      "overflow_y": null,
      "padding": null,
      "right": null,
      "top": null,
      "visibility": null,
      "width": null
     }
    },
    "4664eb6c3ffd4c919900698cb32b1c37": {
     "model_module": "@jupyter-widgets/base",
     "model_module_version": "1.2.0",
     "model_name": "LayoutModel",
     "state": {
      "_model_module": "@jupyter-widgets/base",
      "_model_module_version": "1.2.0",
      "_model_name": "LayoutModel",
      "_view_count": null,
      "_view_module": "@jupyter-widgets/base",
      "_view_module_version": "1.2.0",
      "_view_name": "LayoutView",
      "align_content": null,
      "align_items": null,
      "align_self": null,
      "border": null,
      "bottom": null,
      "display": null,
      "flex": null,
      "flex_flow": null,
      "grid_area": null,
      "grid_auto_columns": null,
      "grid_auto_flow": null,
      "grid_auto_rows": null,
      "grid_column": null,
      "grid_gap": null,
      "grid_row": null,
      "grid_template_areas": null,
      "grid_template_columns": null,
      "grid_template_rows": null,
      "height": null,
      "justify_content": null,
      "justify_items": null,
      "left": null,
      "margin": null,
      "max_height": null,
      "max_width": null,
      "min_height": null,
      "min_width": null,
      "object_fit": null,
      "object_position": null,
      "order": null,
      "overflow": null,
      "overflow_x": null,
      "overflow_y": null,
      "padding": null,
      "right": null,
      "top": null,
      "visibility": null,
      "width": null
     }
    },
    "4ebab1e156e44c8bb7846910a1f72db7": {
     "model_module": "@jupyter-widgets/controls",
     "model_module_version": "1.5.0",
     "model_name": "HTMLModel",
     "state": {
      "_dom_classes": [],
      "_model_module": "@jupyter-widgets/controls",
      "_model_module_version": "1.5.0",
      "_model_name": "HTMLModel",
      "_view_count": null,
      "_view_module": "@jupyter-widgets/controls",
      "_view_module_version": "1.5.0",
      "_view_name": "HTMLView",
      "description": "",
      "description_tooltip": null,
      "layout": "IPY_MODEL_25c3251fb3604cf78173778c9ef40700",
      "placeholder": "​",
      "style": "IPY_MODEL_f58eac912839488ead076366ff951081",
      "value": "Method ALL – Processing subject ALL – Val Accuracy: 11.23% | Best: 14.29%: 100%"
     }
    },
    "5a0e2e65e57740e4bbb251311a766d82": {
     "model_module": "@jupyter-widgets/controls",
     "model_module_version": "1.5.0",
     "model_name": "HBoxModel",
     "state": {
      "_dom_classes": [],
      "_model_module": "@jupyter-widgets/controls",
      "_model_module_version": "1.5.0",
      "_model_name": "HBoxModel",
      "_view_count": null,
      "_view_module": "@jupyter-widgets/controls",
      "_view_module_version": "1.5.0",
      "_view_name": "HBoxView",
      "box_style": "",
      "children": [
       "IPY_MODEL_4ebab1e156e44c8bb7846910a1f72db7",
       "IPY_MODEL_ee10237165ad47c18ca341aa7657a605",
       "IPY_MODEL_9722c6e893d244889f62b61a1167d198"
      ],
      "layout": "IPY_MODEL_9c8641ccc5014dfb9e809a716d373e24"
     }
    },
    "659c9b4b1c734b3b9d9411a645837530": {
     "model_module": "@jupyter-widgets/controls",
     "model_module_version": "1.5.0",
     "model_name": "ProgressStyleModel",
     "state": {
      "_model_module": "@jupyter-widgets/controls",
      "_model_module_version": "1.5.0",
      "_model_name": "ProgressStyleModel",
      "_view_count": null,
      "_view_module": "@jupyter-widgets/base",
      "_view_module_version": "1.2.0",
      "_view_name": "StyleView",
      "bar_color": null,
      "description_width": ""
     }
    },
    "9722c6e893d244889f62b61a1167d198": {
     "model_module": "@jupyter-widgets/controls",
     "model_module_version": "1.5.0",
     "model_name": "HTMLModel",
     "state": {
      "_dom_classes": [],
      "_model_module": "@jupyter-widgets/controls",
      "_model_module_version": "1.5.0",
      "_model_name": "HTMLModel",
      "_view_count": null,
      "_view_module": "@jupyter-widgets/controls",
      "_view_module_version": "1.5.0",
      "_view_name": "HTMLView",
      "description": "",
      "description_tooltip": null,
      "layout": "IPY_MODEL_4664eb6c3ffd4c919900698cb32b1c37",
      "placeholder": "​",
      "style": "IPY_MODEL_a0ec61f3051c4d8b811ee1d05e0ba82b",
      "value": " 500/500 [25:43&lt;00:00,  3.14s/it]"
     }
    },
    "9c8641ccc5014dfb9e809a716d373e24": {
     "model_module": "@jupyter-widgets/base",
     "model_module_version": "1.2.0",
     "model_name": "LayoutModel",
     "state": {
      "_model_module": "@jupyter-widgets/base",
      "_model_module_version": "1.2.0",
      "_model_name": "LayoutModel",
      "_view_count": null,
      "_view_module": "@jupyter-widgets/base",
      "_view_module_version": "1.2.0",
      "_view_name": "LayoutView",
      "align_content": null,
      "align_items": null,
      "align_self": null,
      "border": null,
      "bottom": null,
      "display": null,
      "flex": null,
      "flex_flow": null,
      "grid_area": null,
      "grid_auto_columns": null,
      "grid_auto_flow": null,
      "grid_auto_rows": null,
      "grid_column": null,
      "grid_gap": null,
      "grid_row": null,
      "grid_template_areas": null,
      "grid_template_columns": null,
      "grid_template_rows": null,
      "height": null,
      "justify_content": null,
      "justify_items": null,
      "left": null,
      "margin": null,
      "max_height": null,
      "max_width": null,
      "min_height": null,
      "min_width": null,
      "object_fit": null,
      "object_position": null,
      "order": null,
      "overflow": null,
      "overflow_x": null,
      "overflow_y": null,
      "padding": null,
      "right": null,
      "top": null,
      "visibility": null,
      "width": null
     }
    },
    "a0ec61f3051c4d8b811ee1d05e0ba82b": {
     "model_module": "@jupyter-widgets/controls",
     "model_module_version": "1.5.0",
     "model_name": "DescriptionStyleModel",
     "state": {
      "_model_module": "@jupyter-widgets/controls",
      "_model_module_version": "1.5.0",
      "_model_name": "DescriptionStyleModel",
      "_view_count": null,
      "_view_module": "@jupyter-widgets/base",
      "_view_module_version": "1.2.0",
      "_view_name": "StyleView",
      "description_width": ""
     }
    },
    "bfa6f43f525449b2b9eaefaf4964eba7": {
     "model_module": "@jupyter-widgets/base",
     "model_module_version": "1.2.0",
     "model_name": "LayoutModel",
     "state": {
      "_model_module": "@jupyter-widgets/base",
      "_model_module_version": "1.2.0",
      "_model_name": "LayoutModel",
      "_view_count": null,
      "_view_module": "@jupyter-widgets/base",
      "_view_module_version": "1.2.0",
      "_view_name": "LayoutView",
      "align_content": null,
      "align_items": null,
      "align_self": null,
      "border": null,
      "bottom": null,
      "display": null,
      "flex": null,
      "flex_flow": null,
      "grid_area": null,
      "grid_auto_columns": null,
      "grid_auto_flow": null,
      "grid_auto_rows": null,
      "grid_column": null,
      "grid_gap": null,
      "grid_row": null,
      "grid_template_areas": null,
      "grid_template_columns": null,
      "grid_template_rows": null,
      "height": null,
      "justify_content": null,
      "justify_items": null,
      "left": null,
      "margin": null,
      "max_height": null,
      "max_width": null,
      "min_height": null,
      "min_width": null,
      "object_fit": null,
      "object_position": null,
      "order": null,
      "overflow": null,
      "overflow_x": null,
      "overflow_y": null,
      "padding": null,
      "right": null,
      "top": null,
      "visibility": null,
      "width": null
     }
    },
    "ee10237165ad47c18ca341aa7657a605": {
     "model_module": "@jupyter-widgets/controls",
     "model_module_version": "1.5.0",
     "model_name": "FloatProgressModel",
     "state": {
      "_dom_classes": [],
      "_model_module": "@jupyter-widgets/controls",
      "_model_module_version": "1.5.0",
      "_model_name": "FloatProgressModel",
      "_view_count": null,
      "_view_module": "@jupyter-widgets/controls",
      "_view_module_version": "1.5.0",
      "_view_name": "ProgressView",
      "bar_style": "success",
      "description": "",
      "description_tooltip": null,
      "layout": "IPY_MODEL_bfa6f43f525449b2b9eaefaf4964eba7",
      "max": 500,
      "min": 0,
      "orientation": "horizontal",
      "style": "IPY_MODEL_659c9b4b1c734b3b9d9411a645837530",
      "value": 500
     }
    },
    "f58eac912839488ead076366ff951081": {
     "model_module": "@jupyter-widgets/controls",
     "model_module_version": "1.5.0",
     "model_name": "DescriptionStyleModel",
     "state": {
      "_model_module": "@jupyter-widgets/controls",
      "_model_module_version": "1.5.0",
      "_model_name": "DescriptionStyleModel",
      "_view_count": null,
      "_view_module": "@jupyter-widgets/base",
      "_view_module_version": "1.2.0",
      "_view_name": "StyleView",
      "description_width": ""
     }
    }
   }
  }
 },
 "nbformat": 4,
 "nbformat_minor": 5
}
