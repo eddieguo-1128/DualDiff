{
  "nbformat": 4,
  "nbformat_minor": 0,
  "metadata": {
    "colab": {
      "provenance": [],
      "gpuType": "T4",
      "authorship_tag": "ABX9TyOuzENxctn49HNjNmnJOE11",
      "include_colab_link": true
    },
    "kernelspec": {
      "name": "python3",
      "display_name": "Python 3"
    },
    "language_info": {
      "name": "python"
    },
    "accelerator": "GPU"
  },
  "cells": [
    {
      "cell_type": "markdown",
      "metadata": {
        "id": "view-in-github",
        "colab_type": "text"
      },
      "source": [
        "<a href=\"https://colab.research.google.com/github/amrzhd/EEGNet/blob/main/EEGNet.ipynb\" target=\"_parent\"><img src=\"https://colab.research.google.com/assets/colab-badge.svg\" alt=\"Open In Colab\"/></a>"
      ]
    },
    {
      "cell_type": "markdown",
      "source": [
        "# Motor Imagery Task Classification\n"
      ],
      "metadata": {
        "id": "x_5wKiVyBTzL"
      }
    },
    {
      "cell_type": "markdown",
      "source": [
        "#Extracting Data"
      ],
      "metadata": {
        "id": "O-3Lg9veBge0"
      }
    },
    {
      "cell_type": "markdown",
      "source": [
        "##Downloading BCI Competition IV 2a Dataset"
      ],
      "metadata": {
        "id": "W4JrI64nBl52"
      }
    },
    {
      "cell_type": "code",
      "execution_count": 1,
      "metadata": {
        "id": "_6jNZi8rBNjN",
        "colab": {
          "base_uri": "https://localhost:8080/"
        },
        "outputId": "88ac3846-5abc-411f-93f2-f4e96daeed4e"
      },
      "outputs": [
        {
          "output_type": "stream",
          "name": "stdout",
          "text": [
            "--2024-08-08 07:44:04--  https://www.bbci.de/competition/download/competition_iv/BCICIV_2a_gdf.zip\n",
            "Resolving www.bbci.de (www.bbci.de)... 130.149.80.149\n",
            "Connecting to www.bbci.de (www.bbci.de)|130.149.80.149|:443... connected.\n",
            "HTTP request sent, awaiting response... 200 OK\n",
            "Length: 439968864 (420M) [application/zip]\n",
            "Saving to: ‘BCICIV_2a_gdf.zip’\n",
            "\n",
            "BCICIV_2a_gdf.zip   100%[===================>] 419.59M   121MB/s    in 3.6s    \n",
            "\n",
            "2024-08-08 07:44:08 (116 MB/s) - ‘BCICIV_2a_gdf.zip’ saved [439968864/439968864]\n",
            "\n"
          ]
        }
      ],
      "source": [
        "!wget https://www.bbci.de/competition/download/competition_iv/BCICIV_2a_gdf.zip"
      ]
    },
    {
      "cell_type": "code",
      "source": [
        "!mkdir -p /content/cleaned_data/"
      ],
      "metadata": {
        "id": "5DbydQswB27q"
      },
      "execution_count": 2,
      "outputs": []
    },
    {
      "cell_type": "code",
      "source": [
        "%%capture\n",
        "!unzip /content/BCICIV_2a_gdf.zip -d raw_data"
      ],
      "metadata": {
        "id": "50hgj12yB54U"
      },
      "execution_count": 3,
      "outputs": []
    },
    {
      "cell_type": "markdown",
      "source": [
        "#Installing Packages"
      ],
      "metadata": {
        "id": "Y_mkff9aB-9w"
      }
    },
    {
      "cell_type": "code",
      "source": [
        "%%capture\n",
        "!pip install mne"
      ],
      "metadata": {
        "id": "mqHVmwYyCBsB"
      },
      "execution_count": 4,
      "outputs": []
    },
    {
      "cell_type": "code",
      "source": [
        "%%capture\n",
        "!pip install torch-summary"
      ],
      "metadata": {
        "id": "ueJFbf8KCCPw"
      },
      "execution_count": 5,
      "outputs": []
    },
    {
      "cell_type": "markdown",
      "source": [
        "#Libraries Used"
      ],
      "metadata": {
        "id": "crxgIV9ICD2T"
      }
    },
    {
      "cell_type": "code",
      "source": [
        "import os\n",
        "import mne\n",
        "import math\n",
        "import copy\n",
        "import gdown\n",
        "import random\n",
        "import scipy.io\n",
        "import numpy as np\n",
        "import pandas as pd\n",
        "import seaborn as sn\n",
        "import matplotlib.pyplot as plt\n",
        "\n",
        "# Torch\n",
        "import torch\n",
        "import torch.nn as nn\n",
        "import torch.optim as optim\n",
        "import torch.nn.functional as F\n",
        "from torchsummary import summary\n",
        "from torch.autograd import Variable\n",
        "from torch.utils.data import DataLoader, TensorDataset, random_split\n",
        "\n",
        "# Scikit-Learn\n",
        "from sklearn.feature_selection import mutual_info_classif\n",
        "from sklearn.metrics import confusion_matrix, accuracy_score\n",
        "from sklearn.model_selection import train_test_split"
      ],
      "metadata": {
        "id": "CEp96MytCGei"
      },
      "execution_count": 35,
      "outputs": []
    },
    {
      "cell_type": "markdown",
      "source": [
        "# Building Dataset"
      ],
      "metadata": {
        "id": "nn8IHP2_CQbH"
      }
    },
    {
      "cell_type": "code",
      "source": [
        "!mkdir -p /content/cleaned_data/first_session\n",
        "!mkdir -p /content/cleaned_data/second_session"
      ],
      "metadata": {
        "id": "JFtUH89-G48b"
      },
      "execution_count": 7,
      "outputs": []
    },
    {
      "cell_type": "markdown",
      "source": [
        "##First Session"
      ],
      "metadata": {
        "id": "f6Bmm_acGc4g"
      }
    },
    {
      "cell_type": "code",
      "source": [
        "raw_data_folder = '/content/raw_data/'\n",
        "cleaned_data_folder = '/content/cleaned_data/first_session/'\n",
        "files = os.listdir(raw_data_folder)\n",
        "\n",
        "# Selecting files with suffix 'T.gdf'\n",
        "filtered_files = [file for file in files if file.endswith('T.gdf')]\n",
        "\n",
        "raw_list = []\n",
        "\n",
        "# Iterating through filtered files\n",
        "for file in filtered_files:\n",
        "    file_path = os.path.join(raw_data_folder, file)\n",
        "\n",
        "    # Reading raw data\n",
        "    raw = mne.io.read_raw_gdf(file_path, eog=['EOG-left', 'EOG-central', 'EOG-right'], preload=True)\n",
        "    # Droping EOG channels\n",
        "    raw.drop_channels(['EOG-left', 'EOG-central', 'EOG-right'])\n",
        "\n",
        "    # High Pass Filtering 4-40 Hz\n",
        "    raw.filter(l_freq=4, h_freq=40, method='iir')\n",
        "\n",
        "    # Notch filter for Removal of Line Voltage\n",
        "    raw.notch_filter(freqs=50)\n",
        "\n",
        "    # Saving the modified raw data to a file with .fif suffix\n",
        "    new_file_path = os.path.join(cleaned_data_folder, file[:-4] + '.fif')\n",
        "    raw.save(new_file_path, overwrite=True)\n",
        "    # Appending data to the list\n",
        "    raw_list.append(raw)\n",
        "\n",
        "final_raw = mne.concatenate_raws(raw_list)\n",
        "new_file_path = os.path.join(cleaned_data_folder, 'First_Session_Subjects.fif')\n",
        "final_raw.save(new_file_path, overwrite=True)\n"
      ],
      "metadata": {
        "id": "X6ViqHGaCUWY",
        "colab": {
          "base_uri": "https://localhost:8080/"
        },
        "outputId": "39111580-ee4e-4543-f906-f9de7e97d6c7"
      },
      "execution_count": 8,
      "outputs": [
        {
          "output_type": "stream",
          "name": "stdout",
          "text": [
            "Extracting EDF parameters from /content/raw_data/A05T.gdf...\n",
            "GDF file detected\n",
            "Setting channel info structure...\n",
            "Could not determine channel type of the following channels, they will be set as EEG:\n",
            "EEG-Fz, EEG, EEG, EEG, EEG, EEG, EEG, EEG-C3, EEG, EEG-Cz, EEG, EEG-C4, EEG, EEG, EEG, EEG, EEG, EEG, EEG, EEG-Pz, EEG, EEG\n",
            "Creating raw.info structure...\n"
          ]
        },
        {
          "output_type": "stream",
          "name": "stderr",
          "text": [
            "/usr/lib/python3.10/contextlib.py:142: RuntimeWarning: Channel names are not unique, found duplicates for: {'EEG'}. Applying running numbers for duplicates.\n",
            "  next(self.gen)\n"
          ]
        },
        {
          "output_type": "stream",
          "name": "stdout",
          "text": [
            "Reading 0 ... 686119  =      0.000 ...  2744.476 secs...\n",
            "Filtering raw data in 1 contiguous segment\n",
            "Setting up band-pass filter from 4 - 40 Hz\n",
            "\n",
            "IIR filter parameters\n",
            "---------------------\n",
            "Butterworth bandpass zero-phase (two-pass forward and reverse) non-causal filter:\n",
            "- Filter order 16 (effective, after forward-backward)\n",
            "- Cutoffs at 4.00, 40.00 Hz: -6.02, -6.02 dB\n",
            "\n",
            "Filtering raw data in 1 contiguous segment\n",
            "Setting up band-stop filter from 49 - 51 Hz\n",
            "\n",
            "FIR filter parameters\n",
            "---------------------\n",
            "Designing a one-pass, zero-phase, non-causal bandstop filter:\n",
            "- Windowed time-domain design (firwin) method\n",
            "- Hamming window with 0.0194 passband ripple and 53 dB stopband attenuation\n",
            "- Lower passband edge: 49.38\n",
            "- Lower transition bandwidth: 0.50 Hz (-6 dB cutoff frequency: 49.12 Hz)\n",
            "- Upper passband edge: 50.62 Hz\n",
            "- Upper transition bandwidth: 0.50 Hz (-6 dB cutoff frequency: 50.88 Hz)\n",
            "- Filter length: 1651 samples (6.604 s)\n",
            "\n",
            "Writing /content/cleaned_data/first_session/A05T.fif\n"
          ]
        },
        {
          "output_type": "stream",
          "name": "stderr",
          "text": [
            "[Parallel(n_jobs=1)]: Done  17 tasks      | elapsed:    0.4s\n",
            "<ipython-input-8-52d09285b9e3>:27: RuntimeWarning: This filename (/content/cleaned_data/first_session/A05T.fif) does not conform to MNE naming conventions. All raw files should end with raw.fif, raw_sss.fif, raw_tsss.fif, _meg.fif, _eeg.fif, _ieeg.fif, raw.fif.gz, raw_sss.fif.gz, raw_tsss.fif.gz, _meg.fif.gz, _eeg.fif.gz or _ieeg.fif.gz\n",
            "  raw.save(new_file_path, overwrite=True)\n"
          ]
        },
        {
          "output_type": "stream",
          "name": "stdout",
          "text": [
            "Closing /content/cleaned_data/first_session/A05T.fif\n",
            "[done]\n",
            "Extracting EDF parameters from /content/raw_data/A04T.gdf...\n",
            "GDF file detected\n",
            "Setting channel info structure...\n",
            "Could not determine channel type of the following channels, they will be set as EEG:\n",
            "EEG-Fz, EEG, EEG, EEG, EEG, EEG, EEG, EEG-C3, EEG, EEG-Cz, EEG, EEG-C4, EEG, EEG, EEG, EEG, EEG, EEG, EEG, EEG-Pz, EEG, EEG\n",
            "Creating raw.info structure...\n",
            "Reading 0 ... 600914  =      0.000 ...  2403.656 secs...\n"
          ]
        },
        {
          "output_type": "stream",
          "name": "stderr",
          "text": [
            "/usr/lib/python3.10/contextlib.py:142: RuntimeWarning: Channel names are not unique, found duplicates for: {'EEG'}. Applying running numbers for duplicates.\n",
            "  next(self.gen)\n"
          ]
        },
        {
          "output_type": "stream",
          "name": "stdout",
          "text": [
            "Filtering raw data in 1 contiguous segment\n",
            "Setting up band-pass filter from 4 - 40 Hz\n",
            "\n",
            "IIR filter parameters\n",
            "---------------------\n",
            "Butterworth bandpass zero-phase (two-pass forward and reverse) non-causal filter:\n",
            "- Filter order 16 (effective, after forward-backward)\n",
            "- Cutoffs at 4.00, 40.00 Hz: -6.02, -6.02 dB\n",
            "\n",
            "Filtering raw data in 1 contiguous segment\n",
            "Setting up band-stop filter from 49 - 51 Hz\n",
            "\n",
            "FIR filter parameters\n",
            "---------------------\n",
            "Designing a one-pass, zero-phase, non-causal bandstop filter:\n",
            "- Windowed time-domain design (firwin) method\n",
            "- Hamming window with 0.0194 passband ripple and 53 dB stopband attenuation\n",
            "- Lower passband edge: 49.38\n",
            "- Lower transition bandwidth: 0.50 Hz (-6 dB cutoff frequency: 49.12 Hz)\n",
            "- Upper passband edge: 50.62 Hz\n",
            "- Upper transition bandwidth: 0.50 Hz (-6 dB cutoff frequency: 50.88 Hz)\n",
            "- Filter length: 1651 samples (6.604 s)\n",
            "\n",
            "Writing /content/cleaned_data/first_session/A04T.fif\n"
          ]
        },
        {
          "output_type": "stream",
          "name": "stderr",
          "text": [
            "[Parallel(n_jobs=1)]: Done  17 tasks      | elapsed:    0.3s\n",
            "<ipython-input-8-52d09285b9e3>:27: RuntimeWarning: This filename (/content/cleaned_data/first_session/A04T.fif) does not conform to MNE naming conventions. All raw files should end with raw.fif, raw_sss.fif, raw_tsss.fif, _meg.fif, _eeg.fif, _ieeg.fif, raw.fif.gz, raw_sss.fif.gz, raw_tsss.fif.gz, _meg.fif.gz, _eeg.fif.gz or _ieeg.fif.gz\n",
            "  raw.save(new_file_path, overwrite=True)\n"
          ]
        },
        {
          "output_type": "stream",
          "name": "stdout",
          "text": [
            "Closing /content/cleaned_data/first_session/A04T.fif\n",
            "[done]\n",
            "Extracting EDF parameters from /content/raw_data/A01T.gdf...\n",
            "GDF file detected\n",
            "Setting channel info structure...\n",
            "Could not determine channel type of the following channels, they will be set as EEG:\n",
            "EEG-Fz, EEG, EEG, EEG, EEG, EEG, EEG, EEG-C3, EEG, EEG-Cz, EEG, EEG-C4, EEG, EEG, EEG, EEG, EEG, EEG, EEG, EEG-Pz, EEG, EEG\n",
            "Creating raw.info structure...\n",
            "Reading 0 ... 672527  =      0.000 ...  2690.108 secs...\n"
          ]
        },
        {
          "output_type": "stream",
          "name": "stderr",
          "text": [
            "/usr/lib/python3.10/contextlib.py:142: RuntimeWarning: Channel names are not unique, found duplicates for: {'EEG'}. Applying running numbers for duplicates.\n",
            "  next(self.gen)\n"
          ]
        },
        {
          "output_type": "stream",
          "name": "stdout",
          "text": [
            "Filtering raw data in 1 contiguous segment\n",
            "Setting up band-pass filter from 4 - 40 Hz\n",
            "\n",
            "IIR filter parameters\n",
            "---------------------\n",
            "Butterworth bandpass zero-phase (two-pass forward and reverse) non-causal filter:\n",
            "- Filter order 16 (effective, after forward-backward)\n",
            "- Cutoffs at 4.00, 40.00 Hz: -6.02, -6.02 dB\n",
            "\n",
            "Filtering raw data in 1 contiguous segment\n",
            "Setting up band-stop filter from 49 - 51 Hz\n",
            "\n",
            "FIR filter parameters\n",
            "---------------------\n",
            "Designing a one-pass, zero-phase, non-causal bandstop filter:\n",
            "- Windowed time-domain design (firwin) method\n",
            "- Hamming window with 0.0194 passband ripple and 53 dB stopband attenuation\n",
            "- Lower passband edge: 49.38\n",
            "- Lower transition bandwidth: 0.50 Hz (-6 dB cutoff frequency: 49.12 Hz)\n",
            "- Upper passband edge: 50.62 Hz\n",
            "- Upper transition bandwidth: 0.50 Hz (-6 dB cutoff frequency: 50.88 Hz)\n",
            "- Filter length: 1651 samples (6.604 s)\n",
            "\n",
            "Writing /content/cleaned_data/first_session/A01T.fif\n"
          ]
        },
        {
          "output_type": "stream",
          "name": "stderr",
          "text": [
            "[Parallel(n_jobs=1)]: Done  17 tasks      | elapsed:    0.4s\n",
            "<ipython-input-8-52d09285b9e3>:27: RuntimeWarning: This filename (/content/cleaned_data/first_session/A01T.fif) does not conform to MNE naming conventions. All raw files should end with raw.fif, raw_sss.fif, raw_tsss.fif, _meg.fif, _eeg.fif, _ieeg.fif, raw.fif.gz, raw_sss.fif.gz, raw_tsss.fif.gz, _meg.fif.gz, _eeg.fif.gz or _ieeg.fif.gz\n",
            "  raw.save(new_file_path, overwrite=True)\n"
          ]
        },
        {
          "output_type": "stream",
          "name": "stdout",
          "text": [
            "Closing /content/cleaned_data/first_session/A01T.fif\n",
            "[done]\n",
            "Extracting EDF parameters from /content/raw_data/A09T.gdf...\n",
            "GDF file detected\n",
            "Setting channel info structure...\n",
            "Could not determine channel type of the following channels, they will be set as EEG:\n",
            "EEG-Fz, EEG, EEG, EEG, EEG, EEG, EEG, EEG-C3, EEG, EEG-Cz, EEG, EEG-C4, EEG, EEG, EEG, EEG, EEG, EEG, EEG, EEG-Pz, EEG, EEG\n",
            "Creating raw.info structure...\n",
            "Reading 0 ... 673327  =      0.000 ...  2693.308 secs...\n"
          ]
        },
        {
          "output_type": "stream",
          "name": "stderr",
          "text": [
            "/usr/lib/python3.10/contextlib.py:142: RuntimeWarning: Channel names are not unique, found duplicates for: {'EEG'}. Applying running numbers for duplicates.\n",
            "  next(self.gen)\n"
          ]
        },
        {
          "output_type": "stream",
          "name": "stdout",
          "text": [
            "Filtering raw data in 1 contiguous segment\n",
            "Setting up band-pass filter from 4 - 40 Hz\n",
            "\n",
            "IIR filter parameters\n",
            "---------------------\n",
            "Butterworth bandpass zero-phase (two-pass forward and reverse) non-causal filter:\n",
            "- Filter order 16 (effective, after forward-backward)\n",
            "- Cutoffs at 4.00, 40.00 Hz: -6.02, -6.02 dB\n",
            "\n",
            "Filtering raw data in 1 contiguous segment\n",
            "Setting up band-stop filter from 49 - 51 Hz\n",
            "\n",
            "FIR filter parameters\n",
            "---------------------\n",
            "Designing a one-pass, zero-phase, non-causal bandstop filter:\n",
            "- Windowed time-domain design (firwin) method\n",
            "- Hamming window with 0.0194 passband ripple and 53 dB stopband attenuation\n",
            "- Lower passband edge: 49.38\n",
            "- Lower transition bandwidth: 0.50 Hz (-6 dB cutoff frequency: 49.12 Hz)\n",
            "- Upper passband edge: 50.62 Hz\n",
            "- Upper transition bandwidth: 0.50 Hz (-6 dB cutoff frequency: 50.88 Hz)\n",
            "- Filter length: 1651 samples (6.604 s)\n",
            "\n",
            "Writing /content/cleaned_data/first_session/A09T.fif\n"
          ]
        },
        {
          "output_type": "stream",
          "name": "stderr",
          "text": [
            "[Parallel(n_jobs=1)]: Done  17 tasks      | elapsed:    0.4s\n",
            "<ipython-input-8-52d09285b9e3>:27: RuntimeWarning: This filename (/content/cleaned_data/first_session/A09T.fif) does not conform to MNE naming conventions. All raw files should end with raw.fif, raw_sss.fif, raw_tsss.fif, _meg.fif, _eeg.fif, _ieeg.fif, raw.fif.gz, raw_sss.fif.gz, raw_tsss.fif.gz, _meg.fif.gz, _eeg.fif.gz or _ieeg.fif.gz\n",
            "  raw.save(new_file_path, overwrite=True)\n"
          ]
        },
        {
          "output_type": "stream",
          "name": "stdout",
          "text": [
            "Closing /content/cleaned_data/first_session/A09T.fif\n",
            "[done]\n",
            "Extracting EDF parameters from /content/raw_data/A07T.gdf...\n",
            "GDF file detected\n",
            "Setting channel info structure...\n",
            "Could not determine channel type of the following channels, they will be set as EEG:\n",
            "EEG-Fz, EEG, EEG, EEG, EEG, EEG, EEG, EEG-C3, EEG, EEG-Cz, EEG, EEG-C4, EEG, EEG, EEG, EEG, EEG, EEG, EEG, EEG-Pz, EEG, EEG\n",
            "Creating raw.info structure...\n",
            "Reading 0 ... 681070  =      0.000 ...  2724.280 secs...\n"
          ]
        },
        {
          "output_type": "stream",
          "name": "stderr",
          "text": [
            "/usr/lib/python3.10/contextlib.py:142: RuntimeWarning: Channel names are not unique, found duplicates for: {'EEG'}. Applying running numbers for duplicates.\n",
            "  next(self.gen)\n"
          ]
        },
        {
          "output_type": "stream",
          "name": "stdout",
          "text": [
            "Filtering raw data in 1 contiguous segment\n",
            "Setting up band-pass filter from 4 - 40 Hz\n",
            "\n",
            "IIR filter parameters\n",
            "---------------------\n",
            "Butterworth bandpass zero-phase (two-pass forward and reverse) non-causal filter:\n",
            "- Filter order 16 (effective, after forward-backward)\n",
            "- Cutoffs at 4.00, 40.00 Hz: -6.02, -6.02 dB\n",
            "\n",
            "Filtering raw data in 1 contiguous segment\n",
            "Setting up band-stop filter from 49 - 51 Hz\n",
            "\n",
            "FIR filter parameters\n",
            "---------------------\n",
            "Designing a one-pass, zero-phase, non-causal bandstop filter:\n",
            "- Windowed time-domain design (firwin) method\n",
            "- Hamming window with 0.0194 passband ripple and 53 dB stopband attenuation\n",
            "- Lower passband edge: 49.38\n",
            "- Lower transition bandwidth: 0.50 Hz (-6 dB cutoff frequency: 49.12 Hz)\n",
            "- Upper passband edge: 50.62 Hz\n",
            "- Upper transition bandwidth: 0.50 Hz (-6 dB cutoff frequency: 50.88 Hz)\n",
            "- Filter length: 1651 samples (6.604 s)\n",
            "\n",
            "Writing /content/cleaned_data/first_session/A07T.fif\n"
          ]
        },
        {
          "output_type": "stream",
          "name": "stderr",
          "text": [
            "[Parallel(n_jobs=1)]: Done  17 tasks      | elapsed:    0.4s\n",
            "<ipython-input-8-52d09285b9e3>:27: RuntimeWarning: This filename (/content/cleaned_data/first_session/A07T.fif) does not conform to MNE naming conventions. All raw files should end with raw.fif, raw_sss.fif, raw_tsss.fif, _meg.fif, _eeg.fif, _ieeg.fif, raw.fif.gz, raw_sss.fif.gz, raw_tsss.fif.gz, _meg.fif.gz, _eeg.fif.gz or _ieeg.fif.gz\n",
            "  raw.save(new_file_path, overwrite=True)\n"
          ]
        },
        {
          "output_type": "stream",
          "name": "stdout",
          "text": [
            "Closing /content/cleaned_data/first_session/A07T.fif\n",
            "[done]\n",
            "Extracting EDF parameters from /content/raw_data/A08T.gdf...\n",
            "GDF file detected\n",
            "Setting channel info structure...\n",
            "Could not determine channel type of the following channels, they will be set as EEG:\n",
            "EEG-Fz, EEG, EEG, EEG, EEG, EEG, EEG, EEG-C3, EEG, EEG-Cz, EEG, EEG-C4, EEG, EEG, EEG, EEG, EEG, EEG, EEG, EEG-Pz, EEG, EEG\n",
            "Creating raw.info structure...\n",
            "Reading 0 ... 675269  =      0.000 ...  2701.076 secs...\n"
          ]
        },
        {
          "output_type": "stream",
          "name": "stderr",
          "text": [
            "/usr/lib/python3.10/contextlib.py:142: RuntimeWarning: Channel names are not unique, found duplicates for: {'EEG'}. Applying running numbers for duplicates.\n",
            "  next(self.gen)\n"
          ]
        },
        {
          "output_type": "stream",
          "name": "stdout",
          "text": [
            "Filtering raw data in 1 contiguous segment\n",
            "Setting up band-pass filter from 4 - 40 Hz\n",
            "\n",
            "IIR filter parameters\n",
            "---------------------\n",
            "Butterworth bandpass zero-phase (two-pass forward and reverse) non-causal filter:\n",
            "- Filter order 16 (effective, after forward-backward)\n",
            "- Cutoffs at 4.00, 40.00 Hz: -6.02, -6.02 dB\n",
            "\n",
            "Filtering raw data in 1 contiguous segment\n",
            "Setting up band-stop filter from 49 - 51 Hz\n",
            "\n",
            "FIR filter parameters\n",
            "---------------------\n",
            "Designing a one-pass, zero-phase, non-causal bandstop filter:\n",
            "- Windowed time-domain design (firwin) method\n",
            "- Hamming window with 0.0194 passband ripple and 53 dB stopband attenuation\n",
            "- Lower passband edge: 49.38\n",
            "- Lower transition bandwidth: 0.50 Hz (-6 dB cutoff frequency: 49.12 Hz)\n",
            "- Upper passband edge: 50.62 Hz\n",
            "- Upper transition bandwidth: 0.50 Hz (-6 dB cutoff frequency: 50.88 Hz)\n",
            "- Filter length: 1651 samples (6.604 s)\n",
            "\n",
            "Writing /content/cleaned_data/first_session/A08T.fif\n"
          ]
        },
        {
          "output_type": "stream",
          "name": "stderr",
          "text": [
            "[Parallel(n_jobs=1)]: Done  17 tasks      | elapsed:    0.4s\n",
            "<ipython-input-8-52d09285b9e3>:27: RuntimeWarning: This filename (/content/cleaned_data/first_session/A08T.fif) does not conform to MNE naming conventions. All raw files should end with raw.fif, raw_sss.fif, raw_tsss.fif, _meg.fif, _eeg.fif, _ieeg.fif, raw.fif.gz, raw_sss.fif.gz, raw_tsss.fif.gz, _meg.fif.gz, _eeg.fif.gz or _ieeg.fif.gz\n",
            "  raw.save(new_file_path, overwrite=True)\n"
          ]
        },
        {
          "output_type": "stream",
          "name": "stdout",
          "text": [
            "Closing /content/cleaned_data/first_session/A08T.fif\n",
            "[done]\n",
            "Extracting EDF parameters from /content/raw_data/A03T.gdf...\n",
            "GDF file detected\n",
            "Setting channel info structure...\n",
            "Could not determine channel type of the following channels, they will be set as EEG:\n",
            "EEG-Fz, EEG, EEG, EEG, EEG, EEG, EEG, EEG-C3, EEG, EEG-Cz, EEG, EEG-C4, EEG, EEG, EEG, EEG, EEG, EEG, EEG, EEG-Pz, EEG, EEG\n",
            "Creating raw.info structure...\n",
            "Reading 0 ... 660529  =      0.000 ...  2642.116 secs...\n"
          ]
        },
        {
          "output_type": "stream",
          "name": "stderr",
          "text": [
            "/usr/lib/python3.10/contextlib.py:142: RuntimeWarning: Channel names are not unique, found duplicates for: {'EEG'}. Applying running numbers for duplicates.\n",
            "  next(self.gen)\n"
          ]
        },
        {
          "output_type": "stream",
          "name": "stdout",
          "text": [
            "Filtering raw data in 1 contiguous segment\n",
            "Setting up band-pass filter from 4 - 40 Hz\n",
            "\n",
            "IIR filter parameters\n",
            "---------------------\n",
            "Butterworth bandpass zero-phase (two-pass forward and reverse) non-causal filter:\n",
            "- Filter order 16 (effective, after forward-backward)\n",
            "- Cutoffs at 4.00, 40.00 Hz: -6.02, -6.02 dB\n",
            "\n",
            "Filtering raw data in 1 contiguous segment\n",
            "Setting up band-stop filter from 49 - 51 Hz\n",
            "\n",
            "FIR filter parameters\n",
            "---------------------\n",
            "Designing a one-pass, zero-phase, non-causal bandstop filter:\n",
            "- Windowed time-domain design (firwin) method\n",
            "- Hamming window with 0.0194 passband ripple and 53 dB stopband attenuation\n",
            "- Lower passband edge: 49.38\n",
            "- Lower transition bandwidth: 0.50 Hz (-6 dB cutoff frequency: 49.12 Hz)\n",
            "- Upper passband edge: 50.62 Hz\n",
            "- Upper transition bandwidth: 0.50 Hz (-6 dB cutoff frequency: 50.88 Hz)\n",
            "- Filter length: 1651 samples (6.604 s)\n",
            "\n",
            "Writing /content/cleaned_data/first_session/A03T.fif\n"
          ]
        },
        {
          "output_type": "stream",
          "name": "stderr",
          "text": [
            "[Parallel(n_jobs=1)]: Done  17 tasks      | elapsed:    0.3s\n",
            "<ipython-input-8-52d09285b9e3>:27: RuntimeWarning: This filename (/content/cleaned_data/first_session/A03T.fif) does not conform to MNE naming conventions. All raw files should end with raw.fif, raw_sss.fif, raw_tsss.fif, _meg.fif, _eeg.fif, _ieeg.fif, raw.fif.gz, raw_sss.fif.gz, raw_tsss.fif.gz, _meg.fif.gz, _eeg.fif.gz or _ieeg.fif.gz\n",
            "  raw.save(new_file_path, overwrite=True)\n"
          ]
        },
        {
          "output_type": "stream",
          "name": "stdout",
          "text": [
            "Closing /content/cleaned_data/first_session/A03T.fif\n",
            "[done]\n",
            "Extracting EDF parameters from /content/raw_data/A02T.gdf...\n",
            "GDF file detected\n",
            "Setting channel info structure...\n",
            "Could not determine channel type of the following channels, they will be set as EEG:\n",
            "EEG-Fz, EEG, EEG, EEG, EEG, EEG, EEG, EEG-C3, EEG, EEG-Cz, EEG, EEG-C4, EEG, EEG, EEG, EEG, EEG, EEG, EEG, EEG-Pz, EEG, EEG\n",
            "Creating raw.info structure...\n",
            "Reading 0 ... 677168  =      0.000 ...  2708.672 secs...\n"
          ]
        },
        {
          "output_type": "stream",
          "name": "stderr",
          "text": [
            "/usr/lib/python3.10/contextlib.py:142: RuntimeWarning: Channel names are not unique, found duplicates for: {'EEG'}. Applying running numbers for duplicates.\n",
            "  next(self.gen)\n"
          ]
        },
        {
          "output_type": "stream",
          "name": "stdout",
          "text": [
            "Filtering raw data in 1 contiguous segment\n",
            "Setting up band-pass filter from 4 - 40 Hz\n",
            "\n",
            "IIR filter parameters\n",
            "---------------------\n",
            "Butterworth bandpass zero-phase (two-pass forward and reverse) non-causal filter:\n",
            "- Filter order 16 (effective, after forward-backward)\n",
            "- Cutoffs at 4.00, 40.00 Hz: -6.02, -6.02 dB\n",
            "\n",
            "Filtering raw data in 1 contiguous segment\n",
            "Setting up band-stop filter from 49 - 51 Hz\n",
            "\n",
            "FIR filter parameters\n",
            "---------------------\n",
            "Designing a one-pass, zero-phase, non-causal bandstop filter:\n",
            "- Windowed time-domain design (firwin) method\n",
            "- Hamming window with 0.0194 passband ripple and 53 dB stopband attenuation\n",
            "- Lower passband edge: 49.38\n",
            "- Lower transition bandwidth: 0.50 Hz (-6 dB cutoff frequency: 49.12 Hz)\n",
            "- Upper passband edge: 50.62 Hz\n",
            "- Upper transition bandwidth: 0.50 Hz (-6 dB cutoff frequency: 50.88 Hz)\n",
            "- Filter length: 1651 samples (6.604 s)\n",
            "\n",
            "Writing /content/cleaned_data/first_session/A02T.fif\n"
          ]
        },
        {
          "output_type": "stream",
          "name": "stderr",
          "text": [
            "[Parallel(n_jobs=1)]: Done  17 tasks      | elapsed:    0.4s\n",
            "<ipython-input-8-52d09285b9e3>:27: RuntimeWarning: This filename (/content/cleaned_data/first_session/A02T.fif) does not conform to MNE naming conventions. All raw files should end with raw.fif, raw_sss.fif, raw_tsss.fif, _meg.fif, _eeg.fif, _ieeg.fif, raw.fif.gz, raw_sss.fif.gz, raw_tsss.fif.gz, _meg.fif.gz, _eeg.fif.gz or _ieeg.fif.gz\n",
            "  raw.save(new_file_path, overwrite=True)\n"
          ]
        },
        {
          "output_type": "stream",
          "name": "stdout",
          "text": [
            "Closing /content/cleaned_data/first_session/A02T.fif\n",
            "[done]\n",
            "Extracting EDF parameters from /content/raw_data/A06T.gdf...\n",
            "GDF file detected\n",
            "Setting channel info structure...\n",
            "Could not determine channel type of the following channels, they will be set as EEG:\n",
            "EEG-Fz, EEG, EEG, EEG, EEG, EEG, EEG, EEG-C3, EEG, EEG-Cz, EEG, EEG-C4, EEG, EEG, EEG, EEG, EEG, EEG, EEG, EEG-Pz, EEG, EEG\n",
            "Creating raw.info structure...\n",
            "Reading 0 ... 678979  =      0.000 ...  2715.916 secs...\n"
          ]
        },
        {
          "output_type": "stream",
          "name": "stderr",
          "text": [
            "/usr/lib/python3.10/contextlib.py:142: RuntimeWarning: Channel names are not unique, found duplicates for: {'EEG'}. Applying running numbers for duplicates.\n",
            "  next(self.gen)\n"
          ]
        },
        {
          "output_type": "stream",
          "name": "stdout",
          "text": [
            "Filtering raw data in 1 contiguous segment\n",
            "Setting up band-pass filter from 4 - 40 Hz\n",
            "\n",
            "IIR filter parameters\n",
            "---------------------\n",
            "Butterworth bandpass zero-phase (two-pass forward and reverse) non-causal filter:\n",
            "- Filter order 16 (effective, after forward-backward)\n",
            "- Cutoffs at 4.00, 40.00 Hz: -6.02, -6.02 dB\n",
            "\n",
            "Filtering raw data in 1 contiguous segment\n",
            "Setting up band-stop filter from 49 - 51 Hz\n",
            "\n",
            "FIR filter parameters\n",
            "---------------------\n",
            "Designing a one-pass, zero-phase, non-causal bandstop filter:\n",
            "- Windowed time-domain design (firwin) method\n",
            "- Hamming window with 0.0194 passband ripple and 53 dB stopband attenuation\n",
            "- Lower passband edge: 49.38\n",
            "- Lower transition bandwidth: 0.50 Hz (-6 dB cutoff frequency: 49.12 Hz)\n",
            "- Upper passband edge: 50.62 Hz\n",
            "- Upper transition bandwidth: 0.50 Hz (-6 dB cutoff frequency: 50.88 Hz)\n",
            "- Filter length: 1651 samples (6.604 s)\n",
            "\n",
            "Writing /content/cleaned_data/first_session/A06T.fif\n"
          ]
        },
        {
          "output_type": "stream",
          "name": "stderr",
          "text": [
            "[Parallel(n_jobs=1)]: Done  17 tasks      | elapsed:    0.6s\n",
            "<ipython-input-8-52d09285b9e3>:27: RuntimeWarning: This filename (/content/cleaned_data/first_session/A06T.fif) does not conform to MNE naming conventions. All raw files should end with raw.fif, raw_sss.fif, raw_tsss.fif, _meg.fif, _eeg.fif, _ieeg.fif, raw.fif.gz, raw_sss.fif.gz, raw_tsss.fif.gz, _meg.fif.gz, _eeg.fif.gz or _ieeg.fif.gz\n",
            "  raw.save(new_file_path, overwrite=True)\n"
          ]
        },
        {
          "output_type": "stream",
          "name": "stdout",
          "text": [
            "Closing /content/cleaned_data/first_session/A06T.fif\n",
            "[done]\n",
            "Writing /content/cleaned_data/first_session/First_Session_Subjects.fif\n"
          ]
        },
        {
          "output_type": "stream",
          "name": "stderr",
          "text": [
            "<ipython-input-8-52d09285b9e3>:33: RuntimeWarning: This filename (/content/cleaned_data/first_session/First_Session_Subjects.fif) does not conform to MNE naming conventions. All raw files should end with raw.fif, raw_sss.fif, raw_tsss.fif, _meg.fif, _eeg.fif, _ieeg.fif, raw.fif.gz, raw_sss.fif.gz, raw_tsss.fif.gz, _meg.fif.gz, _eeg.fif.gz or _ieeg.fif.gz\n",
            "  final_raw.save(new_file_path, overwrite=True)\n"
          ]
        },
        {
          "output_type": "stream",
          "name": "stdout",
          "text": [
            "Closing /content/cleaned_data/first_session/First_Session_Subjects.fif\n",
            "[done]\n"
          ]
        }
      ]
    },
    {
      "cell_type": "markdown",
      "source": [
        "**List of the events**  \n",
        "'1023': 1 Rejected trial  \n",
        "'1072': 2 Eye movements  \n",
        "'276': 3 Idling EEG (eyes open)  \n",
        "'277': 4 Idling EEG (eyes closed)  \n",
        "'32766': 5 Start of a new run  \n",
        "'768': 6 Start of a trial  \n",
        "'769': 7 Cue onset **Left** (class 1) : 0  \n",
        "'770': 8 Cue onset **Right** (class 2) : 1  \n",
        "'771': 9 Cue onset **Foot** (class 3) : 2  \n",
        "'772': 10 Cue onset **Tongue** (class 4): 3"
      ],
      "metadata": {
        "id": "wNqq3V3rCiPn"
      }
    },
    {
      "cell_type": "code",
      "source": [
        "events = mne.events_from_annotations(final_raw)\n",
        "events[1]"
      ],
      "metadata": {
        "id": "-9RZjQbWCoc0",
        "colab": {
          "base_uri": "https://localhost:8080/"
        },
        "outputId": "fbbd728f-9f7f-457e-d4c9-eaefe67bafa1"
      },
      "execution_count": 9,
      "outputs": [
        {
          "output_type": "stream",
          "name": "stdout",
          "text": [
            "Used Annotations descriptions: ['1023', '1072', '276', '277', '32766', '768', '769', '770', '771', '772']\n"
          ]
        },
        {
          "output_type": "execute_result",
          "data": {
            "text/plain": [
              "{'1023': 1,\n",
              " '1072': 2,\n",
              " '276': 3,\n",
              " '277': 4,\n",
              " '32766': 5,\n",
              " '768': 6,\n",
              " '769': 7,\n",
              " '770': 8,\n",
              " '771': 9,\n",
              " '772': 10}"
            ]
          },
          "metadata": {},
          "execution_count": 9
        }
      ]
    },
    {
      "cell_type": "markdown",
      "source": [
        "**Time choice:**  \n",
        "[0.s, 4s] Post Cue on set:  [2s, 6s]"
      ],
      "metadata": {
        "id": "PJAI_olujhxI"
      }
    },
    {
      "cell_type": "code",
      "source": [
        "epochs = mne.Epochs(final_raw, events[0], event_id=[7, 8, 9, 10], tmin=0, tmax=4, reject=None, baseline=None, preload=True)\n",
        "first_session_data = epochs.get_data(copy=True)\n",
        "first_session_labels = epochs.events[:,-1]"
      ],
      "metadata": {
        "id": "OaAuA1mQCqcP",
        "colab": {
          "base_uri": "https://localhost:8080/"
        },
        "outputId": "4d33fb54-48f8-4eb9-c516-1b97747e39d6"
      },
      "execution_count": 10,
      "outputs": [
        {
          "output_type": "stream",
          "name": "stdout",
          "text": [
            "Not setting metadata\n",
            "2592 matching events found\n",
            "No baseline correction applied\n",
            "0 projection items activated\n",
            "Using data from preloaded Raw for 2592 events and 1001 original time points ...\n",
            "0 bad epochs dropped\n"
          ]
        }
      ]
    },
    {
      "cell_type": "code",
      "source": [
        "print(\"First_session_dataset shape:\",first_session_data.shape)"
      ],
      "metadata": {
        "id": "rVNRjQbfCs3-",
        "colab": {
          "base_uri": "https://localhost:8080/"
        },
        "outputId": "041d64ef-2b44-49e8-d554-90bc0992bc36"
      },
      "execution_count": 11,
      "outputs": [
        {
          "output_type": "stream",
          "name": "stdout",
          "text": [
            "First_session_dataset shape: (2592, 22, 1001)\n"
          ]
        }
      ]
    },
    {
      "cell_type": "markdown",
      "source": [
        "##Second Session"
      ],
      "metadata": {
        "id": "JJva8vhuMAtc"
      }
    },
    {
      "cell_type": "markdown",
      "source": [
        "###Extracting Labels for datas with \"E.gdf\" prefix"
      ],
      "metadata": {
        "id": "bzQH8SI9MI72"
      }
    },
    {
      "cell_type": "code",
      "source": [
        "# Replace this with your actual shareable link\n",
        "shareable_link = 'https://drive.google.com/file/d/11Ke2Xta1kv2xu2Mybuu_X51zJYjQ-VFo/view?usp=drive_link'\n",
        "\n",
        "# Extract file ID from the shareable link\n",
        "file_id = shareable_link.split('/d/')[1].split('/view')[0]\n",
        "\n",
        "# Create the direct download link\n",
        "download_url = f'https://drive.google.com/uc?id={file_id}&export=download'\n",
        "\n",
        "# Specify the output file path\n",
        "output_file = 'true_labels.zip'\n",
        "\n",
        "# Download the file\n",
        "gdown.download(download_url, output_file, quiet=False)"
      ],
      "metadata": {
        "id": "MjLuwdcgMD_l",
        "colab": {
          "base_uri": "https://localhost:8080/",
          "height": 108
        },
        "outputId": "be18a549-c7b2-4c6a-aa71-312a29c8e3a2"
      },
      "execution_count": 12,
      "outputs": [
        {
          "output_type": "stream",
          "name": "stderr",
          "text": [
            "Downloading...\n",
            "From: https://drive.google.com/uc?id=11Ke2Xta1kv2xu2Mybuu_X51zJYjQ-VFo&export=download\n",
            "To: /content/true_labels.zip\n",
            "100%|██████████| 7.20k/7.20k [00:00<00:00, 8.97MB/s]\n"
          ]
        },
        {
          "output_type": "execute_result",
          "data": {
            "text/plain": [
              "'true_labels.zip'"
            ],
            "application/vnd.google.colaboratory.intrinsic+json": {
              "type": "string"
            }
          },
          "metadata": {},
          "execution_count": 12
        }
      ]
    },
    {
      "cell_type": "code",
      "source": [
        "%%capture\n",
        "!unzip /content/true_labels.zip -d second_session_labels"
      ],
      "metadata": {
        "id": "03wA4VGpMZNS"
      },
      "execution_count": 13,
      "outputs": []
    },
    {
      "cell_type": "markdown",
      "source": [
        "###Extracting datas of second session"
      ],
      "metadata": {
        "id": "1iijTs3RMdCo"
      }
    },
    {
      "cell_type": "code",
      "source": [
        "raw_data_folder = '/content/raw_data/'\n",
        "cleaned_data_folder = '/content/cleaned_data/second_session/'\n",
        "mat_folder = '/content/second_session_labels/'\n",
        "\n",
        "# Selecting files with suffix 'E.mat'\n",
        "mat_files = os.listdir(mat_folder)\n",
        "filtered_math_labels = [file for file in mat_files if file.endswith('E.mat')]\n",
        "\n",
        "# Selecting files with suffix 'E.gdf'\n",
        "files = os.listdir(raw_data_folder)\n",
        "filtered_files = [file for file in files if file.endswith('E.gdf')]\n",
        "\n",
        "raw_list = []\n",
        "second_session_labels = np.array([])\n",
        "# Iterating through filtered files\n",
        "for file in filtered_files:\n",
        "    file_path = os.path.join(raw_data_folder, file)\n",
        "\n",
        "    # Reading raw data\n",
        "    raw = mne.io.read_raw_gdf(file_path, eog=['EOG-left', 'EOG-central', 'EOG-right'], preload=True)\n",
        "    # Droping EOG channels\n",
        "    raw.drop_channels(['EOG-left', 'EOG-central', 'EOG-right'])\n",
        "\n",
        "    # High Pass Filtering 4-40 Hz\n",
        "    raw.filter(l_freq=4, h_freq=40, method='iir')\n",
        "\n",
        "    # Saving the modified raw data to a file with .fif suffix\n",
        "    new_file_path = os.path.join(cleaned_data_folder, file[:-4] + '.fif')\n",
        "    raw.save(new_file_path, overwrite=True)\n",
        "    # Appending data to t he list\n",
        "    raw_list.append(raw)\n",
        "\n",
        "    # Mat files for the labels\n",
        "    mat_file_name = file.replace('.gdf', '.mat')\n",
        "    mat_file_path = os.path.join(mat_folder, mat_file_name)\n",
        "    print(f\"data:{file}, label:{mat_file_name}\")\n",
        "\n",
        "    if os.path.exists(mat_file_path):\n",
        "        mat_data = scipy.io.loadmat(mat_file_path)\n",
        "        class_labels = mat_data.get('classlabel', [])\n",
        "\n",
        "        # Check if 'classlabel' key exists and is not empty\n",
        "        if class_labels.size > 0:\n",
        "             # Convert to a NumPy array and flatten\n",
        "            class_labels_array = np.array(class_labels, dtype=int).flatten()\n",
        "            # Concatenate with the existing test_labels array\n",
        "            second_session_labels = np.concatenate((second_session_labels, class_labels_array))\n",
        "        else:\n",
        "            print(f\"Warning: 'classlabel' not found or empty in {mat_file_name}.\")\n",
        "    else:\n",
        "        print(f\"Warning: {mat_file_name} not found.\")\n",
        "\n",
        "final_raw = mne.concatenate_raws(raw_list)\n",
        "new_file_path = os.path.join(cleaned_data_folder, 'Second_Session_Subjects.fif')\n",
        "final_raw.save(new_file_path, overwrite=True)"
      ],
      "metadata": {
        "id": "GbOQB2gDMgOf",
        "colab": {
          "base_uri": "https://localhost:8080/"
        },
        "outputId": "323909f4-addc-4880-c4ae-7a5dbf1172ed"
      },
      "execution_count": 14,
      "outputs": [
        {
          "output_type": "stream",
          "name": "stdout",
          "text": [
            "Extracting EDF parameters from /content/raw_data/A06E.gdf...\n",
            "GDF file detected\n",
            "Setting channel info structure...\n",
            "Could not determine channel type of the following channels, they will be set as EEG:\n",
            "EEG-Fz, EEG, EEG, EEG, EEG, EEG, EEG, EEG-C3, EEG, EEG-Cz, EEG, EEG-C4, EEG, EEG, EEG, EEG, EEG, EEG, EEG, EEG-Pz, EEG, EEG\n",
            "Creating raw.info structure...\n",
            "Reading 0 ... 666372  =      0.000 ...  2665.488 secs...\n"
          ]
        },
        {
          "output_type": "stream",
          "name": "stderr",
          "text": [
            "/usr/lib/python3.10/contextlib.py:142: RuntimeWarning: Channel names are not unique, found duplicates for: {'EEG'}. Applying running numbers for duplicates.\n",
            "  next(self.gen)\n"
          ]
        },
        {
          "output_type": "stream",
          "name": "stdout",
          "text": [
            "Filtering raw data in 1 contiguous segment\n",
            "Setting up band-pass filter from 4 - 40 Hz\n",
            "\n",
            "IIR filter parameters\n",
            "---------------------\n",
            "Butterworth bandpass zero-phase (two-pass forward and reverse) non-causal filter:\n",
            "- Filter order 16 (effective, after forward-backward)\n",
            "- Cutoffs at 4.00, 40.00 Hz: -6.02, -6.02 dB\n",
            "\n",
            "Writing /content/cleaned_data/second_session/A06E.fif\n"
          ]
        },
        {
          "output_type": "stream",
          "name": "stderr",
          "text": [
            "<ipython-input-14-17b2bcb1c589>:29: RuntimeWarning: This filename (/content/cleaned_data/second_session/A06E.fif) does not conform to MNE naming conventions. All raw files should end with raw.fif, raw_sss.fif, raw_tsss.fif, _meg.fif, _eeg.fif, _ieeg.fif, raw.fif.gz, raw_sss.fif.gz, raw_tsss.fif.gz, _meg.fif.gz, _eeg.fif.gz or _ieeg.fif.gz\n",
            "  raw.save(new_file_path, overwrite=True)\n"
          ]
        },
        {
          "output_type": "stream",
          "name": "stdout",
          "text": [
            "Closing /content/cleaned_data/second_session/A06E.fif\n",
            "[done]\n",
            "data:A06E.gdf, label:A06E.mat\n",
            "Extracting EDF parameters from /content/raw_data/A03E.gdf...\n",
            "GDF file detected\n",
            "Setting channel info structure...\n",
            "Could not determine channel type of the following channels, they will be set as EEG:\n",
            "EEG-Fz, EEG, EEG, EEG, EEG, EEG, EEG, EEG-C3, EEG, EEG-Cz, EEG, EEG-C4, EEG, EEG, EEG, EEG, EEG, EEG, EEG, EEG-Pz, EEG, EEG\n",
            "Creating raw.info structure...\n",
            "Reading 0 ... 648774  =      0.000 ...  2595.096 secs...\n"
          ]
        },
        {
          "output_type": "stream",
          "name": "stderr",
          "text": [
            "/usr/lib/python3.10/contextlib.py:142: RuntimeWarning: Channel names are not unique, found duplicates for: {'EEG'}. Applying running numbers for duplicates.\n",
            "  next(self.gen)\n"
          ]
        },
        {
          "output_type": "stream",
          "name": "stdout",
          "text": [
            "Filtering raw data in 1 contiguous segment\n",
            "Setting up band-pass filter from 4 - 40 Hz\n",
            "\n",
            "IIR filter parameters\n",
            "---------------------\n",
            "Butterworth bandpass zero-phase (two-pass forward and reverse) non-causal filter:\n",
            "- Filter order 16 (effective, after forward-backward)\n",
            "- Cutoffs at 4.00, 40.00 Hz: -6.02, -6.02 dB\n",
            "\n",
            "Writing /content/cleaned_data/second_session/A03E.fif\n"
          ]
        },
        {
          "output_type": "stream",
          "name": "stderr",
          "text": [
            "<ipython-input-14-17b2bcb1c589>:29: RuntimeWarning: This filename (/content/cleaned_data/second_session/A03E.fif) does not conform to MNE naming conventions. All raw files should end with raw.fif, raw_sss.fif, raw_tsss.fif, _meg.fif, _eeg.fif, _ieeg.fif, raw.fif.gz, raw_sss.fif.gz, raw_tsss.fif.gz, _meg.fif.gz, _eeg.fif.gz or _ieeg.fif.gz\n",
            "  raw.save(new_file_path, overwrite=True)\n"
          ]
        },
        {
          "output_type": "stream",
          "name": "stdout",
          "text": [
            "Closing /content/cleaned_data/second_session/A03E.fif\n",
            "[done]\n",
            "data:A03E.gdf, label:A03E.mat\n",
            "Extracting EDF parameters from /content/raw_data/A01E.gdf...\n",
            "GDF file detected\n",
            "Setting channel info structure...\n",
            "Could not determine channel type of the following channels, they will be set as EEG:\n",
            "EEG-Fz, EEG, EEG, EEG, EEG, EEG, EEG, EEG-C3, EEG, EEG-Cz, EEG, EEG-C4, EEG, EEG, EEG, EEG, EEG, EEG, EEG, EEG-Pz, EEG, EEG\n",
            "Creating raw.info structure...\n",
            "Reading 0 ... 686999  =      0.000 ...  2747.996 secs...\n"
          ]
        },
        {
          "output_type": "stream",
          "name": "stderr",
          "text": [
            "/usr/lib/python3.10/contextlib.py:142: RuntimeWarning: Channel names are not unique, found duplicates for: {'EEG'}. Applying running numbers for duplicates.\n",
            "  next(self.gen)\n"
          ]
        },
        {
          "output_type": "stream",
          "name": "stdout",
          "text": [
            "Filtering raw data in 1 contiguous segment\n",
            "Setting up band-pass filter from 4 - 40 Hz\n",
            "\n",
            "IIR filter parameters\n",
            "---------------------\n",
            "Butterworth bandpass zero-phase (two-pass forward and reverse) non-causal filter:\n",
            "- Filter order 16 (effective, after forward-backward)\n",
            "- Cutoffs at 4.00, 40.00 Hz: -6.02, -6.02 dB\n",
            "\n",
            "Writing /content/cleaned_data/second_session/A01E.fif\n"
          ]
        },
        {
          "output_type": "stream",
          "name": "stderr",
          "text": [
            "<ipython-input-14-17b2bcb1c589>:29: RuntimeWarning: This filename (/content/cleaned_data/second_session/A01E.fif) does not conform to MNE naming conventions. All raw files should end with raw.fif, raw_sss.fif, raw_tsss.fif, _meg.fif, _eeg.fif, _ieeg.fif, raw.fif.gz, raw_sss.fif.gz, raw_tsss.fif.gz, _meg.fif.gz, _eeg.fif.gz or _ieeg.fif.gz\n",
            "  raw.save(new_file_path, overwrite=True)\n"
          ]
        },
        {
          "output_type": "stream",
          "name": "stdout",
          "text": [
            "Closing /content/cleaned_data/second_session/A01E.fif\n",
            "[done]\n",
            "data:A01E.gdf, label:A01E.mat\n",
            "Extracting EDF parameters from /content/raw_data/A04E.gdf...\n",
            "GDF file detected\n",
            "Setting channel info structure...\n",
            "Could not determine channel type of the following channels, they will be set as EEG:\n",
            "EEG-Fz, EEG, EEG, EEG, EEG, EEG, EEG, EEG-C3, EEG, EEG-Cz, EEG, EEG-C4, EEG, EEG, EEG, EEG, EEG, EEG, EEG, EEG-Pz, EEG, EEG\n",
            "Creating raw.info structure...\n",
            "Reading 0 ... 660046  =      0.000 ...  2640.184 secs...\n"
          ]
        },
        {
          "output_type": "stream",
          "name": "stderr",
          "text": [
            "/usr/lib/python3.10/contextlib.py:142: RuntimeWarning: Channel names are not unique, found duplicates for: {'EEG'}. Applying running numbers for duplicates.\n",
            "  next(self.gen)\n"
          ]
        },
        {
          "output_type": "stream",
          "name": "stdout",
          "text": [
            "Filtering raw data in 1 contiguous segment\n",
            "Setting up band-pass filter from 4 - 40 Hz\n",
            "\n",
            "IIR filter parameters\n",
            "---------------------\n",
            "Butterworth bandpass zero-phase (two-pass forward and reverse) non-causal filter:\n",
            "- Filter order 16 (effective, after forward-backward)\n",
            "- Cutoffs at 4.00, 40.00 Hz: -6.02, -6.02 dB\n",
            "\n",
            "Writing /content/cleaned_data/second_session/A04E.fif\n"
          ]
        },
        {
          "output_type": "stream",
          "name": "stderr",
          "text": [
            "<ipython-input-14-17b2bcb1c589>:29: RuntimeWarning: This filename (/content/cleaned_data/second_session/A04E.fif) does not conform to MNE naming conventions. All raw files should end with raw.fif, raw_sss.fif, raw_tsss.fif, _meg.fif, _eeg.fif, _ieeg.fif, raw.fif.gz, raw_sss.fif.gz, raw_tsss.fif.gz, _meg.fif.gz, _eeg.fif.gz or _ieeg.fif.gz\n",
            "  raw.save(new_file_path, overwrite=True)\n"
          ]
        },
        {
          "output_type": "stream",
          "name": "stdout",
          "text": [
            "Closing /content/cleaned_data/second_session/A04E.fif\n",
            "[done]\n",
            "data:A04E.gdf, label:A04E.mat\n",
            "Extracting EDF parameters from /content/raw_data/A08E.gdf...\n",
            "GDF file detected\n",
            "Setting channel info structure...\n",
            "Could not determine channel type of the following channels, they will be set as EEG:\n",
            "EEG-Fz, EEG, EEG, EEG, EEG, EEG, EEG, EEG-C3, EEG, EEG-Cz, EEG, EEG-C4, EEG, EEG, EEG, EEG, EEG, EEG, EEG, EEG-Pz, EEG, EEG\n",
            "Creating raw.info structure...\n",
            "Reading 0 ... 687791  =      0.000 ...  2751.164 secs...\n"
          ]
        },
        {
          "output_type": "stream",
          "name": "stderr",
          "text": [
            "/usr/lib/python3.10/contextlib.py:142: RuntimeWarning: Channel names are not unique, found duplicates for: {'EEG'}. Applying running numbers for duplicates.\n",
            "  next(self.gen)\n"
          ]
        },
        {
          "output_type": "stream",
          "name": "stdout",
          "text": [
            "Filtering raw data in 1 contiguous segment\n",
            "Setting up band-pass filter from 4 - 40 Hz\n",
            "\n",
            "IIR filter parameters\n",
            "---------------------\n",
            "Butterworth bandpass zero-phase (two-pass forward and reverse) non-causal filter:\n",
            "- Filter order 16 (effective, after forward-backward)\n",
            "- Cutoffs at 4.00, 40.00 Hz: -6.02, -6.02 dB\n",
            "\n",
            "Writing /content/cleaned_data/second_session/A08E.fif\n"
          ]
        },
        {
          "output_type": "stream",
          "name": "stderr",
          "text": [
            "<ipython-input-14-17b2bcb1c589>:29: RuntimeWarning: This filename (/content/cleaned_data/second_session/A08E.fif) does not conform to MNE naming conventions. All raw files should end with raw.fif, raw_sss.fif, raw_tsss.fif, _meg.fif, _eeg.fif, _ieeg.fif, raw.fif.gz, raw_sss.fif.gz, raw_tsss.fif.gz, _meg.fif.gz, _eeg.fif.gz or _ieeg.fif.gz\n",
            "  raw.save(new_file_path, overwrite=True)\n"
          ]
        },
        {
          "output_type": "stream",
          "name": "stdout",
          "text": [
            "Closing /content/cleaned_data/second_session/A08E.fif\n",
            "[done]\n",
            "data:A08E.gdf, label:A08E.mat\n",
            "Extracting EDF parameters from /content/raw_data/A09E.gdf...\n",
            "GDF file detected\n",
            "Setting channel info structure...\n",
            "Could not determine channel type of the following channels, they will be set as EEG:\n",
            "EEG-Fz, EEG, EEG, EEG, EEG, EEG, EEG, EEG-C3, EEG, EEG-Cz, EEG, EEG-C4, EEG, EEG, EEG, EEG, EEG, EEG, EEG, EEG-Pz, EEG, EEG\n",
            "Creating raw.info structure...\n",
            "Reading 0 ... 675097  =      0.000 ...  2700.388 secs...\n"
          ]
        },
        {
          "output_type": "stream",
          "name": "stderr",
          "text": [
            "/usr/lib/python3.10/contextlib.py:142: RuntimeWarning: Channel names are not unique, found duplicates for: {'EEG'}. Applying running numbers for duplicates.\n",
            "  next(self.gen)\n"
          ]
        },
        {
          "output_type": "stream",
          "name": "stdout",
          "text": [
            "Filtering raw data in 1 contiguous segment\n",
            "Setting up band-pass filter from 4 - 40 Hz\n",
            "\n",
            "IIR filter parameters\n",
            "---------------------\n",
            "Butterworth bandpass zero-phase (two-pass forward and reverse) non-causal filter:\n",
            "- Filter order 16 (effective, after forward-backward)\n",
            "- Cutoffs at 4.00, 40.00 Hz: -6.02, -6.02 dB\n",
            "\n",
            "Writing /content/cleaned_data/second_session/A09E.fif\n"
          ]
        },
        {
          "output_type": "stream",
          "name": "stderr",
          "text": [
            "<ipython-input-14-17b2bcb1c589>:29: RuntimeWarning: This filename (/content/cleaned_data/second_session/A09E.fif) does not conform to MNE naming conventions. All raw files should end with raw.fif, raw_sss.fif, raw_tsss.fif, _meg.fif, _eeg.fif, _ieeg.fif, raw.fif.gz, raw_sss.fif.gz, raw_tsss.fif.gz, _meg.fif.gz, _eeg.fif.gz or _ieeg.fif.gz\n",
            "  raw.save(new_file_path, overwrite=True)\n"
          ]
        },
        {
          "output_type": "stream",
          "name": "stdout",
          "text": [
            "Closing /content/cleaned_data/second_session/A09E.fif\n",
            "[done]\n",
            "data:A09E.gdf, label:A09E.mat\n",
            "Extracting EDF parameters from /content/raw_data/A07E.gdf...\n",
            "GDF file detected\n",
            "Setting channel info structure...\n",
            "Could not determine channel type of the following channels, they will be set as EEG:\n",
            "EEG-Fz, EEG, EEG, EEG, EEG, EEG, EEG, EEG-C3, EEG, EEG-Cz, EEG, EEG-C4, EEG, EEG, EEG, EEG, EEG, EEG, EEG, EEG-Pz, EEG, EEG\n",
            "Creating raw.info structure...\n",
            "Reading 0 ... 673134  =      0.000 ...  2692.536 secs...\n"
          ]
        },
        {
          "output_type": "stream",
          "name": "stderr",
          "text": [
            "/usr/lib/python3.10/contextlib.py:142: RuntimeWarning: Channel names are not unique, found duplicates for: {'EEG'}. Applying running numbers for duplicates.\n",
            "  next(self.gen)\n"
          ]
        },
        {
          "output_type": "stream",
          "name": "stdout",
          "text": [
            "Filtering raw data in 1 contiguous segment\n",
            "Setting up band-pass filter from 4 - 40 Hz\n",
            "\n",
            "IIR filter parameters\n",
            "---------------------\n",
            "Butterworth bandpass zero-phase (two-pass forward and reverse) non-causal filter:\n",
            "- Filter order 16 (effective, after forward-backward)\n",
            "- Cutoffs at 4.00, 40.00 Hz: -6.02, -6.02 dB\n",
            "\n",
            "Writing /content/cleaned_data/second_session/A07E.fif\n"
          ]
        },
        {
          "output_type": "stream",
          "name": "stderr",
          "text": [
            "<ipython-input-14-17b2bcb1c589>:29: RuntimeWarning: This filename (/content/cleaned_data/second_session/A07E.fif) does not conform to MNE naming conventions. All raw files should end with raw.fif, raw_sss.fif, raw_tsss.fif, _meg.fif, _eeg.fif, _ieeg.fif, raw.fif.gz, raw_sss.fif.gz, raw_tsss.fif.gz, _meg.fif.gz, _eeg.fif.gz or _ieeg.fif.gz\n",
            "  raw.save(new_file_path, overwrite=True)\n"
          ]
        },
        {
          "output_type": "stream",
          "name": "stdout",
          "text": [
            "Closing /content/cleaned_data/second_session/A07E.fif\n",
            "[done]\n",
            "data:A07E.gdf, label:A07E.mat\n",
            "Extracting EDF parameters from /content/raw_data/A05E.gdf...\n",
            "GDF file detected\n",
            "Setting channel info structure...\n",
            "Could not determine channel type of the following channels, they will be set as EEG:\n",
            "EEG-Fz, EEG, EEG, EEG, EEG, EEG, EEG, EEG-C3, EEG, EEG-Cz, EEG, EEG-C4, EEG, EEG, EEG, EEG, EEG, EEG, EEG, EEG-Pz, EEG, EEG\n",
            "Creating raw.info structure...\n",
            "Reading 0 ... 679862  =      0.000 ...  2719.448 secs...\n"
          ]
        },
        {
          "output_type": "stream",
          "name": "stderr",
          "text": [
            "/usr/lib/python3.10/contextlib.py:142: RuntimeWarning: Channel names are not unique, found duplicates for: {'EEG'}. Applying running numbers for duplicates.\n",
            "  next(self.gen)\n"
          ]
        },
        {
          "output_type": "stream",
          "name": "stdout",
          "text": [
            "Filtering raw data in 1 contiguous segment\n",
            "Setting up band-pass filter from 4 - 40 Hz\n",
            "\n",
            "IIR filter parameters\n",
            "---------------------\n",
            "Butterworth bandpass zero-phase (two-pass forward and reverse) non-causal filter:\n",
            "- Filter order 16 (effective, after forward-backward)\n",
            "- Cutoffs at 4.00, 40.00 Hz: -6.02, -6.02 dB\n",
            "\n",
            "Writing /content/cleaned_data/second_session/A05E.fif\n"
          ]
        },
        {
          "output_type": "stream",
          "name": "stderr",
          "text": [
            "<ipython-input-14-17b2bcb1c589>:29: RuntimeWarning: This filename (/content/cleaned_data/second_session/A05E.fif) does not conform to MNE naming conventions. All raw files should end with raw.fif, raw_sss.fif, raw_tsss.fif, _meg.fif, _eeg.fif, _ieeg.fif, raw.fif.gz, raw_sss.fif.gz, raw_tsss.fif.gz, _meg.fif.gz, _eeg.fif.gz or _ieeg.fif.gz\n",
            "  raw.save(new_file_path, overwrite=True)\n"
          ]
        },
        {
          "output_type": "stream",
          "name": "stdout",
          "text": [
            "Closing /content/cleaned_data/second_session/A05E.fif\n",
            "[done]\n",
            "data:A05E.gdf, label:A05E.mat\n",
            "Extracting EDF parameters from /content/raw_data/A02E.gdf...\n",
            "GDF file detected\n",
            "Setting channel info structure...\n",
            "Could not determine channel type of the following channels, they will be set as EEG:\n",
            "EEG-Fz, EEG, EEG, EEG, EEG, EEG, EEG, EEG-C3, EEG, EEG-Cz, EEG, EEG-C4, EEG, EEG, EEG, EEG, EEG, EEG, EEG, EEG-Pz, EEG, EEG\n",
            "Creating raw.info structure...\n",
            "Reading 0 ... 662665  =      0.000 ...  2650.660 secs...\n"
          ]
        },
        {
          "output_type": "stream",
          "name": "stderr",
          "text": [
            "/usr/lib/python3.10/contextlib.py:142: RuntimeWarning: Channel names are not unique, found duplicates for: {'EEG'}. Applying running numbers for duplicates.\n",
            "  next(self.gen)\n"
          ]
        },
        {
          "output_type": "stream",
          "name": "stdout",
          "text": [
            "Filtering raw data in 1 contiguous segment\n",
            "Setting up band-pass filter from 4 - 40 Hz\n",
            "\n",
            "IIR filter parameters\n",
            "---------------------\n",
            "Butterworth bandpass zero-phase (two-pass forward and reverse) non-causal filter:\n",
            "- Filter order 16 (effective, after forward-backward)\n",
            "- Cutoffs at 4.00, 40.00 Hz: -6.02, -6.02 dB\n",
            "\n",
            "Writing /content/cleaned_data/second_session/A02E.fif\n"
          ]
        },
        {
          "output_type": "stream",
          "name": "stderr",
          "text": [
            "<ipython-input-14-17b2bcb1c589>:29: RuntimeWarning: This filename (/content/cleaned_data/second_session/A02E.fif) does not conform to MNE naming conventions. All raw files should end with raw.fif, raw_sss.fif, raw_tsss.fif, _meg.fif, _eeg.fif, _ieeg.fif, raw.fif.gz, raw_sss.fif.gz, raw_tsss.fif.gz, _meg.fif.gz, _eeg.fif.gz or _ieeg.fif.gz\n",
            "  raw.save(new_file_path, overwrite=True)\n"
          ]
        },
        {
          "output_type": "stream",
          "name": "stdout",
          "text": [
            "Closing /content/cleaned_data/second_session/A02E.fif\n",
            "[done]\n",
            "data:A02E.gdf, label:A02E.mat\n",
            "Writing /content/cleaned_data/second_session/Second_Session_Subjects.fif\n"
          ]
        },
        {
          "output_type": "stream",
          "name": "stderr",
          "text": [
            "<ipython-input-14-17b2bcb1c589>:55: RuntimeWarning: This filename (/content/cleaned_data/second_session/Second_Session_Subjects.fif) does not conform to MNE naming conventions. All raw files should end with raw.fif, raw_sss.fif, raw_tsss.fif, _meg.fif, _eeg.fif, _ieeg.fif, raw.fif.gz, raw_sss.fif.gz, raw_tsss.fif.gz, _meg.fif.gz, _eeg.fif.gz or _ieeg.fif.gz\n",
            "  final_raw.save(new_file_path, overwrite=True)\n"
          ]
        },
        {
          "output_type": "stream",
          "name": "stdout",
          "text": [
            "Closing /content/cleaned_data/second_session/Second_Session_Subjects.fif\n",
            "[done]\n"
          ]
        }
      ]
    },
    {
      "cell_type": "markdown",
      "source": [
        "**List of the events**  \n",
        "'1023': 1 Rejected trial  \n",
        "'1072': 2 Eye movements  \n",
        "'276': 3 Idling EEG (eyes open)  \n",
        "'277': 4 Idling EEG (eyes closed)  \n",
        "'32766': 5 Start of a new run  \n",
        "'768': 6 Start of a trial  \n",
        "'783': 7 Cue unknown"
      ],
      "metadata": {
        "id": "kgSKXweNM87Q"
      }
    },
    {
      "cell_type": "code",
      "source": [
        "events = mne.events_from_annotations(final_raw)\n",
        "events[1]"
      ],
      "metadata": {
        "id": "KIuyfy9DNAvO",
        "colab": {
          "base_uri": "https://localhost:8080/"
        },
        "outputId": "884cb7c0-7643-420e-ecee-05e0aecbf6fb"
      },
      "execution_count": 15,
      "outputs": [
        {
          "output_type": "stream",
          "name": "stdout",
          "text": [
            "Used Annotations descriptions: ['1023', '1072', '276', '277', '32766', '768', '783']\n"
          ]
        },
        {
          "output_type": "execute_result",
          "data": {
            "text/plain": [
              "{'1023': 1, '1072': 2, '276': 3, '277': 4, '32766': 5, '768': 6, '783': 7}"
            ]
          },
          "metadata": {},
          "execution_count": 15
        }
      ]
    },
    {
      "cell_type": "code",
      "source": [
        "epochs = mne.Epochs(final_raw, events[0], event_id=7, tmin=0, tmax=4, reject=None, baseline=None, preload=None)\n",
        "second_session_data = epochs.get_data(copy=True)"
      ],
      "metadata": {
        "id": "KGDah5f4NCBr",
        "colab": {
          "base_uri": "https://localhost:8080/"
        },
        "outputId": "348a121b-d355-4239-9798-dcd0b10cd16a"
      },
      "execution_count": 16,
      "outputs": [
        {
          "output_type": "stream",
          "name": "stdout",
          "text": [
            "Not setting metadata\n",
            "2592 matching events found\n",
            "No baseline correction applied\n",
            "0 projection items activated\n",
            "Using data from preloaded Raw for 2592 events and 1001 original time points ...\n",
            "0 bad epochs dropped\n"
          ]
        }
      ]
    },
    {
      "cell_type": "code",
      "source": [
        "print(\"Second Session Dataset shape:\",second_session_data.shape)"
      ],
      "metadata": {
        "id": "HFCG-UXrNRSZ",
        "colab": {
          "base_uri": "https://localhost:8080/"
        },
        "outputId": "e5b4f6cc-c65f-460b-fc29-a0c0d7400658"
      },
      "execution_count": 17,
      "outputs": [
        {
          "output_type": "stream",
          "name": "stdout",
          "text": [
            "Second Session Dataset shape: (2592, 22, 1001)\n"
          ]
        }
      ]
    },
    {
      "cell_type": "markdown",
      "source": [
        "###Structuring Data"
      ],
      "metadata": {
        "id": "nA0Hr5BMPE5e"
      }
    },
    {
      "cell_type": "code",
      "source": [
        "# Choosing Device\n",
        "device = torch.device(\"cuda\" if torch.cuda.is_available() else \"cpu\")\n",
        "\n",
        "# Loss Function\n",
        "criterion = nn.CrossEntropyLoss()\n",
        "\n",
        "# Normalizing Labels to [0, 1, 2, 3]\n",
        "y_train = first_session_labels - np.min(first_session_labels)\n",
        "y_test = second_session_labels - np.min(second_session_labels)\n",
        "\n",
        "# Normalizing Input features: z-score(mean=0, std=1)\n",
        "X_first_session = (first_session_data - np.mean(first_session_data)) / np.std(first_session_data)\n",
        "X_second_session = (second_session_data - np.mean(second_session_data)) / np.std(second_session_data)\n",
        "\n",
        "X = np.concatenate((X_first_session, X_second_session))\n",
        "y = np.concatenate((y_train, y_test))\n",
        "\n",
        "# Spliting  Data: 90% for Train and 10% for Test\n",
        "X_train, X_test, y_train, y_test = train_test_split(X, y, test_size=0.1, random_state=42, stratify=y)\n",
        "\n",
        "# Converting to Tensor\n",
        "X_train = torch.Tensor(X_train).unsqueeze(1).to(device)\n",
        "X_test = torch.Tensor(X_test).unsqueeze(1).to(device)\n",
        "y_train = torch.LongTensor(y_train).to(device)\n",
        "y_test = torch.LongTensor(y_test).to(device)\n",
        "\n",
        "# Creating Tensor Dataset\n",
        "train_dataset = TensorDataset(X_train, y_train)\n",
        "test_dataset = TensorDataset(X_test, y_test)\n",
        "\n",
        "# Printing the sizes\n",
        "print(\"Size of X_train:\", X_train.size())\n",
        "print(\"Size of X_test:\", X_test.size())\n",
        "print(\"Size of y_train:\", y_train.size())\n",
        "print(\"Size of y_test:\", y_test.size())\n"
      ],
      "metadata": {
        "id": "D5dF6ZydC2PP",
        "colab": {
          "base_uri": "https://localhost:8080/"
        },
        "outputId": "67fafc85-ff3d-48f3-f08a-3abc663df0b3"
      },
      "execution_count": 18,
      "outputs": [
        {
          "output_type": "stream",
          "name": "stdout",
          "text": [
            "Size of X_train: torch.Size([4665, 1, 22, 1001])\n",
            "Size of X_test: torch.Size([519, 1, 22, 1001])\n",
            "Size of y_train: torch.Size([4665])\n",
            "Size of y_test: torch.Size([519])\n"
          ]
        }
      ]
    },
    {
      "cell_type": "markdown",
      "source": [
        "#Training Class"
      ],
      "metadata": {
        "id": "xyXDZiZ4E4a_"
      }
    },
    {
      "cell_type": "code",
      "source": [
        "class TrainModel():\n",
        "    def __init__(self,):\n",
        "        self.device = torch.device(\"cuda\" if torch.cuda.is_available() else \"cpu\")\n",
        "\n",
        "    def train_model(self, model, train_dataset, learning_rate=0.001, batch_size=64, epochs=500):\n",
        "        model = model.to(self.device)\n",
        "        criterion = nn.CrossEntropyLoss()\n",
        "        optimizer = optim.Adam(model.parameters(), lr=learning_rate)\n",
        "        train_loader = DataLoader(train_dataset, batch_size=batch_size, shuffle=True)\n",
        "        highest_train_accuracy = 0.0\n",
        "\n",
        "        for epoch in range(epochs):\n",
        "            model.train()\n",
        "            running_loss = 0.0\n",
        "            correct = 0\n",
        "            total = 0\n",
        "            for inputs, labels in train_loader:\n",
        "                inputs = inputs.to(self.device)\n",
        "                labels = labels.to(self.device)\n",
        "\n",
        "                optimizer.zero_grad()\n",
        "                outputs = model(inputs)\n",
        "                loss = criterion(outputs, labels)\n",
        "                loss.backward()\n",
        "                optimizer.step()\n",
        "\n",
        "                running_loss += loss.item() * inputs.size(0)\n",
        "                _, predicted = torch.max(outputs, 1)\n",
        "                total += labels.size(0)\n",
        "                correct += (predicted == labels).sum().item()\n",
        "\n",
        "            epoch_loss = running_loss / len(train_loader.dataset)\n",
        "            epoch_accuracy = correct / total\n",
        "            if epoch_accuracy > highest_train_accuracy:\n",
        "                highest_train_accuracy = epoch_accuracy\n",
        "            print(f\"Epoch {epoch+1}/{epochs}, Loss: {epoch_loss:.4f}, Accuracy: {(epoch_accuracy*100):.2f}%\")\n",
        "\n",
        "        average_loss = running_loss / len(train_loader.dataset)\n",
        "        print(\"Average Loss:\", average_loss)\n",
        "        print(\"Highest Train Accuracy:\", highest_train_accuracy)\n",
        "\n",
        "        # Saving model\n",
        "        torch.save(model.state_dict(), 'eegnet_model.pth')\n",
        "        return model\n"
      ],
      "metadata": {
        "id": "F3nUwuQHE8Hi"
      },
      "execution_count": 29,
      "outputs": []
    },
    {
      "cell_type": "markdown",
      "source": [
        "#Evaluating Model"
      ],
      "metadata": {
        "id": "ObMKFBTxFLBJ"
      }
    },
    {
      "cell_type": "code",
      "source": [
        "class EvalModel():\n",
        "    def __init__(self, model):\n",
        "        self.model = model.to(device)\n",
        "        self.device = torch.device(\"cuda\" if torch.cuda.is_available() else \"cpu\")\n",
        "    def test_model(self, test_dataset):\n",
        "        self.model.eval()\n",
        "        correct = 0\n",
        "        total = 0\n",
        "        test_loader = DataLoader(test_dataset, batch_size=1, shuffle=False)\n",
        "\n",
        "        with torch.no_grad():\n",
        "            for inputs, labels in test_loader:\n",
        "                inputs = inputs.to(self.device)\n",
        "                labels = labels.to(self.device)\n",
        "                outputs = self.model(inputs)\n",
        "                _, predicted = torch.max(outputs.data, 1)\n",
        "                total += labels.size(0)\n",
        "                correct += (predicted == labels).sum().item()\n",
        "\n",
        "        accuracy = (correct / total) * 100\n",
        "        print(\"/------------------------------/\")\n",
        "        print(f\"Test Accuracy: {accuracy:.2f}%\")\n",
        "        print(\"/------------------------------/\")\n",
        "        return accuracy\n",
        "\n",
        "    def plot_confusion_matrix(self, test_dataset, classes):\n",
        "        self.model.eval()\n",
        "        y_pred = []\n",
        "        y_true = []\n",
        "        test_loader = DataLoader(test_dataset, batch_size=1, shuffle=False)\n",
        "\n",
        "        with torch.no_grad():\n",
        "            for inputs, labels in test_loader:\n",
        "                inputs = inputs.to(self.device)\n",
        "                labels = labels.to(self.device)\n",
        "                outputs = self.model(inputs)\n",
        "                _, predicted = torch.max(outputs.data, 1)\n",
        "                y_pred.append(predicted.item())\n",
        "                y_true.append(labels.item())\n",
        "\n",
        "        cf_matrix = confusion_matrix(y_true, y_pred)\n",
        "        cf_matrix = cf_matrix.astype('float') / cf_matrix.sum(axis=1)[:, np.newaxis]\n",
        "\n",
        "        df_cm = pd.DataFrame(cf_matrix, index=classes, columns=classes)\n",
        "\n",
        "        plt.figure(figsize=(10, 7))\n",
        "        sn.heatmap(df_cm, annot=True, cmap='Blues', fmt='.2f')\n",
        "        plt.xlabel('Predicted labels')\n",
        "        plt.ylabel('True labels')\n",
        "        plt.title('Confusion Matrix')\n",
        "        plt.savefig('confusion_matrix_model.png')\n",
        "        plt.show()\n"
      ],
      "metadata": {
        "id": "GxVYOQ_YFM4b"
      },
      "execution_count": 20,
      "outputs": []
    },
    {
      "cell_type": "markdown",
      "source": [
        "#EEGNet Model"
      ],
      "metadata": {
        "id": "vR2z57zqC5iS"
      }
    },
    {
      "cell_type": "code",
      "source": [
        "class EEGNetModel(nn.Module): # EEGNET-8,2\n",
        "    def __init__(self, chans=22, classes=4, time_points=1001, temp_kernel=32,\n",
        "                 f1=16, f2=32, d=2, pk1=8, pk2=16, dropout_rate=0.5, max_norm1=1, max_norm2=0.25):\n",
        "        super(EEGNetModel, self).__init__()\n",
        "        # Calculating FC input features\n",
        "        linear_size = (time_points//(pk1*pk2))*f2\n",
        "\n",
        "        # Temporal Filters\n",
        "        self.block1 = nn.Sequential(\n",
        "            nn.Conv2d(1, f1, (1, temp_kernel), padding='same', bias=False),\n",
        "            nn.BatchNorm2d(f1),\n",
        "        )\n",
        "        # Spatial Filters\n",
        "        self.block2 = nn.Sequential(\n",
        "            nn.Conv2d(f1, d * f1, (chans, 1), groups=f1, bias=False), # Depthwise Conv\n",
        "            nn.BatchNorm2d(d * f1),\n",
        "            nn.ELU(),\n",
        "            nn.AvgPool2d((1, pk1)),\n",
        "            nn.Dropout(dropout_rate)\n",
        "        )\n",
        "        self.block3 = nn.Sequential(\n",
        "            nn.Conv2d(d * f1, f2, (1, 16),  groups=f2, bias=False, padding='same'), # Separable Conv\n",
        "            nn.Conv2d(f2, f2, kernel_size=1, bias=False), # Pointwise Conv\n",
        "            nn.BatchNorm2d(f2),\n",
        "            nn.ELU(),\n",
        "            nn.AvgPool2d((1, pk2)),\n",
        "            nn.Dropout(dropout_rate)\n",
        "        )\n",
        "        self.flatten = nn.Flatten()\n",
        "        self.fc = nn.Linear(linear_size, classes)\n",
        "\n",
        "        # Apply max_norm constraint to the depthwise layer in block2\n",
        "        self._apply_max_norm(self.block2[0], max_norm1)\n",
        "\n",
        "        # Apply max_norm constraint to the linear layer\n",
        "        self._apply_max_norm(self.fc, max_norm2)\n",
        "\n",
        "    def _apply_max_norm(self, layer, max_norm):\n",
        "        for name, param in layer.named_parameters():\n",
        "            if 'weight' in name:\n",
        "                param.data = torch.renorm(param.data, p=2, dim=0, maxnorm=max_norm)\n",
        "\n",
        "    def forward(self, x):\n",
        "        x = self.block1(x)\n",
        "        x = self.block2(x)\n",
        "        x = self.block3(x)\n",
        "        x = self.flatten(x)\n",
        "        x = self.fc(x)\n",
        "        return x\n"
      ],
      "metadata": {
        "id": "SmFhrHzSC8BE"
      },
      "execution_count": 21,
      "outputs": []
    },
    {
      "cell_type": "markdown",
      "source": [
        "##Model Summery"
      ],
      "metadata": {
        "id": "M49ks2b8C_dP"
      }
    },
    {
      "cell_type": "code",
      "source": [
        "input_size = (1, 22, 1001)\n",
        "eegnet_model = EEGNetModel().to(device)\n",
        "summary(eegnet_model, input_size)"
      ],
      "metadata": {
        "id": "7NdOeIRtDAOn",
        "colab": {
          "base_uri": "https://localhost:8080/"
        },
        "outputId": "35ec6ad5-7e2c-4f99-cae0-e83ffd549797"
      },
      "execution_count": 23,
      "outputs": [
        {
          "output_type": "stream",
          "name": "stdout",
          "text": [
            "==========================================================================================\n",
            "Layer (type:depth-idx)                   Output Shape              Param #\n",
            "==========================================================================================\n",
            "├─Sequential: 1-1                        [-1, 16, 22, 1001]        --\n",
            "|    └─Conv2d: 2-1                       [-1, 16, 22, 1001]        512\n",
            "|    └─BatchNorm2d: 2-2                  [-1, 16, 22, 1001]        32\n",
            "├─Sequential: 1-2                        [-1, 32, 1, 125]          --\n",
            "|    └─Conv2d: 2-3                       [-1, 32, 1, 1001]         704\n",
            "|    └─BatchNorm2d: 2-4                  [-1, 32, 1, 1001]         64\n",
            "|    └─ELU: 2-5                          [-1, 32, 1, 1001]         --\n",
            "|    └─AvgPool2d: 2-6                    [-1, 32, 1, 125]          --\n",
            "|    └─Dropout: 2-7                      [-1, 32, 1, 125]          --\n",
            "├─Sequential: 1-3                        [-1, 32, 1, 7]            --\n",
            "|    └─Conv2d: 2-8                       [-1, 32, 1, 125]          512\n",
            "|    └─Conv2d: 2-9                       [-1, 32, 1, 125]          1,024\n",
            "|    └─BatchNorm2d: 2-10                 [-1, 32, 1, 125]          64\n",
            "|    └─ELU: 2-11                         [-1, 32, 1, 125]          --\n",
            "|    └─AvgPool2d: 2-12                   [-1, 32, 1, 7]            --\n",
            "|    └─Dropout: 2-13                     [-1, 32, 1, 7]            --\n",
            "├─Flatten: 1-4                           [-1, 224]                 --\n",
            "├─Linear: 1-5                            [-1, 4]                   900\n",
            "==========================================================================================\n",
            "Total params: 3,812\n",
            "Trainable params: 3,812\n",
            "Non-trainable params: 0\n",
            "Total mult-adds (M): 12.18\n",
            "==========================================================================================\n",
            "Input size (MB): 0.08\n",
            "Forward/backward pass size (MB): 5.96\n",
            "Params size (MB): 0.01\n",
            "Estimated Total Size (MB): 6.06\n",
            "==========================================================================================\n"
          ]
        },
        {
          "output_type": "stream",
          "name": "stderr",
          "text": [
            "/usr/local/lib/python3.10/dist-packages/torch/nn/modules/conv.py:456: UserWarning: Using padding='same' with even kernel lengths and odd dilation may require a zero-padded copy of the input be created (Triggered internally at ../aten/src/ATen/native/Convolution.cpp:1031.)\n",
            "  return F.conv2d(input, weight, bias, self.stride,\n"
          ]
        },
        {
          "output_type": "execute_result",
          "data": {
            "text/plain": [
              "==========================================================================================\n",
              "Layer (type:depth-idx)                   Output Shape              Param #\n",
              "==========================================================================================\n",
              "├─Sequential: 1-1                        [-1, 16, 22, 1001]        --\n",
              "|    └─Conv2d: 2-1                       [-1, 16, 22, 1001]        512\n",
              "|    └─BatchNorm2d: 2-2                  [-1, 16, 22, 1001]        32\n",
              "├─Sequential: 1-2                        [-1, 32, 1, 125]          --\n",
              "|    └─Conv2d: 2-3                       [-1, 32, 1, 1001]         704\n",
              "|    └─BatchNorm2d: 2-4                  [-1, 32, 1, 1001]         64\n",
              "|    └─ELU: 2-5                          [-1, 32, 1, 1001]         --\n",
              "|    └─AvgPool2d: 2-6                    [-1, 32, 1, 125]          --\n",
              "|    └─Dropout: 2-7                      [-1, 32, 1, 125]          --\n",
              "├─Sequential: 1-3                        [-1, 32, 1, 7]            --\n",
              "|    └─Conv2d: 2-8                       [-1, 32, 1, 125]          512\n",
              "|    └─Conv2d: 2-9                       [-1, 32, 1, 125]          1,024\n",
              "|    └─BatchNorm2d: 2-10                 [-1, 32, 1, 125]          64\n",
              "|    └─ELU: 2-11                         [-1, 32, 1, 125]          --\n",
              "|    └─AvgPool2d: 2-12                   [-1, 32, 1, 7]            --\n",
              "|    └─Dropout: 2-13                     [-1, 32, 1, 7]            --\n",
              "├─Flatten: 1-4                           [-1, 224]                 --\n",
              "├─Linear: 1-5                            [-1, 4]                   900\n",
              "==========================================================================================\n",
              "Total params: 3,812\n",
              "Trainable params: 3,812\n",
              "Non-trainable params: 0\n",
              "Total mult-adds (M): 12.18\n",
              "==========================================================================================\n",
              "Input size (MB): 0.08\n",
              "Forward/backward pass size (MB): 5.96\n",
              "Params size (MB): 0.01\n",
              "Estimated Total Size (MB): 6.06\n",
              "=========================================================================================="
            ]
          },
          "metadata": {},
          "execution_count": 23
        }
      ]
    },
    {
      "cell_type": "markdown",
      "source": [
        "##Training Model"
      ],
      "metadata": {
        "id": "95r4EymoDCIv"
      }
    },
    {
      "cell_type": "code",
      "source": [
        "eegnet_model = EEGNetModel().to(device)\n",
        "\n",
        "# Training Hyperparameters\n",
        "EPOCHS = 500\n",
        "BATCH_SIZE = 64\n",
        "LEARNING_RATE = 0.001\n",
        "trainer = TrainModel()\n",
        "trained_eegnet_model = trainer.train_model(eegnet_model, train_dataset, learning_rate=LEARNING_RATE,\n",
        "                                   batch_size=BATCH_SIZE, epochs=EPOCHS)\n",
        "torch.save(trained_eegnet_model.state_dict(), 'eegnet_model.pth')\n"
      ],
      "metadata": {
        "id": "TJzl6On9DFcp",
        "colab": {
          "base_uri": "https://localhost:8080/"
        },
        "outputId": "7c7e7ca1-e094-478a-f7df-171e12388792"
      },
      "execution_count": 31,
      "outputs": [
        {
          "output_type": "stream",
          "name": "stdout",
          "text": [
            "Epoch 1/500, Loss: 1.3698, Accuracy: 29.73%\n",
            "Epoch 2/500, Loss: 1.3314, Accuracy: 35.31%\n",
            "Epoch 3/500, Loss: 1.3033, Accuracy: 37.60%\n",
            "Epoch 4/500, Loss: 1.2546, Accuracy: 42.51%\n",
            "Epoch 5/500, Loss: 1.2352, Accuracy: 42.44%\n",
            "Epoch 6/500, Loss: 1.2208, Accuracy: 43.04%\n",
            "Epoch 7/500, Loss: 1.2054, Accuracy: 45.49%\n",
            "Epoch 8/500, Loss: 1.1987, Accuracy: 45.74%\n",
            "Epoch 9/500, Loss: 1.1868, Accuracy: 46.45%\n",
            "Epoch 10/500, Loss: 1.1746, Accuracy: 47.10%\n",
            "Epoch 11/500, Loss: 1.1748, Accuracy: 47.27%\n",
            "Epoch 12/500, Loss: 1.1570, Accuracy: 48.10%\n",
            "Epoch 13/500, Loss: 1.1448, Accuracy: 48.75%\n",
            "Epoch 14/500, Loss: 1.1384, Accuracy: 49.67%\n",
            "Epoch 15/500, Loss: 1.1391, Accuracy: 49.28%\n",
            "Epoch 16/500, Loss: 1.1269, Accuracy: 50.23%\n",
            "Epoch 17/500, Loss: 1.1307, Accuracy: 49.80%\n",
            "Epoch 18/500, Loss: 1.1140, Accuracy: 50.25%\n",
            "Epoch 19/500, Loss: 1.1162, Accuracy: 50.55%\n",
            "Epoch 20/500, Loss: 1.1039, Accuracy: 51.36%\n",
            "Epoch 21/500, Loss: 1.0965, Accuracy: 52.48%\n",
            "Epoch 22/500, Loss: 1.0991, Accuracy: 51.77%\n",
            "Epoch 23/500, Loss: 1.0974, Accuracy: 51.66%\n",
            "Epoch 24/500, Loss: 1.0889, Accuracy: 51.88%\n",
            "Epoch 25/500, Loss: 1.0854, Accuracy: 51.66%\n",
            "Epoch 26/500, Loss: 1.0754, Accuracy: 52.97%\n",
            "Epoch 27/500, Loss: 1.0741, Accuracy: 53.61%\n",
            "Epoch 28/500, Loss: 1.0630, Accuracy: 53.16%\n",
            "Epoch 29/500, Loss: 1.0530, Accuracy: 54.66%\n",
            "Epoch 30/500, Loss: 1.0664, Accuracy: 52.78%\n",
            "Epoch 31/500, Loss: 1.0667, Accuracy: 53.93%\n",
            "Epoch 32/500, Loss: 1.0554, Accuracy: 54.64%\n",
            "Epoch 33/500, Loss: 1.0465, Accuracy: 54.64%\n",
            "Epoch 34/500, Loss: 1.0421, Accuracy: 55.33%\n",
            "Epoch 35/500, Loss: 1.0499, Accuracy: 54.98%\n",
            "Epoch 36/500, Loss: 1.0493, Accuracy: 54.00%\n",
            "Epoch 37/500, Loss: 1.0550, Accuracy: 54.30%\n",
            "Epoch 38/500, Loss: 1.0258, Accuracy: 55.88%\n",
            "Epoch 39/500, Loss: 1.0258, Accuracy: 55.52%\n",
            "Epoch 40/500, Loss: 1.0401, Accuracy: 54.79%\n",
            "Epoch 41/500, Loss: 1.0352, Accuracy: 55.93%\n",
            "Epoch 42/500, Loss: 1.0184, Accuracy: 55.84%\n",
            "Epoch 43/500, Loss: 1.0234, Accuracy: 55.78%\n",
            "Epoch 44/500, Loss: 1.0239, Accuracy: 56.46%\n",
            "Epoch 45/500, Loss: 1.0116, Accuracy: 56.42%\n",
            "Epoch 46/500, Loss: 1.0000, Accuracy: 57.30%\n",
            "Epoch 47/500, Loss: 1.0094, Accuracy: 56.89%\n",
            "Epoch 48/500, Loss: 1.0082, Accuracy: 56.16%\n",
            "Epoch 49/500, Loss: 0.9938, Accuracy: 57.43%\n",
            "Epoch 50/500, Loss: 1.0083, Accuracy: 56.91%\n",
            "Epoch 51/500, Loss: 1.0005, Accuracy: 57.71%\n",
            "Epoch 52/500, Loss: 0.9961, Accuracy: 57.34%\n",
            "Epoch 53/500, Loss: 0.9972, Accuracy: 58.41%\n",
            "Epoch 54/500, Loss: 0.9914, Accuracy: 57.02%\n",
            "Epoch 55/500, Loss: 1.0038, Accuracy: 57.81%\n",
            "Epoch 56/500, Loss: 0.9876, Accuracy: 58.52%\n",
            "Epoch 57/500, Loss: 0.9944, Accuracy: 57.45%\n",
            "Epoch 58/500, Loss: 0.9896, Accuracy: 57.66%\n",
            "Epoch 59/500, Loss: 0.9853, Accuracy: 57.71%\n",
            "Epoch 60/500, Loss: 0.9885, Accuracy: 57.68%\n",
            "Epoch 61/500, Loss: 0.9814, Accuracy: 58.71%\n",
            "Epoch 62/500, Loss: 0.9806, Accuracy: 58.44%\n",
            "Epoch 63/500, Loss: 0.9784, Accuracy: 59.21%\n",
            "Epoch 64/500, Loss: 0.9727, Accuracy: 58.65%\n",
            "Epoch 65/500, Loss: 0.9749, Accuracy: 59.21%\n",
            "Epoch 66/500, Loss: 0.9617, Accuracy: 60.04%\n",
            "Epoch 67/500, Loss: 0.9698, Accuracy: 59.01%\n",
            "Epoch 68/500, Loss: 0.9589, Accuracy: 58.59%\n",
            "Epoch 69/500, Loss: 0.9592, Accuracy: 59.14%\n",
            "Epoch 70/500, Loss: 0.9692, Accuracy: 58.67%\n",
            "Epoch 71/500, Loss: 0.9691, Accuracy: 59.31%\n",
            "Epoch 72/500, Loss: 0.9550, Accuracy: 59.34%\n",
            "Epoch 73/500, Loss: 0.9609, Accuracy: 60.02%\n",
            "Epoch 74/500, Loss: 0.9647, Accuracy: 59.27%\n",
            "Epoch 75/500, Loss: 0.9586, Accuracy: 58.89%\n",
            "Epoch 76/500, Loss: 0.9440, Accuracy: 61.14%\n",
            "Epoch 77/500, Loss: 0.9603, Accuracy: 59.10%\n",
            "Epoch 78/500, Loss: 0.9446, Accuracy: 60.49%\n",
            "Epoch 79/500, Loss: 0.9360, Accuracy: 60.90%\n",
            "Epoch 80/500, Loss: 0.9350, Accuracy: 60.43%\n",
            "Epoch 81/500, Loss: 0.9216, Accuracy: 61.91%\n",
            "Epoch 82/500, Loss: 0.9535, Accuracy: 59.38%\n",
            "Epoch 83/500, Loss: 0.9486, Accuracy: 60.17%\n",
            "Epoch 84/500, Loss: 0.9404, Accuracy: 60.62%\n",
            "Epoch 85/500, Loss: 0.9428, Accuracy: 60.34%\n",
            "Epoch 86/500, Loss: 0.9435, Accuracy: 60.54%\n",
            "Epoch 87/500, Loss: 0.9450, Accuracy: 60.45%\n",
            "Epoch 88/500, Loss: 0.9376, Accuracy: 61.16%\n",
            "Epoch 89/500, Loss: 0.9328, Accuracy: 60.99%\n",
            "Epoch 90/500, Loss: 0.9341, Accuracy: 60.99%\n",
            "Epoch 91/500, Loss: 0.9391, Accuracy: 60.24%\n",
            "Epoch 92/500, Loss: 0.9173, Accuracy: 62.14%\n",
            "Epoch 93/500, Loss: 0.9213, Accuracy: 62.04%\n",
            "Epoch 94/500, Loss: 0.9191, Accuracy: 61.71%\n",
            "Epoch 95/500, Loss: 0.9239, Accuracy: 61.59%\n",
            "Epoch 96/500, Loss: 0.9311, Accuracy: 60.71%\n",
            "Epoch 97/500, Loss: 0.9133, Accuracy: 61.37%\n",
            "Epoch 98/500, Loss: 0.9390, Accuracy: 61.24%\n",
            "Epoch 99/500, Loss: 0.9118, Accuracy: 61.93%\n",
            "Epoch 100/500, Loss: 0.9075, Accuracy: 62.49%\n",
            "Epoch 101/500, Loss: 0.9157, Accuracy: 62.14%\n",
            "Epoch 102/500, Loss: 0.9092, Accuracy: 62.83%\n",
            "Epoch 103/500, Loss: 0.9190, Accuracy: 61.39%\n",
            "Epoch 104/500, Loss: 0.9141, Accuracy: 62.25%\n",
            "Epoch 105/500, Loss: 0.9088, Accuracy: 61.91%\n",
            "Epoch 106/500, Loss: 0.9040, Accuracy: 62.74%\n",
            "Epoch 107/500, Loss: 0.9074, Accuracy: 62.51%\n",
            "Epoch 108/500, Loss: 0.9182, Accuracy: 61.91%\n",
            "Epoch 109/500, Loss: 0.9133, Accuracy: 61.76%\n",
            "Epoch 110/500, Loss: 0.8985, Accuracy: 63.75%\n",
            "Epoch 111/500, Loss: 0.8942, Accuracy: 63.52%\n",
            "Epoch 112/500, Loss: 0.9092, Accuracy: 62.57%\n",
            "Epoch 113/500, Loss: 0.8990, Accuracy: 62.02%\n",
            "Epoch 114/500, Loss: 0.8832, Accuracy: 63.67%\n",
            "Epoch 115/500, Loss: 0.9039, Accuracy: 62.40%\n",
            "Epoch 116/500, Loss: 0.8933, Accuracy: 63.64%\n",
            "Epoch 117/500, Loss: 0.9093, Accuracy: 61.89%\n",
            "Epoch 118/500, Loss: 0.9018, Accuracy: 63.17%\n",
            "Epoch 119/500, Loss: 0.9007, Accuracy: 62.81%\n",
            "Epoch 120/500, Loss: 0.8869, Accuracy: 62.38%\n",
            "Epoch 121/500, Loss: 0.8979, Accuracy: 62.79%\n",
            "Epoch 122/500, Loss: 0.8912, Accuracy: 63.54%\n",
            "Epoch 123/500, Loss: 0.8940, Accuracy: 63.00%\n",
            "Epoch 124/500, Loss: 0.8965, Accuracy: 62.77%\n",
            "Epoch 125/500, Loss: 0.9007, Accuracy: 62.59%\n",
            "Epoch 126/500, Loss: 0.8856, Accuracy: 63.73%\n",
            "Epoch 127/500, Loss: 0.8734, Accuracy: 64.93%\n",
            "Epoch 128/500, Loss: 0.8720, Accuracy: 63.64%\n",
            "Epoch 129/500, Loss: 0.8957, Accuracy: 62.44%\n",
            "Epoch 130/500, Loss: 0.8886, Accuracy: 63.34%\n",
            "Epoch 131/500, Loss: 0.8840, Accuracy: 63.24%\n",
            "Epoch 132/500, Loss: 0.8857, Accuracy: 63.32%\n",
            "Epoch 133/500, Loss: 0.8712, Accuracy: 63.86%\n",
            "Epoch 134/500, Loss: 0.8945, Accuracy: 63.00%\n",
            "Epoch 135/500, Loss: 0.8851, Accuracy: 63.82%\n",
            "Epoch 136/500, Loss: 0.8866, Accuracy: 64.12%\n",
            "Epoch 137/500, Loss: 0.8869, Accuracy: 63.75%\n",
            "Epoch 138/500, Loss: 0.8737, Accuracy: 63.77%\n",
            "Epoch 139/500, Loss: 0.8773, Accuracy: 63.71%\n",
            "Epoch 140/500, Loss: 0.8520, Accuracy: 65.47%\n",
            "Epoch 141/500, Loss: 0.8953, Accuracy: 62.74%\n",
            "Epoch 142/500, Loss: 0.8758, Accuracy: 63.75%\n",
            "Epoch 143/500, Loss: 0.8803, Accuracy: 64.63%\n",
            "Epoch 144/500, Loss: 0.8684, Accuracy: 64.27%\n",
            "Epoch 145/500, Loss: 0.8730, Accuracy: 64.61%\n",
            "Epoch 146/500, Loss: 0.8741, Accuracy: 64.31%\n",
            "Epoch 147/500, Loss: 0.8749, Accuracy: 64.29%\n",
            "Epoch 148/500, Loss: 0.8683, Accuracy: 64.05%\n",
            "Epoch 149/500, Loss: 0.8705, Accuracy: 64.14%\n",
            "Epoch 150/500, Loss: 0.8842, Accuracy: 63.58%\n",
            "Epoch 151/500, Loss: 0.8745, Accuracy: 64.12%\n",
            "Epoch 152/500, Loss: 0.8683, Accuracy: 64.33%\n",
            "Epoch 153/500, Loss: 0.8658, Accuracy: 64.52%\n",
            "Epoch 154/500, Loss: 0.8628, Accuracy: 65.08%\n",
            "Epoch 155/500, Loss: 0.8704, Accuracy: 63.99%\n",
            "Epoch 156/500, Loss: 0.8571, Accuracy: 64.87%\n",
            "Epoch 157/500, Loss: 0.8806, Accuracy: 64.16%\n",
            "Epoch 158/500, Loss: 0.8622, Accuracy: 64.93%\n",
            "Epoch 159/500, Loss: 0.8674, Accuracy: 63.41%\n",
            "Epoch 160/500, Loss: 0.8506, Accuracy: 64.63%\n",
            "Epoch 161/500, Loss: 0.8444, Accuracy: 66.56%\n",
            "Epoch 162/500, Loss: 0.8660, Accuracy: 64.84%\n",
            "Epoch 163/500, Loss: 0.8546, Accuracy: 65.40%\n",
            "Epoch 164/500, Loss: 0.8532, Accuracy: 65.14%\n",
            "Epoch 165/500, Loss: 0.8762, Accuracy: 64.61%\n",
            "Epoch 166/500, Loss: 0.8525, Accuracy: 65.12%\n",
            "Epoch 167/500, Loss: 0.8447, Accuracy: 65.89%\n",
            "Epoch 168/500, Loss: 0.8397, Accuracy: 66.11%\n",
            "Epoch 169/500, Loss: 0.8560, Accuracy: 65.04%\n",
            "Epoch 170/500, Loss: 0.8417, Accuracy: 65.62%\n",
            "Epoch 171/500, Loss: 0.8526, Accuracy: 65.21%\n",
            "Epoch 172/500, Loss: 0.8580, Accuracy: 65.68%\n",
            "Epoch 173/500, Loss: 0.8505, Accuracy: 65.49%\n",
            "Epoch 174/500, Loss: 0.8478, Accuracy: 65.94%\n",
            "Epoch 175/500, Loss: 0.8638, Accuracy: 64.14%\n",
            "Epoch 176/500, Loss: 0.8498, Accuracy: 65.08%\n",
            "Epoch 177/500, Loss: 0.8550, Accuracy: 65.40%\n",
            "Epoch 178/500, Loss: 0.8543, Accuracy: 64.97%\n",
            "Epoch 179/500, Loss: 0.8527, Accuracy: 65.44%\n",
            "Epoch 180/500, Loss: 0.8498, Accuracy: 65.38%\n",
            "Epoch 181/500, Loss: 0.8623, Accuracy: 64.72%\n",
            "Epoch 182/500, Loss: 0.8596, Accuracy: 64.61%\n",
            "Epoch 183/500, Loss: 0.8502, Accuracy: 64.84%\n",
            "Epoch 184/500, Loss: 0.8486, Accuracy: 64.87%\n",
            "Epoch 185/500, Loss: 0.8567, Accuracy: 64.89%\n",
            "Epoch 186/500, Loss: 0.8494, Accuracy: 65.04%\n",
            "Epoch 187/500, Loss: 0.8339, Accuracy: 65.96%\n",
            "Epoch 188/500, Loss: 0.8455, Accuracy: 65.94%\n",
            "Epoch 189/500, Loss: 0.8500, Accuracy: 65.77%\n",
            "Epoch 190/500, Loss: 0.8506, Accuracy: 65.23%\n",
            "Epoch 191/500, Loss: 0.8400, Accuracy: 65.47%\n",
            "Epoch 192/500, Loss: 0.8314, Accuracy: 65.89%\n",
            "Epoch 193/500, Loss: 0.8457, Accuracy: 65.25%\n",
            "Epoch 194/500, Loss: 0.8522, Accuracy: 64.72%\n",
            "Epoch 195/500, Loss: 0.8446, Accuracy: 65.51%\n",
            "Epoch 196/500, Loss: 0.8522, Accuracy: 65.57%\n",
            "Epoch 197/500, Loss: 0.8576, Accuracy: 64.52%\n",
            "Epoch 198/500, Loss: 0.8371, Accuracy: 66.60%\n",
            "Epoch 199/500, Loss: 0.8264, Accuracy: 66.60%\n",
            "Epoch 200/500, Loss: 0.8327, Accuracy: 65.72%\n",
            "Epoch 201/500, Loss: 0.8508, Accuracy: 65.34%\n",
            "Epoch 202/500, Loss: 0.8260, Accuracy: 66.20%\n",
            "Epoch 203/500, Loss: 0.8452, Accuracy: 66.35%\n",
            "Epoch 204/500, Loss: 0.8318, Accuracy: 65.79%\n",
            "Epoch 205/500, Loss: 0.8305, Accuracy: 65.53%\n",
            "Epoch 206/500, Loss: 0.8588, Accuracy: 64.52%\n",
            "Epoch 207/500, Loss: 0.8342, Accuracy: 65.21%\n",
            "Epoch 208/500, Loss: 0.8318, Accuracy: 66.02%\n",
            "Epoch 209/500, Loss: 0.8344, Accuracy: 65.53%\n",
            "Epoch 210/500, Loss: 0.8313, Accuracy: 66.88%\n",
            "Epoch 211/500, Loss: 0.8395, Accuracy: 65.32%\n",
            "Epoch 212/500, Loss: 0.8274, Accuracy: 66.13%\n",
            "Epoch 213/500, Loss: 0.8428, Accuracy: 64.69%\n",
            "Epoch 214/500, Loss: 0.8318, Accuracy: 66.39%\n",
            "Epoch 215/500, Loss: 0.8238, Accuracy: 66.17%\n",
            "Epoch 216/500, Loss: 0.8374, Accuracy: 65.47%\n",
            "Epoch 217/500, Loss: 0.8331, Accuracy: 66.84%\n",
            "Epoch 218/500, Loss: 0.8389, Accuracy: 66.05%\n",
            "Epoch 219/500, Loss: 0.8389, Accuracy: 66.43%\n",
            "Epoch 220/500, Loss: 0.8471, Accuracy: 66.17%\n",
            "Epoch 221/500, Loss: 0.8492, Accuracy: 66.00%\n",
            "Epoch 222/500, Loss: 0.8216, Accuracy: 67.16%\n",
            "Epoch 223/500, Loss: 0.8323, Accuracy: 66.17%\n",
            "Epoch 224/500, Loss: 0.8435, Accuracy: 65.59%\n",
            "Epoch 225/500, Loss: 0.8174, Accuracy: 66.35%\n",
            "Epoch 226/500, Loss: 0.8208, Accuracy: 66.52%\n",
            "Epoch 227/500, Loss: 0.8353, Accuracy: 66.41%\n",
            "Epoch 228/500, Loss: 0.8075, Accuracy: 67.48%\n",
            "Epoch 229/500, Loss: 0.8253, Accuracy: 65.79%\n",
            "Epoch 230/500, Loss: 0.8306, Accuracy: 65.98%\n",
            "Epoch 231/500, Loss: 0.8189, Accuracy: 66.80%\n",
            "Epoch 232/500, Loss: 0.8193, Accuracy: 67.67%\n",
            "Epoch 233/500, Loss: 0.8093, Accuracy: 66.92%\n",
            "Epoch 234/500, Loss: 0.8258, Accuracy: 65.64%\n",
            "Epoch 235/500, Loss: 0.8200, Accuracy: 66.54%\n",
            "Epoch 236/500, Loss: 0.8358, Accuracy: 65.89%\n",
            "Epoch 237/500, Loss: 0.8180, Accuracy: 67.55%\n",
            "Epoch 238/500, Loss: 0.8138, Accuracy: 67.27%\n",
            "Epoch 239/500, Loss: 0.8267, Accuracy: 66.39%\n",
            "Epoch 240/500, Loss: 0.8204, Accuracy: 66.88%\n",
            "Epoch 241/500, Loss: 0.8092, Accuracy: 66.92%\n",
            "Epoch 242/500, Loss: 0.8365, Accuracy: 65.70%\n",
            "Epoch 243/500, Loss: 0.8230, Accuracy: 66.43%\n",
            "Epoch 244/500, Loss: 0.8171, Accuracy: 67.35%\n",
            "Epoch 245/500, Loss: 0.8217, Accuracy: 66.22%\n",
            "Epoch 246/500, Loss: 0.8281, Accuracy: 66.43%\n",
            "Epoch 247/500, Loss: 0.8265, Accuracy: 66.86%\n",
            "Epoch 248/500, Loss: 0.8255, Accuracy: 66.05%\n",
            "Epoch 249/500, Loss: 0.8097, Accuracy: 67.05%\n",
            "Epoch 250/500, Loss: 0.8194, Accuracy: 66.28%\n",
            "Epoch 251/500, Loss: 0.8215, Accuracy: 65.85%\n",
            "Epoch 252/500, Loss: 0.8245, Accuracy: 66.45%\n",
            "Epoch 253/500, Loss: 0.8186, Accuracy: 67.20%\n",
            "Epoch 254/500, Loss: 0.8259, Accuracy: 66.22%\n",
            "Epoch 255/500, Loss: 0.8199, Accuracy: 66.41%\n",
            "Epoch 256/500, Loss: 0.8005, Accuracy: 68.47%\n",
            "Epoch 257/500, Loss: 0.8183, Accuracy: 66.15%\n",
            "Epoch 258/500, Loss: 0.8341, Accuracy: 66.80%\n",
            "Epoch 259/500, Loss: 0.8309, Accuracy: 66.17%\n",
            "Epoch 260/500, Loss: 0.8276, Accuracy: 65.83%\n",
            "Epoch 261/500, Loss: 0.8106, Accuracy: 66.84%\n",
            "Epoch 262/500, Loss: 0.8087, Accuracy: 67.63%\n",
            "Epoch 263/500, Loss: 0.8185, Accuracy: 66.92%\n",
            "Epoch 264/500, Loss: 0.8199, Accuracy: 66.75%\n",
            "Epoch 265/500, Loss: 0.8151, Accuracy: 67.65%\n",
            "Epoch 266/500, Loss: 0.8166, Accuracy: 66.62%\n",
            "Epoch 267/500, Loss: 0.8135, Accuracy: 66.62%\n",
            "Epoch 268/500, Loss: 0.8176, Accuracy: 67.01%\n",
            "Epoch 269/500, Loss: 0.8194, Accuracy: 66.47%\n",
            "Epoch 270/500, Loss: 0.8086, Accuracy: 67.03%\n",
            "Epoch 271/500, Loss: 0.8049, Accuracy: 66.56%\n",
            "Epoch 272/500, Loss: 0.8154, Accuracy: 66.60%\n",
            "Epoch 273/500, Loss: 0.8228, Accuracy: 66.45%\n",
            "Epoch 274/500, Loss: 0.8246, Accuracy: 66.82%\n",
            "Epoch 275/500, Loss: 0.8085, Accuracy: 67.61%\n",
            "Epoch 276/500, Loss: 0.8029, Accuracy: 67.16%\n",
            "Epoch 277/500, Loss: 0.8167, Accuracy: 67.27%\n",
            "Epoch 278/500, Loss: 0.7978, Accuracy: 68.34%\n",
            "Epoch 279/500, Loss: 0.8016, Accuracy: 68.08%\n",
            "Epoch 280/500, Loss: 0.8085, Accuracy: 67.35%\n",
            "Epoch 281/500, Loss: 0.8136, Accuracy: 66.95%\n",
            "Epoch 282/500, Loss: 0.7937, Accuracy: 68.04%\n",
            "Epoch 283/500, Loss: 0.8170, Accuracy: 67.70%\n",
            "Epoch 284/500, Loss: 0.8078, Accuracy: 67.20%\n",
            "Epoch 285/500, Loss: 0.8053, Accuracy: 67.46%\n",
            "Epoch 286/500, Loss: 0.8011, Accuracy: 67.37%\n",
            "Epoch 287/500, Loss: 0.8042, Accuracy: 67.42%\n",
            "Epoch 288/500, Loss: 0.8087, Accuracy: 67.85%\n",
            "Epoch 289/500, Loss: 0.8124, Accuracy: 67.37%\n",
            "Epoch 290/500, Loss: 0.8012, Accuracy: 67.42%\n",
            "Epoch 291/500, Loss: 0.8201, Accuracy: 67.29%\n",
            "Epoch 292/500, Loss: 0.8027, Accuracy: 67.82%\n",
            "Epoch 293/500, Loss: 0.7983, Accuracy: 68.38%\n",
            "Epoch 294/500, Loss: 0.8016, Accuracy: 67.10%\n",
            "Epoch 295/500, Loss: 0.8067, Accuracy: 67.18%\n",
            "Epoch 296/500, Loss: 0.8068, Accuracy: 67.40%\n",
            "Epoch 297/500, Loss: 0.8111, Accuracy: 67.37%\n",
            "Epoch 298/500, Loss: 0.8122, Accuracy: 66.47%\n",
            "Epoch 299/500, Loss: 0.7970, Accuracy: 67.72%\n",
            "Epoch 300/500, Loss: 0.8154, Accuracy: 67.10%\n",
            "Epoch 301/500, Loss: 0.7991, Accuracy: 67.22%\n",
            "Epoch 302/500, Loss: 0.8095, Accuracy: 67.25%\n",
            "Epoch 303/500, Loss: 0.8135, Accuracy: 68.00%\n",
            "Epoch 304/500, Loss: 0.7915, Accuracy: 67.63%\n",
            "Epoch 305/500, Loss: 0.8083, Accuracy: 67.46%\n",
            "Epoch 306/500, Loss: 0.8020, Accuracy: 67.55%\n",
            "Epoch 307/500, Loss: 0.8043, Accuracy: 67.12%\n",
            "Epoch 308/500, Loss: 0.8136, Accuracy: 66.73%\n",
            "Epoch 309/500, Loss: 0.8099, Accuracy: 67.65%\n",
            "Epoch 310/500, Loss: 0.8058, Accuracy: 67.67%\n",
            "Epoch 311/500, Loss: 0.8151, Accuracy: 66.88%\n",
            "Epoch 312/500, Loss: 0.8059, Accuracy: 67.89%\n",
            "Epoch 313/500, Loss: 0.7877, Accuracy: 68.66%\n",
            "Epoch 314/500, Loss: 0.7971, Accuracy: 67.29%\n",
            "Epoch 315/500, Loss: 0.8132, Accuracy: 67.22%\n",
            "Epoch 316/500, Loss: 0.7936, Accuracy: 67.67%\n",
            "Epoch 317/500, Loss: 0.7922, Accuracy: 68.45%\n",
            "Epoch 318/500, Loss: 0.8029, Accuracy: 67.95%\n",
            "Epoch 319/500, Loss: 0.8097, Accuracy: 66.88%\n",
            "Epoch 320/500, Loss: 0.8008, Accuracy: 67.89%\n",
            "Epoch 321/500, Loss: 0.8167, Accuracy: 67.10%\n",
            "Epoch 322/500, Loss: 0.8084, Accuracy: 67.89%\n",
            "Epoch 323/500, Loss: 0.8083, Accuracy: 68.25%\n",
            "Epoch 324/500, Loss: 0.7953, Accuracy: 67.07%\n",
            "Epoch 325/500, Loss: 0.8087, Accuracy: 67.12%\n",
            "Epoch 326/500, Loss: 0.8052, Accuracy: 67.27%\n",
            "Epoch 327/500, Loss: 0.7931, Accuracy: 68.38%\n",
            "Epoch 328/500, Loss: 0.7889, Accuracy: 67.44%\n",
            "Epoch 329/500, Loss: 0.8165, Accuracy: 66.99%\n",
            "Epoch 330/500, Loss: 0.8007, Accuracy: 67.78%\n",
            "Epoch 331/500, Loss: 0.7760, Accuracy: 68.72%\n",
            "Epoch 332/500, Loss: 0.7916, Accuracy: 68.47%\n",
            "Epoch 333/500, Loss: 0.7937, Accuracy: 68.00%\n",
            "Epoch 334/500, Loss: 0.8112, Accuracy: 67.14%\n",
            "Epoch 335/500, Loss: 0.8033, Accuracy: 67.57%\n",
            "Epoch 336/500, Loss: 0.8107, Accuracy: 67.85%\n",
            "Epoch 337/500, Loss: 0.7987, Accuracy: 67.89%\n",
            "Epoch 338/500, Loss: 0.7992, Accuracy: 67.72%\n",
            "Epoch 339/500, Loss: 0.7837, Accuracy: 68.40%\n",
            "Epoch 340/500, Loss: 0.7843, Accuracy: 68.83%\n",
            "Epoch 341/500, Loss: 0.8048, Accuracy: 67.72%\n",
            "Epoch 342/500, Loss: 0.7999, Accuracy: 67.85%\n",
            "Epoch 343/500, Loss: 0.7924, Accuracy: 68.23%\n",
            "Epoch 344/500, Loss: 0.7885, Accuracy: 67.82%\n",
            "Epoch 345/500, Loss: 0.8002, Accuracy: 68.06%\n",
            "Epoch 346/500, Loss: 0.7917, Accuracy: 67.97%\n",
            "Epoch 347/500, Loss: 0.7998, Accuracy: 68.51%\n",
            "Epoch 348/500, Loss: 0.7788, Accuracy: 68.98%\n",
            "Epoch 349/500, Loss: 0.8075, Accuracy: 68.34%\n",
            "Epoch 350/500, Loss: 0.7866, Accuracy: 68.38%\n",
            "Epoch 351/500, Loss: 0.8034, Accuracy: 67.57%\n",
            "Epoch 352/500, Loss: 0.7976, Accuracy: 68.53%\n",
            "Epoch 353/500, Loss: 0.7915, Accuracy: 67.61%\n",
            "Epoch 354/500, Loss: 0.7914, Accuracy: 68.19%\n",
            "Epoch 355/500, Loss: 0.7973, Accuracy: 67.78%\n",
            "Epoch 356/500, Loss: 0.7826, Accuracy: 68.68%\n",
            "Epoch 357/500, Loss: 0.8074, Accuracy: 67.37%\n",
            "Epoch 358/500, Loss: 0.8005, Accuracy: 67.76%\n",
            "Epoch 359/500, Loss: 0.7958, Accuracy: 67.95%\n",
            "Epoch 360/500, Loss: 0.7840, Accuracy: 68.15%\n",
            "Epoch 361/500, Loss: 0.7913, Accuracy: 67.91%\n",
            "Epoch 362/500, Loss: 0.8036, Accuracy: 67.25%\n",
            "Epoch 363/500, Loss: 0.7958, Accuracy: 67.72%\n",
            "Epoch 364/500, Loss: 0.7856, Accuracy: 68.17%\n",
            "Epoch 365/500, Loss: 0.7949, Accuracy: 67.50%\n",
            "Epoch 366/500, Loss: 0.7678, Accuracy: 69.60%\n",
            "Epoch 367/500, Loss: 0.7918, Accuracy: 68.42%\n",
            "Epoch 368/500, Loss: 0.7722, Accuracy: 69.26%\n",
            "Epoch 369/500, Loss: 0.7835, Accuracy: 68.66%\n",
            "Epoch 370/500, Loss: 0.7889, Accuracy: 68.47%\n",
            "Epoch 371/500, Loss: 0.7958, Accuracy: 68.66%\n",
            "Epoch 372/500, Loss: 0.8056, Accuracy: 67.76%\n",
            "Epoch 373/500, Loss: 0.7937, Accuracy: 68.17%\n",
            "Epoch 374/500, Loss: 0.7841, Accuracy: 68.92%\n",
            "Epoch 375/500, Loss: 0.7761, Accuracy: 69.00%\n",
            "Epoch 376/500, Loss: 0.7862, Accuracy: 68.77%\n",
            "Epoch 377/500, Loss: 0.7796, Accuracy: 68.32%\n",
            "Epoch 378/500, Loss: 0.7936, Accuracy: 67.07%\n",
            "Epoch 379/500, Loss: 0.7865, Accuracy: 68.04%\n",
            "Epoch 380/500, Loss: 0.7890, Accuracy: 67.59%\n",
            "Epoch 381/500, Loss: 0.7881, Accuracy: 68.42%\n",
            "Epoch 382/500, Loss: 0.7707, Accuracy: 69.32%\n",
            "Epoch 383/500, Loss: 0.7834, Accuracy: 68.36%\n",
            "Epoch 384/500, Loss: 0.7871, Accuracy: 68.19%\n",
            "Epoch 385/500, Loss: 0.7710, Accuracy: 69.09%\n",
            "Epoch 386/500, Loss: 0.7853, Accuracy: 69.28%\n",
            "Epoch 387/500, Loss: 0.7901, Accuracy: 67.97%\n",
            "Epoch 388/500, Loss: 0.7841, Accuracy: 69.20%\n",
            "Epoch 389/500, Loss: 0.7701, Accuracy: 69.39%\n",
            "Epoch 390/500, Loss: 0.7782, Accuracy: 68.60%\n",
            "Epoch 391/500, Loss: 0.7902, Accuracy: 68.32%\n",
            "Epoch 392/500, Loss: 0.7987, Accuracy: 68.06%\n",
            "Epoch 393/500, Loss: 0.7711, Accuracy: 68.92%\n",
            "Epoch 394/500, Loss: 0.7937, Accuracy: 68.04%\n",
            "Epoch 395/500, Loss: 0.7834, Accuracy: 68.19%\n",
            "Epoch 396/500, Loss: 0.7918, Accuracy: 68.34%\n",
            "Epoch 397/500, Loss: 0.7969, Accuracy: 68.21%\n",
            "Epoch 398/500, Loss: 0.7948, Accuracy: 67.63%\n",
            "Epoch 399/500, Loss: 0.7826, Accuracy: 69.11%\n",
            "Epoch 400/500, Loss: 0.7772, Accuracy: 69.47%\n",
            "Epoch 401/500, Loss: 0.7851, Accuracy: 68.38%\n",
            "Epoch 402/500, Loss: 0.7971, Accuracy: 67.57%\n",
            "Epoch 403/500, Loss: 0.7787, Accuracy: 67.85%\n",
            "Epoch 404/500, Loss: 0.7972, Accuracy: 68.27%\n",
            "Epoch 405/500, Loss: 0.7965, Accuracy: 67.80%\n",
            "Epoch 406/500, Loss: 0.7888, Accuracy: 68.49%\n",
            "Epoch 407/500, Loss: 0.7871, Accuracy: 68.49%\n",
            "Epoch 408/500, Loss: 0.7843, Accuracy: 68.12%\n",
            "Epoch 409/500, Loss: 0.7762, Accuracy: 69.26%\n",
            "Epoch 410/500, Loss: 0.7842, Accuracy: 67.67%\n",
            "Epoch 411/500, Loss: 0.7997, Accuracy: 67.87%\n",
            "Epoch 412/500, Loss: 0.7931, Accuracy: 67.80%\n",
            "Epoch 413/500, Loss: 0.7815, Accuracy: 69.02%\n",
            "Epoch 414/500, Loss: 0.7740, Accuracy: 69.24%\n",
            "Epoch 415/500, Loss: 0.7811, Accuracy: 68.77%\n",
            "Epoch 416/500, Loss: 0.7836, Accuracy: 68.57%\n",
            "Epoch 417/500, Loss: 0.7841, Accuracy: 68.60%\n",
            "Epoch 418/500, Loss: 0.7898, Accuracy: 67.61%\n",
            "Epoch 419/500, Loss: 0.7814, Accuracy: 68.45%\n",
            "Epoch 420/500, Loss: 0.7696, Accuracy: 70.03%\n",
            "Epoch 421/500, Loss: 0.7815, Accuracy: 68.25%\n",
            "Epoch 422/500, Loss: 0.7918, Accuracy: 68.36%\n",
            "Epoch 423/500, Loss: 0.7835, Accuracy: 68.32%\n",
            "Epoch 424/500, Loss: 0.7763, Accuracy: 68.70%\n",
            "Epoch 425/500, Loss: 0.7819, Accuracy: 68.96%\n",
            "Epoch 426/500, Loss: 0.7824, Accuracy: 68.57%\n",
            "Epoch 427/500, Loss: 0.7898, Accuracy: 67.82%\n",
            "Epoch 428/500, Loss: 0.7828, Accuracy: 69.13%\n",
            "Epoch 429/500, Loss: 0.7677, Accuracy: 69.09%\n",
            "Epoch 430/500, Loss: 0.7705, Accuracy: 68.51%\n",
            "Epoch 431/500, Loss: 0.7723, Accuracy: 68.85%\n",
            "Epoch 432/500, Loss: 0.7689, Accuracy: 69.92%\n",
            "Epoch 433/500, Loss: 0.7912, Accuracy: 67.91%\n",
            "Epoch 434/500, Loss: 0.7908, Accuracy: 68.83%\n",
            "Epoch 435/500, Loss: 0.7985, Accuracy: 68.04%\n",
            "Epoch 436/500, Loss: 0.7895, Accuracy: 68.51%\n",
            "Epoch 437/500, Loss: 0.7984, Accuracy: 68.00%\n",
            "Epoch 438/500, Loss: 0.7628, Accuracy: 69.86%\n",
            "Epoch 439/500, Loss: 0.7805, Accuracy: 68.51%\n",
            "Epoch 440/500, Loss: 0.7861, Accuracy: 68.66%\n",
            "Epoch 441/500, Loss: 0.7771, Accuracy: 68.75%\n",
            "Epoch 442/500, Loss: 0.7727, Accuracy: 69.05%\n",
            "Epoch 443/500, Loss: 0.7756, Accuracy: 69.11%\n",
            "Epoch 444/500, Loss: 0.7746, Accuracy: 68.77%\n",
            "Epoch 445/500, Loss: 0.7867, Accuracy: 67.76%\n",
            "Epoch 446/500, Loss: 0.7987, Accuracy: 67.50%\n",
            "Epoch 447/500, Loss: 0.7723, Accuracy: 69.02%\n",
            "Epoch 448/500, Loss: 0.7798, Accuracy: 68.49%\n",
            "Epoch 449/500, Loss: 0.7810, Accuracy: 68.75%\n",
            "Epoch 450/500, Loss: 0.7779, Accuracy: 68.75%\n",
            "Epoch 451/500, Loss: 0.7775, Accuracy: 69.02%\n",
            "Epoch 452/500, Loss: 0.7856, Accuracy: 68.49%\n",
            "Epoch 453/500, Loss: 0.7671, Accuracy: 68.92%\n",
            "Epoch 454/500, Loss: 0.7811, Accuracy: 69.13%\n",
            "Epoch 455/500, Loss: 0.7801, Accuracy: 68.57%\n",
            "Epoch 456/500, Loss: 0.7824, Accuracy: 68.00%\n",
            "Epoch 457/500, Loss: 0.7667, Accuracy: 69.50%\n",
            "Epoch 458/500, Loss: 0.7768, Accuracy: 69.45%\n",
            "Epoch 459/500, Loss: 0.7799, Accuracy: 68.38%\n",
            "Epoch 460/500, Loss: 0.7959, Accuracy: 67.76%\n",
            "Epoch 461/500, Loss: 0.7765, Accuracy: 68.70%\n",
            "Epoch 462/500, Loss: 0.7744, Accuracy: 68.87%\n",
            "Epoch 463/500, Loss: 0.7675, Accuracy: 68.94%\n",
            "Epoch 464/500, Loss: 0.7718, Accuracy: 69.84%\n",
            "Epoch 465/500, Loss: 0.7721, Accuracy: 69.28%\n",
            "Epoch 466/500, Loss: 0.7878, Accuracy: 68.02%\n",
            "Epoch 467/500, Loss: 0.7573, Accuracy: 70.14%\n",
            "Epoch 468/500, Loss: 0.7778, Accuracy: 69.56%\n",
            "Epoch 469/500, Loss: 0.7725, Accuracy: 68.70%\n",
            "Epoch 470/500, Loss: 0.7715, Accuracy: 69.22%\n",
            "Epoch 471/500, Loss: 0.7671, Accuracy: 69.07%\n",
            "Epoch 472/500, Loss: 0.7751, Accuracy: 69.47%\n",
            "Epoch 473/500, Loss: 0.7855, Accuracy: 68.21%\n",
            "Epoch 474/500, Loss: 0.7687, Accuracy: 69.28%\n",
            "Epoch 475/500, Loss: 0.7716, Accuracy: 69.24%\n",
            "Epoch 476/500, Loss: 0.7785, Accuracy: 68.34%\n",
            "Epoch 477/500, Loss: 0.7792, Accuracy: 68.23%\n",
            "Epoch 478/500, Loss: 0.7749, Accuracy: 69.26%\n",
            "Epoch 479/500, Loss: 0.7720, Accuracy: 69.56%\n",
            "Epoch 480/500, Loss: 0.7541, Accuracy: 70.20%\n",
            "Epoch 481/500, Loss: 0.7610, Accuracy: 69.56%\n",
            "Epoch 482/500, Loss: 0.7785, Accuracy: 68.77%\n",
            "Epoch 483/500, Loss: 0.7608, Accuracy: 69.30%\n",
            "Epoch 484/500, Loss: 0.7682, Accuracy: 69.28%\n",
            "Epoch 485/500, Loss: 0.7681, Accuracy: 69.80%\n",
            "Epoch 486/500, Loss: 0.7785, Accuracy: 68.51%\n",
            "Epoch 487/500, Loss: 0.7739, Accuracy: 68.94%\n",
            "Epoch 488/500, Loss: 0.7760, Accuracy: 68.90%\n",
            "Epoch 489/500, Loss: 0.7629, Accuracy: 69.15%\n",
            "Epoch 490/500, Loss: 0.7694, Accuracy: 68.30%\n",
            "Epoch 491/500, Loss: 0.7769, Accuracy: 67.93%\n",
            "Epoch 492/500, Loss: 0.7633, Accuracy: 69.77%\n",
            "Epoch 493/500, Loss: 0.7681, Accuracy: 68.98%\n",
            "Epoch 494/500, Loss: 0.7611, Accuracy: 69.58%\n",
            "Epoch 495/500, Loss: 0.7759, Accuracy: 68.15%\n",
            "Epoch 496/500, Loss: 0.7660, Accuracy: 68.62%\n",
            "Epoch 497/500, Loss: 0.7598, Accuracy: 70.23%\n",
            "Epoch 498/500, Loss: 0.7747, Accuracy: 69.30%\n",
            "Epoch 499/500, Loss: 0.7505, Accuracy: 69.90%\n",
            "Epoch 500/500, Loss: 0.7767, Accuracy: 67.80%\n",
            "Average Loss: 0.7766522472055523\n",
            "Highest Train Accuracy: 0.7022508038585209\n"
          ]
        }
      ]
    },
    {
      "cell_type": "markdown",
      "source": [
        "##Evaluating Model"
      ],
      "metadata": {
        "id": "-3fKnNHxDKwn"
      }
    },
    {
      "cell_type": "code",
      "source": [
        "classes_list = ['Left', 'Right', 'Foot', 'Tongue']\n",
        "eval_model = EvalModel(trained_eegnet_model)\n",
        "test_accuracy = eval_model.test_model(test_dataset)\n",
        "eval_model.plot_confusion_matrix(test_dataset, classes_list)\n"
      ],
      "metadata": {
        "id": "aHsstvZSDLb1",
        "colab": {
          "base_uri": "https://localhost:8080/",
          "height": 695
        },
        "outputId": "62367285-83e7-4ed4-db94-376f791fcfec"
      },
      "execution_count": 36,
      "outputs": [
        {
          "output_type": "stream",
          "name": "stdout",
          "text": [
            "/------------------------------/\n",
            "Test Accuracy: 69.94%\n",
            "/------------------------------/\n"
          ]
        },
        {
          "output_type": "display_data",
          "data": {
            "text/plain": [
              "<Figure size 1000x700 with 2 Axes>"
            ],
            "image/png": "[encoded data removed]"
          },
          "metadata": {}
        }
      ]
    }
  ]
}