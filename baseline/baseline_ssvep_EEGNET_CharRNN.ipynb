{
 "cells": [
  {
   "cell_type": "markdown",
   "metadata": {
    "id": "AWrU5w8VfcEI"
   },
   "source": [
    "# Manage Directories and Packages"
   ]
  },
  {
   "cell_type": "code",
   "execution_count": 1,
   "metadata": {
    "colab": {
     "base_uri": "https://localhost:8080/"
    },
    "id": "Y2fMcDgxb5Dx",
    "outputId": "3556270a-f3e5-4096-fd43-3bde51f7046d"
   },
   "outputs": [],
   "source": [
    "import os\n",
    "import sys\n",
    "\n",
    "# Go to main working directory\n",
    "#os.makedirs('/content/eegnet-charrnn', exist_ok=True)\n",
    "#%cd /content/eegnet-charrnn\n",
    "\n",
    "# Directory containing subject files\n",
    "subject_rawdata_dir = 'raw_data' # All raw .mat files should be here. Make sure to upload them!\n",
    "subject_chars_dir = 'chars' # Where to store all character data\n",
    "subject_words_dir = \"words\" # Where to store all word data\n",
    "\n",
    "os.makedirs(subject_rawdata_dir, exist_ok=True)\n",
    "os.makedirs(subject_chars_dir, exist_ok=True)\n",
    "os.makedirs(subject_words_dir, exist_ok=True)"
   ]
  },
  {
   "cell_type": "code",
   "execution_count": 2,
   "metadata": {
    "id": "2r5acOIgcsL_"
   },
   "outputs": [],
   "source": [
    "# Install necessary packages\n",
    "#!pip install datasets\n",
    "#!pip install tensorflow==2.8.0\n",
    "#!pip install mne>=0.17.1 PyRiemann>=0.2.5 scikit-learn>=0.20.1 matplotlib>=2.2.3\n",
    "\n",
    "#!git clone https://github.com/vlawhern/arl-eegmodels.git\n",
    "sys.path.append(r'C:\\Users\\shaoy\\arl-eegmodels')"
   ]
  },
  {
   "cell_type": "code",
   "execution_count": 3,
   "metadata": {
    "id": "RSs59CT-cjf9"
   },
   "outputs": [
    {
     "name": "stdout",
     "output_type": "stream",
     "text": [
      "cuda\n"
     ]
    }
   ],
   "source": [
    "# Import necessary libraries\n",
    "import numpy as np\n",
    "import string\n",
    "import re\n",
    "import json\n",
    "import random\n",
    "import gc\n",
    "import pandas as pd\n",
    "\n",
    "import torch\n",
    "import torch.nn as nn\n",
    "import torch.optim as optim\n",
    "import torch.nn.functional as F\n",
    "from torch.utils.data import Dataset, DataLoader\n",
    "import tensorflow as tf\n",
    "from tqdm import tqdm\n",
    "\n",
    "from datasets import load_dataset\n",
    "from scipy.io import loadmat\n",
    "from scipy.signal import cheby1, filtfilt, resample\n",
    "\n",
    "from EEGModels import EEGNet, ShallowConvNet, DeepConvNet\n",
    "from tensorflow.keras.utils import to_categorical\n",
    "from sklearn.model_selection import KFold\n",
    "from tensorflow.keras.optimizers import Adam\n",
    "from tensorflow.keras.regularizers import l2\n",
    "from tensorflow.keras.initializers import RandomNormal\n",
    "\n",
    "\n",
    "device = torch.device(\"cuda\" if torch.cuda.is_available() else \"cpu\")\n",
    "print(device)"
   ]
  },
  {
   "cell_type": "markdown",
   "metadata": {
    "id": "-fjqrb2Gbt-6"
   },
   "source": [
    "# Create Sequential Character Data\n",
    "\n",
    "This section will process the SSVEP EEG data from the Benchmark dataset (Tsinghua University) and then use it to create sequences of characters (aka words) for the training and evaluation of deep neural models intending to evaluate their performance on practical word-based data."
   ]
  },
  {
   "cell_type": "code",
   "execution_count": 6,
   "metadata": {
    "id": "cVRsMqrTeGNV"
   },
   "outputs": [],
   "source": [
    "# Preprocessing Code from Ruiming\n",
    "def chebyshev_bandpass(lowcut, highcut, fs, order=4, rp=0.5):\n",
    "    \"\"\"\n",
    "    Design a Chebyshev Type I bandpass filter.\n",
    "\n",
    "    Parameters:\n",
    "    - lowcut: Low frequency cut-off for the bandpass filter.\n",
    "    - highcut: High frequency cut-off for the bandpass filter.\n",
    "    - fs: Sampling frequency of the EEG data.\n",
    "    - order: The order of the filter (default: 4).\n",
    "    - rp: Maximum ripple in the passband (default: 0.5 dB).\n",
    "\n",
    "    Returns:\n",
    "    - b, a: Numerator (b) and denominator (a) polynomials of the filter.\n",
    "    \"\"\"\n",
    "    nyquist = 0.5 * fs\n",
    "    low = lowcut / nyquist\n",
    "    high = highcut / nyquist\n",
    "    b, a = cheby1(order, rp, [low, high], btype='band')\n",
    "    return b, a\n",
    "\n",
    "def load_benchmark_data(file_path, n_channels=64, n_timepoints=1500, n_classes=40,\n",
    "                  lowcut=6.0, highcut=90.0, fs=1000, target_fs=250,\n",
    "                  window_length=250): # THIS IS CREATING 4s SEGMENTS FOR DATA\n",
    "    \"\"\"\n",
    "    Load EEG data from .mat files in a directory, apply Chebyshev bandpass filter,\n",
    "    downsample, segment with sliding window, and return as arrays.\n",
    "\n",
    "    Parameters:\n",
    "    - file_path: .mat file for specific subject\n",
    "    - n_channels: Number of EEG channels (default: 64).\n",
    "    - n_timepoints: Number of time points per trial (default: 1500).\n",
    "    - n_classes: Number of target classes\n",
    "    - lowcut: Low frequency cut-off for Chebyshev bandpass filter (default: 6 Hz).\n",
    "    - highcut: High frequency cut-off for Chebyshev bandpass filter (default: 90 Hz).\n",
    "    - fs: Original sampling frequency of the EEG data (default: 1000 Hz).\n",
    "    - target_fs: Target sampling frequency after downsampling (default: 250 Hz).\n",
    "    - window_length: Length of each segment window in samples (default: 250 samples for 1s at 250 Hz).\n",
    "\n",
    "    Returns:\n",
    "    - X: EEG data as a NumPy array with shape (number_of_samples, number_channels, num_timepoints).\n",
    "    - y: One-hot encoded labels as a NumPy array.\n",
    "    \"\"\"\n",
    "    X, y = [], []\n",
    "    b, a = chebyshev_bandpass(lowcut, highcut, fs, order=4)  # Define Chebyshev filter\n",
    "\n",
    "    # Load .mat file\n",
    "    mat_data = loadmat(file_path)\n",
    "\n",
    "    # Assuming data is stored in 'data' variable with shape [64, 1500, 40, 6]\n",
    "    eeg_data = mat_data['data']  # Shape: [64, 1500, 40, 6]\n",
    "\n",
    "    # Process each trial\n",
    "    for target_idx in range(eeg_data.shape[2]):\n",
    "        for block_idx in range(eeg_data.shape[3]):\n",
    "            trial_data = eeg_data[:, :, target_idx, block_idx]  # Shape: [64, 1500]\n",
    "\n",
    "            # Apply bandpass filter\n",
    "            trial_data_filtered = np.zeros_like(trial_data)\n",
    "            for ch in range(n_channels):\n",
    "                trial_data_filtered[ch, :] = filtfilt(b, a, trial_data[ch, :])\n",
    "\n",
    "            # Downsample to target sampling rate\n",
    "            trial_data_downsampled = resample(trial_data_filtered, int(trial_data_filtered.shape[1] * target_fs / fs), axis=1)\n",
    "\n",
    "            # Apply sliding window to generate segments\n",
    "            for start in range(0, trial_data_downsampled.shape[1] - window_length + 1, window_length):\n",
    "                segment = trial_data_downsampled[:, start:start + window_length]\n",
    "\n",
    "                # Normalize segment channel-wise\n",
    "                segment = (segment - segment.mean(axis=1, keepdims=True)) / segment.std(axis=1, keepdims=True)\n",
    "\n",
    "                # Append the segment and label\n",
    "                X.append(segment)\n",
    "                y.append(target_idx)  # Label as the target index\n",
    "\n",
    "    # Convert lists to NumPy arrays\n",
    "    X = np.array(X)  # Shape: [num_samples, 64 electrodes, 250 window_length]\n",
    "    y = np.array(y)  # Shape: [num_samples, 40 classes]\n",
    "\n",
    "    # Convert labels to one-hot encoding\n",
    "    y = to_categorical(y, num_classes=n_classes)\n",
    "    return X, y\n"
   ]
  },
  {
   "cell_type": "code",
   "execution_count": null,
   "metadata": {
    "colab": {
     "base_uri": "https://localhost:8080/"
    },
    "id": "cGA_QGEfeK03",
    "outputId": "9e9ed4a4-2db1-4e3d-9e5f-736270a55392"
   },
   "outputs": [],
   "source": [
    "# Test function\n",
    "X, y = load_benchmark_data(\"raw_data/S31.mat\")\n",
    "print(X.shape)\n",
    "print(y.shape)"
   ]
  },
  {
   "cell_type": "code",
   "execution_count": 8,
   "metadata": {
    "id": "N2f0Ij2fePUx"
   },
   "outputs": [],
   "source": [
    "def create_chars(subject_rawdata_dir, subject_chars_dir):\n",
    "    \"\"\"\n",
    "    Process each subject and save character data into a single file.\n",
    "\n",
    "    Parameters:\n",
    "    - subject_rawdata_dir: Directory containing raw subject files (.mat).\n",
    "    - subject_chars_dir: Directory to save character-specific data.\n",
    "\n",
    "    Output:\n",
    "    - Saves a NumPy array for each subject with shape [26, 6, 64, 250].\n",
    "    \"\"\"\n",
    "    all_subject_files = [f for f in os.listdir(subject_rawdata_dir) if f.endswith('.mat')]\n",
    "\n",
    "    # Process each subject and save character data into a single file\n",
    "    for subject_file in all_subject_files:\n",
    "        # Load and preprocess the EEG data for the current subject\n",
    "        subject_id = subject_file.split('.')[0]  # Get subject identifier (e.g., S1)\n",
    "        X, y = load_benchmark_data(os.path.join(subject_rawdata_dir, subject_file)) # Shape: [240 samples, 64 channels, 250 time points]\n",
    "\n",
    "        # Initialize an array to hold all character data\n",
    "        subject_data = np.zeros((26, 6, 64, 250))  # Shape: [26 characters, 6 blocks, 64 channels, 250 time points]\n",
    "\n",
    "        # Save the data for each character A-Z in a single array\n",
    "        for target_idx in range(26):  # Only A-Z targets\n",
    "            for block_idx in range(6):\n",
    "              sample_idx = 6*target_idx+block_idx\n",
    "              assert np.argmax(y[sample_idx]) == target_idx, (\n",
    "                    f\"Mismatch: y[{sample_idx}] (argmax={np.argmax(y[sample_idx])}) != target_idx ({target_idx})\"\n",
    "                )\n",
    "              subject_data[target_idx, block_idx, :, :] = X[sample_idx, :, :]\n",
    "\n",
    "        # Save the combined data to a .npy file\n",
    "        output_file = os.path.join(subject_chars_dir, f'{subject_id}_chars.npy')\n",
    "        np.save(output_file, subject_data)\n",
    "        print(f'Saved {output_file}')"
   ]
  },
  {
   "cell_type": "code",
   "execution_count": 9,
   "metadata": {
    "colab": {
     "base_uri": "https://localhost:8080/"
    },
    "id": "Be7jDW9HeSEl",
    "outputId": "77bb8763-9f48-44b4-c77e-ae0ac3477480"
   },
   "outputs": [
    {
     "name": "stdout",
     "output_type": "stream",
     "text": [
      "Saved chars\\S1_chars.npy\n",
      "Saved chars\\S10_chars.npy\n",
      "Saved chars\\S11_chars.npy\n",
      "Saved chars\\S12_chars.npy\n",
      "Saved chars\\S13_chars.npy\n",
      "Saved chars\\S14_chars.npy\n",
      "Saved chars\\S15_chars.npy\n",
      "Saved chars\\S16_chars.npy\n",
      "Saved chars\\S17_chars.npy\n",
      "Saved chars\\S18_chars.npy\n",
      "Saved chars\\S19_chars.npy\n",
      "Saved chars\\S2_chars.npy\n",
      "Saved chars\\S20_chars.npy\n",
      "Saved chars\\S21_chars.npy\n",
      "Saved chars\\S22_chars.npy\n",
      "Saved chars\\S23_chars.npy\n",
      "Saved chars\\S24_chars.npy\n",
      "Saved chars\\S25_chars.npy\n",
      "Saved chars\\S26_chars.npy\n",
      "Saved chars\\S27_chars.npy\n",
      "Saved chars\\S28_chars.npy\n",
      "Saved chars\\S29_chars.npy\n",
      "Saved chars\\S3_chars.npy\n",
      "Saved chars\\S30_chars.npy\n",
      "Saved chars\\S31_chars.npy\n",
      "Saved chars\\S32_chars.npy\n",
      "Saved chars\\S33_chars.npy\n",
      "Saved chars\\S34_chars.npy\n",
      "Saved chars\\S35_chars.npy\n",
      "Saved chars\\S4_chars.npy\n",
      "Saved chars\\S5_chars.npy\n",
      "Saved chars\\S6_chars.npy\n",
      "Saved chars\\S7_chars.npy\n",
      "Saved chars\\S8_chars.npy\n",
      "Saved chars\\S9_chars.npy\n"
     ]
    }
   ],
   "source": [
    "# Call function to create character files\n",
    "create_chars(subject_rawdata_dir, subject_chars_dir)"
   ]
  },
  {
   "cell_type": "code",
   "execution_count": 10,
   "metadata": {
    "colab": {
     "base_uri": "https://localhost:8080/"
    },
    "id": "FZ6T-FemedC4",
    "outputId": "958d44f2-6581-4878-83a8-93e54dfbbb67"
   },
   "outputs": [
    {
     "data": {
      "text/plain": [
       "(26, 6, 64, 250)"
      ]
     },
     "execution_count": 10,
     "metadata": {},
     "output_type": "execute_result"
    }
   ],
   "source": [
    "# Test function\n",
    "test_chars = np.load(\"chars/S29_chars.npy\")\n",
    "test_chars.shape"
   ]
  },
  {
   "cell_type": "code",
   "execution_count": 11,
   "metadata": {
    "id": "D6ZK6_Hieklr"
   },
   "outputs": [],
   "source": [
    "def create_words(subject_chars_dir, subject_words_dir, word_list, output_name):\n",
    "    \"\"\"\n",
    "    Create words by concatenating random blocks of EEG data for each character in the words for all subjects.\n",
    "\n",
    "    Parameters:\n",
    "    - subject_chars_dir: Directory containing character-specific .npy files.\n",
    "    - subject_words_dir: Directory to save the word-specific dictionary for each subject.\n",
    "    - word_list: List of words to create.\n",
    "\n",
    "    Output:\n",
    "    - Saves a dictionary containing each word as a key and its EEG representation as value for each subject.\n",
    "    \"\"\"\n",
    "    if not os.path.exists(subject_words_dir):\n",
    "        os.makedirs(subject_words_dir)\n",
    "\n",
    "    # Process each subject\n",
    "    all_subject_files = [f for f in os.listdir(subject_chars_dir) if f.endswith('_chars.npy')]\n",
    "\n",
    "    for subject_file in all_subject_files:\n",
    "        subject_id = subject_file.split('_')[0]  # Get subject identifier (e.g., S1)\n",
    "\n",
    "        # Load the character-specific data for the subject\n",
    "        subject_data = np.load(os.path.join(subject_chars_dir, subject_file))  # Shape: [26, 6, 64, 250]\n",
    "\n",
    "        # Initialize a dictionary to store the words and their corresponding EEG data\n",
    "        words_dict = {}\n",
    "\n",
    "        # Create words by selecting random blocks for each character\n",
    "        for word in word_list:\n",
    "            word_data = []\n",
    "            for char in word.upper():\n",
    "                if 'A' <= char <= 'Z':\n",
    "                    char_idx = ord(char) - ord('A')\n",
    "                    random_block = random.choice(subject_data[char_idx])  # Shape: [64, 250]\n",
    "                    #random_block = subject_data[char_idx,1,:,:]\n",
    "                    word_data.append(random_block)\n",
    "                else:\n",
    "                    raise ValueError(f\"Invalid character '{char}' in word '{word}'. Only A-Z are allowed.\")\n",
    "\n",
    "            # Stack the blocks to form the word\n",
    "            word_array = np.stack(word_data, axis=0)  # Shape: [word_length, 64, 250]\n",
    "            words_dict[word] = word_array\n",
    "\n",
    "        # Save the dictionary to a .npy file\n",
    "        output_file = os.path.join(subject_words_dir, f'{subject_id}_{output_name}.npy')\n",
    "        np.save(output_file, words_dict)\n",
    "        print(f'Saved word dictionary for subject {subject_id} to {output_file}')"
   ]
  },
  {
   "cell_type": "code",
   "execution_count": 14,
   "metadata": {
    "id": "KJUJdMr_IjGu"
   },
   "outputs": [],
   "source": [
    "def is_valid_word(word):\n",
    "    # Exclude single letters except \"i\" and \"a\"\n",
    "    if len(word) == 1 and word not in {'i', 'a'}:\n",
    "        return False\n",
    "\n",
    "    # Exclude prefixes and suffixes\n",
    "    prefixes_suffixes = {\n",
    "        'de', 're', 'un', 'pre', 'inter', 'anti', 'ex',\n",
    "        'in', 'dis', 'non', 'mis', 'co',\n",
    "        'able', 'ible', 'al', 'ance', 'ence', 'dom', 'er', 'or', 'ist', 'ism',\n",
    "        'ity', 'ty', 'ment', 'ness', 'en', 'ful', 'ous', 'ious', 'eous', 'ish',\n",
    "        'ive', 'ative', 'itive', 'ly', 'ed', 'ing', 'tion', 'ation', 'sion'\n",
    "    }\n",
    "\n",
    "    # Check if the word matches any prefix or suffix\n",
    "    if word.lower() in prefixes_suffixes:\n",
    "        return False\n",
    "\n",
    "    # Allow the word if it passes all checks\n",
    "    return True"
   ]
  },
  {
   "cell_type": "code",
   "execution_count": 15,
   "metadata": {
    "colab": {
     "base_uri": "https://localhost:8080/"
    },
    "id": "-BcggFxyF2kp",
    "outputId": "daf9a406-8875-42cf-efb9-0d187d670ed3"
   },
   "outputs": [
    {
     "name": "stdout",
     "output_type": "stream",
     "text": [
      "Top 100 Common Words:\n",
      "['the', 'of', 'and', 'to', 'a', 'for', 'is', 'on', 'that', 'by', 'this', 'with', 'i', 'you', 'it', 'not', 'be', 'are', 'from', 'at', 'as', 'your', 'all', 'have', 'new', 'more', 'an', 'was', 'we', 'will', 'home', 'can', 'us', 'about', 'if', 'page', 'my', 'has', 'search', 'free', 'but', 'our', 'one', 'other', 'do', 'no', 'information', 'time', 'they', 'site', 'he', 'up', 'may', 'what', 'which', 'their', 'news', 'out', 'use', 'any', 'there', 'see', 'only', 'so', 'his', 'when', 'contact', 'here', 'business', 'who', 'web', 'also', 'now', 'help', 'get', 'pm', 'view', 'online', 'first', 'am', 'been', 'would', 'how', 'were', 'me', 'services', 'some', 'these', 'click', 'its', 'like', 'service', 'than', 'find', 'price', 'date', 'back', 'top', 'people', 'had']\n",
      "\n",
      "Top 100 Long Words (>= 7 letters):\n",
      "['information', 'contact', 'business', 'services', 'service', 'products', 'product', 'available', 'copyright', 'support', 'message', 'software', 'through', 'privacy', 'company', 'general', 'research', 'university', 'january', 'reviews', 'program', 'management', 'international', 'comments', 'development', 'details', 'because', 'results', 'education', 'national', 'internet', 'address', 'community', 'shipping', 'reserved', 'subject', 'between', 'special', 'website', 'technology', 'project', 'version', 'section', 'related', 'security', 'american', 'members', 'network', 'computer', 'systems', 'following', 'download', 'without', 'resources', 'current', 'control', 'history', 'pictures', 'personal', 'including', 'directory', 'location', 'government', 'children', 'students', 'shopping', 'account', 'digital', 'profile', 'previous', 'department', 'description', 'insurance', 'another', 'property', 'quality', 'listing', 'content', 'country', 'private', 'customer', 'december', 'compare', 'include', 'college', 'article', 'provide', 'different', 'process', 'training', 'science', 'categories', 'advanced', 'english', 'conditions', 'windows', 'category', 'gallery', 'register', 'however']\n",
      "\n",
      "Top 1000 Common Words:\n",
      "['the', 'of', 'and', 'to', 'a', 'for', 'is', 'on', 'that', 'by', 'this', 'with', 'i', 'you', 'it', 'not', 'be', 'are', 'from', 'at', 'as', 'your', 'all', 'have', 'new', 'more', 'an', 'was', 'we', 'will', 'home', 'can', 'us', 'about', 'if', 'page', 'my', 'has', 'search', 'free', 'but', 'our', 'one', 'other', 'do', 'no', 'information', 'time', 'they', 'site', 'he', 'up', 'may', 'what', 'which', 'their', 'news', 'out', 'use', 'any', 'there', 'see', 'only', 'so', 'his', 'when', 'contact', 'here', 'business', 'who', 'web', 'also', 'now', 'help', 'get', 'pm', 'view', 'online', 'first', 'am', 'been', 'would', 'how', 'were', 'me', 'services', 'some', 'these', 'click', 'its', 'like', 'service', 'than', 'find', 'price', 'date', 'back', 'top', 'people', 'had', 'list', 'name', 'just', 'over', 'state', 'year', 'day', 'into', 'email', 'two', 'health', 'world', 'next', 'used', 'go', 'work', 'last', 'most', 'products', 'music', 'buy', 'data', 'make', 'them', 'should', 'product', 'system', 'post', 'her', 'city', 'add', 'policy', 'number', 'such', 'please', 'available', 'copyright', 'support', 'message', 'after', 'best', 'software', 'then', 'jan', 'good', 'video', 'well', 'where', 'info', 'rights', 'public', 'books', 'high', 'school', 'through', 'each', 'links', 'she', 'review', 'years', 'order', 'very', 'privacy', 'book', 'items', 'company', 'read', 'group', 'sex', 'need', 'many', 'user', 'said', 'does', 'set', 'under', 'general', 'research', 'university', 'january', 'mail', 'full', 'map', 'reviews', 'program', 'life', 'know', 'games', 'way', 'days', 'management', 'part', 'could', 'great', 'united', 'hotel', 'real', 'item', 'international', 'center', 'ebay', 'must', 'store', 'travel', 'comments', 'made', 'development', 'report', 'off', 'member', 'details', 'line', 'terms', 'before', 'hotels', 'did', 'send', 'right', 'type', 'because', 'local', 'those', 'using', 'results', 'office', 'education', 'national', 'car', 'design', 'take', 'posted', 'internet', 'address', 'community', 'within', 'states', 'area', 'want', 'phone', 'dvd', 'shipping', 'reserved', 'subject', 'between', 'forum', 'family', 'long', 'based', 'code', 'show', 'even', 'black', 'check', 'special', 'prices', 'website', 'index', 'being', 'women', 'much', 'sign', 'file', 'link', 'open', 'today', 'technology', 'south', 'case', 'project', 'same', 'pages', 'uk', 'version', 'section', 'own', 'found', 'sports', 'house', 'related', 'security', 'both', 'county', 'american', 'photo', 'game', 'members', 'power', 'while', 'care', 'network', 'down', 'computer', 'systems', 'three', 'total', 'place', 'end', 'following', 'download', 'him', 'without', 'per', 'access', 'think', 'north', 'resources', 'current', 'posts', 'big', 'media', 'law', 'control', 'water', 'history', 'pictures', 'size', 'art', 'personal', 'since', 'including', 'guide', 'shop', 'directory', 'board', 'location', 'change', 'white', 'text', 'small', 'rating', 'rate', 'government', 'children', 'during', 'usa', 'return', 'students', 'shopping', 'account', 'times', 'sites', 'level', 'digital', 'profile', 'previous', 'form', 'events', 'love', 'old', 'john', 'main', 'call', 'hours', 'image', 'department', 'title', 'description', 'insurance', 'another', 'why', 'shall', 'property', 'class', 'cd', 'still', 'money', 'quality', 'every', 'listing', 'content', 'country', 'private', 'little', 'visit', 'save', 'tools', 'low', 'reply', 'customer', 'december', 'compare', 'movies', 'include', 'college', 'value', 'article', 'york', 'man', 'card', 'jobs', 'provide', 'food', 'source', 'author', 'different', 'press', 'learn', 'sale', 'around', 'print', 'course', 'job', 'canada', 'process', 'teen', 'room', 'stock', 'training', 'too', 'credit', 'point', 'join', 'science', 'men', 'categories', 'advanced', 'west', 'sales', 'look', 'english', 'left', 'team', 'estate', 'box', 'conditions', 'select', 'windows', 'photos', 'gay', 'thread', 'week', 'category', 'note', 'live', 'large', 'gallery', 'table', 'register', 'however', 'june', 'october', 'november', 'market', 'library', 'really', 'action', 'start', 'series', 'model', 'features', 'air', 'industry', 'plan', 'human', 'provided', 'tv', 'yes', 'required', 'second', 'hot', 'accessories', 'cost', 'movie', 'forums', 'march', 'la', 'september', 'better', 'say', 'questions', 'july', 'yahoo', 'going', 'medical', 'test', 'friend', 'come', 'dec', 'server', 'pc', 'study', 'application', 'cart', 'staff', 'articles', 'san', 'feedback', 'again', 'play', 'looking', 'issues', 'april', 'never', 'users', 'complete', 'street', 'topic', 'comment', 'financial', 'things', 'working', 'against', 'standard', 'tax', 'person', 'below', 'mobile', 'less', 'got', 'blog', 'party', 'payment', 'equipment', 'login', 'student', 'let', 'programs', 'offers', 'legal', 'above', 'recent', 'park', 'stores', 'side', 'act', 'problem', 'red', 'give', 'memory', 'performance', 'social', 'august', 'quote', 'language', 'story', 'sell', 'options', 'experience', 'rates', 'create', 'key', 'body', 'young', 'america', 'important', 'field', 'few', 'east', 'paper', 'single', 'ii', 'age', 'activities', 'club', 'example', 'girls', 'additional', 'password', 'latest', 'something', 'road', 'gift', 'question', 'changes', 'night', 'ca', 'hard', 'texas', 'oct', 'pay', 'four', 'poker', 'status', 'browse', 'issue', 'range', 'building', 'seller', 'court', 'february', 'always', 'result', 'audio', 'light', 'write', 'war', 'nov', 'offer', 'blue', 'groups', 'easy', 'given', 'files', 'event', 'release', 'analysis', 'request', 'fax', 'china', 'making', 'picture', 'needs', 'possible', 'might', 'professional', 'yet', 'month', 'major', 'star', 'areas', 'future', 'space', 'committee', 'hand', 'sun', 'cards', 'problems', 'london', 'washington', 'meeting', 'rss', 'become', 'interest', 'id', 'child', 'keep', 'enter', 'california', 'porn', 'share', 'similar', 'garden', 'schools', 'million', 'added', 'reference', 'companies', 'listed', 'baby', 'learning', 'energy', 'run', 'delivery', 'net', 'popular', 'term', 'film', 'stories', 'put', 'computers', 'journal', 'reports', 'try', 'welcome', 'central', 'images', 'president', 'notice', 'god', 'original', 'head', 'radio', 'until', 'cell', 'color', 'self', 'council', 'away', 'includes', 'track', 'australia', 'discussion', 'archive', 'once', 'others', 'entertainment', 'agreement', 'format', 'least', 'society', 'months', 'log', 'safety', 'friends', 'sure', 'faq', 'trade', 'edition', 'cars', 'messages', 'marketing', 'tell', 'further', 'updated', 'association', 'having', 'provides', 'david', 'fun', 'already', 'green', 'studies', 'close', 'common', 'drive', 'specific', 'several', 'gold', 'feb', 'living', 'sep', 'collection', 'called', 'short', 'arts', 'lot', 'ask', 'display', 'limited', 'powered', 'solutions', 'means', 'director', 'daily', 'beach', 'past', 'natural', 'whether', 'due', 'et', 'electronics', 'five', 'upon', 'period', 'planning', 'database', 'says', 'official', 'weather', 'mar', 'land', 'average', 'done', 'technical', 'window', 'france', 'pro', 'region', 'island', 'record', 'direct', 'microsoft', 'conference', 'environment', 'records', 'st', 'district', 'calendar', 'costs', 'style', 'url', 'front', 'statement', 'update', 'parts', 'aug', 'ever', 'downloads', 'early', 'miles', 'sound', 'resource', 'present', 'applications', 'either', 'ago', 'document', 'word', 'works', 'material', 'bill', 'apr', 'written', 'talk', 'federal', 'hosting', 'rules', 'final', 'adult', 'tickets', 'thing', 'centre', 'requirements', 'via', 'cheap', 'nude', 'kids', 'finance', 'true', 'minutes', 'else', 'mark', 'third', 'rock', 'gifts', 'europe', 'reading', 'topics', 'bad', 'individual', 'tips', 'plus', 'auto', 'cover', 'usually', 'edit', 'together', 'videos', 'percent', 'fast', 'function', 'fact', 'unit', 'getting', 'global', 'tech', 'meet', 'far', 'economic', 'player', 'projects', 'lyrics', 'often', 'subscribe', 'submit', 'germany', 'amount', 'watch', 'included', 'feel', 'though', 'bank', 'risk', 'thanks', 'everything', 'deals', 'various', 'words', 'linux', 'jul', 'production', 'commercial', 'james', 'weight', 'town', 'heart', 'advertising', 'received', 'choose', 'treatment', 'newsletter', 'archives', 'points', 'knowledge', 'magazine', 'error', 'camera', 'jun', 'girl', 'currently', 'construction', 'toys', 'registered', 'clear', 'golf', 'receive', 'domain', 'methods', 'chapter', 'makes', 'protection', 'policies', 'loan', 'wide', 'beauty', 'manager', 'india', 'position', 'taken', 'sort', 'listings', 'models', 'michael', 'known', 'half', 'cases', 'step', 'engineering', 'florida', 'simple', 'quick', 'none', 'wireless', 'license', 'paul', 'friday', 'lake', 'whole', 'annual', 'published', 'later', 'basic', 'sony', 'shows', 'corporate', 'google', 'church', 'method', 'purchase', 'customers', 'active', 'response', 'practice', 'hardware', 'figure', 'materials', 'fire', 'holiday', 'chat', 'enough', 'designed', 'along', 'among', 'death', 'writing', 'speed', 'html', 'countries', 'loss', 'face', 'brand', 'discount', 'higher', 'effects', 'created', 'remember', 'standards', 'oil', 'bit', 'yellow', 'political', 'increase', 'advertise', 'kingdom', 'base', 'near', 'environmental', 'thought', 'stuff', 'french', 'storage', 'oh', 'japan', 'doing', 'loans', 'shoes', 'entry', 'stay', 'nature', 'orders', 'availability', 'africa', 'summary', 'turn', 'mean', 'growth', 'notes', 'agency', 'king', 'monday', 'european', 'activity', 'copy', 'although', 'drug', 'pics', 'western', 'income', 'force', 'cash', 'employment', 'overall', 'bay', 'river', 'commission', 'ad', 'package', 'contents', 'seen', 'players']\n"
     ]
    }
   ],
   "source": [
    "# Load word frequency list from Google Web Trillion Text Corpus\n",
    "word_freq_list = pd.read_csv(\"word_freq/unigram_freq.csv\")\n",
    "\n",
    "# Clean list of non-words\n",
    "word_freq_list = word_freq_list.dropna(subset=['word'])\n",
    "word_freq_list = word_freq_list[word_freq_list['word'].apply(is_valid_word)]\n",
    "\n",
    "# List 1: Top 100 most common words (no conditions)\n",
    "top100_commonwords = word_freq_list.head(100)['word'].tolist()\n",
    "\n",
    "# List 2: Top 100 most common words with at least 7 letters\n",
    "top100_longwords = word_freq_list[word_freq_list['word'].str.len() >= 7].head(100)['word'].tolist()\n",
    "\n",
    "# List 3: Top 1000 most common words (no conditions)\n",
    "lotsofwords = word_freq_list.head(1000)['word'].tolist()\n",
    "\n",
    "# Print the lists\n",
    "print(\"Top 100 Common Words:\")\n",
    "print(top100_commonwords)\n",
    "print(\"\\nTop 100 Long Words (>= 7 letters):\")\n",
    "print(top100_longwords)\n",
    "print(\"\\nTop 1000 Common Words:\")\n",
    "print(lotsofwords)\n"
   ]
  },
  {
   "cell_type": "code",
   "execution_count": 16,
   "metadata": {
    "colab": {
     "base_uri": "https://localhost:8080/"
    },
    "id": "Scun6XluetED",
    "outputId": "3c2b3819-2c0f-432e-c1be-556c2b13e2e3"
   },
   "outputs": [
    {
     "name": "stdout",
     "output_type": "stream",
     "text": [
      "Saved word dictionary for subject S10 to words\\S10_commonwords.npy\n",
      "Saved word dictionary for subject S11 to words\\S11_commonwords.npy\n",
      "Saved word dictionary for subject S12 to words\\S12_commonwords.npy\n",
      "Saved word dictionary for subject S13 to words\\S13_commonwords.npy\n",
      "Saved word dictionary for subject S14 to words\\S14_commonwords.npy\n",
      "Saved word dictionary for subject S15 to words\\S15_commonwords.npy\n",
      "Saved word dictionary for subject S16 to words\\S16_commonwords.npy\n",
      "Saved word dictionary for subject S17 to words\\S17_commonwords.npy\n",
      "Saved word dictionary for subject S18 to words\\S18_commonwords.npy\n",
      "Saved word dictionary for subject S19 to words\\S19_commonwords.npy\n",
      "Saved word dictionary for subject S1 to words\\S1_commonwords.npy\n",
      "Saved word dictionary for subject S20 to words\\S20_commonwords.npy\n",
      "Saved word dictionary for subject S21 to words\\S21_commonwords.npy\n",
      "Saved word dictionary for subject S22 to words\\S22_commonwords.npy\n",
      "Saved word dictionary for subject S23 to words\\S23_commonwords.npy\n",
      "Saved word dictionary for subject S24 to words\\S24_commonwords.npy\n",
      "Saved word dictionary for subject S25 to words\\S25_commonwords.npy\n",
      "Saved word dictionary for subject S26 to words\\S26_commonwords.npy\n",
      "Saved word dictionary for subject S27 to words\\S27_commonwords.npy\n",
      "Saved word dictionary for subject S28 to words\\S28_commonwords.npy\n",
      "Saved word dictionary for subject S29 to words\\S29_commonwords.npy\n",
      "Saved word dictionary for subject S2 to words\\S2_commonwords.npy\n",
      "Saved word dictionary for subject S30 to words\\S30_commonwords.npy\n",
      "Saved word dictionary for subject S31 to words\\S31_commonwords.npy\n",
      "Saved word dictionary for subject S32 to words\\S32_commonwords.npy\n",
      "Saved word dictionary for subject S33 to words\\S33_commonwords.npy\n",
      "Saved word dictionary for subject S34 to words\\S34_commonwords.npy\n",
      "Saved word dictionary for subject S35 to words\\S35_commonwords.npy\n",
      "Saved word dictionary for subject S3 to words\\S3_commonwords.npy\n",
      "Saved word dictionary for subject S4 to words\\S4_commonwords.npy\n",
      "Saved word dictionary for subject S5 to words\\S5_commonwords.npy\n",
      "Saved word dictionary for subject S6 to words\\S6_commonwords.npy\n",
      "Saved word dictionary for subject S7 to words\\S7_commonwords.npy\n",
      "Saved word dictionary for subject S8 to words\\S8_commonwords.npy\n",
      "Saved word dictionary for subject S9 to words\\S9_commonwords.npy\n"
     ]
    }
   ],
   "source": [
    "# Create corresponding files\n",
    "create_words(subject_chars_dir=subject_chars_dir, subject_words_dir=subject_words_dir, word_list=top100_commonwords, output_name=\"commonwords\")"
   ]
  },
  {
   "cell_type": "code",
   "execution_count": 17,
   "metadata": {
    "colab": {
     "base_uri": "https://localhost:8080/"
    },
    "id": "XnbPiUwXe4n5",
    "outputId": "2285c5e7-1057-44c6-fa12-315d7d4d1546"
   },
   "outputs": [
    {
     "name": "stdout",
     "output_type": "stream",
     "text": [
      "Saved word dictionary for subject S10 to words\\S10_longwords.npy\n",
      "Saved word dictionary for subject S11 to words\\S11_longwords.npy\n",
      "Saved word dictionary for subject S12 to words\\S12_longwords.npy\n",
      "Saved word dictionary for subject S13 to words\\S13_longwords.npy\n",
      "Saved word dictionary for subject S14 to words\\S14_longwords.npy\n",
      "Saved word dictionary for subject S15 to words\\S15_longwords.npy\n",
      "Saved word dictionary for subject S16 to words\\S16_longwords.npy\n",
      "Saved word dictionary for subject S17 to words\\S17_longwords.npy\n",
      "Saved word dictionary for subject S18 to words\\S18_longwords.npy\n",
      "Saved word dictionary for subject S19 to words\\S19_longwords.npy\n",
      "Saved word dictionary for subject S1 to words\\S1_longwords.npy\n",
      "Saved word dictionary for subject S20 to words\\S20_longwords.npy\n",
      "Saved word dictionary for subject S21 to words\\S21_longwords.npy\n",
      "Saved word dictionary for subject S22 to words\\S22_longwords.npy\n",
      "Saved word dictionary for subject S23 to words\\S23_longwords.npy\n",
      "Saved word dictionary for subject S24 to words\\S24_longwords.npy\n",
      "Saved word dictionary for subject S25 to words\\S25_longwords.npy\n",
      "Saved word dictionary for subject S26 to words\\S26_longwords.npy\n",
      "Saved word dictionary for subject S27 to words\\S27_longwords.npy\n",
      "Saved word dictionary for subject S28 to words\\S28_longwords.npy\n",
      "Saved word dictionary for subject S29 to words\\S29_longwords.npy\n",
      "Saved word dictionary for subject S2 to words\\S2_longwords.npy\n",
      "Saved word dictionary for subject S30 to words\\S30_longwords.npy\n",
      "Saved word dictionary for subject S31 to words\\S31_longwords.npy\n",
      "Saved word dictionary for subject S32 to words\\S32_longwords.npy\n",
      "Saved word dictionary for subject S33 to words\\S33_longwords.npy\n",
      "Saved word dictionary for subject S34 to words\\S34_longwords.npy\n",
      "Saved word dictionary for subject S35 to words\\S35_longwords.npy\n",
      "Saved word dictionary for subject S3 to words\\S3_longwords.npy\n",
      "Saved word dictionary for subject S4 to words\\S4_longwords.npy\n",
      "Saved word dictionary for subject S5 to words\\S5_longwords.npy\n",
      "Saved word dictionary for subject S6 to words\\S6_longwords.npy\n",
      "Saved word dictionary for subject S7 to words\\S7_longwords.npy\n",
      "Saved word dictionary for subject S8 to words\\S8_longwords.npy\n",
      "Saved word dictionary for subject S9 to words\\S9_longwords.npy\n"
     ]
    }
   ],
   "source": [
    "# Create corresponding files\n",
    "create_words(subject_chars_dir=subject_chars_dir, subject_words_dir=subject_words_dir, word_list=top100_longwords, output_name=\"longwords\")"
   ]
  },
  {
   "cell_type": "code",
   "execution_count": 18,
   "metadata": {
    "colab": {
     "base_uri": "https://localhost:8080/"
    },
    "id": "aIEn35pEe_Bs",
    "outputId": "c573e988-b374-4c1a-ddca-5356f30058c5"
   },
   "outputs": [
    {
     "name": "stdout",
     "output_type": "stream",
     "text": [
      "Saved word dictionary for subject S10 to words\\S10_lotsofwords.npy\n",
      "Saved word dictionary for subject S11 to words\\S11_lotsofwords.npy\n",
      "Saved word dictionary for subject S12 to words\\S12_lotsofwords.npy\n",
      "Saved word dictionary for subject S13 to words\\S13_lotsofwords.npy\n",
      "Saved word dictionary for subject S14 to words\\S14_lotsofwords.npy\n",
      "Saved word dictionary for subject S15 to words\\S15_lotsofwords.npy\n",
      "Saved word dictionary for subject S16 to words\\S16_lotsofwords.npy\n",
      "Saved word dictionary for subject S17 to words\\S17_lotsofwords.npy\n",
      "Saved word dictionary for subject S18 to words\\S18_lotsofwords.npy\n",
      "Saved word dictionary for subject S19 to words\\S19_lotsofwords.npy\n",
      "Saved word dictionary for subject S1 to words\\S1_lotsofwords.npy\n",
      "Saved word dictionary for subject S20 to words\\S20_lotsofwords.npy\n",
      "Saved word dictionary for subject S21 to words\\S21_lotsofwords.npy\n",
      "Saved word dictionary for subject S22 to words\\S22_lotsofwords.npy\n",
      "Saved word dictionary for subject S23 to words\\S23_lotsofwords.npy\n",
      "Saved word dictionary for subject S24 to words\\S24_lotsofwords.npy\n",
      "Saved word dictionary for subject S25 to words\\S25_lotsofwords.npy\n",
      "Saved word dictionary for subject S26 to words\\S26_lotsofwords.npy\n",
      "Saved word dictionary for subject S27 to words\\S27_lotsofwords.npy\n",
      "Saved word dictionary for subject S28 to words\\S28_lotsofwords.npy\n",
      "Saved word dictionary for subject S29 to words\\S29_lotsofwords.npy\n",
      "Saved word dictionary for subject S2 to words\\S2_lotsofwords.npy\n",
      "Saved word dictionary for subject S30 to words\\S30_lotsofwords.npy\n",
      "Saved word dictionary for subject S31 to words\\S31_lotsofwords.npy\n",
      "Saved word dictionary for subject S32 to words\\S32_lotsofwords.npy\n",
      "Saved word dictionary for subject S33 to words\\S33_lotsofwords.npy\n",
      "Saved word dictionary for subject S34 to words\\S34_lotsofwords.npy\n",
      "Saved word dictionary for subject S35 to words\\S35_lotsofwords.npy\n",
      "Saved word dictionary for subject S3 to words\\S3_lotsofwords.npy\n",
      "Saved word dictionary for subject S4 to words\\S4_lotsofwords.npy\n",
      "Saved word dictionary for subject S5 to words\\S5_lotsofwords.npy\n",
      "Saved word dictionary for subject S6 to words\\S6_lotsofwords.npy\n",
      "Saved word dictionary for subject S7 to words\\S7_lotsofwords.npy\n",
      "Saved word dictionary for subject S8 to words\\S8_lotsofwords.npy\n",
      "Saved word dictionary for subject S9 to words\\S9_lotsofwords.npy\n"
     ]
    }
   ],
   "source": [
    "# Create corresponding files\n",
    "create_words(subject_chars_dir=subject_chars_dir, subject_words_dir=subject_words_dir, word_list=lotsofwords, output_name=\"lotsofwords\")"
   ]
  },
  {
   "cell_type": "code",
   "execution_count": 19,
   "metadata": {
    "colab": {
     "base_uri": "https://localhost:8080/"
    },
    "id": "DqxC0QbSf4XG",
    "outputId": "9e3d7370-2ae7-46b8-e969-52fd40ee0eb7"
   },
   "outputs": [
    {
     "data": {
      "text/plain": [
       "['AAAAAABBBBBBCCCCCCDDDDDDEEEEEEFFFFFFGGGGGGHHHHHHIIIIIIJJJJJJKKKKKKLLLLLLMMMMMMNNNNNNOOOOOOPPPPPPQQQQQQRRRRRRSSSSSSTTTTTTUUUUUUVVVVVVWWWWWWXXXXXXYYYYYYZZZZZZ']"
      ]
     },
     "execution_count": 19,
     "metadata": {},
     "output_type": "execute_result"
    }
   ],
   "source": [
    "# This is a test word that contains every letter in the alphabet 6 times\n",
    "test_word = [''.join([letter * 6 for letter in string.ascii_uppercase])]\n",
    "test_word"
   ]
  },
  {
   "cell_type": "markdown",
   "metadata": {
    "id": "5qW-cywkF5kJ"
   },
   "source": [
    "# Char-RNN Model"
   ]
  },
  {
   "cell_type": "markdown",
   "metadata": {
    "id": "-X_f-fIy6IUD"
   },
   "source": [
    "## Use Wiki Dataset"
   ]
  },
  {
   "cell_type": "code",
   "execution_count": 20,
   "metadata": {
    "colab": {
     "base_uri": "https://localhost:8080/"
    },
    "id": "ULBsUtru6H36",
    "outputId": "729e1247-e973-4b4e-e477-8e149a8b01c3"
   },
   "outputs": [
    {
     "data": {
      "application/vnd.jupyter.widget-view+json": {
       "model_id": "1bae06d9036543e7b8bec0f7dd4ed99a",
       "version_major": 2,
       "version_minor": 0
      },
      "text/plain": [
       "README.md:   0%|          | 0.00/10.5k [00:00<?, ?B/s]"
      ]
     },
     "metadata": {},
     "output_type": "display_data"
    },
    {
     "data": {
      "application/vnd.jupyter.widget-view+json": {
       "model_id": "eabbfada7835445b96cb526b1e559f89",
       "version_major": 2,
       "version_minor": 0
      },
      "text/plain": [
       "test-00000-of-00001.parquet:   0%|          | 0.00/733k [00:00<?, ?B/s]"
      ]
     },
     "metadata": {},
     "output_type": "display_data"
    },
    {
     "data": {
      "application/vnd.jupyter.widget-view+json": {
       "model_id": "a157c9b7d7854cf68144dc429cb42970",
       "version_major": 2,
       "version_minor": 0
      },
      "text/plain": [
       "train-00000-of-00001.parquet:   0%|          | 0.00/6.36M [00:00<?, ?B/s]"
      ]
     },
     "metadata": {},
     "output_type": "display_data"
    },
    {
     "data": {
      "application/vnd.jupyter.widget-view+json": {
       "model_id": "276b5737cead41a4aa887837a538bd92",
       "version_major": 2,
       "version_minor": 0
      },
      "text/plain": [
       "validation-00000-of-00001.parquet:   0%|          | 0.00/657k [00:00<?, ?B/s]"
      ]
     },
     "metadata": {},
     "output_type": "display_data"
    },
    {
     "data": {
      "application/vnd.jupyter.widget-view+json": {
       "model_id": "45cee500228b4f668d08713dc28da4a7",
       "version_major": 2,
       "version_minor": 0
      },
      "text/plain": [
       "Generating test split:   0%|          | 0/4358 [00:00<?, ? examples/s]"
      ]
     },
     "metadata": {},
     "output_type": "display_data"
    },
    {
     "data": {
      "application/vnd.jupyter.widget-view+json": {
       "model_id": "c6734e8cb3184abaa7a44ac069bbb7c1",
       "version_major": 2,
       "version_minor": 0
      },
      "text/plain": [
       "Generating train split:   0%|          | 0/36718 [00:00<?, ? examples/s]"
      ]
     },
     "metadata": {},
     "output_type": "display_data"
    },
    {
     "data": {
      "application/vnd.jupyter.widget-view+json": {
       "model_id": "8fcedffbf6cd4949a6b3cf34eab5f180",
       "version_major": 2,
       "version_minor": 0
      },
      "text/plain": [
       "Generating validation split:   0%|          | 0/3760 [00:00<?, ? examples/s]"
      ]
     },
     "metadata": {},
     "output_type": "display_data"
    }
   ],
   "source": [
    "# Load the WikiText-2 dataset\n",
    "dataset = load_dataset(\"wikitext\", \"wikitext-2-raw-v1\")\n",
    "# loading from Hugging Face datasets\n",
    "\n",
    "# Access the training data\n",
    "train_text = dataset['train']['text']\n",
    "\n",
    "# Combine the text into a single string\n",
    "raw_text = ' '.join(train_text)\n",
    "\n",
    "# Preprocess the text (remove non-alphaetic characters and convert everything to uppercase)\n",
    "processed_text = re.sub(r'[^a-zA-Z ]+', '', raw_text.upper())\n",
    "\n",
    "# Remove extra spaces\n",
    "processed_text = re.sub(r'\\s+', ' ', processed_text).strip()"
   ]
  },
  {
   "cell_type": "code",
   "execution_count": 21,
   "metadata": {
    "id": "p36v_obfiSr7"
   },
   "outputs": [
    {
     "name": "stdout",
     "output_type": "stream",
     "text": [
      "Processed text length: 9934567 characters\n",
      "Sample text: TARY UNIT SERVING THE NATION OF GALLIA DURING THE SECOND EUROPAN WAR WHO PERFORM SECRET BLACK OPERATIONS AND ARE PITTED AGAINST THE IMPERIAL UNIT CALAMATY RAVEN THE GAME BEGAN DEVELOPMENT IN CARRYING OVER A LARGE PORTION OF THE WORK DONE ON VALKYRIA CHRONICLES II WHILE IT RETAINED THE STANDARD FEATURES OF THE SERIES IT ALSO UNDERWENT MULTIPLE ADJUSTMENTS SUCH AS MAKING THE GAME MORE FORGIVING FOR SERIES NEWCOMERS CHARACTER DESIGNER RAITA HONJOU AND COMPOSER HITOSHI SAKIMOTO BOTH RETURNED FROM PR\n"
     ]
    }
   ],
   "source": [
    "# Display the length and a sample of the processed text\n",
    "print(f\"Processed text length: {len(processed_text)} characters\")\n",
    "print(f\"Sample text: {processed_text[500:1000]}\")"
   ]
  },
  {
   "cell_type": "code",
   "execution_count": 22,
   "metadata": {
    "colab": {
     "base_uri": "https://localhost:8080/"
    },
    "id": "eqljbEOSiBe-",
    "outputId": "d13aa20d-eed9-49d6-beed-5621b4df198a"
   },
   "outputs": [
    {
     "name": "stdout",
     "output_type": "stream",
     "text": [
      "Sample text: EAKING PARTIALLY THROUGH VOICED SPEECH BUBBLES AND PARTIALLY THROUGH UNVOICED TEXT THE PLAYER PROGRESSES THROUGH A SERIES OF LINEAR MISSIONS GRADUALLY UNLOCKED AS MAPS THAT CAN BE FREELY SCANNED THROUGH AND REPLAYED AS THEY ARE UNLOCKED THE ROUTE TO EACH STORY LOCATION ON THE MAP VARIES DEPENDING ON AN INDIVIDUAL PLAYER S APPROACH WHEN ONE OPTION IS SELECTED THE OTHER IS SEALED OFF TO THE PLAYER OUTSIDE MISSIONS THE PLAYER CHARACTERS REST IN A CAMP WHERE UNITS CAN BE CUSTOMIZED AND CHARACTER GRO\n"
     ]
    }
   ],
   "source": [
    "print(f\"Sample text: {processed_text[2000:2500]}\")"
   ]
  },
  {
   "cell_type": "code",
   "execution_count": 23,
   "metadata": {
    "id": "UelocgQ76Nuq"
   },
   "outputs": [],
   "source": [
    "class CharDataset(Dataset):\n",
    "    def __init__(self, text, seq_length):\n",
    "        self.text = text\n",
    "        self.seq_length = seq_length\n",
    "        # Sort characters such that 'A-Z' come first, followed by space\n",
    "        sorted_chars = sorted(set(text) - {' '}) + [' ']\n",
    "        self.char2idx = {ch: i for i, ch in enumerate(sorted_chars)}\n",
    "        self.idx2char = {i: ch for ch, i in self.char2idx.items()}\n",
    "        self.vocab_size = len(self.char2idx)\n",
    "\n",
    "    def __len__(self):\n",
    "        return len(self.text) - self.seq_length\n",
    "\n",
    "    def __getitem__(self, idx):\n",
    "        chunk = self.text[idx : idx + self.seq_length + 1]\n",
    "        input_text = chunk[:-1]\n",
    "        target_text = chunk[1:]\n",
    "        input_tensor = torch.tensor([self.char2idx[ch] for ch in input_text], dtype=torch.long)\n",
    "        target_tensor = torch.tensor([self.char2idx[ch] for ch in target_text], dtype=torch.long)\n",
    "        return input_tensor, target_tensor"
   ]
  },
  {
   "cell_type": "code",
   "execution_count": 24,
   "metadata": {
    "colab": {
     "base_uri": "https://localhost:8080/"
    },
    "id": "33beTYIB6PA9",
    "outputId": "8efa6ac3-89ee-45ce-8321-d80bf93ff204"
   },
   "outputs": [
    {
     "name": "stdout",
     "output_type": "stream",
     "text": [
      "Vocabulary size: 27\n",
      "Mapping: [('A', 0), ('B', 1), ('C', 2), ('D', 3), ('E', 4), ('F', 5), ('G', 6), ('H', 7), ('I', 8), ('J', 9), ('K', 10), ('L', 11), ('M', 12), ('N', 13), ('O', 14), ('P', 15), ('Q', 16), ('R', 17), ('S', 18), ('T', 19), ('U', 20), ('V', 21), ('W', 22), ('X', 23), ('Y', 24), ('Z', 25), (' ', 26)]\n"
     ]
    }
   ],
   "source": [
    "# Initialize the dataset and dataloader\n",
    "seq_length = 20\n",
    "dataset = CharDataset(processed_text, seq_length)\n",
    "dataloader = DataLoader(dataset, batch_size=128, shuffle=True)\n",
    "\n",
    "print(f\"Vocabulary size: {dataset.vocab_size}\")\n",
    "print(f\"Mapping: {list(dataset.char2idx.items())[:]}\")"
   ]
  },
  {
   "cell_type": "code",
   "execution_count": 25,
   "metadata": {
    "id": "h-sbY5fL6Rxt"
   },
   "outputs": [],
   "source": [
    "class CharRNN(nn.Module):\n",
    "    def __init__(self, vocab_size, embedding_dim, hidden_dim, num_layers):\n",
    "        super(CharRNN, self).__init__()\n",
    "        self.embedding = nn.Embedding(vocab_size, embedding_dim)\n",
    "        self.rnn = nn.LSTM(embedding_dim, hidden_dim, num_layers, batch_first=True)\n",
    "        self.layer_norm = nn.LayerNorm(hidden_dim)\n",
    "        self.dropout = nn.Dropout(p=0.2)\n",
    "        self.fc = nn.Linear(hidden_dim, vocab_size)\n",
    "\n",
    "    def forward(self, x, hidden=None):\n",
    "        x = self.embedding(x)\n",
    "        output, hidden = self.rnn(x, hidden)\n",
    "        output = self.layer_norm(output)\n",
    "        output = self.dropout(output)\n",
    "        logits = self.fc(output)\n",
    "        return logits, hidden"
   ]
  },
  {
   "cell_type": "code",
   "execution_count": 26,
   "metadata": {
    "id": "8hQl-2R_6UQD"
   },
   "outputs": [],
   "source": [
    "embedding_dim = 128\n",
    "hidden_dim = 256\n",
    "num_layers = 2\n",
    "num_epochs = 3\n",
    "lr = 1e-3\n",
    "\n",
    "# Initialize the model, loss, optimizer, and scheduler\n",
    "charrnn_model = CharRNN(dataset.vocab_size, embedding_dim, hidden_dim, num_layers).to(device)\n",
    "criterion = nn.CrossEntropyLoss()\n",
    "optimizer = optim.Adam(charrnn_model.parameters(), lr=lr)\n",
    "scheduler = torch.optim.lr_scheduler.CosineAnnealingLR(optimizer, T_max=num_epochs, eta_min=1e-4)"
   ]
  },
  {
   "cell_type": "code",
   "execution_count": 27,
   "metadata": {
    "colab": {
     "base_uri": "https://localhost:8080/"
    },
    "id": "NDSduVD36Vhb",
    "outputId": "e371c69b-31c0-41ef-d4fe-e27e0ac7e1d6"
   },
   "outputs": [
    {
     "name": "stderr",
     "output_type": "stream",
     "text": [
      "                                                                                                                       \r"
     ]
    },
    {
     "name": "stdout",
     "output_type": "stream",
     "text": [
      "Epoch [1/3], Loss: 1.3814\n",
      "Learning Rate: 0.000775\n"
     ]
    },
    {
     "name": "stderr",
     "output_type": "stream",
     "text": [
      "                                                                                                                       \r"
     ]
    },
    {
     "name": "stdout",
     "output_type": "stream",
     "text": [
      "Epoch [2/3], Loss: 1.3262\n",
      "Learning Rate: 0.000325\n"
     ]
    },
    {
     "name": "stderr",
     "output_type": "stream",
     "text": [
      "                                                                                                                       "
     ]
    },
    {
     "name": "stdout",
     "output_type": "stream",
     "text": [
      "Epoch [3/3], Loss: 1.3015\n",
      "Learning Rate: 0.000100\n"
     ]
    },
    {
     "name": "stderr",
     "output_type": "stream",
     "text": [
      "\r"
     ]
    }
   ],
   "source": [
    "# Training loop\n",
    "torch.cuda.empty_cache()\n",
    "gc.collect()\n",
    "\n",
    "for epoch in range(num_epochs):\n",
    "    charrnn_model.train()\n",
    "    epoch_loss = 0\n",
    "    progress_bar = tqdm(dataloader, desc=f\"Epoch [{epoch+1}/{num_epochs}]\", leave=False)\n",
    "    for inputs, targets in progress_bar:\n",
    "        inputs, targets = inputs.to(device), targets.to(device)\n",
    "        optimizer.zero_grad()\n",
    "        outputs, _ = charrnn_model(inputs)\n",
    "        loss = criterion(outputs.view(-1, dataset.vocab_size), targets.view(-1))\n",
    "        loss.backward()\n",
    "        optimizer.step()\n",
    "        epoch_loss += loss.item()\n",
    "        progress_bar.set_postfix(loss=loss.item())\n",
    "\n",
    "    scheduler.step()\n",
    "    print(f\"Epoch [{epoch+1}/{num_epochs}], Loss: {epoch_loss / len(dataloader):.4f}\")\n",
    "    print(f\"Learning Rate: {scheduler.get_last_lr()[0]:.6f}\")"
   ]
  },
  {
   "cell_type": "code",
   "execution_count": 30,
   "metadata": {
    "id": "INi_RPmR6vKk"
   },
   "outputs": [],
   "source": [
    "# Save model\n",
    "torch.save(charrnn_model.state_dict(), \"better_charrnn_weights.pth\")\n",
    "torch.save(dataset.char2idx, \"better_charrnn_char2idx.pth\")"
   ]
  },
  {
   "cell_type": "code",
   "execution_count": 31,
   "metadata": {
    "colab": {
     "base_uri": "https://localhost:8080/"
    },
    "id": "rM_wn-9pM36I",
    "outputId": "6985eb40-93ef-4e6f-deeb-f8011fb26ab1",
    "scrolled": true
   },
   "outputs": [
    {
     "name": "stderr",
     "output_type": "stream",
     "text": [
      "C:\\Users\\shaoy\\AppData\\Local\\Temp\\ipykernel_24888\\2043924090.py:2: FutureWarning: You are using `torch.load` with `weights_only=False` (the current default value), which uses the default pickle module implicitly. It is possible to construct malicious pickle data which will execute arbitrary code during unpickling (See https://github.com/pytorch/pytorch/blob/main/SECURITY.md#untrusted-models for more details). In a future release, the default value for `weights_only` will be flipped to `True`. This limits the functions that could be executed during unpickling. Arbitrary objects will no longer be allowed to be loaded via this mode unless they are explicitly allowlisted by the user via `torch.serialization.add_safe_globals`. We recommend you start setting `weights_only=True` for any use case where you don't have full control of the loaded file. Please open an issue on GitHub for any issues related to this experimental feature.\n",
      "  charrnn_model.load_state_dict(torch.load(\"better_charrnn_weights.pth\"))\n",
      "C:\\Users\\shaoy\\AppData\\Local\\Temp\\ipykernel_24888\\2043924090.py:3: FutureWarning: You are using `torch.load` with `weights_only=False` (the current default value), which uses the default pickle module implicitly. It is possible to construct malicious pickle data which will execute arbitrary code during unpickling (See https://github.com/pytorch/pytorch/blob/main/SECURITY.md#untrusted-models for more details). In a future release, the default value for `weights_only` will be flipped to `True`. This limits the functions that could be executed during unpickling. Arbitrary objects will no longer be allowed to be loaded via this mode unless they are explicitly allowlisted by the user via `torch.serialization.add_safe_globals`. We recommend you start setting `weights_only=True` for any use case where you don't have full control of the loaded file. Please open an issue on GitHub for any issues related to this experimental feature.\n",
      "  char2idx = torch.load(\"better_charrnn_char2idx.pth\")\n"
     ]
    }
   ],
   "source": [
    "# Load model\n",
    "charrnn_model.load_state_dict(torch.load(\"better_charrnn_weights.pth\"))\n",
    "char2idx = torch.load(\"better_charrnn_char2idx.pth\")"
   ]
  },
  {
   "cell_type": "code",
   "execution_count": 32,
   "metadata": {
    "id": "4nNQu6gyMyZz"
   },
   "outputs": [],
   "source": [
    "def predict_next_char(model, char2idx, input_text):\n",
    "    model.eval()\n",
    "    input_text = input_text.upper() # All inputs should be capital letters and space\n",
    "    input_tensor = torch.tensor([char2idx[ch] for ch in input_text], dtype=torch.long).unsqueeze(0).to(device)\n",
    "\n",
    "    with torch.no_grad():\n",
    "        logits, _ = model(input_tensor)\n",
    "        probs = torch.softmax(logits[:, -1, :], dim=-1)  # Softmax over the last character in the sequence\n",
    "        next_char_idx = torch.argmax(probs).item()  # Index of the most probable character\n",
    "        confidence = probs[0, next_char_idx].item()  # Confidence (probability) of the predicted character\n",
    "        next_char = [ch for ch, idx in char2idx.items() if idx == next_char_idx][0] # Map index to char\n",
    "\n",
    "    return next_char, confidence"
   ]
  },
  {
   "cell_type": "code",
   "execution_count": 33,
   "metadata": {
    "colab": {
     "base_uri": "https://localhost:8080/"
    },
    "id": "1d1eXTCxM12s",
    "outputId": "383097e1-42ad-49dd-ac54-0840b86286d1"
   },
   "outputs": [
    {
     "name": "stdout",
     "output_type": "stream",
     "text": [
      "Input: FLEXIBL\n",
      "Predicted next character: E\n",
      "Confidence: 0.9928\n"
     ]
    }
   ],
   "source": [
    "# Test CharRNN model on single inputs\n",
    "start_text = \"FLEXIBL\"\n",
    "next_char, confidence = predict_next_char(charrnn_model, char2idx, start_text)\n",
    "\n",
    "print(f\"Input: {start_text}\")\n",
    "print(f\"Predicted next character: {next_char}\")\n",
    "print(f\"Confidence: {confidence:.4f}\")"
   ]
  },
  {
   "cell_type": "code",
   "execution_count": 34,
   "metadata": {
    "id": "uNYd3faRmxyF"
   },
   "outputs": [],
   "source": [
    "def evaluate_model_on_words(model, char2idx, word_list):\n",
    "    total_correct_chars = 0\n",
    "    total_chars = 0\n",
    "\n",
    "    for word in word_list:\n",
    "        word = word.upper() # All inputs should be capital letters and space\n",
    "        correct_chars = 0\n",
    "\n",
    "        for i in range(1, len(word)):\n",
    "            input_text = word[:i]  # Provide the first i characters as input\n",
    "            target_char = word[i]  # The next character to predict\n",
    "            predicted_char, _ = predict_next_char(model, char2idx, input_text)\n",
    "\n",
    "            if predicted_char == target_char:\n",
    "                correct_chars += 1\n",
    "\n",
    "        total_correct_chars += correct_chars\n",
    "        total_chars += len(word) - 1  # Exclude the first character\n",
    "\n",
    "    accuracy = total_correct_chars / total_chars if total_chars > 0 else 0\n",
    "    return accuracy\n"
   ]
  },
  {
   "cell_type": "code",
   "execution_count": 35,
   "metadata": {
    "colab": {
     "base_uri": "https://localhost:8080/"
    },
    "id": "Fiy9HSZVm4BP",
    "outputId": "2efd123f-cd08-4c3b-ba16-99da8364ac36"
   },
   "outputs": [
    {
     "name": "stdout",
     "output_type": "stream",
     "text": [
      "Evaluation Accuracy: 0.4876\n"
     ]
    }
   ],
   "source": [
    "# Test CharRNN on entire word set\n",
    "word_set_accuracy = evaluate_model_on_words(charrnn_model, char2idx, lotsofwords)\n",
    "print(f\"Evaluation Accuracy: {word_set_accuracy:.4f}\")"
   ]
  },
  {
   "cell_type": "markdown",
   "metadata": {
    "id": "kUcJafC6GS3m"
   },
   "source": [
    "# EEGNet"
   ]
  },
  {
   "cell_type": "code",
   "execution_count": 4,
   "metadata": {
    "colab": {
     "base_uri": "https://localhost:8080/"
    },
    "id": "qrPAma50IgmP",
    "outputId": "e93b0216-8683-407c-e6c9-716f2e5d98cb"
   },
   "outputs": [
    {
     "name": "stderr",
     "output_type": "stream",
     "text": [
      "C:\\Users\\shaoy\\anaconda3\\envs\\tensorflow_env\\lib\\site-packages\\keras\\src\\layers\\convolutional\\base_conv.py:107: UserWarning: Do not pass an `input_shape`/`input_dim` argument to a layer. When using Sequential models, prefer using an `Input(shape)` object as the first layer in the model instead.\n",
      "  super().__init__(activity_regularizer=activity_regularizer, **kwargs)\n"
     ]
    },
    {
     "data": {
      "text/html": [
       "<pre style=\"white-space:pre;overflow-x:auto;line-height:normal;font-family:Menlo,'DejaVu Sans Mono',consolas,'Courier New',monospace\"><span style=\"font-weight: bold\">Model: \"functional\"</span>\n",
       "</pre>\n"
      ],
      "text/plain": [
       "\u001b[1mModel: \"functional\"\u001b[0m\n"
      ]
     },
     "metadata": {},
     "output_type": "display_data"
    },
    {
     "data": {
      "text/html": [
       "<pre style=\"white-space:pre;overflow-x:auto;line-height:normal;font-family:Menlo,'DejaVu Sans Mono',consolas,'Courier New',monospace\">┏━━━━━━━━━━━━━━━━━━━━━━━━━━━━━━━━━━━━━━┳━━━━━━━━━━━━━━━━━━━━━━━━━━━━━┳━━━━━━━━━━━━━━━━━┓\n",
       "┃<span style=\"font-weight: bold\"> Layer (type)                         </span>┃<span style=\"font-weight: bold\"> Output Shape                </span>┃<span style=\"font-weight: bold\">         Param # </span>┃\n",
       "┡━━━━━━━━━━━━━━━━━━━━━━━━━━━━━━━━━━━━━━╇━━━━━━━━━━━━━━━━━━━━━━━━━━━━━╇━━━━━━━━━━━━━━━━━┩\n",
       "│ input_layer (<span style=\"color: #0087ff; text-decoration-color: #0087ff\">InputLayer</span>)             │ (<span style=\"color: #00d7ff; text-decoration-color: #00d7ff\">None</span>, <span style=\"color: #00af00; text-decoration-color: #00af00\">64</span>, <span style=\"color: #00af00; text-decoration-color: #00af00\">250</span>, <span style=\"color: #00af00; text-decoration-color: #00af00\">1</span>)          │               <span style=\"color: #00af00; text-decoration-color: #00af00\">0</span> │\n",
       "├──────────────────────────────────────┼─────────────────────────────┼─────────────────┤\n",
       "│ conv2d (<span style=\"color: #0087ff; text-decoration-color: #0087ff\">Conv2D</span>)                      │ (<span style=\"color: #00d7ff; text-decoration-color: #00d7ff\">None</span>, <span style=\"color: #00af00; text-decoration-color: #00af00\">64</span>, <span style=\"color: #00af00; text-decoration-color: #00af00\">250</span>, <span style=\"color: #00af00; text-decoration-color: #00af00\">16</span>)         │           <span style=\"color: #00af00; text-decoration-color: #00af00\">1,024</span> │\n",
       "├──────────────────────────────────────┼─────────────────────────────┼─────────────────┤\n",
       "│ batch_normalization                  │ (<span style=\"color: #00d7ff; text-decoration-color: #00d7ff\">None</span>, <span style=\"color: #00af00; text-decoration-color: #00af00\">64</span>, <span style=\"color: #00af00; text-decoration-color: #00af00\">250</span>, <span style=\"color: #00af00; text-decoration-color: #00af00\">16</span>)         │              <span style=\"color: #00af00; text-decoration-color: #00af00\">64</span> │\n",
       "│ (<span style=\"color: #0087ff; text-decoration-color: #0087ff\">BatchNormalization</span>)                 │                             │                 │\n",
       "├──────────────────────────────────────┼─────────────────────────────┼─────────────────┤\n",
       "│ depthwise_conv2d (<span style=\"color: #0087ff; text-decoration-color: #0087ff\">DepthwiseConv2D</span>)   │ (<span style=\"color: #00d7ff; text-decoration-color: #00d7ff\">None</span>, <span style=\"color: #00af00; text-decoration-color: #00af00\">1</span>, <span style=\"color: #00af00; text-decoration-color: #00af00\">250</span>, <span style=\"color: #00af00; text-decoration-color: #00af00\">32</span>)          │           <span style=\"color: #00af00; text-decoration-color: #00af00\">2,048</span> │\n",
       "├──────────────────────────────────────┼─────────────────────────────┼─────────────────┤\n",
       "│ batch_normalization_1                │ (<span style=\"color: #00d7ff; text-decoration-color: #00d7ff\">None</span>, <span style=\"color: #00af00; text-decoration-color: #00af00\">1</span>, <span style=\"color: #00af00; text-decoration-color: #00af00\">250</span>, <span style=\"color: #00af00; text-decoration-color: #00af00\">32</span>)          │             <span style=\"color: #00af00; text-decoration-color: #00af00\">128</span> │\n",
       "│ (<span style=\"color: #0087ff; text-decoration-color: #0087ff\">BatchNormalization</span>)                 │                             │                 │\n",
       "├──────────────────────────────────────┼─────────────────────────────┼─────────────────┤\n",
       "│ activation (<span style=\"color: #0087ff; text-decoration-color: #0087ff\">Activation</span>)              │ (<span style=\"color: #00d7ff; text-decoration-color: #00d7ff\">None</span>, <span style=\"color: #00af00; text-decoration-color: #00af00\">1</span>, <span style=\"color: #00af00; text-decoration-color: #00af00\">250</span>, <span style=\"color: #00af00; text-decoration-color: #00af00\">32</span>)          │               <span style=\"color: #00af00; text-decoration-color: #00af00\">0</span> │\n",
       "├──────────────────────────────────────┼─────────────────────────────┼─────────────────┤\n",
       "│ average_pooling2d (<span style=\"color: #0087ff; text-decoration-color: #0087ff\">AveragePooling2D</span>) │ (<span style=\"color: #00d7ff; text-decoration-color: #00d7ff\">None</span>, <span style=\"color: #00af00; text-decoration-color: #00af00\">1</span>, <span style=\"color: #00af00; text-decoration-color: #00af00\">62</span>, <span style=\"color: #00af00; text-decoration-color: #00af00\">32</span>)           │               <span style=\"color: #00af00; text-decoration-color: #00af00\">0</span> │\n",
       "├──────────────────────────────────────┼─────────────────────────────┼─────────────────┤\n",
       "│ dropout (<span style=\"color: #0087ff; text-decoration-color: #0087ff\">Dropout</span>)                    │ (<span style=\"color: #00d7ff; text-decoration-color: #00d7ff\">None</span>, <span style=\"color: #00af00; text-decoration-color: #00af00\">1</span>, <span style=\"color: #00af00; text-decoration-color: #00af00\">62</span>, <span style=\"color: #00af00; text-decoration-color: #00af00\">32</span>)           │               <span style=\"color: #00af00; text-decoration-color: #00af00\">0</span> │\n",
       "├──────────────────────────────────────┼─────────────────────────────┼─────────────────┤\n",
       "│ separable_conv2d (<span style=\"color: #0087ff; text-decoration-color: #0087ff\">SeparableConv2D</span>)   │ (<span style=\"color: #00d7ff; text-decoration-color: #00d7ff\">None</span>, <span style=\"color: #00af00; text-decoration-color: #00af00\">1</span>, <span style=\"color: #00af00; text-decoration-color: #00af00\">62</span>, <span style=\"color: #00af00; text-decoration-color: #00af00\">32</span>)           │           <span style=\"color: #00af00; text-decoration-color: #00af00\">1,536</span> │\n",
       "├──────────────────────────────────────┼─────────────────────────────┼─────────────────┤\n",
       "│ batch_normalization_2                │ (<span style=\"color: #00d7ff; text-decoration-color: #00d7ff\">None</span>, <span style=\"color: #00af00; text-decoration-color: #00af00\">1</span>, <span style=\"color: #00af00; text-decoration-color: #00af00\">62</span>, <span style=\"color: #00af00; text-decoration-color: #00af00\">32</span>)           │             <span style=\"color: #00af00; text-decoration-color: #00af00\">128</span> │\n",
       "│ (<span style=\"color: #0087ff; text-decoration-color: #0087ff\">BatchNormalization</span>)                 │                             │                 │\n",
       "├──────────────────────────────────────┼─────────────────────────────┼─────────────────┤\n",
       "│ activation_1 (<span style=\"color: #0087ff; text-decoration-color: #0087ff\">Activation</span>)            │ (<span style=\"color: #00d7ff; text-decoration-color: #00d7ff\">None</span>, <span style=\"color: #00af00; text-decoration-color: #00af00\">1</span>, <span style=\"color: #00af00; text-decoration-color: #00af00\">62</span>, <span style=\"color: #00af00; text-decoration-color: #00af00\">32</span>)           │               <span style=\"color: #00af00; text-decoration-color: #00af00\">0</span> │\n",
       "├──────────────────────────────────────┼─────────────────────────────┼─────────────────┤\n",
       "│ average_pooling2d_1                  │ (<span style=\"color: #00d7ff; text-decoration-color: #00d7ff\">None</span>, <span style=\"color: #00af00; text-decoration-color: #00af00\">1</span>, <span style=\"color: #00af00; text-decoration-color: #00af00\">7</span>, <span style=\"color: #00af00; text-decoration-color: #00af00\">32</span>)            │               <span style=\"color: #00af00; text-decoration-color: #00af00\">0</span> │\n",
       "│ (<span style=\"color: #0087ff; text-decoration-color: #0087ff\">AveragePooling2D</span>)                   │                             │                 │\n",
       "├──────────────────────────────────────┼─────────────────────────────┼─────────────────┤\n",
       "│ dropout_1 (<span style=\"color: #0087ff; text-decoration-color: #0087ff\">Dropout</span>)                  │ (<span style=\"color: #00d7ff; text-decoration-color: #00d7ff\">None</span>, <span style=\"color: #00af00; text-decoration-color: #00af00\">1</span>, <span style=\"color: #00af00; text-decoration-color: #00af00\">7</span>, <span style=\"color: #00af00; text-decoration-color: #00af00\">32</span>)            │               <span style=\"color: #00af00; text-decoration-color: #00af00\">0</span> │\n",
       "├──────────────────────────────────────┼─────────────────────────────┼─────────────────┤\n",
       "│ flatten (<span style=\"color: #0087ff; text-decoration-color: #0087ff\">Flatten</span>)                    │ (<span style=\"color: #00d7ff; text-decoration-color: #00d7ff\">None</span>, <span style=\"color: #00af00; text-decoration-color: #00af00\">224</span>)                 │               <span style=\"color: #00af00; text-decoration-color: #00af00\">0</span> │\n",
       "├──────────────────────────────────────┼─────────────────────────────┼─────────────────┤\n",
       "│ dense (<span style=\"color: #0087ff; text-decoration-color: #0087ff\">Dense</span>)                        │ (<span style=\"color: #00d7ff; text-decoration-color: #00d7ff\">None</span>, <span style=\"color: #00af00; text-decoration-color: #00af00\">40</span>)                  │           <span style=\"color: #00af00; text-decoration-color: #00af00\">9,000</span> │\n",
       "├──────────────────────────────────────┼─────────────────────────────┼─────────────────┤\n",
       "│ softmax (<span style=\"color: #0087ff; text-decoration-color: #0087ff\">Activation</span>)                 │ (<span style=\"color: #00d7ff; text-decoration-color: #00d7ff\">None</span>, <span style=\"color: #00af00; text-decoration-color: #00af00\">40</span>)                  │               <span style=\"color: #00af00; text-decoration-color: #00af00\">0</span> │\n",
       "└──────────────────────────────────────┴─────────────────────────────┴─────────────────┘\n",
       "</pre>\n"
      ],
      "text/plain": [
       "┏━━━━━━━━━━━━━━━━━━━━━━━━━━━━━━━━━━━━━━┳━━━━━━━━━━━━━━━━━━━━━━━━━━━━━┳━━━━━━━━━━━━━━━━━┓\n",
       "┃\u001b[1m \u001b[0m\u001b[1mLayer (type)                        \u001b[0m\u001b[1m \u001b[0m┃\u001b[1m \u001b[0m\u001b[1mOutput Shape               \u001b[0m\u001b[1m \u001b[0m┃\u001b[1m \u001b[0m\u001b[1m        Param #\u001b[0m\u001b[1m \u001b[0m┃\n",
       "┡━━━━━━━━━━━━━━━━━━━━━━━━━━━━━━━━━━━━━━╇━━━━━━━━━━━━━━━━━━━━━━━━━━━━━╇━━━━━━━━━━━━━━━━━┩\n",
       "│ input_layer (\u001b[38;5;33mInputLayer\u001b[0m)             │ (\u001b[38;5;45mNone\u001b[0m, \u001b[38;5;34m64\u001b[0m, \u001b[38;5;34m250\u001b[0m, \u001b[38;5;34m1\u001b[0m)          │               \u001b[38;5;34m0\u001b[0m │\n",
       "├──────────────────────────────────────┼─────────────────────────────┼─────────────────┤\n",
       "│ conv2d (\u001b[38;5;33mConv2D\u001b[0m)                      │ (\u001b[38;5;45mNone\u001b[0m, \u001b[38;5;34m64\u001b[0m, \u001b[38;5;34m250\u001b[0m, \u001b[38;5;34m16\u001b[0m)         │           \u001b[38;5;34m1,024\u001b[0m │\n",
       "├──────────────────────────────────────┼─────────────────────────────┼─────────────────┤\n",
       "│ batch_normalization                  │ (\u001b[38;5;45mNone\u001b[0m, \u001b[38;5;34m64\u001b[0m, \u001b[38;5;34m250\u001b[0m, \u001b[38;5;34m16\u001b[0m)         │              \u001b[38;5;34m64\u001b[0m │\n",
       "│ (\u001b[38;5;33mBatchNormalization\u001b[0m)                 │                             │                 │\n",
       "├──────────────────────────────────────┼─────────────────────────────┼─────────────────┤\n",
       "│ depthwise_conv2d (\u001b[38;5;33mDepthwiseConv2D\u001b[0m)   │ (\u001b[38;5;45mNone\u001b[0m, \u001b[38;5;34m1\u001b[0m, \u001b[38;5;34m250\u001b[0m, \u001b[38;5;34m32\u001b[0m)          │           \u001b[38;5;34m2,048\u001b[0m │\n",
       "├──────────────────────────────────────┼─────────────────────────────┼─────────────────┤\n",
       "│ batch_normalization_1                │ (\u001b[38;5;45mNone\u001b[0m, \u001b[38;5;34m1\u001b[0m, \u001b[38;5;34m250\u001b[0m, \u001b[38;5;34m32\u001b[0m)          │             \u001b[38;5;34m128\u001b[0m │\n",
       "│ (\u001b[38;5;33mBatchNormalization\u001b[0m)                 │                             │                 │\n",
       "├──────────────────────────────────────┼─────────────────────────────┼─────────────────┤\n",
       "│ activation (\u001b[38;5;33mActivation\u001b[0m)              │ (\u001b[38;5;45mNone\u001b[0m, \u001b[38;5;34m1\u001b[0m, \u001b[38;5;34m250\u001b[0m, \u001b[38;5;34m32\u001b[0m)          │               \u001b[38;5;34m0\u001b[0m │\n",
       "├──────────────────────────────────────┼─────────────────────────────┼─────────────────┤\n",
       "│ average_pooling2d (\u001b[38;5;33mAveragePooling2D\u001b[0m) │ (\u001b[38;5;45mNone\u001b[0m, \u001b[38;5;34m1\u001b[0m, \u001b[38;5;34m62\u001b[0m, \u001b[38;5;34m32\u001b[0m)           │               \u001b[38;5;34m0\u001b[0m │\n",
       "├──────────────────────────────────────┼─────────────────────────────┼─────────────────┤\n",
       "│ dropout (\u001b[38;5;33mDropout\u001b[0m)                    │ (\u001b[38;5;45mNone\u001b[0m, \u001b[38;5;34m1\u001b[0m, \u001b[38;5;34m62\u001b[0m, \u001b[38;5;34m32\u001b[0m)           │               \u001b[38;5;34m0\u001b[0m │\n",
       "├──────────────────────────────────────┼─────────────────────────────┼─────────────────┤\n",
       "│ separable_conv2d (\u001b[38;5;33mSeparableConv2D\u001b[0m)   │ (\u001b[38;5;45mNone\u001b[0m, \u001b[38;5;34m1\u001b[0m, \u001b[38;5;34m62\u001b[0m, \u001b[38;5;34m32\u001b[0m)           │           \u001b[38;5;34m1,536\u001b[0m │\n",
       "├──────────────────────────────────────┼─────────────────────────────┼─────────────────┤\n",
       "│ batch_normalization_2                │ (\u001b[38;5;45mNone\u001b[0m, \u001b[38;5;34m1\u001b[0m, \u001b[38;5;34m62\u001b[0m, \u001b[38;5;34m32\u001b[0m)           │             \u001b[38;5;34m128\u001b[0m │\n",
       "│ (\u001b[38;5;33mBatchNormalization\u001b[0m)                 │                             │                 │\n",
       "├──────────────────────────────────────┼─────────────────────────────┼─────────────────┤\n",
       "│ activation_1 (\u001b[38;5;33mActivation\u001b[0m)            │ (\u001b[38;5;45mNone\u001b[0m, \u001b[38;5;34m1\u001b[0m, \u001b[38;5;34m62\u001b[0m, \u001b[38;5;34m32\u001b[0m)           │               \u001b[38;5;34m0\u001b[0m │\n",
       "├──────────────────────────────────────┼─────────────────────────────┼─────────────────┤\n",
       "│ average_pooling2d_1                  │ (\u001b[38;5;45mNone\u001b[0m, \u001b[38;5;34m1\u001b[0m, \u001b[38;5;34m7\u001b[0m, \u001b[38;5;34m32\u001b[0m)            │               \u001b[38;5;34m0\u001b[0m │\n",
       "│ (\u001b[38;5;33mAveragePooling2D\u001b[0m)                   │                             │                 │\n",
       "├──────────────────────────────────────┼─────────────────────────────┼─────────────────┤\n",
       "│ dropout_1 (\u001b[38;5;33mDropout\u001b[0m)                  │ (\u001b[38;5;45mNone\u001b[0m, \u001b[38;5;34m1\u001b[0m, \u001b[38;5;34m7\u001b[0m, \u001b[38;5;34m32\u001b[0m)            │               \u001b[38;5;34m0\u001b[0m │\n",
       "├──────────────────────────────────────┼─────────────────────────────┼─────────────────┤\n",
       "│ flatten (\u001b[38;5;33mFlatten\u001b[0m)                    │ (\u001b[38;5;45mNone\u001b[0m, \u001b[38;5;34m224\u001b[0m)                 │               \u001b[38;5;34m0\u001b[0m │\n",
       "├──────────────────────────────────────┼─────────────────────────────┼─────────────────┤\n",
       "│ dense (\u001b[38;5;33mDense\u001b[0m)                        │ (\u001b[38;5;45mNone\u001b[0m, \u001b[38;5;34m40\u001b[0m)                  │           \u001b[38;5;34m9,000\u001b[0m │\n",
       "├──────────────────────────────────────┼─────────────────────────────┼─────────────────┤\n",
       "│ softmax (\u001b[38;5;33mActivation\u001b[0m)                 │ (\u001b[38;5;45mNone\u001b[0m, \u001b[38;5;34m40\u001b[0m)                  │               \u001b[38;5;34m0\u001b[0m │\n",
       "└──────────────────────────────────────┴─────────────────────────────┴─────────────────┘\n"
      ]
     },
     "metadata": {},
     "output_type": "display_data"
    },
    {
     "data": {
      "text/html": [
       "<pre style=\"white-space:pre;overflow-x:auto;line-height:normal;font-family:Menlo,'DejaVu Sans Mono',consolas,'Courier New',monospace\"><span style=\"font-weight: bold\"> Total params: </span><span style=\"color: #00af00; text-decoration-color: #00af00\">13,928</span> (54.41 KB)\n",
       "</pre>\n"
      ],
      "text/plain": [
       "\u001b[1m Total params: \u001b[0m\u001b[38;5;34m13,928\u001b[0m (54.41 KB)\n"
      ]
     },
     "metadata": {},
     "output_type": "display_data"
    },
    {
     "data": {
      "text/html": [
       "<pre style=\"white-space:pre;overflow-x:auto;line-height:normal;font-family:Menlo,'DejaVu Sans Mono',consolas,'Courier New',monospace\"><span style=\"font-weight: bold\"> Trainable params: </span><span style=\"color: #00af00; text-decoration-color: #00af00\">13,768</span> (53.78 KB)\n",
       "</pre>\n"
      ],
      "text/plain": [
       "\u001b[1m Trainable params: \u001b[0m\u001b[38;5;34m13,768\u001b[0m (53.78 KB)\n"
      ]
     },
     "metadata": {},
     "output_type": "display_data"
    },
    {
     "data": {
      "text/html": [
       "<pre style=\"white-space:pre;overflow-x:auto;line-height:normal;font-family:Menlo,'DejaVu Sans Mono',consolas,'Courier New',monospace\"><span style=\"font-weight: bold\"> Non-trainable params: </span><span style=\"color: #00af00; text-decoration-color: #00af00\">160</span> (640.00 B)\n",
       "</pre>\n"
      ],
      "text/plain": [
       "\u001b[1m Non-trainable params: \u001b[0m\u001b[38;5;34m160\u001b[0m (640.00 B)\n"
      ]
     },
     "metadata": {},
     "output_type": "display_data"
    }
   ],
   "source": [
    "# Creating an EEGNet model\n",
    "#eegnet_model = EEGNet(nb_classes=40, Chans=64, Samples=250, dropoutRate=0.5, kernLength=64, F1=8, D=2, F2=16, dropoutType='Dropout')\n",
    "eegnet_model = EEGNet(nb_classes=40, Chans=64, Samples=250, dropoutRate=0.2, kernLength=64, F1=16, D=2, F2=32, dropoutType='Dropout')\n",
    "\n",
    "eegnet_model.compile(loss='categorical_crossentropy', optimizer='adam', metrics=['accuracy'])\n",
    "\n",
    "eegnet_model.summary()"
   ]
  },
  {
   "cell_type": "code",
   "execution_count": 7,
   "metadata": {
    "colab": {
     "base_uri": "https://localhost:8080/"
    },
    "id": "UOgptu3rgisM",
    "outputId": "c53037f0-138c-42e3-9cd6-7d5b7cd4233f"
   },
   "outputs": [
    {
     "name": "stdout",
     "output_type": "stream",
     "text": [
      "Processing file: S1.mat\n",
      "Processing file: S10.mat\n",
      "Processing file: S11.mat\n",
      "Processing file: S12.mat\n",
      "Processing file: S13.mat\n",
      "Processing file: S14.mat\n",
      "Processing file: S15.mat\n",
      "Processing file: S16.mat\n",
      "Processing file: S17.mat\n",
      "Processing file: S18.mat\n",
      "Processing file: S19.mat\n",
      "Processing file: S2.mat\n",
      "Processing file: S20.mat\n",
      "Processing file: S21.mat\n",
      "Processing file: S22.mat\n",
      "Processing file: S23.mat\n",
      "Processing file: S24.mat\n",
      "Processing file: S25.mat\n",
      "Processing file: S26.mat\n",
      "Processing file: S27.mat\n",
      "Processing file: S28.mat\n",
      "Processing file: S29.mat\n",
      "Processing file: S3.mat\n",
      "Processing file: S30.mat\n",
      "Processing file: S31.mat\n",
      "Processing file: S32.mat\n",
      "Processing file: S33.mat\n",
      "Processing file: S34.mat\n",
      "Processing file: S35.mat\n",
      "Processing file: S4.mat\n",
      "Processing file: S5.mat\n",
      "Processing file: S6.mat\n",
      "Processing file: S7.mat\n",
      "Processing file: S8.mat\n",
      "Processing file: S9.mat\n",
      "Combined X shape: (8400, 64, 250)\n",
      "Combined y shape: (8400, 40)\n"
     ]
    }
   ],
   "source": [
    "# Get training data\n",
    "X_all, y_all = [], []\n",
    "\n",
    "# Iterate through each file in the directory\n",
    "for file_name in os.listdir(subject_rawdata_dir):\n",
    "    if file_name.endswith('.mat'):\n",
    "        print(f'Processing file: {file_name}')\n",
    "        file_path = os.path.join(subject_rawdata_dir, file_name)\n",
    "        X_single, y_single = load_benchmark_data(file_path)\n",
    "        X_all.append(X_single)\n",
    "        y_all.append(y_single)\n",
    "\n",
    "# Concatenate all the data\n",
    "X_all = np.concatenate(X_all, axis=0)\n",
    "y_all = np.concatenate(y_all, axis=0)\n",
    "\n",
    "print(f\"Combined X shape: {X_all.shape}\")\n",
    "print(f\"Combined y shape: {y_all.shape}\")"
   ]
  },
  {
   "cell_type": "code",
   "execution_count": 8,
   "metadata": {},
   "outputs": [
    {
     "name": "stdout",
     "output_type": "stream",
     "text": [
      "Train shapes: (7560, 64, 250) (7560, 40)\n",
      "Test shapes: (840, 64, 250) (840, 40)\n"
     ]
    }
   ],
   "source": [
    "split_index = int(0.9 * X_all.shape[0])\n",
    "\n",
    "# manually split the dataset into test and train (all)\n",
    "X_test = X_all[split_index:]\n",
    "y_test = y_all[split_index:]\n",
    "\n",
    "X_all = X_all[:split_index]\n",
    "y_all = y_all[:split_index]\n",
    "\n",
    "print('Train shapes:', X_all.shape, y_all.shape)\n",
    "print('Test shapes:', X_test.shape, y_test.shape)"
   ]
  },
  {
   "cell_type": "code",
   "execution_count": 9,
   "metadata": {
    "colab": {
     "base_uri": "https://localhost:8080/"
    },
    "id": "2dH_uF7-obR0",
    "outputId": "ee240843-0ee5-4927-817b-50054366db64"
   },
   "outputs": [
    {
     "name": "stdout",
     "output_type": "stream",
     "text": [
      "Training fold 1...\n",
      "Epoch 1/100\n",
      "\u001b[1m213/213\u001b[0m \u001b[32m━━━━━━━━━━━━━━━━━━━━\u001b[0m\u001b[37m\u001b[0m \u001b[1m26s\u001b[0m 112ms/step - accuracy: 0.0461 - loss: 3.5824 - val_accuracy: 0.0794 - val_loss: 3.3327\n",
      "Epoch 2/100\n",
      "\u001b[1m213/213\u001b[0m \u001b[32m━━━━━━━━━━━━━━━━━━━━\u001b[0m\u001b[37m\u001b[0m \u001b[1m32s\u001b[0m 150ms/step - accuracy: 0.1730 - loss: 2.8204 - val_accuracy: 0.3876 - val_loss: 2.3090\n",
      "Epoch 3/100\n",
      "\u001b[1m213/213\u001b[0m \u001b[32m━━━━━━━━━━━━━━━━━━━━\u001b[0m\u001b[37m\u001b[0m \u001b[1m29s\u001b[0m 134ms/step - accuracy: 0.3980 - loss: 2.2148 - val_accuracy: 0.5040 - val_loss: 1.8280\n",
      "Epoch 4/100\n",
      "\u001b[1m213/213\u001b[0m \u001b[32m━━━━━━━━━━━━━━━━━━━━\u001b[0m\u001b[37m\u001b[0m \u001b[1m27s\u001b[0m 128ms/step - accuracy: 0.5320 - loss: 1.8780 - val_accuracy: 0.6918 - val_loss: 1.5068\n",
      "Epoch 5/100\n",
      "\u001b[1m213/213\u001b[0m \u001b[32m━━━━━━━━━━━━━━━━━━━━\u001b[0m\u001b[37m\u001b[0m \u001b[1m27s\u001b[0m 127ms/step - accuracy: 0.6231 - loss: 1.6615 - val_accuracy: 0.7407 - val_loss: 1.3197\n",
      "Epoch 6/100\n",
      "\u001b[1m213/213\u001b[0m \u001b[32m━━━━━━━━━━━━━━━━━━━━\u001b[0m\u001b[37m\u001b[0m \u001b[1m29s\u001b[0m 135ms/step - accuracy: 0.6826 - loss: 1.4963 - val_accuracy: 0.7526 - val_loss: 1.2180\n",
      "Epoch 7/100\n",
      "\u001b[1m213/213\u001b[0m \u001b[32m━━━━━━━━━━━━━━━━━━━━\u001b[0m\u001b[37m\u001b[0m \u001b[1m29s\u001b[0m 135ms/step - accuracy: 0.6816 - loss: 1.4154 - val_accuracy: 0.7685 - val_loss: 1.1670\n",
      "Epoch 8/100\n",
      "\u001b[1m213/213\u001b[0m \u001b[32m━━━━━━━━━━━━━━━━━━━━\u001b[0m\u001b[37m\u001b[0m \u001b[1m29s\u001b[0m 138ms/step - accuracy: 0.7109 - loss: 1.3267 - val_accuracy: 0.7712 - val_loss: 1.1128\n",
      "Epoch 9/100\n",
      "\u001b[1m213/213\u001b[0m \u001b[32m━━━━━━━━━━━━━━━━━━━━\u001b[0m\u001b[37m\u001b[0m \u001b[1m30s\u001b[0m 138ms/step - accuracy: 0.7268 - loss: 1.2599 - val_accuracy: 0.8161 - val_loss: 1.0354\n",
      "Epoch 10/100\n",
      "\u001b[1m213/213\u001b[0m \u001b[32m━━━━━━━━━━━━━━━━━━━━\u001b[0m\u001b[37m\u001b[0m \u001b[1m30s\u001b[0m 139ms/step - accuracy: 0.7454 - loss: 1.1592 - val_accuracy: 0.8360 - val_loss: 0.9538\n",
      "Epoch 11/100\n",
      "\u001b[1m213/213\u001b[0m \u001b[32m━━━━━━━━━━━━━━━━━━━━\u001b[0m\u001b[37m\u001b[0m \u001b[1m31s\u001b[0m 143ms/step - accuracy: 0.7509 - loss: 1.1190 - val_accuracy: 0.8042 - val_loss: 0.9184\n",
      "Epoch 12/100\n",
      "\u001b[1m213/213\u001b[0m \u001b[32m━━━━━━━━━━━━━━━━━━━━\u001b[0m\u001b[37m\u001b[0m \u001b[1m30s\u001b[0m 140ms/step - accuracy: 0.7562 - loss: 1.1041 - val_accuracy: 0.8214 - val_loss: 0.8771\n",
      "Epoch 13/100\n",
      "\u001b[1m213/213\u001b[0m \u001b[32m━━━━━━━━━━━━━━━━━━━━\u001b[0m\u001b[37m\u001b[0m \u001b[1m31s\u001b[0m 145ms/step - accuracy: 0.7449 - loss: 1.0687 - val_accuracy: 0.8492 - val_loss: 0.8375\n",
      "Epoch 14/100\n",
      "\u001b[1m213/213\u001b[0m \u001b[32m━━━━━━━━━━━━━━━━━━━━\u001b[0m\u001b[37m\u001b[0m \u001b[1m31s\u001b[0m 146ms/step - accuracy: 0.7554 - loss: 1.0219 - val_accuracy: 0.8307 - val_loss: 0.8011\n",
      "Epoch 15/100\n",
      "\u001b[1m213/213\u001b[0m \u001b[32m━━━━━━━━━━━━━━━━━━━━\u001b[0m\u001b[37m\u001b[0m \u001b[1m32s\u001b[0m 149ms/step - accuracy: 0.7728 - loss: 0.9684 - val_accuracy: 0.8148 - val_loss: 0.8565\n",
      "Epoch 16/100\n",
      "\u001b[1m213/213\u001b[0m \u001b[32m━━━━━━━━━━━━━━━━━━━━\u001b[0m\u001b[37m\u001b[0m \u001b[1m32s\u001b[0m 150ms/step - accuracy: 0.7687 - loss: 0.9407 - val_accuracy: 0.8664 - val_loss: 0.7374\n",
      "Epoch 17/100\n",
      "\u001b[1m213/213\u001b[0m \u001b[32m━━━━━━━━━━━━━━━━━━━━\u001b[0m\u001b[37m\u001b[0m \u001b[1m32s\u001b[0m 148ms/step - accuracy: 0.7783 - loss: 0.9255 - val_accuracy: 0.8135 - val_loss: 0.7778\n",
      "Epoch 18/100\n",
      "\u001b[1m213/213\u001b[0m \u001b[32m━━━━━━━━━━━━━━━━━━━━\u001b[0m\u001b[37m\u001b[0m \u001b[1m31s\u001b[0m 146ms/step - accuracy: 0.7746 - loss: 0.8997 - val_accuracy: 0.8439 - val_loss: 0.7091\n",
      "Epoch 19/100\n",
      "\u001b[1m213/213\u001b[0m \u001b[32m━━━━━━━━━━━━━━━━━━━━\u001b[0m\u001b[37m\u001b[0m \u001b[1m31s\u001b[0m 147ms/step - accuracy: 0.7823 - loss: 0.8855 - val_accuracy: 0.8810 - val_loss: 0.6644\n",
      "Epoch 20/100\n",
      "\u001b[1m213/213\u001b[0m \u001b[32m━━━━━━━━━━━━━━━━━━━━\u001b[0m\u001b[37m\u001b[0m \u001b[1m32s\u001b[0m 151ms/step - accuracy: 0.7966 - loss: 0.8507 - val_accuracy: 0.8598 - val_loss: 0.6829\n",
      "Epoch 21/100\n",
      "\u001b[1m213/213\u001b[0m \u001b[32m━━━━━━━━━━━━━━━━━━━━\u001b[0m\u001b[37m\u001b[0m \u001b[1m32s\u001b[0m 149ms/step - accuracy: 0.7865 - loss: 0.8349 - val_accuracy: 0.8717 - val_loss: 0.6711\n",
      "Epoch 22/100\n",
      "\u001b[1m213/213\u001b[0m \u001b[32m━━━━━━━━━━━━━━━━━━━━\u001b[0m\u001b[37m\u001b[0m \u001b[1m32s\u001b[0m 152ms/step - accuracy: 0.7937 - loss: 0.8161 - val_accuracy: 0.8175 - val_loss: 0.6933\n",
      "Epoch 23/100\n",
      "\u001b[1m213/213\u001b[0m \u001b[32m━━━━━━━━━━━━━━━━━━━━\u001b[0m\u001b[37m\u001b[0m \u001b[1m32s\u001b[0m 150ms/step - accuracy: 0.7969 - loss: 0.8064 - val_accuracy: 0.8545 - val_loss: 0.6322\n",
      "Epoch 24/100\n",
      "\u001b[1m213/213\u001b[0m \u001b[32m━━━━━━━━━━━━━━━━━━━━\u001b[0m\u001b[37m\u001b[0m \u001b[1m32s\u001b[0m 151ms/step - accuracy: 0.8023 - loss: 0.7749 - val_accuracy: 0.8439 - val_loss: 0.6684\n",
      "Epoch 25/100\n",
      "\u001b[1m213/213\u001b[0m \u001b[32m━━━━━━━━━━━━━━━━━━━━\u001b[0m\u001b[37m\u001b[0m \u001b[1m33s\u001b[0m 153ms/step - accuracy: 0.8128 - loss: 0.7604 - val_accuracy: 0.8466 - val_loss: 0.6462\n",
      "Epoch 26/100\n",
      "\u001b[1m213/213\u001b[0m \u001b[32m━━━━━━━━━━━━━━━━━━━━\u001b[0m\u001b[37m\u001b[0m \u001b[1m33s\u001b[0m 155ms/step - accuracy: 0.7983 - loss: 0.7735 - val_accuracy: 0.8413 - val_loss: 0.6437\n",
      "Epoch 27/100\n",
      "\u001b[1m213/213\u001b[0m \u001b[32m━━━━━━━━━━━━━━━━━━━━\u001b[0m\u001b[37m\u001b[0m \u001b[1m31s\u001b[0m 146ms/step - accuracy: 0.7908 - loss: 0.7644 - val_accuracy: 0.8532 - val_loss: 0.5958\n",
      "Epoch 28/100\n",
      "\u001b[1m213/213\u001b[0m \u001b[32m━━━━━━━━━━━━━━━━━━━━\u001b[0m\u001b[37m\u001b[0m \u001b[1m33s\u001b[0m 155ms/step - accuracy: 0.8051 - loss: 0.7260 - val_accuracy: 0.8690 - val_loss: 0.5588\n",
      "Epoch 29/100\n",
      "\u001b[1m213/213\u001b[0m \u001b[32m━━━━━━━━━━━━━━━━━━━━\u001b[0m\u001b[37m\u001b[0m \u001b[1m32s\u001b[0m 150ms/step - accuracy: 0.8115 - loss: 0.7152 - val_accuracy: 0.8532 - val_loss: 0.5809\n",
      "Epoch 30/100\n",
      "\u001b[1m213/213\u001b[0m \u001b[32m━━━━━━━━━━━━━━━━━━━━\u001b[0m\u001b[37m\u001b[0m \u001b[1m33s\u001b[0m 156ms/step - accuracy: 0.8019 - loss: 0.7334 - val_accuracy: 0.8399 - val_loss: 0.6015\n",
      "Epoch 31/100\n",
      "\u001b[1m213/213\u001b[0m \u001b[32m━━━━━━━━━━━━━━━━━━━━\u001b[0m\u001b[37m\u001b[0m \u001b[1m33s\u001b[0m 154ms/step - accuracy: 0.8138 - loss: 0.6897 - val_accuracy: 0.8532 - val_loss: 0.5944\n",
      "Epoch 32/100\n",
      "\u001b[1m213/213\u001b[0m \u001b[32m━━━━━━━━━━━━━━━━━━━━\u001b[0m\u001b[37m\u001b[0m \u001b[1m32s\u001b[0m 151ms/step - accuracy: 0.8235 - loss: 0.6672 - val_accuracy: 0.8426 - val_loss: 0.5950\n",
      "Epoch 33/100\n",
      "\u001b[1m213/213\u001b[0m \u001b[32m━━━━━━━━━━━━━━━━━━━━\u001b[0m\u001b[37m\u001b[0m \u001b[1m33s\u001b[0m 152ms/step - accuracy: 0.8058 - loss: 0.6880 - val_accuracy: 0.8757 - val_loss: 0.5366\n",
      "Epoch 34/100\n",
      "\u001b[1m213/213\u001b[0m \u001b[32m━━━━━━━━━━━━━━━━━━━━\u001b[0m\u001b[37m\u001b[0m \u001b[1m32s\u001b[0m 152ms/step - accuracy: 0.8250 - loss: 0.6626 - val_accuracy: 0.8624 - val_loss: 0.5322\n",
      "Epoch 35/100\n",
      "\u001b[1m213/213\u001b[0m \u001b[32m━━━━━━━━━━━━━━━━━━━━\u001b[0m\u001b[37m\u001b[0m \u001b[1m38s\u001b[0m 177ms/step - accuracy: 0.8128 - loss: 0.6607 - val_accuracy: 0.8347 - val_loss: 0.5959\n",
      "Epoch 36/100\n",
      "\u001b[1m213/213\u001b[0m \u001b[32m━━━━━━━━━━━━━━━━━━━━\u001b[0m\u001b[37m\u001b[0m \u001b[1m38s\u001b[0m 179ms/step - accuracy: 0.8158 - loss: 0.6636 - val_accuracy: 0.8558 - val_loss: 0.5491\n",
      "Epoch 37/100\n",
      "\u001b[1m213/213\u001b[0m \u001b[32m━━━━━━━━━━━━━━━━━━━━\u001b[0m\u001b[37m\u001b[0m \u001b[1m31s\u001b[0m 143ms/step - accuracy: 0.8179 - loss: 0.6454 - val_accuracy: 0.8505 - val_loss: 0.5856\n",
      "Epoch 38/100\n",
      "\u001b[1m213/213\u001b[0m \u001b[32m━━━━━━━━━━━━━━━━━━━━\u001b[0m\u001b[37m\u001b[0m \u001b[1m31s\u001b[0m 143ms/step - accuracy: 0.8153 - loss: 0.6392 - val_accuracy: 0.8638 - val_loss: 0.5165\n",
      "Epoch 39/100\n",
      "\u001b[1m213/213\u001b[0m \u001b[32m━━━━━━━━━━━━━━━━━━━━\u001b[0m\u001b[37m\u001b[0m \u001b[1m30s\u001b[0m 141ms/step - accuracy: 0.8202 - loss: 0.6262 - val_accuracy: 0.8386 - val_loss: 0.5618\n",
      "Epoch 40/100\n",
      "\u001b[1m213/213\u001b[0m \u001b[32m━━━━━━━━━━━━━━━━━━━━\u001b[0m\u001b[37m\u001b[0m \u001b[1m33s\u001b[0m 155ms/step - accuracy: 0.8191 - loss: 0.6491 - val_accuracy: 0.8981 - val_loss: 0.4855\n",
      "Epoch 41/100\n",
      "\u001b[1m213/213\u001b[0m \u001b[32m━━━━━━━━━━━━━━━━━━━━\u001b[0m\u001b[37m\u001b[0m \u001b[1m33s\u001b[0m 155ms/step - accuracy: 0.8238 - loss: 0.6286 - val_accuracy: 0.8876 - val_loss: 0.4675\n",
      "Epoch 42/100\n",
      "\u001b[1m213/213\u001b[0m \u001b[32m━━━━━━━━━━━━━━━━━━━━\u001b[0m\u001b[37m\u001b[0m \u001b[1m33s\u001b[0m 155ms/step - accuracy: 0.8114 - loss: 0.6358 - val_accuracy: 0.8849 - val_loss: 0.4989\n",
      "Epoch 43/100\n",
      "\u001b[1m213/213\u001b[0m \u001b[32m━━━━━━━━━━━━━━━━━━━━\u001b[0m\u001b[37m\u001b[0m \u001b[1m33s\u001b[0m 153ms/step - accuracy: 0.8289 - loss: 0.5992 - val_accuracy: 0.8942 - val_loss: 0.4737\n",
      "Epoch 44/100\n",
      "\u001b[1m213/213\u001b[0m \u001b[32m━━━━━━━━━━━━━━━━━━━━\u001b[0m\u001b[37m\u001b[0m \u001b[1m33s\u001b[0m 154ms/step - accuracy: 0.8204 - loss: 0.6152 - val_accuracy: 0.8796 - val_loss: 0.4659\n",
      "Epoch 45/100\n",
      "\u001b[1m213/213\u001b[0m \u001b[32m━━━━━━━━━━━━━━━━━━━━\u001b[0m\u001b[37m\u001b[0m \u001b[1m32s\u001b[0m 152ms/step - accuracy: 0.8356 - loss: 0.5949 - val_accuracy: 0.8505 - val_loss: 0.5439\n",
      "Epoch 46/100\n",
      "\u001b[1m213/213\u001b[0m \u001b[32m━━━━━━━━━━━━━━━━━━━━\u001b[0m\u001b[37m\u001b[0m \u001b[1m33s\u001b[0m 157ms/step - accuracy: 0.8317 - loss: 0.6010 - val_accuracy: 0.8836 - val_loss: 0.4718\n",
      "Epoch 47/100\n",
      "\u001b[1m213/213\u001b[0m \u001b[32m━━━━━━━━━━━━━━━━━━━━\u001b[0m\u001b[37m\u001b[0m \u001b[1m33s\u001b[0m 155ms/step - accuracy: 0.8149 - loss: 0.6079 - val_accuracy: 0.8862 - val_loss: 0.4793\n",
      "Epoch 48/100\n",
      "\u001b[1m213/213\u001b[0m \u001b[32m━━━━━━━━━━━━━━━━━━━━\u001b[0m\u001b[37m\u001b[0m \u001b[1m34s\u001b[0m 157ms/step - accuracy: 0.8334 - loss: 0.5875 - val_accuracy: 0.8730 - val_loss: 0.4823\n",
      "Epoch 49/100\n",
      "\u001b[1m213/213\u001b[0m \u001b[32m━━━━━━━━━━━━━━━━━━━━\u001b[0m\u001b[37m\u001b[0m \u001b[1m33s\u001b[0m 157ms/step - accuracy: 0.8321 - loss: 0.5965 - val_accuracy: 0.8849 - val_loss: 0.4650\n",
      "Epoch 50/100\n",
      "\u001b[1m213/213\u001b[0m \u001b[32m━━━━━━━━━━━━━━━━━━━━\u001b[0m\u001b[37m\u001b[0m \u001b[1m34s\u001b[0m 160ms/step - accuracy: 0.8232 - loss: 0.6098 - val_accuracy: 0.8624 - val_loss: 0.4937\n",
      "Epoch 51/100\n",
      "\u001b[1m213/213\u001b[0m \u001b[32m━━━━━━━━━━━━━━━━━━━━\u001b[0m\u001b[37m\u001b[0m \u001b[1m33s\u001b[0m 154ms/step - accuracy: 0.8316 - loss: 0.5760 - val_accuracy: 0.8849 - val_loss: 0.4787\n",
      "Epoch 52/100\n",
      "\u001b[1m213/213\u001b[0m \u001b[32m━━━━━━━━━━━━━━━━━━━━\u001b[0m\u001b[37m\u001b[0m \u001b[1m33s\u001b[0m 155ms/step - accuracy: 0.8263 - loss: 0.5959 - val_accuracy: 0.8810 - val_loss: 0.4813\n",
      "Epoch 53/100\n",
      "\u001b[1m213/213\u001b[0m \u001b[32m━━━━━━━━━━━━━━━━━━━━\u001b[0m\u001b[37m\u001b[0m \u001b[1m33s\u001b[0m 153ms/step - accuracy: 0.8363 - loss: 0.5756 - val_accuracy: 0.8915 - val_loss: 0.4497\n",
      "Epoch 54/100\n",
      "\u001b[1m213/213\u001b[0m \u001b[32m━━━━━━━━━━━━━━━━━━━━\u001b[0m\u001b[37m\u001b[0m \u001b[1m33s\u001b[0m 152ms/step - accuracy: 0.8367 - loss: 0.5629 - val_accuracy: 0.8915 - val_loss: 0.4379\n",
      "Epoch 55/100\n",
      "\u001b[1m213/213\u001b[0m \u001b[32m━━━━━━━━━━━━━━━━━━━━\u001b[0m\u001b[37m\u001b[0m \u001b[1m34s\u001b[0m 159ms/step - accuracy: 0.8349 - loss: 0.5493 - val_accuracy: 0.8902 - val_loss: 0.4321\n",
      "Epoch 56/100\n",
      "\u001b[1m213/213\u001b[0m \u001b[32m━━━━━━━━━━━━━━━━━━━━\u001b[0m\u001b[37m\u001b[0m \u001b[1m33s\u001b[0m 156ms/step - accuracy: 0.8337 - loss: 0.5658 - val_accuracy: 0.8823 - val_loss: 0.4455\n",
      "Epoch 57/100\n",
      "\u001b[1m213/213\u001b[0m \u001b[32m━━━━━━━━━━━━━━━━━━━━\u001b[0m\u001b[37m\u001b[0m \u001b[1m34s\u001b[0m 159ms/step - accuracy: 0.8416 - loss: 0.5460 - val_accuracy: 0.8638 - val_loss: 0.4782\n",
      "Epoch 58/100\n",
      "\u001b[1m213/213\u001b[0m \u001b[32m━━━━━━━━━━━━━━━━━━━━\u001b[0m\u001b[37m\u001b[0m \u001b[1m34s\u001b[0m 161ms/step - accuracy: 0.8415 - loss: 0.5560 - val_accuracy: 0.9048 - val_loss: 0.4207\n",
      "Epoch 59/100\n",
      "\u001b[1m213/213\u001b[0m \u001b[32m━━━━━━━━━━━━━━━━━━━━\u001b[0m\u001b[37m\u001b[0m \u001b[1m33s\u001b[0m 156ms/step - accuracy: 0.8341 - loss: 0.5405 - val_accuracy: 0.8796 - val_loss: 0.4623\n",
      "Epoch 60/100\n",
      "\u001b[1m213/213\u001b[0m \u001b[32m━━━━━━━━━━━━━━━━━━━━\u001b[0m\u001b[37m\u001b[0m \u001b[1m34s\u001b[0m 158ms/step - accuracy: 0.8320 - loss: 0.5571 - val_accuracy: 0.8267 - val_loss: 0.5611\n",
      "Epoch 61/100\n",
      "\u001b[1m213/213\u001b[0m \u001b[32m━━━━━━━━━━━━━━━━━━━━\u001b[0m\u001b[37m\u001b[0m \u001b[1m34s\u001b[0m 159ms/step - accuracy: 0.8275 - loss: 0.5706 - val_accuracy: 0.8955 - val_loss: 0.4228\n",
      "Epoch 62/100\n",
      "\u001b[1m213/213\u001b[0m \u001b[32m━━━━━━━━━━━━━━━━━━━━\u001b[0m\u001b[37m\u001b[0m \u001b[1m34s\u001b[0m 159ms/step - accuracy: 0.8358 - loss: 0.5430 - val_accuracy: 0.8876 - val_loss: 0.4386\n",
      "Epoch 63/100\n",
      "\u001b[1m213/213\u001b[0m \u001b[32m━━━━━━━━━━━━━━━━━━━━\u001b[0m\u001b[37m\u001b[0m \u001b[1m34s\u001b[0m 160ms/step - accuracy: 0.8239 - loss: 0.5578 - val_accuracy: 0.8690 - val_loss: 0.4557\n",
      "Epoch 64/100\n",
      "\u001b[1m213/213\u001b[0m \u001b[32m━━━━━━━━━━━━━━━━━━━━\u001b[0m\u001b[37m\u001b[0m \u001b[1m34s\u001b[0m 158ms/step - accuracy: 0.8345 - loss: 0.5437 - val_accuracy: 0.8955 - val_loss: 0.4270\n",
      "Epoch 65/100\n",
      "\u001b[1m213/213\u001b[0m \u001b[32m━━━━━━━━━━━━━━━━━━━━\u001b[0m\u001b[37m\u001b[0m \u001b[1m33s\u001b[0m 156ms/step - accuracy: 0.8506 - loss: 0.5160 - val_accuracy: 0.8426 - val_loss: 0.5237\n",
      "Epoch 66/100\n",
      "\u001b[1m213/213\u001b[0m \u001b[32m━━━━━━━━━━━━━━━━━━━━\u001b[0m\u001b[37m\u001b[0m \u001b[1m34s\u001b[0m 160ms/step - accuracy: 0.8430 - loss: 0.5233 - val_accuracy: 0.8981 - val_loss: 0.4037\n",
      "Epoch 67/100\n",
      "\u001b[1m213/213\u001b[0m \u001b[32m━━━━━━━━━━━━━━━━━━━━\u001b[0m\u001b[37m\u001b[0m \u001b[1m32s\u001b[0m 151ms/step - accuracy: 0.8378 - loss: 0.5429 - val_accuracy: 0.8810 - val_loss: 0.4327\n",
      "Epoch 68/100\n",
      "\u001b[1m213/213\u001b[0m \u001b[32m━━━━━━━━━━━━━━━━━━━━\u001b[0m\u001b[37m\u001b[0m \u001b[1m34s\u001b[0m 158ms/step - accuracy: 0.8359 - loss: 0.5292 - val_accuracy: 0.8770 - val_loss: 0.4362\n",
      "Epoch 69/100\n",
      "\u001b[1m213/213\u001b[0m \u001b[32m━━━━━━━━━━━━━━━━━━━━\u001b[0m\u001b[37m\u001b[0m \u001b[1m34s\u001b[0m 157ms/step - accuracy: 0.8439 - loss: 0.5276 - val_accuracy: 0.8836 - val_loss: 0.4368\n",
      "Epoch 70/100\n",
      "\u001b[1m213/213\u001b[0m \u001b[32m━━━━━━━━━━━━━━━━━━━━\u001b[0m\u001b[37m\u001b[0m \u001b[1m33s\u001b[0m 156ms/step - accuracy: 0.8459 - loss: 0.4991 - val_accuracy: 0.8730 - val_loss: 0.4545\n",
      "Epoch 71/100\n",
      "\u001b[1m213/213\u001b[0m \u001b[32m━━━━━━━━━━━━━━━━━━━━\u001b[0m\u001b[37m\u001b[0m \u001b[1m33s\u001b[0m 155ms/step - accuracy: 0.8387 - loss: 0.5230 - val_accuracy: 0.8942 - val_loss: 0.4389\n",
      "Epoch 72/100\n",
      "\u001b[1m213/213\u001b[0m \u001b[32m━━━━━━━━━━━━━━━━━━━━\u001b[0m\u001b[37m\u001b[0m \u001b[1m34s\u001b[0m 157ms/step - accuracy: 0.8427 - loss: 0.5174 - val_accuracy: 0.8770 - val_loss: 0.4337\n",
      "Epoch 73/100\n",
      "\u001b[1m213/213\u001b[0m \u001b[32m━━━━━━━━━━━━━━━━━━━━\u001b[0m\u001b[37m\u001b[0m \u001b[1m34s\u001b[0m 158ms/step - accuracy: 0.8388 - loss: 0.5310 - val_accuracy: 0.8704 - val_loss: 0.4307\n",
      "Epoch 74/100\n",
      "\u001b[1m213/213\u001b[0m \u001b[32m━━━━━━━━━━━━━━━━━━━━\u001b[0m\u001b[37m\u001b[0m \u001b[1m34s\u001b[0m 158ms/step - accuracy: 0.8470 - loss: 0.5202 - val_accuracy: 0.8929 - val_loss: 0.3973\n",
      "Epoch 75/100\n",
      "\u001b[1m213/213\u001b[0m \u001b[32m━━━━━━━━━━━━━━━━━━━━\u001b[0m\u001b[37m\u001b[0m \u001b[1m35s\u001b[0m 164ms/step - accuracy: 0.8358 - loss: 0.5491 - val_accuracy: 0.8638 - val_loss: 0.4648\n",
      "Epoch 76/100\n",
      "\u001b[1m213/213\u001b[0m \u001b[32m━━━━━━━━━━━━━━━━━━━━\u001b[0m\u001b[37m\u001b[0m \u001b[1m34s\u001b[0m 162ms/step - accuracy: 0.8515 - loss: 0.5030 - val_accuracy: 0.8929 - val_loss: 0.4180\n",
      "Epoch 77/100\n",
      "\u001b[1m213/213\u001b[0m \u001b[32m━━━━━━━━━━━━━━━━━━━━\u001b[0m\u001b[37m\u001b[0m \u001b[1m32s\u001b[0m 149ms/step - accuracy: 0.8404 - loss: 0.5108 - val_accuracy: 0.8823 - val_loss: 0.4406\n",
      "Epoch 78/100\n",
      "\u001b[1m213/213\u001b[0m \u001b[32m━━━━━━━━━━━━━━━━━━━━\u001b[0m\u001b[37m\u001b[0m \u001b[1m34s\u001b[0m 157ms/step - accuracy: 0.8423 - loss: 0.4996 - val_accuracy: 0.8757 - val_loss: 0.4580\n",
      "Epoch 79/100\n",
      "\u001b[1m213/213\u001b[0m \u001b[32m━━━━━━━━━━━━━━━━━━━━\u001b[0m\u001b[37m\u001b[0m \u001b[1m32s\u001b[0m 152ms/step - accuracy: 0.8384 - loss: 0.4937 - val_accuracy: 0.8942 - val_loss: 0.4000\n",
      "Epoch 80/100\n",
      "\u001b[1m213/213\u001b[0m \u001b[32m━━━━━━━━━━━━━━━━━━━━\u001b[0m\u001b[37m\u001b[0m \u001b[1m33s\u001b[0m 156ms/step - accuracy: 0.8409 - loss: 0.5211 - val_accuracy: 0.8836 - val_loss: 0.4157\n",
      "Epoch 81/100\n",
      "\u001b[1m213/213\u001b[0m \u001b[32m━━━━━━━━━━━━━━━━━━━━\u001b[0m\u001b[37m\u001b[0m \u001b[1m34s\u001b[0m 160ms/step - accuracy: 0.8442 - loss: 0.4977 - val_accuracy: 0.8862 - val_loss: 0.4129\n",
      "Epoch 82/100\n",
      "\u001b[1m213/213\u001b[0m \u001b[32m━━━━━━━━━━━━━━━━━━━━\u001b[0m\u001b[37m\u001b[0m \u001b[1m34s\u001b[0m 161ms/step - accuracy: 0.8444 - loss: 0.5148 - val_accuracy: 0.8876 - val_loss: 0.4067\n",
      "Epoch 83/100\n",
      "\u001b[1m213/213\u001b[0m \u001b[32m━━━━━━━━━━━━━━━━━━━━\u001b[0m\u001b[37m\u001b[0m \u001b[1m34s\u001b[0m 159ms/step - accuracy: 0.8401 - loss: 0.5165 - val_accuracy: 0.8915 - val_loss: 0.4098\n",
      "Epoch 84/100\n",
      "\u001b[1m213/213\u001b[0m \u001b[32m━━━━━━━━━━━━━━━━━━━━\u001b[0m\u001b[37m\u001b[0m \u001b[1m34s\u001b[0m 160ms/step - accuracy: 0.8405 - loss: 0.5123 - val_accuracy: 0.8876 - val_loss: 0.4184\n",
      "Epoch 85/100\n",
      "\u001b[1m213/213\u001b[0m \u001b[32m━━━━━━━━━━━━━━━━━━━━\u001b[0m\u001b[37m\u001b[0m \u001b[1m33s\u001b[0m 153ms/step - accuracy: 0.8441 - loss: 0.5128 - val_accuracy: 0.8730 - val_loss: 0.4158\n",
      "Epoch 86/100\n",
      "\u001b[1m213/213\u001b[0m \u001b[32m━━━━━━━━━━━━━━━━━━━━\u001b[0m\u001b[37m\u001b[0m \u001b[1m34s\u001b[0m 160ms/step - accuracy: 0.8451 - loss: 0.5079 - val_accuracy: 0.8558 - val_loss: 0.4867\n",
      "Epoch 87/100\n",
      "\u001b[1m213/213\u001b[0m \u001b[32m━━━━━━━━━━━━━━━━━━━━\u001b[0m\u001b[37m\u001b[0m \u001b[1m33s\u001b[0m 157ms/step - accuracy: 0.8465 - loss: 0.5112 - val_accuracy: 0.8730 - val_loss: 0.4323\n",
      "Epoch 88/100\n",
      "\u001b[1m213/213\u001b[0m \u001b[32m━━━━━━━━━━━━━━━━━━━━\u001b[0m\u001b[37m\u001b[0m \u001b[1m33s\u001b[0m 156ms/step - accuracy: 0.8481 - loss: 0.4950 - val_accuracy: 0.8717 - val_loss: 0.4461\n",
      "Epoch 89/100\n",
      "\u001b[1m213/213\u001b[0m \u001b[32m━━━━━━━━━━━━━━━━━━━━\u001b[0m\u001b[37m\u001b[0m \u001b[1m32s\u001b[0m 150ms/step - accuracy: 0.8472 - loss: 0.5034 - val_accuracy: 0.8611 - val_loss: 0.4609\n",
      "Epoch 90/100\n",
      "\u001b[1m213/213\u001b[0m \u001b[32m━━━━━━━━━━━━━━━━━━━━\u001b[0m\u001b[37m\u001b[0m \u001b[1m34s\u001b[0m 157ms/step - accuracy: 0.8438 - loss: 0.5062 - val_accuracy: 0.8955 - val_loss: 0.3847\n",
      "Epoch 91/100\n",
      "\u001b[1m213/213\u001b[0m \u001b[32m━━━━━━━━━━━━━━━━━━━━\u001b[0m\u001b[37m\u001b[0m \u001b[1m32s\u001b[0m 151ms/step - accuracy: 0.8556 - loss: 0.4792 - val_accuracy: 0.8942 - val_loss: 0.4192\n",
      "Epoch 92/100\n",
      "\u001b[1m213/213\u001b[0m \u001b[32m━━━━━━━━━━━━━━━━━━━━\u001b[0m\u001b[37m\u001b[0m \u001b[1m32s\u001b[0m 150ms/step - accuracy: 0.8531 - loss: 0.4739 - val_accuracy: 0.8783 - val_loss: 0.4236\n",
      "Epoch 93/100\n",
      "\u001b[1m213/213\u001b[0m \u001b[32m━━━━━━━━━━━━━━━━━━━━\u001b[0m\u001b[37m\u001b[0m \u001b[1m32s\u001b[0m 147ms/step - accuracy: 0.8537 - loss: 0.4749 - val_accuracy: 0.8929 - val_loss: 0.3998\n",
      "Epoch 94/100\n",
      "\u001b[1m213/213\u001b[0m \u001b[32m━━━━━━━━━━━━━━━━━━━━\u001b[0m\u001b[37m\u001b[0m \u001b[1m29s\u001b[0m 138ms/step - accuracy: 0.8496 - loss: 0.4760 - val_accuracy: 0.8532 - val_loss: 0.4655\n",
      "Epoch 95/100\n",
      "\u001b[1m213/213\u001b[0m \u001b[32m━━━━━━━━━━━━━━━━━━━━\u001b[0m\u001b[37m\u001b[0m \u001b[1m33s\u001b[0m 153ms/step - accuracy: 0.8346 - loss: 0.5249 - val_accuracy: 0.9034 - val_loss: 0.3834\n",
      "Epoch 96/100\n",
      "\u001b[1m213/213\u001b[0m \u001b[32m━━━━━━━━━━━━━━━━━━━━\u001b[0m\u001b[37m\u001b[0m \u001b[1m33s\u001b[0m 155ms/step - accuracy: 0.8598 - loss: 0.4541 - val_accuracy: 0.8889 - val_loss: 0.3969\n",
      "Epoch 97/100\n",
      "\u001b[1m213/213\u001b[0m \u001b[32m━━━━━━━━━━━━━━━━━━━━\u001b[0m\u001b[37m\u001b[0m \u001b[1m33s\u001b[0m 156ms/step - accuracy: 0.8687 - loss: 0.4370 - val_accuracy: 0.8783 - val_loss: 0.4059\n",
      "Epoch 98/100\n",
      "\u001b[1m213/213\u001b[0m \u001b[32m━━━━━━━━━━━━━━━━━━━━\u001b[0m\u001b[37m\u001b[0m \u001b[1m33s\u001b[0m 153ms/step - accuracy: 0.8647 - loss: 0.4597 - val_accuracy: 0.8717 - val_loss: 0.4342\n",
      "Epoch 99/100\n",
      "\u001b[1m213/213\u001b[0m \u001b[32m━━━━━━━━━━━━━━━━━━━━\u001b[0m\u001b[37m\u001b[0m \u001b[1m32s\u001b[0m 149ms/step - accuracy: 0.8496 - loss: 0.4835 - val_accuracy: 0.8717 - val_loss: 0.4532\n",
      "Epoch 100/100\n",
      "\u001b[1m213/213\u001b[0m \u001b[32m━━━━━━━━━━━━━━━━━━━━\u001b[0m\u001b[37m\u001b[0m \u001b[1m33s\u001b[0m 155ms/step - accuracy: 0.8563 - loss: 0.4822 - val_accuracy: 0.8743 - val_loss: 0.4382\n",
      "Fold 1 - Validation Loss: 0.4382, Validation Accuracy: 0.8743\n",
      "\n",
      "10-Fold Cross-Validation Results:\n",
      "Average Validation Loss: 0.4382\n",
      "Average Validation Accuracy: 0.8743\n"
     ]
    }
   ],
   "source": [
    "# Initialize KFold with 10 splits\n",
    "kf = KFold(n_splits=10, shuffle=True, random_state=42)\n",
    "# Initialize lists to store validation scores for each fold\n",
    "val_losses = []\n",
    "val_accuracies = []\n",
    "initializer = RandomNormal(mean=0.0, stddev=0.1)\n",
    "# Loop through each fold\n",
    "for fold, (train_index, val_index) in enumerate(kf.split(X_all)):\n",
    "    print(f\"Training fold {fold + 1}...\")\n",
    "\n",
    "    # Split data into training and validation sets for this fold\n",
    "    X_train, X_val = X_all[train_index], X_all[val_index]\n",
    "    y_train, y_val = y_all[train_index], y_all[val_index]\n",
    "\n",
    "    history = eegnet_model.fit(X_train, y_train, batch_size=32, epochs=100, verbose=1,\n",
    "                        validation_data=(X_val, y_val))\n",
    "\n",
    "    # Get the final validation loss and accuracy for this fold\n",
    "    loss = history.history['val_loss'][-1]\n",
    "    accuracy = history.history['val_accuracy'][-1]\n",
    "\n",
    "\n",
    "    # Store the results\n",
    "    val_losses.append(loss)\n",
    "    val_accuracies.append(accuracy)\n",
    "\n",
    "    print(f\"Fold {fold + 1} - Validation Loss: {loss:.4f}, Validation Accuracy: {accuracy:.4f}\")\n",
    "    break # End at first fold\n",
    "\n",
    "# Calculate average performance across all folds\n",
    "avg_loss = np.mean(val_losses)\n",
    "avg_accuracy = np.mean(val_accuracies)\n",
    "\n",
    "print(f\"\\n10-Fold Cross-Validation Results:\")\n",
    "print(f\"Average Validation Loss: {avg_loss:.4f}\")\n",
    "print(f\"Average Validation Accuracy: {avg_accuracy:.4f}\")"
   ]
  },
  {
   "cell_type": "code",
   "execution_count": 41,
   "metadata": {
    "id": "tHfz6lhS6NYk"
   },
   "outputs": [],
   "source": [
    "# Save current model\n",
    "eegnet_model.save_weights(\"first_try_no_aug.weights.h5\")"
   ]
  },
  {
   "cell_type": "code",
   "execution_count": 84,
   "metadata": {
    "id": "p_NIR0mkCFmH"
   },
   "outputs": [],
   "source": [
    "eegnet_model.load_weights(\"first_try_no_aug.weights.h5\")"
   ]
  },
  {
   "cell_type": "code",
   "execution_count": 10,
   "metadata": {
    "colab": {
     "base_uri": "https://localhost:8080/"
    },
    "id": "nnpGY43XBfm8",
    "outputId": "17257653-3d2b-4a0d-9d48-0627bca265cd"
   },
   "outputs": [
    {
     "name": "stdout",
     "output_type": "stream",
     "text": [
      "\u001b[1m840/840\u001b[0m \u001b[32m━━━━━━━━━━━━━━━━━━━━\u001b[0m\u001b[37m\u001b[0m \u001b[1m6s\u001b[0m 7ms/step - accuracy: 0.8901 - loss: 0.3614\n",
      "Test Loss: 0.5043\n",
      "Test Accuracy: 0.8488\n"
     ]
    }
   ],
   "source": [
    "# Test that model is working\n",
    "#loss, accuracy = eegnet_model.evaluate(X_all, y_all, batch_size=1, verbose=1)\n",
    "loss, accuracy = eegnet_model.evaluate(X_test, y_test, batch_size=1, verbose=1)\n",
    "\n",
    "#print(f\"Validation Loss: {loss:.4f}\")\n",
    "#print(f\"Validation Accuracy: {accuracy:.4f}\")\n",
    "print(f\"Test Loss: {loss:.4f}\")\n",
    "print(f\"Test Accuracy: {accuracy:.4f}\")"
   ]
  },
  {
   "cell_type": "code",
   "execution_count": 12,
   "metadata": {},
   "outputs": [
    {
     "name": "stdout",
     "output_type": "stream",
     "text": [
      "[0.43817681074142456]\n",
      "[0.8743386268615723]\n"
     ]
    }
   ],
   "source": [
    "print(val_losses)\n",
    "print(val_accuracies)"
   ]
  },
  {
   "cell_type": "code",
   "execution_count": 17,
   "metadata": {},
   "outputs": [
    {
     "data": {
      "image/png": "[encoded data removed]",
      "text/plain": [
       "<Figure size 1200x500 with 2 Axes>"
      ]
     },
     "metadata": {},
     "output_type": "display_data"
    }
   ],
   "source": [
    "import matplotlib.pyplot as plt\n",
    "\n",
    "\n",
    "train_accuracies = [\n",
    "    0.0461, 0.1730, 0.3980, 0.5320, 0.6231, 0.6826, 0.6816, 0.7109, 0.7268, 0.7454,\n",
    "    0.7509, 0.7562, 0.7449, 0.7554, 0.7728, 0.7687, 0.7783, 0.7746, 0.7823, 0.7966,\n",
    "    0.7865, 0.7937, 0.7969, 0.8023, 0.8128, 0.7983, 0.7908, 0.8051, 0.8115, 0.8019,\n",
    "    0.8138, 0.8235, 0.8058, 0.8250, 0.8128, 0.8158, 0.8179, 0.8153, 0.8202, 0.8191,\n",
    "    0.8238, 0.8114, 0.8289, 0.8204, 0.8356, 0.8317, 0.8149, 0.8334, 0.8321, 0.8232,\n",
    "    0.8316, 0.8263, 0.8363, 0.8367, 0.8349, 0.8337, 0.8416, 0.8415, 0.8341, 0.8320,\n",
    "    0.8275, 0.8358, 0.8239, 0.8345, 0.8506, 0.8430, 0.8378, 0.8359, 0.8439, 0.8459,\n",
    "    0.8387, 0.8427, 0.8388, 0.8470, 0.8358, 0.8515, 0.8404, 0.8423, 0.8384, 0.8409,\n",
    "    0.8442, 0.8444, 0.8401, 0.8405, 0.8441, 0.8451, 0.8465, 0.8481, 0.8472, 0.8438,\n",
    "    0.8556, 0.8531, 0.8537, 0.8496, 0.8346, 0.8598, 0.8687, 0.8647, 0.8496, 0.8563\n",
    "]\n",
    "val_accuracies = [\n",
    "    0.0794, 0.3876, 0.5040, 0.6918, 0.7407, 0.7526, 0.7685, 0.7712, 0.8161, 0.8360, \n",
    "    0.8042, 0.8214, 0.8492, 0.8307, 0.8148, 0.8664, 0.8135, 0.8439, 0.8810, 0.8598, \n",
    "    0.8717, 0.8175, 0.8545, 0.8439, 0.8466, 0.8413, 0.8532, 0.8690, 0.8532, 0.8399, \n",
    "    0.8532, 0.8426, 0.8757, 0.8624, 0.8347, 0.8558, 0.8505, 0.8638, 0.8386, 0.8981, \n",
    "    0.8876, 0.8849, 0.8942, 0.8796, 0.8505, 0.8836, 0.8862, 0.8730, 0.8849, 0.8624, \n",
    "    0.8849, 0.8810, 0.8915, 0.8915, 0.8902, 0.8823, 0.8638, 0.9048, 0.8796, 0.8267, \n",
    "    0.8955, 0.8876, 0.8690, 0.8955, 0.8426, 0.8981, 0.8810, 0.8770, 0.8836, 0.8730, \n",
    "    0.8942, 0.8770, 0.8704, 0.8929, 0.8638, 0.8929, 0.8823, 0.8757, 0.8942, 0.8836, \n",
    "    0.8862, 0.8876, 0.8915, 0.8876, 0.8730, 0.8558, 0.8730, 0.8717, 0.8611, 0.8955, \n",
    "    0.8942, 0.8783, 0.8929, 0.8532, 0.9034, 0.8889, 0.8783, 0.8717, 0.8717, 0.8743\n",
    "]\n",
    "\n",
    "train_losses = [\n",
    "    3.5824, 2.8204, 2.2148, 1.8780, 1.6615, 1.4963, 1.4154, 1.3267, 1.2599, 1.1592,\n",
    "    1.1190, 1.1041, 1.0687, 1.0219, 0.9684, 0.9407, 0.9255, 0.8997, 0.8855, 0.8507,\n",
    "    0.8349, 0.8161, 0.8064, 0.7749, 0.7604, 0.7735, 0.7644, 0.7260, 0.7152, 0.7334,\n",
    "    0.6897, 0.6672, 0.6880, 0.6626, 0.6607, 0.6636, 0.6454, 0.6392, 0.6262, 0.6491,\n",
    "    0.6286, 0.6358, 0.5992, 0.6152, 0.5949, 0.6010, 0.6079, 0.5875, 0.5965, 0.6098,\n",
    "    0.5760, 0.5959, 0.5756, 0.5629, 0.5493, 0.5658, 0.5460, 0.5560, 0.5405, 0.5571,\n",
    "    0.5706, 0.5430, 0.5578, 0.5437, 0.5160, 0.5233, 0.5429, 0.5292, 0.5276, 0.4991,\n",
    "    0.5230, 0.5174, 0.5310, 0.5202, 0.5491, 0.5030, 0.5108, 0.4996, 0.4937, 0.5211,\n",
    "    0.4977, 0.5148, 0.5165, 0.5123, 0.5128, 0.5079, 0.5112, 0.4950, 0.5034, 0.5062,\n",
    "    0.4792, 0.4739, 0.4749, 0.4760, 0.5249, 0.4541, 0.4370, 0.4597, 0.4835, 0.4822\n",
    "]\n",
    "val_losses = [\n",
    "    3.3327, 2.3090, 1.8280, 1.5068, 1.3197, 1.2180, 1.1670, 1.1128, 1.0354, 0.9538, \n",
    "    0.9184, 0.8771, 0.8375, 0.8011, 0.8565, 0.7374, 0.7778, 0.7091, 0.6644, 0.6829, \n",
    "    0.6711, 0.6933, 0.6322, 0.6684, 0.6462, 0.6437, 0.5958, 0.5588, 0.5809, 0.6015, \n",
    "    0.5944, 0.5950, 0.5366, 0.5322, 0.5959, 0.5491, 0.5856, 0.5165, 0.5618, 0.4855, \n",
    "    0.4675, 0.4989, 0.4737, 0.4659, 0.5439, 0.4718, 0.4793, 0.4823, 0.4650, 0.4937, \n",
    "    0.4787, 0.4813, 0.4497, 0.4379, 0.4321, 0.4455, 0.4782, 0.4207, 0.4623, 0.5611, \n",
    "    0.4228, 0.4386, 0.4557, 0.4270, 0.5237, 0.4037, 0.4327, 0.4362, 0.4368, 0.4545, \n",
    "    0.4389, 0.4337, 0.4307, 0.3973, 0.4648, 0.4180, 0.4406, 0.4580, 0.4000, 0.4157, \n",
    "    0.4129, 0.4067, 0.4098, 0.4184, 0.4158, 0.4867, 0.4323, 0.4461, 0.4609, 0.3847, \n",
    "    0.4192, 0.4236, 0.3998, 0.4655, 0.3834, 0.3969, 0.4059, 0.4342, 0.4532, 0.4382\n",
    "]\n",
    "\n",
    "\n",
    "epochs = range(1, len(val_losses) + 1)\n",
    "\n",
    "plt.figure(figsize=(12, 5))\n",
    "\n",
    "plt.subplot(1, 2, 1)\n",
    "plt.plot(epochs, val_losses, 'b-', linewidth=2, label='Validation Loss')\n",
    "plt.plot(epochs, train_losses, 'r-', linewidth=2, label='Training Loss')\n",
    "plt.title('Validation Loss over Epochs')\n",
    "plt.xlabel('Epochs')\n",
    "plt.ylabel('Validation Loss')\n",
    "plt.legend(loc='upper right')\n",
    "plt.grid(True)\n",
    "\n",
    "plt.subplot(1, 2, 2)\n",
    "plt.plot(epochs, val_accuracies, 'b-', linewidth=2, label='Validation Accuracy')\n",
    "plt.plot(epochs, train_accuracies, 'r-', linewidth=2, label='Training Accuracy')\n",
    "plt.title('Validation Accuracy over Epochs')\n",
    "plt.xlabel('Epochs')\n",
    "plt.ylabel('Validation Accuracy (%)')\n",
    "plt.legend(loc='lower right')\n",
    "plt.grid(True)\n",
    "\n",
    "plt.tight_layout()\n",
    "\n",
    "plt.savefig('SSVEP_validation_results.png', dpi=300)\n",
    "plt.show()\n"
   ]
  },
  {
   "cell_type": "markdown",
   "metadata": {
    "id": "FtX06GB_TPkA"
   },
   "source": [
    "# Hybrid EEGNet-CharRNN Model Evaluation on Word Sets"
   ]
  },
  {
   "cell_type": "code",
   "execution_count": 83,
   "metadata": {
    "colab": {
     "base_uri": "https://localhost:8080/"
    },
    "id": "LSusluJ-2oGn",
    "outputId": "e2729dd3-5480-4047-9482-61920b0f1051"
   },
   "outputs": [
    {
     "data": {
      "text/plain": [
       "1717"
      ]
     },
     "execution_count": 83,
     "metadata": {},
     "output_type": "execute_result"
    }
   ],
   "source": [
    "torch.cuda.empty_cache()\n",
    "gc.collect()"
   ]
  },
  {
   "cell_type": "code",
   "execution_count": 45,
   "metadata": {
    "id": "k8tlA0mRlmdY"
   },
   "outputs": [],
   "source": [
    "def hybrid_model_prediction(eegnet_model, charrnn_model, char2idx, word, subject_word_data, alpha, device):\n",
    "    \"\"\"\n",
    "    Passes a word's EEG data sequence to both EEGNet and Char-RNN models.\n",
    "\n",
    "    Parameters:\n",
    "    - eegnet_model: Pre-trained EEGNet model.\n",
    "    - charrnn_model: Pre-trained Char-RNN model.\n",
    "    - word: The word to process (e.g., 'because').\n",
    "    - subject_word_data: The EEG data for the subject (shape [word_length, 64, 250]).\n",
    "    - alpha: Weight for combining predictions.\n",
    "    - device: Device to use ('cpu' or 'cuda').\n",
    "\n",
    "    Returns:\n",
    "    - Predicted string based on EEGNet and Char-RNN combined predictions.\n",
    "    \"\"\"\n",
    "\n",
    "    # Ensure the word contains only letters\n",
    "    assert word.isalpha(), f\"The provided word '{word}' must contain only alphabetic characters.\"\n",
    "\n",
    "    # Ensure the word length is the same as the data length\n",
    "    assert len(word) == subject_word_data.shape[0], (\n",
    "        f\"The length of the word ({len(word)}) must match the first dimension of subject_word_data ({subject_word_data.shape[0]})\"\n",
    "    )\n",
    "\n",
    "    word = word.upper()\n",
    "    predicted_string = \"\"\n",
    "    charrnn_model.eval()\n",
    "\n",
    "    # Prepare EEGNet predictions\n",
    "    eegnet_inputs = np.expand_dims(subject_word_data, axis=-1)  # Shape: [word_length, 64, 250, 1]\n",
    "    eegnet_preds_np = eegnet_model(eegnet_inputs).numpy()[:, :26]  # EEGNet predictions for all characters (remove non-alphabetic characters)\n",
    "    eegnet_preds_torch = torch.tensor(eegnet_preds_np, dtype=torch.float32).to(device)\n",
    "\n",
    "    for i in range(len(word)):\n",
    "        if i == 0:  # For the first character, there are no prior predictions from Char-RNN\n",
    "            charrnn_preds = torch.zeros((1, 26), dtype=torch.float32).to(device)\n",
    "        else: # Generate Char-RNN input from the current predicted string\n",
    "            input_tensor = torch.tensor([char2idx[ch] for ch in predicted_string], dtype=torch.long).unsqueeze(0).to(device)\n",
    "            charrnn_logits, _ = charrnn_model(input_tensor)\n",
    "            charrnn_preds = F.softmax(charrnn_logits[:, -1, :], dim=-1)[:, :26]  # Take prediction for the next character, also remove the index for space\n",
    "\n",
    "        # Combine predictions from EEGNet and Char-RNN\n",
    "        combined_preds = alpha * eegnet_preds_torch[i] + (1 - alpha) * charrnn_preds\n",
    "\n",
    "        # Get the predicted character\n",
    "        predicted_class = torch.argmax(combined_preds, dim=-1).item()\n",
    "        predicted_char = chr(predicted_class + ord('A'))\n",
    "\n",
    "        # Append to the predicted string\n",
    "        predicted_string += predicted_char\n",
    "\n",
    "    return predicted_string\n"
   ]
  },
  {
   "cell_type": "code",
   "execution_count": 46,
   "metadata": {
    "id": "4j5LkaQeU4-X"
   },
   "outputs": [],
   "source": [
    "def evaluate_wordset_accuracy(subject_words_dir, wordset, eegnet_model, charrnn_model, char2idx, alpha, device):\n",
    "    \"\"\"\n",
    "    Evaluate the accuracy of the hybrid model on a specific wordset.\n",
    "\n",
    "    Parameters:\n",
    "    - subject_words_dir: Directory containing subject word files.\n",
    "    - wordset: Wordset identifier (e.g., \"commonwords\").\n",
    "    - eegnet_model: Pretrained EEGNet model.\n",
    "    - charrnn_model: Pretrained Char-RNN model.\n",
    "    - char2idx: Mapping of characters to indices for the Char-RNN.\n",
    "    - alpha: Weight for the EEGNet model in hybrid prediction.\n",
    "    - device: Device (CPU or GPU) for computation.\n",
    "\n",
    "    Returns:\n",
    "    - average_accuracy: Average accuracy across all subjects.\n",
    "    \"\"\"\n",
    "    # Identify relevant files\n",
    "    all_subject_files = [f for f in os.listdir(subject_words_dir) if f.endswith(f'{wordset}.npy')]\n",
    "\n",
    "    total_accuracy = 0\n",
    "    num_words_total = 0\n",
    "\n",
    "    for subject_file in all_subject_files:\n",
    "        subject_total_accuracy = 0\n",
    "        num_words_subject = 0\n",
    "\n",
    "        # Load the subject's word data\n",
    "        subject_words = np.load(os.path.join(subject_words_dir, subject_file), allow_pickle=True).item()\n",
    "        subject_words = {key.upper(): value for key, value in subject_words.items()} # Convert all characters to uppercase, NOT REDUNDANT\n",
    "\n",
    "        # Evaluate each word\n",
    "        for target_word, target_data in subject_words.items():\n",
    "            result = hybrid_model_prediction(\n",
    "                eegnet_model=eegnet_model,\n",
    "                charrnn_model=charrnn_model,\n",
    "                char2idx=char2idx,\n",
    "                word=target_word,\n",
    "                subject_word_data=target_data,\n",
    "                alpha=alpha,\n",
    "                device=device\n",
    "            )\n",
    "\n",
    "            correct_chars = sum(1 for t, r in zip(target_word, result) if t == r)\n",
    "            accuracy = correct_chars / len(target_word)\n",
    "\n",
    "            subject_total_accuracy += accuracy\n",
    "            num_words_subject += 1\n",
    "\n",
    "            #break\n",
    "\n",
    "        # Calculate subject-specific accuracy\n",
    "        subject_accuracy = subject_total_accuracy / num_words_subject if num_words_subject > 0 else 0\n",
    "        #print(f\"Subject '{subject_file}' Accuracy: {subject_accuracy:.4f}\")\n",
    "        if subject_file.startswith(\"S1_\"): # These are two unseen subjects, good for testing\n",
    "            print(f\"Unseen Subject 1 Accuracy: {subject_accuracy:.4f}\")\n",
    "            s1_accuracy = subject_accuracy\n",
    "        elif subject_file.startswith(\"S9_\"):\n",
    "            print(f\"Unseen Subject 9 Accuracy: {subject_accuracy:.4f}\")\n",
    "            s9_accuracy = subject_accuracy\n",
    "\n",
    "        # Accumulate total accuracy\n",
    "        total_accuracy += subject_total_accuracy\n",
    "        num_words_total += num_words_subject\n",
    "\n",
    "        #break\n",
    "\n",
    "    # Calculate overall average accuracy\n",
    "    unseen_accuracy = (s1_accuracy + s9_accuracy)/2\n",
    "    average_accuracy = total_accuracy / num_words_total if num_words_total > 0 else 0\n",
    "    print(\"=\" * 30)\n",
    "    print(f\"Average Accuracy of Unseen Subjects: {unseen_accuracy:.4f}\")\n",
    "    print(f\"Total Average Accuracy Across All Subjects: {average_accuracy:.4f}\")\n",
    "\n",
    "    return average_accuracy\n"
   ]
  },
  {
   "cell_type": "markdown",
   "metadata": {
    "id": "U8vcsAIkJJtf"
   },
   "source": [
    "## Dataset = Top 100 most common English words\n",
    "\n",
    "Takes ~1 min to evaluate."
   ]
  },
  {
   "cell_type": "code",
   "execution_count": 47,
   "metadata": {
    "colab": {
     "base_uri": "https://localhost:8080/"
    },
    "id": "nUGj2HsZiHos",
    "outputId": "a6ef5958-d856-4af6-8dfb-a4cae8e7fe60"
   },
   "outputs": [
    {
     "name": "stdout",
     "output_type": "stream",
     "text": [
      "Unseen Subject 1 Accuracy: 0.9224\n",
      "Unseen Subject 9 Accuracy: 0.9377\n",
      "==============================\n",
      "Average Accuracy of Unseen Subjects: 0.9301\n",
      "Total Average Accuracy Across All Subjects: 0.9608\n"
     ]
    }
   ],
   "source": [
    "# ALPHA = 1 SO ONLY EEGNET, DATASET = COMMON WORDS\n",
    "wordset = \"commonwords\"\n",
    "alpha = 1\n",
    "\n",
    "# Call the evaluation function\n",
    "average_accuracy = evaluate_wordset_accuracy(\n",
    "    subject_words_dir=subject_words_dir,\n",
    "    wordset=wordset,\n",
    "    eegnet_model=eegnet_model,\n",
    "    charrnn_model=charrnn_model,\n",
    "    char2idx=char2idx,\n",
    "    alpha=alpha,\n",
    "    device=device\n",
    ")"
   ]
  },
  {
   "cell_type": "code",
   "execution_count": 49,
   "metadata": {
    "colab": {
     "base_uri": "https://localhost:8080/"
    },
    "id": "v1-4M-nINvts",
    "outputId": "62375425-a280-4a25-eb7b-89f49ad7d8e7"
   },
   "outputs": [
    {
     "name": "stdout",
     "output_type": "stream",
     "text": [
      "Unseen Subject 1 Accuracy: 0.9224\n",
      "Unseen Subject 9 Accuracy: 0.9377\n",
      "==============================\n",
      "Average Accuracy of Unseen Subjects: 0.9301\n",
      "Total Average Accuracy Across All Subjects: 0.9611\n"
     ]
    }
   ],
   "source": [
    "# ALPHA = 0.95, DATASET = COMMON WORDS\n",
    "wordset = \"commonwords\"\n",
    "alpha = 0.95\n",
    "\n",
    "# Call the evaluation function\n",
    "average_accuracy = evaluate_wordset_accuracy(\n",
    "    subject_words_dir=subject_words_dir,\n",
    "    wordset=wordset,\n",
    "    eegnet_model=eegnet_model,\n",
    "    charrnn_model=charrnn_model,\n",
    "    char2idx=char2idx,\n",
    "    alpha=alpha,\n",
    "    device=device\n",
    ")"
   ]
  },
  {
   "cell_type": "code",
   "execution_count": 50,
   "metadata": {
    "colab": {
     "base_uri": "https://localhost:8080/"
    },
    "id": "4xL45s0xC4rl",
    "outputId": "92479422-6328-42c6-e8dc-5a5d484ebbbf"
   },
   "outputs": [
    {
     "name": "stdout",
     "output_type": "stream",
     "text": [
      "Unseen Subject 1 Accuracy: 0.9269\n",
      "Unseen Subject 9 Accuracy: 0.9377\n",
      "==============================\n",
      "Average Accuracy of Unseen Subjects: 0.9323\n",
      "Total Average Accuracy Across All Subjects: 0.9617\n"
     ]
    }
   ],
   "source": [
    "# ALPHA = 0.9, DATASET = COMMON WORDS\n",
    "wordset = \"commonwords\"\n",
    "alpha = 0.9\n",
    "\n",
    "# Call the evaluation function\n",
    "average_accuracy = evaluate_wordset_accuracy(\n",
    "    subject_words_dir=subject_words_dir,\n",
    "    wordset=wordset,\n",
    "    eegnet_model=eegnet_model,\n",
    "    charrnn_model=charrnn_model,\n",
    "    char2idx=char2idx,\n",
    "    alpha=alpha,\n",
    "    device=device\n",
    ")"
   ]
  },
  {
   "cell_type": "code",
   "execution_count": 51,
   "metadata": {
    "colab": {
     "base_uri": "https://localhost:8080/"
    },
    "id": "AL_BDehpE82K",
    "outputId": "45b6ea06-f37c-4887-84ed-b8705374837b"
   },
   "outputs": [
    {
     "name": "stdout",
     "output_type": "stream",
     "text": [
      "Unseen Subject 1 Accuracy: 0.9286\n",
      "Unseen Subject 9 Accuracy: 0.9404\n",
      "==============================\n",
      "Average Accuracy of Unseen Subjects: 0.9345\n",
      "Total Average Accuracy Across All Subjects: 0.9627\n"
     ]
    }
   ],
   "source": [
    "# ALPHA = 0.85, DATASET = COMMON WORDS\n",
    "wordset = \"commonwords\"\n",
    "alpha = 0.85\n",
    "\n",
    "# Call the evaluation function\n",
    "average_accuracy = evaluate_wordset_accuracy(\n",
    "    subject_words_dir=subject_words_dir,\n",
    "    wordset=wordset,\n",
    "    eegnet_model=eegnet_model,\n",
    "    charrnn_model=charrnn_model,\n",
    "    char2idx=char2idx,\n",
    "    alpha=alpha,\n",
    "    device=device\n",
    ")"
   ]
  },
  {
   "cell_type": "code",
   "execution_count": 52,
   "metadata": {
    "colab": {
     "base_uri": "https://localhost:8080/"
    },
    "id": "6kQ-BVHSPJge",
    "outputId": "ce33816b-c677-4777-f7b2-4e20e000f1a9"
   },
   "outputs": [
    {
     "name": "stdout",
     "output_type": "stream",
     "text": [
      "Unseen Subject 1 Accuracy: 0.9286\n",
      "Unseen Subject 9 Accuracy: 0.9429\n",
      "==============================\n",
      "Average Accuracy of Unseen Subjects: 0.9357\n",
      "Total Average Accuracy Across All Subjects: 0.9633\n"
     ]
    }
   ],
   "source": [
    "# ALPHA = 0.825, DATASET = COMMON WORDS\n",
    "wordset = \"commonwords\"\n",
    "alpha = 0.825\n",
    "\n",
    "# Call the evaluation function\n",
    "average_accuracy = evaluate_wordset_accuracy(\n",
    "    subject_words_dir=subject_words_dir,\n",
    "    wordset=wordset,\n",
    "    eegnet_model=eegnet_model,\n",
    "    charrnn_model=charrnn_model,\n",
    "    char2idx=char2idx,\n",
    "    alpha=alpha,\n",
    "    device=device\n",
    ")"
   ]
  },
  {
   "cell_type": "code",
   "execution_count": 53,
   "metadata": {
    "colab": {
     "base_uri": "https://localhost:8080/"
    },
    "id": "dbk8-DdxDJ_Y",
    "outputId": "07e53d02-b533-4211-9317-f48c41159b36"
   },
   "outputs": [
    {
     "name": "stdout",
     "output_type": "stream",
     "text": [
      "Unseen Subject 1 Accuracy: 0.9286\n",
      "Unseen Subject 9 Accuracy: 0.9429\n",
      "==============================\n",
      "Average Accuracy of Unseen Subjects: 0.9357\n",
      "Total Average Accuracy Across All Subjects: 0.9637\n"
     ]
    }
   ],
   "source": [
    "# ALPHA = 0.8, DATASET = COMMON WORDS\n",
    "wordset = \"commonwords\"\n",
    "alpha = 0.8\n",
    "\n",
    "# Call the evaluation function\n",
    "average_accuracy = evaluate_wordset_accuracy(\n",
    "    subject_words_dir=subject_words_dir,\n",
    "    wordset=wordset,\n",
    "    eegnet_model=eegnet_model,\n",
    "    charrnn_model=charrnn_model,\n",
    "    char2idx=char2idx,\n",
    "    alpha=alpha,\n",
    "    device=device\n",
    ")"
   ]
  },
  {
   "cell_type": "code",
   "execution_count": 54,
   "metadata": {
    "colab": {
     "base_uri": "https://localhost:8080/"
    },
    "id": "q3xbwaYLPOOo",
    "outputId": "bf8346f3-72c3-4379-e4b1-ca7df62dbf4f"
   },
   "outputs": [
    {
     "name": "stdout",
     "output_type": "stream",
     "text": [
      "Unseen Subject 1 Accuracy: 0.9286\n",
      "Unseen Subject 9 Accuracy: 0.9429\n",
      "==============================\n",
      "Average Accuracy of Unseen Subjects: 0.9357\n",
      "Total Average Accuracy Across All Subjects: 0.9642\n"
     ]
    }
   ],
   "source": [
    "# ALPHA = 0.775, DATASET = COMMON WORDS\n",
    "wordset = \"commonwords\"\n",
    "alpha = 0.775\n",
    "\n",
    "# Call the evaluation function\n",
    "average_accuracy = evaluate_wordset_accuracy(\n",
    "    subject_words_dir=subject_words_dir,\n",
    "    wordset=wordset,\n",
    "    eegnet_model=eegnet_model,\n",
    "    charrnn_model=charrnn_model,\n",
    "    char2idx=char2idx,\n",
    "    alpha=alpha,\n",
    "    device=device\n",
    ")"
   ]
  },
  {
   "cell_type": "code",
   "execution_count": 55,
   "metadata": {
    "colab": {
     "base_uri": "https://localhost:8080/"
    },
    "id": "ue4N5YAME-eM",
    "outputId": "67559b7f-dbbc-45f9-9c1b-b02b5472da15"
   },
   "outputs": [
    {
     "name": "stdout",
     "output_type": "stream",
     "text": [
      "Unseen Subject 1 Accuracy: 0.9286\n",
      "Unseen Subject 9 Accuracy: 0.9429\n",
      "==============================\n",
      "Average Accuracy of Unseen Subjects: 0.9357\n",
      "Total Average Accuracy Across All Subjects: 0.9642\n"
     ]
    }
   ],
   "source": [
    "# ALPHA = 0.75, DATASET = COMMON WORDS\n",
    "wordset = \"commonwords\"\n",
    "alpha = 0.75\n",
    "\n",
    "# Call the evaluation function\n",
    "average_accuracy = evaluate_wordset_accuracy(\n",
    "    subject_words_dir=subject_words_dir,\n",
    "    wordset=wordset,\n",
    "    eegnet_model=eegnet_model,\n",
    "    charrnn_model=charrnn_model,\n",
    "    char2idx=char2idx,\n",
    "    alpha=alpha,\n",
    "    device=device\n",
    ")"
   ]
  },
  {
   "cell_type": "code",
   "execution_count": 56,
   "metadata": {
    "colab": {
     "base_uri": "https://localhost:8080/"
    },
    "id": "UurCIPvQMq_g",
    "outputId": "7597df38-190c-402b-d8a4-a7510d17a8fe"
   },
   "outputs": [
    {
     "name": "stdout",
     "output_type": "stream",
     "text": [
      "Unseen Subject 1 Accuracy: 0.9286\n",
      "Unseen Subject 9 Accuracy: 0.9429\n",
      "==============================\n",
      "Average Accuracy of Unseen Subjects: 0.9357\n",
      "Total Average Accuracy Across All Subjects: 0.9646\n"
     ]
    }
   ],
   "source": [
    "# ALPHA = 0.725, DATASET = COMMON WORDS\n",
    "wordset = \"commonwords\"\n",
    "alpha = 0.725\n",
    "\n",
    "# Call the evaluation function\n",
    "average_accuracy = evaluate_wordset_accuracy(\n",
    "    subject_words_dir=subject_words_dir,\n",
    "    wordset=wordset,\n",
    "    eegnet_model=eegnet_model,\n",
    "    charrnn_model=charrnn_model,\n",
    "    char2idx=char2idx,\n",
    "    alpha=alpha,\n",
    "    device=device\n",
    ")"
   ]
  },
  {
   "cell_type": "code",
   "execution_count": 57,
   "metadata": {
    "colab": {
     "base_uri": "https://localhost:8080/"
    },
    "id": "G8PuQHhhG2z1",
    "outputId": "adaacf45-a3dd-405a-97ce-c2f84fb8d15f"
   },
   "outputs": [
    {
     "name": "stdout",
     "output_type": "stream",
     "text": [
      "Unseen Subject 1 Accuracy: 0.9339\n",
      "Unseen Subject 9 Accuracy: 0.9412\n",
      "==============================\n",
      "Average Accuracy of Unseen Subjects: 0.9376\n",
      "Total Average Accuracy Across All Subjects: 0.9648\n"
     ]
    }
   ],
   "source": [
    "# ALPHA = 0.7, DATASET = COMMON WORDS\n",
    "wordset = \"commonwords\"\n",
    "alpha = 0.7\n",
    "\n",
    "# Call the evaluation function\n",
    "average_accuracy = evaluate_wordset_accuracy(\n",
    "    subject_words_dir=subject_words_dir,\n",
    "    wordset=wordset,\n",
    "    eegnet_model=eegnet_model,\n",
    "    charrnn_model=charrnn_model,\n",
    "    char2idx=char2idx,\n",
    "    alpha=alpha,\n",
    "    device=device\n",
    ")"
   ]
  },
  {
   "cell_type": "code",
   "execution_count": 58,
   "metadata": {
    "colab": {
     "base_uri": "https://localhost:8080/"
    },
    "id": "mNFcqvB0MvUS",
    "outputId": "85d125cd-97f4-46aa-fc9c-7be7a5e0346f"
   },
   "outputs": [
    {
     "name": "stdout",
     "output_type": "stream",
     "text": [
      "Unseen Subject 1 Accuracy: 0.9339\n",
      "Unseen Subject 9 Accuracy: 0.9412\n",
      "==============================\n",
      "Average Accuracy of Unseen Subjects: 0.9376\n",
      "Total Average Accuracy Across All Subjects: 0.9649\n"
     ]
    }
   ],
   "source": [
    "# ALPHA = 0.675, DATASET = COMMON WORDS\n",
    "wordset = \"commonwords\"\n",
    "alpha = 0.675\n",
    "\n",
    "# Call the evaluation function\n",
    "average_accuracy = evaluate_wordset_accuracy(\n",
    "    subject_words_dir=subject_words_dir,\n",
    "    wordset=wordset,\n",
    "    eegnet_model=eegnet_model,\n",
    "    charrnn_model=charrnn_model,\n",
    "    char2idx=char2idx,\n",
    "    alpha=alpha,\n",
    "    device=device\n",
    ")"
   ]
  },
  {
   "cell_type": "code",
   "execution_count": 59,
   "metadata": {
    "colab": {
     "base_uri": "https://localhost:8080/"
    },
    "id": "uMKKX5cWAK8H",
    "outputId": "50b5906d-b0fb-457c-ddec-1994ae8e0962"
   },
   "outputs": [
    {
     "name": "stdout",
     "output_type": "stream",
     "text": [
      "Unseen Subject 1 Accuracy: 0.9339\n",
      "Unseen Subject 9 Accuracy: 0.9387\n",
      "==============================\n",
      "Average Accuracy of Unseen Subjects: 0.9363\n",
      "Total Average Accuracy Across All Subjects: 0.9648\n"
     ]
    }
   ],
   "source": [
    "# ALPHA = 0.65, DATASET = COMMON WORDS\n",
    "wordset = \"commonwords\"\n",
    "alpha = 0.65\n",
    "\n",
    "# Call the evaluation function\n",
    "average_accuracy = evaluate_wordset_accuracy(\n",
    "    subject_words_dir=subject_words_dir,\n",
    "    wordset=wordset,\n",
    "    eegnet_model=eegnet_model,\n",
    "    charrnn_model=charrnn_model,\n",
    "    char2idx=char2idx,\n",
    "    alpha=alpha,\n",
    "    device=device\n",
    ")"
   ]
  },
  {
   "cell_type": "code",
   "execution_count": 60,
   "metadata": {
    "colab": {
     "base_uri": "https://localhost:8080/"
    },
    "id": "EMTajVI-Hr46",
    "outputId": "5bf6e638-17a6-4a8d-a6f1-4f51afd62b8c"
   },
   "outputs": [
    {
     "name": "stdout",
     "output_type": "stream",
     "text": [
      "Unseen Subject 1 Accuracy: 0.9348\n",
      "Unseen Subject 9 Accuracy: 0.9404\n",
      "==============================\n",
      "Average Accuracy of Unseen Subjects: 0.9376\n",
      "Total Average Accuracy Across All Subjects: 0.9645\n"
     ]
    }
   ],
   "source": [
    "# ALPHA = 0.6, DATASET = COMMON WORDS\n",
    "wordset = \"commonwords\"\n",
    "alpha = 0.6\n",
    "\n",
    "# Call the evaluation function\n",
    "average_accuracy = evaluate_wordset_accuracy(\n",
    "    subject_words_dir=subject_words_dir,\n",
    "    wordset=wordset,\n",
    "    eegnet_model=eegnet_model,\n",
    "    charrnn_model=charrnn_model,\n",
    "    char2idx=char2idx,\n",
    "    alpha=alpha,\n",
    "    device=device\n",
    ")"
   ]
  },
  {
   "cell_type": "code",
   "execution_count": 61,
   "metadata": {
    "colab": {
     "base_uri": "https://localhost:8080/"
    },
    "id": "YfCx7C3pPVoz",
    "outputId": "e6e9ff04-236a-46e9-f5e9-011be186154f"
   },
   "outputs": [
    {
     "name": "stdout",
     "output_type": "stream",
     "text": [
      "Unseen Subject 1 Accuracy: 0.9348\n",
      "Unseen Subject 9 Accuracy: 0.9379\n",
      "==============================\n",
      "Average Accuracy of Unseen Subjects: 0.9364\n",
      "Total Average Accuracy Across All Subjects: 0.9603\n"
     ]
    }
   ],
   "source": [
    "# ALPHA = 0.5, DATASET = COMMON WORDS\n",
    "wordset = \"commonwords\"\n",
    "alpha = 0.5\n",
    "\n",
    "# Call the evaluation function\n",
    "average_accuracy = evaluate_wordset_accuracy(\n",
    "    subject_words_dir=subject_words_dir,\n",
    "    wordset=wordset,\n",
    "    eegnet_model=eegnet_model,\n",
    "    charrnn_model=charrnn_model,\n",
    "    char2idx=char2idx,\n",
    "    alpha=alpha,\n",
    "    device=device\n",
    ")"
   ]
  },
  {
   "cell_type": "markdown",
   "metadata": {
    "id": "N-QEe4qbG3UB"
   },
   "source": [
    "## Dataset = Top 100 most common English words that are at least 7 letters long"
   ]
  },
  {
   "cell_type": "code",
   "execution_count": 62,
   "metadata": {
    "colab": {
     "base_uri": "https://localhost:8080/"
    },
    "id": "E9XrouhUFWoK",
    "outputId": "7ccfeaa7-e314-408b-ee99-9bb2e27dcb16"
   },
   "outputs": [
    {
     "name": "stdout",
     "output_type": "stream",
     "text": [
      "Unseen Subject 1 Accuracy: 0.9281\n",
      "Unseen Subject 9 Accuracy: 0.9432\n",
      "==============================\n",
      "Average Accuracy of Unseen Subjects: 0.9357\n",
      "Total Average Accuracy Across All Subjects: 0.9594\n"
     ]
    }
   ],
   "source": [
    "# ALPHA = 1 SO ONLY EEGNET, DATASET = LONG WORDS\n",
    "wordset = \"longwords\"\n",
    "alpha = 1\n",
    "\n",
    "# Call the evaluation function\n",
    "average_accuracy = evaluate_wordset_accuracy(\n",
    "    subject_words_dir=subject_words_dir,\n",
    "    wordset=wordset,\n",
    "    eegnet_model=eegnet_model,\n",
    "    charrnn_model=charrnn_model,\n",
    "    char2idx=char2idx,\n",
    "    alpha=alpha,\n",
    "    device=device\n",
    ")"
   ]
  },
  {
   "cell_type": "code",
   "execution_count": 63,
   "metadata": {
    "colab": {
     "base_uri": "https://localhost:8080/"
    },
    "id": "ybRdRwOcOA0Y",
    "outputId": "6cfc05a8-9553-4f27-bf33-459f270c7252"
   },
   "outputs": [
    {
     "name": "stdout",
     "output_type": "stream",
     "text": [
      "Unseen Subject 1 Accuracy: 0.9304\n",
      "Unseen Subject 9 Accuracy: 0.9432\n",
      "==============================\n",
      "Average Accuracy of Unseen Subjects: 0.9368\n",
      "Total Average Accuracy Across All Subjects: 0.9608\n"
     ]
    }
   ],
   "source": [
    "# ALPHA = 0.95, DATASET = LONG WORDS\n",
    "wordset = \"longwords\"\n",
    "alpha = 0.95\n",
    "\n",
    "# Call the evaluation function\n",
    "average_accuracy = evaluate_wordset_accuracy(\n",
    "    subject_words_dir=subject_words_dir,\n",
    "    wordset=wordset,\n",
    "    eegnet_model=eegnet_model,\n",
    "    charrnn_model=charrnn_model,\n",
    "    char2idx=char2idx,\n",
    "    alpha=alpha,\n",
    "    device=device\n",
    ")"
   ]
  },
  {
   "cell_type": "code",
   "execution_count": 64,
   "metadata": {
    "colab": {
     "base_uri": "https://localhost:8080/"
    },
    "id": "GzAIGT5cFj_r",
    "outputId": "d02d113a-d04a-475f-e419-33ed66b05a7c"
   },
   "outputs": [
    {
     "name": "stdout",
     "output_type": "stream",
     "text": [
      "Unseen Subject 1 Accuracy: 0.9304\n",
      "Unseen Subject 9 Accuracy: 0.9461\n",
      "==============================\n",
      "Average Accuracy of Unseen Subjects: 0.9382\n",
      "Total Average Accuracy Across All Subjects: 0.9626\n"
     ]
    }
   ],
   "source": [
    "# ALPHA = 0.9, DATASET = LONG WORDS\n",
    "wordset = \"longwords\"\n",
    "alpha = 0.9\n",
    "\n",
    "# Call the evaluation function\n",
    "average_accuracy = evaluate_wordset_accuracy(\n",
    "    subject_words_dir=subject_words_dir,\n",
    "    wordset=wordset,\n",
    "    eegnet_model=eegnet_model,\n",
    "    charrnn_model=charrnn_model,\n",
    "    char2idx=char2idx,\n",
    "    alpha=alpha,\n",
    "    device=device\n",
    ")"
   ]
  },
  {
   "cell_type": "code",
   "execution_count": 65,
   "metadata": {
    "colab": {
     "base_uri": "https://localhost:8080/"
    },
    "id": "6_LpHRP6FDIE",
    "outputId": "bac6729f-8e75-497f-cdbf-b28777c42578"
   },
   "outputs": [
    {
     "name": "stdout",
     "output_type": "stream",
     "text": [
      "Unseen Subject 1 Accuracy: 0.9341\n",
      "Unseen Subject 9 Accuracy: 0.9497\n",
      "==============================\n",
      "Average Accuracy of Unseen Subjects: 0.9419\n",
      "Total Average Accuracy Across All Subjects: 0.9647\n"
     ]
    }
   ],
   "source": [
    "# ALPHA = 0.85, DATASET = LONG WORDS\n",
    "wordset = \"longwords\"\n",
    "alpha = 0.85\n",
    "\n",
    "# Call the evaluation function\n",
    "average_accuracy = evaluate_wordset_accuracy(\n",
    "    subject_words_dir=subject_words_dir,\n",
    "    wordset=wordset,\n",
    "    eegnet_model=eegnet_model,\n",
    "    charrnn_model=charrnn_model,\n",
    "    char2idx=char2idx,\n",
    "    alpha=alpha,\n",
    "    device=device\n",
    ")"
   ]
  },
  {
   "cell_type": "code",
   "execution_count": 66,
   "metadata": {
    "colab": {
     "base_uri": "https://localhost:8080/"
    },
    "id": "iKGu7307M4ao",
    "outputId": "09c43c39-d892-4cdb-bb4d-0eac934a95b1"
   },
   "outputs": [
    {
     "name": "stdout",
     "output_type": "stream",
     "text": [
      "Unseen Subject 1 Accuracy: 0.9341\n",
      "Unseen Subject 9 Accuracy: 0.9497\n",
      "==============================\n",
      "Average Accuracy of Unseen Subjects: 0.9419\n",
      "Total Average Accuracy Across All Subjects: 0.9656\n"
     ]
    }
   ],
   "source": [
    "# ALPHA = 0.825, DATASET = LONG WORDS\n",
    "wordset = \"longwords\"\n",
    "alpha = 0.825\n",
    "\n",
    "# Call the evaluation function\n",
    "average_accuracy = evaluate_wordset_accuracy(\n",
    "    subject_words_dir=subject_words_dir,\n",
    "    wordset=wordset,\n",
    "    eegnet_model=eegnet_model,\n",
    "    charrnn_model=charrnn_model,\n",
    "    char2idx=char2idx,\n",
    "    alpha=alpha,\n",
    "    device=device\n",
    ")"
   ]
  },
  {
   "cell_type": "code",
   "execution_count": 67,
   "metadata": {
    "colab": {
     "base_uri": "https://localhost:8080/"
    },
    "id": "3QHS0aGcGNBw",
    "outputId": "4bbf6f36-71bb-4438-d224-6f389fc8e4c3"
   },
   "outputs": [
    {
     "name": "stdout",
     "output_type": "stream",
     "text": [
      "Unseen Subject 1 Accuracy: 0.9341\n",
      "Unseen Subject 9 Accuracy: 0.9497\n",
      "==============================\n",
      "Average Accuracy of Unseen Subjects: 0.9419\n",
      "Total Average Accuracy Across All Subjects: 0.9661\n"
     ]
    }
   ],
   "source": [
    "# ALPHA = 0.8, DATASET = LONG WORDS\n",
    "wordset = \"longwords\"\n",
    "alpha = 0.8\n",
    "\n",
    "# Call the evaluation function\n",
    "average_accuracy = evaluate_wordset_accuracy(\n",
    "    subject_words_dir=subject_words_dir,\n",
    "    wordset=wordset,\n",
    "    eegnet_model=eegnet_model,\n",
    "    charrnn_model=charrnn_model,\n",
    "    char2idx=char2idx,\n",
    "    alpha=alpha,\n",
    "    device=device\n",
    ")"
   ]
  },
  {
   "cell_type": "code",
   "execution_count": 68,
   "metadata": {
    "colab": {
     "base_uri": "https://localhost:8080/"
    },
    "id": "P70BG8VDxLU9",
    "outputId": "75bb5823-3bd4-4f70-9049-62b8e0d477ec"
   },
   "outputs": [
    {
     "name": "stdout",
     "output_type": "stream",
     "text": [
      "Unseen Subject 1 Accuracy: 0.9440\n",
      "Unseen Subject 9 Accuracy: 0.9497\n",
      "==============================\n",
      "Average Accuracy of Unseen Subjects: 0.9469\n",
      "Total Average Accuracy Across All Subjects: 0.9673\n"
     ]
    }
   ],
   "source": [
    "# ALPHA = 0.775, DATASET = LONG WORDS\n",
    "wordset = \"longwords\"\n",
    "alpha = 0.755\n",
    "\n",
    "# Call the evaluation function\n",
    "average_accuracy = evaluate_wordset_accuracy(\n",
    "    subject_words_dir=subject_words_dir,\n",
    "    wordset=wordset,\n",
    "    eegnet_model=eegnet_model,\n",
    "    charrnn_model=charrnn_model,\n",
    "    char2idx=char2idx,\n",
    "    alpha=alpha,\n",
    "    device=device\n",
    ")"
   ]
  },
  {
   "cell_type": "code",
   "execution_count": 69,
   "metadata": {
    "colab": {
     "base_uri": "https://localhost:8080/"
    },
    "id": "B4w9UCOeFEs2",
    "outputId": "50df8766-b759-4cd3-88eb-29a7d4894e08"
   },
   "outputs": [
    {
     "name": "stdout",
     "output_type": "stream",
     "text": [
      "Unseen Subject 1 Accuracy: 0.9440\n",
      "Unseen Subject 9 Accuracy: 0.9509\n",
      "==============================\n",
      "Average Accuracy of Unseen Subjects: 0.9475\n",
      "Total Average Accuracy Across All Subjects: 0.9672\n"
     ]
    }
   ],
   "source": [
    "# ALPHA = 0.75, DATASET = LONG WORDS\n",
    "wordset = \"longwords\"\n",
    "alpha = 0.75\n",
    "\n",
    "# Call the evaluation function\n",
    "average_accuracy = evaluate_wordset_accuracy(\n",
    "    subject_words_dir=subject_words_dir,\n",
    "    wordset=wordset,\n",
    "    eegnet_model=eegnet_model,\n",
    "    charrnn_model=charrnn_model,\n",
    "    char2idx=char2idx,\n",
    "    alpha=alpha,\n",
    "    device=device\n",
    ")"
   ]
  },
  {
   "cell_type": "code",
   "execution_count": 70,
   "metadata": {
    "colab": {
     "base_uri": "https://localhost:8080/"
    },
    "id": "qASjbWGjxNFc",
    "outputId": "5f623f1f-831a-4848-bb9e-4fbd20d5e4e0"
   },
   "outputs": [
    {
     "name": "stdout",
     "output_type": "stream",
     "text": [
      "Unseen Subject 1 Accuracy: 0.9455\n",
      "Unseen Subject 9 Accuracy: 0.9509\n",
      "==============================\n",
      "Average Accuracy of Unseen Subjects: 0.9482\n",
      "Total Average Accuracy Across All Subjects: 0.9672\n"
     ]
    }
   ],
   "source": [
    "# ALPHA = 0.725, DATASET = LONG WORDS\n",
    "wordset = \"longwords\"\n",
    "alpha = 0.725\n",
    "\n",
    "# Call the evaluation function\n",
    "average_accuracy = evaluate_wordset_accuracy(\n",
    "    subject_words_dir=subject_words_dir,\n",
    "    wordset=wordset,\n",
    "    eegnet_model=eegnet_model,\n",
    "    charrnn_model=charrnn_model,\n",
    "    char2idx=char2idx,\n",
    "    alpha=alpha,\n",
    "    device=device\n",
    ")"
   ]
  },
  {
   "cell_type": "code",
   "execution_count": 71,
   "metadata": {
    "colab": {
     "base_uri": "https://localhost:8080/"
    },
    "id": "2XNIw7c1HaP2",
    "outputId": "c348ecad-a1bd-4860-c213-9e51bf855118"
   },
   "outputs": [
    {
     "name": "stdout",
     "output_type": "stream",
     "text": [
      "Unseen Subject 1 Accuracy: 0.9469\n",
      "Unseen Subject 9 Accuracy: 0.9499\n",
      "==============================\n",
      "Average Accuracy of Unseen Subjects: 0.9484\n",
      "Total Average Accuracy Across All Subjects: 0.9671\n"
     ]
    }
   ],
   "source": [
    "# ALPHA = 0.7, DATASET = LONG WORDS\n",
    "dataset = \"longwords\"\n",
    "alpha = 0.7\n",
    "\n",
    "# Call the evaluation function\n",
    "average_accuracy = evaluate_wordset_accuracy(\n",
    "    subject_words_dir=subject_words_dir,\n",
    "    wordset=wordset,\n",
    "    eegnet_model=eegnet_model,\n",
    "    charrnn_model=charrnn_model,\n",
    "    char2idx=char2idx,\n",
    "    alpha=alpha,\n",
    "    device=device\n",
    ")"
   ]
  },
  {
   "cell_type": "code",
   "execution_count": 72,
   "metadata": {
    "colab": {
     "base_uri": "https://localhost:8080/"
    },
    "id": "B2V_VpDvM7Iu",
    "outputId": "6a2f4b65-1a66-468f-e7b1-b1f16c9faf91"
   },
   "outputs": [
    {
     "name": "stdout",
     "output_type": "stream",
     "text": [
      "Unseen Subject 1 Accuracy: 0.9469\n",
      "Unseen Subject 9 Accuracy: 0.9503\n",
      "==============================\n",
      "Average Accuracy of Unseen Subjects: 0.9486\n",
      "Total Average Accuracy Across All Subjects: 0.9670\n"
     ]
    }
   ],
   "source": [
    "# ALPHA = 0.675, DATASET = LONG WORDS\n",
    "wordset = \"longwords\"\n",
    "alpha = 0.675\n",
    "\n",
    "# Call the evaluation function\n",
    "average_accuracy = evaluate_wordset_accuracy(\n",
    "    subject_words_dir=subject_words_dir,\n",
    "    wordset=wordset,\n",
    "    eegnet_model=eegnet_model,\n",
    "    charrnn_model=charrnn_model,\n",
    "    char2idx=char2idx,\n",
    "    alpha=alpha,\n",
    "    device=device\n",
    ")"
   ]
  },
  {
   "cell_type": "code",
   "execution_count": 73,
   "metadata": {
    "colab": {
     "base_uri": "https://localhost:8080/"
    },
    "id": "l93rewDrCkM4",
    "outputId": "4a7bb100-39ce-4cc9-8581-5488e36ed3e9"
   },
   "outputs": [
    {
     "name": "stdout",
     "output_type": "stream",
     "text": [
      "Unseen Subject 1 Accuracy: 0.9469\n",
      "Unseen Subject 9 Accuracy: 0.9485\n",
      "==============================\n",
      "Average Accuracy of Unseen Subjects: 0.9477\n",
      "Total Average Accuracy Across All Subjects: 0.9668\n"
     ]
    }
   ],
   "source": [
    "# ALPHA = 0.65, DATASET = LONG WORDS\n",
    "dataset = \"longwords\"\n",
    "alpha = 0.65\n",
    "\n",
    "# Call the evaluation function\n",
    "average_accuracy = evaluate_wordset_accuracy(\n",
    "    subject_words_dir=subject_words_dir,\n",
    "    wordset=wordset,\n",
    "    eegnet_model=eegnet_model,\n",
    "    charrnn_model=charrnn_model,\n",
    "    char2idx=char2idx,\n",
    "    alpha=alpha,\n",
    "    device=device\n",
    ")"
   ]
  },
  {
   "cell_type": "code",
   "execution_count": 74,
   "metadata": {
    "colab": {
     "base_uri": "https://localhost:8080/"
    },
    "id": "W6PAy_LFUh5f",
    "outputId": "205469b5-2e20-460d-e526-1aebfaccd795"
   },
   "outputs": [
    {
     "name": "stdout",
     "output_type": "stream",
     "text": [
      "Unseen Subject 1 Accuracy: 0.9502\n",
      "Unseen Subject 9 Accuracy: 0.9486\n",
      "==============================\n",
      "Average Accuracy of Unseen Subjects: 0.9494\n",
      "Total Average Accuracy Across All Subjects: 0.9665\n"
     ]
    }
   ],
   "source": [
    "# ALPHA = 0.6, DATASET = LONG WORDS\n",
    "dataset = \"longwords\"\n",
    "alpha = 0.6\n",
    "\n",
    "# Call the evaluation function\n",
    "average_accuracy = evaluate_wordset_accuracy(\n",
    "    subject_words_dir=subject_words_dir,\n",
    "    wordset=wordset,\n",
    "    eegnet_model=eegnet_model,\n",
    "    charrnn_model=charrnn_model,\n",
    "    char2idx=char2idx,\n",
    "    alpha=alpha,\n",
    "    device=device\n",
    ")"
   ]
  },
  {
   "cell_type": "code",
   "execution_count": 75,
   "metadata": {
    "colab": {
     "base_uri": "https://localhost:8080/"
    },
    "id": "gk_C_uVbUjVH",
    "outputId": "5ab2c120-604f-4f86-eeb5-6cb4b2ab892c"
   },
   "outputs": [
    {
     "name": "stdout",
     "output_type": "stream",
     "text": [
      "Unseen Subject 1 Accuracy: 0.9376\n",
      "Unseen Subject 9 Accuracy: 0.9401\n",
      "==============================\n",
      "Average Accuracy of Unseen Subjects: 0.9389\n",
      "Total Average Accuracy Across All Subjects: 0.9603\n"
     ]
    }
   ],
   "source": [
    "# ALPHA = 0.5, DATASET = LONG WORDS\n",
    "dataset = \"longwords\"\n",
    "alpha = 0.5\n",
    "\n",
    "# Call the evaluation function\n",
    "average_accuracy = evaluate_wordset_accuracy(\n",
    "    subject_words_dir=subject_words_dir,\n",
    "    wordset=wordset,\n",
    "    eegnet_model=eegnet_model,\n",
    "    charrnn_model=charrnn_model,\n",
    "    char2idx=char2idx,\n",
    "    alpha=alpha,\n",
    "    device=device\n",
    ")"
   ]
  },
  {
   "cell_type": "markdown",
   "metadata": {
    "id": "-Fzbduuf0T21"
   },
   "source": [
    "## Dataset = Top 1000 most common English words"
   ]
  },
  {
   "cell_type": "code",
   "execution_count": 76,
   "metadata": {
    "colab": {
     "base_uri": "https://localhost:8080/"
    },
    "id": "peTI8P0p0Wzr",
    "outputId": "061cd58a-9ffc-4d5b-c476-5d3d32ec634d"
   },
   "outputs": [
    {
     "name": "stdout",
     "output_type": "stream",
     "text": [
      "Unseen Subject 1 Accuracy: 0.9313\n",
      "Unseen Subject 9 Accuracy: 0.9289\n",
      "==============================\n",
      "Average Accuracy of Unseen Subjects: 0.9301\n",
      "Total Average Accuracy Across All Subjects: 0.9621\n"
     ]
    }
   ],
   "source": [
    "# ALPHA = 1 SO ONLY EEGNET, DATASET = LOTSOFWORDS (1000 most common)\n",
    "wordset = \"lotsofwords\"\n",
    "alpha = 1\n",
    "\n",
    "# Call the evaluation function\n",
    "average_accuracy = evaluate_wordset_accuracy(\n",
    "    subject_words_dir=subject_words_dir,\n",
    "    wordset=wordset,\n",
    "    eegnet_model=eegnet_model,\n",
    "    charrnn_model=charrnn_model,\n",
    "    char2idx=char2idx,\n",
    "    alpha=alpha,\n",
    "    device=device\n",
    ")"
   ]
  },
  {
   "cell_type": "code",
   "execution_count": 77,
   "metadata": {
    "colab": {
     "base_uri": "https://localhost:8080/"
    },
    "id": "7CUtvtxiRNEq",
    "outputId": "b751d489-c0ba-4601-adfd-bb48850c4b91"
   },
   "outputs": [
    {
     "name": "stdout",
     "output_type": "stream",
     "text": [
      "Unseen Subject 1 Accuracy: 0.9325\n",
      "Unseen Subject 9 Accuracy: 0.9287\n",
      "==============================\n",
      "Average Accuracy of Unseen Subjects: 0.9306\n",
      "Total Average Accuracy Across All Subjects: 0.9628\n"
     ]
    }
   ],
   "source": [
    "# ALPHA = 0.95, DATASET = LOTSOFWORDS (1000 most common)\n",
    "wordset = \"lotsofwords\"\n",
    "alpha = 0.95\n",
    "\n",
    "# Call the evaluation function\n",
    "average_accuracy = evaluate_wordset_accuracy(\n",
    "    subject_words_dir=subject_words_dir,\n",
    "    wordset=wordset,\n",
    "    eegnet_model=eegnet_model,\n",
    "    charrnn_model=charrnn_model,\n",
    "    char2idx=char2idx,\n",
    "    alpha=alpha,\n",
    "    device=device\n",
    ")"
   ]
  },
  {
   "cell_type": "code",
   "execution_count": 85,
   "metadata": {
    "colab": {
     "base_uri": "https://localhost:8080/"
    },
    "id": "GH41M9VJ0nMK",
    "outputId": "a83ebbb4-643f-4fbb-c0a5-4ad973ae04a0"
   },
   "outputs": [
    {
     "ename": "KeyboardInterrupt",
     "evalue": "",
     "output_type": "error",
     "traceback": [
      "\u001b[1;31m---------------------------------------------------------------------------\u001b[0m",
      "\u001b[1;31mKeyboardInterrupt\u001b[0m                         Traceback (most recent call last)",
      "Cell \u001b[1;32mIn[85], line 6\u001b[0m\n\u001b[0;32m      3\u001b[0m alpha \u001b[38;5;241m=\u001b[39m \u001b[38;5;241m0.9\u001b[39m\n\u001b[0;32m      5\u001b[0m \u001b[38;5;66;03m# Call the evaluation function\u001b[39;00m\n\u001b[1;32m----> 6\u001b[0m average_accuracy \u001b[38;5;241m=\u001b[39m \u001b[43mevaluate_wordset_accuracy\u001b[49m\u001b[43m(\u001b[49m\n\u001b[0;32m      7\u001b[0m \u001b[43m    \u001b[49m\u001b[43msubject_words_dir\u001b[49m\u001b[38;5;241;43m=\u001b[39;49m\u001b[43msubject_words_dir\u001b[49m\u001b[43m,\u001b[49m\n\u001b[0;32m      8\u001b[0m \u001b[43m    \u001b[49m\u001b[43mwordset\u001b[49m\u001b[38;5;241;43m=\u001b[39;49m\u001b[43mwordset\u001b[49m\u001b[43m,\u001b[49m\n\u001b[0;32m      9\u001b[0m \u001b[43m    \u001b[49m\u001b[43meegnet_model\u001b[49m\u001b[38;5;241;43m=\u001b[39;49m\u001b[43meegnet_model\u001b[49m\u001b[43m,\u001b[49m\n\u001b[0;32m     10\u001b[0m \u001b[43m    \u001b[49m\u001b[43mcharrnn_model\u001b[49m\u001b[38;5;241;43m=\u001b[39;49m\u001b[43mcharrnn_model\u001b[49m\u001b[43m,\u001b[49m\n\u001b[0;32m     11\u001b[0m \u001b[43m    \u001b[49m\u001b[43mchar2idx\u001b[49m\u001b[38;5;241;43m=\u001b[39;49m\u001b[43mchar2idx\u001b[49m\u001b[43m,\u001b[49m\n\u001b[0;32m     12\u001b[0m \u001b[43m    \u001b[49m\u001b[43malpha\u001b[49m\u001b[38;5;241;43m=\u001b[39;49m\u001b[43malpha\u001b[49m\u001b[43m,\u001b[49m\n\u001b[0;32m     13\u001b[0m \u001b[43m    \u001b[49m\u001b[43mdevice\u001b[49m\u001b[38;5;241;43m=\u001b[39;49m\u001b[43mdevice\u001b[49m\n\u001b[0;32m     14\u001b[0m \u001b[43m)\u001b[49m\n",
      "Cell \u001b[1;32mIn[46], line 33\u001b[0m, in \u001b[0;36mevaluate_wordset_accuracy\u001b[1;34m(subject_words_dir, wordset, eegnet_model, charrnn_model, char2idx, alpha, device)\u001b[0m\n\u001b[0;32m     31\u001b[0m \u001b[38;5;66;03m# Evaluate each word\u001b[39;00m\n\u001b[0;32m     32\u001b[0m \u001b[38;5;28;01mfor\u001b[39;00m target_word, target_data \u001b[38;5;129;01min\u001b[39;00m subject_words\u001b[38;5;241m.\u001b[39mitems():\n\u001b[1;32m---> 33\u001b[0m     result \u001b[38;5;241m=\u001b[39m \u001b[43mhybrid_model_prediction\u001b[49m\u001b[43m(\u001b[49m\n\u001b[0;32m     34\u001b[0m \u001b[43m        \u001b[49m\u001b[43meegnet_model\u001b[49m\u001b[38;5;241;43m=\u001b[39;49m\u001b[43meegnet_model\u001b[49m\u001b[43m,\u001b[49m\n\u001b[0;32m     35\u001b[0m \u001b[43m        \u001b[49m\u001b[43mcharrnn_model\u001b[49m\u001b[38;5;241;43m=\u001b[39;49m\u001b[43mcharrnn_model\u001b[49m\u001b[43m,\u001b[49m\n\u001b[0;32m     36\u001b[0m \u001b[43m        \u001b[49m\u001b[43mchar2idx\u001b[49m\u001b[38;5;241;43m=\u001b[39;49m\u001b[43mchar2idx\u001b[49m\u001b[43m,\u001b[49m\n\u001b[0;32m     37\u001b[0m \u001b[43m        \u001b[49m\u001b[43mword\u001b[49m\u001b[38;5;241;43m=\u001b[39;49m\u001b[43mtarget_word\u001b[49m\u001b[43m,\u001b[49m\n\u001b[0;32m     38\u001b[0m \u001b[43m        \u001b[49m\u001b[43msubject_word_data\u001b[49m\u001b[38;5;241;43m=\u001b[39;49m\u001b[43mtarget_data\u001b[49m\u001b[43m,\u001b[49m\n\u001b[0;32m     39\u001b[0m \u001b[43m        \u001b[49m\u001b[43malpha\u001b[49m\u001b[38;5;241;43m=\u001b[39;49m\u001b[43malpha\u001b[49m\u001b[43m,\u001b[49m\n\u001b[0;32m     40\u001b[0m \u001b[43m        \u001b[49m\u001b[43mdevice\u001b[49m\u001b[38;5;241;43m=\u001b[39;49m\u001b[43mdevice\u001b[49m\n\u001b[0;32m     41\u001b[0m \u001b[43m    \u001b[49m\u001b[43m)\u001b[49m\n\u001b[0;32m     43\u001b[0m     correct_chars \u001b[38;5;241m=\u001b[39m \u001b[38;5;28msum\u001b[39m(\u001b[38;5;241m1\u001b[39m \u001b[38;5;28;01mfor\u001b[39;00m t, r \u001b[38;5;129;01min\u001b[39;00m \u001b[38;5;28mzip\u001b[39m(target_word, result) \u001b[38;5;28;01mif\u001b[39;00m t \u001b[38;5;241m==\u001b[39m r)\n\u001b[0;32m     44\u001b[0m     accuracy \u001b[38;5;241m=\u001b[39m correct_chars \u001b[38;5;241m/\u001b[39m \u001b[38;5;28mlen\u001b[39m(target_word)\n",
      "Cell \u001b[1;32mIn[45], line 46\u001b[0m, in \u001b[0;36mhybrid_model_prediction\u001b[1;34m(eegnet_model, charrnn_model, char2idx, word, subject_word_data, alpha, device)\u001b[0m\n\u001b[0;32m     43\u001b[0m combined_preds \u001b[38;5;241m=\u001b[39m alpha \u001b[38;5;241m*\u001b[39m eegnet_preds_torch[i] \u001b[38;5;241m+\u001b[39m (\u001b[38;5;241m1\u001b[39m \u001b[38;5;241m-\u001b[39m alpha) \u001b[38;5;241m*\u001b[39m charrnn_preds\n\u001b[0;32m     45\u001b[0m \u001b[38;5;66;03m# Get the predicted character\u001b[39;00m\n\u001b[1;32m---> 46\u001b[0m predicted_class \u001b[38;5;241m=\u001b[39m \u001b[43mtorch\u001b[49m\u001b[38;5;241;43m.\u001b[39;49m\u001b[43margmax\u001b[49m\u001b[43m(\u001b[49m\u001b[43mcombined_preds\u001b[49m\u001b[43m,\u001b[49m\u001b[43m \u001b[49m\u001b[43mdim\u001b[49m\u001b[38;5;241;43m=\u001b[39;49m\u001b[38;5;241;43m-\u001b[39;49m\u001b[38;5;241;43m1\u001b[39;49m\u001b[43m)\u001b[49m\u001b[38;5;241;43m.\u001b[39;49m\u001b[43mitem\u001b[49m\u001b[43m(\u001b[49m\u001b[43m)\u001b[49m\n\u001b[0;32m     47\u001b[0m predicted_char \u001b[38;5;241m=\u001b[39m \u001b[38;5;28mchr\u001b[39m(predicted_class \u001b[38;5;241m+\u001b[39m \u001b[38;5;28mord\u001b[39m(\u001b[38;5;124m'\u001b[39m\u001b[38;5;124mA\u001b[39m\u001b[38;5;124m'\u001b[39m))\n\u001b[0;32m     49\u001b[0m \u001b[38;5;66;03m# Append to the predicted string\u001b[39;00m\n",
      "\u001b[1;31mKeyboardInterrupt\u001b[0m: "
     ]
    }
   ],
   "source": [
    "# ALPHA = 0.9, DATASET = LOTSOFWORDS (1000 most common)\n",
    "wordset = \"lotsofwords\"\n",
    "alpha = 0.9\n",
    "\n",
    "# Call the evaluation function\n",
    "average_accuracy = evaluate_wordset_accuracy(\n",
    "    subject_words_dir=subject_words_dir,\n",
    "    wordset=wordset,\n",
    "    eegnet_model=eegnet_model,\n",
    "    charrnn_model=charrnn_model,\n",
    "    char2idx=char2idx,\n",
    "    alpha=alpha,\n",
    "    device=device\n",
    ")"
   ]
  },
  {
   "cell_type": "code",
   "execution_count": null,
   "metadata": {
    "colab": {
     "base_uri": "https://localhost:8080/"
    },
    "id": "Lt-ekW4PFHy4",
    "outputId": "4351f23b-60f2-4e8b-bfba-214dd2ee7106"
   },
   "outputs": [],
   "source": [
    "# ALPHA = 0.85, DATASET = LOTSOFWORDS (1000 most common)\n",
    "wordset = \"lotsofwords\"\n",
    "alpha = 0.85\n",
    "\n",
    "# Call the evaluation function\n",
    "average_accuracy = evaluate_wordset_accuracy(\n",
    "    subject_words_dir=subject_words_dir,\n",
    "    wordset=wordset,\n",
    "    eegnet_model=eegnet_model,\n",
    "    charrnn_model=charrnn_model,\n",
    "    char2idx=char2idx,\n",
    "    alpha=alpha,\n",
    "    device=device\n",
    ")"
   ]
  },
  {
   "cell_type": "code",
   "execution_count": null,
   "metadata": {
    "colab": {
     "base_uri": "https://localhost:8080/"
    },
    "id": "Zhl1qRsmM-lc",
    "outputId": "f6f0a3be-4682-4ecf-8b66-99ccbda74e20"
   },
   "outputs": [],
   "source": [
    "# ALPHA = 0.825, DATASET = LOTSOFWORDS (1000 most common)\n",
    "wordset = \"lotsofwords\"\n",
    "alpha = 0.825\n",
    "\n",
    "# Call the evaluation function\n",
    "average_accuracy = evaluate_wordset_accuracy(\n",
    "    subject_words_dir=subject_words_dir,\n",
    "    wordset=wordset,\n",
    "    eegnet_model=eegnet_model,\n",
    "    charrnn_model=charrnn_model,\n",
    "    char2idx=char2idx,\n",
    "    alpha=alpha,\n",
    "    device=device\n",
    ")"
   ]
  },
  {
   "cell_type": "code",
   "execution_count": null,
   "metadata": {
    "colab": {
     "base_uri": "https://localhost:8080/"
    },
    "id": "KSmCM5Sp0pTN",
    "outputId": "8ebbd621-62dc-4e25-928d-f46d1d7898eb"
   },
   "outputs": [],
   "source": [
    "# ALPHA = 0.8, DATASET = LOTSOFWORDS (1000 most common)\n",
    "wordset = \"lotsofwords\"\n",
    "alpha = 0.8\n",
    "\n",
    "# Call the evaluation function\n",
    "average_accuracy = evaluate_wordset_accuracy(\n",
    "    subject_words_dir=subject_words_dir,\n",
    "    wordset=wordset,\n",
    "    eegnet_model=eegnet_model,\n",
    "    charrnn_model=charrnn_model,\n",
    "    char2idx=char2idx,\n",
    "    alpha=alpha,\n",
    "    device=device\n",
    ")"
   ]
  },
  {
   "cell_type": "code",
   "execution_count": null,
   "metadata": {
    "colab": {
     "base_uri": "https://localhost:8080/"
    },
    "id": "09n8UdIvx0Pu",
    "outputId": "78bb0ae0-9b47-4b07-fabd-3a8bd26eec41"
   },
   "outputs": [],
   "source": [
    "# ALPHA = 0.775, DATASET = LOTSOFWORDS (1000 most common)\n",
    "wordset = \"lotsofwords\"\n",
    "alpha = 0.775\n",
    "\n",
    "# Call the evaluation function\n",
    "average_accuracy = evaluate_wordset_accuracy(\n",
    "    subject_words_dir=subject_words_dir,\n",
    "    wordset=wordset,\n",
    "    eegnet_model=eegnet_model,\n",
    "    charrnn_model=charrnn_model,\n",
    "    char2idx=char2idx,\n",
    "    alpha=alpha,\n",
    "    device=device\n",
    ")"
   ]
  },
  {
   "cell_type": "code",
   "execution_count": null,
   "metadata": {
    "colab": {
     "base_uri": "https://localhost:8080/"
    },
    "id": "E2yKRQ8ZFJCb",
    "outputId": "b8f8e36e-5e90-42bc-cd2d-20da8a95fe1e"
   },
   "outputs": [],
   "source": [
    "# ALPHA = 0.75, DATASET = LOTSOFWORDS (1000 most common)\n",
    "wordset = \"lotsofwords\"\n",
    "alpha = 0.75\n",
    "\n",
    "# Call the evaluation function\n",
    "average_accuracy = evaluate_wordset_accuracy(\n",
    "    subject_words_dir=subject_words_dir,\n",
    "    wordset=wordset,\n",
    "    eegnet_model=eegnet_model,\n",
    "    charrnn_model=charrnn_model,\n",
    "    char2idx=char2idx,\n",
    "    alpha=alpha,\n",
    "    device=device\n",
    ")"
   ]
  },
  {
   "cell_type": "code",
   "execution_count": null,
   "metadata": {
    "colab": {
     "base_uri": "https://localhost:8080/"
    },
    "id": "QJr5Vw0Qx2FM",
    "outputId": "9d67aa2e-aa03-4c25-e187-49562000b573"
   },
   "outputs": [],
   "source": [
    "# ALPHA = 0.725, DATASET = LOTSOFWORDS (1000 most common)\n",
    "wordset = \"lotsofwords\"\n",
    "alpha = 0.725\n",
    "\n",
    "# Call the evaluation function\n",
    "average_accuracy = evaluate_wordset_accuracy(\n",
    "    subject_words_dir=subject_words_dir,\n",
    "    wordset=wordset,\n",
    "    eegnet_model=eegnet_model,\n",
    "    charrnn_model=charrnn_model,\n",
    "    char2idx=char2idx,\n",
    "    alpha=alpha,\n",
    "    device=device\n",
    ")"
   ]
  },
  {
   "cell_type": "code",
   "execution_count": null,
   "metadata": {
    "colab": {
     "base_uri": "https://localhost:8080/"
    },
    "id": "-sLfElW39Q6-",
    "outputId": "49bbc8f5-b779-4ea2-f941-77259b5738a4"
   },
   "outputs": [],
   "source": [
    "# ALPHA = 0.7, DATASET = LOTSOFWORDS (1000 most common)\n",
    "wordset = \"lotsofwords\"\n",
    "alpha = 0.7\n",
    "\n",
    "# Call the evaluation function\n",
    "average_accuracy = evaluate_wordset_accuracy(\n",
    "    subject_words_dir=subject_words_dir,\n",
    "    wordset=wordset,\n",
    "    eegnet_model=eegnet_model,\n",
    "    charrnn_model=charrnn_model,\n",
    "    char2idx=char2idx,\n",
    "    alpha=alpha,\n",
    "    device=device\n",
    ")"
   ]
  },
  {
   "cell_type": "code",
   "execution_count": null,
   "metadata": {
    "colab": {
     "base_uri": "https://localhost:8080/"
    },
    "id": "QYsjgN1LNArT",
    "outputId": "481467e0-b028-45d4-878d-f3d5883ec7f6"
   },
   "outputs": [],
   "source": [
    "# ALPHA = 0.675, DATASET = LOTSOFWORDS (1000 most common)\n",
    "wordset = \"lotsofwords\"\n",
    "alpha = 0.675\n",
    "\n",
    "# Call the evaluation function\n",
    "average_accuracy = evaluate_wordset_accuracy(\n",
    "    subject_words_dir=subject_words_dir,\n",
    "    wordset=wordset,\n",
    "    eegnet_model=eegnet_model,\n",
    "    charrnn_model=charrnn_model,\n",
    "    char2idx=char2idx,\n",
    "    alpha=alpha,\n",
    "    device=device\n",
    ")"
   ]
  },
  {
   "cell_type": "code",
   "execution_count": null,
   "metadata": {
    "colab": {
     "base_uri": "https://localhost:8080/"
    },
    "id": "8bBktqSaCdqx",
    "outputId": "a771b052-4cff-4403-d714-c0b1112b2508"
   },
   "outputs": [],
   "source": [
    "# ALPHA = 0.65, DATASET = LOTSOFWORDS (1000 most common)\n",
    "wordset = \"lotsofwords\"\n",
    "alpha = 0.65\n",
    "\n",
    "# Call the evaluation function\n",
    "average_accuracy = evaluate_wordset_accuracy(\n",
    "    subject_words_dir=subject_words_dir,\n",
    "    wordset=wordset,\n",
    "    eegnet_model=eegnet_model,\n",
    "    charrnn_model=charrnn_model,\n",
    "    char2idx=char2idx,\n",
    "    alpha=alpha,\n",
    "    device=device\n",
    ")"
   ]
  },
  {
   "cell_type": "code",
   "execution_count": null,
   "metadata": {
    "colab": {
     "base_uri": "https://localhost:8080/"
    },
    "id": "3QTn3Eg9xuBU",
    "outputId": "7b409f6c-46e0-42da-eedf-ad205b51db6d"
   },
   "outputs": [],
   "source": [
    "# ALPHA = 0.6, DATASET = LOTSOFWORDS (1000 most common)\n",
    "wordset = \"lotsofwords\"\n",
    "alpha = 0.6\n",
    "\n",
    "# Call the evaluation function\n",
    "average_accuracy = evaluate_wordset_accuracy(\n",
    "    subject_words_dir=subject_words_dir,\n",
    "    wordset=wordset,\n",
    "    eegnet_model=eegnet_model,\n",
    "    charrnn_model=charrnn_model,\n",
    "    char2idx=char2idx,\n",
    "    alpha=alpha,\n",
    "    device=device\n",
    ")"
   ]
  },
  {
   "cell_type": "code",
   "execution_count": null,
   "metadata": {
    "colab": {
     "base_uri": "https://localhost:8080/"
    },
    "id": "vF5toS1CxvZK",
    "outputId": "09742080-6fa7-4163-9fdb-43f6fed4fb46"
   },
   "outputs": [],
   "source": [
    "# ALPHA = 0.5, DATASET = LOTSOFWORDS (1000 most common)\n",
    "wordset = \"lotsofwords\"\n",
    "alpha = 0.5\n",
    "\n",
    "# Call the evaluation function\n",
    "average_accuracy = evaluate_wordset_accuracy(\n",
    "    subject_words_dir=subject_words_dir,\n",
    "    wordset=wordset,\n",
    "    eegnet_model=eegnet_model,\n",
    "    charrnn_model=charrnn_model,\n",
    "    char2idx=char2idx,\n",
    "    alpha=alpha,\n",
    "    device=device\n",
    ")"
   ]
  },
  {
   "cell_type": "markdown",
   "metadata": {
    "id": "ByfVXniz90ec"
   },
   "source": [
    "# Plotting"
   ]
  },
  {
   "cell_type": "code",
   "execution_count": null,
   "metadata": {
    "id": "poD5gzUg91yg"
   },
   "outputs": [],
   "source": [
    "import matplotlib.pyplot as plt\n",
    "\n",
    "alpha =      [1, 0.95, 0.9, 0.85, 0.825, 0.8, 0.775, 0.75, 0.725, 0.7, 0.675, 0.65, 0.6, 0.5]\n",
    "\n",
    "# Accuracy for Unseen Subjects\n",
    "top100common_unseen =       [0.8596, 0.8604, 0.8672, 0.8637, 0.8674, 0.867, 0.8658, 0.8658, 0.8653, 0.864, 0.8675, 0.8682, 0.8681, 0.85]\n",
    "top100long_unseen =         [0.8676, 0.8727, 0.8764, 0.8829, 0.8834, 0.8906, 0.8957, 0.8957, 0.8966, 0.8934, 0.8954, 0.8922, 0.8852, 0.8593]\n",
    "topthousandcommon_unseen =  [0.8748, 0.8788, 0.8813, 0.8859, 0.887, 0.8883, 0.8925, 0.8927, 0.893, 0.8912, 0.8927, 0.8922, 0.8852, 0.8593]\n",
    "\n",
    "# Accuracy for All Subjects\n",
    "top100common_all =          [0.9461, 0.9493, 0.9511, 0.9514, 0.9521, 0.952, 0.9513, 0.9517, 0.9513, 0.9514, 0.951, 0.9486, 0.9508, 0.8204]\n",
    "top100long_all =            [0.9507, 0.9561, 0.9587, 0.9606, 0.9612, 0.9623, 0.9626, 0.9626, 0.9626, 0.9624, 0.9618, 0.9558, 0.9526, 0.9381]\n",
    "topthousandcommon_all =     [0.9497, 0.9532, 0.9554, 0.9571, 0.9574, 0.9579, 0.9583, 0.9581, 0.9577, 0.9571, 0.9567, 0.9558, 0.9526, 0.9381]\n"
   ]
  },
  {
   "cell_type": "code",
   "execution_count": null,
   "metadata": {
    "colab": {
     "base_uri": "https://localhost:8080/",
     "height": 487
    },
    "id": "C-_nO4gb_iSj",
    "outputId": "95df8c40-1fa1-45e1-e31b-51e2d9a1f78b"
   },
   "outputs": [],
   "source": [
    "# Graph 1: Accuracy for Unseen Subjects\n",
    "plt.figure(figsize=(10, 5))\n",
    "plt.plot(alpha, top100common_unseen, marker='o', label=\"Top 100 Common\")\n",
    "plt.plot(alpha, top100long_unseen, marker='o', label=\"Top 100 Long\")\n",
    "plt.plot(alpha, topthousandcommon_unseen, marker='o', label=\"Top 1000 Common\")\n",
    "plt.xlabel(\"Alpha\")\n",
    "plt.ylabel(\"Cls. Acc. (Per Character)\")\n",
    "plt.title(\"Classification Accuracy for Unseen Subjects (1 and 9)\")\n",
    "plt.ylim(0.85, 0.9)\n",
    "plt.legend()\n",
    "plt.grid(True)\n",
    "plt.show()"
   ]
  },
  {
   "cell_type": "code",
   "execution_count": null,
   "metadata": {
    "colab": {
     "base_uri": "https://localhost:8080/",
     "height": 487
    },
    "id": "PfyUfr4K_hPc",
    "outputId": "6203aed2-977e-4c3f-a665-8c17c9655923"
   },
   "outputs": [],
   "source": [
    "# Graph 2: Accuracy for All Subjects\n",
    "plt.figure(figsize=(10, 5))\n",
    "plt.plot(alpha, top100common_all, marker='o', label=\"Top 100 Common\")\n",
    "plt.plot(alpha, top100long_all, marker='o', label=\"Top 100 Long\")\n",
    "plt.plot(alpha, topthousandcommon_all, marker='o', label=\"Top 1000 Common\")\n",
    "plt.xlabel(\"Alpha\")\n",
    "plt.ylabel(\"Cls. Acc. (Per Character)\")\n",
    "plt.title(\"Classification Accuracy for All Subjects\")\n",
    "plt.ylim(0.92, 0.97)\n",
    "plt.legend()\n",
    "plt.grid(True)\n",
    "plt.show()\n"
   ]
  }
 ],
 "metadata": {
  "colab": {
   "provenance": []
  },
  "kernelspec": {
   "display_name": "Python (tensorflow_env)",
   "language": "python",
   "name": "tensorflow_env"
  },
  "language_info": {
   "codemirror_mode": {
    "name": "ipython",
    "version": 3
   },
   "file_extension": ".py",
   "mimetype": "text/x-python",
   "name": "python",
   "nbconvert_exporter": "python",
   "pygments_lexer": "ipython3",
   "version": "3.10.16"
  }
 },
 "nbformat": 4,
 "nbformat_minor": 4
}
