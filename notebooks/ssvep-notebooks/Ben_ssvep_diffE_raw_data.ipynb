{
 "cells": [
  {
   "cell_type": "markdown",
   "id": "0017f312",
   "metadata": {
    "id": "0017f312"
   },
   "source": [
    "# SSVEP Character Classification with DiffE"
   ]
  },
  {
   "cell_type": "code",
   "execution_count": 1,
   "id": "WnZeypG6gsYU",
   "metadata": {
    "colab": {
     "base_uri": "https://localhost:8080/"
    },
    "id": "WnZeypG6gsYU",
    "outputId": "8844b3e8-979b-4267-ce0c-de8b7f84e623"
   },
   "outputs": [],
   "source": [
    "#!pip install ema-pytorch"
   ]
  },
  {
   "cell_type": "code",
   "execution_count": 1,
   "id": "s8yKwaRCQxyM",
   "metadata": {
    "colab": {
     "base_uri": "https://localhost:8080/"
    },
    "id": "s8yKwaRCQxyM",
    "outputId": "8ce1ee92-c615-46c0-f956-89dc984811cc"
   },
   "outputs": [],
   "source": [
    "import os\n",
    "import sys\n",
    "# 26 13\n",
    "#!git clone https://github.com/diffe2023/Diff-E.git\n",
    "sys.path.append(r'C:\\Users\\shaoy\\Diff-E')\n"
   ]
  },
  {
   "cell_type": "code",
   "execution_count": 2,
   "id": "4MhV2qw9hu-m",
   "metadata": {
    "id": "4MhV2qw9hu-m"
   },
   "outputs": [],
   "source": [
    "import math\n",
    "from einops import reduce\n",
    "from functools import partial\n",
    "import random\n",
    "import argparse\n",
    "import numpy as np\n",
    "import torch\n",
    "import torch.nn as nn\n",
    "import torch.optim as optim\n",
    "import torch.nn.functional as F\n",
    "from torch.utils.data import Dataset, DataLoader\n",
    "from ema_pytorch import EMA\n",
    "#from tqdm.notebook import tqdm\n",
    "from tqdm import tqdm\n",
    "from sklearn.model_selection import train_test_split\n",
    "from sklearn.metrics import (\n",
    "    f1_score,\n",
    "    roc_auc_score,\n",
    "    precision_score,\n",
    "    recall_score,\n",
    "    top_k_accuracy_score,\n",
    ")"
   ]
  },
  {
   "cell_type": "code",
   "execution_count": 3,
   "id": "c5cf839a-4a38-4233-9bcd-421c3c905096",
   "metadata": {},
   "outputs": [
    {
     "name": "stdout",
     "output_type": "stream",
     "text": [
      "Using CUDA on GPU!\n"
     ]
    }
   ],
   "source": [
    "# Check if CUDA is available\n",
    "if torch.cuda.is_available():\n",
    "    device = torch.device(\"cuda\")\n",
    "    print(\"Using CUDA on GPU!\")\n",
    "else:\n",
    "    device = torch.device(\"cpu\")\n",
    "    print(\"CUDA is not available. Using CPU instead.\")"
   ]
  },
  {
   "cell_type": "code",
   "execution_count": 3,
   "id": "WjdWMaswQjkV",
   "metadata": {
    "colab": {
     "base_uri": "https://localhost:8080/"
    },
    "id": "WjdWMaswQjkV",
    "outputId": "7e193c56-5262-41b7-9436-6d1e2bf1a5fc"
   },
   "outputs": [],
   "source": [
    "# Uncomment this if you want to use Google Drive\n",
    "#from google.colab import drive\n",
    "#drive.mount('/content/drive')"
   ]
  },
  {
   "cell_type": "markdown",
   "id": "Do2JYBiZZp1z",
   "metadata": {
    "id": "Do2JYBiZZp1z"
   },
   "source": [
    "#load and preprocess data\n"
   ]
  },
  {
   "cell_type": "markdown",
   "id": "dPlrZ7Lez1XQ",
   "metadata": {
    "id": "dPlrZ7Lez1XQ"
   },
   "source": [
    "We retain the original SSVEP data preprocessing procedures, including:\n",
    "\n",
    "    Chebyshev bandpass filtering (6–90 Hz),\n",
    "    Noise removal and segmentation using a sliding window of 250 samples, followed by manual channel-wise standardization (subtracting the mean and dividing by the standard deviation),\n",
    "    Downsampling from 1000 Hz to 250 Hz.\n",
    "\n",
    "In this work, we directly load the preprocessed character-level files \"S#_chars.npy\" for subsequent training.\n",
    "\n",
    "Unlike the original setup where models are trained separately for each subject, we train a single model jointly across all subjects by concatenating all subjects' data."
   ]
  },
  {
   "cell_type": "code",
   "execution_count": 4,
   "id": "FD4sHQTI0fua",
   "metadata": {
    "id": "FD4sHQTI0fua"
   },
   "outputs": [],
   "source": [
    "# Define a function to perform z-score normalization on the data\n",
    "def zscore_norm(data):\n",
    "    # Calculate the mean and standard deviation for each channel in each batch\n",
    "    mean = torch.mean(data, dim=(1, 2))\n",
    "    std = torch.std(data, dim=(1, 2))\n",
    "\n",
    "    # Subtract the mean from each channel in each batch and divide by the standard deviation\n",
    "    norm_data = (data - mean[:, None, None]) / std[:, None, None]\n",
    "\n",
    "    return norm_data\n",
    "\n",
    "\n",
    "# Define a function to perform min-max normalization on the data\n",
    "def minmax_norm(data):\n",
    "    # Calculate the minimum and maximum values for each channel and sequence in the batch\n",
    "    min_vals = torch.min(data, dim=-1)[0]\n",
    "    max_vals = torch.max(data, dim=-1)[0]\n",
    "\n",
    "    # Scale the data to the range [0, 1]\n",
    "    norm_data = (data - min_vals.unsqueeze(-1)) / (\n",
    "        max_vals.unsqueeze(-1) - min_vals.unsqueeze(-1)\n",
    "    )\n",
    "\n",
    "    return norm_data"
   ]
  },
  {
   "cell_type": "code",
   "execution_count": 5,
   "id": "kpv9Xa910cDi",
   "metadata": {
    "id": "kpv9Xa910cDi"
   },
   "outputs": [],
   "source": [
    "'''\n",
    "class EEGDataset(Dataset):\n",
    "    \"Characterizes a dataset for PyTorch\"\n",
    "\n",
    "    def __init__(self, X, Y, transform=None):\n",
    "        \"Initialization\"\n",
    "        self.X = X\n",
    "        self.Y = Y\n",
    "        self.transform = transform\n",
    "\n",
    "    def __len__(self):\n",
    "        \"Denotes the total number of samples\"\n",
    "        return len(self.X)\n",
    "\n",
    "    def __getitem__(self, index):\n",
    "        \"Generates one sample of data\"\n",
    "        # Load data and get label\n",
    "        x = self.X[index]\n",
    "        y = self.Y[index]\n",
    "        if self.transform:\n",
    "            x = self.transform(x)\n",
    "        return x.squeeze(), y"
   ]
  },
  {
   "cell_type": "code",
   "execution_count": 6,
   "id": "ZA5ajGmtryq3",
   "metadata": {
    "id": "ZA5ajGmtryq3"
   },
   "outputs": [],
   "source": [
    "'''\n",
    "def load_data(root_dir, subject, session=None):\n",
    "    filename = f\"S{subject}_chars.npy\"\n",
    "    file_path = os.path.join(root_dir, filename)\n",
    "    data = np.load(file_path)  # shape: [26, 6, 64, 250]\n",
    "\n",
    "    X = data.reshape(-1, 64, 250)  # [26*6, 64, 250]\n",
    "    Y = np.repeat(np.arange(26), 6)  # label：0~25，each character repeats 6 times\n",
    "\n",
    "    X = torch.from_numpy(X).float()\n",
    "    Y = torch.tensor(Y, dtype=torch.long)\n",
    "    return X, Y\n",
    "\n",
    "#70% train-15% val-15% test\n",
    "def get_dataloader(X, Y, batch_size, batch_size_val, batch_size_test, seed, shuffle=True):\n",
    "    # train and test+val\n",
    "    X_train, X_temp, Y_train, Y_temp = train_test_split(\n",
    "        X, Y, test_size=0.3, stratify=Y, random_state=seed, shuffle=shuffle\n",
    "    )\n",
    "\n",
    "    # val and test\n",
    "    X_val, X_test, Y_val, Y_test = train_test_split(\n",
    "        X_temp, Y_temp, test_size=0.5, stratify=Y_temp, random_state=seed, shuffle=shuffle\n",
    "    )\n",
    "\n",
    "    train_set = EEGDataset(X_train, Y_train)\n",
    "    val_set = EEGDataset(X_val, Y_val)\n",
    "    test_set = EEGDataset(X_test, Y_test)\n",
    "\n",
    "    train_loader = DataLoader(train_set, batch_size=batch_size, shuffle=shuffle)\n",
    "    val_loader = DataLoader(val_set, batch_size=batch_size2, shuffle=False)\n",
    "    test_loader = DataLoader(test_set, batch_size=batch_size2, shuffle=False)\n",
    "\n",
    "    return train_loader, val_loader, test_loader\n"
   ]
  },
  {
   "cell_type": "code",
   "execution_count": 7,
   "id": "E7OtlGcDr8ZZ",
   "metadata": {
    "id": "E7OtlGcDr8ZZ"
   },
   "outputs": [],
   "source": [
    "'''\n",
    "def load_all_subjects(root_dir, subject_ids, session=None):\n",
    "    all_X, all_Y = [], []\n",
    "    for sid in subject_ids:\n",
    "        X, Y = load_data(root_dir=root_dir, subject=sid, session=session)\n",
    "        # print(f\"[Subject {sid}] X: {X.shape}, Y: {Y.shape}\")\n",
    "        # if X.shape[0] != Y.shape[0]:\n",
    "        #     print(f\"Mismatch at subject {sid}!\")\n",
    "        all_X.append(X)\n",
    "        all_Y.append(Y)\n",
    "    X = torch.cat(all_X, dim=0)\n",
    "    Y = torch.cat(all_Y, dim=0)\n",
    "    return X, Y"
   ]
  },
  {
   "cell_type": "code",
   "execution_count": 5,
   "id": "R1jZy_mPsxNI",
   "metadata": {
    "colab": {
     "base_uri": "https://localhost:8080/"
    },
    "id": "R1jZy_mPsxNI",
    "outputId": "36ea6ca8-c15d-4e6f-b739-91cfb21abd92"
   },
   "outputs": [
    {
     "name": "stdout",
     "output_type": "stream",
     "text": [
      "Random Seed:  43\n"
     ]
    }
   ],
   "source": [
    "seed = 43\n",
    "random.seed(seed)\n",
    "torch.manual_seed(seed)\n",
    "print(\"Random Seed: \", seed)"
   ]
  },
  {
   "cell_type": "code",
   "execution_count": 9,
   "id": "seWeK5dArjjM",
   "metadata": {
    "id": "seWeK5dArjjM"
   },
   "outputs": [],
   "source": [
    "'''\n",
    "subject_chars_dir = r'C:\\LTI 11785 Introduction to deep learning\\project\\SSVEP\\chars' # Where to store all character data\n",
    "subject_ids = list(range(1, 36)) #35 samples + 1\n",
    "\n",
    "device = torch.device(\"cuda\" if torch.cuda.is_available() else \"cpu\")\n",
    "batch_size = 32\n",
    "batch_size2 = 260\n",
    "seed = 43\n",
    "shuffle = True\n",
    "\n",
    "# load all subjects' data\n",
    "X, Y = load_all_subjects(subject_chars_dir, subject_ids)\n",
    "train_loader, val_loader, test_loader = get_dataloader(X, Y, batch_size, batch_size2, batch_size2, seed, shuffle=shuffle)\n"
   ]
  },
  {
   "cell_type": "code",
   "execution_count": 6,
   "id": "5df02b6b-b787-4701-a0a5-6cd5790de12c",
   "metadata": {},
   "outputs": [],
   "source": [
    "class EEGDataset(Dataset):\n",
    "    def __init__(self, features, labels, augment=False):\n",
    "        self.features = features\n",
    "        self.labels = labels\n",
    "        self.augment = augment\n",
    "\n",
    "    def __len__(self):\n",
    "        return len(self.features)\n",
    "\n",
    "    def __getitem__(self, idx):\n",
    "        x = self.features[idx]\n",
    "        y = self.labels[idx]\n",
    "\n",
    "        if self.augment:\n",
    "            # apply your augmentation logic here\n",
    "            x = self.apply_augmentation(x)\n",
    "\n",
    "        return x, y\n",
    "\n",
    "    def apply_augmentation(self, x):\n",
    "        # define any augmentation wanted\n",
    "        return x\n",
    "\n",
    "\n",
    "def get_dataloader(file_path_X, file_path_y, batch_size=64, shuffle=False, augment=False):\n",
    "    X = np.load(file_path_X)\n",
    "    y = np.load(file_path_y)\n",
    "    X_T = torch.tensor(X, dtype=torch.float32)\n",
    "    y_T = torch.tensor(y, dtype=torch.float32)  # y is already 1-hot, long in case use cross-entropy\n",
    "    \n",
    "    dataset = EEGDataset(X_T, y_T, augment=augment)  # passed the tensors\n",
    "    \n",
    "    return DataLoader(dataset, batch_size=batch_size, shuffle=shuffle)\n",
    "\n",
    "\n",
    "train_loader = get_dataloader('processed_data/X_train.npy', \n",
    "                              'processed_data/y_train.npy', \n",
    "                              batch_size=64, shuffle=True)\n",
    "val_loader   = get_dataloader('processed_data/X_val.npy', \n",
    "                              'processed_data/y_val.npy', \n",
    "                              batch_size=128, shuffle=True)\n",
    "test_loader  = get_dataloader('processed_data/X_test1.npy', \n",
    "                              'processed_data/y_test1.npy', \n",
    "                              batch_size=128, shuffle=True)\n"
   ]
  },
  {
   "cell_type": "code",
   "execution_count": 7,
   "id": "f0JmYf8_7foW",
   "metadata": {
    "colab": {
     "base_uri": "https://localhost:8080/"
    },
    "id": "f0JmYf8_7foW",
    "outputId": "53b1c95e-e607-49fc-e4a1-4b3195a986f1",
    "scrolled": true
   },
   "outputs": [
    {
     "name": "stdout",
     "output_type": "stream",
     "text": [
      "Batch 1\n",
      " - X shape: torch.Size([64, 64, 250])\n",
      " - y shape: torch.Size([64, 40])\n",
      "Batch 2\n",
      " - X shape: torch.Size([64, 64, 250])\n",
      " - y shape: torch.Size([64, 40])\n"
     ]
    }
   ],
   "source": [
    "for batch_idx, (X_batch, y_batch) in enumerate(train_loader):\n",
    "    print(f\"Batch {batch_idx + 1}\")\n",
    "    print(f\" - X shape: {X_batch.shape}\")\n",
    "    print(f\" - y shape: {y_batch.shape}\")\n",
    "    if batch_idx == 1:  # Print only the first two batches\n",
    "        break"
   ]
  },
  {
   "cell_type": "code",
   "execution_count": 18,
   "id": "c2baed3a-4df0-447e-a4ff-2955e5dddb24",
   "metadata": {},
   "outputs": [],
   "source": [
    "#torch.set_printoptions(threshold=6000)\n",
    "#print(Y)"
   ]
  },
  {
   "cell_type": "code",
   "execution_count": 17,
   "id": "2ac25d77-cab4-452b-88fd-53f2cd0548fc",
   "metadata": {},
   "outputs": [],
   "source": [
    "#print(X)"
   ]
  },
  {
   "cell_type": "markdown",
   "id": "D-8XtejnbSv2",
   "metadata": {
    "id": "D-8XtejnbSv2"
   },
   "source": [
    "#model"
   ]
  },
  {
   "cell_type": "markdown",
   "id": "mV-wGFCs2hpy",
   "metadata": {
    "id": "mV-wGFCs2hpy"
   },
   "source": [
    "The overall model follows the original GitHub implementation, with a few necessary adjustments to align tensor time dimensions. Specifically, we aligned the temporal dimensions between up2 + temb and down1, up3 and x, and x_hat and x. These changes are clearly marked with comments in the code."
   ]
  },
  {
   "cell_type": "code",
   "execution_count": 8,
   "id": "ceb479ce",
   "metadata": {
    "id": "ceb479ce"
   },
   "outputs": [],
   "source": [
    "#define diffE model\n",
    "def get_padding(kernel_size, dilation=1):\n",
    "    return int((kernel_size * dilation - dilation) / 2)\n",
    "\n",
    "\n",
    "# Swish activation function\n",
    "class Swish(nn.Module):\n",
    "    def __init__(self):\n",
    "        super().__init__()\n",
    "        self.sigmoid = nn.Sigmoid()\n",
    "\n",
    "    def forward(self, x):\n",
    "        return x * self.sigmoid(x)\n",
    "\n",
    "\n",
    "'''Create a sinusoidal positional embedding of the positions.'''\n",
    "class SinusoidalPosEmb(nn.Module):\n",
    "    def __init__(self, dim):\n",
    "        super().__init__()\n",
    "        self.dim = dim\n",
    "\n",
    "    def forward(self, x):\n",
    "        device = x.device   # cast all operations on the same device\n",
    "        half_dim = self.dim // 2\n",
    "        # positional encoding uses sine and cosine for different dimensions\n",
    "        # each position is split into half, for sine and cosine\n",
    "        emb = math.log(10000) / (half_dim - 1)\n",
    "        # calculate logarithmic spacing factor\n",
    "        # wavelengths form a geometric progression from 2pi to 2e4pi\n",
    "        # provide a variety of frequencies to encode different positions\n",
    "        emb = torch.exp(torch.arange(half_dim, device=device) * -emb)\n",
    "        # create a tensor of size (half_dim)\n",
    "        # each entry is a step in the geometric progression\n",
    "        # represents the scaling factor for each dimension of the positional encoding\n",
    "        emb = x[:, None] * emb[None, :]\n",
    "        # scales the positions in x by the scaling factors computed previously\n",
    "        # broadcast to apply the scaling across all dimensions\n",
    "        emb = torch.cat((emb.sin(), emb.cos()), dim=-1)\n",
    "        # the sine and cosine functions are applied to the scaled positions\n",
    "        # concatenate along the last dimension to form the final positional embedding\n",
    "        return emb\n",
    "\n",
    "\n",
    "\"\"\"\n",
    "https://arxiv.org/abs/1903.10520\n",
    "weight standardization purportedly works synergistically with group normalization\n",
    "Standardize the weights of the convolution layers similarly to how batch norm\n",
    "standarizes activations.\n",
    "\"\"\"\n",
    "class WeightStandardizedConv1d(nn.Conv1d):\n",
    "\n",
    "    def forward(self, x):\n",
    "        eps = 1e-5 if x.dtype == torch.float32 else 1e-3  # avoid divide by zero\n",
    "\n",
    "        weight = self.weight  # convolutional weights of the layer\n",
    "        mean = reduce(weight, \"o ... -> o 1 1\", \"mean\")\n",
    "        # preserve the first dimension (o, output channel)\n",
    "        # reduce all other dimensions to size 1 (mean across all filter dimensions)\n",
    "        var = reduce(weight, \"o ... -> o 1 1\", partial(torch.var, unbiased=False))\n",
    "        # computes the variance along all dimensions except the first\n",
    "        # use biased estimator for variance calculation (i.e., divide by n and not n-1)\n",
    "        normalized_weight = (weight - mean) * (var + eps).rsqrt()\n",
    "        # normalize the weight with calculated mean and var\n",
    "\n",
    "        return F.conv1d(  # class variables defined with nn.Convid\n",
    "            x,\n",
    "            normalized_weight,\n",
    "            self.bias,\n",
    "            self.stride,\n",
    "            self.padding,\n",
    "            self.dilation,\n",
    "            self.groups,\n",
    "        )\n",
    "\n",
    "\n",
    "\n",
    "class ResidualConvBlock(nn.Module):  # inherits from nn.Module, a base class for a nn in PyTorch\n",
    "    def __init__(self, inc: int, outc: int, kernel_size: int, stride=1, gn=8):\n",
    "        super().__init__()\n",
    "        \"\"\"\n",
    "        standard ResNet style convolutional block\n",
    "        inc:         Number of input channels.\n",
    "        outc:        Number of output channels.\n",
    "        kernel_size: Size of the convolution kernel.\n",
    "        stride:      Stride of the convolution, with a default of 1.\n",
    "        gn:          Number of groups for Group Normalization, with a default of 8.\n",
    "        \"\"\"\n",
    "        self.same_channels = inc == outc  # boolean flag if in and out channels equals\n",
    "        self.ks = kernel_size\n",
    "        self.conv = nn.Sequential(\n",
    "            WeightStandardizedConv1d(inc, outc, self.ks, stride, get_padding(self.ks)),\n",
    "            # weights are normalized to improve training\n",
    "            nn.GroupNorm(gn, outc),\n",
    "            # group normalization using gn groups\n",
    "            # normalizes the outputs across specified group channels\n",
    "            # help stabilize learning, forr small batch / diverse data distributions\n",
    "            nn.PReLU(),\n",
    "            # parametric ReLU\n",
    "        )\n",
    "\n",
    "    def forward(self, x: torch.Tensor) -> torch.Tensor:\n",
    "        x1 = self.conv(x)  # use the defined conv sequence to output x1\n",
    "        if self.same_channels:  # residual connection if in and out channels equals\n",
    "            out = (x + x1) / 2\n",
    "        else:  # otherwise just output the x1\n",
    "            out = x1\n",
    "        return out\n",
    "\n",
    "\n",
    "'''Downsample the input feature maps.'''\n",
    "class UnetDown(nn.Module):\n",
    "    def __init__(self, in_channels, out_channels, kernel_size, gn=8, factor=2):\n",
    "        '''\n",
    "        in_channels:       Number of input channels.\n",
    "        out_channels:      Number of output channels.\n",
    "        kernel_size:       Size of the kernel in the convolutional layer.\n",
    "        gn (optional):     Number of groups for group normalization in the convolutional block, with a default value of 8.\n",
    "        factor (optional): The factor by which the spatial size will be reduced, with a default value of 2.\n",
    "        '''\n",
    "        super(UnetDown, self).__init__()\n",
    "        # initializes the base class nn.Module\n",
    "        self.pool = nn.MaxPool1d(factor)\n",
    "        # 1d max pooling, reduce spatial dimensions by a factor of 'factor'\n",
    "        self.layer = ResidualConvBlock(in_channels, out_channels, kernel_size, gn=gn)\n",
    "        # call the previously defined residual conv block\n",
    "\n",
    "    def forward(self, x):\n",
    "        x = self.layer(x)  # do the 1d (residual) conv\n",
    "        x = self.pool(x)   # then do the max pooling\n",
    "        return x\n",
    "\n",
    "\n",
    "'''Upsample the input feature maps.'''\n",
    "class UnetUp(nn.Module):\n",
    "    def __init__(self, in_channels, out_channels, kernel_size, gn=8, factor=2):\n",
    "        # same stuff, just upsample instead of downsample\n",
    "        super(UnetUp, self).__init__()\n",
    "        self.pool = nn.Upsample(scale_factor=factor, mode=\"nearest\")\n",
    "        # the upsample by a factor of 'factor' and using the nearest neighbor interpolation\n",
    "        self.layer = ResidualConvBlock(in_channels, out_channels, kernel_size, gn=gn)\n",
    "        # same thing\n",
    "\n",
    "    def forward(self, x):\n",
    "        x = self.pool(x)\n",
    "        # do the upsampling first\n",
    "        x = self.layer(x)\n",
    "        # then call the conv\n",
    "        return x\n",
    "\n",
    "\n",
    "'''Embed an input into a higher-dimensional space using a fully connected network.'''\n",
    "class EmbedFC(nn.Module):\n",
    "    def __init__(self, input_dim, emb_dim):\n",
    "        super(EmbedFC, self).__init__()\n",
    "        \"\"\"\n",
    "        generic one layer FC NN for embedding things\n",
    "        input_dim: The size of each input sample.\n",
    "        emb_dim:   The size of the embedding dimension to which the input data is transformed.\n",
    "        \"\"\"\n",
    "        self.input_dim = input_dim\n",
    "        layers = [\n",
    "            nn.Linear(input_dim, emb_dim),\n",
    "            nn.PReLU(),\n",
    "            nn.Linear(emb_dim, emb_dim),\n",
    "        ]\n",
    "        # layers to transform the input data\n",
    "        # simply linear-activate-linear transform to get to embedding dimension\n",
    "        self.model = nn.Sequential(*layers)\n",
    "        # sequential model calling the previously defined layers\n",
    "\n",
    "    def forward(self, x):\n",
    "        x = x.view(-1, self.input_dim)\n",
    "        # reshape x for correct number of features per data point\n",
    "        # expected by the model input\n",
    "        return self.model(x)  # return the output of the model\n",
    "\n",
    "\n",
    "'''U-Net conditional on time t using sinusoidal positional embedding.'''\n",
    "class ConditionalUNet(nn.Module):\n",
    "    def __init__(self, in_channels, n_feat=256):\n",
    "        super(ConditionalUNet, self).__init__()\n",
    "\n",
    "        # number of input channels and features per layer\n",
    "        self.in_channels = in_channels\n",
    "        self.n_feat = n_feat\n",
    "\n",
    "        # downsampling dimensions / num of features\n",
    "        self.d1_out = n_feat * 1\n",
    "        self.d2_out = n_feat * 2\n",
    "        self.d3_out = n_feat * 3\n",
    "        self.d4_out = n_feat * 4\n",
    "        \n",
    "        # upsampling dimensions / num of features\n",
    "        self.u1_out = n_feat\n",
    "        self.u2_out = n_feat\n",
    "        self.u3_out = n_feat\n",
    "        self.u4_out = in_channels\n",
    "\n",
    "        # sinusoidal positional embedding\n",
    "        self.sin_emb = SinusoidalPosEmb(n_feat)\n",
    "        # self.timeembed1 = EmbedFC(n_feat, self.u1_out)\n",
    "        # self.timeembed2 = EmbedFC(n_feat, self.u2_out)\n",
    "        # self.timeembed3 = EmbedFC(n_feat, self.u3_out)\n",
    "\n",
    "        # downsample and increase depth\n",
    "        self.down1 = UnetDown(in_channels, self.d1_out, 1, gn=8, factor=2)\n",
    "        self.down2 = UnetDown(self.d1_out, self.d2_out, 1, gn=8, factor=2)\n",
    "        self.down3 = UnetDown(self.d2_out, self.d3_out, 1, gn=8, factor=2)\n",
    "\n",
    "        # upsample and use skip connections\n",
    "        self.up2 = UnetUp(self.d3_out, self.u2_out, 1, gn=8, factor=2)\n",
    "        self.up3 = UnetUp(self.u2_out + self.d2_out, self.u3_out, 1, gn=8, factor=2)\n",
    "        self.up4 = UnetUp(self.u3_out + self.d1_out, self.u4_out, 1, gn=8, factor=2)\n",
    "\n",
    "        # combines the output of last upsampling step with original input\n",
    "        self.out = nn.Conv1d(self.u4_out + in_channels, in_channels, 1)\n",
    "\n",
    "    def forward(self, x, t):\n",
    "        # call and sequentially downsample the input, reduce size + increase depth\n",
    "        down1 = self.down1(x)      # 2000 -> 1000\n",
    "        down2 = self.down2(down1)  # 1000 -> 500\n",
    "        down3 = self.down3(down2)  # 500  -> 250\n",
    "\n",
    "        # embeds the time parameter using sinusoidal positional embeddings\n",
    "        # reshape it for concatenation with feature maps\n",
    "        temb = self.sin_emb(t).view(-1, self.n_feat, 1)  # [b, n_feat, 1]\n",
    "        \n",
    "        # up sampling with skip connections to add embedded time info\n",
    "        up1 = self.up2(down3)  # 250 -> 500\n",
    "        up2 = self.up3(torch.cat([up1 + temb, down2], 1))  # 500 -> 1000\n",
    "\n",
    "        # Align the temporal dimension of up2 + temb and down1\n",
    "        # ensure the dimensions match for concatenation by interpolating\n",
    "        # to the minimum size between up2 and down1\n",
    "        if (up2 + temb).shape[-1] != down1.shape[-1]:\n",
    "            target_len = min((up2 + temb).shape[-1], down1.shape[-1])\n",
    "            up2 = F.interpolate(up2, size=target_len)\n",
    "            down1 = F.interpolate(down1, size=target_len)\n",
    "\n",
    "        # do the final upsampling after combining the up2 and down1\n",
    "        up3 = self.up4(torch.cat([up2 + temb, down1], 1))  # 1000 -> 2000\n",
    "\n",
    "        # Align the temporal dimension of up3 and x\n",
    "        # unsures the output dimensions matches the original input dimension\n",
    "        # for final output\n",
    "        if up3.shape[-1] != x.shape[-1]:\n",
    "            target_len = min(up3.shape[-1], x.shape[-1])\n",
    "            up3 = F.interpolate(up3, size=target_len)\n",
    "            x = F.interpolate(x, size=target_len)\n",
    "\n",
    "        # combines the final upsampling output with the original input\n",
    "        # and pass through a 1d concolution\n",
    "        out = self.out(torch.cat([up3, x], 1))  # 2000 -> 2000\n",
    "\n",
    "        # down and up are the intermediate outputs, can be useful\n",
    "        down = (down1, down2, down3)\n",
    "        up = (up1, up2, up3)\n",
    "        return out, down, up\n",
    "\n",
    "\n",
    "'''Create the condensed representation.'''\n",
    "class Encoder(nn.Module):\n",
    "    # dim sets a fixed output channels dimension for each layer\n",
    "    def __init__(self, in_channels, dim=512):\n",
    "        super(Encoder, self).__init__()\n",
    "\n",
    "        self.in_channels = in_channels\n",
    "        self.e1_out = dim\n",
    "        self.e2_out = dim\n",
    "        self.e3_out = dim\n",
    "\n",
    "        # 3 downsampling layers, each by a factor of 2\n",
    "        self.down1 = UnetDown(in_channels, self.e1_out, 1, gn=8, factor=2)\n",
    "        self.down2 = UnetDown(self.e1_out, self.e2_out, 1, gn=8, factor=2)\n",
    "        self.down3 = UnetDown(self.e2_out, self.e3_out, 1, gn=8, factor=2)\n",
    "\n",
    "        # average and max pooling\n",
    "        self.avg_pooling = nn.AdaptiveAvgPool1d(output_size=1)\n",
    "        self.max_pooling = nn.AdaptiveMaxPool1d(output_size=1)\n",
    "\n",
    "        # activation\n",
    "        self.act = nn.Tanh()\n",
    "\n",
    "    def forward(self, x0):\n",
    "        # Down sampling\n",
    "        dn1 = self.down1(x0)   # 2048 -> 1024\n",
    "        dn2 = self.down2(dn1)  # 1024 -> 512\n",
    "        dn3 = self.down3(dn2)  # 512 -> 256\n",
    "\n",
    "        # average pooling used to condense each feature map of the output\n",
    "        # to a single average value, summarizing the features extracted\n",
    "        # reshape z so the batch dimension is preserved while collapsing spatial dimension\n",
    "        z = self.avg_pooling(dn3).view(-1, self.e3_out)  # [b, features]\n",
    "\n",
    "        # return both the network output z and the intermediate outputs down\n",
    "        down = (dn1, dn2, dn3)\n",
    "        out = (down, z)\n",
    "        return out\n",
    "\n",
    "\n",
    "'''Gernerative part of the diffusion model.'''\n",
    "class Decoder(nn.Module):\n",
    "    def __init__(self, in_channels, n_feat=256, encoder_dim=512, n_classes=40):\n",
    "        super(Decoder, self).__init__()\n",
    "        # size of inputs and outputs\n",
    "        self.in_channels = in_channels\n",
    "        self.n_feat = n_feat\n",
    "        self.n_classes = n_classes\n",
    "        self.e1_out = encoder_dim\n",
    "        self.e2_out = encoder_dim\n",
    "        self.e3_out = encoder_dim\n",
    "        self.d1_out = n_feat\n",
    "        self.d2_out = n_feat * 2\n",
    "        self.d3_out = n_feat * 3\n",
    "        self.u1_out = n_feat\n",
    "        self.u2_out = n_feat\n",
    "        self.u3_out = n_feat\n",
    "        self.u4_out = in_channels\n",
    "\n",
    "        # self.sin_emb = SinusoidalPosEmb(n_feat)\n",
    "        # self.timeembed1 = EmbedFC(n_feat, self.e3_out)\n",
    "        # self.timeembed2 = EmbedFC(n_feat, self.u2_out)\n",
    "        # self.timeembed3 = EmbedFC(n_feat, self.u3_out)\n",
    "        # self.contextembed1 = EmbedFC(self.e3_out, self.e3_out)\n",
    "        # self.contextembed2 = EmbedFC(self.e3_out, self.u2_out)\n",
    "        # self.contextembed3 = EmbedFC(self.e3_out, self.u3_out)\n",
    "\n",
    "        # Unet up sampling\n",
    "        # scale back up after scaled down by encoder\n",
    "        self.up1 = UnetUp(self.d3_out + self.e3_out, self.u2_out, 1, gn=8, factor=2)\n",
    "        self.up2 = UnetUp(self.d2_out + self.u2_out, self.u3_out, 1, gn=8, factor=2)\n",
    "        self.up3 = nn.Sequential(\n",
    "            nn.Upsample(scale_factor=2, mode=\"nearest\"),\n",
    "            nn.Conv1d(\n",
    "                self.d1_out + self.u3_out + in_channels * 2, in_channels, 1, 1, 0\n",
    "            ),\n",
    "        )\n",
    "\n",
    "        # self.out = nn.Conv1d(self.u4_out+in_channels, in_channels, 1)\n",
    "        self.pool = nn.AvgPool1d(2)\n",
    "\n",
    "    def forward(self, x0, encoder_out, diffusion_out):\n",
    "        # Encoder output\n",
    "        down, z = encoder_out  # unpack the output from encoder\n",
    "        dn1, dn2, dn3 = down  # unpack the downsampling layers (from encoder)\n",
    "\n",
    "        # DDPM output\n",
    "        x_hat, down_ddpm, up, t = diffusion_out  # unpack diffusion (U net) output\n",
    "        dn11, dn22, dn33 = down_ddpm\n",
    "\n",
    "        # embed context, time step\n",
    "        # temb = self.sin_emb(t).view(-1, self.n_feat, 1) # [b, n_feat, 1]\n",
    "        # temb1 = self.timeembed1(temb).view(-1, self.e3_out, 1) # [b, features]\n",
    "        # temb2 = self.timeembed2(temb).view(-1, self.u2_out, 1) # [b, features]\n",
    "        # temb3 = self.timeembed3(temb).view(-1, self.u3_out, 1) # [b, features]\n",
    "        # ct2 = self.contextembed2(z).view(-1, self.u2_out, 1) # [b, n_feat, 1]\n",
    "        # ct3 = self.contextembed3(z).view(-1, self.u3_out, 1) # [b, n_feat, 1]\n",
    "\n",
    "        # Up sampling, use the class function defined earlier\n",
    "        up1 = self.up1(torch.cat([dn3, dn33.detach()], 1))\n",
    "        up2 = self.up2(torch.cat([up1, dn22.detach()], 1))\n",
    "        out = self.up3(\n",
    "            torch.cat([self.pool(x0), self.pool(x_hat.detach()), up2, dn11.detach()], 1)\n",
    "        )\n",
    "        # initial input, diffusion model output, output from second unsampling layer, features from d11\n",
    "        return out\n",
    "\n",
    "\n",
    "class DiffE(nn.Module):\n",
    "    def __init__(self, encoder, decoder, fc):\n",
    "        super(DiffE, self).__init__()\n",
    "\n",
    "        self.encoder = encoder\n",
    "        self.decoder = decoder\n",
    "        self.fc = fc\n",
    "\n",
    "    def forward(self, x0, ddpm_out):\n",
    "        encoder_out = self.encoder(x0)\n",
    "        decoder_out = self.decoder(x0, encoder_out, ddpm_out)\n",
    "        fc_out = self.fc(encoder_out[1])\n",
    "        return decoder_out, fc_out\n",
    "\n",
    "\n",
    "class DecoderNoDiff(nn.Module):\n",
    "    def __init__(self, in_channels, n_feat=256, encoder_dim=512, n_classes=40):\n",
    "        super(DecoderNoDiff, self).__init__()\n",
    "\n",
    "        self.in_channels = in_channels\n",
    "        self.n_feat = n_feat\n",
    "        self.n_classes = n_classes\n",
    "        self.e1_out = encoder_dim\n",
    "        self.e2_out = encoder_dim\n",
    "        self.e3_out = encoder_dim\n",
    "        self.u1_out = n_feat\n",
    "        self.u2_out = n_feat\n",
    "        self.u3_out = n_feat\n",
    "        self.u4_out = n_feat\n",
    "\n",
    "        self.sin_emb = SinusoidalPosEmb(n_feat)\n",
    "        self.timeembed1 = EmbedFC(n_feat, self.e3_out)\n",
    "        self.timeembed2 = EmbedFC(n_feat, self.u2_out)\n",
    "        self.timeembed3 = EmbedFC(n_feat, self.u3_out)\n",
    "        self.contextembed1 = EmbedFC(self.e3_out, self.e3_out)\n",
    "        self.contextembed2 = EmbedFC(self.e3_out, self.u2_out)\n",
    "        self.contextembed3 = EmbedFC(self.e3_out, self.u3_out)\n",
    "\n",
    "        # Unet up sampling\n",
    "        self.up2 = UnetUp(self.e3_out, self.u2_out, 1, gn=8, factor=2)\n",
    "        self.up3 = UnetUp(self.e2_out + self.u2_out, self.u3_out, 1, gn=8, factor=2)\n",
    "        # self.up4 = UnetUp(self.e1_out+self.u3_out, self.u4_out, 1, 1, gn=in_channels, factor=2, is_res=True)\n",
    "        self.up4 = nn.Sequential(\n",
    "            nn.Upsample(scale_factor=2, mode=\"nearest\"),\n",
    "            nn.Conv1d(self.u3_out + self.e1_out + in_channels, in_channels, 1, 1, 0),\n",
    "        )\n",
    "\n",
    "        self.out = nn.Conv1d(self.u4_out, in_channels, 1)\n",
    "        self.pool = nn.AvgPool1d(2)\n",
    "\n",
    "    def forward(self, x0, x_hat, encoder_out, t):\n",
    "        down, z = encoder_out\n",
    "        dn1, dn2, dn3 = down\n",
    "        tembd = self.sin_emb(t).view(-1, self.n_feat, 1)  # [b, n_feat, 1]\n",
    "        tembd1 = self.timeembed1(self.sin_emb(t)).view(\n",
    "            -1, self.e3_out, 1\n",
    "        )  # [b, n_feat, 1]\n",
    "        tembd2 = self.timeembed2(self.sin_emb(t)).view(\n",
    "            -1, self.u2_out, 1\n",
    "        )  # [b, n_feat, 1]\n",
    "        tembd3 = self.timeembed3(self.sin_emb(t)).view(\n",
    "            -1, self.u3_out, 1\n",
    "        )  # [b, n_feat, 1]\n",
    "\n",
    "        # Up sampling\n",
    "        ddpm_loss = F.l1_loss(x0, x_hat, reduction=\"none\")\n",
    "\n",
    "        up2 = self.up2(dn3)  # 256 -> 512\n",
    "        up3 = self.up3(torch.cat([up2, dn2], 1))  # 512 -> 1024\n",
    "        out = self.up4(\n",
    "            torch.cat([self.pool(x0), self.pool(x_hat), up3, dn1], 1)\n",
    "        )  # 1024 -> 2048\n",
    "        # out = self.out(torch.cat([out, x_hat], 1)) # 2048 -> 2048\n",
    "        # out = self.out(out)\n",
    "        return out\n",
    "\n",
    "\n",
    "class LinearClassifier(nn.Module):\n",
    "    def __init__(self, in_dim, latent_dim, emb_dim):\n",
    "        super().__init__()\n",
    "        self.linear_out = nn.Sequential(\n",
    "            nn.Linear(in_features=in_dim, out_features=latent_dim),\n",
    "            nn.GroupNorm(4, latent_dim),\n",
    "            nn.PReLU(),\n",
    "            nn.Linear(in_features=latent_dim, out_features=latent_dim),\n",
    "            nn.GroupNorm(4, latent_dim),\n",
    "            nn.PReLU(),\n",
    "            nn.Linear(in_features=latent_dim, out_features=emb_dim),  # the out features should match the y dimension no?\n",
    "        )\n",
    "\n",
    "    def forward(self, x):\n",
    "        x = self.linear_out(x)\n",
    "        return x\n",
    "\n",
    "\n",
    "def cosine_beta_schedule(timesteps, s=0.008):\n",
    "    \"\"\"\n",
    "    cosine schedule\n",
    "    as proposed in https://openreview.net/forum?id=-NEXDKk8gZ\n",
    "    \"\"\"\n",
    "    steps = timesteps + 1\n",
    "    t = torch.linspace(0, timesteps, steps, dtype=torch.float64) / timesteps\n",
    "    alphas_cumprod = torch.cos((t + s) / (1 + s) * math.pi * 0.5) ** 2\n",
    "    alphas_cumprod = alphas_cumprod / alphas_cumprod[0]\n",
    "    betas = 1 - (alphas_cumprod[1:] / alphas_cumprod[:-1])\n",
    "    return torch.clip(betas, 0, 0.999)\n",
    "\n",
    "\n",
    "def sigmoid_beta_schedule(timesteps, start=-3, end=3, tau=1, clamp_min=1e-5):\n",
    "    \"\"\"\n",
    "    sigmoid schedule\n",
    "    proposed in https://arxiv.org/abs/2212.11972 - Figure 8\n",
    "    \"\"\"\n",
    "    steps = timesteps + 1\n",
    "    t = torch.linspace(0, timesteps, steps, dtype=torch.float64) / timesteps\n",
    "    v_start = torch.tensor(start / tau).sigmoid()\n",
    "    v_end = torch.tensor(end / tau).sigmoid()\n",
    "    alphas_cumprod = (-((t * (end - start) + start) / tau).sigmoid() + v_end) / (\n",
    "        v_end - v_start\n",
    "    )\n",
    "    alphas_cumprod = alphas_cumprod / alphas_cumprod[0]\n",
    "    betas = 1 - (alphas_cumprod[1:] / alphas_cumprod[:-1])\n",
    "    return torch.clip(betas, 0, 0.999)\n",
    "\n",
    "\n",
    "def ddpm_schedules(beta1, beta2, T):\n",
    "    # assert beta1 < beta2 < 1.0, \"beta1 and beta2 must be in (0, 1)\"\n",
    "    # beta_t = (beta2 - beta1) * torch.arange(0, T + 1, dtype=torch.float32) / T + beta1\n",
    "    beta_t = cosine_beta_schedule(T, s=0.008).float()\n",
    "    # beta_t = sigmoid_beta_schedule(T).float()\n",
    "\n",
    "    alpha_t = 1 - beta_t\n",
    "\n",
    "    log_alpha_t = torch.log(alpha_t)\n",
    "    alphabar_t = torch.cumsum(log_alpha_t, dim=0).exp()\n",
    "\n",
    "    sqrtab = torch.sqrt(alphabar_t)\n",
    "\n",
    "    sqrtmab = torch.sqrt(1 - alphabar_t)\n",
    "\n",
    "    return {\n",
    "        \"sqrtab\": sqrtab,  # \\sqrt{\\bar{\\alpha_t}}\n",
    "        \"sqrtmab\": sqrtmab,  # \\sqrt{1-\\bar{\\alpha_t}}\n",
    "    }\n",
    "\n",
    "\n",
    "class DDPM(nn.Module):\n",
    "    def __init__(self, nn_model, betas, n_T, device):\n",
    "        super(DDPM, self).__init__()\n",
    "        self.nn_model = nn_model.to(device)\n",
    "\n",
    "        for k, v in ddpm_schedules(betas[0], betas[1], n_T).items():\n",
    "            self.register_buffer(k, v)\n",
    "\n",
    "        self.n_T = n_T\n",
    "        self.device = device\n",
    "\n",
    "    def forward(self, x):\n",
    "        _ts = torch.randint(1, self.n_T, (x.shape[0],)).to(self.device)  # t ~ Uniform(0, n_T)\n",
    "        noise = torch.randn_like(x)  # eps ~ N(0, 1)\n",
    "        x_t = self.sqrtab[_ts, None, None] * x + self.sqrtmab[_ts, None, None] * noise\n",
    "        times = _ts / self.n_T\n",
    "        output, down, up = self.nn_model(x_t, times)\n",
    "        return output, down, up, noise, times"
   ]
  },
  {
   "cell_type": "code",
   "execution_count": 9,
   "id": "6Rigb_x3lTcZ",
   "metadata": {
    "colab": {
     "base_uri": "https://localhost:8080/"
    },
    "id": "6Rigb_x3lTcZ",
    "outputId": "7367f1e2-6491-48af-98aa-383ddfe29cfd"
   },
   "outputs": [
    {
     "name": "stdout",
     "output_type": "stream",
     "text": [
      "ddpm size:  265478\n",
      "encoder size:  149763\n",
      "decoder size:  156482\n",
      "fc size:  416810\n"
     ]
    }
   ],
   "source": [
    "# Define model\n",
    "num_classes = 40\n",
    "channels = 64\n",
    "\n",
    "n_T = 1000  # time step variable in the schedulers\n",
    "ddpm_dim = 128\n",
    "encoder_dim = 256\n",
    "fc_dim = 512\n",
    "\n",
    "ddpm_model = ConditionalUNet(in_channels=channels, n_feat=ddpm_dim).to(device)\n",
    "ddpm = DDPM(nn_model=ddpm_model, betas=(1e-6, 1e-2), n_T=n_T, device=device).to(device)\n",
    "encoder = Encoder(in_channels=channels, dim=encoder_dim).to(device)\n",
    "decoder = Decoder(in_channels=channels, n_feat=ddpm_dim, encoder_dim=encoder_dim).to(device)\n",
    "fc = LinearClassifier(encoder_dim, fc_dim, emb_dim=40).to(device)\n",
    "diffe = DiffE(encoder, decoder, fc).to(device)\n",
    "\n",
    "print(\"ddpm size: \", sum(p.numel() for p in ddpm.parameters()))\n",
    "print(\"encoder size: \", sum(p.numel() for p in encoder.parameters()))\n",
    "print(\"decoder size: \", sum(p.numel() for p in decoder.parameters()))\n",
    "print(\"fc size: \", sum(p.numel() for p in fc.parameters()))"
   ]
  },
  {
   "cell_type": "markdown",
   "id": "gNFmH1U1cUfr",
   "metadata": {
    "id": "gNFmH1U1cUfr"
   },
   "source": [
    "#train"
   ]
  },
  {
   "cell_type": "code",
   "execution_count": 10,
   "id": "e6b9kOFsmNm2",
   "metadata": {
    "id": "e6b9kOFsmNm2"
   },
   "outputs": [],
   "source": [
    "# Criterion\n",
    "criterion = nn.L1Loss()\n",
    "criterion_class = nn.MSELoss()\n",
    "\n",
    "# Define optimizer\n",
    "base_lr, lr = 9e-5, 1.5e-3\n",
    "optim1 = optim.RMSprop(ddpm.parameters(), lr=base_lr)\n",
    "optim2 = optim.RMSprop(diffe.parameters(), lr=base_lr)\n",
    "\n",
    "# EMAs\n",
    "fc_ema = EMA(diffe.fc, beta=0.95, update_after_step=100, update_every=10,)\n",
    "\n",
    "step_size = 150\n",
    "scheduler1 = optim.lr_scheduler.CyclicLR(\n",
    "    optimizer=optim1,\n",
    "    base_lr=base_lr,\n",
    "    max_lr=lr,\n",
    "    step_size_up=step_size,\n",
    "    mode=\"exp_range\",\n",
    "    cycle_momentum=False,\n",
    "    gamma=0.9998,\n",
    ")\n",
    "scheduler2 = optim.lr_scheduler.CyclicLR(\n",
    "    optimizer=optim2,\n",
    "    base_lr=base_lr,\n",
    "    max_lr=lr,\n",
    "    step_size_up=step_size,\n",
    "    mode=\"exp_range\",\n",
    "    cycle_momentum=False,\n",
    "    gamma=0.9998,\n",
    ")"
   ]
  },
  {
   "cell_type": "code",
   "execution_count": 14,
   "id": "DEi7SkZfvNbe",
   "metadata": {
    "id": "DEi7SkZfvNbe"
   },
   "outputs": [],
   "source": [
    "# Evaluate function\n",
    "def evaluate(encoder, fc, generator, device):\n",
    "    labels = np.arange(0, 40)\n",
    "    Y = []\n",
    "    Y_hat = []\n",
    "    for x, y in generator:\n",
    "        x, y = x.to(device), y.type(torch.LongTensor).to(device)\n",
    "        encoder_out = encoder(x)\n",
    "        y_hat = fc(encoder_out[1])\n",
    "        y_hat = F.softmax(y_hat, dim=1)\n",
    "\n",
    "        Y.append(y.detach().cpu())\n",
    "        Y_hat.append(y_hat.detach().cpu())\n",
    "\n",
    "    # List of tensors to tensor to numpy\n",
    "    Y = torch.cat(Y, dim=0).numpy()  # (N, )\n",
    "    Y_indices = Y.argmax(axis=1)\n",
    "    Y_hat = torch.cat(Y_hat, dim=0).numpy()  # (N, 13): has to sum to 1 for each row\n",
    "\n",
    "    # Accuracy and Confusion Matrix\n",
    "    # changed all Y to Y_indices\n",
    "    accuracy = top_k_accuracy_score(Y_indices, Y_hat, k=1, labels=labels)\n",
    "    f1 = f1_score(Y_indices, Y_hat.argmax(axis=1), average=\"macro\", labels=labels)\n",
    "    recall = recall_score(Y_indices, Y_hat.argmax(axis=1), average=\"macro\", labels=labels)\n",
    "    precision = precision_score(Y_indices, Y_hat.argmax(axis=1), average=\"macro\", labels=labels, zero_division=0)\n",
    "    # the zero_division = 0 fixes cases where the prediction does not assign any sample to one or more classes\n",
    "    # which results in a dividing by zero error\n",
    "    # the zero_division = 0 sets those cases accuracy to zero\n",
    "    auc = roc_auc_score(Y_indices, Y_hat, average=\"macro\", multi_class=\"ovo\", labels=labels)\n",
    "\n",
    "    metrics = {\n",
    "        \"accuracy\": accuracy,\n",
    "        \"f1\": f1,\n",
    "        \"recall\": recall,\n",
    "        \"precision\": precision,\n",
    "        \"auc\": auc,\n",
    "    }\n",
    "    # df_cm = pd.DataFrame(confusion_matrix(Y, Y_hat.argmax(axis=1)))\n",
    "    return metrics\n"
   ]
  },
  {
   "cell_type": "code",
   "execution_count": 16,
   "id": "NIjWCm5vUKx-",
   "metadata": {
    "colab": {
     "base_uri": "https://localhost:8080/",
     "height": 1000,
     "referenced_widgets": [
      "5a0e2e65e57740e4bbb251311a766d82",
      "4ebab1e156e44c8bb7846910a1f72db7",
      "ee10237165ad47c18ca341aa7657a605",
      "9722c6e893d244889f62b61a1167d198",
      "9c8641ccc5014dfb9e809a716d373e24",
      "25c3251fb3604cf78173778c9ef40700",
      "f58eac912839488ead076366ff951081",
      "bfa6f43f525449b2b9eaefaf4964eba7",
      "659c9b4b1c734b3b9d9411a645837530",
      "4664eb6c3ffd4c919900698cb32b1c37",
      "a0ec61f3051c4d8b811ee1d05e0ba82b"
     ]
    },
    "id": "NIjWCm5vUKx-",
    "outputId": "dd19d0c8-3b0b-4503-9176-c86233825fa4"
   },
   "outputs": [
    {
     "name": "stderr",
     "output_type": "stream",
     "text": [
      "Method ALL – Processing subject ALL – Val Accuracy: 2.42% | Best: 2.42%:   0%|         | 1/500 [00:06<54:12,  6.52s/it]"
     ]
    },
    {
     "name": "stdout",
     "output_type": "stream",
     "text": [
      "[Epoch 1/500]\n",
      "Train Loss: 0.2604 | Train Acc: 2.48%\n",
      "Valid Loss: 0.2469 | Valid Acc: 2.42%\n"
     ]
    },
    {
     "name": "stderr",
     "output_type": "stream",
     "text": [
      "Method ALL – Processing subject ALL – Val Accuracy: 2.33% | Best: 2.42%:   0%|         | 2/500 [00:12<52:59,  6.38s/it]"
     ]
    },
    {
     "name": "stdout",
     "output_type": "stream",
     "text": [
      "[Epoch 2/500]\n",
      "Train Loss: 0.2498 | Train Acc: 2.42%\n",
      "Valid Loss: 0.2426 | Valid Acc: 2.33%\n"
     ]
    },
    {
     "name": "stderr",
     "output_type": "stream",
     "text": [
      "Method ALL – Processing subject ALL – Val Accuracy: 2.25% | Best: 2.42%:   1%|         | 3/500 [00:19<52:39,  6.36s/it]"
     ]
    },
    {
     "name": "stdout",
     "output_type": "stream",
     "text": [
      "[Epoch 3/500]\n",
      "Train Loss: 0.2488 | Train Acc: 2.42%\n",
      "Valid Loss: 0.2478 | Valid Acc: 2.25%\n"
     ]
    },
    {
     "name": "stderr",
     "output_type": "stream",
     "text": [
      "Method ALL – Processing subject ALL – Val Accuracy: 2.75% | Best: 2.75%:   1%|         | 4/500 [00:25<52:06,  6.30s/it]"
     ]
    },
    {
     "name": "stdout",
     "output_type": "stream",
     "text": [
      "[Epoch 4/500]\n",
      "Train Loss: 0.2576 | Train Acc: 2.58%\n",
      "Valid Loss: 0.2573 | Valid Acc: 2.75%\n"
     ]
    },
    {
     "name": "stderr",
     "output_type": "stream",
     "text": [
      "Method ALL – Processing subject ALL – Val Accuracy: 3.08% | Best: 3.08%:   1%|         | 5/500 [00:31<51:49,  6.28s/it]"
     ]
    },
    {
     "name": "stdout",
     "output_type": "stream",
     "text": [
      "[Epoch 5/500]\n",
      "Train Loss: 0.2469 | Train Acc: 2.67%\n",
      "Valid Loss: 0.2415 | Valid Acc: 3.08%\n"
     ]
    },
    {
     "name": "stderr",
     "output_type": "stream",
     "text": [
      "Method ALL – Processing subject ALL – Val Accuracy: 3.00% | Best: 3.08%:   1%|         | 6/500 [00:37<51:15,  6.23s/it]"
     ]
    },
    {
     "name": "stdout",
     "output_type": "stream",
     "text": [
      "[Epoch 6/500]\n",
      "Train Loss: 0.2366 | Train Acc: 2.54%\n",
      "Valid Loss: 0.2350 | Valid Acc: 3.00%\n"
     ]
    },
    {
     "name": "stderr",
     "output_type": "stream",
     "text": [
      "Method ALL – Processing subject ALL – Val Accuracy: 2.50% | Best: 3.08%:   1%|▏        | 7/500 [00:43<51:04,  6.22s/it]"
     ]
    },
    {
     "name": "stdout",
     "output_type": "stream",
     "text": [
      "[Epoch 7/500]\n",
      "Train Loss: 0.2375 | Train Acc: 2.33%\n",
      "Valid Loss: 0.2446 | Valid Acc: 2.50%\n"
     ]
    },
    {
     "name": "stderr",
     "output_type": "stream",
     "text": [
      "Method ALL – Processing subject ALL – Val Accuracy: 2.58% | Best: 3.08%:   2%|▏        | 8/500 [00:50<50:59,  6.22s/it]"
     ]
    },
    {
     "name": "stdout",
     "output_type": "stream",
     "text": [
      "[Epoch 8/500]\n",
      "Train Loss: 0.2524 | Train Acc: 2.31%\n",
      "Valid Loss: 0.2743 | Valid Acc: 2.58%\n"
     ]
    },
    {
     "name": "stderr",
     "output_type": "stream",
     "text": [
      "Method ALL – Processing subject ALL – Val Accuracy: 2.75% | Best: 3.08%:   2%|▏        | 9/500 [00:56<50:58,  6.23s/it]"
     ]
    },
    {
     "name": "stdout",
     "output_type": "stream",
     "text": [
      "[Epoch 9/500]\n",
      "Train Loss: 0.2430 | Train Acc: 2.48%\n",
      "Valid Loss: 0.2391 | Valid Acc: 2.75%\n"
     ]
    },
    {
     "name": "stderr",
     "output_type": "stream",
     "text": [
      "Method ALL – Processing subject ALL – Val Accuracy: 2.50% | Best: 3.08%:   2%|▏       | 10/500 [01:02<51:08,  6.26s/it]"
     ]
    },
    {
     "name": "stdout",
     "output_type": "stream",
     "text": [
      "[Epoch 10/500]\n",
      "Train Loss: 0.2352 | Train Acc: 2.48%\n",
      "Valid Loss: 0.2338 | Valid Acc: 2.50%\n"
     ]
    },
    {
     "name": "stderr",
     "output_type": "stream",
     "text": [
      "Method ALL – Processing subject ALL – Val Accuracy: 2.42% | Best: 3.08%:   2%|▏       | 11/500 [01:08<50:59,  6.26s/it]"
     ]
    },
    {
     "name": "stdout",
     "output_type": "stream",
     "text": [
      "[Epoch 11/500]\n",
      "Train Loss: 0.2342 | Train Acc: 2.83%\n",
      "Valid Loss: 0.2495 | Valid Acc: 2.42%\n"
     ]
    },
    {
     "name": "stderr",
     "output_type": "stream",
     "text": [
      "Method ALL – Processing subject ALL – Val Accuracy: 3.00% | Best: 3.08%:   2%|▏       | 12/500 [01:15<50:47,  6.25s/it]"
     ]
    },
    {
     "name": "stdout",
     "output_type": "stream",
     "text": [
      "[Epoch 12/500]\n",
      "Train Loss: 0.2482 | Train Acc: 2.54%\n",
      "Valid Loss: 0.2622 | Valid Acc: 3.00%\n"
     ]
    },
    {
     "name": "stderr",
     "output_type": "stream",
     "text": [
      "Method ALL – Processing subject ALL – Val Accuracy: 3.08% | Best: 3.08%:   3%|▏       | 13/500 [01:21<50:49,  6.26s/it]"
     ]
    },
    {
     "name": "stdout",
     "output_type": "stream",
     "text": [
      "[Epoch 13/500]\n",
      "Train Loss: 0.2404 | Train Acc: 2.50%\n",
      "Valid Loss: 0.2340 | Valid Acc: 3.08%\n"
     ]
    },
    {
     "name": "stderr",
     "output_type": "stream",
     "text": [
      "Method ALL – Processing subject ALL – Val Accuracy: 2.75% | Best: 3.08%:   3%|▏       | 14/500 [01:27<50:09,  6.19s/it]"
     ]
    },
    {
     "name": "stdout",
     "output_type": "stream",
     "text": [
      "[Epoch 14/500]\n",
      "Train Loss: 0.2313 | Train Acc: 2.81%\n",
      "Valid Loss: 0.2301 | Valid Acc: 2.75%\n"
     ]
    },
    {
     "name": "stderr",
     "output_type": "stream",
     "text": [
      "Method ALL – Processing subject ALL – Val Accuracy: 2.75% | Best: 3.08%:   3%|▏       | 15/500 [01:33<49:59,  6.18s/it]"
     ]
    },
    {
     "name": "stdout",
     "output_type": "stream",
     "text": [
      "[Epoch 15/500]\n",
      "Train Loss: 0.2361 | Train Acc: 2.62%\n",
      "Valid Loss: 0.2439 | Valid Acc: 2.75%\n"
     ]
    },
    {
     "name": "stderr",
     "output_type": "stream",
     "text": [
      "Method ALL – Processing subject ALL – Val Accuracy: 2.50% | Best: 3.08%:   3%|▎       | 16/500 [01:39<49:46,  6.17s/it]"
     ]
    },
    {
     "name": "stdout",
     "output_type": "stream",
     "text": [
      "[Epoch 16/500]\n",
      "Train Loss: 0.2464 | Train Acc: 2.71%\n",
      "Valid Loss: 0.2505 | Valid Acc: 2.50%\n"
     ]
    },
    {
     "name": "stderr",
     "output_type": "stream",
     "text": [
      "Method ALL – Processing subject ALL – Val Accuracy: 2.58% | Best: 3.08%:   3%|▎       | 17/500 [01:45<49:37,  6.16s/it]"
     ]
    },
    {
     "name": "stdout",
     "output_type": "stream",
     "text": [
      "[Epoch 17/500]\n",
      "Train Loss: 0.2354 | Train Acc: 2.21%\n",
      "Valid Loss: 0.2348 | Valid Acc: 2.58%\n"
     ]
    },
    {
     "name": "stderr",
     "output_type": "stream",
     "text": [
      "Method ALL – Processing subject ALL – Val Accuracy: 2.92% | Best: 3.08%:   4%|▎       | 18/500 [01:52<49:39,  6.18s/it]"
     ]
    },
    {
     "name": "stdout",
     "output_type": "stream",
     "text": [
      "[Epoch 18/500]\n",
      "Train Loss: 0.2300 | Train Acc: 2.60%\n",
      "Valid Loss: 0.2382 | Valid Acc: 2.92%\n"
     ]
    },
    {
     "name": "stderr",
     "output_type": "stream",
     "text": [
      "Method ALL – Processing subject ALL – Val Accuracy: 3.08% | Best: 3.08%:   4%|▎       | 19/500 [01:58<49:49,  6.21s/it]"
     ]
    },
    {
     "name": "stdout",
     "output_type": "stream",
     "text": [
      "[Epoch 19/500]\n",
      "Train Loss: 0.2334 | Train Acc: 2.67%\n",
      "Valid Loss: 0.2441 | Valid Acc: 3.08%\n"
     ]
    },
    {
     "name": "stderr",
     "output_type": "stream",
     "text": [
      "Method ALL – Processing subject ALL – Val Accuracy: 2.50% | Best: 3.08%:   4%|▎       | 20/500 [02:04<49:51,  6.23s/it]"
     ]
    },
    {
     "name": "stdout",
     "output_type": "stream",
     "text": [
      "[Epoch 20/500]\n",
      "Train Loss: 0.2426 | Train Acc: 2.48%\n",
      "Valid Loss: 0.2555 | Valid Acc: 2.50%\n"
     ]
    },
    {
     "name": "stderr",
     "output_type": "stream",
     "text": [
      "Method ALL – Processing subject ALL – Val Accuracy: 2.50% | Best: 3.08%:   4%|▎       | 21/500 [02:10<49:43,  6.23s/it]"
     ]
    },
    {
     "name": "stdout",
     "output_type": "stream",
     "text": [
      "[Epoch 21/500]\n",
      "Train Loss: 0.2336 | Train Acc: 2.06%\n",
      "Valid Loss: 0.2357 | Valid Acc: 2.50%\n"
     ]
    },
    {
     "name": "stderr",
     "output_type": "stream",
     "text": [
      "Method ALL – Processing subject ALL – Val Accuracy: 2.50% | Best: 3.08%:   4%|▎       | 22/500 [02:17<49:11,  6.17s/it]"
     ]
    },
    {
     "name": "stdout",
     "output_type": "stream",
     "text": [
      "[Epoch 22/500]\n",
      "Train Loss: 0.2315 | Train Acc: 2.08%\n",
      "Valid Loss: 0.2375 | Valid Acc: 2.50%\n"
     ]
    },
    {
     "name": "stderr",
     "output_type": "stream",
     "text": [
      "Method ALL – Processing subject ALL – Val Accuracy: 2.50% | Best: 3.08%:   5%|▎       | 23/500 [02:23<49:06,  6.18s/it]"
     ]
    },
    {
     "name": "stdout",
     "output_type": "stream",
     "text": [
      "[Epoch 23/500]\n",
      "Train Loss: 0.2324 | Train Acc: 2.54%\n",
      "Valid Loss: 0.2409 | Valid Acc: 2.50%\n"
     ]
    },
    {
     "name": "stderr",
     "output_type": "stream",
     "text": [
      "Method ALL – Processing subject ALL – Val Accuracy: 2.50% | Best: 3.08%:   5%|▍       | 24/500 [02:29<49:01,  6.18s/it]"
     ]
    },
    {
     "name": "stdout",
     "output_type": "stream",
     "text": [
      "[Epoch 24/500]\n",
      "Train Loss: 0.2425 | Train Acc: 1.88%\n",
      "Valid Loss: 0.2534 | Valid Acc: 2.50%\n"
     ]
    },
    {
     "name": "stderr",
     "output_type": "stream",
     "text": [
      "Method ALL – Processing subject ALL – Val Accuracy: 2.25% | Best: 3.08%:   5%|▍       | 25/500 [02:35<48:42,  6.15s/it]"
     ]
    },
    {
     "name": "stdout",
     "output_type": "stream",
     "text": [
      "[Epoch 25/500]\n",
      "Train Loss: 0.2335 | Train Acc: 2.21%\n",
      "Valid Loss: 0.2361 | Valid Acc: 2.25%\n"
     ]
    },
    {
     "name": "stderr",
     "output_type": "stream",
     "text": [
      "Method ALL – Processing subject ALL – Val Accuracy: 2.50% | Best: 3.08%:   5%|▍       | 26/500 [02:41<48:24,  6.13s/it]"
     ]
    },
    {
     "name": "stdout",
     "output_type": "stream",
     "text": [
      "[Epoch 26/500]\n",
      "Train Loss: 0.2284 | Train Acc: 2.19%\n",
      "Valid Loss: 0.2331 | Valid Acc: 2.50%\n"
     ]
    },
    {
     "name": "stderr",
     "output_type": "stream",
     "text": [
      "Method ALL – Processing subject ALL – Val Accuracy: 2.58% | Best: 3.08%:   5%|▍       | 27/500 [02:47<48:27,  6.15s/it]"
     ]
    },
    {
     "name": "stdout",
     "output_type": "stream",
     "text": [
      "[Epoch 27/500]\n",
      "Train Loss: 0.2324 | Train Acc: 2.67%\n",
      "Valid Loss: 0.2356 | Valid Acc: 2.58%\n"
     ]
    },
    {
     "name": "stderr",
     "output_type": "stream",
     "text": [
      "Method ALL – Processing subject ALL – Val Accuracy: 2.50% | Best: 3.08%:   6%|▍       | 28/500 [02:53<48:16,  6.14s/it]"
     ]
    },
    {
     "name": "stdout",
     "output_type": "stream",
     "text": [
      "[Epoch 28/500]\n",
      "Train Loss: 0.2382 | Train Acc: 2.23%\n",
      "Valid Loss: 0.2394 | Valid Acc: 2.50%\n"
     ]
    },
    {
     "name": "stderr",
     "output_type": "stream",
     "text": [
      "Method ALL – Processing subject ALL – Val Accuracy: 2.50% | Best: 3.08%:   6%|▍       | 29/500 [03:00<48:11,  6.14s/it]"
     ]
    },
    {
     "name": "stdout",
     "output_type": "stream",
     "text": [
      "[Epoch 29/500]\n",
      "Train Loss: 0.2373 | Train Acc: 2.90%\n",
      "Valid Loss: 0.2330 | Valid Acc: 2.50%\n"
     ]
    },
    {
     "name": "stderr",
     "output_type": "stream",
     "text": [
      "Method ALL – Processing subject ALL – Val Accuracy: 2.50% | Best: 3.08%:   6%|▍       | 30/500 [03:06<48:19,  6.17s/it]"
     ]
    },
    {
     "name": "stdout",
     "output_type": "stream",
     "text": [
      "[Epoch 30/500]\n",
      "Train Loss: 0.2289 | Train Acc: 1.88%\n",
      "Valid Loss: 0.2263 | Valid Acc: 2.50%\n"
     ]
    },
    {
     "name": "stderr",
     "output_type": "stream",
     "text": [
      "Method ALL – Processing subject ALL – Val Accuracy: 2.50% | Best: 3.08%:   6%|▍       | 31/500 [03:12<48:15,  6.17s/it]"
     ]
    },
    {
     "name": "stdout",
     "output_type": "stream",
     "text": [
      "[Epoch 31/500]\n",
      "Train Loss: 0.2326 | Train Acc: 2.46%\n",
      "Valid Loss: 0.2402 | Valid Acc: 2.50%\n"
     ]
    },
    {
     "name": "stderr",
     "output_type": "stream",
     "text": [
      "Method ALL – Processing subject ALL – Val Accuracy: 2.50% | Best: 3.08%:   6%|▌       | 32/500 [03:18<48:13,  6.18s/it]"
     ]
    },
    {
     "name": "stdout",
     "output_type": "stream",
     "text": [
      "[Epoch 32/500]\n",
      "Train Loss: 0.2385 | Train Acc: 2.15%\n",
      "Valid Loss: 0.2409 | Valid Acc: 2.50%\n"
     ]
    },
    {
     "name": "stderr",
     "output_type": "stream",
     "text": [
      "Method ALL – Processing subject ALL – Val Accuracy: 2.50% | Best: 3.08%:   7%|▌       | 33/500 [03:24<47:28,  6.10s/it]"
     ]
    },
    {
     "name": "stdout",
     "output_type": "stream",
     "text": [
      "[Epoch 33/500]\n",
      "Train Loss: 0.2338 | Train Acc: 2.00%\n",
      "Valid Loss: 0.2302 | Valid Acc: 2.50%\n"
     ]
    },
    {
     "name": "stderr",
     "output_type": "stream",
     "text": [
      "Method ALL – Processing subject ALL – Val Accuracy: 2.50% | Best: 3.08%:   7%|▌       | 34/500 [03:30<47:34,  6.13s/it]"
     ]
    },
    {
     "name": "stdout",
     "output_type": "stream",
     "text": [
      "[Epoch 34/500]\n",
      "Train Loss: 0.2267 | Train Acc: 2.58%\n",
      "Valid Loss: 0.2313 | Valid Acc: 2.50%\n"
     ]
    },
    {
     "name": "stderr",
     "output_type": "stream",
     "text": [
      "Method ALL – Processing subject ALL – Val Accuracy: 2.50% | Best: 3.08%:   7%|▌       | 35/500 [03:36<47:48,  6.17s/it]"
     ]
    },
    {
     "name": "stdout",
     "output_type": "stream",
     "text": [
      "[Epoch 35/500]\n",
      "Train Loss: 0.2308 | Train Acc: 2.50%\n",
      "Valid Loss: 0.2381 | Valid Acc: 2.50%\n"
     ]
    },
    {
     "name": "stderr",
     "output_type": "stream",
     "text": [
      "Method ALL – Processing subject ALL – Val Accuracy: 2.50% | Best: 3.08%:   7%|▌       | 36/500 [03:43<47:58,  6.20s/it]"
     ]
    },
    {
     "name": "stdout",
     "output_type": "stream",
     "text": [
      "[Epoch 36/500]\n",
      "Train Loss: 0.2367 | Train Acc: 2.42%\n",
      "Valid Loss: 0.2379 | Valid Acc: 2.50%\n"
     ]
    },
    {
     "name": "stderr",
     "output_type": "stream",
     "text": [
      "Method ALL – Processing subject ALL – Val Accuracy: 2.50% | Best: 3.08%:   7%|▌       | 37/500 [03:49<47:39,  6.18s/it]"
     ]
    },
    {
     "name": "stdout",
     "output_type": "stream",
     "text": [
      "[Epoch 37/500]\n",
      "Train Loss: 0.2318 | Train Acc: 2.85%\n",
      "Valid Loss: 0.2279 | Valid Acc: 2.50%\n"
     ]
    },
    {
     "name": "stderr",
     "output_type": "stream",
     "text": [
      "Method ALL – Processing subject ALL – Val Accuracy: 3.33% | Best: 3.33%:   8%|▌       | 38/500 [03:55<47:28,  6.16s/it]"
     ]
    },
    {
     "name": "stdout",
     "output_type": "stream",
     "text": [
      "[Epoch 38/500]\n",
      "Train Loss: 0.2287 | Train Acc: 2.27%\n",
      "Valid Loss: 0.2318 | Valid Acc: 3.33%\n"
     ]
    },
    {
     "name": "stderr",
     "output_type": "stream",
     "text": [
      "Method ALL – Processing subject ALL – Val Accuracy: 3.17% | Best: 3.33%:   8%|▌       | 39/500 [04:01<47:36,  6.20s/it]"
     ]
    },
    {
     "name": "stdout",
     "output_type": "stream",
     "text": [
      "[Epoch 39/500]\n",
      "Train Loss: 0.2316 | Train Acc: 2.56%\n",
      "Valid Loss: 0.2341 | Valid Acc: 3.17%\n"
     ]
    },
    {
     "name": "stderr",
     "output_type": "stream",
     "text": [
      "Method ALL – Processing subject ALL – Val Accuracy: 2.67% | Best: 3.33%:   8%|▋       | 40/500 [04:07<47:00,  6.13s/it]"
     ]
    },
    {
     "name": "stdout",
     "output_type": "stream",
     "text": [
      "[Epoch 40/500]\n",
      "Train Loss: 0.2394 | Train Acc: 2.60%\n",
      "Valid Loss: 0.2345 | Valid Acc: 2.67%\n"
     ]
    },
    {
     "name": "stderr",
     "output_type": "stream",
     "text": [
      "Method ALL – Processing subject ALL – Val Accuracy: 3.08% | Best: 3.33%:   8%|▋       | 41/500 [04:13<46:51,  6.13s/it]"
     ]
    },
    {
     "name": "stdout",
     "output_type": "stream",
     "text": [
      "[Epoch 41/500]\n",
      "Train Loss: 0.2304 | Train Acc: 2.50%\n",
      "Valid Loss: 0.2255 | Valid Acc: 3.08%\n"
     ]
    },
    {
     "name": "stderr",
     "output_type": "stream",
     "text": [
      "Method ALL – Processing subject ALL – Val Accuracy: 3.50% | Best: 3.50%:   8%|▋       | 42/500 [04:20<47:08,  6.18s/it]"
     ]
    },
    {
     "name": "stdout",
     "output_type": "stream",
     "text": [
      "[Epoch 42/500]\n",
      "Train Loss: 0.2301 | Train Acc: 2.65%\n",
      "Valid Loss: 0.2319 | Valid Acc: 3.50%\n"
     ]
    },
    {
     "name": "stderr",
     "output_type": "stream",
     "text": [
      "Method ALL – Processing subject ALL – Val Accuracy: 3.67% | Best: 3.67%:   9%|▋       | 43/500 [04:26<47:14,  6.20s/it]"
     ]
    },
    {
     "name": "stdout",
     "output_type": "stream",
     "text": [
      "[Epoch 43/500]\n",
      "Train Loss: 0.2310 | Train Acc: 3.29%\n",
      "Valid Loss: 0.2338 | Valid Acc: 3.67%\n"
     ]
    },
    {
     "name": "stderr",
     "output_type": "stream",
     "text": [
      "Method ALL – Processing subject ALL – Val Accuracy: 3.50% | Best: 3.67%:   9%|▋       | 44/500 [04:32<47:04,  6.19s/it]"
     ]
    },
    {
     "name": "stdout",
     "output_type": "stream",
     "text": [
      "[Epoch 44/500]\n",
      "Train Loss: 0.2346 | Train Acc: 2.81%\n",
      "Valid Loss: 0.2321 | Valid Acc: 3.50%\n"
     ]
    },
    {
     "name": "stderr",
     "output_type": "stream",
     "text": [
      "Method ALL – Processing subject ALL – Val Accuracy: 3.83% | Best: 3.83%:   9%|▋       | 45/500 [04:38<47:13,  6.23s/it]"
     ]
    },
    {
     "name": "stdout",
     "output_type": "stream",
     "text": [
      "[Epoch 45/500]\n",
      "Train Loss: 0.2312 | Train Acc: 3.10%\n",
      "Valid Loss: 0.2322 | Valid Acc: 3.83%\n"
     ]
    },
    {
     "name": "stderr",
     "output_type": "stream",
     "text": [
      "Method ALL – Processing subject ALL – Val Accuracy: 3.83% | Best: 3.83%:   9%|▋       | 46/500 [04:45<47:13,  6.24s/it]"
     ]
    },
    {
     "name": "stdout",
     "output_type": "stream",
     "text": [
      "[Epoch 46/500]\n",
      "Train Loss: 0.2307 | Train Acc: 3.46%\n",
      "Valid Loss: 0.2351 | Valid Acc: 3.83%\n"
     ]
    },
    {
     "name": "stderr",
     "output_type": "stream",
     "text": [
      "Method ALL – Processing subject ALL – Val Accuracy: 4.25% | Best: 4.25%:   9%|▊       | 47/500 [04:51<47:07,  6.24s/it]"
     ]
    },
    {
     "name": "stdout",
     "output_type": "stream",
     "text": [
      "[Epoch 47/500]\n",
      "Train Loss: 0.2297 | Train Acc: 4.06%\n",
      "Valid Loss: 0.2351 | Valid Acc: 4.25%\n"
     ]
    },
    {
     "name": "stderr",
     "output_type": "stream",
     "text": [
      "Method ALL – Processing subject ALL – Val Accuracy: 3.75% | Best: 4.25%:  10%|▊       | 48/500 [04:57<46:41,  6.20s/it]"
     ]
    },
    {
     "name": "stdout",
     "output_type": "stream",
     "text": [
      "[Epoch 48/500]\n",
      "Train Loss: 0.2367 | Train Acc: 3.25%\n",
      "Valid Loss: 0.2397 | Valid Acc: 3.75%\n"
     ]
    },
    {
     "name": "stderr",
     "output_type": "stream",
     "text": [
      "Method ALL – Processing subject ALL – Val Accuracy: 3.83% | Best: 4.25%:  10%|▊       | 49/500 [05:03<46:31,  6.19s/it]"
     ]
    },
    {
     "name": "stdout",
     "output_type": "stream",
     "text": [
      "[Epoch 49/500]\n",
      "Train Loss: 0.2296 | Train Acc: 3.52%\n",
      "Valid Loss: 0.2383 | Valid Acc: 3.83%\n"
     ]
    },
    {
     "name": "stderr",
     "output_type": "stream",
     "text": [
      "Method ALL – Processing subject ALL – Val Accuracy: 4.25% | Best: 4.25%:  10%|▊       | 50/500 [05:10<46:40,  6.22s/it]"
     ]
    },
    {
     "name": "stdout",
     "output_type": "stream",
     "text": [
      "[Epoch 50/500]\n",
      "Train Loss: 0.2316 | Train Acc: 4.17%\n",
      "Valid Loss: 0.2312 | Valid Acc: 4.25%\n"
     ]
    },
    {
     "name": "stderr",
     "output_type": "stream",
     "text": [
      "Method ALL – Processing subject ALL – Val Accuracy: 4.00% | Best: 4.25%:  10%|▊       | 51/500 [05:16<46:42,  6.24s/it]"
     ]
    },
    {
     "name": "stdout",
     "output_type": "stream",
     "text": [
      "[Epoch 51/500]\n",
      "Train Loss: 0.2279 | Train Acc: 4.52%\n",
      "Valid Loss: 0.2340 | Valid Acc: 4.00%\n"
     ]
    },
    {
     "name": "stderr",
     "output_type": "stream",
     "text": [
      "Method ALL – Processing subject ALL – Val Accuracy: 4.33% | Best: 4.33%:  10%|▊       | 52/500 [05:22<46:49,  6.27s/it]"
     ]
    },
    {
     "name": "stdout",
     "output_type": "stream",
     "text": [
      "[Epoch 52/500]\n",
      "Train Loss: 0.2309 | Train Acc: 4.31%\n",
      "Valid Loss: 0.2350 | Valid Acc: 4.33%\n"
     ]
    },
    {
     "name": "stderr",
     "output_type": "stream",
     "text": [
      "Method ALL – Processing subject ALL – Val Accuracy: 4.08% | Best: 4.33%:  11%|▊       | 53/500 [05:28<46:41,  6.27s/it]"
     ]
    },
    {
     "name": "stdout",
     "output_type": "stream",
     "text": [
      "[Epoch 53/500]\n",
      "Train Loss: 0.2284 | Train Acc: 4.25%\n",
      "Valid Loss: 0.2306 | Valid Acc: 4.08%\n"
     ]
    },
    {
     "name": "stderr",
     "output_type": "stream",
     "text": [
      "Method ALL – Processing subject ALL – Val Accuracy: 4.25% | Best: 4.33%:  11%|▊       | 54/500 [05:35<46:25,  6.25s/it]"
     ]
    },
    {
     "name": "stdout",
     "output_type": "stream",
     "text": [
      "[Epoch 54/500]\n",
      "Train Loss: 0.2260 | Train Acc: 4.96%\n",
      "Valid Loss: 0.2301 | Valid Acc: 4.25%\n"
     ]
    },
    {
     "name": "stderr",
     "output_type": "stream",
     "text": [
      "Method ALL – Processing subject ALL – Val Accuracy: 4.25% | Best: 4.33%:  11%|▉       | 55/500 [05:41<46:22,  6.25s/it]"
     ]
    },
    {
     "name": "stdout",
     "output_type": "stream",
     "text": [
      "[Epoch 55/500]\n",
      "Train Loss: 0.2300 | Train Acc: 4.94%\n",
      "Valid Loss: 0.2361 | Valid Acc: 4.25%\n"
     ]
    },
    {
     "name": "stderr",
     "output_type": "stream",
     "text": [
      "Method ALL – Processing subject ALL – Val Accuracy: 4.33% | Best: 4.33%:  11%|▉       | 56/500 [05:47<46:20,  6.26s/it]"
     ]
    },
    {
     "name": "stdout",
     "output_type": "stream",
     "text": [
      "[Epoch 56/500]\n",
      "Train Loss: 0.2363 | Train Acc: 4.15%\n",
      "Valid Loss: 0.2321 | Valid Acc: 4.33%\n"
     ]
    },
    {
     "name": "stderr",
     "output_type": "stream",
     "text": [
      "Method ALL – Processing subject ALL – Val Accuracy: 4.83% | Best: 4.83%:  11%|▉       | 57/500 [05:53<46:17,  6.27s/it]"
     ]
    },
    {
     "name": "stdout",
     "output_type": "stream",
     "text": [
      "[Epoch 57/500]\n",
      "Train Loss: 0.2293 | Train Acc: 4.60%\n",
      "Valid Loss: 0.2353 | Valid Acc: 4.83%\n"
     ]
    },
    {
     "name": "stderr",
     "output_type": "stream",
     "text": [
      "Method ALL – Processing subject ALL – Val Accuracy: 4.58% | Best: 4.83%:  12%|▉       | 58/500 [06:00<46:15,  6.28s/it]"
     ]
    },
    {
     "name": "stdout",
     "output_type": "stream",
     "text": [
      "[Epoch 58/500]\n",
      "Train Loss: 0.2303 | Train Acc: 5.21%\n",
      "Valid Loss: 0.2279 | Valid Acc: 4.58%\n"
     ]
    },
    {
     "name": "stderr",
     "output_type": "stream",
     "text": [
      "Method ALL – Processing subject ALL – Val Accuracy: 3.92% | Best: 4.83%:  12%|▉       | 59/500 [06:06<46:12,  6.29s/it]"
     ]
    },
    {
     "name": "stdout",
     "output_type": "stream",
     "text": [
      "[Epoch 59/500]\n",
      "Train Loss: 0.2295 | Train Acc: 5.17%\n",
      "Valid Loss: 0.2325 | Valid Acc: 3.92%\n"
     ]
    },
    {
     "name": "stderr",
     "output_type": "stream",
     "text": [
      "Method ALL – Processing subject ALL – Val Accuracy: 5.00% | Best: 5.00%:  12%|▉       | 60/500 [06:12<44:21,  6.05s/it]"
     ]
    },
    {
     "name": "stdout",
     "output_type": "stream",
     "text": [
      "[Epoch 60/500]\n",
      "Train Loss: 0.2316 | Train Acc: 4.79%\n",
      "Valid Loss: 0.2391 | Valid Acc: 5.00%\n"
     ]
    },
    {
     "name": "stderr",
     "output_type": "stream",
     "text": [
      "Method ALL – Processing subject ALL – Val Accuracy: 4.25% | Best: 5.00%:  12%|▉       | 61/500 [06:17<43:58,  6.01s/it]"
     ]
    },
    {
     "name": "stdout",
     "output_type": "stream",
     "text": [
      "[Epoch 61/500]\n",
      "Train Loss: 0.2315 | Train Acc: 4.77%\n",
      "Valid Loss: 0.2340 | Valid Acc: 4.25%\n"
     ]
    },
    {
     "name": "stderr",
     "output_type": "stream",
     "text": [
      "Method ALL – Processing subject ALL – Val Accuracy: 4.25% | Best: 5.00%:  12%|▉       | 62/500 [06:24<44:34,  6.11s/it]"
     ]
    },
    {
     "name": "stdout",
     "output_type": "stream",
     "text": [
      "[Epoch 62/500]\n",
      "Train Loss: 0.2294 | Train Acc: 5.29%\n",
      "Valid Loss: 0.2285 | Valid Acc: 4.25%\n"
     ]
    },
    {
     "name": "stderr",
     "output_type": "stream",
     "text": [
      "Method ALL – Processing subject ALL – Val Accuracy: 4.33% | Best: 5.00%:  13%|█       | 63/500 [06:30<43:58,  6.04s/it]"
     ]
    },
    {
     "name": "stdout",
     "output_type": "stream",
     "text": [
      "[Epoch 63/500]\n",
      "Train Loss: 0.2285 | Train Acc: 5.90%\n",
      "Valid Loss: 0.2348 | Valid Acc: 4.33%\n"
     ]
    },
    {
     "name": "stderr",
     "output_type": "stream",
     "text": [
      "Method ALL – Processing subject ALL – Val Accuracy: 5.58% | Best: 5.58%:  13%|█       | 64/500 [06:36<44:24,  6.11s/it]"
     ]
    },
    {
     "name": "stdout",
     "output_type": "stream",
     "text": [
      "[Epoch 64/500]\n",
      "Train Loss: 0.2320 | Train Acc: 5.52%\n",
      "Valid Loss: 0.2297 | Valid Acc: 5.58%\n"
     ]
    },
    {
     "name": "stderr",
     "output_type": "stream",
     "text": [
      "Method ALL – Processing subject ALL – Val Accuracy: 4.92% | Best: 5.58%:  13%|█       | 65/500 [06:41<42:53,  5.92s/it]"
     ]
    },
    {
     "name": "stdout",
     "output_type": "stream",
     "text": [
      "[Epoch 65/500]\n",
      "Train Loss: 0.2282 | Train Acc: 5.40%\n",
      "Valid Loss: 0.2290 | Valid Acc: 4.92%\n"
     ]
    },
    {
     "name": "stderr",
     "output_type": "stream",
     "text": [
      "Method ALL – Processing subject ALL – Val Accuracy: 5.58% | Best: 5.58%:  13%|█       | 66/500 [06:47<42:15,  5.84s/it]"
     ]
    },
    {
     "name": "stdout",
     "output_type": "stream",
     "text": [
      "[Epoch 66/500]\n",
      "Train Loss: 0.2305 | Train Acc: 5.69%\n",
      "Valid Loss: 0.2322 | Valid Acc: 5.58%\n"
     ]
    },
    {
     "name": "stderr",
     "output_type": "stream",
     "text": [
      "Method ALL – Processing subject ALL – Val Accuracy: 6.08% | Best: 6.08%:  13%|█       | 67/500 [06:53<42:44,  5.92s/it]"
     ]
    },
    {
     "name": "stdout",
     "output_type": "stream",
     "text": [
      "[Epoch 67/500]\n",
      "Train Loss: 0.2301 | Train Acc: 6.75%\n",
      "Valid Loss: 0.2288 | Valid Acc: 6.08%\n"
     ]
    },
    {
     "name": "stderr",
     "output_type": "stream",
     "text": [
      "Method ALL – Processing subject ALL – Val Accuracy: 4.75% | Best: 6.08%:  14%|█       | 68/500 [06:59<41:51,  5.81s/it]"
     ]
    },
    {
     "name": "stdout",
     "output_type": "stream",
     "text": [
      "[Epoch 68/500]\n",
      "Train Loss: 0.2312 | Train Acc: 5.19%\n",
      "Valid Loss: 0.2358 | Valid Acc: 4.75%\n"
     ]
    },
    {
     "name": "stderr",
     "output_type": "stream",
     "text": [
      "Method ALL – Processing subject ALL – Val Accuracy: 6.25% | Best: 6.25%:  14%|█       | 69/500 [07:04<41:19,  5.75s/it]"
     ]
    },
    {
     "name": "stdout",
     "output_type": "stream",
     "text": [
      "[Epoch 69/500]\n",
      "Train Loss: 0.2293 | Train Acc: 5.25%\n",
      "Valid Loss: 0.2269 | Valid Acc: 6.25%\n"
     ]
    },
    {
     "name": "stderr",
     "output_type": "stream",
     "text": [
      "Method ALL – Processing subject ALL – Val Accuracy: 6.25% | Best: 6.25%:  14%|█       | 70/500 [07:10<40:54,  5.71s/it]"
     ]
    },
    {
     "name": "stdout",
     "output_type": "stream",
     "text": [
      "[Epoch 70/500]\n",
      "Train Loss: 0.2264 | Train Acc: 6.88%\n",
      "Valid Loss: 0.2264 | Valid Acc: 6.25%\n"
     ]
    },
    {
     "name": "stderr",
     "output_type": "stream",
     "text": [
      "Method ALL – Processing subject ALL – Val Accuracy: 6.75% | Best: 6.75%:  14%|█▏      | 71/500 [07:15<40:12,  5.62s/it]"
     ]
    },
    {
     "name": "stdout",
     "output_type": "stream",
     "text": [
      "[Epoch 71/500]\n",
      "Train Loss: 0.2256 | Train Acc: 6.85%\n",
      "Valid Loss: 0.2395 | Valid Acc: 6.75%\n"
     ]
    },
    {
     "name": "stderr",
     "output_type": "stream",
     "text": [
      "Method ALL – Processing subject ALL – Val Accuracy: 6.33% | Best: 6.75%:  14%|█▏      | 72/500 [07:21<39:59,  5.61s/it]"
     ]
    },
    {
     "name": "stdout",
     "output_type": "stream",
     "text": [
      "[Epoch 72/500]\n",
      "Train Loss: 0.2283 | Train Acc: 6.46%\n",
      "Valid Loss: 0.2319 | Valid Acc: 6.33%\n"
     ]
    },
    {
     "name": "stderr",
     "output_type": "stream",
     "text": [
      "Method ALL – Processing subject ALL – Val Accuracy: 6.17% | Best: 6.75%:  15%|█▏      | 73/500 [07:26<39:35,  5.56s/it]"
     ]
    },
    {
     "name": "stdout",
     "output_type": "stream",
     "text": [
      "[Epoch 73/500]\n",
      "Train Loss: 0.2262 | Train Acc: 6.44%\n",
      "Valid Loss: 0.2303 | Valid Acc: 6.17%\n"
     ]
    },
    {
     "name": "stderr",
     "output_type": "stream",
     "text": [
      "Method ALL – Processing subject ALL – Val Accuracy: 6.75% | Best: 6.75%:  15%|█▏      | 74/500 [07:32<39:31,  5.57s/it]"
     ]
    },
    {
     "name": "stdout",
     "output_type": "stream",
     "text": [
      "[Epoch 74/500]\n",
      "Train Loss: 0.2266 | Train Acc: 7.33%\n",
      "Valid Loss: 0.2295 | Valid Acc: 6.75%\n"
     ]
    },
    {
     "name": "stderr",
     "output_type": "stream",
     "text": [
      "Method ALL – Processing subject ALL – Val Accuracy: 6.67% | Best: 6.75%:  15%|█▏      | 75/500 [07:38<39:46,  5.61s/it]"
     ]
    },
    {
     "name": "stdout",
     "output_type": "stream",
     "text": [
      "[Epoch 75/500]\n",
      "Train Loss: 0.2292 | Train Acc: 7.40%\n",
      "Valid Loss: 0.2326 | Valid Acc: 6.67%\n"
     ]
    },
    {
     "name": "stderr",
     "output_type": "stream",
     "text": [
      "Method ALL – Processing subject ALL – Val Accuracy: 6.50% | Best: 6.75%:  15%|█▏      | 76/500 [07:44<40:20,  5.71s/it]"
     ]
    },
    {
     "name": "stdout",
     "output_type": "stream",
     "text": [
      "[Epoch 76/500]\n",
      "Train Loss: 0.2315 | Train Acc: 6.69%\n",
      "Valid Loss: 0.2305 | Valid Acc: 6.50%\n"
     ]
    },
    {
     "name": "stderr",
     "output_type": "stream",
     "text": [
      "Method ALL – Processing subject ALL – Val Accuracy: 7.17% | Best: 7.17%:  15%|█▏      | 77/500 [07:50<41:10,  5.84s/it]"
     ]
    },
    {
     "name": "stdout",
     "output_type": "stream",
     "text": [
      "[Epoch 77/500]\n",
      "Train Loss: 0.2262 | Train Acc: 7.48%\n",
      "Valid Loss: 0.2326 | Valid Acc: 7.17%\n"
     ]
    },
    {
     "name": "stderr",
     "output_type": "stream",
     "text": [
      "Method ALL – Processing subject ALL – Val Accuracy: 6.25% | Best: 7.17%:  16%|█▏      | 78/500 [07:55<40:09,  5.71s/it]"
     ]
    },
    {
     "name": "stdout",
     "output_type": "stream",
     "text": [
      "[Epoch 78/500]\n",
      "Train Loss: 0.2269 | Train Acc: 8.46%\n",
      "Valid Loss: 0.2326 | Valid Acc: 6.25%\n"
     ]
    },
    {
     "name": "stderr",
     "output_type": "stream",
     "text": [
      "Method ALL – Processing subject ALL – Val Accuracy: 6.83% | Best: 7.17%:  16%|█▎      | 79/500 [08:01<39:44,  5.66s/it]"
     ]
    },
    {
     "name": "stdout",
     "output_type": "stream",
     "text": [
      "[Epoch 79/500]\n",
      "Train Loss: 0.2313 | Train Acc: 8.90%\n",
      "Valid Loss: 0.2340 | Valid Acc: 6.83%\n"
     ]
    },
    {
     "name": "stderr",
     "output_type": "stream",
     "text": [
      "Method ALL – Processing subject ALL – Val Accuracy: 6.08% | Best: 7.17%:  16%|█▎      | 80/500 [08:06<39:06,  5.59s/it]"
     ]
    },
    {
     "name": "stdout",
     "output_type": "stream",
     "text": [
      "[Epoch 80/500]\n",
      "Train Loss: 0.2285 | Train Acc: 8.27%\n",
      "Valid Loss: 0.2344 | Valid Acc: 6.08%\n"
     ]
    },
    {
     "name": "stderr",
     "output_type": "stream",
     "text": [
      "Method ALL – Processing subject ALL – Val Accuracy: 6.58% | Best: 7.17%:  16%|█▎      | 81/500 [08:12<39:53,  5.71s/it]"
     ]
    },
    {
     "name": "stdout",
     "output_type": "stream",
     "text": [
      "[Epoch 81/500]\n",
      "Train Loss: 0.2312 | Train Acc: 7.54%\n",
      "Valid Loss: 0.2317 | Valid Acc: 6.58%\n"
     ]
    },
    {
     "name": "stderr",
     "output_type": "stream",
     "text": [
      "Method ALL – Processing subject ALL – Val Accuracy: 6.83% | Best: 7.17%:  16%|█▎      | 82/500 [08:18<40:26,  5.81s/it]"
     ]
    },
    {
     "name": "stdout",
     "output_type": "stream",
     "text": [
      "[Epoch 82/500]\n",
      "Train Loss: 0.2273 | Train Acc: 9.38%\n",
      "Valid Loss: 0.2326 | Valid Acc: 6.83%\n"
     ]
    },
    {
     "name": "stderr",
     "output_type": "stream",
     "text": [
      "Method ALL – Processing subject ALL – Val Accuracy: 6.83% | Best: 7.17%:  17%|█▎      | 83/500 [08:24<39:24,  5.67s/it]"
     ]
    },
    {
     "name": "stdout",
     "output_type": "stream",
     "text": [
      "[Epoch 83/500]\n",
      "Train Loss: 0.2256 | Train Acc: 10.25%\n",
      "Valid Loss: 0.2287 | Valid Acc: 6.83%\n"
     ]
    },
    {
     "name": "stderr",
     "output_type": "stream",
     "text": [
      "Method ALL – Processing subject ALL – Val Accuracy: 6.50% | Best: 7.17%:  17%|█▎      | 84/500 [08:29<39:51,  5.75s/it]"
     ]
    },
    {
     "name": "stdout",
     "output_type": "stream",
     "text": [
      "[Epoch 84/500]\n",
      "Train Loss: 0.2311 | Train Acc: 9.06%\n",
      "Valid Loss: 0.2368 | Valid Acc: 6.50%\n"
     ]
    },
    {
     "name": "stderr",
     "output_type": "stream",
     "text": [
      "Method ALL – Processing subject ALL – Val Accuracy: 6.33% | Best: 7.17%:  17%|█▎      | 85/500 [08:36<41:02,  5.93s/it]"
     ]
    },
    {
     "name": "stdout",
     "output_type": "stream",
     "text": [
      "[Epoch 85/500]\n",
      "Train Loss: 0.2307 | Train Acc: 9.46%\n",
      "Valid Loss: 0.2240 | Valid Acc: 6.33%\n"
     ]
    },
    {
     "name": "stderr",
     "output_type": "stream",
     "text": [
      "Method ALL – Processing subject ALL – Val Accuracy: 6.67% | Best: 7.17%:  17%|█▍      | 86/500 [08:42<41:34,  6.03s/it]"
     ]
    },
    {
     "name": "stdout",
     "output_type": "stream",
     "text": [
      "[Epoch 86/500]\n",
      "Train Loss: 0.2282 | Train Acc: 11.29%\n",
      "Valid Loss: 0.2301 | Valid Acc: 6.67%\n"
     ]
    },
    {
     "name": "stderr",
     "output_type": "stream",
     "text": [
      "Method ALL – Processing subject ALL – Val Accuracy: 6.58% | Best: 7.17%:  17%|█▍      | 87/500 [08:48<42:14,  6.14s/it]"
     ]
    },
    {
     "name": "stdout",
     "output_type": "stream",
     "text": [
      "[Epoch 87/500]\n",
      "Train Loss: 0.2250 | Train Acc: 11.44%\n",
      "Valid Loss: 0.2335 | Valid Acc: 6.58%\n"
     ]
    },
    {
     "name": "stderr",
     "output_type": "stream",
     "text": [
      "Method ALL – Processing subject ALL – Val Accuracy: 6.17% | Best: 7.17%:  18%|█▍      | 88/500 [08:55<42:26,  6.18s/it]"
     ]
    },
    {
     "name": "stdout",
     "output_type": "stream",
     "text": [
      "[Epoch 88/500]\n",
      "Train Loss: 0.2283 | Train Acc: 9.62%\n",
      "Valid Loss: 0.2341 | Valid Acc: 6.17%\n"
     ]
    },
    {
     "name": "stderr",
     "output_type": "stream",
     "text": [
      "Method ALL – Processing subject ALL – Val Accuracy: 6.67% | Best: 7.17%:  18%|█▍      | 89/500 [09:01<42:39,  6.23s/it]"
     ]
    },
    {
     "name": "stdout",
     "output_type": "stream",
     "text": [
      "[Epoch 89/500]\n",
      "Train Loss: 0.2302 | Train Acc: 10.46%\n",
      "Valid Loss: 0.2280 | Valid Acc: 6.67%\n"
     ]
    },
    {
     "name": "stderr",
     "output_type": "stream",
     "text": [
      "Method ALL – Processing subject ALL – Val Accuracy: 7.00% | Best: 7.17%:  18%|█▍      | 90/500 [09:07<42:34,  6.23s/it]"
     ]
    },
    {
     "name": "stdout",
     "output_type": "stream",
     "text": [
      "[Epoch 90/500]\n",
      "Train Loss: 0.2276 | Train Acc: 12.04%\n",
      "Valid Loss: 0.2244 | Valid Acc: 7.00%\n"
     ]
    },
    {
     "name": "stderr",
     "output_type": "stream",
     "text": [
      "Method ALL – Processing subject ALL – Val Accuracy: 6.92% | Best: 7.17%:  18%|█▍      | 91/500 [09:14<42:22,  6.22s/it]"
     ]
    },
    {
     "name": "stdout",
     "output_type": "stream",
     "text": [
      "[Epoch 91/500]\n",
      "Train Loss: 0.2295 | Train Acc: 12.40%\n",
      "Valid Loss: 0.2287 | Valid Acc: 6.92%\n"
     ]
    },
    {
     "name": "stderr",
     "output_type": "stream",
     "text": [
      "Method ALL – Processing subject ALL – Val Accuracy: 6.00% | Best: 7.17%:  18%|█▍      | 92/500 [09:20<42:12,  6.21s/it]"
     ]
    },
    {
     "name": "stdout",
     "output_type": "stream",
     "text": [
      "[Epoch 92/500]\n",
      "Train Loss: 0.2283 | Train Acc: 11.40%\n",
      "Valid Loss: 0.2343 | Valid Acc: 6.00%\n"
     ]
    },
    {
     "name": "stderr",
     "output_type": "stream",
     "text": [
      "Method ALL – Processing subject ALL – Val Accuracy: 7.42% | Best: 7.42%:  19%|█▍      | 93/500 [09:26<42:00,  6.19s/it]"
     ]
    },
    {
     "name": "stdout",
     "output_type": "stream",
     "text": [
      "[Epoch 93/500]\n",
      "Train Loss: 0.2256 | Train Acc: 11.31%\n",
      "Valid Loss: 0.2326 | Valid Acc: 7.42%\n"
     ]
    },
    {
     "name": "stderr",
     "output_type": "stream",
     "text": [
      "Method ALL – Processing subject ALL – Val Accuracy: 7.33% | Best: 7.42%:  19%|█▌      | 94/500 [09:32<41:54,  6.19s/it]"
     ]
    },
    {
     "name": "stdout",
     "output_type": "stream",
     "text": [
      "[Epoch 94/500]\n",
      "Train Loss: 0.2261 | Train Acc: 13.83%\n",
      "Valid Loss: 0.2296 | Valid Acc: 7.33%\n"
     ]
    },
    {
     "name": "stderr",
     "output_type": "stream",
     "text": [
      "Method ALL – Processing subject ALL – Val Accuracy: 6.83% | Best: 7.42%:  19%|█▌      | 95/500 [09:38<42:01,  6.22s/it]"
     ]
    },
    {
     "name": "stdout",
     "output_type": "stream",
     "text": [
      "[Epoch 95/500]\n",
      "Train Loss: 0.2283 | Train Acc: 15.69%\n",
      "Valid Loss: 0.2255 | Valid Acc: 6.83%\n"
     ]
    },
    {
     "name": "stderr",
     "output_type": "stream",
     "text": [
      "Method ALL – Processing subject ALL – Val Accuracy: 6.17% | Best: 7.42%:  19%|█▌      | 96/500 [09:45<42:04,  6.25s/it]"
     ]
    },
    {
     "name": "stdout",
     "output_type": "stream",
     "text": [
      "[Epoch 96/500]\n",
      "Train Loss: 0.2300 | Train Acc: 12.62%\n",
      "Valid Loss: 0.2360 | Valid Acc: 6.17%\n"
     ]
    },
    {
     "name": "stderr",
     "output_type": "stream",
     "text": [
      "Method ALL – Processing subject ALL – Val Accuracy: 7.58% | Best: 7.58%:  19%|█▌      | 97/500 [09:51<41:58,  6.25s/it]"
     ]
    },
    {
     "name": "stdout",
     "output_type": "stream",
     "text": [
      "[Epoch 97/500]\n",
      "Train Loss: 0.2283 | Train Acc: 13.98%\n",
      "Valid Loss: 0.2275 | Valid Acc: 7.58%\n"
     ]
    },
    {
     "name": "stderr",
     "output_type": "stream",
     "text": [
      "Method ALL – Processing subject ALL – Val Accuracy: 7.00% | Best: 7.58%:  20%|█▌      | 98/500 [09:57<41:46,  6.24s/it]"
     ]
    },
    {
     "name": "stdout",
     "output_type": "stream",
     "text": [
      "[Epoch 98/500]\n",
      "Train Loss: 0.2294 | Train Acc: 16.06%\n",
      "Valid Loss: 0.2321 | Valid Acc: 7.00%\n"
     ]
    },
    {
     "name": "stderr",
     "output_type": "stream",
     "text": [
      "Method ALL – Processing subject ALL – Val Accuracy: 7.00% | Best: 7.58%:  20%|█▌      | 99/500 [10:03<41:36,  6.22s/it]"
     ]
    },
    {
     "name": "stdout",
     "output_type": "stream",
     "text": [
      "[Epoch 99/500]\n",
      "Train Loss: 0.2289 | Train Acc: 17.56%\n",
      "Valid Loss: 0.2312 | Valid Acc: 7.00%\n"
     ]
    },
    {
     "name": "stderr",
     "output_type": "stream",
     "text": [
      "Method ALL – Processing subject ALL – Val Accuracy: 7.33% | Best: 7.58%:  20%|█▍     | 100/500 [10:09<40:07,  6.02s/it]"
     ]
    },
    {
     "name": "stdout",
     "output_type": "stream",
     "text": [
      "[Epoch 100/500]\n",
      "Train Loss: 0.2291 | Train Acc: 14.04%\n",
      "Valid Loss: 0.2373 | Valid Acc: 7.33%\n"
     ]
    },
    {
     "name": "stderr",
     "output_type": "stream",
     "text": [
      "Method ALL – Processing subject ALL – Val Accuracy: 7.67% | Best: 7.67%:  20%|█▍     | 101/500 [10:15<40:28,  6.09s/it]"
     ]
    },
    {
     "name": "stdout",
     "output_type": "stream",
     "text": [
      "[Epoch 101/500]\n",
      "Train Loss: 0.2263 | Train Acc: 14.56%\n",
      "Valid Loss: 0.2296 | Valid Acc: 7.67%\n"
     ]
    },
    {
     "name": "stderr",
     "output_type": "stream",
     "text": [
      "Method ALL – Processing subject ALL – Val Accuracy: 7.00% | Best: 7.67%:  20%|█▍     | 102/500 [10:21<40:54,  6.17s/it]"
     ]
    },
    {
     "name": "stdout",
     "output_type": "stream",
     "text": [
      "[Epoch 102/500]\n",
      "Train Loss: 0.2277 | Train Acc: 18.12%\n",
      "Valid Loss: 0.2289 | Valid Acc: 7.00%\n"
     ]
    },
    {
     "name": "stderr",
     "output_type": "stream",
     "text": [
      "Method ALL – Processing subject ALL – Val Accuracy: 6.42% | Best: 7.67%:  21%|█▍     | 103/500 [10:28<41:08,  6.22s/it]"
     ]
    },
    {
     "name": "stdout",
     "output_type": "stream",
     "text": [
      "[Epoch 103/500]\n",
      "Train Loss: 0.2261 | Train Acc: 19.33%\n",
      "Valid Loss: 0.2286 | Valid Acc: 6.42%\n"
     ]
    },
    {
     "name": "stderr",
     "output_type": "stream",
     "text": [
      "Method ALL – Processing subject ALL – Val Accuracy: 7.67% | Best: 7.67%:  21%|█▍     | 104/500 [10:34<40:56,  6.20s/it]"
     ]
    },
    {
     "name": "stdout",
     "output_type": "stream",
     "text": [
      "[Epoch 104/500]\n",
      "Train Loss: 0.2280 | Train Acc: 15.54%\n",
      "Valid Loss: 0.2369 | Valid Acc: 7.67%\n"
     ]
    },
    {
     "name": "stderr",
     "output_type": "stream",
     "text": [
      "Method ALL – Processing subject ALL – Val Accuracy: 7.33% | Best: 7.67%:  21%|█▍     | 105/500 [10:40<40:11,  6.11s/it]"
     ]
    },
    {
     "name": "stdout",
     "output_type": "stream",
     "text": [
      "[Epoch 105/500]\n",
      "Train Loss: 0.2262 | Train Acc: 16.33%\n",
      "Valid Loss: 0.2317 | Valid Acc: 7.33%\n"
     ]
    },
    {
     "name": "stderr",
     "output_type": "stream",
     "text": [
      "Method ALL – Processing subject ALL – Val Accuracy: 7.25% | Best: 7.67%:  21%|█▍     | 106/500 [10:46<40:24,  6.15s/it]"
     ]
    },
    {
     "name": "stdout",
     "output_type": "stream",
     "text": [
      "[Epoch 106/500]\n",
      "Train Loss: 0.2251 | Train Acc: 19.85%\n",
      "Valid Loss: 0.2280 | Valid Acc: 7.25%\n"
     ]
    },
    {
     "name": "stderr",
     "output_type": "stream",
     "text": [
      "Method ALL – Processing subject ALL – Val Accuracy: 7.00% | Best: 7.67%:  21%|█▍     | 107/500 [10:52<40:45,  6.22s/it]"
     ]
    },
    {
     "name": "stdout",
     "output_type": "stream",
     "text": [
      "[Epoch 107/500]\n",
      "Train Loss: 0.2291 | Train Acc: 21.92%\n",
      "Valid Loss: 0.2344 | Valid Acc: 7.00%\n"
     ]
    },
    {
     "name": "stderr",
     "output_type": "stream",
     "text": [
      "Method ALL – Processing subject ALL – Val Accuracy: 5.67% | Best: 7.67%:  22%|█▌     | 108/500 [10:59<40:53,  6.26s/it]"
     ]
    },
    {
     "name": "stdout",
     "output_type": "stream",
     "text": [
      "[Epoch 108/500]\n",
      "Train Loss: 0.2308 | Train Acc: 18.25%\n",
      "Valid Loss: 0.2330 | Valid Acc: 5.67%\n"
     ]
    },
    {
     "name": "stderr",
     "output_type": "stream",
     "text": [
      "Method ALL – Processing subject ALL – Val Accuracy: 6.92% | Best: 7.67%:  22%|█▌     | 109/500 [11:05<40:53,  6.27s/it]"
     ]
    },
    {
     "name": "stdout",
     "output_type": "stream",
     "text": [
      "[Epoch 109/500]\n",
      "Train Loss: 0.2258 | Train Acc: 18.17%\n",
      "Valid Loss: 0.2229 | Valid Acc: 6.92%\n"
     ]
    },
    {
     "name": "stderr",
     "output_type": "stream",
     "text": [
      "Method ALL – Processing subject ALL – Val Accuracy: 6.92% | Best: 7.67%:  22%|█▌     | 110/500 [11:11<40:45,  6.27s/it]"
     ]
    },
    {
     "name": "stdout",
     "output_type": "stream",
     "text": [
      "[Epoch 110/500]\n",
      "Train Loss: 0.2262 | Train Acc: 23.27%\n",
      "Valid Loss: 0.2251 | Valid Acc: 6.92%\n"
     ]
    },
    {
     "name": "stderr",
     "output_type": "stream",
     "text": [
      "Method ALL – Processing subject ALL – Val Accuracy: 6.33% | Best: 7.67%:  22%|█▌     | 111/500 [11:17<40:16,  6.21s/it]"
     ]
    },
    {
     "name": "stdout",
     "output_type": "stream",
     "text": [
      "[Epoch 111/500]\n",
      "Train Loss: 0.2279 | Train Acc: 24.38%\n",
      "Valid Loss: 0.2287 | Valid Acc: 6.33%\n"
     ]
    },
    {
     "name": "stderr",
     "output_type": "stream",
     "text": [
      "Method ALL – Processing subject ALL – Val Accuracy: 7.17% | Best: 7.67%:  22%|█▌     | 112/500 [11:24<40:12,  6.22s/it]"
     ]
    },
    {
     "name": "stdout",
     "output_type": "stream",
     "text": [
      "[Epoch 112/500]\n",
      "Train Loss: 0.2266 | Train Acc: 20.62%\n",
      "Valid Loss: 0.2257 | Valid Acc: 7.17%\n"
     ]
    },
    {
     "name": "stderr",
     "output_type": "stream",
     "text": [
      "Method ALL – Processing subject ALL – Val Accuracy: 6.33% | Best: 7.67%:  23%|█▌     | 113/500 [11:30<40:02,  6.21s/it]"
     ]
    },
    {
     "name": "stdout",
     "output_type": "stream",
     "text": [
      "[Epoch 113/500]\n",
      "Train Loss: 0.2285 | Train Acc: 20.90%\n",
      "Valid Loss: 0.2297 | Valid Acc: 6.33%\n"
     ]
    },
    {
     "name": "stderr",
     "output_type": "stream",
     "text": [
      "Method ALL – Processing subject ALL – Val Accuracy: 6.50% | Best: 7.67%:  23%|█▌     | 114/500 [11:36<40:01,  6.22s/it]"
     ]
    },
    {
     "name": "stdout",
     "output_type": "stream",
     "text": [
      "[Epoch 114/500]\n",
      "Train Loss: 0.2231 | Train Acc: 25.83%\n",
      "Valid Loss: 0.2263 | Valid Acc: 6.50%\n"
     ]
    },
    {
     "name": "stderr",
     "output_type": "stream",
     "text": [
      "Method ALL – Processing subject ALL – Val Accuracy: 6.58% | Best: 7.67%:  23%|█▌     | 115/500 [11:42<39:53,  6.22s/it]"
     ]
    },
    {
     "name": "stdout",
     "output_type": "stream",
     "text": [
      "[Epoch 115/500]\n",
      "Train Loss: 0.2268 | Train Acc: 27.48%\n",
      "Valid Loss: 0.2366 | Valid Acc: 6.58%\n"
     ]
    },
    {
     "name": "stderr",
     "output_type": "stream",
     "text": [
      "Method ALL – Processing subject ALL – Val Accuracy: 7.25% | Best: 7.67%:  23%|█▌     | 116/500 [11:49<39:40,  6.20s/it]"
     ]
    },
    {
     "name": "stdout",
     "output_type": "stream",
     "text": [
      "[Epoch 116/500]\n",
      "Train Loss: 0.2287 | Train Acc: 21.96%\n",
      "Valid Loss: 0.2305 | Valid Acc: 7.25%\n"
     ]
    },
    {
     "name": "stderr",
     "output_type": "stream",
     "text": [
      "Method ALL – Processing subject ALL – Val Accuracy: 6.92% | Best: 7.67%:  23%|█▋     | 117/500 [11:55<39:37,  6.21s/it]"
     ]
    },
    {
     "name": "stdout",
     "output_type": "stream",
     "text": [
      "[Epoch 117/500]\n",
      "Train Loss: 0.2286 | Train Acc: 23.60%\n",
      "Valid Loss: 0.2354 | Valid Acc: 6.92%\n"
     ]
    },
    {
     "name": "stderr",
     "output_type": "stream",
     "text": [
      "Method ALL – Processing subject ALL – Val Accuracy: 6.92% | Best: 7.67%:  24%|█▋     | 118/500 [12:01<39:38,  6.23s/it]"
     ]
    },
    {
     "name": "stdout",
     "output_type": "stream",
     "text": [
      "[Epoch 118/500]\n",
      "Train Loss: 0.2301 | Train Acc: 29.62%\n",
      "Valid Loss: 0.2266 | Valid Acc: 6.92%\n"
     ]
    },
    {
     "name": "stderr",
     "output_type": "stream",
     "text": [
      "Method ALL – Processing subject ALL – Val Accuracy: 6.33% | Best: 7.67%:  24%|█▋     | 119/500 [12:07<39:41,  6.25s/it]"
     ]
    },
    {
     "name": "stdout",
     "output_type": "stream",
     "text": [
      "[Epoch 119/500]\n",
      "Train Loss: 0.2291 | Train Acc: 31.46%\n",
      "Valid Loss: 0.2286 | Valid Acc: 6.33%\n"
     ]
    },
    {
     "name": "stderr",
     "output_type": "stream",
     "text": [
      "Method ALL – Processing subject ALL – Val Accuracy: 6.50% | Best: 7.67%:  24%|█▋     | 120/500 [12:13<39:28,  6.23s/it]"
     ]
    },
    {
     "name": "stdout",
     "output_type": "stream",
     "text": [
      "[Epoch 120/500]\n",
      "Train Loss: 0.2270 | Train Acc: 25.60%\n",
      "Valid Loss: 0.2285 | Valid Acc: 6.50%\n"
     ]
    },
    {
     "name": "stderr",
     "output_type": "stream",
     "text": [
      "Method ALL – Processing subject ALL – Val Accuracy: 6.58% | Best: 7.67%:  24%|█▋     | 121/500 [12:20<39:30,  6.25s/it]"
     ]
    },
    {
     "name": "stdout",
     "output_type": "stream",
     "text": [
      "[Epoch 121/500]\n",
      "Train Loss: 0.2270 | Train Acc: 26.06%\n",
      "Valid Loss: 0.2264 | Valid Acc: 6.58%\n"
     ]
    },
    {
     "name": "stderr",
     "output_type": "stream",
     "text": [
      "Method ALL – Processing subject ALL – Val Accuracy: 6.92% | Best: 7.67%:  24%|█▋     | 122/500 [12:26<39:29,  6.27s/it]"
     ]
    },
    {
     "name": "stdout",
     "output_type": "stream",
     "text": [
      "[Epoch 122/500]\n",
      "Train Loss: 0.2284 | Train Acc: 32.60%\n",
      "Valid Loss: 0.2301 | Valid Acc: 6.92%\n"
     ]
    },
    {
     "name": "stderr",
     "output_type": "stream",
     "text": [
      "Method ALL – Processing subject ALL – Val Accuracy: 6.83% | Best: 7.67%:  25%|█▋     | 123/500 [12:32<39:24,  6.27s/it]"
     ]
    },
    {
     "name": "stdout",
     "output_type": "stream",
     "text": [
      "[Epoch 123/500]\n",
      "Train Loss: 0.2269 | Train Acc: 35.00%\n",
      "Valid Loss: 0.2276 | Valid Acc: 6.83%\n"
     ]
    },
    {
     "name": "stderr",
     "output_type": "stream",
     "text": [
      "Method ALL – Processing subject ALL – Val Accuracy: 6.42% | Best: 7.67%:  25%|█▋     | 124/500 [12:39<39:18,  6.27s/it]"
     ]
    },
    {
     "name": "stdout",
     "output_type": "stream",
     "text": [
      "[Epoch 124/500]\n",
      "Train Loss: 0.2306 | Train Acc: 28.56%\n",
      "Valid Loss: 0.2315 | Valid Acc: 6.42%\n"
     ]
    },
    {
     "name": "stderr",
     "output_type": "stream",
     "text": [
      "Method ALL – Processing subject ALL – Val Accuracy: 7.00% | Best: 7.67%:  25%|█▊     | 125/500 [12:45<38:57,  6.23s/it]"
     ]
    },
    {
     "name": "stdout",
     "output_type": "stream",
     "text": [
      "[Epoch 125/500]\n",
      "Train Loss: 0.2283 | Train Acc: 30.17%\n",
      "Valid Loss: 0.2322 | Valid Acc: 7.00%\n"
     ]
    },
    {
     "name": "stderr",
     "output_type": "stream",
     "text": [
      "Method ALL – Processing subject ALL – Val Accuracy: 6.50% | Best: 7.67%:  25%|█▊     | 126/500 [12:51<38:56,  6.25s/it]"
     ]
    },
    {
     "name": "stdout",
     "output_type": "stream",
     "text": [
      "[Epoch 126/500]\n",
      "Train Loss: 0.2280 | Train Acc: 37.69%\n",
      "Valid Loss: 0.2260 | Valid Acc: 6.50%\n"
     ]
    },
    {
     "name": "stderr",
     "output_type": "stream",
     "text": [
      "Method ALL – Processing subject ALL – Val Accuracy: 7.58% | Best: 7.67%:  25%|█▊     | 127/500 [12:57<38:52,  6.25s/it]"
     ]
    },
    {
     "name": "stdout",
     "output_type": "stream",
     "text": [
      "[Epoch 127/500]\n",
      "Train Loss: 0.2278 | Train Acc: 39.15%\n",
      "Valid Loss: 0.2297 | Valid Acc: 7.58%\n"
     ]
    },
    {
     "name": "stderr",
     "output_type": "stream",
     "text": [
      "Method ALL – Processing subject ALL – Val Accuracy: 7.33% | Best: 7.67%:  26%|█▊     | 128/500 [13:04<38:42,  6.24s/it]"
     ]
    },
    {
     "name": "stdout",
     "output_type": "stream",
     "text": [
      "[Epoch 128/500]\n",
      "Train Loss: 0.2278 | Train Acc: 32.58%\n",
      "Valid Loss: 0.2308 | Valid Acc: 7.33%\n"
     ]
    },
    {
     "name": "stderr",
     "output_type": "stream",
     "text": [
      "Method ALL – Processing subject ALL – Val Accuracy: 6.58% | Best: 7.67%:  26%|█▊     | 129/500 [13:10<38:37,  6.25s/it]"
     ]
    },
    {
     "name": "stdout",
     "output_type": "stream",
     "text": [
      "[Epoch 129/500]\n",
      "Train Loss: 0.2274 | Train Acc: 32.38%\n",
      "Valid Loss: 0.2359 | Valid Acc: 6.58%\n"
     ]
    },
    {
     "name": "stderr",
     "output_type": "stream",
     "text": [
      "Method ALL – Processing subject ALL – Val Accuracy: 7.00% | Best: 7.67%:  26%|█▊     | 130/500 [13:16<38:24,  6.23s/it]"
     ]
    },
    {
     "name": "stdout",
     "output_type": "stream",
     "text": [
      "[Epoch 130/500]\n",
      "Train Loss: 0.2243 | Train Acc: 40.94%\n",
      "Valid Loss: 0.2280 | Valid Acc: 7.00%\n"
     ]
    },
    {
     "name": "stderr",
     "output_type": "stream",
     "text": [
      "Method ALL – Processing subject ALL – Val Accuracy: 7.67% | Best: 7.67%:  26%|█▊     | 131/500 [13:22<38:23,  6.24s/it]"
     ]
    },
    {
     "name": "stdout",
     "output_type": "stream",
     "text": [
      "[Epoch 131/500]\n",
      "Train Loss: 0.2287 | Train Acc: 41.96%\n",
      "Valid Loss: 0.2350 | Valid Acc: 7.67%\n"
     ]
    },
    {
     "name": "stderr",
     "output_type": "stream",
     "text": [
      "Method ALL – Processing subject ALL – Val Accuracy: 7.25% | Best: 7.67%:  26%|█▊     | 132/500 [13:29<38:22,  6.26s/it]"
     ]
    },
    {
     "name": "stdout",
     "output_type": "stream",
     "text": [
      "[Epoch 132/500]\n",
      "Train Loss: 0.2274 | Train Acc: 34.85%\n",
      "Valid Loss: 0.2355 | Valid Acc: 7.25%\n"
     ]
    },
    {
     "name": "stderr",
     "output_type": "stream",
     "text": [
      "Method ALL – Processing subject ALL – Val Accuracy: 6.83% | Best: 7.67%:  27%|█▊     | 133/500 [13:35<38:18,  6.26s/it]"
     ]
    },
    {
     "name": "stdout",
     "output_type": "stream",
     "text": [
      "[Epoch 133/500]\n",
      "Train Loss: 0.2268 | Train Acc: 36.73%\n",
      "Valid Loss: 0.2279 | Valid Acc: 6.83%\n"
     ]
    },
    {
     "name": "stderr",
     "output_type": "stream",
     "text": [
      "Method ALL – Processing subject ALL – Val Accuracy: 7.08% | Best: 7.67%:  27%|█▉     | 134/500 [13:41<38:11,  6.26s/it]"
     ]
    },
    {
     "name": "stdout",
     "output_type": "stream",
     "text": [
      "[Epoch 134/500]\n",
      "Train Loss: 0.2270 | Train Acc: 45.48%\n",
      "Valid Loss: 0.2301 | Valid Acc: 7.08%\n"
     ]
    },
    {
     "name": "stderr",
     "output_type": "stream",
     "text": [
      "Method ALL – Processing subject ALL – Val Accuracy: 7.25% | Best: 7.67%:  27%|█▉     | 135/500 [13:47<37:53,  6.23s/it]"
     ]
    },
    {
     "name": "stdout",
     "output_type": "stream",
     "text": [
      "[Epoch 135/500]\n",
      "Train Loss: 0.2283 | Train Acc: 45.96%\n",
      "Valid Loss: 0.2325 | Valid Acc: 7.25%\n"
     ]
    },
    {
     "name": "stderr",
     "output_type": "stream",
     "text": [
      "Method ALL – Processing subject ALL – Val Accuracy: 6.92% | Best: 7.67%:  27%|█▉     | 136/500 [13:53<37:44,  6.22s/it]"
     ]
    },
    {
     "name": "stdout",
     "output_type": "stream",
     "text": [
      "[Epoch 136/500]\n",
      "Train Loss: 0.2277 | Train Acc: 38.50%\n",
      "Valid Loss: 0.2263 | Valid Acc: 6.92%\n"
     ]
    },
    {
     "name": "stderr",
     "output_type": "stream",
     "text": [
      "Method ALL – Processing subject ALL – Val Accuracy: 6.17% | Best: 7.67%:  27%|█▉     | 137/500 [14:00<37:45,  6.24s/it]"
     ]
    },
    {
     "name": "stdout",
     "output_type": "stream",
     "text": [
      "[Epoch 137/500]\n",
      "Train Loss: 0.2260 | Train Acc: 40.58%\n",
      "Valid Loss: 0.2297 | Valid Acc: 6.17%\n"
     ]
    },
    {
     "name": "stderr",
     "output_type": "stream",
     "text": [
      "Method ALL – Processing subject ALL – Val Accuracy: 6.83% | Best: 7.67%:  28%|█▉     | 138/500 [14:06<37:42,  6.25s/it]"
     ]
    },
    {
     "name": "stdout",
     "output_type": "stream",
     "text": [
      "[Epoch 138/500]\n",
      "Train Loss: 0.2271 | Train Acc: 50.19%\n",
      "Valid Loss: 0.2291 | Valid Acc: 6.83%\n"
     ]
    },
    {
     "name": "stderr",
     "output_type": "stream",
     "text": [
      "Method ALL – Processing subject ALL – Val Accuracy: 6.50% | Best: 7.67%:  28%|█▉     | 139/500 [14:12<37:38,  6.26s/it]"
     ]
    },
    {
     "name": "stdout",
     "output_type": "stream",
     "text": [
      "[Epoch 139/500]\n",
      "Train Loss: 0.2260 | Train Acc: 51.56%\n",
      "Valid Loss: 0.2262 | Valid Acc: 6.50%\n"
     ]
    },
    {
     "name": "stderr",
     "output_type": "stream",
     "text": [
      "Method ALL – Processing subject ALL – Val Accuracy: 7.00% | Best: 7.67%:  28%|█▉     | 140/500 [14:19<37:36,  6.27s/it]"
     ]
    },
    {
     "name": "stdout",
     "output_type": "stream",
     "text": [
      "[Epoch 140/500]\n",
      "Train Loss: 0.2262 | Train Acc: 43.54%\n",
      "Valid Loss: 0.2291 | Valid Acc: 7.00%\n"
     ]
    },
    {
     "name": "stderr",
     "output_type": "stream",
     "text": [
      "Method ALL – Processing subject ALL – Val Accuracy: 6.25% | Best: 7.67%:  28%|█▉     | 141/500 [14:25<37:18,  6.24s/it]"
     ]
    },
    {
     "name": "stdout",
     "output_type": "stream",
     "text": [
      "[Epoch 141/500]\n",
      "Train Loss: 0.2245 | Train Acc: 45.88%\n",
      "Valid Loss: 0.2332 | Valid Acc: 6.25%\n"
     ]
    },
    {
     "name": "stderr",
     "output_type": "stream",
     "text": [
      "Method ALL – Processing subject ALL – Val Accuracy: 7.00% | Best: 7.67%:  28%|█▉     | 142/500 [14:31<37:18,  6.25s/it]"
     ]
    },
    {
     "name": "stdout",
     "output_type": "stream",
     "text": [
      "[Epoch 142/500]\n",
      "Train Loss: 0.2271 | Train Acc: 54.50%\n",
      "Valid Loss: 0.2270 | Valid Acc: 7.00%\n"
     ]
    },
    {
     "name": "stderr",
     "output_type": "stream",
     "text": [
      "Method ALL – Processing subject ALL – Val Accuracy: 7.00% | Best: 7.67%:  29%|██     | 143/500 [14:37<37:09,  6.24s/it]"
     ]
    },
    {
     "name": "stdout",
     "output_type": "stream",
     "text": [
      "[Epoch 143/500]\n",
      "Train Loss: 0.2249 | Train Acc: 55.79%\n",
      "Valid Loss: 0.2234 | Valid Acc: 7.00%\n"
     ]
    },
    {
     "name": "stderr",
     "output_type": "stream",
     "text": [
      "Method ALL – Processing subject ALL – Val Accuracy: 6.67% | Best: 7.67%:  29%|██     | 144/500 [14:44<37:08,  6.26s/it]"
     ]
    },
    {
     "name": "stdout",
     "output_type": "stream",
     "text": [
      "[Epoch 144/500]\n",
      "Train Loss: 0.2289 | Train Acc: 46.67%\n",
      "Valid Loss: 0.2312 | Valid Acc: 6.67%\n"
     ]
    },
    {
     "name": "stderr",
     "output_type": "stream",
     "text": [
      "Method ALL – Processing subject ALL – Val Accuracy: 6.75% | Best: 7.67%:  29%|██     | 145/500 [14:50<36:57,  6.25s/it]"
     ]
    },
    {
     "name": "stdout",
     "output_type": "stream",
     "text": [
      "[Epoch 145/500]\n",
      "Train Loss: 0.2233 | Train Acc: 49.25%\n",
      "Valid Loss: 0.2266 | Valid Acc: 6.75%\n"
     ]
    },
    {
     "name": "stderr",
     "output_type": "stream",
     "text": [
      "Method ALL – Processing subject ALL – Val Accuracy: 6.58% | Best: 7.67%:  29%|██     | 146/500 [14:56<36:44,  6.23s/it]"
     ]
    },
    {
     "name": "stdout",
     "output_type": "stream",
     "text": [
      "[Epoch 146/500]\n",
      "Train Loss: 0.2261 | Train Acc: 58.65%\n",
      "Valid Loss: 0.2248 | Valid Acc: 6.58%\n"
     ]
    },
    {
     "name": "stderr",
     "output_type": "stream",
     "text": [
      "Method ALL – Processing subject ALL – Val Accuracy: 7.00% | Best: 7.67%:  29%|██     | 147/500 [15:02<36:36,  6.22s/it]"
     ]
    },
    {
     "name": "stdout",
     "output_type": "stream",
     "text": [
      "[Epoch 147/500]\n",
      "Train Loss: 0.2247 | Train Acc: 59.50%\n",
      "Valid Loss: 0.2300 | Valid Acc: 7.00%\n"
     ]
    },
    {
     "name": "stderr",
     "output_type": "stream",
     "text": [
      "Method ALL – Processing subject ALL – Val Accuracy: 7.08% | Best: 7.67%:  30%|██     | 148/500 [15:08<36:06,  6.15s/it]"
     ]
    },
    {
     "name": "stdout",
     "output_type": "stream",
     "text": [
      "[Epoch 148/500]\n",
      "Train Loss: 0.2262 | Train Acc: 50.12%\n",
      "Valid Loss: 0.2316 | Valid Acc: 7.08%\n"
     ]
    },
    {
     "name": "stderr",
     "output_type": "stream",
     "text": [
      "Method ALL – Processing subject ALL – Val Accuracy: 6.17% | Best: 7.67%:  30%|██     | 149/500 [15:14<36:16,  6.20s/it]"
     ]
    },
    {
     "name": "stdout",
     "output_type": "stream",
     "text": [
      "[Epoch 149/500]\n",
      "Train Loss: 0.2280 | Train Acc: 53.00%\n",
      "Valid Loss: 0.2320 | Valid Acc: 6.17%\n"
     ]
    },
    {
     "name": "stderr",
     "output_type": "stream",
     "text": [
      "Method ALL – Processing subject ALL – Val Accuracy: 6.50% | Best: 7.67%:  30%|██     | 150/500 [15:21<36:13,  6.21s/it]"
     ]
    },
    {
     "name": "stdout",
     "output_type": "stream",
     "text": [
      "[Epoch 150/500]\n",
      "Train Loss: 0.2282 | Train Acc: 61.71%\n",
      "Valid Loss: 0.2275 | Valid Acc: 6.50%\n"
     ]
    },
    {
     "name": "stderr",
     "output_type": "stream",
     "text": [
      "Method ALL – Processing subject ALL – Val Accuracy: 6.75% | Best: 7.67%:  30%|██     | 151/500 [15:27<36:13,  6.23s/it]"
     ]
    },
    {
     "name": "stdout",
     "output_type": "stream",
     "text": [
      "[Epoch 151/500]\n",
      "Train Loss: 0.2285 | Train Acc: 64.58%\n",
      "Valid Loss: 0.2295 | Valid Acc: 6.75%\n"
     ]
    },
    {
     "name": "stderr",
     "output_type": "stream",
     "text": [
      "Method ALL – Processing subject ALL – Val Accuracy: 6.50% | Best: 7.67%:  30%|██▏    | 152/500 [15:33<36:01,  6.21s/it]"
     ]
    },
    {
     "name": "stdout",
     "output_type": "stream",
     "text": [
      "[Epoch 152/500]\n",
      "Train Loss: 0.2287 | Train Acc: 55.10%\n",
      "Valid Loss: 0.2290 | Valid Acc: 6.50%\n"
     ]
    },
    {
     "name": "stderr",
     "output_type": "stream",
     "text": [
      "Method ALL – Processing subject ALL – Val Accuracy: 6.25% | Best: 7.67%:  31%|██▏    | 153/500 [15:39<36:03,  6.24s/it]"
     ]
    },
    {
     "name": "stdout",
     "output_type": "stream",
     "text": [
      "[Epoch 153/500]\n",
      "Train Loss: 0.2217 | Train Acc: 54.69%\n",
      "Valid Loss: 0.2261 | Valid Acc: 6.25%\n"
     ]
    },
    {
     "name": "stderr",
     "output_type": "stream",
     "text": [
      "Method ALL – Processing subject ALL – Val Accuracy: 6.50% | Best: 7.67%:  31%|██▏    | 154/500 [15:46<35:56,  6.23s/it]"
     ]
    },
    {
     "name": "stdout",
     "output_type": "stream",
     "text": [
      "[Epoch 154/500]\n",
      "Train Loss: 0.2256 | Train Acc: 66.77%\n",
      "Valid Loss: 0.2266 | Valid Acc: 6.50%\n"
     ]
    },
    {
     "name": "stderr",
     "output_type": "stream",
     "text": [
      "Method ALL – Processing subject ALL – Val Accuracy: 6.67% | Best: 7.67%:  31%|██▏    | 155/500 [15:52<35:50,  6.23s/it]"
     ]
    },
    {
     "name": "stdout",
     "output_type": "stream",
     "text": [
      "[Epoch 155/500]\n",
      "Train Loss: 0.2258 | Train Acc: 66.75%\n",
      "Valid Loss: 0.2257 | Valid Acc: 6.67%\n"
     ]
    },
    {
     "name": "stderr",
     "output_type": "stream",
     "text": [
      "Method ALL – Processing subject ALL – Val Accuracy: 6.25% | Best: 7.67%:  31%|██▏    | 156/500 [15:58<35:47,  6.24s/it]"
     ]
    },
    {
     "name": "stdout",
     "output_type": "stream",
     "text": [
      "[Epoch 156/500]\n",
      "Train Loss: 0.2245 | Train Acc: 58.02%\n",
      "Valid Loss: 0.2288 | Valid Acc: 6.25%\n"
     ]
    },
    {
     "name": "stderr",
     "output_type": "stream",
     "text": [
      "Method ALL – Processing subject ALL – Val Accuracy: 6.92% | Best: 7.67%:  31%|██▏    | 157/500 [16:04<35:34,  6.22s/it]"
     ]
    },
    {
     "name": "stdout",
     "output_type": "stream",
     "text": [
      "[Epoch 157/500]\n",
      "Train Loss: 0.2263 | Train Acc: 60.85%\n",
      "Valid Loss: 0.2277 | Valid Acc: 6.92%\n"
     ]
    },
    {
     "name": "stderr",
     "output_type": "stream",
     "text": [
      "Method ALL – Processing subject ALL – Val Accuracy: 6.33% | Best: 7.67%:  32%|██▏    | 158/500 [16:11<35:34,  6.24s/it]"
     ]
    },
    {
     "name": "stdout",
     "output_type": "stream",
     "text": [
      "[Epoch 158/500]\n",
      "Train Loss: 0.2278 | Train Acc: 70.15%\n",
      "Valid Loss: 0.2321 | Valid Acc: 6.33%\n"
     ]
    },
    {
     "name": "stderr",
     "output_type": "stream",
     "text": [
      "Method ALL – Processing subject ALL – Val Accuracy: 6.17% | Best: 7.67%:  32%|██▏    | 159/500 [16:17<35:34,  6.26s/it]"
     ]
    },
    {
     "name": "stdout",
     "output_type": "stream",
     "text": [
      "[Epoch 159/500]\n",
      "Train Loss: 0.2255 | Train Acc: 71.73%\n",
      "Valid Loss: 0.2310 | Valid Acc: 6.17%\n"
     ]
    },
    {
     "name": "stderr",
     "output_type": "stream",
     "text": [
      "Method ALL – Processing subject ALL – Val Accuracy: 6.33% | Best: 7.67%:  32%|██▏    | 160/500 [16:23<35:32,  6.27s/it]"
     ]
    },
    {
     "name": "stdout",
     "output_type": "stream",
     "text": [
      "[Epoch 160/500]\n",
      "Train Loss: 0.2226 | Train Acc: 63.35%\n",
      "Valid Loss: 0.2244 | Valid Acc: 6.33%\n"
     ]
    },
    {
     "name": "stderr",
     "output_type": "stream",
     "text": [
      "Method ALL – Processing subject ALL – Val Accuracy: 6.17% | Best: 7.67%:  32%|██▎    | 161/500 [16:29<35:25,  6.27s/it]"
     ]
    },
    {
     "name": "stdout",
     "output_type": "stream",
     "text": [
      "[Epoch 161/500]\n",
      "Train Loss: 0.2263 | Train Acc: 64.83%\n",
      "Valid Loss: 0.2255 | Valid Acc: 6.17%\n"
     ]
    },
    {
     "name": "stderr",
     "output_type": "stream",
     "text": [
      "Method ALL – Processing subject ALL – Val Accuracy: 6.25% | Best: 7.67%:  32%|██▎    | 162/500 [16:36<35:05,  6.23s/it]"
     ]
    },
    {
     "name": "stdout",
     "output_type": "stream",
     "text": [
      "[Epoch 162/500]\n",
      "Train Loss: 0.2247 | Train Acc: 73.38%\n",
      "Valid Loss: 0.2213 | Valid Acc: 6.25%\n"
     ]
    },
    {
     "name": "stderr",
     "output_type": "stream",
     "text": [
      "Method ALL – Processing subject ALL – Val Accuracy: 6.50% | Best: 7.67%:  33%|██▎    | 163/500 [16:42<35:05,  6.25s/it]"
     ]
    },
    {
     "name": "stdout",
     "output_type": "stream",
     "text": [
      "[Epoch 163/500]\n",
      "Train Loss: 0.2255 | Train Acc: 74.29%\n",
      "Valid Loss: 0.2311 | Valid Acc: 6.50%\n"
     ]
    },
    {
     "name": "stderr",
     "output_type": "stream",
     "text": [
      "Method ALL – Processing subject ALL – Val Accuracy: 6.00% | Best: 7.67%:  33%|██▎    | 164/500 [16:48<34:56,  6.24s/it]"
     ]
    },
    {
     "name": "stdout",
     "output_type": "stream",
     "text": [
      "[Epoch 164/500]\n",
      "Train Loss: 0.2266 | Train Acc: 66.25%\n",
      "Valid Loss: 0.2317 | Valid Acc: 6.00%\n"
     ]
    },
    {
     "name": "stderr",
     "output_type": "stream",
     "text": [
      "Method ALL – Processing subject ALL – Val Accuracy: 5.83% | Best: 7.67%:  33%|██▎    | 165/500 [16:54<34:56,  6.26s/it]"
     ]
    },
    {
     "name": "stdout",
     "output_type": "stream",
     "text": [
      "[Epoch 165/500]\n",
      "Train Loss: 0.2247 | Train Acc: 68.52%\n",
      "Valid Loss: 0.2340 | Valid Acc: 5.83%\n"
     ]
    },
    {
     "name": "stderr",
     "output_type": "stream",
     "text": [
      "Method ALL – Processing subject ALL – Val Accuracy: 6.25% | Best: 7.67%:  33%|██▎    | 166/500 [17:01<34:49,  6.26s/it]"
     ]
    },
    {
     "name": "stdout",
     "output_type": "stream",
     "text": [
      "[Epoch 166/500]\n",
      "Train Loss: 0.2255 | Train Acc: 76.62%\n",
      "Valid Loss: 0.2298 | Valid Acc: 6.25%\n"
     ]
    },
    {
     "name": "stderr",
     "output_type": "stream",
     "text": [
      "Method ALL – Processing subject ALL – Val Accuracy: 5.33% | Best: 7.67%:  33%|██▎    | 167/500 [17:07<34:38,  6.24s/it]"
     ]
    },
    {
     "name": "stdout",
     "output_type": "stream",
     "text": [
      "[Epoch 167/500]\n",
      "Train Loss: 0.2255 | Train Acc: 76.75%\n",
      "Valid Loss: 0.2327 | Valid Acc: 5.33%\n"
     ]
    },
    {
     "name": "stderr",
     "output_type": "stream",
     "text": [
      "Method ALL – Processing subject ALL – Val Accuracy: 6.25% | Best: 7.67%:  34%|██▎    | 168/500 [17:13<34:32,  6.24s/it]"
     ]
    },
    {
     "name": "stdout",
     "output_type": "stream",
     "text": [
      "[Epoch 168/500]\n",
      "Train Loss: 0.2269 | Train Acc: 70.02%\n",
      "Valid Loss: 0.2312 | Valid Acc: 6.25%\n"
     ]
    },
    {
     "name": "stderr",
     "output_type": "stream",
     "text": [
      "Method ALL – Processing subject ALL – Val Accuracy: 5.92% | Best: 7.67%:  34%|██▎    | 169/500 [17:19<34:25,  6.24s/it]"
     ]
    },
    {
     "name": "stdout",
     "output_type": "stream",
     "text": [
      "[Epoch 169/500]\n",
      "Train Loss: 0.2286 | Train Acc: 72.50%\n",
      "Valid Loss: 0.2235 | Valid Acc: 5.92%\n"
     ]
    },
    {
     "name": "stderr",
     "output_type": "stream",
     "text": [
      "Method ALL – Processing subject ALL – Val Accuracy: 5.75% | Best: 7.67%:  34%|██▍    | 170/500 [17:26<34:25,  6.26s/it]"
     ]
    },
    {
     "name": "stdout",
     "output_type": "stream",
     "text": [
      "[Epoch 170/500]\n",
      "Train Loss: 0.2294 | Train Acc: 79.88%\n",
      "Valid Loss: 0.2371 | Valid Acc: 5.75%\n"
     ]
    },
    {
     "name": "stderr",
     "output_type": "stream",
     "text": [
      "Method ALL – Processing subject ALL – Val Accuracy: 6.08% | Best: 7.67%:  34%|██▍    | 171/500 [17:32<34:15,  6.25s/it]"
     ]
    },
    {
     "name": "stdout",
     "output_type": "stream",
     "text": [
      "[Epoch 171/500]\n",
      "Train Loss: 0.2250 | Train Acc: 79.46%\n",
      "Valid Loss: 0.2295 | Valid Acc: 6.08%\n"
     ]
    },
    {
     "name": "stderr",
     "output_type": "stream",
     "text": [
      "Method ALL – Processing subject ALL – Val Accuracy: 6.58% | Best: 7.67%:  34%|██▍    | 172/500 [17:38<34:10,  6.25s/it]"
     ]
    },
    {
     "name": "stdout",
     "output_type": "stream",
     "text": [
      "[Epoch 172/500]\n",
      "Train Loss: 0.2257 | Train Acc: 74.69%\n",
      "Valid Loss: 0.2265 | Valid Acc: 6.58%\n"
     ]
    },
    {
     "name": "stderr",
     "output_type": "stream",
     "text": [
      "Method ALL – Processing subject ALL – Val Accuracy: 6.25% | Best: 7.67%:  35%|██▍    | 173/500 [17:44<33:52,  6.22s/it]"
     ]
    },
    {
     "name": "stdout",
     "output_type": "stream",
     "text": [
      "[Epoch 173/500]\n",
      "Train Loss: 0.2271 | Train Acc: 75.27%\n",
      "Valid Loss: 0.2262 | Valid Acc: 6.25%\n"
     ]
    },
    {
     "name": "stderr",
     "output_type": "stream",
     "text": [
      "Method ALL – Processing subject ALL – Val Accuracy: 5.50% | Best: 7.67%:  35%|██▍    | 174/500 [17:51<33:52,  6.23s/it]"
     ]
    },
    {
     "name": "stdout",
     "output_type": "stream",
     "text": [
      "[Epoch 174/500]\n",
      "Train Loss: 0.2267 | Train Acc: 82.10%\n",
      "Valid Loss: 0.2266 | Valid Acc: 5.50%\n"
     ]
    },
    {
     "name": "stderr",
     "output_type": "stream",
     "text": [
      "Method ALL – Processing subject ALL – Val Accuracy: 5.33% | Best: 7.67%:  35%|██▍    | 175/500 [17:57<33:53,  6.26s/it]"
     ]
    },
    {
     "name": "stdout",
     "output_type": "stream",
     "text": [
      "[Epoch 175/500]\n",
      "Train Loss: 0.2260 | Train Acc: 82.27%\n",
      "Valid Loss: 0.2260 | Valid Acc: 5.33%\n"
     ]
    },
    {
     "name": "stderr",
     "output_type": "stream",
     "text": [
      "Method ALL – Processing subject ALL – Val Accuracy: 5.83% | Best: 7.67%:  35%|██▍    | 176/500 [18:03<33:50,  6.27s/it]"
     ]
    },
    {
     "name": "stdout",
     "output_type": "stream",
     "text": [
      "[Epoch 176/500]\n",
      "Train Loss: 0.2268 | Train Acc: 76.54%\n",
      "Valid Loss: 0.2267 | Valid Acc: 5.83%\n"
     ]
    },
    {
     "name": "stderr",
     "output_type": "stream",
     "text": [
      "Method ALL – Processing subject ALL – Val Accuracy: 5.92% | Best: 7.67%:  35%|██▍    | 177/500 [18:09<33:48,  6.28s/it]"
     ]
    },
    {
     "name": "stdout",
     "output_type": "stream",
     "text": [
      "[Epoch 177/500]\n",
      "Train Loss: 0.2245 | Train Acc: 78.29%\n",
      "Valid Loss: 0.2288 | Valid Acc: 5.92%\n"
     ]
    },
    {
     "name": "stderr",
     "output_type": "stream",
     "text": [
      "Method ALL – Processing subject ALL – Val Accuracy: 5.92% | Best: 7.67%:  36%|██▍    | 178/500 [18:16<33:36,  6.26s/it]"
     ]
    },
    {
     "name": "stdout",
     "output_type": "stream",
     "text": [
      "[Epoch 178/500]\n",
      "Train Loss: 0.2259 | Train Acc: 85.35%\n",
      "Valid Loss: 0.2318 | Valid Acc: 5.92%\n"
     ]
    },
    {
     "name": "stderr",
     "output_type": "stream",
     "text": [
      "Method ALL – Processing subject ALL – Val Accuracy: 5.50% | Best: 7.67%:  36%|██▌    | 179/500 [18:22<33:08,  6.19s/it]"
     ]
    },
    {
     "name": "stdout",
     "output_type": "stream",
     "text": [
      "[Epoch 179/500]\n",
      "Train Loss: 0.2256 | Train Acc: 85.88%\n",
      "Valid Loss: 0.2272 | Valid Acc: 5.50%\n"
     ]
    },
    {
     "name": "stderr",
     "output_type": "stream",
     "text": [
      "Method ALL – Processing subject ALL – Val Accuracy: 5.42% | Best: 7.67%:  36%|██▌    | 180/500 [18:28<32:56,  6.18s/it]"
     ]
    },
    {
     "name": "stdout",
     "output_type": "stream",
     "text": [
      "[Epoch 180/500]\n",
      "Train Loss: 0.2290 | Train Acc: 79.71%\n",
      "Valid Loss: 0.2313 | Valid Acc: 5.42%\n"
     ]
    },
    {
     "name": "stderr",
     "output_type": "stream",
     "text": [
      "Method ALL – Processing subject ALL – Val Accuracy: 5.75% | Best: 7.67%:  36%|██▌    | 181/500 [18:34<33:02,  6.22s/it]"
     ]
    },
    {
     "name": "stdout",
     "output_type": "stream",
     "text": [
      "[Epoch 181/500]\n",
      "Train Loss: 0.2248 | Train Acc: 80.69%\n",
      "Valid Loss: 0.2367 | Valid Acc: 5.75%\n"
     ]
    },
    {
     "name": "stderr",
     "output_type": "stream",
     "text": [
      "Method ALL – Processing subject ALL – Val Accuracy: 5.42% | Best: 7.67%:  36%|██▌    | 182/500 [18:40<32:59,  6.23s/it]"
     ]
    },
    {
     "name": "stdout",
     "output_type": "stream",
     "text": [
      "[Epoch 182/500]\n",
      "Train Loss: 0.2257 | Train Acc: 86.83%\n",
      "Valid Loss: 0.2332 | Valid Acc: 5.42%\n"
     ]
    },
    {
     "name": "stderr",
     "output_type": "stream",
     "text": [
      "Method ALL – Processing subject ALL – Val Accuracy: 5.92% | Best: 7.67%:  37%|██▌    | 183/500 [18:47<32:39,  6.18s/it]"
     ]
    },
    {
     "name": "stdout",
     "output_type": "stream",
     "text": [
      "[Epoch 183/500]\n",
      "Train Loss: 0.2255 | Train Acc: 87.17%\n",
      "Valid Loss: 0.2311 | Valid Acc: 5.92%\n"
     ]
    },
    {
     "name": "stderr",
     "output_type": "stream",
     "text": [
      "Method ALL – Processing subject ALL – Val Accuracy: 6.25% | Best: 7.67%:  37%|██▌    | 184/500 [18:53<32:42,  6.21s/it]"
     ]
    },
    {
     "name": "stdout",
     "output_type": "stream",
     "text": [
      "[Epoch 184/500]\n",
      "Train Loss: 0.2241 | Train Acc: 82.08%\n",
      "Valid Loss: 0.2385 | Valid Acc: 6.25%\n"
     ]
    },
    {
     "name": "stderr",
     "output_type": "stream",
     "text": [
      "Method ALL – Processing subject ALL – Val Accuracy: 5.67% | Best: 7.67%:  37%|██▌    | 185/500 [18:59<32:39,  6.22s/it]"
     ]
    },
    {
     "name": "stdout",
     "output_type": "stream",
     "text": [
      "[Epoch 185/500]\n",
      "Train Loss: 0.2256 | Train Acc: 84.10%\n",
      "Valid Loss: 0.2228 | Valid Acc: 5.67%\n"
     ]
    },
    {
     "name": "stderr",
     "output_type": "stream",
     "text": [
      "Method ALL – Processing subject ALL – Val Accuracy: 5.92% | Best: 7.67%:  37%|██▌    | 186/500 [19:05<32:39,  6.24s/it]"
     ]
    },
    {
     "name": "stdout",
     "output_type": "stream",
     "text": [
      "[Epoch 186/500]\n",
      "Train Loss: 0.2223 | Train Acc: 89.02%\n",
      "Valid Loss: 0.2338 | Valid Acc: 5.92%\n"
     ]
    },
    {
     "name": "stderr",
     "output_type": "stream",
     "text": [
      "Method ALL – Processing subject ALL – Val Accuracy: 5.58% | Best: 7.67%:  37%|██▌    | 187/500 [19:12<32:30,  6.23s/it]"
     ]
    },
    {
     "name": "stdout",
     "output_type": "stream",
     "text": [
      "[Epoch 187/500]\n",
      "Train Loss: 0.2245 | Train Acc: 88.77%\n",
      "Valid Loss: 0.2271 | Valid Acc: 5.58%\n"
     ]
    },
    {
     "name": "stderr",
     "output_type": "stream",
     "text": [
      "Method ALL – Processing subject ALL – Val Accuracy: 5.50% | Best: 7.67%:  38%|██▋    | 188/500 [19:18<32:22,  6.23s/it]"
     ]
    },
    {
     "name": "stdout",
     "output_type": "stream",
     "text": [
      "[Epoch 188/500]\n",
      "Train Loss: 0.2262 | Train Acc: 85.54%\n",
      "Valid Loss: 0.2241 | Valid Acc: 5.50%\n"
     ]
    },
    {
     "name": "stderr",
     "output_type": "stream",
     "text": [
      "Method ALL – Processing subject ALL – Val Accuracy: 5.75% | Best: 7.67%:  38%|██▋    | 189/500 [19:24<32:08,  6.20s/it]"
     ]
    },
    {
     "name": "stdout",
     "output_type": "stream",
     "text": [
      "[Epoch 189/500]\n",
      "Train Loss: 0.2257 | Train Acc: 86.17%\n",
      "Valid Loss: 0.2286 | Valid Acc: 5.75%\n"
     ]
    },
    {
     "name": "stderr",
     "output_type": "stream",
     "text": [
      "Method ALL – Processing subject ALL – Val Accuracy: 5.33% | Best: 7.67%:  38%|██▋    | 190/500 [19:30<32:10,  6.23s/it]"
     ]
    },
    {
     "name": "stdout",
     "output_type": "stream",
     "text": [
      "[Epoch 190/500]\n",
      "Train Loss: 0.2243 | Train Acc: 90.62%\n",
      "Valid Loss: 0.2313 | Valid Acc: 5.33%\n"
     ]
    },
    {
     "name": "stderr",
     "output_type": "stream",
     "text": [
      "Method ALL – Processing subject ALL – Val Accuracy: 5.33% | Best: 7.67%:  38%|██▋    | 191/500 [19:36<32:09,  6.24s/it]"
     ]
    },
    {
     "name": "stdout",
     "output_type": "stream",
     "text": [
      "[Epoch 191/500]\n",
      "Train Loss: 0.2284 | Train Acc: 90.65%\n",
      "Valid Loss: 0.2292 | Valid Acc: 5.33%\n"
     ]
    },
    {
     "name": "stderr",
     "output_type": "stream",
     "text": [
      "Method ALL – Processing subject ALL – Val Accuracy: 5.58% | Best: 7.67%:  38%|██▋    | 192/500 [19:43<32:08,  6.26s/it]"
     ]
    },
    {
     "name": "stdout",
     "output_type": "stream",
     "text": [
      "[Epoch 192/500]\n",
      "Train Loss: 0.2230 | Train Acc: 86.56%\n",
      "Valid Loss: 0.2347 | Valid Acc: 5.58%\n"
     ]
    },
    {
     "name": "stderr",
     "output_type": "stream",
     "text": [
      "Method ALL – Processing subject ALL – Val Accuracy: 5.33% | Best: 7.67%:  39%|██▋    | 193/500 [19:49<31:55,  6.24s/it]"
     ]
    },
    {
     "name": "stdout",
     "output_type": "stream",
     "text": [
      "[Epoch 193/500]\n",
      "Train Loss: 0.2281 | Train Acc: 88.52%\n",
      "Valid Loss: 0.2301 | Valid Acc: 5.33%\n"
     ]
    },
    {
     "name": "stderr",
     "output_type": "stream",
     "text": [
      "Method ALL – Processing subject ALL – Val Accuracy: 5.33% | Best: 7.67%:  39%|██▋    | 194/500 [19:55<31:44,  6.22s/it]"
     ]
    },
    {
     "name": "stdout",
     "output_type": "stream",
     "text": [
      "[Epoch 194/500]\n",
      "Train Loss: 0.2261 | Train Acc: 92.46%\n",
      "Valid Loss: 0.2292 | Valid Acc: 5.33%\n"
     ]
    },
    {
     "name": "stderr",
     "output_type": "stream",
     "text": [
      "Method ALL – Processing subject ALL – Val Accuracy: 5.33% | Best: 7.67%:  39%|██▋    | 195/500 [20:01<31:41,  6.24s/it]"
     ]
    },
    {
     "name": "stdout",
     "output_type": "stream",
     "text": [
      "[Epoch 195/500]\n",
      "Train Loss: 0.2245 | Train Acc: 92.38%\n",
      "Valid Loss: 0.2301 | Valid Acc: 5.33%\n"
     ]
    },
    {
     "name": "stderr",
     "output_type": "stream",
     "text": [
      "Method ALL – Processing subject ALL – Val Accuracy: 5.33% | Best: 7.67%:  39%|██▋    | 196/500 [20:08<31:37,  6.24s/it]"
     ]
    },
    {
     "name": "stdout",
     "output_type": "stream",
     "text": [
      "[Epoch 196/500]\n",
      "Train Loss: 0.2258 | Train Acc: 89.58%\n",
      "Valid Loss: 0.2315 | Valid Acc: 5.33%\n"
     ]
    },
    {
     "name": "stderr",
     "output_type": "stream",
     "text": [
      "Method ALL – Processing subject ALL – Val Accuracy: 5.25% | Best: 7.67%:  39%|██▊    | 197/500 [20:14<31:29,  6.24s/it]"
     ]
    },
    {
     "name": "stdout",
     "output_type": "stream",
     "text": [
      "[Epoch 197/500]\n",
      "Train Loss: 0.2255 | Train Acc: 90.21%\n",
      "Valid Loss: 0.2302 | Valid Acc: 5.25%\n"
     ]
    },
    {
     "name": "stderr",
     "output_type": "stream",
     "text": [
      "Method ALL – Processing subject ALL – Val Accuracy: 5.17% | Best: 7.67%:  40%|██▊    | 198/500 [20:20<31:31,  6.26s/it]"
     ]
    },
    {
     "name": "stdout",
     "output_type": "stream",
     "text": [
      "[Epoch 198/500]\n",
      "Train Loss: 0.2235 | Train Acc: 93.19%\n",
      "Valid Loss: 0.2320 | Valid Acc: 5.17%\n"
     ]
    },
    {
     "name": "stderr",
     "output_type": "stream",
     "text": [
      "Method ALL – Processing subject ALL – Val Accuracy: 5.08% | Best: 7.67%:  40%|██▊    | 199/500 [20:26<31:18,  6.24s/it]"
     ]
    },
    {
     "name": "stdout",
     "output_type": "stream",
     "text": [
      "[Epoch 199/500]\n",
      "Train Loss: 0.2276 | Train Acc: 93.48%\n",
      "Valid Loss: 0.2246 | Valid Acc: 5.08%\n"
     ]
    },
    {
     "name": "stderr",
     "output_type": "stream",
     "text": [
      "Method ALL – Processing subject ALL – Val Accuracy: 4.83% | Best: 7.67%:  40%|██▊    | 200/500 [20:33<31:16,  6.25s/it]"
     ]
    },
    {
     "name": "stdout",
     "output_type": "stream",
     "text": [
      "[Epoch 200/500]\n",
      "Train Loss: 0.2223 | Train Acc: 89.60%\n",
      "Valid Loss: 0.2264 | Valid Acc: 4.83%\n"
     ]
    },
    {
     "name": "stderr",
     "output_type": "stream",
     "text": [
      "Method ALL – Processing subject ALL – Val Accuracy: 5.33% | Best: 7.67%:  40%|██▊    | 201/500 [20:39<31:06,  6.24s/it]"
     ]
    },
    {
     "name": "stdout",
     "output_type": "stream",
     "text": [
      "[Epoch 201/500]\n",
      "Train Loss: 0.2242 | Train Acc: 91.48%\n",
      "Valid Loss: 0.2249 | Valid Acc: 5.33%\n"
     ]
    },
    {
     "name": "stderr",
     "output_type": "stream",
     "text": [
      "Method ALL – Processing subject ALL – Val Accuracy: 5.25% | Best: 7.67%:  40%|██▊    | 202/500 [20:45<30:56,  6.23s/it]"
     ]
    },
    {
     "name": "stdout",
     "output_type": "stream",
     "text": [
      "[Epoch 202/500]\n",
      "Train Loss: 0.2242 | Train Acc: 94.62%\n",
      "Valid Loss: 0.2270 | Valid Acc: 5.25%\n"
     ]
    },
    {
     "name": "stderr",
     "output_type": "stream",
     "text": [
      "Method ALL – Processing subject ALL – Val Accuracy: 5.33% | Best: 7.67%:  41%|██▊    | 203/500 [20:51<30:48,  6.22s/it]"
     ]
    },
    {
     "name": "stdout",
     "output_type": "stream",
     "text": [
      "[Epoch 203/500]\n",
      "Train Loss: 0.2256 | Train Acc: 94.40%\n",
      "Valid Loss: 0.2297 | Valid Acc: 5.33%\n"
     ]
    },
    {
     "name": "stderr",
     "output_type": "stream",
     "text": [
      "Method ALL – Processing subject ALL – Val Accuracy: 5.33% | Best: 7.67%:  41%|██▊    | 204/500 [20:57<30:25,  6.17s/it]"
     ]
    },
    {
     "name": "stdout",
     "output_type": "stream",
     "text": [
      "[Epoch 204/500]\n",
      "Train Loss: 0.2243 | Train Acc: 92.17%\n",
      "Valid Loss: 0.2261 | Valid Acc: 5.33%\n"
     ]
    },
    {
     "name": "stderr",
     "output_type": "stream",
     "text": [
      "Method ALL – Processing subject ALL – Val Accuracy: 5.17% | Best: 7.67%:  41%|██▊    | 205/500 [21:03<30:17,  6.16s/it]"
     ]
    },
    {
     "name": "stdout",
     "output_type": "stream",
     "text": [
      "[Epoch 205/500]\n",
      "Train Loss: 0.2292 | Train Acc: 92.83%\n",
      "Valid Loss: 0.2254 | Valid Acc: 5.17%\n"
     ]
    },
    {
     "name": "stderr",
     "output_type": "stream",
     "text": [
      "Method ALL – Processing subject ALL – Val Accuracy: 5.08% | Best: 7.67%:  41%|██▉    | 206/500 [21:10<30:21,  6.20s/it]"
     ]
    },
    {
     "name": "stdout",
     "output_type": "stream",
     "text": [
      "[Epoch 206/500]\n",
      "Train Loss: 0.2252 | Train Acc: 95.27%\n",
      "Valid Loss: 0.2275 | Valid Acc: 5.08%\n"
     ]
    },
    {
     "name": "stderr",
     "output_type": "stream",
     "text": [
      "Method ALL – Processing subject ALL – Val Accuracy: 5.25% | Best: 7.67%:  41%|██▉    | 207/500 [21:16<30:21,  6.22s/it]"
     ]
    },
    {
     "name": "stdout",
     "output_type": "stream",
     "text": [
      "[Epoch 207/500]\n",
      "Train Loss: 0.2239 | Train Acc: 95.38%\n",
      "Valid Loss: 0.2230 | Valid Acc: 5.25%\n"
     ]
    },
    {
     "name": "stderr",
     "output_type": "stream",
     "text": [
      "Method ALL – Processing subject ALL – Val Accuracy: 5.33% | Best: 7.67%:  42%|██▉    | 208/500 [21:22<30:21,  6.24s/it]"
     ]
    },
    {
     "name": "stdout",
     "output_type": "stream",
     "text": [
      "[Epoch 208/500]\n",
      "Train Loss: 0.2237 | Train Acc: 93.17%\n",
      "Valid Loss: 0.2257 | Valid Acc: 5.33%\n"
     ]
    },
    {
     "name": "stderr",
     "output_type": "stream",
     "text": [
      "Method ALL – Processing subject ALL – Val Accuracy: 5.25% | Best: 7.67%:  42%|██▉    | 209/500 [21:29<30:14,  6.24s/it]"
     ]
    },
    {
     "name": "stdout",
     "output_type": "stream",
     "text": [
      "[Epoch 209/500]\n",
      "Train Loss: 0.2261 | Train Acc: 94.56%\n",
      "Valid Loss: 0.2318 | Valid Acc: 5.25%\n"
     ]
    },
    {
     "name": "stderr",
     "output_type": "stream",
     "text": [
      "Method ALL – Processing subject ALL – Val Accuracy: 4.83% | Best: 7.67%:  42%|██▉    | 210/500 [21:35<30:06,  6.23s/it]"
     ]
    },
    {
     "name": "stdout",
     "output_type": "stream",
     "text": [
      "[Epoch 210/500]\n",
      "Train Loss: 0.2266 | Train Acc: 96.06%\n",
      "Valid Loss: 0.2303 | Valid Acc: 4.83%\n"
     ]
    },
    {
     "name": "stderr",
     "output_type": "stream",
     "text": [
      "Method ALL – Processing subject ALL – Val Accuracy: 5.17% | Best: 7.67%:  42%|██▉    | 211/500 [21:41<29:59,  6.23s/it]"
     ]
    },
    {
     "name": "stdout",
     "output_type": "stream",
     "text": [
      "[Epoch 211/500]\n",
      "Train Loss: 0.2283 | Train Acc: 96.15%\n",
      "Valid Loss: 0.2346 | Valid Acc: 5.17%\n"
     ]
    },
    {
     "name": "stderr",
     "output_type": "stream",
     "text": [
      "Method ALL – Processing subject ALL – Val Accuracy: 5.33% | Best: 7.67%:  42%|██▉    | 212/500 [21:47<29:53,  6.23s/it]"
     ]
    },
    {
     "name": "stdout",
     "output_type": "stream",
     "text": [
      "[Epoch 212/500]\n",
      "Train Loss: 0.2236 | Train Acc: 94.21%\n",
      "Valid Loss: 0.2286 | Valid Acc: 5.33%\n"
     ]
    },
    {
     "name": "stderr",
     "output_type": "stream",
     "text": [
      "Method ALL – Processing subject ALL – Val Accuracy: 5.25% | Best: 7.67%:  43%|██▉    | 213/500 [21:53<29:50,  6.24s/it]"
     ]
    },
    {
     "name": "stdout",
     "output_type": "stream",
     "text": [
      "[Epoch 213/500]\n",
      "Train Loss: 0.2253 | Train Acc: 95.52%\n",
      "Valid Loss: 0.2319 | Valid Acc: 5.25%\n"
     ]
    },
    {
     "name": "stderr",
     "output_type": "stream",
     "text": [
      "Method ALL – Processing subject ALL – Val Accuracy: 5.33% | Best: 7.67%:  43%|██▉    | 214/500 [22:00<29:50,  6.26s/it]"
     ]
    },
    {
     "name": "stdout",
     "output_type": "stream",
     "text": [
      "[Epoch 214/500]\n",
      "Train Loss: 0.2227 | Train Acc: 97.12%\n",
      "Valid Loss: 0.2262 | Valid Acc: 5.33%\n"
     ]
    },
    {
     "name": "stderr",
     "output_type": "stream",
     "text": [
      "Method ALL – Processing subject ALL – Val Accuracy: 5.25% | Best: 7.67%:  43%|███    | 215/500 [22:06<29:35,  6.23s/it]"
     ]
    },
    {
     "name": "stdout",
     "output_type": "stream",
     "text": [
      "[Epoch 215/500]\n",
      "Train Loss: 0.2264 | Train Acc: 97.10%\n",
      "Valid Loss: 0.2352 | Valid Acc: 5.25%\n"
     ]
    },
    {
     "name": "stderr",
     "output_type": "stream",
     "text": [
      "Method ALL – Processing subject ALL – Val Accuracy: 5.50% | Best: 7.67%:  43%|███    | 216/500 [22:12<29:34,  6.25s/it]"
     ]
    },
    {
     "name": "stdout",
     "output_type": "stream",
     "text": [
      "[Epoch 216/500]\n",
      "Train Loss: 0.2266 | Train Acc: 95.67%\n",
      "Valid Loss: 0.2249 | Valid Acc: 5.50%\n"
     ]
    },
    {
     "name": "stderr",
     "output_type": "stream",
     "text": [
      "Method ALL – Processing subject ALL – Val Accuracy: 5.17% | Best: 7.67%:  43%|███    | 217/500 [22:19<29:34,  6.27s/it]"
     ]
    },
    {
     "name": "stdout",
     "output_type": "stream",
     "text": [
      "[Epoch 217/500]\n",
      "Train Loss: 0.2226 | Train Acc: 95.81%\n",
      "Valid Loss: 0.2316 | Valid Acc: 5.17%\n"
     ]
    },
    {
     "name": "stderr",
     "output_type": "stream",
     "text": [
      "Method ALL – Processing subject ALL – Val Accuracy: 5.25% | Best: 7.67%:  44%|███    | 218/500 [22:25<29:27,  6.27s/it]"
     ]
    },
    {
     "name": "stdout",
     "output_type": "stream",
     "text": [
      "[Epoch 218/500]\n",
      "Train Loss: 0.2242 | Train Acc: 97.56%\n",
      "Valid Loss: 0.2311 | Valid Acc: 5.25%\n"
     ]
    },
    {
     "name": "stderr",
     "output_type": "stream",
     "text": [
      "Method ALL – Processing subject ALL – Val Accuracy: 5.17% | Best: 7.67%:  44%|███    | 219/500 [22:31<29:23,  6.27s/it]"
     ]
    },
    {
     "name": "stdout",
     "output_type": "stream",
     "text": [
      "[Epoch 219/500]\n",
      "Train Loss: 0.2230 | Train Acc: 97.54%\n",
      "Valid Loss: 0.2289 | Valid Acc: 5.17%\n"
     ]
    },
    {
     "name": "stderr",
     "output_type": "stream",
     "text": [
      "Method ALL – Processing subject ALL – Val Accuracy: 5.25% | Best: 7.67%:  44%|███    | 220/500 [22:37<29:09,  6.25s/it]"
     ]
    },
    {
     "name": "stdout",
     "output_type": "stream",
     "text": [
      "[Epoch 220/500]\n",
      "Train Loss: 0.2227 | Train Acc: 95.83%\n",
      "Valid Loss: 0.2327 | Valid Acc: 5.25%\n"
     ]
    },
    {
     "name": "stderr",
     "output_type": "stream",
     "text": [
      "Method ALL – Processing subject ALL – Val Accuracy: 5.08% | Best: 7.67%:  44%|███    | 221/500 [22:44<29:02,  6.24s/it]"
     ]
    },
    {
     "name": "stdout",
     "output_type": "stream",
     "text": [
      "[Epoch 221/500]\n",
      "Train Loss: 0.2254 | Train Acc: 97.06%\n",
      "Valid Loss: 0.2333 | Valid Acc: 5.08%\n"
     ]
    },
    {
     "name": "stderr",
     "output_type": "stream",
     "text": [
      "Method ALL – Processing subject ALL – Val Accuracy: 5.08% | Best: 7.67%:  44%|███    | 222/500 [22:50<28:47,  6.21s/it]"
     ]
    },
    {
     "name": "stdout",
     "output_type": "stream",
     "text": [
      "[Epoch 222/500]\n",
      "Train Loss: 0.2249 | Train Acc: 98.06%\n",
      "Valid Loss: 0.2226 | Valid Acc: 5.08%\n"
     ]
    },
    {
     "name": "stderr",
     "output_type": "stream",
     "text": [
      "Method ALL – Processing subject ALL – Val Accuracy: 5.42% | Best: 7.67%:  45%|███    | 223/500 [22:56<28:45,  6.23s/it]"
     ]
    },
    {
     "name": "stdout",
     "output_type": "stream",
     "text": [
      "[Epoch 223/500]\n",
      "Train Loss: 0.2261 | Train Acc: 98.00%\n",
      "Valid Loss: 0.2332 | Valid Acc: 5.42%\n"
     ]
    },
    {
     "name": "stderr",
     "output_type": "stream",
     "text": [
      "Method ALL – Processing subject ALL – Val Accuracy: 4.92% | Best: 7.67%:  45%|███▏   | 224/500 [23:02<28:28,  6.19s/it]"
     ]
    },
    {
     "name": "stdout",
     "output_type": "stream",
     "text": [
      "[Epoch 224/500]\n",
      "Train Loss: 0.2235 | Train Acc: 96.90%\n",
      "Valid Loss: 0.2293 | Valid Acc: 4.92%\n"
     ]
    },
    {
     "name": "stderr",
     "output_type": "stream",
     "text": [
      "Method ALL – Processing subject ALL – Val Accuracy: 4.92% | Best: 7.67%:  45%|███▏   | 224/500 [23:02<28:23,  6.17s/it]\n"
     ]
    },
    {
     "ename": "KeyboardInterrupt",
     "evalue": "",
     "output_type": "error",
     "traceback": [
      "\u001b[1;31m---------------------------------------------------------------------------\u001b[0m",
      "\u001b[1;31mKeyboardInterrupt\u001b[0m                         Traceback (most recent call last)",
      "Cell \u001b[1;32mIn[16], line 62\u001b[0m\n\u001b[0;32m     60\u001b[0m loss_c \u001b[38;5;241m=\u001b[39m criterion_class(fc_out, y)\n\u001b[0;32m     61\u001b[0m loss \u001b[38;5;241m=\u001b[39m loss_gap \u001b[38;5;241m+\u001b[39m alpha \u001b[38;5;241m*\u001b[39m loss_c\n\u001b[1;32m---> 62\u001b[0m loss\u001b[38;5;241m.\u001b[39mbackward()\n\u001b[0;32m     63\u001b[0m optim2\u001b[38;5;241m.\u001b[39mstep()\n\u001b[0;32m     65\u001b[0m \u001b[38;5;66;03m# Optimizer scheduler step\u001b[39;00m\n",
      "File \u001b[1;32m~\\anaconda3\\envs\\pytorch_env_p11\\Lib\\site-packages\\torch\\_tensor.py:581\u001b[0m, in \u001b[0;36mTensor.backward\u001b[1;34m(self, gradient, retain_graph, create_graph, inputs)\u001b[0m\n\u001b[0;32m    571\u001b[0m \u001b[38;5;28;01mif\u001b[39;00m has_torch_function_unary(\u001b[38;5;28mself\u001b[39m):\n\u001b[0;32m    572\u001b[0m     \u001b[38;5;28;01mreturn\u001b[39;00m handle_torch_function(\n\u001b[0;32m    573\u001b[0m         Tensor\u001b[38;5;241m.\u001b[39mbackward,\n\u001b[0;32m    574\u001b[0m         (\u001b[38;5;28mself\u001b[39m,),\n\u001b[1;32m   (...)\u001b[0m\n\u001b[0;32m    579\u001b[0m         inputs\u001b[38;5;241m=\u001b[39minputs,\n\u001b[0;32m    580\u001b[0m     )\n\u001b[1;32m--> 581\u001b[0m torch\u001b[38;5;241m.\u001b[39mautograd\u001b[38;5;241m.\u001b[39mbackward(\n\u001b[0;32m    582\u001b[0m     \u001b[38;5;28mself\u001b[39m, gradient, retain_graph, create_graph, inputs\u001b[38;5;241m=\u001b[39minputs\n\u001b[0;32m    583\u001b[0m )\n",
      "File \u001b[1;32m~\\anaconda3\\envs\\pytorch_env_p11\\Lib\\site-packages\\torch\\autograd\\__init__.py:347\u001b[0m, in \u001b[0;36mbackward\u001b[1;34m(tensors, grad_tensors, retain_graph, create_graph, grad_variables, inputs)\u001b[0m\n\u001b[0;32m    342\u001b[0m     retain_graph \u001b[38;5;241m=\u001b[39m create_graph\n\u001b[0;32m    344\u001b[0m \u001b[38;5;66;03m# The reason we repeat the same comment below is that\u001b[39;00m\n\u001b[0;32m    345\u001b[0m \u001b[38;5;66;03m# some Python versions print out the first line of a multi-line function\u001b[39;00m\n\u001b[0;32m    346\u001b[0m \u001b[38;5;66;03m# calls in the traceback and some print out the last line\u001b[39;00m\n\u001b[1;32m--> 347\u001b[0m _engine_run_backward(\n\u001b[0;32m    348\u001b[0m     tensors,\n\u001b[0;32m    349\u001b[0m     grad_tensors_,\n\u001b[0;32m    350\u001b[0m     retain_graph,\n\u001b[0;32m    351\u001b[0m     create_graph,\n\u001b[0;32m    352\u001b[0m     inputs,\n\u001b[0;32m    353\u001b[0m     allow_unreachable\u001b[38;5;241m=\u001b[39m\u001b[38;5;28;01mTrue\u001b[39;00m,\n\u001b[0;32m    354\u001b[0m     accumulate_grad\u001b[38;5;241m=\u001b[39m\u001b[38;5;28;01mTrue\u001b[39;00m,\n\u001b[0;32m    355\u001b[0m )\n",
      "File \u001b[1;32m~\\anaconda3\\envs\\pytorch_env_p11\\Lib\\site-packages\\torch\\autograd\\graph.py:825\u001b[0m, in \u001b[0;36m_engine_run_backward\u001b[1;34m(t_outputs, *args, **kwargs)\u001b[0m\n\u001b[0;32m    823\u001b[0m     unregister_hooks \u001b[38;5;241m=\u001b[39m _register_logging_hooks_on_whole_graph(t_outputs)\n\u001b[0;32m    824\u001b[0m \u001b[38;5;28;01mtry\u001b[39;00m:\n\u001b[1;32m--> 825\u001b[0m     \u001b[38;5;28;01mreturn\u001b[39;00m Variable\u001b[38;5;241m.\u001b[39m_execution_engine\u001b[38;5;241m.\u001b[39mrun_backward(  \u001b[38;5;66;03m# Calls into the C++ engine to run the backward pass\u001b[39;00m\n\u001b[0;32m    826\u001b[0m         t_outputs, \u001b[38;5;241m*\u001b[39margs, \u001b[38;5;241m*\u001b[39m\u001b[38;5;241m*\u001b[39mkwargs\n\u001b[0;32m    827\u001b[0m     )  \u001b[38;5;66;03m# Calls into the C++ engine to run the backward pass\u001b[39;00m\n\u001b[0;32m    828\u001b[0m \u001b[38;5;28;01mfinally\u001b[39;00m:\n\u001b[0;32m    829\u001b[0m     \u001b[38;5;28;01mif\u001b[39;00m attach_logging_hooks:\n",
      "\u001b[1;31mKeyboardInterrupt\u001b[0m: "
     ]
    }
   ],
   "source": [
    "# Train & Evaluate\n",
    "args = argparse.Namespace()\n",
    "args.device = device\n",
    "args.subject = \"ALL\"\n",
    "#args.root_dir = subject_chars_dir\n",
    "subject = args.subject\n",
    "\n",
    "num_epochs = 500\n",
    "test_period = 1\n",
    "start_test = test_period\n",
    "alpha = 0.1\n",
    "\n",
    "best_acc = 0\n",
    "best_f1 = 0\n",
    "best_recall = 0\n",
    "best_precision = 0\n",
    "best_auc = 0\n",
    "\n",
    "history = {\n",
    "    \"train_loss\": [],\n",
    "    \"train_acc\": [],\n",
    "    \"val_loss\": [],\n",
    "    \"val_acc\": []\n",
    "}\n",
    "\n",
    "with tqdm(total=num_epochs, desc=f\"Method ALL - Joint Training on All Subjects\") as pbar:\n",
    "    for epoch in range(num_epochs):\n",
    "        ddpm.train()\n",
    "        diffe.train()\n",
    "\n",
    "        epoch_loss = 0\n",
    "        num_batches = 0\n",
    "        epoch_acc = 0\n",
    "        total_samples = 0\n",
    "\n",
    "        ############################## Train ###########################################\n",
    "        for x, y in train_loader:\n",
    "            x, y = x.to(device), y.to(device)\n",
    "            #y_cat = F.one_hot(y, num_classes=40).type(torch.FloatTensor).to(device)\n",
    "            # Train DDPM\n",
    "            optim1.zero_grad()\n",
    "            x_hat, down, up, noise, t = ddpm(x)\n",
    "\n",
    "            # Align the temporal dimension of x_hat and x\n",
    "            if x_hat.shape[-1] != x.shape[-1]:\n",
    "                target_len = min(x_hat.shape[-1], x.shape[-1])\n",
    "                x_hat = F.interpolate(x_hat, size=target_len)\n",
    "                x = F.interpolate(x, size=target_len)\n",
    "\n",
    "            loss_ddpm = F.l1_loss(x_hat, x, reduction=\"none\")\n",
    "            loss_ddpm.mean().backward()\n",
    "            optim1.step()\n",
    "            ddpm_out = x_hat, down, up, t\n",
    "\n",
    "            # Train Diff-E\n",
    "            optim2.zero_grad()\n",
    "            decoder_out, fc_out = diffe(x, ddpm_out)\n",
    "\n",
    "            loss_gap = criterion(decoder_out, loss_ddpm.detach())\n",
    "            loss_c = criterion_class(fc_out, y)\n",
    "            loss = loss_gap + alpha * loss_c\n",
    "            loss.backward()\n",
    "            optim2.step()\n",
    "\n",
    "            # Optimizer scheduler step\n",
    "            scheduler1.step()\n",
    "            scheduler2.step()\n",
    "\n",
    "            # EMA update\n",
    "            fc_ema.update()\n",
    "\n",
    "            epoch_loss += loss.item()\n",
    "            num_batches += 1\n",
    "\n",
    "            pred_labels = torch.argmax(fc_out, dim=1)\n",
    "            y_indices = torch.argmax(y, dim=1)  # need a bit of change here\n",
    "            correct = (pred_labels == y_indices).sum().item()\n",
    "            epoch_acc += correct\n",
    "            total_samples += y_indices.size(0)\n",
    "\n",
    "        history[\"train_loss\"].append(epoch_loss / num_batches)\n",
    "        history[\"train_acc\"].append(epoch_acc / total_samples)\n",
    "\n",
    "        ############################## validation ###########################################\n",
    "        with torch.no_grad():\n",
    "            if epoch > start_test:\n",
    "                test_period = 1\n",
    "            if epoch % test_period == 0:\n",
    "                ddpm.eval()\n",
    "                diffe.eval()\n",
    "\n",
    "                metrics_val = evaluate(diffe.encoder, fc_ema, val_loader, device)\n",
    "\n",
    "                val_acc = metrics_val[\"accuracy\"]\n",
    "                history[\"val_acc\"].append(val_acc)\n",
    "                f1 = metrics_val[\"f1\"]\n",
    "                recall = metrics_val[\"recall\"]\n",
    "                precision = metrics_val[\"precision\"]\n",
    "                auc = metrics_val[\"auc\"]\n",
    "\n",
    "                val_loss = 0\n",
    "                with torch.no_grad():\n",
    "                    for x, y in val_loader:\n",
    "                        x, y = x.to(device), y.to(device)\n",
    "                        #y_cat = F.one_hot(y, num_classes=40).float().to(device)\n",
    "\n",
    "                        x_hat, down, up, noise, t = ddpm(x)\n",
    "                        ddpm_out = x_hat, down, up, t\n",
    "\n",
    "                        if x_hat.shape[-1] != x.shape[-1]:\n",
    "                            target_len = min(x_hat.shape[-1], x.shape[-1])\n",
    "                            x_hat = F.interpolate(x_hat, size=target_len)\n",
    "                            x = F.interpolate(x, size=target_len)\n",
    "\n",
    "                        loss_ddpm = F.l1_loss(x_hat, x, reduction=\"none\")\n",
    "                        decoder_out, fc_out = diffe(x, ddpm_out)\n",
    "\n",
    "                        loss_gap = criterion(decoder_out, loss_ddpm)\n",
    "                        loss_c = criterion_class(fc_out, y)\n",
    "\n",
    "                        val_loss += (loss_gap + alpha * loss_c).item()\n",
    "                history[\"val_loss\"].append(val_loss / len(val_loader))\n",
    "\n",
    "                best_acc_bool = val_acc > best_acc\n",
    "                best_f1_bool = f1 > best_f1\n",
    "                best_recall_bool = recall > best_recall\n",
    "                best_precision_bool = precision > best_precision\n",
    "                best_auc_bool = auc > best_auc\n",
    "\n",
    "                if best_acc_bool:\n",
    "                    best_acc = val_acc\n",
    "                    #torch.save(diffe.state_dict(), f'/content/drive/MyDrive/project/model/ssvep/diffe_{subject}.pth')\n",
    "                    torch.save(diffe.state_dict(), r'C:\\LTI 11785 Introduction to deep learning\\project\\SSVEP\\checkpoints\\diffe_all_subjects.pth')\n",
    "                if best_f1_bool:\n",
    "                    best_f1 = f1\n",
    "                if best_recall_bool:\n",
    "                    best_recall = recall\n",
    "                if best_precision_bool:\n",
    "                    best_precision = precision\n",
    "                if best_auc_bool:\n",
    "                    best_auc = auc\n",
    "\n",
    "                # print(\"Subject: {0}\".format(subject))\n",
    "                # # print(\"ddpm test loss: {0:.4f}\".format(t_test_loss_ddpm/len(test_generator)))\n",
    "                # # print(\"encoder test loss: {0:.4f}\".format(t_test_loss_ed/len(test_generator)))\n",
    "                # print(\"accuracy:  {0:.2f}%\".format(acc*100), \"best: {0:.2f}%\".format(best_acc*100))\n",
    "                # print(\"f1-score:  {0:.2f}%\".format(f1*100), \"best: {0:.2f}%\".format(best_f1*100))\n",
    "                # print(\"recall:    {0:.2f}%\".format(recall*100), \"best: {0:.2f}%\".format(best_recall*100))\n",
    "                # print(\"precision: {0:.2f}%\".format(precision*100), \"best: {0:.2f}%\".format(best_precision*100))\n",
    "                # print(\"auc:       {0:.2f}%\".format(auc*100), \"best: {0:.2f}%\".format(best_auc*100))\n",
    "                # writer.add_scalar(f\"EEGNet/Accuracy/subject_{subject}\", acc*100, epoch)\n",
    "                # writer.add_scalar(f\"EEGNet/F1-score/subject_{subject}\", f1*100, epoch)\n",
    "                # writer.add_scalar(f\"EEGNet/Recall/subject_{subject}\", recall*100, epoch)\n",
    "                # writer.add_scalar(f\"EEGNet/Precision/subject_{subject}\", precision*100, epoch)\n",
    "                # writer.add_scalar(f\"EEGNet/AUC/subject_{subject}\", auc*100, epoch)\n",
    "\n",
    "                # if best_acc_bool or best_f1_bool or best_recall_bool or best_precision_bool or best_auc_bool:\n",
    "                #     performance = {'subject': subject,\n",
    "                #                 'epoch': epoch,\n",
    "                #                 'accuracy': best_acc*100,\n",
    "                #                 'f1_score': best_f1*100,\n",
    "                #                 'recall': best_recall*100,\n",
    "                #                 'precision': best_precision*100,\n",
    "                #                 'auc': best_auc*100\n",
    "                #                 }\n",
    "                #     with open(output_file, 'a') as f:\n",
    "                #         f.write(f\"{performance['subject']}, {performance['epoch']}, {performance['accuracy']}, {performance['f1_score']}, {performance['recall']}, {performance['precision']}, {performance['auc']}\\n\")\n",
    "                description = f\"Val Accuracy: {val_acc*100:.2f}% | Best: {best_acc*100:.2f}%\"\n",
    "                pbar.set_description(f\"Method ALL – Processing subject {subject} – {description}\"\n",
    "                )\n",
    "        print(f\"[Epoch {epoch+1}/{num_epochs}]\")\n",
    "        print(f\"Train Loss: {history['train_loss'][-1]:.4f} | Train Acc: {history['train_acc'][-1]*100:.2f}%\")\n",
    "        print(f\"Valid Loss: {history['val_loss'][-1]:.4f} | Valid Acc: {val_acc*100:.2f}%\")\n",
    "        \n",
    "        pbar.update(1)"
   ]
  },
  {
   "cell_type": "code",
   "execution_count": 17,
   "id": "BzCmk5Zy_96e",
   "metadata": {
    "colab": {
     "base_uri": "https://localhost:8080/",
     "height": 300
    },
    "id": "BzCmk5Zy_96e",
    "outputId": "949b043f-06a2-44b3-a23e-f9068f0c4930"
   },
   "outputs": [
    {
     "data": {
      "image/png": "[encoded data removed]",
      "text/plain": [
       "<Figure size 1200x400 with 2 Axes>"
      ]
     },
     "metadata": {},
     "output_type": "display_data"
    }
   ],
   "source": [
    "import matplotlib.pyplot as plt\n",
    "\n",
    "plt.figure(figsize=(12, 4))\n",
    "plt.style.use('tableau-colorblind10')\n",
    "\n",
    "# Plot training & validation loss\n",
    "plt.subplot(1, 2, 1)\n",
    "plt.plot(history[\"train_loss\"], label=\"Training Loss\")\n",
    "plt.plot(history[\"val_loss\"], label=\"Validation Loss\")\n",
    "plt.xlabel(\"Epoch\")\n",
    "plt.ylabel(\"Loss\")\n",
    "plt.legend()\n",
    "\n",
    "# Plot training & validation accuracy\n",
    "plt.subplot(1, 2, 2)\n",
    "plt.plot([v * 100 for v in history[\"train_acc\"]], label=\"Training Accuracy\")\n",
    "plt.plot([v * 100 for v in history[\"val_acc\"]], label=\"Validation Accuracy\")\n",
    "plt.xlabel(\"Epoch\")\n",
    "plt.ylabel(\"Accuracy (%)\")\n",
    "plt.legend()\n",
    "\n",
    "plt.suptitle(\"Training Progress (Loss & Accuracy)\")\n",
    "plt.tight_layout()\n",
    "plt.show()"
   ]
  },
  {
   "cell_type": "markdown",
   "id": "xs-0xKrFvCnJ",
   "metadata": {
    "id": "xs-0xKrFvCnJ"
   },
   "source": [
    "#Evaluate on test data"
   ]
  },
  {
   "cell_type": "code",
   "execution_count": 19,
   "id": "9Kaz_i-8VJfi",
   "metadata": {
    "colab": {
     "base_uri": "https://localhost:8080/"
    },
    "id": "9Kaz_i-8VJfi",
    "outputId": "4116063b-a261-43e2-9d89-bcb2cd2cb1a7"
   },
   "outputs": [
    {
     "name": "stdout",
     "output_type": "stream",
     "text": [
      "Test accuracy: 8.58%\n"
     ]
    }
   ],
   "source": [
    "diffe.eval()\n",
    "\n",
    "# evaluate\n",
    "labels = np.arange(0, 40)  # necessary change: 40 classes\n",
    "Y = []\n",
    "Y_hat = []\n",
    "with torch.no_grad():\n",
    "    for x, y in test_loader:\n",
    "        x, y = x.to(device), y.type(torch.LongTensor).to(device)\n",
    "        encoder_out = diffe.encoder(x)\n",
    "        y_hat = diffe.fc(encoder_out[1])\n",
    "        y_hat = F.softmax(y_hat, dim=1)\n",
    "\n",
    "        Y.append(y.detach().cpu())\n",
    "        Y_hat.append(y_hat.detach().cpu())\n",
    "\n",
    "Y = torch.cat(Y, dim=0).numpy()  # (N, )\n",
    "Y_indices = Y.argmax(axis=1)\n",
    "Y_hat = torch.cat(Y_hat, dim=0).numpy()  # (N, 26)\n",
    "\n",
    "accuracy = top_k_accuracy_score(Y_indices, Y_hat, k=1, labels=labels)\n",
    "print(f'Test accuracy: {accuracy:.2%}')"
   ]
  },
  {
   "cell_type": "code",
   "execution_count": null,
   "id": "bed41f7d-cf04-4bda-97d7-2b54426c00ce",
   "metadata": {},
   "outputs": [],
   "source": []
  }
 ],
 "metadata": {
  "accelerator": "GPU",
  "colab": {
   "gpuType": "T4",
   "provenance": []
  },
  "kernelspec": {
   "display_name": "Python (pytorch_env_p11)",
   "language": "python",
   "name": "pytorch_env_p11"
  },
  "language_info": {
   "codemirror_mode": {
    "name": "ipython",
    "version": 3
   },
   "file_extension": ".py",
   "mimetype": "text/x-python",
   "name": "python",
   "nbconvert_exporter": "python",
   "pygments_lexer": "ipython3",
   "version": "3.11.11"
  },
  "widgets": {
   "application/vnd.jupyter.widget-state+json": {
    "25c3251fb3604cf78173778c9ef40700": {
     "model_module": "@jupyter-widgets/base",
     "model_module_version": "1.2.0",
     "model_name": "LayoutModel",
     "state": {
      "_model_module": "@jupyter-widgets/base",
      "_model_module_version": "1.2.0",
      "_model_name": "LayoutModel",
      "_view_count": null,
      "_view_module": "@jupyter-widgets/base",
      "_view_module_version": "1.2.0",
      "_view_name": "LayoutView",
      "align_content": null,
      "align_items": null,
      "align_self": null,
      "border": null,
      "bottom": null,
      "display": null,
      "flex": null,
      "flex_flow": null,
      "grid_area": null,
      "grid_auto_columns": null,
      "grid_auto_flow": null,
      "grid_auto_rows": null,
      "grid_column": null,
      "grid_gap": null,
      "grid_row": null,
      "grid_template_areas": null,
      "grid_template_columns": null,
      "grid_template_rows": null,
      "height": null,
      "justify_content": null,
      "justify_items": null,
      "left": null,
      "margin": null,
      "max_height": null,
      "max_width": null,
      "min_height": null,
      "min_width": null,
      "object_fit": null,
      "object_position": null,
      "order": null,
      "overflow": null,
      "overflow_x": null,
      "overflow_y": null,
      "padding": null,
      "right": null,
      "top": null,
      "visibility": null,
      "width": null
     }
    },
    "4664eb6c3ffd4c919900698cb32b1c37": {
     "model_module": "@jupyter-widgets/base",
     "model_module_version": "1.2.0",
     "model_name": "LayoutModel",
     "state": {
      "_model_module": "@jupyter-widgets/base",
      "_model_module_version": "1.2.0",
      "_model_name": "LayoutModel",
      "_view_count": null,
      "_view_module": "@jupyter-widgets/base",
      "_view_module_version": "1.2.0",
      "_view_name": "LayoutView",
      "align_content": null,
      "align_items": null,
      "align_self": null,
      "border": null,
      "bottom": null,
      "display": null,
      "flex": null,
      "flex_flow": null,
      "grid_area": null,
      "grid_auto_columns": null,
      "grid_auto_flow": null,
      "grid_auto_rows": null,
      "grid_column": null,
      "grid_gap": null,
      "grid_row": null,
      "grid_template_areas": null,
      "grid_template_columns": null,
      "grid_template_rows": null,
      "height": null,
      "justify_content": null,
      "justify_items": null,
      "left": null,
      "margin": null,
      "max_height": null,
      "max_width": null,
      "min_height": null,
      "min_width": null,
      "object_fit": null,
      "object_position": null,
      "order": null,
      "overflow": null,
      "overflow_x": null,
      "overflow_y": null,
      "padding": null,
      "right": null,
      "top": null,
      "visibility": null,
      "width": null
     }
    },
    "4ebab1e156e44c8bb7846910a1f72db7": {
     "model_module": "@jupyter-widgets/controls",
     "model_module_version": "1.5.0",
     "model_name": "HTMLModel",
     "state": {
      "_dom_classes": [],
      "_model_module": "@jupyter-widgets/controls",
      "_model_module_version": "1.5.0",
      "_model_name": "HTMLModel",
      "_view_count": null,
      "_view_module": "@jupyter-widgets/controls",
      "_view_module_version": "1.5.0",
      "_view_name": "HTMLView",
      "description": "",
      "description_tooltip": null,
      "layout": "IPY_MODEL_25c3251fb3604cf78173778c9ef40700",
      "placeholder": "​",
      "style": "IPY_MODEL_f58eac912839488ead076366ff951081",
      "value": "Method ALL – Processing subject ALL – Val Accuracy: 11.23% | Best: 14.29%: 100%"
     }
    },
    "5a0e2e65e57740e4bbb251311a766d82": {
     "model_module": "@jupyter-widgets/controls",
     "model_module_version": "1.5.0",
     "model_name": "HBoxModel",
     "state": {
      "_dom_classes": [],
      "_model_module": "@jupyter-widgets/controls",
      "_model_module_version": "1.5.0",
      "_model_name": "HBoxModel",
      "_view_count": null,
      "_view_module": "@jupyter-widgets/controls",
      "_view_module_version": "1.5.0",
      "_view_name": "HBoxView",
      "box_style": "",
      "children": [
       "IPY_MODEL_4ebab1e156e44c8bb7846910a1f72db7",
       "IPY_MODEL_ee10237165ad47c18ca341aa7657a605",
       "IPY_MODEL_9722c6e893d244889f62b61a1167d198"
      ],
      "layout": "IPY_MODEL_9c8641ccc5014dfb9e809a716d373e24"
     }
    },
    "659c9b4b1c734b3b9d9411a645837530": {
     "model_module": "@jupyter-widgets/controls",
     "model_module_version": "1.5.0",
     "model_name": "ProgressStyleModel",
     "state": {
      "_model_module": "@jupyter-widgets/controls",
      "_model_module_version": "1.5.0",
      "_model_name": "ProgressStyleModel",
      "_view_count": null,
      "_view_module": "@jupyter-widgets/base",
      "_view_module_version": "1.2.0",
      "_view_name": "StyleView",
      "bar_color": null,
      "description_width": ""
     }
    },
    "9722c6e893d244889f62b61a1167d198": {
     "model_module": "@jupyter-widgets/controls",
     "model_module_version": "1.5.0",
     "model_name": "HTMLModel",
     "state": {
      "_dom_classes": [],
      "_model_module": "@jupyter-widgets/controls",
      "_model_module_version": "1.5.0",
      "_model_name": "HTMLModel",
      "_view_count": null,
      "_view_module": "@jupyter-widgets/controls",
      "_view_module_version": "1.5.0",
      "_view_name": "HTMLView",
      "description": "",
      "description_tooltip": null,
      "layout": "IPY_MODEL_4664eb6c3ffd4c919900698cb32b1c37",
      "placeholder": "​",
      "style": "IPY_MODEL_a0ec61f3051c4d8b811ee1d05e0ba82b",
      "value": " 500/500 [25:43&lt;00:00,  3.14s/it]"
     }
    },
    "9c8641ccc5014dfb9e809a716d373e24": {
     "model_module": "@jupyter-widgets/base",
     "model_module_version": "1.2.0",
     "model_name": "LayoutModel",
     "state": {
      "_model_module": "@jupyter-widgets/base",
      "_model_module_version": "1.2.0",
      "_model_name": "LayoutModel",
      "_view_count": null,
      "_view_module": "@jupyter-widgets/base",
      "_view_module_version": "1.2.0",
      "_view_name": "LayoutView",
      "align_content": null,
      "align_items": null,
      "align_self": null,
      "border": null,
      "bottom": null,
      "display": null,
      "flex": null,
      "flex_flow": null,
      "grid_area": null,
      "grid_auto_columns": null,
      "grid_auto_flow": null,
      "grid_auto_rows": null,
      "grid_column": null,
      "grid_gap": null,
      "grid_row": null,
      "grid_template_areas": null,
      "grid_template_columns": null,
      "grid_template_rows": null,
      "height": null,
      "justify_content": null,
      "justify_items": null,
      "left": null,
      "margin": null,
      "max_height": null,
      "max_width": null,
      "min_height": null,
      "min_width": null,
      "object_fit": null,
      "object_position": null,
      "order": null,
      "overflow": null,
      "overflow_x": null,
      "overflow_y": null,
      "padding": null,
      "right": null,
      "top": null,
      "visibility": null,
      "width": null
     }
    },
    "a0ec61f3051c4d8b811ee1d05e0ba82b": {
     "model_module": "@jupyter-widgets/controls",
     "model_module_version": "1.5.0",
     "model_name": "DescriptionStyleModel",
     "state": {
      "_model_module": "@jupyter-widgets/controls",
      "_model_module_version": "1.5.0",
      "_model_name": "DescriptionStyleModel",
      "_view_count": null,
      "_view_module": "@jupyter-widgets/base",
      "_view_module_version": "1.2.0",
      "_view_name": "StyleView",
      "description_width": ""
     }
    },
    "bfa6f43f525449b2b9eaefaf4964eba7": {
     "model_module": "@jupyter-widgets/base",
     "model_module_version": "1.2.0",
     "model_name": "LayoutModel",
     "state": {
      "_model_module": "@jupyter-widgets/base",
      "_model_module_version": "1.2.0",
      "_model_name": "LayoutModel",
      "_view_count": null,
      "_view_module": "@jupyter-widgets/base",
      "_view_module_version": "1.2.0",
      "_view_name": "LayoutView",
      "align_content": null,
      "align_items": null,
      "align_self": null,
      "border": null,
      "bottom": null,
      "display": null,
      "flex": null,
      "flex_flow": null,
      "grid_area": null,
      "grid_auto_columns": null,
      "grid_auto_flow": null,
      "grid_auto_rows": null,
      "grid_column": null,
      "grid_gap": null,
      "grid_row": null,
      "grid_template_areas": null,
      "grid_template_columns": null,
      "grid_template_rows": null,
      "height": null,
      "justify_content": null,
      "justify_items": null,
      "left": null,
      "margin": null,
      "max_height": null,
      "max_width": null,
      "min_height": null,
      "min_width": null,
      "object_fit": null,
      "object_position": null,
      "order": null,
      "overflow": null,
      "overflow_x": null,
      "overflow_y": null,
      "padding": null,
      "right": null,
      "top": null,
      "visibility": null,
      "width": null
     }
    },
    "ee10237165ad47c18ca341aa7657a605": {
     "model_module": "@jupyter-widgets/controls",
     "model_module_version": "1.5.0",
     "model_name": "FloatProgressModel",
     "state": {
      "_dom_classes": [],
      "_model_module": "@jupyter-widgets/controls",
      "_model_module_version": "1.5.0",
      "_model_name": "FloatProgressModel",
      "_view_count": null,
      "_view_module": "@jupyter-widgets/controls",
      "_view_module_version": "1.5.0",
      "_view_name": "ProgressView",
      "bar_style": "success",
      "description": "",
      "description_tooltip": null,
      "layout": "IPY_MODEL_bfa6f43f525449b2b9eaefaf4964eba7",
      "max": 500,
      "min": 0,
      "orientation": "horizontal",
      "style": "IPY_MODEL_659c9b4b1c734b3b9d9411a645837530",
      "value": 500
     }
    },
    "f58eac912839488ead076366ff951081": {
     "model_module": "@jupyter-widgets/controls",
     "model_module_version": "1.5.0",
     "model_name": "DescriptionStyleModel",
     "state": {
      "_model_module": "@jupyter-widgets/controls",
      "_model_module_version": "1.5.0",
      "_model_name": "DescriptionStyleModel",
      "_view_count": null,
      "_view_module": "@jupyter-widgets/base",
      "_view_module_version": "1.2.0",
      "_view_name": "StyleView",
      "description_width": ""
     }
    }
   }
  }
 },
 "nbformat": 4,
 "nbformat_minor": 5
}
