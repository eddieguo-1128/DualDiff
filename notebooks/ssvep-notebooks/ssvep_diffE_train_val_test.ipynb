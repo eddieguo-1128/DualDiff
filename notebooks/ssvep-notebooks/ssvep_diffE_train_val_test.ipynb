{
  "cells": [
    {
      "cell_type": "markdown",
      "id": "0017f312",
      "metadata": {
        "id": "0017f312"
      },
      "source": [
        "# SSVEP Character Classification with DiffE"
      ]
    },
    {
      "cell_type": "code",
      "source": [
        "!pip install ema-pytorch"
      ],
      "metadata": {
        "id": "WnZeypG6gsYU",
        "colab": {
          "base_uri": "https://localhost:8080/"
        },
        "outputId": "8844b3e8-979b-4267-ce0c-de8b7f84e623"
      },
      "id": "WnZeypG6gsYU",
      "execution_count": 1,
      "outputs": [
        {
          "output_type": "stream",
          "name": "stdout",
          "text": [
            "Collecting ema-pytorch\n",
            "  Downloading ema_pytorch-0.7.7-py3-none-any.whl.metadata (689 bytes)\n",
            "Requirement already satisfied: torch>=2.0 in /usr/local/lib/python3.11/dist-packages (from ema-pytorch) (2.6.0+cu124)\n",
            "Requirement already satisfied: filelock in /usr/local/lib/python3.11/dist-packages (from torch>=2.0->ema-pytorch) (3.18.0)\n",
            "Requirement already satisfied: typing-extensions>=4.10.0 in /usr/local/lib/python3.11/dist-packages (from torch>=2.0->ema-pytorch) (4.13.0)\n",
            "Requirement already satisfied: networkx in /usr/local/lib/python3.11/dist-packages (from torch>=2.0->ema-pytorch) (3.4.2)\n",
            "Requirement already satisfied: jinja2 in /usr/local/lib/python3.11/dist-packages (from torch>=2.0->ema-pytorch) (3.1.6)\n",
            "Requirement already satisfied: fsspec in /usr/local/lib/python3.11/dist-packages (from torch>=2.0->ema-pytorch) (2025.3.0)\n",
            "Collecting nvidia-cuda-nvrtc-cu12==12.4.127 (from torch>=2.0->ema-pytorch)\n",
            "  Downloading nvidia_cuda_nvrtc_cu12-12.4.127-py3-none-manylinux2014_x86_64.whl.metadata (1.5 kB)\n",
            "Collecting nvidia-cuda-runtime-cu12==12.4.127 (from torch>=2.0->ema-pytorch)\n",
            "  Downloading nvidia_cuda_runtime_cu12-12.4.127-py3-none-manylinux2014_x86_64.whl.metadata (1.5 kB)\n",
            "Collecting nvidia-cuda-cupti-cu12==12.4.127 (from torch>=2.0->ema-pytorch)\n",
            "  Downloading nvidia_cuda_cupti_cu12-12.4.127-py3-none-manylinux2014_x86_64.whl.metadata (1.6 kB)\n",
            "Collecting nvidia-cudnn-cu12==9.1.0.70 (from torch>=2.0->ema-pytorch)\n",
            "  Downloading nvidia_cudnn_cu12-9.1.0.70-py3-none-manylinux2014_x86_64.whl.metadata (1.6 kB)\n",
            "Collecting nvidia-cublas-cu12==12.4.5.8 (from torch>=2.0->ema-pytorch)\n",
            "  Downloading nvidia_cublas_cu12-12.4.5.8-py3-none-manylinux2014_x86_64.whl.metadata (1.5 kB)\n",
            "Collecting nvidia-cufft-cu12==11.2.1.3 (from torch>=2.0->ema-pytorch)\n",
            "  Downloading nvidia_cufft_cu12-11.2.1.3-py3-none-manylinux2014_x86_64.whl.metadata (1.5 kB)\n",
            "Collecting nvidia-curand-cu12==10.3.5.147 (from torch>=2.0->ema-pytorch)\n",
            "  Downloading nvidia_curand_cu12-10.3.5.147-py3-none-manylinux2014_x86_64.whl.metadata (1.5 kB)\n",
            "Collecting nvidia-cusolver-cu12==11.6.1.9 (from torch>=2.0->ema-pytorch)\n",
            "  Downloading nvidia_cusolver_cu12-11.6.1.9-py3-none-manylinux2014_x86_64.whl.metadata (1.6 kB)\n",
            "Collecting nvidia-cusparse-cu12==12.3.1.170 (from torch>=2.0->ema-pytorch)\n",
            "  Downloading nvidia_cusparse_cu12-12.3.1.170-py3-none-manylinux2014_x86_64.whl.metadata (1.6 kB)\n",
            "Requirement already satisfied: nvidia-cusparselt-cu12==0.6.2 in /usr/local/lib/python3.11/dist-packages (from torch>=2.0->ema-pytorch) (0.6.2)\n",
            "Requirement already satisfied: nvidia-nccl-cu12==2.21.5 in /usr/local/lib/python3.11/dist-packages (from torch>=2.0->ema-pytorch) (2.21.5)\n",
            "Requirement already satisfied: nvidia-nvtx-cu12==12.4.127 in /usr/local/lib/python3.11/dist-packages (from torch>=2.0->ema-pytorch) (12.4.127)\n",
            "Collecting nvidia-nvjitlink-cu12==12.4.127 (from torch>=2.0->ema-pytorch)\n",
            "  Downloading nvidia_nvjitlink_cu12-12.4.127-py3-none-manylinux2014_x86_64.whl.metadata (1.5 kB)\n",
            "Requirement already satisfied: triton==3.2.0 in /usr/local/lib/python3.11/dist-packages (from torch>=2.0->ema-pytorch) (3.2.0)\n",
            "Requirement already satisfied: sympy==1.13.1 in /usr/local/lib/python3.11/dist-packages (from torch>=2.0->ema-pytorch) (1.13.1)\n",
            "Requirement already satisfied: mpmath<1.4,>=1.1.0 in /usr/local/lib/python3.11/dist-packages (from sympy==1.13.1->torch>=2.0->ema-pytorch) (1.3.0)\n",
            "Requirement already satisfied: MarkupSafe>=2.0 in /usr/local/lib/python3.11/dist-packages (from jinja2->torch>=2.0->ema-pytorch) (3.0.2)\n",
            "Downloading ema_pytorch-0.7.7-py3-none-any.whl (9.8 kB)\n",
            "Downloading nvidia_cublas_cu12-12.4.5.8-py3-none-manylinux2014_x86_64.whl (363.4 MB)\n",
            "\u001b[2K   \u001b[90m━━━━━━━━━━━━━━━━━━━━━━━━━━━━━━━━━━━━━━━━\u001b[0m \u001b[32m363.4/363.4 MB\u001b[0m \u001b[31m4.1 MB/s\u001b[0m eta \u001b[36m0:00:00\u001b[0m\n",
            "\u001b[?25hDownloading nvidia_cuda_cupti_cu12-12.4.127-py3-none-manylinux2014_x86_64.whl (13.8 MB)\n",
            "\u001b[2K   \u001b[90m━━━━━━━━━━━━━━━━━━━━━━━━━━━━━━━━━━━━━━━━\u001b[0m \u001b[32m13.8/13.8 MB\u001b[0m \u001b[31m42.5 MB/s\u001b[0m eta \u001b[36m0:00:00\u001b[0m\n",
            "\u001b[?25hDownloading nvidia_cuda_nvrtc_cu12-12.4.127-py3-none-manylinux2014_x86_64.whl (24.6 MB)\n",
            "\u001b[2K   \u001b[90m━━━━━━━━━━━━━━━━━━━━━━━━━━━━━━━━━━━━━━━━\u001b[0m \u001b[32m24.6/24.6 MB\u001b[0m \u001b[31m35.9 MB/s\u001b[0m eta \u001b[36m0:00:00\u001b[0m\n",
            "\u001b[?25hDownloading nvidia_cuda_runtime_cu12-12.4.127-py3-none-manylinux2014_x86_64.whl (883 kB)\n",
            "\u001b[2K   \u001b[90m━━━━━━━━━━━━━━━━━━━━━━━━━━━━━━━━━━━━━━━━\u001b[0m \u001b[32m883.7/883.7 kB\u001b[0m \u001b[31m16.3 MB/s\u001b[0m eta \u001b[36m0:00:00\u001b[0m\n",
            "\u001b[?25hDownloading nvidia_cudnn_cu12-9.1.0.70-py3-none-manylinux2014_x86_64.whl (664.8 MB)\n",
            "\u001b[2K   \u001b[90m━━━━━━━━━━━━━━━━━━━━━━━━━━━━━━━━━━━━━━━━\u001b[0m \u001b[32m664.8/664.8 MB\u001b[0m \u001b[31m2.6 MB/s\u001b[0m eta \u001b[36m0:00:00\u001b[0m\n",
            "\u001b[?25hDownloading nvidia_cufft_cu12-11.2.1.3-py3-none-manylinux2014_x86_64.whl (211.5 MB)\n",
            "\u001b[2K   \u001b[90m━━━━━━━━━━━━━━━━━━━━━━━━━━━━━━━━━━━━━━━━\u001b[0m \u001b[32m211.5/211.5 MB\u001b[0m \u001b[31m5.6 MB/s\u001b[0m eta \u001b[36m0:00:00\u001b[0m\n",
            "\u001b[?25hDownloading nvidia_curand_cu12-10.3.5.147-py3-none-manylinux2014_x86_64.whl (56.3 MB)\n",
            "\u001b[2K   \u001b[90m━━━━━━━━━━━━━━━━━━━━━━━━━━━━━━━━━━━━━━━━\u001b[0m \u001b[32m56.3/56.3 MB\u001b[0m \u001b[31m10.9 MB/s\u001b[0m eta \u001b[36m0:00:00\u001b[0m\n",
            "\u001b[?25hDownloading nvidia_cusolver_cu12-11.6.1.9-py3-none-manylinux2014_x86_64.whl (127.9 MB)\n",
            "\u001b[2K   \u001b[90m━━━━━━━━━━━━━━━━━━━━━━━━━━━━━━━━━━━━━━━━\u001b[0m \u001b[32m127.9/127.9 MB\u001b[0m \u001b[31m7.3 MB/s\u001b[0m eta \u001b[36m0:00:00\u001b[0m\n",
            "\u001b[?25hDownloading nvidia_cusparse_cu12-12.3.1.170-py3-none-manylinux2014_x86_64.whl (207.5 MB)\n",
            "\u001b[2K   \u001b[90m━━━━━━━━━━━━━━━━━━━━━━━━━━━━━━━━━━━━━━━━\u001b[0m \u001b[32m207.5/207.5 MB\u001b[0m \u001b[31m5.8 MB/s\u001b[0m eta \u001b[36m0:00:00\u001b[0m\n",
            "\u001b[?25hDownloading nvidia_nvjitlink_cu12-12.4.127-py3-none-manylinux2014_x86_64.whl (21.1 MB)\n",
            "\u001b[2K   \u001b[90m━━━━━━━━━━━━━━━━━━━━━━━━━━━━━━━━━━━━━━━━\u001b[0m \u001b[32m21.1/21.1 MB\u001b[0m \u001b[31m58.7 MB/s\u001b[0m eta \u001b[36m0:00:00\u001b[0m\n",
            "\u001b[?25hInstalling collected packages: nvidia-nvjitlink-cu12, nvidia-curand-cu12, nvidia-cufft-cu12, nvidia-cuda-runtime-cu12, nvidia-cuda-nvrtc-cu12, nvidia-cuda-cupti-cu12, nvidia-cublas-cu12, nvidia-cusparse-cu12, nvidia-cudnn-cu12, nvidia-cusolver-cu12, ema-pytorch\n",
            "  Attempting uninstall: nvidia-nvjitlink-cu12\n",
            "    Found existing installation: nvidia-nvjitlink-cu12 12.5.82\n",
            "    Uninstalling nvidia-nvjitlink-cu12-12.5.82:\n",
            "      Successfully uninstalled nvidia-nvjitlink-cu12-12.5.82\n",
            "  Attempting uninstall: nvidia-curand-cu12\n",
            "    Found existing installation: nvidia-curand-cu12 10.3.6.82\n",
            "    Uninstalling nvidia-curand-cu12-10.3.6.82:\n",
            "      Successfully uninstalled nvidia-curand-cu12-10.3.6.82\n",
            "  Attempting uninstall: nvidia-cufft-cu12\n",
            "    Found existing installation: nvidia-cufft-cu12 11.2.3.61\n",
            "    Uninstalling nvidia-cufft-cu12-11.2.3.61:\n",
            "      Successfully uninstalled nvidia-cufft-cu12-11.2.3.61\n",
            "  Attempting uninstall: nvidia-cuda-runtime-cu12\n",
            "    Found existing installation: nvidia-cuda-runtime-cu12 12.5.82\n",
            "    Uninstalling nvidia-cuda-runtime-cu12-12.5.82:\n",
            "      Successfully uninstalled nvidia-cuda-runtime-cu12-12.5.82\n",
            "  Attempting uninstall: nvidia-cuda-nvrtc-cu12\n",
            "    Found existing installation: nvidia-cuda-nvrtc-cu12 12.5.82\n",
            "    Uninstalling nvidia-cuda-nvrtc-cu12-12.5.82:\n",
            "      Successfully uninstalled nvidia-cuda-nvrtc-cu12-12.5.82\n",
            "  Attempting uninstall: nvidia-cuda-cupti-cu12\n",
            "    Found existing installation: nvidia-cuda-cupti-cu12 12.5.82\n",
            "    Uninstalling nvidia-cuda-cupti-cu12-12.5.82:\n",
            "      Successfully uninstalled nvidia-cuda-cupti-cu12-12.5.82\n",
            "  Attempting uninstall: nvidia-cublas-cu12\n",
            "    Found existing installation: nvidia-cublas-cu12 12.5.3.2\n",
            "    Uninstalling nvidia-cublas-cu12-12.5.3.2:\n",
            "      Successfully uninstalled nvidia-cublas-cu12-12.5.3.2\n",
            "  Attempting uninstall: nvidia-cusparse-cu12\n",
            "    Found existing installation: nvidia-cusparse-cu12 12.5.1.3\n",
            "    Uninstalling nvidia-cusparse-cu12-12.5.1.3:\n",
            "      Successfully uninstalled nvidia-cusparse-cu12-12.5.1.3\n",
            "  Attempting uninstall: nvidia-cudnn-cu12\n",
            "    Found existing installation: nvidia-cudnn-cu12 9.3.0.75\n",
            "    Uninstalling nvidia-cudnn-cu12-9.3.0.75:\n",
            "      Successfully uninstalled nvidia-cudnn-cu12-9.3.0.75\n",
            "  Attempting uninstall: nvidia-cusolver-cu12\n",
            "    Found existing installation: nvidia-cusolver-cu12 11.6.3.83\n",
            "    Uninstalling nvidia-cusolver-cu12-11.6.3.83:\n",
            "      Successfully uninstalled nvidia-cusolver-cu12-11.6.3.83\n",
            "Successfully installed ema-pytorch-0.7.7 nvidia-cublas-cu12-12.4.5.8 nvidia-cuda-cupti-cu12-12.4.127 nvidia-cuda-nvrtc-cu12-12.4.127 nvidia-cuda-runtime-cu12-12.4.127 nvidia-cudnn-cu12-9.1.0.70 nvidia-cufft-cu12-11.2.1.3 nvidia-curand-cu12-10.3.5.147 nvidia-cusolver-cu12-11.6.1.9 nvidia-cusparse-cu12-12.3.1.170 nvidia-nvjitlink-cu12-12.4.127\n"
          ]
        }
      ]
    },
    {
      "cell_type": "code",
      "source": [
        "import os\n",
        "import sys\n",
        "\n",
        "!git clone https://github.com/diffe2023/Diff-E.git\n",
        "sys.path.append('/content/Diff-E')\n"
      ],
      "metadata": {
        "id": "s8yKwaRCQxyM",
        "colab": {
          "base_uri": "https://localhost:8080/"
        },
        "outputId": "8ce1ee92-c615-46c0-f956-89dc984811cc"
      },
      "id": "s8yKwaRCQxyM",
      "execution_count": 2,
      "outputs": [
        {
          "output_type": "stream",
          "name": "stdout",
          "text": [
            "Cloning into 'Diff-E'...\n",
            "remote: Enumerating objects: 160, done.\u001b[K\n",
            "remote: Counting objects: 100% (55/55), done.\u001b[K\n",
            "remote: Compressing objects: 100% (29/29), done.\u001b[K\n",
            "remote: Total 160 (delta 43), reused 27 (delta 26), pack-reused 105 (from 1)\u001b[K\n",
            "Receiving objects: 100% (160/160), 53.41 KiB | 854.00 KiB/s, done.\n",
            "Resolving deltas: 100% (60/60), done.\n"
          ]
        }
      ]
    },
    {
      "cell_type": "code",
      "source": [
        "import math\n",
        "from einops import reduce\n",
        "from functools import partial\n",
        "import random\n",
        "import argparse\n",
        "import numpy as np\n",
        "import torch\n",
        "import torch.nn as nn\n",
        "import torch.optim as optim\n",
        "import torch.nn.functional as F\n",
        "from torch.utils.data import Dataset, DataLoader\n",
        "from ema_pytorch import EMA\n",
        "from tqdm.notebook import tqdm\n",
        "from sklearn.model_selection import train_test_split\n",
        "from sklearn.metrics import (\n",
        "    f1_score,\n",
        "    roc_auc_score,\n",
        "    precision_score,\n",
        "    recall_score,\n",
        "    top_k_accuracy_score,\n",
        ")"
      ],
      "metadata": {
        "id": "4MhV2qw9hu-m"
      },
      "id": "4MhV2qw9hu-m",
      "execution_count": 3,
      "outputs": []
    },
    {
      "cell_type": "code",
      "source": [
        "# Uncomment this if you want to use Google Drive\n",
        "from google.colab import drive\n",
        "drive.mount('/content/drive')"
      ],
      "metadata": {
        "id": "WjdWMaswQjkV",
        "colab": {
          "base_uri": "https://localhost:8080/"
        },
        "outputId": "7e193c56-5262-41b7-9436-6d1e2bf1a5fc"
      },
      "id": "WjdWMaswQjkV",
      "execution_count": 4,
      "outputs": [
        {
          "output_type": "stream",
          "name": "stdout",
          "text": [
            "Mounted at /content/drive\n"
          ]
        }
      ]
    },
    {
      "cell_type": "markdown",
      "source": [
        "#load and preprocess data\n"
      ],
      "metadata": {
        "id": "Do2JYBiZZp1z"
      },
      "id": "Do2JYBiZZp1z"
    },
    {
      "cell_type": "markdown",
      "source": [
        "We retain the original SSVEP data preprocessing procedures, including:\n",
        "\n",
        "    Chebyshev bandpass filtering (6–90 Hz),\n",
        "    Noise removal and segmentation using a sliding window of 250 samples, followed by manual channel-wise standardization (subtracting the mean and dividing by the standard deviation),\n",
        "    Downsampling from 1000 Hz to 250 Hz.\n",
        "\n",
        "In this work, we directly load the preprocessed character-level files \"S#_chars.npy\" for subsequent training.\n",
        "\n",
        "Unlike the original setup where models are trained separately for each subject, we train a single model jointly across all subjects by concatenating all subjects' data."
      ],
      "metadata": {
        "id": "dPlrZ7Lez1XQ"
      },
      "id": "dPlrZ7Lez1XQ"
    },
    {
      "cell_type": "code",
      "source": [
        "# Define a function to perform z-score normalization on the data\n",
        "def zscore_norm(data):\n",
        "    # Calculate the mean and standard deviation for each channel in each batch\n",
        "    mean = torch.mean(data, dim=(1, 2))\n",
        "    std = torch.std(data, dim=(1, 2))\n",
        "\n",
        "    # Subtract the mean from each channel in each batch and divide by the standard deviation\n",
        "    norm_data = (data - mean[:, None, None]) / std[:, None, None]\n",
        "\n",
        "    return norm_data\n",
        "\n",
        "\n",
        "# Define a function to perform min-max normalization on the data\n",
        "def minmax_norm(data):\n",
        "    # Calculate the minimum and maximum values for each channel and sequence in the batch\n",
        "    min_vals = torch.min(data, dim=-1)[0]\n",
        "    max_vals = torch.max(data, dim=-1)[0]\n",
        "\n",
        "    # Scale the data to the range [0, 1]\n",
        "    norm_data = (data - min_vals.unsqueeze(-1)) / (\n",
        "        max_vals.unsqueeze(-1) - min_vals.unsqueeze(-1)\n",
        "    )\n",
        "\n",
        "    return norm_data"
      ],
      "metadata": {
        "id": "FD4sHQTI0fua"
      },
      "id": "FD4sHQTI0fua",
      "execution_count": 5,
      "outputs": []
    },
    {
      "cell_type": "code",
      "source": [
        "class EEGDataset(Dataset):\n",
        "    \"Characterizes a dataset for PyTorch\"\n",
        "\n",
        "    def __init__(self, X, Y, transform=None):\n",
        "        \"Initialization\"\n",
        "        self.X = X\n",
        "        self.Y = Y\n",
        "        self.transform = transform\n",
        "\n",
        "    def __len__(self):\n",
        "        \"Denotes the total number of samples\"\n",
        "        return len(self.X)\n",
        "\n",
        "    def __getitem__(self, index):\n",
        "        \"Generates one sample of data\"\n",
        "        # Load data and get label\n",
        "        x = self.X[index]\n",
        "        y = self.Y[index]\n",
        "        if self.transform:\n",
        "            x = self.transform(x)\n",
        "        return x.squeeze(), y"
      ],
      "metadata": {
        "id": "kpv9Xa910cDi"
      },
      "id": "kpv9Xa910cDi",
      "execution_count": 6,
      "outputs": []
    },
    {
      "cell_type": "code",
      "source": [
        "def load_data(root_dir, subject, session=None):\n",
        "    filename = f\"S{subject}_chars.npy\"\n",
        "    file_path = os.path.join(root_dir, filename)\n",
        "    data = np.load(file_path)  # shape: [26, 6, 64, 250]\n",
        "\n",
        "    X = data.reshape(-1, 64, 250)  # [26*6, 64, 250]\n",
        "    Y = np.repeat(np.arange(26), 6)  # label：0~25，each character repeats 6 times\n",
        "\n",
        "    X = torch.from_numpy(X).float()\n",
        "    Y = torch.tensor(Y, dtype=torch.long)\n",
        "    return X, Y\n",
        "\n",
        "#70% train-15% val-15% test\n",
        "def get_dataloader(X, Y, batch_size, batch_size_val, batch_size_test, seed, shuffle=True):\n",
        "    # train and test+val\n",
        "    X_train, X_temp, Y_train, Y_temp = train_test_split(\n",
        "        X, Y, test_size=0.3, stratify=Y, random_state=seed, shuffle=shuffle\n",
        "    )\n",
        "\n",
        "    # val and test\n",
        "    X_val, X_test, Y_val, Y_test = train_test_split(\n",
        "        X_temp, Y_temp, test_size=0.5, stratify=Y_temp, random_state=seed, shuffle=shuffle\n",
        "    )\n",
        "\n",
        "    train_set = EEGDataset(X_train, Y_train)\n",
        "    val_set = EEGDataset(X_val, Y_val)\n",
        "    test_set = EEGDataset(X_test, Y_test)\n",
        "\n",
        "    train_loader = DataLoader(train_set, batch_size=batch_size, shuffle=shuffle)\n",
        "    val_loader = DataLoader(val_set, batch_size=batch_size2, shuffle=False)\n",
        "    test_loader = DataLoader(test_set, batch_size=batch_size2, shuffle=False)\n",
        "\n",
        "    return train_loader, val_loader, test_loader\n"
      ],
      "metadata": {
        "id": "ZA5ajGmtryq3"
      },
      "id": "ZA5ajGmtryq3",
      "execution_count": 7,
      "outputs": []
    },
    {
      "cell_type": "code",
      "source": [
        "def load_all_subjects(root_dir, subject_ids, session=None):\n",
        "    all_X, all_Y = [], []\n",
        "    for sid in subject_ids:\n",
        "        X, Y = load_data(root_dir=root_dir, subject=sid, session=session)\n",
        "        # print(f\"[Subject {sid}] X: {X.shape}, Y: {Y.shape}\")\n",
        "        # if X.shape[0] != Y.shape[0]:\n",
        "        #     print(f\"Mismatch at subject {sid}!\")\n",
        "        all_X.append(X)\n",
        "        all_Y.append(Y)\n",
        "    X = torch.cat(all_X, dim=0)\n",
        "    Y = torch.cat(all_Y, dim=0)\n",
        "    return X, Y"
      ],
      "metadata": {
        "id": "E7OtlGcDr8ZZ"
      },
      "id": "E7OtlGcDr8ZZ",
      "execution_count": 8,
      "outputs": []
    },
    {
      "cell_type": "code",
      "source": [
        "seed = 43\n",
        "random.seed(seed)\n",
        "torch.manual_seed(seed)\n",
        "print(\"Random Seed: \", seed)"
      ],
      "metadata": {
        "colab": {
          "base_uri": "https://localhost:8080/"
        },
        "id": "R1jZy_mPsxNI",
        "outputId": "36ea6ca8-c15d-4e6f-b739-91cfb21abd92"
      },
      "id": "R1jZy_mPsxNI",
      "execution_count": 9,
      "outputs": [
        {
          "output_type": "stream",
          "name": "stdout",
          "text": [
            "Random Seed:  43\n"
          ]
        }
      ]
    },
    {
      "cell_type": "code",
      "source": [
        "subject_chars_dir = '/content/drive/MyDrive/project/dataset/ssvep/chars' # Where to store all character data\n",
        "subject_ids = list(range(1, 36)) #35 samples + 1\n",
        "\n",
        "device = torch.device(\"cuda\" if torch.cuda.is_available() else \"cpu\")\n",
        "batch_size = 32\n",
        "batch_size2 = 260\n",
        "seed = 43\n",
        "shuffle = True\n",
        "\n",
        "# load all subjects' data\n",
        "X, Y = load_all_subjects(subject_chars_dir, subject_ids)\n",
        "train_loader, val_loader, test_loader = get_dataloader(X, Y, batch_size, batch_size2,batch_size2, seed, shuffle=shuffle)\n"
      ],
      "metadata": {
        "id": "seWeK5dArjjM"
      },
      "id": "seWeK5dArjjM",
      "execution_count": 11,
      "outputs": []
    },
    {
      "cell_type": "code",
      "source": [
        "print(\"X shape:\", X.shape)\n",
        "print(\"Y shape:\", Y.shape)"
      ],
      "metadata": {
        "colab": {
          "base_uri": "https://localhost:8080/"
        },
        "id": "f0JmYf8_7foW",
        "outputId": "53b1c95e-e607-49fc-e4a1-4b3195a986f1"
      },
      "id": "f0JmYf8_7foW",
      "execution_count": 12,
      "outputs": [
        {
          "output_type": "stream",
          "name": "stdout",
          "text": [
            "X shape: torch.Size([5460, 64, 250])\n",
            "Y shape: torch.Size([5460])\n"
          ]
        }
      ]
    },
    {
      "cell_type": "markdown",
      "source": [
        "#model"
      ],
      "metadata": {
        "id": "D-8XtejnbSv2"
      },
      "id": "D-8XtejnbSv2"
    },
    {
      "cell_type": "markdown",
      "source": [
        "The overall model follows the original GitHub implementation, with a few necessary adjustments to align tensor time dimensions. Specifically, we aligned the temporal dimensions between up2 + temb and down1, up3 and x, and x_hat and x. These changes are clearly marked with comments in the code."
      ],
      "metadata": {
        "id": "mV-wGFCs2hpy"
      },
      "id": "mV-wGFCs2hpy"
    },
    {
      "cell_type": "code",
      "execution_count": 13,
      "id": "ceb479ce",
      "metadata": {
        "id": "ceb479ce"
      },
      "outputs": [],
      "source": [
        "#define diffE model\n",
        "def get_padding(kernel_size, dilation=1):\n",
        "    return int((kernel_size * dilation - dilation) / 2)\n",
        "\n",
        "\n",
        "# Swish activation function\n",
        "class Swish(nn.Module):\n",
        "    def __init__(self):\n",
        "        super().__init__()\n",
        "        self.sigmoid = nn.Sigmoid()\n",
        "\n",
        "    def forward(self, x):\n",
        "        return x * self.sigmoid(x)\n",
        "\n",
        "\n",
        "class SinusoidalPosEmb(nn.Module):\n",
        "    def __init__(self, dim):\n",
        "        super().__init__()\n",
        "        self.dim = dim\n",
        "\n",
        "    def forward(self, x):\n",
        "        device = x.device\n",
        "        half_dim = self.dim // 2\n",
        "        emb = math.log(10000) / (half_dim - 1)\n",
        "        emb = torch.exp(torch.arange(half_dim, device=device) * -emb)\n",
        "        emb = x[:, None] * emb[None, :]\n",
        "        emb = torch.cat((emb.sin(), emb.cos()), dim=-1)\n",
        "        return emb\n",
        "\n",
        "\n",
        "class WeightStandardizedConv1d(nn.Conv1d):\n",
        "    \"\"\"\n",
        "    https://arxiv.org/abs/1903.10520\n",
        "    weight standardization purportedly works synergistically with group normalization\n",
        "    \"\"\"\n",
        "\n",
        "    def forward(self, x):\n",
        "        eps = 1e-5 if x.dtype == torch.float32 else 1e-3\n",
        "\n",
        "        weight = self.weight\n",
        "        mean = reduce(weight, \"o ... -> o 1 1\", \"mean\")\n",
        "        var = reduce(weight, \"o ... -> o 1 1\", partial(torch.var, unbiased=False))\n",
        "        normalized_weight = (weight - mean) * (var + eps).rsqrt()\n",
        "\n",
        "        return F.conv1d(\n",
        "            x,\n",
        "            normalized_weight,\n",
        "            self.bias,\n",
        "            self.stride,\n",
        "            self.padding,\n",
        "            self.dilation,\n",
        "            self.groups,\n",
        "        )\n",
        "\n",
        "\n",
        "class ResidualConvBlock(nn.Module):\n",
        "    def __init__(self, inc: int, outc: int, kernel_size: int, stride=1, gn=8):\n",
        "        super().__init__()\n",
        "        \"\"\"\n",
        "        standard ResNet style convolutional block\n",
        "        \"\"\"\n",
        "        self.same_channels = inc == outc\n",
        "        self.ks = kernel_size\n",
        "        self.conv = nn.Sequential(\n",
        "            WeightStandardizedConv1d(inc, outc, self.ks, stride, get_padding(self.ks)),\n",
        "            nn.GroupNorm(gn, outc),\n",
        "            nn.PReLU(),\n",
        "        )\n",
        "\n",
        "    def forward(self, x: torch.Tensor) -> torch.Tensor:\n",
        "        x1 = self.conv(x)\n",
        "        if self.same_channels:\n",
        "            out = (x + x1) / 2\n",
        "        else:\n",
        "            out = x1\n",
        "        return out\n",
        "\n",
        "\n",
        "class UnetDown(nn.Module):\n",
        "    def __init__(self, in_channels, out_channels, kernel_size, gn=8, factor=2):\n",
        "        super(UnetDown, self).__init__()\n",
        "        self.pool = nn.MaxPool1d(factor)\n",
        "        self.layer = ResidualConvBlock(in_channels, out_channels, kernel_size, gn=gn)\n",
        "\n",
        "    def forward(self, x):\n",
        "        x = self.layer(x)\n",
        "        x = self.pool(x)\n",
        "        return x\n",
        "\n",
        "\n",
        "class UnetUp(nn.Module):\n",
        "    def __init__(self, in_channels, out_channels, kernel_size, gn=8, factor=2):\n",
        "        super(UnetUp, self).__init__()\n",
        "        self.pool = nn.Upsample(scale_factor=factor, mode=\"nearest\")\n",
        "        self.layer = ResidualConvBlock(in_channels, out_channels, kernel_size, gn=gn)\n",
        "\n",
        "    def forward(self, x):\n",
        "        x = self.pool(x)\n",
        "        x = self.layer(x)\n",
        "        return x\n",
        "\n",
        "\n",
        "class EmbedFC(nn.Module):\n",
        "    def __init__(self, input_dim, emb_dim):\n",
        "        super(EmbedFC, self).__init__()\n",
        "        \"\"\"\n",
        "        generic one layer FC NN for embedding things\n",
        "        \"\"\"\n",
        "        self.input_dim = input_dim\n",
        "        layers = [\n",
        "            nn.Linear(input_dim, emb_dim),\n",
        "            nn.PReLU(),\n",
        "            nn.Linear(emb_dim, emb_dim),\n",
        "        ]\n",
        "        self.model = nn.Sequential(*layers)\n",
        "\n",
        "    def forward(self, x):\n",
        "        x = x.view(-1, self.input_dim)\n",
        "        return self.model(x)\n",
        "\n",
        "\n",
        "class ConditionalUNet(nn.Module):\n",
        "    def __init__(self, in_channels, n_feat=256):\n",
        "        super(ConditionalUNet, self).__init__()\n",
        "\n",
        "        self.in_channels = in_channels\n",
        "        self.n_feat = n_feat\n",
        "\n",
        "        self.d1_out = n_feat * 1\n",
        "        self.d2_out = n_feat * 2\n",
        "        self.d3_out = n_feat * 3\n",
        "        self.d4_out = n_feat * 4\n",
        "\n",
        "        self.u1_out = n_feat\n",
        "        self.u2_out = n_feat\n",
        "        self.u3_out = n_feat\n",
        "        self.u4_out = in_channels\n",
        "\n",
        "        self.sin_emb = SinusoidalPosEmb(n_feat)\n",
        "        # self.timeembed1 = EmbedFC(n_feat, self.u1_out)\n",
        "        # self.timeembed2 = EmbedFC(n_feat, self.u2_out)\n",
        "        # self.timeembed3 = EmbedFC(n_feat, self.u3_out)\n",
        "\n",
        "        self.down1 = UnetDown(in_channels, self.d1_out, 1, gn=8, factor=2)\n",
        "        self.down2 = UnetDown(self.d1_out, self.d2_out, 1, gn=8, factor=2)\n",
        "        self.down3 = UnetDown(self.d2_out, self.d3_out, 1, gn=8, factor=2)\n",
        "\n",
        "        self.up2 = UnetUp(self.d3_out, self.u2_out, 1, gn=8, factor=2)\n",
        "        self.up3 = UnetUp(self.u2_out + self.d2_out, self.u3_out, 1, gn=8, factor=2)\n",
        "        self.up4 = UnetUp(self.u3_out + self.d1_out, self.u4_out, 1, gn=8, factor=2)\n",
        "        self.out = nn.Conv1d(self.u4_out + in_channels, in_channels, 1)\n",
        "\n",
        "    def forward(self, x, t):\n",
        "        down1 = self.down1(x)  # 2000 -> 1000\n",
        "        down2 = self.down2(down1)  # 1000 -> 500\n",
        "        down3 = self.down3(down2)  # 500 -> 250\n",
        "\n",
        "        temb = self.sin_emb(t).view(-1, self.n_feat, 1)  # [b, n_feat, 1]\n",
        "\n",
        "        up1 = self.up2(down3)  # 250 -> 500\n",
        "        up2 = self.up3(torch.cat([up1 + temb, down2], 1))  # 500 -> 1000\n",
        "\n",
        "        # Align the temporal dimension of up2 + temb and down1\n",
        "        if (up2 + temb).shape[-1] != down1.shape[-1]:\n",
        "            target_len = min((up2 + temb).shape[-1], down1.shape[-1])\n",
        "            up2 = F.interpolate(up2, size=target_len)\n",
        "            down1 = F.interpolate(down1, size=target_len)\n",
        "\n",
        "        up3 = self.up4(torch.cat([up2 + temb, down1], 1))  # 1000 -> 2000\n",
        "\n",
        "        # Align the temporal dimension of up3 and x\n",
        "        if up3.shape[-1] != x.shape[-1]:\n",
        "            target_len = min(up3.shape[-1], x.shape[-1])\n",
        "            up3 = F.interpolate(up3, size=target_len)\n",
        "            x = F.interpolate(x, size=target_len)\n",
        "\n",
        "        out = self.out(torch.cat([up3, x], 1))  # 2000 -> 2000\n",
        "\n",
        "        down = (down1, down2, down3)\n",
        "        up = (up1, up2, up3)\n",
        "        return out, down, up\n",
        "\n",
        "\n",
        "class Encoder(nn.Module):\n",
        "    def __init__(self, in_channels, dim=512):\n",
        "        super(Encoder, self).__init__()\n",
        "\n",
        "        self.in_channels = in_channels\n",
        "        self.e1_out = dim\n",
        "        self.e2_out = dim\n",
        "        self.e3_out = dim\n",
        "\n",
        "        self.down1 = UnetDown(in_channels, self.e1_out, 1, gn=8, factor=2)\n",
        "        self.down2 = UnetDown(self.e1_out, self.e2_out, 1, gn=8, factor=2)\n",
        "        self.down3 = UnetDown(self.e2_out, self.e3_out, 1, gn=8, factor=2)\n",
        "\n",
        "        self.avg_pooling = nn.AdaptiveAvgPool1d(output_size=1)\n",
        "        self.max_pooling = nn.AdaptiveMaxPool1d(output_size=1)\n",
        "        self.act = nn.Tanh()\n",
        "\n",
        "    def forward(self, x0):\n",
        "        # Down sampling\n",
        "        dn1 = self.down1(x0)  # 2048 -> 1024\n",
        "        dn2 = self.down2(dn1)  # 1024 -> 512\n",
        "        dn3 = self.down3(dn2)  # 512 -> 256\n",
        "        z = self.avg_pooling(dn3).view(-1, self.e3_out)  # [b, features]\n",
        "        down = (dn1, dn2, dn3)\n",
        "        out = (down, z)\n",
        "        return out\n",
        "\n",
        "\n",
        "class Decoder(nn.Module):\n",
        "    def __init__(self, in_channels, n_feat=256, encoder_dim=512, n_classes=13):\n",
        "        super(Decoder, self).__init__()\n",
        "\n",
        "        self.in_channels = in_channels\n",
        "        self.n_feat = n_feat\n",
        "        self.n_classes = n_classes\n",
        "        self.e1_out = encoder_dim\n",
        "        self.e2_out = encoder_dim\n",
        "        self.e3_out = encoder_dim\n",
        "        self.d1_out = n_feat\n",
        "        self.d2_out = n_feat * 2\n",
        "        self.d3_out = n_feat * 3\n",
        "        self.u1_out = n_feat\n",
        "        self.u2_out = n_feat\n",
        "        self.u3_out = n_feat\n",
        "        self.u4_out = in_channels\n",
        "\n",
        "        # self.sin_emb = SinusoidalPosEmb(n_feat)\n",
        "        # self.timeembed1 = EmbedFC(n_feat, self.e3_out)\n",
        "        # self.timeembed2 = EmbedFC(n_feat, self.u2_out)\n",
        "        # self.timeembed3 = EmbedFC(n_feat, self.u3_out)\n",
        "        # self.contextembed1 = EmbedFC(self.e3_out, self.e3_out)\n",
        "        # self.contextembed2 = EmbedFC(self.e3_out, self.u2_out)\n",
        "        # self.contextembed3 = EmbedFC(self.e3_out, self.u3_out)\n",
        "\n",
        "        # Unet up sampling\n",
        "        self.up1 = UnetUp(self.d3_out + self.e3_out, self.u2_out, 1, gn=8, factor=2)\n",
        "        self.up2 = UnetUp(self.d2_out + self.u2_out, self.u3_out, 1, gn=8, factor=2)\n",
        "        self.up3 = nn.Sequential(\n",
        "            nn.Upsample(scale_factor=2, mode=\"nearest\"),\n",
        "            nn.Conv1d(\n",
        "                self.d1_out + self.u3_out + in_channels * 2, in_channels, 1, 1, 0\n",
        "            ),\n",
        "        )\n",
        "\n",
        "        # self.out = nn.Conv1d(self.u4_out+in_channels, in_channels, 1)\n",
        "        self.pool = nn.AvgPool1d(2)\n",
        "\n",
        "    def forward(self, x0, encoder_out, diffusion_out):\n",
        "        # Encoder output\n",
        "        down, z = encoder_out\n",
        "        dn1, dn2, dn3 = down\n",
        "\n",
        "        # DDPM output\n",
        "        x_hat, down_ddpm, up, t = diffusion_out\n",
        "        dn11, dn22, dn33 = down_ddpm\n",
        "\n",
        "        # embed context, time step\n",
        "        # temb = self.sin_emb(t).view(-1, self.n_feat, 1) # [b, n_feat, 1]\n",
        "        # temb1 = self.timeembed1(temb).view(-1, self.e3_out, 1) # [b, features]\n",
        "        # temb2 = self.timeembed2(temb).view(-1, self.u2_out, 1) # [b, features]\n",
        "        # temb3 = self.timeembed3(temb).view(-1, self.u3_out, 1) # [b, features]\n",
        "        # ct2 = self.contextembed2(z).view(-1, self.u2_out, 1) # [b, n_feat, 1]\n",
        "        # ct3 = self.contextembed3(z).view(-1, self.u3_out, 1) # [b, n_feat, 1]\n",
        "\n",
        "        # Up sampling\n",
        "        up1 = self.up1(torch.cat([dn3, dn33.detach()], 1))\n",
        "        up2 = self.up2(torch.cat([up1, dn22.detach()], 1))\n",
        "        out = self.up3(\n",
        "            torch.cat([self.pool(x0), self.pool(x_hat.detach()), up2, dn11.detach()], 1)\n",
        "        )\n",
        "        return out\n",
        "\n",
        "\n",
        "class DiffE(nn.Module):\n",
        "    def __init__(self, encoder, decoder, fc):\n",
        "        super(DiffE, self).__init__()\n",
        "\n",
        "        self.encoder = encoder\n",
        "        self.decoder = decoder\n",
        "        self.fc = fc\n",
        "\n",
        "    def forward(self, x0, ddpm_out):\n",
        "        encoder_out = self.encoder(x0)\n",
        "        decoder_out = self.decoder(x0, encoder_out, ddpm_out)\n",
        "        fc_out = self.fc(encoder_out[1])\n",
        "        return decoder_out, fc_out\n",
        "\n",
        "\n",
        "class DecoderNoDiff(nn.Module):\n",
        "    def __init__(self, in_channels, n_feat=256, encoder_dim=512, n_classes=13):\n",
        "        super(DecoderNoDiff, self).__init__()\n",
        "\n",
        "        self.in_channels = in_channels\n",
        "        self.n_feat = n_feat\n",
        "        self.n_classes = n_classes\n",
        "        self.e1_out = encoder_dim\n",
        "        self.e2_out = encoder_dim\n",
        "        self.e3_out = encoder_dim\n",
        "        self.u1_out = n_feat\n",
        "        self.u2_out = n_feat\n",
        "        self.u3_out = n_feat\n",
        "        self.u4_out = n_feat\n",
        "\n",
        "        self.sin_emb = SinusoidalPosEmb(n_feat)\n",
        "        self.timeembed1 = EmbedFC(n_feat, self.e3_out)\n",
        "        self.timeembed2 = EmbedFC(n_feat, self.u2_out)\n",
        "        self.timeembed3 = EmbedFC(n_feat, self.u3_out)\n",
        "        self.contextembed1 = EmbedFC(self.e3_out, self.e3_out)\n",
        "        self.contextembed2 = EmbedFC(self.e3_out, self.u2_out)\n",
        "        self.contextembed3 = EmbedFC(self.e3_out, self.u3_out)\n",
        "\n",
        "        # Unet up sampling\n",
        "        self.up2 = UnetUp(self.e3_out, self.u2_out, 1, gn=8, factor=2)\n",
        "        self.up3 = UnetUp(self.e2_out + self.u2_out, self.u3_out, 1, gn=8, factor=2)\n",
        "        # self.up4 = UnetUp(self.e1_out+self.u3_out, self.u4_out, 1, 1, gn=in_channels, factor=2, is_res=True)\n",
        "        self.up4 = nn.Sequential(\n",
        "            nn.Upsample(scale_factor=2, mode=\"nearest\"),\n",
        "            nn.Conv1d(self.u3_out + self.e1_out + in_channels, in_channels, 1, 1, 0),\n",
        "        )\n",
        "\n",
        "        self.out = nn.Conv1d(self.u4_out, in_channels, 1)\n",
        "        self.pool = nn.AvgPool1d(2)\n",
        "\n",
        "    def forward(self, x0, x_hat, encoder_out, t):\n",
        "        down, z = encoder_out\n",
        "        dn1, dn2, dn3 = down\n",
        "        tembd = self.sin_emb(t).view(-1, self.n_feat, 1)  # [b, n_feat, 1]\n",
        "        tembd1 = self.timeembed1(self.sin_emb(t)).view(\n",
        "            -1, self.e3_out, 1\n",
        "        )  # [b, n_feat, 1]\n",
        "        tembd2 = self.timeembed2(self.sin_emb(t)).view(\n",
        "            -1, self.u2_out, 1\n",
        "        )  # [b, n_feat, 1]\n",
        "        tembd3 = self.timeembed3(self.sin_emb(t)).view(\n",
        "            -1, self.u3_out, 1\n",
        "        )  # [b, n_feat, 1]\n",
        "\n",
        "        # Up sampling\n",
        "        ddpm_loss = F.l1_loss(x0, x_hat, reduction=\"none\")\n",
        "\n",
        "        up2 = self.up2(dn3)  # 256 -> 512\n",
        "        up3 = self.up3(torch.cat([up2, dn2], 1))  # 512 -> 1024\n",
        "        out = self.up4(\n",
        "            torch.cat([self.pool(x0), self.pool(x_hat), up3, dn1], 1)\n",
        "        )  # 1024 -> 2048\n",
        "        # out = self.out(torch.cat([out, x_hat], 1)) # 2048 -> 2048\n",
        "        # out = self.out(out)\n",
        "        return out\n",
        "\n",
        "\n",
        "class LinearClassifier(nn.Module):\n",
        "    def __init__(self, in_dim, latent_dim, emb_dim):\n",
        "        super().__init__()\n",
        "        self.linear_out = nn.Sequential(\n",
        "            nn.Linear(in_features=in_dim, out_features=latent_dim),\n",
        "            nn.GroupNorm(4, latent_dim),\n",
        "            nn.PReLU(),\n",
        "            nn.Linear(in_features=latent_dim, out_features=latent_dim),\n",
        "            nn.GroupNorm(4, latent_dim),\n",
        "            nn.PReLU(),\n",
        "            nn.Linear(in_features=latent_dim, out_features=emb_dim),\n",
        "        )\n",
        "\n",
        "    def forward(self, x):\n",
        "        x = self.linear_out(x)\n",
        "        return x\n",
        "\n",
        "\n",
        "def cosine_beta_schedule(timesteps, s=0.008):\n",
        "    \"\"\"\n",
        "    cosine schedule\n",
        "    as proposed in https://openreview.net/forum?id=-NEXDKk8gZ\n",
        "    \"\"\"\n",
        "    steps = timesteps + 1\n",
        "    t = torch.linspace(0, timesteps, steps, dtype=torch.float64) / timesteps\n",
        "    alphas_cumprod = torch.cos((t + s) / (1 + s) * math.pi * 0.5) ** 2\n",
        "    alphas_cumprod = alphas_cumprod / alphas_cumprod[0]\n",
        "    betas = 1 - (alphas_cumprod[1:] / alphas_cumprod[:-1])\n",
        "    return torch.clip(betas, 0, 0.999)\n",
        "\n",
        "\n",
        "def sigmoid_beta_schedule(timesteps, start=-3, end=3, tau=1, clamp_min=1e-5):\n",
        "    \"\"\"\n",
        "    sigmoid schedule\n",
        "    proposed in https://arxiv.org/abs/2212.11972 - Figure 8\n",
        "    \"\"\"\n",
        "    steps = timesteps + 1\n",
        "    t = torch.linspace(0, timesteps, steps, dtype=torch.float64) / timesteps\n",
        "    v_start = torch.tensor(start / tau).sigmoid()\n",
        "    v_end = torch.tensor(end / tau).sigmoid()\n",
        "    alphas_cumprod = (-((t * (end - start) + start) / tau).sigmoid() + v_end) / (\n",
        "        v_end - v_start\n",
        "    )\n",
        "    alphas_cumprod = alphas_cumprod / alphas_cumprod[0]\n",
        "    betas = 1 - (alphas_cumprod[1:] / alphas_cumprod[:-1])\n",
        "    return torch.clip(betas, 0, 0.999)\n",
        "\n",
        "\n",
        "def ddpm_schedules(beta1, beta2, T):\n",
        "    # assert beta1 < beta2 < 1.0, \"beta1 and beta2 must be in (0, 1)\"\n",
        "    # beta_t = (beta2 - beta1) * torch.arange(0, T + 1, dtype=torch.float32) / T + beta1\n",
        "    beta_t = cosine_beta_schedule(T, s=0.008).float()\n",
        "    # beta_t = sigmoid_beta_schedule(T).float()\n",
        "\n",
        "    alpha_t = 1 - beta_t\n",
        "\n",
        "    log_alpha_t = torch.log(alpha_t)\n",
        "    alphabar_t = torch.cumsum(log_alpha_t, dim=0).exp()\n",
        "\n",
        "    sqrtab = torch.sqrt(alphabar_t)\n",
        "\n",
        "    sqrtmab = torch.sqrt(1 - alphabar_t)\n",
        "\n",
        "    return {\n",
        "        \"sqrtab\": sqrtab,  # \\sqrt{\\bar{\\alpha_t}}\n",
        "        \"sqrtmab\": sqrtmab,  # \\sqrt{1-\\bar{\\alpha_t}}\n",
        "    }\n",
        "\n",
        "\n",
        "class DDPM(nn.Module):\n",
        "    def __init__(self, nn_model, betas, n_T, device):\n",
        "        super(DDPM, self).__init__()\n",
        "        self.nn_model = nn_model.to(device)\n",
        "\n",
        "        for k, v in ddpm_schedules(betas[0], betas[1], n_T).items():\n",
        "            self.register_buffer(k, v)\n",
        "\n",
        "        self.n_T = n_T\n",
        "        self.device = device\n",
        "\n",
        "    def forward(self, x):\n",
        "        _ts = torch.randint(1, self.n_T, (x.shape[0],)).to(\n",
        "            self.device\n",
        "        )  # t ~ Uniform(0, n_T)\n",
        "        noise = torch.randn_like(x)  # eps ~ N(0, 1)\n",
        "        x_t = self.sqrtab[_ts, None, None] * x + self.sqrtmab[_ts, None, None] * noise\n",
        "        times = _ts / self.n_T\n",
        "        output, down, up = self.nn_model(x_t, times)\n",
        "        return output, down, up, noise, times"
      ]
    },
    {
      "cell_type": "code",
      "source": [
        "# Define model\n",
        "num_classes = 26\n",
        "channels = X.shape[1]\n",
        "\n",
        "n_T = 1000\n",
        "ddpm_dim = 128\n",
        "encoder_dim = 256\n",
        "fc_dim = 512\n",
        "\n",
        "ddpm_model = ConditionalUNet(in_channels=channels, n_feat=ddpm_dim).to(device)\n",
        "ddpm = DDPM(nn_model=ddpm_model, betas=(1e-6, 1e-2), n_T=n_T, device=device).to(device)\n",
        "encoder = Encoder(in_channels=channels, dim=encoder_dim).to(device)\n",
        "decoder = Decoder(in_channels=channels, n_feat=ddpm_dim, encoder_dim=encoder_dim).to(device)\n",
        "fc = LinearClassifier(encoder_dim, fc_dim, emb_dim=num_classes).to(device)\n",
        "diffe = DiffE(encoder, decoder, fc).to(device)\n",
        "\n",
        "print(\"ddpm size: \", sum(p.numel() for p in ddpm.parameters()))\n",
        "print(\"encoder size: \", sum(p.numel() for p in encoder.parameters()))\n",
        "print(\"decoder size: \", sum(p.numel() for p in decoder.parameters()))\n",
        "print(\"fc size: \", sum(p.numel() for p in fc.parameters()))"
      ],
      "metadata": {
        "id": "6Rigb_x3lTcZ",
        "colab": {
          "base_uri": "https://localhost:8080/"
        },
        "outputId": "7367f1e2-6491-48af-98aa-383ddfe29cfd"
      },
      "id": "6Rigb_x3lTcZ",
      "execution_count": 14,
      "outputs": [
        {
          "output_type": "stream",
          "name": "stdout",
          "text": [
            "ddpm size:  265478\n",
            "encoder size:  149763\n",
            "decoder size:  156482\n",
            "fc size:  409628\n"
          ]
        }
      ]
    },
    {
      "cell_type": "markdown",
      "source": [
        "#train"
      ],
      "metadata": {
        "id": "gNFmH1U1cUfr"
      },
      "id": "gNFmH1U1cUfr"
    },
    {
      "cell_type": "code",
      "source": [
        "# Criterion\n",
        "criterion = nn.L1Loss()\n",
        "criterion_class = nn.MSELoss()\n",
        "\n",
        "# Define optimizer\n",
        "base_lr, lr = 9e-5, 1.5e-3\n",
        "optim1 = optim.RMSprop(ddpm.parameters(), lr=base_lr)\n",
        "optim2 = optim.RMSprop(diffe.parameters(), lr=base_lr)\n",
        "\n",
        "# EMAs\n",
        "fc_ema = EMA(diffe.fc, beta=0.95, update_after_step=100, update_every=10,)\n",
        "\n",
        "step_size = 150\n",
        "scheduler1 = optim.lr_scheduler.CyclicLR(\n",
        "    optimizer=optim1,\n",
        "    base_lr=base_lr,\n",
        "    max_lr=lr,\n",
        "    step_size_up=step_size,\n",
        "    mode=\"exp_range\",\n",
        "    cycle_momentum=False,\n",
        "    gamma=0.9998,\n",
        ")\n",
        "scheduler2 = optim.lr_scheduler.CyclicLR(\n",
        "    optimizer=optim2,\n",
        "    base_lr=base_lr,\n",
        "    max_lr=lr,\n",
        "    step_size_up=step_size,\n",
        "    mode=\"exp_range\",\n",
        "    cycle_momentum=False,\n",
        "    gamma=0.9998,\n",
        ")"
      ],
      "metadata": {
        "id": "e6b9kOFsmNm2"
      },
      "id": "e6b9kOFsmNm2",
      "execution_count": 15,
      "outputs": []
    },
    {
      "cell_type": "code",
      "source": [
        "# Evaluate function\n",
        "def evaluate(encoder, fc, generator, device):\n",
        "    labels = np.arange(0, 26)\n",
        "    Y = []\n",
        "    Y_hat = []\n",
        "    for x, y in generator:\n",
        "        x, y = x.to(device), y.type(torch.LongTensor).to(device)\n",
        "        encoder_out = encoder(x)\n",
        "        y_hat = fc(encoder_out[1])\n",
        "        y_hat = F.softmax(y_hat, dim=1)\n",
        "\n",
        "        Y.append(y.detach().cpu())\n",
        "        Y_hat.append(y_hat.detach().cpu())\n",
        "\n",
        "    # List of tensors to tensor to numpy\n",
        "    Y = torch.cat(Y, dim=0).numpy()  # (N, )\n",
        "    Y_hat = torch.cat(Y_hat, dim=0).numpy()  # (N, 13): has to sum to 1 for each row\n",
        "\n",
        "    # Accuracy and Confusion Matrix\n",
        "    accuracy = top_k_accuracy_score(Y, Y_hat, k=1, labels=labels)\n",
        "    f1 = f1_score(Y, Y_hat.argmax(axis=1), average=\"macro\", labels=labels)\n",
        "    recall = recall_score(Y, Y_hat.argmax(axis=1), average=\"macro\", labels=labels)\n",
        "    precision = precision_score(Y, Y_hat.argmax(axis=1), average=\"macro\", labels=labels)\n",
        "    auc = roc_auc_score(Y, Y_hat, average=\"macro\", multi_class=\"ovo\", labels=labels)\n",
        "\n",
        "    metrics = {\n",
        "        \"accuracy\": accuracy,\n",
        "        \"f1\": f1,\n",
        "        \"recall\": recall,\n",
        "        \"precision\": precision,\n",
        "        \"auc\": auc,\n",
        "    }\n",
        "    # df_cm = pd.DataFrame(confusion_matrix(Y, Y_hat.argmax(axis=1)))\n",
        "    return metrics\n"
      ],
      "metadata": {
        "id": "DEi7SkZfvNbe"
      },
      "id": "DEi7SkZfvNbe",
      "execution_count": 16,
      "outputs": []
    },
    {
      "cell_type": "code",
      "source": [
        "# Train & Evaluate\n",
        "args = argparse.Namespace()\n",
        "args.device = device\n",
        "args.subject = \"ALL\"\n",
        "args.root_dir = subject_chars_dir\n",
        "subject = args.subject\n",
        "\n",
        "num_epochs = 500\n",
        "test_period = 1\n",
        "start_test = test_period\n",
        "alpha = 0.1\n",
        "\n",
        "best_acc = 0\n",
        "best_f1 = 0\n",
        "best_recall = 0\n",
        "best_precision = 0\n",
        "best_auc = 0\n",
        "\n",
        "history = {\n",
        "    \"train_loss\": [],\n",
        "    \"train_acc\": [],\n",
        "    \"val_loss\": [],\n",
        "    \"val_acc\": []\n",
        "}\n",
        "\n",
        "with tqdm(total=num_epochs, desc=f\"Method ALL - Joint Training on All Subjects\") as pbar:\n",
        "    for epoch in range(num_epochs):\n",
        "        ddpm.train()\n",
        "        diffe.train()\n",
        "\n",
        "        epoch_loss = 0\n",
        "        num_batches = 0\n",
        "        epoch_acc = 0\n",
        "        total_samples = 0\n",
        "\n",
        "        ############################## Train ###########################################\n",
        "        for x, y in train_loader:\n",
        "            x, y = x.to(device), y.type(torch.LongTensor).to(device)\n",
        "            y_cat = F.one_hot(y, num_classes=26).type(torch.FloatTensor).to(device)\n",
        "            # Train DDPM\n",
        "            optim1.zero_grad()\n",
        "            x_hat, down, up, noise, t = ddpm(x)\n",
        "\n",
        "            # Align the temporal dimension of x_hat and x\n",
        "            if x_hat.shape[-1] != x.shape[-1]:\n",
        "                target_len = min(x_hat.shape[-1], x.shape[-1])\n",
        "                x_hat = F.interpolate(x_hat, size=target_len)\n",
        "                x = F.interpolate(x, size=target_len)\n",
        "\n",
        "            loss_ddpm = F.l1_loss(x_hat, x, reduction=\"none\")\n",
        "            loss_ddpm.mean().backward()\n",
        "            optim1.step()\n",
        "            ddpm_out = x_hat, down, up, t\n",
        "\n",
        "            # Train Diff-E\n",
        "            optim2.zero_grad()\n",
        "            decoder_out, fc_out = diffe(x, ddpm_out)\n",
        "\n",
        "            loss_gap = criterion(decoder_out, loss_ddpm.detach())\n",
        "            loss_c = criterion_class(fc_out, y_cat)\n",
        "            loss = loss_gap + alpha * loss_c\n",
        "            loss.backward()\n",
        "            optim2.step()\n",
        "\n",
        "            # Optimizer scheduler step\n",
        "            scheduler1.step()\n",
        "            scheduler2.step()\n",
        "\n",
        "            # EMA update\n",
        "            fc_ema.update()\n",
        "\n",
        "            epoch_loss += loss.item()\n",
        "            num_batches += 1\n",
        "\n",
        "            pred_labels = torch.argmax(fc_out, dim=1)\n",
        "            correct = (pred_labels == y).sum().item()\n",
        "            epoch_acc += correct\n",
        "            total_samples += y.size(0)\n",
        "\n",
        "        history[\"train_loss\"].append(epoch_loss / num_batches)\n",
        "        history[\"train_acc\"].append(epoch_acc / total_samples)\n",
        "\n",
        "        ############################## validation ###########################################\n",
        "        with torch.no_grad():\n",
        "            if epoch > start_test:\n",
        "                test_period = 1\n",
        "            if epoch % test_period == 0:\n",
        "                ddpm.eval()\n",
        "                diffe.eval()\n",
        "\n",
        "                metrics_val = evaluate(diffe.encoder, fc_ema, val_loader, device)\n",
        "\n",
        "                val_acc = metrics_val[\"accuracy\"]\n",
        "                history[\"val_acc\"].append(val_acc)\n",
        "                f1 = metrics_val[\"f1\"]\n",
        "                recall = metrics_val[\"recall\"]\n",
        "                precision = metrics_val[\"precision\"]\n",
        "                auc = metrics_val[\"auc\"]\n",
        "\n",
        "                val_loss = 0\n",
        "                with torch.no_grad():\n",
        "                    for x, y in val_loader:\n",
        "                        x, y = x.to(device), y.type(torch.LongTensor).to(device)\n",
        "                        y_cat = F.one_hot(y, num_classes=26).float().to(device)\n",
        "\n",
        "                        x_hat, down, up, noise, t = ddpm(x)\n",
        "                        ddpm_out = x_hat, down, up, t\n",
        "\n",
        "                        if x_hat.shape[-1] != x.shape[-1]:\n",
        "                            target_len = min(x_hat.shape[-1], x.shape[-1])\n",
        "                            x_hat = F.interpolate(x_hat, size=target_len)\n",
        "                            x = F.interpolate(x, size=target_len)\n",
        "\n",
        "                        loss_ddpm = F.l1_loss(x_hat, x, reduction=\"none\")\n",
        "                        decoder_out, fc_out = diffe(x, ddpm_out)\n",
        "\n",
        "                        loss_gap = criterion(decoder_out, loss_ddpm)\n",
        "                        loss_c = criterion_class(fc_out, y_cat)\n",
        "\n",
        "                        val_loss += (loss_gap + alpha * loss_c).item()\n",
        "                history[\"val_loss\"].append(val_loss / len(val_loader))\n",
        "\n",
        "                best_acc_bool = val_acc > best_acc\n",
        "                best_f1_bool = f1 > best_f1\n",
        "                best_recall_bool = recall > best_recall\n",
        "                best_precision_bool = precision > best_precision\n",
        "                best_auc_bool = auc > best_auc\n",
        "\n",
        "                if best_acc_bool:\n",
        "                    best_acc = val_acc\n",
        "                    #torch.save(diffe.state_dict(), f'/content/drive/MyDrive/project/model/ssvep/diffe_{subject}.pth')\n",
        "                    torch.save(diffe.state_dict(), '/content/drive/MyDrive/project/model/ssvep/diffe_all_subjects.pth')\n",
        "                if best_f1_bool:\n",
        "                    best_f1 = f1\n",
        "                if best_recall_bool:\n",
        "                    best_recall = recall\n",
        "                if best_precision_bool:\n",
        "                    best_precision = precision\n",
        "                if best_auc_bool:\n",
        "                    best_auc = auc\n",
        "\n",
        "                # print(\"Subject: {0}\".format(subject))\n",
        "                # # print(\"ddpm test loss: {0:.4f}\".format(t_test_loss_ddpm/len(test_generator)))\n",
        "                # # print(\"encoder test loss: {0:.4f}\".format(t_test_loss_ed/len(test_generator)))\n",
        "                # print(\"accuracy:  {0:.2f}%\".format(acc*100), \"best: {0:.2f}%\".format(best_acc*100))\n",
        "                # print(\"f1-score:  {0:.2f}%\".format(f1*100), \"best: {0:.2f}%\".format(best_f1*100))\n",
        "                # print(\"recall:    {0:.2f}%\".format(recall*100), \"best: {0:.2f}%\".format(best_recall*100))\n",
        "                # print(\"precision: {0:.2f}%\".format(precision*100), \"best: {0:.2f}%\".format(best_precision*100))\n",
        "                # print(\"auc:       {0:.2f}%\".format(auc*100), \"best: {0:.2f}%\".format(best_auc*100))\n",
        "                # writer.add_scalar(f\"EEGNet/Accuracy/subject_{subject}\", acc*100, epoch)\n",
        "                # writer.add_scalar(f\"EEGNet/F1-score/subject_{subject}\", f1*100, epoch)\n",
        "                # writer.add_scalar(f\"EEGNet/Recall/subject_{subject}\", recall*100, epoch)\n",
        "                # writer.add_scalar(f\"EEGNet/Precision/subject_{subject}\", precision*100, epoch)\n",
        "                # writer.add_scalar(f\"EEGNet/AUC/subject_{subject}\", auc*100, epoch)\n",
        "\n",
        "                # if best_acc_bool or best_f1_bool or best_recall_bool or best_precision_bool or best_auc_bool:\n",
        "                #     performance = {'subject': subject,\n",
        "                #                 'epoch': epoch,\n",
        "                #                 'accuracy': best_acc*100,\n",
        "                #                 'f1_score': best_f1*100,\n",
        "                #                 'recall': best_recall*100,\n",
        "                #                 'precision': best_precision*100,\n",
        "                #                 'auc': best_auc*100\n",
        "                #                 }\n",
        "                #     with open(output_file, 'a') as f:\n",
        "                #         f.write(f\"{performance['subject']}, {performance['epoch']}, {performance['accuracy']}, {performance['f1_score']}, {performance['recall']}, {performance['precision']}, {performance['auc']}\\n\")\n",
        "                description = f\"Val Accuracy: {val_acc*100:.2f}% | Best: {best_acc*100:.2f}%\"\n",
        "                pbar.set_description(f\"Method ALL – Processing subject {subject} – {description}\"\n",
        "                )\n",
        "        print(f\"[Epoch {epoch+1}/{num_epochs}] Train Loss: {history['train_loss'][-1]:.4f} | Val Acc: {val_acc*100:.2f}%\")\n",
        "        pbar.update(1)"
      ],
      "metadata": {
        "id": "NIjWCm5vUKx-",
        "colab": {
          "base_uri": "https://localhost:8080/",
          "height": 1000,
          "referenced_widgets": [
            "5a0e2e65e57740e4bbb251311a766d82",
            "4ebab1e156e44c8bb7846910a1f72db7",
            "ee10237165ad47c18ca341aa7657a605",
            "9722c6e893d244889f62b61a1167d198",
            "9c8641ccc5014dfb9e809a716d373e24",
            "25c3251fb3604cf78173778c9ef40700",
            "f58eac912839488ead076366ff951081",
            "bfa6f43f525449b2b9eaefaf4964eba7",
            "659c9b4b1c734b3b9d9411a645837530",
            "4664eb6c3ffd4c919900698cb32b1c37",
            "a0ec61f3051c4d8b811ee1d05e0ba82b"
          ]
        },
        "outputId": "dd19d0c8-3b0b-4503-9176-c86233825fa4"
      },
      "id": "NIjWCm5vUKx-",
      "execution_count": 17,
      "outputs": [
        {
          "output_type": "display_data",
          "data": {
            "text/plain": [
              "Method ALL - Joint Training on All Subjects:   0%|          | 0/500 [00:00<?, ?it/s]"
            ],
            "application/vnd.jupyter.widget-view+json": {
              "version_major": 2,
              "version_minor": 0,
              "model_id": "5a0e2e65e57740e4bbb251311a766d82"
            }
          },
          "metadata": {}
        },
        {
          "output_type": "stream",
          "name": "stderr",
          "text": [
            "/usr/local/lib/python3.11/dist-packages/sklearn/metrics/_classification.py:1565: UndefinedMetricWarning: Precision is ill-defined and being set to 0.0 in labels with no predicted samples. Use `zero_division` parameter to control this behavior.\n",
            "  _warn_prf(average, modifier, f\"{metric.capitalize()} is\", len(result))\n"
          ]
        },
        {
          "output_type": "stream",
          "name": "stdout",
          "text": [
            "[Epoch 1/500] Train Loss: 0.3779 | Val Acc: 3.79%\n"
          ]
        },
        {
          "output_type": "stream",
          "name": "stderr",
          "text": [
            "/usr/local/lib/python3.11/dist-packages/sklearn/metrics/_classification.py:1565: UndefinedMetricWarning: Precision is ill-defined and being set to 0.0 in labels with no predicted samples. Use `zero_division` parameter to control this behavior.\n",
            "  _warn_prf(average, modifier, f\"{metric.capitalize()} is\", len(result))\n"
          ]
        },
        {
          "output_type": "stream",
          "name": "stdout",
          "text": [
            "[Epoch 2/500] Train Loss: 0.2742 | Val Acc: 3.91%\n"
          ]
        },
        {
          "output_type": "stream",
          "name": "stderr",
          "text": [
            "/usr/local/lib/python3.11/dist-packages/sklearn/metrics/_classification.py:1565: UndefinedMetricWarning: Precision is ill-defined and being set to 0.0 in labels with no predicted samples. Use `zero_division` parameter to control this behavior.\n",
            "  _warn_prf(average, modifier, f\"{metric.capitalize()} is\", len(result))\n"
          ]
        },
        {
          "output_type": "stream",
          "name": "stdout",
          "text": [
            "[Epoch 3/500] Train Loss: 0.2485 | Val Acc: 3.91%\n"
          ]
        },
        {
          "output_type": "stream",
          "name": "stderr",
          "text": [
            "/usr/local/lib/python3.11/dist-packages/sklearn/metrics/_classification.py:1565: UndefinedMetricWarning: Precision is ill-defined and being set to 0.0 in labels with no predicted samples. Use `zero_division` parameter to control this behavior.\n",
            "  _warn_prf(average, modifier, f\"{metric.capitalize()} is\", len(result))\n"
          ]
        },
        {
          "output_type": "stream",
          "name": "stdout",
          "text": [
            "[Epoch 4/500] Train Loss: 0.2581 | Val Acc: 5.13%\n"
          ]
        },
        {
          "output_type": "stream",
          "name": "stderr",
          "text": [
            "/usr/local/lib/python3.11/dist-packages/sklearn/metrics/_classification.py:1565: UndefinedMetricWarning: Precision is ill-defined and being set to 0.0 in labels with no predicted samples. Use `zero_division` parameter to control this behavior.\n",
            "  _warn_prf(average, modifier, f\"{metric.capitalize()} is\", len(result))\n"
          ]
        },
        {
          "output_type": "stream",
          "name": "stdout",
          "text": [
            "[Epoch 5/500] Train Loss: 0.2395 | Val Acc: 4.15%\n"
          ]
        },
        {
          "output_type": "stream",
          "name": "stderr",
          "text": [
            "/usr/local/lib/python3.11/dist-packages/sklearn/metrics/_classification.py:1565: UndefinedMetricWarning: Precision is ill-defined and being set to 0.0 in labels with no predicted samples. Use `zero_division` parameter to control this behavior.\n",
            "  _warn_prf(average, modifier, f\"{metric.capitalize()} is\", len(result))\n"
          ]
        },
        {
          "output_type": "stream",
          "name": "stdout",
          "text": [
            "[Epoch 6/500] Train Loss: 0.2475 | Val Acc: 4.03%\n"
          ]
        },
        {
          "output_type": "stream",
          "name": "stderr",
          "text": [
            "/usr/local/lib/python3.11/dist-packages/sklearn/metrics/_classification.py:1565: UndefinedMetricWarning: Precision is ill-defined and being set to 0.0 in labels with no predicted samples. Use `zero_division` parameter to control this behavior.\n",
            "  _warn_prf(average, modifier, f\"{metric.capitalize()} is\", len(result))\n"
          ]
        },
        {
          "output_type": "stream",
          "name": "stdout",
          "text": [
            "[Epoch 7/500] Train Loss: 0.2467 | Val Acc: 3.79%\n"
          ]
        },
        {
          "output_type": "stream",
          "name": "stderr",
          "text": [
            "/usr/local/lib/python3.11/dist-packages/sklearn/metrics/_classification.py:1565: UndefinedMetricWarning: Precision is ill-defined and being set to 0.0 in labels with no predicted samples. Use `zero_division` parameter to control this behavior.\n",
            "  _warn_prf(average, modifier, f\"{metric.capitalize()} is\", len(result))\n"
          ]
        },
        {
          "output_type": "stream",
          "name": "stdout",
          "text": [
            "[Epoch 8/500] Train Loss: 0.2359 | Val Acc: 3.79%\n"
          ]
        },
        {
          "output_type": "stream",
          "name": "stderr",
          "text": [
            "/usr/local/lib/python3.11/dist-packages/sklearn/metrics/_classification.py:1565: UndefinedMetricWarning: Precision is ill-defined and being set to 0.0 in labels with no predicted samples. Use `zero_division` parameter to control this behavior.\n",
            "  _warn_prf(average, modifier, f\"{metric.capitalize()} is\", len(result))\n"
          ]
        },
        {
          "output_type": "stream",
          "name": "stdout",
          "text": [
            "[Epoch 9/500] Train Loss: 0.2476 | Val Acc: 4.40%\n"
          ]
        },
        {
          "output_type": "stream",
          "name": "stderr",
          "text": [
            "/usr/local/lib/python3.11/dist-packages/sklearn/metrics/_classification.py:1565: UndefinedMetricWarning: Precision is ill-defined and being set to 0.0 in labels with no predicted samples. Use `zero_division` parameter to control this behavior.\n",
            "  _warn_prf(average, modifier, f\"{metric.capitalize()} is\", len(result))\n"
          ]
        },
        {
          "output_type": "stream",
          "name": "stdout",
          "text": [
            "[Epoch 10/500] Train Loss: 0.2384 | Val Acc: 3.91%\n"
          ]
        },
        {
          "output_type": "stream",
          "name": "stderr",
          "text": [
            "/usr/local/lib/python3.11/dist-packages/sklearn/metrics/_classification.py:1565: UndefinedMetricWarning: Precision is ill-defined and being set to 0.0 in labels with no predicted samples. Use `zero_division` parameter to control this behavior.\n",
            "  _warn_prf(average, modifier, f\"{metric.capitalize()} is\", len(result))\n"
          ]
        },
        {
          "output_type": "stream",
          "name": "stdout",
          "text": [
            "[Epoch 11/500] Train Loss: 0.2414 | Val Acc: 4.64%\n"
          ]
        },
        {
          "output_type": "stream",
          "name": "stderr",
          "text": [
            "/usr/local/lib/python3.11/dist-packages/sklearn/metrics/_classification.py:1565: UndefinedMetricWarning: Precision is ill-defined and being set to 0.0 in labels with no predicted samples. Use `zero_division` parameter to control this behavior.\n",
            "  _warn_prf(average, modifier, f\"{metric.capitalize()} is\", len(result))\n"
          ]
        },
        {
          "output_type": "stream",
          "name": "stdout",
          "text": [
            "[Epoch 12/500] Train Loss: 0.2402 | Val Acc: 3.54%\n"
          ]
        },
        {
          "output_type": "stream",
          "name": "stderr",
          "text": [
            "/usr/local/lib/python3.11/dist-packages/sklearn/metrics/_classification.py:1565: UndefinedMetricWarning: Precision is ill-defined and being set to 0.0 in labels with no predicted samples. Use `zero_division` parameter to control this behavior.\n",
            "  _warn_prf(average, modifier, f\"{metric.capitalize()} is\", len(result))\n"
          ]
        },
        {
          "output_type": "stream",
          "name": "stdout",
          "text": [
            "[Epoch 13/500] Train Loss: 0.2341 | Val Acc: 4.03%\n"
          ]
        },
        {
          "output_type": "stream",
          "name": "stderr",
          "text": [
            "/usr/local/lib/python3.11/dist-packages/sklearn/metrics/_classification.py:1565: UndefinedMetricWarning: Precision is ill-defined and being set to 0.0 in labels with no predicted samples. Use `zero_division` parameter to control this behavior.\n",
            "  _warn_prf(average, modifier, f\"{metric.capitalize()} is\", len(result))\n"
          ]
        },
        {
          "output_type": "stream",
          "name": "stdout",
          "text": [
            "[Epoch 14/500] Train Loss: 0.2448 | Val Acc: 4.15%\n"
          ]
        },
        {
          "output_type": "stream",
          "name": "stderr",
          "text": [
            "/usr/local/lib/python3.11/dist-packages/sklearn/metrics/_classification.py:1565: UndefinedMetricWarning: Precision is ill-defined and being set to 0.0 in labels with no predicted samples. Use `zero_division` parameter to control this behavior.\n",
            "  _warn_prf(average, modifier, f\"{metric.capitalize()} is\", len(result))\n"
          ]
        },
        {
          "output_type": "stream",
          "name": "stdout",
          "text": [
            "[Epoch 15/500] Train Loss: 0.2377 | Val Acc: 4.15%\n"
          ]
        },
        {
          "output_type": "stream",
          "name": "stderr",
          "text": [
            "/usr/local/lib/python3.11/dist-packages/sklearn/metrics/_classification.py:1565: UndefinedMetricWarning: Precision is ill-defined and being set to 0.0 in labels with no predicted samples. Use `zero_division` parameter to control this behavior.\n",
            "  _warn_prf(average, modifier, f\"{metric.capitalize()} is\", len(result))\n"
          ]
        },
        {
          "output_type": "stream",
          "name": "stdout",
          "text": [
            "[Epoch 16/500] Train Loss: 0.2404 | Val Acc: 4.03%\n"
          ]
        },
        {
          "output_type": "stream",
          "name": "stderr",
          "text": [
            "/usr/local/lib/python3.11/dist-packages/sklearn/metrics/_classification.py:1565: UndefinedMetricWarning: Precision is ill-defined and being set to 0.0 in labels with no predicted samples. Use `zero_division` parameter to control this behavior.\n",
            "  _warn_prf(average, modifier, f\"{metric.capitalize()} is\", len(result))\n"
          ]
        },
        {
          "output_type": "stream",
          "name": "stdout",
          "text": [
            "[Epoch 17/500] Train Loss: 0.2379 | Val Acc: 3.91%\n"
          ]
        },
        {
          "output_type": "stream",
          "name": "stderr",
          "text": [
            "/usr/local/lib/python3.11/dist-packages/sklearn/metrics/_classification.py:1565: UndefinedMetricWarning: Precision is ill-defined and being set to 0.0 in labels with no predicted samples. Use `zero_division` parameter to control this behavior.\n",
            "  _warn_prf(average, modifier, f\"{metric.capitalize()} is\", len(result))\n"
          ]
        },
        {
          "output_type": "stream",
          "name": "stdout",
          "text": [
            "[Epoch 18/500] Train Loss: 0.2327 | Val Acc: 3.79%\n"
          ]
        },
        {
          "output_type": "stream",
          "name": "stderr",
          "text": [
            "/usr/local/lib/python3.11/dist-packages/sklearn/metrics/_classification.py:1565: UndefinedMetricWarning: Precision is ill-defined and being set to 0.0 in labels with no predicted samples. Use `zero_division` parameter to control this behavior.\n",
            "  _warn_prf(average, modifier, f\"{metric.capitalize()} is\", len(result))\n"
          ]
        },
        {
          "output_type": "stream",
          "name": "stdout",
          "text": [
            "[Epoch 19/500] Train Loss: 0.2413 | Val Acc: 3.66%\n"
          ]
        },
        {
          "output_type": "stream",
          "name": "stderr",
          "text": [
            "/usr/local/lib/python3.11/dist-packages/sklearn/metrics/_classification.py:1565: UndefinedMetricWarning: Precision is ill-defined and being set to 0.0 in labels with no predicted samples. Use `zero_division` parameter to control this behavior.\n",
            "  _warn_prf(average, modifier, f\"{metric.capitalize()} is\", len(result))\n"
          ]
        },
        {
          "output_type": "stream",
          "name": "stdout",
          "text": [
            "[Epoch 20/500] Train Loss: 0.2359 | Val Acc: 4.03%\n"
          ]
        },
        {
          "output_type": "stream",
          "name": "stderr",
          "text": [
            "/usr/local/lib/python3.11/dist-packages/sklearn/metrics/_classification.py:1565: UndefinedMetricWarning: Precision is ill-defined and being set to 0.0 in labels with no predicted samples. Use `zero_division` parameter to control this behavior.\n",
            "  _warn_prf(average, modifier, f\"{metric.capitalize()} is\", len(result))\n"
          ]
        },
        {
          "output_type": "stream",
          "name": "stdout",
          "text": [
            "[Epoch 21/500] Train Loss: 0.2389 | Val Acc: 4.03%\n"
          ]
        },
        {
          "output_type": "stream",
          "name": "stderr",
          "text": [
            "/usr/local/lib/python3.11/dist-packages/sklearn/metrics/_classification.py:1565: UndefinedMetricWarning: Precision is ill-defined and being set to 0.0 in labels with no predicted samples. Use `zero_division` parameter to control this behavior.\n",
            "  _warn_prf(average, modifier, f\"{metric.capitalize()} is\", len(result))\n"
          ]
        },
        {
          "output_type": "stream",
          "name": "stdout",
          "text": [
            "[Epoch 22/500] Train Loss: 0.2323 | Val Acc: 3.91%\n"
          ]
        },
        {
          "output_type": "stream",
          "name": "stderr",
          "text": [
            "/usr/local/lib/python3.11/dist-packages/sklearn/metrics/_classification.py:1565: UndefinedMetricWarning: Precision is ill-defined and being set to 0.0 in labels with no predicted samples. Use `zero_division` parameter to control this behavior.\n",
            "  _warn_prf(average, modifier, f\"{metric.capitalize()} is\", len(result))\n"
          ]
        },
        {
          "output_type": "stream",
          "name": "stdout",
          "text": [
            "[Epoch 23/500] Train Loss: 0.2346 | Val Acc: 3.42%\n"
          ]
        },
        {
          "output_type": "stream",
          "name": "stderr",
          "text": [
            "/usr/local/lib/python3.11/dist-packages/sklearn/metrics/_classification.py:1565: UndefinedMetricWarning: Precision is ill-defined and being set to 0.0 in labels with no predicted samples. Use `zero_division` parameter to control this behavior.\n",
            "  _warn_prf(average, modifier, f\"{metric.capitalize()} is\", len(result))\n"
          ]
        },
        {
          "output_type": "stream",
          "name": "stdout",
          "text": [
            "[Epoch 24/500] Train Loss: 0.2398 | Val Acc: 4.40%\n"
          ]
        },
        {
          "output_type": "stream",
          "name": "stderr",
          "text": [
            "/usr/local/lib/python3.11/dist-packages/sklearn/metrics/_classification.py:1565: UndefinedMetricWarning: Precision is ill-defined and being set to 0.0 in labels with no predicted samples. Use `zero_division` parameter to control this behavior.\n",
            "  _warn_prf(average, modifier, f\"{metric.capitalize()} is\", len(result))\n"
          ]
        },
        {
          "output_type": "stream",
          "name": "stdout",
          "text": [
            "[Epoch 25/500] Train Loss: 0.2320 | Val Acc: 4.52%\n"
          ]
        },
        {
          "output_type": "stream",
          "name": "stderr",
          "text": [
            "/usr/local/lib/python3.11/dist-packages/sklearn/metrics/_classification.py:1565: UndefinedMetricWarning: Precision is ill-defined and being set to 0.0 in labels with no predicted samples. Use `zero_division` parameter to control this behavior.\n",
            "  _warn_prf(average, modifier, f\"{metric.capitalize()} is\", len(result))\n"
          ]
        },
        {
          "output_type": "stream",
          "name": "stdout",
          "text": [
            "[Epoch 26/500] Train Loss: 0.2350 | Val Acc: 4.76%\n"
          ]
        },
        {
          "output_type": "stream",
          "name": "stderr",
          "text": [
            "/usr/local/lib/python3.11/dist-packages/sklearn/metrics/_classification.py:1565: UndefinedMetricWarning: Precision is ill-defined and being set to 0.0 in labels with no predicted samples. Use `zero_division` parameter to control this behavior.\n",
            "  _warn_prf(average, modifier, f\"{metric.capitalize()} is\", len(result))\n"
          ]
        },
        {
          "output_type": "stream",
          "name": "stdout",
          "text": [
            "[Epoch 27/500] Train Loss: 0.2332 | Val Acc: 4.52%\n"
          ]
        },
        {
          "output_type": "stream",
          "name": "stderr",
          "text": [
            "/usr/local/lib/python3.11/dist-packages/sklearn/metrics/_classification.py:1565: UndefinedMetricWarning: Precision is ill-defined and being set to 0.0 in labels with no predicted samples. Use `zero_division` parameter to control this behavior.\n",
            "  _warn_prf(average, modifier, f\"{metric.capitalize()} is\", len(result))\n"
          ]
        },
        {
          "output_type": "stream",
          "name": "stdout",
          "text": [
            "[Epoch 28/500] Train Loss: 0.2316 | Val Acc: 5.13%\n"
          ]
        },
        {
          "output_type": "stream",
          "name": "stderr",
          "text": [
            "/usr/local/lib/python3.11/dist-packages/sklearn/metrics/_classification.py:1565: UndefinedMetricWarning: Precision is ill-defined and being set to 0.0 in labels with no predicted samples. Use `zero_division` parameter to control this behavior.\n",
            "  _warn_prf(average, modifier, f\"{metric.capitalize()} is\", len(result))\n"
          ]
        },
        {
          "output_type": "stream",
          "name": "stdout",
          "text": [
            "[Epoch 29/500] Train Loss: 0.2374 | Val Acc: 5.01%\n"
          ]
        },
        {
          "output_type": "stream",
          "name": "stderr",
          "text": [
            "/usr/local/lib/python3.11/dist-packages/sklearn/metrics/_classification.py:1565: UndefinedMetricWarning: Precision is ill-defined and being set to 0.0 in labels with no predicted samples. Use `zero_division` parameter to control this behavior.\n",
            "  _warn_prf(average, modifier, f\"{metric.capitalize()} is\", len(result))\n"
          ]
        },
        {
          "output_type": "stream",
          "name": "stdout",
          "text": [
            "[Epoch 30/500] Train Loss: 0.2362 | Val Acc: 3.42%\n"
          ]
        },
        {
          "output_type": "stream",
          "name": "stderr",
          "text": [
            "/usr/local/lib/python3.11/dist-packages/sklearn/metrics/_classification.py:1565: UndefinedMetricWarning: Precision is ill-defined and being set to 0.0 in labels with no predicted samples. Use `zero_division` parameter to control this behavior.\n",
            "  _warn_prf(average, modifier, f\"{metric.capitalize()} is\", len(result))\n"
          ]
        },
        {
          "output_type": "stream",
          "name": "stdout",
          "text": [
            "[Epoch 31/500] Train Loss: 0.2317 | Val Acc: 3.79%\n"
          ]
        },
        {
          "output_type": "stream",
          "name": "stderr",
          "text": [
            "/usr/local/lib/python3.11/dist-packages/sklearn/metrics/_classification.py:1565: UndefinedMetricWarning: Precision is ill-defined and being set to 0.0 in labels with no predicted samples. Use `zero_division` parameter to control this behavior.\n",
            "  _warn_prf(average, modifier, f\"{metric.capitalize()} is\", len(result))\n"
          ]
        },
        {
          "output_type": "stream",
          "name": "stdout",
          "text": [
            "[Epoch 32/500] Train Loss: 0.2345 | Val Acc: 5.62%\n"
          ]
        },
        {
          "output_type": "stream",
          "name": "stderr",
          "text": [
            "/usr/local/lib/python3.11/dist-packages/sklearn/metrics/_classification.py:1565: UndefinedMetricWarning: Precision is ill-defined and being set to 0.0 in labels with no predicted samples. Use `zero_division` parameter to control this behavior.\n",
            "  _warn_prf(average, modifier, f\"{metric.capitalize()} is\", len(result))\n"
          ]
        },
        {
          "output_type": "stream",
          "name": "stdout",
          "text": [
            "[Epoch 33/500] Train Loss: 0.2330 | Val Acc: 5.74%\n"
          ]
        },
        {
          "output_type": "stream",
          "name": "stderr",
          "text": [
            "/usr/local/lib/python3.11/dist-packages/sklearn/metrics/_classification.py:1565: UndefinedMetricWarning: Precision is ill-defined and being set to 0.0 in labels with no predicted samples. Use `zero_division` parameter to control this behavior.\n",
            "  _warn_prf(average, modifier, f\"{metric.capitalize()} is\", len(result))\n"
          ]
        },
        {
          "output_type": "stream",
          "name": "stdout",
          "text": [
            "[Epoch 34/500] Train Loss: 0.2361 | Val Acc: 5.13%\n"
          ]
        },
        {
          "output_type": "stream",
          "name": "stderr",
          "text": [
            "/usr/local/lib/python3.11/dist-packages/sklearn/metrics/_classification.py:1565: UndefinedMetricWarning: Precision is ill-defined and being set to 0.0 in labels with no predicted samples. Use `zero_division` parameter to control this behavior.\n",
            "  _warn_prf(average, modifier, f\"{metric.capitalize()} is\", len(result))\n"
          ]
        },
        {
          "output_type": "stream",
          "name": "stdout",
          "text": [
            "[Epoch 35/500] Train Loss: 0.2349 | Val Acc: 5.01%\n"
          ]
        },
        {
          "output_type": "stream",
          "name": "stderr",
          "text": [
            "/usr/local/lib/python3.11/dist-packages/sklearn/metrics/_classification.py:1565: UndefinedMetricWarning: Precision is ill-defined and being set to 0.0 in labels with no predicted samples. Use `zero_division` parameter to control this behavior.\n",
            "  _warn_prf(average, modifier, f\"{metric.capitalize()} is\", len(result))\n"
          ]
        },
        {
          "output_type": "stream",
          "name": "stdout",
          "text": [
            "[Epoch 36/500] Train Loss: 0.2326 | Val Acc: 5.86%\n"
          ]
        },
        {
          "output_type": "stream",
          "name": "stderr",
          "text": [
            "/usr/local/lib/python3.11/dist-packages/sklearn/metrics/_classification.py:1565: UndefinedMetricWarning: Precision is ill-defined and being set to 0.0 in labels with no predicted samples. Use `zero_division` parameter to control this behavior.\n",
            "  _warn_prf(average, modifier, f\"{metric.capitalize()} is\", len(result))\n"
          ]
        },
        {
          "output_type": "stream",
          "name": "stdout",
          "text": [
            "[Epoch 37/500] Train Loss: 0.2315 | Val Acc: 6.84%\n"
          ]
        },
        {
          "output_type": "stream",
          "name": "stderr",
          "text": [
            "/usr/local/lib/python3.11/dist-packages/sklearn/metrics/_classification.py:1565: UndefinedMetricWarning: Precision is ill-defined and being set to 0.0 in labels with no predicted samples. Use `zero_division` parameter to control this behavior.\n",
            "  _warn_prf(average, modifier, f\"{metric.capitalize()} is\", len(result))\n"
          ]
        },
        {
          "output_type": "stream",
          "name": "stdout",
          "text": [
            "[Epoch 38/500] Train Loss: 0.2330 | Val Acc: 8.67%\n"
          ]
        },
        {
          "output_type": "stream",
          "name": "stderr",
          "text": [
            "/usr/local/lib/python3.11/dist-packages/sklearn/metrics/_classification.py:1565: UndefinedMetricWarning: Precision is ill-defined and being set to 0.0 in labels with no predicted samples. Use `zero_division` parameter to control this behavior.\n",
            "  _warn_prf(average, modifier, f\"{metric.capitalize()} is\", len(result))\n"
          ]
        },
        {
          "output_type": "stream",
          "name": "stdout",
          "text": [
            "[Epoch 39/500] Train Loss: 0.2337 | Val Acc: 7.20%\n"
          ]
        },
        {
          "output_type": "stream",
          "name": "stderr",
          "text": [
            "/usr/local/lib/python3.11/dist-packages/sklearn/metrics/_classification.py:1565: UndefinedMetricWarning: Precision is ill-defined and being set to 0.0 in labels with no predicted samples. Use `zero_division` parameter to control this behavior.\n",
            "  _warn_prf(average, modifier, f\"{metric.capitalize()} is\", len(result))\n"
          ]
        },
        {
          "output_type": "stream",
          "name": "stdout",
          "text": [
            "[Epoch 40/500] Train Loss: 0.2306 | Val Acc: 7.20%\n"
          ]
        },
        {
          "output_type": "stream",
          "name": "stderr",
          "text": [
            "/usr/local/lib/python3.11/dist-packages/sklearn/metrics/_classification.py:1565: UndefinedMetricWarning: Precision is ill-defined and being set to 0.0 in labels with no predicted samples. Use `zero_division` parameter to control this behavior.\n",
            "  _warn_prf(average, modifier, f\"{metric.capitalize()} is\", len(result))\n"
          ]
        },
        {
          "output_type": "stream",
          "name": "stdout",
          "text": [
            "[Epoch 41/500] Train Loss: 0.2358 | Val Acc: 7.33%\n"
          ]
        },
        {
          "output_type": "stream",
          "name": "stderr",
          "text": [
            "/usr/local/lib/python3.11/dist-packages/sklearn/metrics/_classification.py:1565: UndefinedMetricWarning: Precision is ill-defined and being set to 0.0 in labels with no predicted samples. Use `zero_division` parameter to control this behavior.\n",
            "  _warn_prf(average, modifier, f\"{metric.capitalize()} is\", len(result))\n"
          ]
        },
        {
          "output_type": "stream",
          "name": "stdout",
          "text": [
            "[Epoch 42/500] Train Loss: 0.2345 | Val Acc: 7.69%\n"
          ]
        },
        {
          "output_type": "stream",
          "name": "stderr",
          "text": [
            "/usr/local/lib/python3.11/dist-packages/sklearn/metrics/_classification.py:1565: UndefinedMetricWarning: Precision is ill-defined and being set to 0.0 in labels with no predicted samples. Use `zero_division` parameter to control this behavior.\n",
            "  _warn_prf(average, modifier, f\"{metric.capitalize()} is\", len(result))\n"
          ]
        },
        {
          "output_type": "stream",
          "name": "stdout",
          "text": [
            "[Epoch 43/500] Train Loss: 0.2276 | Val Acc: 7.45%\n"
          ]
        },
        {
          "output_type": "stream",
          "name": "stderr",
          "text": [
            "/usr/local/lib/python3.11/dist-packages/sklearn/metrics/_classification.py:1565: UndefinedMetricWarning: Precision is ill-defined and being set to 0.0 in labels with no predicted samples. Use `zero_division` parameter to control this behavior.\n",
            "  _warn_prf(average, modifier, f\"{metric.capitalize()} is\", len(result))\n"
          ]
        },
        {
          "output_type": "stream",
          "name": "stdout",
          "text": [
            "[Epoch 44/500] Train Loss: 0.2331 | Val Acc: 7.08%\n"
          ]
        },
        {
          "output_type": "stream",
          "name": "stderr",
          "text": [
            "/usr/local/lib/python3.11/dist-packages/sklearn/metrics/_classification.py:1565: UndefinedMetricWarning: Precision is ill-defined and being set to 0.0 in labels with no predicted samples. Use `zero_division` parameter to control this behavior.\n",
            "  _warn_prf(average, modifier, f\"{metric.capitalize()} is\", len(result))\n"
          ]
        },
        {
          "output_type": "stream",
          "name": "stdout",
          "text": [
            "[Epoch 45/500] Train Loss: 0.2320 | Val Acc: 7.81%\n"
          ]
        },
        {
          "output_type": "stream",
          "name": "stderr",
          "text": [
            "/usr/local/lib/python3.11/dist-packages/sklearn/metrics/_classification.py:1565: UndefinedMetricWarning: Precision is ill-defined and being set to 0.0 in labels with no predicted samples. Use `zero_division` parameter to control this behavior.\n",
            "  _warn_prf(average, modifier, f\"{metric.capitalize()} is\", len(result))\n"
          ]
        },
        {
          "output_type": "stream",
          "name": "stdout",
          "text": [
            "[Epoch 46/500] Train Loss: 0.2321 | Val Acc: 8.67%\n"
          ]
        },
        {
          "output_type": "stream",
          "name": "stderr",
          "text": [
            "/usr/local/lib/python3.11/dist-packages/sklearn/metrics/_classification.py:1565: UndefinedMetricWarning: Precision is ill-defined and being set to 0.0 in labels with no predicted samples. Use `zero_division` parameter to control this behavior.\n",
            "  _warn_prf(average, modifier, f\"{metric.capitalize()} is\", len(result))\n"
          ]
        },
        {
          "output_type": "stream",
          "name": "stdout",
          "text": [
            "[Epoch 47/500] Train Loss: 0.2318 | Val Acc: 9.04%\n"
          ]
        },
        {
          "output_type": "stream",
          "name": "stderr",
          "text": [
            "/usr/local/lib/python3.11/dist-packages/sklearn/metrics/_classification.py:1565: UndefinedMetricWarning: Precision is ill-defined and being set to 0.0 in labels with no predicted samples. Use `zero_division` parameter to control this behavior.\n",
            "  _warn_prf(average, modifier, f\"{metric.capitalize()} is\", len(result))\n"
          ]
        },
        {
          "output_type": "stream",
          "name": "stdout",
          "text": [
            "[Epoch 48/500] Train Loss: 0.2274 | Val Acc: 9.40%\n"
          ]
        },
        {
          "output_type": "stream",
          "name": "stderr",
          "text": [
            "/usr/local/lib/python3.11/dist-packages/sklearn/metrics/_classification.py:1565: UndefinedMetricWarning: Precision is ill-defined and being set to 0.0 in labels with no predicted samples. Use `zero_division` parameter to control this behavior.\n",
            "  _warn_prf(average, modifier, f\"{metric.capitalize()} is\", len(result))\n"
          ]
        },
        {
          "output_type": "stream",
          "name": "stdout",
          "text": [
            "[Epoch 49/500] Train Loss: 0.2322 | Val Acc: 9.65%\n"
          ]
        },
        {
          "output_type": "stream",
          "name": "stderr",
          "text": [
            "/usr/local/lib/python3.11/dist-packages/sklearn/metrics/_classification.py:1565: UndefinedMetricWarning: Precision is ill-defined and being set to 0.0 in labels with no predicted samples. Use `zero_division` parameter to control this behavior.\n",
            "  _warn_prf(average, modifier, f\"{metric.capitalize()} is\", len(result))\n"
          ]
        },
        {
          "output_type": "stream",
          "name": "stdout",
          "text": [
            "[Epoch 50/500] Train Loss: 0.2309 | Val Acc: 9.28%\n"
          ]
        },
        {
          "output_type": "stream",
          "name": "stderr",
          "text": [
            "/usr/local/lib/python3.11/dist-packages/sklearn/metrics/_classification.py:1565: UndefinedMetricWarning: Precision is ill-defined and being set to 0.0 in labels with no predicted samples. Use `zero_division` parameter to control this behavior.\n",
            "  _warn_prf(average, modifier, f\"{metric.capitalize()} is\", len(result))\n"
          ]
        },
        {
          "output_type": "stream",
          "name": "stdout",
          "text": [
            "[Epoch 51/500] Train Loss: 0.2315 | Val Acc: 9.89%\n"
          ]
        },
        {
          "output_type": "stream",
          "name": "stderr",
          "text": [
            "/usr/local/lib/python3.11/dist-packages/sklearn/metrics/_classification.py:1565: UndefinedMetricWarning: Precision is ill-defined and being set to 0.0 in labels with no predicted samples. Use `zero_division` parameter to control this behavior.\n",
            "  _warn_prf(average, modifier, f\"{metric.capitalize()} is\", len(result))\n"
          ]
        },
        {
          "output_type": "stream",
          "name": "stdout",
          "text": [
            "[Epoch 52/500] Train Loss: 0.2298 | Val Acc: 10.13%\n"
          ]
        },
        {
          "output_type": "stream",
          "name": "stderr",
          "text": [
            "/usr/local/lib/python3.11/dist-packages/sklearn/metrics/_classification.py:1565: UndefinedMetricWarning: Precision is ill-defined and being set to 0.0 in labels with no predicted samples. Use `zero_division` parameter to control this behavior.\n",
            "  _warn_prf(average, modifier, f\"{metric.capitalize()} is\", len(result))\n"
          ]
        },
        {
          "output_type": "stream",
          "name": "stdout",
          "text": [
            "[Epoch 53/500] Train Loss: 0.2279 | Val Acc: 10.01%\n"
          ]
        },
        {
          "output_type": "stream",
          "name": "stderr",
          "text": [
            "/usr/local/lib/python3.11/dist-packages/sklearn/metrics/_classification.py:1565: UndefinedMetricWarning: Precision is ill-defined and being set to 0.0 in labels with no predicted samples. Use `zero_division` parameter to control this behavior.\n",
            "  _warn_prf(average, modifier, f\"{metric.capitalize()} is\", len(result))\n"
          ]
        },
        {
          "output_type": "stream",
          "name": "stdout",
          "text": [
            "[Epoch 54/500] Train Loss: 0.2338 | Val Acc: 10.26%\n"
          ]
        },
        {
          "output_type": "stream",
          "name": "stderr",
          "text": [
            "/usr/local/lib/python3.11/dist-packages/sklearn/metrics/_classification.py:1565: UndefinedMetricWarning: Precision is ill-defined and being set to 0.0 in labels with no predicted samples. Use `zero_division` parameter to control this behavior.\n",
            "  _warn_prf(average, modifier, f\"{metric.capitalize()} is\", len(result))\n"
          ]
        },
        {
          "output_type": "stream",
          "name": "stdout",
          "text": [
            "[Epoch 55/500] Train Loss: 0.2320 | Val Acc: 9.65%\n"
          ]
        },
        {
          "output_type": "stream",
          "name": "stderr",
          "text": [
            "/usr/local/lib/python3.11/dist-packages/sklearn/metrics/_classification.py:1565: UndefinedMetricWarning: Precision is ill-defined and being set to 0.0 in labels with no predicted samples. Use `zero_division` parameter to control this behavior.\n",
            "  _warn_prf(average, modifier, f\"{metric.capitalize()} is\", len(result))\n"
          ]
        },
        {
          "output_type": "stream",
          "name": "stdout",
          "text": [
            "[Epoch 56/500] Train Loss: 0.2300 | Val Acc: 11.23%\n"
          ]
        },
        {
          "output_type": "stream",
          "name": "stderr",
          "text": [
            "/usr/local/lib/python3.11/dist-packages/sklearn/metrics/_classification.py:1565: UndefinedMetricWarning: Precision is ill-defined and being set to 0.0 in labels with no predicted samples. Use `zero_division` parameter to control this behavior.\n",
            "  _warn_prf(average, modifier, f\"{metric.capitalize()} is\", len(result))\n"
          ]
        },
        {
          "output_type": "stream",
          "name": "stdout",
          "text": [
            "[Epoch 57/500] Train Loss: 0.2319 | Val Acc: 9.52%\n"
          ]
        },
        {
          "output_type": "stream",
          "name": "stderr",
          "text": [
            "/usr/local/lib/python3.11/dist-packages/sklearn/metrics/_classification.py:1565: UndefinedMetricWarning: Precision is ill-defined and being set to 0.0 in labels with no predicted samples. Use `zero_division` parameter to control this behavior.\n",
            "  _warn_prf(average, modifier, f\"{metric.capitalize()} is\", len(result))\n"
          ]
        },
        {
          "output_type": "stream",
          "name": "stdout",
          "text": [
            "[Epoch 58/500] Train Loss: 0.2311 | Val Acc: 11.36%\n"
          ]
        },
        {
          "output_type": "stream",
          "name": "stderr",
          "text": [
            "/usr/local/lib/python3.11/dist-packages/sklearn/metrics/_classification.py:1565: UndefinedMetricWarning: Precision is ill-defined and being set to 0.0 in labels with no predicted samples. Use `zero_division` parameter to control this behavior.\n",
            "  _warn_prf(average, modifier, f\"{metric.capitalize()} is\", len(result))\n"
          ]
        },
        {
          "output_type": "stream",
          "name": "stdout",
          "text": [
            "[Epoch 59/500] Train Loss: 0.2322 | Val Acc: 10.13%\n"
          ]
        },
        {
          "output_type": "stream",
          "name": "stderr",
          "text": [
            "/usr/local/lib/python3.11/dist-packages/sklearn/metrics/_classification.py:1565: UndefinedMetricWarning: Precision is ill-defined and being set to 0.0 in labels with no predicted samples. Use `zero_division` parameter to control this behavior.\n",
            "  _warn_prf(average, modifier, f\"{metric.capitalize()} is\", len(result))\n"
          ]
        },
        {
          "output_type": "stream",
          "name": "stdout",
          "text": [
            "[Epoch 60/500] Train Loss: 0.2308 | Val Acc: 10.01%\n"
          ]
        },
        {
          "output_type": "stream",
          "name": "stderr",
          "text": [
            "/usr/local/lib/python3.11/dist-packages/sklearn/metrics/_classification.py:1565: UndefinedMetricWarning: Precision is ill-defined and being set to 0.0 in labels with no predicted samples. Use `zero_division` parameter to control this behavior.\n",
            "  _warn_prf(average, modifier, f\"{metric.capitalize()} is\", len(result))\n"
          ]
        },
        {
          "output_type": "stream",
          "name": "stdout",
          "text": [
            "[Epoch 61/500] Train Loss: 0.2275 | Val Acc: 9.65%\n",
            "[Epoch 62/500] Train Loss: 0.2309 | Val Acc: 10.62%\n",
            "[Epoch 63/500] Train Loss: 0.2308 | Val Acc: 11.11%\n",
            "[Epoch 64/500] Train Loss: 0.2312 | Val Acc: 9.89%\n",
            "[Epoch 65/500] Train Loss: 0.2310 | Val Acc: 10.26%\n",
            "[Epoch 66/500] Train Loss: 0.2331 | Val Acc: 11.23%\n",
            "[Epoch 67/500] Train Loss: 0.2290 | Val Acc: 11.48%\n",
            "[Epoch 68/500] Train Loss: 0.2341 | Val Acc: 10.50%\n",
            "[Epoch 69/500] Train Loss: 0.2304 | Val Acc: 11.60%\n",
            "[Epoch 70/500] Train Loss: 0.2300 | Val Acc: 11.60%\n",
            "[Epoch 71/500] Train Loss: 0.2261 | Val Acc: 10.13%\n",
            "[Epoch 72/500] Train Loss: 0.2274 | Val Acc: 10.62%\n",
            "[Epoch 73/500] Train Loss: 0.2297 | Val Acc: 10.62%\n",
            "[Epoch 74/500] Train Loss: 0.2260 | Val Acc: 10.99%\n",
            "[Epoch 75/500] Train Loss: 0.2304 | Val Acc: 11.72%\n",
            "[Epoch 76/500] Train Loss: 0.2328 | Val Acc: 11.36%\n",
            "[Epoch 77/500] Train Loss: 0.2298 | Val Acc: 11.72%\n",
            "[Epoch 78/500] Train Loss: 0.2315 | Val Acc: 10.99%\n",
            "[Epoch 79/500] Train Loss: 0.2326 | Val Acc: 10.01%\n",
            "[Epoch 80/500] Train Loss: 0.2296 | Val Acc: 10.99%\n",
            "[Epoch 81/500] Train Loss: 0.2295 | Val Acc: 10.50%\n",
            "[Epoch 82/500] Train Loss: 0.2309 | Val Acc: 11.48%\n",
            "[Epoch 83/500] Train Loss: 0.2311 | Val Acc: 11.23%\n",
            "[Epoch 84/500] Train Loss: 0.2307 | Val Acc: 11.60%\n",
            "[Epoch 85/500] Train Loss: 0.2280 | Val Acc: 11.23%\n",
            "[Epoch 86/500] Train Loss: 0.2309 | Val Acc: 10.38%\n",
            "[Epoch 87/500] Train Loss: 0.2283 | Val Acc: 11.23%\n",
            "[Epoch 88/500] Train Loss: 0.2273 | Val Acc: 10.74%\n",
            "[Epoch 89/500] Train Loss: 0.2322 | Val Acc: 10.87%\n",
            "[Epoch 90/500] Train Loss: 0.2299 | Val Acc: 11.36%\n",
            "[Epoch 91/500] Train Loss: 0.2307 | Val Acc: 10.38%\n",
            "[Epoch 92/500] Train Loss: 0.2264 | Val Acc: 12.33%\n",
            "[Epoch 93/500] Train Loss: 0.2302 | Val Acc: 11.36%\n",
            "[Epoch 94/500] Train Loss: 0.2281 | Val Acc: 11.84%\n",
            "[Epoch 95/500] Train Loss: 0.2263 | Val Acc: 11.36%\n",
            "[Epoch 96/500] Train Loss: 0.2279 | Val Acc: 10.26%\n",
            "[Epoch 97/500] Train Loss: 0.2263 | Val Acc: 10.74%\n",
            "[Epoch 98/500] Train Loss: 0.2274 | Val Acc: 10.99%\n",
            "[Epoch 99/500] Train Loss: 0.2291 | Val Acc: 12.09%\n",
            "[Epoch 100/500] Train Loss: 0.2287 | Val Acc: 10.99%\n",
            "[Epoch 101/500] Train Loss: 0.2305 | Val Acc: 11.23%\n",
            "[Epoch 102/500] Train Loss: 0.2300 | Val Acc: 11.48%\n",
            "[Epoch 103/500] Train Loss: 0.2275 | Val Acc: 11.97%\n",
            "[Epoch 104/500] Train Loss: 0.2269 | Val Acc: 12.70%\n",
            "[Epoch 105/500] Train Loss: 0.2299 | Val Acc: 11.97%\n",
            "[Epoch 106/500] Train Loss: 0.2318 | Val Acc: 11.60%\n",
            "[Epoch 107/500] Train Loss: 0.2270 | Val Acc: 11.72%\n",
            "[Epoch 108/500] Train Loss: 0.2294 | Val Acc: 11.60%\n",
            "[Epoch 109/500] Train Loss: 0.2296 | Val Acc: 12.09%\n",
            "[Epoch 110/500] Train Loss: 0.2287 | Val Acc: 11.48%\n",
            "[Epoch 111/500] Train Loss: 0.2261 | Val Acc: 11.72%\n",
            "[Epoch 112/500] Train Loss: 0.2268 | Val Acc: 11.48%\n",
            "[Epoch 113/500] Train Loss: 0.2319 | Val Acc: 11.72%\n",
            "[Epoch 114/500] Train Loss: 0.2283 | Val Acc: 10.62%\n",
            "[Epoch 115/500] Train Loss: 0.2289 | Val Acc: 12.09%\n",
            "[Epoch 116/500] Train Loss: 0.2261 | Val Acc: 10.62%\n",
            "[Epoch 117/500] Train Loss: 0.2278 | Val Acc: 11.23%\n",
            "[Epoch 118/500] Train Loss: 0.2298 | Val Acc: 12.82%\n",
            "[Epoch 119/500] Train Loss: 0.2307 | Val Acc: 13.43%\n",
            "[Epoch 120/500] Train Loss: 0.2275 | Val Acc: 12.58%\n",
            "[Epoch 121/500] Train Loss: 0.2269 | Val Acc: 13.06%\n",
            "[Epoch 122/500] Train Loss: 0.2283 | Val Acc: 12.33%\n",
            "[Epoch 123/500] Train Loss: 0.2274 | Val Acc: 12.58%\n",
            "[Epoch 124/500] Train Loss: 0.2254 | Val Acc: 13.43%\n",
            "[Epoch 125/500] Train Loss: 0.2281 | Val Acc: 13.43%\n",
            "[Epoch 126/500] Train Loss: 0.2270 | Val Acc: 12.58%\n",
            "[Epoch 127/500] Train Loss: 0.2283 | Val Acc: 12.45%\n",
            "[Epoch 128/500] Train Loss: 0.2292 | Val Acc: 12.33%\n",
            "[Epoch 129/500] Train Loss: 0.2271 | Val Acc: 11.72%\n",
            "[Epoch 130/500] Train Loss: 0.2279 | Val Acc: 12.94%\n",
            "[Epoch 131/500] Train Loss: 0.2300 | Val Acc: 13.68%\n",
            "[Epoch 132/500] Train Loss: 0.2286 | Val Acc: 13.55%\n",
            "[Epoch 133/500] Train Loss: 0.2269 | Val Acc: 12.33%\n",
            "[Epoch 134/500] Train Loss: 0.2263 | Val Acc: 11.84%\n",
            "[Epoch 135/500] Train Loss: 0.2272 | Val Acc: 12.82%\n",
            "[Epoch 136/500] Train Loss: 0.2254 | Val Acc: 13.31%\n",
            "[Epoch 137/500] Train Loss: 0.2248 | Val Acc: 13.19%\n",
            "[Epoch 138/500] Train Loss: 0.2264 | Val Acc: 13.06%\n",
            "[Epoch 139/500] Train Loss: 0.2270 | Val Acc: 12.33%\n",
            "[Epoch 140/500] Train Loss: 0.2260 | Val Acc: 12.21%\n",
            "[Epoch 141/500] Train Loss: 0.2243 | Val Acc: 13.80%\n",
            "[Epoch 142/500] Train Loss: 0.2282 | Val Acc: 13.55%\n",
            "[Epoch 143/500] Train Loss: 0.2294 | Val Acc: 13.68%\n",
            "[Epoch 144/500] Train Loss: 0.2286 | Val Acc: 13.06%\n",
            "[Epoch 145/500] Train Loss: 0.2224 | Val Acc: 13.80%\n",
            "[Epoch 146/500] Train Loss: 0.2263 | Val Acc: 12.70%\n",
            "[Epoch 147/500] Train Loss: 0.2274 | Val Acc: 13.80%\n",
            "[Epoch 148/500] Train Loss: 0.2260 | Val Acc: 12.82%\n",
            "[Epoch 149/500] Train Loss: 0.2262 | Val Acc: 13.55%\n",
            "[Epoch 150/500] Train Loss: 0.2262 | Val Acc: 12.58%\n",
            "[Epoch 151/500] Train Loss: 0.2237 | Val Acc: 13.19%\n",
            "[Epoch 152/500] Train Loss: 0.2251 | Val Acc: 14.29%\n",
            "[Epoch 153/500] Train Loss: 0.2275 | Val Acc: 11.84%\n",
            "[Epoch 154/500] Train Loss: 0.2281 | Val Acc: 13.31%\n",
            "[Epoch 155/500] Train Loss: 0.2276 | Val Acc: 12.70%\n",
            "[Epoch 156/500] Train Loss: 0.2291 | Val Acc: 13.80%\n",
            "[Epoch 157/500] Train Loss: 0.2261 | Val Acc: 12.94%\n",
            "[Epoch 158/500] Train Loss: 0.2305 | Val Acc: 13.92%\n",
            "[Epoch 159/500] Train Loss: 0.2251 | Val Acc: 13.80%\n",
            "[Epoch 160/500] Train Loss: 0.2264 | Val Acc: 13.92%\n",
            "[Epoch 161/500] Train Loss: 0.2261 | Val Acc: 13.55%\n",
            "[Epoch 162/500] Train Loss: 0.2268 | Val Acc: 12.33%\n",
            "[Epoch 163/500] Train Loss: 0.2253 | Val Acc: 13.55%\n",
            "[Epoch 164/500] Train Loss: 0.2294 | Val Acc: 14.04%\n",
            "[Epoch 165/500] Train Loss: 0.2279 | Val Acc: 13.55%\n",
            "[Epoch 166/500] Train Loss: 0.2274 | Val Acc: 13.06%\n",
            "[Epoch 167/500] Train Loss: 0.2270 | Val Acc: 12.82%\n",
            "[Epoch 168/500] Train Loss: 0.2277 | Val Acc: 13.31%\n",
            "[Epoch 169/500] Train Loss: 0.2270 | Val Acc: 12.09%\n",
            "[Epoch 170/500] Train Loss: 0.2285 | Val Acc: 12.94%\n",
            "[Epoch 171/500] Train Loss: 0.2258 | Val Acc: 12.09%\n",
            "[Epoch 172/500] Train Loss: 0.2246 | Val Acc: 13.31%\n",
            "[Epoch 173/500] Train Loss: 0.2278 | Val Acc: 12.33%\n",
            "[Epoch 174/500] Train Loss: 0.2296 | Val Acc: 12.33%\n",
            "[Epoch 175/500] Train Loss: 0.2263 | Val Acc: 13.92%\n",
            "[Epoch 176/500] Train Loss: 0.2280 | Val Acc: 14.29%\n",
            "[Epoch 177/500] Train Loss: 0.2263 | Val Acc: 12.33%\n",
            "[Epoch 178/500] Train Loss: 0.2264 | Val Acc: 13.06%\n",
            "[Epoch 179/500] Train Loss: 0.2267 | Val Acc: 12.94%\n",
            "[Epoch 180/500] Train Loss: 0.2262 | Val Acc: 12.82%\n",
            "[Epoch 181/500] Train Loss: 0.2249 | Val Acc: 12.94%\n",
            "[Epoch 182/500] Train Loss: 0.2262 | Val Acc: 12.09%\n",
            "[Epoch 183/500] Train Loss: 0.2266 | Val Acc: 12.82%\n",
            "[Epoch 184/500] Train Loss: 0.2258 | Val Acc: 12.33%\n",
            "[Epoch 185/500] Train Loss: 0.2231 | Val Acc: 11.97%\n",
            "[Epoch 186/500] Train Loss: 0.2240 | Val Acc: 11.36%\n",
            "[Epoch 187/500] Train Loss: 0.2291 | Val Acc: 11.97%\n",
            "[Epoch 188/500] Train Loss: 0.2227 | Val Acc: 12.45%\n",
            "[Epoch 189/500] Train Loss: 0.2237 | Val Acc: 12.33%\n",
            "[Epoch 190/500] Train Loss: 0.2277 | Val Acc: 11.84%\n",
            "[Epoch 191/500] Train Loss: 0.2224 | Val Acc: 11.97%\n",
            "[Epoch 192/500] Train Loss: 0.2262 | Val Acc: 12.58%\n",
            "[Epoch 193/500] Train Loss: 0.2234 | Val Acc: 11.84%\n",
            "[Epoch 194/500] Train Loss: 0.2253 | Val Acc: 12.58%\n",
            "[Epoch 195/500] Train Loss: 0.2253 | Val Acc: 12.70%\n",
            "[Epoch 196/500] Train Loss: 0.2264 | Val Acc: 11.60%\n",
            "[Epoch 197/500] Train Loss: 0.2271 | Val Acc: 12.21%\n",
            "[Epoch 198/500] Train Loss: 0.2284 | Val Acc: 11.97%\n",
            "[Epoch 199/500] Train Loss: 0.2268 | Val Acc: 12.21%\n",
            "[Epoch 200/500] Train Loss: 0.2254 | Val Acc: 12.70%\n",
            "[Epoch 201/500] Train Loss: 0.2246 | Val Acc: 11.72%\n",
            "[Epoch 202/500] Train Loss: 0.2214 | Val Acc: 13.31%\n",
            "[Epoch 203/500] Train Loss: 0.2267 | Val Acc: 12.21%\n",
            "[Epoch 204/500] Train Loss: 0.2238 | Val Acc: 12.21%\n",
            "[Epoch 205/500] Train Loss: 0.2224 | Val Acc: 12.58%\n",
            "[Epoch 206/500] Train Loss: 0.2245 | Val Acc: 12.33%\n",
            "[Epoch 207/500] Train Loss: 0.2257 | Val Acc: 12.70%\n",
            "[Epoch 208/500] Train Loss: 0.2262 | Val Acc: 12.33%\n",
            "[Epoch 209/500] Train Loss: 0.2253 | Val Acc: 13.43%\n",
            "[Epoch 210/500] Train Loss: 0.2233 | Val Acc: 12.09%\n",
            "[Epoch 211/500] Train Loss: 0.2213 | Val Acc: 12.94%\n",
            "[Epoch 212/500] Train Loss: 0.2245 | Val Acc: 11.84%\n",
            "[Epoch 213/500] Train Loss: 0.2220 | Val Acc: 11.84%\n",
            "[Epoch 214/500] Train Loss: 0.2221 | Val Acc: 12.58%\n",
            "[Epoch 215/500] Train Loss: 0.2276 | Val Acc: 12.70%\n",
            "[Epoch 216/500] Train Loss: 0.2250 | Val Acc: 13.06%\n",
            "[Epoch 217/500] Train Loss: 0.2229 | Val Acc: 12.45%\n",
            "[Epoch 218/500] Train Loss: 0.2257 | Val Acc: 12.58%\n",
            "[Epoch 219/500] Train Loss: 0.2266 | Val Acc: 12.58%\n",
            "[Epoch 220/500] Train Loss: 0.2235 | Val Acc: 11.97%\n",
            "[Epoch 221/500] Train Loss: 0.2246 | Val Acc: 11.72%\n",
            "[Epoch 222/500] Train Loss: 0.2280 | Val Acc: 12.21%\n",
            "[Epoch 223/500] Train Loss: 0.2254 | Val Acc: 13.06%\n",
            "[Epoch 224/500] Train Loss: 0.2296 | Val Acc: 13.06%\n",
            "[Epoch 225/500] Train Loss: 0.2230 | Val Acc: 12.58%\n",
            "[Epoch 226/500] Train Loss: 0.2246 | Val Acc: 11.97%\n",
            "[Epoch 227/500] Train Loss: 0.2251 | Val Acc: 12.94%\n",
            "[Epoch 228/500] Train Loss: 0.2250 | Val Acc: 11.97%\n",
            "[Epoch 229/500] Train Loss: 0.2262 | Val Acc: 11.72%\n",
            "[Epoch 230/500] Train Loss: 0.2277 | Val Acc: 11.97%\n",
            "[Epoch 231/500] Train Loss: 0.2247 | Val Acc: 12.33%\n",
            "[Epoch 232/500] Train Loss: 0.2215 | Val Acc: 11.48%\n",
            "[Epoch 233/500] Train Loss: 0.2252 | Val Acc: 11.60%\n",
            "[Epoch 234/500] Train Loss: 0.2247 | Val Acc: 12.45%\n",
            "[Epoch 235/500] Train Loss: 0.2257 | Val Acc: 12.09%\n",
            "[Epoch 236/500] Train Loss: 0.2241 | Val Acc: 11.97%\n",
            "[Epoch 237/500] Train Loss: 0.2267 | Val Acc: 13.06%\n",
            "[Epoch 238/500] Train Loss: 0.2255 | Val Acc: 12.70%\n",
            "[Epoch 239/500] Train Loss: 0.2242 | Val Acc: 12.21%\n",
            "[Epoch 240/500] Train Loss: 0.2263 | Val Acc: 12.45%\n",
            "[Epoch 241/500] Train Loss: 0.2227 | Val Acc: 11.72%\n",
            "[Epoch 242/500] Train Loss: 0.2259 | Val Acc: 13.06%\n",
            "[Epoch 243/500] Train Loss: 0.2244 | Val Acc: 12.09%\n",
            "[Epoch 244/500] Train Loss: 0.2222 | Val Acc: 11.84%\n",
            "[Epoch 245/500] Train Loss: 0.2240 | Val Acc: 11.60%\n",
            "[Epoch 246/500] Train Loss: 0.2239 | Val Acc: 12.45%\n",
            "[Epoch 247/500] Train Loss: 0.2258 | Val Acc: 12.58%\n",
            "[Epoch 248/500] Train Loss: 0.2242 | Val Acc: 12.09%\n",
            "[Epoch 249/500] Train Loss: 0.2232 | Val Acc: 12.33%\n",
            "[Epoch 250/500] Train Loss: 0.2267 | Val Acc: 12.33%\n",
            "[Epoch 251/500] Train Loss: 0.2270 | Val Acc: 11.60%\n",
            "[Epoch 252/500] Train Loss: 0.2216 | Val Acc: 11.84%\n",
            "[Epoch 253/500] Train Loss: 0.2278 | Val Acc: 12.21%\n",
            "[Epoch 254/500] Train Loss: 0.2233 | Val Acc: 12.70%\n",
            "[Epoch 255/500] Train Loss: 0.2262 | Val Acc: 12.58%\n",
            "[Epoch 256/500] Train Loss: 0.2233 | Val Acc: 13.31%\n",
            "[Epoch 257/500] Train Loss: 0.2241 | Val Acc: 12.82%\n",
            "[Epoch 258/500] Train Loss: 0.2255 | Val Acc: 12.33%\n",
            "[Epoch 259/500] Train Loss: 0.2266 | Val Acc: 11.84%\n",
            "[Epoch 260/500] Train Loss: 0.2242 | Val Acc: 11.84%\n",
            "[Epoch 261/500] Train Loss: 0.2273 | Val Acc: 11.97%\n",
            "[Epoch 262/500] Train Loss: 0.2208 | Val Acc: 11.84%\n",
            "[Epoch 263/500] Train Loss: 0.2220 | Val Acc: 12.33%\n",
            "[Epoch 264/500] Train Loss: 0.2232 | Val Acc: 12.70%\n",
            "[Epoch 265/500] Train Loss: 0.2223 | Val Acc: 12.70%\n",
            "[Epoch 266/500] Train Loss: 0.2245 | Val Acc: 12.33%\n",
            "[Epoch 267/500] Train Loss: 0.2232 | Val Acc: 12.58%\n",
            "[Epoch 268/500] Train Loss: 0.2255 | Val Acc: 11.72%\n",
            "[Epoch 269/500] Train Loss: 0.2281 | Val Acc: 11.84%\n",
            "[Epoch 270/500] Train Loss: 0.2244 | Val Acc: 12.58%\n",
            "[Epoch 271/500] Train Loss: 0.2235 | Val Acc: 12.82%\n",
            "[Epoch 272/500] Train Loss: 0.2213 | Val Acc: 12.70%\n",
            "[Epoch 273/500] Train Loss: 0.2239 | Val Acc: 11.84%\n",
            "[Epoch 274/500] Train Loss: 0.2259 | Val Acc: 12.33%\n",
            "[Epoch 275/500] Train Loss: 0.2266 | Val Acc: 12.82%\n",
            "[Epoch 276/500] Train Loss: 0.2254 | Val Acc: 11.36%\n",
            "[Epoch 277/500] Train Loss: 0.2276 | Val Acc: 12.09%\n",
            "[Epoch 278/500] Train Loss: 0.2222 | Val Acc: 12.21%\n",
            "[Epoch 279/500] Train Loss: 0.2258 | Val Acc: 11.97%\n",
            "[Epoch 280/500] Train Loss: 0.2245 | Val Acc: 12.70%\n",
            "[Epoch 281/500] Train Loss: 0.2214 | Val Acc: 12.21%\n",
            "[Epoch 282/500] Train Loss: 0.2264 | Val Acc: 11.60%\n",
            "[Epoch 283/500] Train Loss: 0.2250 | Val Acc: 12.21%\n",
            "[Epoch 284/500] Train Loss: 0.2191 | Val Acc: 11.36%\n",
            "[Epoch 285/500] Train Loss: 0.2261 | Val Acc: 11.84%\n",
            "[Epoch 286/500] Train Loss: 0.2251 | Val Acc: 11.97%\n",
            "[Epoch 287/500] Train Loss: 0.2238 | Val Acc: 11.60%\n",
            "[Epoch 288/500] Train Loss: 0.2220 | Val Acc: 10.62%\n",
            "[Epoch 289/500] Train Loss: 0.2237 | Val Acc: 12.45%\n",
            "[Epoch 290/500] Train Loss: 0.2250 | Val Acc: 12.21%\n",
            "[Epoch 291/500] Train Loss: 0.2222 | Val Acc: 12.33%\n",
            "[Epoch 292/500] Train Loss: 0.2265 | Val Acc: 12.45%\n",
            "[Epoch 293/500] Train Loss: 0.2251 | Val Acc: 11.97%\n",
            "[Epoch 294/500] Train Loss: 0.2231 | Val Acc: 11.97%\n",
            "[Epoch 295/500] Train Loss: 0.2258 | Val Acc: 11.72%\n",
            "[Epoch 296/500] Train Loss: 0.2252 | Val Acc: 12.33%\n",
            "[Epoch 297/500] Train Loss: 0.2206 | Val Acc: 12.09%\n",
            "[Epoch 298/500] Train Loss: 0.2262 | Val Acc: 12.09%\n",
            "[Epoch 299/500] Train Loss: 0.2222 | Val Acc: 11.48%\n",
            "[Epoch 300/500] Train Loss: 0.2270 | Val Acc: 11.97%\n",
            "[Epoch 301/500] Train Loss: 0.2249 | Val Acc: 11.36%\n",
            "[Epoch 302/500] Train Loss: 0.2256 | Val Acc: 12.21%\n",
            "[Epoch 303/500] Train Loss: 0.2227 | Val Acc: 12.21%\n",
            "[Epoch 304/500] Train Loss: 0.2244 | Val Acc: 11.84%\n",
            "[Epoch 305/500] Train Loss: 0.2275 | Val Acc: 11.36%\n",
            "[Epoch 306/500] Train Loss: 0.2245 | Val Acc: 12.09%\n",
            "[Epoch 307/500] Train Loss: 0.2224 | Val Acc: 11.97%\n",
            "[Epoch 308/500] Train Loss: 0.2246 | Val Acc: 11.84%\n",
            "[Epoch 309/500] Train Loss: 0.2226 | Val Acc: 11.48%\n",
            "[Epoch 310/500] Train Loss: 0.2232 | Val Acc: 11.60%\n",
            "[Epoch 311/500] Train Loss: 0.2247 | Val Acc: 12.09%\n",
            "[Epoch 312/500] Train Loss: 0.2236 | Val Acc: 11.48%\n",
            "[Epoch 313/500] Train Loss: 0.2249 | Val Acc: 11.72%\n",
            "[Epoch 314/500] Train Loss: 0.2237 | Val Acc: 11.23%\n",
            "[Epoch 315/500] Train Loss: 0.2225 | Val Acc: 11.60%\n",
            "[Epoch 316/500] Train Loss: 0.2246 | Val Acc: 11.60%\n",
            "[Epoch 317/500] Train Loss: 0.2248 | Val Acc: 11.36%\n",
            "[Epoch 318/500] Train Loss: 0.2230 | Val Acc: 12.09%\n",
            "[Epoch 319/500] Train Loss: 0.2258 | Val Acc: 10.99%\n",
            "[Epoch 320/500] Train Loss: 0.2262 | Val Acc: 11.72%\n",
            "[Epoch 321/500] Train Loss: 0.2237 | Val Acc: 12.09%\n",
            "[Epoch 322/500] Train Loss: 0.2269 | Val Acc: 10.99%\n",
            "[Epoch 323/500] Train Loss: 0.2242 | Val Acc: 11.72%\n",
            "[Epoch 324/500] Train Loss: 0.2259 | Val Acc: 10.74%\n",
            "[Epoch 325/500] Train Loss: 0.2241 | Val Acc: 11.72%\n",
            "[Epoch 326/500] Train Loss: 0.2232 | Val Acc: 11.84%\n",
            "[Epoch 327/500] Train Loss: 0.2255 | Val Acc: 10.74%\n",
            "[Epoch 328/500] Train Loss: 0.2240 | Val Acc: 11.72%\n",
            "[Epoch 329/500] Train Loss: 0.2242 | Val Acc: 11.36%\n",
            "[Epoch 330/500] Train Loss: 0.2248 | Val Acc: 11.97%\n",
            "[Epoch 331/500] Train Loss: 0.2245 | Val Acc: 11.72%\n",
            "[Epoch 332/500] Train Loss: 0.2238 | Val Acc: 11.84%\n",
            "[Epoch 333/500] Train Loss: 0.2250 | Val Acc: 12.21%\n",
            "[Epoch 334/500] Train Loss: 0.2220 | Val Acc: 11.72%\n",
            "[Epoch 335/500] Train Loss: 0.2244 | Val Acc: 11.72%\n",
            "[Epoch 336/500] Train Loss: 0.2266 | Val Acc: 11.23%\n",
            "[Epoch 337/500] Train Loss: 0.2238 | Val Acc: 11.11%\n",
            "[Epoch 338/500] Train Loss: 0.2268 | Val Acc: 11.36%\n",
            "[Epoch 339/500] Train Loss: 0.2247 | Val Acc: 11.84%\n",
            "[Epoch 340/500] Train Loss: 0.2246 | Val Acc: 10.87%\n",
            "[Epoch 341/500] Train Loss: 0.2259 | Val Acc: 11.48%\n",
            "[Epoch 342/500] Train Loss: 0.2239 | Val Acc: 11.60%\n",
            "[Epoch 343/500] Train Loss: 0.2240 | Val Acc: 11.23%\n",
            "[Epoch 344/500] Train Loss: 0.2262 | Val Acc: 11.36%\n",
            "[Epoch 345/500] Train Loss: 0.2241 | Val Acc: 12.70%\n",
            "[Epoch 346/500] Train Loss: 0.2217 | Val Acc: 11.72%\n",
            "[Epoch 347/500] Train Loss: 0.2230 | Val Acc: 11.60%\n",
            "[Epoch 348/500] Train Loss: 0.2215 | Val Acc: 11.60%\n",
            "[Epoch 349/500] Train Loss: 0.2263 | Val Acc: 11.60%\n",
            "[Epoch 350/500] Train Loss: 0.2251 | Val Acc: 11.11%\n",
            "[Epoch 351/500] Train Loss: 0.2226 | Val Acc: 10.99%\n",
            "[Epoch 352/500] Train Loss: 0.2218 | Val Acc: 10.87%\n",
            "[Epoch 353/500] Train Loss: 0.2235 | Val Acc: 11.48%\n",
            "[Epoch 354/500] Train Loss: 0.2219 | Val Acc: 11.23%\n",
            "[Epoch 355/500] Train Loss: 0.2233 | Val Acc: 12.45%\n",
            "[Epoch 356/500] Train Loss: 0.2247 | Val Acc: 11.72%\n",
            "[Epoch 357/500] Train Loss: 0.2272 | Val Acc: 12.09%\n",
            "[Epoch 358/500] Train Loss: 0.2236 | Val Acc: 10.74%\n",
            "[Epoch 359/500] Train Loss: 0.2232 | Val Acc: 11.72%\n",
            "[Epoch 360/500] Train Loss: 0.2269 | Val Acc: 11.23%\n",
            "[Epoch 361/500] Train Loss: 0.2255 | Val Acc: 11.23%\n",
            "[Epoch 362/500] Train Loss: 0.2257 | Val Acc: 12.33%\n",
            "[Epoch 363/500] Train Loss: 0.2234 | Val Acc: 12.58%\n",
            "[Epoch 364/500] Train Loss: 0.2253 | Val Acc: 11.72%\n",
            "[Epoch 365/500] Train Loss: 0.2255 | Val Acc: 12.33%\n",
            "[Epoch 366/500] Train Loss: 0.2236 | Val Acc: 11.72%\n",
            "[Epoch 367/500] Train Loss: 0.2271 | Val Acc: 11.84%\n",
            "[Epoch 368/500] Train Loss: 0.2246 | Val Acc: 11.97%\n",
            "[Epoch 369/500] Train Loss: 0.2235 | Val Acc: 11.84%\n",
            "[Epoch 370/500] Train Loss: 0.2233 | Val Acc: 11.84%\n",
            "[Epoch 371/500] Train Loss: 0.2228 | Val Acc: 11.11%\n",
            "[Epoch 372/500] Train Loss: 0.2247 | Val Acc: 11.48%\n",
            "[Epoch 373/500] Train Loss: 0.2247 | Val Acc: 11.48%\n",
            "[Epoch 374/500] Train Loss: 0.2239 | Val Acc: 12.33%\n",
            "[Epoch 375/500] Train Loss: 0.2232 | Val Acc: 11.84%\n",
            "[Epoch 376/500] Train Loss: 0.2236 | Val Acc: 12.09%\n",
            "[Epoch 377/500] Train Loss: 0.2206 | Val Acc: 10.62%\n",
            "[Epoch 378/500] Train Loss: 0.2243 | Val Acc: 12.09%\n",
            "[Epoch 379/500] Train Loss: 0.2264 | Val Acc: 11.36%\n",
            "[Epoch 380/500] Train Loss: 0.2272 | Val Acc: 11.97%\n",
            "[Epoch 381/500] Train Loss: 0.2209 | Val Acc: 11.84%\n",
            "[Epoch 382/500] Train Loss: 0.2212 | Val Acc: 11.72%\n",
            "[Epoch 383/500] Train Loss: 0.2245 | Val Acc: 12.09%\n",
            "[Epoch 384/500] Train Loss: 0.2229 | Val Acc: 12.09%\n",
            "[Epoch 385/500] Train Loss: 0.2251 | Val Acc: 11.11%\n",
            "[Epoch 386/500] Train Loss: 0.2239 | Val Acc: 11.72%\n",
            "[Epoch 387/500] Train Loss: 0.2255 | Val Acc: 10.87%\n",
            "[Epoch 388/500] Train Loss: 0.2229 | Val Acc: 10.50%\n",
            "[Epoch 389/500] Train Loss: 0.2220 | Val Acc: 11.84%\n",
            "[Epoch 390/500] Train Loss: 0.2241 | Val Acc: 11.60%\n",
            "[Epoch 391/500] Train Loss: 0.2245 | Val Acc: 11.60%\n",
            "[Epoch 392/500] Train Loss: 0.2230 | Val Acc: 10.87%\n",
            "[Epoch 393/500] Train Loss: 0.2261 | Val Acc: 11.36%\n",
            "[Epoch 394/500] Train Loss: 0.2275 | Val Acc: 11.23%\n",
            "[Epoch 395/500] Train Loss: 0.2196 | Val Acc: 10.99%\n",
            "[Epoch 396/500] Train Loss: 0.2227 | Val Acc: 11.36%\n",
            "[Epoch 397/500] Train Loss: 0.2219 | Val Acc: 11.84%\n",
            "[Epoch 398/500] Train Loss: 0.2268 | Val Acc: 11.36%\n",
            "[Epoch 399/500] Train Loss: 0.2215 | Val Acc: 11.60%\n",
            "[Epoch 400/500] Train Loss: 0.2219 | Val Acc: 11.11%\n",
            "[Epoch 401/500] Train Loss: 0.2255 | Val Acc: 11.60%\n",
            "[Epoch 402/500] Train Loss: 0.2220 | Val Acc: 11.48%\n",
            "[Epoch 403/500] Train Loss: 0.2234 | Val Acc: 10.99%\n",
            "[Epoch 404/500] Train Loss: 0.2237 | Val Acc: 11.48%\n",
            "[Epoch 405/500] Train Loss: 0.2257 | Val Acc: 11.60%\n",
            "[Epoch 406/500] Train Loss: 0.2246 | Val Acc: 11.48%\n",
            "[Epoch 407/500] Train Loss: 0.2229 | Val Acc: 11.36%\n",
            "[Epoch 408/500] Train Loss: 0.2233 | Val Acc: 11.60%\n",
            "[Epoch 409/500] Train Loss: 0.2262 | Val Acc: 11.60%\n",
            "[Epoch 410/500] Train Loss: 0.2240 | Val Acc: 11.84%\n",
            "[Epoch 411/500] Train Loss: 0.2219 | Val Acc: 11.48%\n",
            "[Epoch 412/500] Train Loss: 0.2254 | Val Acc: 10.74%\n",
            "[Epoch 413/500] Train Loss: 0.2237 | Val Acc: 11.11%\n",
            "[Epoch 414/500] Train Loss: 0.2270 | Val Acc: 11.72%\n",
            "[Epoch 415/500] Train Loss: 0.2212 | Val Acc: 11.72%\n",
            "[Epoch 416/500] Train Loss: 0.2243 | Val Acc: 11.23%\n",
            "[Epoch 417/500] Train Loss: 0.2208 | Val Acc: 12.09%\n",
            "[Epoch 418/500] Train Loss: 0.2238 | Val Acc: 11.36%\n",
            "[Epoch 419/500] Train Loss: 0.2263 | Val Acc: 11.60%\n",
            "[Epoch 420/500] Train Loss: 0.2210 | Val Acc: 11.84%\n",
            "[Epoch 421/500] Train Loss: 0.2255 | Val Acc: 11.72%\n",
            "[Epoch 422/500] Train Loss: 0.2205 | Val Acc: 10.99%\n",
            "[Epoch 423/500] Train Loss: 0.2265 | Val Acc: 10.62%\n",
            "[Epoch 424/500] Train Loss: 0.2194 | Val Acc: 11.72%\n",
            "[Epoch 425/500] Train Loss: 0.2203 | Val Acc: 12.33%\n",
            "[Epoch 426/500] Train Loss: 0.2228 | Val Acc: 12.33%\n",
            "[Epoch 427/500] Train Loss: 0.2210 | Val Acc: 11.36%\n",
            "[Epoch 428/500] Train Loss: 0.2229 | Val Acc: 11.36%\n",
            "[Epoch 429/500] Train Loss: 0.2245 | Val Acc: 11.11%\n",
            "[Epoch 430/500] Train Loss: 0.2226 | Val Acc: 11.60%\n",
            "[Epoch 431/500] Train Loss: 0.2250 | Val Acc: 11.84%\n",
            "[Epoch 432/500] Train Loss: 0.2226 | Val Acc: 11.60%\n",
            "[Epoch 433/500] Train Loss: 0.2246 | Val Acc: 11.36%\n",
            "[Epoch 434/500] Train Loss: 0.2226 | Val Acc: 11.72%\n",
            "[Epoch 435/500] Train Loss: 0.2233 | Val Acc: 11.23%\n",
            "[Epoch 436/500] Train Loss: 0.2252 | Val Acc: 11.72%\n",
            "[Epoch 437/500] Train Loss: 0.2231 | Val Acc: 11.23%\n",
            "[Epoch 438/500] Train Loss: 0.2233 | Val Acc: 10.62%\n",
            "[Epoch 439/500] Train Loss: 0.2250 | Val Acc: 11.60%\n",
            "[Epoch 440/500] Train Loss: 0.2237 | Val Acc: 11.48%\n",
            "[Epoch 441/500] Train Loss: 0.2250 | Val Acc: 10.99%\n",
            "[Epoch 442/500] Train Loss: 0.2236 | Val Acc: 11.60%\n",
            "[Epoch 443/500] Train Loss: 0.2262 | Val Acc: 11.36%\n",
            "[Epoch 444/500] Train Loss: 0.2243 | Val Acc: 10.99%\n",
            "[Epoch 445/500] Train Loss: 0.2246 | Val Acc: 11.97%\n",
            "[Epoch 446/500] Train Loss: 0.2227 | Val Acc: 10.74%\n",
            "[Epoch 447/500] Train Loss: 0.2210 | Val Acc: 11.36%\n",
            "[Epoch 448/500] Train Loss: 0.2243 | Val Acc: 11.48%\n",
            "[Epoch 449/500] Train Loss: 0.2235 | Val Acc: 12.09%\n",
            "[Epoch 450/500] Train Loss: 0.2251 | Val Acc: 11.84%\n",
            "[Epoch 451/500] Train Loss: 0.2232 | Val Acc: 11.72%\n",
            "[Epoch 452/500] Train Loss: 0.2241 | Val Acc: 10.99%\n",
            "[Epoch 453/500] Train Loss: 0.2240 | Val Acc: 11.60%\n",
            "[Epoch 454/500] Train Loss: 0.2220 | Val Acc: 11.11%\n",
            "[Epoch 455/500] Train Loss: 0.2234 | Val Acc: 11.23%\n",
            "[Epoch 456/500] Train Loss: 0.2217 | Val Acc: 11.23%\n",
            "[Epoch 457/500] Train Loss: 0.2219 | Val Acc: 10.99%\n",
            "[Epoch 458/500] Train Loss: 0.2234 | Val Acc: 11.11%\n",
            "[Epoch 459/500] Train Loss: 0.2235 | Val Acc: 11.36%\n",
            "[Epoch 460/500] Train Loss: 0.2235 | Val Acc: 11.72%\n",
            "[Epoch 461/500] Train Loss: 0.2257 | Val Acc: 10.74%\n",
            "[Epoch 462/500] Train Loss: 0.2209 | Val Acc: 11.48%\n",
            "[Epoch 463/500] Train Loss: 0.2258 | Val Acc: 11.60%\n",
            "[Epoch 464/500] Train Loss: 0.2246 | Val Acc: 10.87%\n",
            "[Epoch 465/500] Train Loss: 0.2272 | Val Acc: 11.72%\n",
            "[Epoch 466/500] Train Loss: 0.2219 | Val Acc: 11.60%\n",
            "[Epoch 467/500] Train Loss: 0.2228 | Val Acc: 10.99%\n",
            "[Epoch 468/500] Train Loss: 0.2260 | Val Acc: 11.72%\n",
            "[Epoch 469/500] Train Loss: 0.2243 | Val Acc: 10.87%\n",
            "[Epoch 470/500] Train Loss: 0.2265 | Val Acc: 11.11%\n",
            "[Epoch 471/500] Train Loss: 0.2218 | Val Acc: 11.60%\n",
            "[Epoch 472/500] Train Loss: 0.2218 | Val Acc: 11.11%\n",
            "[Epoch 473/500] Train Loss: 0.2263 | Val Acc: 11.36%\n",
            "[Epoch 474/500] Train Loss: 0.2246 | Val Acc: 11.36%\n",
            "[Epoch 475/500] Train Loss: 0.2214 | Val Acc: 10.99%\n",
            "[Epoch 476/500] Train Loss: 0.2232 | Val Acc: 11.60%\n",
            "[Epoch 477/500] Train Loss: 0.2237 | Val Acc: 11.48%\n",
            "[Epoch 478/500] Train Loss: 0.2209 | Val Acc: 11.60%\n",
            "[Epoch 479/500] Train Loss: 0.2255 | Val Acc: 10.74%\n",
            "[Epoch 480/500] Train Loss: 0.2252 | Val Acc: 10.62%\n",
            "[Epoch 481/500] Train Loss: 0.2252 | Val Acc: 11.11%\n",
            "[Epoch 482/500] Train Loss: 0.2233 | Val Acc: 10.87%\n",
            "[Epoch 483/500] Train Loss: 0.2259 | Val Acc: 11.23%\n",
            "[Epoch 484/500] Train Loss: 0.2220 | Val Acc: 10.99%\n",
            "[Epoch 485/500] Train Loss: 0.2262 | Val Acc: 11.60%\n",
            "[Epoch 486/500] Train Loss: 0.2246 | Val Acc: 10.74%\n",
            "[Epoch 487/500] Train Loss: 0.2224 | Val Acc: 11.23%\n",
            "[Epoch 488/500] Train Loss: 0.2240 | Val Acc: 10.99%\n",
            "[Epoch 489/500] Train Loss: 0.2218 | Val Acc: 10.87%\n",
            "[Epoch 490/500] Train Loss: 0.2182 | Val Acc: 10.99%\n",
            "[Epoch 491/500] Train Loss: 0.2264 | Val Acc: 11.23%\n",
            "[Epoch 492/500] Train Loss: 0.2239 | Val Acc: 11.36%\n",
            "[Epoch 493/500] Train Loss: 0.2223 | Val Acc: 11.36%\n",
            "[Epoch 494/500] Train Loss: 0.2242 | Val Acc: 10.87%\n",
            "[Epoch 495/500] Train Loss: 0.2218 | Val Acc: 10.50%\n",
            "[Epoch 496/500] Train Loss: 0.2238 | Val Acc: 11.23%\n",
            "[Epoch 497/500] Train Loss: 0.2246 | Val Acc: 11.11%\n",
            "[Epoch 498/500] Train Loss: 0.2208 | Val Acc: 10.99%\n",
            "[Epoch 499/500] Train Loss: 0.2211 | Val Acc: 11.23%\n",
            "[Epoch 500/500] Train Loss: 0.2214 | Val Acc: 11.23%\n"
          ]
        }
      ]
    },
    {
      "cell_type": "code",
      "source": [
        "import matplotlib.pyplot as plt\n",
        "\n",
        "plt.figure(figsize=(12, 4))\n",
        "plt.style.use('tableau-colorblind10')\n",
        "\n",
        "# Plot training & validation loss\n",
        "plt.subplot(1, 2, 1)\n",
        "plt.plot(history[\"train_loss\"], label=\"Training Loss\")\n",
        "plt.plot(history[\"val_loss\"], label=\"Validation Loss\")\n",
        "plt.xlabel(\"Epoch\")\n",
        "plt.ylabel(\"Loss\")\n",
        "plt.legend()\n",
        "\n",
        "# Plot training & validation accuracy\n",
        "plt.subplot(1, 2, 2)\n",
        "plt.plot([v * 100 for v in history[\"train_acc\"]], label=\"Training Accuracy\")\n",
        "plt.plot([v * 100 for v in history[\"val_acc\"]], label=\"Validation Accuracy\")\n",
        "plt.xlabel(\"Epoch\")\n",
        "plt.ylabel(\"Accuracy (%)\")\n",
        "plt.legend()\n",
        "\n",
        "plt.suptitle(\"Training Progress (Loss & Accuracy)\")\n",
        "plt.tight_layout()\n",
        "plt.show()"
      ],
      "metadata": {
        "id": "BzCmk5Zy_96e",
        "colab": {
          "base_uri": "https://localhost:8080/",
          "height": 300
        },
        "outputId": "949b043f-06a2-44b3-a23e-f9068f0c4930"
      },
      "id": "BzCmk5Zy_96e",
      "execution_count": 20,
      "outputs": [
        {
          "output_type": "display_data",
          "data": {
            "text/plain": [
              "<Figure size 1200x400 with 2 Axes>"
            ],
            "image/png": "[encoded data removed]"
          },
          "metadata": {}
        }
      ]
    },
    {
      "cell_type": "markdown",
      "source": [
        "#Evaluate on test data"
      ],
      "metadata": {
        "id": "xs-0xKrFvCnJ"
      },
      "id": "xs-0xKrFvCnJ"
    },
    {
      "cell_type": "code",
      "source": [
        "diffe.eval()\n",
        "\n",
        "# evaluate\n",
        "labels = np.arange(0, 26)  # necessary change: 26 classes\n",
        "Y = []\n",
        "Y_hat = []\n",
        "with torch.no_grad():\n",
        "    for x, y in test_loader:\n",
        "        x, y = x.to(device), y.type(torch.LongTensor).to(device)\n",
        "        encoder_out = diffe.encoder(x)\n",
        "        y_hat = diffe.fc(encoder_out[1])\n",
        "        y_hat = F.softmax(y_hat, dim=1)\n",
        "\n",
        "        Y.append(y.detach().cpu())\n",
        "        Y_hat.append(y_hat.detach().cpu())\n",
        "\n",
        "Y = torch.cat(Y, dim=0).numpy()  # (N, )\n",
        "Y_hat = torch.cat(Y_hat, dim=0).numpy()  # (N, 26)\n",
        "\n",
        "accuracy = top_k_accuracy_score(Y, Y_hat, k=1, labels=labels)\n",
        "print(f'Test accuracy: {accuracy:.2%}')"
      ],
      "metadata": {
        "id": "9Kaz_i-8VJfi",
        "colab": {
          "base_uri": "https://localhost:8080/"
        },
        "outputId": "4116063b-a261-43e2-9d89-bcb2cd2cb1a7"
      },
      "id": "9Kaz_i-8VJfi",
      "execution_count": 21,
      "outputs": [
        {
          "output_type": "stream",
          "name": "stdout",
          "text": [
            "Test accuracy: 11.97%\n"
          ]
        }
      ]
    }
  ],
  "metadata": {
    "colab": {
      "provenance": [],
      "gpuType": "T4"
    },
    "accelerator": "GPU",
    "language_info": {
      "name": "python"
    },
    "kernelspec": {
      "name": "python3",
      "display_name": "Python 3"
    },
    "widgets": {
      "application/vnd.jupyter.widget-state+json": {
        "5a0e2e65e57740e4bbb251311a766d82": {
          "model_module": "@jupyter-widgets/controls",
          "model_name": "HBoxModel",
          "model_module_version": "1.5.0",
          "state": {
            "_dom_classes": [],
            "_model_module": "@jupyter-widgets/controls",
            "_model_module_version": "1.5.0",
            "_model_name": "HBoxModel",
            "_view_count": null,
            "_view_module": "@jupyter-widgets/controls",
            "_view_module_version": "1.5.0",
            "_view_name": "HBoxView",
            "box_style": "",
            "children": [
              "IPY_MODEL_4ebab1e156e44c8bb7846910a1f72db7",
              "IPY_MODEL_ee10237165ad47c18ca341aa7657a605",
              "IPY_MODEL_9722c6e893d244889f62b61a1167d198"
            ],
            "layout": "IPY_MODEL_9c8641ccc5014dfb9e809a716d373e24"
          }
        },
        "4ebab1e156e44c8bb7846910a1f72db7": {
          "model_module": "@jupyter-widgets/controls",
          "model_name": "HTMLModel",
          "model_module_version": "1.5.0",
          "state": {
            "_dom_classes": [],
            "_model_module": "@jupyter-widgets/controls",
            "_model_module_version": "1.5.0",
            "_model_name": "HTMLModel",
            "_view_count": null,
            "_view_module": "@jupyter-widgets/controls",
            "_view_module_version": "1.5.0",
            "_view_name": "HTMLView",
            "description": "",
            "description_tooltip": null,
            "layout": "IPY_MODEL_25c3251fb3604cf78173778c9ef40700",
            "placeholder": "​",
            "style": "IPY_MODEL_f58eac912839488ead076366ff951081",
            "value": "Method ALL – Processing subject ALL – Val Accuracy: 11.23% | Best: 14.29%: 100%"
          }
        },
        "ee10237165ad47c18ca341aa7657a605": {
          "model_module": "@jupyter-widgets/controls",
          "model_name": "FloatProgressModel",
          "model_module_version": "1.5.0",
          "state": {
            "_dom_classes": [],
            "_model_module": "@jupyter-widgets/controls",
            "_model_module_version": "1.5.0",
            "_model_name": "FloatProgressModel",
            "_view_count": null,
            "_view_module": "@jupyter-widgets/controls",
            "_view_module_version": "1.5.0",
            "_view_name": "ProgressView",
            "bar_style": "success",
            "description": "",
            "description_tooltip": null,
            "layout": "IPY_MODEL_bfa6f43f525449b2b9eaefaf4964eba7",
            "max": 500,
            "min": 0,
            "orientation": "horizontal",
            "style": "IPY_MODEL_659c9b4b1c734b3b9d9411a645837530",
            "value": 500
          }
        },
        "9722c6e893d244889f62b61a1167d198": {
          "model_module": "@jupyter-widgets/controls",
          "model_name": "HTMLModel",
          "model_module_version": "1.5.0",
          "state": {
            "_dom_classes": [],
            "_model_module": "@jupyter-widgets/controls",
            "_model_module_version": "1.5.0",
            "_model_name": "HTMLModel",
            "_view_count": null,
            "_view_module": "@jupyter-widgets/controls",
            "_view_module_version": "1.5.0",
            "_view_name": "HTMLView",
            "description": "",
            "description_tooltip": null,
            "layout": "IPY_MODEL_4664eb6c3ffd4c919900698cb32b1c37",
            "placeholder": "​",
            "style": "IPY_MODEL_a0ec61f3051c4d8b811ee1d05e0ba82b",
            "value": " 500/500 [25:43&lt;00:00,  3.14s/it]"
          }
        },
        "9c8641ccc5014dfb9e809a716d373e24": {
          "model_module": "@jupyter-widgets/base",
          "model_name": "LayoutModel",
          "model_module_version": "1.2.0",
          "state": {
            "_model_module": "@jupyter-widgets/base",
            "_model_module_version": "1.2.0",
            "_model_name": "LayoutModel",
            "_view_count": null,
            "_view_module": "@jupyter-widgets/base",
            "_view_module_version": "1.2.0",
            "_view_name": "LayoutView",
            "align_content": null,
            "align_items": null,
            "align_self": null,
            "border": null,
            "bottom": null,
            "display": null,
            "flex": null,
            "flex_flow": null,
            "grid_area": null,
            "grid_auto_columns": null,
            "grid_auto_flow": null,
            "grid_auto_rows": null,
            "grid_column": null,
            "grid_gap": null,
            "grid_row": null,
            "grid_template_areas": null,
            "grid_template_columns": null,
            "grid_template_rows": null,
            "height": null,
            "justify_content": null,
            "justify_items": null,
            "left": null,
            "margin": null,
            "max_height": null,
            "max_width": null,
            "min_height": null,
            "min_width": null,
            "object_fit": null,
            "object_position": null,
            "order": null,
            "overflow": null,
            "overflow_x": null,
            "overflow_y": null,
            "padding": null,
            "right": null,
            "top": null,
            "visibility": null,
            "width": null
          }
        },
        "25c3251fb3604cf78173778c9ef40700": {
          "model_module": "@jupyter-widgets/base",
          "model_name": "LayoutModel",
          "model_module_version": "1.2.0",
          "state": {
            "_model_module": "@jupyter-widgets/base",
            "_model_module_version": "1.2.0",
            "_model_name": "LayoutModel",
            "_view_count": null,
            "_view_module": "@jupyter-widgets/base",
            "_view_module_version": "1.2.0",
            "_view_name": "LayoutView",
            "align_content": null,
            "align_items": null,
            "align_self": null,
            "border": null,
            "bottom": null,
            "display": null,
            "flex": null,
            "flex_flow": null,
            "grid_area": null,
            "grid_auto_columns": null,
            "grid_auto_flow": null,
            "grid_auto_rows": null,
            "grid_column": null,
            "grid_gap": null,
            "grid_row": null,
            "grid_template_areas": null,
            "grid_template_columns": null,
            "grid_template_rows": null,
            "height": null,
            "justify_content": null,
            "justify_items": null,
            "left": null,
            "margin": null,
            "max_height": null,
            "max_width": null,
            "min_height": null,
            "min_width": null,
            "object_fit": null,
            "object_position": null,
            "order": null,
            "overflow": null,
            "overflow_x": null,
            "overflow_y": null,
            "padding": null,
            "right": null,
            "top": null,
            "visibility": null,
            "width": null
          }
        },
        "f58eac912839488ead076366ff951081": {
          "model_module": "@jupyter-widgets/controls",
          "model_name": "DescriptionStyleModel",
          "model_module_version": "1.5.0",
          "state": {
            "_model_module": "@jupyter-widgets/controls",
            "_model_module_version": "1.5.0",
            "_model_name": "DescriptionStyleModel",
            "_view_count": null,
            "_view_module": "@jupyter-widgets/base",
            "_view_module_version": "1.2.0",
            "_view_name": "StyleView",
            "description_width": ""
          }
        },
        "bfa6f43f525449b2b9eaefaf4964eba7": {
          "model_module": "@jupyter-widgets/base",
          "model_name": "LayoutModel",
          "model_module_version": "1.2.0",
          "state": {
            "_model_module": "@jupyter-widgets/base",
            "_model_module_version": "1.2.0",
            "_model_name": "LayoutModel",
            "_view_count": null,
            "_view_module": "@jupyter-widgets/base",
            "_view_module_version": "1.2.0",
            "_view_name": "LayoutView",
            "align_content": null,
            "align_items": null,
            "align_self": null,
            "border": null,
            "bottom": null,
            "display": null,
            "flex": null,
            "flex_flow": null,
            "grid_area": null,
            "grid_auto_columns": null,
            "grid_auto_flow": null,
            "grid_auto_rows": null,
            "grid_column": null,
            "grid_gap": null,
            "grid_row": null,
            "grid_template_areas": null,
            "grid_template_columns": null,
            "grid_template_rows": null,
            "height": null,
            "justify_content": null,
            "justify_items": null,
            "left": null,
            "margin": null,
            "max_height": null,
            "max_width": null,
            "min_height": null,
            "min_width": null,
            "object_fit": null,
            "object_position": null,
            "order": null,
            "overflow": null,
            "overflow_x": null,
            "overflow_y": null,
            "padding": null,
            "right": null,
            "top": null,
            "visibility": null,
            "width": null
          }
        },
        "659c9b4b1c734b3b9d9411a645837530": {
          "model_module": "@jupyter-widgets/controls",
          "model_name": "ProgressStyleModel",
          "model_module_version": "1.5.0",
          "state": {
            "_model_module": "@jupyter-widgets/controls",
            "_model_module_version": "1.5.0",
            "_model_name": "ProgressStyleModel",
            "_view_count": null,
            "_view_module": "@jupyter-widgets/base",
            "_view_module_version": "1.2.0",
            "_view_name": "StyleView",
            "bar_color": null,
            "description_width": ""
          }
        },
        "4664eb6c3ffd4c919900698cb32b1c37": {
          "model_module": "@jupyter-widgets/base",
          "model_name": "LayoutModel",
          "model_module_version": "1.2.0",
          "state": {
            "_model_module": "@jupyter-widgets/base",
            "_model_module_version": "1.2.0",
            "_model_name": "LayoutModel",
            "_view_count": null,
            "_view_module": "@jupyter-widgets/base",
            "_view_module_version": "1.2.0",
            "_view_name": "LayoutView",
            "align_content": null,
            "align_items": null,
            "align_self": null,
            "border": null,
            "bottom": null,
            "display": null,
            "flex": null,
            "flex_flow": null,
            "grid_area": null,
            "grid_auto_columns": null,
            "grid_auto_flow": null,
            "grid_auto_rows": null,
            "grid_column": null,
            "grid_gap": null,
            "grid_row": null,
            "grid_template_areas": null,
            "grid_template_columns": null,
            "grid_template_rows": null,
            "height": null,
            "justify_content": null,
            "justify_items": null,
            "left": null,
            "margin": null,
            "max_height": null,
            "max_width": null,
            "min_height": null,
            "min_width": null,
            "object_fit": null,
            "object_position": null,
            "order": null,
            "overflow": null,
            "overflow_x": null,
            "overflow_y": null,
            "padding": null,
            "right": null,
            "top": null,
            "visibility": null,
            "width": null
          }
        },
        "a0ec61f3051c4d8b811ee1d05e0ba82b": {
          "model_module": "@jupyter-widgets/controls",
          "model_name": "DescriptionStyleModel",
          "model_module_version": "1.5.0",
          "state": {
            "_model_module": "@jupyter-widgets/controls",
            "_model_module_version": "1.5.0",
            "_model_name": "DescriptionStyleModel",
            "_view_count": null,
            "_view_module": "@jupyter-widgets/base",
            "_view_module_version": "1.2.0",
            "_view_name": "StyleView",
            "description_width": ""
          }
        }
      }
    }
  },
  "nbformat": 4,
  "nbformat_minor": 5
}