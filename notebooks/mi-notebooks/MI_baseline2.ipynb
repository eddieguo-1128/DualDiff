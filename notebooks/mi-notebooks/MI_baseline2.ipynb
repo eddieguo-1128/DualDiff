{
  "cells": [
    {
      "cell_type": "markdown",
      "id": "0017f312",
      "metadata": {
        "id": "0017f312"
      },
      "source": [
        "# MI Classification with DiffE"
      ]
    },
    {
      "cell_type": "code",
      "source": [
        "!pip install ema-pytorch\n",
        "!pip install pytorch_metric_learning\n",
        "!pip install mne #1.9.0\n",
        "!pip install torchinfo"
      ],
      "metadata": {
        "id": "WnZeypG6gsYU",
        "colab": {
          "base_uri": "https://localhost:8080/"
        },
        "outputId": "784f35d9-b2ee-449e-81ef-fe6fe3e2ac2f"
      },
      "id": "WnZeypG6gsYU",
      "execution_count": null,
      "outputs": [
        {
          "output_type": "stream",
          "name": "stdout",
          "text": [
            "Requirement already satisfied: ema-pytorch in /usr/local/lib/python3.11/dist-packages (0.7.7)\n",
            "Requirement already satisfied: torch>=2.0 in /usr/local/lib/python3.11/dist-packages (from ema-pytorch) (2.6.0+cu124)\n",
            "Requirement already satisfied: filelock in /usr/local/lib/python3.11/dist-packages (from torch>=2.0->ema-pytorch) (3.18.0)\n",
            "Requirement already satisfied: typing-extensions>=4.10.0 in /usr/local/lib/python3.11/dist-packages (from torch>=2.0->ema-pytorch) (4.13.2)\n",
            "Requirement already satisfied: networkx in /usr/local/lib/python3.11/dist-packages (from torch>=2.0->ema-pytorch) (3.4.2)\n",
            "Requirement already satisfied: jinja2 in /usr/local/lib/python3.11/dist-packages (from torch>=2.0->ema-pytorch) (3.1.6)\n",
            "Requirement already satisfied: fsspec in /usr/local/lib/python3.11/dist-packages (from torch>=2.0->ema-pytorch) (2025.3.2)\n",
            "Requirement already satisfied: nvidia-cuda-nvrtc-cu12==12.4.127 in /usr/local/lib/python3.11/dist-packages (from torch>=2.0->ema-pytorch) (12.4.127)\n",
            "Requirement already satisfied: nvidia-cuda-runtime-cu12==12.4.127 in /usr/local/lib/python3.11/dist-packages (from torch>=2.0->ema-pytorch) (12.4.127)\n",
            "Requirement already satisfied: nvidia-cuda-cupti-cu12==12.4.127 in /usr/local/lib/python3.11/dist-packages (from torch>=2.0->ema-pytorch) (12.4.127)\n",
            "Requirement already satisfied: nvidia-cudnn-cu12==9.1.0.70 in /usr/local/lib/python3.11/dist-packages (from torch>=2.0->ema-pytorch) (9.1.0.70)\n",
            "Requirement already satisfied: nvidia-cublas-cu12==12.4.5.8 in /usr/local/lib/python3.11/dist-packages (from torch>=2.0->ema-pytorch) (12.4.5.8)\n",
            "Requirement already satisfied: nvidia-cufft-cu12==11.2.1.3 in /usr/local/lib/python3.11/dist-packages (from torch>=2.0->ema-pytorch) (11.2.1.3)\n",
            "Requirement already satisfied: nvidia-curand-cu12==10.3.5.147 in /usr/local/lib/python3.11/dist-packages (from torch>=2.0->ema-pytorch) (10.3.5.147)\n",
            "Requirement already satisfied: nvidia-cusolver-cu12==11.6.1.9 in /usr/local/lib/python3.11/dist-packages (from torch>=2.0->ema-pytorch) (11.6.1.9)\n",
            "Requirement already satisfied: nvidia-cusparse-cu12==12.3.1.170 in /usr/local/lib/python3.11/dist-packages (from torch>=2.0->ema-pytorch) (12.3.1.170)\n",
            "Requirement already satisfied: nvidia-cusparselt-cu12==0.6.2 in /usr/local/lib/python3.11/dist-packages (from torch>=2.0->ema-pytorch) (0.6.2)\n",
            "Requirement already satisfied: nvidia-nccl-cu12==2.21.5 in /usr/local/lib/python3.11/dist-packages (from torch>=2.0->ema-pytorch) (2.21.5)\n",
            "Requirement already satisfied: nvidia-nvtx-cu12==12.4.127 in /usr/local/lib/python3.11/dist-packages (from torch>=2.0->ema-pytorch) (12.4.127)\n",
            "Requirement already satisfied: nvidia-nvjitlink-cu12==12.4.127 in /usr/local/lib/python3.11/dist-packages (from torch>=2.0->ema-pytorch) (12.4.127)\n",
            "Requirement already satisfied: triton==3.2.0 in /usr/local/lib/python3.11/dist-packages (from torch>=2.0->ema-pytorch) (3.2.0)\n",
            "Requirement already satisfied: sympy==1.13.1 in /usr/local/lib/python3.11/dist-packages (from torch>=2.0->ema-pytorch) (1.13.1)\n",
            "Requirement already satisfied: mpmath<1.4,>=1.1.0 in /usr/local/lib/python3.11/dist-packages (from sympy==1.13.1->torch>=2.0->ema-pytorch) (1.3.0)\n",
            "Requirement already satisfied: MarkupSafe>=2.0 in /usr/local/lib/python3.11/dist-packages (from jinja2->torch>=2.0->ema-pytorch) (3.0.2)\n",
            "Requirement already satisfied: pytorch_metric_learning in /usr/local/lib/python3.11/dist-packages (2.8.1)\n",
            "Requirement already satisfied: numpy in /usr/local/lib/python3.11/dist-packages (from pytorch_metric_learning) (1.24.4)\n",
            "Requirement already satisfied: scikit-learn in /usr/local/lib/python3.11/dist-packages (from pytorch_metric_learning) (1.6.1)\n",
            "Requirement already satisfied: torch>=1.6.0 in /usr/local/lib/python3.11/dist-packages (from pytorch_metric_learning) (2.6.0+cu124)\n",
            "Requirement already satisfied: tqdm in /usr/local/lib/python3.11/dist-packages (from pytorch_metric_learning) (4.67.1)\n",
            "Requirement already satisfied: filelock in /usr/local/lib/python3.11/dist-packages (from torch>=1.6.0->pytorch_metric_learning) (3.18.0)\n",
            "Requirement already satisfied: typing-extensions>=4.10.0 in /usr/local/lib/python3.11/dist-packages (from torch>=1.6.0->pytorch_metric_learning) (4.13.2)\n",
            "Requirement already satisfied: networkx in /usr/local/lib/python3.11/dist-packages (from torch>=1.6.0->pytorch_metric_learning) (3.4.2)\n",
            "Requirement already satisfied: jinja2 in /usr/local/lib/python3.11/dist-packages (from torch>=1.6.0->pytorch_metric_learning) (3.1.6)\n",
            "Requirement already satisfied: fsspec in /usr/local/lib/python3.11/dist-packages (from torch>=1.6.0->pytorch_metric_learning) (2025.3.2)\n",
            "Requirement already satisfied: nvidia-cuda-nvrtc-cu12==12.4.127 in /usr/local/lib/python3.11/dist-packages (from torch>=1.6.0->pytorch_metric_learning) (12.4.127)\n",
            "Requirement already satisfied: nvidia-cuda-runtime-cu12==12.4.127 in /usr/local/lib/python3.11/dist-packages (from torch>=1.6.0->pytorch_metric_learning) (12.4.127)\n",
            "Requirement already satisfied: nvidia-cuda-cupti-cu12==12.4.127 in /usr/local/lib/python3.11/dist-packages (from torch>=1.6.0->pytorch_metric_learning) (12.4.127)\n",
            "Requirement already satisfied: nvidia-cudnn-cu12==9.1.0.70 in /usr/local/lib/python3.11/dist-packages (from torch>=1.6.0->pytorch_metric_learning) (9.1.0.70)\n",
            "Requirement already satisfied: nvidia-cublas-cu12==12.4.5.8 in /usr/local/lib/python3.11/dist-packages (from torch>=1.6.0->pytorch_metric_learning) (12.4.5.8)\n",
            "Requirement already satisfied: nvidia-cufft-cu12==11.2.1.3 in /usr/local/lib/python3.11/dist-packages (from torch>=1.6.0->pytorch_metric_learning) (11.2.1.3)\n",
            "Requirement already satisfied: nvidia-curand-cu12==10.3.5.147 in /usr/local/lib/python3.11/dist-packages (from torch>=1.6.0->pytorch_metric_learning) (10.3.5.147)\n",
            "Requirement already satisfied: nvidia-cusolver-cu12==11.6.1.9 in /usr/local/lib/python3.11/dist-packages (from torch>=1.6.0->pytorch_metric_learning) (11.6.1.9)\n",
            "Requirement already satisfied: nvidia-cusparse-cu12==12.3.1.170 in /usr/local/lib/python3.11/dist-packages (from torch>=1.6.0->pytorch_metric_learning) (12.3.1.170)\n",
            "Requirement already satisfied: nvidia-cusparselt-cu12==0.6.2 in /usr/local/lib/python3.11/dist-packages (from torch>=1.6.0->pytorch_metric_learning) (0.6.2)\n",
            "Requirement already satisfied: nvidia-nccl-cu12==2.21.5 in /usr/local/lib/python3.11/dist-packages (from torch>=1.6.0->pytorch_metric_learning) (2.21.5)\n",
            "Requirement already satisfied: nvidia-nvtx-cu12==12.4.127 in /usr/local/lib/python3.11/dist-packages (from torch>=1.6.0->pytorch_metric_learning) (12.4.127)\n",
            "Requirement already satisfied: nvidia-nvjitlink-cu12==12.4.127 in /usr/local/lib/python3.11/dist-packages (from torch>=1.6.0->pytorch_metric_learning) (12.4.127)\n",
            "Requirement already satisfied: triton==3.2.0 in /usr/local/lib/python3.11/dist-packages (from torch>=1.6.0->pytorch_metric_learning) (3.2.0)\n",
            "Requirement already satisfied: sympy==1.13.1 in /usr/local/lib/python3.11/dist-packages (from torch>=1.6.0->pytorch_metric_learning) (1.13.1)\n",
            "Requirement already satisfied: mpmath<1.4,>=1.1.0 in /usr/local/lib/python3.11/dist-packages (from sympy==1.13.1->torch>=1.6.0->pytorch_metric_learning) (1.3.0)\n",
            "Requirement already satisfied: scipy>=1.6.0 in /usr/local/lib/python3.11/dist-packages (from scikit-learn->pytorch_metric_learning) (1.15.3)\n",
            "Requirement already satisfied: joblib>=1.2.0 in /usr/local/lib/python3.11/dist-packages (from scikit-learn->pytorch_metric_learning) (1.5.0)\n",
            "Requirement already satisfied: threadpoolctl>=3.1.0 in /usr/local/lib/python3.11/dist-packages (from scikit-learn->pytorch_metric_learning) (3.6.0)\n",
            "Requirement already satisfied: MarkupSafe>=2.0 in /usr/local/lib/python3.11/dist-packages (from jinja2->torch>=1.6.0->pytorch_metric_learning) (3.0.2)\n",
            "Requirement already satisfied: mne in /usr/local/lib/python3.11/dist-packages (1.9.0)\n",
            "Requirement already satisfied: decorator in /usr/local/lib/python3.11/dist-packages (from mne) (4.4.2)\n",
            "Requirement already satisfied: jinja2 in /usr/local/lib/python3.11/dist-packages (from mne) (3.1.6)\n",
            "Requirement already satisfied: lazy-loader>=0.3 in /usr/local/lib/python3.11/dist-packages (from mne) (0.4)\n",
            "Requirement already satisfied: matplotlib>=3.6 in /usr/local/lib/python3.11/dist-packages (from mne) (3.10.0)\n",
            "Requirement already satisfied: numpy<3,>=1.23 in /usr/local/lib/python3.11/dist-packages (from mne) (1.24.4)\n",
            "Requirement already satisfied: packaging in /usr/local/lib/python3.11/dist-packages (from mne) (24.2)\n",
            "Requirement already satisfied: pooch>=1.5 in /usr/local/lib/python3.11/dist-packages (from mne) (1.8.2)\n",
            "Requirement already satisfied: scipy>=1.9 in /usr/local/lib/python3.11/dist-packages (from mne) (1.15.3)\n",
            "Requirement already satisfied: tqdm in /usr/local/lib/python3.11/dist-packages (from mne) (4.67.1)\n",
            "Requirement already satisfied: contourpy>=1.0.1 in /usr/local/lib/python3.11/dist-packages (from matplotlib>=3.6->mne) (1.3.2)\n",
            "Requirement already satisfied: cycler>=0.10 in /usr/local/lib/python3.11/dist-packages (from matplotlib>=3.6->mne) (0.12.1)\n",
            "Requirement already satisfied: fonttools>=4.22.0 in /usr/local/lib/python3.11/dist-packages (from matplotlib>=3.6->mne) (4.58.0)\n",
            "Requirement already satisfied: kiwisolver>=1.3.1 in /usr/local/lib/python3.11/dist-packages (from matplotlib>=3.6->mne) (1.4.8)\n",
            "Requirement already satisfied: pillow>=8 in /usr/local/lib/python3.11/dist-packages (from matplotlib>=3.6->mne) (11.2.1)\n",
            "Requirement already satisfied: pyparsing>=2.3.1 in /usr/local/lib/python3.11/dist-packages (from matplotlib>=3.6->mne) (3.2.3)\n",
            "Requirement already satisfied: python-dateutil>=2.7 in /usr/local/lib/python3.11/dist-packages (from matplotlib>=3.6->mne) (2.9.0.post0)\n",
            "Requirement already satisfied: platformdirs>=2.5.0 in /usr/local/lib/python3.11/dist-packages (from pooch>=1.5->mne) (4.3.8)\n",
            "Requirement already satisfied: requests>=2.19.0 in /usr/local/lib/python3.11/dist-packages (from pooch>=1.5->mne) (2.32.3)\n",
            "Requirement already satisfied: MarkupSafe>=2.0 in /usr/local/lib/python3.11/dist-packages (from jinja2->mne) (3.0.2)\n",
            "Requirement already satisfied: six>=1.5 in /usr/local/lib/python3.11/dist-packages (from python-dateutil>=2.7->matplotlib>=3.6->mne) (1.17.0)\n",
            "Requirement already satisfied: charset-normalizer<4,>=2 in /usr/local/lib/python3.11/dist-packages (from requests>=2.19.0->pooch>=1.5->mne) (3.4.2)\n",
            "Requirement already satisfied: idna<4,>=2.5 in /usr/local/lib/python3.11/dist-packages (from requests>=2.19.0->pooch>=1.5->mne) (3.10)\n",
            "Requirement already satisfied: urllib3<3,>=1.21.1 in /usr/local/lib/python3.11/dist-packages (from requests>=2.19.0->pooch>=1.5->mne) (2.4.0)\n",
            "Requirement already satisfied: certifi>=2017.4.17 in /usr/local/lib/python3.11/dist-packages (from requests>=2.19.0->pooch>=1.5->mne) (2025.4.26)\n",
            "Requirement already satisfied: torchinfo in /usr/local/lib/python3.11/dist-packages (1.8.0)\n"
          ]
        }
      ]
    },
    {
      "cell_type": "code",
      "source": [
        "import os\n",
        "import sys\n",
        "\n",
        "!git clone https://github.com/diffe2023/Diff-E.git\n",
        "sys.path.append('/content/Diff-E')\n",
        "\n",
        "# !git clone https://github.com/vlawhern/arl-eegmodels.git\n",
        "# sys.path.append('/content/arl-eegmodels')\n",
        "\n",
        "# !ls /content/arl-eegmodels\n"
      ],
      "metadata": {
        "colab": {
          "base_uri": "https://localhost:8080/"
        },
        "id": "41GLSVC-7cbr",
        "outputId": "72e76e14-0e35-4ce3-8089-154a081cb39b"
      },
      "id": "41GLSVC-7cbr",
      "execution_count": null,
      "outputs": [
        {
          "output_type": "stream",
          "name": "stdout",
          "text": [
            "fatal: destination path 'Diff-E' already exists and is not an empty directory.\n"
          ]
        }
      ]
    },
    {
      "cell_type": "code",
      "source": [
        "import math\n",
        "from einops import reduce\n",
        "from functools import partial\n",
        "import random\n",
        "import argparse\n",
        "import numpy as np\n",
        "import torch\n",
        "import torch.nn as nn\n",
        "import torch.optim as optim\n",
        "import torch.nn.functional as F\n",
        "from torch.utils.data import Dataset, DataLoader\n",
        "from ema_pytorch import EMA\n",
        "from tqdm.notebook import tqdm\n",
        "from sklearn.model_selection import train_test_split\n",
        "from sklearn.metrics import (\n",
        "    f1_score,\n",
        "    roc_auc_score,\n",
        "    precision_score,\n",
        "    recall_score,\n",
        "    top_k_accuracy_score,\n",
        ")\n",
        "\n",
        "# from EEGModels import EEGNet"
      ],
      "metadata": {
        "id": "4MhV2qw9hu-m"
      },
      "id": "4MhV2qw9hu-m",
      "execution_count": null,
      "outputs": []
    },
    {
      "cell_type": "code",
      "source": [
        "import mne\n",
        "# import copy\n",
        "import gdown\n",
        "import scipy.io\n",
        "# import string\n",
        "# import re\n",
        "# import json\n",
        "# import gc\n",
        "# import pandas as pd\n",
        "# import pandas as pd\n",
        "# import seaborn as sn\n",
        "\n",
        "# from torchsummary import summary\n",
        "# from torch.autograd import Variable\n",
        "# from torch.utils.data import DataLoader, TensorDataset, random_split\n",
        "\n",
        "# from sklearn.feature_selection import mutual_info_classif\n",
        "# from sklearn.metrics import confusion_matrix, accuracy_score"
      ],
      "metadata": {
        "id": "2DlZztLn_YKy"
      },
      "id": "2DlZztLn_YKy",
      "execution_count": null,
      "outputs": []
    },
    {
      "cell_type": "code",
      "source": [
        "!pip install --upgrade numpy==1.24.4"
      ],
      "metadata": {
        "colab": {
          "base_uri": "https://localhost:8080/"
        },
        "id": "qLjHeAmJU1iW",
        "outputId": "493c9551-23f6-46b8-9705-08ad3ff65100"
      },
      "id": "qLjHeAmJU1iW",
      "execution_count": null,
      "outputs": [
        {
          "output_type": "stream",
          "name": "stdout",
          "text": [
            "Requirement already satisfied: numpy==1.24.4 in /usr/local/lib/python3.11/dist-packages (1.24.4)\n"
          ]
        }
      ]
    },
    {
      "cell_type": "code",
      "source": [
        "# Uncomment this if you want to use Google Drive\n",
        "from google.colab import drive\n",
        "drive.mount('/content/drive')"
      ],
      "metadata": {
        "id": "WjdWMaswQjkV",
        "colab": {
          "base_uri": "https://localhost:8080/"
        },
        "outputId": "e36239cc-bd37-4344-8f1b-089d48a1d087"
      },
      "id": "WjdWMaswQjkV",
      "execution_count": null,
      "outputs": [
        {
          "output_type": "stream",
          "name": "stdout",
          "text": [
            "Drive already mounted at /content/drive; to attempt to forcibly remount, call drive.mount(\"/content/drive\", force_remount=True).\n"
          ]
        }
      ]
    },
    {
      "cell_type": "code",
      "source": [
        "!mkdir -p /content/drive/MyDrive/project/dataset/MI/cleaned_data/\n",
        "!mkdir -p /content/drive/MyDrive/project/dataset/MI/cleaned_data/first_session\n",
        "!mkdir -p /content/drive/MyDrive/project/dataset/MI/cleaned_data/second_session"
      ],
      "metadata": {
        "id": "buzsDIJuG6_l"
      },
      "id": "buzsDIJuG6_l",
      "execution_count": null,
      "outputs": []
    },
    {
      "cell_type": "markdown",
      "source": [
        "#load and preprocess data\n"
      ],
      "metadata": {
        "id": "Do2JYBiZZp1z"
      },
      "id": "Do2JYBiZZp1z"
    },
    {
      "cell_type": "code",
      "source": [
        "raw = mne.io.read_raw_gdf('/content/drive/MyDrive/project/dataset/MI/raw_data/A01T.gdf', preload=False)\n",
        "print(\"All unique event labels:\")\n",
        "print(np.unique(raw.annotations.description))\n"
      ],
      "metadata": {
        "colab": {
          "base_uri": "https://localhost:8080/"
        },
        "id": "yM7avqB_LTDI",
        "outputId": "362a1340-277c-449e-fbaf-246208764571"
      },
      "execution_count": null,
      "outputs": [
        {
          "output_type": "stream",
          "name": "stdout",
          "text": [
            "Extracting EDF parameters from /content/drive/MyDrive/project/dataset/MI/raw_data/A01T.gdf...\n",
            "GDF file detected\n",
            "Setting channel info structure...\n",
            "Could not determine channel type of the following channels, they will be set as EEG:\n",
            "EEG-Fz, EEG, EEG, EEG, EEG, EEG, EEG, EEG-C3, EEG, EEG-Cz, EEG, EEG-C4, EEG, EEG, EEG, EEG, EEG, EEG, EEG, EEG-Pz, EEG, EEG, EOG-left, EOG-central, EOG-right\n",
            "Creating raw.info structure...\n"
          ]
        },
        {
          "output_type": "stream",
          "name": "stderr",
          "text": [
            "/usr/lib/python3.11/contextlib.py:144: RuntimeWarning: Channel names are not unique, found duplicates for: {'EEG'}. Applying running numbers for duplicates.\n",
            "  next(self.gen)\n"
          ]
        },
        {
          "output_type": "stream",
          "name": "stdout",
          "text": [
            "All unique event labels:\n",
            "['1023' '1072' '276' '277' '32766' '768' '769' '770' '771' '772']\n"
          ]
        }
      ],
      "id": "yM7avqB_LTDI"
    },
    {
      "cell_type": "code",
      "source": [
        "descs = raw.annotations.description\n",
        "# Take the first 300 annotations and print the count of each type\n",
        "from collections import Counter\n",
        "print(\"[DEBUG] Distribution of annotation types in the first 300 entries:\", Counter(descs[:300]))\n",
        "\n",
        "# Display the contents of annotations 289–300 (to check for non-cue types)\n",
        "print(\"[DEBUG] Annotations 289–300:\", list(descs[288:300]))"
      ],
      "metadata": {
        "colab": {
          "base_uri": "https://localhost:8080/"
        },
        "id": "kzjAifa83fyY",
        "outputId": "c0dd5461-3a24-4d16-dd8c-28b5947a953a"
      },
      "id": "kzjAifa83fyY",
      "execution_count": null,
      "outputs": [
        {
          "output_type": "stream",
          "name": "stdout",
          "text": [
            "[DEBUG] Distribution of annotation types in the first 300 entries: Counter({'768': 141, '772': 36, '771': 36, '770': 35, '769': 34, '1023': 9, '32766': 6, '276': 1, '277': 1, '1072': 1})\n",
            "[DEBUG] Annotations 289–300: ['768', '769', '768', '772', '768', '771', '768', '771', '768', '771', '768', '771']\n"
          ]
        }
      ]
    },
    {
      "cell_type": "code",
      "source": [
        "raw2 = mne.io.read_raw_gdf('/content/drive/MyDrive/project/dataset/MI/raw_data/A01E.gdf', preload=False)\n",
        "print(\"All unique event labels:\")\n",
        "print(np.unique(raw2.annotations.description))"
      ],
      "metadata": {
        "colab": {
          "base_uri": "https://localhost:8080/"
        },
        "id": "SFGu2AxX4D2a",
        "outputId": "2253949b-761a-4295-cfc0-732d32187bb1"
      },
      "id": "SFGu2AxX4D2a",
      "execution_count": null,
      "outputs": [
        {
          "output_type": "stream",
          "name": "stdout",
          "text": [
            "Extracting EDF parameters from /content/drive/MyDrive/project/dataset/MI/raw_data/A01E.gdf...\n",
            "GDF file detected\n",
            "Setting channel info structure...\n",
            "Could not determine channel type of the following channels, they will be set as EEG:\n",
            "EEG-Fz, EEG, EEG, EEG, EEG, EEG, EEG, EEG-C3, EEG, EEG-Cz, EEG, EEG-C4, EEG, EEG, EEG, EEG, EEG, EEG, EEG, EEG-Pz, EEG, EEG, EOG-left, EOG-central, EOG-right\n",
            "Creating raw.info structure...\n",
            "All unique event labels:\n",
            "['1023' '1072' '276' '277' '32766' '768' '783']\n"
          ]
        },
        {
          "output_type": "stream",
          "name": "stderr",
          "text": [
            "/usr/lib/python3.11/contextlib.py:144: RuntimeWarning: Channel names are not unique, found duplicates for: {'EEG'}. Applying running numbers for duplicates.\n",
            "  next(self.gen)\n"
          ]
        }
      ]
    },
    {
      "cell_type": "code",
      "source": [
        "descs2 = raw2.annotations.description\n",
        "# Take the first 300 annotations and print the count of each type\n",
        "from collections import Counter\n",
        "print(\"[DEBUG] Distribution of annotation types in the first 300 entries:\", Counter(descs2[:300]))\n",
        "\n",
        "# Display the contents of annotations 289–300 (to check for non-cue types)\n",
        "print(\"[DEBUG] Annotations 289–300:\", list(descs2[288:300]))"
      ],
      "metadata": {
        "colab": {
          "base_uri": "https://localhost:8080/"
        },
        "id": "WM88GuQz4IuX",
        "outputId": "9bf3e344-1243-4714-dc52-0863e1d01492"
      },
      "id": "WM88GuQz4IuX",
      "execution_count": null,
      "outputs": [
        {
          "output_type": "stream",
          "name": "stdout",
          "text": [
            "[DEBUG] Distribution of annotation types in the first 300 entries: Counter({'768': 143, '783': 142, '32766': 6, '1023': 6, '276': 1, '277': 1, '1072': 1})\n",
            "[DEBUG] Annotations 289–300: ['783', '768', '783', '768', '783', '768', '783', '768', '783', '768', '783', '768']\n"
          ]
        }
      ]
    },
    {
      "cell_type": "code",
      "source": [
        "# raw_data_folder = '/content/drive/MyDrive/project/dataset/MI/raw_data/'\n",
        "# cleaned_data_folder = '/content/drive/MyDrive/project/dataset/MI/cleaned_data/first_session/'\n",
        "# files = os.listdir(raw_data_folder)\n",
        "\n",
        "# # Selecting files with suffix 'T.gdf'\n",
        "# filtered_files = [file for file in files if file.endswith('T.gdf')]\n",
        "\n",
        "# raw_list = []\n",
        "\n",
        "# # Iterating through filtered files\n",
        "# for file in filtered_files:\n",
        "#     file_path = os.path.join(raw_data_folder, file)\n",
        "\n",
        "#     # Reading raw data\n",
        "#     raw = mne.io.read_raw_gdf(file_path, eog=['EOG-left', 'EOG-central', 'EOG-right'], preload=True)\n",
        "\n",
        "#     # Droping EOG channels\n",
        "#     raw.drop_channels(['EOG-left', 'EOG-central', 'EOG-right'])\n",
        "\n",
        "#     # High Pass Filtering 4-40 Hz\n",
        "#     raw.filter(l_freq=4, h_freq=40, method='iir')\n",
        "\n",
        "#     # Notch filter for Removal of Line Voltage\n",
        "#     raw.notch_filter(freqs=50)\n",
        "\n",
        "#     # Saving the modified raw data to a file with .fif suffix\n",
        "#     new_file_path = os.path.join(cleaned_data_folder, file[:-4] + '.fif')\n",
        "#     raw.save(new_file_path, overwrite=True)\n",
        "#     # Appending data to the list\n",
        "#     raw_list.append(raw)\n",
        "\n",
        "# final_raw = mne.concatenate_raws(raw_list)\n",
        "# new_file_path = os.path.join(cleaned_data_folder, 'First_Session_Subjects.fif')\n",
        "# final_raw.save(new_file_path, overwrite=True)"
      ],
      "metadata": {
        "id": "Y1yGVBVS_Hom"
      },
      "id": "Y1yGVBVS_Hom",
      "execution_count": null,
      "outputs": []
    },
    {
      "cell_type": "markdown",
      "source": [
        "FIRST SESSIONS"
      ],
      "metadata": {
        "id": "sr3W0STVCRTQ"
      },
      "id": "sr3W0STVCRTQ"
    },
    {
      "cell_type": "code",
      "source": [
        "# # Replace this with your actual shareable link\n",
        "# shareable_link = 'https://drive.google.com/file/d/11Ke2Xta1kv2xu2Mybuu_X51zJYjQ-VFo/view?usp=drive_link'\n",
        "\n",
        "# # Extract file ID from the shareable link\n",
        "# file_id = shareable_link.split('/d/')[1].split('/view')[0]\n",
        "\n",
        "# # Create the direct download link\n",
        "# download_url = f'https://drive.google.com/uc?id={file_id}&export=download'\n",
        "\n",
        "# # Specify the output file path\n",
        "# output_file = 'true_labels.zip'\n",
        "\n",
        "# # Download the file\n",
        "# gdown.download(download_url, output_file, quiet=False)"
      ],
      "metadata": {
        "id": "lDGtvQXWipGG"
      },
      "id": "lDGtvQXWipGG",
      "execution_count": null,
      "outputs": []
    },
    {
      "cell_type": "code",
      "source": [
        "#%%capturey\n",
        "# !unzip /content/true_labels.zip -d /content/drive/MyDrive/project/dataset/MI/second_session_labels/"
      ],
      "metadata": {
        "id": "vpOokimBivyy"
      },
      "id": "vpOokimBivyy",
      "execution_count": null,
      "outputs": []
    },
    {
      "cell_type": "code",
      "source": [
        "label_dir = \"/content/drive/MyDrive/project/dataset/MI/second_session_labels\"\n",
        "\n",
        "for fname in sorted(os.listdir(label_dir)):\n",
        "    if fname.endswith(\".mat\"):\n",
        "        fpath = os.path.join(label_dir, fname)\n",
        "        mat = scipy.io.loadmat(fpath)\n",
        "\n",
        "        label_key = None\n",
        "        for k in mat:\n",
        "            if not k.startswith(\"__\") and isinstance(mat[k], np.ndarray):\n",
        "                print(f\"{fname} - Possible key: {k} → shape: {mat[k].shape}\")\n",
        "                if \"label\" in k.lower():\n",
        "                    label_key = k\n",
        "\n",
        "        if label_key is None:\n",
        "            print(f\"{fname}: No valid label key found.\\n\")\n",
        "            continue\n",
        "\n",
        "        labels = mat[label_key].squeeze()\n",
        "        print(f\"📄 {fname}\")\n",
        "        print(f\"→ key: {label_key}\")\n",
        "        print(f\"→ shape: {labels.shape}, dtype: {labels.dtype}\")\n",
        "        print(f\"→ unique labels: {np.unique(labels)}\")\n",
        "        print(f\"→ first 10 labels: {labels[:10]}\\n\")\n"
      ],
      "metadata": {
        "colab": {
          "base_uri": "https://localhost:8080/"
        },
        "id": "PyZnSAzxuIEm",
        "outputId": "1e0b77e0-588a-45b9-c115-d7e07dcb57f6"
      },
      "id": "PyZnSAzxuIEm",
      "execution_count": null,
      "outputs": [
        {
          "output_type": "stream",
          "name": "stdout",
          "text": [
            "A01E.mat - Possible key: classlabel → shape: (288, 1)\n",
            "📄 A01E.mat\n",
            "→ key: classlabel\n",
            "→ shape: (288,), dtype: uint8\n",
            "→ unique labels: [1 2 3 4]\n",
            "→ first 10 labels: [1 2 2 1 2 1 2 3 2 4]\n",
            "\n",
            "A01T.mat - Possible key: classlabel → shape: (288, 1)\n",
            "📄 A01T.mat\n",
            "→ key: classlabel\n",
            "→ shape: (288,), dtype: uint8\n",
            "→ unique labels: [1 2 3 4]\n",
            "→ first 10 labels: [4 3 2 1 1 2 3 4 2 3]\n",
            "\n",
            "A02E.mat - Possible key: classlabel → shape: (288, 1)\n",
            "📄 A02E.mat\n",
            "→ key: classlabel\n",
            "→ shape: (288,), dtype: uint8\n",
            "→ unique labels: [1 2 3 4]\n",
            "→ first 10 labels: [1 2 2 1 2 1 2 3 2 4]\n",
            "\n",
            "A02T.mat - Possible key: classlabel → shape: (288, 1)\n",
            "📄 A02T.mat\n",
            "→ key: classlabel\n",
            "→ shape: (288,), dtype: uint8\n",
            "→ unique labels: [1 2 3 4]\n",
            "→ first 10 labels: [1 2 2 1 2 1 2 3 2 4]\n",
            "\n",
            "A03E.mat - Possible key: classlabel → shape: (288, 1)\n",
            "📄 A03E.mat\n",
            "→ key: classlabel\n",
            "→ shape: (288,), dtype: uint8\n",
            "→ unique labels: [1 2 3 4]\n",
            "→ first 10 labels: [1 2 2 1 2 1 2 3 2 4]\n",
            "\n",
            "A03T.mat - Possible key: classlabel → shape: (288, 1)\n",
            "📄 A03T.mat\n",
            "→ key: classlabel\n",
            "→ shape: (288,), dtype: uint8\n",
            "→ unique labels: [1 2 3 4]\n",
            "→ first 10 labels: [1 2 2 1 2 1 2 3 2 4]\n",
            "\n",
            "A04E.mat - Possible key: classlabel → shape: (288, 1)\n",
            "📄 A04E.mat\n",
            "→ key: classlabel\n",
            "→ shape: (288,), dtype: uint8\n",
            "→ unique labels: [1 2 3 4]\n",
            "→ first 10 labels: [4 3 2 1 1 2 3 4 2 3]\n",
            "\n",
            "A04T.mat - Possible key: classlabel → shape: (288, 1)\n",
            "📄 A04T.mat\n",
            "→ key: classlabel\n",
            "→ shape: (288,), dtype: uint8\n",
            "→ unique labels: [1 2 3 4]\n",
            "→ first 10 labels: [4 4 1 4 1 1 4 4 4 2]\n",
            "\n",
            "A05E.mat - Possible key: classlabel → shape: (288, 1)\n",
            "📄 A05E.mat\n",
            "→ key: classlabel\n",
            "→ shape: (288,), dtype: uint8\n",
            "→ unique labels: [1 2 3 4]\n",
            "→ first 10 labels: [1 2 2 1 2 1 2 3 2 4]\n",
            "\n",
            "A05T.mat - Possible key: classlabel → shape: (288, 1)\n",
            "📄 A05T.mat\n",
            "→ key: classlabel\n",
            "→ shape: (288,), dtype: uint8\n",
            "→ unique labels: [1 2 3 4]\n",
            "→ first 10 labels: [1 2 2 1 2 1 2 3 2 4]\n",
            "\n",
            "A06E.mat - Possible key: classlabel → shape: (288, 1)\n",
            "📄 A06E.mat\n",
            "→ key: classlabel\n",
            "→ shape: (288,), dtype: uint8\n",
            "→ unique labels: [1 2 3 4]\n",
            "→ first 10 labels: [1 2 2 1 2 1 2 3 2 4]\n",
            "\n",
            "A06T.mat - Possible key: classlabel → shape: (288, 1)\n",
            "📄 A06T.mat\n",
            "→ key: classlabel\n",
            "→ shape: (288,), dtype: uint8\n",
            "→ unique labels: [1 2 3 4]\n",
            "→ first 10 labels: [4 2 2 1 4 4 3 2 3 1]\n",
            "\n",
            "A07E.mat - Possible key: classlabel → shape: (288, 1)\n",
            "📄 A07E.mat\n",
            "→ key: classlabel\n",
            "→ shape: (288,), dtype: uint8\n",
            "→ unique labels: [1 2 3 4]\n",
            "→ first 10 labels: [1 2 2 1 2 1 2 3 2 4]\n",
            "\n",
            "A07T.mat - Possible key: classlabel → shape: (288, 1)\n",
            "📄 A07T.mat\n",
            "→ key: classlabel\n",
            "→ shape: (288,), dtype: uint8\n",
            "→ unique labels: [1 2 3 4]\n",
            "→ first 10 labels: [1 2 2 1 2 1 2 3 2 4]\n",
            "\n",
            "A08E.mat - Possible key: classlabel → shape: (288, 1)\n",
            "📄 A08E.mat\n",
            "→ key: classlabel\n",
            "→ shape: (288,), dtype: uint8\n",
            "→ unique labels: [1 2 3 4]\n",
            "→ first 10 labels: [1 2 2 1 2 1 2 3 2 4]\n",
            "\n",
            "A08T.mat - Possible key: classlabel → shape: (288, 1)\n",
            "📄 A08T.mat\n",
            "→ key: classlabel\n",
            "→ shape: (288,), dtype: uint8\n",
            "→ unique labels: [1 2 3 4]\n",
            "→ first 10 labels: [1 2 2 1 2 1 2 3 2 4]\n",
            "\n",
            "A09E.mat - Possible key: classlabel → shape: (288, 1)\n",
            "📄 A09E.mat\n",
            "→ key: classlabel\n",
            "→ shape: (288,), dtype: uint8\n",
            "→ unique labels: [1 2 3 4]\n",
            "→ first 10 labels: [1 2 2 1 2 1 2 3 2 4]\n",
            "\n",
            "A09T.mat - Possible key: classlabel → shape: (288, 1)\n",
            "📄 A09T.mat\n",
            "→ key: classlabel\n",
            "→ shape: (288,), dtype: uint8\n",
            "→ unique labels: [1 2 3 4]\n",
            "→ first 10 labels: [4 2 2 1 4 4 3 2 3 1]\n",
            "\n"
          ]
        }
      ]
    },
    {
      "cell_type": "markdown",
      "source": [
        "SECOND SESSION"
      ],
      "metadata": {
        "id": "m28Xi043ixoV"
      },
      "id": "m28Xi043ixoV"
    },
    {
      "cell_type": "code",
      "source": [
        "# raw_data_folder = '/content/drive/MyDrive/project/dataset/MI/raw_data/'\n",
        "# cleaned_data_folder = '/content/drive/MyDrive/project/dataset/MI/cleaned_data/second_session/'\n",
        "# mat_folder = '/content/drive/MyDrive/project/dataset/MI/second_session_labels/'\n",
        "\n",
        "# # Selecting files with suffix 'E.mat'\n",
        "# mat_files = os.listdir(mat_folder)\n",
        "# filtered_math_labels = [file for file in mat_files if file.endswith('E.mat')]\n",
        "\n",
        "# # Selecting files with suffix 'E.gdf'\n",
        "# files = os.listdir(raw_data_folder)\n",
        "# filtered_files = [file for file in files if file.endswith('E.gdf')]\n",
        "\n",
        "# raw_list = []\n",
        "# second_session_labels = np.array([])\n",
        "# # Iterating through filtered files\n",
        "# for file in filtered_files:\n",
        "#     file_path = os.path.join(raw_data_folder, file)\n",
        "\n",
        "#     # Reading raw data\n",
        "#     raw = mne.io.read_raw_gdf(file_path, eog=['EOG-left', 'EOG-central', 'EOG-right'], preload=True)\n",
        "#     # Droping EOG channels\n",
        "#     raw.drop_channels(['EOG-left', 'EOG-central', 'EOG-right'])\n",
        "\n",
        "#     # High Pass Filtering 4-40 Hz\n",
        "#     raw.filter(l_freq=4, h_freq=40, method='iir')\n",
        "\n",
        "#     # Saving the modified raw data to a file with .fif suffix\n",
        "#     new_file_path = os.path.join(cleaned_data_folder, file[:-4] + '.fif')\n",
        "#     raw.save(new_file_path, overwrite=True)\n",
        "#     # Appending data to t he list\n",
        "#     raw_list.append(raw)\n",
        "\n",
        "#     # Mat files for the labels\n",
        "#     mat_file_name = file.replace('.gdf', '.mat')\n",
        "#     mat_file_path = os.path.join(mat_folder, mat_file_name)\n",
        "#     print(f\"data:{file}, label:{mat_file_name}\")\n",
        "\n",
        "#     if os.path.exists(mat_file_path):\n",
        "#         mat_data = scipy.io.loadmat(mat_file_path)\n",
        "#         class_labels = mat_data.get('classlabel', [])\n",
        "\n",
        "#         # Check if 'classlabel' key exists and is not empty\n",
        "#         if class_labels.size > 0:\n",
        "#              # Convert to a NumPy array and flatten\n",
        "#             class_labels_array = np.array(class_labels, dtype=int).flatten()\n",
        "#             # Concatenate with the existing test_labels array\n",
        "#             second_session_labels = np.concatenate((second_session_labels, class_labels_array))\n",
        "#         else:\n",
        "#             print(f\"Warning: 'classlabel' not found or empty in {mat_file_name}.\")\n",
        "#     else:\n",
        "#         print(f\"Warning: {mat_file_name} not found.\")\n",
        "\n",
        "# final_raw = mne.concatenate_raws(raw_list)\n",
        "# new_file_path = os.path.join(cleaned_data_folder, 'Second_Session_Subjects.fif')\n",
        "# final_raw.save(new_file_path, overwrite=True)"
      ],
      "metadata": {
        "id": "itzyTuGhilMh"
      },
      "id": "itzyTuGhilMh",
      "execution_count": null,
      "outputs": []
    },
    {
      "cell_type": "code",
      "source": [
        "# mne.sys_info()"
      ],
      "metadata": {
        "id": "37Ga0-5OYaEQ"
      },
      "id": "37Ga0-5OYaEQ",
      "execution_count": null,
      "outputs": []
    },
    {
      "cell_type": "code",
      "source": [
        "def check_mi_completeness(root_dir, subject_ids=list(range(1, 10))):\n",
        "    sessions = [\"first_session\", \"second_session\"]\n",
        "    mi_keys = ['769', '770', '771', '772']\n",
        "    incomplete_subjects = []\n",
        "\n",
        "    for sid in subject_ids:\n",
        "        for sess in sessions:\n",
        "            prefix = \"T\" if sess == \"first_session\" else \"E\"\n",
        "            fname = f\"A{sid:02d}{prefix}.fif\"\n",
        "            fpath = os.path.join(root_dir, sess, fname)\n",
        "\n",
        "            if not os.path.exists(fpath):\n",
        "                print(f\"[ERROR] Missing file: {fpath}\")\n",
        "                continue\n",
        "\n",
        "            try:\n",
        "                raw = mne.io.read_raw_fif(fpath, preload=False, verbose=False)\n",
        "                _, event_id = mne.events_from_annotations(raw, verbose=False)\n",
        "\n",
        "                # Extract events and event_id from annotations\n",
        "                events, event_id = mne.events_from_annotations(raw, verbose=False)\n",
        "                from collections import Counter\n",
        "                label_counts = Counter(events[:, 2])\n",
        "\n",
        "                # Reverse the event_id dictionary to get {event_code: label}\n",
        "                inverse_event_id = {v: k for k, v in event_id.items()}\n",
        "\n",
        "                # Identify event codes that appear exactly 72 times (expected count for MI classes)\n",
        "                mi_event_ids = [eid for eid, count in label_counts.items() if count == 72]\n",
        "                motor_event_id = {inverse_event_id[eid]: eid for eid in mi_event_ids if eid in inverse_event_id}\n",
        "\n",
        "                print(f\"[DEBUG] Subject {sid} {sess} candidate MI labels: {list(motor_event_id.keys())}\")\n",
        "\n",
        "                if len(motor_event_id) < 4:\n",
        "                    print(f\"[✗] Subject {sid} {sess}: MI types missing → found {list(motor_event_id.keys())}\")\n",
        "                    incomplete_subjects.append((sid, sess))\n",
        "                    continue\n",
        "\n",
        "\n",
        "                # Filter events to include only MI-related ones\n",
        "                events, _ = mne.events_from_annotations(raw, verbose=False)\n",
        "                mi_events = np.array([e for e in events if e[2] in motor_event_id.values()])\n",
        "                counts = {k: 0 for k in mi_keys}\n",
        "                for e in mi_events:\n",
        "                    for k, v in motor_event_id.items():\n",
        "                        if e[2] == v:\n",
        "                            counts[k] += 1\n",
        "\n",
        "                if any(v != 72 for v in counts.values()):\n",
        "                    print(f\"[✗] Subject {sid} {sess}: Incomplete trials → {counts}\")\n",
        "                    incomplete_subjects.append((sid, sess))\n",
        "                else:\n",
        "                    print(f\"[✓] Subject {sid} {sess}: All MI classes OK\")\n",
        "\n",
        "            except Exception as e:\n",
        "                print(f\"[ERROR] Subject {sid} {sess}: Failed to load – {e}\")\n",
        "                incomplete_subjects.append((sid, sess))\n",
        "\n",
        "    return incomplete_subjects\n",
        "\n",
        "root_dir = \"/content/drive/MyDrive/project/dataset/MI/cleaned_data\"\n",
        "incomplete = check_mi_completeness(root_dir)\n",
        "\n",
        "print(\"\\n=== Summary: Incomplete Sessions ===\")\n",
        "for sid, sess in incomplete:\n",
        "    print(f\"Subject {sid} - {sess}\")\n"
      ],
      "metadata": {
        "colab": {
          "base_uri": "https://localhost:8080/"
        },
        "id": "f2DDCAzwqeaf",
        "outputId": "98539141-8721-4ad5-a023-fe8c25422a1f"
      },
      "id": "f2DDCAzwqeaf",
      "execution_count": null,
      "outputs": [
        {
          "output_type": "stream",
          "name": "stderr",
          "text": [
            "<ipython-input-18-6ec144fe559d>:17: RuntimeWarning: This filename (/content/drive/MyDrive/project/dataset/MI/cleaned_data/first_session/A01T.fif) does not conform to MNE naming conventions. All raw files should end with raw.fif, raw_sss.fif, raw_tsss.fif, _meg.fif, _eeg.fif, _ieeg.fif, raw.fif.gz, raw_sss.fif.gz, raw_tsss.fif.gz, _meg.fif.gz, _eeg.fif.gz or _ieeg.fif.gz\n",
            "  raw = mne.io.read_raw_fif(fpath, preload=False, verbose=False)\n"
          ]
        },
        {
          "output_type": "stream",
          "name": "stdout",
          "text": [
            "[DEBUG] Subject 1 first_session candidate MI labels: ['772', '771', '770', '769']\n",
            "[✓] Subject 1 first_session: All MI classes OK\n"
          ]
        },
        {
          "output_type": "stream",
          "name": "stderr",
          "text": [
            "<ipython-input-18-6ec144fe559d>:17: RuntimeWarning: This filename (/content/drive/MyDrive/project/dataset/MI/cleaned_data/second_session/A01E.fif) does not conform to MNE naming conventions. All raw files should end with raw.fif, raw_sss.fif, raw_tsss.fif, _meg.fif, _eeg.fif, _ieeg.fif, raw.fif.gz, raw_sss.fif.gz, raw_tsss.fif.gz, _meg.fif.gz, _eeg.fif.gz or _ieeg.fif.gz\n",
            "  raw = mne.io.read_raw_fif(fpath, preload=False, verbose=False)\n"
          ]
        },
        {
          "output_type": "stream",
          "name": "stdout",
          "text": [
            "[DEBUG] Subject 1 second_session candidate MI labels: []\n",
            "[✗] Subject 1 second_session: MI types missing → found []\n"
          ]
        },
        {
          "output_type": "stream",
          "name": "stderr",
          "text": [
            "<ipython-input-18-6ec144fe559d>:17: RuntimeWarning: This filename (/content/drive/MyDrive/project/dataset/MI/cleaned_data/first_session/A02T.fif) does not conform to MNE naming conventions. All raw files should end with raw.fif, raw_sss.fif, raw_tsss.fif, _meg.fif, _eeg.fif, _ieeg.fif, raw.fif.gz, raw_sss.fif.gz, raw_tsss.fif.gz, _meg.fif.gz, _eeg.fif.gz or _ieeg.fif.gz\n",
            "  raw = mne.io.read_raw_fif(fpath, preload=False, verbose=False)\n"
          ]
        },
        {
          "output_type": "stream",
          "name": "stdout",
          "text": [
            "[DEBUG] Subject 2 first_session candidate MI labels: ['769', '770', '771', '772']\n",
            "[✓] Subject 2 first_session: All MI classes OK\n"
          ]
        },
        {
          "output_type": "stream",
          "name": "stderr",
          "text": [
            "<ipython-input-18-6ec144fe559d>:17: RuntimeWarning: This filename (/content/drive/MyDrive/project/dataset/MI/cleaned_data/second_session/A02E.fif) does not conform to MNE naming conventions. All raw files should end with raw.fif, raw_sss.fif, raw_tsss.fif, _meg.fif, _eeg.fif, _ieeg.fif, raw.fif.gz, raw_sss.fif.gz, raw_tsss.fif.gz, _meg.fif.gz, _eeg.fif.gz or _ieeg.fif.gz\n",
            "  raw = mne.io.read_raw_fif(fpath, preload=False, verbose=False)\n"
          ]
        },
        {
          "output_type": "stream",
          "name": "stdout",
          "text": [
            "[DEBUG] Subject 2 second_session candidate MI labels: []\n",
            "[✗] Subject 2 second_session: MI types missing → found []\n"
          ]
        },
        {
          "output_type": "stream",
          "name": "stderr",
          "text": [
            "<ipython-input-18-6ec144fe559d>:17: RuntimeWarning: This filename (/content/drive/MyDrive/project/dataset/MI/cleaned_data/first_session/A03T.fif) does not conform to MNE naming conventions. All raw files should end with raw.fif, raw_sss.fif, raw_tsss.fif, _meg.fif, _eeg.fif, _ieeg.fif, raw.fif.gz, raw_sss.fif.gz, raw_tsss.fif.gz, _meg.fif.gz, _eeg.fif.gz or _ieeg.fif.gz\n",
            "  raw = mne.io.read_raw_fif(fpath, preload=False, verbose=False)\n"
          ]
        },
        {
          "output_type": "stream",
          "name": "stdout",
          "text": [
            "[DEBUG] Subject 3 first_session candidate MI labels: ['769', '770', '771', '772']\n",
            "[✓] Subject 3 first_session: All MI classes OK\n"
          ]
        },
        {
          "output_type": "stream",
          "name": "stderr",
          "text": [
            "<ipython-input-18-6ec144fe559d>:17: RuntimeWarning: This filename (/content/drive/MyDrive/project/dataset/MI/cleaned_data/second_session/A03E.fif) does not conform to MNE naming conventions. All raw files should end with raw.fif, raw_sss.fif, raw_tsss.fif, _meg.fif, _eeg.fif, _ieeg.fif, raw.fif.gz, raw_sss.fif.gz, raw_tsss.fif.gz, _meg.fif.gz, _eeg.fif.gz or _ieeg.fif.gz\n",
            "  raw = mne.io.read_raw_fif(fpath, preload=False, verbose=False)\n"
          ]
        },
        {
          "output_type": "stream",
          "name": "stdout",
          "text": [
            "[DEBUG] Subject 3 second_session candidate MI labels: []\n",
            "[✗] Subject 3 second_session: MI types missing → found []\n"
          ]
        },
        {
          "output_type": "stream",
          "name": "stderr",
          "text": [
            "<ipython-input-18-6ec144fe559d>:17: RuntimeWarning: This filename (/content/drive/MyDrive/project/dataset/MI/cleaned_data/first_session/A04T.fif) does not conform to MNE naming conventions. All raw files should end with raw.fif, raw_sss.fif, raw_tsss.fif, _meg.fif, _eeg.fif, _ieeg.fif, raw.fif.gz, raw_sss.fif.gz, raw_tsss.fif.gz, _meg.fif.gz, _eeg.fif.gz or _ieeg.fif.gz\n",
            "  raw = mne.io.read_raw_fif(fpath, preload=False, verbose=False)\n"
          ]
        },
        {
          "output_type": "stream",
          "name": "stdout",
          "text": [
            "[DEBUG] Subject 4 first_session candidate MI labels: ['772', '769', '770', '771']\n",
            "[✓] Subject 4 first_session: All MI classes OK\n"
          ]
        },
        {
          "output_type": "stream",
          "name": "stderr",
          "text": [
            "<ipython-input-18-6ec144fe559d>:17: RuntimeWarning: This filename (/content/drive/MyDrive/project/dataset/MI/cleaned_data/second_session/A04E.fif) does not conform to MNE naming conventions. All raw files should end with raw.fif, raw_sss.fif, raw_tsss.fif, _meg.fif, _eeg.fif, _ieeg.fif, raw.fif.gz, raw_sss.fif.gz, raw_tsss.fif.gz, _meg.fif.gz, _eeg.fif.gz or _ieeg.fif.gz\n",
            "  raw = mne.io.read_raw_fif(fpath, preload=False, verbose=False)\n"
          ]
        },
        {
          "output_type": "stream",
          "name": "stdout",
          "text": [
            "[DEBUG] Subject 4 second_session candidate MI labels: []\n",
            "[✗] Subject 4 second_session: MI types missing → found []\n"
          ]
        },
        {
          "output_type": "stream",
          "name": "stderr",
          "text": [
            "<ipython-input-18-6ec144fe559d>:17: RuntimeWarning: This filename (/content/drive/MyDrive/project/dataset/MI/cleaned_data/first_session/A05T.fif) does not conform to MNE naming conventions. All raw files should end with raw.fif, raw_sss.fif, raw_tsss.fif, _meg.fif, _eeg.fif, _ieeg.fif, raw.fif.gz, raw_sss.fif.gz, raw_tsss.fif.gz, _meg.fif.gz, _eeg.fif.gz or _ieeg.fif.gz\n",
            "  raw = mne.io.read_raw_fif(fpath, preload=False, verbose=False)\n"
          ]
        },
        {
          "output_type": "stream",
          "name": "stdout",
          "text": [
            "[DEBUG] Subject 5 first_session candidate MI labels: ['769', '770', '771', '772']\n",
            "[✓] Subject 5 first_session: All MI classes OK\n"
          ]
        },
        {
          "output_type": "stream",
          "name": "stderr",
          "text": [
            "<ipython-input-18-6ec144fe559d>:17: RuntimeWarning: This filename (/content/drive/MyDrive/project/dataset/MI/cleaned_data/second_session/A05E.fif) does not conform to MNE naming conventions. All raw files should end with raw.fif, raw_sss.fif, raw_tsss.fif, _meg.fif, _eeg.fif, _ieeg.fif, raw.fif.gz, raw_sss.fif.gz, raw_tsss.fif.gz, _meg.fif.gz, _eeg.fif.gz or _ieeg.fif.gz\n",
            "  raw = mne.io.read_raw_fif(fpath, preload=False, verbose=False)\n"
          ]
        },
        {
          "output_type": "stream",
          "name": "stdout",
          "text": [
            "[DEBUG] Subject 5 second_session candidate MI labels: []\n",
            "[✗] Subject 5 second_session: MI types missing → found []\n"
          ]
        },
        {
          "output_type": "stream",
          "name": "stderr",
          "text": [
            "<ipython-input-18-6ec144fe559d>:17: RuntimeWarning: This filename (/content/drive/MyDrive/project/dataset/MI/cleaned_data/first_session/A06T.fif) does not conform to MNE naming conventions. All raw files should end with raw.fif, raw_sss.fif, raw_tsss.fif, _meg.fif, _eeg.fif, _ieeg.fif, raw.fif.gz, raw_sss.fif.gz, raw_tsss.fif.gz, _meg.fif.gz, _eeg.fif.gz or _ieeg.fif.gz\n",
            "  raw = mne.io.read_raw_fif(fpath, preload=False, verbose=False)\n"
          ]
        },
        {
          "output_type": "stream",
          "name": "stdout",
          "text": [
            "[DEBUG] Subject 6 first_session candidate MI labels: ['772', '770', '769', '771']\n",
            "[✓] Subject 6 first_session: All MI classes OK\n"
          ]
        },
        {
          "output_type": "stream",
          "name": "stderr",
          "text": [
            "<ipython-input-18-6ec144fe559d>:17: RuntimeWarning: This filename (/content/drive/MyDrive/project/dataset/MI/cleaned_data/second_session/A06E.fif) does not conform to MNE naming conventions. All raw files should end with raw.fif, raw_sss.fif, raw_tsss.fif, _meg.fif, _eeg.fif, _ieeg.fif, raw.fif.gz, raw_sss.fif.gz, raw_tsss.fif.gz, _meg.fif.gz, _eeg.fif.gz or _ieeg.fif.gz\n",
            "  raw = mne.io.read_raw_fif(fpath, preload=False, verbose=False)\n"
          ]
        },
        {
          "output_type": "stream",
          "name": "stdout",
          "text": [
            "[DEBUG] Subject 6 second_session candidate MI labels: []\n",
            "[✗] Subject 6 second_session: MI types missing → found []\n"
          ]
        },
        {
          "output_type": "stream",
          "name": "stderr",
          "text": [
            "<ipython-input-18-6ec144fe559d>:17: RuntimeWarning: This filename (/content/drive/MyDrive/project/dataset/MI/cleaned_data/first_session/A07T.fif) does not conform to MNE naming conventions. All raw files should end with raw.fif, raw_sss.fif, raw_tsss.fif, _meg.fif, _eeg.fif, _ieeg.fif, raw.fif.gz, raw_sss.fif.gz, raw_tsss.fif.gz, _meg.fif.gz, _eeg.fif.gz or _ieeg.fif.gz\n",
            "  raw = mne.io.read_raw_fif(fpath, preload=False, verbose=False)\n"
          ]
        },
        {
          "output_type": "stream",
          "name": "stdout",
          "text": [
            "[DEBUG] Subject 7 first_session candidate MI labels: ['769', '770', '771', '772']\n",
            "[✓] Subject 7 first_session: All MI classes OK\n"
          ]
        },
        {
          "output_type": "stream",
          "name": "stderr",
          "text": [
            "<ipython-input-18-6ec144fe559d>:17: RuntimeWarning: This filename (/content/drive/MyDrive/project/dataset/MI/cleaned_data/second_session/A07E.fif) does not conform to MNE naming conventions. All raw files should end with raw.fif, raw_sss.fif, raw_tsss.fif, _meg.fif, _eeg.fif, _ieeg.fif, raw.fif.gz, raw_sss.fif.gz, raw_tsss.fif.gz, _meg.fif.gz, _eeg.fif.gz or _ieeg.fif.gz\n",
            "  raw = mne.io.read_raw_fif(fpath, preload=False, verbose=False)\n"
          ]
        },
        {
          "output_type": "stream",
          "name": "stdout",
          "text": [
            "[DEBUG] Subject 7 second_session candidate MI labels: []\n",
            "[✗] Subject 7 second_session: MI types missing → found []\n"
          ]
        },
        {
          "output_type": "stream",
          "name": "stderr",
          "text": [
            "<ipython-input-18-6ec144fe559d>:17: RuntimeWarning: This filename (/content/drive/MyDrive/project/dataset/MI/cleaned_data/first_session/A08T.fif) does not conform to MNE naming conventions. All raw files should end with raw.fif, raw_sss.fif, raw_tsss.fif, _meg.fif, _eeg.fif, _ieeg.fif, raw.fif.gz, raw_sss.fif.gz, raw_tsss.fif.gz, _meg.fif.gz, _eeg.fif.gz or _ieeg.fif.gz\n",
            "  raw = mne.io.read_raw_fif(fpath, preload=False, verbose=False)\n"
          ]
        },
        {
          "output_type": "stream",
          "name": "stdout",
          "text": [
            "[DEBUG] Subject 8 first_session candidate MI labels: ['769', '770', '771', '772']\n",
            "[✓] Subject 8 first_session: All MI classes OK\n"
          ]
        },
        {
          "output_type": "stream",
          "name": "stderr",
          "text": [
            "<ipython-input-18-6ec144fe559d>:17: RuntimeWarning: This filename (/content/drive/MyDrive/project/dataset/MI/cleaned_data/second_session/A08E.fif) does not conform to MNE naming conventions. All raw files should end with raw.fif, raw_sss.fif, raw_tsss.fif, _meg.fif, _eeg.fif, _ieeg.fif, raw.fif.gz, raw_sss.fif.gz, raw_tsss.fif.gz, _meg.fif.gz, _eeg.fif.gz or _ieeg.fif.gz\n",
            "  raw = mne.io.read_raw_fif(fpath, preload=False, verbose=False)\n"
          ]
        },
        {
          "output_type": "stream",
          "name": "stdout",
          "text": [
            "[DEBUG] Subject 8 second_session candidate MI labels: []\n",
            "[✗] Subject 8 second_session: MI types missing → found []\n"
          ]
        },
        {
          "output_type": "stream",
          "name": "stderr",
          "text": [
            "<ipython-input-18-6ec144fe559d>:17: RuntimeWarning: This filename (/content/drive/MyDrive/project/dataset/MI/cleaned_data/first_session/A09T.fif) does not conform to MNE naming conventions. All raw files should end with raw.fif, raw_sss.fif, raw_tsss.fif, _meg.fif, _eeg.fif, _ieeg.fif, raw.fif.gz, raw_sss.fif.gz, raw_tsss.fif.gz, _meg.fif.gz, _eeg.fif.gz or _ieeg.fif.gz\n",
            "  raw = mne.io.read_raw_fif(fpath, preload=False, verbose=False)\n"
          ]
        },
        {
          "output_type": "stream",
          "name": "stdout",
          "text": [
            "[DEBUG] Subject 9 first_session candidate MI labels: ['772', '770', '769', '771']\n",
            "[✓] Subject 9 first_session: All MI classes OK\n"
          ]
        },
        {
          "output_type": "stream",
          "name": "stderr",
          "text": [
            "<ipython-input-18-6ec144fe559d>:17: RuntimeWarning: This filename (/content/drive/MyDrive/project/dataset/MI/cleaned_data/second_session/A09E.fif) does not conform to MNE naming conventions. All raw files should end with raw.fif, raw_sss.fif, raw_tsss.fif, _meg.fif, _eeg.fif, _ieeg.fif, raw.fif.gz, raw_sss.fif.gz, raw_tsss.fif.gz, _meg.fif.gz, _eeg.fif.gz or _ieeg.fif.gz\n",
            "  raw = mne.io.read_raw_fif(fpath, preload=False, verbose=False)\n"
          ]
        },
        {
          "output_type": "stream",
          "name": "stdout",
          "text": [
            "[DEBUG] Subject 9 second_session candidate MI labels: []\n",
            "[✗] Subject 9 second_session: MI types missing → found []\n",
            "\n",
            "=== Summary: Incomplete Sessions ===\n",
            "Subject 1 - second_session\n",
            "Subject 2 - second_session\n",
            "Subject 3 - second_session\n",
            "Subject 4 - second_session\n",
            "Subject 5 - second_session\n",
            "Subject 6 - second_session\n",
            "Subject 7 - second_session\n",
            "Subject 8 - second_session\n",
            "Subject 9 - second_session\n"
          ]
        }
      ]
    },
    {
      "cell_type": "code",
      "source": [
        "def check_second_session_alignment(root_dir, label_dir, subject_id):\n",
        "    prefix = \"E\"\n",
        "    fif_path = os.path.join(root_dir, \"second_session\", f\"A{subject_id:02d}{prefix}.fif\")\n",
        "    mat_path = os.path.join(label_dir, f\"A{subject_id:02d}E.mat\")\n",
        "\n",
        "    print(f\"Checking subject {subject_id}:\")\n",
        "    print(f\"  FIF file: {fif_path}\")\n",
        "    print(f\"  MAT file: {mat_path}\")\n",
        "\n",
        "    # Load fif annotations\n",
        "    raw = mne.io.read_raw_fif(fif_path, preload=False, verbose=False)\n",
        "    mask = raw.annotations.description == '783'\n",
        "    assert mask.sum() == 288, f\"Expected 288 '783' annotations, got {mask.sum()}\"\n",
        "    cue_annot = raw.annotations[mask]\n",
        "    fif_onset_order = np.argsort(cue_annot.onset)  # sort by time\n",
        "\n",
        "    # Load mat labels\n",
        "    mat = scipy.io.loadmat(mat_path)\n",
        "    label_key = [k for k in mat if \"label\" in k.lower() and not k.startswith(\"__\")][0]\n",
        "    mat_labels = mat[label_key].squeeze()\n",
        "    assert mat_labels.shape[0] == 288, f\"{mat_path} expected 288 labels, got {mat_labels.shape}\"\n",
        "    mat_labels_adj = mat_labels - 1  # Convert from 1–4 to 0–3\n",
        "\n",
        "    # Optional: reorder labels by onset order if needed\n",
        "    mat_labels_sorted = mat_labels_adj  # assume already aligned\n",
        "\n",
        "    # Compare distribution\n",
        "    mismatch_count = 0\n",
        "    for i in range(288):\n",
        "        fif_idx = fif_onset_order[i]\n",
        "        fif_label = mat_labels_sorted[i]\n",
        "        print(f\"  Trial {i}: FIF idx {fif_idx}, Label {fif_label}\")\n",
        "\n",
        "    print(f\"[OK] Subject {subject_id} alignment check completed.\")\n",
        "\n",
        "# check subjects 5 and 6 (assuming these are your unseen subjects)\n",
        "root_dir = \"/content/drive/MyDrive/project/dataset/MI/cleaned_data\"\n",
        "label_dir = \"/content/drive/MyDrive/project/dataset/MI/second_session_labels/\"\n",
        "\n",
        "for sid in [5, 6]:\n",
        "    check_second_session_alignment(root_dir, label_dir, sid)\n"
      ],
      "metadata": {
        "colab": {
          "base_uri": "https://localhost:8080/"
        },
        "id": "cy9SBRUO-wkN",
        "outputId": "4a45fe04-21fd-4672-d7c8-c90ef5e2e4e4"
      },
      "id": "cy9SBRUO-wkN",
      "execution_count": null,
      "outputs": [
        {
          "output_type": "stream",
          "name": "stdout",
          "text": [
            "Checking subject 5:\n",
            "  FIF file: /content/drive/MyDrive/project/dataset/MI/cleaned_data/second_session/A05E.fif\n",
            "  MAT file: /content/drive/MyDrive/project/dataset/MI/second_session_labels/A05E.mat\n",
            "  Trial 0: FIF idx 0, Label 0\n",
            "  Trial 1: FIF idx 1, Label 1\n",
            "  Trial 2: FIF idx 2, Label 1\n",
            "  Trial 3: FIF idx 3, Label 0\n",
            "  Trial 4: FIF idx 4, Label 1\n",
            "  Trial 5: FIF idx 5, Label 0\n",
            "  Trial 6: FIF idx 6, Label 1\n",
            "  Trial 7: FIF idx 7, Label 2\n",
            "  Trial 8: FIF idx 8, Label 1\n",
            "  Trial 9: FIF idx 9, Label 3\n",
            "  Trial 10: FIF idx 10, Label 0\n",
            "  Trial 11: FIF idx 11, Label 2\n",
            "  Trial 12: FIF idx 12, Label 1\n",
            "  Trial 13: FIF idx 13, Label 0\n",
            "  Trial 14: FIF idx 14, Label 3\n",
            "  Trial 15: FIF idx 15, Label 3\n",
            "  Trial 16: FIF idx 16, Label 3\n",
            "  Trial 17: FIF idx 17, Label 3\n",
            "  Trial 18: FIF idx 18, Label 3\n",
            "  Trial 19: FIF idx 19, Label 0\n",
            "  Trial 20: FIF idx 20, Label 2\n",
            "  Trial 21: FIF idx 21, Label 1\n",
            "  Trial 22: FIF idx 22, Label 0\n",
            "  Trial 23: FIF idx 23, Label 0\n",
            "  Trial 24: FIF idx 24, Label 2\n",
            "  Trial 25: FIF idx 25, Label 3\n",
            "  Trial 26: FIF idx 26, Label 0\n",
            "  Trial 27: FIF idx 27, Label 2\n",
            "  Trial 28: FIF idx 28, Label 2\n",
            "  Trial 29: FIF idx 29, Label 2\n",
            "  Trial 30: FIF idx 30, Label 0\n",
            "  Trial 31: FIF idx 31, Label 1\n",
            "  Trial 32: FIF idx 32, Label 0\n",
            "  Trial 33: FIF idx 33, Label 1\n",
            "  Trial 34: FIF idx 34, Label 1\n",
            "  Trial 35: FIF idx 35, Label 0\n",
            "  Trial 36: FIF idx 36, Label 1\n",
            "  Trial 37: FIF idx 37, Label 2\n",
            "  Trial 38: FIF idx 38, Label 1\n",
            "  Trial 39: FIF idx 39, Label 2\n",
            "  Trial 40: FIF idx 40, Label 2\n",
            "  Trial 41: FIF idx 41, Label 3\n",
            "  Trial 42: FIF idx 42, Label 2\n",
            "  Trial 43: FIF idx 43, Label 2\n",
            "  Trial 44: FIF idx 44, Label 3\n",
            "  Trial 45: FIF idx 45, Label 3\n",
            "  Trial 46: FIF idx 46, Label 3\n",
            "  Trial 47: FIF idx 47, Label 3\n",
            "  Trial 48: FIF idx 48, Label 3\n",
            "  Trial 49: FIF idx 49, Label 2\n",
            "  Trial 50: FIF idx 50, Label 1\n",
            "  Trial 51: FIF idx 51, Label 0\n",
            "  Trial 52: FIF idx 52, Label 0\n",
            "  Trial 53: FIF idx 53, Label 1\n",
            "  Trial 54: FIF idx 54, Label 2\n",
            "  Trial 55: FIF idx 55, Label 3\n",
            "  Trial 56: FIF idx 56, Label 1\n",
            "  Trial 57: FIF idx 57, Label 2\n",
            "  Trial 58: FIF idx 58, Label 0\n",
            "  Trial 59: FIF idx 59, Label 0\n",
            "  Trial 60: FIF idx 60, Label 0\n",
            "  Trial 61: FIF idx 61, Label 3\n",
            "  Trial 62: FIF idx 62, Label 1\n",
            "  Trial 63: FIF idx 63, Label 1\n",
            "  Trial 64: FIF idx 64, Label 0\n",
            "  Trial 65: FIF idx 65, Label 0\n",
            "  Trial 66: FIF idx 66, Label 2\n",
            "  Trial 67: FIF idx 67, Label 0\n",
            "  Trial 68: FIF idx 68, Label 1\n",
            "  Trial 69: FIF idx 69, Label 3\n",
            "  Trial 70: FIF idx 70, Label 3\n",
            "  Trial 71: FIF idx 71, Label 2\n",
            "  Trial 72: FIF idx 72, Label 0\n",
            "  Trial 73: FIF idx 73, Label 3\n",
            "  Trial 74: FIF idx 74, Label 3\n",
            "  Trial 75: FIF idx 75, Label 1\n",
            "  Trial 76: FIF idx 76, Label 3\n",
            "  Trial 77: FIF idx 77, Label 3\n",
            "  Trial 78: FIF idx 78, Label 1\n",
            "  Trial 79: FIF idx 79, Label 0\n",
            "  Trial 80: FIF idx 80, Label 1\n",
            "  Trial 81: FIF idx 81, Label 2\n",
            "  Trial 82: FIF idx 82, Label 2\n",
            "  Trial 83: FIF idx 83, Label 2\n",
            "  Trial 84: FIF idx 84, Label 3\n",
            "  Trial 85: FIF idx 85, Label 2\n",
            "  Trial 86: FIF idx 86, Label 0\n",
            "  Trial 87: FIF idx 87, Label 3\n",
            "  Trial 88: FIF idx 88, Label 1\n",
            "  Trial 89: FIF idx 89, Label 2\n",
            "  Trial 90: FIF idx 90, Label 1\n",
            "  Trial 91: FIF idx 91, Label 2\n",
            "  Trial 92: FIF idx 92, Label 3\n",
            "  Trial 93: FIF idx 93, Label 1\n",
            "  Trial 94: FIF idx 94, Label 2\n",
            "  Trial 95: FIF idx 95, Label 0\n",
            "  Trial 96: FIF idx 96, Label 0\n",
            "  Trial 97: FIF idx 97, Label 0\n",
            "  Trial 98: FIF idx 98, Label 3\n",
            "  Trial 99: FIF idx 99, Label 1\n",
            "  Trial 100: FIF idx 100, Label 0\n",
            "  Trial 101: FIF idx 101, Label 2\n",
            "  Trial 102: FIF idx 102, Label 0\n",
            "  Trial 103: FIF idx 103, Label 2\n",
            "  Trial 104: FIF idx 104, Label 1\n",
            "  Trial 105: FIF idx 105, Label 3\n",
            "  Trial 106: FIF idx 106, Label 0\n",
            "  Trial 107: FIF idx 107, Label 2\n",
            "  Trial 108: FIF idx 108, Label 2\n",
            "  Trial 109: FIF idx 109, Label 0\n",
            "  Trial 110: FIF idx 110, Label 2\n",
            "  Trial 111: FIF idx 111, Label 1\n",
            "  Trial 112: FIF idx 112, Label 3\n",
            "  Trial 113: FIF idx 113, Label 3\n",
            "  Trial 114: FIF idx 114, Label 3\n",
            "  Trial 115: FIF idx 115, Label 2\n",
            "  Trial 116: FIF idx 116, Label 0\n",
            "  Trial 117: FIF idx 117, Label 3\n",
            "  Trial 118: FIF idx 118, Label 1\n",
            "  Trial 119: FIF idx 119, Label 3\n",
            "  Trial 120: FIF idx 120, Label 1\n",
            "  Trial 121: FIF idx 121, Label 0\n",
            "  Trial 122: FIF idx 122, Label 2\n",
            "  Trial 123: FIF idx 123, Label 1\n",
            "  Trial 124: FIF idx 124, Label 0\n",
            "  Trial 125: FIF idx 125, Label 2\n",
            "  Trial 126: FIF idx 126, Label 2\n",
            "  Trial 127: FIF idx 127, Label 0\n",
            "  Trial 128: FIF idx 128, Label 2\n",
            "  Trial 129: FIF idx 129, Label 3\n",
            "  Trial 130: FIF idx 130, Label 3\n",
            "  Trial 131: FIF idx 131, Label 1\n",
            "  Trial 132: FIF idx 132, Label 0\n",
            "  Trial 133: FIF idx 133, Label 1\n",
            "  Trial 134: FIF idx 134, Label 3\n",
            "  Trial 135: FIF idx 135, Label 1\n",
            "  Trial 136: FIF idx 136, Label 3\n",
            "  Trial 137: FIF idx 137, Label 2\n",
            "  Trial 138: FIF idx 138, Label 1\n",
            "  Trial 139: FIF idx 139, Label 1\n",
            "  Trial 140: FIF idx 140, Label 1\n",
            "  Trial 141: FIF idx 141, Label 2\n",
            "  Trial 142: FIF idx 142, Label 3\n",
            "  Trial 143: FIF idx 143, Label 0\n",
            "  Trial 144: FIF idx 144, Label 1\n",
            "  Trial 145: FIF idx 145, Label 3\n",
            "  Trial 146: FIF idx 146, Label 0\n",
            "  Trial 147: FIF idx 147, Label 2\n",
            "  Trial 148: FIF idx 148, Label 2\n",
            "  Trial 149: FIF idx 149, Label 3\n",
            "  Trial 150: FIF idx 150, Label 0\n",
            "  Trial 151: FIF idx 151, Label 0\n",
            "  Trial 152: FIF idx 152, Label 2\n",
            "  Trial 153: FIF idx 153, Label 1\n",
            "  Trial 154: FIF idx 154, Label 3\n",
            "  Trial 155: FIF idx 155, Label 3\n",
            "  Trial 156: FIF idx 156, Label 3\n",
            "  Trial 157: FIF idx 157, Label 1\n",
            "  Trial 158: FIF idx 158, Label 0\n",
            "  Trial 159: FIF idx 159, Label 2\n",
            "  Trial 160: FIF idx 160, Label 1\n",
            "  Trial 161: FIF idx 161, Label 3\n",
            "  Trial 162: FIF idx 162, Label 0\n",
            "  Trial 163: FIF idx 163, Label 3\n",
            "  Trial 164: FIF idx 164, Label 2\n",
            "  Trial 165: FIF idx 165, Label 1\n",
            "  Trial 166: FIF idx 166, Label 3\n",
            "  Trial 167: FIF idx 167, Label 3\n",
            "  Trial 168: FIF idx 168, Label 0\n",
            "  Trial 169: FIF idx 169, Label 1\n",
            "  Trial 170: FIF idx 170, Label 1\n",
            "  Trial 171: FIF idx 171, Label 2\n",
            "  Trial 172: FIF idx 172, Label 3\n",
            "  Trial 173: FIF idx 173, Label 1\n",
            "  Trial 174: FIF idx 174, Label 0\n",
            "  Trial 175: FIF idx 175, Label 0\n",
            "  Trial 176: FIF idx 176, Label 3\n",
            "  Trial 177: FIF idx 177, Label 1\n",
            "  Trial 178: FIF idx 178, Label 0\n",
            "  Trial 179: FIF idx 179, Label 2\n",
            "  Trial 180: FIF idx 180, Label 1\n",
            "  Trial 181: FIF idx 181, Label 1\n",
            "  Trial 182: FIF idx 182, Label 2\n",
            "  Trial 183: FIF idx 183, Label 0\n",
            "  Trial 184: FIF idx 184, Label 3\n",
            "  Trial 185: FIF idx 185, Label 2\n",
            "  Trial 186: FIF idx 186, Label 2\n",
            "  Trial 187: FIF idx 187, Label 2\n",
            "  Trial 188: FIF idx 188, Label 2\n",
            "  Trial 189: FIF idx 189, Label 0\n",
            "  Trial 190: FIF idx 190, Label 1\n",
            "  Trial 191: FIF idx 191, Label 0\n",
            "  Trial 192: FIF idx 192, Label 1\n",
            "  Trial 193: FIF idx 193, Label 0\n",
            "  Trial 194: FIF idx 194, Label 0\n",
            "  Trial 195: FIF idx 195, Label 2\n",
            "  Trial 196: FIF idx 196, Label 2\n",
            "  Trial 197: FIF idx 197, Label 1\n",
            "  Trial 198: FIF idx 198, Label 2\n",
            "  Trial 199: FIF idx 199, Label 3\n",
            "  Trial 200: FIF idx 200, Label 0\n",
            "  Trial 201: FIF idx 201, Label 3\n",
            "  Trial 202: FIF idx 202, Label 0\n",
            "  Trial 203: FIF idx 203, Label 0\n",
            "  Trial 204: FIF idx 204, Label 1\n",
            "  Trial 205: FIF idx 205, Label 3\n",
            "  Trial 206: FIF idx 206, Label 2\n",
            "  Trial 207: FIF idx 207, Label 1\n",
            "  Trial 208: FIF idx 208, Label 3\n",
            "  Trial 209: FIF idx 209, Label 2\n",
            "  Trial 210: FIF idx 210, Label 3\n",
            "  Trial 211: FIF idx 211, Label 2\n",
            "  Trial 212: FIF idx 212, Label 3\n",
            "  Trial 213: FIF idx 213, Label 1\n",
            "  Trial 214: FIF idx 214, Label 1\n",
            "  Trial 215: FIF idx 215, Label 3\n",
            "  Trial 216: FIF idx 216, Label 0\n",
            "  Trial 217: FIF idx 217, Label 1\n",
            "  Trial 218: FIF idx 218, Label 1\n",
            "  Trial 219: FIF idx 219, Label 1\n",
            "  Trial 220: FIF idx 220, Label 2\n",
            "  Trial 221: FIF idx 221, Label 3\n",
            "  Trial 222: FIF idx 222, Label 0\n",
            "  Trial 223: FIF idx 223, Label 3\n",
            "  Trial 224: FIF idx 224, Label 0\n",
            "  Trial 225: FIF idx 225, Label 2\n",
            "  Trial 226: FIF idx 226, Label 0\n",
            "  Trial 227: FIF idx 227, Label 3\n",
            "  Trial 228: FIF idx 228, Label 0\n",
            "  Trial 229: FIF idx 229, Label 2\n",
            "  Trial 230: FIF idx 230, Label 0\n",
            "  Trial 231: FIF idx 231, Label 1\n",
            "  Trial 232: FIF idx 232, Label 2\n",
            "  Trial 233: FIF idx 233, Label 2\n",
            "  Trial 234: FIF idx 234, Label 3\n",
            "  Trial 235: FIF idx 235, Label 0\n",
            "  Trial 236: FIF idx 236, Label 1\n",
            "  Trial 237: FIF idx 237, Label 3\n",
            "  Trial 238: FIF idx 238, Label 1\n",
            "  Trial 239: FIF idx 239, Label 2\n",
            "  Trial 240: FIF idx 240, Label 2\n",
            "  Trial 241: FIF idx 241, Label 0\n",
            "  Trial 242: FIF idx 242, Label 3\n",
            "  Trial 243: FIF idx 243, Label 1\n",
            "  Trial 244: FIF idx 244, Label 3\n",
            "  Trial 245: FIF idx 245, Label 0\n",
            "  Trial 246: FIF idx 246, Label 0\n",
            "  Trial 247: FIF idx 247, Label 2\n",
            "  Trial 248: FIF idx 248, Label 2\n",
            "  Trial 249: FIF idx 249, Label 1\n",
            "  Trial 250: FIF idx 250, Label 3\n",
            "  Trial 251: FIF idx 251, Label 1\n",
            "  Trial 252: FIF idx 252, Label 1\n",
            "  Trial 253: FIF idx 253, Label 0\n",
            "  Trial 254: FIF idx 254, Label 1\n",
            "  Trial 255: FIF idx 255, Label 3\n",
            "  Trial 256: FIF idx 256, Label 3\n",
            "  Trial 257: FIF idx 257, Label 1\n",
            "  Trial 258: FIF idx 258, Label 1\n",
            "  Trial 259: FIF idx 259, Label 1\n",
            "  Trial 260: FIF idx 260, Label 1\n",
            "  Trial 261: FIF idx 261, Label 3\n",
            "  Trial 262: FIF idx 262, Label 3\n",
            "  Trial 263: FIF idx 263, Label 2\n",
            "  Trial 264: FIF idx 264, Label 3\n",
            "  Trial 265: FIF idx 265, Label 0\n",
            "  Trial 266: FIF idx 266, Label 1\n",
            "  Trial 267: FIF idx 267, Label 2\n",
            "  Trial 268: FIF idx 268, Label 1\n",
            "  Trial 269: FIF idx 269, Label 0\n",
            "  Trial 270: FIF idx 270, Label 3\n",
            "  Trial 271: FIF idx 271, Label 0\n",
            "  Trial 272: FIF idx 272, Label 3\n",
            "  Trial 273: FIF idx 273, Label 0\n",
            "  Trial 274: FIF idx 274, Label 0\n",
            "  Trial 275: FIF idx 275, Label 0\n",
            "  Trial 276: FIF idx 276, Label 0\n",
            "  Trial 277: FIF idx 277, Label 2\n",
            "  Trial 278: FIF idx 278, Label 2\n",
            "  Trial 279: FIF idx 279, Label 3\n",
            "  Trial 280: FIF idx 280, Label 1\n",
            "  Trial 281: FIF idx 281, Label 2\n",
            "  Trial 282: FIF idx 282, Label 2\n",
            "  Trial 283: FIF idx 283, Label 2\n",
            "  Trial 284: FIF idx 284, Label 3\n",
            "  Trial 285: FIF idx 285, Label 2\n",
            "  Trial 286: FIF idx 286, Label 0\n",
            "  Trial 287: FIF idx 287, Label 2\n",
            "[OK] Subject 5 alignment check completed.\n",
            "Checking subject 6:\n",
            "  FIF file: /content/drive/MyDrive/project/dataset/MI/cleaned_data/second_session/A06E.fif\n",
            "  MAT file: /content/drive/MyDrive/project/dataset/MI/second_session_labels/A06E.mat\n",
            "  Trial 0: FIF idx 0, Label 0\n",
            "  Trial 1: FIF idx 1, Label 1\n",
            "  Trial 2: FIF idx 2, Label 1\n",
            "  Trial 3: FIF idx 3, Label 0\n",
            "  Trial 4: FIF idx 4, Label 1\n",
            "  Trial 5: FIF idx 5, Label 0\n",
            "  Trial 6: FIF idx 6, Label 1\n",
            "  Trial 7: FIF idx 7, Label 2\n",
            "  Trial 8: FIF idx 8, Label 1\n",
            "  Trial 9: FIF idx 9, Label 3\n",
            "  Trial 10: FIF idx 10, Label 0\n",
            "  Trial 11: FIF idx 11, Label 2\n",
            "  Trial 12: FIF idx 12, Label 1\n",
            "  Trial 13: FIF idx 13, Label 0\n",
            "  Trial 14: FIF idx 14, Label 3\n",
            "  Trial 15: FIF idx 15, Label 3\n",
            "  Trial 16: FIF idx 16, Label 3\n",
            "  Trial 17: FIF idx 17, Label 3\n",
            "  Trial 18: FIF idx 18, Label 3\n",
            "  Trial 19: FIF idx 19, Label 0\n",
            "  Trial 20: FIF idx 20, Label 2\n",
            "  Trial 21: FIF idx 21, Label 1\n",
            "  Trial 22: FIF idx 22, Label 0\n",
            "  Trial 23: FIF idx 23, Label 0\n",
            "  Trial 24: FIF idx 24, Label 2\n",
            "  Trial 25: FIF idx 25, Label 3\n",
            "  Trial 26: FIF idx 26, Label 0\n",
            "  Trial 27: FIF idx 27, Label 2\n",
            "  Trial 28: FIF idx 28, Label 2\n",
            "  Trial 29: FIF idx 29, Label 2\n",
            "  Trial 30: FIF idx 30, Label 0\n",
            "  Trial 31: FIF idx 31, Label 1\n",
            "  Trial 32: FIF idx 32, Label 0\n",
            "  Trial 33: FIF idx 33, Label 1\n",
            "  Trial 34: FIF idx 34, Label 1\n",
            "  Trial 35: FIF idx 35, Label 0\n",
            "  Trial 36: FIF idx 36, Label 1\n",
            "  Trial 37: FIF idx 37, Label 2\n",
            "  Trial 38: FIF idx 38, Label 1\n",
            "  Trial 39: FIF idx 39, Label 2\n",
            "  Trial 40: FIF idx 40, Label 2\n",
            "  Trial 41: FIF idx 41, Label 3\n",
            "  Trial 42: FIF idx 42, Label 2\n",
            "  Trial 43: FIF idx 43, Label 2\n",
            "  Trial 44: FIF idx 44, Label 3\n",
            "  Trial 45: FIF idx 45, Label 3\n",
            "  Trial 46: FIF idx 46, Label 3\n",
            "  Trial 47: FIF idx 47, Label 3\n",
            "  Trial 48: FIF idx 48, Label 3\n",
            "  Trial 49: FIF idx 49, Label 2\n",
            "  Trial 50: FIF idx 50, Label 1\n",
            "  Trial 51: FIF idx 51, Label 0\n",
            "  Trial 52: FIF idx 52, Label 0\n",
            "  Trial 53: FIF idx 53, Label 1\n",
            "  Trial 54: FIF idx 54, Label 2\n",
            "  Trial 55: FIF idx 55, Label 3\n",
            "  Trial 56: FIF idx 56, Label 1\n",
            "  Trial 57: FIF idx 57, Label 2\n",
            "  Trial 58: FIF idx 58, Label 0\n",
            "  Trial 59: FIF idx 59, Label 0\n",
            "  Trial 60: FIF idx 60, Label 0\n",
            "  Trial 61: FIF idx 61, Label 3\n",
            "  Trial 62: FIF idx 62, Label 1\n",
            "  Trial 63: FIF idx 63, Label 1\n",
            "  Trial 64: FIF idx 64, Label 0\n",
            "  Trial 65: FIF idx 65, Label 0\n",
            "  Trial 66: FIF idx 66, Label 2\n",
            "  Trial 67: FIF idx 67, Label 0\n",
            "  Trial 68: FIF idx 68, Label 1\n",
            "  Trial 69: FIF idx 69, Label 3\n",
            "  Trial 70: FIF idx 70, Label 3\n",
            "  Trial 71: FIF idx 71, Label 2\n",
            "  Trial 72: FIF idx 72, Label 0\n",
            "  Trial 73: FIF idx 73, Label 3\n",
            "  Trial 74: FIF idx 74, Label 3\n",
            "  Trial 75: FIF idx 75, Label 1\n",
            "  Trial 76: FIF idx 76, Label 3\n",
            "  Trial 77: FIF idx 77, Label 3\n",
            "  Trial 78: FIF idx 78, Label 1\n",
            "  Trial 79: FIF idx 79, Label 0\n",
            "  Trial 80: FIF idx 80, Label 1\n",
            "  Trial 81: FIF idx 81, Label 2\n",
            "  Trial 82: FIF idx 82, Label 2\n",
            "  Trial 83: FIF idx 83, Label 2\n",
            "  Trial 84: FIF idx 84, Label 3\n",
            "  Trial 85: FIF idx 85, Label 2\n",
            "  Trial 86: FIF idx 86, Label 0\n",
            "  Trial 87: FIF idx 87, Label 3\n",
            "  Trial 88: FIF idx 88, Label 1\n",
            "  Trial 89: FIF idx 89, Label 2\n",
            "  Trial 90: FIF idx 90, Label 1\n",
            "  Trial 91: FIF idx 91, Label 2\n",
            "  Trial 92: FIF idx 92, Label 3\n",
            "  Trial 93: FIF idx 93, Label 1\n",
            "  Trial 94: FIF idx 94, Label 2\n",
            "  Trial 95: FIF idx 95, Label 0\n",
            "  Trial 96: FIF idx 96, Label 0\n",
            "  Trial 97: FIF idx 97, Label 0\n",
            "  Trial 98: FIF idx 98, Label 3\n",
            "  Trial 99: FIF idx 99, Label 1\n",
            "  Trial 100: FIF idx 100, Label 0\n",
            "  Trial 101: FIF idx 101, Label 2\n",
            "  Trial 102: FIF idx 102, Label 0\n",
            "  Trial 103: FIF idx 103, Label 2\n",
            "  Trial 104: FIF idx 104, Label 1\n",
            "  Trial 105: FIF idx 105, Label 3\n",
            "  Trial 106: FIF idx 106, Label 0\n",
            "  Trial 107: FIF idx 107, Label 2\n",
            "  Trial 108: FIF idx 108, Label 2\n",
            "  Trial 109: FIF idx 109, Label 0\n",
            "  Trial 110: FIF idx 110, Label 2\n",
            "  Trial 111: FIF idx 111, Label 1\n",
            "  Trial 112: FIF idx 112, Label 3\n",
            "  Trial 113: FIF idx 113, Label 3\n",
            "  Trial 114: FIF idx 114, Label 3\n",
            "  Trial 115: FIF idx 115, Label 2\n",
            "  Trial 116: FIF idx 116, Label 0\n",
            "  Trial 117: FIF idx 117, Label 3\n",
            "  Trial 118: FIF idx 118, Label 1\n",
            "  Trial 119: FIF idx 119, Label 3\n",
            "  Trial 120: FIF idx 120, Label 1\n",
            "  Trial 121: FIF idx 121, Label 0\n",
            "  Trial 122: FIF idx 122, Label 2\n",
            "  Trial 123: FIF idx 123, Label 1\n",
            "  Trial 124: FIF idx 124, Label 0\n",
            "  Trial 125: FIF idx 125, Label 2\n",
            "  Trial 126: FIF idx 126, Label 2\n",
            "  Trial 127: FIF idx 127, Label 0\n",
            "  Trial 128: FIF idx 128, Label 2\n",
            "  Trial 129: FIF idx 129, Label 3\n",
            "  Trial 130: FIF idx 130, Label 3\n",
            "  Trial 131: FIF idx 131, Label 1\n",
            "  Trial 132: FIF idx 132, Label 0\n",
            "  Trial 133: FIF idx 133, Label 1\n",
            "  Trial 134: FIF idx 134, Label 3\n",
            "  Trial 135: FIF idx 135, Label 1\n",
            "  Trial 136: FIF idx 136, Label 3\n",
            "  Trial 137: FIF idx 137, Label 2\n",
            "  Trial 138: FIF idx 138, Label 1\n",
            "  Trial 139: FIF idx 139, Label 1\n",
            "  Trial 140: FIF idx 140, Label 1\n",
            "  Trial 141: FIF idx 141, Label 2\n",
            "  Trial 142: FIF idx 142, Label 3\n",
            "  Trial 143: FIF idx 143, Label 0\n",
            "  Trial 144: FIF idx 144, Label 1\n",
            "  Trial 145: FIF idx 145, Label 3\n",
            "  Trial 146: FIF idx 146, Label 0\n",
            "  Trial 147: FIF idx 147, Label 2\n",
            "  Trial 148: FIF idx 148, Label 2\n",
            "  Trial 149: FIF idx 149, Label 3\n",
            "  Trial 150: FIF idx 150, Label 0\n",
            "  Trial 151: FIF idx 151, Label 0\n",
            "  Trial 152: FIF idx 152, Label 2\n",
            "  Trial 153: FIF idx 153, Label 1\n",
            "  Trial 154: FIF idx 154, Label 3\n",
            "  Trial 155: FIF idx 155, Label 3\n",
            "  Trial 156: FIF idx 156, Label 3\n",
            "  Trial 157: FIF idx 157, Label 1\n",
            "  Trial 158: FIF idx 158, Label 0\n",
            "  Trial 159: FIF idx 159, Label 2\n",
            "  Trial 160: FIF idx 160, Label 1\n",
            "  Trial 161: FIF idx 161, Label 3\n",
            "  Trial 162: FIF idx 162, Label 0\n",
            "  Trial 163: FIF idx 163, Label 3\n",
            "  Trial 164: FIF idx 164, Label 2\n",
            "  Trial 165: FIF idx 165, Label 1\n",
            "  Trial 166: FIF idx 166, Label 3\n",
            "  Trial 167: FIF idx 167, Label 3\n",
            "  Trial 168: FIF idx 168, Label 0\n",
            "  Trial 169: FIF idx 169, Label 1\n",
            "  Trial 170: FIF idx 170, Label 1\n",
            "  Trial 171: FIF idx 171, Label 2\n",
            "  Trial 172: FIF idx 172, Label 3\n",
            "  Trial 173: FIF idx 173, Label 1\n",
            "  Trial 174: FIF idx 174, Label 0\n",
            "  Trial 175: FIF idx 175, Label 0\n",
            "  Trial 176: FIF idx 176, Label 3\n",
            "  Trial 177: FIF idx 177, Label 1\n",
            "  Trial 178: FIF idx 178, Label 0\n",
            "  Trial 179: FIF idx 179, Label 2\n",
            "  Trial 180: FIF idx 180, Label 1\n",
            "  Trial 181: FIF idx 181, Label 1\n",
            "  Trial 182: FIF idx 182, Label 2\n",
            "  Trial 183: FIF idx 183, Label 0\n",
            "  Trial 184: FIF idx 184, Label 3\n",
            "  Trial 185: FIF idx 185, Label 2\n",
            "  Trial 186: FIF idx 186, Label 2\n",
            "  Trial 187: FIF idx 187, Label 2\n",
            "  Trial 188: FIF idx 188, Label 2\n",
            "  Trial 189: FIF idx 189, Label 0\n",
            "  Trial 190: FIF idx 190, Label 1\n",
            "  Trial 191: FIF idx 191, Label 0\n",
            "  Trial 192: FIF idx 192, Label 1\n",
            "  Trial 193: FIF idx 193, Label 0\n",
            "  Trial 194: FIF idx 194, Label 0\n",
            "  Trial 195: FIF idx 195, Label 2\n",
            "  Trial 196: FIF idx 196, Label 2\n",
            "  Trial 197: FIF idx 197, Label 1\n",
            "  Trial 198: FIF idx 198, Label 2\n",
            "  Trial 199: FIF idx 199, Label 3\n",
            "  Trial 200: FIF idx 200, Label 0\n",
            "  Trial 201: FIF idx 201, Label 3\n",
            "  Trial 202: FIF idx 202, Label 0\n",
            "  Trial 203: FIF idx 203, Label 0\n",
            "  Trial 204: FIF idx 204, Label 1\n",
            "  Trial 205: FIF idx 205, Label 3\n",
            "  Trial 206: FIF idx 206, Label 2\n",
            "  Trial 207: FIF idx 207, Label 1\n",
            "  Trial 208: FIF idx 208, Label 3\n",
            "  Trial 209: FIF idx 209, Label 2\n",
            "  Trial 210: FIF idx 210, Label 3\n",
            "  Trial 211: FIF idx 211, Label 2\n",
            "  Trial 212: FIF idx 212, Label 3\n",
            "  Trial 213: FIF idx 213, Label 1\n",
            "  Trial 214: FIF idx 214, Label 1\n",
            "  Trial 215: FIF idx 215, Label 3\n",
            "  Trial 216: FIF idx 216, Label 0\n",
            "  Trial 217: FIF idx 217, Label 1\n",
            "  Trial 218: FIF idx 218, Label 1\n",
            "  Trial 219: FIF idx 219, Label 1\n",
            "  Trial 220: FIF idx 220, Label 2\n",
            "  Trial 221: FIF idx 221, Label 3\n",
            "  Trial 222: FIF idx 222, Label 0\n",
            "  Trial 223: FIF idx 223, Label 3\n",
            "  Trial 224: FIF idx 224, Label 0\n",
            "  Trial 225: FIF idx 225, Label 2\n",
            "  Trial 226: FIF idx 226, Label 0\n",
            "  Trial 227: FIF idx 227, Label 3\n",
            "  Trial 228: FIF idx 228, Label 0\n",
            "  Trial 229: FIF idx 229, Label 2\n",
            "  Trial 230: FIF idx 230, Label 0\n",
            "  Trial 231: FIF idx 231, Label 1\n",
            "  Trial 232: FIF idx 232, Label 2\n",
            "  Trial 233: FIF idx 233, Label 2\n",
            "  Trial 234: FIF idx 234, Label 3\n",
            "  Trial 235: FIF idx 235, Label 0\n",
            "  Trial 236: FIF idx 236, Label 1\n",
            "  Trial 237: FIF idx 237, Label 3\n",
            "  Trial 238: FIF idx 238, Label 1\n",
            "  Trial 239: FIF idx 239, Label 2\n",
            "  Trial 240: FIF idx 240, Label 2\n",
            "  Trial 241: FIF idx 241, Label 0\n",
            "  Trial 242: FIF idx 242, Label 3\n",
            "  Trial 243: FIF idx 243, Label 1\n",
            "  Trial 244: FIF idx 244, Label 3\n",
            "  Trial 245: FIF idx 245, Label 0\n",
            "  Trial 246: FIF idx 246, Label 0\n",
            "  Trial 247: FIF idx 247, Label 2\n",
            "  Trial 248: FIF idx 248, Label 2\n",
            "  Trial 249: FIF idx 249, Label 1\n",
            "  Trial 250: FIF idx 250, Label 3\n",
            "  Trial 251: FIF idx 251, Label 1\n",
            "  Trial 252: FIF idx 252, Label 1\n",
            "  Trial 253: FIF idx 253, Label 0\n",
            "  Trial 254: FIF idx 254, Label 1\n",
            "  Trial 255: FIF idx 255, Label 3\n",
            "  Trial 256: FIF idx 256, Label 3\n",
            "  Trial 257: FIF idx 257, Label 1\n",
            "  Trial 258: FIF idx 258, Label 1\n",
            "  Trial 259: FIF idx 259, Label 1\n",
            "  Trial 260: FIF idx 260, Label 1\n",
            "  Trial 261: FIF idx 261, Label 3\n",
            "  Trial 262: FIF idx 262, Label 3\n",
            "  Trial 263: FIF idx 263, Label 2\n",
            "  Trial 264: FIF idx 264, Label 3\n",
            "  Trial 265: FIF idx 265, Label 0\n",
            "  Trial 266: FIF idx 266, Label 1\n",
            "  Trial 267: FIF idx 267, Label 2\n",
            "  Trial 268: FIF idx 268, Label 1\n",
            "  Trial 269: FIF idx 269, Label 0\n",
            "  Trial 270: FIF idx 270, Label 3\n",
            "  Trial 271: FIF idx 271, Label 0\n",
            "  Trial 272: FIF idx 272, Label 3\n",
            "  Trial 273: FIF idx 273, Label 0\n",
            "  Trial 274: FIF idx 274, Label 0\n",
            "  Trial 275: FIF idx 275, Label 0\n",
            "  Trial 276: FIF idx 276, Label 0\n",
            "  Trial 277: FIF idx 277, Label 2\n",
            "  Trial 278: FIF idx 278, Label 2\n",
            "  Trial 279: FIF idx 279, Label 3\n",
            "  Trial 280: FIF idx 280, Label 1\n",
            "  Trial 281: FIF idx 281, Label 2\n",
            "  Trial 282: FIF idx 282, Label 2\n",
            "  Trial 283: FIF idx 283, Label 2\n",
            "  Trial 284: FIF idx 284, Label 3\n",
            "  Trial 285: FIF idx 285, Label 2\n",
            "  Trial 286: FIF idx 286, Label 0\n",
            "  Trial 287: FIF idx 287, Label 2\n",
            "[OK] Subject 6 alignment check completed.\n"
          ]
        },
        {
          "output_type": "stream",
          "name": "stderr",
          "text": [
            "<ipython-input-34-004ba475f36b>:11: RuntimeWarning: This filename (/content/drive/MyDrive/project/dataset/MI/cleaned_data/second_session/A05E.fif) does not conform to MNE naming conventions. All raw files should end with raw.fif, raw_sss.fif, raw_tsss.fif, _meg.fif, _eeg.fif, _ieeg.fif, raw.fif.gz, raw_sss.fif.gz, raw_tsss.fif.gz, _meg.fif.gz, _eeg.fif.gz or _ieeg.fif.gz\n",
            "  raw = mne.io.read_raw_fif(fif_path, preload=False, verbose=False)\n",
            "<ipython-input-34-004ba475f36b>:11: RuntimeWarning: This filename (/content/drive/MyDrive/project/dataset/MI/cleaned_data/second_session/A06E.fif) does not conform to MNE naming conventions. All raw files should end with raw.fif, raw_sss.fif, raw_tsss.fif, _meg.fif, _eeg.fif, _ieeg.fif, raw.fif.gz, raw_sss.fif.gz, raw_tsss.fif.gz, _meg.fif.gz, _eeg.fif.gz or _ieeg.fif.gz\n",
            "  raw = mne.io.read_raw_fif(fif_path, preload=False, verbose=False)\n"
          ]
        }
      ]
    },
    {
      "cell_type": "markdown",
      "source": [
        "#split data"
      ],
      "metadata": {
        "id": "P2anXwHY_go7"
      },
      "id": "P2anXwHY_go7"
    },
    {
      "cell_type": "markdown",
      "source": [
        "We retain the original SSVEP data preprocessing procedures, including:\n",
        "\n",
        "    - Bandpass filtering using a Butterworth filter (4–40 Hz), applied with zero-phase (forward and reverse) IIR method.\n",
        "    - Notch filtering at 50 Hz to remove power line noise.\n",
        "    - Manual removal of EOG channels: ['EOG-left', 'EOG-central', 'EOG-right'].\n",
        "    - Epoch segmentation: trial-wise slicing into 0–4 s windows based on event annotations.\n",
        "    - Sampling rate standardized to 250 Hz (original dataset).\n",
        "Unlike the original setup where models are trained separately for each subject, we train a single model jointly across all subjects by concatenating all subjects' data."
      ],
      "metadata": {
        "id": "dPlrZ7Lez1XQ"
      },
      "id": "dPlrZ7Lez1XQ"
    },
    {
      "cell_type": "code",
      "source": [
        "# Define a function to perform z-score normalization on the data\n",
        "def zscore_norm(data):\n",
        "    # Calculate the mean and standard deviation for each channel in each batch\n",
        "    mean = torch.mean(data, dim=(1, 2))\n",
        "    std = torch.std(data, dim=(1, 2))\n",
        "\n",
        "    # Subtract the mean from each channel in each batch and divide by the standard deviation\n",
        "    norm_data = (data - mean[:, None, None]) / std[:, None, None]\n",
        "\n",
        "    return norm_data\n",
        "\n",
        "\n",
        "# Define a function to perform min-max normalization on the data\n",
        "def minmax_norm(data):\n",
        "    # Calculate the minimum and maximum values for each channel and sequence in the batch\n",
        "    min_vals = torch.min(data, dim=-1)[0]\n",
        "    max_vals = torch.max(data, dim=-1)[0]\n",
        "\n",
        "    # Scale the data to the range [0, 1]\n",
        "    norm_data = (data - min_vals.unsqueeze(-1)) / (\n",
        "        max_vals.unsqueeze(-1) - min_vals.unsqueeze(-1)\n",
        "    )\n",
        "\n",
        "    return norm_data"
      ],
      "metadata": {
        "id": "FD4sHQTI0fua"
      },
      "execution_count": null,
      "outputs": [],
      "id": "FD4sHQTI0fua"
    },
    {
      "cell_type": "code",
      "source": [
        "class EEGDataset(Dataset):\n",
        "    \"\"\"Characterizes an EEG dataset for PyTorch (used for t-SNE plotting).\"\"\"\n",
        "\n",
        "    def __init__(self, X, Y, subject_ids=None, transform=None):\n",
        "        self.X = X                            # (n_epochs, n_channels, n_times)\n",
        "        self.Y = Y                            # (n_epochs,)\n",
        "        self.subject_ids = (subject_ids\n",
        "                            if subject_ids is not None\n",
        "                            else torch.zeros(len(Y), dtype=torch.long))\n",
        "        self.transform = transform\n",
        "\n",
        "    def __len__(self):\n",
        "        return len(self.X)\n",
        "\n",
        "    def __getitem__(self, index):\n",
        "        x   = self.X[index]\n",
        "        y   = self.Y[index]\n",
        "        sid = self.subject_ids[index]\n",
        "        if self.transform:\n",
        "            x = self.transform(x)\n",
        "        return x.squeeze(), y, sid\n",
        "\n",
        "\n",
        "def split_by_class_and_run(Y, seed=44, trials_per_run=12, n_classes=4, n_runs=6, train_count=8, val_count=2, test_count=2, num_sessions=2):\n",
        "    random.seed(seed)\n",
        "    train_idx, val_idx, test_idx = [], [], []\n",
        "    for cls in range(n_classes):\n",
        "        cls_indices = (Y == cls).nonzero(as_tuple=True)[0]\n",
        "        expected_count = trials_per_run * n_runs * num_sessions\n",
        "        assert len(cls_indices) == expected_count, \\\n",
        "            f\"Class {cls} expected {expected_count}, got {len(cls_indices)}\"\n",
        "\n",
        "        for run in range(n_runs):\n",
        "            run_trials = cls_indices[run * trials_per_run: (run + 1) * trials_per_run].tolist()\n",
        "            random.shuffle(run_trials)\n",
        "            train_idx.extend(run_trials[:train_count])\n",
        "            val_idx.extend(run_trials[train_count:train_count + val_count])\n",
        "            test_idx.extend(run_trials[train_count + val_count:train_count + val_count + test_count])\n",
        "    return train_idx, val_idx, test_idx\n",
        "\n",
        "\n",
        "def load_data_by_session(root_dir, subject_id, session_folders, label_dir=label_dir):\n",
        "    \"\"\"\n",
        "    root_dir/\n",
        "      first_session/\n",
        "        A01T_cleaned.fif … A09T_cleaned.fif\n",
        "      second_session/\n",
        "        A01E_cleaned.fif … A09E_cleaned.fif\n",
        "\n",
        "    session_folders: list of folder names, e.g. [\"first_session\"] or [\"second_session\"]\n",
        "    \"\"\"\n",
        "    X_list, Y_list = [], []\n",
        "\n",
        "    for folder in session_folders:\n",
        "        prefix = \"T\" if folder == \"first_session\" else \"E\"\n",
        "        fname = f\"A{subject_id:02d}{prefix}.fif\"\n",
        "        fpath = os.path.join(root_dir, folder, fname)\n",
        "        raw = mne.io.read_raw_fif(fpath, preload=True, verbose=False)\n",
        "\n",
        "        if folder == \"first_session\":\n",
        "            # MI cue as '769'~'772'，mapping as 0–3 labels\n",
        "            events, event_id = mne.events_from_annotations(raw, verbose=False)\n",
        "            motor_keys = ['769', '770', '771', '772']\n",
        "            motor_event_id = {k: v for k, v in event_id.items() if k in motor_keys}\n",
        "            if len(motor_event_id) < 4:\n",
        "                raise ValueError(f\"{fname} missing MI cues. Found: {event_id}\")\n",
        "            events = np.array([e for e in events if e[2] in motor_event_id.values()])\n",
        "            label_map = {\n",
        "                motor_event_id['769']: 0,\n",
        "                motor_event_id['770']: 1,\n",
        "                motor_event_id['771']: 2,\n",
        "                motor_event_id['772']: 3,\n",
        "            }\n",
        "            labels = np.array([label_map[e[-1]] for e in events])\n",
        "\n",
        "        elif folder == \"second_session\":\n",
        "            assert label_dir is not None, \"Must provide label_dir for second_session\"\n",
        "            mat_path = os.path.join(label_dir, f\"A{subject_id:02d}E.mat\")\n",
        "            mat = scipy.io.loadmat(mat_path)\n",
        "            label_key = [k for k in mat if \"label\" in k.lower() and not k.startswith(\"__\")][0]\n",
        "            labels = mat[label_key].squeeze()\n",
        "            assert labels.shape[0] == 288, f\"{mat_path} expected 288 labels, got {labels.shape}\"\n",
        "            labels = labels - 1  # Convert from 1–4 to 0–3\n",
        "\n",
        "            # cue '783' as unknown MI tasks\n",
        "            mask = raw.annotations.description == '783'\n",
        "            assert mask.sum() == 288, f\"Expected 288 '783' cue annotations, got {mask.sum()}\"\n",
        "\n",
        "            cue_annot = raw.annotations[mask]\n",
        "            raw.set_annotations(cue_annot)\n",
        "            events, _ = mne.events_from_annotations(raw, verbose=False)\n",
        "\n",
        "        epochs = mne.Epochs(\n",
        "            raw, events,\n",
        "            tmin=0.0,\n",
        "            tmax=4.0,\n",
        "            baseline=None,\n",
        "            preload=True,\n",
        "            verbose=False,\n",
        "            event_repeated=\"drop\"\n",
        "        )\n",
        "        data = epochs.get_data()\n",
        "        X_list.append(torch.from_numpy(data).float())\n",
        "        Y_list.append(torch.from_numpy(labels).long())\n",
        "\n",
        "    X = torch.cat(X_list, dim=0)\n",
        "    Y = torch.cat(Y_list, dim=0)\n",
        "    return X, Y\n",
        "\n",
        "def load_split_dataset(root_dir, num_seen, seed=43):\n",
        "    random.seed(seed)\n",
        "\n",
        "    all_subjects   = list(range(1, 10))\n",
        "    seen_subjects  = random.sample(all_subjects, num_seen)\n",
        "    unseen_subjects = [sid for sid in all_subjects if sid not in seen_subjects]\n",
        "\n",
        "    split_cfg = {\n",
        "        \"train_val_test1\": [(sid, [\"first_session\", \"second_session\"]) for sid in seen_subjects],\n",
        "        \"test2\":     [(sid, [\"first_session\", \"second_session\"]) for sid in unseen_subjects],\n",
        "    }\n",
        "\n",
        "    print(f\"[Split] Seen (train/val/test1): {seen_subjects}\")\n",
        "    print(f\"[Split] Unseen (test2):        {unseen_subjects}\")\n",
        "\n",
        "    loaders = {}\n",
        "    subject_id_dict = {}\n",
        "\n",
        "    # load train_val data first\n",
        "    X_train_all, Y_train_all, train_subject_ids = [], [], []\n",
        "    X_val_all, Y_val_all, val_subject_ids = [], [], []\n",
        "    X_test1_all, Y_test1_all, test1_subject_ids = [], [], []\n",
        "\n",
        "    for sid in seen_subjects:\n",
        "        for session in [\"first_session\", \"second_session\"]:\n",
        "            X, Y = load_data_by_session(root_dir, sid, [session])\n",
        "            train_idx, val_idx, test_idx = split_by_class_and_run(\n",
        "                Y, seed=seed, num_sessions=1\n",
        "            )\n",
        "\n",
        "            X_train_all.append(X[train_idx])\n",
        "            Y_train_all.append(Y[train_idx])\n",
        "            train_subject_ids.extend([sid] * len(train_idx))\n",
        "\n",
        "            X_val_all.append(X[val_idx])\n",
        "            Y_val_all.append(Y[val_idx])\n",
        "            val_subject_ids.extend([sid] * len(val_idx))\n",
        "\n",
        "            X_test1_all.append(X[test_idx])\n",
        "            Y_test1_all.append(Y[test_idx])\n",
        "            test1_subject_ids.extend([sid] * len(test_idx))\n",
        "\n",
        "    loaders[\"train\"] = DataLoader(\n",
        "        EEGDataset(torch.cat(X_train_all), torch.cat(Y_train_all),\n",
        "                   subject_ids=torch.tensor(train_subject_ids, dtype=torch.long)),\n",
        "        batch_size=32, shuffle=True)\n",
        "    subject_id_dict[\"train\"] = torch.tensor(train_subject_ids, dtype=torch.long)\n",
        "\n",
        "    loaders[\"val\"] = DataLoader(\n",
        "        EEGDataset(torch.cat(X_val_all), torch.cat(Y_val_all),\n",
        "                   subject_ids=torch.tensor(val_subject_ids, dtype=torch.long)),\n",
        "        batch_size=32, shuffle=False)\n",
        "    subject_id_dict[\"val\"] = torch.tensor(val_subject_ids, dtype=torch.long)\n",
        "\n",
        "    loaders[\"test1\"] = DataLoader(\n",
        "        EEGDataset(torch.cat(X_test1_all), torch.cat(Y_test1_all),\n",
        "                   subject_ids=torch.tensor(test1_subject_ids, dtype=torch.long)),\n",
        "        batch_size=32, shuffle=False)\n",
        "    subject_id_dict[\"test1\"] = torch.tensor(test1_subject_ids, dtype=torch.long)\n",
        "\n",
        "    # Process unseen subjects: use all trials\n",
        "    X_all, Y_all, subject_ids = [], [], []\n",
        "    for sid in unseen_subjects:\n",
        "        X, Y = load_data_by_session(root_dir, sid, [\"first_session\", \"second_session\"])\n",
        "        X_all.append(X)\n",
        "        Y_all.append(Y)\n",
        "        subject_ids.extend([sid] * len(Y))\n",
        "\n",
        "    loaders[\"test2\"] = DataLoader(\n",
        "        EEGDataset(torch.cat(X_all), torch.cat(Y_all),\n",
        "                   subject_ids=torch.tensor(subject_ids, dtype=torch.long)),\n",
        "        batch_size=32, shuffle=False)\n",
        "    subject_id_dict[\"test2\"] = torch.tensor(subject_ids, dtype=torch.long)\n",
        "\n",
        "    for split in [\"train\", \"val\", \"test1\", \"test2\"]:\n",
        "        subj_tensor = subject_id_dict[split]\n",
        "        total_trials = subj_tensor.shape[0]\n",
        "        unique_subjects = subj_tensor.unique()\n",
        "        print(f\"\\n[Check] Split: {split}\")\n",
        "        print(f\"  Total trials: {total_trials}\")\n",
        "        print(f\"  Unique subjects: {list(unique_subjects.numpy())}\")\n",
        "        for sid in unique_subjects:\n",
        "            sid_count = (subj_tensor == sid).sum().item()\n",
        "            print(f\"    Subject {sid.item()}: {sid_count} trials\")\n",
        "\n",
        "    return loaders"
      ],
      "metadata": {
        "id": "DKdUsC0vdfAq"
      },
      "execution_count": null,
      "outputs": [],
      "id": "DKdUsC0vdfAq"
    },
    {
      "cell_type": "code",
      "source": [
        "seed = 44\n",
        "random.seed(seed)\n",
        "torch.manual_seed(seed)\n",
        "print(\"Random Seed: \", seed)"
      ],
      "metadata": {
        "colab": {
          "base_uri": "https://localhost:8080/"
        },
        "id": "R1jZy_mPsxNI",
        "outputId": "49877e51-628c-4342-f963-d58a4d118868"
      },
      "execution_count": null,
      "outputs": [
        {
          "output_type": "stream",
          "name": "stdout",
          "text": [
            "Random Seed:  44\n"
          ]
        }
      ],
      "id": "R1jZy_mPsxNI"
    },
    {
      "cell_type": "code",
      "source": [
        "subject_chars_dir='/content/drive/MyDrive/project/dataset/MI/cleaned_data' # Where to store all character data\n",
        "subject_ids = list(range(1, 10)) #35 samples + 1\n",
        "\n",
        "device = torch.device(\"cuda\" if torch.cuda.is_available() else \"cpu\")\n",
        "batch_size = 32\n",
        "batch_size2 = 260\n",
        "seed = 44 #same as the training\n",
        "shuffle = True\n",
        "\n",
        "# load all subjects' data\n",
        "loaders = load_split_dataset(subject_chars_dir, num_seen=7, seed=seed)\n",
        "train_loader = loaders[\"train\"]\n",
        "val_loader = loaders[\"val\"]\n",
        "test1_loader = loaders[\"test1\"]\n",
        "test2_loader = loaders[\"test2\"]\n",
        "train_iter = iter(train_loader)\n"
      ],
      "metadata": {
        "id": "seWeK5dArjjM",
        "colab": {
          "base_uri": "https://localhost:8080/"
        },
        "outputId": "2de9a9f3-84e3-4bcf-d043-9fc8c25df7a8"
      },
      "id": "seWeK5dArjjM",
      "execution_count": null,
      "outputs": [
        {
          "output_type": "stream",
          "name": "stdout",
          "text": [
            "[Split] Seen (train/val/test1): [7, 2, 8, 4, 9, 3, 1]\n",
            "[Split] Unseen (test2):        [5, 6]\n"
          ]
        },
        {
          "output_type": "stream",
          "name": "stderr",
          "text": [
            "<ipython-input-38-35fca0330f91>:58: RuntimeWarning: This filename (/content/drive/MyDrive/project/dataset/MI/cleaned_data/first_session/A07T.fif) does not conform to MNE naming conventions. All raw files should end with raw.fif, raw_sss.fif, raw_tsss.fif, _meg.fif, _eeg.fif, _ieeg.fif, raw.fif.gz, raw_sss.fif.gz, raw_tsss.fif.gz, _meg.fif.gz, _eeg.fif.gz or _ieeg.fif.gz\n",
            "  raw = mne.io.read_raw_fif(fpath, preload=True, verbose=False)\n",
            "<ipython-input-38-35fca0330f91>:58: RuntimeWarning: This filename (/content/drive/MyDrive/project/dataset/MI/cleaned_data/second_session/A07E.fif) does not conform to MNE naming conventions. All raw files should end with raw.fif, raw_sss.fif, raw_tsss.fif, _meg.fif, _eeg.fif, _ieeg.fif, raw.fif.gz, raw_sss.fif.gz, raw_tsss.fif.gz, _meg.fif.gz, _eeg.fif.gz or _ieeg.fif.gz\n",
            "  raw = mne.io.read_raw_fif(fpath, preload=True, verbose=False)\n",
            "<ipython-input-38-35fca0330f91>:58: RuntimeWarning: This filename (/content/drive/MyDrive/project/dataset/MI/cleaned_data/first_session/A02T.fif) does not conform to MNE naming conventions. All raw files should end with raw.fif, raw_sss.fif, raw_tsss.fif, _meg.fif, _eeg.fif, _ieeg.fif, raw.fif.gz, raw_sss.fif.gz, raw_tsss.fif.gz, _meg.fif.gz, _eeg.fif.gz or _ieeg.fif.gz\n",
            "  raw = mne.io.read_raw_fif(fpath, preload=True, verbose=False)\n",
            "<ipython-input-38-35fca0330f91>:58: RuntimeWarning: This filename (/content/drive/MyDrive/project/dataset/MI/cleaned_data/second_session/A02E.fif) does not conform to MNE naming conventions. All raw files should end with raw.fif, raw_sss.fif, raw_tsss.fif, _meg.fif, _eeg.fif, _ieeg.fif, raw.fif.gz, raw_sss.fif.gz, raw_tsss.fif.gz, _meg.fif.gz, _eeg.fif.gz or _ieeg.fif.gz\n",
            "  raw = mne.io.read_raw_fif(fpath, preload=True, verbose=False)\n",
            "<ipython-input-38-35fca0330f91>:58: RuntimeWarning: This filename (/content/drive/MyDrive/project/dataset/MI/cleaned_data/first_session/A08T.fif) does not conform to MNE naming conventions. All raw files should end with raw.fif, raw_sss.fif, raw_tsss.fif, _meg.fif, _eeg.fif, _ieeg.fif, raw.fif.gz, raw_sss.fif.gz, raw_tsss.fif.gz, _meg.fif.gz, _eeg.fif.gz or _ieeg.fif.gz\n",
            "  raw = mne.io.read_raw_fif(fpath, preload=True, verbose=False)\n",
            "<ipython-input-38-35fca0330f91>:58: RuntimeWarning: This filename (/content/drive/MyDrive/project/dataset/MI/cleaned_data/second_session/A08E.fif) does not conform to MNE naming conventions. All raw files should end with raw.fif, raw_sss.fif, raw_tsss.fif, _meg.fif, _eeg.fif, _ieeg.fif, raw.fif.gz, raw_sss.fif.gz, raw_tsss.fif.gz, _meg.fif.gz, _eeg.fif.gz or _ieeg.fif.gz\n",
            "  raw = mne.io.read_raw_fif(fpath, preload=True, verbose=False)\n",
            "<ipython-input-38-35fca0330f91>:58: RuntimeWarning: This filename (/content/drive/MyDrive/project/dataset/MI/cleaned_data/first_session/A04T.fif) does not conform to MNE naming conventions. All raw files should end with raw.fif, raw_sss.fif, raw_tsss.fif, _meg.fif, _eeg.fif, _ieeg.fif, raw.fif.gz, raw_sss.fif.gz, raw_tsss.fif.gz, _meg.fif.gz, _eeg.fif.gz or _ieeg.fif.gz\n",
            "  raw = mne.io.read_raw_fif(fpath, preload=True, verbose=False)\n",
            "<ipython-input-38-35fca0330f91>:58: RuntimeWarning: This filename (/content/drive/MyDrive/project/dataset/MI/cleaned_data/second_session/A04E.fif) does not conform to MNE naming conventions. All raw files should end with raw.fif, raw_sss.fif, raw_tsss.fif, _meg.fif, _eeg.fif, _ieeg.fif, raw.fif.gz, raw_sss.fif.gz, raw_tsss.fif.gz, _meg.fif.gz, _eeg.fif.gz or _ieeg.fif.gz\n",
            "  raw = mne.io.read_raw_fif(fpath, preload=True, verbose=False)\n",
            "<ipython-input-38-35fca0330f91>:58: RuntimeWarning: This filename (/content/drive/MyDrive/project/dataset/MI/cleaned_data/first_session/A09T.fif) does not conform to MNE naming conventions. All raw files should end with raw.fif, raw_sss.fif, raw_tsss.fif, _meg.fif, _eeg.fif, _ieeg.fif, raw.fif.gz, raw_sss.fif.gz, raw_tsss.fif.gz, _meg.fif.gz, _eeg.fif.gz or _ieeg.fif.gz\n",
            "  raw = mne.io.read_raw_fif(fpath, preload=True, verbose=False)\n",
            "<ipython-input-38-35fca0330f91>:58: RuntimeWarning: This filename (/content/drive/MyDrive/project/dataset/MI/cleaned_data/second_session/A09E.fif) does not conform to MNE naming conventions. All raw files should end with raw.fif, raw_sss.fif, raw_tsss.fif, _meg.fif, _eeg.fif, _ieeg.fif, raw.fif.gz, raw_sss.fif.gz, raw_tsss.fif.gz, _meg.fif.gz, _eeg.fif.gz or _ieeg.fif.gz\n",
            "  raw = mne.io.read_raw_fif(fpath, preload=True, verbose=False)\n",
            "<ipython-input-38-35fca0330f91>:58: RuntimeWarning: This filename (/content/drive/MyDrive/project/dataset/MI/cleaned_data/first_session/A03T.fif) does not conform to MNE naming conventions. All raw files should end with raw.fif, raw_sss.fif, raw_tsss.fif, _meg.fif, _eeg.fif, _ieeg.fif, raw.fif.gz, raw_sss.fif.gz, raw_tsss.fif.gz, _meg.fif.gz, _eeg.fif.gz or _ieeg.fif.gz\n",
            "  raw = mne.io.read_raw_fif(fpath, preload=True, verbose=False)\n",
            "<ipython-input-38-35fca0330f91>:58: RuntimeWarning: This filename (/content/drive/MyDrive/project/dataset/MI/cleaned_data/second_session/A03E.fif) does not conform to MNE naming conventions. All raw files should end with raw.fif, raw_sss.fif, raw_tsss.fif, _meg.fif, _eeg.fif, _ieeg.fif, raw.fif.gz, raw_sss.fif.gz, raw_tsss.fif.gz, _meg.fif.gz, _eeg.fif.gz or _ieeg.fif.gz\n",
            "  raw = mne.io.read_raw_fif(fpath, preload=True, verbose=False)\n",
            "<ipython-input-38-35fca0330f91>:58: RuntimeWarning: This filename (/content/drive/MyDrive/project/dataset/MI/cleaned_data/first_session/A01T.fif) does not conform to MNE naming conventions. All raw files should end with raw.fif, raw_sss.fif, raw_tsss.fif, _meg.fif, _eeg.fif, _ieeg.fif, raw.fif.gz, raw_sss.fif.gz, raw_tsss.fif.gz, _meg.fif.gz, _eeg.fif.gz or _ieeg.fif.gz\n",
            "  raw = mne.io.read_raw_fif(fpath, preload=True, verbose=False)\n",
            "<ipython-input-38-35fca0330f91>:58: RuntimeWarning: This filename (/content/drive/MyDrive/project/dataset/MI/cleaned_data/second_session/A01E.fif) does not conform to MNE naming conventions. All raw files should end with raw.fif, raw_sss.fif, raw_tsss.fif, _meg.fif, _eeg.fif, _ieeg.fif, raw.fif.gz, raw_sss.fif.gz, raw_tsss.fif.gz, _meg.fif.gz, _eeg.fif.gz or _ieeg.fif.gz\n",
            "  raw = mne.io.read_raw_fif(fpath, preload=True, verbose=False)\n",
            "<ipython-input-38-35fca0330f91>:58: RuntimeWarning: This filename (/content/drive/MyDrive/project/dataset/MI/cleaned_data/first_session/A05T.fif) does not conform to MNE naming conventions. All raw files should end with raw.fif, raw_sss.fif, raw_tsss.fif, _meg.fif, _eeg.fif, _ieeg.fif, raw.fif.gz, raw_sss.fif.gz, raw_tsss.fif.gz, _meg.fif.gz, _eeg.fif.gz or _ieeg.fif.gz\n",
            "  raw = mne.io.read_raw_fif(fpath, preload=True, verbose=False)\n",
            "<ipython-input-38-35fca0330f91>:58: RuntimeWarning: This filename (/content/drive/MyDrive/project/dataset/MI/cleaned_data/second_session/A05E.fif) does not conform to MNE naming conventions. All raw files should end with raw.fif, raw_sss.fif, raw_tsss.fif, _meg.fif, _eeg.fif, _ieeg.fif, raw.fif.gz, raw_sss.fif.gz, raw_tsss.fif.gz, _meg.fif.gz, _eeg.fif.gz or _ieeg.fif.gz\n",
            "  raw = mne.io.read_raw_fif(fpath, preload=True, verbose=False)\n",
            "<ipython-input-38-35fca0330f91>:58: RuntimeWarning: This filename (/content/drive/MyDrive/project/dataset/MI/cleaned_data/first_session/A06T.fif) does not conform to MNE naming conventions. All raw files should end with raw.fif, raw_sss.fif, raw_tsss.fif, _meg.fif, _eeg.fif, _ieeg.fif, raw.fif.gz, raw_sss.fif.gz, raw_tsss.fif.gz, _meg.fif.gz, _eeg.fif.gz or _ieeg.fif.gz\n",
            "  raw = mne.io.read_raw_fif(fpath, preload=True, verbose=False)\n",
            "<ipython-input-38-35fca0330f91>:58: RuntimeWarning: This filename (/content/drive/MyDrive/project/dataset/MI/cleaned_data/second_session/A06E.fif) does not conform to MNE naming conventions. All raw files should end with raw.fif, raw_sss.fif, raw_tsss.fif, _meg.fif, _eeg.fif, _ieeg.fif, raw.fif.gz, raw_sss.fif.gz, raw_tsss.fif.gz, _meg.fif.gz, _eeg.fif.gz or _ieeg.fif.gz\n",
            "  raw = mne.io.read_raw_fif(fpath, preload=True, verbose=False)\n"
          ]
        },
        {
          "output_type": "stream",
          "name": "stdout",
          "text": [
            "\n",
            "[Check] Split: train\n",
            "  Total trials: 2688\n",
            "  Unique subjects: [1, 2, 3, 4, 7, 8, 9]\n",
            "    Subject 1: 384 trials\n",
            "    Subject 2: 384 trials\n",
            "    Subject 3: 384 trials\n",
            "    Subject 4: 384 trials\n",
            "    Subject 7: 384 trials\n",
            "    Subject 8: 384 trials\n",
            "    Subject 9: 384 trials\n",
            "\n",
            "[Check] Split: val\n",
            "  Total trials: 672\n",
            "  Unique subjects: [1, 2, 3, 4, 7, 8, 9]\n",
            "    Subject 1: 96 trials\n",
            "    Subject 2: 96 trials\n",
            "    Subject 3: 96 trials\n",
            "    Subject 4: 96 trials\n",
            "    Subject 7: 96 trials\n",
            "    Subject 8: 96 trials\n",
            "    Subject 9: 96 trials\n",
            "\n",
            "[Check] Split: test1\n",
            "  Total trials: 672\n",
            "  Unique subjects: [1, 2, 3, 4, 7, 8, 9]\n",
            "    Subject 1: 96 trials\n",
            "    Subject 2: 96 trials\n",
            "    Subject 3: 96 trials\n",
            "    Subject 4: 96 trials\n",
            "    Subject 7: 96 trials\n",
            "    Subject 8: 96 trials\n",
            "    Subject 9: 96 trials\n",
            "\n",
            "[Check] Split: test2\n",
            "  Total trials: 1152\n",
            "  Unique subjects: [5, 6]\n",
            "    Subject 5: 576 trials\n",
            "    Subject 6: 576 trials\n"
          ]
        }
      ]
    },
    {
      "cell_type": "code",
      "source": [
        "with torch.no_grad():\n",
        "    x, y, sid = next(train_iter)\n",
        "    unique_sids = torch.unique(sid)\n",
        "    print(\"Unique subject IDs in this batch:\", unique_sids.tolist())\n",
        "    print(\"Count:\", len(unique_sids))\n"
      ],
      "metadata": {
        "id": "6RNxMy3ZZhQK",
        "colab": {
          "base_uri": "https://localhost:8080/"
        },
        "outputId": "453cb830-7511-4e41-ca2d-0acd72cbe4d6"
      },
      "id": "6RNxMy3ZZhQK",
      "execution_count": null,
      "outputs": [
        {
          "output_type": "stream",
          "name": "stdout",
          "text": [
            "Unique subject IDs in this batch: [1, 2, 3, 4, 7, 8, 9]\n",
            "Count: 7\n"
          ]
        }
      ]
    },
    {
      "cell_type": "code",
      "source": [
        "print(len(train_loader.dataset), len(val_loader.dataset), len(test1_loader.dataset), len(test2_loader.dataset))\n",
        "\n",
        "for x, y,_ in train_loader:\n",
        "    print(\"X shape:\", x.shape)\n",
        "    print(\"Y shape:\", y.shape)\n",
        "    break  # the first batch"
      ],
      "metadata": {
        "colab": {
          "base_uri": "https://localhost:8080/"
        },
        "id": "f0JmYf8_7foW",
        "outputId": "84188613-06f3-4a9c-98af-e7ec0907f9ba"
      },
      "id": "f0JmYf8_7foW",
      "execution_count": null,
      "outputs": [
        {
          "output_type": "stream",
          "name": "stdout",
          "text": [
            "2688 672 672 1152\n",
            "X shape: torch.Size([32, 22, 1001])\n",
            "Y shape: torch.Size([32])\n"
          ]
        }
      ]
    },
    {
      "cell_type": "code",
      "source": [
        "from collections import Counter\n",
        "\n",
        "def check_split_label_distribution(loaders):\n",
        "    splits = [\"train\", \"val\", \"test1\", \"test2\"]\n",
        "    for split in splits:\n",
        "        dataset = loaders[split].dataset\n",
        "        labels = dataset.Y.numpy()\n",
        "        label_count = Counter(labels)\n",
        "        total = len(labels)\n",
        "        print(f\"[Check] Split: {split}\")\n",
        "        print(f\"  Total trials: {total}\")\n",
        "        for cls in range(4):\n",
        "            count = label_count.get(cls, 0)\n",
        "            percentage = count / total * 100\n",
        "            print(f\"    Class {cls}: {count} ({percentage:.2f}%)\")\n",
        "        print(\"\")\n",
        "\n",
        "check_split_label_distribution(loaders)\n"
      ],
      "metadata": {
        "colab": {
          "base_uri": "https://localhost:8080/"
        },
        "id": "DSLZHU9bD1T-",
        "outputId": "453fa9ae-08e0-4fe0-ae25-79453b6d54b8"
      },
      "id": "DSLZHU9bD1T-",
      "execution_count": null,
      "outputs": [
        {
          "output_type": "stream",
          "name": "stdout",
          "text": [
            "[Check] Split: train\n",
            "  Total trials: 2688\n",
            "    Class 0: 672 (25.00%)\n",
            "    Class 1: 672 (25.00%)\n",
            "    Class 2: 672 (25.00%)\n",
            "    Class 3: 672 (25.00%)\n",
            "\n",
            "[Check] Split: val\n",
            "  Total trials: 672\n",
            "    Class 0: 168 (25.00%)\n",
            "    Class 1: 168 (25.00%)\n",
            "    Class 2: 168 (25.00%)\n",
            "    Class 3: 168 (25.00%)\n",
            "\n",
            "[Check] Split: test1\n",
            "  Total trials: 672\n",
            "    Class 0: 168 (25.00%)\n",
            "    Class 1: 168 (25.00%)\n",
            "    Class 2: 168 (25.00%)\n",
            "    Class 3: 168 (25.00%)\n",
            "\n",
            "[Check] Split: test2\n",
            "  Total trials: 1152\n",
            "    Class 0: 288 (25.00%)\n",
            "    Class 1: 288 (25.00%)\n",
            "    Class 2: 288 (25.00%)\n",
            "    Class 3: 288 (25.00%)\n",
            "\n"
          ]
        }
      ]
    },
    {
      "cell_type": "markdown",
      "source": [
        "#model"
      ],
      "metadata": {
        "id": "D-8XtejnbSv2"
      },
      "id": "D-8XtejnbSv2"
    },
    {
      "cell_type": "markdown",
      "source": [
        "Since the original cloned GitHub implementation (https://github.com/vlawhern/arl-eegmodels/blob/master/EEGModels.py) used Keras, it couldn't be directly moved to CUDA using .to(device), so we reimplemented it in PyTorch.\n",
        "The __init__ part of EEGNet is kept the same as in the original code, except that the final softmax layer used for classification has been replaced with a fully connected (fc) layer to ensure compatibility with the encoder interface.\n",
        "However, the forward method has been adjusted to align the output format with the downstream model requirements.\n"
      ],
      "metadata": {
        "id": "VdQHpjV_OJu6"
      },
      "id": "VdQHpjV_OJu6"
    },
    {
      "cell_type": "markdown",
      "source": [
        "The overall model follows the original GitHub implementation, with a few necessary adjustments to align tensor time dimensions. Specifically, we aligned the temporal dimensions between up2 + temb and down1, up3 and x, and x_hat and x. These changes are clearly marked with comments in the code."
      ],
      "metadata": {
        "id": "mV-wGFCs2hpy"
      },
      "id": "mV-wGFCs2hpy"
    },
    {
      "cell_type": "code",
      "execution_count": null,
      "id": "ceb479ce",
      "metadata": {
        "id": "ceb479ce"
      },
      "outputs": [],
      "source": [
        "import torch\n",
        "import torch.nn as nn\n",
        "import torch.nn.functional as F\n",
        "\n",
        "class EEGNet(nn.Module):\n",
        "    def __init__(self, nb_classes, Chans=64, Samples=128, dropoutRate=0.5,\n",
        "                 kernLength=64, F1=8, D=2, F2=16, norm_rate=0.25, dropoutType='Dropout'):\n",
        "        super(EEGNet, self).__init__()\n",
        "        if dropoutType == 'Dropout':\n",
        "            DropoutClass = nn.Dropout\n",
        "        elif dropoutType == 'SpatialDropout2D':\n",
        "            DropoutClass = lambda p: nn.Dropout2d(p)\n",
        "        else:\n",
        "            raise ValueError(\"dropoutType must be 'Dropout' or 'SpatialDropout2D'\")\n",
        "\n",
        "        # Block 1\n",
        "        self.conv1 = nn.Conv2d(1, F1, kernel_size=(1, kernLength), padding='same', bias=False)\n",
        "        self.bn1 = nn.BatchNorm2d(F1)\n",
        "\n",
        "        self.depthwiseConv = nn.Conv2d(\n",
        "            F1, F1 * D, kernel_size=(Chans, 1), groups=F1, bias=False\n",
        "        )\n",
        "        self.bn2 = nn.BatchNorm2d(F1 * D)\n",
        "        self.activation1 = nn.ELU()\n",
        "        self.avgpool1 = nn.AvgPool2d(kernel_size=(1, 4))\n",
        "        self.drop1 = DropoutClass(dropoutRate)\n",
        "\n",
        "        # Block 2\n",
        "        self.separable_depthwise = nn.Conv2d(\n",
        "            F1 * D, F1 * D, kernel_size=(1, 16), groups=F1 * D, padding='same', bias=False\n",
        "        )\n",
        "        self.separable_pointwise = nn.Conv2d(\n",
        "            F1 * D, F2, kernel_size=1, bias=False\n",
        "        )\n",
        "        self.bn3 = nn.BatchNorm2d(F2)\n",
        "        self.activation2 = nn.ELU()\n",
        "        self.avgpool2 = nn.AvgPool2d(kernel_size=(1, 8))\n",
        "        self.drop2 = DropoutClass(dropoutRate)\n",
        "\n",
        "        # Final dense layer\n",
        "        self.flatten = nn.Flatten()\n",
        "        self.dense = nn.Linear(F2 * ((Samples // 4) // 8), nb_classes)\n",
        "        self.softmax = nn.Softmax(dim=1)\n",
        "\n",
        "    def forward(self, x):  # x: (N, 1, Chans, Samples)\n",
        "        x = self.conv1(x)\n",
        "        x = self.bn1(x)\n",
        "        x = self.depthwiseConv(x)\n",
        "        x = self.bn2(x)\n",
        "        x = self.activation1(x)\n",
        "        x = self.avgpool1(x)\n",
        "        x = self.drop1(x)\n",
        "\n",
        "        x = self.separable_depthwise(x)\n",
        "        x = self.separable_pointwise(x)\n",
        "        x = self.bn3(x)\n",
        "        x = self.activation2(x)\n",
        "        x = self.avgpool2(x)\n",
        "        x = self.drop2(x)\n",
        "\n",
        "        x = self.flatten(x)\n",
        "        x = self.dense(x)\n",
        "        x = self.softmax(x)\n",
        "\n",
        "        return x\n"
      ]
    },
    {
      "cell_type": "code",
      "source": [
        "from torchinfo import summary\n",
        "# Creating an EEGNet model\n",
        "#eegnet_model = EEGNet(nb_classes=40, Chans=64, Samples=250, dropoutRate=0.5, kernLength=64, F1=8, D=2, F2=16, dropoutType='Dropout')\n",
        "model = EEGNet(nb_classes=4, Chans=22, Samples=1001,\n",
        "                      dropoutRate=0.2, kernLength=64,\n",
        "                      F1=16, D=2, F2=32, dropoutType='Dropout').to(device)\n",
        "\n",
        "criterion = nn.CrossEntropyLoss()\n",
        "optimizer = torch.optim.Adam(model.parameters(), lr=1e-3)\n",
        "\n",
        "summary(model, input_size=(32,1, 22, 1001))"
      ],
      "metadata": {
        "colab": {
          "base_uri": "https://localhost:8080/"
        },
        "id": "FybOwh5NxcR5",
        "outputId": "b55314bb-cd2c-4a58-ef3f-c9912b2bf8b9"
      },
      "id": "FybOwh5NxcR5",
      "execution_count": null,
      "outputs": [
        {
          "output_type": "stream",
          "name": "stderr",
          "text": [
            "/usr/local/lib/python3.11/dist-packages/torch/nn/modules/conv.py:549: UserWarning: Using padding='same' with even kernel lengths and odd dilation may require a zero-padded copy of the input be created (Triggered internally at /pytorch/aten/src/ATen/native/Convolution.cpp:1036.)\n",
            "  return F.conv2d(\n"
          ]
        },
        {
          "output_type": "execute_result",
          "data": {
            "text/plain": [
              "==========================================================================================\n",
              "Layer (type:depth-idx)                   Output Shape              Param #\n",
              "==========================================================================================\n",
              "EEGNet                                   [32, 4]                   --\n",
              "├─Conv2d: 1-1                            [32, 16, 22, 1001]        1,024\n",
              "├─BatchNorm2d: 1-2                       [32, 16, 22, 1001]        32\n",
              "├─Conv2d: 1-3                            [32, 32, 1, 1001]         704\n",
              "├─BatchNorm2d: 1-4                       [32, 32, 1, 1001]         64\n",
              "├─ELU: 1-5                               [32, 32, 1, 1001]         --\n",
              "├─AvgPool2d: 1-6                         [32, 32, 1, 250]          --\n",
              "├─Dropout: 1-7                           [32, 32, 1, 250]          --\n",
              "├─Conv2d: 1-8                            [32, 32, 1, 250]          512\n",
              "├─Conv2d: 1-9                            [32, 32, 1, 250]          1,024\n",
              "├─BatchNorm2d: 1-10                      [32, 32, 1, 250]          64\n",
              "├─ELU: 1-11                              [32, 32, 1, 250]          --\n",
              "├─AvgPool2d: 1-12                        [32, 32, 1, 31]           --\n",
              "├─Dropout: 1-13                          [32, 32, 1, 31]           --\n",
              "├─Flatten: 1-14                          [32, 992]                 --\n",
              "├─Linear: 1-15                           [32, 4]                   3,972\n",
              "├─Softmax: 1-16                          [32, 4]                   --\n",
              "==========================================================================================\n",
              "Total params: 7,396\n",
              "Trainable params: 7,396\n",
              "Non-trainable params: 0\n",
              "Total mult-adds (Units.MEGABYTES): 756.59\n",
              "==========================================================================================\n",
              "Input size (MB): 2.82\n",
              "Forward/backward pass size (MB): 202.95\n",
              "Params size (MB): 0.03\n",
              "Estimated Total Size (MB): 205.80\n",
              "=========================================================================================="
            ]
          },
          "metadata": {},
          "execution_count": 27
        }
      ]
    },
    {
      "cell_type": "markdown",
      "source": [
        "#train"
      ],
      "metadata": {
        "id": "gNFmH1U1cUfr"
      },
      "id": "gNFmH1U1cUfr"
    },
    {
      "cell_type": "code",
      "source": [
        "optimizer = optim.Adam(model.parameters(), lr=1e-3)\n",
        "criterion = nn.CrossEntropyLoss()"
      ],
      "metadata": {
        "id": "dsdFUCZqx8Ey"
      },
      "id": "dsdFUCZqx8Ey",
      "execution_count": null,
      "outputs": []
    },
    {
      "cell_type": "code",
      "source": [
        "num_epochs = 500\n",
        "\n",
        "history = {\n",
        "    \"train_loss\": [],\n",
        "    \"val_loss\": [],\n",
        "    \"train_acc\": [],\n",
        "    \"val_acc\": [],\n",
        "}\n",
        "\n",
        "for epoch in range(num_epochs):\n",
        "    model.train()\n",
        "    train_loss, train_correct, train_total = 0, 0, 0\n",
        "\n",
        "    for x, y, _ in train_loader:\n",
        "        x = x.unsqueeze(1).to(device)  # [B, 64, 1000] → [B, 1, 64, 1000]\n",
        "        y = y.to(device)\n",
        "\n",
        "        optimizer.zero_grad()\n",
        "        outputs = model(x)\n",
        "        loss = criterion(outputs, y)\n",
        "        loss.backward()\n",
        "        optimizer.step()\n",
        "\n",
        "        train_loss += loss.item() * x.size(0)\n",
        "        _, predicted = torch.max(outputs.data, 1)\n",
        "        train_total += y.size(0)\n",
        "        train_correct += (predicted == y).sum().item()\n",
        "\n",
        "    train_acc = train_correct / train_total\n",
        "    train_loss /= train_total\n",
        "\n",
        "    # ---------- validate ----------\n",
        "    model.eval()\n",
        "    val_loss, val_correct, val_total = 0, 0, 0\n",
        "\n",
        "    with torch.no_grad():\n",
        "        for x, y, _ in val_loader:\n",
        "            x = x.unsqueeze(1).to(device)  # add channel dimension\n",
        "            y = y.to(device)\n",
        "\n",
        "            outputs = model(x)\n",
        "            loss = criterion(outputs, y)\n",
        "\n",
        "            val_loss += loss.item() * x.size(0)\n",
        "            _, predicted = torch.max(outputs.data, 1)\n",
        "            val_total += y.size(0)\n",
        "            val_correct += (predicted == y).sum().item()\n",
        "\n",
        "    val_acc = val_correct / val_total\n",
        "    val_loss /= val_total\n",
        "\n",
        "    history[\"train_loss\"].append(train_loss)\n",
        "    history[\"val_loss\"].append(val_loss)\n",
        "    history[\"train_acc\"].append(train_acc)\n",
        "    history[\"val_acc\"].append(val_acc)\n",
        "\n",
        "    print(f\"[Epoch {epoch+1}] Train Loss: {train_loss:.4f} | Acc: {train_acc:.4f} || Val Loss: {val_loss:.4f} | Acc: {val_acc:.4f}\")\n"
      ],
      "metadata": {
        "id": "NIjWCm5vUKx-",
        "colab": {
          "base_uri": "https://localhost:8080/"
        },
        "outputId": "20f1f4dc-cf61-4539-f691-73e225a2fd64"
      },
      "id": "NIjWCm5vUKx-",
      "execution_count": null,
      "outputs": [
        {
          "output_type": "stream",
          "name": "stdout",
          "text": [
            "[Epoch 1] Train Loss: 1.3726 | Acc: 0.2924 || Val Loss: 1.3868 | Acc: 0.2500\n",
            "[Epoch 2] Train Loss: 1.3235 | Acc: 0.3977 || Val Loss: 1.3642 | Acc: 0.3304\n",
            "[Epoch 3] Train Loss: 1.2714 | Acc: 0.4516 || Val Loss: 1.3836 | Acc: 0.3006\n",
            "[Epoch 4] Train Loss: 1.2201 | Acc: 0.5175 || Val Loss: 1.3752 | Acc: 0.3393\n",
            "[Epoch 5] Train Loss: 1.1952 | Acc: 0.5454 || Val Loss: 1.4269 | Acc: 0.3006\n",
            "[Epoch 6] Train Loss: 1.1701 | Acc: 0.5670 || Val Loss: 1.2692 | Acc: 0.4420\n",
            "[Epoch 7] Train Loss: 1.1541 | Acc: 0.5871 || Val Loss: 1.4195 | Acc: 0.3155\n",
            "[Epoch 8] Train Loss: 1.1226 | Acc: 0.6280 || Val Loss: 1.4155 | Acc: 0.3214\n",
            "[Epoch 9] Train Loss: 1.1162 | Acc: 0.6321 || Val Loss: 1.2925 | Acc: 0.4360\n",
            "[Epoch 10] Train Loss: 1.1018 | Acc: 0.6492 || Val Loss: 1.2221 | Acc: 0.4985\n",
            "[Epoch 11] Train Loss: 1.0968 | Acc: 0.6514 || Val Loss: 1.3738 | Acc: 0.3542\n",
            "[Epoch 12] Train Loss: 1.0823 | Acc: 0.6637 || Val Loss: 1.3125 | Acc: 0.4122\n",
            "[Epoch 13] Train Loss: 1.0786 | Acc: 0.6689 || Val Loss: 1.1882 | Acc: 0.5179\n",
            "[Epoch 14] Train Loss: 1.0655 | Acc: 0.6856 || Val Loss: 1.3105 | Acc: 0.4182\n",
            "[Epoch 15] Train Loss: 1.0609 | Acc: 0.6901 || Val Loss: 1.3079 | Acc: 0.4137\n",
            "[Epoch 16] Train Loss: 1.0566 | Acc: 0.6920 || Val Loss: 1.3308 | Acc: 0.3914\n",
            "[Epoch 17] Train Loss: 1.0541 | Acc: 0.6935 || Val Loss: 1.2738 | Acc: 0.4598\n",
            "[Epoch 18] Train Loss: 1.0426 | Acc: 0.7117 || Val Loss: 1.4852 | Acc: 0.2574\n",
            "[Epoch 19] Train Loss: 1.0384 | Acc: 0.7128 || Val Loss: 1.3020 | Acc: 0.4167\n",
            "[Epoch 20] Train Loss: 1.0395 | Acc: 0.7072 || Val Loss: 1.4714 | Acc: 0.2664\n",
            "[Epoch 21] Train Loss: 1.0335 | Acc: 0.7195 || Val Loss: 1.3631 | Acc: 0.3720\n",
            "[Epoch 22] Train Loss: 1.0320 | Acc: 0.7169 || Val Loss: 1.2980 | Acc: 0.4167\n",
            "[Epoch 23] Train Loss: 1.0242 | Acc: 0.7240 || Val Loss: 1.4539 | Acc: 0.2872\n",
            "[Epoch 24] Train Loss: 1.0154 | Acc: 0.7377 || Val Loss: 1.3550 | Acc: 0.3780\n",
            "[Epoch 25] Train Loss: 1.0131 | Acc: 0.7329 || Val Loss: 1.2981 | Acc: 0.4241\n",
            "[Epoch 26] Train Loss: 1.0097 | Acc: 0.7437 || Val Loss: 1.2667 | Acc: 0.4673\n",
            "[Epoch 27] Train Loss: 1.0097 | Acc: 0.7414 || Val Loss: 1.2976 | Acc: 0.4271\n",
            "[Epoch 28] Train Loss: 1.0130 | Acc: 0.7388 || Val Loss: 1.3443 | Acc: 0.3869\n",
            "[Epoch 29] Train Loss: 1.0018 | Acc: 0.7489 || Val Loss: 1.3820 | Acc: 0.3571\n",
            "[Epoch 30] Train Loss: 1.0013 | Acc: 0.7474 || Val Loss: 1.3401 | Acc: 0.3765\n",
            "[Epoch 31] Train Loss: 1.0015 | Acc: 0.7455 || Val Loss: 1.4036 | Acc: 0.3259\n",
            "[Epoch 32] Train Loss: 1.0013 | Acc: 0.7426 || Val Loss: 1.2063 | Acc: 0.5208\n",
            "[Epoch 33] Train Loss: 0.9907 | Acc: 0.7626 || Val Loss: 1.3167 | Acc: 0.4226\n",
            "[Epoch 34] Train Loss: 0.9965 | Acc: 0.7504 || Val Loss: 1.4467 | Acc: 0.2887\n",
            "[Epoch 35] Train Loss: 0.9874 | Acc: 0.7608 || Val Loss: 1.4004 | Acc: 0.3363\n",
            "[Epoch 36] Train Loss: 0.9888 | Acc: 0.7541 || Val Loss: 1.4788 | Acc: 0.2679\n",
            "[Epoch 37] Train Loss: 0.9780 | Acc: 0.7768 || Val Loss: 1.4439 | Acc: 0.2961\n",
            "[Epoch 38] Train Loss: 0.9844 | Acc: 0.7682 || Val Loss: 1.4735 | Acc: 0.2679\n",
            "[Epoch 39] Train Loss: 0.9884 | Acc: 0.7641 || Val Loss: 1.3753 | Acc: 0.3527\n",
            "[Epoch 40] Train Loss: 0.9683 | Acc: 0.7839 || Val Loss: 1.4172 | Acc: 0.3214\n",
            "[Epoch 41] Train Loss: 0.9811 | Acc: 0.7701 || Val Loss: 1.4269 | Acc: 0.3140\n",
            "[Epoch 42] Train Loss: 0.9716 | Acc: 0.7812 || Val Loss: 1.3967 | Acc: 0.3333\n",
            "[Epoch 43] Train Loss: 0.9720 | Acc: 0.7775 || Val Loss: 1.2705 | Acc: 0.4568\n",
            "[Epoch 44] Train Loss: 0.9659 | Acc: 0.7850 || Val Loss: 1.3055 | Acc: 0.4315\n",
            "[Epoch 45] Train Loss: 0.9644 | Acc: 0.7906 || Val Loss: 1.2104 | Acc: 0.5208\n",
            "[Epoch 46] Train Loss: 0.9667 | Acc: 0.7846 || Val Loss: 1.1295 | Acc: 0.6176\n",
            "[Epoch 47] Train Loss: 0.9691 | Acc: 0.7846 || Val Loss: 1.2453 | Acc: 0.4777\n",
            "[Epoch 48] Train Loss: 0.9604 | Acc: 0.7902 || Val Loss: 1.4129 | Acc: 0.3289\n",
            "[Epoch 49] Train Loss: 0.9632 | Acc: 0.7872 || Val Loss: 1.3606 | Acc: 0.3690\n",
            "[Epoch 50] Train Loss: 0.9614 | Acc: 0.7920 || Val Loss: 1.2166 | Acc: 0.5030\n",
            "[Epoch 51] Train Loss: 0.9613 | Acc: 0.7853 || Val Loss: 1.2654 | Acc: 0.4628\n",
            "[Epoch 52] Train Loss: 0.9577 | Acc: 0.7950 || Val Loss: 1.2850 | Acc: 0.4360\n",
            "[Epoch 53] Train Loss: 0.9581 | Acc: 0.7961 || Val Loss: 1.2218 | Acc: 0.5000\n",
            "[Epoch 54] Train Loss: 0.9483 | Acc: 0.8036 || Val Loss: 1.2081 | Acc: 0.5223\n",
            "[Epoch 55] Train Loss: 0.9565 | Acc: 0.7857 || Val Loss: 1.3256 | Acc: 0.4137\n",
            "[Epoch 56] Train Loss: 0.9515 | Acc: 0.7961 || Val Loss: 1.3734 | Acc: 0.3542\n",
            "[Epoch 57] Train Loss: 0.9459 | Acc: 0.8051 || Val Loss: 1.3472 | Acc: 0.3854\n",
            "[Epoch 58] Train Loss: 0.9520 | Acc: 0.8021 || Val Loss: 1.4173 | Acc: 0.3214\n",
            "[Epoch 59] Train Loss: 0.9520 | Acc: 0.7984 || Val Loss: 1.3724 | Acc: 0.3646\n",
            "[Epoch 60] Train Loss: 0.9464 | Acc: 0.7999 || Val Loss: 1.3566 | Acc: 0.3780\n",
            "[Epoch 61] Train Loss: 0.9405 | Acc: 0.8073 || Val Loss: 1.3516 | Acc: 0.3854\n",
            "[Epoch 62] Train Loss: 0.9367 | Acc: 0.8125 || Val Loss: 1.3538 | Acc: 0.3824\n",
            "[Epoch 63] Train Loss: 0.9416 | Acc: 0.8095 || Val Loss: 1.1819 | Acc: 0.5432\n",
            "[Epoch 64] Train Loss: 0.9415 | Acc: 0.8106 || Val Loss: 1.3986 | Acc: 0.3244\n",
            "[Epoch 65] Train Loss: 0.9345 | Acc: 0.8181 || Val Loss: 1.3584 | Acc: 0.3824\n",
            "[Epoch 66] Train Loss: 0.9341 | Acc: 0.8162 || Val Loss: 1.1618 | Acc: 0.5699\n",
            "[Epoch 67] Train Loss: 0.9343 | Acc: 0.8192 || Val Loss: 1.2913 | Acc: 0.4479\n",
            "[Epoch 68] Train Loss: 0.9277 | Acc: 0.8218 || Val Loss: 1.2241 | Acc: 0.5074\n",
            "[Epoch 69] Train Loss: 0.9351 | Acc: 0.8125 || Val Loss: 1.1920 | Acc: 0.5312\n",
            "[Epoch 70] Train Loss: 0.9306 | Acc: 0.8244 || Val Loss: 1.1900 | Acc: 0.5432\n",
            "[Epoch 71] Train Loss: 0.9297 | Acc: 0.8214 || Val Loss: 1.3798 | Acc: 0.3571\n",
            "[Epoch 72] Train Loss: 0.9267 | Acc: 0.8266 || Val Loss: 1.1970 | Acc: 0.5253\n",
            "[Epoch 73] Train Loss: 0.9216 | Acc: 0.8367 || Val Loss: 1.3043 | Acc: 0.4301\n",
            "[Epoch 74] Train Loss: 0.9210 | Acc: 0.8278 || Val Loss: 1.2956 | Acc: 0.4330\n",
            "[Epoch 75] Train Loss: 0.9274 | Acc: 0.8263 || Val Loss: 1.3638 | Acc: 0.3735\n",
            "[Epoch 76] Train Loss: 0.9215 | Acc: 0.8292 || Val Loss: 1.2749 | Acc: 0.4494\n",
            "[Epoch 77] Train Loss: 0.9127 | Acc: 0.8374 || Val Loss: 1.3496 | Acc: 0.3780\n",
            "[Epoch 78] Train Loss: 0.9156 | Acc: 0.8337 || Val Loss: 1.3693 | Acc: 0.3646\n",
            "[Epoch 79] Train Loss: 0.9220 | Acc: 0.8281 || Val Loss: 1.2292 | Acc: 0.5015\n",
            "[Epoch 80] Train Loss: 0.9234 | Acc: 0.8278 || Val Loss: 1.3893 | Acc: 0.3408\n",
            "[Epoch 81] Train Loss: 0.9171 | Acc: 0.8304 || Val Loss: 1.2360 | Acc: 0.5000\n",
            "[Epoch 82] Train Loss: 0.9162 | Acc: 0.8367 || Val Loss: 1.1695 | Acc: 0.5595\n",
            "[Epoch 83] Train Loss: 0.9112 | Acc: 0.8389 || Val Loss: 1.2639 | Acc: 0.4643\n",
            "[Epoch 84] Train Loss: 0.9161 | Acc: 0.8318 || Val Loss: 1.1739 | Acc: 0.5580\n",
            "[Epoch 85] Train Loss: 0.9163 | Acc: 0.8315 || Val Loss: 1.1833 | Acc: 0.5432\n",
            "[Epoch 86] Train Loss: 0.9130 | Acc: 0.8356 || Val Loss: 1.2443 | Acc: 0.4836\n",
            "[Epoch 87] Train Loss: 0.9138 | Acc: 0.8363 || Val Loss: 1.4271 | Acc: 0.3110\n",
            "[Epoch 88] Train Loss: 0.9100 | Acc: 0.8382 || Val Loss: 1.3698 | Acc: 0.3586\n",
            "[Epoch 89] Train Loss: 0.9158 | Acc: 0.8333 || Val Loss: 1.2499 | Acc: 0.4717\n",
            "[Epoch 90] Train Loss: 0.9082 | Acc: 0.8426 || Val Loss: 1.4587 | Acc: 0.2842\n",
            "[Epoch 91] Train Loss: 0.9078 | Acc: 0.8438 || Val Loss: 1.3547 | Acc: 0.3750\n",
            "[Epoch 92] Train Loss: 0.9143 | Acc: 0.8341 || Val Loss: 1.0741 | Acc: 0.6637\n",
            "[Epoch 93] Train Loss: 0.9043 | Acc: 0.8486 || Val Loss: 1.3277 | Acc: 0.4048\n",
            "[Epoch 94] Train Loss: 0.9064 | Acc: 0.8441 || Val Loss: 1.3169 | Acc: 0.4137\n",
            "[Epoch 95] Train Loss: 0.9074 | Acc: 0.8456 || Val Loss: 1.1213 | Acc: 0.6042\n",
            "[Epoch 96] Train Loss: 0.9053 | Acc: 0.8456 || Val Loss: 1.4396 | Acc: 0.3006\n",
            "[Epoch 97] Train Loss: 0.9081 | Acc: 0.8426 || Val Loss: 1.3773 | Acc: 0.3527\n",
            "[Epoch 98] Train Loss: 0.9011 | Acc: 0.8527 || Val Loss: 1.1936 | Acc: 0.5298\n",
            "[Epoch 99] Train Loss: 0.8981 | Acc: 0.8557 || Val Loss: 1.2111 | Acc: 0.5179\n",
            "[Epoch 100] Train Loss: 0.9011 | Acc: 0.8482 || Val Loss: 1.1564 | Acc: 0.5744\n",
            "[Epoch 101] Train Loss: 0.9017 | Acc: 0.8504 || Val Loss: 1.2710 | Acc: 0.4598\n",
            "[Epoch 102] Train Loss: 0.9011 | Acc: 0.8456 || Val Loss: 1.1601 | Acc: 0.5655\n",
            "[Epoch 103] Train Loss: 0.8971 | Acc: 0.8534 || Val Loss: 1.1416 | Acc: 0.5923\n",
            "[Epoch 104] Train Loss: 0.8971 | Acc: 0.8527 || Val Loss: 1.3620 | Acc: 0.3720\n",
            "[Epoch 105] Train Loss: 0.9042 | Acc: 0.8467 || Val Loss: 1.2887 | Acc: 0.4420\n",
            "[Epoch 106] Train Loss: 0.8974 | Acc: 0.8516 || Val Loss: 1.2084 | Acc: 0.5179\n",
            "[Epoch 107] Train Loss: 0.8907 | Acc: 0.8620 || Val Loss: 1.2626 | Acc: 0.4643\n",
            "[Epoch 108] Train Loss: 0.8982 | Acc: 0.8564 || Val Loss: 1.3150 | Acc: 0.4211\n",
            "[Epoch 109] Train Loss: 0.9015 | Acc: 0.8527 || Val Loss: 1.1739 | Acc: 0.5640\n",
            "[Epoch 110] Train Loss: 0.8942 | Acc: 0.8590 || Val Loss: 1.2443 | Acc: 0.4911\n",
            "[Epoch 111] Train Loss: 0.8896 | Acc: 0.8612 || Val Loss: 1.2676 | Acc: 0.4643\n",
            "[Epoch 112] Train Loss: 0.8938 | Acc: 0.8590 || Val Loss: 1.1929 | Acc: 0.5298\n",
            "[Epoch 113] Train Loss: 0.8826 | Acc: 0.8698 || Val Loss: 1.0617 | Acc: 0.6726\n",
            "[Epoch 114] Train Loss: 0.9004 | Acc: 0.8449 || Val Loss: 1.2096 | Acc: 0.5238\n",
            "[Epoch 115] Train Loss: 0.8897 | Acc: 0.8590 || Val Loss: 1.1210 | Acc: 0.6101\n",
            "[Epoch 116] Train Loss: 0.8858 | Acc: 0.8679 || Val Loss: 1.1579 | Acc: 0.5789\n",
            "[Epoch 117] Train Loss: 0.8940 | Acc: 0.8564 || Val Loss: 1.3225 | Acc: 0.4092\n",
            "[Epoch 118] Train Loss: 0.8918 | Acc: 0.8579 || Val Loss: 1.1395 | Acc: 0.5938\n",
            "[Epoch 119] Train Loss: 0.8914 | Acc: 0.8594 || Val Loss: 1.2372 | Acc: 0.4911\n",
            "[Epoch 120] Train Loss: 0.8902 | Acc: 0.8601 || Val Loss: 1.3284 | Acc: 0.3973\n",
            "[Epoch 121] Train Loss: 0.8884 | Acc: 0.8609 || Val Loss: 1.1615 | Acc: 0.5580\n",
            "[Epoch 122] Train Loss: 0.8879 | Acc: 0.8590 || Val Loss: 1.3796 | Acc: 0.3601\n",
            "[Epoch 123] Train Loss: 0.8926 | Acc: 0.8583 || Val Loss: 1.1173 | Acc: 0.6146\n",
            "[Epoch 124] Train Loss: 0.8796 | Acc: 0.8724 || Val Loss: 1.3365 | Acc: 0.3958\n",
            "[Epoch 125] Train Loss: 0.8800 | Acc: 0.8728 || Val Loss: 1.2709 | Acc: 0.4673\n",
            "[Epoch 126] Train Loss: 0.8876 | Acc: 0.8620 || Val Loss: 1.1740 | Acc: 0.5536\n",
            "[Epoch 127] Train Loss: 0.8852 | Acc: 0.8616 || Val Loss: 1.1749 | Acc: 0.5595\n",
            "[Epoch 128] Train Loss: 0.8777 | Acc: 0.8765 || Val Loss: 1.1540 | Acc: 0.5685\n",
            "[Epoch 129] Train Loss: 0.8824 | Acc: 0.8638 || Val Loss: 1.3385 | Acc: 0.3914\n",
            "[Epoch 130] Train Loss: 0.8828 | Acc: 0.8683 || Val Loss: 1.1832 | Acc: 0.5476\n",
            "[Epoch 131] Train Loss: 0.8772 | Acc: 0.8728 || Val Loss: 1.2082 | Acc: 0.5179\n",
            "[Epoch 132] Train Loss: 0.8819 | Acc: 0.8672 || Val Loss: 1.1930 | Acc: 0.5372\n",
            "[Epoch 133] Train Loss: 0.8796 | Acc: 0.8709 || Val Loss: 1.1659 | Acc: 0.5625\n",
            "[Epoch 134] Train Loss: 0.8766 | Acc: 0.8746 || Val Loss: 1.0853 | Acc: 0.6503\n",
            "[Epoch 135] Train Loss: 0.8776 | Acc: 0.8761 || Val Loss: 1.2432 | Acc: 0.4970\n",
            "[Epoch 136] Train Loss: 0.8769 | Acc: 0.8743 || Val Loss: 1.1319 | Acc: 0.5997\n",
            "[Epoch 137] Train Loss: 0.8791 | Acc: 0.8679 || Val Loss: 1.4183 | Acc: 0.3199\n",
            "[Epoch 138] Train Loss: 0.8817 | Acc: 0.8668 || Val Loss: 1.1827 | Acc: 0.5402\n",
            "[Epoch 139] Train Loss: 0.8835 | Acc: 0.8646 || Val Loss: 1.1230 | Acc: 0.6161\n",
            "[Epoch 140] Train Loss: 0.8789 | Acc: 0.8776 || Val Loss: 1.2640 | Acc: 0.4628\n",
            "[Epoch 141] Train Loss: 0.8768 | Acc: 0.8746 || Val Loss: 1.1807 | Acc: 0.5461\n",
            "[Epoch 142] Train Loss: 0.8694 | Acc: 0.8813 || Val Loss: 1.1947 | Acc: 0.5372\n",
            "[Epoch 143] Train Loss: 0.8721 | Acc: 0.8783 || Val Loss: 1.2876 | Acc: 0.4405\n",
            "[Epoch 144] Train Loss: 0.8748 | Acc: 0.8769 || Val Loss: 1.1257 | Acc: 0.6012\n",
            "[Epoch 145] Train Loss: 0.8763 | Acc: 0.8746 || Val Loss: 1.2808 | Acc: 0.4449\n",
            "[Epoch 146] Train Loss: 0.8794 | Acc: 0.8650 || Val Loss: 1.2710 | Acc: 0.4539\n",
            "[Epoch 147] Train Loss: 0.8751 | Acc: 0.8746 || Val Loss: 1.2157 | Acc: 0.5149\n",
            "[Epoch 148] Train Loss: 0.8758 | Acc: 0.8743 || Val Loss: 1.2468 | Acc: 0.4836\n",
            "[Epoch 149] Train Loss: 0.8724 | Acc: 0.8802 || Val Loss: 1.2309 | Acc: 0.4896\n",
            "[Epoch 150] Train Loss: 0.8745 | Acc: 0.8735 || Val Loss: 1.1987 | Acc: 0.5372\n",
            "[Epoch 151] Train Loss: 0.8716 | Acc: 0.8839 || Val Loss: 1.0953 | Acc: 0.6339\n",
            "[Epoch 152] Train Loss: 0.8778 | Acc: 0.8720 || Val Loss: 1.1026 | Acc: 0.6369\n",
            "[Epoch 153] Train Loss: 0.8731 | Acc: 0.8746 || Val Loss: 1.1760 | Acc: 0.5580\n",
            "[Epoch 154] Train Loss: 0.8622 | Acc: 0.8891 || Val Loss: 1.1094 | Acc: 0.6205\n",
            "[Epoch 155] Train Loss: 0.8705 | Acc: 0.8832 || Val Loss: 1.0451 | Acc: 0.6860\n",
            "[Epoch 156] Train Loss: 0.8677 | Acc: 0.8832 || Val Loss: 1.2037 | Acc: 0.5342\n",
            "[Epoch 157] Train Loss: 0.8678 | Acc: 0.8806 || Val Loss: 1.3328 | Acc: 0.4018\n",
            "[Epoch 158] Train Loss: 0.8658 | Acc: 0.8854 || Val Loss: 1.2420 | Acc: 0.4911\n",
            "[Epoch 159] Train Loss: 0.8640 | Acc: 0.8865 || Val Loss: 1.1317 | Acc: 0.5923\n",
            "[Epoch 160] Train Loss: 0.8743 | Acc: 0.8761 || Val Loss: 1.1467 | Acc: 0.5863\n",
            "[Epoch 161] Train Loss: 0.8681 | Acc: 0.8798 || Val Loss: 1.1244 | Acc: 0.6146\n",
            "[Epoch 162] Train Loss: 0.8691 | Acc: 0.8802 || Val Loss: 1.1126 | Acc: 0.6131\n",
            "[Epoch 163] Train Loss: 0.8610 | Acc: 0.8884 || Val Loss: 1.1405 | Acc: 0.5893\n",
            "[Epoch 164] Train Loss: 0.8598 | Acc: 0.8899 || Val Loss: 1.2058 | Acc: 0.5298\n",
            "[Epoch 165] Train Loss: 0.8686 | Acc: 0.8810 || Val Loss: 1.0910 | Acc: 0.6503\n",
            "[Epoch 166] Train Loss: 0.8594 | Acc: 0.8899 || Val Loss: 1.1955 | Acc: 0.5283\n",
            "[Epoch 167] Train Loss: 0.8656 | Acc: 0.8839 || Val Loss: 1.2942 | Acc: 0.4375\n",
            "[Epoch 168] Train Loss: 0.8601 | Acc: 0.8880 || Val Loss: 1.2633 | Acc: 0.4747\n",
            "[Epoch 169] Train Loss: 0.8623 | Acc: 0.8865 || Val Loss: 1.4413 | Acc: 0.2961\n",
            "[Epoch 170] Train Loss: 0.8644 | Acc: 0.8839 || Val Loss: 1.1548 | Acc: 0.5744\n",
            "[Epoch 171] Train Loss: 0.8635 | Acc: 0.8880 || Val Loss: 1.3212 | Acc: 0.4122\n",
            "[Epoch 172] Train Loss: 0.8612 | Acc: 0.8862 || Val Loss: 1.3030 | Acc: 0.4256\n",
            "[Epoch 173] Train Loss: 0.8649 | Acc: 0.8806 || Val Loss: 1.2735 | Acc: 0.4613\n",
            "[Epoch 174] Train Loss: 0.8656 | Acc: 0.8821 || Val Loss: 1.2960 | Acc: 0.4345\n",
            "[Epoch 175] Train Loss: 0.8625 | Acc: 0.8888 || Val Loss: 1.3941 | Acc: 0.3423\n",
            "[Epoch 176] Train Loss: 0.8588 | Acc: 0.8884 || Val Loss: 1.2637 | Acc: 0.4658\n",
            "[Epoch 177] Train Loss: 0.8590 | Acc: 0.8951 || Val Loss: 1.2416 | Acc: 0.5000\n",
            "[Epoch 178] Train Loss: 0.8612 | Acc: 0.8891 || Val Loss: 1.1976 | Acc: 0.5312\n",
            "[Epoch 179] Train Loss: 0.8503 | Acc: 0.9003 || Val Loss: 1.4044 | Acc: 0.3318\n",
            "[Epoch 180] Train Loss: 0.8618 | Acc: 0.8858 || Val Loss: 1.2788 | Acc: 0.4539\n",
            "[Epoch 181] Train Loss: 0.8539 | Acc: 0.8951 || Val Loss: 1.2237 | Acc: 0.5060\n",
            "[Epoch 182] Train Loss: 0.8620 | Acc: 0.8847 || Val Loss: 1.3124 | Acc: 0.4256\n",
            "[Epoch 183] Train Loss: 0.8644 | Acc: 0.8850 || Val Loss: 1.2479 | Acc: 0.4807\n",
            "[Epoch 184] Train Loss: 0.8526 | Acc: 0.8958 || Val Loss: 1.3113 | Acc: 0.4226\n",
            "[Epoch 185] Train Loss: 0.8555 | Acc: 0.8940 || Val Loss: 1.2481 | Acc: 0.4851\n",
            "[Epoch 186] Train Loss: 0.8620 | Acc: 0.8876 || Val Loss: 1.3924 | Acc: 0.3452\n",
            "[Epoch 187] Train Loss: 0.8671 | Acc: 0.8813 || Val Loss: 1.3427 | Acc: 0.3869\n",
            "[Epoch 188] Train Loss: 0.8596 | Acc: 0.8873 || Val Loss: 1.2086 | Acc: 0.5193\n",
            "[Epoch 189] Train Loss: 0.8581 | Acc: 0.8932 || Val Loss: 1.2274 | Acc: 0.5089\n",
            "[Epoch 190] Train Loss: 0.8611 | Acc: 0.8880 || Val Loss: 1.0797 | Acc: 0.6562\n",
            "[Epoch 191] Train Loss: 0.8606 | Acc: 0.8903 || Val Loss: 1.3457 | Acc: 0.3869\n",
            "[Epoch 192] Train Loss: 0.8611 | Acc: 0.8869 || Val Loss: 1.2403 | Acc: 0.4940\n",
            "[Epoch 193] Train Loss: 0.8559 | Acc: 0.8958 || Val Loss: 1.2311 | Acc: 0.4955\n",
            "[Epoch 194] Train Loss: 0.8580 | Acc: 0.8906 || Val Loss: 1.1567 | Acc: 0.5685\n",
            "[Epoch 195] Train Loss: 0.8547 | Acc: 0.8943 || Val Loss: 1.1305 | Acc: 0.6086\n",
            "[Epoch 196] Train Loss: 0.8502 | Acc: 0.8999 || Val Loss: 1.1990 | Acc: 0.5312\n",
            "[Epoch 197] Train Loss: 0.8545 | Acc: 0.8936 || Val Loss: 1.1453 | Acc: 0.5878\n",
            "[Epoch 198] Train Loss: 0.8549 | Acc: 0.8932 || Val Loss: 1.2805 | Acc: 0.4494\n",
            "[Epoch 199] Train Loss: 0.8564 | Acc: 0.8936 || Val Loss: 1.2861 | Acc: 0.4479\n",
            "[Epoch 200] Train Loss: 0.8466 | Acc: 0.9048 || Val Loss: 1.1270 | Acc: 0.6101\n",
            "[Epoch 201] Train Loss: 0.8507 | Acc: 0.9007 || Val Loss: 1.2252 | Acc: 0.5074\n",
            "[Epoch 202] Train Loss: 0.8475 | Acc: 0.8984 || Val Loss: 1.1523 | Acc: 0.5848\n",
            "[Epoch 203] Train Loss: 0.8568 | Acc: 0.8899 || Val Loss: 1.2479 | Acc: 0.4866\n",
            "[Epoch 204] Train Loss: 0.8584 | Acc: 0.8858 || Val Loss: 1.1512 | Acc: 0.5759\n",
            "[Epoch 205] Train Loss: 0.8503 | Acc: 0.8996 || Val Loss: 1.4051 | Acc: 0.3363\n",
            "[Epoch 206] Train Loss: 0.8556 | Acc: 0.8929 || Val Loss: 1.3103 | Acc: 0.4182\n",
            "[Epoch 207] Train Loss: 0.8490 | Acc: 0.8977 || Val Loss: 1.0712 | Acc: 0.6637\n",
            "[Epoch 208] Train Loss: 0.8478 | Acc: 0.9048 || Val Loss: 1.2294 | Acc: 0.5060\n",
            "[Epoch 209] Train Loss: 0.8513 | Acc: 0.8936 || Val Loss: 1.1616 | Acc: 0.5744\n",
            "[Epoch 210] Train Loss: 0.8486 | Acc: 0.9010 || Val Loss: 1.2316 | Acc: 0.5045\n",
            "[Epoch 211] Train Loss: 0.8435 | Acc: 0.9025 || Val Loss: 1.1201 | Acc: 0.6250\n",
            "[Epoch 212] Train Loss: 0.8487 | Acc: 0.9018 || Val Loss: 1.2669 | Acc: 0.4613\n",
            "[Epoch 213] Train Loss: 0.8524 | Acc: 0.8981 || Val Loss: 1.3934 | Acc: 0.3467\n",
            "[Epoch 214] Train Loss: 0.8475 | Acc: 0.9007 || Val Loss: 1.2974 | Acc: 0.4360\n",
            "[Epoch 215] Train Loss: 0.8507 | Acc: 0.8969 || Val Loss: 1.3229 | Acc: 0.4077\n",
            "[Epoch 216] Train Loss: 0.8545 | Acc: 0.8940 || Val Loss: 1.4225 | Acc: 0.3155\n",
            "[Epoch 217] Train Loss: 0.8526 | Acc: 0.8932 || Val Loss: 1.4010 | Acc: 0.3393\n",
            "[Epoch 218] Train Loss: 0.8462 | Acc: 0.9048 || Val Loss: 1.3256 | Acc: 0.4092\n",
            "[Epoch 219] Train Loss: 0.8455 | Acc: 0.8999 || Val Loss: 1.1723 | Acc: 0.5610\n",
            "[Epoch 220] Train Loss: 0.8581 | Acc: 0.8910 || Val Loss: 1.0816 | Acc: 0.6562\n",
            "[Epoch 221] Train Loss: 0.8460 | Acc: 0.9010 || Val Loss: 1.3462 | Acc: 0.3943\n",
            "[Epoch 222] Train Loss: 0.8407 | Acc: 0.9100 || Val Loss: 1.3079 | Acc: 0.4271\n",
            "[Epoch 223] Train Loss: 0.8500 | Acc: 0.8992 || Val Loss: 1.1440 | Acc: 0.5938\n",
            "[Epoch 224] Train Loss: 0.8398 | Acc: 0.9096 || Val Loss: 1.2946 | Acc: 0.4360\n",
            "[Epoch 225] Train Loss: 0.8481 | Acc: 0.8969 || Val Loss: 1.1979 | Acc: 0.5402\n",
            "[Epoch 226] Train Loss: 0.8439 | Acc: 0.9044 || Val Loss: 1.2577 | Acc: 0.4792\n",
            "[Epoch 227] Train Loss: 0.8442 | Acc: 0.9048 || Val Loss: 1.2641 | Acc: 0.4673\n",
            "[Epoch 228] Train Loss: 0.8385 | Acc: 0.9126 || Val Loss: 1.4235 | Acc: 0.3110\n",
            "[Epoch 229] Train Loss: 0.8406 | Acc: 0.9070 || Val Loss: 1.3758 | Acc: 0.3571\n",
            "[Epoch 230] Train Loss: 0.8437 | Acc: 0.9051 || Val Loss: 1.3990 | Acc: 0.3393\n",
            "[Epoch 231] Train Loss: 0.8496 | Acc: 0.8984 || Val Loss: 1.4453 | Acc: 0.2961\n",
            "[Epoch 232] Train Loss: 0.8422 | Acc: 0.9066 || Val Loss: 1.4268 | Acc: 0.3125\n",
            "[Epoch 233] Train Loss: 0.8460 | Acc: 0.9025 || Val Loss: 1.2643 | Acc: 0.4688\n",
            "[Epoch 234] Train Loss: 0.8448 | Acc: 0.9066 || Val Loss: 1.0984 | Acc: 0.6310\n",
            "[Epoch 235] Train Loss: 0.8472 | Acc: 0.8992 || Val Loss: 1.3876 | Acc: 0.3438\n",
            "[Epoch 236] Train Loss: 0.8408 | Acc: 0.9089 || Val Loss: 1.2444 | Acc: 0.4911\n",
            "[Epoch 237] Train Loss: 0.8408 | Acc: 0.9070 || Val Loss: 1.1986 | Acc: 0.5268\n",
            "[Epoch 238] Train Loss: 0.8428 | Acc: 0.9066 || Val Loss: 1.1997 | Acc: 0.5342\n",
            "[Epoch 239] Train Loss: 0.8473 | Acc: 0.8992 || Val Loss: 1.1785 | Acc: 0.5506\n",
            "[Epoch 240] Train Loss: 0.8505 | Acc: 0.8977 || Val Loss: 1.1570 | Acc: 0.5729\n",
            "[Epoch 241] Train Loss: 0.8391 | Acc: 0.9107 || Val Loss: 1.3045 | Acc: 0.4226\n",
            "[Epoch 242] Train Loss: 0.8441 | Acc: 0.9070 || Val Loss: 1.2687 | Acc: 0.4568\n",
            "[Epoch 243] Train Loss: 0.8443 | Acc: 0.8996 || Val Loss: 1.0360 | Acc: 0.7039\n",
            "[Epoch 244] Train Loss: 0.8475 | Acc: 0.9007 || Val Loss: 1.2739 | Acc: 0.4524\n",
            "[Epoch 245] Train Loss: 0.8509 | Acc: 0.8973 || Val Loss: 1.3017 | Acc: 0.4375\n",
            "[Epoch 246] Train Loss: 0.8393 | Acc: 0.9081 || Val Loss: 1.3404 | Acc: 0.3914\n",
            "[Epoch 247] Train Loss: 0.8392 | Acc: 0.9100 || Val Loss: 1.2672 | Acc: 0.4658\n",
            "[Epoch 248] Train Loss: 0.8381 | Acc: 0.9100 || Val Loss: 1.3374 | Acc: 0.4033\n",
            "[Epoch 249] Train Loss: 0.8529 | Acc: 0.8925 || Val Loss: 1.2211 | Acc: 0.5193\n",
            "[Epoch 250] Train Loss: 0.8449 | Acc: 0.9029 || Val Loss: 1.2801 | Acc: 0.4583\n",
            "[Epoch 251] Train Loss: 0.8452 | Acc: 0.9018 || Val Loss: 1.1600 | Acc: 0.5699\n",
            "[Epoch 252] Train Loss: 0.8426 | Acc: 0.9040 || Val Loss: 1.2266 | Acc: 0.5015\n",
            "[Epoch 253] Train Loss: 0.8455 | Acc: 0.9018 || Val Loss: 1.1727 | Acc: 0.5625\n",
            "[Epoch 254] Train Loss: 0.8408 | Acc: 0.9077 || Val Loss: 1.0917 | Acc: 0.6458\n",
            "[Epoch 255] Train Loss: 0.8409 | Acc: 0.9025 || Val Loss: 1.0530 | Acc: 0.6741\n",
            "[Epoch 256] Train Loss: 0.8452 | Acc: 0.9029 || Val Loss: 1.0857 | Acc: 0.6429\n",
            "[Epoch 257] Train Loss: 0.8405 | Acc: 0.9044 || Val Loss: 1.1427 | Acc: 0.5938\n",
            "[Epoch 258] Train Loss: 0.8418 | Acc: 0.9048 || Val Loss: 1.1148 | Acc: 0.6250\n",
            "[Epoch 259] Train Loss: 0.8521 | Acc: 0.8940 || Val Loss: 1.2392 | Acc: 0.4955\n",
            "[Epoch 260] Train Loss: 0.8425 | Acc: 0.9036 || Val Loss: 1.1021 | Acc: 0.6280\n",
            "[Epoch 261] Train Loss: 0.8319 | Acc: 0.9182 || Val Loss: 1.0399 | Acc: 0.6905\n",
            "[Epoch 262] Train Loss: 0.8364 | Acc: 0.9126 || Val Loss: 1.0712 | Acc: 0.6637\n",
            "[Epoch 263] Train Loss: 0.8325 | Acc: 0.9178 || Val Loss: 1.2071 | Acc: 0.5223\n",
            "[Epoch 264] Train Loss: 0.8352 | Acc: 0.9156 || Val Loss: 1.2430 | Acc: 0.4836\n",
            "[Epoch 265] Train Loss: 0.8369 | Acc: 0.9085 || Val Loss: 1.3253 | Acc: 0.4107\n",
            "[Epoch 266] Train Loss: 0.8437 | Acc: 0.9029 || Val Loss: 1.2675 | Acc: 0.4702\n",
            "[Epoch 267] Train Loss: 0.8381 | Acc: 0.9118 || Val Loss: 1.1096 | Acc: 0.6280\n",
            "[Epoch 268] Train Loss: 0.8342 | Acc: 0.9141 || Val Loss: 1.2489 | Acc: 0.4821\n",
            "[Epoch 269] Train Loss: 0.8409 | Acc: 0.9070 || Val Loss: 1.2490 | Acc: 0.4866\n",
            "[Epoch 270] Train Loss: 0.8413 | Acc: 0.9040 || Val Loss: 1.2066 | Acc: 0.5312\n",
            "[Epoch 271] Train Loss: 0.8362 | Acc: 0.9129 || Val Loss: 1.1465 | Acc: 0.5863\n",
            "[Epoch 272] Train Loss: 0.8322 | Acc: 0.9141 || Val Loss: 1.1576 | Acc: 0.5789\n",
            "[Epoch 273] Train Loss: 0.8408 | Acc: 0.9055 || Val Loss: 1.0524 | Acc: 0.6845\n",
            "[Epoch 274] Train Loss: 0.8386 | Acc: 0.9081 || Val Loss: 1.0833 | Acc: 0.6488\n",
            "[Epoch 275] Train Loss: 0.8375 | Acc: 0.9074 || Val Loss: 1.1631 | Acc: 0.5670\n",
            "[Epoch 276] Train Loss: 0.8438 | Acc: 0.9007 || Val Loss: 1.1074 | Acc: 0.6295\n",
            "[Epoch 277] Train Loss: 0.8411 | Acc: 0.9062 || Val Loss: 1.2828 | Acc: 0.4524\n",
            "[Epoch 278] Train Loss: 0.8304 | Acc: 0.9178 || Val Loss: 1.2495 | Acc: 0.4851\n",
            "[Epoch 279] Train Loss: 0.8341 | Acc: 0.9133 || Val Loss: 1.2049 | Acc: 0.5298\n",
            "[Epoch 280] Train Loss: 0.8323 | Acc: 0.9144 || Val Loss: 1.1719 | Acc: 0.5625\n",
            "[Epoch 281] Train Loss: 0.8327 | Acc: 0.9152 || Val Loss: 1.1011 | Acc: 0.6369\n",
            "[Epoch 282] Train Loss: 0.8380 | Acc: 0.9085 || Val Loss: 1.1066 | Acc: 0.6220\n",
            "[Epoch 283] Train Loss: 0.8398 | Acc: 0.9059 || Val Loss: 1.1472 | Acc: 0.5878\n",
            "[Epoch 284] Train Loss: 0.8377 | Acc: 0.9107 || Val Loss: 1.2518 | Acc: 0.4821\n",
            "[Epoch 285] Train Loss: 0.8358 | Acc: 0.9107 || Val Loss: 1.1206 | Acc: 0.6101\n",
            "[Epoch 286] Train Loss: 0.8319 | Acc: 0.9144 || Val Loss: 1.2350 | Acc: 0.5000\n",
            "[Epoch 287] Train Loss: 0.8388 | Acc: 0.9040 || Val Loss: 1.0467 | Acc: 0.6875\n",
            "[Epoch 288] Train Loss: 0.8351 | Acc: 0.9129 || Val Loss: 1.2751 | Acc: 0.4598\n",
            "[Epoch 289] Train Loss: 0.8324 | Acc: 0.9163 || Val Loss: 1.2382 | Acc: 0.4970\n",
            "[Epoch 290] Train Loss: 0.8357 | Acc: 0.9148 || Val Loss: 1.2785 | Acc: 0.4583\n",
            "[Epoch 291] Train Loss: 0.8264 | Acc: 0.9219 || Val Loss: 1.2635 | Acc: 0.4688\n",
            "[Epoch 292] Train Loss: 0.8390 | Acc: 0.9062 || Val Loss: 1.3350 | Acc: 0.4003\n",
            "[Epoch 293] Train Loss: 0.8341 | Acc: 0.9129 || Val Loss: 1.2409 | Acc: 0.4955\n",
            "[Epoch 294] Train Loss: 0.8310 | Acc: 0.9189 || Val Loss: 1.1107 | Acc: 0.6086\n",
            "[Epoch 295] Train Loss: 0.8385 | Acc: 0.9111 || Val Loss: 1.2106 | Acc: 0.5223\n",
            "[Epoch 296] Train Loss: 0.8339 | Acc: 0.9148 || Val Loss: 1.2018 | Acc: 0.5357\n",
            "[Epoch 297] Train Loss: 0.8343 | Acc: 0.9133 || Val Loss: 1.0544 | Acc: 0.6845\n",
            "[Epoch 298] Train Loss: 0.8293 | Acc: 0.9174 || Val Loss: 1.1668 | Acc: 0.5640\n",
            "[Epoch 299] Train Loss: 0.8339 | Acc: 0.9126 || Val Loss: 1.2184 | Acc: 0.5089\n",
            "[Epoch 300] Train Loss: 0.8381 | Acc: 0.9077 || Val Loss: 1.2543 | Acc: 0.4792\n",
            "[Epoch 301] Train Loss: 0.8314 | Acc: 0.9159 || Val Loss: 1.1383 | Acc: 0.5923\n",
            "[Epoch 302] Train Loss: 0.8352 | Acc: 0.9096 || Val Loss: 1.1090 | Acc: 0.6295\n",
            "[Epoch 303] Train Loss: 0.8294 | Acc: 0.9182 || Val Loss: 1.0735 | Acc: 0.6607\n",
            "[Epoch 304] Train Loss: 0.8364 | Acc: 0.9115 || Val Loss: 1.2418 | Acc: 0.4821\n",
            "[Epoch 305] Train Loss: 0.8323 | Acc: 0.9141 || Val Loss: 1.1276 | Acc: 0.6116\n",
            "[Epoch 306] Train Loss: 0.8328 | Acc: 0.9156 || Val Loss: 1.1274 | Acc: 0.6042\n",
            "[Epoch 307] Train Loss: 0.8322 | Acc: 0.9159 || Val Loss: 1.2502 | Acc: 0.4866\n",
            "[Epoch 308] Train Loss: 0.8221 | Acc: 0.9286 || Val Loss: 1.1342 | Acc: 0.5967\n",
            "[Epoch 309] Train Loss: 0.8235 | Acc: 0.9263 || Val Loss: 1.4186 | Acc: 0.3244\n",
            "[Epoch 310] Train Loss: 0.8323 | Acc: 0.9163 || Val Loss: 1.3062 | Acc: 0.4315\n",
            "[Epoch 311] Train Loss: 0.8329 | Acc: 0.9115 || Val Loss: 1.2017 | Acc: 0.5312\n",
            "[Epoch 312] Train Loss: 0.8435 | Acc: 0.9048 || Val Loss: 1.1815 | Acc: 0.5446\n",
            "[Epoch 313] Train Loss: 0.8338 | Acc: 0.9115 || Val Loss: 1.2225 | Acc: 0.5119\n",
            "[Epoch 314] Train Loss: 0.8328 | Acc: 0.9152 || Val Loss: 1.3408 | Acc: 0.3973\n",
            "[Epoch 315] Train Loss: 0.8328 | Acc: 0.9115 || Val Loss: 1.0509 | Acc: 0.6830\n",
            "[Epoch 316] Train Loss: 0.8314 | Acc: 0.9152 || Val Loss: 1.2091 | Acc: 0.5268\n",
            "[Epoch 317] Train Loss: 0.8273 | Acc: 0.9200 || Val Loss: 1.2997 | Acc: 0.4360\n",
            "[Epoch 318] Train Loss: 0.8362 | Acc: 0.9089 || Val Loss: 1.2704 | Acc: 0.4613\n",
            "[Epoch 319] Train Loss: 0.8300 | Acc: 0.9152 || Val Loss: 1.1798 | Acc: 0.5595\n",
            "[Epoch 320] Train Loss: 0.8289 | Acc: 0.9163 || Val Loss: 1.1959 | Acc: 0.5417\n",
            "[Epoch 321] Train Loss: 0.8274 | Acc: 0.9219 || Val Loss: 1.2406 | Acc: 0.4970\n",
            "[Epoch 322] Train Loss: 0.8302 | Acc: 0.9163 || Val Loss: 1.2006 | Acc: 0.5283\n",
            "[Epoch 323] Train Loss: 0.8326 | Acc: 0.9122 || Val Loss: 1.3348 | Acc: 0.4003\n",
            "[Epoch 324] Train Loss: 0.8329 | Acc: 0.9141 || Val Loss: 1.0661 | Acc: 0.6741\n",
            "[Epoch 325] Train Loss: 0.8325 | Acc: 0.9159 || Val Loss: 1.1135 | Acc: 0.6190\n",
            "[Epoch 326] Train Loss: 0.8270 | Acc: 0.9226 || Val Loss: 1.1240 | Acc: 0.6176\n",
            "[Epoch 327] Train Loss: 0.8283 | Acc: 0.9185 || Val Loss: 1.2042 | Acc: 0.5342\n",
            "[Epoch 328] Train Loss: 0.8295 | Acc: 0.9182 || Val Loss: 1.3624 | Acc: 0.3720\n",
            "[Epoch 329] Train Loss: 0.8312 | Acc: 0.9126 || Val Loss: 1.1647 | Acc: 0.5655\n",
            "[Epoch 330] Train Loss: 0.8271 | Acc: 0.9208 || Val Loss: 1.1932 | Acc: 0.5476\n",
            "[Epoch 331] Train Loss: 0.8279 | Acc: 0.9174 || Val Loss: 1.2454 | Acc: 0.4911\n",
            "[Epoch 332] Train Loss: 0.8254 | Acc: 0.9215 || Val Loss: 1.1883 | Acc: 0.5461\n",
            "[Epoch 333] Train Loss: 0.8293 | Acc: 0.9189 || Val Loss: 1.2508 | Acc: 0.4807\n",
            "[Epoch 334] Train Loss: 0.8312 | Acc: 0.9144 || Val Loss: 1.1629 | Acc: 0.5714\n",
            "[Epoch 335] Train Loss: 0.8329 | Acc: 0.9141 || Val Loss: 1.2799 | Acc: 0.4613\n",
            "[Epoch 336] Train Loss: 0.8232 | Acc: 0.9252 || Val Loss: 1.2323 | Acc: 0.5030\n",
            "[Epoch 337] Train Loss: 0.8287 | Acc: 0.9178 || Val Loss: 1.2890 | Acc: 0.4464\n",
            "[Epoch 338] Train Loss: 0.8266 | Acc: 0.9208 || Val Loss: 1.2706 | Acc: 0.4673\n",
            "[Epoch 339] Train Loss: 0.8316 | Acc: 0.9118 || Val Loss: 1.2867 | Acc: 0.4524\n",
            "[Epoch 340] Train Loss: 0.8236 | Acc: 0.9252 || Val Loss: 1.0851 | Acc: 0.6473\n",
            "[Epoch 341] Train Loss: 0.8283 | Acc: 0.9185 || Val Loss: 1.4603 | Acc: 0.2798\n",
            "[Epoch 342] Train Loss: 0.8282 | Acc: 0.9167 || Val Loss: 1.3829 | Acc: 0.3527\n",
            "[Epoch 343] Train Loss: 0.8334 | Acc: 0.9092 || Val Loss: 1.1432 | Acc: 0.5863\n",
            "[Epoch 344] Train Loss: 0.8225 | Acc: 0.9211 || Val Loss: 1.1314 | Acc: 0.6071\n",
            "[Epoch 345] Train Loss: 0.8281 | Acc: 0.9178 || Val Loss: 1.1262 | Acc: 0.6012\n",
            "[Epoch 346] Train Loss: 0.8264 | Acc: 0.9193 || Val Loss: 1.3256 | Acc: 0.4077\n",
            "[Epoch 347] Train Loss: 0.8299 | Acc: 0.9156 || Val Loss: 1.2164 | Acc: 0.5164\n",
            "[Epoch 348] Train Loss: 0.8331 | Acc: 0.9122 || Val Loss: 1.1722 | Acc: 0.5565\n",
            "[Epoch 349] Train Loss: 0.8221 | Acc: 0.9252 || Val Loss: 1.4106 | Acc: 0.3244\n",
            "[Epoch 350] Train Loss: 0.8257 | Acc: 0.9185 || Val Loss: 1.1852 | Acc: 0.5536\n",
            "[Epoch 351] Train Loss: 0.8300 | Acc: 0.9159 || Val Loss: 1.3033 | Acc: 0.4345\n",
            "[Epoch 352] Train Loss: 0.8233 | Acc: 0.9260 || Val Loss: 1.1243 | Acc: 0.6086\n",
            "[Epoch 353] Train Loss: 0.8216 | Acc: 0.9297 || Val Loss: 1.3413 | Acc: 0.3943\n",
            "[Epoch 354] Train Loss: 0.8257 | Acc: 0.9189 || Val Loss: 1.2994 | Acc: 0.4405\n",
            "[Epoch 355] Train Loss: 0.8185 | Acc: 0.9308 || Val Loss: 1.1908 | Acc: 0.5491\n",
            "[Epoch 356] Train Loss: 0.8319 | Acc: 0.9152 || Val Loss: 1.2470 | Acc: 0.4836\n",
            "[Epoch 357] Train Loss: 0.8252 | Acc: 0.9204 || Val Loss: 1.2023 | Acc: 0.5327\n",
            "[Epoch 358] Train Loss: 0.8268 | Acc: 0.9196 || Val Loss: 1.0859 | Acc: 0.6458\n",
            "[Epoch 359] Train Loss: 0.8256 | Acc: 0.9200 || Val Loss: 1.0792 | Acc: 0.6488\n",
            "[Epoch 360] Train Loss: 0.8259 | Acc: 0.9215 || Val Loss: 1.2960 | Acc: 0.4330\n",
            "[Epoch 361] Train Loss: 0.8254 | Acc: 0.9189 || Val Loss: 1.2717 | Acc: 0.4583\n",
            "[Epoch 362] Train Loss: 0.8244 | Acc: 0.9245 || Val Loss: 1.0857 | Acc: 0.6443\n",
            "[Epoch 363] Train Loss: 0.8225 | Acc: 0.9241 || Val Loss: 1.1809 | Acc: 0.5565\n",
            "[Epoch 364] Train Loss: 0.8272 | Acc: 0.9193 || Val Loss: 1.1821 | Acc: 0.5536\n",
            "[Epoch 365] Train Loss: 0.8236 | Acc: 0.9252 || Val Loss: 1.1911 | Acc: 0.5506\n",
            "[Epoch 366] Train Loss: 0.8266 | Acc: 0.9182 || Val Loss: 1.2252 | Acc: 0.5074\n",
            "[Epoch 367] Train Loss: 0.8288 | Acc: 0.9163 || Val Loss: 1.4282 | Acc: 0.3140\n",
            "[Epoch 368] Train Loss: 0.8296 | Acc: 0.9156 || Val Loss: 1.3185 | Acc: 0.4196\n",
            "[Epoch 369] Train Loss: 0.8236 | Acc: 0.9215 || Val Loss: 1.3254 | Acc: 0.4077\n",
            "[Epoch 370] Train Loss: 0.8255 | Acc: 0.9211 || Val Loss: 1.3449 | Acc: 0.3914\n",
            "[Epoch 371] Train Loss: 0.8167 | Acc: 0.9315 || Val Loss: 1.2167 | Acc: 0.5223\n",
            "[Epoch 372] Train Loss: 0.8296 | Acc: 0.9152 || Val Loss: 1.1206 | Acc: 0.6086\n",
            "[Epoch 373] Train Loss: 0.8187 | Acc: 0.9301 || Val Loss: 1.1572 | Acc: 0.5729\n",
            "[Epoch 374] Train Loss: 0.8170 | Acc: 0.9293 || Val Loss: 1.2499 | Acc: 0.4911\n",
            "[Epoch 375] Train Loss: 0.8254 | Acc: 0.9185 || Val Loss: 1.2828 | Acc: 0.4554\n",
            "[Epoch 376] Train Loss: 0.8268 | Acc: 0.9204 || Val Loss: 1.2604 | Acc: 0.4777\n",
            "[Epoch 377] Train Loss: 0.8230 | Acc: 0.9237 || Val Loss: 1.2382 | Acc: 0.4970\n",
            "[Epoch 378] Train Loss: 0.8266 | Acc: 0.9200 || Val Loss: 1.4095 | Acc: 0.3304\n",
            "[Epoch 379] Train Loss: 0.8247 | Acc: 0.9222 || Val Loss: 1.4598 | Acc: 0.2827\n",
            "[Epoch 380] Train Loss: 0.8300 | Acc: 0.9159 || Val Loss: 1.4671 | Acc: 0.2753\n",
            "[Epoch 381] Train Loss: 0.8203 | Acc: 0.9267 || Val Loss: 1.2105 | Acc: 0.5208\n",
            "[Epoch 382] Train Loss: 0.8278 | Acc: 0.9189 || Val Loss: 1.2488 | Acc: 0.4881\n",
            "[Epoch 383] Train Loss: 0.8231 | Acc: 0.9222 || Val Loss: 1.2064 | Acc: 0.5268\n",
            "[Epoch 384] Train Loss: 0.8210 | Acc: 0.9245 || Val Loss: 1.1635 | Acc: 0.5744\n",
            "[Epoch 385] Train Loss: 0.8264 | Acc: 0.9200 || Val Loss: 1.2811 | Acc: 0.4554\n",
            "[Epoch 386] Train Loss: 0.8211 | Acc: 0.9267 || Val Loss: 1.1436 | Acc: 0.5908\n",
            "[Epoch 387] Train Loss: 0.8165 | Acc: 0.9315 || Val Loss: 1.2704 | Acc: 0.4643\n",
            "[Epoch 388] Train Loss: 0.8198 | Acc: 0.9301 || Val Loss: 1.2037 | Acc: 0.5283\n",
            "[Epoch 389] Train Loss: 0.8234 | Acc: 0.9234 || Val Loss: 1.2577 | Acc: 0.4747\n",
            "[Epoch 390] Train Loss: 0.8238 | Acc: 0.9222 || Val Loss: 1.0799 | Acc: 0.6518\n",
            "[Epoch 391] Train Loss: 0.8133 | Acc: 0.9368 || Val Loss: 1.1966 | Acc: 0.5417\n",
            "[Epoch 392] Train Loss: 0.8276 | Acc: 0.9170 || Val Loss: 1.2324 | Acc: 0.5045\n",
            "[Epoch 393] Train Loss: 0.8212 | Acc: 0.9249 || Val Loss: 1.1733 | Acc: 0.5610\n",
            "[Epoch 394] Train Loss: 0.8203 | Acc: 0.9278 || Val Loss: 1.1537 | Acc: 0.5804\n",
            "[Epoch 395] Train Loss: 0.8218 | Acc: 0.9211 || Val Loss: 1.2980 | Acc: 0.4390\n",
            "[Epoch 396] Train Loss: 0.8263 | Acc: 0.9159 || Val Loss: 1.0862 | Acc: 0.6548\n",
            "[Epoch 397] Train Loss: 0.8236 | Acc: 0.9215 || Val Loss: 1.0879 | Acc: 0.6473\n",
            "[Epoch 398] Train Loss: 0.8178 | Acc: 0.9308 || Val Loss: 1.1612 | Acc: 0.5729\n",
            "[Epoch 399] Train Loss: 0.8237 | Acc: 0.9249 || Val Loss: 1.3946 | Acc: 0.3438\n",
            "[Epoch 400] Train Loss: 0.8189 | Acc: 0.9256 || Val Loss: 1.1812 | Acc: 0.5491\n",
            "[Epoch 401] Train Loss: 0.8227 | Acc: 0.9215 || Val Loss: 1.2368 | Acc: 0.4926\n",
            "[Epoch 402] Train Loss: 0.8151 | Acc: 0.9327 || Val Loss: 1.3089 | Acc: 0.4196\n",
            "[Epoch 403] Train Loss: 0.8146 | Acc: 0.9338 || Val Loss: 1.4074 | Acc: 0.3348\n",
            "[Epoch 404] Train Loss: 0.8197 | Acc: 0.9301 || Val Loss: 1.2653 | Acc: 0.4732\n",
            "[Epoch 405] Train Loss: 0.8160 | Acc: 0.9323 || Val Loss: 1.2704 | Acc: 0.4747\n",
            "[Epoch 406] Train Loss: 0.8192 | Acc: 0.9260 || Val Loss: 1.4514 | Acc: 0.2932\n",
            "[Epoch 407] Train Loss: 0.8206 | Acc: 0.9245 || Val Loss: 1.4151 | Acc: 0.3274\n",
            "[Epoch 408] Train Loss: 0.8211 | Acc: 0.9271 || Val Loss: 1.3253 | Acc: 0.4137\n",
            "[Epoch 409] Train Loss: 0.8125 | Acc: 0.9353 || Val Loss: 1.0483 | Acc: 0.6860\n",
            "[Epoch 410] Train Loss: 0.8204 | Acc: 0.9234 || Val Loss: 1.2801 | Acc: 0.4568\n",
            "[Epoch 411] Train Loss: 0.8196 | Acc: 0.9256 || Val Loss: 1.3152 | Acc: 0.4226\n",
            "[Epoch 412] Train Loss: 0.8211 | Acc: 0.9282 || Val Loss: 1.3781 | Acc: 0.3557\n",
            "[Epoch 413] Train Loss: 0.8213 | Acc: 0.9256 || Val Loss: 1.4100 | Acc: 0.3304\n",
            "[Epoch 414] Train Loss: 0.8274 | Acc: 0.9163 || Val Loss: 1.1193 | Acc: 0.6250\n",
            "[Epoch 415] Train Loss: 0.8129 | Acc: 0.9338 || Val Loss: 1.4819 | Acc: 0.2604\n",
            "[Epoch 416] Train Loss: 0.8240 | Acc: 0.9222 || Val Loss: 1.3279 | Acc: 0.4152\n",
            "[Epoch 417] Train Loss: 0.8211 | Acc: 0.9260 || Val Loss: 1.2216 | Acc: 0.5134\n",
            "[Epoch 418] Train Loss: 0.8193 | Acc: 0.9275 || Val Loss: 1.2140 | Acc: 0.5238\n",
            "[Epoch 419] Train Loss: 0.8185 | Acc: 0.9267 || Val Loss: 1.0909 | Acc: 0.6458\n",
            "[Epoch 420] Train Loss: 0.8208 | Acc: 0.9256 || Val Loss: 1.2237 | Acc: 0.5134\n",
            "[Epoch 421] Train Loss: 0.8225 | Acc: 0.9234 || Val Loss: 1.2229 | Acc: 0.5119\n",
            "[Epoch 422] Train Loss: 0.8234 | Acc: 0.9204 || Val Loss: 1.2437 | Acc: 0.4940\n",
            "[Epoch 423] Train Loss: 0.8242 | Acc: 0.9204 || Val Loss: 1.1412 | Acc: 0.5938\n",
            "[Epoch 424] Train Loss: 0.8177 | Acc: 0.9330 || Val Loss: 1.1658 | Acc: 0.5744\n",
            "[Epoch 425] Train Loss: 0.8124 | Acc: 0.9330 || Val Loss: 1.2891 | Acc: 0.4479\n",
            "[Epoch 426] Train Loss: 0.8181 | Acc: 0.9282 || Val Loss: 1.1561 | Acc: 0.5759\n",
            "[Epoch 427] Train Loss: 0.8212 | Acc: 0.9249 || Val Loss: 1.0235 | Acc: 0.7143\n",
            "[Epoch 428] Train Loss: 0.8181 | Acc: 0.9245 || Val Loss: 1.2369 | Acc: 0.5030\n",
            "[Epoch 429] Train Loss: 0.8117 | Acc: 0.9342 || Val Loss: 1.3504 | Acc: 0.3914\n",
            "[Epoch 430] Train Loss: 0.8205 | Acc: 0.9260 || Val Loss: 1.1300 | Acc: 0.6042\n",
            "[Epoch 431] Train Loss: 0.8177 | Acc: 0.9289 || Val Loss: 1.2724 | Acc: 0.4598\n",
            "[Epoch 432] Train Loss: 0.8182 | Acc: 0.9297 || Val Loss: 1.3839 | Acc: 0.3542\n",
            "[Epoch 433] Train Loss: 0.8148 | Acc: 0.9319 || Val Loss: 1.0781 | Acc: 0.6637\n",
            "[Epoch 434] Train Loss: 0.8213 | Acc: 0.9263 || Val Loss: 1.1561 | Acc: 0.5774\n",
            "[Epoch 435] Train Loss: 0.8190 | Acc: 0.9297 || Val Loss: 1.3044 | Acc: 0.4345\n",
            "[Epoch 436] Train Loss: 0.8159 | Acc: 0.9275 || Val Loss: 1.2543 | Acc: 0.4777\n",
            "[Epoch 437] Train Loss: 0.8186 | Acc: 0.9278 || Val Loss: 1.2293 | Acc: 0.5030\n",
            "[Epoch 438] Train Loss: 0.8148 | Acc: 0.9282 || Val Loss: 1.3534 | Acc: 0.3854\n",
            "[Epoch 439] Train Loss: 0.8161 | Acc: 0.9282 || Val Loss: 1.2995 | Acc: 0.4345\n",
            "[Epoch 440] Train Loss: 0.8221 | Acc: 0.9211 || Val Loss: 1.1453 | Acc: 0.5952\n",
            "[Epoch 441] Train Loss: 0.8206 | Acc: 0.9237 || Val Loss: 1.2145 | Acc: 0.5179\n",
            "[Epoch 442] Train Loss: 0.8152 | Acc: 0.9327 || Val Loss: 1.3140 | Acc: 0.4211\n",
            "[Epoch 443] Train Loss: 0.8159 | Acc: 0.9289 || Val Loss: 1.0978 | Acc: 0.6354\n",
            "[Epoch 444] Train Loss: 0.8235 | Acc: 0.9215 || Val Loss: 1.1656 | Acc: 0.5685\n",
            "[Epoch 445] Train Loss: 0.8168 | Acc: 0.9275 || Val Loss: 1.2794 | Acc: 0.4539\n",
            "[Epoch 446] Train Loss: 0.8196 | Acc: 0.9249 || Val Loss: 1.2574 | Acc: 0.4747\n",
            "[Epoch 447] Train Loss: 0.8217 | Acc: 0.9222 || Val Loss: 1.1257 | Acc: 0.6116\n",
            "[Epoch 448] Train Loss: 0.8078 | Acc: 0.9435 || Val Loss: 1.2100 | Acc: 0.5268\n",
            "[Epoch 449] Train Loss: 0.8158 | Acc: 0.9304 || Val Loss: 1.1777 | Acc: 0.5580\n",
            "[Epoch 450] Train Loss: 0.8129 | Acc: 0.9338 || Val Loss: 1.2221 | Acc: 0.5164\n",
            "[Epoch 451] Train Loss: 0.8168 | Acc: 0.9286 || Val Loss: 1.3190 | Acc: 0.4152\n",
            "[Epoch 452] Train Loss: 0.8179 | Acc: 0.9271 || Val Loss: 1.3789 | Acc: 0.3616\n",
            "[Epoch 453] Train Loss: 0.8212 | Acc: 0.9241 || Val Loss: 1.2755 | Acc: 0.4568\n",
            "[Epoch 454] Train Loss: 0.8176 | Acc: 0.9282 || Val Loss: 1.0766 | Acc: 0.6607\n",
            "[Epoch 455] Train Loss: 0.8150 | Acc: 0.9315 || Val Loss: 1.4021 | Acc: 0.3408\n",
            "[Epoch 456] Train Loss: 0.8135 | Acc: 0.9327 || Val Loss: 1.0637 | Acc: 0.6741\n",
            "[Epoch 457] Train Loss: 0.8170 | Acc: 0.9289 || Val Loss: 1.1045 | Acc: 0.6280\n",
            "[Epoch 458] Train Loss: 0.8217 | Acc: 0.9249 || Val Loss: 1.3286 | Acc: 0.4018\n",
            "[Epoch 459] Train Loss: 0.8261 | Acc: 0.9170 || Val Loss: 1.1544 | Acc: 0.5893\n",
            "[Epoch 460] Train Loss: 0.8116 | Acc: 0.9368 || Val Loss: 1.0819 | Acc: 0.6607\n",
            "[Epoch 461] Train Loss: 0.8184 | Acc: 0.9289 || Val Loss: 1.2613 | Acc: 0.4732\n",
            "[Epoch 462] Train Loss: 0.8182 | Acc: 0.9282 || Val Loss: 1.1659 | Acc: 0.5699\n",
            "[Epoch 463] Train Loss: 0.8167 | Acc: 0.9301 || Val Loss: 1.1558 | Acc: 0.5774\n",
            "[Epoch 464] Train Loss: 0.8190 | Acc: 0.9226 || Val Loss: 1.0849 | Acc: 0.6473\n",
            "[Epoch 465] Train Loss: 0.8081 | Acc: 0.9368 || Val Loss: 1.1362 | Acc: 0.5997\n",
            "[Epoch 466] Train Loss: 0.8165 | Acc: 0.9278 || Val Loss: 1.2612 | Acc: 0.4807\n",
            "[Epoch 467] Train Loss: 0.8148 | Acc: 0.9293 || Val Loss: 1.2657 | Acc: 0.4732\n",
            "[Epoch 468] Train Loss: 0.8177 | Acc: 0.9275 || Val Loss: 1.0951 | Acc: 0.6354\n",
            "[Epoch 469] Train Loss: 0.8100 | Acc: 0.9375 || Val Loss: 1.2476 | Acc: 0.4836\n",
            "[Epoch 470] Train Loss: 0.8112 | Acc: 0.9334 || Val Loss: 1.4033 | Acc: 0.3378\n",
            "[Epoch 471] Train Loss: 0.8161 | Acc: 0.9297 || Val Loss: 1.3467 | Acc: 0.3958\n",
            "[Epoch 472] Train Loss: 0.8171 | Acc: 0.9289 || Val Loss: 1.1582 | Acc: 0.5789\n",
            "[Epoch 473] Train Loss: 0.8136 | Acc: 0.9297 || Val Loss: 1.2407 | Acc: 0.5000\n",
            "[Epoch 474] Train Loss: 0.8178 | Acc: 0.9282 || Val Loss: 1.1763 | Acc: 0.5536\n",
            "[Epoch 475] Train Loss: 0.8182 | Acc: 0.9275 || Val Loss: 1.1482 | Acc: 0.5893\n",
            "[Epoch 476] Train Loss: 0.8160 | Acc: 0.9308 || Val Loss: 1.1805 | Acc: 0.5491\n",
            "[Epoch 477] Train Loss: 0.8126 | Acc: 0.9353 || Val Loss: 1.2868 | Acc: 0.4554\n",
            "[Epoch 478] Train Loss: 0.8135 | Acc: 0.9334 || Val Loss: 1.0569 | Acc: 0.6786\n",
            "[Epoch 479] Train Loss: 0.8159 | Acc: 0.9260 || Val Loss: 1.1630 | Acc: 0.5759\n",
            "[Epoch 480] Train Loss: 0.8141 | Acc: 0.9308 || Val Loss: 1.1846 | Acc: 0.5551\n",
            "[Epoch 481] Train Loss: 0.8095 | Acc: 0.9371 || Val Loss: 1.2058 | Acc: 0.5327\n",
            "[Epoch 482] Train Loss: 0.8136 | Acc: 0.9323 || Val Loss: 1.3380 | Acc: 0.4003\n",
            "[Epoch 483] Train Loss: 0.8177 | Acc: 0.9271 || Val Loss: 1.2751 | Acc: 0.4628\n",
            "[Epoch 484] Train Loss: 0.8180 | Acc: 0.9275 || Val Loss: 1.2617 | Acc: 0.4717\n",
            "[Epoch 485] Train Loss: 0.8143 | Acc: 0.9312 || Val Loss: 1.1617 | Acc: 0.5759\n",
            "[Epoch 486] Train Loss: 0.8103 | Acc: 0.9364 || Val Loss: 1.2975 | Acc: 0.4390\n",
            "[Epoch 487] Train Loss: 0.8082 | Acc: 0.9386 || Val Loss: 1.3380 | Acc: 0.4003\n",
            "[Epoch 488] Train Loss: 0.8117 | Acc: 0.9338 || Val Loss: 1.1125 | Acc: 0.6235\n",
            "[Epoch 489] Train Loss: 0.8145 | Acc: 0.9278 || Val Loss: 1.3755 | Acc: 0.3601\n",
            "[Epoch 490] Train Loss: 0.8158 | Acc: 0.9293 || Val Loss: 1.1801 | Acc: 0.5580\n",
            "[Epoch 491] Train Loss: 0.8126 | Acc: 0.9323 || Val Loss: 1.1520 | Acc: 0.5833\n",
            "[Epoch 492] Train Loss: 0.8131 | Acc: 0.9308 || Val Loss: 1.2627 | Acc: 0.4732\n",
            "[Epoch 493] Train Loss: 0.8121 | Acc: 0.9330 || Val Loss: 1.1916 | Acc: 0.5402\n",
            "[Epoch 494] Train Loss: 0.8161 | Acc: 0.9267 || Val Loss: 1.2260 | Acc: 0.5089\n",
            "[Epoch 495] Train Loss: 0.8085 | Acc: 0.9379 || Val Loss: 1.2456 | Acc: 0.4881\n",
            "[Epoch 496] Train Loss: 0.8128 | Acc: 0.9330 || Val Loss: 1.2186 | Acc: 0.5164\n",
            "[Epoch 497] Train Loss: 0.8060 | Acc: 0.9401 || Val Loss: 1.1674 | Acc: 0.5670\n",
            "[Epoch 498] Train Loss: 0.8097 | Acc: 0.9382 || Val Loss: 1.0536 | Acc: 0.6875\n",
            "[Epoch 499] Train Loss: 0.8143 | Acc: 0.9289 || Val Loss: 1.2350 | Acc: 0.5074\n",
            "[Epoch 500] Train Loss: 0.8172 | Acc: 0.9293 || Val Loss: 1.2140 | Acc: 0.5253\n"
          ]
        }
      ]
    },
    {
      "cell_type": "code",
      "source": [
        "#best val acc: 0.6905"
      ],
      "metadata": {
        "id": "r2J-0JcEm7FJ"
      },
      "id": "r2J-0JcEm7FJ",
      "execution_count": null,
      "outputs": []
    },
    {
      "cell_type": "code",
      "source": [
        "import matplotlib.pyplot as plt\n",
        "\n",
        "plt.figure(figsize=(12, 4))\n",
        "plt.style.use('tableau-colorblind10')\n",
        "\n",
        "# Plot training & validation loss\n",
        "plt.subplot(1, 2, 1)\n",
        "plt.plot(history[\"train_loss\"], label=\"Training Loss\")\n",
        "plt.plot(history[\"val_loss\"], label=\"Validation Loss\")\n",
        "plt.xlabel(\"Epoch\")\n",
        "plt.ylabel(\"Loss\")\n",
        "plt.legend()\n",
        "\n",
        "# Plot training & validation accuracy\n",
        "plt.subplot(1, 2, 2)\n",
        "plt.plot([v * 100 for v in history[\"train_acc\"]], label=\"Training Accuracy\")\n",
        "plt.plot([v * 100 for v in history[\"val_acc\"]], label=\"Validation Accuracy\")\n",
        "plt.xlabel(\"Epoch\")\n",
        "plt.ylabel(\"Accuracy (%)\")\n",
        "plt.legend()\n",
        "\n",
        "plt.suptitle(\"Training Progress (Loss & Accuracy)\")\n",
        "plt.tight_layout()\n",
        "plt.show()"
      ],
      "metadata": {
        "id": "BzCmk5Zy_96e",
        "colab": {
          "base_uri": "https://localhost:8080/",
          "height": 337
        },
        "outputId": "5ceb96fd-be5f-4d48-e79a-d5a9a962eb18"
      },
      "id": "BzCmk5Zy_96e",
      "execution_count": null,
      "outputs": [
        {
          "output_type": "display_data",
          "data": {
            "text/plain": [
              "<Figure size 1200x400 with 2 Axes>"
            ],
            "image/png": "[encoded data removed]"
          },
          "metadata": {}
        }
      ]
    },
    {
      "cell_type": "markdown",
      "source": [
        "#evaluate on test datasets"
      ],
      "metadata": {
        "id": "GwbSX30dC71q"
      },
      "id": "GwbSX30dC71q"
    },
    {
      "cell_type": "code",
      "source": [
        "model.eval()\n",
        "test1_loss, test1_correct, test1_total = 0, 0, 0\n",
        "\n",
        "with torch.no_grad():\n",
        "    for x, y, _ in test1_loader:\n",
        "        x = x.unsqueeze(1).to(device)  # [B, 1, 64, 1000]\n",
        "        y = y.to(device)\n",
        "\n",
        "        outputs = model(x)\n",
        "        loss = criterion(outputs, y)\n",
        "\n",
        "        test1_loss += loss.item() * x.size(0)\n",
        "        _, predicted = torch.max(outputs.data, 1)\n",
        "        test1_total += y.size(0)\n",
        "        test1_correct += (predicted == y).sum().item()\n",
        "\n",
        "test1_acc = test1_correct / test1_total\n",
        "test1_loss /= test1_total\n",
        "print(f\"Test1 Loss: {test1_loss:.4f} | Acc: {test1_acc:.4f}\")\n"
      ],
      "metadata": {
        "id": "w3boTeuBDEDx",
        "colab": {
          "base_uri": "https://localhost:8080/"
        },
        "outputId": "477d33e1-7f7b-4880-9b3e-b5a49aa82f8c"
      },
      "id": "w3boTeuBDEDx",
      "execution_count": null,
      "outputs": [
        {
          "output_type": "stream",
          "name": "stdout",
          "text": [
            "Test1 Loss: 1.2009 | Acc: 0.5387\n"
          ]
        }
      ]
    },
    {
      "cell_type": "code",
      "source": [
        "model.eval()\n",
        "test2_loss, test2_correct, test2_total = 0, 0, 0\n",
        "\n",
        "with torch.no_grad():\n",
        "    for x, y, _ in test2_loader:\n",
        "        x = x.unsqueeze(1).to(device)\n",
        "        y = y.to(device)\n",
        "\n",
        "        outputs = model(x)\n",
        "        loss = criterion(outputs, y)\n",
        "\n",
        "        test2_loss += loss.item() * x.size(0)\n",
        "        _, predicted = torch.max(outputs.data, 1)\n",
        "        test2_total += y.size(0)\n",
        "        test2_correct += (predicted == y).sum().item()\n",
        "\n",
        "test2_acc = test2_correct / test2_total\n",
        "test2_loss /= test2_total\n",
        "print(f\"Test2 Loss: {test2_loss:.4f} | Acc: {test2_acc:.4f}\")\n"
      ],
      "metadata": {
        "id": "IYM5Fzy1DhFL",
        "colab": {
          "base_uri": "https://localhost:8080/"
        },
        "outputId": "2a95ea59-ee1e-47f8-c90b-ddab1c0d9152"
      },
      "id": "IYM5Fzy1DhFL",
      "execution_count": null,
      "outputs": [
        {
          "output_type": "stream",
          "name": "stdout",
          "text": [
            "Test2 Loss: 1.3545 | Acc: 0.3811\n"
          ]
        }
      ]
    },
    {
      "cell_type": "code",
      "source": [
        "import numpy as np\n",
        "from sklearn.linear_model import LogisticRegression\n",
        "import torch\n",
        "import torch.nn.functional as F\n",
        "\n",
        "def run_baseline_per_subject_session(root_dir, label_dir, subject_ids, session_list, eegnet_model):\n",
        "    results = {}\n",
        "    for sid in subject_ids:\n",
        "        for session in session_list:\n",
        "            print(f\"\\n[Subject {sid} | Session {session}]\")\n",
        "\n",
        "            # --- load data ---\n",
        "            X, Y = load_data_by_session(root_dir, sid, [session], label_dir=label_dir)\n",
        "            X_np = X.numpy().reshape(X.shape[0], -1)  # flatten for sklearn\n",
        "            Y_np = Y.numpy()\n",
        "\n",
        "            # --- logistic regression ---\n",
        "            clf = LogisticRegression(max_iter=1000)\n",
        "            clf.fit(X_np, Y_np)\n",
        "            acc = clf.score(X_np, Y_np)\n",
        "            print(f\"  [LogisticRegression] Accuracy: {acc:.4f}\")\n",
        "\n",
        "            # --- eegnet ---\n",
        "            eegnet_model.eval()\n",
        "            with torch.no_grad():\n",
        "                outputs = eegnet_model(X.unsqueeze(1).to(next(eegnet_model.parameters()).device))\n",
        "                pred = torch.argmax(F.softmax(outputs, dim=1), dim=1)\n",
        "                acc_nn = (pred.cpu() == Y).float().mean().item()\n",
        "            print(f\"  [EEGNet] Accuracy: {acc_nn:.4f}\")\n",
        "\n",
        "            results[(sid, session)] = {\"logistic\": acc, \"eegnet\": acc_nn}\n",
        "    return results\n",
        "\n",
        "# eegnet_model = EEGNet(nb_classes=4, Chans=22, Samples=1001,\n",
        "#                       dropoutRate=0.2, kernLength=64,\n",
        "#                       F1=16, D=2, F2=32, dropoutType='Dropout').to(device)\n",
        "\n",
        "\n",
        "subject_ids = [1, 2, 3, 4, 5, 6, 7, 8, 9]\n",
        "session_list = [\"first_session\", \"second_session\"]\n",
        "results = run_baseline_per_subject_session(root_dir, label_dir, subject_ids, session_list, model)\n"
      ],
      "metadata": {
        "colab": {
          "base_uri": "https://localhost:8080/"
        },
        "id": "D6ruHL9KFZbG",
        "outputId": "b9e432e2-3dd4-4364-8c61-8b5963f62226"
      },
      "id": "D6ruHL9KFZbG",
      "execution_count": null,
      "outputs": [
        {
          "output_type": "stream",
          "name": "stdout",
          "text": [
            "\n",
            "[Subject 1 | Session first_session]\n"
          ]
        },
        {
          "output_type": "stream",
          "name": "stderr",
          "text": [
            "<ipython-input-38-35fca0330f91>:58: RuntimeWarning: This filename (/content/drive/MyDrive/project/dataset/MI/cleaned_data/first_session/A01T.fif) does not conform to MNE naming conventions. All raw files should end with raw.fif, raw_sss.fif, raw_tsss.fif, _meg.fif, _eeg.fif, _ieeg.fif, raw.fif.gz, raw_sss.fif.gz, raw_tsss.fif.gz, _meg.fif.gz, _eeg.fif.gz or _ieeg.fif.gz\n",
            "  raw = mne.io.read_raw_fif(fpath, preload=True, verbose=False)\n"
          ]
        },
        {
          "output_type": "stream",
          "name": "stdout",
          "text": [
            "  [LogisticRegression] Accuracy: 0.2500\n",
            "  [EEGNet] Accuracy: 0.6181\n",
            "\n",
            "[Subject 1 | Session second_session]\n"
          ]
        },
        {
          "output_type": "stream",
          "name": "stderr",
          "text": [
            "<ipython-input-38-35fca0330f91>:58: RuntimeWarning: This filename (/content/drive/MyDrive/project/dataset/MI/cleaned_data/second_session/A01E.fif) does not conform to MNE naming conventions. All raw files should end with raw.fif, raw_sss.fif, raw_tsss.fif, _meg.fif, _eeg.fif, _ieeg.fif, raw.fif.gz, raw_sss.fif.gz, raw_tsss.fif.gz, _meg.fif.gz, _eeg.fif.gz or _ieeg.fif.gz\n",
            "  raw = mne.io.read_raw_fif(fpath, preload=True, verbose=False)\n"
          ]
        },
        {
          "output_type": "stream",
          "name": "stdout",
          "text": [
            "  [LogisticRegression] Accuracy: 0.2500\n",
            "  [EEGNet] Accuracy: 0.6042\n",
            "\n",
            "[Subject 2 | Session first_session]\n"
          ]
        },
        {
          "output_type": "stream",
          "name": "stderr",
          "text": [
            "<ipython-input-38-35fca0330f91>:58: RuntimeWarning: This filename (/content/drive/MyDrive/project/dataset/MI/cleaned_data/first_session/A02T.fif) does not conform to MNE naming conventions. All raw files should end with raw.fif, raw_sss.fif, raw_tsss.fif, _meg.fif, _eeg.fif, _ieeg.fif, raw.fif.gz, raw_sss.fif.gz, raw_tsss.fif.gz, _meg.fif.gz, _eeg.fif.gz or _ieeg.fif.gz\n",
            "  raw = mne.io.read_raw_fif(fpath, preload=True, verbose=False)\n"
          ]
        },
        {
          "output_type": "stream",
          "name": "stdout",
          "text": [
            "  [LogisticRegression] Accuracy: 0.2500\n",
            "  [EEGNet] Accuracy: 0.4549\n",
            "\n",
            "[Subject 2 | Session second_session]\n"
          ]
        },
        {
          "output_type": "stream",
          "name": "stderr",
          "text": [
            "<ipython-input-38-35fca0330f91>:58: RuntimeWarning: This filename (/content/drive/MyDrive/project/dataset/MI/cleaned_data/second_session/A02E.fif) does not conform to MNE naming conventions. All raw files should end with raw.fif, raw_sss.fif, raw_tsss.fif, _meg.fif, _eeg.fif, _ieeg.fif, raw.fif.gz, raw_sss.fif.gz, raw_tsss.fif.gz, _meg.fif.gz, _eeg.fif.gz or _ieeg.fif.gz\n",
            "  raw = mne.io.read_raw_fif(fpath, preload=True, verbose=False)\n"
          ]
        },
        {
          "output_type": "stream",
          "name": "stdout",
          "text": [
            "  [LogisticRegression] Accuracy: 0.2500\n",
            "  [EEGNet] Accuracy: 0.4514\n",
            "\n",
            "[Subject 3 | Session first_session]\n"
          ]
        },
        {
          "output_type": "stream",
          "name": "stderr",
          "text": [
            "<ipython-input-38-35fca0330f91>:58: RuntimeWarning: This filename (/content/drive/MyDrive/project/dataset/MI/cleaned_data/first_session/A03T.fif) does not conform to MNE naming conventions. All raw files should end with raw.fif, raw_sss.fif, raw_tsss.fif, _meg.fif, _eeg.fif, _ieeg.fif, raw.fif.gz, raw_sss.fif.gz, raw_tsss.fif.gz, _meg.fif.gz, _eeg.fif.gz or _ieeg.fif.gz\n",
            "  raw = mne.io.read_raw_fif(fpath, preload=True, verbose=False)\n"
          ]
        },
        {
          "output_type": "stream",
          "name": "stdout",
          "text": [
            "  [LogisticRegression] Accuracy: 0.2500\n",
            "  [EEGNet] Accuracy: 0.5833\n",
            "\n",
            "[Subject 3 | Session second_session]\n"
          ]
        },
        {
          "output_type": "stream",
          "name": "stderr",
          "text": [
            "<ipython-input-38-35fca0330f91>:58: RuntimeWarning: This filename (/content/drive/MyDrive/project/dataset/MI/cleaned_data/second_session/A03E.fif) does not conform to MNE naming conventions. All raw files should end with raw.fif, raw_sss.fif, raw_tsss.fif, _meg.fif, _eeg.fif, _ieeg.fif, raw.fif.gz, raw_sss.fif.gz, raw_tsss.fif.gz, _meg.fif.gz, _eeg.fif.gz or _ieeg.fif.gz\n",
            "  raw = mne.io.read_raw_fif(fpath, preload=True, verbose=False)\n"
          ]
        },
        {
          "output_type": "stream",
          "name": "stdout",
          "text": [
            "  [LogisticRegression] Accuracy: 0.2500\n",
            "  [EEGNet] Accuracy: 0.6007\n",
            "\n",
            "[Subject 4 | Session first_session]\n"
          ]
        },
        {
          "output_type": "stream",
          "name": "stderr",
          "text": [
            "<ipython-input-38-35fca0330f91>:58: RuntimeWarning: This filename (/content/drive/MyDrive/project/dataset/MI/cleaned_data/first_session/A04T.fif) does not conform to MNE naming conventions. All raw files should end with raw.fif, raw_sss.fif, raw_tsss.fif, _meg.fif, _eeg.fif, _ieeg.fif, raw.fif.gz, raw_sss.fif.gz, raw_tsss.fif.gz, _meg.fif.gz, _eeg.fif.gz or _ieeg.fif.gz\n",
            "  raw = mne.io.read_raw_fif(fpath, preload=True, verbose=False)\n"
          ]
        },
        {
          "output_type": "stream",
          "name": "stdout",
          "text": [
            "  [LogisticRegression] Accuracy: 0.2500\n",
            "  [EEGNet] Accuracy: 0.4722\n",
            "\n",
            "[Subject 4 | Session second_session]\n"
          ]
        },
        {
          "output_type": "stream",
          "name": "stderr",
          "text": [
            "<ipython-input-38-35fca0330f91>:58: RuntimeWarning: This filename (/content/drive/MyDrive/project/dataset/MI/cleaned_data/second_session/A04E.fif) does not conform to MNE naming conventions. All raw files should end with raw.fif, raw_sss.fif, raw_tsss.fif, _meg.fif, _eeg.fif, _ieeg.fif, raw.fif.gz, raw_sss.fif.gz, raw_tsss.fif.gz, _meg.fif.gz, _eeg.fif.gz or _ieeg.fif.gz\n",
            "  raw = mne.io.read_raw_fif(fpath, preload=True, verbose=False)\n"
          ]
        },
        {
          "output_type": "stream",
          "name": "stdout",
          "text": [
            "  [LogisticRegression] Accuracy: 0.2500\n",
            "  [EEGNet] Accuracy: 0.4896\n",
            "\n",
            "[Subject 5 | Session first_session]\n"
          ]
        },
        {
          "output_type": "stream",
          "name": "stderr",
          "text": [
            "<ipython-input-38-35fca0330f91>:58: RuntimeWarning: This filename (/content/drive/MyDrive/project/dataset/MI/cleaned_data/first_session/A05T.fif) does not conform to MNE naming conventions. All raw files should end with raw.fif, raw_sss.fif, raw_tsss.fif, _meg.fif, _eeg.fif, _ieeg.fif, raw.fif.gz, raw_sss.fif.gz, raw_tsss.fif.gz, _meg.fif.gz, _eeg.fif.gz or _ieeg.fif.gz\n",
            "  raw = mne.io.read_raw_fif(fpath, preload=True, verbose=False)\n"
          ]
        },
        {
          "output_type": "stream",
          "name": "stdout",
          "text": [
            "  [LogisticRegression] Accuracy: 0.2500\n",
            "  [EEGNet] Accuracy: 0.3160\n",
            "\n",
            "[Subject 5 | Session second_session]\n"
          ]
        },
        {
          "output_type": "stream",
          "name": "stderr",
          "text": [
            "<ipython-input-38-35fca0330f91>:58: RuntimeWarning: This filename (/content/drive/MyDrive/project/dataset/MI/cleaned_data/second_session/A05E.fif) does not conform to MNE naming conventions. All raw files should end with raw.fif, raw_sss.fif, raw_tsss.fif, _meg.fif, _eeg.fif, _ieeg.fif, raw.fif.gz, raw_sss.fif.gz, raw_tsss.fif.gz, _meg.fif.gz, _eeg.fif.gz or _ieeg.fif.gz\n",
            "  raw = mne.io.read_raw_fif(fpath, preload=True, verbose=False)\n"
          ]
        },
        {
          "output_type": "stream",
          "name": "stdout",
          "text": [
            "  [LogisticRegression] Accuracy: 0.2500\n",
            "  [EEGNet] Accuracy: 0.3090\n",
            "\n",
            "[Subject 6 | Session first_session]\n"
          ]
        },
        {
          "output_type": "stream",
          "name": "stderr",
          "text": [
            "<ipython-input-38-35fca0330f91>:58: RuntimeWarning: This filename (/content/drive/MyDrive/project/dataset/MI/cleaned_data/first_session/A06T.fif) does not conform to MNE naming conventions. All raw files should end with raw.fif, raw_sss.fif, raw_tsss.fif, _meg.fif, _eeg.fif, _ieeg.fif, raw.fif.gz, raw_sss.fif.gz, raw_tsss.fif.gz, _meg.fif.gz, _eeg.fif.gz or _ieeg.fif.gz\n",
            "  raw = mne.io.read_raw_fif(fpath, preload=True, verbose=False)\n"
          ]
        },
        {
          "output_type": "stream",
          "name": "stdout",
          "text": [
            "  [LogisticRegression] Accuracy: 0.2500\n",
            "  [EEGNet] Accuracy: 0.4514\n",
            "\n",
            "[Subject 6 | Session second_session]\n"
          ]
        },
        {
          "output_type": "stream",
          "name": "stderr",
          "text": [
            "<ipython-input-38-35fca0330f91>:58: RuntimeWarning: This filename (/content/drive/MyDrive/project/dataset/MI/cleaned_data/second_session/A06E.fif) does not conform to MNE naming conventions. All raw files should end with raw.fif, raw_sss.fif, raw_tsss.fif, _meg.fif, _eeg.fif, _ieeg.fif, raw.fif.gz, raw_sss.fif.gz, raw_tsss.fif.gz, _meg.fif.gz, _eeg.fif.gz or _ieeg.fif.gz\n",
            "  raw = mne.io.read_raw_fif(fpath, preload=True, verbose=False)\n"
          ]
        },
        {
          "output_type": "stream",
          "name": "stdout",
          "text": [
            "  [LogisticRegression] Accuracy: 0.2500\n",
            "  [EEGNet] Accuracy: 0.4479\n",
            "\n",
            "[Subject 7 | Session first_session]\n"
          ]
        },
        {
          "output_type": "stream",
          "name": "stderr",
          "text": [
            "<ipython-input-38-35fca0330f91>:58: RuntimeWarning: This filename (/content/drive/MyDrive/project/dataset/MI/cleaned_data/first_session/A07T.fif) does not conform to MNE naming conventions. All raw files should end with raw.fif, raw_sss.fif, raw_tsss.fif, _meg.fif, _eeg.fif, _ieeg.fif, raw.fif.gz, raw_sss.fif.gz, raw_tsss.fif.gz, _meg.fif.gz, _eeg.fif.gz or _ieeg.fif.gz\n",
            "  raw = mne.io.read_raw_fif(fpath, preload=True, verbose=False)\n"
          ]
        },
        {
          "output_type": "stream",
          "name": "stdout",
          "text": [
            "  [LogisticRegression] Accuracy: 0.2500\n",
            "  [EEGNet] Accuracy: 0.4792\n",
            "\n",
            "[Subject 7 | Session second_session]\n"
          ]
        },
        {
          "output_type": "stream",
          "name": "stderr",
          "text": [
            "<ipython-input-38-35fca0330f91>:58: RuntimeWarning: This filename (/content/drive/MyDrive/project/dataset/MI/cleaned_data/second_session/A07E.fif) does not conform to MNE naming conventions. All raw files should end with raw.fif, raw_sss.fif, raw_tsss.fif, _meg.fif, _eeg.fif, _ieeg.fif, raw.fif.gz, raw_sss.fif.gz, raw_tsss.fif.gz, _meg.fif.gz, _eeg.fif.gz or _ieeg.fif.gz\n",
            "  raw = mne.io.read_raw_fif(fpath, preload=True, verbose=False)\n"
          ]
        },
        {
          "output_type": "stream",
          "name": "stdout",
          "text": [
            "  [LogisticRegression] Accuracy: 0.2500\n",
            "  [EEGNet] Accuracy: 0.4653\n",
            "\n",
            "[Subject 8 | Session first_session]\n"
          ]
        },
        {
          "output_type": "stream",
          "name": "stderr",
          "text": [
            "<ipython-input-38-35fca0330f91>:58: RuntimeWarning: This filename (/content/drive/MyDrive/project/dataset/MI/cleaned_data/first_session/A08T.fif) does not conform to MNE naming conventions. All raw files should end with raw.fif, raw_sss.fif, raw_tsss.fif, _meg.fif, _eeg.fif, _ieeg.fif, raw.fif.gz, raw_sss.fif.gz, raw_tsss.fif.gz, _meg.fif.gz, _eeg.fif.gz or _ieeg.fif.gz\n",
            "  raw = mne.io.read_raw_fif(fpath, preload=True, verbose=False)\n"
          ]
        },
        {
          "output_type": "stream",
          "name": "stdout",
          "text": [
            "  [LogisticRegression] Accuracy: 0.2500\n",
            "  [EEGNet] Accuracy: 0.6528\n",
            "\n",
            "[Subject 8 | Session second_session]\n"
          ]
        },
        {
          "output_type": "stream",
          "name": "stderr",
          "text": [
            "<ipython-input-38-35fca0330f91>:58: RuntimeWarning: This filename (/content/drive/MyDrive/project/dataset/MI/cleaned_data/second_session/A08E.fif) does not conform to MNE naming conventions. All raw files should end with raw.fif, raw_sss.fif, raw_tsss.fif, _meg.fif, _eeg.fif, _ieeg.fif, raw.fif.gz, raw_sss.fif.gz, raw_tsss.fif.gz, _meg.fif.gz, _eeg.fif.gz or _ieeg.fif.gz\n",
            "  raw = mne.io.read_raw_fif(fpath, preload=True, verbose=False)\n"
          ]
        },
        {
          "output_type": "stream",
          "name": "stdout",
          "text": [
            "  [LogisticRegression] Accuracy: 0.2500\n",
            "  [EEGNet] Accuracy: 0.5903\n",
            "\n",
            "[Subject 9 | Session first_session]\n"
          ]
        },
        {
          "output_type": "stream",
          "name": "stderr",
          "text": [
            "<ipython-input-38-35fca0330f91>:58: RuntimeWarning: This filename (/content/drive/MyDrive/project/dataset/MI/cleaned_data/first_session/A09T.fif) does not conform to MNE naming conventions. All raw files should end with raw.fif, raw_sss.fif, raw_tsss.fif, _meg.fif, _eeg.fif, _ieeg.fif, raw.fif.gz, raw_sss.fif.gz, raw_tsss.fif.gz, _meg.fif.gz, _eeg.fif.gz or _ieeg.fif.gz\n",
            "  raw = mne.io.read_raw_fif(fpath, preload=True, verbose=False)\n"
          ]
        },
        {
          "output_type": "stream",
          "name": "stdout",
          "text": [
            "  [LogisticRegression] Accuracy: 0.2500\n",
            "  [EEGNet] Accuracy: 0.8194\n",
            "\n",
            "[Subject 9 | Session second_session]\n"
          ]
        },
        {
          "output_type": "stream",
          "name": "stderr",
          "text": [
            "<ipython-input-38-35fca0330f91>:58: RuntimeWarning: This filename (/content/drive/MyDrive/project/dataset/MI/cleaned_data/second_session/A09E.fif) does not conform to MNE naming conventions. All raw files should end with raw.fif, raw_sss.fif, raw_tsss.fif, _meg.fif, _eeg.fif, _ieeg.fif, raw.fif.gz, raw_sss.fif.gz, raw_tsss.fif.gz, _meg.fif.gz, _eeg.fif.gz or _ieeg.fif.gz\n",
            "  raw = mne.io.read_raw_fif(fpath, preload=True, verbose=False)\n"
          ]
        },
        {
          "output_type": "stream",
          "name": "stdout",
          "text": [
            "  [LogisticRegression] Accuracy: 0.2500\n",
            "  [EEGNet] Accuracy: 0.8333\n"
          ]
        }
      ]
    },
    {
      "cell_type": "markdown",
      "source": [
        "#ML"
      ],
      "metadata": {
        "id": "JvwBsW1PBkCp"
      },
      "id": "JvwBsW1PBkCp"
    },
    {
      "cell_type": "code",
      "source": [
        "import numpy as np\n",
        "from sklearn.linear_model import LogisticRegression\n",
        "from sklearn.ensemble import RandomForestClassifier\n",
        "from sklearn.metrics import accuracy_score\n",
        "\n",
        "def run_simple_baseline(train_loader, val_loader, test1_loader, test2_loader):\n",
        "    def collect_data(loader):\n",
        "        X, y = [], []\n",
        "        for x, y_batch, _ in loader:\n",
        "            X.append(x.view(x.size(0), -1).numpy())\n",
        "            y.append(y_batch.numpy())\n",
        "        return np.vstack(X), np.hstack(y)\n",
        "\n",
        "    X_train, y_train = collect_data(train_loader)\n",
        "    X_val, y_val = collect_data(val_loader)\n",
        "    X_test1, y_test1 = collect_data(test1_loader)\n",
        "    X_test2, y_test2 = collect_data(test2_loader)\n",
        "\n",
        "    # Logistic Regression\n",
        "    clf = LogisticRegression(max_iter=1000)\n",
        "    clf.fit(X_train, y_train)\n",
        "\n",
        "    acc_val = accuracy_score(y_val, clf.predict(X_val))\n",
        "    acc_test1 = accuracy_score(y_test1, clf.predict(X_test1))\n",
        "    acc_test2 = accuracy_score(y_test2, clf.predict(X_test2))\n",
        "\n",
        "    print(f\"[LogisticRegression] Val Accuracy:   {acc_val:.4f}\")\n",
        "    print(f\"[LogisticRegression] Test1 Accuracy: {acc_test1:.4f}\")\n",
        "    print(f\"[LogisticRegression] Test2 Accuracy: {acc_test2:.4f}\")\n",
        "\n",
        "    # Random Forest\n",
        "    rf = RandomForestClassifier(n_estimators=100)\n",
        "    rf.fit(X_train, y_train)\n",
        "\n",
        "    acc_rf_val = accuracy_score(y_val, rf.predict(X_val))\n",
        "    acc_rf_test1 = accuracy_score(y_test1, rf.predict(X_test1))\n",
        "    acc_rf_test2 = accuracy_score(y_test2, rf.predict(X_test2))\n",
        "\n",
        "    print(f\"[RandomForest] Val Accuracy:   {acc_rf_val:.4f}\")\n",
        "    print(f\"[RandomForest] Test1 Accuracy: {acc_rf_test1:.4f}\")\n",
        "    print(f\"[RandomForest] Test2 Accuracy: {acc_rf_test2:.4f}\")\n"
      ],
      "metadata": {
        "id": "dWTeA-r_Bjjc"
      },
      "id": "dWTeA-r_Bjjc",
      "execution_count": null,
      "outputs": []
    },
    {
      "cell_type": "code",
      "source": [
        "run_simple_baseline(\n",
        "    loaders[\"train\"],\n",
        "    loaders[\"val\"],\n",
        "    loaders[\"test1\"],\n",
        "    loaders[\"test2\"]\n",
        ")\n"
      ],
      "metadata": {
        "colab": {
          "base_uri": "https://localhost:8080/"
        },
        "id": "Xg8cDAI9BpD1",
        "outputId": "7a5e3064-d187-4dc4-8b05-f5077c25ed7d"
      },
      "id": "Xg8cDAI9BpD1",
      "execution_count": null,
      "outputs": [
        {
          "output_type": "stream",
          "name": "stdout",
          "text": [
            "[LogisticRegression] Val Accuracy:   0.2500\n",
            "[LogisticRegression] Test1 Accuracy: 0.2500\n",
            "[LogisticRegression] Test2 Accuracy: 0.2500\n",
            "[RandomForest] Val Accuracy:   0.2887\n",
            "[RandomForest] Test1 Accuracy: 0.3289\n",
            "[RandomForest] Test2 Accuracy: 0.2708\n"
          ]
        }
      ]
    },
    {
      "cell_type": "code",
      "source": [
        "def run_per_subject_session_baseline(loaders, subject_ids):\n",
        "    for sid in subject_ids:\n",
        "        print(f\"\\n[Subject {sid}]\")\n",
        "        X_train, y_train, X_test, y_test = [], [], [], []\n",
        "\n",
        "        # Train: subject sid, first_session\n",
        "        for x, y, sid_batch in loaders[\"train\"]:\n",
        "            mask = sid_batch.numpy() == sid\n",
        "            if np.any(mask):\n",
        "                X_train.append(x[mask].view(-1, np.prod(x.shape[1:])).numpy())\n",
        "                y_train.append(y[mask].numpy())\n",
        "\n",
        "        # Test: subject sid, second_session (in val/test1)\n",
        "        for x, y, sid_batch in loaders[\"val\"]:\n",
        "            mask = sid_batch.numpy() == sid\n",
        "            if np.any(mask):\n",
        "                X_test.append(x[mask].view(-1, np.prod(x.shape[1:])).numpy())\n",
        "                y_test.append(y[mask].numpy())\n",
        "\n",
        "        if not X_train or not X_test:\n",
        "            print(f\"  Skipped: no data for subject {sid}\")\n",
        "            continue\n",
        "\n",
        "        X_train = np.vstack(X_train)\n",
        "        y_train = np.hstack(y_train)\n",
        "        X_test = np.vstack(X_test)\n",
        "        y_test = np.hstack(y_test)\n",
        "\n",
        "        clf = LogisticRegression(max_iter=1000)\n",
        "        clf.fit(X_train, y_train)\n",
        "        acc = clf.score(X_test, y_test)\n",
        "        print(f\"  LogisticRegression Test Accuracy: {acc:.4f}\")\n"
      ],
      "metadata": {
        "id": "4PiKfzfWCDCE"
      },
      "id": "4PiKfzfWCDCE",
      "execution_count": null,
      "outputs": []
    },
    {
      "cell_type": "code",
      "source": [
        "run_per_subject_session_baseline(loaders, subject_ids=[1, 2, 3, 4, 7, 8, 9])\n"
      ],
      "metadata": {
        "colab": {
          "base_uri": "https://localhost:8080/"
        },
        "id": "Y3rjW2G9CE6h",
        "outputId": "bf5b651e-dc0f-4b87-ffd3-53327131fc4c"
      },
      "id": "Y3rjW2G9CE6h",
      "execution_count": null,
      "outputs": [
        {
          "output_type": "stream",
          "name": "stdout",
          "text": [
            "\n",
            "[Subject 1]\n",
            "  LogisticRegression Test Accuracy: 0.2500\n",
            "\n",
            "[Subject 2]\n",
            "  LogisticRegression Test Accuracy: 0.2500\n",
            "\n",
            "[Subject 3]\n",
            "  LogisticRegression Test Accuracy: 0.2500\n",
            "\n",
            "[Subject 4]\n",
            "  LogisticRegression Test Accuracy: 0.2500\n",
            "\n",
            "[Subject 7]\n",
            "  LogisticRegression Test Accuracy: 0.2500\n",
            "\n",
            "[Subject 8]\n",
            "  LogisticRegression Test Accuracy: 0.2500\n",
            "\n",
            "[Subject 9]\n",
            "  LogisticRegression Test Accuracy: 0.2500\n"
          ]
        }
      ]
    }
  ],
  "metadata": {
    "colab": {
      "provenance": [],
      "gpuType": "T4",
      "machine_shape": "hm"
    },
    "accelerator": "GPU",
    "language_info": {
      "name": "python"
    },
    "kernelspec": {
      "name": "python3",
      "display_name": "Python 3"
    }
  },
  "nbformat": 4,
  "nbformat_minor": 5
}